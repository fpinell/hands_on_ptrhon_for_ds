{
  "nbformat": 4,
  "nbformat_minor": 0,
  "metadata": {
    "colab": {
      "name": "Lecture_4_Deep_Learning",
      "provenance": [],
      "collapsed_sections": [
        "ELbqlV_DC9Jw"
      ],
      "authorship_tag": "ABX9TyMAd7gMfUYgXA8z9D1qViTI",
      "include_colab_link": true
    },
    "kernelspec": {
      "name": "python3",
      "display_name": "Python 3"
    },
    "language_info": {
      "name": "python"
    },
    "accelerator": "GPU"
  },
  "cells": [
    {
      "cell_type": "markdown",
      "metadata": {
        "id": "view-in-github",
        "colab_type": "text"
      },
      "source": [
        "<a href=\"https://colab.research.google.com/github/fpinell/hands_on_python_for_ds/blob/main/Lecture_4_Deep_Learning.ipynb\" target=\"_parent\"><img src=\"https://colab.research.google.com/assets/colab-badge.svg\" alt=\"Open In Colab\"/></a>"
      ]
    },
    {
      "cell_type": "markdown",
      "metadata": {
        "id": "ELbqlV_DC9Jw"
      },
      "source": [
        "# Hands on Python for Data Science\n",
        "\n",
        "\n",
        "### Master II Livello - Data Science and Statistical Learning (MD2SL) 2020-2021\n",
        "\n",
        "#### Fabio Pinelli\n",
        "<a href=\"mailto:fabio.pinelli@imtlucca.it\">fabio.pinelli@imtlucca.it</a><br/>\n",
        "IMT School for Advanced Studies Lucca<br/>\n",
        "2020/2021<br/>\n",
        "June, 26 2021"
      ]
    },
    {
      "cell_type": "markdown",
      "metadata": {
        "id": "HUepE3bODBa2"
      },
      "source": [
        "# Outline\n",
        "\n",
        "- Pytorch\n",
        "- Neural Network (fully connected)\n",
        "- CNN\n",
        "- RNN\n"
      ]
    },
    {
      "cell_type": "markdown",
      "metadata": {
        "id": "tPNVyHGcD3mW"
      },
      "source": [
        "# Pytorch \n",
        "\n",
        "## Why ```pytorch```?\n",
        "\n"
      ]
    },
    {
      "cell_type": "code",
      "metadata": {
        "id": "S6cfGklpSyst"
      },
      "source": [
        "# Python ≥3.5 is required\n",
        "import sys\n",
        "assert sys.version_info >= (3, 5)\n",
        "\n",
        "# Scikit-Learn ≥0.20 is required\n",
        "import sklearn\n",
        "assert sklearn.__version__ >= \"0.20\"\n",
        "\n",
        "# Common imports\n",
        "import numpy as np\n",
        "import os\n",
        "\n",
        "# to make this notebook's output stable across runs\n",
        "np.random.seed(42)\n",
        "\n",
        "#import for pytorch\n",
        "import torch\n",
        "import torch.nn as nn\n",
        "import torch.optim as optim\n",
        "import torch.utils.data\n",
        "import torch.nn.functional as F\n",
        "import torchvision\n",
        "from torchvision import transforms\n",
        "from PIL import Image, ImageFile\n",
        "\n",
        "\n",
        "\n",
        "# To plot pretty figures\n",
        "%matplotlib inline\n",
        "import matplotlib as mpl\n",
        "import matplotlib.pyplot as plt\n",
        "mpl.rc('axes', labelsize=14)\n",
        "mpl.rc('xtick', labelsize=12)\n",
        "mpl.rc('ytick', labelsize=12)\n",
        "\n",
        "# Where to save the figures\n",
        "PROJECT_ROOT_DIR = \".\"\n",
        "CHAPTER_ID = \"svm\"\n",
        "IMAGES_PATH = os.path.join(PROJECT_ROOT_DIR, \"images\", CHAPTER_ID)\n",
        "os.makedirs(IMAGES_PATH, exist_ok=True)\n",
        "\n",
        "def save_fig(fig_id, tight_layout=True, fig_extension=\"png\", resolution=300):\n",
        "    path = os.path.join(IMAGES_PATH, fig_id + \".\" + fig_extension)\n",
        "    print(\"Saving figure\", fig_id)\n",
        "    if tight_layout:\n",
        "        plt.tight_layout()\n",
        "    plt.savefig(path, format=fig_extension, dpi=resolution)"
      ],
      "execution_count": 1,
      "outputs": []
    },
    {
      "cell_type": "code",
      "metadata": {
        "colab": {
          "base_uri": "https://localhost:8080/"
        },
        "id": "lipDnPDxEQ_R",
        "outputId": "3bf7f036-7106-43fc-f32f-7c029be1f883"
      },
      "source": [
        "# pytorch is available naturally on colab\n",
        "# we can also use a gpu\n",
        "# Go to Menu > Runtime > Change runtime.\n",
        "\n",
        "\n",
        "import torch\n",
        "# GPU available check \n",
        "print('GPU available check {}'.format(torch.cuda.is_available()))\n",
        "print(torch.rand(2,2))"
      ],
      "execution_count": 2,
      "outputs": [
        {
          "output_type": "stream",
          "text": [
            "GPU available check False\n",
            "tensor([[0.9722, 0.3772],\n",
            "        [0.0426, 0.0083]])\n"
          ],
          "name": "stdout"
        }
      ]
    },
    {
      "cell_type": "markdown",
      "metadata": {
        "id": "vk7_93nOEAQ8"
      },
      "source": [
        "## Tensors \n",
        "\n",
        "- A tensor is both a container for **numbers** and for a set of rules that define transformations between tensors producing a new tensor\n",
        "\n",
        "- **Essentially?** A multidimensional array\n",
        "- Every tensor has a rank\n",
        "  - scalar --> rank 0 \n",
        "  - array --> rank 1\n",
        "  - $n \\times n$ matrix --> rank 2\n",
        "\n",
        "```python torch.rand(2,2)``` creates a rank 2 tensor with random values by using ```python torch.rand()``` \n",
        "\n"
      ]
    },
    {
      "cell_type": "markdown",
      "metadata": {
        "id": "fO6e1lw4GfBT"
      },
      "source": [
        "### Operations with tensors"
      ]
    },
    {
      "cell_type": "code",
      "metadata": {
        "colab": {
          "base_uri": "https://localhost:8080/"
        },
        "id": "a_ATkkKhEX7D",
        "outputId": "0955381e-22fe-47ab-8286-4ef1004d6253"
      },
      "source": [
        "# we can create a tensor from lists\n",
        "x = torch.tensor([[0,0,1],[1,1,1],[0,0,0]])\n",
        "print(x)"
      ],
      "execution_count": 3,
      "outputs": [
        {
          "output_type": "stream",
          "text": [
            "tensor([[0, 0, 1],\n",
            "        [1, 1, 1],\n",
            "        [0, 0, 0]])\n"
          ],
          "name": "stdout"
        }
      ]
    },
    {
      "cell_type": "code",
      "metadata": {
        "colab": {
          "base_uri": "https://localhost:8080/"
        },
        "id": "Ac60DL6_HTLp",
        "outputId": "135614b8-c57f-4390-89af-e58854b49521"
      },
      "source": [
        "# we can change an element in a tensor by using standard Python indexing\n",
        "\n",
        "x[0][0] = 5\n",
        "print(x) "
      ],
      "execution_count": 4,
      "outputs": [
        {
          "output_type": "stream",
          "text": [
            "tensor([[5, 0, 1],\n",
            "        [1, 1, 1],\n",
            "        [0, 0, 0]])\n"
          ],
          "name": "stdout"
        }
      ]
    },
    {
      "cell_type": "markdown",
      "metadata": {
        "id": "lv8CgLeuHEmK"
      },
      "source": [
        "We can use special creation functions to generate particular types of tensors\n",
        "\n",
        "- ```ones()``` generates tensors filled with 1s\n",
        "- ```zeros()```  generates tensors filled with 1s"
      ]
    },
    {
      "cell_type": "code",
      "metadata": {
        "colab": {
          "base_uri": "https://localhost:8080/"
        },
        "id": "0f5_LPTHHTlS",
        "outputId": "d480c267-d70a-407c-8382-a0868ea50a36"
      },
      "source": [
        "a = torch.zeros(2,2)\n",
        "b = torch.ones(2,2)\n",
        "print('First tensor\\n {}'.format(a))\n",
        "print('Second tensor\\n {}'.format(b))"
      ],
      "execution_count": 5,
      "outputs": [
        {
          "output_type": "stream",
          "text": [
            "First tensor\n",
            " tensor([[0., 0.],\n",
            "        [0., 0.]])\n",
            "Second tensor\n",
            " tensor([[1., 1.],\n",
            "        [1., 1.]])\n"
          ],
          "name": "stdout"
        }
      ]
    },
    {
      "cell_type": "markdown",
      "metadata": {
        "id": "0hxpcKjhIo9W"
      },
      "source": [
        "We can perform standard mathematical operations with tensors, e.g. addind two tensors toegheter. \n",
        "\n"
      ]
    },
    {
      "cell_type": "code",
      "metadata": {
        "colab": {
          "base_uri": "https://localhost:8080/"
        },
        "id": "E-p3-HtoHUFm",
        "outputId": "db949b4b-a69a-4893-9804-4588f6475068"
      },
      "source": [
        "a = torch.tensor([[1,2],[2,3]])\n",
        "b = torch.tensor([[1,1],[1,1]])\n",
        "print('Check the sum\\n {}'.format(a+b))"
      ],
      "execution_count": 6,
      "outputs": [
        {
          "output_type": "stream",
          "text": [
            "Check the sum\n",
            " tensor([[2, 3],\n",
            "        [3, 4]])\n"
          ],
          "name": "stdout"
        }
      ]
    },
    {
      "cell_type": "markdown",
      "metadata": {
        "id": "-8BxnmGmJIJg"
      },
      "source": [
        "And if you have a tensor of rank 0, you can access out the value with the ```item()``` function"
      ]
    },
    {
      "cell_type": "code",
      "metadata": {
        "colab": {
          "base_uri": "https://localhost:8080/"
        },
        "id": "ixzmV8dxHUDH",
        "outputId": "4f816ae7-24da-44c0-f772-9e9e0cea2266"
      },
      "source": [
        "print('Value of the 1D tensor: {}'.format(torch.rand(1).item()))"
      ],
      "execution_count": 7,
      "outputs": [
        {
          "output_type": "stream",
          "text": [
            "Value of the 1D tensor: 0.029824137687683105\n"
          ],
          "name": "stdout"
        }
      ]
    },
    {
      "cell_type": "markdown",
      "metadata": {
        "id": "ahJdiHnZJfiv"
      },
      "source": [
        "Tensors can live in the **CPU** or on the **GPU** and they can be copied between devices by usint the ```to()``` function:"
      ]
    },
    {
      "cell_type": "code",
      "metadata": {
        "colab": {
          "base_uri": "https://localhost:8080/"
        },
        "id": "xfNPJA5JHT_6",
        "outputId": "ff5d20d5-1d47-41dc-8167-59d5f738a91d"
      },
      "source": [
        "cpu_tensor = torch.rand(2)\n",
        "print('In which device is the tensor? {}'.format(cpu_tensor.device))"
      ],
      "execution_count": 8,
      "outputs": [
        {
          "output_type": "stream",
          "text": [
            "In which device is the tensor? cpu\n"
          ],
          "name": "stdout"
        }
      ]
    },
    {
      "cell_type": "code",
      "metadata": {
        "id": "TjX6p_2eHT9T"
      },
      "source": [
        "gpu_tensor = cpu_tensor.to('cuda')\n",
        "print('In which device is the tensor? {}'.format(gpu_tensor.device))"
      ],
      "execution_count": null,
      "outputs": []
    },
    {
      "cell_type": "markdown",
      "metadata": {
        "id": "MPqjyhEuOl_z"
      },
      "source": [
        "Quite often we need to find the maximum item in a tensor, as well as the index that contains the maximum value (it may correspond to the class that the neural network has decided upon its final prediction). \n",
        "\n",
        "```max()``` and ```argmax()``` are the needed functions, then we can use ```item()``` to get the _standard_ Python value from a 1D tensor. "
      ]
    },
    {
      "cell_type": "code",
      "metadata": {
        "colab": {
          "base_uri": "https://localhost:8080/"
        },
        "id": "L2UWg4dyHT6f",
        "outputId": "79d583a9-a219-4a20-a1b9-c22540a0ffba"
      },
      "source": [
        "a = torch.rand(2,2)\n",
        "print(a)\n",
        "\n",
        "print('Which is the max value? {}'.format(a.max()))\n",
        "print('Which is the index of the max value: {}'.format(a.argmax()))\n",
        "print('Get the values\\n -max: {}\\n -index: {}'.format(a.max().item(),a.argmax().item()))"
      ],
      "execution_count": 10,
      "outputs": [
        {
          "output_type": "stream",
          "text": [
            "tensor([[0.3183, 0.4572],\n",
            "        [0.8339, 0.7504]])\n",
            "Which is the max value? 0.8338645100593567\n",
            "Which is the index of the max value: 2\n",
            "Get the values\n",
            " -max: 0.8338645100593567\n",
            " -index: 2\n"
          ],
          "name": "stdout"
        }
      ]
    },
    {
      "cell_type": "markdown",
      "metadata": {
        "id": "37kPmJMVP9YA"
      },
      "source": [
        "Sometimes we need to change the type of a tensor"
      ]
    },
    {
      "cell_type": "code",
      "metadata": {
        "colab": {
          "base_uri": "https://localhost:8080/"
        },
        "id": "yCWfYW_zHT12",
        "outputId": "94898c4f-0230-41b4-a411-b7ad9637971f"
      },
      "source": [
        "long_tensor = torch.tensor([[0,0,1],[1,1,1],[0,0,0]])\n",
        "print('which is the type of long tensor? {}'.format(long_tensor.type()))"
      ],
      "execution_count": 11,
      "outputs": [
        {
          "output_type": "stream",
          "text": [
            "which is the type of long tensor? torch.LongTensor\n"
          ],
          "name": "stdout"
        }
      ]
    },
    {
      "cell_type": "code",
      "metadata": {
        "colab": {
          "base_uri": "https://localhost:8080/"
        },
        "id": "RZebCnecHTtG",
        "outputId": "e5a71f16-cb8b-485d-d1f4-2aa49faa3e84"
      },
      "source": [
        "float_tensor = long_tensor.to(dtype=torch.float32)\n",
        "float_tensor_2 = long_tensor.type(torch.float64) #second method to change type\n",
        "print('which is the type of long tensor? {}'.format(float_tensor.type()))\n",
        "print('which is the type of long tensor? {}'.format(float_tensor_2.type()))"
      ],
      "execution_count": 14,
      "outputs": [
        {
          "output_type": "stream",
          "text": [
            "which is the type of long tensor? torch.FloatTensor\n",
            "which is the type of long tensor? torch.DoubleTensor\n"
          ],
          "name": "stdout"
        }
      ]
    },
    {
      "cell_type": "markdown",
      "metadata": {
        "id": "duAx1tzzRLCG"
      },
      "source": [
        "If you remember in ```pandas``` we could perform operations of dataframes using the parameter ```in_place = True```. \n",
        "\n",
        "We could perform something similar on tensors. \n",
        "\n",
        "Functions can be applied _inplace_ if exists the original fuction with appended underscore '_'. \n",
        "\n",
        "Let see an example:"
      ]
    },
    {
      "cell_type": "code",
      "metadata": {
        "colab": {
          "base_uri": "https://localhost:8080/"
        },
        "id": "gN1Oiy_oRyql",
        "outputId": "af4d061b-535e-4a6a-a018-511f0b5aff44"
      },
      "source": [
        "random_tensor = torch.rand(2,2)\n",
        "new_random = random_tensor.log2()\n",
        "print(random_tensor)\n",
        "print(new_random)"
      ],
      "execution_count": 15,
      "outputs": [
        {
          "output_type": "stream",
          "text": [
            "tensor([[0.7740, 0.2640],\n",
            "        [0.2119, 0.7053]])\n",
            "tensor([[-0.3696, -1.9212],\n",
            "        [-2.2385, -0.5036]])\n"
          ],
          "name": "stdout"
        }
      ]
    },
    {
      "cell_type": "code",
      "metadata": {
        "colab": {
          "base_uri": "https://localhost:8080/"
        },
        "id": "k3VWT0Q5Rynu",
        "outputId": "f4fb40be-be0b-45b0-eac8-aec4e97d2903"
      },
      "source": [
        "print(random_tensor.log2_())"
      ],
      "execution_count": 16,
      "outputs": [
        {
          "output_type": "stream",
          "text": [
            "tensor([[-0.3696, -1.9212],\n",
            "        [-2.2385, -0.5036]])\n"
          ],
          "name": "stdout"
        }
      ]
    },
    {
      "cell_type": "markdown",
      "metadata": {
        "id": "UN9lCeqrTNCP"
      },
      "source": [
        "Some nice manipulation that can be done with tensors\n",
        "- reshape / view\n",
        "- column permutation\n",
        "- slice a tensor\n",
        "\n",
        "Let's try with a simple random tensor, and with the ```MINST``` dataset that is represented in numpy arrays of 784 elements"
      ]
    },
    {
      "cell_type": "code",
      "metadata": {
        "colab": {
          "base_uri": "https://localhost:8080/",
          "height": 286
        },
        "id": "MGnJ3F8HXAg-",
        "outputId": "32af6ef5-fa0e-4421-8ec7-e8e88375776e"
      },
      "source": [
        "'''\n",
        "reshape() function. It is really similar to numpy reshape function. There are a\n",
        "lot of similarities between tensors and numpy operations/functions\n",
        "'''\n",
        "\n",
        "flat_tensor = torch.rand(784)\n",
        "reshaped_tensor = flat_tensor.reshape(1,28,28) #1 is the number of channels\n",
        "print('Flat tensor shape {}'.format(flat_tensor.shape))\n",
        "print('Flat tensor shape {}'.format(reshaped_tensor.shape))\n",
        "\n",
        "'''\n",
        "view() function. Same behaviour of reshape, the main difference is that the view \n",
        "changes if the original one is changed\n",
        "'''\n",
        "flat_tensor = torch.rand(784)\n",
        "reshaped_tensor = flat_tensor.view(1,28,28) #1 is the number of channels\n",
        "print('Flat tensor shape {}'.format(flat_tensor.shape))\n",
        "print('Flat tensor shape {}'.format(reshaped_tensor.shape))\n",
        "\n",
        "'''\n",
        "The reshaped tensor can't have a number of elements different than the original one\n",
        "'''\n",
        "flat_tensor = torch.rand(784)\n",
        "reshaped_tensor = flat_tensor.view(3,28,28)\n",
        "\n"
      ],
      "execution_count": 17,
      "outputs": [
        {
          "output_type": "stream",
          "text": [
            "Flat tensor shape torch.Size([784])\n",
            "Flat tensor shape torch.Size([1, 28, 28])\n",
            "Flat tensor shape torch.Size([784])\n",
            "Flat tensor shape torch.Size([1, 28, 28])\n"
          ],
          "name": "stdout"
        },
        {
          "output_type": "error",
          "ename": "RuntimeError",
          "evalue": "ignored",
          "traceback": [
            "\u001b[0;31m---------------------------------------------------------------------------\u001b[0m",
            "\u001b[0;31mRuntimeError\u001b[0m                              Traceback (most recent call last)",
            "\u001b[0;32m<ipython-input-17-22bffc86eb1f>\u001b[0m in \u001b[0;36m<module>\u001b[0;34m()\u001b[0m\n\u001b[1;32m     22\u001b[0m '''\n\u001b[1;32m     23\u001b[0m \u001b[0mflat_tensor\u001b[0m \u001b[0;34m=\u001b[0m \u001b[0mtorch\u001b[0m\u001b[0;34m.\u001b[0m\u001b[0mrand\u001b[0m\u001b[0;34m(\u001b[0m\u001b[0;36m784\u001b[0m\u001b[0;34m)\u001b[0m\u001b[0;34m\u001b[0m\u001b[0;34m\u001b[0m\u001b[0m\n\u001b[0;32m---> 24\u001b[0;31m \u001b[0mreshaped_tensor\u001b[0m \u001b[0;34m=\u001b[0m \u001b[0mflat_tensor\u001b[0m\u001b[0;34m.\u001b[0m\u001b[0mview\u001b[0m\u001b[0;34m(\u001b[0m\u001b[0;36m3\u001b[0m\u001b[0;34m,\u001b[0m\u001b[0;36m28\u001b[0m\u001b[0;34m,\u001b[0m\u001b[0;36m28\u001b[0m\u001b[0;34m)\u001b[0m\u001b[0;34m\u001b[0m\u001b[0;34m\u001b[0m\u001b[0m\n\u001b[0m\u001b[1;32m     25\u001b[0m \u001b[0;34m\u001b[0m\u001b[0m\n",
            "\u001b[0;31mRuntimeError\u001b[0m: shape '[3, 28, 28]' is invalid for input of size 784"
          ]
        }
      ]
    },
    {
      "cell_type": "code",
      "metadata": {
        "id": "Y9moKIIpRymG"
      },
      "source": [
        "\n",
        "from sklearn.datasets import fetch_openml\n",
        "mnist = fetch_openml('mnist_784', version=1, cache=True, as_frame=False)\n",
        "\n",
        "X = mnist[\"data\"]\n",
        "y = mnist[\"target\"].astype(np.uint8)\n",
        "\n",
        "X_train = X[:60000]\n",
        "y_train = y[:60000]\n",
        "X_test = X[60000:]\n",
        "y_test = y[60000:]"
      ],
      "execution_count": 93,
      "outputs": []
    },
    {
      "cell_type": "code",
      "metadata": {
        "colab": {
          "base_uri": "https://localhost:8080/"
        },
        "id": "e12FubxuRyi7",
        "outputId": "60b6a11f-1524-4f23-ac2e-7311e6a35c5b"
      },
      "source": [
        "print('shape of x train: {}'.format(X_train.shape))"
      ],
      "execution_count": 19,
      "outputs": [
        {
          "output_type": "stream",
          "text": [
            "shape of x train: (60000, 784)\n"
          ],
          "name": "stdout"
        }
      ]
    },
    {
      "cell_type": "code",
      "metadata": {
        "id": "3kJ4IWlkRyfz"
      },
      "source": [
        "'''\n",
        "Let's create a tensor from the numpy arrays\n",
        "'''\n",
        "x_train_tensor,x_test_tensor = map(torch.FloatTensor, (X_train,X_test))\n",
        "y_train_tensor,y_test_tensor = map(torch.LongTensor, (y_train,y_test))\n",
        "\n",
        "# y_train_tensor = y_train_tensor.type(torch.LongTensor)\n",
        "# y_test_tensor = y_test_tensor.type(torch.LongTensor)"
      ],
      "execution_count": 103,
      "outputs": []
    },
    {
      "cell_type": "code",
      "metadata": {
        "colab": {
          "base_uri": "https://localhost:8080/"
        },
        "id": "cALwuCBlRydZ",
        "outputId": "9554ca6c-7526-408e-dfb5-2fd905365d64"
      },
      "source": [
        "print(x_train_tensor.shape,x_train_tensor.size())\n",
        "x_train_tensor_reshaped = x_train_tensor.reshape([-1,28,28])\n",
        "\n",
        "print(x_train_tensor_reshaped.size())\n"
      ],
      "execution_count": 104,
      "outputs": [
        {
          "output_type": "stream",
          "text": [
            "torch.Size([60000, 784]) torch.Size([60000, 784])\n",
            "torch.Size([60000, 28, 28])\n"
          ],
          "name": "stdout"
        }
      ]
    },
    {
      "cell_type": "markdown",
      "metadata": {
        "id": "vmIvwydEYfzL"
      },
      "source": [
        "Dimensions permutations. The order of the \"columns\" is not the one useful for our tasks so we need to change the order. \n",
        "For instance, images are stored as ```[height, width, channel]``` tensors, but PyTorch prefers to dela with these in a ```[channel, height, width ]```\n",
        "\n",
        "```\n",
        "permute() \n",
        "```"
      ]
    },
    {
      "cell_type": "code",
      "metadata": {
        "colab": {
          "base_uri": "https://localhost:8080/"
        },
        "id": "f9awYd1YRyas",
        "outputId": "ac4080c3-46d0-4ed7-d26b-7fcbca314033"
      },
      "source": [
        "hwc_tensor = torch.rand(643,232,9)\n",
        "chw_tensor = hwc_tensor.permute(2,0,1)\n",
        "print('Shape of hwc tensor {}',hwc_tensor.shape)\n",
        "print('Shape of chw tensor {}',chw_tensor.shape)"
      ],
      "execution_count": 22,
      "outputs": [
        {
          "output_type": "stream",
          "text": [
            "Shape of hwc tensor {} torch.Size([643, 232, 9])\n",
            "Shape of chw tensor {} torch.Size([9, 643, 232])\n"
          ],
          "name": "stdout"
        }
      ]
    },
    {
      "cell_type": "markdown",
      "metadata": {
        "id": "UxnUPHmmZkBV"
      },
      "source": [
        "Slice on tensors to access certain elements of the data structrure"
      ]
    },
    {
      "cell_type": "code",
      "metadata": {
        "colab": {
          "base_uri": "https://localhost:8080/",
          "height": 470
        },
        "id": "mQLxbX7JRyX2",
        "outputId": "49e277d8-6696-4184-cdb9-5b28b79280ec"
      },
      "source": [
        "'''\n",
        "Take the ten first lines for all the images\n",
        "'''\n",
        "\n",
        "print('the shape is {}'.format(x_train_tensor_reshaped.size()))\n",
        "\n",
        "selected_part = x_train_tensor_reshaped[:,:10,:]\n",
        "\n",
        "print('the shape of the cropped tensor is {}'.format(selected_part.size()))\n",
        "\n",
        "fig, axes = plt.subplots(8,8,figsize=(8,8))\n",
        "for i in range(8):\n",
        "    for j in range(8):\n",
        "        num_index = np.random.randint(len(selected_part))\n",
        "        axes[i,j].imshow(selected_part[num_index].numpy(), cmap=\"gray\")\n",
        "        axes[i,j].axis(\"off\")\n",
        "plt.show() "
      ],
      "execution_count": 24,
      "outputs": [
        {
          "output_type": "stream",
          "text": [
            "the shape is torch.Size([60000, 28, 28])\n",
            "the shape of the cropped tensor is torch.Size([60000, 10, 28])\n"
          ],
          "name": "stdout"
        },
        {
          "output_type": "display_data",
          "data": {
            "image/png": "[encoded data removed]",
            "text/plain": [
              "<Figure size 576x576 with 64 Axes>"
            ]
          },
          "metadata": {
            "tags": [],
            "needs_background": "light"
          }
        }
      ]
    },
    {
      "cell_type": "markdown",
      "metadata": {
        "id": "xeyEWf_JETYE"
      },
      "source": [
        "# Our first Neural Network in this class :-) \n",
        "\n",
        "- prepare the data for pytorch ```Dataset``` and ```DataLoader```\n",
        "- create the network, loss, optimizer\n",
        "- training \n"
      ]
    },
    {
      "cell_type": "markdown",
      "metadata": {
        "id": "-E76Q_tOCjHS"
      },
      "source": [
        "```Dataset``` and ```DataLoader``` are two classes used to create the data in the format needed for pytorch and a method to push the data into the network"
      ]
    },
    {
      "cell_type": "code",
      "metadata": {
        "id": "frK0wby5lhM9"
      },
      "source": [
        "from torch.utils.data import TensorDataset\n",
        "from torch.utils.data import DataLoader\n",
        "\n",
        "batch_size = 32 \n",
        "train_ds = TensorDataset(x_train_tensor, y_train_tensor)\n",
        "train_dl = DataLoader(\n",
        "    train_ds, batch_size=batch_size, shuffle=True)\n",
        "\n",
        "test_ds = TensorDataset(x_test_tensor, y_test_tensor)\n",
        "test_dl = DataLoader(test_ds, batch_size=batch_size)\n"
      ],
      "execution_count": 105,
      "outputs": []
    },
    {
      "cell_type": "markdown",
      "metadata": {
        "id": "fy_MEOL7C20C"
      },
      "source": [
        "The definition of a network uses the ```nn.Module``` of pytorch. \n",
        "\n",
        "```Linear``` defines the structure of each layer\n",
        "```forward``` defines how the data should flow across the different layers of the network\n",
        "```relu``` is the activation function\n",
        "\n",
        "For each layer we define the size of the input and the output.\n",
        "For instance, the first layer takes in input the same shape of the MINST images. Then, it passes the dato to a 200 nodes.\n",
        "\n",
        "The latest layer returns an output equal to the number of classes. \n",
        "\n",
        "To understand which is the predicted class we need to take the ```argmax()``` of the output, such as the index of max score assigned to each instance by the network. "
      ]
    },
    {
      "cell_type": "code",
      "metadata": {
        "id": "xz26ffVjhxYE"
      },
      "source": [
        "\n",
        "\n",
        "class SimpleNet(nn.Module):\n",
        "\n",
        "    def __init__(self):\n",
        "        super(SimpleNet, self).__init__()\n",
        "        self.fc1 = nn.Linear(784, 200)\n",
        "        self.fc2 = nn.Linear(200, 50)\n",
        "        self.fc3 = nn.Linear(50,10)\n",
        "    \n",
        "    def forward(self, x):\n",
        "        x = F.relu(self.fc1(x))\n",
        "        x = F.relu(self.fc2(x))\n",
        "        x = self.fc3(x)\n",
        "        return x"
      ],
      "execution_count": 106,
      "outputs": []
    },
    {
      "cell_type": "code",
      "metadata": {
        "id": "FrZAZFYCjyVh"
      },
      "source": [
        "'''\n",
        "create an instance of the network\n",
        "'''\n",
        "simplenet = SimpleNet()"
      ],
      "execution_count": 107,
      "outputs": []
    },
    {
      "cell_type": "code",
      "metadata": {
        "id": "IMCjaOMFkMGU"
      },
      "source": [
        "'''\n",
        "Definition of an optimizer, in this case we select the Adam optimizer\n",
        "Another possible optimizer is the SGD that is possibile to select from \n",
        "the same class optim\n",
        "'''\n",
        "optimizer = optim.Adam(simplenet.parameters(), lr=0.001)\n",
        "optimizer_regr = optim.SGD(simplenet.parameters(),lr=0.0001)"
      ],
      "execution_count": 108,
      "outputs": []
    },
    {
      "cell_type": "code",
      "metadata": {
        "id": "2cNo6C_fkSWI"
      },
      "source": [
        "'''\n",
        "And then, we need a definition of the loss. \n",
        "Also in this case, we can select one of those made available by pytorch\n",
        "For regression, for instance we could select the MSELoss\n",
        "'''\n",
        "loss = nn.CrossEntropyLoss()\n",
        "loss_regression = nn.MSELoss()"
      ],
      "execution_count": 109,
      "outputs": []
    },
    {
      "cell_type": "code",
      "metadata": {
        "id": "dOFlaTSwlPLd"
      },
      "source": [
        "'''\n",
        "Let's put everything together. \n",
        "The network, the optimizer and the loss inside a training loop, using the DataLoader\n",
        "objects that we have already created.\n",
        "'''\n",
        "\n",
        "'''\n",
        "Note: model.train() --> the model is set on training mode, where the weights and biases \n",
        "are adjusted using the training instance passed in batches.\n",
        "'''\n",
        "\n",
        "\n",
        "'''\n",
        "Note: model.eval() --> when we evaluate the model on the validation set.\n",
        "'''\n",
        "\n",
        "def train(model, optimizer, loss_fn, train_loader, val_loader, epochs=20, device=\"cpu\"):\n",
        "    for epoch in range(1, epochs+1):\n",
        "        training_loss = 0.0\n",
        "        valid_loss = 0.0\n",
        "        model.train()\n",
        "        for batch in train_loader:\n",
        "            optimizer.zero_grad() # clear gradients for next train\n",
        "            inputs, targets = batch\n",
        "            inputs = inputs.to(device)\n",
        "            targets = targets.to(device)\n",
        "            output = model(inputs)\n",
        "            loss = loss_fn(output, targets)\n",
        "            loss.backward() # backpropagation, compute gradients\n",
        "            optimizer.step() # apply gradients\n",
        "            training_loss += loss.data.item() * inputs.size(0)\n",
        "        training_loss /= len(train_loader.dataset)\n",
        "        \n",
        "        with torch.no_grad():\n",
        "          model.eval()\n",
        "          num_correct = 0 \n",
        "          num_examples = 0\n",
        "          for batch in val_loader:\n",
        "              inputs, targets = batch\n",
        "              inputs = inputs.to(device)\n",
        "              output = model(inputs)\n",
        "              targets = targets.to(device)\n",
        "              loss = loss_fn(output,targets) \n",
        "              valid_loss += loss.data.item() * inputs.size(0)\n",
        "              correct = torch.eq(torch.max(F.softmax(output, dim=1), dim=1)[1], targets)\n",
        "              num_correct += torch.sum(correct).item()\n",
        "              num_examples += correct.shape[0]\n",
        "          valid_loss /= len(val_loader.dataset)\n",
        "\n",
        "        print('Epoch: {}, Training Loss: {:.4f}, Validation Loss: {:.4f}, accuracy = {:.4f}'.format(epoch, training_loss,\n",
        "        valid_loss, num_correct / num_examples))"
      ],
      "execution_count": 110,
      "outputs": []
    },
    {
      "cell_type": "code",
      "metadata": {
        "colab": {
          "base_uri": "https://localhost:8080/"
        },
        "id": "V4QyMukOlTSK",
        "outputId": "e6dabedb-e6b0-4a25-9633-33e9cdfc84a5"
      },
      "source": [
        "train(simplenet, optimizer,torch.nn.CrossEntropyLoss(), train_dl,test_dl, epochs=5)"
      ],
      "execution_count": 111,
      "outputs": [
        {
          "output_type": "stream",
          "text": [
            "Epoch: 1, Training Loss: 0.3027, Validation Loss: 0.2243, accuracy = 0.9425\n",
            "Epoch: 2, Training Loss: 0.1541, Validation Loss: 0.1491, accuracy = 0.9593\n",
            "Epoch: 3, Training Loss: 0.1259, Validation Loss: 0.1501, accuracy = 0.9587\n",
            "Epoch: 4, Training Loss: 0.1074, Validation Loss: 0.1291, accuracy = 0.9642\n",
            "Epoch: 5, Training Loss: 0.1002, Validation Loss: 0.1369, accuracy = 0.9636\n"
          ],
          "name": "stdout"
        }
      ]
    },
    {
      "cell_type": "code",
      "metadata": {
        "colab": {
          "base_uri": "https://localhost:8080/",
          "height": 1000
        },
        "id": "UVKCBda4lodb",
        "outputId": "c8ab9314-67bb-4433-994b-9a329c4c956a"
      },
      "source": [
        "with torch.no_grad():\n",
        "  simplenet.eval()\n",
        "  for i in range(10):\n",
        "    plt.imshow(x_test_tensor[i].reshape((28,28)), cmap=\"gray\")\n",
        "    plt.title(y_test_tensor[i])\n",
        "    plt.show()\n",
        "    print(simplenet(x_test_tensor[i].float()))\n",
        "    print(simplenet(x_test_tensor[i].float()).max())\n",
        "    print(simplenet(x_test_tensor[i].float()).argmax())"
      ],
      "execution_count": 112,
      "outputs": [
        {
          "output_type": "display_data",
          "data": {
            "image/png": "[encoded data removed]",
            "text/plain": [
              "<Figure size 432x288 with 1 Axes>"
            ]
          },
          "metadata": {
            "tags": [],
            "needs_background": "light"
          }
        },
        {
          "output_type": "stream",
          "text": [
            "tensor([-16.6935,   1.7748,   0.3077,  -5.6482,   4.1558, -15.3938, -12.3336,\n",
            "         16.4264,  -8.3418,   5.9741])\n",
            "tensor(16.4264)\n",
            "tensor(7)\n"
          ],
          "name": "stdout"
        },
        {
          "output_type": "display_data",
          "data": {
            "image/png": "[encoded data removed]",
            "text/plain": [
              "<Figure size 432x288 with 1 Axes>"
            ]
          },
          "metadata": {
            "tags": [],
            "needs_background": "light"
          }
        },
        {
          "output_type": "stream",
          "text": [
            "tensor([ 2.4362,  7.8885, 16.6994,  8.1185, -4.6292,  1.5054, -1.8027, 12.1839,\n",
            "         8.1004,  1.5470])\n",
            "tensor(16.6994)\n",
            "tensor(2)\n"
          ],
          "name": "stdout"
        },
        {
          "output_type": "display_data",
          "data": {
            "image/png": "[encoded data removed]",
            "text/plain": [
              "<Figure size 432x288 with 1 Axes>"
            ]
          },
          "metadata": {
            "tags": [],
            "needs_background": "light"
          }
        },
        {
          "output_type": "stream",
          "text": [
            "tensor([-14.2879,   8.1767,  -8.8325, -11.9655,  -2.3059,  -7.6807,  -1.1791,\n",
            "         -4.8771,  -6.0319,  -6.8280])\n",
            "tensor(8.1767)\n",
            "tensor(1)\n"
          ],
          "name": "stdout"
        },
        {
          "output_type": "display_data",
          "data": {
            "image/png": "[encoded data removed]",
            "text/plain": [
              "<Figure size 432x288 with 1 Axes>"
            ]
          },
          "metadata": {
            "tags": [],
            "needs_background": "light"
          }
        },
        {
          "output_type": "stream",
          "text": [
            "tensor([15.3473, -9.8782,  3.2870, -0.3937, -3.9611,  2.1514,  2.5896,  2.7026,\n",
            "         2.7978,  6.4149])\n",
            "tensor(15.3473)\n",
            "tensor(0)\n"
          ],
          "name": "stdout"
        },
        {
          "output_type": "display_data",
          "data": {
            "image/png": "[encoded data removed]",
            "text/plain": [
              "<Figure size 432x288 with 1 Axes>"
            ]
          },
          "metadata": {
            "tags": [],
            "needs_background": "light"
          }
        },
        {
          "output_type": "stream",
          "text": [
            "tensor([ 4.5215, -0.0826,  1.8459,  6.7406, 31.2656,  2.9088,  4.3603,  2.6171,\n",
            "         5.5043, 12.0250])\n",
            "tensor(31.2656)\n",
            "tensor(4)\n"
          ],
          "name": "stdout"
        },
        {
          "output_type": "display_data",
          "data": {
            "image/png": "[encoded data removed]",
            "text/plain": [
              "<Figure size 432x288 with 1 Axes>"
            ]
          },
          "metadata": {
            "tags": [],
            "needs_background": "light"
          }
        },
        {
          "output_type": "stream",
          "text": [
            "tensor([-17.8686,  10.1971, -11.0648, -14.9633,  -2.7337,  -9.7697,  -1.5767,\n",
            "         -6.0219,  -7.8159,  -8.5007])\n",
            "tensor(10.1971)\n",
            "tensor(1)\n"
          ],
          "name": "stdout"
        },
        {
          "output_type": "display_data",
          "data": {
            "image/png": "[encoded data removed]",
            "text/plain": [
              "<Figure size 432x288 with 1 Axes>"
            ]
          },
          "metadata": {
            "tags": [],
            "needs_background": "light"
          }
        },
        {
          "output_type": "stream",
          "text": [
            "tensor([ 8.5991, -0.5816,  4.7115,  6.1837, 24.3060,  4.1101,  3.5331,  3.3764,\n",
            "        10.3448, 11.9650])\n",
            "tensor(24.3060)\n",
            "tensor(4)\n"
          ],
          "name": "stdout"
        },
        {
          "output_type": "display_data",
          "data": {
            "image/png": "[encoded data removed]",
            "text/plain": [
              "<Figure size 432x288 with 1 Axes>"
            ]
          },
          "metadata": {
            "tags": [],
            "needs_background": "light"
          }
        },
        {
          "output_type": "stream",
          "text": [
            "tensor([-7.5638,  0.5907,  0.4711,  9.3489, 10.7610,  4.2414, -3.5449,  5.7649,\n",
            "         6.0918, 15.7816])\n",
            "tensor(15.7816)\n",
            "tensor(9)\n"
          ],
          "name": "stdout"
        },
        {
          "output_type": "display_data",
          "data": {
            "image/png": "[encoded data removed]",
            "text/plain": [
              "<Figure size 432x288 with 1 Axes>"
            ]
          },
          "metadata": {
            "tags": [],
            "needs_background": "light"
          }
        },
        {
          "output_type": "stream",
          "text": [
            "tensor([-3.8468,  3.8982, -3.1529,  5.8221,  6.2531, 16.8624, 10.4646, -9.2088,\n",
            "         8.8772,  9.7953])\n",
            "tensor(16.8624)\n",
            "tensor(5)\n"
          ],
          "name": "stdout"
        },
        {
          "output_type": "display_data",
          "data": {
            "image/png": "[encoded data removed]",
            "text/plain": [
              "<Figure size 432x288 with 1 Axes>"
            ]
          },
          "metadata": {
            "tags": [],
            "needs_background": "light"
          }
        },
        {
          "output_type": "stream",
          "text": [
            "tensor([-2.3980, -6.3030,  2.6437, 12.0809, 13.3688,  3.5376, -5.0858, 12.7361,\n",
            "         9.0327, 26.4611])\n",
            "tensor(26.4611)\n",
            "tensor(9)\n"
          ],
          "name": "stdout"
        }
      ]
    },
    {
      "cell_type": "code",
      "metadata": {
        "id": "KjQn5AaUuBne"
      },
      "source": [
        "def find_lr(model, loss_fn, optimizer, train_loader, init_value=1e-8, final_value=10.0, device=\"cpu\"):\n",
        "    number_in_epoch = len(train_loader) - 1\n",
        "    update_step = (final_value / init_value) ** (1 / number_in_epoch)\n",
        "    lr = init_value\n",
        "    optimizer.param_groups[0][\"lr\"] = lr\n",
        "    best_loss = 0.0\n",
        "    batch_num = 0\n",
        "    losses = []\n",
        "    log_lrs = []\n",
        "    for data in train_loader:\n",
        "        batch_num += 1\n",
        "        inputs, targets = data\n",
        "        inputs = inputs.to(device)\n",
        "        targets = targets.to(device)\n",
        "        optimizer.zero_grad()\n",
        "        outputs = model(inputs)\n",
        "        loss = loss_fn(outputs, targets)\n",
        "\n",
        "        # Crash out if loss explodes\n",
        "\n",
        "        if batch_num > 1 and loss > 4 * best_loss:\n",
        "            if(len(log_lrs) > 20):\n",
        "                return log_lrs[10:-5], losses[10:-5]\n",
        "            else:\n",
        "                return log_lrs, losses\n",
        "\n",
        "        # Record the best loss\n",
        "\n",
        "        if loss < best_loss or batch_num == 1:\n",
        "            best_loss = loss\n",
        "\n",
        "        # Store the values\n",
        "        losses.append(loss.item())\n",
        "        log_lrs.append((lr))\n",
        "\n",
        "        # Do the backward pass and optimize\n",
        "\n",
        "        loss.backward()\n",
        "        optimizer.step()\n",
        "\n",
        "        # Update the lr for the next step and store\n",
        "\n",
        "        lr *= update_step\n",
        "        optimizer.param_groups[0][\"lr\"] = lr\n",
        "    if(len(log_lrs) > 20):\n",
        "        return log_lrs[10:-5], losses[10:-5]\n",
        "    else:\n",
        "        return log_lrs, losses\n"
      ],
      "execution_count": null,
      "outputs": []
    },
    {
      "cell_type": "markdown",
      "metadata": {
        "id": "EQBjzv1BHX2u"
      },
      "source": [
        "## Regression\n",
        "Let's try now with a regression problem\n",
        "\n",
        "we will use the boston price data and try to regress on the house prices"
      ]
    },
    {
      "cell_type": "code",
      "metadata": {
        "colab": {
          "base_uri": "https://localhost:8080/",
          "height": 240
        },
        "id": "4kdO4OnvMGmb",
        "outputId": "a9836301-0e83-4570-c63c-757b98e0cc31"
      },
      "source": [
        "df = pd.read_csv('winequality-white.csv',sep=';')\n",
        "df.head()\n"
      ],
      "execution_count": 142,
      "outputs": [
        {
          "output_type": "execute_result",
          "data": {
            "text/html": [
              "<div>\n",
              "<style scoped>\n",
              "    .dataframe tbody tr th:only-of-type {\n",
              "        vertical-align: middle;\n",
              "    }\n",
              "\n",
              "    .dataframe tbody tr th {\n",
              "        vertical-align: top;\n",
              "    }\n",
              "\n",
              "    .dataframe thead th {\n",
              "        text-align: right;\n",
              "    }\n",
              "</style>\n",
              "<table border=\"1\" class=\"dataframe\">\n",
              "  <thead>\n",
              "    <tr style=\"text-align: right;\">\n",
              "      <th></th>\n",
              "      <th>fixed acidity</th>\n",
              "      <th>volatile acidity</th>\n",
              "      <th>citric acid</th>\n",
              "      <th>residual sugar</th>\n",
              "      <th>chlorides</th>\n",
              "      <th>free sulfur dioxide</th>\n",
              "      <th>total sulfur dioxide</th>\n",
              "      <th>density</th>\n",
              "      <th>pH</th>\n",
              "      <th>sulphates</th>\n",
              "      <th>alcohol</th>\n",
              "      <th>quality</th>\n",
              "    </tr>\n",
              "  </thead>\n",
              "  <tbody>\n",
              "    <tr>\n",
              "      <th>0</th>\n",
              "      <td>7.0</td>\n",
              "      <td>0.27</td>\n",
              "      <td>0.36</td>\n",
              "      <td>20.7</td>\n",
              "      <td>0.045</td>\n",
              "      <td>45.0</td>\n",
              "      <td>170.0</td>\n",
              "      <td>1.0010</td>\n",
              "      <td>3.00</td>\n",
              "      <td>0.45</td>\n",
              "      <td>8.8</td>\n",
              "      <td>6</td>\n",
              "    </tr>\n",
              "    <tr>\n",
              "      <th>1</th>\n",
              "      <td>6.3</td>\n",
              "      <td>0.30</td>\n",
              "      <td>0.34</td>\n",
              "      <td>1.6</td>\n",
              "      <td>0.049</td>\n",
              "      <td>14.0</td>\n",
              "      <td>132.0</td>\n",
              "      <td>0.9940</td>\n",
              "      <td>3.30</td>\n",
              "      <td>0.49</td>\n",
              "      <td>9.5</td>\n",
              "      <td>6</td>\n",
              "    </tr>\n",
              "    <tr>\n",
              "      <th>2</th>\n",
              "      <td>8.1</td>\n",
              "      <td>0.28</td>\n",
              "      <td>0.40</td>\n",
              "      <td>6.9</td>\n",
              "      <td>0.050</td>\n",
              "      <td>30.0</td>\n",
              "      <td>97.0</td>\n",
              "      <td>0.9951</td>\n",
              "      <td>3.26</td>\n",
              "      <td>0.44</td>\n",
              "      <td>10.1</td>\n",
              "      <td>6</td>\n",
              "    </tr>\n",
              "    <tr>\n",
              "      <th>3</th>\n",
              "      <td>7.2</td>\n",
              "      <td>0.23</td>\n",
              "      <td>0.32</td>\n",
              "      <td>8.5</td>\n",
              "      <td>0.058</td>\n",
              "      <td>47.0</td>\n",
              "      <td>186.0</td>\n",
              "      <td>0.9956</td>\n",
              "      <td>3.19</td>\n",
              "      <td>0.40</td>\n",
              "      <td>9.9</td>\n",
              "      <td>6</td>\n",
              "    </tr>\n",
              "    <tr>\n",
              "      <th>4</th>\n",
              "      <td>7.2</td>\n",
              "      <td>0.23</td>\n",
              "      <td>0.32</td>\n",
              "      <td>8.5</td>\n",
              "      <td>0.058</td>\n",
              "      <td>47.0</td>\n",
              "      <td>186.0</td>\n",
              "      <td>0.9956</td>\n",
              "      <td>3.19</td>\n",
              "      <td>0.40</td>\n",
              "      <td>9.9</td>\n",
              "      <td>6</td>\n",
              "    </tr>\n",
              "  </tbody>\n",
              "</table>\n",
              "</div>"
            ],
            "text/plain": [
              "   fixed acidity  volatile acidity  citric acid  ...  sulphates  alcohol  quality\n",
              "0            7.0              0.27         0.36  ...       0.45      8.8        6\n",
              "1            6.3              0.30         0.34  ...       0.49      9.5        6\n",
              "2            8.1              0.28         0.40  ...       0.44     10.1        6\n",
              "3            7.2              0.23         0.32  ...       0.40      9.9        6\n",
              "4            7.2              0.23         0.32  ...       0.40      9.9        6\n",
              "\n",
              "[5 rows x 12 columns]"
            ]
          },
          "metadata": {
            "tags": []
          },
          "execution_count": 142
        }
      ]
    },
    {
      "cell_type": "code",
      "metadata": {
        "colab": {
          "base_uri": "https://localhost:8080/",
          "height": 303
        },
        "id": "u5JJp1Tdc2ku",
        "outputId": "5b57fe75-e594-4505-e7d7-c487f6d358e5"
      },
      "source": [
        "import seaborn as sns\n",
        "\n",
        "sns.countplot(x = 'quality', data=df)\n",
        "\n",
        "X = df.iloc[:, 0:-1]\n",
        "y = df.iloc[:, -1]"
      ],
      "execution_count": 144,
      "outputs": [
        {
          "output_type": "execute_result",
          "data": {
            "text/plain": [
              "<matplotlib.axes._subplots.AxesSubplot at 0x7f49c3b8af10>"
            ]
          },
          "metadata": {
            "tags": []
          },
          "execution_count": 144
        },
        {
          "output_type": "display_data",
          "data": {
            "image/png": "[encoded data removed]",
            "text/plain": [
              "<Figure size 432x288 with 1 Axes>"
            ]
          },
          "metadata": {
            "tags": [],
            "needs_background": "light"
          }
        }
      ]
    },
    {
      "cell_type": "code",
      "metadata": {
        "id": "DznAmk5mfu3W"
      },
      "source": [
        "# Train - Test\n",
        "X_trainval, X_test, y_trainval, y_test = train_test_split(X, y, test_size=0.2, random_state=69)\n",
        "# Split train into train-val\n",
        "X_train, X_val, y_train, y_val = train_test_split(X_trainval, y_trainval, test_size=0.1, random_state=21)\n"
      ],
      "execution_count": 147,
      "outputs": []
    },
    {
      "cell_type": "code",
      "metadata": {
        "id": "ZeH9B5jhf6xu"
      },
      "source": [
        "from sklearn.preprocessing import MinMaxScaler\n",
        "scaler = MinMaxScaler()\n",
        "X_train = scaler.fit_transform(X_train)\n",
        "X_val = scaler.transform(X_val)\n",
        "X_test = scaler.transform(X_test)\n",
        "X_train, y_train = np.array(X_train), np.array(y_train)\n",
        "X_val, y_val = np.array(X_val), np.array(y_val)\n",
        "X_test, y_test = np.array(X_test), np.array(y_test)"
      ],
      "execution_count": 149,
      "outputs": []
    },
    {
      "cell_type": "code",
      "metadata": {
        "id": "5sdbg5Nyf_hG"
      },
      "source": [
        "y_train, y_test, y_val = y_train.astype(float), y_test.astype(float), y_val.astype(float)\n"
      ],
      "execution_count": 150,
      "outputs": []
    },
    {
      "cell_type": "code",
      "metadata": {
        "id": "Ij_kB38zgKrl"
      },
      "source": [
        "import torch\n",
        "import torch.nn as nn\n",
        "import torch.optim as optim\n",
        "from torch.utils.data import Dataset, DataLoader\n",
        "class RegressionDataset(Dataset):\n",
        "    \n",
        "    def __init__(self, X_data, y_data):\n",
        "        self.X_data = X_data\n",
        "        self.y_data = y_data\n",
        "        \n",
        "    def __getitem__(self, index):\n",
        "        return self.X_data[index], self.y_data[index]\n",
        "        \n",
        "    def __len__ (self):\n",
        "        return len(self.X_data)\n",
        "train_dataset = RegressionDataset(torch.from_numpy(X_train).float(), torch.from_numpy(y_train).float())\n",
        "val_dataset = RegressionDataset(torch.from_numpy(X_val).float(), torch.from_numpy(y_val).float())\n",
        "test_dataset = RegressionDataset(torch.from_numpy(X_test).float(), torch.from_numpy(y_test).float())"
      ],
      "execution_count": 152,
      "outputs": []
    },
    {
      "cell_type": "code",
      "metadata": {
        "colab": {
          "base_uri": "https://localhost:8080/"
        },
        "id": "u3eL2nEwg05k",
        "outputId": "788c6767-80d0-4bd4-c1e1-d9dd50e2ca24"
      },
      "source": [
        "\n",
        "X.shape"
      ],
      "execution_count": 155,
      "outputs": [
        {
          "output_type": "execute_result",
          "data": {
            "text/plain": [
              "(20640, 8)"
            ]
          },
          "metadata": {
            "tags": []
          },
          "execution_count": 155
        }
      ]
    },
    {
      "cell_type": "code",
      "metadata": {
        "id": "yUaCDvdKgmak"
      },
      "source": [
        "\n",
        "EPOCHS = 150\n",
        "BATCH_SIZE = 64\n",
        "LEARNING_RATE = 0.001\n",
        "NUM_FEATURES = X.shape[1]"
      ],
      "execution_count": 157,
      "outputs": []
    },
    {
      "cell_type": "code",
      "metadata": {
        "id": "5o1AwYLZgm2l"
      },
      "source": [
        "train_loader = DataLoader(dataset=train_dataset, batch_size=BATCH_SIZE, shuffle=True)\n",
        "val_loader = DataLoader(dataset=val_dataset, batch_size=1)\n",
        "test_loader = DataLoader(dataset=test_dataset, batch_size=1)"
      ],
      "execution_count": 158,
      "outputs": []
    },
    {
      "cell_type": "code",
      "metadata": {
        "id": "LZeeZQfahAwW"
      },
      "source": [
        "class MultipleRegression(nn.Module):\n",
        "    def __init__(self, num_features):\n",
        "        super(MultipleRegression, self).__init__()\n",
        "        \n",
        "        self.layer_1 = nn.Linear(num_features, 16)\n",
        "        self.layer_2 = nn.Linear(16, 32)\n",
        "        self.layer_3 = nn.Linear(32, 16)\n",
        "        self.layer_out = nn.Linear(16, 1)\n",
        "        \n",
        "        self.relu = nn.ReLU()\n",
        "    \n",
        "    def forward(self, inputs):\n",
        "        x = self.relu(self.layer_1(inputs))\n",
        "        x = self.relu(self.layer_2(x))\n",
        "        x = self.relu(self.layer_3(x))\n",
        "        x = self.layer_out(x)\n",
        "        return (x)\n",
        "    \n",
        "    def predict(self, test_inputs):\n",
        "        x = self.relu(self.layer_1(test_inputs))\n",
        "        x = self.relu(self.layer_2(x))\n",
        "        x = self.relu(self.layer_3(x))\n",
        "        x = self.layer_out(x)\n",
        "        return (x)"
      ],
      "execution_count": 159,
      "outputs": []
    },
    {
      "cell_type": "code",
      "metadata": {
        "colab": {
          "base_uri": "https://localhost:8080/"
        },
        "id": "D6cL3PE2hM-m",
        "outputId": "953db589-5b13-4ab4-9b92-9c1166881241"
      },
      "source": [
        "model = MultipleRegression(NUM_FEATURES)\n",
        "# model.to(device)\n",
        "print(model)\n",
        "criterion = nn.MSELoss()\n",
        "optimizer = optim.Adam(model.parameters(), lr=LEARNING_RATE)\n"
      ],
      "execution_count": 162,
      "outputs": [
        {
          "output_type": "stream",
          "text": [
            "MultipleRegression(\n",
            "  (layer_1): Linear(in_features=8, out_features=16, bias=True)\n",
            "  (layer_2): Linear(in_features=16, out_features=32, bias=True)\n",
            "  (layer_3): Linear(in_features=32, out_features=16, bias=True)\n",
            "  (layer_out): Linear(in_features=16, out_features=1, bias=True)\n",
            "  (relu): ReLU()\n",
            ")\n"
          ],
          "name": "stdout"
        }
      ]
    },
    {
      "cell_type": "code",
      "metadata": {
        "id": "Bq5WhgCOhaXN"
      },
      "source": [
        "loss_stats = {\n",
        "    'train': [],\n",
        "    \"val\": []\n",
        "}"
      ],
      "execution_count": 163,
      "outputs": []
    },
    {
      "cell_type": "code",
      "metadata": {
        "colab": {
          "base_uri": "https://localhost:8080/"
        },
        "id": "-x4UIUqHq0nT",
        "outputId": "6762826b-ceeb-4538-c6f3-40fbf990f3fd"
      },
      "source": [
        "device = torch.device(\"cuda:0\" if torch.cuda.is_available() else \"cpu\")\n",
        "print(device)"
      ],
      "execution_count": 182,
      "outputs": [
        {
          "output_type": "stream",
          "text": [
            "cpu\n"
          ],
          "name": "stdout"
        }
      ]
    },
    {
      "cell_type": "code",
      "metadata": {
        "colab": {
          "base_uri": "https://localhost:8080/"
        },
        "id": "iLOs6LwUhd91",
        "outputId": "51e348e0-baff-465a-ecbd-0472d3b3c805"
      },
      "source": [
        "\n",
        "print(\"Begin training.\")\n",
        "for e in range(1, EPOCHS+1):\n",
        "    \n",
        "    # TRAINING\n",
        "    train_epoch_loss = 0\n",
        "    model.train()\n",
        "    for X_train_batch, y_train_batch in train_loader:\n",
        "        X_train_batch, y_train_batch = X_train_batch.to(device), y_train_batch.to(device)\n",
        "        optimizer.zero_grad()\n",
        "        \n",
        "        y_train_pred = model(X_train_batch)\n",
        "        \n",
        "        train_loss = criterion(y_train_pred, y_train_batch.reshape(-1,1))\n",
        "        \n",
        "        train_loss.backward()\n",
        "        optimizer.step()\n",
        "        \n",
        "        train_epoch_loss += train_loss.item()\n",
        "    # VALIDATION    \n",
        "    with torch.no_grad():\n",
        "        \n",
        "        val_epoch_loss = 0\n",
        "        \n",
        "        model.eval()\n",
        "        for X_val_batch, y_val_batch in val_loader:\n",
        "            X_val_batch, y_val_batch = X_val_batch.to(device), y_val_batch.to(device)\n",
        "            \n",
        "            y_val_pred = model(X_val_batch)\n",
        "                        \n",
        "            val_loss = criterion(y_val_pred, y_val_batch.unsqueeze(1))\n",
        "            \n",
        "            val_epoch_loss += val_loss.item()\n",
        "        loss_stats['train'].append(train_epoch_loss/len(train_loader))\n",
        "        loss_stats['val'].append(val_epoch_loss/len(val_loader))                              \n",
        "    \n",
        "    print(f'Epoch {e+0:03}: | Train Loss: {train_epoch_loss/len(train_loader):.5f} | Val Loss: {val_epoch_loss/len(val_loader):.5f}')\n"
      ],
      "execution_count": 183,
      "outputs": [
        {
          "output_type": "stream",
          "text": [
            "Begin training.\n",
            "Epoch 001: | Train Loss: 0.27004 | Val Loss: 0.27463\n",
            "Epoch 002: | Train Loss: 0.27258 | Val Loss: 0.27403\n",
            "Epoch 003: | Train Loss: 0.27242 | Val Loss: 0.28404\n",
            "Epoch 004: | Train Loss: 0.27391 | Val Loss: 0.27140\n",
            "Epoch 005: | Train Loss: 0.27122 | Val Loss: 0.27429\n",
            "Epoch 006: | Train Loss: 0.27422 | Val Loss: 0.27153\n",
            "Epoch 007: | Train Loss: 0.27151 | Val Loss: 0.28154\n",
            "Epoch 008: | Train Loss: 0.27450 | Val Loss: 0.27151\n",
            "Epoch 009: | Train Loss: 0.27318 | Val Loss: 0.27539\n",
            "Epoch 010: | Train Loss: 0.27632 | Val Loss: 0.28019\n",
            "Epoch 011: | Train Loss: 0.27175 | Val Loss: 0.28250\n",
            "Epoch 012: | Train Loss: 0.27237 | Val Loss: 0.27654\n",
            "Epoch 013: | Train Loss: 0.26979 | Val Loss: 0.27511\n",
            "Epoch 014: | Train Loss: 0.27320 | Val Loss: 0.30866\n",
            "Epoch 015: | Train Loss: 0.27013 | Val Loss: 0.27371\n",
            "Epoch 016: | Train Loss: 0.27013 | Val Loss: 0.27282\n",
            "Epoch 017: | Train Loss: 0.27035 | Val Loss: 0.27947\n",
            "Epoch 018: | Train Loss: 0.27470 | Val Loss: 0.27455\n",
            "Epoch 019: | Train Loss: 0.27083 | Val Loss: 0.28751\n",
            "Epoch 020: | Train Loss: 0.27448 | Val Loss: 0.28290\n",
            "Epoch 021: | Train Loss: 0.27134 | Val Loss: 0.27366\n",
            "Epoch 022: | Train Loss: 0.27471 | Val Loss: 0.27145\n",
            "Epoch 023: | Train Loss: 0.27151 | Val Loss: 0.28839\n",
            "Epoch 024: | Train Loss: 0.27491 | Val Loss: 0.27834\n",
            "Epoch 025: | Train Loss: 0.27292 | Val Loss: 0.27249\n",
            "Epoch 026: | Train Loss: 0.27728 | Val Loss: 0.29978\n",
            "Epoch 027: | Train Loss: 0.26818 | Val Loss: 0.27680\n",
            "Epoch 028: | Train Loss: 0.26645 | Val Loss: 0.27470\n",
            "Epoch 029: | Train Loss: 0.27540 | Val Loss: 0.30390\n",
            "Epoch 030: | Train Loss: 0.27256 | Val Loss: 0.27098\n",
            "Epoch 031: | Train Loss: 0.26941 | Val Loss: 0.27244\n",
            "Epoch 032: | Train Loss: 0.26745 | Val Loss: 0.28116\n",
            "Epoch 033: | Train Loss: 0.27273 | Val Loss: 0.27698\n",
            "Epoch 034: | Train Loss: 0.27249 | Val Loss: 0.26988\n",
            "Epoch 035: | Train Loss: 0.26660 | Val Loss: 0.28454\n",
            "Epoch 036: | Train Loss: 0.27044 | Val Loss: 0.27938\n",
            "Epoch 037: | Train Loss: 0.27016 | Val Loss: 0.27338\n",
            "Epoch 038: | Train Loss: 0.27193 | Val Loss: 0.29139\n",
            "Epoch 039: | Train Loss: 0.27654 | Val Loss: 0.28385\n",
            "Epoch 040: | Train Loss: 0.26997 | Val Loss: 0.27908\n",
            "Epoch 041: | Train Loss: 0.26895 | Val Loss: 0.28000\n",
            "Epoch 042: | Train Loss: 0.27122 | Val Loss: 0.27774\n",
            "Epoch 043: | Train Loss: 0.26736 | Val Loss: 0.27621\n",
            "Epoch 044: | Train Loss: 0.27167 | Val Loss: 0.27604\n",
            "Epoch 045: | Train Loss: 0.27716 | Val Loss: 0.28111\n",
            "Epoch 046: | Train Loss: 0.26991 | Val Loss: 0.27658\n",
            "Epoch 047: | Train Loss: 0.27209 | Val Loss: 0.27291\n",
            "Epoch 048: | Train Loss: 0.26837 | Val Loss: 0.27484\n",
            "Epoch 049: | Train Loss: 0.27087 | Val Loss: 0.30156\n",
            "Epoch 050: | Train Loss: 0.26893 | Val Loss: 0.28776\n",
            "Epoch 051: | Train Loss: 0.26978 | Val Loss: 0.27441\n",
            "Epoch 052: | Train Loss: 0.27210 | Val Loss: 0.27400\n",
            "Epoch 053: | Train Loss: 0.27106 | Val Loss: 0.28003\n",
            "Epoch 054: | Train Loss: 0.26896 | Val Loss: 0.27132\n",
            "Epoch 055: | Train Loss: 0.27086 | Val Loss: 0.29603\n",
            "Epoch 056: | Train Loss: 0.27216 | Val Loss: 0.28848\n",
            "Epoch 057: | Train Loss: 0.27231 | Val Loss: 0.27290\n",
            "Epoch 058: | Train Loss: 0.27442 | Val Loss: 0.28600\n",
            "Epoch 059: | Train Loss: 0.27014 | Val Loss: 0.28737\n",
            "Epoch 060: | Train Loss: 0.26981 | Val Loss: 0.27574\n",
            "Epoch 061: | Train Loss: 0.26763 | Val Loss: 0.28276\n",
            "Epoch 062: | Train Loss: 0.26822 | Val Loss: 0.27169\n",
            "Epoch 063: | Train Loss: 0.26891 | Val Loss: 0.27832\n",
            "Epoch 064: | Train Loss: 0.27072 | Val Loss: 0.27430\n",
            "Epoch 065: | Train Loss: 0.26721 | Val Loss: 0.27431\n",
            "Epoch 066: | Train Loss: 0.26604 | Val Loss: 0.28023\n",
            "Epoch 067: | Train Loss: 0.26907 | Val Loss: 0.27135\n",
            "Epoch 068: | Train Loss: 0.27057 | Val Loss: 0.27022\n",
            "Epoch 069: | Train Loss: 0.26637 | Val Loss: 0.27668\n",
            "Epoch 070: | Train Loss: 0.26942 | Val Loss: 0.27234\n",
            "Epoch 071: | Train Loss: 0.27093 | Val Loss: 0.28468\n",
            "Epoch 072: | Train Loss: 0.26910 | Val Loss: 0.27194\n",
            "Epoch 073: | Train Loss: 0.27142 | Val Loss: 0.26775\n",
            "Epoch 074: | Train Loss: 0.26995 | Val Loss: 0.26823\n",
            "Epoch 075: | Train Loss: 0.26843 | Val Loss: 0.29462\n",
            "Epoch 076: | Train Loss: 0.27420 | Val Loss: 0.34540\n",
            "Epoch 077: | Train Loss: 0.27081 | Val Loss: 0.27150\n",
            "Epoch 078: | Train Loss: 0.26961 | Val Loss: 0.28891\n",
            "Epoch 079: | Train Loss: 0.26869 | Val Loss: 0.28090\n",
            "Epoch 080: | Train Loss: 0.26789 | Val Loss: 0.27355\n",
            "Epoch 081: | Train Loss: 0.26663 | Val Loss: 0.27144\n",
            "Epoch 082: | Train Loss: 0.26774 | Val Loss: 0.26973\n",
            "Epoch 083: | Train Loss: 0.26777 | Val Loss: 0.26863\n",
            "Epoch 084: | Train Loss: 0.26794 | Val Loss: 0.27312\n",
            "Epoch 085: | Train Loss: 0.26984 | Val Loss: 0.27407\n",
            "Epoch 086: | Train Loss: 0.26830 | Val Loss: 0.30565\n",
            "Epoch 087: | Train Loss: 0.27301 | Val Loss: 0.32965\n",
            "Epoch 088: | Train Loss: 0.27214 | Val Loss: 0.28414\n",
            "Epoch 089: | Train Loss: 0.27515 | Val Loss: 0.27928\n",
            "Epoch 090: | Train Loss: 0.26899 | Val Loss: 0.28278\n",
            "Epoch 091: | Train Loss: 0.26806 | Val Loss: 0.29033\n",
            "Epoch 092: | Train Loss: 0.26649 | Val Loss: 0.26756\n",
            "Epoch 093: | Train Loss: 0.26720 | Val Loss: 0.26859\n",
            "Epoch 094: | Train Loss: 0.26571 | Val Loss: 0.27953\n",
            "Epoch 095: | Train Loss: 0.27230 | Val Loss: 0.27882\n",
            "Epoch 096: | Train Loss: 0.26927 | Val Loss: 0.27556\n",
            "Epoch 097: | Train Loss: 0.26914 | Val Loss: 0.27021\n",
            "Epoch 098: | Train Loss: 0.26415 | Val Loss: 0.27205\n",
            "Epoch 099: | Train Loss: 0.26757 | Val Loss: 0.27703\n",
            "Epoch 100: | Train Loss: 0.26796 | Val Loss: 0.27428\n",
            "Epoch 101: | Train Loss: 0.26633 | Val Loss: 0.27210\n",
            "Epoch 102: | Train Loss: 0.26673 | Val Loss: 0.28555\n",
            "Epoch 103: | Train Loss: 0.27141 | Val Loss: 0.28059\n",
            "Epoch 104: | Train Loss: 0.26960 | Val Loss: 0.27581\n",
            "Epoch 105: | Train Loss: 0.26906 | Val Loss: 0.28339\n",
            "Epoch 106: | Train Loss: 0.26893 | Val Loss: 0.29830\n",
            "Epoch 107: | Train Loss: 0.26849 | Val Loss: 0.27677\n",
            "Epoch 108: | Train Loss: 0.26433 | Val Loss: 0.27460\n",
            "Epoch 109: | Train Loss: 0.27023 | Val Loss: 0.27797\n",
            "Epoch 110: | Train Loss: 0.26724 | Val Loss: 0.27788\n",
            "Epoch 111: | Train Loss: 0.26756 | Val Loss: 0.27371\n",
            "Epoch 112: | Train Loss: 0.26479 | Val Loss: 0.27155\n",
            "Epoch 113: | Train Loss: 0.26530 | Val Loss: 0.28062\n",
            "Epoch 114: | Train Loss: 0.26844 | Val Loss: 0.29032\n",
            "Epoch 115: | Train Loss: 0.27176 | Val Loss: 0.27165\n",
            "Epoch 116: | Train Loss: 0.27029 | Val Loss: 0.29078\n",
            "Epoch 117: | Train Loss: 0.26548 | Val Loss: 0.27409\n",
            "Epoch 118: | Train Loss: 0.26505 | Val Loss: 0.31220\n",
            "Epoch 119: | Train Loss: 0.26702 | Val Loss: 0.27119\n",
            "Epoch 120: | Train Loss: 0.26983 | Val Loss: 0.27487\n",
            "Epoch 121: | Train Loss: 0.26470 | Val Loss: 0.27334\n",
            "Epoch 122: | Train Loss: 0.26551 | Val Loss: 0.33190\n",
            "Epoch 123: | Train Loss: 0.26973 | Val Loss: 0.26806\n",
            "Epoch 124: | Train Loss: 0.26957 | Val Loss: 0.27448\n",
            "Epoch 125: | Train Loss: 0.26649 | Val Loss: 0.28115\n",
            "Epoch 126: | Train Loss: 0.26425 | Val Loss: 0.27034\n",
            "Epoch 127: | Train Loss: 0.26344 | Val Loss: 0.28170\n",
            "Epoch 128: | Train Loss: 0.26637 | Val Loss: 0.27574\n",
            "Epoch 129: | Train Loss: 0.26469 | Val Loss: 0.27013\n",
            "Epoch 130: | Train Loss: 0.26927 | Val Loss: 0.31419\n",
            "Epoch 131: | Train Loss: 0.27079 | Val Loss: 0.26806\n",
            "Epoch 132: | Train Loss: 0.26541 | Val Loss: 0.27715\n",
            "Epoch 133: | Train Loss: 0.26806 | Val Loss: 0.27128\n",
            "Epoch 134: | Train Loss: 0.26580 | Val Loss: 0.27240\n",
            "Epoch 135: | Train Loss: 0.26590 | Val Loss: 0.26879\n",
            "Epoch 136: | Train Loss: 0.26647 | Val Loss: 0.27554\n",
            "Epoch 137: | Train Loss: 0.26193 | Val Loss: 0.28285\n",
            "Epoch 138: | Train Loss: 0.26536 | Val Loss: 0.26970\n",
            "Epoch 139: | Train Loss: 0.26626 | Val Loss: 0.28561\n",
            "Epoch 140: | Train Loss: 0.26279 | Val Loss: 0.27476\n",
            "Epoch 141: | Train Loss: 0.26723 | Val Loss: 0.27027\n",
            "Epoch 142: | Train Loss: 0.26465 | Val Loss: 0.27239\n",
            "Epoch 143: | Train Loss: 0.26459 | Val Loss: 0.28004\n",
            "Epoch 144: | Train Loss: 0.26800 | Val Loss: 0.27091\n",
            "Epoch 145: | Train Loss: 0.27417 | Val Loss: 0.27352\n",
            "Epoch 146: | Train Loss: 0.26683 | Val Loss: 0.28018\n",
            "Epoch 147: | Train Loss: 0.26534 | Val Loss: 0.30928\n",
            "Epoch 148: | Train Loss: 0.26365 | Val Loss: 0.29317\n",
            "Epoch 149: | Train Loss: 0.26733 | Val Loss: 0.27930\n",
            "Epoch 150: | Train Loss: 0.26968 | Val Loss: 0.29964\n"
          ],
          "name": "stdout"
        }
      ]
    },
    {
      "cell_type": "code",
      "metadata": {
        "colab": {
          "base_uri": "https://localhost:8080/",
          "height": 428
        },
        "id": "Sj95w8rvh0Gf",
        "outputId": "17ada140-a3f7-4007-c4db-392b05f0de5d"
      },
      "source": [
        "train_val_loss_df = pd.DataFrame.from_dict(loss_stats).reset_index().melt(id_vars=['index']).rename(columns={\"index\":\"epochs\"})\n",
        "plt.figure(figsize=(10,6))\n",
        "sns.lineplot(data=train_val_loss_df, x = \"epochs\", y=\"value\", hue=\"variable\").set_title('Train-Val Loss/Epoch')"
      ],
      "execution_count": 177,
      "outputs": [
        {
          "output_type": "execute_result",
          "data": {
            "text/plain": [
              "Text(0.5, 1.0, 'Train-Val Loss/Epoch')"
            ]
          },
          "metadata": {
            "tags": []
          },
          "execution_count": 177
        },
        {
          "output_type": "display_data",
          "data": {
            "image/png": "[encoded data removed]",
            "text/plain": [
              "<Figure size 720x432 with 1 Axes>"
            ]
          },
          "metadata": {
            "tags": [],
            "needs_background": "light"
          }
        }
      ]
    },
    {
      "cell_type": "code",
      "metadata": {
        "id": "WHviRzqnkCRp"
      },
      "source": [
        "y_pred_list = []\n",
        "with torch.no_grad():\n",
        "    model.eval()\n",
        "    for X_batch, _ in test_loader:\n",
        "        X_batch = X_batch\n",
        "        y_test_pred = model(X_batch)\n",
        "        y_pred_list.append(y_test_pred.cpu().numpy())\n",
        "y_pred_list = [a.squeeze().tolist() for a in y_pred_list]"
      ],
      "execution_count": 172,
      "outputs": []
    },
    {
      "cell_type": "code",
      "metadata": {
        "colab": {
          "base_uri": "https://localhost:8080/"
        },
        "id": "kPde4baRkHoG",
        "outputId": "34f3e972-0384-4562-bb4e-cc9d46126d3a"
      },
      "source": [
        "from sklearn.metrics import mean_squared_error, r2_score\n",
        "mse = mean_squared_error(y_test, y_pred_list)\n",
        "r_square = r2_score(y_test, y_pred_list)\n",
        "print(\"Mean Squared Error :\",mse)\n",
        "print(\"R^2 :\",r_square)"
      ],
      "execution_count": 174,
      "outputs": [
        {
          "output_type": "stream",
          "text": [
            "Mean Squared Error : 0.326720388928874\n",
            "R^2 : 0.7562674997305183\n"
          ],
          "name": "stdout"
        }
      ]
    }
  ]
}