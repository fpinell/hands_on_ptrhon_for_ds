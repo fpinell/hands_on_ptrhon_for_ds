{
  "nbformat": 4,
  "nbformat_minor": 0,
  "metadata": {
    "colab": {
      "name": "test_and_solutions.ipynb",
      "provenance": [],
      "collapsed_sections": [],
      "authorship_tag": "ABX9TyMA0K5etE0YJdZUolIAYl+Y",
      "include_colab_link": true
    },
    "kernelspec": {
      "name": "python3",
      "display_name": "Python 3"
    },
    "language_info": {
      "name": "python"
    }
  },
  "cells": [
    {
      "cell_type": "markdown",
      "metadata": {
        "id": "view-in-github",
        "colab_type": "text"
      },
      "source": [
        "<a href=\"https://colab.research.google.com/github/fpinell/hands_on_python_for_ds/blob/main/notebooks/phd/test_and_solutions.ipynb\" target=\"_parent\"><img src=\"https://colab.research.google.com/assets/colab-badge.svg\" alt=\"Open In Colab\"/></a>"
      ]
    },
    {
      "cell_type": "markdown",
      "source": [
        "# Hands on Python for Data Science\n",
        "\n",
        "### PhD IMT School for advanced studies Lucca\n",
        "\n",
        "\n",
        "#### Fabio Pinelli\n",
        "<a href=\"mailto:fabio.pinelli@imtlucca.it\">fabio.pinelli@imtlucca.it</a><br/>\n",
        "IMT School for Advanced Studies Lucca<br/>\n",
        "2021/2022<br/>\n",
        "June, 28 2022"
      ],
      "metadata": {
        "id": "mDuESV7NoUdO"
      }
    },
    {
      "cell_type": "markdown",
      "source": [
        "\n",
        "### What I'll do\n",
        "\n",
        "- Try to help you during the test [**DONE**]\n",
        "- Load your uploaded files and trying to evaluate your solution\n",
        "- Explore a possible solution :-)  "
      ],
      "metadata": {
        "id": "AfLU4iQDoXCm"
      }
    },
    {
      "cell_type": "markdown",
      "source": [
        "### Load your uploaded files and trying to evaluate your solution"
      ],
      "metadata": {
        "id": "8-E-UIqEpDrZ"
      }
    },
    {
      "cell_type": "code",
      "source": [
        "from google.colab import drive\n",
        "drive.mount('/content/drive')"
      ],
      "metadata": {
        "colab": {
          "base_uri": "https://localhost:8080/"
        },
        "id": "Q-JF9XgloRdW",
        "outputId": "5d8f0fea-1ce9-41c2-da89-00e7a3ab4bb5"
      },
      "execution_count": 2,
      "outputs": [
        {
          "output_type": "stream",
          "name": "stdout",
          "text": [
            "Mounted at /content/drive\n"
          ]
        }
      ]
    },
    {
      "cell_type": "code",
      "source": [
        "from glob import glob\n",
        "import pandas as pd\n",
        "import matplotlib.pyplot as plt\n",
        "import numpy as np \n",
        "import seaborn as sns\n",
        "df_train = pd.read_csv('/content/drive/Shareddrives/phd_hands_on/data/titanic/train.csv')"
      ],
      "metadata": {
        "id": "vwpXNbEOpLv6"
      },
      "execution_count": 3,
      "outputs": []
    },
    {
      "cell_type": "code",
      "source": [
        "# df_train.columns"
      ],
      "metadata": {
        "id": "d_Ngs428qYzC"
      },
      "execution_count": 4,
      "outputs": []
    },
    {
      "cell_type": "code",
      "source": [
        "df_train[['PassengerId','Survived']].to_csv('/content/drive/Shareddrives/phd_hands_on/test/fabio.csv',index=False,sep=',')"
      ],
      "metadata": {
        "id": "AOUwN-nbp9HF"
      },
      "execution_count": 5,
      "outputs": []
    },
    {
      "cell_type": "code",
      "source": [
        "directory = '/content/drive/Shareddrives/phd_hands_on/test/'"
      ],
      "metadata": {
        "id": "19wwd1xoq7vO"
      },
      "execution_count": 6,
      "outputs": []
    },
    {
      "cell_type": "code",
      "source": [
        "files = glob(directory+ '*.csv')"
      ],
      "metadata": {
        "id": "NU2ph2YFp_TP"
      },
      "execution_count": 7,
      "outputs": []
    },
    {
      "cell_type": "code",
      "source": [
        "from sklearn.metrics import precision_score,recall_score,accuracy_score,confusion_matrix\n",
        "\n",
        "results = {\n",
        "    'name':[],\n",
        "    'precision':[],\n",
        "    'recall':[],\n",
        "    'accuracy':[]\n",
        "}\n",
        "\n",
        "for f in files:\n",
        "  \n",
        "  try:\n",
        "  \n",
        "    student_name = f.split('/')[-1].split('.csv')[0]\n",
        "    solution = pd.read_csv(f)\n",
        "    df_merge = pd.merge(solution,df_train[['PassengerId']],on='PassengerId')\n",
        "\n",
        "    precision = precision_score(df_train['Survived'],df_merge['Survived'])\n",
        "    recall = recall_score(df_train['Survived'],df_merge['Survived'])\n",
        "    accuracy = accuracy_score(df_train['Survived'],df_merge['Survived'])\n",
        "    \n",
        "    print('{} got {} precision'.format(student_name,precision))\n",
        "    print('{} got {} recall'.format(student_name,recall))\n",
        "    print('{} got {} accuracy'.format(student_name,accuracy))\n",
        "\n",
        "    results['name'].append(student_name)\n",
        "    results['precision'].append(precision)\n",
        "    results['recall'].append(recall)\n",
        "    results['accuracy'].append(accuracy)\n",
        "  except Exception as e: \n",
        "    print(\"Failed reading the file {}\".format(f))\n",
        "    print(\"with exception {}\".format(e))\n",
        "\n",
        "df_results = pd.DataFrame(results)"
      ],
      "metadata": {
        "colab": {
          "base_uri": "https://localhost:8080/"
        },
        "id": "60F-mL2aq0lS",
        "outputId": "27eec733-822e-4d1c-a0ea-1b3b7375b282"
      },
      "execution_count": 8,
      "outputs": [
        {
          "output_type": "stream",
          "name": "stdout",
          "text": [
            "fabio_2 got 1.0 precision\n",
            "fabio_2 got 1.0 recall\n",
            "fabio_2 got 1.0 accuracy\n",
            "fabio got 1.0 precision\n",
            "fabio got 1.0 recall\n",
            "fabio got 1.0 accuracy\n"
          ]
        }
      ]
    },
    {
      "cell_type": "code",
      "source": [
        "df_results.sort_values(by='accuracy',ascending=False)"
      ],
      "metadata": {
        "colab": {
          "base_uri": "https://localhost:8080/",
          "height": 112
        },
        "id": "7bXXz5V1rFVD",
        "outputId": "30d3f3a7-8880-4f29-d956-a931a58ab42e"
      },
      "execution_count": 52,
      "outputs": [
        {
          "output_type": "execute_result",
          "data": {
            "text/plain": [
              "      name  precision  recall  accuracy\n",
              "0  fabio_2        1.0     1.0       1.0\n",
              "1    fabio        1.0     1.0       1.0"
            ],
            "text/html": [
              "\n",
              "  <div id=\"df-691b8d0a-9d8d-4be5-b936-ed6e206b4b8b\">\n",
              "    <div class=\"colab-df-container\">\n",
              "      <div>\n",
              "<style scoped>\n",
              "    .dataframe tbody tr th:only-of-type {\n",
              "        vertical-align: middle;\n",
              "    }\n",
              "\n",
              "    .dataframe tbody tr th {\n",
              "        vertical-align: top;\n",
              "    }\n",
              "\n",
              "    .dataframe thead th {\n",
              "        text-align: right;\n",
              "    }\n",
              "</style>\n",
              "<table border=\"1\" class=\"dataframe\">\n",
              "  <thead>\n",
              "    <tr style=\"text-align: right;\">\n",
              "      <th></th>\n",
              "      <th>name</th>\n",
              "      <th>precision</th>\n",
              "      <th>recall</th>\n",
              "      <th>accuracy</th>\n",
              "    </tr>\n",
              "  </thead>\n",
              "  <tbody>\n",
              "    <tr>\n",
              "      <th>0</th>\n",
              "      <td>fabio_2</td>\n",
              "      <td>1.0</td>\n",
              "      <td>1.0</td>\n",
              "      <td>1.0</td>\n",
              "    </tr>\n",
              "    <tr>\n",
              "      <th>1</th>\n",
              "      <td>fabio</td>\n",
              "      <td>1.0</td>\n",
              "      <td>1.0</td>\n",
              "      <td>1.0</td>\n",
              "    </tr>\n",
              "  </tbody>\n",
              "</table>\n",
              "</div>\n",
              "      <button class=\"colab-df-convert\" onclick=\"convertToInteractive('df-691b8d0a-9d8d-4be5-b936-ed6e206b4b8b')\"\n",
              "              title=\"Convert this dataframe to an interactive table.\"\n",
              "              style=\"display:none;\">\n",
              "        \n",
              "  <svg xmlns=\"http://www.w3.org/2000/svg\" height=\"24px\"viewBox=\"0 0 24 24\"\n",
              "       width=\"24px\">\n",
              "    <path d=\"M0 0h24v24H0V0z\" fill=\"none\"/>\n",
              "    <path d=\"M18.56 5.44l.94 2.06.94-2.06 2.06-.94-2.06-.94-.94-2.06-.94 2.06-2.06.94zm-11 1L8.5 8.5l.94-2.06 2.06-.94-2.06-.94L8.5 2.5l-.94 2.06-2.06.94zm10 10l.94 2.06.94-2.06 2.06-.94-2.06-.94-.94-2.06-.94 2.06-2.06.94z\"/><path d=\"M17.41 7.96l-1.37-1.37c-.4-.4-.92-.59-1.43-.59-.52 0-1.04.2-1.43.59L10.3 9.45l-7.72 7.72c-.78.78-.78 2.05 0 2.83L4 21.41c.39.39.9.59 1.41.59.51 0 1.02-.2 1.41-.59l7.78-7.78 2.81-2.81c.8-.78.8-2.07 0-2.86zM5.41 20L4 18.59l7.72-7.72 1.47 1.35L5.41 20z\"/>\n",
              "  </svg>\n",
              "      </button>\n",
              "      \n",
              "  <style>\n",
              "    .colab-df-container {\n",
              "      display:flex;\n",
              "      flex-wrap:wrap;\n",
              "      gap: 12px;\n",
              "    }\n",
              "\n",
              "    .colab-df-convert {\n",
              "      background-color: #E8F0FE;\n",
              "      border: none;\n",
              "      border-radius: 50%;\n",
              "      cursor: pointer;\n",
              "      display: none;\n",
              "      fill: #1967D2;\n",
              "      height: 32px;\n",
              "      padding: 0 0 0 0;\n",
              "      width: 32px;\n",
              "    }\n",
              "\n",
              "    .colab-df-convert:hover {\n",
              "      background-color: #E2EBFA;\n",
              "      box-shadow: 0px 1px 2px rgba(60, 64, 67, 0.3), 0px 1px 3px 1px rgba(60, 64, 67, 0.15);\n",
              "      fill: #174EA6;\n",
              "    }\n",
              "\n",
              "    [theme=dark] .colab-df-convert {\n",
              "      background-color: #3B4455;\n",
              "      fill: #D2E3FC;\n",
              "    }\n",
              "\n",
              "    [theme=dark] .colab-df-convert:hover {\n",
              "      background-color: #434B5C;\n",
              "      box-shadow: 0px 1px 3px 1px rgba(0, 0, 0, 0.15);\n",
              "      filter: drop-shadow(0px 1px 2px rgba(0, 0, 0, 0.3));\n",
              "      fill: #FFFFFF;\n",
              "    }\n",
              "  </style>\n",
              "\n",
              "      <script>\n",
              "        const buttonEl =\n",
              "          document.querySelector('#df-691b8d0a-9d8d-4be5-b936-ed6e206b4b8b button.colab-df-convert');\n",
              "        buttonEl.style.display =\n",
              "          google.colab.kernel.accessAllowed ? 'block' : 'none';\n",
              "\n",
              "        async function convertToInteractive(key) {\n",
              "          const element = document.querySelector('#df-691b8d0a-9d8d-4be5-b936-ed6e206b4b8b');\n",
              "          const dataTable =\n",
              "            await google.colab.kernel.invokeFunction('convertToInteractive',\n",
              "                                                     [key], {});\n",
              "          if (!dataTable) return;\n",
              "\n",
              "          const docLinkHtml = 'Like what you see? Visit the ' +\n",
              "            '<a target=\"_blank\" href=https://colab.research.google.com/notebooks/data_table.ipynb>data table notebook</a>'\n",
              "            + ' to learn more about interactive tables.';\n",
              "          element.innerHTML = '';\n",
              "          dataTable['output_type'] = 'display_data';\n",
              "          await google.colab.output.renderOutput(dataTable, element);\n",
              "          const docLink = document.createElement('div');\n",
              "          docLink.innerHTML = docLinkHtml;\n",
              "          element.appendChild(docLink);\n",
              "        }\n",
              "      </script>\n",
              "    </div>\n",
              "  </div>\n",
              "  "
            ]
          },
          "metadata": {},
          "execution_count": 52
        }
      ]
    },
    {
      "cell_type": "markdown",
      "source": [
        "# Possible solution"
      ],
      "metadata": {
        "id": "r5KGgcaO0TTc"
      }
    },
    {
      "cell_type": "code",
      "source": [
        "from sklearn.metrics import confusion_matrix, ConfusionMatrixDisplay\n",
        "from sklearn import metrics\n",
        "from sklearn.pipeline import make_pipeline, Pipeline\n",
        "from sklearn.linear_model import LinearRegression,LogisticRegression, Lasso\n",
        "from sklearn.ensemble import GradientBoostingClassifier,RandomForestClassifier\n",
        "from sklearn.model_selection import GridSearchCV, RandomizedSearchCV\n",
        "from sklearn.model_selection import train_test_split\n",
        "from sklearn.compose import ColumnTransformer\n",
        "from sklearn.preprocessing import OneHotEncoder, OrdinalEncoder\n",
        "from sklearn.metrics import recall_score,precision_score\n",
        "from sklearn.base import BaseEstimator, TransformerMixin\n",
        "from sklearn.impute import SimpleImputer\n",
        "from sklearn.preprocessing import MinMaxScaler,StandardScaler\n",
        "\n",
        "import xgboost as xgb\n",
        "from xgboost import XGBClassifier"
      ],
      "metadata": {
        "id": "zrIa5RbbEkdu"
      },
      "execution_count": 10,
      "outputs": []
    },
    {
      "cell_type": "code",
      "source": [
        "df_train = pd.read_csv('/content/drive/Shareddrives/phd_hands_on/data/titanic/train.csv')"
      ],
      "metadata": {
        "id": "LKKNd_mm0SDg"
      },
      "execution_count": 11,
      "outputs": []
    },
    {
      "cell_type": "code",
      "source": [
        "df_train.shape"
      ],
      "metadata": {
        "colab": {
          "base_uri": "https://localhost:8080/"
        },
        "id": "jXuCKWkT0XvO",
        "outputId": "4ef07e93-7de4-45ce-bcf9-4e90232c177b"
      },
      "execution_count": 12,
      "outputs": [
        {
          "output_type": "execute_result",
          "data": {
            "text/plain": [
              "(891, 12)"
            ]
          },
          "metadata": {},
          "execution_count": 12
        }
      ]
    },
    {
      "cell_type": "code",
      "source": [
        "df_train.info()"
      ],
      "metadata": {
        "colab": {
          "base_uri": "https://localhost:8080/"
        },
        "id": "UAy4A7hS0ZdR",
        "outputId": "5d28041e-22d8-4807-f31a-4f7152d3573c"
      },
      "execution_count": 13,
      "outputs": [
        {
          "output_type": "stream",
          "name": "stdout",
          "text": [
            "<class 'pandas.core.frame.DataFrame'>\n",
            "RangeIndex: 891 entries, 0 to 890\n",
            "Data columns (total 12 columns):\n",
            " #   Column       Non-Null Count  Dtype  \n",
            "---  ------       --------------  -----  \n",
            " 0   PassengerId  891 non-null    int64  \n",
            " 1   Survived     891 non-null    int64  \n",
            " 2   Pclass       891 non-null    int64  \n",
            " 3   Name         891 non-null    object \n",
            " 4   Sex          891 non-null    object \n",
            " 5   Age          714 non-null    float64\n",
            " 6   SibSp        891 non-null    int64  \n",
            " 7   Parch        891 non-null    int64  \n",
            " 8   Ticket       891 non-null    object \n",
            " 9   Fare         891 non-null    float64\n",
            " 10  Cabin        204 non-null    object \n",
            " 11  Embarked     889 non-null    object \n",
            "dtypes: float64(2), int64(5), object(5)\n",
            "memory usage: 83.7+ KB\n"
          ]
        }
      ]
    },
    {
      "cell_type": "code",
      "source": [
        "df_train.describe()"
      ],
      "metadata": {
        "colab": {
          "base_uri": "https://localhost:8080/",
          "height": 300
        },
        "id": "AWHIp8YE0a4R",
        "outputId": "b2390a91-2523-4d36-cd60-f3b5db750ab7"
      },
      "execution_count": 14,
      "outputs": [
        {
          "output_type": "execute_result",
          "data": {
            "text/plain": [
              "       PassengerId    Survived      Pclass         Age       SibSp  \\\n",
              "count   891.000000  891.000000  891.000000  714.000000  891.000000   \n",
              "mean    446.000000    0.383838    2.308642   29.699118    0.523008   \n",
              "std     257.353842    0.486592    0.836071   14.526497    1.102743   \n",
              "min       1.000000    0.000000    1.000000    0.420000    0.000000   \n",
              "25%     223.500000    0.000000    2.000000   20.125000    0.000000   \n",
              "50%     446.000000    0.000000    3.000000   28.000000    0.000000   \n",
              "75%     668.500000    1.000000    3.000000   38.000000    1.000000   \n",
              "max     891.000000    1.000000    3.000000   80.000000    8.000000   \n",
              "\n",
              "            Parch        Fare  \n",
              "count  891.000000  891.000000  \n",
              "mean     0.381594   32.204208  \n",
              "std      0.806057   49.693429  \n",
              "min      0.000000    0.000000  \n",
              "25%      0.000000    7.910400  \n",
              "50%      0.000000   14.454200  \n",
              "75%      0.000000   31.000000  \n",
              "max      6.000000  512.329200  "
            ],
            "text/html": [
              "\n",
              "  <div id=\"df-354720d3-b004-4fba-8b2d-608da9d058e6\">\n",
              "    <div class=\"colab-df-container\">\n",
              "      <div>\n",
              "<style scoped>\n",
              "    .dataframe tbody tr th:only-of-type {\n",
              "        vertical-align: middle;\n",
              "    }\n",
              "\n",
              "    .dataframe tbody tr th {\n",
              "        vertical-align: top;\n",
              "    }\n",
              "\n",
              "    .dataframe thead th {\n",
              "        text-align: right;\n",
              "    }\n",
              "</style>\n",
              "<table border=\"1\" class=\"dataframe\">\n",
              "  <thead>\n",
              "    <tr style=\"text-align: right;\">\n",
              "      <th></th>\n",
              "      <th>PassengerId</th>\n",
              "      <th>Survived</th>\n",
              "      <th>Pclass</th>\n",
              "      <th>Age</th>\n",
              "      <th>SibSp</th>\n",
              "      <th>Parch</th>\n",
              "      <th>Fare</th>\n",
              "    </tr>\n",
              "  </thead>\n",
              "  <tbody>\n",
              "    <tr>\n",
              "      <th>count</th>\n",
              "      <td>891.000000</td>\n",
              "      <td>891.000000</td>\n",
              "      <td>891.000000</td>\n",
              "      <td>714.000000</td>\n",
              "      <td>891.000000</td>\n",
              "      <td>891.000000</td>\n",
              "      <td>891.000000</td>\n",
              "    </tr>\n",
              "    <tr>\n",
              "      <th>mean</th>\n",
              "      <td>446.000000</td>\n",
              "      <td>0.383838</td>\n",
              "      <td>2.308642</td>\n",
              "      <td>29.699118</td>\n",
              "      <td>0.523008</td>\n",
              "      <td>0.381594</td>\n",
              "      <td>32.204208</td>\n",
              "    </tr>\n",
              "    <tr>\n",
              "      <th>std</th>\n",
              "      <td>257.353842</td>\n",
              "      <td>0.486592</td>\n",
              "      <td>0.836071</td>\n",
              "      <td>14.526497</td>\n",
              "      <td>1.102743</td>\n",
              "      <td>0.806057</td>\n",
              "      <td>49.693429</td>\n",
              "    </tr>\n",
              "    <tr>\n",
              "      <th>min</th>\n",
              "      <td>1.000000</td>\n",
              "      <td>0.000000</td>\n",
              "      <td>1.000000</td>\n",
              "      <td>0.420000</td>\n",
              "      <td>0.000000</td>\n",
              "      <td>0.000000</td>\n",
              "      <td>0.000000</td>\n",
              "    </tr>\n",
              "    <tr>\n",
              "      <th>25%</th>\n",
              "      <td>223.500000</td>\n",
              "      <td>0.000000</td>\n",
              "      <td>2.000000</td>\n",
              "      <td>20.125000</td>\n",
              "      <td>0.000000</td>\n",
              "      <td>0.000000</td>\n",
              "      <td>7.910400</td>\n",
              "    </tr>\n",
              "    <tr>\n",
              "      <th>50%</th>\n",
              "      <td>446.000000</td>\n",
              "      <td>0.000000</td>\n",
              "      <td>3.000000</td>\n",
              "      <td>28.000000</td>\n",
              "      <td>0.000000</td>\n",
              "      <td>0.000000</td>\n",
              "      <td>14.454200</td>\n",
              "    </tr>\n",
              "    <tr>\n",
              "      <th>75%</th>\n",
              "      <td>668.500000</td>\n",
              "      <td>1.000000</td>\n",
              "      <td>3.000000</td>\n",
              "      <td>38.000000</td>\n",
              "      <td>1.000000</td>\n",
              "      <td>0.000000</td>\n",
              "      <td>31.000000</td>\n",
              "    </tr>\n",
              "    <tr>\n",
              "      <th>max</th>\n",
              "      <td>891.000000</td>\n",
              "      <td>1.000000</td>\n",
              "      <td>3.000000</td>\n",
              "      <td>80.000000</td>\n",
              "      <td>8.000000</td>\n",
              "      <td>6.000000</td>\n",
              "      <td>512.329200</td>\n",
              "    </tr>\n",
              "  </tbody>\n",
              "</table>\n",
              "</div>\n",
              "      <button class=\"colab-df-convert\" onclick=\"convertToInteractive('df-354720d3-b004-4fba-8b2d-608da9d058e6')\"\n",
              "              title=\"Convert this dataframe to an interactive table.\"\n",
              "              style=\"display:none;\">\n",
              "        \n",
              "  <svg xmlns=\"http://www.w3.org/2000/svg\" height=\"24px\"viewBox=\"0 0 24 24\"\n",
              "       width=\"24px\">\n",
              "    <path d=\"M0 0h24v24H0V0z\" fill=\"none\"/>\n",
              "    <path d=\"M18.56 5.44l.94 2.06.94-2.06 2.06-.94-2.06-.94-.94-2.06-.94 2.06-2.06.94zm-11 1L8.5 8.5l.94-2.06 2.06-.94-2.06-.94L8.5 2.5l-.94 2.06-2.06.94zm10 10l.94 2.06.94-2.06 2.06-.94-2.06-.94-.94-2.06-.94 2.06-2.06.94z\"/><path d=\"M17.41 7.96l-1.37-1.37c-.4-.4-.92-.59-1.43-.59-.52 0-1.04.2-1.43.59L10.3 9.45l-7.72 7.72c-.78.78-.78 2.05 0 2.83L4 21.41c.39.39.9.59 1.41.59.51 0 1.02-.2 1.41-.59l7.78-7.78 2.81-2.81c.8-.78.8-2.07 0-2.86zM5.41 20L4 18.59l7.72-7.72 1.47 1.35L5.41 20z\"/>\n",
              "  </svg>\n",
              "      </button>\n",
              "      \n",
              "  <style>\n",
              "    .colab-df-container {\n",
              "      display:flex;\n",
              "      flex-wrap:wrap;\n",
              "      gap: 12px;\n",
              "    }\n",
              "\n",
              "    .colab-df-convert {\n",
              "      background-color: #E8F0FE;\n",
              "      border: none;\n",
              "      border-radius: 50%;\n",
              "      cursor: pointer;\n",
              "      display: none;\n",
              "      fill: #1967D2;\n",
              "      height: 32px;\n",
              "      padding: 0 0 0 0;\n",
              "      width: 32px;\n",
              "    }\n",
              "\n",
              "    .colab-df-convert:hover {\n",
              "      background-color: #E2EBFA;\n",
              "      box-shadow: 0px 1px 2px rgba(60, 64, 67, 0.3), 0px 1px 3px 1px rgba(60, 64, 67, 0.15);\n",
              "      fill: #174EA6;\n",
              "    }\n",
              "\n",
              "    [theme=dark] .colab-df-convert {\n",
              "      background-color: #3B4455;\n",
              "      fill: #D2E3FC;\n",
              "    }\n",
              "\n",
              "    [theme=dark] .colab-df-convert:hover {\n",
              "      background-color: #434B5C;\n",
              "      box-shadow: 0px 1px 3px 1px rgba(0, 0, 0, 0.15);\n",
              "      filter: drop-shadow(0px 1px 2px rgba(0, 0, 0, 0.3));\n",
              "      fill: #FFFFFF;\n",
              "    }\n",
              "  </style>\n",
              "\n",
              "      <script>\n",
              "        const buttonEl =\n",
              "          document.querySelector('#df-354720d3-b004-4fba-8b2d-608da9d058e6 button.colab-df-convert');\n",
              "        buttonEl.style.display =\n",
              "          google.colab.kernel.accessAllowed ? 'block' : 'none';\n",
              "\n",
              "        async function convertToInteractive(key) {\n",
              "          const element = document.querySelector('#df-354720d3-b004-4fba-8b2d-608da9d058e6');\n",
              "          const dataTable =\n",
              "            await google.colab.kernel.invokeFunction('convertToInteractive',\n",
              "                                                     [key], {});\n",
              "          if (!dataTable) return;\n",
              "\n",
              "          const docLinkHtml = 'Like what you see? Visit the ' +\n",
              "            '<a target=\"_blank\" href=https://colab.research.google.com/notebooks/data_table.ipynb>data table notebook</a>'\n",
              "            + ' to learn more about interactive tables.';\n",
              "          element.innerHTML = '';\n",
              "          dataTable['output_type'] = 'display_data';\n",
              "          await google.colab.output.renderOutput(dataTable, element);\n",
              "          const docLink = document.createElement('div');\n",
              "          docLink.innerHTML = docLinkHtml;\n",
              "          element.appendChild(docLink);\n",
              "        }\n",
              "      </script>\n",
              "    </div>\n",
              "  </div>\n",
              "  "
            ]
          },
          "metadata": {},
          "execution_count": 14
        }
      ]
    },
    {
      "cell_type": "markdown",
      "source": [
        "Okay, the Age, Cabin and Embarked attributes are sometimes null (less than 891 non-null), especially the Cabin (77% are null). We will ignore the Cabin for now and focus on the rest. The Age attribute has about 19% null values, so we will need to decide what to do with them. Replacing null values with the median age seems reasonable."
      ],
      "metadata": {
        "id": "bR379hS80q6v"
      }
    },
    {
      "cell_type": "markdown",
      "source": [
        "Moreover, the **Name** and **Ticket** attributes may have some value, but they will be a bit tricky to convert into useful numbers that a model can consume. So for now, we will ignore them."
      ],
      "metadata": {
        "id": "xcCdlWzf0wKa"
      }
    },
    {
      "cell_type": "code",
      "source": [
        "\n",
        "df_train.columns"
      ],
      "metadata": {
        "colab": {
          "base_uri": "https://localhost:8080/"
        },
        "id": "aPHpaClPDI9F",
        "outputId": "1d222e61-5d26-4f2f-f371-0b2162fe9fb9"
      },
      "execution_count": 15,
      "outputs": [
        {
          "output_type": "execute_result",
          "data": {
            "text/plain": [
              "Index(['PassengerId', 'Survived', 'Pclass', 'Name', 'Sex', 'Age', 'SibSp',\n",
              "       'Parch', 'Ticket', 'Fare', 'Cabin', 'Embarked'],\n",
              "      dtype='object')"
            ]
          },
          "metadata": {},
          "execution_count": 15
        }
      ]
    },
    {
      "cell_type": "code",
      "source": [
        "df_train = df_train[['PassengerId','Survived','Pclass', \n",
        "                     'Sex', 'Age', 'SibSp','Parch',\n",
        "                     'Fare', 'Embarked']].copy()"
      ],
      "metadata": {
        "id": "WUC3MBM_20Ao"
      },
      "execution_count": 16,
      "outputs": []
    },
    {
      "cell_type": "code",
      "source": [
        "attributes = ['Pclass','Age','SibSp','Parch','Fare']"
      ],
      "metadata": {
        "id": "E7uvt-oi1VGC"
      },
      "execution_count": 17,
      "outputs": []
    },
    {
      "cell_type": "code",
      "source": [
        "\n",
        "_ = df_train[attributes].hist(figsize=(12, 8))"
      ],
      "metadata": {
        "colab": {
          "base_uri": "https://localhost:8080/",
          "height": 499
        },
        "id": "uM8_NOC90dEq",
        "outputId": "2312456c-1f42-40f4-8734-1a7a22658bd0"
      },
      "execution_count": 18,
      "outputs": [
        {
          "output_type": "display_data",
          "data": {
            "text/plain": [
              "<Figure size 864x576 with 6 Axes>"
            ],
            "image/png": "[encoded data removed]"
          },
          "metadata": {
            "needs_background": "light"
          }
        }
      ]
    },
    {
      "cell_type": "code",
      "source": [
        "from pandas.plotting import scatter_matrix\n",
        "\n",
        "_ = scatter_matrix(df_train[attributes], figsize=(12, 8))"
      ],
      "metadata": {
        "colab": {
          "base_uri": "https://localhost:8080/",
          "height": 503
        },
        "id": "7RcQ2NX81FEy",
        "outputId": "92ca504f-7a56-417a-8b16-1343557692e6"
      },
      "execution_count": 19,
      "outputs": [
        {
          "output_type": "display_data",
          "data": {
            "text/plain": [
              "<Figure size 864x576 with 25 Axes>"
            ],
            "image/png": "[encoded data removed]"
          },
          "metadata": {
            "needs_background": "light"
          }
        }
      ]
    },
    {
      "cell_type": "code",
      "source": [
        "df_train[\"Survived\"].value_counts()"
      ],
      "metadata": {
        "colab": {
          "base_uri": "https://localhost:8080/"
        },
        "id": "1LUva1Dk1pya",
        "outputId": "54f8efb6-ab90-414d-bce4-46276591f161"
      },
      "execution_count": 20,
      "outputs": [
        {
          "output_type": "execute_result",
          "data": {
            "text/plain": [
              "0    549\n",
              "1    342\n",
              "Name: Survived, dtype: int64"
            ]
          },
          "metadata": {},
          "execution_count": 20
        }
      ]
    },
    {
      "cell_type": "code",
      "source": [
        "\n",
        "df_train.describe(include='all')"
      ],
      "metadata": {
        "colab": {
          "base_uri": "https://localhost:8080/",
          "height": 394
        },
        "id": "pCSHDt9D1vcc",
        "outputId": "b1f084af-69d2-456d-a33f-a7112c57e81f"
      },
      "execution_count": 21,
      "outputs": [
        {
          "output_type": "execute_result",
          "data": {
            "text/plain": [
              "        PassengerId    Survived      Pclass   Sex         Age       SibSp  \\\n",
              "count    891.000000  891.000000  891.000000   891  714.000000  891.000000   \n",
              "unique          NaN         NaN         NaN     2         NaN         NaN   \n",
              "top             NaN         NaN         NaN  male         NaN         NaN   \n",
              "freq            NaN         NaN         NaN   577         NaN         NaN   \n",
              "mean     446.000000    0.383838    2.308642   NaN   29.699118    0.523008   \n",
              "std      257.353842    0.486592    0.836071   NaN   14.526497    1.102743   \n",
              "min        1.000000    0.000000    1.000000   NaN    0.420000    0.000000   \n",
              "25%      223.500000    0.000000    2.000000   NaN   20.125000    0.000000   \n",
              "50%      446.000000    0.000000    3.000000   NaN   28.000000    0.000000   \n",
              "75%      668.500000    1.000000    3.000000   NaN   38.000000    1.000000   \n",
              "max      891.000000    1.000000    3.000000   NaN   80.000000    8.000000   \n",
              "\n",
              "             Parch        Fare Embarked  \n",
              "count   891.000000  891.000000      889  \n",
              "unique         NaN         NaN        3  \n",
              "top            NaN         NaN        S  \n",
              "freq           NaN         NaN      644  \n",
              "mean      0.381594   32.204208      NaN  \n",
              "std       0.806057   49.693429      NaN  \n",
              "min       0.000000    0.000000      NaN  \n",
              "25%       0.000000    7.910400      NaN  \n",
              "50%       0.000000   14.454200      NaN  \n",
              "75%       0.000000   31.000000      NaN  \n",
              "max       6.000000  512.329200      NaN  "
            ],
            "text/html": [
              "\n",
              "  <div id=\"df-440284e0-285e-4554-beb7-71cc46ec9030\">\n",
              "    <div class=\"colab-df-container\">\n",
              "      <div>\n",
              "<style scoped>\n",
              "    .dataframe tbody tr th:only-of-type {\n",
              "        vertical-align: middle;\n",
              "    }\n",
              "\n",
              "    .dataframe tbody tr th {\n",
              "        vertical-align: top;\n",
              "    }\n",
              "\n",
              "    .dataframe thead th {\n",
              "        text-align: right;\n",
              "    }\n",
              "</style>\n",
              "<table border=\"1\" class=\"dataframe\">\n",
              "  <thead>\n",
              "    <tr style=\"text-align: right;\">\n",
              "      <th></th>\n",
              "      <th>PassengerId</th>\n",
              "      <th>Survived</th>\n",
              "      <th>Pclass</th>\n",
              "      <th>Sex</th>\n",
              "      <th>Age</th>\n",
              "      <th>SibSp</th>\n",
              "      <th>Parch</th>\n",
              "      <th>Fare</th>\n",
              "      <th>Embarked</th>\n",
              "    </tr>\n",
              "  </thead>\n",
              "  <tbody>\n",
              "    <tr>\n",
              "      <th>count</th>\n",
              "      <td>891.000000</td>\n",
              "      <td>891.000000</td>\n",
              "      <td>891.000000</td>\n",
              "      <td>891</td>\n",
              "      <td>714.000000</td>\n",
              "      <td>891.000000</td>\n",
              "      <td>891.000000</td>\n",
              "      <td>891.000000</td>\n",
              "      <td>889</td>\n",
              "    </tr>\n",
              "    <tr>\n",
              "      <th>unique</th>\n",
              "      <td>NaN</td>\n",
              "      <td>NaN</td>\n",
              "      <td>NaN</td>\n",
              "      <td>2</td>\n",
              "      <td>NaN</td>\n",
              "      <td>NaN</td>\n",
              "      <td>NaN</td>\n",
              "      <td>NaN</td>\n",
              "      <td>3</td>\n",
              "    </tr>\n",
              "    <tr>\n",
              "      <th>top</th>\n",
              "      <td>NaN</td>\n",
              "      <td>NaN</td>\n",
              "      <td>NaN</td>\n",
              "      <td>male</td>\n",
              "      <td>NaN</td>\n",
              "      <td>NaN</td>\n",
              "      <td>NaN</td>\n",
              "      <td>NaN</td>\n",
              "      <td>S</td>\n",
              "    </tr>\n",
              "    <tr>\n",
              "      <th>freq</th>\n",
              "      <td>NaN</td>\n",
              "      <td>NaN</td>\n",
              "      <td>NaN</td>\n",
              "      <td>577</td>\n",
              "      <td>NaN</td>\n",
              "      <td>NaN</td>\n",
              "      <td>NaN</td>\n",
              "      <td>NaN</td>\n",
              "      <td>644</td>\n",
              "    </tr>\n",
              "    <tr>\n",
              "      <th>mean</th>\n",
              "      <td>446.000000</td>\n",
              "      <td>0.383838</td>\n",
              "      <td>2.308642</td>\n",
              "      <td>NaN</td>\n",
              "      <td>29.699118</td>\n",
              "      <td>0.523008</td>\n",
              "      <td>0.381594</td>\n",
              "      <td>32.204208</td>\n",
              "      <td>NaN</td>\n",
              "    </tr>\n",
              "    <tr>\n",
              "      <th>std</th>\n",
              "      <td>257.353842</td>\n",
              "      <td>0.486592</td>\n",
              "      <td>0.836071</td>\n",
              "      <td>NaN</td>\n",
              "      <td>14.526497</td>\n",
              "      <td>1.102743</td>\n",
              "      <td>0.806057</td>\n",
              "      <td>49.693429</td>\n",
              "      <td>NaN</td>\n",
              "    </tr>\n",
              "    <tr>\n",
              "      <th>min</th>\n",
              "      <td>1.000000</td>\n",
              "      <td>0.000000</td>\n",
              "      <td>1.000000</td>\n",
              "      <td>NaN</td>\n",
              "      <td>0.420000</td>\n",
              "      <td>0.000000</td>\n",
              "      <td>0.000000</td>\n",
              "      <td>0.000000</td>\n",
              "      <td>NaN</td>\n",
              "    </tr>\n",
              "    <tr>\n",
              "      <th>25%</th>\n",
              "      <td>223.500000</td>\n",
              "      <td>0.000000</td>\n",
              "      <td>2.000000</td>\n",
              "      <td>NaN</td>\n",
              "      <td>20.125000</td>\n",
              "      <td>0.000000</td>\n",
              "      <td>0.000000</td>\n",
              "      <td>7.910400</td>\n",
              "      <td>NaN</td>\n",
              "    </tr>\n",
              "    <tr>\n",
              "      <th>50%</th>\n",
              "      <td>446.000000</td>\n",
              "      <td>0.000000</td>\n",
              "      <td>3.000000</td>\n",
              "      <td>NaN</td>\n",
              "      <td>28.000000</td>\n",
              "      <td>0.000000</td>\n",
              "      <td>0.000000</td>\n",
              "      <td>14.454200</td>\n",
              "      <td>NaN</td>\n",
              "    </tr>\n",
              "    <tr>\n",
              "      <th>75%</th>\n",
              "      <td>668.500000</td>\n",
              "      <td>1.000000</td>\n",
              "      <td>3.000000</td>\n",
              "      <td>NaN</td>\n",
              "      <td>38.000000</td>\n",
              "      <td>1.000000</td>\n",
              "      <td>0.000000</td>\n",
              "      <td>31.000000</td>\n",
              "      <td>NaN</td>\n",
              "    </tr>\n",
              "    <tr>\n",
              "      <th>max</th>\n",
              "      <td>891.000000</td>\n",
              "      <td>1.000000</td>\n",
              "      <td>3.000000</td>\n",
              "      <td>NaN</td>\n",
              "      <td>80.000000</td>\n",
              "      <td>8.000000</td>\n",
              "      <td>6.000000</td>\n",
              "      <td>512.329200</td>\n",
              "      <td>NaN</td>\n",
              "    </tr>\n",
              "  </tbody>\n",
              "</table>\n",
              "</div>\n",
              "      <button class=\"colab-df-convert\" onclick=\"convertToInteractive('df-440284e0-285e-4554-beb7-71cc46ec9030')\"\n",
              "              title=\"Convert this dataframe to an interactive table.\"\n",
              "              style=\"display:none;\">\n",
              "        \n",
              "  <svg xmlns=\"http://www.w3.org/2000/svg\" height=\"24px\"viewBox=\"0 0 24 24\"\n",
              "       width=\"24px\">\n",
              "    <path d=\"M0 0h24v24H0V0z\" fill=\"none\"/>\n",
              "    <path d=\"M18.56 5.44l.94 2.06.94-2.06 2.06-.94-2.06-.94-.94-2.06-.94 2.06-2.06.94zm-11 1L8.5 8.5l.94-2.06 2.06-.94-2.06-.94L8.5 2.5l-.94 2.06-2.06.94zm10 10l.94 2.06.94-2.06 2.06-.94-2.06-.94-.94-2.06-.94 2.06-2.06.94z\"/><path d=\"M17.41 7.96l-1.37-1.37c-.4-.4-.92-.59-1.43-.59-.52 0-1.04.2-1.43.59L10.3 9.45l-7.72 7.72c-.78.78-.78 2.05 0 2.83L4 21.41c.39.39.9.59 1.41.59.51 0 1.02-.2 1.41-.59l7.78-7.78 2.81-2.81c.8-.78.8-2.07 0-2.86zM5.41 20L4 18.59l7.72-7.72 1.47 1.35L5.41 20z\"/>\n",
              "  </svg>\n",
              "      </button>\n",
              "      \n",
              "  <style>\n",
              "    .colab-df-container {\n",
              "      display:flex;\n",
              "      flex-wrap:wrap;\n",
              "      gap: 12px;\n",
              "    }\n",
              "\n",
              "    .colab-df-convert {\n",
              "      background-color: #E8F0FE;\n",
              "      border: none;\n",
              "      border-radius: 50%;\n",
              "      cursor: pointer;\n",
              "      display: none;\n",
              "      fill: #1967D2;\n",
              "      height: 32px;\n",
              "      padding: 0 0 0 0;\n",
              "      width: 32px;\n",
              "    }\n",
              "\n",
              "    .colab-df-convert:hover {\n",
              "      background-color: #E2EBFA;\n",
              "      box-shadow: 0px 1px 2px rgba(60, 64, 67, 0.3), 0px 1px 3px 1px rgba(60, 64, 67, 0.15);\n",
              "      fill: #174EA6;\n",
              "    }\n",
              "\n",
              "    [theme=dark] .colab-df-convert {\n",
              "      background-color: #3B4455;\n",
              "      fill: #D2E3FC;\n",
              "    }\n",
              "\n",
              "    [theme=dark] .colab-df-convert:hover {\n",
              "      background-color: #434B5C;\n",
              "      box-shadow: 0px 1px 3px 1px rgba(0, 0, 0, 0.15);\n",
              "      filter: drop-shadow(0px 1px 2px rgba(0, 0, 0, 0.3));\n",
              "      fill: #FFFFFF;\n",
              "    }\n",
              "  </style>\n",
              "\n",
              "      <script>\n",
              "        const buttonEl =\n",
              "          document.querySelector('#df-440284e0-285e-4554-beb7-71cc46ec9030 button.colab-df-convert');\n",
              "        buttonEl.style.display =\n",
              "          google.colab.kernel.accessAllowed ? 'block' : 'none';\n",
              "\n",
              "        async function convertToInteractive(key) {\n",
              "          const element = document.querySelector('#df-440284e0-285e-4554-beb7-71cc46ec9030');\n",
              "          const dataTable =\n",
              "            await google.colab.kernel.invokeFunction('convertToInteractive',\n",
              "                                                     [key], {});\n",
              "          if (!dataTable) return;\n",
              "\n",
              "          const docLinkHtml = 'Like what you see? Visit the ' +\n",
              "            '<a target=\"_blank\" href=https://colab.research.google.com/notebooks/data_table.ipynb>data table notebook</a>'\n",
              "            + ' to learn more about interactive tables.';\n",
              "          element.innerHTML = '';\n",
              "          dataTable['output_type'] = 'display_data';\n",
              "          await google.colab.output.renderOutput(dataTable, element);\n",
              "          const docLink = document.createElement('div');\n",
              "          docLink.innerHTML = docLinkHtml;\n",
              "          element.appendChild(docLink);\n",
              "        }\n",
              "      </script>\n",
              "    </div>\n",
              "  </div>\n",
              "  "
            ]
          },
          "metadata": {},
          "execution_count": 21
        }
      ]
    },
    {
      "cell_type": "code",
      "source": [
        "df_train.Embarked.value_counts()"
      ],
      "metadata": {
        "colab": {
          "base_uri": "https://localhost:8080/"
        },
        "id": "aEXi304pDxXz",
        "outputId": "9a8ac373-628a-46bf-93ca-8ce11dd70608"
      },
      "execution_count": 22,
      "outputs": [
        {
          "output_type": "execute_result",
          "data": {
            "text/plain": [
              "S    644\n",
              "C    168\n",
              "Q     77\n",
              "Name: Embarked, dtype: int64"
            ]
          },
          "metadata": {},
          "execution_count": 22
        }
      ]
    },
    {
      "cell_type": "code",
      "source": [
        "# Inspired from stackoverflow.com/questions/25239958\n",
        "class MostFrequentImputer(BaseEstimator, TransformerMixin):\n",
        "    def fit(self, X, y=None):\n",
        "        self.most_frequent_ = pd.Series([X[c].value_counts().index[0] for c in X],\n",
        "                                        index=X.columns)\n",
        "        return self\n",
        "    def transform(self, X, y=None):\n",
        "        return X.fillna(self.most_frequent_)"
      ],
      "metadata": {
        "id": "h9jDb36nE7bc"
      },
      "execution_count": 23,
      "outputs": []
    },
    {
      "cell_type": "markdown",
      "source": [
        "Equivalent ```python SimpleImputer(strategy='most_frequent') ```"
      ],
      "metadata": {
        "id": "svQApo_5CXS6"
      }
    },
    {
      "cell_type": "code",
      "source": [
        "\n"
      ],
      "metadata": {
        "id": "44uWeHJTFM7n"
      },
      "execution_count": 23,
      "outputs": []
    },
    {
      "cell_type": "code",
      "source": [
        "\n",
        "SimpleImputer(strategy='most_frequent')"
      ],
      "metadata": {
        "colab": {
          "base_uri": "https://localhost:8080/"
        },
        "id": "B6Jev6_UCLd3",
        "outputId": "4db9b344-7a2e-4a39-8918-e59c911ff208"
      },
      "execution_count": 24,
      "outputs": [
        {
          "output_type": "execute_result",
          "data": {
            "text/plain": [
              "SimpleImputer(strategy='most_frequent')"
            ]
          },
          "metadata": {},
          "execution_count": 24
        }
      ]
    },
    {
      "cell_type": "code",
      "source": [
        "\n",
        "cat_colums = [\"Pclass\", \"Sex\", \"Embarked\"]\n",
        "cat_pipeline = Pipeline([\n",
        "        (\"imputer\", MostFrequentImputer()),\n",
        "        (\"cat_encoder\", OneHotEncoder(sparse=False)),\n",
        "    ])\n"
      ],
      "metadata": {
        "id": "3TiADP_vE2o8"
      },
      "execution_count": 25,
      "outputs": []
    },
    {
      "cell_type": "code",
      "source": [
        "num_columns = [\"Age\", \"SibSp\", \"Parch\", \"Fare\"]\n",
        "num_pipeline = Pipeline([\n",
        "        (\"imputer\", SimpleImputer(strategy=\"median\")),\n",
        "        (\"scaler\", MinMaxScaler())\n",
        "    ])"
      ],
      "metadata": {
        "id": "JRpnjGS7FVrd"
      },
      "execution_count": 26,
      "outputs": []
    },
    {
      "cell_type": "code",
      "source": [
        "\n",
        "column_transform = ColumnTransformer([\n",
        "    ('cat',cat_pipeline,cat_colums),\n",
        "    ('num',num_pipeline,num_columns)\n",
        "    ],\n",
        "    remainder='passthrough'\n",
        ")"
      ],
      "metadata": {
        "id": "WUChaMoa1qLy"
      },
      "execution_count": 27,
      "outputs": []
    },
    {
      "cell_type": "code",
      "source": [
        "X = df_train.iloc[:,2:].copy()\n",
        "y = df_train.iloc[:,1].copy()"
      ],
      "metadata": {
        "id": "imp9HjjzG1Wy"
      },
      "execution_count": 28,
      "outputs": []
    },
    {
      "cell_type": "code",
      "source": [
        "X.columns\n"
      ],
      "metadata": {
        "colab": {
          "base_uri": "https://localhost:8080/"
        },
        "id": "Qw9s9jSHG6lk",
        "outputId": "dbf8bc0d-607c-47f2-ac16-37aa71c40bfe"
      },
      "execution_count": 29,
      "outputs": [
        {
          "output_type": "execute_result",
          "data": {
            "text/plain": [
              "Index(['Pclass', 'Sex', 'Age', 'SibSp', 'Parch', 'Fare', 'Embarked'], dtype='object')"
            ]
          },
          "metadata": {},
          "execution_count": 29
        }
      ]
    },
    {
      "cell_type": "code",
      "source": [
        "y"
      ],
      "metadata": {
        "colab": {
          "base_uri": "https://localhost:8080/"
        },
        "id": "GV5AXjXWIQrT",
        "outputId": "bc6592e4-5973-4a20-f481-5e7a60bd2ccc"
      },
      "execution_count": 30,
      "outputs": [
        {
          "output_type": "execute_result",
          "data": {
            "text/plain": [
              "0      0\n",
              "1      1\n",
              "2      1\n",
              "3      1\n",
              "4      0\n",
              "      ..\n",
              "886    0\n",
              "887    1\n",
              "888    0\n",
              "889    1\n",
              "890    0\n",
              "Name: Survived, Length: 891, dtype: int64"
            ]
          },
          "metadata": {},
          "execution_count": 30
        }
      ]
    },
    {
      "cell_type": "code",
      "source": [
        "column_transform.fit_transform(X).shape"
      ],
      "metadata": {
        "colab": {
          "base_uri": "https://localhost:8080/"
        },
        "id": "V609n-IUFqXY",
        "outputId": "dc4f3704-4ed6-4d52-df4f-c85ba6fa9617"
      },
      "execution_count": 31,
      "outputs": [
        {
          "output_type": "execute_result",
          "data": {
            "text/plain": [
              "(891, 12)"
            ]
          },
          "metadata": {},
          "execution_count": 31
        }
      ]
    },
    {
      "cell_type": "code",
      "source": [
        "pipeline = Pipeline(steps=[('preprocessor',column_transform),('classifier',RandomForestClassifier(random_state=42))])\n",
        "params = [{'preprocessor': [column_transform],\n",
        "          'classifier': [GradientBoostingClassifier(random_state=42),RandomForestClassifier(random_state=42),XGBClassifier(random_state=42)],\n",
        "           'preprocessor__num__scaler': ['passthrough',MinMaxScaler(),StandardScaler()]\n",
        "        }]\n",
        "\n",
        "gs = GridSearchCV(pipeline,params , verbose=5, n_jobs=5,scoring='accuracy', cv=5).fit(X, y)"
      ],
      "metadata": {
        "colab": {
          "base_uri": "https://localhost:8080/"
        },
        "id": "vAabB1XyHMkV",
        "outputId": "97acefd0-d065-455b-a551-57cdb8ae732a"
      },
      "execution_count": 32,
      "outputs": [
        {
          "output_type": "stream",
          "name": "stdout",
          "text": [
            "Fitting 5 folds for each of 9 candidates, totalling 45 fits\n"
          ]
        }
      ]
    },
    {
      "cell_type": "code",
      "source": [
        "\n",
        "GridSearchCV(pipeline,params , verbose=5, n_jobs=5,scoring='accuracy', cv=5).get_params()"
      ],
      "metadata": {
        "colab": {
          "base_uri": "https://localhost:8080/"
        },
        "id": "7aJY0DKlCLdm",
        "outputId": "fa8da530-5093-413c-c622-0fce65981383"
      },
      "execution_count": 51,
      "outputs": [
        {
          "output_type": "execute_result",
          "data": {
            "text/plain": [
              "{'cv': 5, 'error_score': nan, 'estimator': Pipeline(steps=[('preprocessor',\n",
              "                  ColumnTransformer(remainder='passthrough',\n",
              "                                    transformers=[('cat',\n",
              "                                                   Pipeline(steps=[('imputer',\n",
              "                                                                    MostFrequentImputer()),\n",
              "                                                                   ('cat_encoder',\n",
              "                                                                    OneHotEncoder(sparse=False))]),\n",
              "                                                   ['Pclass', 'Sex',\n",
              "                                                    'Embarked']),\n",
              "                                                  ('num',\n",
              "                                                   Pipeline(steps=[('imputer',\n",
              "                                                                    SimpleImputer(strategy='median')),\n",
              "                                                                   ('scaler',\n",
              "                                                                    StandardScaler())]),\n",
              "                                                   ['Age', 'SibSp', 'Parch',\n",
              "                                                    'Fare'])])),\n",
              "                 ('classifier', RandomForestClassifier(random_state=42))]), 'estimator__classifier': RandomForestClassifier(random_state=42), 'estimator__classifier__bootstrap': True, 'estimator__classifier__ccp_alpha': 0.0, 'estimator__classifier__class_weight': None, 'estimator__classifier__criterion': 'gini', 'estimator__classifier__max_depth': None, 'estimator__classifier__max_features': 'auto', 'estimator__classifier__max_leaf_nodes': None, 'estimator__classifier__max_samples': None, 'estimator__classifier__min_impurity_decrease': 0.0, 'estimator__classifier__min_samples_leaf': 1, 'estimator__classifier__min_samples_split': 2, 'estimator__classifier__min_weight_fraction_leaf': 0.0, 'estimator__classifier__n_estimators': 100, 'estimator__classifier__n_jobs': None, 'estimator__classifier__oob_score': False, 'estimator__classifier__random_state': 42, 'estimator__classifier__verbose': 0, 'estimator__classifier__warm_start': False, 'estimator__memory': None, 'estimator__preprocessor': ColumnTransformer(remainder='passthrough',\n",
              "                   transformers=[('cat',\n",
              "                                  Pipeline(steps=[('imputer',\n",
              "                                                   MostFrequentImputer()),\n",
              "                                                  ('cat_encoder',\n",
              "                                                   OneHotEncoder(sparse=False))]),\n",
              "                                  ['Pclass', 'Sex', 'Embarked']),\n",
              "                                 ('num',\n",
              "                                  Pipeline(steps=[('imputer',\n",
              "                                                   SimpleImputer(strategy='median')),\n",
              "                                                  ('scaler', StandardScaler())]),\n",
              "                                  ['Age', 'SibSp', 'Parch', 'Fare'])]), 'estimator__preprocessor__cat': Pipeline(steps=[('imputer', MostFrequentImputer()),\n",
              "                 ('cat_encoder', OneHotEncoder(sparse=False))]), 'estimator__preprocessor__cat__cat_encoder': OneHotEncoder(sparse=False), 'estimator__preprocessor__cat__cat_encoder__categories': 'auto', 'estimator__preprocessor__cat__cat_encoder__drop': None, 'estimator__preprocessor__cat__cat_encoder__dtype': numpy.float64, 'estimator__preprocessor__cat__cat_encoder__handle_unknown': 'error', 'estimator__preprocessor__cat__cat_encoder__sparse': False, 'estimator__preprocessor__cat__imputer': MostFrequentImputer(), 'estimator__preprocessor__cat__memory': None, 'estimator__preprocessor__cat__steps': [('imputer',\n",
              "   MostFrequentImputer()),\n",
              "  ('cat_encoder',\n",
              "   OneHotEncoder(sparse=False))], 'estimator__preprocessor__cat__verbose': False, 'estimator__preprocessor__n_jobs': None, 'estimator__preprocessor__num': Pipeline(steps=[('imputer', SimpleImputer(strategy='median')),\n",
              "                 ('scaler', StandardScaler())]), 'estimator__preprocessor__num__imputer': SimpleImputer(strategy='median'), 'estimator__preprocessor__num__imputer__add_indicator': False, 'estimator__preprocessor__num__imputer__copy': True, 'estimator__preprocessor__num__imputer__fill_value': None, 'estimator__preprocessor__num__imputer__missing_values': nan, 'estimator__preprocessor__num__imputer__strategy': 'median', 'estimator__preprocessor__num__imputer__verbose': 0, 'estimator__preprocessor__num__memory': None, 'estimator__preprocessor__num__scaler': StandardScaler(), 'estimator__preprocessor__num__scaler__copy': True, 'estimator__preprocessor__num__scaler__with_mean': True, 'estimator__preprocessor__num__scaler__with_std': True, 'estimator__preprocessor__num__steps': [('imputer',\n",
              "   SimpleImputer(strategy='median')),\n",
              "  ('scaler',\n",
              "   StandardScaler())], 'estimator__preprocessor__num__verbose': False, 'estimator__preprocessor__remainder': 'passthrough', 'estimator__preprocessor__sparse_threshold': 0.3, 'estimator__preprocessor__transformer_weights': None, 'estimator__preprocessor__transformers': [('cat',\n",
              "   Pipeline(steps=[('imputer', MostFrequentImputer()),\n",
              "                   ('cat_encoder', OneHotEncoder(sparse=False))]),\n",
              "   ['Pclass', 'Sex', 'Embarked']),\n",
              "  ('num', Pipeline(steps=[('imputer', SimpleImputer(strategy='median')),\n",
              "                   ('scaler', StandardScaler())]), ['Age',\n",
              "    'SibSp',\n",
              "    'Parch',\n",
              "    'Fare'])], 'estimator__preprocessor__verbose': False, 'estimator__preprocessor__verbose_feature_names_out': True, 'estimator__steps': [('preprocessor',\n",
              "   ColumnTransformer(remainder='passthrough',\n",
              "                     transformers=[('cat',\n",
              "                                    Pipeline(steps=[('imputer',\n",
              "                                                     MostFrequentImputer()),\n",
              "                                                    ('cat_encoder',\n",
              "                                                     OneHotEncoder(sparse=False))]),\n",
              "                                    ['Pclass', 'Sex', 'Embarked']),\n",
              "                                   ('num',\n",
              "                                    Pipeline(steps=[('imputer',\n",
              "                                                     SimpleImputer(strategy='median')),\n",
              "                                                    ('scaler', StandardScaler())]),\n",
              "                                    ['Age', 'SibSp', 'Parch', 'Fare'])])),\n",
              "  ('classifier',\n",
              "   RandomForestClassifier(random_state=42))], 'estimator__verbose': False, 'n_jobs': 5, 'param_grid': [{'classifier': [GradientBoostingClassifier(random_state=42),\n",
              "    RandomForestClassifier(random_state=42),\n",
              "    XGBClassifier(random_state=42)],\n",
              "   'preprocessor': [ColumnTransformer(remainder='passthrough',\n",
              "                      transformers=[('cat',\n",
              "                                     Pipeline(steps=[('imputer',\n",
              "                                                      MostFrequentImputer()),\n",
              "                                                     ('cat_encoder',\n",
              "                                                      OneHotEncoder(sparse=False))]),\n",
              "                                     ['Pclass', 'Sex', 'Embarked']),\n",
              "                                    ('num',\n",
              "                                     Pipeline(steps=[('imputer',\n",
              "                                                      SimpleImputer(strategy='median')),\n",
              "                                                     ('scaler', StandardScaler())]),\n",
              "                                     ['Age', 'SibSp', 'Parch', 'Fare'])])],\n",
              "   'preprocessor__num__scaler': ['passthrough',\n",
              "    MinMaxScaler(),\n",
              "    StandardScaler()]}], 'pre_dispatch': '2*n_jobs', 'refit': True, 'return_train_score': False, 'scoring': 'accuracy', 'verbose': 5}"
            ]
          },
          "metadata": {},
          "execution_count": 51
        }
      ]
    },
    {
      "cell_type": "code",
      "source": [
        "gs.get_params()"
      ],
      "metadata": {
        "colab": {
          "base_uri": "https://localhost:8080/"
        },
        "id": "pQszdMDyz7Th",
        "outputId": "69bf1bc0-82e6-4e70-c6b6-845d01c66b53"
      },
      "execution_count": 33,
      "outputs": [
        {
          "output_type": "execute_result",
          "data": {
            "text/plain": [
              "{'cv': 5, 'error_score': nan, 'estimator': Pipeline(steps=[('preprocessor',\n",
              "                  ColumnTransformer(remainder='passthrough',\n",
              "                                    transformers=[('cat',\n",
              "                                                   Pipeline(steps=[('imputer',\n",
              "                                                                    MostFrequentImputer()),\n",
              "                                                                   ('cat_encoder',\n",
              "                                                                    OneHotEncoder(sparse=False))]),\n",
              "                                                   ['Pclass', 'Sex',\n",
              "                                                    'Embarked']),\n",
              "                                                  ('num',\n",
              "                                                   Pipeline(steps=[('imputer',\n",
              "                                                                    SimpleImputer(strategy='median')),\n",
              "                                                                   ('scaler',\n",
              "                                                                    StandardScaler())]),\n",
              "                                                   ['Age', 'SibSp', 'Parch',\n",
              "                                                    'Fare'])])),\n",
              "                 ('classifier', RandomForestClassifier(random_state=42))]), 'estimator__classifier': RandomForestClassifier(random_state=42), 'estimator__classifier__bootstrap': True, 'estimator__classifier__ccp_alpha': 0.0, 'estimator__classifier__class_weight': None, 'estimator__classifier__criterion': 'gini', 'estimator__classifier__max_depth': None, 'estimator__classifier__max_features': 'auto', 'estimator__classifier__max_leaf_nodes': None, 'estimator__classifier__max_samples': None, 'estimator__classifier__min_impurity_decrease': 0.0, 'estimator__classifier__min_samples_leaf': 1, 'estimator__classifier__min_samples_split': 2, 'estimator__classifier__min_weight_fraction_leaf': 0.0, 'estimator__classifier__n_estimators': 100, 'estimator__classifier__n_jobs': None, 'estimator__classifier__oob_score': False, 'estimator__classifier__random_state': 42, 'estimator__classifier__verbose': 0, 'estimator__classifier__warm_start': False, 'estimator__memory': None, 'estimator__preprocessor': ColumnTransformer(remainder='passthrough',\n",
              "                   transformers=[('cat',\n",
              "                                  Pipeline(steps=[('imputer',\n",
              "                                                   MostFrequentImputer()),\n",
              "                                                  ('cat_encoder',\n",
              "                                                   OneHotEncoder(sparse=False))]),\n",
              "                                  ['Pclass', 'Sex', 'Embarked']),\n",
              "                                 ('num',\n",
              "                                  Pipeline(steps=[('imputer',\n",
              "                                                   SimpleImputer(strategy='median')),\n",
              "                                                  ('scaler', StandardScaler())]),\n",
              "                                  ['Age', 'SibSp', 'Parch', 'Fare'])]), 'estimator__preprocessor__cat': Pipeline(steps=[('imputer', MostFrequentImputer()),\n",
              "                 ('cat_encoder', OneHotEncoder(sparse=False))]), 'estimator__preprocessor__cat__cat_encoder': OneHotEncoder(sparse=False), 'estimator__preprocessor__cat__cat_encoder__categories': 'auto', 'estimator__preprocessor__cat__cat_encoder__drop': None, 'estimator__preprocessor__cat__cat_encoder__dtype': numpy.float64, 'estimator__preprocessor__cat__cat_encoder__handle_unknown': 'error', 'estimator__preprocessor__cat__cat_encoder__sparse': False, 'estimator__preprocessor__cat__imputer': MostFrequentImputer(), 'estimator__preprocessor__cat__memory': None, 'estimator__preprocessor__cat__steps': [('imputer',\n",
              "   MostFrequentImputer()),\n",
              "  ('cat_encoder',\n",
              "   OneHotEncoder(sparse=False))], 'estimator__preprocessor__cat__verbose': False, 'estimator__preprocessor__n_jobs': None, 'estimator__preprocessor__num': Pipeline(steps=[('imputer', SimpleImputer(strategy='median')),\n",
              "                 ('scaler', StandardScaler())]), 'estimator__preprocessor__num__imputer': SimpleImputer(strategy='median'), 'estimator__preprocessor__num__imputer__add_indicator': False, 'estimator__preprocessor__num__imputer__copy': True, 'estimator__preprocessor__num__imputer__fill_value': None, 'estimator__preprocessor__num__imputer__missing_values': nan, 'estimator__preprocessor__num__imputer__strategy': 'median', 'estimator__preprocessor__num__imputer__verbose': 0, 'estimator__preprocessor__num__memory': None, 'estimator__preprocessor__num__scaler': StandardScaler(), 'estimator__preprocessor__num__scaler__copy': True, 'estimator__preprocessor__num__scaler__with_mean': True, 'estimator__preprocessor__num__scaler__with_std': True, 'estimator__preprocessor__num__steps': [('imputer',\n",
              "   SimpleImputer(strategy='median')),\n",
              "  ('scaler',\n",
              "   StandardScaler())], 'estimator__preprocessor__num__verbose': False, 'estimator__preprocessor__remainder': 'passthrough', 'estimator__preprocessor__sparse_threshold': 0.3, 'estimator__preprocessor__transformer_weights': None, 'estimator__preprocessor__transformers': [('cat',\n",
              "   Pipeline(steps=[('imputer', MostFrequentImputer()),\n",
              "                   ('cat_encoder', OneHotEncoder(sparse=False))]),\n",
              "   ['Pclass', 'Sex', 'Embarked']),\n",
              "  ('num', Pipeline(steps=[('imputer', SimpleImputer(strategy='median')),\n",
              "                   ('scaler', StandardScaler())]), ['Age',\n",
              "    'SibSp',\n",
              "    'Parch',\n",
              "    'Fare'])], 'estimator__preprocessor__verbose': False, 'estimator__preprocessor__verbose_feature_names_out': True, 'estimator__steps': [('preprocessor',\n",
              "   ColumnTransformer(remainder='passthrough',\n",
              "                     transformers=[('cat',\n",
              "                                    Pipeline(steps=[('imputer',\n",
              "                                                     MostFrequentImputer()),\n",
              "                                                    ('cat_encoder',\n",
              "                                                     OneHotEncoder(sparse=False))]),\n",
              "                                    ['Pclass', 'Sex', 'Embarked']),\n",
              "                                   ('num',\n",
              "                                    Pipeline(steps=[('imputer',\n",
              "                                                     SimpleImputer(strategy='median')),\n",
              "                                                    ('scaler', StandardScaler())]),\n",
              "                                    ['Age', 'SibSp', 'Parch', 'Fare'])])),\n",
              "  ('classifier',\n",
              "   RandomForestClassifier(random_state=42))], 'estimator__verbose': False, 'n_jobs': 5, 'param_grid': [{'classifier': [GradientBoostingClassifier(random_state=42),\n",
              "    RandomForestClassifier(random_state=42),\n",
              "    XGBClassifier(random_state=42)],\n",
              "   'preprocessor': [ColumnTransformer(remainder='passthrough',\n",
              "                      transformers=[('cat',\n",
              "                                     Pipeline(steps=[('imputer',\n",
              "                                                      MostFrequentImputer()),\n",
              "                                                     ('cat_encoder',\n",
              "                                                      OneHotEncoder(sparse=False))]),\n",
              "                                     ['Pclass', 'Sex', 'Embarked']),\n",
              "                                    ('num',\n",
              "                                     Pipeline(steps=[('imputer',\n",
              "                                                      SimpleImputer(strategy='median')),\n",
              "                                                     ('scaler', StandardScaler())]),\n",
              "                                     ['Age', 'SibSp', 'Parch', 'Fare'])])],\n",
              "   'preprocessor__num__scaler': ['passthrough',\n",
              "    MinMaxScaler(),\n",
              "    StandardScaler()]}], 'pre_dispatch': '2*n_jobs', 'refit': True, 'return_train_score': False, 'scoring': 'accuracy', 'verbose': 5}"
            ]
          },
          "metadata": {},
          "execution_count": 33
        }
      ]
    },
    {
      "cell_type": "code",
      "source": [
        "df_gs = pd.DataFrame(gs.cv_results_)"
      ],
      "metadata": {
        "id": "hUCuM76tIcV1"
      },
      "execution_count": 34,
      "outputs": []
    },
    {
      "cell_type": "code",
      "source": [
        "df_gs.sort_values(by='rank_test_score')"
      ],
      "metadata": {
        "colab": {
          "base_uri": "https://localhost:8080/",
          "height": 552
        },
        "id": "q7iOIehaIxrA",
        "outputId": "856eabc9-9602-4a21-8773-f43ae5d69c95"
      },
      "execution_count": 35,
      "outputs": [
        {
          "output_type": "execute_result",
          "data": {
            "text/plain": [
              "   mean_fit_time  std_fit_time  mean_score_time  std_score_time  \\\n",
              "2       0.764525      0.130158         0.039924        0.015687   \n",
              "0       0.549969      0.021924         0.030204        0.004601   \n",
              "1       0.561742      0.028726         0.032973        0.004950   \n",
              "6       0.319805      0.062938         0.028713        0.004516   \n",
              "7       0.272729      0.030064         0.026640        0.008063   \n",
              "8       0.248668      0.045946         0.026629        0.011533   \n",
              "3       1.327925      0.102426         0.115135        0.032461   \n",
              "4       0.831008      0.039778         0.081208        0.009889   \n",
              "5       0.792638      0.047263         0.078316        0.038210   \n",
              "\n",
              "                              param_classifier  \\\n",
              "2  GradientBoostingClassifier(random_state=42)   \n",
              "0  GradientBoostingClassifier(random_state=42)   \n",
              "1  GradientBoostingClassifier(random_state=42)   \n",
              "6               XGBClassifier(random_state=42)   \n",
              "7               XGBClassifier(random_state=42)   \n",
              "8               XGBClassifier(random_state=42)   \n",
              "3      RandomForestClassifier(random_state=42)   \n",
              "4      RandomForestClassifier(random_state=42)   \n",
              "5      RandomForestClassifier(random_state=42)   \n",
              "\n",
              "                                  param_preprocessor  \\\n",
              "2  ColumnTransformer(remainder='passthrough',\\n  ...   \n",
              "0  ColumnTransformer(remainder='passthrough',\\n  ...   \n",
              "1  ColumnTransformer(remainder='passthrough',\\n  ...   \n",
              "6  ColumnTransformer(remainder='passthrough',\\n  ...   \n",
              "7  ColumnTransformer(remainder='passthrough',\\n  ...   \n",
              "8  ColumnTransformer(remainder='passthrough',\\n  ...   \n",
              "3  ColumnTransformer(remainder='passthrough',\\n  ...   \n",
              "4  ColumnTransformer(remainder='passthrough',\\n  ...   \n",
              "5  ColumnTransformer(remainder='passthrough',\\n  ...   \n",
              "\n",
              "  param_preprocessor__num__scaler  \\\n",
              "2                StandardScaler()   \n",
              "0                     passthrough   \n",
              "1                  MinMaxScaler()   \n",
              "6                     passthrough   \n",
              "7                  MinMaxScaler()   \n",
              "8                StandardScaler()   \n",
              "3                     passthrough   \n",
              "4                  MinMaxScaler()   \n",
              "5                StandardScaler()   \n",
              "\n",
              "                                              params  split0_test_score  \\\n",
              "2  {'classifier': GradientBoostingClassifier(rand...           0.821229   \n",
              "0  {'classifier': GradientBoostingClassifier(rand...           0.815642   \n",
              "1  {'classifier': GradientBoostingClassifier(rand...           0.815642   \n",
              "6  {'classifier': XGBClassifier(random_state=42),...           0.804469   \n",
              "7  {'classifier': XGBClassifier(random_state=42),...           0.804469   \n",
              "8  {'classifier': XGBClassifier(random_state=42),...           0.804469   \n",
              "3  {'classifier': RandomForestClassifier(random_s...           0.793296   \n",
              "4  {'classifier': RandomForestClassifier(random_s...           0.793296   \n",
              "5  {'classifier': RandomForestClassifier(random_s...           0.793296   \n",
              "\n",
              "   split1_test_score  split2_test_score  split3_test_score  split4_test_score  \\\n",
              "2           0.808989           0.853933           0.803371           0.853933   \n",
              "0           0.808989           0.853933           0.803371           0.853933   \n",
              "1           0.808989           0.853933           0.803371           0.853933   \n",
              "6           0.808989           0.814607           0.808989           0.848315   \n",
              "7           0.808989           0.814607           0.808989           0.848315   \n",
              "8           0.808989           0.814607           0.808989           0.848315   \n",
              "3           0.808989           0.848315           0.780899           0.825843   \n",
              "4           0.808989           0.848315           0.780899           0.825843   \n",
              "5           0.808989           0.848315           0.780899           0.825843   \n",
              "\n",
              "   mean_test_score  std_test_score  rank_test_score  \n",
              "2         0.828291        0.021718                1  \n",
              "0         0.827173        0.022192                2  \n",
              "1         0.827173        0.022192                2  \n",
              "6         0.817074        0.015948                4  \n",
              "7         0.817074        0.015948                4  \n",
              "8         0.817074        0.015948                4  \n",
              "3         0.811468        0.023812                7  \n",
              "4         0.811468        0.023812                7  \n",
              "5         0.811468        0.023812                7  "
            ],
            "text/html": [
              "\n",
              "  <div id=\"df-8130d176-a887-406e-85c9-1fd61d37dddb\">\n",
              "    <div class=\"colab-df-container\">\n",
              "      <div>\n",
              "<style scoped>\n",
              "    .dataframe tbody tr th:only-of-type {\n",
              "        vertical-align: middle;\n",
              "    }\n",
              "\n",
              "    .dataframe tbody tr th {\n",
              "        vertical-align: top;\n",
              "    }\n",
              "\n",
              "    .dataframe thead th {\n",
              "        text-align: right;\n",
              "    }\n",
              "</style>\n",
              "<table border=\"1\" class=\"dataframe\">\n",
              "  <thead>\n",
              "    <tr style=\"text-align: right;\">\n",
              "      <th></th>\n",
              "      <th>mean_fit_time</th>\n",
              "      <th>std_fit_time</th>\n",
              "      <th>mean_score_time</th>\n",
              "      <th>std_score_time</th>\n",
              "      <th>param_classifier</th>\n",
              "      <th>param_preprocessor</th>\n",
              "      <th>param_preprocessor__num__scaler</th>\n",
              "      <th>params</th>\n",
              "      <th>split0_test_score</th>\n",
              "      <th>split1_test_score</th>\n",
              "      <th>split2_test_score</th>\n",
              "      <th>split3_test_score</th>\n",
              "      <th>split4_test_score</th>\n",
              "      <th>mean_test_score</th>\n",
              "      <th>std_test_score</th>\n",
              "      <th>rank_test_score</th>\n",
              "    </tr>\n",
              "  </thead>\n",
              "  <tbody>\n",
              "    <tr>\n",
              "      <th>2</th>\n",
              "      <td>0.764525</td>\n",
              "      <td>0.130158</td>\n",
              "      <td>0.039924</td>\n",
              "      <td>0.015687</td>\n",
              "      <td>GradientBoostingClassifier(random_state=42)</td>\n",
              "      <td>ColumnTransformer(remainder='passthrough',\\n  ...</td>\n",
              "      <td>StandardScaler()</td>\n",
              "      <td>{'classifier': GradientBoostingClassifier(rand...</td>\n",
              "      <td>0.821229</td>\n",
              "      <td>0.808989</td>\n",
              "      <td>0.853933</td>\n",
              "      <td>0.803371</td>\n",
              "      <td>0.853933</td>\n",
              "      <td>0.828291</td>\n",
              "      <td>0.021718</td>\n",
              "      <td>1</td>\n",
              "    </tr>\n",
              "    <tr>\n",
              "      <th>0</th>\n",
              "      <td>0.549969</td>\n",
              "      <td>0.021924</td>\n",
              "      <td>0.030204</td>\n",
              "      <td>0.004601</td>\n",
              "      <td>GradientBoostingClassifier(random_state=42)</td>\n",
              "      <td>ColumnTransformer(remainder='passthrough',\\n  ...</td>\n",
              "      <td>passthrough</td>\n",
              "      <td>{'classifier': GradientBoostingClassifier(rand...</td>\n",
              "      <td>0.815642</td>\n",
              "      <td>0.808989</td>\n",
              "      <td>0.853933</td>\n",
              "      <td>0.803371</td>\n",
              "      <td>0.853933</td>\n",
              "      <td>0.827173</td>\n",
              "      <td>0.022192</td>\n",
              "      <td>2</td>\n",
              "    </tr>\n",
              "    <tr>\n",
              "      <th>1</th>\n",
              "      <td>0.561742</td>\n",
              "      <td>0.028726</td>\n",
              "      <td>0.032973</td>\n",
              "      <td>0.004950</td>\n",
              "      <td>GradientBoostingClassifier(random_state=42)</td>\n",
              "      <td>ColumnTransformer(remainder='passthrough',\\n  ...</td>\n",
              "      <td>MinMaxScaler()</td>\n",
              "      <td>{'classifier': GradientBoostingClassifier(rand...</td>\n",
              "      <td>0.815642</td>\n",
              "      <td>0.808989</td>\n",
              "      <td>0.853933</td>\n",
              "      <td>0.803371</td>\n",
              "      <td>0.853933</td>\n",
              "      <td>0.827173</td>\n",
              "      <td>0.022192</td>\n",
              "      <td>2</td>\n",
              "    </tr>\n",
              "    <tr>\n",
              "      <th>6</th>\n",
              "      <td>0.319805</td>\n",
              "      <td>0.062938</td>\n",
              "      <td>0.028713</td>\n",
              "      <td>0.004516</td>\n",
              "      <td>XGBClassifier(random_state=42)</td>\n",
              "      <td>ColumnTransformer(remainder='passthrough',\\n  ...</td>\n",
              "      <td>passthrough</td>\n",
              "      <td>{'classifier': XGBClassifier(random_state=42),...</td>\n",
              "      <td>0.804469</td>\n",
              "      <td>0.808989</td>\n",
              "      <td>0.814607</td>\n",
              "      <td>0.808989</td>\n",
              "      <td>0.848315</td>\n",
              "      <td>0.817074</td>\n",
              "      <td>0.015948</td>\n",
              "      <td>4</td>\n",
              "    </tr>\n",
              "    <tr>\n",
              "      <th>7</th>\n",
              "      <td>0.272729</td>\n",
              "      <td>0.030064</td>\n",
              "      <td>0.026640</td>\n",
              "      <td>0.008063</td>\n",
              "      <td>XGBClassifier(random_state=42)</td>\n",
              "      <td>ColumnTransformer(remainder='passthrough',\\n  ...</td>\n",
              "      <td>MinMaxScaler()</td>\n",
              "      <td>{'classifier': XGBClassifier(random_state=42),...</td>\n",
              "      <td>0.804469</td>\n",
              "      <td>0.808989</td>\n",
              "      <td>0.814607</td>\n",
              "      <td>0.808989</td>\n",
              "      <td>0.848315</td>\n",
              "      <td>0.817074</td>\n",
              "      <td>0.015948</td>\n",
              "      <td>4</td>\n",
              "    </tr>\n",
              "    <tr>\n",
              "      <th>8</th>\n",
              "      <td>0.248668</td>\n",
              "      <td>0.045946</td>\n",
              "      <td>0.026629</td>\n",
              "      <td>0.011533</td>\n",
              "      <td>XGBClassifier(random_state=42)</td>\n",
              "      <td>ColumnTransformer(remainder='passthrough',\\n  ...</td>\n",
              "      <td>StandardScaler()</td>\n",
              "      <td>{'classifier': XGBClassifier(random_state=42),...</td>\n",
              "      <td>0.804469</td>\n",
              "      <td>0.808989</td>\n",
              "      <td>0.814607</td>\n",
              "      <td>0.808989</td>\n",
              "      <td>0.848315</td>\n",
              "      <td>0.817074</td>\n",
              "      <td>0.015948</td>\n",
              "      <td>4</td>\n",
              "    </tr>\n",
              "    <tr>\n",
              "      <th>3</th>\n",
              "      <td>1.327925</td>\n",
              "      <td>0.102426</td>\n",
              "      <td>0.115135</td>\n",
              "      <td>0.032461</td>\n",
              "      <td>RandomForestClassifier(random_state=42)</td>\n",
              "      <td>ColumnTransformer(remainder='passthrough',\\n  ...</td>\n",
              "      <td>passthrough</td>\n",
              "      <td>{'classifier': RandomForestClassifier(random_s...</td>\n",
              "      <td>0.793296</td>\n",
              "      <td>0.808989</td>\n",
              "      <td>0.848315</td>\n",
              "      <td>0.780899</td>\n",
              "      <td>0.825843</td>\n",
              "      <td>0.811468</td>\n",
              "      <td>0.023812</td>\n",
              "      <td>7</td>\n",
              "    </tr>\n",
              "    <tr>\n",
              "      <th>4</th>\n",
              "      <td>0.831008</td>\n",
              "      <td>0.039778</td>\n",
              "      <td>0.081208</td>\n",
              "      <td>0.009889</td>\n",
              "      <td>RandomForestClassifier(random_state=42)</td>\n",
              "      <td>ColumnTransformer(remainder='passthrough',\\n  ...</td>\n",
              "      <td>MinMaxScaler()</td>\n",
              "      <td>{'classifier': RandomForestClassifier(random_s...</td>\n",
              "      <td>0.793296</td>\n",
              "      <td>0.808989</td>\n",
              "      <td>0.848315</td>\n",
              "      <td>0.780899</td>\n",
              "      <td>0.825843</td>\n",
              "      <td>0.811468</td>\n",
              "      <td>0.023812</td>\n",
              "      <td>7</td>\n",
              "    </tr>\n",
              "    <tr>\n",
              "      <th>5</th>\n",
              "      <td>0.792638</td>\n",
              "      <td>0.047263</td>\n",
              "      <td>0.078316</td>\n",
              "      <td>0.038210</td>\n",
              "      <td>RandomForestClassifier(random_state=42)</td>\n",
              "      <td>ColumnTransformer(remainder='passthrough',\\n  ...</td>\n",
              "      <td>StandardScaler()</td>\n",
              "      <td>{'classifier': RandomForestClassifier(random_s...</td>\n",
              "      <td>0.793296</td>\n",
              "      <td>0.808989</td>\n",
              "      <td>0.848315</td>\n",
              "      <td>0.780899</td>\n",
              "      <td>0.825843</td>\n",
              "      <td>0.811468</td>\n",
              "      <td>0.023812</td>\n",
              "      <td>7</td>\n",
              "    </tr>\n",
              "  </tbody>\n",
              "</table>\n",
              "</div>\n",
              "      <button class=\"colab-df-convert\" onclick=\"convertToInteractive('df-8130d176-a887-406e-85c9-1fd61d37dddb')\"\n",
              "              title=\"Convert this dataframe to an interactive table.\"\n",
              "              style=\"display:none;\">\n",
              "        \n",
              "  <svg xmlns=\"http://www.w3.org/2000/svg\" height=\"24px\"viewBox=\"0 0 24 24\"\n",
              "       width=\"24px\">\n",
              "    <path d=\"M0 0h24v24H0V0z\" fill=\"none\"/>\n",
              "    <path d=\"M18.56 5.44l.94 2.06.94-2.06 2.06-.94-2.06-.94-.94-2.06-.94 2.06-2.06.94zm-11 1L8.5 8.5l.94-2.06 2.06-.94-2.06-.94L8.5 2.5l-.94 2.06-2.06.94zm10 10l.94 2.06.94-2.06 2.06-.94-2.06-.94-.94-2.06-.94 2.06-2.06.94z\"/><path d=\"M17.41 7.96l-1.37-1.37c-.4-.4-.92-.59-1.43-.59-.52 0-1.04.2-1.43.59L10.3 9.45l-7.72 7.72c-.78.78-.78 2.05 0 2.83L4 21.41c.39.39.9.59 1.41.59.51 0 1.02-.2 1.41-.59l7.78-7.78 2.81-2.81c.8-.78.8-2.07 0-2.86zM5.41 20L4 18.59l7.72-7.72 1.47 1.35L5.41 20z\"/>\n",
              "  </svg>\n",
              "      </button>\n",
              "      \n",
              "  <style>\n",
              "    .colab-df-container {\n",
              "      display:flex;\n",
              "      flex-wrap:wrap;\n",
              "      gap: 12px;\n",
              "    }\n",
              "\n",
              "    .colab-df-convert {\n",
              "      background-color: #E8F0FE;\n",
              "      border: none;\n",
              "      border-radius: 50%;\n",
              "      cursor: pointer;\n",
              "      display: none;\n",
              "      fill: #1967D2;\n",
              "      height: 32px;\n",
              "      padding: 0 0 0 0;\n",
              "      width: 32px;\n",
              "    }\n",
              "\n",
              "    .colab-df-convert:hover {\n",
              "      background-color: #E2EBFA;\n",
              "      box-shadow: 0px 1px 2px rgba(60, 64, 67, 0.3), 0px 1px 3px 1px rgba(60, 64, 67, 0.15);\n",
              "      fill: #174EA6;\n",
              "    }\n",
              "\n",
              "    [theme=dark] .colab-df-convert {\n",
              "      background-color: #3B4455;\n",
              "      fill: #D2E3FC;\n",
              "    }\n",
              "\n",
              "    [theme=dark] .colab-df-convert:hover {\n",
              "      background-color: #434B5C;\n",
              "      box-shadow: 0px 1px 3px 1px rgba(0, 0, 0, 0.15);\n",
              "      filter: drop-shadow(0px 1px 2px rgba(0, 0, 0, 0.3));\n",
              "      fill: #FFFFFF;\n",
              "    }\n",
              "  </style>\n",
              "\n",
              "      <script>\n",
              "        const buttonEl =\n",
              "          document.querySelector('#df-8130d176-a887-406e-85c9-1fd61d37dddb button.colab-df-convert');\n",
              "        buttonEl.style.display =\n",
              "          google.colab.kernel.accessAllowed ? 'block' : 'none';\n",
              "\n",
              "        async function convertToInteractive(key) {\n",
              "          const element = document.querySelector('#df-8130d176-a887-406e-85c9-1fd61d37dddb');\n",
              "          const dataTable =\n",
              "            await google.colab.kernel.invokeFunction('convertToInteractive',\n",
              "                                                     [key], {});\n",
              "          if (!dataTable) return;\n",
              "\n",
              "          const docLinkHtml = 'Like what you see? Visit the ' +\n",
              "            '<a target=\"_blank\" href=https://colab.research.google.com/notebooks/data_table.ipynb>data table notebook</a>'\n",
              "            + ' to learn more about interactive tables.';\n",
              "          element.innerHTML = '';\n",
              "          dataTable['output_type'] = 'display_data';\n",
              "          await google.colab.output.renderOutput(dataTable, element);\n",
              "          const docLink = document.createElement('div');\n",
              "          docLink.innerHTML = docLinkHtml;\n",
              "          element.appendChild(docLink);\n",
              "        }\n",
              "      </script>\n",
              "    </div>\n",
              "  </div>\n",
              "  "
            ]
          },
          "metadata": {},
          "execution_count": 35
        }
      ]
    },
    {
      "cell_type": "code",
      "source": [
        "best_classifier = gs.best_estimator_ "
      ],
      "metadata": {
        "id": "4R21VcIpySO4"
      },
      "execution_count": 36,
      "outputs": []
    },
    {
      "cell_type": "code",
      "source": [
        "best_classifier.named_steps['preprocessor'].named_transformers_"
      ],
      "metadata": {
        "colab": {
          "base_uri": "https://localhost:8080/"
        },
        "id": "6zrYoyvoyclk",
        "outputId": "02757d4f-3a8a-4cbe-94be-f0bcf1fd7514"
      },
      "execution_count": 37,
      "outputs": [
        {
          "output_type": "execute_result",
          "data": {
            "text/plain": [
              "{'cat': Pipeline(steps=[('imputer', MostFrequentImputer()),\n",
              "                 ('cat_encoder', OneHotEncoder(sparse=False))]),\n",
              " 'num': Pipeline(steps=[('imputer', SimpleImputer(strategy='median')),\n",
              "                 ('scaler', StandardScaler())])}"
            ]
          },
          "metadata": {},
          "execution_count": 37
        }
      ]
    },
    {
      "cell_type": "code",
      "source": [
        "best_classifier"
      ],
      "metadata": {
        "colab": {
          "base_uri": "https://localhost:8080/"
        },
        "id": "laNynlS2y8N5",
        "outputId": "44440d63-7f91-423f-8d88-f0451b2ea15c"
      },
      "execution_count": 38,
      "outputs": [
        {
          "output_type": "execute_result",
          "data": {
            "text/plain": [
              "Pipeline(steps=[('preprocessor',\n",
              "                 ColumnTransformer(remainder='passthrough',\n",
              "                                   transformers=[('cat',\n",
              "                                                  Pipeline(steps=[('imputer',\n",
              "                                                                   MostFrequentImputer()),\n",
              "                                                                  ('cat_encoder',\n",
              "                                                                   OneHotEncoder(sparse=False))]),\n",
              "                                                  ['Pclass', 'Sex',\n",
              "                                                   'Embarked']),\n",
              "                                                 ('num',\n",
              "                                                  Pipeline(steps=[('imputer',\n",
              "                                                                   SimpleImputer(strategy='median')),\n",
              "                                                                  ('scaler',\n",
              "                                                                   StandardScaler())]),\n",
              "                                                  ['Age', 'SibSp', 'Parch',\n",
              "                                                   'Fare'])])),\n",
              "                ('classifier', GradientBoostingClassifier(random_state=42))])"
            ]
          },
          "metadata": {},
          "execution_count": 38
        }
      ]
    },
    {
      "cell_type": "code",
      "source": [
        "best_classifier = gs.best_estimator_ \n",
        "one_hot_columns_trans = list(best_classifier.named_steps['preprocessor'].named_transformers_['cat'][1].get_feature_names_out())\n"
      ],
      "metadata": {
        "id": "Z7HlpEoxLC_g"
      },
      "execution_count": 39,
      "outputs": []
    },
    {
      "cell_type": "code",
      "source": [
        "one_hot_columns_trans + num_columns"
      ],
      "metadata": {
        "colab": {
          "base_uri": "https://localhost:8080/"
        },
        "id": "7o5VXO25yqTz",
        "outputId": "c1acb744-628f-4d21-d0cb-5479934e83a0"
      },
      "execution_count": 40,
      "outputs": [
        {
          "output_type": "execute_result",
          "data": {
            "text/plain": [
              "['Pclass_1',\n",
              " 'Pclass_2',\n",
              " 'Pclass_3',\n",
              " 'Sex_female',\n",
              " 'Sex_male',\n",
              " 'Embarked_C',\n",
              " 'Embarked_Q',\n",
              " 'Embarked_S',\n",
              " 'Age',\n",
              " 'SibSp',\n",
              " 'Parch',\n",
              " 'Fare']"
            ]
          },
          "metadata": {},
          "execution_count": 40
        }
      ]
    },
    {
      "cell_type": "code",
      "source": [
        "feature_importances = gs.best_estimator_['classifier'].feature_importances_\n",
        "feature_importances\n",
        "\n",
        "attributes = one_hot_columns_trans + num_columns\n",
        "\n",
        "\n",
        "feature_importance_map = []\n",
        "for imp, feat in sorted(zip(feature_importances, attributes), reverse=True):\n",
        "    feature_importance_map.append([feat,imp])\n",
        "\n",
        "df_importance = pd.DataFrame(feature_importance_map,columns=['Feature_name','importance'])\n",
        "\n",
        "df_importance = df_importance.sort_values('importance',ascending=False)[:25].copy()\n",
        "\n",
        "plt.figure(figsize=(10,7))\n",
        "ax = sns.barplot(y='Feature_name',x='importance',data=df_importance,color='lightblue')\n",
        "plt.xticks(fontsize=18)\n",
        "plt.yticks(fontsize=18)\n",
        "plt.xlabel('Importance',fontsize=24)\n",
        "plt.ylabel('Features',fontsize=24)\n",
        "plt.show()"
      ],
      "metadata": {
        "colab": {
          "base_uri": "https://localhost:8080/",
          "height": 464
        },
        "id": "6kN_0V17Jwvx",
        "outputId": "973b4645-f040-4664-ed0c-70159fac1e27"
      },
      "execution_count": 41,
      "outputs": [
        {
          "output_type": "display_data",
          "data": {
            "text/plain": [
              "<Figure size 720x504 with 1 Axes>"
            ],
            "image/png": "[encoded data removed]"
          },
          "metadata": {
            "needs_background": "light"
          }
        }
      ]
    },
    {
      "cell_type": "code",
      "source": [
        "gs.best_estimator_"
      ],
      "metadata": {
        "colab": {
          "base_uri": "https://localhost:8080/"
        },
        "id": "sIDh8lLIYGJ2",
        "outputId": "585f7221-8bba-420e-a92d-aa18000ae516"
      },
      "execution_count": 50,
      "outputs": [
        {
          "output_type": "execute_result",
          "data": {
            "text/plain": [
              "Pipeline(steps=[('preprocessor',\n",
              "                 ColumnTransformer(remainder='passthrough',\n",
              "                                   transformers=[('cat',\n",
              "                                                  Pipeline(steps=[('imputer',\n",
              "                                                                   MostFrequentImputer()),\n",
              "                                                                  ('cat_encoder',\n",
              "                                                                   OneHotEncoder(sparse=False))]),\n",
              "                                                  ['Pclass', 'Sex',\n",
              "                                                   'Embarked']),\n",
              "                                                 ('num',\n",
              "                                                  Pipeline(steps=[('imputer',\n",
              "                                                                   SimpleImputer(strategy='median')),\n",
              "                                                                  ('scaler',\n",
              "                                                                   StandardScaler())]),\n",
              "                                                  ['Age', 'SibSp', 'Parch',\n",
              "                                                   'Fare'])])),\n",
              "                ('classifier', GradientBoostingClassifier(random_state=42))])"
            ]
          },
          "metadata": {},
          "execution_count": 50
        }
      ]
    },
    {
      "cell_type": "code",
      "source": [
        "predictions = gs.best_estimator_.predict(X)"
      ],
      "metadata": {
        "id": "l-gcWNIe0bS2"
      },
      "execution_count": 44,
      "outputs": []
    },
    {
      "cell_type": "code",
      "source": [
        "\n",
        "df_train['predictions'] = predictions"
      ],
      "metadata": {
        "id": "b2_lY6FHUhRA"
      },
      "execution_count": 46,
      "outputs": []
    },
    {
      "cell_type": "code",
      "source": [
        "accuracy_score(df_train['Survived'],df_train['predictions'])"
      ],
      "metadata": {
        "colab": {
          "base_uri": "https://localhost:8080/"
        },
        "id": "SPLQNq2OUnAb",
        "outputId": "580a4eb7-8089-48ef-fbd9-02fac8561559"
      },
      "execution_count": 47,
      "outputs": [
        {
          "output_type": "execute_result",
          "data": {
            "text/plain": [
              "0.9034792368125701"
            ]
          },
          "metadata": {},
          "execution_count": 47
        }
      ]
    }
  ]
}