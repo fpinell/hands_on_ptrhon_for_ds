{
  "nbformat": 4,
  "nbformat_minor": 0,
  "metadata": {
    "colab": {
      "name": "Lecture_4_Deep_Learning",
      "provenance": [],
      "collapsed_sections": [
        "ELbqlV_DC9Jw"
      ],
      "include_colab_link": true
    },
    "kernelspec": {
      "name": "python3",
      "display_name": "Python 3"
    },
    "language_info": {
      "name": "python"
    },
    "gpuClass": "standard"
  },
  "cells": [
    {
      "cell_type": "markdown",
      "metadata": {
        "id": "view-in-github",
        "colab_type": "text"
      },
      "source": [
        "<a href=\"https://colab.research.google.com/github/fpinell/hands_on_python_for_ds/blob/main/notebooks/phd/Lecture_4_Deep_Learning.ipynb\" target=\"_parent\"><img src=\"https://colab.research.google.com/assets/colab-badge.svg\" alt=\"Open In Colab\"/></a>"
      ]
    },
    {
      "cell_type": "code",
      "source": [
        "!pip install -U torch==1.8.0 torchtext==0.9.0"
      ],
      "metadata": {
        "colab": {
          "base_uri": "https://localhost:8080/"
        },
        "id": "O9Tr0dOiijOI",
        "outputId": "08289f72-5803-4c24-c40a-3d850bd392f6"
      },
      "execution_count": null,
      "outputs": [
        {
          "output_type": "stream",
          "name": "stdout",
          "text": [
            "Looking in indexes: https://pypi.org/simple, https://us-python.pkg.dev/colab-wheels/public/simple/\n",
            "Collecting torch==1.8.0\n",
            "  Downloading torch-1.8.0-cp37-cp37m-manylinux1_x86_64.whl (735.5 MB)\n",
            "\u001b[K     |████████████████████████████████| 735.5 MB 12 kB/s \n",
            "\u001b[?25hCollecting torchtext==0.9.0\n",
            "  Downloading torchtext-0.9.0-cp37-cp37m-manylinux1_x86_64.whl (7.1 MB)\n",
            "\u001b[K     |████████████████████████████████| 7.1 MB 20.8 MB/s \n",
            "\u001b[?25hRequirement already satisfied: numpy in /usr/local/lib/python3.7/dist-packages (from torch==1.8.0) (1.21.6)\n",
            "Requirement already satisfied: typing-extensions in /usr/local/lib/python3.7/dist-packages (from torch==1.8.0) (4.1.1)\n",
            "Requirement already satisfied: tqdm in /usr/local/lib/python3.7/dist-packages (from torchtext==0.9.0) (4.64.0)\n",
            "Requirement already satisfied: requests in /usr/local/lib/python3.7/dist-packages (from torchtext==0.9.0) (2.23.0)\n",
            "Requirement already satisfied: idna<3,>=2.5 in /usr/local/lib/python3.7/dist-packages (from requests->torchtext==0.9.0) (2.10)\n",
            "Requirement already satisfied: chardet<4,>=3.0.2 in /usr/local/lib/python3.7/dist-packages (from requests->torchtext==0.9.0) (3.0.4)\n",
            "Requirement already satisfied: certifi>=2017.4.17 in /usr/local/lib/python3.7/dist-packages (from requests->torchtext==0.9.0) (2022.6.15)\n",
            "Requirement already satisfied: urllib3!=1.25.0,!=1.25.1,<1.26,>=1.21.1 in /usr/local/lib/python3.7/dist-packages (from requests->torchtext==0.9.0) (1.24.3)\n",
            "Installing collected packages: torch, torchtext\n",
            "  Attempting uninstall: torch\n",
            "    Found existing installation: torch 1.11.0+cu113\n",
            "    Uninstalling torch-1.11.0+cu113:\n",
            "      Successfully uninstalled torch-1.11.0+cu113\n",
            "  Attempting uninstall: torchtext\n",
            "    Found existing installation: torchtext 0.12.0\n",
            "    Uninstalling torchtext-0.12.0:\n",
            "      Successfully uninstalled torchtext-0.12.0\n",
            "\u001b[31mERROR: pip's dependency resolver does not currently take into account all the packages that are installed. This behaviour is the source of the following dependency conflicts.\n",
            "torchvision 0.12.0+cu113 requires torch==1.11.0, but you have torch 1.8.0 which is incompatible.\n",
            "torchaudio 0.11.0+cu113 requires torch==1.11.0, but you have torch 1.8.0 which is incompatible.\u001b[0m\n",
            "Successfully installed torch-1.8.0 torchtext-0.9.0\n"
          ]
        }
      ]
    },
    {
      "cell_type": "markdown",
      "metadata": {
        "id": "ELbqlV_DC9Jw"
      },
      "source": [
        "# Hands on Python for Data Science\n",
        "\n",
        "\n",
        "### PhD IMT School for Advanced Studies Lucca 2021-2022\n",
        "\n",
        "#### Fabio Pinelli\n",
        "<a href=\"mailto:fabio.pinelli@imtlucca.it\">fabio.pinelli@imtlucca.it</a><br/>\n",
        "IMT School for Advanced Studies Lucca<br/>\n",
        "2021/2022<br/>\n",
        "July, 5 2022"
      ]
    },
    {
      "cell_type": "markdown",
      "metadata": {
        "id": "HUepE3bODBa2"
      },
      "source": [
        "# Outline\n",
        "\n",
        "- Pytorch\n",
        "- Neural Network (fully connected)\n",
        "  - Classification\n",
        "  - Learning rate\n",
        "  - Regression on tabular data\n",
        "  - Classification on tabular data with embeddings\n",
        "- CNN\n",
        "- RNN\n",
        "\n"
      ]
    },
    {
      "cell_type": "markdown",
      "metadata": {
        "id": "tPNVyHGcD3mW"
      },
      "source": [
        "# Pytorch \n",
        "\n",
        "## Why ```pytorch```?\n",
        "\n",
        "1. Because I've already done something in PyTorch\n",
        "2. It is widely used now in the research environment \n",
        "3. It is more _pythonic_ the way it is implemented, thus the learning curve can be smoother than with other platform\n",
        "  - use\n",
        "  - extend\n",
        "  - debug\n",
        "4. Tensors are really similar to numpy arrays \n",
        "5. (not in our goals) It can be used for scientific computation as well, not only for _Deep Learning_ tasks\n",
        "\n"
      ]
    },
    {
      "cell_type": "code",
      "metadata": {
        "id": "S6cfGklpSyst"
      },
      "source": [
        "# Python ≥3.5 is required\n",
        "import sys\n",
        "assert sys.version_info >= (3, 5)\n",
        "\n",
        "# Scikit-Learn ≥0.20 is required\n",
        "import sklearn\n",
        "assert sklearn.__version__ >= \"0.20\"\n",
        "\n",
        "# Common imports\n",
        "import numpy as np\n",
        "import pandas as pd\n",
        "import seaborn as sns\n",
        "import os\n",
        "\n",
        "# to make this notebook's output stable across runs\n",
        "np.random.seed(42)\n",
        "\n",
        "#import for pytorch\n",
        "import torch\n",
        "import torch.nn as nn\n",
        "import torch.optim as optim\n",
        "import torch.utils.data\n",
        "import torch.nn.functional as F\n",
        "# import torchvision\n",
        "# from torchvision import transforms\n",
        "from PIL import Image, ImageFile\n",
        "\n",
        "\n",
        "\n",
        "# To plot pretty figures\n",
        "%matplotlib inline\n",
        "import matplotlib as mpl\n",
        "import matplotlib.pyplot as plt\n",
        "mpl.rc('axes', labelsize=14)\n",
        "mpl.rc('xtick', labelsize=12)\n",
        "mpl.rc('ytick', labelsize=12)\n",
        "\n",
        "# Where to save the figures\n",
        "PROJECT_ROOT_DIR = \".\"\n",
        "CHAPTER_ID = \"svm\"\n",
        "IMAGES_PATH = os.path.join(PROJECT_ROOT_DIR, \"images\", CHAPTER_ID)\n",
        "os.makedirs(IMAGES_PATH, exist_ok=True)\n",
        "\n",
        "def save_fig(fig_id, tight_layout=True, fig_extension=\"png\", resolution=300):\n",
        "    path = os.path.join(IMAGES_PATH, fig_id + \".\" + fig_extension)\n",
        "    print(\"Saving figure\", fig_id)\n",
        "    if tight_layout:\n",
        "        plt.tight_layout()\n",
        "    plt.savefig(path, format=fig_extension, dpi=resolution)"
      ],
      "execution_count": null,
      "outputs": []
    },
    {
      "cell_type": "code",
      "metadata": {
        "colab": {
          "base_uri": "https://localhost:8080/"
        },
        "id": "lipDnPDxEQ_R",
        "outputId": "23d49d94-8c48-4646-ebbc-cbb32d6d5dd7"
      },
      "source": [
        "# pytorch is available naturally on colab\n",
        "# we can also use a gpu\n",
        "# Go to Menu > Runtime > Change runtime.\n",
        "\n",
        "\n",
        "import torch\n",
        "# GPU available check \n",
        "print('GPU available check {}'.format(torch.cuda.is_available()))\n",
        "print(torch.rand(2,2))"
      ],
      "execution_count": null,
      "outputs": [
        {
          "output_type": "stream",
          "name": "stdout",
          "text": [
            "GPU available check False\n",
            "tensor([[0.0794, 0.5041],\n",
            "        [0.1459, 0.2920]])\n"
          ]
        }
      ]
    },
    {
      "cell_type": "markdown",
      "metadata": {
        "id": "vk7_93nOEAQ8"
      },
      "source": [
        "## Tensors \n",
        "\n",
        "- A tensor is both a container for **numbers** and for a set of rules that define transformations between tensors producing a new tensor\n",
        "\n",
        "- **Essentially?** A multidimensional array\n",
        "- Every tensor has a rank\n",
        "  - scalar --> rank 0 \n",
        "  - array --> rank 1\n",
        "  - $n \\times n$ matrix --> rank 2\n",
        "\n",
        "```python torch.rand(2,2)``` creates a rank 2 tensor with random values by using ```python torch.rand()``` \n",
        "\n"
      ]
    },
    {
      "cell_type": "markdown",
      "metadata": {
        "id": "fO6e1lw4GfBT"
      },
      "source": [
        "### Operations with tensors"
      ]
    },
    {
      "cell_type": "code",
      "metadata": {
        "colab": {
          "base_uri": "https://localhost:8080/"
        },
        "id": "a_ATkkKhEX7D",
        "outputId": "89387f38-d5cb-42d4-cbee-065a52e6c2d1"
      },
      "source": [
        "# we can create a tensor from lists\n",
        "x = torch.tensor([[0,0,1],[1,1,1],[0,0,0]])\n",
        "print(x)"
      ],
      "execution_count": null,
      "outputs": [
        {
          "output_type": "stream",
          "name": "stdout",
          "text": [
            "tensor([[0, 0, 1],\n",
            "        [1, 1, 1],\n",
            "        [0, 0, 0]])\n"
          ]
        }
      ]
    },
    {
      "cell_type": "code",
      "metadata": {
        "colab": {
          "base_uri": "https://localhost:8080/"
        },
        "id": "Ac60DL6_HTLp",
        "outputId": "b1681bb9-ac52-4e65-e50e-0a5b22e9c488"
      },
      "source": [
        "# we can change an element in a tensor by using standard Python indexing\n",
        "\n",
        "x[0][0] = 5\n",
        "print(x) "
      ],
      "execution_count": null,
      "outputs": [
        {
          "output_type": "stream",
          "name": "stdout",
          "text": [
            "tensor([[5, 0, 1],\n",
            "        [1, 1, 1],\n",
            "        [0, 0, 0]])\n"
          ]
        }
      ]
    },
    {
      "cell_type": "markdown",
      "metadata": {
        "id": "lv8CgLeuHEmK"
      },
      "source": [
        "We can use special creation functions to generate particular types of tensors\n",
        "\n",
        "- ```ones()``` generates tensors filled with 1s\n",
        "- ```zeros()```  generates tensors filled with 1s"
      ]
    },
    {
      "cell_type": "code",
      "metadata": {
        "colab": {
          "base_uri": "https://localhost:8080/"
        },
        "id": "0f5_LPTHHTlS",
        "outputId": "cad6d51c-7d33-45d3-86d6-2c099c6be7d5"
      },
      "source": [
        "a = torch.zeros(2,2)\n",
        "b = torch.ones(2,2)\n",
        "print('First tensor\\n {}'.format(a))\n",
        "print('Second tensor\\n {}'.format(b))"
      ],
      "execution_count": null,
      "outputs": [
        {
          "output_type": "stream",
          "name": "stdout",
          "text": [
            "First tensor\n",
            " tensor([[0., 0.],\n",
            "        [0., 0.]])\n",
            "Second tensor\n",
            " tensor([[1., 1.],\n",
            "        [1., 1.]])\n"
          ]
        }
      ]
    },
    {
      "cell_type": "markdown",
      "metadata": {
        "id": "0hxpcKjhIo9W"
      },
      "source": [
        "We can perform standard mathematical operations with tensors, e.g. addind two tensors together. \n",
        "\n"
      ]
    },
    {
      "cell_type": "code",
      "metadata": {
        "colab": {
          "base_uri": "https://localhost:8080/"
        },
        "id": "E-p3-HtoHUFm",
        "outputId": "c60a0439-068c-456c-c534-0d4881372790"
      },
      "source": [
        "a = torch.tensor([[1,2],[2,3]])\n",
        "b = torch.tensor([[1,1],[1,1]])\n",
        "print('Check the sum\\n {}'.format(a+b))"
      ],
      "execution_count": null,
      "outputs": [
        {
          "output_type": "stream",
          "name": "stdout",
          "text": [
            "Check the sum\n",
            " tensor([[2, 3],\n",
            "        [3, 4]])\n"
          ]
        }
      ]
    },
    {
      "cell_type": "markdown",
      "metadata": {
        "id": "-8BxnmGmJIJg"
      },
      "source": [
        "And if you have a tensor of rank 0, you can access out the value with the ```item()``` function"
      ]
    },
    {
      "cell_type": "code",
      "metadata": {
        "colab": {
          "base_uri": "https://localhost:8080/"
        },
        "id": "ixzmV8dxHUDH",
        "outputId": "2341e660-e727-4157-89d1-aee68e3ba449"
      },
      "source": [
        "print('Value of the 1D tensor: {}'.format(torch.rand(1).item()))"
      ],
      "execution_count": null,
      "outputs": [
        {
          "output_type": "stream",
          "name": "stdout",
          "text": [
            "Value of the 1D tensor: 0.33600521087646484\n"
          ]
        }
      ]
    },
    {
      "cell_type": "markdown",
      "metadata": {
        "id": "ahJdiHnZJfiv"
      },
      "source": [
        "Tensors can live in the **CPU** or on the **GPU** and they can be copied between devices by usint the ```to()``` function:"
      ]
    },
    {
      "cell_type": "code",
      "metadata": {
        "colab": {
          "base_uri": "https://localhost:8080/"
        },
        "id": "xfNPJA5JHT_6",
        "outputId": "2d49fa32-303d-464c-f922-d653b1ce280b"
      },
      "source": [
        "cpu_tensor = torch.rand(2)\n",
        "print('In which device is the tensor? {}'.format(cpu_tensor.device))"
      ],
      "execution_count": null,
      "outputs": [
        {
          "output_type": "stream",
          "name": "stdout",
          "text": [
            "In which device is the tensor? cpu\n"
          ]
        }
      ]
    },
    {
      "cell_type": "code",
      "metadata": {
        "id": "TjX6p_2eHT9T",
        "colab": {
          "base_uri": "https://localhost:8080/",
          "height": 305
        },
        "outputId": "e7336280-e167-4c2e-8a24-9c7442a1eea8"
      },
      "source": [
        "gpu_tensor = cpu_tensor.to('cuda')\n",
        "print('In which device is the tensor? {}'.format(gpu_tensor.device))"
      ],
      "execution_count": null,
      "outputs": [
        {
          "output_type": "error",
          "ename": "RuntimeError",
          "evalue": "ignored",
          "traceback": [
            "\u001b[0;31m---------------------------------------------------------------------------\u001b[0m",
            "\u001b[0;31mRuntimeError\u001b[0m                              Traceback (most recent call last)",
            "\u001b[0;32m<ipython-input-9-e34d8f63d306>\u001b[0m in \u001b[0;36m<module>\u001b[0;34m()\u001b[0m\n\u001b[0;32m----> 1\u001b[0;31m \u001b[0mgpu_tensor\u001b[0m \u001b[0;34m=\u001b[0m \u001b[0mcpu_tensor\u001b[0m\u001b[0;34m.\u001b[0m\u001b[0mto\u001b[0m\u001b[0;34m(\u001b[0m\u001b[0;34m'cuda'\u001b[0m\u001b[0;34m)\u001b[0m\u001b[0;34m\u001b[0m\u001b[0;34m\u001b[0m\u001b[0m\n\u001b[0m\u001b[1;32m      2\u001b[0m \u001b[0mprint\u001b[0m\u001b[0;34m(\u001b[0m\u001b[0;34m'In which device is the tensor? {}'\u001b[0m\u001b[0;34m.\u001b[0m\u001b[0mformat\u001b[0m\u001b[0;34m(\u001b[0m\u001b[0mgpu_tensor\u001b[0m\u001b[0;34m.\u001b[0m\u001b[0mdevice\u001b[0m\u001b[0;34m)\u001b[0m\u001b[0;34m)\u001b[0m\u001b[0;34m\u001b[0m\u001b[0;34m\u001b[0m\u001b[0m\n",
            "\u001b[0;32m/usr/local/lib/python3.7/dist-packages/torch/cuda/__init__.py\u001b[0m in \u001b[0;36m_lazy_init\u001b[0;34m()\u001b[0m\n\u001b[1;32m    214\u001b[0m         \u001b[0;31m# This function throws if there's a driver initialization error, no GPUs\u001b[0m\u001b[0;34m\u001b[0m\u001b[0;34m\u001b[0m\u001b[0;34m\u001b[0m\u001b[0m\n\u001b[1;32m    215\u001b[0m         \u001b[0;31m# are found or any other error occurs\u001b[0m\u001b[0;34m\u001b[0m\u001b[0;34m\u001b[0m\u001b[0;34m\u001b[0m\u001b[0m\n\u001b[0;32m--> 216\u001b[0;31m         \u001b[0mtorch\u001b[0m\u001b[0;34m.\u001b[0m\u001b[0m_C\u001b[0m\u001b[0;34m.\u001b[0m\u001b[0m_cuda_init\u001b[0m\u001b[0;34m(\u001b[0m\u001b[0;34m)\u001b[0m\u001b[0;34m\u001b[0m\u001b[0;34m\u001b[0m\u001b[0m\n\u001b[0m\u001b[1;32m    217\u001b[0m         \u001b[0;31m# Some of the queued calls may reentrantly call _lazy_init();\u001b[0m\u001b[0;34m\u001b[0m\u001b[0;34m\u001b[0m\u001b[0;34m\u001b[0m\u001b[0m\n\u001b[1;32m    218\u001b[0m         \u001b[0;31m# we need to just return without initializing in that case.\u001b[0m\u001b[0;34m\u001b[0m\u001b[0;34m\u001b[0m\u001b[0;34m\u001b[0m\u001b[0m\n",
            "\u001b[0;31mRuntimeError\u001b[0m: No CUDA GPUs are available"
          ]
        }
      ]
    },
    {
      "cell_type": "markdown",
      "metadata": {
        "id": "MPqjyhEuOl_z"
      },
      "source": [
        "Quite often we need to find the maximum item in a tensor, as well as the index that contains the maximum value (it may correspond to the class that the neural network has decided upon its final prediction). \n",
        "\n",
        "```max()``` and ```argmax()``` are the needed functions, then we can use ```item()``` to get the _standard_ Python value from a 1D tensor. "
      ]
    },
    {
      "cell_type": "code",
      "metadata": {
        "colab": {
          "base_uri": "https://localhost:8080/"
        },
        "id": "L2UWg4dyHT6f",
        "outputId": "e28fca98-ff85-4a18-fe33-5064ed08fe86"
      },
      "source": [
        "a = torch.rand(2,2)\n",
        "print(a)\n",
        "\n",
        "print('Which is the max value? {}'.format(a.max()))\n",
        "print('Which is the index of the max value: {}'.format(a.argmax()))\n",
        "print('Get the values\\n -max: {}\\n -index: {}'.format(a.max().item(),a.argmax().item()))"
      ],
      "execution_count": null,
      "outputs": [
        {
          "output_type": "stream",
          "name": "stdout",
          "text": [
            "tensor([[0.2148, 0.4776],\n",
            "        [0.6000, 0.3537]])\n",
            "Which is the max value? 0.6000468730926514\n",
            "Which is the index of the max value: 2\n",
            "Get the values\n",
            " -max: 0.6000468730926514\n",
            " -index: 2\n"
          ]
        }
      ]
    },
    {
      "cell_type": "markdown",
      "metadata": {
        "id": "37kPmJMVP9YA"
      },
      "source": [
        "Sometimes we need to change the type of a tensor"
      ]
    },
    {
      "cell_type": "code",
      "metadata": {
        "colab": {
          "base_uri": "https://localhost:8080/"
        },
        "id": "yCWfYW_zHT12",
        "outputId": "1ed3fb75-2b2d-4993-d4a1-570d44322e9b"
      },
      "source": [
        "long_tensor = torch.tensor([[0,0,1],[1,1,1],[0,0,0]])\n",
        "print('which is the type of long tensor? {}'.format(long_tensor.type()))"
      ],
      "execution_count": null,
      "outputs": [
        {
          "output_type": "stream",
          "name": "stdout",
          "text": [
            "which is the type of long tensor? torch.LongTensor\n"
          ]
        }
      ]
    },
    {
      "cell_type": "code",
      "metadata": {
        "colab": {
          "base_uri": "https://localhost:8080/"
        },
        "id": "RZebCnecHTtG",
        "outputId": "209256ea-34c5-4f80-e354-55f1181bbe85"
      },
      "source": [
        "float_tensor = long_tensor.to(dtype=torch.float32)\n",
        "float_tensor_2 = long_tensor.type(torch.float64) #second method to change type\n",
        "print('which is the type of long tensor? {}'.format(float_tensor.type()))\n",
        "print('which is the type of long tensor? {}'.format(float_tensor_2.type()))"
      ],
      "execution_count": null,
      "outputs": [
        {
          "output_type": "stream",
          "name": "stdout",
          "text": [
            "which is the type of long tensor? torch.FloatTensor\n",
            "which is the type of long tensor? torch.DoubleTensor\n"
          ]
        }
      ]
    },
    {
      "cell_type": "markdown",
      "metadata": {
        "id": "duAx1tzzRLCG"
      },
      "source": [
        "If you remember in ```pandas``` we could perform operations of dataframes using the parameter ```in_place = True```. \n",
        "\n",
        "We could perform something similar on tensors. \n",
        "\n",
        "Functions can be applied _inplace_ if exists the original fuction with appended underscore '_'. \n",
        "\n",
        "Let see an example:"
      ]
    },
    {
      "cell_type": "code",
      "metadata": {
        "colab": {
          "base_uri": "https://localhost:8080/"
        },
        "id": "gN1Oiy_oRyql",
        "outputId": "6b0e13aa-954a-472d-cd46-13f7f423ad19"
      },
      "source": [
        "random_tensor = torch.rand(2,2)\n",
        "new_random = random_tensor.log2()\n",
        "print(random_tensor)\n",
        "print(new_random)"
      ],
      "execution_count": null,
      "outputs": [
        {
          "output_type": "stream",
          "name": "stdout",
          "text": [
            "tensor([[0.9137, 0.3767],\n",
            "        [0.2699, 0.8809]])\n",
            "tensor([[-0.1302, -1.4086],\n",
            "        [-1.8896, -0.1830]])\n"
          ]
        }
      ]
    },
    {
      "cell_type": "code",
      "metadata": {
        "colab": {
          "base_uri": "https://localhost:8080/"
        },
        "id": "k3VWT0Q5Rynu",
        "outputId": "8e79772d-b6b3-4b7f-c8d0-990dd459074b"
      },
      "source": [
        "print(random_tensor.log2_())"
      ],
      "execution_count": null,
      "outputs": [
        {
          "output_type": "stream",
          "name": "stdout",
          "text": [
            "tensor([[-0.1302, -1.4086],\n",
            "        [-1.8896, -0.1830]])\n"
          ]
        }
      ]
    },
    {
      "cell_type": "markdown",
      "metadata": {
        "id": "UN9lCeqrTNCP"
      },
      "source": [
        "Some nice manipulation that can be done with tensors\n",
        "- reshape / view\n",
        "- column permutation\n",
        "- slice a tensor\n",
        "\n",
        "Let's try with a simple random tensor, and with the ```MINST``` dataset that is represented in numpy arrays of 784 elements"
      ]
    },
    {
      "cell_type": "code",
      "metadata": {
        "colab": {
          "base_uri": "https://localhost:8080/"
        },
        "id": "MGnJ3F8HXAg-",
        "outputId": "7d89d284-6b9e-4c72-a6ad-c54f5e3328e5"
      },
      "source": [
        "'''\n",
        "reshape() function. It is really similar to numpy reshape function. There are a\n",
        "lot of similarities between tensors and numpy operations/functions\n",
        "'''\n",
        "\n",
        "flat_tensor = torch.rand(784)\n",
        "reshaped_tensor = flat_tensor.reshape(1,28,28) #1 is the number of channels\n",
        "print('Flat tensor shape {}'.format(flat_tensor.shape))\n",
        "print('Flat tensor shape {}'.format(reshaped_tensor.shape))\n",
        "\n",
        "'''\n",
        "view() function. Same behaviour of reshape, the main difference is that the view \n",
        "changes if the original one is changed\n",
        "'''\n",
        "flat_tensor = torch.rand(784)\n",
        "reshaped_tensor = flat_tensor.view(1,28,28) #1 is the number of channels\n",
        "print('Flat tensor shape {}'.format(flat_tensor.shape))\n",
        "print('Flat tensor shape {}'.format(reshaped_tensor.shape))\n",
        "\n",
        "\n",
        "\n"
      ],
      "execution_count": null,
      "outputs": [
        {
          "output_type": "stream",
          "name": "stdout",
          "text": [
            "Flat tensor shape torch.Size([784])\n",
            "Flat tensor shape torch.Size([1, 28, 28])\n",
            "Flat tensor shape torch.Size([784])\n",
            "Flat tensor shape torch.Size([1, 28, 28])\n"
          ]
        }
      ]
    },
    {
      "cell_type": "code",
      "source": [
        "'''\n",
        "The reshaped tensor can't have a number of elements different than the original one\n",
        "'''\n",
        "flat_tensor = torch.rand(784)\n",
        "reshaped_tensor = flat_tensor.view(3,28,28)"
      ],
      "metadata": {
        "id": "bIHEcVJig4M4",
        "outputId": "78f07eba-0d1e-438a-d867-de5f2f1b5ba6",
        "colab": {
          "base_uri": "https://localhost:8080/",
          "height": 201
        }
      },
      "execution_count": null,
      "outputs": [
        {
          "output_type": "error",
          "ename": "RuntimeError",
          "evalue": "ignored",
          "traceback": [
            "\u001b[0;31m---------------------------------------------------------------------------\u001b[0m",
            "\u001b[0;31mRuntimeError\u001b[0m                              Traceback (most recent call last)",
            "\u001b[0;32m<ipython-input-17-859318a6b81b>\u001b[0m in \u001b[0;36m<module>\u001b[0;34m()\u001b[0m\n\u001b[1;32m      3\u001b[0m '''\n\u001b[1;32m      4\u001b[0m \u001b[0mflat_tensor\u001b[0m \u001b[0;34m=\u001b[0m \u001b[0mtorch\u001b[0m\u001b[0;34m.\u001b[0m\u001b[0mrand\u001b[0m\u001b[0;34m(\u001b[0m\u001b[0;36m784\u001b[0m\u001b[0;34m)\u001b[0m\u001b[0;34m\u001b[0m\u001b[0;34m\u001b[0m\u001b[0m\n\u001b[0;32m----> 5\u001b[0;31m \u001b[0mreshaped_tensor\u001b[0m \u001b[0;34m=\u001b[0m \u001b[0mflat_tensor\u001b[0m\u001b[0;34m.\u001b[0m\u001b[0mview\u001b[0m\u001b[0;34m(\u001b[0m\u001b[0;36m3\u001b[0m\u001b[0;34m,\u001b[0m\u001b[0;36m28\u001b[0m\u001b[0;34m,\u001b[0m\u001b[0;36m28\u001b[0m\u001b[0;34m)\u001b[0m\u001b[0;34m\u001b[0m\u001b[0;34m\u001b[0m\u001b[0m\n\u001b[0m",
            "\u001b[0;31mRuntimeError\u001b[0m: shape '[3, 28, 28]' is invalid for input of size 784"
          ]
        }
      ]
    },
    {
      "cell_type": "code",
      "metadata": {
        "id": "Y9moKIIpRymG"
      },
      "source": [
        "\n",
        "from sklearn.datasets import fetch_openml\n",
        "mnist = fetch_openml('mnist_784', version=1, cache=True, as_frame=False)\n",
        "\n",
        "X = mnist[\"data\"]\n",
        "y = mnist[\"target\"].astype(np.uint8)\n",
        "\n",
        "X_train = X[:50000]\n",
        "y_train = y[:50000]\n",
        "\n",
        "X_val = X[50000:60000]\n",
        "y_val = y[50000:60000]\n",
        "\n",
        "X_test = X[60000:]\n",
        "y_test = y[60000:]"
      ],
      "execution_count": null,
      "outputs": []
    },
    {
      "cell_type": "code",
      "source": [
        "type(X_train)"
      ],
      "metadata": {
        "id": "vCb4gdmEixEK",
        "outputId": "15b54d59-ca9f-4ef1-c7c4-5dd6529734fe",
        "colab": {
          "base_uri": "https://localhost:8080/"
        }
      },
      "execution_count": null,
      "outputs": [
        {
          "output_type": "execute_result",
          "data": {
            "text/plain": [
              "numpy.ndarray"
            ]
          },
          "metadata": {},
          "execution_count": 19
        }
      ]
    },
    {
      "cell_type": "code",
      "source": [
        "print(X_train.shape)"
      ],
      "metadata": {
        "id": "gYVCMZ4Ri67c",
        "outputId": "833db2a7-a044-490d-81f0-29cefa7895a9",
        "colab": {
          "base_uri": "https://localhost:8080/"
        }
      },
      "execution_count": null,
      "outputs": [
        {
          "output_type": "stream",
          "name": "stdout",
          "text": [
            "(50000, 784)\n"
          ]
        }
      ]
    },
    {
      "cell_type": "code",
      "source": [
        "X_train[0]"
      ],
      "metadata": {
        "id": "8L01Bvos3MW_",
        "outputId": "190aad76-4067-4ec7-848b-1c648ef04e23",
        "colab": {
          "base_uri": "https://localhost:8080/"
        }
      },
      "execution_count": null,
      "outputs": [
        {
          "output_type": "execute_result",
          "data": {
            "text/plain": [
              "array([  0.,   0.,   0.,   0.,   0.,   0.,   0.,   0.,   0.,   0.,   0.,\n",
              "         0.,   0.,   0.,   0.,   0.,   0.,   0.,   0.,   0.,   0.,   0.,\n",
              "         0.,   0.,   0.,   0.,   0.,   0.,   0.,   0.,   0.,   0.,   0.,\n",
              "         0.,   0.,   0.,   0.,   0.,   0.,   0.,   0.,   0.,   0.,   0.,\n",
              "         0.,   0.,   0.,   0.,   0.,   0.,   0.,   0.,   0.,   0.,   0.,\n",
              "         0.,   0.,   0.,   0.,   0.,   0.,   0.,   0.,   0.,   0.,   0.,\n",
              "         0.,   0.,   0.,   0.,   0.,   0.,   0.,   0.,   0.,   0.,   0.,\n",
              "         0.,   0.,   0.,   0.,   0.,   0.,   0.,   0.,   0.,   0.,   0.,\n",
              "         0.,   0.,   0.,   0.,   0.,   0.,   0.,   0.,   0.,   0.,   0.,\n",
              "         0.,   0.,   0.,   0.,   0.,   0.,   0.,   0.,   0.,   0.,   0.,\n",
              "         0.,   0.,   0.,   0.,   0.,   0.,   0.,   0.,   0.,   0.,   0.,\n",
              "         0.,   0.,   0.,   0.,   0.,   0.,   0.,   0.,   0.,   0.,   0.,\n",
              "         0.,   0.,   0.,   0.,   0.,   0.,   0.,   0.,   0.,   0.,   0.,\n",
              "         0.,   0.,   0.,   0.,   0.,   0.,   0.,   0.,   0.,   3.,  18.,\n",
              "        18.,  18., 126., 136., 175.,  26., 166., 255., 247., 127.,   0.,\n",
              "         0.,   0.,   0.,   0.,   0.,   0.,   0.,   0.,   0.,   0.,   0.,\n",
              "        30.,  36.,  94., 154., 170., 253., 253., 253., 253., 253., 225.,\n",
              "       172., 253., 242., 195.,  64.,   0.,   0.,   0.,   0.,   0.,   0.,\n",
              "         0.,   0.,   0.,   0.,   0.,  49., 238., 253., 253., 253., 253.,\n",
              "       253., 253., 253., 253., 251.,  93.,  82.,  82.,  56.,  39.,   0.,\n",
              "         0.,   0.,   0.,   0.,   0.,   0.,   0.,   0.,   0.,   0.,   0.,\n",
              "        18., 219., 253., 253., 253., 253., 253., 198., 182., 247., 241.,\n",
              "         0.,   0.,   0.,   0.,   0.,   0.,   0.,   0.,   0.,   0.,   0.,\n",
              "         0.,   0.,   0.,   0.,   0.,   0.,   0.,  80., 156., 107., 253.,\n",
              "       253., 205.,  11.,   0.,  43., 154.,   0.,   0.,   0.,   0.,   0.,\n",
              "         0.,   0.,   0.,   0.,   0.,   0.,   0.,   0.,   0.,   0.,   0.,\n",
              "         0.,   0.,   0.,  14.,   1., 154., 253.,  90.,   0.,   0.,   0.,\n",
              "         0.,   0.,   0.,   0.,   0.,   0.,   0.,   0.,   0.,   0.,   0.,\n",
              "         0.,   0.,   0.,   0.,   0.,   0.,   0.,   0.,   0.,   0.,   0.,\n",
              "       139., 253., 190.,   2.,   0.,   0.,   0.,   0.,   0.,   0.,   0.,\n",
              "         0.,   0.,   0.,   0.,   0.,   0.,   0.,   0.,   0.,   0.,   0.,\n",
              "         0.,   0.,   0.,   0.,   0.,   0.,  11., 190., 253.,  70.,   0.,\n",
              "         0.,   0.,   0.,   0.,   0.,   0.,   0.,   0.,   0.,   0.,   0.,\n",
              "         0.,   0.,   0.,   0.,   0.,   0.,   0.,   0.,   0.,   0.,   0.,\n",
              "         0.,   0.,  35., 241., 225., 160., 108.,   1.,   0.,   0.,   0.,\n",
              "         0.,   0.,   0.,   0.,   0.,   0.,   0.,   0.,   0.,   0.,   0.,\n",
              "         0.,   0.,   0.,   0.,   0.,   0.,   0.,   0.,   0.,  81., 240.,\n",
              "       253., 253., 119.,  25.,   0.,   0.,   0.,   0.,   0.,   0.,   0.,\n",
              "         0.,   0.,   0.,   0.,   0.,   0.,   0.,   0.,   0.,   0.,   0.,\n",
              "         0.,   0.,   0.,   0.,   0.,  45., 186., 253., 253., 150.,  27.,\n",
              "         0.,   0.,   0.,   0.,   0.,   0.,   0.,   0.,   0.,   0.,   0.,\n",
              "         0.,   0.,   0.,   0.,   0.,   0.,   0.,   0.,   0.,   0.,   0.,\n",
              "         0.,  16.,  93., 252., 253., 187.,   0.,   0.,   0.,   0.,   0.,\n",
              "         0.,   0.,   0.,   0.,   0.,   0.,   0.,   0.,   0.,   0.,   0.,\n",
              "         0.,   0.,   0.,   0.,   0.,   0.,   0.,   0.,   0., 249., 253.,\n",
              "       249.,  64.,   0.,   0.,   0.,   0.,   0.,   0.,   0.,   0.,   0.,\n",
              "         0.,   0.,   0.,   0.,   0.,   0.,   0.,   0.,   0.,   0.,   0.,\n",
              "         0.,  46., 130., 183., 253., 253., 207.,   2.,   0.,   0.,   0.,\n",
              "         0.,   0.,   0.,   0.,   0.,   0.,   0.,   0.,   0.,   0.,   0.,\n",
              "         0.,   0.,   0.,   0.,   0.,  39., 148., 229., 253., 253., 253.,\n",
              "       250., 182.,   0.,   0.,   0.,   0.,   0.,   0.,   0.,   0.,   0.,\n",
              "         0.,   0.,   0.,   0.,   0.,   0.,   0.,   0.,   0.,  24., 114.,\n",
              "       221., 253., 253., 253., 253., 201.,  78.,   0.,   0.,   0.,   0.,\n",
              "         0.,   0.,   0.,   0.,   0.,   0.,   0.,   0.,   0.,   0.,   0.,\n",
              "         0.,   0.,  23.,  66., 213., 253., 253., 253., 253., 198.,  81.,\n",
              "         2.,   0.,   0.,   0.,   0.,   0.,   0.,   0.,   0.,   0.,   0.,\n",
              "         0.,   0.,   0.,   0.,   0.,   0.,  18., 171., 219., 253., 253.,\n",
              "       253., 253., 195.,  80.,   9.,   0.,   0.,   0.,   0.,   0.,   0.,\n",
              "         0.,   0.,   0.,   0.,   0.,   0.,   0.,   0.,   0.,   0.,  55.,\n",
              "       172., 226., 253., 253., 253., 253., 244., 133.,  11.,   0.,   0.,\n",
              "         0.,   0.,   0.,   0.,   0.,   0.,   0.,   0.,   0.,   0.,   0.,\n",
              "         0.,   0.,   0.,   0.,   0., 136., 253., 253., 253., 212., 135.,\n",
              "       132.,  16.,   0.,   0.,   0.,   0.,   0.,   0.,   0.,   0.,   0.,\n",
              "         0.,   0.,   0.,   0.,   0.,   0.,   0.,   0.,   0.,   0.,   0.,\n",
              "         0.,   0.,   0.,   0.,   0.,   0.,   0.,   0.,   0.,   0.,   0.,\n",
              "         0.,   0.,   0.,   0.,   0.,   0.,   0.,   0.,   0.,   0.,   0.,\n",
              "         0.,   0.,   0.,   0.,   0.,   0.,   0.,   0.,   0.,   0.,   0.,\n",
              "         0.,   0.,   0.,   0.,   0.,   0.,   0.,   0.,   0.,   0.,   0.,\n",
              "         0.,   0.,   0.,   0.,   0.,   0.,   0.,   0.,   0.,   0.,   0.,\n",
              "         0.,   0.,   0.,   0.,   0.,   0.,   0.,   0.,   0.,   0.,   0.,\n",
              "         0.,   0.,   0.,   0.,   0.,   0.,   0.,   0.,   0.,   0.,   0.,\n",
              "         0.,   0.,   0.])"
            ]
          },
          "metadata": {},
          "execution_count": 23
        }
      ]
    },
    {
      "cell_type": "code",
      "metadata": {
        "colab": {
          "base_uri": "https://localhost:8080/"
        },
        "id": "e12FubxuRyi7",
        "outputId": "002b476f-8a78-4cc1-c98a-fc84890ab360"
      },
      "source": [
        "print('shape of x train: {}'.format(X_train.shape))"
      ],
      "execution_count": null,
      "outputs": [
        {
          "output_type": "stream",
          "name": "stdout",
          "text": [
            "shape of x train: (50000, 784)\n"
          ]
        }
      ]
    },
    {
      "cell_type": "code",
      "source": [
        "print(type(X_train))"
      ],
      "metadata": {
        "id": "J8N_5Yt02NnG",
        "outputId": "8e270d6e-44d5-49cc-81c7-bd0a50912392",
        "colab": {
          "base_uri": "https://localhost:8080/"
        }
      },
      "execution_count": null,
      "outputs": [
        {
          "output_type": "stream",
          "name": "stdout",
          "text": [
            "<class 'numpy.ndarray'>\n"
          ]
        }
      ]
    },
    {
      "cell_type": "code",
      "metadata": {
        "id": "3kJ4IWlkRyfz"
      },
      "source": [
        "'''\n",
        "Let's create a tensor from the numpy arrays\n",
        "'''\n",
        "x_train_tensor,x_val_tensor, x_test_tensor = map(torch.FloatTensor, (X_train, X_val, X_test))\n",
        "y_train_tensor,y_val_tensor, y_test_tensor = map(torch.LongTensor, (y_train, y_val, y_test))\n",
        "\n",
        "# y_train_tensor = y_train_tensor.type(torch.LongTensor)\n",
        "# y_test_tensor = y_test_tensor.type(torch.LongTensor)"
      ],
      "execution_count": null,
      "outputs": []
    },
    {
      "cell_type": "code",
      "metadata": {
        "colab": {
          "base_uri": "https://localhost:8080/"
        },
        "id": "cALwuCBlRydZ",
        "outputId": "3ab04f33-b6b4-452c-870f-a6b5126c92a6"
      },
      "source": [
        "print(x_train_tensor.shape,x_train_tensor.size())\n",
        "x_train_tensor_reshaped = x_train_tensor.reshape([-1,28,28])\n",
        "\n",
        "print(x_train_tensor_reshaped.size())\n"
      ],
      "execution_count": null,
      "outputs": [
        {
          "output_type": "stream",
          "name": "stdout",
          "text": [
            "torch.Size([50000, 784]) torch.Size([50000, 784])\n",
            "torch.Size([50000, 28, 28])\n"
          ]
        }
      ]
    },
    {
      "cell_type": "code",
      "source": [
        "y_train[0]"
      ],
      "metadata": {
        "id": "hcoKT-394PYm",
        "outputId": "6e999fa6-610d-4e37-aeb4-dcc8a0f2f29b",
        "colab": {
          "base_uri": "https://localhost:8080/"
        }
      },
      "execution_count": null,
      "outputs": [
        {
          "output_type": "execute_result",
          "data": {
            "text/plain": [
              "5"
            ]
          },
          "metadata": {},
          "execution_count": 28
        }
      ]
    },
    {
      "cell_type": "code",
      "source": [
        "x_train_tensor_reshaped[0:1]"
      ],
      "metadata": {
        "id": "fkT62S-X4B5r",
        "outputId": "1386f875-9fbf-4a78-b275-88acd366aa9d",
        "colab": {
          "base_uri": "https://localhost:8080/"
        }
      },
      "execution_count": null,
      "outputs": [
        {
          "output_type": "execute_result",
          "data": {
            "text/plain": [
              "tensor([[[  0.,   0.,   0.,   0.,   0.,   0.,   0.,   0.,   0.,   0.,   0.,\n",
              "            0.,   0.,   0.,   0.,   0.,   0.,   0.,   0.,   0.,   0.,   0.,\n",
              "            0.,   0.,   0.,   0.,   0.,   0.],\n",
              "         [  0.,   0.,   0.,   0.,   0.,   0.,   0.,   0.,   0.,   0.,   0.,\n",
              "            0.,   0.,   0.,   0.,   0.,   0.,   0.,   0.,   0.,   0.,   0.,\n",
              "            0.,   0.,   0.,   0.,   0.,   0.],\n",
              "         [  0.,   0.,   0.,   0.,   0.,   0.,   0.,   0.,   0.,   0.,   0.,\n",
              "            0.,   0.,   0.,   0.,   0.,   0.,   0.,   0.,   0.,   0.,   0.,\n",
              "            0.,   0.,   0.,   0.,   0.,   0.],\n",
              "         [  0.,   0.,   0.,   0.,   0.,   0.,   0.,   0.,   0.,   0.,   0.,\n",
              "            0.,   0.,   0.,   0.,   0.,   0.,   0.,   0.,   0.,   0.,   0.,\n",
              "            0.,   0.,   0.,   0.,   0.,   0.],\n",
              "         [  0.,   0.,   0.,   0.,   0.,   0.,   0.,   0.,   0.,   0.,   0.,\n",
              "            0.,   0.,   0.,   0.,   0.,   0.,   0.,   0.,   0.,   0.,   0.,\n",
              "            0.,   0.,   0.,   0.,   0.,   0.],\n",
              "         [  0.,   0.,   0.,   0.,   0.,   0.,   0.,   0.,   0.,   0.,   0.,\n",
              "            0.,   3.,  18.,  18.,  18., 126., 136., 175.,  26., 166., 255.,\n",
              "          247., 127.,   0.,   0.,   0.,   0.],\n",
              "         [  0.,   0.,   0.,   0.,   0.,   0.,   0.,   0.,  30.,  36.,  94.,\n",
              "          154., 170., 253., 253., 253., 253., 253., 225., 172., 253., 242.,\n",
              "          195.,  64.,   0.,   0.,   0.,   0.],\n",
              "         [  0.,   0.,   0.,   0.,   0.,   0.,   0.,  49., 238., 253., 253.,\n",
              "          253., 253., 253., 253., 253., 253., 251.,  93.,  82.,  82.,  56.,\n",
              "           39.,   0.,   0.,   0.,   0.,   0.],\n",
              "         [  0.,   0.,   0.,   0.,   0.,   0.,   0.,  18., 219., 253., 253.,\n",
              "          253., 253., 253., 198., 182., 247., 241.,   0.,   0.,   0.,   0.,\n",
              "            0.,   0.,   0.,   0.,   0.,   0.],\n",
              "         [  0.,   0.,   0.,   0.,   0.,   0.,   0.,   0.,  80., 156., 107.,\n",
              "          253., 253., 205.,  11.,   0.,  43., 154.,   0.,   0.,   0.,   0.,\n",
              "            0.,   0.,   0.,   0.,   0.,   0.],\n",
              "         [  0.,   0.,   0.,   0.,   0.,   0.,   0.,   0.,   0.,  14.,   1.,\n",
              "          154., 253.,  90.,   0.,   0.,   0.,   0.,   0.,   0.,   0.,   0.,\n",
              "            0.,   0.,   0.,   0.,   0.,   0.],\n",
              "         [  0.,   0.,   0.,   0.,   0.,   0.,   0.,   0.,   0.,   0.,   0.,\n",
              "          139., 253., 190.,   2.,   0.,   0.,   0.,   0.,   0.,   0.,   0.,\n",
              "            0.,   0.,   0.,   0.,   0.,   0.],\n",
              "         [  0.,   0.,   0.,   0.,   0.,   0.,   0.,   0.,   0.,   0.,   0.,\n",
              "           11., 190., 253.,  70.,   0.,   0.,   0.,   0.,   0.,   0.,   0.,\n",
              "            0.,   0.,   0.,   0.,   0.,   0.],\n",
              "         [  0.,   0.,   0.,   0.,   0.,   0.,   0.,   0.,   0.,   0.,   0.,\n",
              "            0.,  35., 241., 225., 160., 108.,   1.,   0.,   0.,   0.,   0.,\n",
              "            0.,   0.,   0.,   0.,   0.,   0.],\n",
              "         [  0.,   0.,   0.,   0.,   0.,   0.,   0.,   0.,   0.,   0.,   0.,\n",
              "            0.,   0.,  81., 240., 253., 253., 119.,  25.,   0.,   0.,   0.,\n",
              "            0.,   0.,   0.,   0.,   0.,   0.],\n",
              "         [  0.,   0.,   0.,   0.,   0.,   0.,   0.,   0.,   0.,   0.,   0.,\n",
              "            0.,   0.,   0.,  45., 186., 253., 253., 150.,  27.,   0.,   0.,\n",
              "            0.,   0.,   0.,   0.,   0.,   0.],\n",
              "         [  0.,   0.,   0.,   0.,   0.,   0.,   0.,   0.,   0.,   0.,   0.,\n",
              "            0.,   0.,   0.,   0.,  16.,  93., 252., 253., 187.,   0.,   0.,\n",
              "            0.,   0.,   0.,   0.,   0.,   0.],\n",
              "         [  0.,   0.,   0.,   0.,   0.,   0.,   0.,   0.,   0.,   0.,   0.,\n",
              "            0.,   0.,   0.,   0.,   0.,   0., 249., 253., 249.,  64.,   0.,\n",
              "            0.,   0.,   0.,   0.,   0.,   0.],\n",
              "         [  0.,   0.,   0.,   0.,   0.,   0.,   0.,   0.,   0.,   0.,   0.,\n",
              "            0.,   0.,   0.,  46., 130., 183., 253., 253., 207.,   2.,   0.,\n",
              "            0.,   0.,   0.,   0.,   0.,   0.],\n",
              "         [  0.,   0.,   0.,   0.,   0.,   0.,   0.,   0.,   0.,   0.,   0.,\n",
              "            0.,  39., 148., 229., 253., 253., 253., 250., 182.,   0.,   0.,\n",
              "            0.,   0.,   0.,   0.,   0.,   0.],\n",
              "         [  0.,   0.,   0.,   0.,   0.,   0.,   0.,   0.,   0.,   0.,  24.,\n",
              "          114., 221., 253., 253., 253., 253., 201.,  78.,   0.,   0.,   0.,\n",
              "            0.,   0.,   0.,   0.,   0.,   0.],\n",
              "         [  0.,   0.,   0.,   0.,   0.,   0.,   0.,   0.,  23.,  66., 213.,\n",
              "          253., 253., 253., 253., 198.,  81.,   2.,   0.,   0.,   0.,   0.,\n",
              "            0.,   0.,   0.,   0.,   0.,   0.],\n",
              "         [  0.,   0.,   0.,   0.,   0.,   0.,  18., 171., 219., 253., 253.,\n",
              "          253., 253., 195.,  80.,   9.,   0.,   0.,   0.,   0.,   0.,   0.,\n",
              "            0.,   0.,   0.,   0.,   0.,   0.],\n",
              "         [  0.,   0.,   0.,   0.,  55., 172., 226., 253., 253., 253., 253.,\n",
              "          244., 133.,  11.,   0.,   0.,   0.,   0.,   0.,   0.,   0.,   0.,\n",
              "            0.,   0.,   0.,   0.,   0.,   0.],\n",
              "         [  0.,   0.,   0.,   0., 136., 253., 253., 253., 212., 135., 132.,\n",
              "           16.,   0.,   0.,   0.,   0.,   0.,   0.,   0.,   0.,   0.,   0.,\n",
              "            0.,   0.,   0.,   0.,   0.,   0.],\n",
              "         [  0.,   0.,   0.,   0.,   0.,   0.,   0.,   0.,   0.,   0.,   0.,\n",
              "            0.,   0.,   0.,   0.,   0.,   0.,   0.,   0.,   0.,   0.,   0.,\n",
              "            0.,   0.,   0.,   0.,   0.,   0.],\n",
              "         [  0.,   0.,   0.,   0.,   0.,   0.,   0.,   0.,   0.,   0.,   0.,\n",
              "            0.,   0.,   0.,   0.,   0.,   0.,   0.,   0.,   0.,   0.,   0.,\n",
              "            0.,   0.,   0.,   0.,   0.,   0.],\n",
              "         [  0.,   0.,   0.,   0.,   0.,   0.,   0.,   0.,   0.,   0.,   0.,\n",
              "            0.,   0.,   0.,   0.,   0.,   0.,   0.,   0.,   0.,   0.,   0.,\n",
              "            0.,   0.,   0.,   0.,   0.,   0.]]])"
            ]
          },
          "metadata": {},
          "execution_count": 28
        }
      ]
    },
    {
      "cell_type": "markdown",
      "metadata": {
        "id": "vmIvwydEYfzL"
      },
      "source": [
        "Dimensions permutations. The order of the \"columns\" is not the one useful for our tasks so we need to change the order. \n",
        "For instance, images are stored as ```[height, width, channel]``` tensors, but PyTorch prefers to deal with these in a ```[channel, height, width ] order```\n",
        "\n",
        "```\n",
        "permute() \n",
        "```"
      ]
    },
    {
      "cell_type": "code",
      "metadata": {
        "colab": {
          "base_uri": "https://localhost:8080/"
        },
        "id": "f9awYd1YRyas",
        "outputId": "2250f61b-b4e1-4f1e-b64b-064531fdda87"
      },
      "source": [
        "hwc_tensor = torch.rand(643,232,9)\n",
        "chw_tensor = hwc_tensor.permute(2,0,1)\n",
        "print('Shape of hwc tensor {}',hwc_tensor.shape)\n",
        "print('Shape of chw tensor {}',chw_tensor.shape)"
      ],
      "execution_count": null,
      "outputs": [
        {
          "output_type": "stream",
          "name": "stdout",
          "text": [
            "Shape of hwc tensor {} torch.Size([643, 232, 9])\n",
            "Shape of chw tensor {} torch.Size([9, 643, 232])\n"
          ]
        }
      ]
    },
    {
      "cell_type": "markdown",
      "metadata": {
        "id": "UxnUPHmmZkBV"
      },
      "source": [
        "Slice on tensors to access certain elements of the data structrure"
      ]
    },
    {
      "cell_type": "code",
      "metadata": {
        "colab": {
          "base_uri": "https://localhost:8080/",
          "height": 501
        },
        "id": "mQLxbX7JRyX2",
        "outputId": "52d16e29-7d8f-4133-d464-afc0b6f457a8"
      },
      "source": [
        "'''\n",
        "Take the ten first lines for all the images\n",
        "'''\n",
        "\n",
        "print('the shape is {}'.format(x_train_tensor_reshaped.size()))\n",
        "\n",
        "selected_part = x_train_tensor_reshaped[:,:,10:20]\n",
        "\n",
        "print('the shape of the cropped tensor is {}'.format(selected_part.size()))\n",
        "\n",
        "fig, axes = plt.subplots(8,8,figsize=(8,8))\n",
        "for i in range(8):\n",
        "    for j in range(8):\n",
        "        num_index = np.random.randint(len(selected_part))\n",
        "        axes[i,j].imshow(selected_part[num_index].numpy(), cmap=\"gray\")\n",
        "        axes[i,j].axis(\"off\")\n",
        "plt.show() "
      ],
      "execution_count": null,
      "outputs": [
        {
          "output_type": "stream",
          "name": "stdout",
          "text": [
            "the shape is torch.Size([50000, 28, 28])\n",
            "the shape of the cropped tensor is torch.Size([50000, 28, 10])\n"
          ]
        },
        {
          "output_type": "display_data",
          "data": {
            "text/plain": [
              "<Figure size 576x576 with 64 Axes>"
            ],
            "image/png": "[encoded data removed]"
          },
          "metadata": {
            "needs_background": "light"
          }
        }
      ]
    },
    {
      "cell_type": "code",
      "source": [
        "selected_part[num_index].numpy()"
      ],
      "metadata": {
        "id": "OYl7mphX5enO",
        "outputId": "34766a2a-dc4e-4698-c0af-5676a22f5156",
        "colab": {
          "base_uri": "https://localhost:8080/"
        }
      },
      "execution_count": null,
      "outputs": [
        {
          "output_type": "execute_result",
          "data": {
            "text/plain": [
              "array([[  0.,   0.,   0.,   0.,   0.,   0.,   0.,   0.,   0.,   0.],\n",
              "       [  0.,   0.,   0.,   0.,   0.,   0.,   0.,   0.,   0.,   0.],\n",
              "       [  0.,   0.,   0.,   0.,   0.,   0.,   0.,   0.,   0.,   0.],\n",
              "       [  0.,   0.,   0.,   0.,   0.,   0.,   0.,   0.,   0.,   0.],\n",
              "       [  0.,   0.,   0.,   0.,   0.,   0.,   0.,   0.,   0.,   0.],\n",
              "       [  0.,   0.,   0.,   0.,   3.,  62., 232., 254., 255., 166.],\n",
              "       [  0.,   0.,   0.,  59., 180., 253., 253., 253., 253., 253.],\n",
              "       [  0.,   3., 139., 246., 253., 253., 253., 253., 253., 253.],\n",
              "       [ 14., 188., 253., 253., 253., 253., 253., 253., 253., 253.],\n",
              "       [183., 253., 253., 253., 253., 253., 253., 253., 253., 253.],\n",
              "       [253., 253., 253., 216.,  36.,  50., 228., 253., 253., 253.],\n",
              "       [253., 253., 253., 253., 158., 119., 233., 253., 253., 253.],\n",
              "       [253., 253., 253., 253., 253., 253., 253., 253., 233., 126.],\n",
              "       [163., 245., 253., 253., 253., 253., 253., 189.,  53.,   0.],\n",
              "       [  0., 142., 253., 253., 253., 253., 253., 124.,   0.,   0.],\n",
              "       [ 69., 237., 253., 253., 253., 253., 253., 124.,   0.,   0.],\n",
              "       [250., 253., 253., 209., 187., 253., 253., 124.,   0.,   0.],\n",
              "       [253., 253., 253.,  96., 150., 253., 253., 124.,   0.,   0.],\n",
              "       [253., 253., 127.,  12., 233., 253., 253., 124.,   0.,   0.],\n",
              "       [253., 185.,   4.,  47., 244., 253., 253., 113.,   0.,   0.],\n",
              "       [253., 134.,  41., 176., 253., 253., 253.,  16.,   0.,   0.],\n",
              "       [253., 229., 196., 253., 253., 253., 216.,  10.,   0.,   0.],\n",
              "       [253., 253., 253., 253., 253., 246.,  49.,   0.,   0.,   0.],\n",
              "       [253., 253., 253., 253., 249.,  98.,   0.,   0.,   0.,   0.],\n",
              "       [180., 253., 253., 216.,  90.,   0.,   0.,   0.,   0.,   0.],\n",
              "       [  0.,   0.,   0.,   0.,   0.,   0.,   0.,   0.,   0.,   0.],\n",
              "       [  0.,   0.,   0.,   0.,   0.,   0.,   0.,   0.,   0.,   0.],\n",
              "       [  0.,   0.,   0.,   0.,   0.,   0.,   0.,   0.,   0.,   0.]],\n",
              "      dtype=float32)"
            ]
          },
          "metadata": {},
          "execution_count": 34
        }
      ]
    },
    {
      "cell_type": "markdown",
      "metadata": {
        "id": "GjCRQKQY_rWm"
      },
      "source": [
        "Numpy iteroperability: \n",
        "- From ```Tensor``` to ```numpy.array```\n",
        "- From ```numpy.array``` to ```Tensor```"
      ]
    },
    {
      "cell_type": "code",
      "metadata": {
        "colab": {
          "base_uri": "https://localhost:8080/"
        },
        "id": "LX3T67ja_p1M",
        "outputId": "9f9c69b5-44f1-4beb-9419-a0e760a58aac"
      },
      "source": [
        "points = torch.zeros(3,4)\n",
        "points_np = points.numpy()\n",
        "\n",
        "print('Type points: {}'.format(type(points)))\n",
        "print('Type points_np: {}'.format(type(points_np)))\n",
        "\n",
        "new_points = torch.from_numpy(points_np)\n",
        "print('Type new_points: {}'.format(type(new_points)))\n"
      ],
      "execution_count": null,
      "outputs": [
        {
          "output_type": "stream",
          "name": "stdout",
          "text": [
            "Type points: <class 'torch.Tensor'>\n",
            "Type points_np: <class 'numpy.ndarray'>\n",
            "Type new_points: <class 'torch.Tensor'>\n"
          ]
        }
      ]
    },
    {
      "cell_type": "markdown",
      "metadata": {
        "id": "xeyEWf_JETYE"
      },
      "source": [
        "# Our first Neural Network in this class :-) \n",
        "\n",
        "- prepare the data for pytorch ```Dataset``` and ```DataLoader```\n",
        "- create the network, loss, optimizer\n",
        "- training \n"
      ]
    },
    {
      "cell_type": "markdown",
      "metadata": {
        "id": "-E76Q_tOCjHS"
      },
      "source": [
        "PyTorch has developed standard conventions of interacting with data that make it fairly consistent to work with, whether you are working with images, text, or audio\n",
        "\n",
        "\n",
        "```Dataset``` and ```DataLoader``` are two classes used to create the data in the format needed for PyTorch.\n",
        "\n",
        "- ```Dataset``` is a python class that allows us to get at the data we are supplying to the neural network \n",
        "- ```DataLoader``` is what feeds data from the dataset into the network "
      ]
    },
    {
      "cell_type": "markdown",
      "metadata": {
        "id": "ppZO80xIHmYJ"
      },
      "source": [
        "Every dataset, no matter whether it includes images, audio, text, etc, can interact with PyTorch if it satisfies this abstract Python class: \n",
        "\n",
        "```python\n",
        "class Dataset(object):\n",
        "  def __getitem__(self,index):\n",
        "    raise NotImplementedError\n",
        "  def __len__(self):\n",
        "    raise NotImplementedError\n",
        "```\n",
        "\n",
        "We have to implement a method that returns the size of our dataset (```len```), and implement a method that can retrieve an item from our dataset in a (*label,tensor*) pair.\n",
        "\n",
        "The dataset is called, then by the data loader and it pushes data into the the network.\n",
        "\n",
        "It is possible to use the class ```TensorDataset```\n",
        "\n",
        "There are also some package that help us on do it, for instance: \n",
        "```torchvision``` with ImageFolder, ```torchtext```. \n",
        "\n",
        "[torchvision](https://pytorch.org/vision/stable/index.html)\n",
        "\n",
        "[torchtext](https://pytorch.org/text/stable/index.html)\n",
        "\n",
        "\n"
      ]
    },
    {
      "cell_type": "markdown",
      "metadata": {
        "id": "FFJNPK0eYKqq"
      },
      "source": [
        "## Classification"
      ]
    },
    {
      "cell_type": "code",
      "metadata": {
        "id": "frK0wby5lhM9"
      },
      "source": [
        "from torch.utils.data import TensorDataset\n",
        "from torch.utils.data import DataLoader\n",
        "\n",
        "batch_size = 32 \n",
        "train_ds = TensorDataset(x_train_tensor, y_train_tensor)\n",
        "train_dl = DataLoader(\n",
        "    train_ds, batch_size=batch_size, shuffle=True)\n",
        "\n",
        "val_ds = TensorDataset(x_val_tensor, y_val_tensor)\n",
        "val_dl = DataLoader(\n",
        "    val_ds, batch_size=batch_size, shuffle=True)\n",
        "\n",
        "\n",
        "test_ds = TensorDataset(x_test_tensor, y_test_tensor)\n",
        "test_dl = DataLoader(test_ds, batch_size=batch_size)\n"
      ],
      "execution_count": null,
      "outputs": []
    },
    {
      "cell_type": "code",
      "metadata": {
        "id": "3Sk_YxGeMQhM"
      },
      "source": [
        "from torch.utils.data import Dataset, DataLoader\n",
        "class imageDataset(Dataset):\n",
        "    \n",
        "    def __init__(self, X_data, y_data):\n",
        "        self.X_data = X_data\n",
        "        self.y_data = y_data\n",
        "        \n",
        "    def __getitem__(self, index):\n",
        "        return self.X_data[index], self.y_data[index]\n",
        "        \n",
        "    def __len__ (self):\n",
        "        return len(self.X_data)\n",
        " "
      ],
      "execution_count": null,
      "outputs": []
    },
    {
      "cell_type": "code",
      "metadata": {
        "id": "l8Y6k6AHMgNJ"
      },
      "source": [
        "train_ds = imageDataset(x_train_tensor, y_train_tensor)\n",
        "train_dl = DataLoader(\n",
        "    train_ds, batch_size=batch_size, shuffle=True)\n"
      ],
      "execution_count": null,
      "outputs": []
    },
    {
      "cell_type": "markdown",
      "metadata": {
        "id": "fy_MEOL7C20C"
      },
      "source": [
        "The definition of a network uses the ```nn.Module``` of pytorch. \n",
        "\n",
        "```Linear``` defines the structure of each layer\n",
        "```forward``` defines how the data should flow across the different layers of the network\n",
        "```relu``` is the activation function\n",
        "\n",
        "For each layer we define the size of the input and the output.\n",
        "For instance, the first layer takes in input the same shape of the MINST images. Then, it passes the dato to a 200 nodes.\n",
        "\n",
        "The latest layer returns an output equal to the number of classes. \n",
        "\n",
        "To understand which is the predicted class we need to take the ```argmax()``` of the output, such as the index of max score assigned to each instance by the network. "
      ]
    },
    {
      "cell_type": "code",
      "metadata": {
        "id": "xz26ffVjhxYE"
      },
      "source": [
        "class SimpleNet(nn.Module):\n",
        "\n",
        "    def __init__(self):\n",
        "        super(SimpleNet, self).__init__()\n",
        "        self.fc1 = nn.Linear(784, 200)\n",
        "        self.fc2 = nn.Linear(200, 50)\n",
        "        self.fc3 = nn.Linear(50,10)\n",
        "    \n",
        "    def forward(self, x):\n",
        "        x = F.relu(self.fc1(x))\n",
        "        x = F.relu(self.fc2(x))\n",
        "        x = self.fc3(x)\n",
        "        return x"
      ],
      "execution_count": null,
      "outputs": []
    },
    {
      "cell_type": "code",
      "metadata": {
        "id": "FrZAZFYCjyVh"
      },
      "source": [
        "'''\n",
        "create an instance of the network\n",
        "'''\n",
        "simplenet = SimpleNet()"
      ],
      "execution_count": null,
      "outputs": []
    },
    {
      "cell_type": "code",
      "source": [
        "simplenet.state_dict()"
      ],
      "metadata": {
        "id": "owLn1PHJ_L5K",
        "outputId": "1527019e-5695-4155-d808-2380fda605b7",
        "colab": {
          "base_uri": "https://localhost:8080/"
        }
      },
      "execution_count": null,
      "outputs": [
        {
          "output_type": "execute_result",
          "data": {
            "text/plain": [
              "OrderedDict([('fc1.weight',\n",
              "              tensor([[ 0.0349, -0.0061,  0.0212,  ...,  0.0015, -0.0328, -0.0343],\n",
              "                      [ 0.0258, -0.0041, -0.0068,  ...,  0.0250,  0.0020, -0.0316],\n",
              "                      [ 0.0269, -0.0247,  0.0289,  ..., -0.0300,  0.0261,  0.0299],\n",
              "                      ...,\n",
              "                      [-0.0009, -0.0230,  0.0131,  ...,  0.0187,  0.0125,  0.0059],\n",
              "                      [-0.0063,  0.0092, -0.0150,  ..., -0.0123,  0.0326,  0.0019],\n",
              "                      [-0.0011,  0.0062, -0.0107,  ...,  0.0337,  0.0077, -0.0014]])),\n",
              "             ('fc1.bias',\n",
              "              tensor([ 2.5799e-02, -1.7794e-02,  6.9596e-03, -1.8355e-03,  3.1126e-02,\n",
              "                      -7.7219e-03,  3.0161e-02,  1.9462e-02,  1.5210e-02,  3.4194e-02,\n",
              "                      -2.3933e-02, -2.5618e-02, -1.4039e-02,  1.7047e-02,  2.3271e-02,\n",
              "                       2.9932e-02, -1.9383e-02,  3.0592e-02, -4.3860e-03,  1.8120e-02,\n",
              "                      -7.2052e-03, -3.0105e-02,  3.5540e-02,  3.0472e-02, -2.5459e-02,\n",
              "                       1.2245e-02, -9.2013e-03,  2.5690e-02,  3.3689e-02,  8.6602e-03,\n",
              "                      -3.4069e-02, -1.2937e-02,  1.7659e-02, -1.0712e-02,  2.1412e-02,\n",
              "                      -1.4368e-02, -2.7078e-02,  9.9054e-03,  1.2642e-02, -2.6393e-02,\n",
              "                       3.5045e-02, -3.0753e-02,  4.1192e-03, -2.8985e-02,  1.6762e-02,\n",
              "                      -1.4368e-02, -2.8393e-02,  1.8532e-02,  2.5151e-02,  3.2436e-02,\n",
              "                      -9.2187e-03,  1.0466e-02,  1.7992e-03, -9.6333e-03, -3.0123e-02,\n",
              "                      -5.2363e-03, -2.1223e-02,  1.3097e-02,  6.1169e-03,  2.1084e-02,\n",
              "                       4.5907e-03,  1.2527e-02, -1.5875e-02, -3.3438e-02, -1.0865e-02,\n",
              "                       2.9431e-03,  3.1979e-02,  1.0439e-02,  2.2588e-02,  1.6511e-02,\n",
              "                      -2.9955e-02, -2.7484e-02,  3.7496e-05, -7.5664e-03,  9.7891e-03,\n",
              "                       1.3744e-02, -3.2199e-02, -2.6653e-02, -1.7747e-02, -3.2208e-03,\n",
              "                       3.3115e-02, -8.3435e-03,  8.7364e-03,  4.8796e-03,  1.9974e-02,\n",
              "                       3.1420e-02,  1.6597e-02, -1.8161e-02,  1.5983e-02, -3.4446e-02,\n",
              "                      -1.5181e-02, -1.4957e-02, -5.2804e-03,  1.0063e-02, -2.3002e-03,\n",
              "                      -1.5666e-02, -2.8948e-03,  7.3296e-03,  3.1885e-02, -2.5476e-02,\n",
              "                       2.9809e-02, -3.2760e-02, -1.6722e-02,  3.3082e-02,  1.8768e-02,\n",
              "                       3.3166e-02, -1.7325e-02, -5.0035e-03, -3.4254e-02, -1.5591e-03,\n",
              "                       2.7954e-02, -2.4123e-02, -1.0653e-02, -6.1265e-03, -1.8754e-03,\n",
              "                       3.2590e-02, -2.7363e-02,  6.2703e-03, -1.7759e-02,  1.2568e-02,\n",
              "                       3.5675e-02, -1.7042e-02, -3.3546e-02,  2.1776e-02, -4.7719e-03,\n",
              "                       3.4421e-03, -3.0788e-02,  2.8648e-02,  3.1395e-02, -1.6754e-02,\n",
              "                       1.8788e-02, -3.3822e-02,  2.1202e-02,  1.8004e-02, -2.1180e-02,\n",
              "                       2.6287e-02,  9.5444e-03, -1.1836e-02,  2.3845e-02, -1.8089e-02,\n",
              "                      -6.4392e-03, -1.9634e-03, -3.0433e-02, -3.3083e-02, -2.4876e-02,\n",
              "                       6.7148e-03,  1.5032e-02, -2.4108e-02,  9.5498e-03,  2.2270e-02,\n",
              "                       3.3547e-02,  7.1205e-03, -1.0794e-02,  6.3099e-03,  1.8108e-02,\n",
              "                       1.2914e-02,  2.7718e-02, -3.5521e-02,  2.7847e-02,  3.4602e-02,\n",
              "                      -2.1846e-02, -3.2763e-02,  4.5629e-04,  2.5652e-03, -2.6938e-02,\n",
              "                      -8.8480e-03,  4.6746e-03, -2.8554e-02, -2.9806e-03, -2.7416e-02,\n",
              "                       1.4305e-02, -9.7974e-03, -5.8047e-03,  4.5425e-03, -1.1225e-02,\n",
              "                       1.8498e-02,  3.6432e-03,  2.0811e-02, -1.0931e-02,  3.5174e-02,\n",
              "                       1.3803e-02, -3.2694e-02, -6.0524e-03, -1.2372e-03,  6.8770e-04,\n",
              "                      -5.8198e-04,  1.4395e-02,  1.7864e-02,  2.4342e-02,  2.0190e-02,\n",
              "                      -2.3173e-02,  2.5577e-02,  1.0201e-02,  3.0916e-02, -1.7342e-03,\n",
              "                       1.9356e-02,  2.4230e-02, -1.1464e-02, -7.8152e-03,  2.2470e-02])),\n",
              "             ('fc2.weight',\n",
              "              tensor([[ 0.0437,  0.0527,  0.0063,  ..., -0.0169,  0.0307, -0.0315],\n",
              "                      [-0.0631,  0.0552, -0.0631,  ..., -0.0340,  0.0512,  0.0504],\n",
              "                      [ 0.0026,  0.0110, -0.0255,  ..., -0.0144,  0.0544,  0.0266],\n",
              "                      ...,\n",
              "                      [ 0.0375, -0.0156, -0.0371,  ..., -0.0702, -0.0020,  0.0401],\n",
              "                      [-0.0509,  0.0052, -0.0127,  ...,  0.0389, -0.0419,  0.0450],\n",
              "                      [-0.0305, -0.0019,  0.0353,  ...,  0.0320, -0.0186,  0.0575]])),\n",
              "             ('fc2.bias',\n",
              "              tensor([-0.0119,  0.0403,  0.0199, -0.0221,  0.0188, -0.0506,  0.0037, -0.0165,\n",
              "                      -0.0630,  0.0418,  0.0482, -0.0058,  0.0457,  0.0316, -0.0651,  0.0458,\n",
              "                       0.0300,  0.0235, -0.0482,  0.0142,  0.0606,  0.0204,  0.0577, -0.0041,\n",
              "                      -0.0263,  0.0282, -0.0333,  0.0256, -0.0269, -0.0050, -0.0451,  0.0403,\n",
              "                       0.0204,  0.0695,  0.0348,  0.0382,  0.0229, -0.0690, -0.0025, -0.0587,\n",
              "                      -0.0368,  0.0511,  0.0688,  0.0405, -0.0440, -0.0005,  0.0331,  0.0324,\n",
              "                       0.0358,  0.0155])),\n",
              "             ('fc3.weight',\n",
              "              tensor([[-1.2387e-01,  1.1572e-01, -8.0372e-02,  8.2329e-02,  1.1493e-01,\n",
              "                        5.0824e-02,  7.5996e-02,  5.9100e-02,  1.2156e-01, -1.1771e-01,\n",
              "                        7.6433e-02, -1.5448e-02,  1.0452e-01, -1.0946e-01,  8.1186e-02,\n",
              "                        7.3578e-02,  4.7673e-03, -8.2961e-02, -1.3609e-01, -1.0738e-01,\n",
              "                       -8.4366e-02, -2.8543e-02,  5.7185e-02,  1.3304e-01, -7.8590e-02,\n",
              "                       -4.4216e-03, -5.2888e-02,  3.0889e-04, -1.2882e-01, -7.5895e-02,\n",
              "                        6.1984e-02,  1.1758e-01, -5.7838e-02,  1.4049e-01,  1.1625e-01,\n",
              "                        2.5079e-02,  1.3405e-01, -5.0188e-05,  4.0953e-02, -1.3084e-01,\n",
              "                        1.0327e-01, -1.4364e-02,  1.4057e-01,  1.1302e-01,  7.4887e-02,\n",
              "                       -1.1977e-01, -1.8137e-02, -5.5812e-02, -1.1880e-01,  1.7933e-03],\n",
              "                      [-2.4757e-02,  6.1942e-02, -1.2851e-01,  1.1252e-01,  5.1573e-03,\n",
              "                       -1.2364e-01, -9.2913e-02, -4.1054e-02,  9.1019e-02,  6.0010e-02,\n",
              "                        1.1340e-01, -1.1901e-01,  8.0990e-02,  8.2695e-02, -9.6354e-02,\n",
              "                       -9.8393e-02, -5.5005e-03, -9.6043e-03,  1.2630e-01,  2.4273e-02,\n",
              "                        1.3047e-01, -1.2537e-01,  3.9502e-02, -4.0809e-02,  9.2748e-02,\n",
              "                        1.3646e-01,  6.0642e-02, -2.7245e-03, -5.0267e-02, -5.0953e-03,\n",
              "                        2.3864e-02,  1.8528e-02,  1.1481e-01,  2.8557e-02,  4.6082e-02,\n",
              "                       -1.0757e-01, -2.8538e-02,  1.3394e-01, -7.5109e-02,  1.1682e-01,\n",
              "                       -1.2606e-01, -9.2311e-02,  9.9603e-02, -3.8919e-02, -1.1115e-01,\n",
              "                       -7.5533e-02,  1.2906e-01,  1.4008e-01,  5.1956e-02,  8.2349e-02],\n",
              "                      [ 7.9140e-02, -8.0293e-02,  3.8510e-02,  6.8915e-02,  1.3949e-01,\n",
              "                       -9.4804e-02,  3.8646e-02,  1.1876e-01, -1.1473e-01, -5.3762e-02,\n",
              "                       -5.3477e-02, -2.8904e-02, -1.0138e-01, -6.3862e-02, -4.9631e-02,\n",
              "                       -1.3490e-01, -1.1321e-01, -8.9653e-02, -8.2795e-02,  1.3691e-01,\n",
              "                        5.3207e-02, -1.2399e-01,  1.0278e-01,  5.3175e-03,  1.0440e-01,\n",
              "                       -9.4512e-02,  7.0808e-02,  8.0140e-02,  8.3674e-02,  7.9409e-02,\n",
              "                        7.7132e-02, -1.0233e-01, -5.0557e-02,  5.3625e-02,  1.2181e-01,\n",
              "                       -9.7908e-03, -1.3948e-01, -1.5730e-02,  2.6255e-02, -1.3850e-01,\n",
              "                       -9.7865e-02, -3.6443e-02,  8.5147e-02, -9.6476e-02,  2.9913e-02,\n",
              "                       -7.5697e-02,  1.1313e-01, -6.8082e-02, -1.0471e-01, -7.9957e-02],\n",
              "                      [-5.1645e-02, -4.5181e-02,  1.2733e-02,  6.3251e-02,  7.9216e-02,\n",
              "                        4.9151e-02, -8.7056e-02, -8.6596e-02, -2.4472e-02, -3.0140e-02,\n",
              "                       -9.8598e-03, -1.1413e-02, -1.3268e-01, -2.9451e-02,  8.7666e-02,\n",
              "                        3.0679e-02, -4.3580e-02,  5.0491e-02, -1.3457e-01,  1.2138e-02,\n",
              "                        1.1431e-02,  1.1233e-01,  6.4305e-02, -1.9003e-02,  2.8901e-02,\n",
              "                       -2.7940e-03, -8.9674e-02,  1.0919e-01, -1.2626e-01,  1.2080e-01,\n",
              "                        1.6643e-02, -3.5225e-02, -8.4688e-02,  6.0963e-02,  6.4203e-02,\n",
              "                       -9.1793e-02, -6.1501e-02,  2.4504e-02, -5.9729e-03,  5.0539e-02,\n",
              "                       -7.6418e-02,  1.1603e-01,  9.9583e-02,  7.1865e-02,  1.2088e-01,\n",
              "                       -1.0421e-01, -2.8227e-02,  1.1857e-01,  1.1855e-01,  6.8567e-02],\n",
              "                      [-6.5147e-02, -1.3671e-01,  8.4059e-02,  1.6124e-03, -9.0238e-03,\n",
              "                       -8.9589e-02,  3.9599e-03, -6.6087e-02,  7.8598e-02, -4.6527e-03,\n",
              "                        8.9009e-02,  9.9741e-02, -6.0312e-02, -1.0763e-01,  1.1792e-01,\n",
              "                       -5.3046e-02, -5.5381e-02,  9.8543e-02, -4.9619e-02, -2.9676e-02,\n",
              "                        8.1257e-02,  1.3547e-01,  5.9974e-02,  3.3235e-02,  9.7438e-02,\n",
              "                       -8.6766e-02,  3.0257e-02, -4.7752e-04, -6.4086e-02,  5.4781e-02,\n",
              "                        1.8064e-02, -7.9873e-02,  5.3355e-02, -1.4645e-02,  4.1841e-02,\n",
              "                        2.3449e-03,  1.1940e-02, -1.6263e-02, -4.1067e-02, -1.0315e-02,\n",
              "                       -1.2341e-01, -7.9685e-03, -1.4645e-02,  1.3602e-01,  1.3525e-01,\n",
              "                        9.4537e-02,  1.1202e-01,  8.6838e-03, -8.4169e-04, -1.2625e-02],\n",
              "                      [-9.8093e-03, -2.3940e-02, -8.2350e-03, -4.5756e-03,  9.0851e-02,\n",
              "                        3.7437e-02,  7.4870e-02,  1.0557e-01,  1.1524e-02, -5.9711e-02,\n",
              "                        1.2019e-01,  1.0273e-01,  4.8852e-02, -1.2012e-01,  1.1809e-01,\n",
              "                       -8.5445e-02, -7.5806e-02, -1.2667e-01,  5.8264e-02,  4.2382e-02,\n",
              "                        6.3249e-02, -3.5616e-02, -1.0923e-01,  6.0409e-02, -2.9398e-02,\n",
              "                       -4.9975e-02,  9.2357e-03, -2.4444e-02,  4.3884e-02,  8.9219e-02,\n",
              "                       -4.3620e-02, -5.3817e-02,  5.1557e-02,  3.0762e-02, -1.1279e-02,\n",
              "                        2.1087e-04,  6.0567e-02,  7.7506e-02,  3.0117e-02, -5.9932e-02,\n",
              "                        1.0853e-01,  1.0630e-01,  1.4266e-02,  8.9234e-02, -8.9309e-02,\n",
              "                       -9.9658e-02,  1.1567e-01,  1.5742e-03,  3.2546e-02,  2.9659e-02],\n",
              "                      [-4.3201e-02, -3.1867e-02,  5.9572e-02,  8.0976e-02,  1.1777e-01,\n",
              "                       -8.7476e-02,  1.3818e-01,  8.4867e-02, -9.7344e-02, -5.0816e-02,\n",
              "                       -1.1350e-01, -4.0236e-02, -7.8932e-02, -7.2457e-02,  8.4100e-03,\n",
              "                       -2.8665e-02, -5.5590e-02,  1.0817e-01,  9.1599e-02, -1.2764e-02,\n",
              "                        7.2046e-02,  3.1902e-03, -7.9925e-02, -1.4133e-03, -1.3850e-01,\n",
              "                        4.4511e-02,  1.1673e-01,  8.6683e-02,  7.7066e-02,  1.0478e-01,\n",
              "                       -4.3794e-02, -2.6653e-02, -1.1519e-01,  1.4704e-02, -9.8806e-02,\n",
              "                       -6.3211e-02,  1.7701e-02,  7.6802e-02,  1.3573e-01, -5.5559e-02,\n",
              "                        3.7895e-02,  5.8121e-02,  1.9418e-02, -1.2230e-01, -4.0522e-03,\n",
              "                       -1.2551e-01, -1.8897e-02,  5.9726e-02, -7.6910e-02, -5.0125e-03],\n",
              "                      [ 1.5028e-02, -5.4310e-02,  7.5567e-02,  1.4087e-03,  1.2738e-01,\n",
              "                       -1.3910e-01, -6.9191e-02, -1.2883e-01,  1.4002e-01, -5.8671e-02,\n",
              "                        4.2074e-02,  1.2606e-01, -5.7020e-02, -9.8514e-02,  5.2429e-02,\n",
              "                        1.2626e-01, -1.0039e-03,  1.2204e-01,  6.5587e-02, -6.8497e-02,\n",
              "                       -8.6705e-02,  5.5765e-02, -7.7373e-02, -1.9525e-02,  3.9582e-02,\n",
              "                       -1.1276e-01, -1.1850e-01, -1.0611e-02,  5.4552e-02, -5.8967e-02,\n",
              "                        3.4165e-03, -1.9209e-02,  2.3804e-02,  5.6702e-02,  3.0024e-02,\n",
              "                       -1.1267e-01, -1.2332e-01, -1.4008e-01, -1.2151e-01,  5.3027e-02,\n",
              "                       -1.4063e-01,  1.1276e-01,  4.3085e-02, -1.1344e-01, -6.4396e-02,\n",
              "                       -1.0278e-01, -3.5923e-02, -1.2745e-01, -1.2013e-02, -3.2261e-02],\n",
              "                      [-3.4403e-02, -5.3752e-02, -5.9530e-02, -1.2774e-01, -1.1051e-01,\n",
              "                       -4.4489e-02, -1.0706e-01, -1.9250e-02,  1.0442e-01, -1.4995e-02,\n",
              "                        1.0707e-01, -2.5271e-02, -2.3482e-03,  1.1087e-01, -5.4849e-02,\n",
              "                       -1.0201e-01,  1.0258e-01, -6.4743e-02, -9.2857e-02, -2.2306e-02,\n",
              "                        6.6339e-02, -6.8987e-02, -1.0452e-01, -4.8821e-02,  2.5339e-02,\n",
              "                       -5.2097e-02,  3.9919e-02,  9.9326e-03,  7.4275e-03, -6.3264e-02,\n",
              "                        4.1597e-02, -3.2834e-02, -2.1131e-02,  6.5826e-02,  1.1535e-01,\n",
              "                       -4.5653e-02,  6.3025e-02, -8.0804e-02,  2.9049e-02,  9.4588e-02,\n",
              "                        6.6572e-02,  4.0128e-02, -9.2690e-02, -8.0339e-02,  6.3258e-02,\n",
              "                       -6.4597e-02,  5.0839e-02,  1.0882e-01, -9.3954e-02,  1.1438e-01],\n",
              "                      [-4.3650e-02,  3.6198e-02, -1.2420e-02, -5.6086e-03,  1.3580e-01,\n",
              "                       -1.4116e-01, -3.9220e-02,  3.5462e-02,  4.4064e-03,  2.8416e-02,\n",
              "                       -7.3897e-02, -3.7417e-02,  6.1354e-02,  3.1733e-02,  6.8456e-02,\n",
              "                        7.1626e-02, -1.2378e-01, -1.2970e-01, -3.0746e-02,  1.3030e-01,\n",
              "                        6.2901e-02, -1.0060e-01, -4.0787e-02,  6.4153e-02,  1.2479e-01,\n",
              "                        4.1991e-02,  1.2836e-01, -4.9557e-02, -3.1033e-02, -8.1766e-03,\n",
              "                        1.3912e-02, -1.0267e-01,  1.2251e-01,  3.3936e-02,  6.2442e-02,\n",
              "                       -2.1350e-02, -1.0256e-02,  2.2632e-02,  1.1943e-02, -1.5898e-04,\n",
              "                        1.2167e-01,  2.4868e-02, -9.9896e-03, -2.7099e-02,  8.5289e-02,\n",
              "                       -1.1026e-02,  3.3079e-02,  1.8816e-02, -1.2742e-01,  1.7841e-02]])),\n",
              "             ('fc3.bias',\n",
              "              tensor([-0.0425, -0.0860, -0.1408, -0.0180, -0.0535, -0.0211,  0.0954,  0.0585,\n",
              "                       0.0725,  0.0653]))])"
            ]
          },
          "metadata": {},
          "execution_count": 46
        }
      ]
    },
    {
      "cell_type": "code",
      "source": [
        "simplenet.parameters()"
      ],
      "metadata": {
        "id": "YND7B6b5s9oB",
        "outputId": "cbca7e7e-29f4-462f-a087-4acce86964ba",
        "colab": {
          "base_uri": "https://localhost:8080/"
        }
      },
      "execution_count": null,
      "outputs": [
        {
          "output_type": "execute_result",
          "data": {
            "text/plain": [
              "<generator object Module.parameters at 0x7fbd6843bd50>"
            ]
          },
          "metadata": {},
          "execution_count": 47
        }
      ]
    },
    {
      "cell_type": "code",
      "metadata": {
        "id": "IMCjaOMFkMGU"
      },
      "source": [
        "'''\n",
        "Definition of an optimizer, in this case we select the Adam optimizer\n",
        "Another possible optimizer is the SGD that is possibile to select from \n",
        "the same class optim\n",
        "'''\n",
        "optimizer = optim.Adam(simplenet.parameters(), lr=0.001)\n",
        "optimizer_regr = optim.SGD(simplenet.parameters(),lr=0.0001)"
      ],
      "execution_count": null,
      "outputs": []
    },
    {
      "cell_type": "code",
      "metadata": {
        "id": "2cNo6C_fkSWI"
      },
      "source": [
        "'''\n",
        "And then, we need a definition of the loss. \n",
        "Also in this case, we can select one of those made available by pytorch\n",
        "For regression, for instance we could select the MSELoss\n",
        "'''\n",
        "loss = nn.CrossEntropyLoss()\n",
        "loss_regression = nn.MSELoss()"
      ],
      "execution_count": null,
      "outputs": []
    },
    {
      "cell_type": "code",
      "metadata": {
        "id": "dOFlaTSwlPLd"
      },
      "source": [
        "'''\n",
        "Let's put everything together. \n",
        "The network, the optimizer and the loss inside a training loop, using the DataLoader\n",
        "objects that we have already created.\n",
        "'''\n",
        "\n",
        "'''\n",
        "Note: model.train() --> the model is set on training mode, where the weights and biases \n",
        "are adjusted using the training instance passed in batches.\n",
        "'''\n",
        "\n",
        "\n",
        "'''\n",
        "Note: model.eval() --> when we evaluate the model on the validation set.\n",
        "'''\n",
        "\n",
        "'''\n",
        "This function with some refinements can be used for any model, the training process\n",
        "is really similar, it might change few details\n",
        "'''\n",
        "\n",
        "def train(model, optimizer, loss_fn, train_loader, val_loader, epochs=20, device=\"cpu\"):\n",
        "    model.to(device)\n",
        "    for epoch in range(1, epochs+1):\n",
        "        training_loss = 0.0\n",
        "        valid_loss = 0.0\n",
        "        model.train() #train status for the mode\n",
        "        for batch in train_loader:\n",
        "            optimizer.zero_grad() # clear gradients for next train\n",
        "            inputs, targets = batch\n",
        "            inputs = inputs.to(device)\n",
        "            targets = targets.to(device)\n",
        "            output = model(inputs)\n",
        "            loss = loss_fn(output, targets)\n",
        "            loss.backward() # backpropagation, compute gradients\n",
        "            optimizer.step() # apply gradients\n",
        "            training_loss += loss.data.item() * inputs.size(0)\n",
        "            # print(training_loss,loss.data.item(),inputs.size(0))\n",
        "        training_loss /= len(train_loader.dataset)\n",
        "        \n",
        "        with torch.no_grad(): # we are not updating the model\n",
        "          model.eval() #the status of the model is in eval\n",
        "          num_correct = 0 \n",
        "          num_examples = 0\n",
        "          for batch in val_loader:\n",
        "              inputs, targets = batch\n",
        "              inputs = inputs.to(device)\n",
        "              output = model(inputs)\n",
        "              targets = targets.to(device)\n",
        "              loss = loss_fn(output,targets) \n",
        "              valid_loss += loss.data.item() * inputs.size(0)\n",
        "              correct = torch.eq(torch.max(F.softmax(output, dim=1), dim=1)[1], targets)\n",
        "              num_correct += torch.sum(correct).item()\n",
        "              num_examples += correct.shape[0]\n",
        "          valid_loss /= len(val_loader.dataset)\n",
        "\n",
        "        print('Epoch: {}, Training Loss: {:.4f}, Validation Loss: {:.4f}, accuracy = {:.4f}'.format(epoch, training_loss,\n",
        "        valid_loss, num_correct / num_examples))"
      ],
      "execution_count": null,
      "outputs": []
    },
    {
      "cell_type": "markdown",
      "metadata": {
        "id": "6PpDyKHaNSXf"
      },
      "source": [
        "1. In each epoch:\n",
        "  \n",
        "  a. we take a batch $b$ from our training set\n",
        "  \n",
        "  b. we pass $b$ to our model and we compute the loss from the $output$\n",
        "  \n",
        "  c. to compute the gradients, we call ```backward()```\n",
        "  \n",
        "  d. the ```optimizer.step()``` method uses those gradients afterward to perform the adjustments of the weights\n",
        "\n",
        "```zero_grad()``` it is used to make sure that gradients are not influeced by previous batches. \n"
      ]
    },
    {
      "cell_type": "code",
      "metadata": {
        "colab": {
          "base_uri": "https://localhost:8080/"
        },
        "id": "1O3xvPgPOdxX",
        "outputId": "10d4b503-ef9d-4d28-d75d-5d8530cd03d8"
      },
      "source": [
        "\n",
        "'''\n",
        "How to move the model to cuda (if available)\n",
        "'''\n",
        "\n",
        "if torch.cuda.is_available():\n",
        "  device = torch.device('cuda')\n",
        "else:\n",
        "  device = torch.device('cpu')\n",
        "\n",
        "simplenet.to(device)\n"
      ],
      "execution_count": null,
      "outputs": [
        {
          "output_type": "execute_result",
          "data": {
            "text/plain": [
              "SimpleNet(\n",
              "  (fc1): Linear(in_features=784, out_features=200, bias=True)\n",
              "  (fc2): Linear(in_features=200, out_features=50, bias=True)\n",
              "  (fc3): Linear(in_features=50, out_features=10, bias=True)\n",
              ")"
            ]
          },
          "metadata": {},
          "execution_count": 55
        }
      ]
    },
    {
      "cell_type": "code",
      "metadata": {
        "colab": {
          "base_uri": "https://localhost:8080/"
        },
        "id": "V4QyMukOlTSK",
        "outputId": "8444d3e1-4e65-44e7-ec76-0e4905cde7f3"
      },
      "source": [
        "train(simplenet, optimizer,torch.nn.CrossEntropyLoss(), train_dl,val_dl, epochs=5)"
      ],
      "execution_count": null,
      "outputs": [
        {
          "output_type": "stream",
          "name": "stdout",
          "text": [
            "Epoch: 1, Training Loss: 0.3219, Validation Loss: 0.1622, accuracy = 0.9547\n",
            "Epoch: 2, Training Loss: 0.1575, Validation Loss: 0.1741, accuracy = 0.9524\n",
            "Epoch: 3, Training Loss: 0.1236, Validation Loss: 0.1541, accuracy = 0.9585\n",
            "Epoch: 4, Training Loss: 0.1111, Validation Loss: 0.1625, accuracy = 0.9578\n",
            "Epoch: 5, Training Loss: 0.0920, Validation Loss: 0.1274, accuracy = 0.9637\n"
          ]
        }
      ]
    },
    {
      "cell_type": "code",
      "metadata": {
        "id": "UVKCBda4lodb",
        "colab": {
          "base_uri": "https://localhost:8080/",
          "height": 1000
        },
        "outputId": "6cd685e8-6851-4908-d6ef-d10b232f4eac"
      },
      "source": [
        "with torch.no_grad():\n",
        "  simplenet.eval() # we move to eval state, since we don't need to update the weights and biases\n",
        "  for i in range(10):\n",
        "    plt.imshow(x_test_tensor[i].reshape((28,28)), cmap=\"gray\")\n",
        "    plt.title(y_test_tensor[i])\n",
        "    plt.show()\n",
        "    print(\"All the scores: {}\".format(simplenet(x_test_tensor[i].float())))\n",
        "    print(\"The max score: {}\".format(simplenet(x_test_tensor[i].float()).max()))\n",
        "    print(\"The index of the max score: {}\".format(simplenet(x_test_tensor[i].float()).argmax()))"
      ],
      "execution_count": null,
      "outputs": [
        {
          "output_type": "display_data",
          "data": {
            "text/plain": [
              "<Figure size 432x288 with 1 Axes>"
            ],
            "image/png": "[encoded data removed]"
          },
          "metadata": {
            "needs_background": "light"
          }
        },
        {
          "output_type": "stream",
          "name": "stdout",
          "text": [
            "All the scores: tensor([-7.9470,  1.8092,  5.6613,  5.7151,  4.7360,  6.3632, -2.7235, 17.6269,\n",
            "         5.9668,  8.3147])\n",
            "The max score: 17.62687873840332\n",
            "The index of the max score: 7\n"
          ]
        },
        {
          "output_type": "display_data",
          "data": {
            "text/plain": [
              "<Figure size 432x288 with 1 Axes>"
            ],
            "image/png": "[encoded data removed]"
          },
          "metadata": {
            "needs_background": "light"
          }
        },
        {
          "output_type": "stream",
          "name": "stdout",
          "text": [
            "All the scores: tensor([ -8.7529,   0.6192,  14.6989,   3.9918,  -7.1123, -11.4456, -20.1012,\n",
            "          4.9485,  -5.5607, -13.0810])\n",
            "The max score: 14.698896408081055\n",
            "The index of the max score: 2\n"
          ]
        },
        {
          "output_type": "display_data",
          "data": {
            "text/plain": [
              "<Figure size 432x288 with 1 Axes>"
            ],
            "image/png": "[encoded data removed]"
          },
          "metadata": {
            "needs_background": "light"
          }
        },
        {
          "output_type": "stream",
          "name": "stdout",
          "text": [
            "All the scores: tensor([-10.1010,  27.0392,   7.5584,  -1.0269,   1.3571,   1.5390,   8.4418,\n",
            "          9.7439,   3.9319,   0.3370])\n",
            "The max score: 27.039199829101562\n",
            "The index of the max score: 1\n"
          ]
        },
        {
          "output_type": "display_data",
          "data": {
            "text/plain": [
              "<Figure size 432x288 with 1 Axes>"
            ],
            "image/png": "[encoded data removed]"
          },
          "metadata": {
            "needs_background": "light"
          }
        },
        {
          "output_type": "stream",
          "name": "stdout",
          "text": [
            "All the scores: tensor([19.5197,  0.8608,  6.5476, -1.2251,  5.3939,  3.3239,  7.7623, 10.1864,\n",
            "         1.9675,  5.4724])\n",
            "The max score: 19.51967430114746\n",
            "The index of the max score: 0\n"
          ]
        },
        {
          "output_type": "display_data",
          "data": {
            "text/plain": [
              "<Figure size 432x288 with 1 Axes>"
            ],
            "image/png": "[encoded data removed]"
          },
          "metadata": {
            "needs_background": "light"
          }
        },
        {
          "output_type": "stream",
          "name": "stdout",
          "text": [
            "All the scores: tensor([-11.9052, -11.1245,  -2.7085, -18.7705,  12.5376,  -9.4351,  -1.5036,\n",
            "         -1.8195,  -6.4942,  -2.9556])\n",
            "The max score: 12.537623405456543\n",
            "The index of the max score: 4\n"
          ]
        },
        {
          "output_type": "display_data",
          "data": {
            "text/plain": [
              "<Figure size 432x288 with 1 Axes>"
            ],
            "image/png": "[encoded data removed]"
          },
          "metadata": {
            "needs_background": "light"
          }
        },
        {
          "output_type": "stream",
          "name": "stdout",
          "text": [
            "All the scores: tensor([-14.6093,  28.4472,   7.3303,  -3.5272,   3.4683,   1.6060,   7.6638,\n",
            "         10.9703,   4.9121,   0.8278])\n",
            "The max score: 28.447242736816406\n",
            "The index of the max score: 1\n"
          ]
        },
        {
          "output_type": "display_data",
          "data": {
            "text/plain": [
              "<Figure size 432x288 with 1 Axes>"
            ],
            "image/png": "[encoded data removed]"
          },
          "metadata": {
            "needs_background": "light"
          }
        },
        {
          "output_type": "stream",
          "name": "stdout",
          "text": [
            "All the scores: tensor([ -6.9393,  -7.1245,  -3.0798, -16.5684,   7.0556,  -9.7358,  -4.3899,\n",
            "         -6.7062,  -5.2915,  -4.1501])\n",
            "The max score: 7.055584907531738\n",
            "The index of the max score: 4\n"
          ]
        },
        {
          "output_type": "display_data",
          "data": {
            "text/plain": [
              "<Figure size 432x288 with 1 Axes>"
            ],
            "image/png": "[encoded data removed]"
          },
          "metadata": {
            "needs_background": "light"
          }
        },
        {
          "output_type": "stream",
          "name": "stdout",
          "text": [
            "All the scores: tensor([-0.6925,  3.7094,  2.9670,  5.6199,  6.2615,  7.0855, -8.1992,  7.0890,\n",
            "         4.3501, 13.6435])\n",
            "The max score: 13.643547058105469\n",
            "The index of the max score: 9\n"
          ]
        },
        {
          "output_type": "display_data",
          "data": {
            "text/plain": [
              "<Figure size 432x288 with 1 Axes>"
            ],
            "image/png": "[encoded data removed]"
          },
          "metadata": {
            "needs_background": "light"
          }
        },
        {
          "output_type": "stream",
          "name": "stdout",
          "text": [
            "All the scores: tensor([-3.1417, -8.4901, -4.7755, -4.2678, -5.6033,  2.2713, -2.5823, -5.2621,\n",
            "        -1.0635, -3.8775])\n",
            "The max score: 2.271263599395752\n",
            "The index of the max score: 5\n"
          ]
        },
        {
          "output_type": "display_data",
          "data": {
            "text/plain": [
              "<Figure size 432x288 with 1 Axes>"
            ],
            "image/png": "[encoded data removed]"
          },
          "metadata": {
            "needs_background": "light"
          }
        },
        {
          "output_type": "stream",
          "name": "stdout",
          "text": [
            "All the scores: tensor([ -5.8310,   2.6272,   1.6561,   0.6036,   9.6601,   7.2727, -12.7378,\n",
            "          8.1707,   0.3470,  14.7175])\n",
            "The max score: 14.7174711227417\n",
            "The index of the max score: 9\n"
          ]
        }
      ]
    },
    {
      "cell_type": "markdown",
      "metadata": {
        "id": "cZt1GghRYPzV"
      },
      "source": [
        "## Methods to find the best **Learning Rate**\n",
        "- gridsearch: use different learning rate values, and verify which is the best parameters configuration w.r.t. a certain error measure\n",
        "- Over the course of an epoch start out with a small learning rate and increase it to higher values over each batch. At the end of the epoch the learning rate will be high. We compute the ```loss``` for each rate. \n",
        "\n",
        "Then find in a plot (learning_rate, loss) the learning rate that gives the greatest decline."
      ]
    },
    {
      "cell_type": "code",
      "metadata": {
        "id": "KjQn5AaUuBne"
      },
      "source": [
        "def find_lr(model, loss_fn, optimizer, train_loader,init_value = 1e-8, final_value=1, device=\"cpu\"):\n",
        "    number_in_epoch = len(train_loader) - 1\n",
        "    update_step = (final_value / init_value) ** (1 / number_in_epoch)\n",
        "    lr = init_value\n",
        "    optimizer.param_groups[0][\"lr\"] = lr\n",
        "    training_loss = 0.0\n",
        "    best_loss = 0.0\n",
        "    batch_num = 0\n",
        "    losses = []\n",
        "    log_lrs = []\n",
        "    model.train()\n",
        "    for data in train_loader:\n",
        "      # print('Batch number: {}'.format(batch_num))\n",
        "      batch_num += 1\n",
        "      inputs, targets = data\n",
        "      inputs = inputs.to(device)\n",
        "      targets = targets.to(device)\n",
        "      optimizer.zero_grad()\n",
        "      outputs = model(inputs)\n",
        "      loss = loss_fn(outputs, targets)\n",
        "      # print(loss)\n",
        "      # Crash out if loss explodes\n",
        "\n",
        "      if batch_num > 1 and loss > 10 * best_loss:\n",
        "        print('Exploded current loss: {} best_loss: {}'.format(loss,best_loss))\n",
        "        return log_lrs, losses\n",
        "\n",
        "      # Record the best loss\n",
        "\n",
        "      if loss < best_loss or batch_num == 1:\n",
        "          best_loss = loss\n",
        "\n",
        "      # Store the values\n",
        "      losses.append(loss.item())\n",
        "      log_lrs.append((lr))\n",
        "\n",
        "      # Do the backward pass and optimize\n",
        "\n",
        "      loss.backward()\n",
        "      optimizer.step()\n",
        "\n",
        "        # Update the lr for the next step and store\n",
        "\n",
        "      lr *= update_step\n",
        "      optimizer.param_groups[0][\"lr\"] = lr\n",
        "    \n",
        "    print(len(log_lrs),len(losses))\n",
        "    if len(log_lrs) > 20:\n",
        "      print(len(log_lrs),len(losses))\n",
        "      return log_lrs[10:-5], losses[10:-5]\n",
        "    else:\n",
        "      return log_lrs, losses\n"
      ],
      "execution_count": null,
      "outputs": []
    },
    {
      "cell_type": "code",
      "metadata": {
        "colab": {
          "base_uri": "https://localhost:8080/"
        },
        "id": "8lI9Q7ggwBXi",
        "outputId": "588b81b2-c10c-4bf5-8914-5d6820820d3e"
      },
      "source": [
        "#load the data again just to be sure what we are using\n",
        "batch_size = 128\n",
        "train_ds = TensorDataset(x_train_tensor, y_train_tensor)\n",
        "train_dl = DataLoader(\n",
        "    train_ds, batch_size=batch_size, shuffle=True)\n",
        "\n",
        "simplenet = SimpleNet()\n",
        "optimizer = optim.Adam(simplenet.parameters(), lr=0.001)\n",
        "(lrs, losses) = find_lr(simplenet, torch.nn.CrossEntropyLoss(), optimizer, train_dl,device='cpu')\n"
      ],
      "execution_count": null,
      "outputs": [
        {
          "output_type": "stream",
          "name": "stdout",
          "text": [
            "Exploded current loss: 3.186920642852783 best_loss: 0.27382245659828186\n"
          ]
        }
      ]
    },
    {
      "cell_type": "code",
      "metadata": {
        "colab": {
          "base_uri": "https://localhost:8080/",
          "height": 290
        },
        "id": "ivg8q6idzKOM",
        "outputId": "538dc976-06fb-4f41-83d1-de8ac3681be5"
      },
      "source": [
        "plt.plot(lrs, losses,)\n",
        "\n",
        "plt.xscale(\"log\")\n",
        "plt.xlabel(\"Learning rate\")\n",
        "plt.ylabel(\"Loss\")\n",
        "plt.show()"
      ],
      "execution_count": null,
      "outputs": [
        {
          "output_type": "display_data",
          "data": {
            "text/plain": [
              "<Figure size 432x288 with 1 Axes>"
            ],
            "image/png": "[encoded data removed]"
          },
          "metadata": {
            "needs_background": "light"
          }
        }
      ]
    },
    {
      "cell_type": "markdown",
      "metadata": {
        "id": "EQBjzv1BHX2u"
      },
      "source": [
        "## Regression\n",
        "Let's try now with a regression problem\n",
        "\n",
        "we will use the wine quality data and try to regress on the quality"
      ]
    },
    {
      "cell_type": "code",
      "metadata": {
        "colab": {
          "base_uri": "https://localhost:8080/",
          "height": 206
        },
        "id": "4kdO4OnvMGmb",
        "outputId": "cbc2b1c3-a6e6-42bd-a650-1160723c285d"
      },
      "source": [
        "path_github = 'https://raw.githubusercontent.com/fpinell/hands_on_python_for_ds/main/data/winequality-white.csv'\n",
        "df = pd.read_csv(path_github,sep=';')\n",
        "df.head()\n"
      ],
      "execution_count": null,
      "outputs": [
        {
          "output_type": "execute_result",
          "data": {
            "text/plain": [
              "   fixed acidity  volatile acidity  citric acid  residual sugar  chlorides  \\\n",
              "0            7.0              0.27         0.36            20.7      0.045   \n",
              "1            6.3              0.30         0.34             1.6      0.049   \n",
              "2            8.1              0.28         0.40             6.9      0.050   \n",
              "3            7.2              0.23         0.32             8.5      0.058   \n",
              "4            7.2              0.23         0.32             8.5      0.058   \n",
              "\n",
              "   free sulfur dioxide  total sulfur dioxide  density    pH  sulphates  \\\n",
              "0                 45.0                 170.0   1.0010  3.00       0.45   \n",
              "1                 14.0                 132.0   0.9940  3.30       0.49   \n",
              "2                 30.0                  97.0   0.9951  3.26       0.44   \n",
              "3                 47.0                 186.0   0.9956  3.19       0.40   \n",
              "4                 47.0                 186.0   0.9956  3.19       0.40   \n",
              "\n",
              "   alcohol  quality  \n",
              "0      8.8        6  \n",
              "1      9.5        6  \n",
              "2     10.1        6  \n",
              "3      9.9        6  \n",
              "4      9.9        6  "
            ],
            "text/html": [
              "\n",
              "  <div id=\"df-660bac55-2d90-47aa-9f1f-9a152fb3027b\">\n",
              "    <div class=\"colab-df-container\">\n",
              "      <div>\n",
              "<style scoped>\n",
              "    .dataframe tbody tr th:only-of-type {\n",
              "        vertical-align: middle;\n",
              "    }\n",
              "\n",
              "    .dataframe tbody tr th {\n",
              "        vertical-align: top;\n",
              "    }\n",
              "\n",
              "    .dataframe thead th {\n",
              "        text-align: right;\n",
              "    }\n",
              "</style>\n",
              "<table border=\"1\" class=\"dataframe\">\n",
              "  <thead>\n",
              "    <tr style=\"text-align: right;\">\n",
              "      <th></th>\n",
              "      <th>fixed acidity</th>\n",
              "      <th>volatile acidity</th>\n",
              "      <th>citric acid</th>\n",
              "      <th>residual sugar</th>\n",
              "      <th>chlorides</th>\n",
              "      <th>free sulfur dioxide</th>\n",
              "      <th>total sulfur dioxide</th>\n",
              "      <th>density</th>\n",
              "      <th>pH</th>\n",
              "      <th>sulphates</th>\n",
              "      <th>alcohol</th>\n",
              "      <th>quality</th>\n",
              "    </tr>\n",
              "  </thead>\n",
              "  <tbody>\n",
              "    <tr>\n",
              "      <th>0</th>\n",
              "      <td>7.0</td>\n",
              "      <td>0.27</td>\n",
              "      <td>0.36</td>\n",
              "      <td>20.7</td>\n",
              "      <td>0.045</td>\n",
              "      <td>45.0</td>\n",
              "      <td>170.0</td>\n",
              "      <td>1.0010</td>\n",
              "      <td>3.00</td>\n",
              "      <td>0.45</td>\n",
              "      <td>8.8</td>\n",
              "      <td>6</td>\n",
              "    </tr>\n",
              "    <tr>\n",
              "      <th>1</th>\n",
              "      <td>6.3</td>\n",
              "      <td>0.30</td>\n",
              "      <td>0.34</td>\n",
              "      <td>1.6</td>\n",
              "      <td>0.049</td>\n",
              "      <td>14.0</td>\n",
              "      <td>132.0</td>\n",
              "      <td>0.9940</td>\n",
              "      <td>3.30</td>\n",
              "      <td>0.49</td>\n",
              "      <td>9.5</td>\n",
              "      <td>6</td>\n",
              "    </tr>\n",
              "    <tr>\n",
              "      <th>2</th>\n",
              "      <td>8.1</td>\n",
              "      <td>0.28</td>\n",
              "      <td>0.40</td>\n",
              "      <td>6.9</td>\n",
              "      <td>0.050</td>\n",
              "      <td>30.0</td>\n",
              "      <td>97.0</td>\n",
              "      <td>0.9951</td>\n",
              "      <td>3.26</td>\n",
              "      <td>0.44</td>\n",
              "      <td>10.1</td>\n",
              "      <td>6</td>\n",
              "    </tr>\n",
              "    <tr>\n",
              "      <th>3</th>\n",
              "      <td>7.2</td>\n",
              "      <td>0.23</td>\n",
              "      <td>0.32</td>\n",
              "      <td>8.5</td>\n",
              "      <td>0.058</td>\n",
              "      <td>47.0</td>\n",
              "      <td>186.0</td>\n",
              "      <td>0.9956</td>\n",
              "      <td>3.19</td>\n",
              "      <td>0.40</td>\n",
              "      <td>9.9</td>\n",
              "      <td>6</td>\n",
              "    </tr>\n",
              "    <tr>\n",
              "      <th>4</th>\n",
              "      <td>7.2</td>\n",
              "      <td>0.23</td>\n",
              "      <td>0.32</td>\n",
              "      <td>8.5</td>\n",
              "      <td>0.058</td>\n",
              "      <td>47.0</td>\n",
              "      <td>186.0</td>\n",
              "      <td>0.9956</td>\n",
              "      <td>3.19</td>\n",
              "      <td>0.40</td>\n",
              "      <td>9.9</td>\n",
              "      <td>6</td>\n",
              "    </tr>\n",
              "  </tbody>\n",
              "</table>\n",
              "</div>\n",
              "      <button class=\"colab-df-convert\" onclick=\"convertToInteractive('df-660bac55-2d90-47aa-9f1f-9a152fb3027b')\"\n",
              "              title=\"Convert this dataframe to an interactive table.\"\n",
              "              style=\"display:none;\">\n",
              "        \n",
              "  <svg xmlns=\"http://www.w3.org/2000/svg\" height=\"24px\"viewBox=\"0 0 24 24\"\n",
              "       width=\"24px\">\n",
              "    <path d=\"M0 0h24v24H0V0z\" fill=\"none\"/>\n",
              "    <path d=\"M18.56 5.44l.94 2.06.94-2.06 2.06-.94-2.06-.94-.94-2.06-.94 2.06-2.06.94zm-11 1L8.5 8.5l.94-2.06 2.06-.94-2.06-.94L8.5 2.5l-.94 2.06-2.06.94zm10 10l.94 2.06.94-2.06 2.06-.94-2.06-.94-.94-2.06-.94 2.06-2.06.94z\"/><path d=\"M17.41 7.96l-1.37-1.37c-.4-.4-.92-.59-1.43-.59-.52 0-1.04.2-1.43.59L10.3 9.45l-7.72 7.72c-.78.78-.78 2.05 0 2.83L4 21.41c.39.39.9.59 1.41.59.51 0 1.02-.2 1.41-.59l7.78-7.78 2.81-2.81c.8-.78.8-2.07 0-2.86zM5.41 20L4 18.59l7.72-7.72 1.47 1.35L5.41 20z\"/>\n",
              "  </svg>\n",
              "      </button>\n",
              "      \n",
              "  <style>\n",
              "    .colab-df-container {\n",
              "      display:flex;\n",
              "      flex-wrap:wrap;\n",
              "      gap: 12px;\n",
              "    }\n",
              "\n",
              "    .colab-df-convert {\n",
              "      background-color: #E8F0FE;\n",
              "      border: none;\n",
              "      border-radius: 50%;\n",
              "      cursor: pointer;\n",
              "      display: none;\n",
              "      fill: #1967D2;\n",
              "      height: 32px;\n",
              "      padding: 0 0 0 0;\n",
              "      width: 32px;\n",
              "    }\n",
              "\n",
              "    .colab-df-convert:hover {\n",
              "      background-color: #E2EBFA;\n",
              "      box-shadow: 0px 1px 2px rgba(60, 64, 67, 0.3), 0px 1px 3px 1px rgba(60, 64, 67, 0.15);\n",
              "      fill: #174EA6;\n",
              "    }\n",
              "\n",
              "    [theme=dark] .colab-df-convert {\n",
              "      background-color: #3B4455;\n",
              "      fill: #D2E3FC;\n",
              "    }\n",
              "\n",
              "    [theme=dark] .colab-df-convert:hover {\n",
              "      background-color: #434B5C;\n",
              "      box-shadow: 0px 1px 3px 1px rgba(0, 0, 0, 0.15);\n",
              "      filter: drop-shadow(0px 1px 2px rgba(0, 0, 0, 0.3));\n",
              "      fill: #FFFFFF;\n",
              "    }\n",
              "  </style>\n",
              "\n",
              "      <script>\n",
              "        const buttonEl =\n",
              "          document.querySelector('#df-660bac55-2d90-47aa-9f1f-9a152fb3027b button.colab-df-convert');\n",
              "        buttonEl.style.display =\n",
              "          google.colab.kernel.accessAllowed ? 'block' : 'none';\n",
              "\n",
              "        async function convertToInteractive(key) {\n",
              "          const element = document.querySelector('#df-660bac55-2d90-47aa-9f1f-9a152fb3027b');\n",
              "          const dataTable =\n",
              "            await google.colab.kernel.invokeFunction('convertToInteractive',\n",
              "                                                     [key], {});\n",
              "          if (!dataTable) return;\n",
              "\n",
              "          const docLinkHtml = 'Like what you see? Visit the ' +\n",
              "            '<a target=\"_blank\" href=https://colab.research.google.com/notebooks/data_table.ipynb>data table notebook</a>'\n",
              "            + ' to learn more about interactive tables.';\n",
              "          element.innerHTML = '';\n",
              "          dataTable['output_type'] = 'display_data';\n",
              "          await google.colab.output.renderOutput(dataTable, element);\n",
              "          const docLink = document.createElement('div');\n",
              "          docLink.innerHTML = docLinkHtml;\n",
              "          element.appendChild(docLink);\n",
              "        }\n",
              "      </script>\n",
              "    </div>\n",
              "  </div>\n",
              "  "
            ]
          },
          "metadata": {},
          "execution_count": 61
        }
      ]
    },
    {
      "cell_type": "code",
      "metadata": {
        "colab": {
          "base_uri": "https://localhost:8080/"
        },
        "id": "Rkzfh9VcVTbu",
        "outputId": "fe0006b5-0b84-45a7-b164-87302b9195fd"
      },
      "source": [
        "df.info()"
      ],
      "execution_count": null,
      "outputs": [
        {
          "output_type": "stream",
          "name": "stdout",
          "text": [
            "<class 'pandas.core.frame.DataFrame'>\n",
            "RangeIndex: 4898 entries, 0 to 4897\n",
            "Data columns (total 12 columns):\n",
            " #   Column                Non-Null Count  Dtype  \n",
            "---  ------                --------------  -----  \n",
            " 0   fixed acidity         4898 non-null   float64\n",
            " 1   volatile acidity      4898 non-null   float64\n",
            " 2   citric acid           4898 non-null   float64\n",
            " 3   residual sugar        4898 non-null   float64\n",
            " 4   chlorides             4898 non-null   float64\n",
            " 5   free sulfur dioxide   4898 non-null   float64\n",
            " 6   total sulfur dioxide  4898 non-null   float64\n",
            " 7   density               4898 non-null   float64\n",
            " 8   pH                    4898 non-null   float64\n",
            " 9   sulphates             4898 non-null   float64\n",
            " 10  alcohol               4898 non-null   float64\n",
            " 11  quality               4898 non-null   int64  \n",
            "dtypes: float64(11), int64(1)\n",
            "memory usage: 459.3 KB\n"
          ]
        }
      ]
    },
    {
      "cell_type": "code",
      "metadata": {
        "colab": {
          "base_uri": "https://localhost:8080/",
          "height": 286
        },
        "id": "u5JJp1Tdc2ku",
        "outputId": "c6753f4c-640a-44b1-a931-ce1d4da8d811"
      },
      "source": [
        "import seaborn as sns\n",
        "\n",
        "sns.countplot(x = 'quality', data=df)\n",
        "\n",
        "X = df.iloc[:, 0:-1]\n",
        "y = df.iloc[:, -1]"
      ],
      "execution_count": null,
      "outputs": [
        {
          "output_type": "display_data",
          "data": {
            "text/plain": [
              "<Figure size 432x288 with 1 Axes>"
            ],
            "image/png": "[encoded data removed]"
          },
          "metadata": {
            "needs_background": "light"
          }
        }
      ]
    },
    {
      "cell_type": "code",
      "metadata": {
        "id": "DznAmk5mfu3W"
      },
      "source": [
        "from sklearn.model_selection import train_test_split\n",
        "\n",
        "# Train - Test\n",
        "X_trainval, X_test, y_trainval, y_test = train_test_split(X, y, test_size=0.2, random_state=69)\n",
        "# Split train into train-val\n",
        "X_train, X_val, y_train, y_val = train_test_split(X_trainval, y_trainval, test_size=0.1, random_state=21)\n"
      ],
      "execution_count": null,
      "outputs": []
    },
    {
      "cell_type": "code",
      "metadata": {
        "id": "ZeH9B5jhf6xu"
      },
      "source": [
        "from sklearn.preprocessing import MinMaxScaler\n",
        "scaler = MinMaxScaler() # scaling the data\n",
        "X_train = scaler.fit_transform(X_train)\n",
        "X_val = scaler.transform(X_val)\n",
        "X_test = scaler.transform(X_test)\n",
        "X_train, y_train = np.array(X_train), np.array(y_train)\n",
        "X_val, y_val = np.array(X_val), np.array(y_val)\n",
        "X_test, y_test = np.array(X_test), np.array(y_test)"
      ],
      "execution_count": null,
      "outputs": []
    },
    {
      "cell_type": "code",
      "metadata": {
        "id": "5sdbg5Nyf_hG"
      },
      "source": [
        "y_train, y_test, y_val = y_train.astype(float), y_test.astype(float), y_val.astype(float)\n"
      ],
      "execution_count": null,
      "outputs": []
    },
    {
      "cell_type": "code",
      "metadata": {
        "id": "Ij_kB38zgKrl"
      },
      "source": [
        "import torch\n",
        "import torch.nn as nn\n",
        "import torch.optim as optim\n",
        "from torch.utils.data import Dataset, DataLoader\n",
        "class RegressionDataset(Dataset):\n",
        "    \n",
        "    def __init__(self, X_data, y_data):\n",
        "        self.X_data = X_data\n",
        "        self.y_data = y_data\n",
        "        \n",
        "    def __getitem__(self, index):\n",
        "        return self.X_data[index], self.y_data[index]\n",
        "        \n",
        "    def __len__ (self):\n",
        "        return len(self.X_data)\n"
      ],
      "execution_count": null,
      "outputs": []
    },
    {
      "cell_type": "code",
      "metadata": {
        "id": "SJNJ1tqGVtdJ"
      },
      "source": [
        "train_dataset = RegressionDataset(torch.from_numpy(X_train).float(), torch.from_numpy(y_train).float())\n",
        "val_dataset = RegressionDataset(torch.from_numpy(X_val).float(), torch.from_numpy(y_val).float())\n",
        "test_dataset = RegressionDataset(torch.from_numpy(X_test).float(), torch.from_numpy(y_test).float())"
      ],
      "execution_count": null,
      "outputs": []
    },
    {
      "cell_type": "code",
      "metadata": {
        "colab": {
          "base_uri": "https://localhost:8080/"
        },
        "id": "u3eL2nEwg05k",
        "outputId": "6ea61ab1-60e7-40b8-c118-245fe0958e1e"
      },
      "source": [
        "print(\"The type of train_dataset is? {}\".format(type(train_dataset)))"
      ],
      "execution_count": null,
      "outputs": [
        {
          "output_type": "stream",
          "name": "stdout",
          "text": [
            "The type of train_dataset is? <class '__main__.RegressionDataset'>\n"
          ]
        }
      ]
    },
    {
      "cell_type": "code",
      "metadata": {
        "id": "yUaCDvdKgmak"
      },
      "source": [
        "EPOCHS = 150\n",
        "BATCH_SIZE = 64\n",
        "LEARNING_RATE = 0.001\n",
        "NUM_FEATURES = X.shape[1]"
      ],
      "execution_count": null,
      "outputs": []
    },
    {
      "cell_type": "code",
      "metadata": {
        "id": "5o1AwYLZgm2l"
      },
      "source": [
        "train_loader = DataLoader(dataset=train_dataset, batch_size=BATCH_SIZE, shuffle=True)\n",
        "val_loader = DataLoader(dataset=val_dataset, batch_size=32)\n",
        "test_loader = DataLoader(dataset=test_dataset, batch_size=1)"
      ],
      "execution_count": null,
      "outputs": []
    },
    {
      "cell_type": "code",
      "metadata": {
        "colab": {
          "base_uri": "https://localhost:8080/"
        },
        "id": "n19c27JEV_rA",
        "outputId": "3c8e89c1-6c41-4ed6-f07a-bf8728474c2a"
      },
      "source": [
        "print(\"The type of train_dataset is? {}\".format(type(train_loader)))"
      ],
      "execution_count": null,
      "outputs": [
        {
          "output_type": "stream",
          "name": "stdout",
          "text": [
            "The type of train_dataset is? <class 'torch.utils.data.dataloader.DataLoader'>\n"
          ]
        }
      ]
    },
    {
      "cell_type": "code",
      "metadata": {
        "id": "LZeeZQfahAwW"
      },
      "source": [
        "class MultipleRegression(nn.Module):\n",
        "    def __init__(self, num_features):\n",
        "        super(MultipleRegression, self).__init__()\n",
        "        \n",
        "        self.layer_1 = nn.Linear(num_features, 16)\n",
        "        self.layer_2 = nn.Linear(16, 32)\n",
        "        self.layer_3 = nn.Linear(32, 16)\n",
        "        self.layer_out = nn.Linear(16, 1)\n",
        "        \n",
        "        self.relu = nn.ReLU()\n",
        "    \n",
        "    def forward(self, inputs):\n",
        "        x = self.relu(self.layer_1(inputs))\n",
        "        x = self.relu(self.layer_2(x))\n",
        "        x = self.relu(self.layer_3(x))\n",
        "        x = self.layer_out(x)\n",
        "        return (x)\n",
        "    \n",
        "    def predict(self, test_inputs):\n",
        "        x = self.relu(self.layer_1(test_inputs))\n",
        "        x = self.relu(self.layer_2(x))\n",
        "        x = self.relu(self.layer_3(x))\n",
        "        x = self.layer_out(x)\n",
        "        return (x)"
      ],
      "execution_count": null,
      "outputs": []
    },
    {
      "cell_type": "code",
      "source": [
        "model = MultipleRegression(NUM_FEATURES)\n"
      ],
      "metadata": {
        "id": "8vWtsymA4AUc"
      },
      "execution_count": null,
      "outputs": []
    },
    {
      "cell_type": "code",
      "source": [
        "model"
      ],
      "metadata": {
        "id": "ldK7lgrH4Bke",
        "outputId": "fcaa662c-2b32-45de-a1be-9a2492a458b3",
        "colab": {
          "base_uri": "https://localhost:8080/"
        }
      },
      "execution_count": null,
      "outputs": [
        {
          "output_type": "execute_result",
          "data": {
            "text/plain": [
              "MultipleRegression(\n",
              "  (layer_1): Linear(in_features=11, out_features=16, bias=True)\n",
              "  (layer_2): Linear(in_features=16, out_features=32, bias=True)\n",
              "  (layer_3): Linear(in_features=32, out_features=16, bias=True)\n",
              "  (layer_out): Linear(in_features=16, out_features=1, bias=True)\n",
              "  (relu): ReLU()\n",
              ")"
            ]
          },
          "metadata": {},
          "execution_count": 74
        }
      ]
    },
    {
      "cell_type": "code",
      "metadata": {
        "colab": {
          "base_uri": "https://localhost:8080/"
        },
        "id": "D6cL3PE2hM-m",
        "outputId": "94ba75ba-d45a-49a7-ca4d-e7a42464d610"
      },
      "source": [
        "model = MultipleRegression(NUM_FEATURES)\n",
        "# model.to(device)\n",
        "print(model)\n",
        "criterion = nn.MSELoss()\n",
        "optimizer = optim.Adam(model.parameters(), lr=LEARNING_RATE)\n"
      ],
      "execution_count": null,
      "outputs": [
        {
          "output_type": "stream",
          "name": "stdout",
          "text": [
            "MultipleRegression(\n",
            "  (layer_1): Linear(in_features=11, out_features=16, bias=True)\n",
            "  (layer_2): Linear(in_features=16, out_features=32, bias=True)\n",
            "  (layer_3): Linear(in_features=32, out_features=16, bias=True)\n",
            "  (layer_out): Linear(in_features=16, out_features=1, bias=True)\n",
            "  (relu): ReLU()\n",
            ")\n"
          ]
        }
      ]
    },
    {
      "cell_type": "code",
      "metadata": {
        "id": "Bq5WhgCOhaXN"
      },
      "source": [
        "loss_stats = {\n",
        "    'train': [],\n",
        "    \"val\": []\n",
        "}"
      ],
      "execution_count": null,
      "outputs": []
    },
    {
      "cell_type": "code",
      "metadata": {
        "colab": {
          "base_uri": "https://localhost:8080/"
        },
        "id": "-x4UIUqHq0nT",
        "outputId": "3831da73-5a99-4f36-de0c-63f32b22a5fd"
      },
      "source": [
        "device = torch.device(\"cuda:0\" if torch.cuda.is_available() else \"cpu\")\n",
        "print(device)"
      ],
      "execution_count": null,
      "outputs": [
        {
          "output_type": "stream",
          "name": "stdout",
          "text": [
            "cpu\n"
          ]
        }
      ]
    },
    {
      "cell_type": "code",
      "metadata": {
        "colab": {
          "base_uri": "https://localhost:8080/"
        },
        "id": "iLOs6LwUhd91",
        "outputId": "c679a01f-5171-4ce4-8448-7b1b2132e927"
      },
      "source": [
        "model.to(device)\n",
        "print(\"Begin training.\")\n",
        "for e in range(1, EPOCHS+1):\n",
        "    \n",
        "    # TRAINING\n",
        "    train_epoch_loss = 0\n",
        "    model.train()\n",
        "    for X_train_batch, y_train_batch in train_loader:\n",
        "        X_train_batch, y_train_batch = X_train_batch.to(device), y_train_batch.to(device)\n",
        "        optimizer.zero_grad()\n",
        "        \n",
        "        y_train_pred = model(X_train_batch)\n",
        "        \n",
        "        train_loss = criterion(y_train_pred, y_train_batch.reshape(-1,1))\n",
        "        \n",
        "        train_loss.backward()\n",
        "        optimizer.step()\n",
        "        \n",
        "        train_epoch_loss += train_loss.item()\n",
        "    # VALIDATION    \n",
        "    with torch.no_grad():\n",
        "        \n",
        "        val_epoch_loss = 0\n",
        "        \n",
        "        model.eval()\n",
        "        for X_val_batch, y_val_batch in val_loader:\n",
        "            X_val_batch, y_val_batch = X_val_batch.to(device), y_val_batch.to(device)\n",
        "            \n",
        "            y_val_pred = model(X_val_batch)\n",
        "                        \n",
        "            val_loss = criterion(y_val_pred, y_val_batch.unsqueeze(1))\n",
        "            \n",
        "            val_epoch_loss += val_loss.item()\n",
        "        loss_stats['train'].append(train_epoch_loss/len(train_loader))\n",
        "        loss_stats['val'].append(val_epoch_loss/len(val_loader))                              \n",
        "    \n",
        "    print(f'Epoch {e+0:03}: | Train Loss: {train_epoch_loss/len(train_loader):.5f} | Val Loss: {val_epoch_loss/len(val_loader):.5f}')\n"
      ],
      "execution_count": null,
      "outputs": [
        {
          "output_type": "stream",
          "name": "stdout",
          "text": [
            "Begin training.\n",
            "Epoch 001: | Train Loss: 32.86743 | Val Loss: 25.86150\n",
            "Epoch 002: | Train Loss: 10.88910 | Val Loss: 1.10699\n",
            "Epoch 003: | Train Loss: 0.88484 | Val Loss: 0.78554\n",
            "Epoch 004: | Train Loss: 0.80131 | Val Loss: 0.76632\n",
            "Epoch 005: | Train Loss: 0.76513 | Val Loss: 0.74997\n",
            "Epoch 006: | Train Loss: 0.74099 | Val Loss: 0.73444\n",
            "Epoch 007: | Train Loss: 0.72318 | Val Loss: 0.71661\n",
            "Epoch 008: | Train Loss: 0.70860 | Val Loss: 0.70458\n",
            "Epoch 009: | Train Loss: 0.69079 | Val Loss: 0.69420\n",
            "Epoch 010: | Train Loss: 0.68946 | Val Loss: 0.68754\n",
            "Epoch 011: | Train Loss: 0.66791 | Val Loss: 0.68011\n",
            "Epoch 012: | Train Loss: 0.66897 | Val Loss: 0.67269\n",
            "Epoch 013: | Train Loss: 0.66314 | Val Loss: 0.66465\n",
            "Epoch 014: | Train Loss: 0.63989 | Val Loss: 0.66386\n",
            "Epoch 015: | Train Loss: 0.63572 | Val Loss: 0.65194\n",
            "Epoch 016: | Train Loss: 0.62458 | Val Loss: 0.66218\n",
            "Epoch 017: | Train Loss: 0.61756 | Val Loss: 0.63810\n",
            "Epoch 018: | Train Loss: 0.61810 | Val Loss: 0.63052\n",
            "Epoch 019: | Train Loss: 0.60486 | Val Loss: 0.62602\n",
            "Epoch 020: | Train Loss: 0.61282 | Val Loss: 0.62218\n",
            "Epoch 021: | Train Loss: 0.59169 | Val Loss: 0.61544\n",
            "Epoch 022: | Train Loss: 0.58221 | Val Loss: 0.60705\n",
            "Epoch 023: | Train Loss: 0.57749 | Val Loss: 0.60439\n",
            "Epoch 024: | Train Loss: 0.57631 | Val Loss: 0.59994\n",
            "Epoch 025: | Train Loss: 0.56975 | Val Loss: 0.59673\n",
            "Epoch 026: | Train Loss: 0.58060 | Val Loss: 0.59721\n",
            "Epoch 027: | Train Loss: 0.56647 | Val Loss: 0.59191\n",
            "Epoch 028: | Train Loss: 0.57032 | Val Loss: 0.59191\n",
            "Epoch 029: | Train Loss: 0.57371 | Val Loss: 0.59590\n",
            "Epoch 030: | Train Loss: 0.55585 | Val Loss: 0.58838\n",
            "Epoch 031: | Train Loss: 0.56464 | Val Loss: 0.59603\n",
            "Epoch 032: | Train Loss: 0.55707 | Val Loss: 0.58842\n",
            "Epoch 033: | Train Loss: 0.55330 | Val Loss: 0.59786\n",
            "Epoch 034: | Train Loss: 0.55467 | Val Loss: 0.59262\n",
            "Epoch 035: | Train Loss: 0.54698 | Val Loss: 0.58074\n",
            "Epoch 036: | Train Loss: 0.54422 | Val Loss: 0.58483\n",
            "Epoch 037: | Train Loss: 0.55176 | Val Loss: 0.58263\n",
            "Epoch 038: | Train Loss: 0.54605 | Val Loss: 0.57872\n",
            "Epoch 039: | Train Loss: 0.55722 | Val Loss: 0.58148\n",
            "Epoch 040: | Train Loss: 0.55264 | Val Loss: 0.57091\n",
            "Epoch 041: | Train Loss: 0.53491 | Val Loss: 0.57178\n",
            "Epoch 042: | Train Loss: 0.57342 | Val Loss: 0.56880\n",
            "Epoch 043: | Train Loss: 0.54220 | Val Loss: 0.57959\n",
            "Epoch 044: | Train Loss: 0.54367 | Val Loss: 0.61052\n",
            "Epoch 045: | Train Loss: 0.53976 | Val Loss: 0.57659\n",
            "Epoch 046: | Train Loss: 0.54307 | Val Loss: 0.57181\n",
            "Epoch 047: | Train Loss: 0.54261 | Val Loss: 0.57814\n",
            "Epoch 048: | Train Loss: 0.53224 | Val Loss: 0.56411\n",
            "Epoch 049: | Train Loss: 0.53705 | Val Loss: 0.57042\n",
            "Epoch 050: | Train Loss: 0.53978 | Val Loss: 0.56124\n",
            "Epoch 051: | Train Loss: 0.53773 | Val Loss: 0.56974\n",
            "Epoch 052: | Train Loss: 0.53604 | Val Loss: 0.56189\n",
            "Epoch 053: | Train Loss: 0.52818 | Val Loss: 0.56239\n",
            "Epoch 054: | Train Loss: 0.53444 | Val Loss: 0.55897\n",
            "Epoch 055: | Train Loss: 0.52877 | Val Loss: 0.55976\n",
            "Epoch 056: | Train Loss: 0.53121 | Val Loss: 0.56788\n",
            "Epoch 057: | Train Loss: 0.53098 | Val Loss: 0.56782\n",
            "Epoch 058: | Train Loss: 0.53505 | Val Loss: 0.56571\n",
            "Epoch 059: | Train Loss: 0.53310 | Val Loss: 0.55856\n",
            "Epoch 060: | Train Loss: 0.53020 | Val Loss: 0.57375\n",
            "Epoch 061: | Train Loss: 0.52832 | Val Loss: 0.55868\n",
            "Epoch 062: | Train Loss: 0.52568 | Val Loss: 0.54771\n",
            "Epoch 063: | Train Loss: 0.53866 | Val Loss: 0.55442\n",
            "Epoch 064: | Train Loss: 0.52222 | Val Loss: 0.55308\n",
            "Epoch 065: | Train Loss: 0.51998 | Val Loss: 0.55013\n",
            "Epoch 066: | Train Loss: 0.52316 | Val Loss: 0.55700\n",
            "Epoch 067: | Train Loss: 0.53665 | Val Loss: 0.55083\n",
            "Epoch 068: | Train Loss: 0.52692 | Val Loss: 0.55088\n",
            "Epoch 069: | Train Loss: 0.51781 | Val Loss: 0.54547\n",
            "Epoch 070: | Train Loss: 0.52296 | Val Loss: 0.55600\n",
            "Epoch 071: | Train Loss: 0.52743 | Val Loss: 0.55098\n",
            "Epoch 072: | Train Loss: 0.53230 | Val Loss: 0.55962\n",
            "Epoch 073: | Train Loss: 0.52024 | Val Loss: 0.55034\n",
            "Epoch 074: | Train Loss: 0.51419 | Val Loss: 0.55449\n",
            "Epoch 075: | Train Loss: 0.51167 | Val Loss: 0.54481\n",
            "Epoch 076: | Train Loss: 0.52014 | Val Loss: 0.55228\n",
            "Epoch 077: | Train Loss: 0.52042 | Val Loss: 0.54250\n",
            "Epoch 078: | Train Loss: 0.51232 | Val Loss: 0.56132\n",
            "Epoch 079: | Train Loss: 0.51703 | Val Loss: 0.55816\n",
            "Epoch 080: | Train Loss: 0.54037 | Val Loss: 0.54374\n",
            "Epoch 081: | Train Loss: 0.51754 | Val Loss: 0.55551\n",
            "Epoch 082: | Train Loss: 0.51396 | Val Loss: 0.54747\n",
            "Epoch 083: | Train Loss: 0.51163 | Val Loss: 0.53831\n",
            "Epoch 084: | Train Loss: 0.51583 | Val Loss: 0.55330\n",
            "Epoch 085: | Train Loss: 0.51639 | Val Loss: 0.54337\n",
            "Epoch 086: | Train Loss: 0.51102 | Val Loss: 0.54147\n",
            "Epoch 087: | Train Loss: 0.51340 | Val Loss: 0.54117\n",
            "Epoch 088: | Train Loss: 0.52241 | Val Loss: 0.53368\n",
            "Epoch 089: | Train Loss: 0.51353 | Val Loss: 0.54242\n",
            "Epoch 090: | Train Loss: 0.51976 | Val Loss: 0.54516\n",
            "Epoch 091: | Train Loss: 0.51668 | Val Loss: 0.54124\n",
            "Epoch 092: | Train Loss: 0.52067 | Val Loss: 0.54676\n",
            "Epoch 093: | Train Loss: 0.51912 | Val Loss: 0.56360\n",
            "Epoch 094: | Train Loss: 0.51169 | Val Loss: 0.55422\n",
            "Epoch 095: | Train Loss: 0.51250 | Val Loss: 0.55160\n",
            "Epoch 096: | Train Loss: 0.51667 | Val Loss: 0.53868\n",
            "Epoch 097: | Train Loss: 0.52401 | Val Loss: 0.52946\n",
            "Epoch 098: | Train Loss: 0.52706 | Val Loss: 0.53172\n",
            "Epoch 099: | Train Loss: 0.51190 | Val Loss: 0.55619\n",
            "Epoch 100: | Train Loss: 0.51625 | Val Loss: 0.53765\n",
            "Epoch 101: | Train Loss: 0.50998 | Val Loss: 0.53174\n",
            "Epoch 102: | Train Loss: 0.52048 | Val Loss: 0.53449\n",
            "Epoch 103: | Train Loss: 0.50939 | Val Loss: 0.53579\n",
            "Epoch 104: | Train Loss: 0.50919 | Val Loss: 0.53816\n",
            "Epoch 105: | Train Loss: 0.52001 | Val Loss: 0.54012\n",
            "Epoch 106: | Train Loss: 0.51389 | Val Loss: 0.54441\n",
            "Epoch 107: | Train Loss: 0.50949 | Val Loss: 0.53347\n",
            "Epoch 108: | Train Loss: 0.51344 | Val Loss: 0.53296\n",
            "Epoch 109: | Train Loss: 0.51055 | Val Loss: 0.52552\n",
            "Epoch 110: | Train Loss: 0.52043 | Val Loss: 0.53223\n",
            "Epoch 111: | Train Loss: 0.50631 | Val Loss: 0.53499\n",
            "Epoch 112: | Train Loss: 0.51333 | Val Loss: 0.55055\n",
            "Epoch 113: | Train Loss: 0.50568 | Val Loss: 0.52670\n",
            "Epoch 114: | Train Loss: 0.50566 | Val Loss: 0.52483\n",
            "Epoch 115: | Train Loss: 0.51140 | Val Loss: 0.52922\n",
            "Epoch 116: | Train Loss: 0.52189 | Val Loss: 0.52709\n",
            "Epoch 117: | Train Loss: 0.50716 | Val Loss: 0.53624\n",
            "Epoch 118: | Train Loss: 0.52530 | Val Loss: 0.53679\n",
            "Epoch 119: | Train Loss: 0.51497 | Val Loss: 0.53907\n",
            "Epoch 120: | Train Loss: 0.50872 | Val Loss: 0.52968\n",
            "Epoch 121: | Train Loss: 0.51134 | Val Loss: 0.53376\n",
            "Epoch 122: | Train Loss: 0.50426 | Val Loss: 0.53858\n",
            "Epoch 123: | Train Loss: 0.53437 | Val Loss: 0.53562\n",
            "Epoch 124: | Train Loss: 0.51768 | Val Loss: 0.52613\n",
            "Epoch 125: | Train Loss: 0.50746 | Val Loss: 0.59650\n",
            "Epoch 126: | Train Loss: 0.50933 | Val Loss: 0.53113\n",
            "Epoch 127: | Train Loss: 0.50618 | Val Loss: 0.53681\n",
            "Epoch 128: | Train Loss: 0.50725 | Val Loss: 0.53523\n",
            "Epoch 129: | Train Loss: 0.52008 | Val Loss: 0.51684\n",
            "Epoch 130: | Train Loss: 0.51408 | Val Loss: 0.53435\n",
            "Epoch 131: | Train Loss: 0.51243 | Val Loss: 0.53332\n",
            "Epoch 132: | Train Loss: 0.52947 | Val Loss: 0.52899\n",
            "Epoch 133: | Train Loss: 0.52074 | Val Loss: 0.53014\n",
            "Epoch 134: | Train Loss: 0.50508 | Val Loss: 0.52805\n",
            "Epoch 135: | Train Loss: 0.50846 | Val Loss: 0.52533\n",
            "Epoch 136: | Train Loss: 0.51304 | Val Loss: 0.56370\n",
            "Epoch 137: | Train Loss: 0.51938 | Val Loss: 0.52036\n",
            "Epoch 138: | Train Loss: 0.51217 | Val Loss: 0.52594\n",
            "Epoch 139: | Train Loss: 0.51033 | Val Loss: 0.53482\n",
            "Epoch 140: | Train Loss: 0.51626 | Val Loss: 0.52329\n",
            "Epoch 141: | Train Loss: 0.50689 | Val Loss: 0.52778\n",
            "Epoch 142: | Train Loss: 0.50705 | Val Loss: 0.52763\n",
            "Epoch 143: | Train Loss: 0.50456 | Val Loss: 0.53959\n",
            "Epoch 144: | Train Loss: 0.51948 | Val Loss: 0.52369\n",
            "Epoch 145: | Train Loss: 0.50729 | Val Loss: 0.52502\n",
            "Epoch 146: | Train Loss: 0.51072 | Val Loss: 0.52417\n",
            "Epoch 147: | Train Loss: 0.50518 | Val Loss: 0.51649\n",
            "Epoch 148: | Train Loss: 0.49827 | Val Loss: 0.53722\n",
            "Epoch 149: | Train Loss: 0.51441 | Val Loss: 0.51692\n",
            "Epoch 150: | Train Loss: 0.50966 | Val Loss: 0.52251\n"
          ]
        }
      ]
    },
    {
      "cell_type": "code",
      "metadata": {
        "colab": {
          "base_uri": "https://localhost:8080/",
          "height": 428
        },
        "id": "Sj95w8rvh0Gf",
        "outputId": "909c6f64-3ccf-4365-cdc3-e2bf3356ec46"
      },
      "source": [
        "train_val_loss_df = pd.DataFrame.from_dict(loss_stats).reset_index().melt(id_vars=['index']).rename(columns={\"index\":\"epochs\"})\n",
        "plt.figure(figsize=(10,6))\n",
        "sns.lineplot(data=train_val_loss_df.loc[3:,:], x = \"epochs\", y=\"value\", hue=\"variable\").set_title('Train-Val Loss/Epoch')"
      ],
      "execution_count": null,
      "outputs": [
        {
          "output_type": "execute_result",
          "data": {
            "text/plain": [
              "Text(0.5, 1.0, 'Train-Val Loss/Epoch')"
            ]
          },
          "metadata": {},
          "execution_count": 89
        },
        {
          "output_type": "display_data",
          "data": {
            "text/plain": [
              "<Figure size 720x432 with 1 Axes>"
            ],
            "image/png": "[encoded data removed]"
          },
          "metadata": {
            "needs_background": "light"
          }
        }
      ]
    },
    {
      "cell_type": "code",
      "metadata": {
        "id": "WHviRzqnkCRp"
      },
      "source": [
        "y_pred_list = []\n",
        "with torch.no_grad():\n",
        "    model.eval()\n",
        "    for X_batch, _ in test_loader:\n",
        "        X_batch = X_batch.to(device)\n",
        "        y_test_pred = model(X_batch)\n",
        "        y_pred_list.append(y_test_pred.cpu().numpy())\n",
        "y_pred_list = [a.squeeze().tolist() for a in y_pred_list]"
      ],
      "execution_count": null,
      "outputs": []
    },
    {
      "cell_type": "code",
      "metadata": {
        "colab": {
          "base_uri": "https://localhost:8080/"
        },
        "id": "kPde4baRkHoG",
        "outputId": "99de0cb9-c0ca-4c0f-d969-0872be60d512"
      },
      "source": [
        "from sklearn.metrics import mean_squared_error, r2_score\n",
        "mse = mean_squared_error(y_test, y_pred_list)\n",
        "r_square = r2_score(y_test, y_pred_list)\n",
        "print(\"Mean Squared Error :\",mse)\n",
        "print(\"R^2 :\",r_square)"
      ],
      "execution_count": null,
      "outputs": [
        {
          "output_type": "stream",
          "name": "stdout",
          "text": [
            "Mean Squared Error : 0.5403112343808196\n",
            "R^2 : 0.3312641958913827\n"
          ]
        }
      ]
    },
    {
      "cell_type": "markdown",
      "source": [
        "### Classification with embeddings\n",
        "\n",
        "Tabular data might contain continous values as well as discrite values (categories). \n",
        "- Categorical variable can be handled with: \n",
        "  - onehot encoding\n",
        "  - embeddings --> use Neural Networks to project the data in a new space where similar objects are closer. \n",
        "\n",
        "  Let's try to see this latest part "
      ],
      "metadata": {
        "id": "Hux4uvjNaDow"
      }
    },
    {
      "cell_type": "code",
      "source": [
        "from google.colab import drive\n",
        "drive.mount('/content/drive')"
      ],
      "metadata": {
        "colab": {
          "base_uri": "https://localhost:8080/"
        },
        "id": "liSlfh6BdCUt",
        "outputId": "aeed463a-ea09-44e8-f793-36fb9d750c1e"
      },
      "execution_count": null,
      "outputs": [
        {
          "output_type": "stream",
          "name": "stdout",
          "text": [
            "Mounted at /content/drive\n"
          ]
        }
      ]
    },
    {
      "cell_type": "code",
      "source": [
        "df = pd.read_csv('/content/drive/Shareddrives/phd_hands_on/data/titanic/train.csv')\n",
        "\n",
        "\n",
        "df_train = df[['PassengerId','Survived','Pclass', \n",
        "                     'Sex', 'Age', 'SibSp','Parch',\n",
        "                     'Fare', 'Embarked']].copy()\n",
        "\n",
        "X = df_train[['Pclass', 'Sex', 'Age', 'SibSp','Parch',\n",
        "                     'Fare', 'Embarked']].copy()\n",
        "Y = df_train[['Survived']].copy()\n",
        "\n",
        "\n",
        "\n",
        "cat_columns = [\"Pclass\", \"Sex\", \"Embarked\"]\n",
        "num_columns = [\"Age\", \"SibSp\", \"Parch\", \"Fare\"]\n",
        "\n",
        "\n",
        "for c in cat_columns:\n",
        "  X[c] =  X[c].astype(\"category\")\n",
        "\n",
        "\n",
        "embedded_cols = {n: len(col.cat.categories) for n,col in X[cat_columns].items() }\n",
        "emb_cols = embedded_cols.keys() # names of columns chosen for embedding\n",
        "print(emb_cols)\n",
        "emb_szs = [(c+1, 2) for _,c in embedded_cols.items()] #embedding sizes for the chosen columns\n"
      ],
      "metadata": {
        "colab": {
          "base_uri": "https://localhost:8080/"
        },
        "id": "XUNUPmCmaylh",
        "outputId": "14adb4a4-001a-40ec-ba1f-6d9d67d1d1e6"
      },
      "execution_count": null,
      "outputs": [
        {
          "output_type": "stream",
          "name": "stdout",
          "text": [
            "dict_keys(['Pclass', 'Sex', 'Embarked'])\n"
          ]
        }
      ]
    },
    {
      "cell_type": "code",
      "source": [
        "from torch.utils.data import Dataset, DataLoader\n",
        "import numpy as np\n",
        "class myCategoricalDataset(Dataset):\n",
        "    def __init__(self, X, Y, emb_cols):\n",
        "        X = X.copy()\n",
        "        self.X1 = X.loc[:,emb_cols].copy().values.astype(np.int64) #categorical columns\n",
        "        self.X2 = X.drop(columns=emb_cols).copy().values.astype(np.float32) #numerical columns\n",
        "        self.y = Y.copy().values.astype(np.int64)\n",
        "        \n",
        "    def __len__(self):\n",
        "        return len(self.y)\n",
        "    \n",
        "    def __getitem__(self, idx):\n",
        "        return self.X1[idx], self.X2[idx], self.y[idx]\n",
        " "
      ],
      "metadata": {
        "id": "t1UFarCebZ2C"
      },
      "execution_count": null,
      "outputs": []
    },
    {
      "cell_type": "code",
      "source": [
        "from sklearn.preprocessing import LabelEncoder\n",
        "\n",
        "for col in X.columns:\n",
        "    if X.dtypes[col] == \"object\":\n",
        "        X[col] = X[col].fillna(\"NA\")\n",
        "    X[col] = LabelEncoder().fit_transform(X[col])"
      ],
      "metadata": {
        "id": "NrO0lCFjbhGl"
      },
      "execution_count": null,
      "outputs": []
    },
    {
      "cell_type": "code",
      "source": [
        "train_ds = myCategoricalDataset(X, Y, emb_cols)\n",
        "valid_ds = myCategoricalDataset(X, Y, emb_cols)\n",
        "\n",
        "batch_size = 64\n",
        "train_dl = DataLoader(train_ds, batch_size=batch_size,shuffle=True)\n",
        "valid_dl = DataLoader(valid_ds, batch_size=batch_size,shuffle=True)"
      ],
      "metadata": {
        "id": "y4FI0_FJbk7R"
      },
      "execution_count": null,
      "outputs": []
    },
    {
      "cell_type": "code",
      "source": [
        "class MoreComplexNN(nn.Module):\n",
        "    def __init__(self, embedding_sizes, n_cont):\n",
        "        super().__init__()\n",
        "        self.embeddings = nn.ModuleList([nn.Embedding(categories, size) for categories,size in embedding_sizes])\n",
        "        n_emb = sum(e.embedding_dim for e in self.embeddings) #length of all embeddings combined\n",
        "        self.n_emb, self.n_cont = n_emb, n_cont\n",
        "        self.lin1 = nn.Linear(self.n_emb + self.n_cont, 200)\n",
        "        self.lin2 = nn.Linear(200, 70)\n",
        "        self.lin3 = nn.Linear(70, 2)\n",
        "        self.bn1 = nn.BatchNorm1d(self.n_cont)\n",
        "        self.bn2 = nn.BatchNorm1d(200)\n",
        "        self.bn3 = nn.BatchNorm1d(70)\n",
        "        self.emb_drop = nn.Dropout(0.6)\n",
        "        self.drops = nn.Dropout(0.3)\n",
        "        \n",
        "\n",
        "    def forward(self, x_cat, x_cont):\n",
        "        x = [e(x_cat[:,i]) for i,e in enumerate(self.embeddings)]\n",
        "        x = torch.cat(x, 1)\n",
        "        x = self.emb_drop(x)\n",
        "        x2 = self.bn1(x_cont)\n",
        "        x = torch.cat([x, x2], 1)\n",
        "        x = F.relu(self.lin1(x))\n",
        "        x = self.drops(x)\n",
        "        x = self.bn2(x)\n",
        "        x = F.relu(self.lin2(x))\n",
        "        x = self.drops(x)\n",
        "        x = self.bn3(x)\n",
        "        x = self.lin3(x)\n",
        "        return x"
      ],
      "metadata": {
        "id": "BvrpOkIKboU4"
      },
      "execution_count": null,
      "outputs": []
    },
    {
      "cell_type": "code",
      "source": [
        "\n",
        "def train_model(model, optim, train_dl):\n",
        "    model.train()\n",
        "    total = 0\n",
        "    sum_loss = 0\n",
        "    for x1, x2, labels in train_dl:\n",
        "        labels = labels.squeeze(-1)\n",
        "        batch = labels.shape[0]\n",
        "        output = model(x1, x2)\n",
        "        loss = F.cross_entropy(output, labels)   \n",
        "        optim.zero_grad()\n",
        "        loss.backward()\n",
        "        optim.step()\n",
        "        total += batch\n",
        "        sum_loss += batch*(loss.item())\n",
        "    return sum_loss/total"
      ],
      "metadata": {
        "id": "rEXurgkvbufs"
      },
      "execution_count": null,
      "outputs": []
    },
    {
      "cell_type": "code",
      "source": [
        "\n",
        "def val_loss(model, valid_dl):\n",
        "    model.eval()\n",
        "    total = 0\n",
        "    sum_loss = 0\n",
        "    correct = 0\n",
        "    for x1, x2, labels in valid_dl:\n",
        "        current_batch_size = labels.shape[0]\n",
        "        labels = labels.squeeze(-1)\n",
        "        out = model(x1, x2)\n",
        "        loss = F.cross_entropy(out, labels)\n",
        "        sum_loss += current_batch_size*(loss.item())\n",
        "        total += current_batch_size\n",
        "        pred = torch.max(out, 1)[1]\n",
        "        correct += (pred == labels).float().sum().item()\n",
        "    print(\"valid loss %.3f and accuracy %.3f\" % (sum_loss/total, correct/total))\n",
        "    return sum_loss/total, correct/total"
      ],
      "metadata": {
        "id": "IZw-vyo2bxtA"
      },
      "execution_count": null,
      "outputs": []
    },
    {
      "cell_type": "code",
      "source": [
        "def get_optimizer(model, lr = 0.001, wd = 0.0):\n",
        "    parameters = filter(lambda p: p.requires_grad, model.parameters())\n",
        "    optim = torch.optim.Adam(parameters, lr=lr, weight_decay=wd)\n",
        "    return optim\n"
      ],
      "metadata": {
        "id": "d9UW2_4nb7EG"
      },
      "execution_count": null,
      "outputs": []
    },
    {
      "cell_type": "code",
      "source": [
        "def train_loop(model, epochs, lr=0.01, wd=0.0):\n",
        "  optim = get_optimizer(model, lr = lr, wd = wd)\n",
        "  for i in range(epochs):\n",
        "    loss = train_model(model, optim, train_dl)\n",
        "    print(\"training loss: \", loss)\n",
        "    val_loss(model, valid_dl)"
      ],
      "metadata": {
        "id": "pnyhfuOUb0zp"
      },
      "execution_count": null,
      "outputs": []
    },
    {
      "cell_type": "code",
      "source": [
        "emb_szs"
      ],
      "metadata": {
        "colab": {
          "base_uri": "https://localhost:8080/"
        },
        "id": "2dguHjc4dRBW",
        "outputId": "aa9361fc-9068-46fd-c3d8-82a4abf87e4f"
      },
      "execution_count": null,
      "outputs": [
        {
          "output_type": "execute_result",
          "data": {
            "text/plain": [
              "[(4, 2), (3, 2), (4, 2)]"
            ]
          },
          "metadata": {},
          "execution_count": 102
        }
      ]
    },
    {
      "cell_type": "code",
      "source": [
        "model = MoreComplexNN(emb_szs,len(num_columns))"
      ],
      "metadata": {
        "id": "epOCfzFecATI"
      },
      "execution_count": null,
      "outputs": []
    },
    {
      "cell_type": "code",
      "source": [
        "model "
      ],
      "metadata": {
        "id": "S5xQKz_C9JBn",
        "outputId": "20e1216c-60fe-476d-e4f0-bd7023d2fa28",
        "colab": {
          "base_uri": "https://localhost:8080/"
        }
      },
      "execution_count": null,
      "outputs": [
        {
          "output_type": "execute_result",
          "data": {
            "text/plain": [
              "MoreComplexNN(\n",
              "  (embeddings): ModuleList(\n",
              "    (0): Embedding(4, 2)\n",
              "    (1): Embedding(3, 2)\n",
              "    (2): Embedding(4, 2)\n",
              "  )\n",
              "  (lin1): Linear(in_features=10, out_features=200, bias=True)\n",
              "  (lin2): Linear(in_features=200, out_features=70, bias=True)\n",
              "  (lin3): Linear(in_features=70, out_features=2, bias=True)\n",
              "  (bn1): BatchNorm1d(4, eps=1e-05, momentum=0.1, affine=True, track_running_stats=True)\n",
              "  (bn2): BatchNorm1d(200, eps=1e-05, momentum=0.1, affine=True, track_running_stats=True)\n",
              "  (bn3): BatchNorm1d(70, eps=1e-05, momentum=0.1, affine=True, track_running_stats=True)\n",
              "  (emb_drop): Dropout(p=0.6, inplace=False)\n",
              "  (drops): Dropout(p=0.3, inplace=False)\n",
              ")"
            ]
          },
          "metadata": {},
          "execution_count": 104
        }
      ]
    },
    {
      "cell_type": "code",
      "source": [
        "\n",
        "train_loop(model, epochs=100, lr=0.01, wd=0.00001)\n"
      ],
      "metadata": {
        "colab": {
          "base_uri": "https://localhost:8080/"
        },
        "id": "WU25znbab_C-",
        "outputId": "d5858079-0857-4c79-dd5f-d2330f90a2c1"
      },
      "execution_count": null,
      "outputs": [
        {
          "output_type": "stream",
          "name": "stdout",
          "text": [
            "training loss:  0.6403473135330594\n",
            "valid loss 0.478 and accuracy 0.789\n",
            "training loss:  0.5743281079997652\n",
            "valid loss 0.479 and accuracy 0.789\n",
            "training loss:  0.5611198924473507\n",
            "valid loss 0.475 and accuracy 0.800\n",
            "training loss:  0.5276400177299508\n",
            "valid loss 0.460 and accuracy 0.792\n",
            "training loss:  0.5530958898139723\n",
            "valid loss 0.459 and accuracy 0.797\n",
            "training loss:  0.5132970462075521\n",
            "valid loss 0.442 and accuracy 0.793\n",
            "training loss:  0.5111558442030156\n",
            "valid loss 0.454 and accuracy 0.808\n",
            "training loss:  0.5079947696657963\n",
            "valid loss 0.434 and accuracy 0.806\n",
            "training loss:  0.5266396713711731\n",
            "valid loss 0.450 and accuracy 0.801\n",
            "training loss:  0.496193192489487\n",
            "valid loss 0.428 and accuracy 0.806\n",
            "training loss:  0.5081311551943907\n",
            "valid loss 0.435 and accuracy 0.816\n",
            "training loss:  0.49486175343377553\n",
            "valid loss 0.418 and accuracy 0.831\n",
            "training loss:  0.49200446343448695\n",
            "valid loss 0.426 and accuracy 0.819\n",
            "training loss:  0.5179454943815331\n",
            "valid loss 0.430 and accuracy 0.823\n",
            "training loss:  0.4890780028470036\n",
            "valid loss 0.418 and accuracy 0.825\n",
            "training loss:  0.5282529219901387\n",
            "valid loss 0.427 and accuracy 0.827\n",
            "training loss:  0.48089410028473695\n",
            "valid loss 0.416 and accuracy 0.823\n",
            "training loss:  0.4980642467770646\n",
            "valid loss 0.426 and accuracy 0.827\n",
            "training loss:  0.4893857480834764\n",
            "valid loss 0.421 and accuracy 0.813\n",
            "training loss:  0.5113643128194927\n",
            "valid loss 0.441 and accuracy 0.818\n",
            "training loss:  0.49459286514088496\n",
            "valid loss 0.420 and accuracy 0.823\n",
            "training loss:  0.49181940352207615\n",
            "valid loss 0.423 and accuracy 0.815\n",
            "training loss:  0.49228384211140985\n",
            "valid loss 0.416 and accuracy 0.835\n",
            "training loss:  0.5020703705472979\n",
            "valid loss 0.429 and accuracy 0.828\n",
            "training loss:  0.48404054040994443\n",
            "valid loss 0.409 and accuracy 0.835\n",
            "training loss:  0.47260484273318626\n",
            "valid loss 0.413 and accuracy 0.840\n",
            "training loss:  0.4898975237986589\n",
            "valid loss 0.406 and accuracy 0.824\n",
            "training loss:  0.49178794691993466\n",
            "valid loss 0.416 and accuracy 0.833\n",
            "training loss:  0.49139895650540405\n",
            "valid loss 0.414 and accuracy 0.842\n",
            "training loss:  0.48714941970828407\n",
            "valid loss 0.408 and accuracy 0.829\n",
            "training loss:  0.4799494074049221\n",
            "valid loss 0.412 and accuracy 0.828\n",
            "training loss:  0.4867706906915915\n",
            "valid loss 0.414 and accuracy 0.835\n",
            "training loss:  0.4983023092669135\n",
            "valid loss 0.410 and accuracy 0.831\n",
            "training loss:  0.49158356587092084\n",
            "valid loss 0.419 and accuracy 0.823\n",
            "training loss:  0.4636770043977851\n",
            "valid loss 0.404 and accuracy 0.832\n",
            "training loss:  0.4884980420940519\n",
            "valid loss 0.405 and accuracy 0.822\n",
            "training loss:  0.4766912071659375\n",
            "valid loss 0.413 and accuracy 0.832\n",
            "training loss:  0.48405987519340216\n",
            "valid loss 0.406 and accuracy 0.841\n",
            "training loss:  0.46817097706693056\n",
            "valid loss 0.399 and accuracy 0.836\n",
            "training loss:  0.4727317626963293\n",
            "valid loss 0.402 and accuracy 0.833\n",
            "training loss:  0.4575944951621504\n",
            "valid loss 0.398 and accuracy 0.832\n",
            "training loss:  0.5011536768322976\n",
            "valid loss 0.415 and accuracy 0.831\n",
            "training loss:  0.4930897987250126\n",
            "valid loss 0.414 and accuracy 0.829\n",
            "training loss:  0.4750836329695619\n",
            "valid loss 0.400 and accuracy 0.836\n",
            "training loss:  0.46663485472451155\n",
            "valid loss 0.398 and accuracy 0.838\n",
            "training loss:  0.48427089537032925\n",
            "valid loss 0.416 and accuracy 0.827\n",
            "training loss:  0.4941827323367165\n",
            "valid loss 0.405 and accuracy 0.837\n",
            "training loss:  0.4938586434865774\n",
            "valid loss 0.411 and accuracy 0.822\n",
            "training loss:  0.4711279177705848\n",
            "valid loss 0.397 and accuracy 0.835\n",
            "training loss:  0.479822145768689\n",
            "valid loss 0.402 and accuracy 0.816\n",
            "training loss:  0.46627555588546693\n",
            "valid loss 0.398 and accuracy 0.823\n",
            "training loss:  0.47518697819190664\n",
            "valid loss 0.402 and accuracy 0.836\n",
            "training loss:  0.4620239111844672\n",
            "valid loss 0.398 and accuracy 0.846\n",
            "training loss:  0.46519965685979286\n",
            "valid loss 0.404 and accuracy 0.822\n",
            "training loss:  0.4723646670546462\n",
            "valid loss 0.402 and accuracy 0.834\n",
            "training loss:  0.4553816048919686\n",
            "valid loss 0.395 and accuracy 0.836\n",
            "training loss:  0.4670920690101405\n",
            "valid loss 0.403 and accuracy 0.827\n",
            "training loss:  0.4866756063318413\n",
            "valid loss 0.410 and accuracy 0.836\n",
            "training loss:  0.4682013654682104\n",
            "valid loss 0.391 and accuracy 0.841\n",
            "training loss:  0.49811639234540706\n",
            "valid loss 0.418 and accuracy 0.832\n",
            "training loss:  0.49000123066265305\n",
            "valid loss 0.407 and accuracy 0.822\n",
            "training loss:  0.4647957239755744\n",
            "valid loss 0.397 and accuracy 0.843\n",
            "training loss:  0.46446241664163995\n",
            "valid loss 0.395 and accuracy 0.829\n",
            "training loss:  0.47327315599963854\n",
            "valid loss 0.396 and accuracy 0.841\n",
            "training loss:  0.4749084737833368\n",
            "valid loss 0.402 and accuracy 0.841\n",
            "training loss:  0.4821666999564294\n",
            "valid loss 0.403 and accuracy 0.831\n",
            "training loss:  0.47758739109660103\n",
            "valid loss 0.408 and accuracy 0.834\n",
            "training loss:  0.4689646836215532\n",
            "valid loss 0.395 and accuracy 0.823\n",
            "training loss:  0.4608292120072978\n",
            "valid loss 0.401 and accuracy 0.831\n",
            "training loss:  0.4502934227152973\n",
            "valid loss 0.393 and accuracy 0.829\n",
            "training loss:  0.4584633160119105\n",
            "valid loss 0.396 and accuracy 0.840\n",
            "training loss:  0.4660542011595468\n",
            "valid loss 0.404 and accuracy 0.845\n",
            "training loss:  0.4660506613728173\n",
            "valid loss 0.398 and accuracy 0.834\n",
            "training loss:  0.478193623851044\n",
            "valid loss 0.405 and accuracy 0.846\n",
            "training loss:  0.46755628781152764\n",
            "valid loss 0.412 and accuracy 0.809\n",
            "training loss:  0.4732607747234747\n",
            "valid loss 0.404 and accuracy 0.837\n",
            "training loss:  0.44429068044915077\n",
            "valid loss 0.380 and accuracy 0.842\n",
            "training loss:  0.4889494947980416\n",
            "valid loss 0.398 and accuracy 0.840\n",
            "training loss:  0.4792709937266897\n",
            "valid loss 0.407 and accuracy 0.833\n",
            "training loss:  0.4684774226746308\n",
            "valid loss 0.388 and accuracy 0.841\n",
            "training loss:  0.4933808964042685\n",
            "valid loss 0.405 and accuracy 0.835\n",
            "training loss:  0.4696379853151195\n",
            "valid loss 0.396 and accuracy 0.834\n",
            "training loss:  0.47558573881785077\n",
            "valid loss 0.389 and accuracy 0.844\n",
            "training loss:  0.4500889415224527\n",
            "valid loss 0.384 and accuracy 0.845\n",
            "training loss:  0.4667050314003102\n",
            "valid loss 0.387 and accuracy 0.827\n",
            "training loss:  0.4717292140094787\n",
            "valid loss 0.391 and accuracy 0.840\n",
            "training loss:  0.4535623987850249\n",
            "valid loss 0.386 and accuracy 0.838\n",
            "training loss:  0.43411310908502737\n",
            "valid loss 0.377 and accuracy 0.842\n",
            "training loss:  0.449693384027374\n",
            "valid loss 0.378 and accuracy 0.845\n",
            "training loss:  0.48209414404516937\n",
            "valid loss 0.392 and accuracy 0.826\n",
            "training loss:  0.46030007391398736\n",
            "valid loss 0.378 and accuracy 0.851\n",
            "training loss:  0.45712272767667417\n",
            "valid loss 0.382 and accuracy 0.843\n",
            "training loss:  0.45935977649207066\n",
            "valid loss 0.390 and accuracy 0.837\n",
            "training loss:  0.4504012512304432\n",
            "valid loss 0.380 and accuracy 0.842\n",
            "training loss:  0.4644883334569792\n",
            "valid loss 0.388 and accuracy 0.841\n",
            "training loss:  0.4817971002841504\n",
            "valid loss 0.397 and accuracy 0.840\n",
            "training loss:  0.4703223837077551\n",
            "valid loss 0.389 and accuracy 0.835\n",
            "training loss:  0.4707332196259739\n",
            "valid loss 0.382 and accuracy 0.845\n",
            "training loss:  0.4694863431715939\n",
            "valid loss 0.385 and accuracy 0.843\n",
            "training loss:  0.4624194260665731\n",
            "valid loss 0.390 and accuracy 0.837\n"
          ]
        }
      ]
    },
    {
      "cell_type": "markdown",
      "source": [
        "## Backpropation algorithm \n",
        "### How the neural networks learn\n",
        "\n",
        "As we see last time the training process is build of these main steps: \n",
        "- forward \n",
        "  ``` python model(X_train_batch)```\n",
        "- loss computation\n",
        "  + based on loss function adopted\n",
        "  + it compares the predictions with the expected results\n",
        "- backward\n",
        "  - computes ```dloss/dx``` for every parameter x which has requires_grad=True. These are accumulated into x.grad for every parameter x. Gradient computation\n",
        "- optimization \n",
        "  ```optimizer.step``` updates the value of x using the gradient ```x.grad```. For example, the SGD optimizer performs:\n",
        "\n",
        "  ```x += -lr * x.grad```\n",
        "\n",
        "**Notice**: ```optimizer.zero_grad()``` clears ```x.grad``` for every parameter x in the optimizer. It’s important to call this before ```loss.backward()```, otherwise you’ll accumulate the gradients from multiple passes.\n",
        "\n"
      ],
      "metadata": {
        "id": "6eBOSGI6_rP2"
      }
    },
    {
      "cell_type": "markdown",
      "source": [
        "### Some resources you can use to understand better the math behind it\n"
      ],
      "metadata": {
        "id": "RaOsuXZS_q-U"
      }
    },
    {
      "cell_type": "markdown",
      "source": [
        "## Embeddings\n",
        "\n",
        "A method used to represent **discrete** variables (e.g. words, categories) as **continuous** vectors.\n",
        "\n",
        "Appplication on **word embeddings** for *machine translation* and **entity embeddings** for **categorical variables**.\n",
        "\n",
        "\n",
        "Neural network embeddings are useful because they can reduce the dimensionality of categorical variables and meaningfully represent categories in the transformed space.\n",
        "\n",
        "Neural network embeddings have 3 primary purposes:\n",
        "\n",
        "- Finding **nearest neighbors in the embedding space**. These can be used to make recommendations based on user interests or cluster categories.\n",
        "- As **input** to a machine learning model for a supervised task.\n",
        "- For **visualization** of concepts and relations between categories.\n"
      ],
      "metadata": {
        "id": "hNQ6fxCP_q1f"
      }
    },
    {
      "cell_type": "markdown",
      "source": [
        "### Limitations of One Hot Encoding\n",
        "\n",
        "The operation of one-hot encoding categorical variables is actually a simple embedding where each category is mapped to a different vector... **but**...\n",
        "\n",
        "The one-hot encoding technique has two main drawbacks:\n",
        "\n",
        "1. For high-cardinality variables — those with many unique categories — the dimensionality of the transformed vector becomes unmanageable.\n",
        "2. The mapping is completely uninformed: “similar” categories are not placed closer to each other in embedding space\n",
        "\n",
        "**First problem:** For each additional category — referred to as an entity — we have to add another number to the one-hot encoded vector. If we have 7,000 municipalities to handle, then representing these requires a 7,000-dimensional vector for each, which makes training any machine learning model on this representation infeasible.\n",
        "\n",
        "**Second problem:**: one-hot encoding does not place similar entities closer to one another in vector space. If we measure similarity between vectors using the cosine distance, then after one-hot encoding, the similarity is 0 for every comparison between entities.\n",
        "\n",
        "The main issue with one-hot encoding is that the transformation does not rely on any supervision. *We don't learn them!* "
      ],
      "metadata": {
        "id": "u4_wGvHg_qtv"
      }
    },
    {
      "cell_type": "markdown",
      "source": [
        "We can greatly improve embeddings by learning them using a neural network on a supervised task.\n",
        "\n",
        "The embeddings form the parameters — **weights** — of the network which are adjusted to **minimize** loss on the task. \n",
        "\n",
        "The resulting embedded vectors are **representations** of categories where **similar categories** — relative to the task — are **closer** to one another.\n",
        "\n",
        "For example, if we have a vocabulary of 50,000 words used in a collection of movie reviews, we could learn 100-dimensional embeddings for each word using an embedding neural network trained to predict the sentimentality of the reviews.\n",
        "\n",
        "Words in the vocabulary that are associated with positive reviews such as “brilliant” or “excellent” will come out closer in the embedding space because the network has learned these are both associated with positive reviews.\n",
        "\n",
        "It's not **magic**, it's surprisingly **math!!!**"
      ],
      "metadata": {
        "id": "ilvZoHlp_qjD"
      }
    },
    {
      "cell_type": "markdown",
      "source": [
        ""
      ],
      "metadata": {
        "id": "aQJudRQG_qee"
      }
    },
    {
      "cell_type": "markdown",
      "source": [
        ""
      ],
      "metadata": {
        "id": "ZGHRlNlR_qFR"
      }
    },
    {
      "cell_type": "markdown",
      "metadata": {
        "id": "n-V2810AYazY"
      },
      "source": [
        "# Convolutional Neural Network (CNN)\n",
        "\n",
        "- The fully connected network can function as a universal approximator, but we don't know how long it will take to train it to become a good approximation \n",
        "- In particular, for images it could be interesting to capture locality and translation invariance\n",
        "  - Check the nearby pixels to recognize objects (e.g. features) \n",
        "  - It leverages the position of the pixels that is completely destroyed in a 1 dimensional array\n",
        "  - tadaaa convolution: scalar product of a weight matrix (**kernel**) with every neighborhood in the input.\n"
      ]
    },
    {
      "cell_type": "code",
      "metadata": {
        "id": "u-4pi5VLaTgi"
      },
      "source": [
        "\n",
        "from sklearn.datasets import fetch_openml\n",
        "mnist = fetch_openml('mnist_784', version=1, cache=True, as_frame=False)\n",
        "\n",
        "X = mnist[\"data\"]\n",
        "y = mnist[\"target\"].astype(np.uint8)\n",
        "\n",
        "X_train = X[:50000]\n",
        "y_train = y[:50000]\n",
        "\n",
        "X_val = X[50000:60000]\n",
        "y_val = y[50000:60000]\n",
        "\n",
        "X_test = X[60000:]\n",
        "y_test = y[60000:]"
      ],
      "execution_count": null,
      "outputs": []
    },
    {
      "cell_type": "code",
      "source": [
        "x_train_tensor.shape"
      ],
      "metadata": {
        "id": "WsuX6CT3JRII",
        "outputId": "5c8791c7-6d5a-494a-de79-b2db808238ed",
        "colab": {
          "base_uri": "https://localhost:8080/"
        }
      },
      "execution_count": null,
      "outputs": [
        {
          "output_type": "execute_result",
          "data": {
            "text/plain": [
              "torch.Size([50000, 784])"
            ]
          },
          "metadata": {},
          "execution_count": 77
        }
      ]
    },
    {
      "cell_type": "code",
      "metadata": {
        "id": "XYX6FC76ad3R"
      },
      "source": [
        "from torch.utils.data import TensorDataset\n",
        "from torch.utils.data import DataLoader\n",
        "\n",
        "batch_size = 32 \n",
        "train_ds = TensorDataset(x_train_tensor, y_train_tensor)\n",
        "train_dl = DataLoader(\n",
        "    train_ds, batch_size=batch_size, shuffle=True)\n",
        "\n",
        "val_ds = TensorDataset(x_val_tensor, y_val_tensor)\n",
        "val_dl = DataLoader(\n",
        "    val_ds, batch_size=batch_size, shuffle=True)\n",
        "\n",
        "\n",
        "test_ds = TensorDataset(x_test_tensor, y_test_tensor)\n",
        "test_dl = DataLoader(test_ds, batch_size=batch_size)\n"
      ],
      "execution_count": null,
      "outputs": []
    },
    {
      "cell_type": "markdown",
      "metadata": {
        "id": "-rzuadYSWj0z"
      },
      "source": [
        "Convolution parameters: \n",
        "- ```in_channel``` is the number of input channels (1 for grey images, 3 for rgb)\n",
        "- ```out_channel``` the number of output channels\n",
        "- ```kernel_size``` eight and width of the kernel filter, if only one value is passed then eight = width \n",
        "- ```stride``` how many steps across the input we move when we adjust the filter to a new position\n",
        "- ```padding``` it can happen that we don't have enough elements in our input to do a full convolution. In these cases, the empty values are filled with the ```padding``` values"
      ]
    },
    {
      "cell_type": "markdown",
      "metadata": {
        "id": "y73tNrQ2Xud_"
      },
      "source": [
        "Pooling layers, they reduce the resolution of the network from the previous input layer, therefore fewer parameters in the lower layers. \n",
        "- Faster computation\n",
        "- it helps to prevent overfitting\n",
        "\n",
        "There is also a ```padding``` option here. "
      ]
    },
    {
      "cell_type": "code",
      "metadata": {
        "id": "rql6I9v8XgGh"
      },
      "source": [
        "class CNN(nn.Module):\n",
        "    def __init__(self):\n",
        "        super(CNN, self).__init__()\n",
        "\n",
        "        # Convolution 1\n",
        "        self.cnn1 = nn.Conv2d(in_channels=1, out_channels=16,\n",
        "                              kernel_size=3, stride=1, padding=0)\n",
        "        self.relu1 = nn.ReLU()\n",
        "\n",
        "        # Max pool 1\n",
        "        self.maxpool1 = nn.MaxPool2d(kernel_size=2)\n",
        "\n",
        "        # Convolution 2\n",
        "        self.cnn2 = nn.Conv2d(in_channels=16, out_channels=32,\n",
        "                              kernel_size=3, stride=1, padding=0)\n",
        "        self.relu2 = nn.ReLU()\n",
        "\n",
        "        # Max pool 2\n",
        "        self.maxpool2 = nn.MaxPool2d(kernel_size=2)\n",
        "\n",
        "        # Fully connected 1\n",
        "        self.fc1 = nn.Linear(32 * 5 * 5, 10)\n",
        "\n",
        "    def forward(self, x, to_print=False):\n",
        "        # Set 1\n",
        "        if to_print:\n",
        "          print('INPUT',x.shape)\n",
        "        out = self.cnn1(x)\n",
        "        if to_print:\n",
        "          print('CNN1',out.shape)\n",
        "        out = self.relu1(out)\n",
        "        out = self.maxpool1(out)\n",
        "        if to_print:\n",
        "          print('MAXPOOL1',out.shape)\n",
        "\n",
        "        # Set 2\n",
        "        out = self.cnn2(out)\n",
        "        if to_print:\n",
        "          print('CNN2',out.shape)\n",
        "\n",
        "        out = self.relu2(out)\n",
        "\n",
        "        out = self.maxpool2(out)\n",
        "        if to_print:\n",
        "          print(\"after the 2nd maxpool:{} \".format(out.shape))\n",
        "        # Flatten\n",
        "        out = out.view(out.size(0), -1)\n",
        "        if to_print:\n",
        "          print(\"after the flatten:{} \".format(out.shape))\n",
        "        out = self.fc1(out)\n",
        "        if to_print:\n",
        "          print('FINAL',out.shape)\n",
        "\n",
        "        return out"
      ],
      "execution_count": null,
      "outputs": []
    },
    {
      "cell_type": "code",
      "metadata": {
        "id": "IdZjenirdWec"
      },
      "source": [
        "## few changes to the train function used above. \n",
        "\n",
        "def train(model, optimizer, loss_fn, train_loader, val_loader, epochs=20, device=\"cpu\",to_print=False):\n",
        "    for epoch in range(1, epochs+1):\n",
        "        training_loss = 0.0\n",
        "        valid_loss = 0.0\n",
        "        model.train()\n",
        "        for batch in train_loader:\n",
        "            optimizer.zero_grad() # clear gradients for next train\n",
        "            inputs, targets = batch\n",
        "            inputs = inputs.to(device)\n",
        "            targets = targets.to(device)\n",
        "            output = model(inputs,to_print)\n",
        "            loss = loss_fn(output, targets)\n",
        "            loss.backward() # backpropagation, compute gradients\n",
        "            optimizer.step() # apply gradients\n",
        "            training_loss += loss.data.item() * inputs.size(0)\n",
        "            # print(training_loss,loss.data.item(),inputs.size(0))\n",
        "            if to_print:\n",
        "              break\n",
        "        training_loss /= len(train_loader.dataset)\n",
        "        if to_print:\n",
        "          break\n",
        "        with torch.no_grad():\n",
        "          model.eval()\n",
        "          num_correct = 0 \n",
        "          num_examples = 0\n",
        "          for batch in val_loader:\n",
        "              inputs, targets = batch\n",
        "              inputs = inputs.to(device)\n",
        "              output = model(inputs)\n",
        "              targets = targets.to(device)\n",
        "              loss = loss_fn(output,targets) \n",
        "              valid_loss += loss.data.item() * inputs.size(0)\n",
        "              correct = torch.eq(torch.max(F.softmax(output, dim=1), dim=1)[1], targets)\n",
        "              num_correct += torch.sum(correct).item()\n",
        "              num_examples += correct.shape[0]\n",
        "          valid_loss /= len(val_loader.dataset)\n",
        "\n",
        "        print('Epoch: {}, Training Loss: {:.4f}, Validation Loss: {:.4f}, accuracy = {:.4f}'.format(epoch, training_loss,\n",
        "        valid_loss, num_correct / num_examples))"
      ],
      "execution_count": null,
      "outputs": []
    },
    {
      "cell_type": "code",
      "metadata": {
        "colab": {
          "base_uri": "https://localhost:8080/",
          "height": 346
        },
        "id": "8znMf8E8aBm3",
        "outputId": "19da8d03-b0a0-4ac7-9a9c-c1473c5d2bab"
      },
      "source": [
        "cnn = CNN()\n",
        "optimizer = optim.SGD(cnn.parameters(),lr=0.001)\n",
        "train(cnn, optimizer,torch.nn.CrossEntropyLoss(), train_dl,val_dl, epochs=5)"
      ],
      "execution_count": null,
      "outputs": [
        {
          "output_type": "error",
          "ename": "RuntimeError",
          "evalue": "ignored",
          "traceback": [
            "\u001b[0;31m---------------------------------------------------------------------------\u001b[0m",
            "\u001b[0;31mRuntimeError\u001b[0m                              Traceback (most recent call last)",
            "\u001b[0;32m<ipython-input-76-fa4ddee6f810>\u001b[0m in \u001b[0;36m<module>\u001b[0;34m()\u001b[0m\n\u001b[1;32m      1\u001b[0m \u001b[0mcnn\u001b[0m \u001b[0;34m=\u001b[0m \u001b[0mCNN\u001b[0m\u001b[0;34m(\u001b[0m\u001b[0;34m)\u001b[0m\u001b[0;34m\u001b[0m\u001b[0;34m\u001b[0m\u001b[0m\n\u001b[1;32m      2\u001b[0m \u001b[0moptimizer\u001b[0m \u001b[0;34m=\u001b[0m \u001b[0moptim\u001b[0m\u001b[0;34m.\u001b[0m\u001b[0mSGD\u001b[0m\u001b[0;34m(\u001b[0m\u001b[0mcnn\u001b[0m\u001b[0;34m.\u001b[0m\u001b[0mparameters\u001b[0m\u001b[0;34m(\u001b[0m\u001b[0;34m)\u001b[0m\u001b[0;34m,\u001b[0m\u001b[0mlr\u001b[0m\u001b[0;34m=\u001b[0m\u001b[0;36m0.001\u001b[0m\u001b[0;34m)\u001b[0m\u001b[0;34m\u001b[0m\u001b[0;34m\u001b[0m\u001b[0m\n\u001b[0;32m----> 3\u001b[0;31m \u001b[0mtrain\u001b[0m\u001b[0;34m(\u001b[0m\u001b[0mcnn\u001b[0m\u001b[0;34m,\u001b[0m \u001b[0moptimizer\u001b[0m\u001b[0;34m,\u001b[0m\u001b[0mtorch\u001b[0m\u001b[0;34m.\u001b[0m\u001b[0mnn\u001b[0m\u001b[0;34m.\u001b[0m\u001b[0mCrossEntropyLoss\u001b[0m\u001b[0;34m(\u001b[0m\u001b[0;34m)\u001b[0m\u001b[0;34m,\u001b[0m \u001b[0mtrain_dl\u001b[0m\u001b[0;34m,\u001b[0m\u001b[0mval_dl\u001b[0m\u001b[0;34m,\u001b[0m \u001b[0mepochs\u001b[0m\u001b[0;34m=\u001b[0m\u001b[0;36m5\u001b[0m\u001b[0;34m)\u001b[0m\u001b[0;34m\u001b[0m\u001b[0;34m\u001b[0m\u001b[0m\n\u001b[0m",
            "\u001b[0;32m<ipython-input-75-3a2b6e0d75a4>\u001b[0m in \u001b[0;36mtrain\u001b[0;34m(model, optimizer, loss_fn, train_loader, val_loader, epochs, device, to_print)\u001b[0m\n\u001b[1;32m     11\u001b[0m             \u001b[0minputs\u001b[0m \u001b[0;34m=\u001b[0m \u001b[0minputs\u001b[0m\u001b[0;34m.\u001b[0m\u001b[0mto\u001b[0m\u001b[0;34m(\u001b[0m\u001b[0mdevice\u001b[0m\u001b[0;34m)\u001b[0m\u001b[0;34m\u001b[0m\u001b[0;34m\u001b[0m\u001b[0m\n\u001b[1;32m     12\u001b[0m             \u001b[0mtargets\u001b[0m \u001b[0;34m=\u001b[0m \u001b[0mtargets\u001b[0m\u001b[0;34m.\u001b[0m\u001b[0mto\u001b[0m\u001b[0;34m(\u001b[0m\u001b[0mdevice\u001b[0m\u001b[0;34m)\u001b[0m\u001b[0;34m\u001b[0m\u001b[0;34m\u001b[0m\u001b[0m\n\u001b[0;32m---> 13\u001b[0;31m             \u001b[0moutput\u001b[0m \u001b[0;34m=\u001b[0m \u001b[0mmodel\u001b[0m\u001b[0;34m(\u001b[0m\u001b[0minputs\u001b[0m\u001b[0;34m,\u001b[0m\u001b[0mto_print\u001b[0m\u001b[0;34m)\u001b[0m\u001b[0;34m\u001b[0m\u001b[0;34m\u001b[0m\u001b[0m\n\u001b[0m\u001b[1;32m     14\u001b[0m             \u001b[0mloss\u001b[0m \u001b[0;34m=\u001b[0m \u001b[0mloss_fn\u001b[0m\u001b[0;34m(\u001b[0m\u001b[0moutput\u001b[0m\u001b[0;34m,\u001b[0m \u001b[0mtargets\u001b[0m\u001b[0;34m)\u001b[0m\u001b[0;34m\u001b[0m\u001b[0;34m\u001b[0m\u001b[0m\n\u001b[1;32m     15\u001b[0m             \u001b[0mloss\u001b[0m\u001b[0;34m.\u001b[0m\u001b[0mbackward\u001b[0m\u001b[0;34m(\u001b[0m\u001b[0;34m)\u001b[0m \u001b[0;31m# backpropagation, compute gradients\u001b[0m\u001b[0;34m\u001b[0m\u001b[0;34m\u001b[0m\u001b[0m\n",
            "\u001b[0;32m/usr/local/lib/python3.7/dist-packages/torch/nn/modules/module.py\u001b[0m in \u001b[0;36m_call_impl\u001b[0;34m(self, *input, **kwargs)\u001b[0m\n\u001b[1;32m    887\u001b[0m             \u001b[0mresult\u001b[0m \u001b[0;34m=\u001b[0m \u001b[0mself\u001b[0m\u001b[0;34m.\u001b[0m\u001b[0m_slow_forward\u001b[0m\u001b[0;34m(\u001b[0m\u001b[0;34m*\u001b[0m\u001b[0minput\u001b[0m\u001b[0;34m,\u001b[0m \u001b[0;34m**\u001b[0m\u001b[0mkwargs\u001b[0m\u001b[0;34m)\u001b[0m\u001b[0;34m\u001b[0m\u001b[0;34m\u001b[0m\u001b[0m\n\u001b[1;32m    888\u001b[0m         \u001b[0;32melse\u001b[0m\u001b[0;34m:\u001b[0m\u001b[0;34m\u001b[0m\u001b[0;34m\u001b[0m\u001b[0m\n\u001b[0;32m--> 889\u001b[0;31m             \u001b[0mresult\u001b[0m \u001b[0;34m=\u001b[0m \u001b[0mself\u001b[0m\u001b[0;34m.\u001b[0m\u001b[0mforward\u001b[0m\u001b[0;34m(\u001b[0m\u001b[0;34m*\u001b[0m\u001b[0minput\u001b[0m\u001b[0;34m,\u001b[0m \u001b[0;34m**\u001b[0m\u001b[0mkwargs\u001b[0m\u001b[0;34m)\u001b[0m\u001b[0;34m\u001b[0m\u001b[0;34m\u001b[0m\u001b[0m\n\u001b[0m\u001b[1;32m    890\u001b[0m         for hook in itertools.chain(\n\u001b[1;32m    891\u001b[0m                 \u001b[0m_global_forward_hooks\u001b[0m\u001b[0;34m.\u001b[0m\u001b[0mvalues\u001b[0m\u001b[0;34m(\u001b[0m\u001b[0;34m)\u001b[0m\u001b[0;34m,\u001b[0m\u001b[0;34m\u001b[0m\u001b[0;34m\u001b[0m\u001b[0m\n",
            "\u001b[0;32m<ipython-input-74-a9d55d6a2fe2>\u001b[0m in \u001b[0;36mforward\u001b[0;34m(self, x, to_print)\u001b[0m\n\u001b[1;32m     26\u001b[0m         \u001b[0;32mif\u001b[0m \u001b[0mto_print\u001b[0m\u001b[0;34m:\u001b[0m\u001b[0;34m\u001b[0m\u001b[0;34m\u001b[0m\u001b[0m\n\u001b[1;32m     27\u001b[0m           \u001b[0mprint\u001b[0m\u001b[0;34m(\u001b[0m\u001b[0;34m'INPUT'\u001b[0m\u001b[0;34m,\u001b[0m\u001b[0mx\u001b[0m\u001b[0;34m.\u001b[0m\u001b[0mshape\u001b[0m\u001b[0;34m)\u001b[0m\u001b[0;34m\u001b[0m\u001b[0;34m\u001b[0m\u001b[0m\n\u001b[0;32m---> 28\u001b[0;31m         \u001b[0mout\u001b[0m \u001b[0;34m=\u001b[0m \u001b[0mself\u001b[0m\u001b[0;34m.\u001b[0m\u001b[0mcnn1\u001b[0m\u001b[0;34m(\u001b[0m\u001b[0mx\u001b[0m\u001b[0;34m)\u001b[0m\u001b[0;34m\u001b[0m\u001b[0;34m\u001b[0m\u001b[0m\n\u001b[0m\u001b[1;32m     29\u001b[0m         \u001b[0;32mif\u001b[0m \u001b[0mto_print\u001b[0m\u001b[0;34m:\u001b[0m\u001b[0;34m\u001b[0m\u001b[0;34m\u001b[0m\u001b[0m\n\u001b[1;32m     30\u001b[0m           \u001b[0mprint\u001b[0m\u001b[0;34m(\u001b[0m\u001b[0;34m'CNN1'\u001b[0m\u001b[0;34m,\u001b[0m\u001b[0mout\u001b[0m\u001b[0;34m.\u001b[0m\u001b[0mshape\u001b[0m\u001b[0;34m)\u001b[0m\u001b[0;34m\u001b[0m\u001b[0;34m\u001b[0m\u001b[0m\n",
            "\u001b[0;32m/usr/local/lib/python3.7/dist-packages/torch/nn/modules/module.py\u001b[0m in \u001b[0;36m_call_impl\u001b[0;34m(self, *input, **kwargs)\u001b[0m\n\u001b[1;32m    887\u001b[0m             \u001b[0mresult\u001b[0m \u001b[0;34m=\u001b[0m \u001b[0mself\u001b[0m\u001b[0;34m.\u001b[0m\u001b[0m_slow_forward\u001b[0m\u001b[0;34m(\u001b[0m\u001b[0;34m*\u001b[0m\u001b[0minput\u001b[0m\u001b[0;34m,\u001b[0m \u001b[0;34m**\u001b[0m\u001b[0mkwargs\u001b[0m\u001b[0;34m)\u001b[0m\u001b[0;34m\u001b[0m\u001b[0;34m\u001b[0m\u001b[0m\n\u001b[1;32m    888\u001b[0m         \u001b[0;32melse\u001b[0m\u001b[0;34m:\u001b[0m\u001b[0;34m\u001b[0m\u001b[0;34m\u001b[0m\u001b[0m\n\u001b[0;32m--> 889\u001b[0;31m             \u001b[0mresult\u001b[0m \u001b[0;34m=\u001b[0m \u001b[0mself\u001b[0m\u001b[0;34m.\u001b[0m\u001b[0mforward\u001b[0m\u001b[0;34m(\u001b[0m\u001b[0;34m*\u001b[0m\u001b[0minput\u001b[0m\u001b[0;34m,\u001b[0m \u001b[0;34m**\u001b[0m\u001b[0mkwargs\u001b[0m\u001b[0;34m)\u001b[0m\u001b[0;34m\u001b[0m\u001b[0;34m\u001b[0m\u001b[0m\n\u001b[0m\u001b[1;32m    890\u001b[0m         for hook in itertools.chain(\n\u001b[1;32m    891\u001b[0m                 \u001b[0m_global_forward_hooks\u001b[0m\u001b[0;34m.\u001b[0m\u001b[0mvalues\u001b[0m\u001b[0;34m(\u001b[0m\u001b[0;34m)\u001b[0m\u001b[0;34m,\u001b[0m\u001b[0;34m\u001b[0m\u001b[0;34m\u001b[0m\u001b[0m\n",
            "\u001b[0;32m/usr/local/lib/python3.7/dist-packages/torch/nn/modules/conv.py\u001b[0m in \u001b[0;36mforward\u001b[0;34m(self, input)\u001b[0m\n\u001b[1;32m    397\u001b[0m \u001b[0;34m\u001b[0m\u001b[0m\n\u001b[1;32m    398\u001b[0m     \u001b[0;32mdef\u001b[0m \u001b[0mforward\u001b[0m\u001b[0;34m(\u001b[0m\u001b[0mself\u001b[0m\u001b[0;34m,\u001b[0m \u001b[0minput\u001b[0m\u001b[0;34m:\u001b[0m \u001b[0mTensor\u001b[0m\u001b[0;34m)\u001b[0m \u001b[0;34m->\u001b[0m \u001b[0mTensor\u001b[0m\u001b[0;34m:\u001b[0m\u001b[0;34m\u001b[0m\u001b[0;34m\u001b[0m\u001b[0m\n\u001b[0;32m--> 399\u001b[0;31m         \u001b[0;32mreturn\u001b[0m \u001b[0mself\u001b[0m\u001b[0;34m.\u001b[0m\u001b[0m_conv_forward\u001b[0m\u001b[0;34m(\u001b[0m\u001b[0minput\u001b[0m\u001b[0;34m,\u001b[0m \u001b[0mself\u001b[0m\u001b[0;34m.\u001b[0m\u001b[0mweight\u001b[0m\u001b[0;34m,\u001b[0m \u001b[0mself\u001b[0m\u001b[0;34m.\u001b[0m\u001b[0mbias\u001b[0m\u001b[0;34m)\u001b[0m\u001b[0;34m\u001b[0m\u001b[0;34m\u001b[0m\u001b[0m\n\u001b[0m\u001b[1;32m    400\u001b[0m \u001b[0;34m\u001b[0m\u001b[0m\n\u001b[1;32m    401\u001b[0m \u001b[0;32mclass\u001b[0m \u001b[0mConv3d\u001b[0m\u001b[0;34m(\u001b[0m\u001b[0m_ConvNd\u001b[0m\u001b[0;34m)\u001b[0m\u001b[0;34m:\u001b[0m\u001b[0;34m\u001b[0m\u001b[0;34m\u001b[0m\u001b[0m\n",
            "\u001b[0;32m/usr/local/lib/python3.7/dist-packages/torch/nn/modules/conv.py\u001b[0m in \u001b[0;36m_conv_forward\u001b[0;34m(self, input, weight, bias)\u001b[0m\n\u001b[1;32m    394\u001b[0m                             _pair(0), self.dilation, self.groups)\n\u001b[1;32m    395\u001b[0m         return F.conv2d(input, weight, bias, self.stride,\n\u001b[0;32m--> 396\u001b[0;31m                         self.padding, self.dilation, self.groups)\n\u001b[0m\u001b[1;32m    397\u001b[0m \u001b[0;34m\u001b[0m\u001b[0m\n\u001b[1;32m    398\u001b[0m     \u001b[0;32mdef\u001b[0m \u001b[0mforward\u001b[0m\u001b[0;34m(\u001b[0m\u001b[0mself\u001b[0m\u001b[0;34m,\u001b[0m \u001b[0minput\u001b[0m\u001b[0;34m:\u001b[0m \u001b[0mTensor\u001b[0m\u001b[0;34m)\u001b[0m \u001b[0;34m->\u001b[0m \u001b[0mTensor\u001b[0m\u001b[0;34m:\u001b[0m\u001b[0;34m\u001b[0m\u001b[0;34m\u001b[0m\u001b[0m\n",
            "\u001b[0;31mRuntimeError\u001b[0m: Expected 4-dimensional input for 4-dimensional weight [16, 1, 3, 3], but got 2-dimensional input of size [32, 784] instead"
          ]
        }
      ]
    },
    {
      "cell_type": "code",
      "metadata": {
        "id": "IEUZhahna2a3"
      },
      "source": [
        "batch_size = 32 \n",
        "train_ds = TensorDataset(x_train_tensor.reshape(-1,1,28,28), y_train_tensor)\n",
        "train_dl = DataLoader(\n",
        "    train_ds, batch_size=batch_size, shuffle=True)\n",
        "\n",
        "val_ds = TensorDataset(x_val_tensor.reshape(-1,1,28,28), y_val_tensor)\n",
        "val_dl = DataLoader(\n",
        "    val_ds, batch_size=batch_size, shuffle=True)\n",
        "\n",
        "\n",
        "test_ds = TensorDataset(x_test_tensor.reshape(-1,1,28,28), y_test_tensor)\n",
        "test_dl = DataLoader(test_ds, batch_size=batch_size)"
      ],
      "execution_count": null,
      "outputs": []
    },
    {
      "cell_type": "code",
      "source": [
        "x_train_tensor.reshape(-1,1,28,28).shape"
      ],
      "metadata": {
        "id": "qznEEqPgJki0"
      },
      "execution_count": null,
      "outputs": []
    },
    {
      "cell_type": "code",
      "metadata": {
        "colab": {
          "base_uri": "https://localhost:8080/"
        },
        "id": "OaxKPTurbSzl",
        "outputId": "7602c635-5241-4a9d-8d41-1fda9da66cd8"
      },
      "source": [
        "cnn = CNN()\n",
        "optimizer = optim.Adam(cnn.parameters(),lr=0.001)\n",
        "train(cnn, optimizer,torch.nn.CrossEntropyLoss(), train_dl,val_dl, epochs=5,to_print=True)"
      ],
      "execution_count": null,
      "outputs": [
        {
          "output_type": "stream",
          "name": "stdout",
          "text": [
            "INPUT torch.Size([32, 1, 28, 28])\n",
            "CNN1 torch.Size([32, 16, 26, 26])\n",
            "MAXPOOL1 torch.Size([32, 16, 13, 13])\n",
            "CNN2 torch.Size([32, 32, 11, 11])\n",
            "after the 2nd maxpool:torch.Size([32, 32, 5, 5]) \n",
            "after the flatten:torch.Size([32, 800]) \n",
            "FINAL torch.Size([32, 10])\n"
          ]
        }
      ]
    },
    {
      "cell_type": "markdown",
      "metadata": {
        "id": "VQzTp4cxprqU"
      },
      "source": [
        "# Recurrent Neural Networks\n",
        "\n",
        "- CNNs don't have the concept of _memory_\n",
        "- This is a crucial when we deal with data that have a temporal domain: a sequence of events: text, speech, vide, time-series data, etc. \n",
        "- The RNNs try to solve this problem with a *hidden state*\n",
        "- We can imagine a RNN as a pipeline of fully connected layers network, where the succesive input being fed into the next layer in the sequence\n",
        "- Then the error is back propagated through the RNN --> _vanishing gradient_\n",
        "- A possible solution: Long Short-term Memory, a variant of RNN\n",
        " "
      ]
    },
    {
      "cell_type": "code",
      "source": [
        "\n",
        "!pip install -U torch==1.8.0 torchtext==0.9.0"
      ],
      "metadata": {
        "id": "DcBYVa-rUZOo",
        "outputId": "32a534d5-f28d-4cd4-8e79-a9199aa83e70",
        "colab": {
          "base_uri": "https://localhost:8080/"
        }
      },
      "execution_count": null,
      "outputs": [
        {
          "output_type": "stream",
          "name": "stdout",
          "text": [
            "Looking in indexes: https://pypi.org/simple, https://us-python.pkg.dev/colab-wheels/public/simple/\n",
            "Requirement already satisfied: torch==1.8.0 in /usr/local/lib/python3.7/dist-packages (1.8.0)\n",
            "Requirement already satisfied: torchtext==0.9.0 in /usr/local/lib/python3.7/dist-packages (0.9.0)\n",
            "Requirement already satisfied: numpy in /usr/local/lib/python3.7/dist-packages (from torch==1.8.0) (1.21.6)\n",
            "Requirement already satisfied: typing-extensions in /usr/local/lib/python3.7/dist-packages (from torch==1.8.0) (4.1.1)\n",
            "Requirement already satisfied: requests in /usr/local/lib/python3.7/dist-packages (from torchtext==0.9.0) (2.23.0)\n",
            "Requirement already satisfied: tqdm in /usr/local/lib/python3.7/dist-packages (from torchtext==0.9.0) (4.64.0)\n",
            "Requirement already satisfied: chardet<4,>=3.0.2 in /usr/local/lib/python3.7/dist-packages (from requests->torchtext==0.9.0) (3.0.4)\n",
            "Requirement already satisfied: certifi>=2017.4.17 in /usr/local/lib/python3.7/dist-packages (from requests->torchtext==0.9.0) (2022.6.15)\n",
            "Requirement already satisfied: urllib3!=1.25.0,!=1.25.1,<1.26,>=1.21.1 in /usr/local/lib/python3.7/dist-packages (from requests->torchtext==0.9.0) (1.24.3)\n",
            "Requirement already satisfied: idna<3,>=2.5 in /usr/local/lib/python3.7/dist-packages (from requests->torchtext==0.9.0) (2.10)\n"
          ]
        }
      ]
    },
    {
      "cell_type": "code",
      "metadata": {
        "id": "Wir7s_yOr0Tq"
      },
      "source": [
        "\n",
        "import torchtext\n",
        "from torchtext.legacy import data\n",
        "import pandas as pd"
      ],
      "execution_count": null,
      "outputs": []
    },
    {
      "cell_type": "code",
      "source": [
        "torchtext.__version__"
      ],
      "metadata": {
        "id": "yPNwsMU0TCVv",
        "outputId": "0678d257-b416-4da4-dca0-7eadf019f2c1",
        "colab": {
          "base_uri": "https://localhost:8080/",
          "height": 35
        }
      },
      "execution_count": null,
      "outputs": [
        {
          "output_type": "execute_result",
          "data": {
            "text/plain": [
              "'0.9.0'"
            ],
            "application/vnd.google.colaboratory.intrinsic+json": {
              "type": "string"
            }
          },
          "metadata": {},
          "execution_count": 69
        }
      ]
    },
    {
      "cell_type": "code",
      "metadata": {
        "colab": {
          "base_uri": "https://localhost:8080/"
        },
        "id": "jxVUddADrEaX",
        "outputId": "c56bc066-7072-4a44-f596-9f25f998148f"
      },
      "source": [
        "from google.colab import drive\n",
        "drive.mount('/content/drive')"
      ],
      "execution_count": null,
      "outputs": [
        {
          "output_type": "stream",
          "name": "stdout",
          "text": [
            "Mounted at /content/drive\n"
          ]
        }
      ]
    },
    {
      "cell_type": "code",
      "metadata": {
        "id": "KGZK_grObtdF"
      },
      "source": [
        "tweetsDF = pd.read_csv('/content/drive/Shareddrives/MD2SL-material/data/training.1600000.processed.noemoticon.csv',encoding='latin1',engine='python',header=None)"
      ],
      "execution_count": null,
      "outputs": []
    },
    {
      "cell_type": "code",
      "metadata": {
        "colab": {
          "base_uri": "https://localhost:8080/"
        },
        "id": "0n-taOnwrtD8",
        "outputId": "a4089ac9-7639-4db7-9e1c-4d6e1d57c390"
      },
      "source": [
        "tweetsDF[0].value_counts()\n"
      ],
      "execution_count": null,
      "outputs": [
        {
          "output_type": "execute_result",
          "data": {
            "text/plain": [
              "0    800000\n",
              "4    800000\n",
              "Name: 0, dtype: int64"
            ]
          },
          "metadata": {},
          "execution_count": 72
        }
      ]
    },
    {
      "cell_type": "code",
      "metadata": {
        "colab": {
          "base_uri": "https://localhost:8080/"
        },
        "id": "cbUPY9tna9xp",
        "outputId": "1b79c464-99c7-4e9b-b3fb-512e947498cb"
      },
      "source": [
        "\n",
        "tweetsDF.columns"
      ],
      "execution_count": null,
      "outputs": [
        {
          "output_type": "execute_result",
          "data": {
            "text/plain": [
              "Int64Index([0, 1, 2, 3, 4, 5], dtype='int64')"
            ]
          },
          "metadata": {},
          "execution_count": 73
        }
      ]
    },
    {
      "cell_type": "code",
      "metadata": {
        "colab": {
          "base_uri": "https://localhost:8080/"
        },
        "id": "oScBFd91aq8V",
        "outputId": "bbb6ab0e-62c0-4594-f7f7-e05d7899aa07"
      },
      "source": [
        "tweetsDF[\"sentiment_cat\"] = tweetsDF[0].astype('category')\n",
        "tweetsDF[\"sentiment_cat\"].cat.codes"
      ],
      "execution_count": null,
      "outputs": [
        {
          "output_type": "execute_result",
          "data": {
            "text/plain": [
              "0          0\n",
              "1          0\n",
              "2          0\n",
              "3          0\n",
              "4          0\n",
              "          ..\n",
              "1599995    1\n",
              "1599996    1\n",
              "1599997    1\n",
              "1599998    1\n",
              "1599999    1\n",
              "Length: 1600000, dtype: int8"
            ]
          },
          "metadata": {},
          "execution_count": 74
        }
      ]
    },
    {
      "cell_type": "code",
      "metadata": {
        "id": "9QwecpXzsIh5"
      },
      "source": [
        "tweetsDF[\"sentiment\"] = tweetsDF[\"sentiment_cat\"].cat.codes\n",
        "tweetsDF.to_csv(\"train-processed.csv\", header=None, index=None)      \n",
        "tweetsDF.sample(10000).to_csv(\"train-processed-sample.csv\", header=None, index=None) \n"
      ],
      "execution_count": null,
      "outputs": []
    },
    {
      "cell_type": "markdown",
      "metadata": {
        "id": "bIq8HlVIbcHv"
      },
      "source": [
        "```torchtext``` takes a straigthforward approach to generating datasets, but you need to define the _fields_. \n",
        "The class ```Fields``` is what we need to use, it could take several parameters, give a look to the documentation:\n",
        "[Class Field documentation](https://pytorch.org/text/_modules/torchtext/data/field.html)"
      ]
    },
    {
      "cell_type": "code",
      "metadata": {
        "id": "OqiDXBaqsNz5"
      },
      "source": [
        "LABEL = data.LabelField() #a subclass of Field that sets sequential to False\n",
        "TWEET = data.Field('spacy', tokenizer_language='en_core_web_sm', lower=True)\n",
        "\n",
        "fields = [('score',None), ('id',None), ('date',None), ('query',None),\n",
        "          ('name',None), ('tweet', TWEET), ('category',None), ('label',LABEL)]"
      ],
      "execution_count": null,
      "outputs": []
    },
    {
      "cell_type": "markdown",
      "metadata": {
        "id": "ThuCr2UEcwp6"
      },
      "source": [
        "This is then passed to the TabularDataset with all the fields we need "
      ]
    },
    {
      "cell_type": "code",
      "metadata": {
        "id": "aeINR6yssR94"
      },
      "source": [
        "twitterDataset = data.dataset.TabularDataset(\n",
        "        path=\"train-processed-sample.csv\", \n",
        "        format=\"CSV\", \n",
        "        fields=fields,\n",
        "        skip_header=False)"
      ],
      "execution_count": null,
      "outputs": []
    },
    {
      "cell_type": "code",
      "metadata": {
        "colab": {
          "base_uri": "https://localhost:8080/"
        },
        "id": "NnM-PDhrsUpF",
        "outputId": "5b684184-4d9a-4911-c2cb-42a3606f0652"
      },
      "source": [
        "\n",
        "(train, test, valid) = twitterDataset.split(split_ratio=[0.8,0.1,0.1],\n",
        "                                            stratified=True, strata_field='label')\n",
        "\n",
        "(len(train),len(test),len(valid))"
      ],
      "execution_count": null,
      "outputs": [
        {
          "output_type": "execute_result",
          "data": {
            "text/plain": [
              "(8000, 1000, 1000)"
            ]
          },
          "metadata": {},
          "execution_count": 78
        }
      ]
    },
    {
      "cell_type": "code",
      "metadata": {
        "colab": {
          "base_uri": "https://localhost:8080/"
        },
        "id": "dnkf_VUUsWtm",
        "outputId": "e94dec1b-3352-4871-fff1-c8210c728240"
      },
      "source": [
        "\n",
        "vocab_size = 20000\n",
        "# torchtext is building for us the one_hot_encoding for the words\n",
        "TWEET.build_vocab(train, max_size = vocab_size)\n",
        "LABEL.build_vocab(train)\n",
        "TWEET.vocab.freqs.most_common(10)"
      ],
      "execution_count": null,
      "outputs": [
        {
          "output_type": "execute_result",
          "data": {
            "text/plain": [
              "[('i', 3705),\n",
              " ('to', 2867),\n",
              " ('the', 2584),\n",
              " ('a', 1861),\n",
              " ('my', 1525),\n",
              " ('and', 1505),\n",
              " ('you', 1228),\n",
              " ('for', 1140),\n",
              " ('is', 1128),\n",
              " ('in', 1017)]"
            ]
          },
          "metadata": {},
          "execution_count": 79
        }
      ]
    },
    {
      "cell_type": "code",
      "metadata": {
        "colab": {
          "base_uri": "https://localhost:8080/"
        },
        "id": "zv5SS7gtduTn",
        "outputId": "b24a51c9-6e37-4f21-eb61-a03617a0d02b"
      },
      "source": [
        "print('How big is our vocabolary? {}'.format(len(TWEET.vocab)))\n",
        "\n",
        "#1 for unk\n",
        "#2 for padding, a padding token that will be used to pad all our to roughly the same sie"
      ],
      "execution_count": null,
      "outputs": [
        {
          "output_type": "stream",
          "name": "stdout",
          "text": [
            "How big is our vocabolary? 20002\n"
          ]
        }
      ]
    },
    {
      "cell_type": "code",
      "metadata": {
        "id": "gIfXfFt5sZQo"
      },
      "source": [
        "'''\n",
        "torchtext provides the BucketIterator method that will produce what it calls a \n",
        "batch. Similar to the data loader we used before\n",
        "'''\n",
        "\n",
        "\n",
        "train_iterator, valid_iterator, test_iterator = data.BucketIterator.splits(\n",
        "    (train, valid, test),\n",
        "    batch_size = 32,\n",
        "    device = device,\n",
        "    sort_key = lambda x: len(x.tweet),\n",
        "    sort_within_batch = False)"
      ],
      "execution_count": null,
      "outputs": []
    },
    {
      "cell_type": "code",
      "metadata": {
        "id": "8l0YiXo5saWo"
      },
      "source": [
        "class OurFirstLSTM(nn.Module):\n",
        "    def __init__(self, hidden_size, embedding_dim, vocab_size):\n",
        "        super(OurFirstLSTM, self).__init__()\n",
        "    \n",
        "        self.embedding = nn.Embedding(vocab_size, embedding_dim)\n",
        "        self.encoder = nn.LSTM(input_size=embedding_dim,  \n",
        "                hidden_size=hidden_size, num_layers=1)\n",
        "        self.predictor = nn.Linear(hidden_size, 2)\n",
        "\n",
        "    def forward(self, seq):\n",
        "        output, (hidden,_) = self.encoder(self.embedding(seq))\n",
        "        preds = self.predictor(hidden.squeeze(0))\n",
        "        return preds\n",
        "\n"
      ],
      "execution_count": null,
      "outputs": []
    },
    {
      "cell_type": "markdown",
      "metadata": {
        "id": "pOk5-uMZeuDh"
      },
      "source": [
        "3 layers: \n",
        "- the words of our tweet are pushed in ```Embeddings``` layer, with 300-dimensional vector\n",
        "- then fed into a LSTM with 100 hidden features\n",
        "- standard fully connected layer with 3 outputs corresponding to our three possible classes "
      ]
    },
    {
      "cell_type": "code",
      "metadata": {
        "id": "JpERp77res7f"
      },
      "source": [
        ""
      ],
      "execution_count": null,
      "outputs": []
    },
    {
      "cell_type": "code",
      "metadata": {
        "id": "nBM6gdk-shyo"
      },
      "source": [
        "def train(epochs, model, optimizer, criterion, train_iterator, valid_iterator):\n",
        "    for epoch in range(1, epochs+1):\n",
        "     \n",
        "        training_loss = 0.0\n",
        "        valid_loss = 0.0\n",
        "        model.train()\n",
        "        for batch_idx, batch in enumerate(train_iterator):\n",
        "            optimizer.zero_grad()\n",
        "            predict = model(batch.tweet) ##we need to specify which field\n",
        "            loss = criterion(predict,batch.label)\n",
        "            loss.backward()\n",
        "            optimizer.step()\n",
        "            training_loss += loss.data.item() * batch.tweet.size(0)\n",
        "        training_loss /= len(train_iterator)\n",
        " \n",
        "        with torch.no_grad():\n",
        "          model.eval()\n",
        "          for batch_idx,batch in enumerate(valid_iterator):\n",
        "              predict = model(batch.tweet)\n",
        "              loss = criterion(predict,batch.label)\n",
        "              valid_loss += loss.data.item() * batch.tweet.size(0)\n",
        "          valid_loss /= len(valid_iterator)\n",
        "          print('Epoch: {}, Training Loss: {:.2f}, Validation Loss: {:.2f}'.format(epoch, training_loss, valid_loss))"
      ],
      "execution_count": null,
      "outputs": []
    },
    {
      "cell_type": "code",
      "metadata": {
        "id": "DlAM4mnNsoKn",
        "colab": {
          "base_uri": "https://localhost:8080/"
        },
        "outputId": "d9d9f7f6-701d-4921-aceb-6de6d3d0f1f0"
      },
      "source": [
        "model = OurFirstLSTM(100,300, 20002)\n",
        "model.to(device)\n",
        "optimizer = optim.Adam(model.parameters(), lr=0.01)\n",
        "criterion = nn.CrossEntropyLoss()\n",
        "\n",
        "train(5, model, optimizer, criterion, train_iterator, valid_iterator)        "
      ],
      "execution_count": null,
      "outputs": [
        {
          "output_type": "stream",
          "name": "stdout",
          "text": [
            "Epoch: 1, Training Loss: 18.92, Validation Loss: 10.28\n",
            "Epoch: 2, Training Loss: 17.06, Validation Loss: 9.22\n",
            "Epoch: 3, Training Loss: 13.98, Validation Loss: 10.68\n",
            "Epoch: 4, Training Loss: 12.45, Validation Loss: 12.36\n",
            "Epoch: 5, Training Loss: 10.54, Validation Loss: 13.78\n"
          ]
        }
      ]
    },
    {
      "cell_type": "code",
      "metadata": {
        "id": "kZwwnueMslDn"
      },
      "source": [
        "'''\n",
        "torchtext doesn't help when we want to predict\n",
        "We need to emulate the preprocessing pipeline, and make the prediction on the\n",
        "output of that pipeline\n",
        "'''\n",
        "\n",
        "def classify_tweet(tweet,device='cpu'):\n",
        "    '''\n",
        "    preprocess performs the tokenization,\n",
        "    then we call process on the resulting \n",
        "    tokens to obtain a tensor based on our already built vocabulary\n",
        "    '''\n",
        "    model.to(device)\n",
        "    categories = {0: \"Negative\", 1:\"Positive\"}\n",
        "    processed = TWEET.process([TWEET.preprocess(tweet)])\n",
        "    processed = processed.float().to(device)\n",
        "    print(processed)\n",
        "    model.eval()\n",
        "    return categories[model(processed).argmax().item()]"
      ],
      "execution_count": null,
      "outputs": []
    },
    {
      "cell_type": "code",
      "metadata": {
        "id": "U-DpNt0JoBJd"
      },
      "source": [
        "device = 'cpu'"
      ],
      "execution_count": null,
      "outputs": []
    },
    {
      "cell_type": "code",
      "metadata": {
        "id": "8KIh5sSinh2X"
      },
      "source": [
        "model.to(device)\n",
        "with torch.no_grad():\n",
        "  model.eval()\n",
        "  for batch in test_iterator:\n",
        "    outputs = model(batch.tweet.to(device))"
      ],
      "execution_count": null,
      "outputs": []
    },
    {
      "cell_type": "code",
      "metadata": {
        "id": "y8Wwd4pms63p"
      },
      "source": [
        "def classify_tweet(tweet):\n",
        "    categories = {0: \"Negative\", 1:\"Positive\"}\n",
        "    processed = TWEET.process([TWEET.preprocess(tweet)])\n",
        "    processed = processed.to(device)\n",
        "    model.eval()\n",
        "    return categories[model(processed).argmax().item()]"
      ],
      "execution_count": null,
      "outputs": []
    },
    {
      "cell_type": "code",
      "metadata": {
        "id": "BoCXNpdfpZ4W",
        "colab": {
          "base_uri": "https://localhost:8080/"
        },
        "outputId": "1af46554-24e3-44ac-b4aa-51a1a50f31d9"
      },
      "source": [
        "test[0].tweet"
      ],
      "execution_count": null,
      "outputs": [
        {
          "output_type": "execute_result",
          "data": {
            "text/plain": [
              "['pain', 'meds', 'are', 'not', 'kicking', 'in', 'quick', 'enough']"
            ]
          },
          "metadata": {},
          "execution_count": 90
        }
      ]
    },
    {
      "cell_type": "code",
      "metadata": {
        "id": "YLj5peK6pMJc",
        "colab": {
          "base_uri": "https://localhost:8080/"
        },
        "outputId": "dfff0deb-71af-4416-a72e-35720d8d78ef"
      },
      "source": [
        "for i in range(0,10):\n",
        "  sentiment = classify_tweet(test[i].tweet)\n",
        "  print(test[i].tweet,test[i].label,sentiment,)"
      ],
      "execution_count": null,
      "outputs": [
        {
          "output_type": "stream",
          "name": "stdout",
          "text": [
            "['pain', 'meds', 'are', 'not', 'kicking', 'in', 'quick', 'enough'] 0 Positive\n",
            "['back', 'to', 'school', 'on', 'monday...well', 'i', 'did', 'get', 'an', 'ipod', 'touch.', '@shmuxel', '+', '@randomized180', 'see', 'yah', 'tomorrow', 'then', 'i', 'guess'] 0 Negative\n",
            "['@poojarazdan', 'i', 'thought', 'i', 'read', '-', 'you', 'were', 'awake', 'all', 'night', 'working', '-', 'sniff', 'sniff'] 0 Negative\n",
            "['#yycphotobook', 'i', 'missed', 'your', 'spot', 'today.', 'will', 'someone', 'be', 'putting', 'online?'] 0 Negative\n",
            "['has', 'sats', 'tomorrow,', 'bright', 'and', 'early.'] 0 Negative\n",
            "['@sweetisa', 'damn.', 'that', 'sucks'] 0 Negative\n",
            "['you', 'all', \"shouldn't\", 'be', 'allowed', 'to', 'use', 'twitter.', 'and', 'why', 'is', 'it', 'lightening', 'by', 'my', 'house'] 0 Positive\n",
            "['@kwod', '-', 'so', 'sad', 'you', 'guys', 'are', 'going', 'away.'] 0 Negative\n",
            "['@ckc406', \"i'm\", 'sorry', 'you', 'had', 'such', 'a', 'bad', 'weekend', '*hugs*'] 0 Negative\n",
            "['@preachdotcom', 'lol', 'its', 'sucks', 'a', 'lot', 'boo'] 0 Negative\n"
          ]
        }
      ]
    },
    {
      "cell_type": "markdown",
      "metadata": {
        "id": "KGjCkJDFqUmk"
      },
      "source": [
        "### Time-series \n",
        "Let's try with LSTM applied to timeseries"
      ]
    },
    {
      "cell_type": "code",
      "metadata": {
        "colab": {
          "base_uri": "https://localhost:8080/",
          "height": 206
        },
        "id": "dACYu0tApnSA",
        "outputId": "bcba02c7-0d0f-4952-849c-61ad1d52f83a"
      },
      "source": [
        "flight_data = sns.load_dataset(\"flights\")\n",
        "flight_data.head()"
      ],
      "execution_count": null,
      "outputs": [
        {
          "output_type": "execute_result",
          "data": {
            "text/plain": [
              "   year month  passengers\n",
              "0  1949   Jan         112\n",
              "1  1949   Feb         118\n",
              "2  1949   Mar         132\n",
              "3  1949   Apr         129\n",
              "4  1949   May         121"
            ],
            "text/html": [
              "\n",
              "  <div id=\"df-9e8ea4f7-4ed7-40df-8e40-8ffc1d157500\">\n",
              "    <div class=\"colab-df-container\">\n",
              "      <div>\n",
              "<style scoped>\n",
              "    .dataframe tbody tr th:only-of-type {\n",
              "        vertical-align: middle;\n",
              "    }\n",
              "\n",
              "    .dataframe tbody tr th {\n",
              "        vertical-align: top;\n",
              "    }\n",
              "\n",
              "    .dataframe thead th {\n",
              "        text-align: right;\n",
              "    }\n",
              "</style>\n",
              "<table border=\"1\" class=\"dataframe\">\n",
              "  <thead>\n",
              "    <tr style=\"text-align: right;\">\n",
              "      <th></th>\n",
              "      <th>year</th>\n",
              "      <th>month</th>\n",
              "      <th>passengers</th>\n",
              "    </tr>\n",
              "  </thead>\n",
              "  <tbody>\n",
              "    <tr>\n",
              "      <th>0</th>\n",
              "      <td>1949</td>\n",
              "      <td>Jan</td>\n",
              "      <td>112</td>\n",
              "    </tr>\n",
              "    <tr>\n",
              "      <th>1</th>\n",
              "      <td>1949</td>\n",
              "      <td>Feb</td>\n",
              "      <td>118</td>\n",
              "    </tr>\n",
              "    <tr>\n",
              "      <th>2</th>\n",
              "      <td>1949</td>\n",
              "      <td>Mar</td>\n",
              "      <td>132</td>\n",
              "    </tr>\n",
              "    <tr>\n",
              "      <th>3</th>\n",
              "      <td>1949</td>\n",
              "      <td>Apr</td>\n",
              "      <td>129</td>\n",
              "    </tr>\n",
              "    <tr>\n",
              "      <th>4</th>\n",
              "      <td>1949</td>\n",
              "      <td>May</td>\n",
              "      <td>121</td>\n",
              "    </tr>\n",
              "  </tbody>\n",
              "</table>\n",
              "</div>\n",
              "      <button class=\"colab-df-convert\" onclick=\"convertToInteractive('df-9e8ea4f7-4ed7-40df-8e40-8ffc1d157500')\"\n",
              "              title=\"Convert this dataframe to an interactive table.\"\n",
              "              style=\"display:none;\">\n",
              "        \n",
              "  <svg xmlns=\"http://www.w3.org/2000/svg\" height=\"24px\"viewBox=\"0 0 24 24\"\n",
              "       width=\"24px\">\n",
              "    <path d=\"M0 0h24v24H0V0z\" fill=\"none\"/>\n",
              "    <path d=\"M18.56 5.44l.94 2.06.94-2.06 2.06-.94-2.06-.94-.94-2.06-.94 2.06-2.06.94zm-11 1L8.5 8.5l.94-2.06 2.06-.94-2.06-.94L8.5 2.5l-.94 2.06-2.06.94zm10 10l.94 2.06.94-2.06 2.06-.94-2.06-.94-.94-2.06-.94 2.06-2.06.94z\"/><path d=\"M17.41 7.96l-1.37-1.37c-.4-.4-.92-.59-1.43-.59-.52 0-1.04.2-1.43.59L10.3 9.45l-7.72 7.72c-.78.78-.78 2.05 0 2.83L4 21.41c.39.39.9.59 1.41.59.51 0 1.02-.2 1.41-.59l7.78-7.78 2.81-2.81c.8-.78.8-2.07 0-2.86zM5.41 20L4 18.59l7.72-7.72 1.47 1.35L5.41 20z\"/>\n",
              "  </svg>\n",
              "      </button>\n",
              "      \n",
              "  <style>\n",
              "    .colab-df-container {\n",
              "      display:flex;\n",
              "      flex-wrap:wrap;\n",
              "      gap: 12px;\n",
              "    }\n",
              "\n",
              "    .colab-df-convert {\n",
              "      background-color: #E8F0FE;\n",
              "      border: none;\n",
              "      border-radius: 50%;\n",
              "      cursor: pointer;\n",
              "      display: none;\n",
              "      fill: #1967D2;\n",
              "      height: 32px;\n",
              "      padding: 0 0 0 0;\n",
              "      width: 32px;\n",
              "    }\n",
              "\n",
              "    .colab-df-convert:hover {\n",
              "      background-color: #E2EBFA;\n",
              "      box-shadow: 0px 1px 2px rgba(60, 64, 67, 0.3), 0px 1px 3px 1px rgba(60, 64, 67, 0.15);\n",
              "      fill: #174EA6;\n",
              "    }\n",
              "\n",
              "    [theme=dark] .colab-df-convert {\n",
              "      background-color: #3B4455;\n",
              "      fill: #D2E3FC;\n",
              "    }\n",
              "\n",
              "    [theme=dark] .colab-df-convert:hover {\n",
              "      background-color: #434B5C;\n",
              "      box-shadow: 0px 1px 3px 1px rgba(0, 0, 0, 0.15);\n",
              "      filter: drop-shadow(0px 1px 2px rgba(0, 0, 0, 0.3));\n",
              "      fill: #FFFFFF;\n",
              "    }\n",
              "  </style>\n",
              "\n",
              "      <script>\n",
              "        const buttonEl =\n",
              "          document.querySelector('#df-9e8ea4f7-4ed7-40df-8e40-8ffc1d157500 button.colab-df-convert');\n",
              "        buttonEl.style.display =\n",
              "          google.colab.kernel.accessAllowed ? 'block' : 'none';\n",
              "\n",
              "        async function convertToInteractive(key) {\n",
              "          const element = document.querySelector('#df-9e8ea4f7-4ed7-40df-8e40-8ffc1d157500');\n",
              "          const dataTable =\n",
              "            await google.colab.kernel.invokeFunction('convertToInteractive',\n",
              "                                                     [key], {});\n",
              "          if (!dataTable) return;\n",
              "\n",
              "          const docLinkHtml = 'Like what you see? Visit the ' +\n",
              "            '<a target=\"_blank\" href=https://colab.research.google.com/notebooks/data_table.ipynb>data table notebook</a>'\n",
              "            + ' to learn more about interactive tables.';\n",
              "          element.innerHTML = '';\n",
              "          dataTable['output_type'] = 'display_data';\n",
              "          await google.colab.output.renderOutput(dataTable, element);\n",
              "          const docLink = document.createElement('div');\n",
              "          docLink.innerHTML = docLinkHtml;\n",
              "          element.appendChild(docLink);\n",
              "        }\n",
              "      </script>\n",
              "    </div>\n",
              "  </div>\n",
              "  "
            ]
          },
          "metadata": {},
          "execution_count": 82
        }
      ]
    },
    {
      "cell_type": "code",
      "metadata": {
        "colab": {
          "base_uri": "https://localhost:8080/",
          "height": 319
        },
        "id": "TLLoXqqXqd6I",
        "outputId": "8b9f0c7c-e7f9-4dd6-a2fb-9a528fa49d29"
      },
      "source": [
        "plt.title('Month vs Passenger')\n",
        "plt.ylabel('Total Passengers')\n",
        "plt.xlabel('Months')\n",
        "plt.grid(True)\n",
        "plt.autoscale(axis='x',tight=True)\n",
        "plt.plot(flight_data['passengers'])"
      ],
      "execution_count": null,
      "outputs": [
        {
          "output_type": "execute_result",
          "data": {
            "text/plain": [
              "[<matplotlib.lines.Line2D at 0x7fa220418b10>]"
            ]
          },
          "metadata": {},
          "execution_count": 83
        },
        {
          "output_type": "display_data",
          "data": {
            "text/plain": [
              "<Figure size 432x288 with 1 Axes>"
            ],
            "image/png": "[encoded data removed]"
          },
          "metadata": {
            "needs_background": "light"
          }
        }
      ]
    },
    {
      "cell_type": "code",
      "metadata": {
        "id": "yKN_l40oqkXj"
      },
      "source": [
        "all_data = flight_data['passengers'].values.astype(float)\n",
        "\n",
        "test_data_size = 12\n",
        "\n",
        "train_data = all_data[:-test_data_size]\n",
        "test_data = all_data[-test_data_size:]"
      ],
      "execution_count": null,
      "outputs": []
    },
    {
      "cell_type": "code",
      "metadata": {
        "colab": {
          "base_uri": "https://localhost:8080/"
        },
        "id": "OtK8_23aq5Kj",
        "outputId": "07ced3f6-d29a-4246-c055-04ee5e831398"
      },
      "source": [
        "print(len(train_data))\n",
        "print(len(test_data))"
      ],
      "execution_count": null,
      "outputs": [
        {
          "output_type": "stream",
          "name": "stdout",
          "text": [
            "132\n",
            "12\n"
          ]
        }
      ]
    },
    {
      "cell_type": "code",
      "metadata": {
        "id": "_UAxF8X7q5sJ"
      },
      "source": [
        "from sklearn.preprocessing import MinMaxScaler\n",
        "\n",
        "scaler = MinMaxScaler(feature_range=(-1, 1))\n",
        "train_data_normalized = scaler.fit_transform(train_data .reshape(-1, 1))"
      ],
      "execution_count": null,
      "outputs": []
    },
    {
      "cell_type": "code",
      "metadata": {
        "id": "dMzF1Pgvq-VE"
      },
      "source": [
        "train_data_normalized = torch.FloatTensor(train_data_normalized).view(-1)\n"
      ],
      "execution_count": null,
      "outputs": []
    },
    {
      "cell_type": "code",
      "metadata": {
        "id": "LFf9tpBHrhXh"
      },
      "source": [
        "train_window = 12"
      ],
      "execution_count": null,
      "outputs": []
    },
    {
      "cell_type": "code",
      "metadata": {
        "id": "VeZ1Iy3FrvJV"
      },
      "source": [
        "'''\n",
        "The function will accept the raw input data and will return a list of tuples. \n",
        "In each tuple, the first element will contain list of 12 items corresponding \n",
        "to the number of passengers traveling in 12 months, the second tuple element \n",
        "will contain one item i.e. the number of passengers in the 12+1st month\n",
        "'''\n",
        "\n",
        "def create_inout_sequences(input_data, tw):\n",
        "    inout_seq = []\n",
        "    L = len(input_data)\n",
        "    for i in range(L-tw):\n",
        "        train_seq = input_data[i:i+tw]\n",
        "        train_label = input_data[i+tw:i+tw+1]\n",
        "        inout_seq.append((train_seq ,train_label))\n",
        "    return inout_seq"
      ],
      "execution_count": null,
      "outputs": []
    },
    {
      "cell_type": "code",
      "metadata": {
        "id": "dKIe2mhPr4MV"
      },
      "source": [
        "train_inout_seq = create_inout_sequences(train_data_normalized, train_window)\n"
      ],
      "execution_count": null,
      "outputs": []
    },
    {
      "cell_type": "code",
      "metadata": {
        "colab": {
          "base_uri": "https://localhost:8080/"
        },
        "id": "W4JRJ5N_r4tS",
        "outputId": "8c26f0b9-1631-4ec8-ce3c-7bf81b5bd237"
      },
      "source": [
        "print(train_inout_seq[0][0])\n",
        "print(train_inout_seq[0][1])"
      ],
      "execution_count": null,
      "outputs": [
        {
          "output_type": "stream",
          "name": "stdout",
          "text": [
            "tensor([-0.9648, -0.9385, -0.8769, -0.8901, -0.9253, -0.8637, -0.8066, -0.8066,\n",
            "        -0.8593, -0.9341, -1.0000, -0.9385])\n",
            "tensor([-0.9516])\n"
          ]
        }
      ]
    },
    {
      "cell_type": "code",
      "metadata": {
        "id": "xes8xVLTsE_Y"
      },
      "source": [
        "'''\n",
        "input_size: Corresponds to the number of features in the input.\n",
        "Though our sequence length is 12, for each month we have only \n",
        "1 value i.e. total number of passengers, therefore the input size will be 1.\n",
        "'''\n",
        "\n",
        "'''\n",
        "hidden_layer_size: Specifies the number of hidden layers along \n",
        "with the number of neurons in each layer. \n",
        "We will have one layer of 100 neurons.\n",
        "'''\n",
        "\n",
        "'''\n",
        "output_size: The number of items in the output, \n",
        "since we want to predict the number of passengers\n",
        "for 1 month in the future, the output size will be 1.\n",
        "'''\n",
        "\n",
        "'''\n",
        "Inside the forward method, the input_seq is passed as a parameter, \n",
        "which is first passed through the lstm layer. The output of the lstm layer is \n",
        "the hidden and cell states at current time step, along with the output. \n",
        "The output from the lstm layer is passed to the linear layer. \n",
        "The predicted number of passengers is stored in the last item of the \n",
        "predictions list, which is returned to the calling function.\n",
        "'''\n",
        "\n",
        "\n",
        "class LSTM(nn.Module):\n",
        "    def __init__(self, input_size=1, hidden_layer_size=250, output_size=1):\n",
        "        super().__init__()\n",
        "        self.hidden_layer_size = hidden_layer_size\n",
        "\n",
        "        self.lstm = nn.LSTM(input_size, hidden_layer_size)\n",
        "\n",
        "        self.linear = nn.Linear(hidden_layer_size, output_size)\n",
        "\n",
        "        self.hidden_cell = (torch.zeros(1,1,self.hidden_layer_size),\n",
        "                            torch.zeros(1,1,self.hidden_layer_size))\n",
        "\n",
        "    def forward(self, input_seq):\n",
        "        lstm_out, self.hidden_cell = self.lstm(input_seq.view(len(input_seq) ,1, -1), self.hidden_cell)\n",
        "        predictions = self.linear(lstm_out.view(len(input_seq), -1))\n",
        "        return predictions[-1]\n",
        "\n",
        "\n"
      ],
      "execution_count": null,
      "outputs": []
    },
    {
      "cell_type": "code",
      "metadata": {
        "id": "r4ylDdzYsSJE"
      },
      "source": [
        "model = LSTM()\n",
        "loss_function = nn.MSELoss()\n",
        "optimizer = torch.optim.Adam(model.parameters(), lr=0.01)"
      ],
      "execution_count": null,
      "outputs": []
    },
    {
      "cell_type": "code",
      "metadata": {
        "colab": {
          "base_uri": "https://localhost:8080/"
        },
        "id": "wor3uZGFuYqR",
        "outputId": "08dd49db-e931-4e4d-b9ab-cae667c4992c"
      },
      "source": [
        "epochs = 300\n",
        "\n",
        "for i in range(epochs):\n",
        "    for seq, labels in train_inout_seq:\n",
        "        optimizer.zero_grad()\n",
        "        model.hidden_cell = (torch.zeros(1, 1, model.hidden_layer_size),\n",
        "                        torch.zeros(1, 1, model.hidden_layer_size))\n",
        "\n",
        "        y_pred = model(seq)\n",
        "\n",
        "        single_loss = loss_function(y_pred, labels)\n",
        "        single_loss.backward()\n",
        "        optimizer.step()\n",
        "\n",
        "    if i%25 == 1:\n",
        "        print(f'epoch: {i:3} loss: {single_loss.item():10.8f}')\n",
        "\n",
        "print(f'epoch: {i:3} loss: {single_loss.item():10.10f}')\n"
      ],
      "execution_count": null,
      "outputs": [
        {
          "output_type": "stream",
          "name": "stdout",
          "text": [
            "epoch:   1 loss: 0.03217940\n",
            "epoch:  26 loss: 0.10798632\n",
            "epoch:  51 loss: 0.08700537\n",
            "epoch:  76 loss: 0.08068001\n",
            "epoch: 101 loss: 0.08069772\n",
            "epoch: 126 loss: 0.08067371\n",
            "epoch: 151 loss: 0.08066552\n",
            "epoch: 176 loss: 0.10877632\n",
            "epoch: 201 loss: 0.10724123\n",
            "epoch: 226 loss: 0.10543448\n",
            "epoch: 251 loss: 0.01964139\n",
            "epoch: 276 loss: 0.02972045\n",
            "epoch: 299 loss: 0.0523491390\n"
          ]
        }
      ]
    },
    {
      "cell_type": "code",
      "metadata": {
        "colab": {
          "base_uri": "https://localhost:8080/"
        },
        "id": "z3nHH6xeuel8",
        "outputId": "5de4c4da-b72b-4f61-d8e2-089b710a58af"
      },
      "source": [
        "fut_pred = 12\n",
        "\n",
        "test_inputs = train_data_normalized[-train_window:].tolist()\n",
        "\n",
        "model.eval()\n",
        "\n",
        "for i in range(fut_pred):\n",
        "    seq = torch.FloatTensor(test_inputs[-train_window:])\n",
        "    with torch.no_grad():\n",
        "        model.hidden = (torch.zeros(1, 1, model.hidden_layer_size),\n",
        "                        torch.zeros(1, 1, model.hidden_layer_size))\n",
        "        test_inputs.append(model(seq).item())\n",
        "test_inputs[fut_pred:]\n"
      ],
      "execution_count": null,
      "outputs": [
        {
          "output_type": "execute_result",
          "data": {
            "text/plain": [
              "[0.2174944430589676,\n",
              " 0.21748070418834686,\n",
              " 0.21747292578220367,\n",
              " 0.21745999157428741,\n",
              " 0.21744884550571442,\n",
              " 0.21743853390216827,\n",
              " 0.21742768585681915,\n",
              " 0.21741695702075958,\n",
              " 0.21740780770778656,\n",
              " 0.21739967167377472,\n",
              " 0.2173919826745987,\n",
              " 0.21738387644290924]"
            ]
          },
          "metadata": {},
          "execution_count": 106
        }
      ]
    },
    {
      "cell_type": "code",
      "metadata": {
        "colab": {
          "base_uri": "https://localhost:8080/"
        },
        "id": "gvzSSDjZu8tZ",
        "outputId": "df4c30e1-bef7-4099-a1ef-f29baa3befc0"
      },
      "source": [
        "actual_predictions = scaler.inverse_transform(np.array(test_inputs[train_window:] ).reshape(-1, 1))\n",
        "print(actual_predictions)"
      ],
      "execution_count": null,
      "outputs": [
        {
          "output_type": "stream",
          "name": "stdout",
          "text": [
            "[[380.9799858 ]\n",
            " [380.9768602 ]\n",
            " [380.97509062]\n",
            " [380.97214808]\n",
            " [380.96961235]\n",
            " [380.96726646]\n",
            " [380.96479853]\n",
            " [380.96235772]\n",
            " [380.96027625]\n",
            " [380.95842531]\n",
            " [380.95667606]\n",
            " [380.95483189]]\n"
          ]
        }
      ]
    },
    {
      "cell_type": "code",
      "metadata": {
        "colab": {
          "base_uri": "https://localhost:8080/"
        },
        "id": "N--N-eYAvDpH",
        "outputId": "eec64149-f637-4f26-be68-43b96233c7b0"
      },
      "source": [
        "x = np.arange(132, 144, 1)\n",
        "print(x)"
      ],
      "execution_count": null,
      "outputs": [
        {
          "output_type": "stream",
          "name": "stdout",
          "text": [
            "[132 133 134 135 136 137 138 139 140 141 142 143]\n"
          ]
        }
      ]
    },
    {
      "cell_type": "code",
      "metadata": {
        "colab": {
          "base_uri": "https://localhost:8080/",
          "height": 284
        },
        "id": "yBYcGBXuvL0N",
        "outputId": "7db11fe3-300b-46ae-cd56-015b796d9202"
      },
      "source": [
        "plt.title('Month vs Passenger')\n",
        "plt.ylabel('Total Passengers')\n",
        "plt.grid(True)\n",
        "plt.autoscale(axis='x', tight=True)\n",
        "plt.plot(flight_data['passengers'])\n",
        "plt.plot(x,actual_predictions)\n",
        "plt.show()"
      ],
      "execution_count": null,
      "outputs": [
        {
          "output_type": "display_data",
          "data": {
            "text/plain": [
              "<Figure size 432x288 with 1 Axes>"
            ],
            "image/png": "[encoded data removed]"
          },
          "metadata": {
            "needs_background": "light"
          }
        }
      ]
    },
    {
      "cell_type": "code",
      "metadata": {
        "id": "t5HVJAOOvO4H"
      },
      "source": [
        ""
      ],
      "execution_count": null,
      "outputs": []
    }
  ]
}