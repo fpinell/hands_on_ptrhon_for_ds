{
  "nbformat": 4,
  "nbformat_minor": 0,
  "metadata": {
    "colab": {
      "name": "Lecture_4_Deep_Learning",
      "provenance": [],
      "collapsed_sections": [
        "ELbqlV_DC9Jw"
      ],
      "include_colab_link": true
    },
    "kernelspec": {
      "name": "python3",
      "display_name": "Python 3"
    },
    "language_info": {
      "name": "python"
    },
    "gpuClass": "standard"
  },
  "cells": [
    {
      "cell_type": "markdown",
      "metadata": {
        "id": "view-in-github",
        "colab_type": "text"
      },
      "source": [
        "<a href=\"https://colab.research.google.com/github/fpinell/hands_on_python_for_ds/blob/main/notebooks/phd/Lecture_4_Deep_Learning.ipynb\" target=\"_parent\"><img src=\"https://colab.research.google.com/assets/colab-badge.svg\" alt=\"Open In Colab\"/></a>"
      ]
    },
    {
      "cell_type": "code",
      "source": [
        "!pip install -U torch==1.8.0 torchtext==0.9.0"
      ],
      "metadata": {
        "colab": {
          "base_uri": "https://localhost:8080/"
        },
        "id": "O9Tr0dOiijOI",
        "outputId": "08289f72-5803-4c24-c40a-3d850bd392f6"
      },
      "execution_count": null,
      "outputs": [
        {
          "output_type": "stream",
          "name": "stdout",
          "text": [
            "Looking in indexes: https://pypi.org/simple, https://us-python.pkg.dev/colab-wheels/public/simple/\n",
            "Collecting torch==1.8.0\n",
            "  Downloading torch-1.8.0-cp37-cp37m-manylinux1_x86_64.whl (735.5 MB)\n",
            "\u001b[K     |████████████████████████████████| 735.5 MB 12 kB/s \n",
            "\u001b[?25hCollecting torchtext==0.9.0\n",
            "  Downloading torchtext-0.9.0-cp37-cp37m-manylinux1_x86_64.whl (7.1 MB)\n",
            "\u001b[K     |████████████████████████████████| 7.1 MB 20.8 MB/s \n",
            "\u001b[?25hRequirement already satisfied: numpy in /usr/local/lib/python3.7/dist-packages (from torch==1.8.0) (1.21.6)\n",
            "Requirement already satisfied: typing-extensions in /usr/local/lib/python3.7/dist-packages (from torch==1.8.0) (4.1.1)\n",
            "Requirement already satisfied: tqdm in /usr/local/lib/python3.7/dist-packages (from torchtext==0.9.0) (4.64.0)\n",
            "Requirement already satisfied: requests in /usr/local/lib/python3.7/dist-packages (from torchtext==0.9.0) (2.23.0)\n",
            "Requirement already satisfied: idna<3,>=2.5 in /usr/local/lib/python3.7/dist-packages (from requests->torchtext==0.9.0) (2.10)\n",
            "Requirement already satisfied: chardet<4,>=3.0.2 in /usr/local/lib/python3.7/dist-packages (from requests->torchtext==0.9.0) (3.0.4)\n",
            "Requirement already satisfied: certifi>=2017.4.17 in /usr/local/lib/python3.7/dist-packages (from requests->torchtext==0.9.0) (2022.6.15)\n",
            "Requirement already satisfied: urllib3!=1.25.0,!=1.25.1,<1.26,>=1.21.1 in /usr/local/lib/python3.7/dist-packages (from requests->torchtext==0.9.0) (1.24.3)\n",
            "Installing collected packages: torch, torchtext\n",
            "  Attempting uninstall: torch\n",
            "    Found existing installation: torch 1.11.0+cu113\n",
            "    Uninstalling torch-1.11.0+cu113:\n",
            "      Successfully uninstalled torch-1.11.0+cu113\n",
            "  Attempting uninstall: torchtext\n",
            "    Found existing installation: torchtext 0.12.0\n",
            "    Uninstalling torchtext-0.12.0:\n",
            "      Successfully uninstalled torchtext-0.12.0\n",
            "\u001b[31mERROR: pip's dependency resolver does not currently take into account all the packages that are installed. This behaviour is the source of the following dependency conflicts.\n",
            "torchvision 0.12.0+cu113 requires torch==1.11.0, but you have torch 1.8.0 which is incompatible.\n",
            "torchaudio 0.11.0+cu113 requires torch==1.11.0, but you have torch 1.8.0 which is incompatible.\u001b[0m\n",
            "Successfully installed torch-1.8.0 torchtext-0.9.0\n"
          ]
        }
      ]
    },
    {
      "cell_type": "markdown",
      "metadata": {
        "id": "ELbqlV_DC9Jw"
      },
      "source": [
        "# Hands on Python for Data Science\n",
        "\n",
        "\n",
        "### PhD IMT School for Advanced Studies Lucca 2021-2022\n",
        "\n",
        "#### Fabio Pinelli\n",
        "<a href=\"mailto:fabio.pinelli@imtlucca.it\">fabio.pinelli@imtlucca.it</a><br/>\n",
        "IMT School for Advanced Studies Lucca<br/>\n",
        "2021/2022<br/>\n",
        "June, 25 2022"
      ]
    },
    {
      "cell_type": "markdown",
      "metadata": {
        "id": "HUepE3bODBa2"
      },
      "source": [
        "# Outline\n",
        "\n",
        "- Pytorch\n",
        "- Neural Network (fully connected)\n",
        "  - Classification\n",
        "  - Learning rate\n",
        "  - Regression on tabular data\n",
        "  - Classification on tabular data with embeddings\n",
        "- CNN\n",
        "- RNN\n",
        "\n"
      ]
    },
    {
      "cell_type": "markdown",
      "metadata": {
        "id": "tPNVyHGcD3mW"
      },
      "source": [
        "# Pytorch \n",
        "\n",
        "## Why ```pytorch```?\n",
        "\n",
        "1. Because I've already done something in PyTorch\n",
        "2. It is widely used now in the research environment \n",
        "3. It is more _pythonic_ the way it is implemented, thus the learning curve can be smoother than with other platform\n",
        "  - use\n",
        "  - extend\n",
        "  - debug\n",
        "4. Tensors are really similar to numpy arrays \n",
        "5. (not in our goals) It can be used for scientific computation as well, not only for _Deep Learning_ tasks\n",
        "\n"
      ]
    },
    {
      "cell_type": "code",
      "metadata": {
        "id": "S6cfGklpSyst"
      },
      "source": [
        "# Python ≥3.5 is required\n",
        "import sys\n",
        "assert sys.version_info >= (3, 5)\n",
        "\n",
        "# Scikit-Learn ≥0.20 is required\n",
        "import sklearn\n",
        "assert sklearn.__version__ >= \"0.20\"\n",
        "\n",
        "# Common imports\n",
        "import numpy as np\n",
        "import pandas as pd\n",
        "import seaborn as sns\n",
        "import os\n",
        "\n",
        "# to make this notebook's output stable across runs\n",
        "np.random.seed(42)\n",
        "\n",
        "#import for pytorch\n",
        "import torch\n",
        "import torch.nn as nn\n",
        "import torch.optim as optim\n",
        "import torch.utils.data\n",
        "import torch.nn.functional as F\n",
        "# import torchvision\n",
        "# from torchvision import transforms\n",
        "from PIL import Image, ImageFile\n",
        "\n",
        "\n",
        "\n",
        "# To plot pretty figures\n",
        "%matplotlib inline\n",
        "import matplotlib as mpl\n",
        "import matplotlib.pyplot as plt\n",
        "mpl.rc('axes', labelsize=14)\n",
        "mpl.rc('xtick', labelsize=12)\n",
        "mpl.rc('ytick', labelsize=12)\n",
        "\n",
        "# Where to save the figures\n",
        "PROJECT_ROOT_DIR = \".\"\n",
        "CHAPTER_ID = \"svm\"\n",
        "IMAGES_PATH = os.path.join(PROJECT_ROOT_DIR, \"images\", CHAPTER_ID)\n",
        "os.makedirs(IMAGES_PATH, exist_ok=True)\n",
        "\n",
        "def save_fig(fig_id, tight_layout=True, fig_extension=\"png\", resolution=300):\n",
        "    path = os.path.join(IMAGES_PATH, fig_id + \".\" + fig_extension)\n",
        "    print(\"Saving figure\", fig_id)\n",
        "    if tight_layout:\n",
        "        plt.tight_layout()\n",
        "    plt.savefig(path, format=fig_extension, dpi=resolution)"
      ],
      "execution_count": 7,
      "outputs": []
    },
    {
      "cell_type": "code",
      "metadata": {
        "colab": {
          "base_uri": "https://localhost:8080/"
        },
        "id": "lipDnPDxEQ_R",
        "outputId": "0da4cc8c-5bd0-4c37-f191-3db47255be76"
      },
      "source": [
        "# pytorch is available naturally on colab\n",
        "# we can also use a gpu\n",
        "# Go to Menu > Runtime > Change runtime.\n",
        "\n",
        "\n",
        "import torch\n",
        "# GPU available check \n",
        "print('GPU available check {}'.format(torch.cuda.is_available()))\n",
        "print(torch.rand(2,2))"
      ],
      "execution_count": 8,
      "outputs": [
        {
          "output_type": "stream",
          "name": "stdout",
          "text": [
            "GPU available check False\n",
            "tensor([[0.9242, 0.6962],\n",
            "        [0.7374, 0.7720]])\n"
          ]
        }
      ]
    },
    {
      "cell_type": "markdown",
      "metadata": {
        "id": "vk7_93nOEAQ8"
      },
      "source": [
        "## Tensors \n",
        "\n",
        "- A tensor is both a container for **numbers** and for a set of rules that define transformations between tensors producing a new tensor\n",
        "\n",
        "- **Essentially?** A multidimensional array\n",
        "- Every tensor has a rank\n",
        "  - scalar --> rank 0 \n",
        "  - array --> rank 1\n",
        "  - $n \\times n$ matrix --> rank 2\n",
        "\n",
        "```python torch.rand(2,2)``` creates a rank 2 tensor with random values by using ```python torch.rand()``` \n",
        "\n"
      ]
    },
    {
      "cell_type": "markdown",
      "metadata": {
        "id": "fO6e1lw4GfBT"
      },
      "source": [
        "### Operations with tensors"
      ]
    },
    {
      "cell_type": "code",
      "metadata": {
        "colab": {
          "base_uri": "https://localhost:8080/"
        },
        "id": "a_ATkkKhEX7D",
        "outputId": "10b6fe87-d635-4c4a-d1e9-f4c95cfb61c9"
      },
      "source": [
        "# we can create a tensor from lists\n",
        "x = torch.tensor([[0,0,1],[1,1,1],[0,0,0]])\n",
        "print(x)"
      ],
      "execution_count": 9,
      "outputs": [
        {
          "output_type": "stream",
          "name": "stdout",
          "text": [
            "tensor([[0, 0, 1],\n",
            "        [1, 1, 1],\n",
            "        [0, 0, 0]])\n"
          ]
        }
      ]
    },
    {
      "cell_type": "code",
      "metadata": {
        "colab": {
          "base_uri": "https://localhost:8080/"
        },
        "id": "Ac60DL6_HTLp",
        "outputId": "e766f6fc-10ca-4a13-d326-4b15e38dbaf9"
      },
      "source": [
        "# we can change an element in a tensor by using standard Python indexing\n",
        "\n",
        "x[0][0] = 5\n",
        "print(x) "
      ],
      "execution_count": 10,
      "outputs": [
        {
          "output_type": "stream",
          "name": "stdout",
          "text": [
            "tensor([[5, 0, 1],\n",
            "        [1, 1, 1],\n",
            "        [0, 0, 0]])\n"
          ]
        }
      ]
    },
    {
      "cell_type": "markdown",
      "metadata": {
        "id": "lv8CgLeuHEmK"
      },
      "source": [
        "We can use special creation functions to generate particular types of tensors\n",
        "\n",
        "- ```ones()``` generates tensors filled with 1s\n",
        "- ```zeros()```  generates tensors filled with 1s"
      ]
    },
    {
      "cell_type": "code",
      "metadata": {
        "colab": {
          "base_uri": "https://localhost:8080/"
        },
        "id": "0f5_LPTHHTlS",
        "outputId": "8c84c4fb-a20c-4b6e-bb8d-db91c2681404"
      },
      "source": [
        "a = torch.zeros(2,2)\n",
        "b = torch.ones(2,2)\n",
        "print('First tensor\\n {}'.format(a))\n",
        "print('Second tensor\\n {}'.format(b))"
      ],
      "execution_count": 11,
      "outputs": [
        {
          "output_type": "stream",
          "name": "stdout",
          "text": [
            "First tensor\n",
            " tensor([[0., 0.],\n",
            "        [0., 0.]])\n",
            "Second tensor\n",
            " tensor([[1., 1.],\n",
            "        [1., 1.]])\n"
          ]
        }
      ]
    },
    {
      "cell_type": "markdown",
      "metadata": {
        "id": "0hxpcKjhIo9W"
      },
      "source": [
        "We can perform standard mathematical operations with tensors, e.g. addind two tensors together. \n",
        "\n"
      ]
    },
    {
      "cell_type": "code",
      "metadata": {
        "colab": {
          "base_uri": "https://localhost:8080/"
        },
        "id": "E-p3-HtoHUFm",
        "outputId": "25230edd-6161-4b38-ff0e-a9e04ae8a23f"
      },
      "source": [
        "a = torch.tensor([[1,2],[2,3]])\n",
        "b = torch.tensor([[1,1],[1,1]])\n",
        "print('Check the sum\\n {}'.format(a+b))"
      ],
      "execution_count": 12,
      "outputs": [
        {
          "output_type": "stream",
          "name": "stdout",
          "text": [
            "Check the sum\n",
            " tensor([[2, 3],\n",
            "        [3, 4]])\n"
          ]
        }
      ]
    },
    {
      "cell_type": "markdown",
      "metadata": {
        "id": "-8BxnmGmJIJg"
      },
      "source": [
        "And if you have a tensor of rank 0, you can access out the value with the ```item()``` function"
      ]
    },
    {
      "cell_type": "code",
      "metadata": {
        "colab": {
          "base_uri": "https://localhost:8080/"
        },
        "id": "ixzmV8dxHUDH",
        "outputId": "291e46eb-c818-4bd2-9b82-88bae3fc54c4"
      },
      "source": [
        "print('Value of the 1D tensor: {}'.format(torch.rand(1).item()))"
      ],
      "execution_count": 13,
      "outputs": [
        {
          "output_type": "stream",
          "name": "stdout",
          "text": [
            "Value of the 1D tensor: 0.7360962629318237\n"
          ]
        }
      ]
    },
    {
      "cell_type": "markdown",
      "metadata": {
        "id": "ahJdiHnZJfiv"
      },
      "source": [
        "Tensors can live in the **CPU** or on the **GPU** and they can be copied between devices by usint the ```to()``` function:"
      ]
    },
    {
      "cell_type": "code",
      "metadata": {
        "colab": {
          "base_uri": "https://localhost:8080/"
        },
        "id": "xfNPJA5JHT_6",
        "outputId": "47ffcf9a-4aa1-4f94-c1de-641e2b951015"
      },
      "source": [
        "cpu_tensor = torch.rand(2)\n",
        "print('In which device is the tensor? {}'.format(cpu_tensor.device))"
      ],
      "execution_count": 14,
      "outputs": [
        {
          "output_type": "stream",
          "name": "stdout",
          "text": [
            "In which device is the tensor? cpu\n"
          ]
        }
      ]
    },
    {
      "cell_type": "code",
      "metadata": {
        "id": "TjX6p_2eHT9T",
        "colab": {
          "base_uri": "https://localhost:8080/",
          "height": 305
        },
        "outputId": "ff518bca-cb9a-4b07-f88b-abec225b28fd"
      },
      "source": [
        "gpu_tensor = cpu_tensor.to('cuda')\n",
        "print('In which device is the tensor? {}'.format(gpu_tensor.device))"
      ],
      "execution_count": 15,
      "outputs": [
        {
          "output_type": "error",
          "ename": "RuntimeError",
          "evalue": "ignored",
          "traceback": [
            "\u001b[0;31m---------------------------------------------------------------------------\u001b[0m",
            "\u001b[0;31mRuntimeError\u001b[0m                              Traceback (most recent call last)",
            "\u001b[0;32m<ipython-input-15-e34d8f63d306>\u001b[0m in \u001b[0;36m<module>\u001b[0;34m()\u001b[0m\n\u001b[0;32m----> 1\u001b[0;31m \u001b[0mgpu_tensor\u001b[0m \u001b[0;34m=\u001b[0m \u001b[0mcpu_tensor\u001b[0m\u001b[0;34m.\u001b[0m\u001b[0mto\u001b[0m\u001b[0;34m(\u001b[0m\u001b[0;34m'cuda'\u001b[0m\u001b[0;34m)\u001b[0m\u001b[0;34m\u001b[0m\u001b[0;34m\u001b[0m\u001b[0m\n\u001b[0m\u001b[1;32m      2\u001b[0m \u001b[0mprint\u001b[0m\u001b[0;34m(\u001b[0m\u001b[0;34m'In which device is the tensor? {}'\u001b[0m\u001b[0;34m.\u001b[0m\u001b[0mformat\u001b[0m\u001b[0;34m(\u001b[0m\u001b[0mgpu_tensor\u001b[0m\u001b[0;34m.\u001b[0m\u001b[0mdevice\u001b[0m\u001b[0;34m)\u001b[0m\u001b[0;34m)\u001b[0m\u001b[0;34m\u001b[0m\u001b[0;34m\u001b[0m\u001b[0m\n",
            "\u001b[0;32m/usr/local/lib/python3.7/dist-packages/torch/cuda/__init__.py\u001b[0m in \u001b[0;36m_lazy_init\u001b[0;34m()\u001b[0m\n\u001b[1;32m    214\u001b[0m         \u001b[0;31m# This function throws if there's a driver initialization error, no GPUs\u001b[0m\u001b[0;34m\u001b[0m\u001b[0;34m\u001b[0m\u001b[0;34m\u001b[0m\u001b[0m\n\u001b[1;32m    215\u001b[0m         \u001b[0;31m# are found or any other error occurs\u001b[0m\u001b[0;34m\u001b[0m\u001b[0;34m\u001b[0m\u001b[0;34m\u001b[0m\u001b[0m\n\u001b[0;32m--> 216\u001b[0;31m         \u001b[0mtorch\u001b[0m\u001b[0;34m.\u001b[0m\u001b[0m_C\u001b[0m\u001b[0;34m.\u001b[0m\u001b[0m_cuda_init\u001b[0m\u001b[0;34m(\u001b[0m\u001b[0;34m)\u001b[0m\u001b[0;34m\u001b[0m\u001b[0;34m\u001b[0m\u001b[0m\n\u001b[0m\u001b[1;32m    217\u001b[0m         \u001b[0;31m# Some of the queued calls may reentrantly call _lazy_init();\u001b[0m\u001b[0;34m\u001b[0m\u001b[0;34m\u001b[0m\u001b[0;34m\u001b[0m\u001b[0m\n\u001b[1;32m    218\u001b[0m         \u001b[0;31m# we need to just return without initializing in that case.\u001b[0m\u001b[0;34m\u001b[0m\u001b[0;34m\u001b[0m\u001b[0;34m\u001b[0m\u001b[0m\n",
            "\u001b[0;31mRuntimeError\u001b[0m: No CUDA GPUs are available"
          ]
        }
      ]
    },
    {
      "cell_type": "markdown",
      "metadata": {
        "id": "MPqjyhEuOl_z"
      },
      "source": [
        "Quite often we need to find the maximum item in a tensor, as well as the index that contains the maximum value (it may correspond to the class that the neural network has decided upon its final prediction). \n",
        "\n",
        "```max()``` and ```argmax()``` are the needed functions, then we can use ```item()``` to get the _standard_ Python value from a 1D tensor. "
      ]
    },
    {
      "cell_type": "code",
      "metadata": {
        "colab": {
          "base_uri": "https://localhost:8080/"
        },
        "id": "L2UWg4dyHT6f",
        "outputId": "0deaabe7-9bd2-43c7-acac-55a5492d25a9"
      },
      "source": [
        "a = torch.rand(2,2)\n",
        "print(a)\n",
        "\n",
        "print('Which is the max value? {}'.format(a.max()))\n",
        "print('Which is the index of the max value: {}'.format(a.argmax()))\n",
        "print('Get the values\\n -max: {}\\n -index: {}'.format(a.max().item(),a.argmax().item()))"
      ],
      "execution_count": 16,
      "outputs": [
        {
          "output_type": "stream",
          "name": "stdout",
          "text": [
            "tensor([[0.6249, 0.9627],\n",
            "        [0.8653, 0.1692]])\n",
            "Which is the max value? 0.9626973867416382\n",
            "Which is the index of the max value: 1\n",
            "Get the values\n",
            " -max: 0.9626973867416382\n",
            " -index: 1\n"
          ]
        }
      ]
    },
    {
      "cell_type": "markdown",
      "metadata": {
        "id": "37kPmJMVP9YA"
      },
      "source": [
        "Sometimes we need to change the type of a tensor"
      ]
    },
    {
      "cell_type": "code",
      "metadata": {
        "colab": {
          "base_uri": "https://localhost:8080/"
        },
        "id": "yCWfYW_zHT12",
        "outputId": "78d6d1d8-70d3-454f-b445-998b95146129"
      },
      "source": [
        "long_tensor = torch.tensor([[0,0,1],[1,1,1],[0,0,0]])\n",
        "print('which is the type of long tensor? {}'.format(long_tensor.type()))"
      ],
      "execution_count": 17,
      "outputs": [
        {
          "output_type": "stream",
          "name": "stdout",
          "text": [
            "which is the type of long tensor? torch.LongTensor\n"
          ]
        }
      ]
    },
    {
      "cell_type": "code",
      "metadata": {
        "colab": {
          "base_uri": "https://localhost:8080/"
        },
        "id": "RZebCnecHTtG",
        "outputId": "a3df4029-56f6-47ff-9a6d-c76a9e41a993"
      },
      "source": [
        "float_tensor = long_tensor.to(dtype=torch.float32)\n",
        "float_tensor_2 = long_tensor.type(torch.float64) #second method to change type\n",
        "print('which is the type of long tensor? {}'.format(float_tensor.type()))\n",
        "print('which is the type of long tensor? {}'.format(float_tensor_2.type()))"
      ],
      "execution_count": 18,
      "outputs": [
        {
          "output_type": "stream",
          "name": "stdout",
          "text": [
            "which is the type of long tensor? torch.FloatTensor\n",
            "which is the type of long tensor? torch.DoubleTensor\n"
          ]
        }
      ]
    },
    {
      "cell_type": "markdown",
      "metadata": {
        "id": "duAx1tzzRLCG"
      },
      "source": [
        "If you remember in ```pandas``` we could perform operations of dataframes using the parameter ```in_place = True```. \n",
        "\n",
        "We could perform something similar on tensors. \n",
        "\n",
        "Functions can be applied _inplace_ if exists the original fuction with appended underscore '_'. \n",
        "\n",
        "Let see an example:"
      ]
    },
    {
      "cell_type": "code",
      "metadata": {
        "colab": {
          "base_uri": "https://localhost:8080/"
        },
        "id": "gN1Oiy_oRyql",
        "outputId": "f37677c4-effb-49de-b51e-9afb4cdad66b"
      },
      "source": [
        "random_tensor = torch.rand(2,2)\n",
        "new_random = random_tensor.log2()\n",
        "print(random_tensor)\n",
        "print(new_random)"
      ],
      "execution_count": 19,
      "outputs": [
        {
          "output_type": "stream",
          "name": "stdout",
          "text": [
            "tensor([[0.5179, 0.0210],\n",
            "        [0.1714, 0.6384]])\n",
            "tensor([[-0.9493, -5.5743],\n",
            "        [-2.5443, -0.6476]])\n"
          ]
        }
      ]
    },
    {
      "cell_type": "code",
      "metadata": {
        "colab": {
          "base_uri": "https://localhost:8080/"
        },
        "id": "k3VWT0Q5Rynu",
        "outputId": "8b944969-3264-4ef5-ddd0-9219264e15ee"
      },
      "source": [
        "print(random_tensor.log2_())"
      ],
      "execution_count": 20,
      "outputs": [
        {
          "output_type": "stream",
          "name": "stdout",
          "text": [
            "tensor([[-0.9493, -5.5743],\n",
            "        [-2.5443, -0.6476]])\n"
          ]
        }
      ]
    },
    {
      "cell_type": "markdown",
      "metadata": {
        "id": "UN9lCeqrTNCP"
      },
      "source": [
        "Some nice manipulation that can be done with tensors\n",
        "- reshape / view\n",
        "- column permutation\n",
        "- slice a tensor\n",
        "\n",
        "Let's try with a simple random tensor, and with the ```MINST``` dataset that is represented in numpy arrays of 784 elements"
      ]
    },
    {
      "cell_type": "code",
      "metadata": {
        "colab": {
          "base_uri": "https://localhost:8080/",
          "height": 287
        },
        "id": "MGnJ3F8HXAg-",
        "outputId": "a517cda9-7f5a-47cb-89af-0f56af5016ff"
      },
      "source": [
        "'''\n",
        "reshape() function. It is really similar to numpy reshape function. There are a\n",
        "lot of similarities between tensors and numpy operations/functions\n",
        "'''\n",
        "\n",
        "flat_tensor = torch.rand(784)\n",
        "reshaped_tensor = flat_tensor.reshape(1,28,28) #1 is the number of channels\n",
        "print('Flat tensor shape {}'.format(flat_tensor.shape))\n",
        "print('Flat tensor shape {}'.format(reshaped_tensor.shape))\n",
        "\n",
        "'''\n",
        "view() function. Same behaviour of reshape, the main difference is that the view \n",
        "changes if the original one is changed\n",
        "'''\n",
        "flat_tensor = torch.rand(784)\n",
        "reshaped_tensor = flat_tensor.view(1,28,28) #1 is the number of channels\n",
        "print('Flat tensor shape {}'.format(flat_tensor.shape))\n",
        "print('Flat tensor shape {}'.format(reshaped_tensor.shape))\n",
        "\n",
        "'''\n",
        "The reshaped tensor can't have a number of elements different than the original one\n",
        "'''\n",
        "flat_tensor = torch.rand(784)\n",
        "reshaped_tensor = flat_tensor.view(3,28,28)\n",
        "\n"
      ],
      "execution_count": 21,
      "outputs": [
        {
          "output_type": "stream",
          "name": "stdout",
          "text": [
            "Flat tensor shape torch.Size([784])\n",
            "Flat tensor shape torch.Size([1, 28, 28])\n",
            "Flat tensor shape torch.Size([784])\n",
            "Flat tensor shape torch.Size([1, 28, 28])\n"
          ]
        },
        {
          "output_type": "error",
          "ename": "RuntimeError",
          "evalue": "ignored",
          "traceback": [
            "\u001b[0;31m---------------------------------------------------------------------------\u001b[0m",
            "\u001b[0;31mRuntimeError\u001b[0m                              Traceback (most recent call last)",
            "\u001b[0;32m<ipython-input-21-22bffc86eb1f>\u001b[0m in \u001b[0;36m<module>\u001b[0;34m()\u001b[0m\n\u001b[1;32m     22\u001b[0m '''\n\u001b[1;32m     23\u001b[0m \u001b[0mflat_tensor\u001b[0m \u001b[0;34m=\u001b[0m \u001b[0mtorch\u001b[0m\u001b[0;34m.\u001b[0m\u001b[0mrand\u001b[0m\u001b[0;34m(\u001b[0m\u001b[0;36m784\u001b[0m\u001b[0;34m)\u001b[0m\u001b[0;34m\u001b[0m\u001b[0;34m\u001b[0m\u001b[0m\n\u001b[0;32m---> 24\u001b[0;31m \u001b[0mreshaped_tensor\u001b[0m \u001b[0;34m=\u001b[0m \u001b[0mflat_tensor\u001b[0m\u001b[0;34m.\u001b[0m\u001b[0mview\u001b[0m\u001b[0;34m(\u001b[0m\u001b[0;36m3\u001b[0m\u001b[0;34m,\u001b[0m\u001b[0;36m28\u001b[0m\u001b[0;34m,\u001b[0m\u001b[0;36m28\u001b[0m\u001b[0;34m)\u001b[0m\u001b[0;34m\u001b[0m\u001b[0;34m\u001b[0m\u001b[0m\n\u001b[0m\u001b[1;32m     25\u001b[0m \u001b[0;34m\u001b[0m\u001b[0m\n",
            "\u001b[0;31mRuntimeError\u001b[0m: shape '[3, 28, 28]' is invalid for input of size 784"
          ]
        }
      ]
    },
    {
      "cell_type": "code",
      "metadata": {
        "id": "Y9moKIIpRymG"
      },
      "source": [
        "\n",
        "from sklearn.datasets import fetch_openml\n",
        "mnist = fetch_openml('mnist_784', version=1, cache=True, as_frame=False)\n",
        "\n",
        "X = mnist[\"data\"]\n",
        "y = mnist[\"target\"].astype(np.uint8)\n",
        "\n",
        "X_train = X[:50000]\n",
        "y_train = y[:50000]\n",
        "\n",
        "X_val = X[50000:60000]\n",
        "y_val = y[50000:60000]\n",
        "\n",
        "X_test = X[60000:]\n",
        "y_test = y[60000:]"
      ],
      "execution_count": 22,
      "outputs": []
    },
    {
      "cell_type": "code",
      "source": [
        "X[0]"
      ],
      "metadata": {
        "id": "8L01Bvos3MW_",
        "outputId": "c94841b1-1209-420d-dd11-e3516cbe4bdc",
        "colab": {
          "base_uri": "https://localhost:8080/"
        }
      },
      "execution_count": 23,
      "outputs": [
        {
          "output_type": "execute_result",
          "data": {
            "text/plain": [
              "array([  0.,   0.,   0.,   0.,   0.,   0.,   0.,   0.,   0.,   0.,   0.,\n",
              "         0.,   0.,   0.,   0.,   0.,   0.,   0.,   0.,   0.,   0.,   0.,\n",
              "         0.,   0.,   0.,   0.,   0.,   0.,   0.,   0.,   0.,   0.,   0.,\n",
              "         0.,   0.,   0.,   0.,   0.,   0.,   0.,   0.,   0.,   0.,   0.,\n",
              "         0.,   0.,   0.,   0.,   0.,   0.,   0.,   0.,   0.,   0.,   0.,\n",
              "         0.,   0.,   0.,   0.,   0.,   0.,   0.,   0.,   0.,   0.,   0.,\n",
              "         0.,   0.,   0.,   0.,   0.,   0.,   0.,   0.,   0.,   0.,   0.,\n",
              "         0.,   0.,   0.,   0.,   0.,   0.,   0.,   0.,   0.,   0.,   0.,\n",
              "         0.,   0.,   0.,   0.,   0.,   0.,   0.,   0.,   0.,   0.,   0.,\n",
              "         0.,   0.,   0.,   0.,   0.,   0.,   0.,   0.,   0.,   0.,   0.,\n",
              "         0.,   0.,   0.,   0.,   0.,   0.,   0.,   0.,   0.,   0.,   0.,\n",
              "         0.,   0.,   0.,   0.,   0.,   0.,   0.,   0.,   0.,   0.,   0.,\n",
              "         0.,   0.,   0.,   0.,   0.,   0.,   0.,   0.,   0.,   0.,   0.,\n",
              "         0.,   0.,   0.,   0.,   0.,   0.,   0.,   0.,   0.,   3.,  18.,\n",
              "        18.,  18., 126., 136., 175.,  26., 166., 255., 247., 127.,   0.,\n",
              "         0.,   0.,   0.,   0.,   0.,   0.,   0.,   0.,   0.,   0.,   0.,\n",
              "        30.,  36.,  94., 154., 170., 253., 253., 253., 253., 253., 225.,\n",
              "       172., 253., 242., 195.,  64.,   0.,   0.,   0.,   0.,   0.,   0.,\n",
              "         0.,   0.,   0.,   0.,   0.,  49., 238., 253., 253., 253., 253.,\n",
              "       253., 253., 253., 253., 251.,  93.,  82.,  82.,  56.,  39.,   0.,\n",
              "         0.,   0.,   0.,   0.,   0.,   0.,   0.,   0.,   0.,   0.,   0.,\n",
              "        18., 219., 253., 253., 253., 253., 253., 198., 182., 247., 241.,\n",
              "         0.,   0.,   0.,   0.,   0.,   0.,   0.,   0.,   0.,   0.,   0.,\n",
              "         0.,   0.,   0.,   0.,   0.,   0.,   0.,  80., 156., 107., 253.,\n",
              "       253., 205.,  11.,   0.,  43., 154.,   0.,   0.,   0.,   0.,   0.,\n",
              "         0.,   0.,   0.,   0.,   0.,   0.,   0.,   0.,   0.,   0.,   0.,\n",
              "         0.,   0.,   0.,  14.,   1., 154., 253.,  90.,   0.,   0.,   0.,\n",
              "         0.,   0.,   0.,   0.,   0.,   0.,   0.,   0.,   0.,   0.,   0.,\n",
              "         0.,   0.,   0.,   0.,   0.,   0.,   0.,   0.,   0.,   0.,   0.,\n",
              "       139., 253., 190.,   2.,   0.,   0.,   0.,   0.,   0.,   0.,   0.,\n",
              "         0.,   0.,   0.,   0.,   0.,   0.,   0.,   0.,   0.,   0.,   0.,\n",
              "         0.,   0.,   0.,   0.,   0.,   0.,  11., 190., 253.,  70.,   0.,\n",
              "         0.,   0.,   0.,   0.,   0.,   0.,   0.,   0.,   0.,   0.,   0.,\n",
              "         0.,   0.,   0.,   0.,   0.,   0.,   0.,   0.,   0.,   0.,   0.,\n",
              "         0.,   0.,  35., 241., 225., 160., 108.,   1.,   0.,   0.,   0.,\n",
              "         0.,   0.,   0.,   0.,   0.,   0.,   0.,   0.,   0.,   0.,   0.,\n",
              "         0.,   0.,   0.,   0.,   0.,   0.,   0.,   0.,   0.,  81., 240.,\n",
              "       253., 253., 119.,  25.,   0.,   0.,   0.,   0.,   0.,   0.,   0.,\n",
              "         0.,   0.,   0.,   0.,   0.,   0.,   0.,   0.,   0.,   0.,   0.,\n",
              "         0.,   0.,   0.,   0.,   0.,  45., 186., 253., 253., 150.,  27.,\n",
              "         0.,   0.,   0.,   0.,   0.,   0.,   0.,   0.,   0.,   0.,   0.,\n",
              "         0.,   0.,   0.,   0.,   0.,   0.,   0.,   0.,   0.,   0.,   0.,\n",
              "         0.,  16.,  93., 252., 253., 187.,   0.,   0.,   0.,   0.,   0.,\n",
              "         0.,   0.,   0.,   0.,   0.,   0.,   0.,   0.,   0.,   0.,   0.,\n",
              "         0.,   0.,   0.,   0.,   0.,   0.,   0.,   0.,   0., 249., 253.,\n",
              "       249.,  64.,   0.,   0.,   0.,   0.,   0.,   0.,   0.,   0.,   0.,\n",
              "         0.,   0.,   0.,   0.,   0.,   0.,   0.,   0.,   0.,   0.,   0.,\n",
              "         0.,  46., 130., 183., 253., 253., 207.,   2.,   0.,   0.,   0.,\n",
              "         0.,   0.,   0.,   0.,   0.,   0.,   0.,   0.,   0.,   0.,   0.,\n",
              "         0.,   0.,   0.,   0.,   0.,  39., 148., 229., 253., 253., 253.,\n",
              "       250., 182.,   0.,   0.,   0.,   0.,   0.,   0.,   0.,   0.,   0.,\n",
              "         0.,   0.,   0.,   0.,   0.,   0.,   0.,   0.,   0.,  24., 114.,\n",
              "       221., 253., 253., 253., 253., 201.,  78.,   0.,   0.,   0.,   0.,\n",
              "         0.,   0.,   0.,   0.,   0.,   0.,   0.,   0.,   0.,   0.,   0.,\n",
              "         0.,   0.,  23.,  66., 213., 253., 253., 253., 253., 198.,  81.,\n",
              "         2.,   0.,   0.,   0.,   0.,   0.,   0.,   0.,   0.,   0.,   0.,\n",
              "         0.,   0.,   0.,   0.,   0.,   0.,  18., 171., 219., 253., 253.,\n",
              "       253., 253., 195.,  80.,   9.,   0.,   0.,   0.,   0.,   0.,   0.,\n",
              "         0.,   0.,   0.,   0.,   0.,   0.,   0.,   0.,   0.,   0.,  55.,\n",
              "       172., 226., 253., 253., 253., 253., 244., 133.,  11.,   0.,   0.,\n",
              "         0.,   0.,   0.,   0.,   0.,   0.,   0.,   0.,   0.,   0.,   0.,\n",
              "         0.,   0.,   0.,   0.,   0., 136., 253., 253., 253., 212., 135.,\n",
              "       132.,  16.,   0.,   0.,   0.,   0.,   0.,   0.,   0.,   0.,   0.,\n",
              "         0.,   0.,   0.,   0.,   0.,   0.,   0.,   0.,   0.,   0.,   0.,\n",
              "         0.,   0.,   0.,   0.,   0.,   0.,   0.,   0.,   0.,   0.,   0.,\n",
              "         0.,   0.,   0.,   0.,   0.,   0.,   0.,   0.,   0.,   0.,   0.,\n",
              "         0.,   0.,   0.,   0.,   0.,   0.,   0.,   0.,   0.,   0.,   0.,\n",
              "         0.,   0.,   0.,   0.,   0.,   0.,   0.,   0.,   0.,   0.,   0.,\n",
              "         0.,   0.,   0.,   0.,   0.,   0.,   0.,   0.,   0.,   0.,   0.,\n",
              "         0.,   0.,   0.,   0.,   0.,   0.,   0.,   0.,   0.,   0.,   0.,\n",
              "         0.,   0.,   0.,   0.,   0.,   0.,   0.,   0.,   0.,   0.,   0.,\n",
              "         0.,   0.,   0.])"
            ]
          },
          "metadata": {},
          "execution_count": 23
        }
      ]
    },
    {
      "cell_type": "code",
      "metadata": {
        "colab": {
          "base_uri": "https://localhost:8080/"
        },
        "id": "e12FubxuRyi7",
        "outputId": "43ca2e21-3dc6-4118-fcaa-6c56d81bfefe"
      },
      "source": [
        "print('shape of x train: {}'.format(X_train.shape))"
      ],
      "execution_count": 24,
      "outputs": [
        {
          "output_type": "stream",
          "name": "stdout",
          "text": [
            "shape of x train: (50000, 784)\n"
          ]
        }
      ]
    },
    {
      "cell_type": "code",
      "source": [
        "print(type(X_train))"
      ],
      "metadata": {
        "id": "J8N_5Yt02NnG",
        "outputId": "a003ef1d-546d-44ff-bb00-f54232821695",
        "colab": {
          "base_uri": "https://localhost:8080/"
        }
      },
      "execution_count": 25,
      "outputs": [
        {
          "output_type": "stream",
          "name": "stdout",
          "text": [
            "<class 'numpy.ndarray'>\n"
          ]
        }
      ]
    },
    {
      "cell_type": "code",
      "metadata": {
        "id": "3kJ4IWlkRyfz"
      },
      "source": [
        "'''\n",
        "Let's create a tensor from the numpy arrays\n",
        "'''\n",
        "x_train_tensor,x_val_tensor, x_test_tensor = map(torch.FloatTensor, (X_train, X_val, X_test))\n",
        "y_train_tensor,y_val_tensor, y_test_tensor = map(torch.LongTensor, (y_train, y_val, y_test))\n",
        "\n",
        "# y_train_tensor = y_train_tensor.type(torch.LongTensor)\n",
        "# y_test_tensor = y_test_tensor.type(torch.LongTensor)"
      ],
      "execution_count": 26,
      "outputs": []
    },
    {
      "cell_type": "code",
      "metadata": {
        "colab": {
          "base_uri": "https://localhost:8080/"
        },
        "id": "cALwuCBlRydZ",
        "outputId": "9b42c8c5-9944-4046-d599-e61b79baccef"
      },
      "source": [
        "print(x_train_tensor.shape,x_train_tensor.size())\n",
        "x_train_tensor_reshaped = x_train_tensor.reshape([-1,28,28])\n",
        "\n",
        "print(x_train_tensor_reshaped.size())\n"
      ],
      "execution_count": 27,
      "outputs": [
        {
          "output_type": "stream",
          "name": "stdout",
          "text": [
            "torch.Size([50000, 784]) torch.Size([50000, 784])\n",
            "torch.Size([50000, 28, 28])\n"
          ]
        }
      ]
    },
    {
      "cell_type": "code",
      "source": [
        "y_train[0]"
      ],
      "metadata": {
        "id": "hcoKT-394PYm",
        "outputId": "6e999fa6-610d-4e37-aeb4-dcc8a0f2f29b",
        "colab": {
          "base_uri": "https://localhost:8080/"
        }
      },
      "execution_count": 28,
      "outputs": [
        {
          "output_type": "execute_result",
          "data": {
            "text/plain": [
              "5"
            ]
          },
          "metadata": {},
          "execution_count": 28
        }
      ]
    },
    {
      "cell_type": "code",
      "source": [
        "x_train_tensor_reshaped[0]"
      ],
      "metadata": {
        "id": "fkT62S-X4B5r",
        "outputId": "52cf6305-e396-46a7-b819-cf759c054460",
        "colab": {
          "base_uri": "https://localhost:8080/"
        }
      },
      "execution_count": 29,
      "outputs": [
        {
          "output_type": "execute_result",
          "data": {
            "text/plain": [
              "tensor([[  0.,   0.,   0.,   0.,   0.,   0.,   0.,   0.,   0.,   0.,   0.,   0.,\n",
              "           0.,   0.,   0.,   0.,   0.,   0.,   0.,   0.,   0.,   0.,   0.,   0.,\n",
              "           0.,   0.,   0.,   0.],\n",
              "        [  0.,   0.,   0.,   0.,   0.,   0.,   0.,   0.,   0.,   0.,   0.,   0.,\n",
              "           0.,   0.,   0.,   0.,   0.,   0.,   0.,   0.,   0.,   0.,   0.,   0.,\n",
              "           0.,   0.,   0.,   0.],\n",
              "        [  0.,   0.,   0.,   0.,   0.,   0.,   0.,   0.,   0.,   0.,   0.,   0.,\n",
              "           0.,   0.,   0.,   0.,   0.,   0.,   0.,   0.,   0.,   0.,   0.,   0.,\n",
              "           0.,   0.,   0.,   0.],\n",
              "        [  0.,   0.,   0.,   0.,   0.,   0.,   0.,   0.,   0.,   0.,   0.,   0.,\n",
              "           0.,   0.,   0.,   0.,   0.,   0.,   0.,   0.,   0.,   0.,   0.,   0.,\n",
              "           0.,   0.,   0.,   0.],\n",
              "        [  0.,   0.,   0.,   0.,   0.,   0.,   0.,   0.,   0.,   0.,   0.,   0.,\n",
              "           0.,   0.,   0.,   0.,   0.,   0.,   0.,   0.,   0.,   0.,   0.,   0.,\n",
              "           0.,   0.,   0.,   0.],\n",
              "        [  0.,   0.,   0.,   0.,   0.,   0.,   0.,   0.,   0.,   0.,   0.,   0.,\n",
              "           3.,  18.,  18.,  18., 126., 136., 175.,  26., 166., 255., 247., 127.,\n",
              "           0.,   0.,   0.,   0.],\n",
              "        [  0.,   0.,   0.,   0.,   0.,   0.,   0.,   0.,  30.,  36.,  94., 154.,\n",
              "         170., 253., 253., 253., 253., 253., 225., 172., 253., 242., 195.,  64.,\n",
              "           0.,   0.,   0.,   0.],\n",
              "        [  0.,   0.,   0.,   0.,   0.,   0.,   0.,  49., 238., 253., 253., 253.,\n",
              "         253., 253., 253., 253., 253., 251.,  93.,  82.,  82.,  56.,  39.,   0.,\n",
              "           0.,   0.,   0.,   0.],\n",
              "        [  0.,   0.,   0.,   0.,   0.,   0.,   0.,  18., 219., 253., 253., 253.,\n",
              "         253., 253., 198., 182., 247., 241.,   0.,   0.,   0.,   0.,   0.,   0.,\n",
              "           0.,   0.,   0.,   0.],\n",
              "        [  0.,   0.,   0.,   0.,   0.,   0.,   0.,   0.,  80., 156., 107., 253.,\n",
              "         253., 205.,  11.,   0.,  43., 154.,   0.,   0.,   0.,   0.,   0.,   0.,\n",
              "           0.,   0.,   0.,   0.],\n",
              "        [  0.,   0.,   0.,   0.,   0.,   0.,   0.,   0.,   0.,  14.,   1., 154.,\n",
              "         253.,  90.,   0.,   0.,   0.,   0.,   0.,   0.,   0.,   0.,   0.,   0.,\n",
              "           0.,   0.,   0.,   0.],\n",
              "        [  0.,   0.,   0.,   0.,   0.,   0.,   0.,   0.,   0.,   0.,   0., 139.,\n",
              "         253., 190.,   2.,   0.,   0.,   0.,   0.,   0.,   0.,   0.,   0.,   0.,\n",
              "           0.,   0.,   0.,   0.],\n",
              "        [  0.,   0.,   0.,   0.,   0.,   0.,   0.,   0.,   0.,   0.,   0.,  11.,\n",
              "         190., 253.,  70.,   0.,   0.,   0.,   0.,   0.,   0.,   0.,   0.,   0.,\n",
              "           0.,   0.,   0.,   0.],\n",
              "        [  0.,   0.,   0.,   0.,   0.,   0.,   0.,   0.,   0.,   0.,   0.,   0.,\n",
              "          35., 241., 225., 160., 108.,   1.,   0.,   0.,   0.,   0.,   0.,   0.,\n",
              "           0.,   0.,   0.,   0.],\n",
              "        [  0.,   0.,   0.,   0.,   0.,   0.,   0.,   0.,   0.,   0.,   0.,   0.,\n",
              "           0.,  81., 240., 253., 253., 119.,  25.,   0.,   0.,   0.,   0.,   0.,\n",
              "           0.,   0.,   0.,   0.],\n",
              "        [  0.,   0.,   0.,   0.,   0.,   0.,   0.,   0.,   0.,   0.,   0.,   0.,\n",
              "           0.,   0.,  45., 186., 253., 253., 150.,  27.,   0.,   0.,   0.,   0.,\n",
              "           0.,   0.,   0.,   0.],\n",
              "        [  0.,   0.,   0.,   0.,   0.,   0.,   0.,   0.,   0.,   0.,   0.,   0.,\n",
              "           0.,   0.,   0.,  16.,  93., 252., 253., 187.,   0.,   0.,   0.,   0.,\n",
              "           0.,   0.,   0.,   0.],\n",
              "        [  0.,   0.,   0.,   0.,   0.,   0.,   0.,   0.,   0.,   0.,   0.,   0.,\n",
              "           0.,   0.,   0.,   0.,   0., 249., 253., 249.,  64.,   0.,   0.,   0.,\n",
              "           0.,   0.,   0.,   0.],\n",
              "        [  0.,   0.,   0.,   0.,   0.,   0.,   0.,   0.,   0.,   0.,   0.,   0.,\n",
              "           0.,   0.,  46., 130., 183., 253., 253., 207.,   2.,   0.,   0.,   0.,\n",
              "           0.,   0.,   0.,   0.],\n",
              "        [  0.,   0.,   0.,   0.,   0.,   0.,   0.,   0.,   0.,   0.,   0.,   0.,\n",
              "          39., 148., 229., 253., 253., 253., 250., 182.,   0.,   0.,   0.,   0.,\n",
              "           0.,   0.,   0.,   0.],\n",
              "        [  0.,   0.,   0.,   0.,   0.,   0.,   0.,   0.,   0.,   0.,  24., 114.,\n",
              "         221., 253., 253., 253., 253., 201.,  78.,   0.,   0.,   0.,   0.,   0.,\n",
              "           0.,   0.,   0.,   0.],\n",
              "        [  0.,   0.,   0.,   0.,   0.,   0.,   0.,   0.,  23.,  66., 213., 253.,\n",
              "         253., 253., 253., 198.,  81.,   2.,   0.,   0.,   0.,   0.,   0.,   0.,\n",
              "           0.,   0.,   0.,   0.],\n",
              "        [  0.,   0.,   0.,   0.,   0.,   0.,  18., 171., 219., 253., 253., 253.,\n",
              "         253., 195.,  80.,   9.,   0.,   0.,   0.,   0.,   0.,   0.,   0.,   0.,\n",
              "           0.,   0.,   0.,   0.],\n",
              "        [  0.,   0.,   0.,   0.,  55., 172., 226., 253., 253., 253., 253., 244.,\n",
              "         133.,  11.,   0.,   0.,   0.,   0.,   0.,   0.,   0.,   0.,   0.,   0.,\n",
              "           0.,   0.,   0.,   0.],\n",
              "        [  0.,   0.,   0.,   0., 136., 253., 253., 253., 212., 135., 132.,  16.,\n",
              "           0.,   0.,   0.,   0.,   0.,   0.,   0.,   0.,   0.,   0.,   0.,   0.,\n",
              "           0.,   0.,   0.,   0.],\n",
              "        [  0.,   0.,   0.,   0.,   0.,   0.,   0.,   0.,   0.,   0.,   0.,   0.,\n",
              "           0.,   0.,   0.,   0.,   0.,   0.,   0.,   0.,   0.,   0.,   0.,   0.,\n",
              "           0.,   0.,   0.,   0.],\n",
              "        [  0.,   0.,   0.,   0.,   0.,   0.,   0.,   0.,   0.,   0.,   0.,   0.,\n",
              "           0.,   0.,   0.,   0.,   0.,   0.,   0.,   0.,   0.,   0.,   0.,   0.,\n",
              "           0.,   0.,   0.,   0.],\n",
              "        [  0.,   0.,   0.,   0.,   0.,   0.,   0.,   0.,   0.,   0.,   0.,   0.,\n",
              "           0.,   0.,   0.,   0.,   0.,   0.,   0.,   0.,   0.,   0.,   0.,   0.,\n",
              "           0.,   0.,   0.,   0.]])"
            ]
          },
          "metadata": {},
          "execution_count": 29
        }
      ]
    },
    {
      "cell_type": "markdown",
      "metadata": {
        "id": "vmIvwydEYfzL"
      },
      "source": [
        "Dimensions permutations. The order of the \"columns\" is not the one useful for our tasks so we need to change the order. \n",
        "For instance, images are stored as ```[height, width, channel]``` tensors, but PyTorch prefers to deal with these in a ```[channel, height, width ] order```\n",
        "\n",
        "```\n",
        "permute() \n",
        "```"
      ]
    },
    {
      "cell_type": "code",
      "metadata": {
        "colab": {
          "base_uri": "https://localhost:8080/"
        },
        "id": "f9awYd1YRyas",
        "outputId": "ac3b9d56-bd1d-4747-e441-ac25bd8579aa"
      },
      "source": [
        "hwc_tensor = torch.rand(643,232,9)\n",
        "chw_tensor = hwc_tensor.permute(2,0,1)\n",
        "print('Shape of hwc tensor {}',hwc_tensor.shape)\n",
        "print('Shape of chw tensor {}',chw_tensor.shape)"
      ],
      "execution_count": 30,
      "outputs": [
        {
          "output_type": "stream",
          "name": "stdout",
          "text": [
            "Shape of hwc tensor {} torch.Size([643, 232, 9])\n",
            "Shape of chw tensor {} torch.Size([9, 643, 232])\n"
          ]
        }
      ]
    },
    {
      "cell_type": "markdown",
      "metadata": {
        "id": "UxnUPHmmZkBV"
      },
      "source": [
        "Slice on tensors to access certain elements of the data structrure"
      ]
    },
    {
      "cell_type": "code",
      "metadata": {
        "colab": {
          "base_uri": "https://localhost:8080/",
          "height": 471
        },
        "id": "mQLxbX7JRyX2",
        "outputId": "af912f0e-6b7a-45a0-861c-eaf6e4b2b3fb"
      },
      "source": [
        "'''\n",
        "Take the ten first lines for all the images\n",
        "'''\n",
        "\n",
        "print('the shape is {}'.format(x_train_tensor_reshaped.size()))\n",
        "\n",
        "selected_part = x_train_tensor_reshaped[:,:10,:]\n",
        "\n",
        "print('the shape of the cropped tensor is {}'.format(selected_part.size()))\n",
        "\n",
        "fig, axes = plt.subplots(8,8,figsize=(8,8))\n",
        "for i in range(8):\n",
        "    for j in range(8):\n",
        "        num_index = np.random.randint(len(selected_part))\n",
        "        axes[i,j].imshow(selected_part[num_index].numpy(), cmap=\"gray\")\n",
        "        axes[i,j].axis(\"off\")\n",
        "plt.show() "
      ],
      "execution_count": 32,
      "outputs": [
        {
          "output_type": "stream",
          "name": "stdout",
          "text": [
            "the shape is torch.Size([50000, 28, 28])\n",
            "the shape of the cropped tensor is torch.Size([50000, 10, 28])\n"
          ]
        },
        {
          "output_type": "display_data",
          "data": {
            "text/plain": [
              "<Figure size 576x576 with 64 Axes>"
            ],
            "image/png": "[encoded data removed]"
          },
          "metadata": {
            "needs_background": "light"
          }
        }
      ]
    },
    {
      "cell_type": "code",
      "source": [
        "selected_part[num_index].numpy()"
      ],
      "metadata": {
        "id": "OYl7mphX5enO",
        "outputId": "7bbac4b3-8bb0-4949-bd3e-3dd06f687434",
        "colab": {
          "base_uri": "https://localhost:8080/"
        }
      },
      "execution_count": 33,
      "outputs": [
        {
          "output_type": "execute_result",
          "data": {
            "text/plain": [
              "array([[  0.,   0.,   0.,   0.,   0.,   0.,   0.,   0.,   0.,   0.,   0.,\n",
              "          0.,   0.,   0.,   0.,   0.,   0.,   0.,   0.,   0.,   0.,   0.,\n",
              "          0.,   0.,   0.,   0.,   0.,   0.],\n",
              "       [  0.,   0.,   0.,   0.,   0.,   0.,   0.,   0.,   0.,   0.,   0.,\n",
              "          0.,   0.,   0.,   0.,   0.,   0.,   0.,   0.,   0.,   0.,   0.,\n",
              "          0.,   0.,   0.,   0.,   0.,   0.],\n",
              "       [  0.,   0.,   0.,   0.,   0.,   0.,   0.,   0.,   0.,   0.,   0.,\n",
              "          0.,   0.,   0.,   0.,   0.,   0.,   0.,   0.,   0.,   0.,   0.,\n",
              "          0.,   0.,   0.,   0.,   0.,   0.],\n",
              "       [  0.,   0.,   0.,   0.,   0.,   0.,   0.,   0.,   0.,   0.,   0.,\n",
              "          0.,   0.,   0.,   0.,   0.,   0.,   0.,   0.,   0.,   0.,   0.,\n",
              "          0.,   0.,   0.,   0.,   0.,   0.],\n",
              "       [  0.,   0.,   0.,   0.,   0.,   0.,   0.,   0.,   0.,   0.,   0.,\n",
              "          0.,   0.,   0.,   0.,   0.,   0.,   0.,  11., 106., 239.,  32.,\n",
              "          0.,   0.,   0.,   0.,   0.,   0.],\n",
              "       [  0.,   0.,   0.,   0.,   0.,   0.,   0.,   0.,   0.,   0.,   0.,\n",
              "          0.,   0.,   0.,   0.,   6.,  77., 161., 214., 253., 247.,  28.,\n",
              "          0.,   0.,   0.,   0.,   0.,   0.],\n",
              "       [  0.,   0.,   0.,   0.,   0.,   0.,   0.,   0.,   0.,   0.,   0.,\n",
              "          0.,   0.,   3.,  58., 200., 253., 253., 239., 247., 118.,   0.,\n",
              "          0.,   0.,   0.,   0.,   0.,   0.],\n",
              "       [  0.,   0.,   0.,   0.,   0.,   0.,   0.,   0.,   0.,   0.,   0.,\n",
              "          0.,  60., 200., 253., 253., 152., 126., 240.,  92.,   0.,   0.,\n",
              "          0.,   0.,   0.,   0.,   0.,   0.],\n",
              "       [  0.,   0.,   0.,   0.,   0.,   0.,   0.,   0.,   0.,   0.,  55.,\n",
              "        203., 252., 254., 183.,  30.,  92., 243., 114.,   0.,   0.,   0.,\n",
              "          0.,   0.,   0.,   0.,   0.,   0.],\n",
              "       [  0.,   0.,   0.,   0.,   0.,   0.,   0.,   0.,   0.,  27., 239.,\n",
              "        254., 189.,  50.,   0.,  68., 244.,  90.,   0.,   0.,   0.,   0.,\n",
              "          0.,   0.,   0.,   0.,   0.,   0.]], dtype=float32)"
            ]
          },
          "metadata": {},
          "execution_count": 33
        }
      ]
    },
    {
      "cell_type": "markdown",
      "metadata": {
        "id": "GjCRQKQY_rWm"
      },
      "source": [
        "Numpy iteroperability: \n",
        "- From ```Tensor``` to ```numpy.array```\n",
        "- From ```numpy.array``` to ```Tensor```"
      ]
    },
    {
      "cell_type": "code",
      "metadata": {
        "colab": {
          "base_uri": "https://localhost:8080/"
        },
        "id": "LX3T67ja_p1M",
        "outputId": "b87b91f4-344a-4803-cf82-760616c0e93a"
      },
      "source": [
        "points = torch.zeros(3,4)\n",
        "points_np = points.numpy()\n",
        "\n",
        "print('Type points: {}'.format(type(points)))\n",
        "print('Type points_np: {}'.format(type(points_np)))\n",
        "\n",
        "new_points = torch.from_numpy(points_np)\n",
        "print('Type new_points: {}'.format(type(new_points)))\n"
      ],
      "execution_count": 34,
      "outputs": [
        {
          "output_type": "stream",
          "name": "stdout",
          "text": [
            "Type points: <class 'torch.Tensor'>\n",
            "Type points_np: <class 'numpy.ndarray'>\n",
            "Type new_points: <class 'torch.Tensor'>\n"
          ]
        }
      ]
    },
    {
      "cell_type": "markdown",
      "metadata": {
        "id": "xeyEWf_JETYE"
      },
      "source": [
        "# Our first Neural Network in this class :-) \n",
        "\n",
        "- prepare the data for pytorch ```Dataset``` and ```DataLoader```\n",
        "- create the network, loss, optimizer\n",
        "- training \n"
      ]
    },
    {
      "cell_type": "markdown",
      "metadata": {
        "id": "-E76Q_tOCjHS"
      },
      "source": [
        "PyTorch has developed standard conventions of interacting with data that make it fairly consistent to work with, whether you are working with images, text, or audio\n",
        "\n",
        "\n",
        "```Dataset``` and ```DataLoader``` are two classes used to create the data in the format needed for PyTorch.\n",
        "\n",
        "- ```Dataset``` is a python class that allows us to get at the data we are supplying to the neural network \n",
        "- ```DataLoader``` is what feeds data from the dataset into the network "
      ]
    },
    {
      "cell_type": "markdown",
      "metadata": {
        "id": "ppZO80xIHmYJ"
      },
      "source": [
        "Every dataset, no matter whether it includes images, audio, text, etc, can interact with PyTorch if it satisfies this abstract Python class: \n",
        "\n",
        "```python\n",
        "class Dataset(object):\n",
        "  def __getitem__(self,index):\n",
        "    raise NotImplementedError\n",
        "  def __len__(self):\n",
        "    raise NotImplementedError\n",
        "```\n",
        "\n",
        "We have to implement a method that returns the size of our dataset (```len```), and implement a method that can retrieve an item from our dataset in a (*label,tensor*) pair.\n",
        "\n",
        "The dataset is called, then by the data loader and it pushes data into the the network.\n",
        "\n",
        "It is possible to use the class ```TensorDataset```\n",
        "\n",
        "There are also some package that help us on do it, for instance: \n",
        "```torchvision``` with ImageFolder, ```torchtext```. \n",
        "\n",
        "[torchvision](https://pytorch.org/vision/stable/index.html)\n",
        "\n",
        "[torchtext](https://pytorch.org/text/stable/index.html)\n",
        "\n",
        "\n"
      ]
    },
    {
      "cell_type": "markdown",
      "metadata": {
        "id": "FFJNPK0eYKqq"
      },
      "source": [
        "## Classification"
      ]
    },
    {
      "cell_type": "code",
      "metadata": {
        "id": "frK0wby5lhM9"
      },
      "source": [
        "from torch.utils.data import TensorDataset\n",
        "from torch.utils.data import DataLoader\n",
        "\n",
        "batch_size = 32 \n",
        "train_ds = TensorDataset(x_train_tensor, y_train_tensor)\n",
        "train_dl = DataLoader(\n",
        "    train_ds, batch_size=batch_size, shuffle=True)\n",
        "\n",
        "val_ds = TensorDataset(x_val_tensor, y_val_tensor)\n",
        "val_dl = DataLoader(\n",
        "    val_ds, batch_size=batch_size, shuffle=True)\n",
        "\n",
        "\n",
        "test_ds = TensorDataset(x_test_tensor, y_test_tensor)\n",
        "test_dl = DataLoader(test_ds, batch_size=batch_size)\n"
      ],
      "execution_count": 35,
      "outputs": []
    },
    {
      "cell_type": "code",
      "metadata": {
        "id": "3Sk_YxGeMQhM"
      },
      "source": [
        "from torch.utils.data import Dataset, DataLoader\n",
        "class imageDataset(Dataset):\n",
        "    \n",
        "    def __init__(self, X_data, y_data):\n",
        "        self.X_data = X_data\n",
        "        self.y_data = y_data\n",
        "        \n",
        "    def __getitem__(self, index):\n",
        "        return self.X_data[index], self.y_data[index]\n",
        "        \n",
        "    def __len__ (self):\n",
        "        return len(self.X_data)\n",
        " "
      ],
      "execution_count": 36,
      "outputs": []
    },
    {
      "cell_type": "code",
      "metadata": {
        "id": "l8Y6k6AHMgNJ"
      },
      "source": [
        "train_ds = imageDataset(x_train_tensor, y_train_tensor)\n",
        "train_dl = DataLoader(\n",
        "    train_ds, batch_size=batch_size, shuffle=True)\n"
      ],
      "execution_count": 37,
      "outputs": []
    },
    {
      "cell_type": "markdown",
      "metadata": {
        "id": "fy_MEOL7C20C"
      },
      "source": [
        "The definition of a network uses the ```nn.Module``` of pytorch. \n",
        "\n",
        "```Linear``` defines the structure of each layer\n",
        "```forward``` defines how the data should flow across the different layers of the network\n",
        "```relu``` is the activation function\n",
        "\n",
        "For each layer we define the size of the input and the output.\n",
        "For instance, the first layer takes in input the same shape of the MINST images. Then, it passes the dato to a 200 nodes.\n",
        "\n",
        "The latest layer returns an output equal to the number of classes. \n",
        "\n",
        "To understand which is the predicted class we need to take the ```argmax()``` of the output, such as the index of max score assigned to each instance by the network. "
      ]
    },
    {
      "cell_type": "code",
      "metadata": {
        "id": "xz26ffVjhxYE"
      },
      "source": [
        "class SimpleNet(nn.Module):\n",
        "\n",
        "    def __init__(self):\n",
        "        super(SimpleNet, self).__init__()\n",
        "        self.fc1 = nn.Linear(784, 200)\n",
        "        self.fc2 = nn.Linear(200, 50)\n",
        "        self.fc3 = nn.Linear(50,10)\n",
        "    \n",
        "    def forward(self, x):\n",
        "        x = F.relu(self.fc1(x))\n",
        "        x = F.relu(self.fc2(x))\n",
        "        x = self.fc3(x)\n",
        "        return x"
      ],
      "execution_count": 38,
      "outputs": []
    },
    {
      "cell_type": "code",
      "metadata": {
        "id": "FrZAZFYCjyVh"
      },
      "source": [
        "'''\n",
        "create an instance of the network\n",
        "'''\n",
        "simplenet = SimpleNet()"
      ],
      "execution_count": 39,
      "outputs": []
    },
    {
      "cell_type": "code",
      "source": [
        "simplenet.state_dict()"
      ],
      "metadata": {
        "id": "owLn1PHJ_L5K",
        "outputId": "a15a7a6d-64b2-4f6c-afde-101d3eabcdc7",
        "colab": {
          "base_uri": "https://localhost:8080/"
        }
      },
      "execution_count": 40,
      "outputs": [
        {
          "output_type": "execute_result",
          "data": {
            "text/plain": [
              "OrderedDict([('fc1.weight',\n",
              "              tensor([[-0.0007, -0.0336,  0.0054,  ...,  0.0132, -0.0254, -0.0111],\n",
              "                      [ 0.0040,  0.0160,  0.0101,  ...,  0.0153, -0.0198, -0.0067],\n",
              "                      [-0.0031,  0.0042, -0.0328,  ...,  0.0026, -0.0150,  0.0175],\n",
              "                      ...,\n",
              "                      [-0.0041, -0.0314, -0.0035,  ...,  0.0007,  0.0044,  0.0355],\n",
              "                      [-0.0156,  0.0083,  0.0351,  ...,  0.0017, -0.0188, -0.0092],\n",
              "                      [-0.0301, -0.0143, -0.0074,  ...,  0.0336,  0.0112, -0.0284]])),\n",
              "             ('fc1.bias',\n",
              "              tensor([-0.0330, -0.0131, -0.0108,  0.0107,  0.0048,  0.0144,  0.0138, -0.0023,\n",
              "                      -0.0031, -0.0356,  0.0107,  0.0138,  0.0262, -0.0221, -0.0052, -0.0282,\n",
              "                      -0.0069, -0.0347, -0.0222, -0.0072, -0.0305,  0.0032,  0.0166,  0.0010,\n",
              "                      -0.0128, -0.0104,  0.0035,  0.0007, -0.0335, -0.0196,  0.0030, -0.0156,\n",
              "                      -0.0328,  0.0099,  0.0304, -0.0246,  0.0291,  0.0232,  0.0012,  0.0050,\n",
              "                       0.0099,  0.0282, -0.0085, -0.0131,  0.0296,  0.0084, -0.0135, -0.0329,\n",
              "                       0.0026,  0.0331, -0.0326,  0.0107, -0.0191, -0.0323, -0.0345,  0.0298,\n",
              "                      -0.0196,  0.0085, -0.0097, -0.0038, -0.0289,  0.0237, -0.0207,  0.0262,\n",
              "                      -0.0304,  0.0002,  0.0323,  0.0263,  0.0239,  0.0350,  0.0318, -0.0012,\n",
              "                      -0.0007, -0.0244, -0.0137, -0.0215,  0.0108,  0.0201, -0.0171, -0.0328,\n",
              "                       0.0348,  0.0003, -0.0037,  0.0272,  0.0321,  0.0301, -0.0323,  0.0189,\n",
              "                      -0.0025, -0.0278, -0.0215,  0.0002,  0.0158,  0.0244,  0.0035, -0.0316,\n",
              "                      -0.0024, -0.0312, -0.0176,  0.0221, -0.0159, -0.0340,  0.0352,  0.0012,\n",
              "                      -0.0273,  0.0285,  0.0223, -0.0073,  0.0068,  0.0136, -0.0186, -0.0167,\n",
              "                      -0.0311,  0.0157,  0.0228, -0.0254, -0.0203,  0.0090, -0.0213,  0.0035,\n",
              "                      -0.0089, -0.0289,  0.0291,  0.0257, -0.0303,  0.0192,  0.0161,  0.0121,\n",
              "                      -0.0077,  0.0109,  0.0126,  0.0080,  0.0001,  0.0210, -0.0144, -0.0205,\n",
              "                      -0.0263,  0.0056, -0.0310, -0.0299,  0.0159, -0.0182, -0.0149,  0.0171,\n",
              "                       0.0073,  0.0161,  0.0252,  0.0213,  0.0110, -0.0045, -0.0199, -0.0117,\n",
              "                       0.0039, -0.0059, -0.0281,  0.0138, -0.0329, -0.0280,  0.0037,  0.0100,\n",
              "                       0.0015,  0.0027, -0.0223, -0.0258,  0.0080, -0.0103, -0.0117,  0.0331,\n",
              "                      -0.0041, -0.0083,  0.0055, -0.0133, -0.0211, -0.0185,  0.0232,  0.0201,\n",
              "                      -0.0357,  0.0172, -0.0252,  0.0331,  0.0111, -0.0138, -0.0300,  0.0207,\n",
              "                       0.0320,  0.0141, -0.0181, -0.0179, -0.0302, -0.0171, -0.0015, -0.0339,\n",
              "                       0.0203,  0.0346,  0.0080,  0.0197,  0.0309, -0.0329, -0.0266,  0.0109])),\n",
              "             ('fc2.weight',\n",
              "              tensor([[-0.0153,  0.0247, -0.0106,  ...,  0.0704,  0.0091,  0.0270],\n",
              "                      [ 0.0669,  0.0371,  0.0496,  ...,  0.0549, -0.0516,  0.0606],\n",
              "                      [ 0.0024,  0.0654, -0.0243,  ..., -0.0327, -0.0378, -0.0635],\n",
              "                      ...,\n",
              "                      [-0.0245,  0.0635,  0.0417,  ...,  0.0505, -0.0460,  0.0454],\n",
              "                      [-0.0542,  0.0337,  0.0294,  ...,  0.0082, -0.0273,  0.0628],\n",
              "                      [-0.0340,  0.0144,  0.0650,  ...,  0.0281,  0.0079, -0.0636]])),\n",
              "             ('fc2.bias',\n",
              "              tensor([-0.0579, -0.0255,  0.0281, -0.0025,  0.0662,  0.0370,  0.0094,  0.0549,\n",
              "                      -0.0285,  0.0211,  0.0072,  0.0264, -0.0477, -0.0076,  0.0228, -0.0390,\n",
              "                       0.0689,  0.0392,  0.0244,  0.0324, -0.0125,  0.0312,  0.0480, -0.0412,\n",
              "                      -0.0282,  0.0633, -0.0353, -0.0429,  0.0464, -0.0384,  0.0615,  0.0665,\n",
              "                       0.0622,  0.0611,  0.0022,  0.0624, -0.0441, -0.0354,  0.0556,  0.0616,\n",
              "                       0.0304,  0.0209,  0.0396,  0.0274,  0.0408, -0.0421,  0.0046, -0.0301,\n",
              "                       0.0370,  0.0688])),\n",
              "             ('fc3.weight',\n",
              "              tensor([[-6.0827e-02, -3.0937e-02,  7.6009e-02,  1.0080e-01,  2.7291e-02,\n",
              "                       -1.0653e-02,  4.9192e-02,  2.8530e-02,  2.7587e-02, -6.4851e-02,\n",
              "                        1.0027e-01, -1.9856e-02,  1.0459e-01,  6.5995e-02,  1.0007e-02,\n",
              "                       -1.3970e-01,  4.8510e-02, -1.1145e-01,  5.4210e-02, -5.7364e-02,\n",
              "                        4.8271e-02,  4.2942e-02,  4.9008e-03, -6.4974e-02,  5.5615e-02,\n",
              "                        1.1324e-01,  1.1226e-01, -6.5625e-03, -7.1054e-02, -1.2965e-02,\n",
              "                        1.1204e-02, -3.7021e-03, -1.3290e-02,  3.0979e-02,  4.8603e-02,\n",
              "                        1.3405e-01, -1.0685e-01,  9.7110e-02,  4.4703e-02, -7.9538e-02,\n",
              "                       -8.4695e-02, -1.3732e-01, -1.0930e-01,  4.6662e-02, -9.2909e-03,\n",
              "                       -4.6105e-02, -1.5346e-02,  2.9416e-02,  3.4971e-02, -9.2709e-03],\n",
              "                      [-9.6998e-02, -1.2130e-01,  1.3359e-02, -1.1708e-01, -8.7804e-02,\n",
              "                        1.2308e-01,  2.4324e-02,  4.6503e-02, -2.7045e-02,  4.9654e-02,\n",
              "                        1.4052e-01,  6.2816e-02, -1.4722e-02,  6.7772e-02, -3.4168e-02,\n",
              "                        4.4434e-02, -4.6208e-02,  7.6157e-02, -9.9624e-02, -2.2832e-02,\n",
              "                        4.2172e-02,  1.2000e-01, -2.2949e-02,  4.2877e-02,  4.2489e-02,\n",
              "                        3.7536e-02,  1.3300e-01,  7.2045e-02, -7.6126e-02,  5.2593e-02,\n",
              "                        6.8110e-02, -6.2709e-02, -3.3082e-02,  1.3970e-01,  4.8289e-02,\n",
              "                       -7.9387e-02, -9.6456e-02,  1.5568e-02,  9.2514e-02, -3.2558e-02,\n",
              "                       -8.3905e-02,  1.1946e-01,  3.1503e-02,  9.9005e-02, -1.1488e-01,\n",
              "                        7.0811e-02,  5.1068e-02,  8.0557e-02, -8.6472e-02, -1.3257e-01],\n",
              "                      [-1.2081e-01, -7.3369e-02, -1.2786e-01,  7.2936e-02,  1.0581e-01,\n",
              "                        1.2076e-01, -2.3421e-02, -1.3686e-01,  1.2625e-01,  1.5809e-02,\n",
              "                        9.5926e-02, -9.9083e-02,  5.8474e-02, -4.8615e-02, -6.5651e-02,\n",
              "                       -5.1100e-03, -1.2343e-01,  1.3094e-01, -1.6967e-03, -1.2900e-01,\n",
              "                       -1.1671e-01,  2.1684e-02, -1.1639e-01, -3.7384e-02,  5.4668e-02,\n",
              "                        3.0860e-02,  1.2974e-01,  1.3868e-01, -7.9005e-02,  1.2148e-03,\n",
              "                        1.0026e-01, -1.9930e-02, -9.3686e-02,  9.7363e-02, -1.2555e-01,\n",
              "                       -6.7517e-02, -1.0589e-01,  1.0055e-01, -1.3897e-01, -6.5922e-02,\n",
              "                        1.0443e-01, -6.9099e-02, -6.9516e-02,  1.3549e-01,  1.1445e-01,\n",
              "                       -6.8275e-02, -1.3364e-01, -2.7658e-02,  1.2163e-01, -6.4284e-02],\n",
              "                      [ 5.5672e-02, -1.4370e-02, -7.6300e-02, -1.0559e-01, -7.8921e-02,\n",
              "                       -1.2323e-01,  1.2810e-01,  7.6340e-02,  9.2433e-02,  9.6015e-02,\n",
              "                        7.3198e-02,  6.7254e-02,  1.3174e-01,  6.7810e-02,  1.1261e-01,\n",
              "                       -1.7351e-03,  6.6442e-04, -1.8280e-02, -7.2104e-02, -3.6134e-02,\n",
              "                        8.7705e-02, -5.4994e-02, -2.9149e-02, -5.2334e-02, -4.6242e-02,\n",
              "                       -1.4682e-02, -1.2264e-01, -5.1779e-02,  9.8443e-02,  9.3228e-02,\n",
              "                       -4.0558e-02,  2.9319e-02, -3.8181e-02, -1.1381e-02,  1.0701e-01,\n",
              "                        5.0492e-02,  8.7616e-02, -2.2545e-02,  5.4667e-03, -9.6660e-03,\n",
              "                       -1.4405e-02,  6.9318e-02, -1.1801e-01,  4.9884e-02,  1.3432e-01,\n",
              "                       -5.6944e-02,  9.0857e-02, -5.0461e-02,  6.4858e-03, -7.8986e-02],\n",
              "                      [-1.0920e-01, -1.0017e-01, -6.2001e-02, -4.6066e-02,  7.1040e-02,\n",
              "                        7.1248e-02, -7.6132e-02, -1.3942e-01, -1.3365e-01, -1.1647e-01,\n",
              "                       -1.1867e-01,  7.9187e-02,  8.3730e-02, -1.3953e-01, -2.0531e-02,\n",
              "                       -1.3641e-01,  7.8232e-02, -3.4184e-03, -1.3292e-03,  6.2402e-02,\n",
              "                       -2.0848e-02,  1.1853e-01, -7.3199e-02, -4.9425e-02,  2.2389e-02,\n",
              "                       -1.1028e-01,  7.8228e-02,  1.3936e-01,  8.7220e-02, -3.1533e-02,\n",
              "                        9.6189e-02, -1.3271e-02, -9.0514e-02,  2.9758e-02, -7.1770e-02,\n",
              "                       -1.2253e-01,  1.3072e-01,  1.5629e-02, -8.7460e-02, -8.1223e-02,\n",
              "                       -1.2175e-01,  2.7166e-02,  1.0670e-01, -1.8558e-03, -1.3564e-01,\n",
              "                       -3.5787e-02,  6.5092e-02,  7.1338e-02, -5.6061e-02,  1.1803e-01],\n",
              "                      [-3.0668e-02,  8.1595e-02,  4.2824e-02,  2.0015e-02,  1.0325e-01,\n",
              "                        5.1347e-02, -7.5210e-02,  4.1448e-02, -3.7820e-02,  1.3715e-01,\n",
              "                        1.0736e-01,  6.2483e-02, -7.0061e-02,  6.3206e-02,  3.2848e-02,\n",
              "                       -1.2312e-01,  1.2604e-01, -5.0391e-02,  9.6285e-02, -1.3287e-01,\n",
              "                       -1.0976e-01,  3.2555e-02, -3.5541e-02, -8.3352e-03, -8.9406e-03,\n",
              "                       -1.2463e-01,  1.3575e-01,  5.7585e-02, -3.4681e-02, -8.9219e-02,\n",
              "                       -1.1059e-01,  1.2111e-01,  3.5247e-03, -1.3949e-01,  9.4349e-02,\n",
              "                       -9.2933e-02,  3.2995e-02, -2.6828e-02, -9.6336e-02, -1.2308e-01,\n",
              "                        1.2652e-01, -1.2603e-01, -7.9643e-02, -1.0023e-01, -6.1627e-02,\n",
              "                       -9.4882e-02,  1.2953e-01,  9.0270e-02, -1.1727e-01, -1.0855e-01],\n",
              "                      [ 3.0415e-02, -6.7086e-02,  3.2387e-03,  1.8811e-02,  1.0068e-01,\n",
              "                       -9.3734e-02,  1.2371e-01, -1.9011e-02,  2.6890e-02,  1.2052e-01,\n",
              "                        7.3725e-02,  1.3451e-01,  5.4765e-02, -7.4563e-03,  4.0736e-02,\n",
              "                       -1.3889e-01, -1.7483e-02, -1.1873e-01, -4.7479e-02,  3.2492e-02,\n",
              "                        8.8918e-02,  4.8232e-02,  5.5765e-02, -1.2763e-02,  8.5560e-02,\n",
              "                        9.5508e-02, -7.2558e-02, -8.0971e-02, -5.4631e-03, -9.9536e-02,\n",
              "                       -7.3613e-03, -9.6588e-02, -1.4098e-02,  1.0564e-01,  6.9427e-02,\n",
              "                       -1.0732e-01,  6.3915e-02,  3.1961e-02, -6.3857e-02, -1.8017e-02,\n",
              "                       -1.3743e-01,  3.4564e-02, -1.2841e-01, -6.4482e-02,  1.5788e-02,\n",
              "                       -9.0935e-02,  8.4781e-02, -3.2079e-02,  9.8062e-03, -3.8658e-02],\n",
              "                      [-7.4772e-02,  8.7012e-02, -4.3390e-02,  4.8152e-02, -2.6884e-02,\n",
              "                       -8.5506e-02, -3.4169e-02,  9.4814e-02, -1.3787e-01, -3.4044e-03,\n",
              "                        1.3903e-01, -1.5167e-02,  1.0469e-01, -1.1412e-01,  8.8809e-02,\n",
              "                       -1.4035e-02, -1.0891e-01, -1.3311e-01, -9.2878e-02, -5.8430e-02,\n",
              "                        4.6017e-02,  1.0729e-01,  1.0550e-01, -4.0064e-02, -1.8861e-02,\n",
              "                        5.2339e-02,  8.6394e-02,  4.0210e-02, -1.2698e-01, -3.8180e-02,\n",
              "                       -1.1656e-01,  4.0886e-02,  1.1416e-01,  9.6905e-03,  5.9082e-02,\n",
              "                       -4.8877e-04,  1.1882e-01,  1.1065e-01, -8.8767e-02, -1.3584e-02,\n",
              "                       -4.9465e-02,  3.4611e-02, -2.7498e-03,  2.0142e-02,  6.8665e-02,\n",
              "                        4.5399e-02,  1.0018e-01,  1.0280e-02, -7.6065e-02,  1.9731e-02],\n",
              "                      [ 9.1358e-02,  5.2749e-02, -1.6742e-02,  4.8424e-02,  1.1266e-02,\n",
              "                        9.2072e-02, -1.3960e-01,  1.6452e-02, -6.0253e-05, -9.4289e-02,\n",
              "                        5.8921e-02, -1.8692e-02,  4.9223e-02,  6.7735e-02,  1.1101e-01,\n",
              "                       -7.7200e-02, -1.3239e-01, -1.0538e-02, -1.1018e-02,  2.9933e-02,\n",
              "                        9.7728e-02,  5.5456e-02, -8.0054e-02, -1.5418e-03, -3.1976e-02,\n",
              "                       -1.2625e-01, -9.1332e-02, -2.2256e-02,  4.1536e-02,  5.4322e-02,\n",
              "                        1.3441e-01, -7.1159e-02, -1.1848e-01, -4.2231e-02,  1.4194e-02,\n",
              "                        1.2690e-01,  1.0601e-01,  5.3618e-02, -2.8314e-02, -1.7689e-02,\n",
              "                       -7.9626e-02, -1.2000e-01, -4.6333e-02, -5.8045e-03, -9.7072e-02,\n",
              "                       -3.4509e-02,  8.8039e-02, -1.2488e-01,  1.9822e-02, -1.1943e-01],\n",
              "                      [ 1.3637e-01, -7.7768e-02, -1.0479e-01,  1.0941e-01,  8.6727e-02,\n",
              "                       -1.3473e-01, -9.9316e-02,  2.6367e-02, -3.8327e-02,  1.0629e-01,\n",
              "                       -2.5865e-02,  8.5827e-02,  6.1329e-02, -9.4462e-02, -2.0455e-03,\n",
              "                        1.3885e-01,  1.1390e-01,  4.3761e-02,  7.5350e-02,  4.9810e-02,\n",
              "                        1.4409e-02, -4.3193e-02,  5.1841e-02, -4.8142e-02, -3.4181e-02,\n",
              "                        9.9828e-02,  5.4864e-02,  8.8146e-02, -5.3633e-03, -1.1641e-01,\n",
              "                        8.6955e-02, -1.4051e-01,  4.7755e-02, -1.2435e-01, -6.0784e-02,\n",
              "                        9.6088e-02,  4.9163e-02, -2.2284e-02, -9.9041e-02,  6.5625e-02,\n",
              "                        8.7401e-02, -6.6424e-02,  1.0270e-01,  7.3905e-03, -6.9019e-02,\n",
              "                        1.3549e-01,  2.7100e-03,  1.5237e-02,  1.1357e-01,  1.3520e-01]])),\n",
              "             ('fc3.bias',\n",
              "              tensor([ 0.0456, -0.0372, -0.0172, -0.0026, -0.0195, -0.0747,  0.1249, -0.0857,\n",
              "                      -0.0246,  0.0070]))])"
            ]
          },
          "metadata": {},
          "execution_count": 40
        }
      ]
    },
    {
      "cell_type": "code",
      "metadata": {
        "id": "IMCjaOMFkMGU"
      },
      "source": [
        "'''\n",
        "Definition of an optimizer, in this case we select the Adam optimizer\n",
        "Another possible optimizer is the SGD that is possibile to select from \n",
        "the same class optim\n",
        "'''\n",
        "optimizer = optim.Adam(simplenet.parameters(), lr=0.001)\n",
        "optimizer_regr = optim.SGD(simplenet.parameters(),lr=0.0001)"
      ],
      "execution_count": 41,
      "outputs": []
    },
    {
      "cell_type": "code",
      "metadata": {
        "id": "2cNo6C_fkSWI"
      },
      "source": [
        "'''\n",
        "And then, we need a definition of the loss. \n",
        "Also in this case, we can select one of those made available by pytorch\n",
        "For regression, for instance we could select the MSELoss\n",
        "'''\n",
        "loss = nn.CrossEntropyLoss()\n",
        "loss_regression = nn.MSELoss()"
      ],
      "execution_count": 42,
      "outputs": []
    },
    {
      "cell_type": "code",
      "metadata": {
        "id": "dOFlaTSwlPLd"
      },
      "source": [
        "'''\n",
        "Let's put everything together. \n",
        "The network, the optimizer and the loss inside a training loop, using the DataLoader\n",
        "objects that we have already created.\n",
        "'''\n",
        "\n",
        "'''\n",
        "Note: model.train() --> the model is set on training mode, where the weights and biases \n",
        "are adjusted using the training instance passed in batches.\n",
        "'''\n",
        "\n",
        "\n",
        "'''\n",
        "Note: model.eval() --> when we evaluate the model on the validation set.\n",
        "'''\n",
        "\n",
        "'''\n",
        "This function with some refinements can be used for any model, the training process\n",
        "is really similar, it might change few details\n",
        "'''\n",
        "\n",
        "def train(model, optimizer, loss_fn, train_loader, val_loader, epochs=20, device=\"cpu\"):\n",
        "    model.to(device)\n",
        "    for epoch in range(1, epochs+1):\n",
        "        training_loss = 0.0\n",
        "        valid_loss = 0.0\n",
        "        model.train() #train status for the mode\n",
        "        for batch in train_loader:\n",
        "            optimizer.zero_grad() # clear gradients for next train\n",
        "            inputs, targets = batch\n",
        "            inputs = inputs.to(device)\n",
        "            targets = targets.to(device)\n",
        "            output = model(inputs)\n",
        "            loss = loss_fn(output, targets)\n",
        "            loss.backward() # backpropagation, compute gradients\n",
        "            optimizer.step() # apply gradients\n",
        "            training_loss += loss.data.item() * inputs.size(0)\n",
        "            # print(training_loss,loss.data.item(),inputs.size(0))\n",
        "        training_loss /= len(train_loader.dataset)\n",
        "        \n",
        "        with torch.no_grad(): # we are not updating the model\n",
        "          model.eval() #the status of the model is in eval\n",
        "          num_correct = 0 \n",
        "          num_examples = 0\n",
        "          for batch in val_loader:\n",
        "              inputs, targets = batch\n",
        "              inputs = inputs.to(device)\n",
        "              output = model(inputs)\n",
        "              targets = targets.to(device)\n",
        "              loss = loss_fn(output,targets) \n",
        "              valid_loss += loss.data.item() * inputs.size(0)\n",
        "              correct = torch.eq(torch.max(F.softmax(output, dim=1), dim=1)[1], targets)\n",
        "              num_correct += torch.sum(correct).item()\n",
        "              num_examples += correct.shape[0]\n",
        "          valid_loss /= len(val_loader.dataset)\n",
        "\n",
        "        print('Epoch: {}, Training Loss: {:.4f}, Validation Loss: {:.4f}, accuracy = {:.4f}'.format(epoch, training_loss,\n",
        "        valid_loss, num_correct / num_examples))"
      ],
      "execution_count": 43,
      "outputs": []
    },
    {
      "cell_type": "markdown",
      "metadata": {
        "id": "6PpDyKHaNSXf"
      },
      "source": [
        "1. In each epoch:\n",
        "  \n",
        "  a. we take a batch $b$ from our training set\n",
        "  \n",
        "  b. we pass $b$ to our model and we compute the loss from the $output$\n",
        "  \n",
        "  c. to compute the gradients, we call ```backward()```\n",
        "  \n",
        "  d. the ```optimizer.step()``` method uses those gradients afterward to perform the adjustments of the weights\n",
        "\n",
        "```zero_grad()``` it is used to make sure that gradients are not influeced by previous batches. \n"
      ]
    },
    {
      "cell_type": "code",
      "metadata": {
        "colab": {
          "base_uri": "https://localhost:8080/"
        },
        "id": "1O3xvPgPOdxX",
        "outputId": "43705a24-6868-45b8-9832-4f54053e83ee"
      },
      "source": [
        "'''\n",
        "How to move the model to cuda (if available)\n",
        "'''\n",
        "\n",
        "if torch.cuda.is_available():\n",
        "  device = torch.device('cuda')\n",
        "else:\n",
        "  device = torch.device('cpu')\n",
        "\n",
        "simplenet.to(device)\n"
      ],
      "execution_count": 44,
      "outputs": [
        {
          "output_type": "execute_result",
          "data": {
            "text/plain": [
              "SimpleNet(\n",
              "  (fc1): Linear(in_features=784, out_features=200, bias=True)\n",
              "  (fc2): Linear(in_features=200, out_features=50, bias=True)\n",
              "  (fc3): Linear(in_features=50, out_features=10, bias=True)\n",
              ")"
            ]
          },
          "metadata": {},
          "execution_count": 44
        }
      ]
    },
    {
      "cell_type": "code",
      "metadata": {
        "colab": {
          "base_uri": "https://localhost:8080/"
        },
        "id": "V4QyMukOlTSK",
        "outputId": "6a3a05f0-2908-4b1e-ec3b-8b758e71edd9"
      },
      "source": [
        "train(simplenet, optimizer,torch.nn.CrossEntropyLoss(), train_dl,val_dl, epochs=5)"
      ],
      "execution_count": 45,
      "outputs": [
        {
          "output_type": "stream",
          "name": "stdout",
          "text": [
            "Epoch: 1, Training Loss: 0.3192, Validation Loss: 0.1447, accuracy = 0.9565\n",
            "Epoch: 2, Training Loss: 0.1588, Validation Loss: 0.1454, accuracy = 0.9595\n",
            "Epoch: 3, Training Loss: 0.1247, Validation Loss: 0.1441, accuracy = 0.9594\n",
            "Epoch: 4, Training Loss: 0.1111, Validation Loss: 0.1390, accuracy = 0.9626\n",
            "Epoch: 5, Training Loss: 0.1010, Validation Loss: 0.1347, accuracy = 0.9666\n"
          ]
        }
      ]
    },
    {
      "cell_type": "code",
      "metadata": {
        "id": "UVKCBda4lodb",
        "colab": {
          "base_uri": "https://localhost:8080/",
          "height": 1000
        },
        "outputId": "640136ed-47c4-4e94-89e3-0402a8d55fab"
      },
      "source": [
        "with torch.no_grad():\n",
        "  simplenet.eval() # we move to eval state, since we don't need to update the weights and biases\n",
        "  for i in range(10):\n",
        "    plt.imshow(x_test_tensor[i].reshape((28,28)), cmap=\"gray\")\n",
        "    plt.title(y_test_tensor[i])\n",
        "    plt.show()\n",
        "    print(\"All the scores: {}\".format(simplenet(x_test_tensor[i].float())))\n",
        "    print(\"The max score: {}\".format(simplenet(x_test_tensor[i].float()).max()))\n",
        "    print(\"The index of the max score: {}\".format(simplenet(x_test_tensor[i].float()).argmax()))"
      ],
      "execution_count": 46,
      "outputs": [
        {
          "output_type": "display_data",
          "data": {
            "text/plain": [
              "<Figure size 432x288 with 1 Axes>"
            ],
            "image/png": "[encoded data removed]"
          },
          "metadata": {
            "needs_background": "light"
          }
        },
        {
          "output_type": "stream",
          "name": "stdout",
          "text": [
            "All the scores: tensor([-5.2828,  5.4428,  7.5431,  8.1309,  2.5733,  1.8244, -6.9253, 22.1467,\n",
            "         5.6651,  5.4651])\n",
            "The max score: 22.146652221679688\n",
            "The index of the max score: 7\n"
          ]
        },
        {
          "output_type": "display_data",
          "data": {
            "text/plain": [
              "<Figure size 432x288 with 1 Axes>"
            ],
            "image/png": "[encoded data removed]"
          },
          "metadata": {
            "needs_background": "light"
          }
        },
        {
          "output_type": "stream",
          "name": "stdout",
          "text": [
            "All the scores: tensor([15.5226,  7.4591, 32.2966, 14.7733,  3.5872,  1.0859,  7.0984,  8.7156,\n",
            "         8.3843, -9.1556])\n",
            "The max score: 32.29664611816406\n",
            "The index of the max score: 2\n"
          ]
        },
        {
          "output_type": "display_data",
          "data": {
            "text/plain": [
              "<Figure size 432x288 with 1 Axes>"
            ],
            "image/png": "[encoded data removed]"
          },
          "metadata": {
            "needs_background": "light"
          }
        },
        {
          "output_type": "stream",
          "name": "stdout",
          "text": [
            "All the scores: tensor([ 0.7638, 11.6584, -1.9792, -2.1845, -6.0591, -3.2691,  1.0536, -4.0741,\n",
            "         2.6288, -8.1064])\n",
            "The max score: 11.658365249633789\n",
            "The index of the max score: 1\n"
          ]
        },
        {
          "output_type": "display_data",
          "data": {
            "text/plain": [
              "<Figure size 432x288 with 1 Axes>"
            ],
            "image/png": "[encoded data removed]"
          },
          "metadata": {
            "needs_background": "light"
          }
        },
        {
          "output_type": "stream",
          "name": "stdout",
          "text": [
            "All the scores: tensor([ 18.4187, -15.6944,   5.4388,   1.4235,  -1.4699,   1.1606,  10.5556,\n",
            "          4.8481,   6.3578,   4.8422])\n",
            "The max score: 18.41868782043457\n",
            "The index of the max score: 0\n"
          ]
        },
        {
          "output_type": "display_data",
          "data": {
            "text/plain": [
              "<Figure size 432x288 with 1 Axes>"
            ],
            "image/png": "[encoded data removed]"
          },
          "metadata": {
            "needs_background": "light"
          }
        },
        {
          "output_type": "stream",
          "name": "stdout",
          "text": [
            "All the scores: tensor([-3.2056,  3.1733,  4.9402,  2.0992, 27.1128,  1.8256,  4.2437, 10.9271,\n",
            "        11.7658, 15.5263])\n",
            "The max score: 27.11276626586914\n",
            "The index of the max score: 4\n"
          ]
        },
        {
          "output_type": "display_data",
          "data": {
            "text/plain": [
              "<Figure size 432x288 with 1 Axes>"
            ],
            "image/png": "[encoded data removed]"
          },
          "metadata": {
            "needs_background": "light"
          }
        },
        {
          "output_type": "stream",
          "name": "stdout",
          "text": [
            "All the scores: tensor([ 1.2553, 14.3022, -2.4144, -4.0209, -5.7788, -4.8797,  0.7453, -4.0201,\n",
            "         2.7509, -8.6503])\n",
            "The max score: 14.302216529846191\n",
            "The index of the max score: 1\n"
          ]
        },
        {
          "output_type": "display_data",
          "data": {
            "text/plain": [
              "<Figure size 432x288 with 1 Axes>"
            ],
            "image/png": "[encoded data removed]"
          },
          "metadata": {
            "needs_background": "light"
          }
        },
        {
          "output_type": "stream",
          "name": "stdout",
          "text": [
            "All the scores: tensor([-3.7569,  0.6550, -1.9527, -1.7754, 13.4480,  1.7102,  0.3157,  2.2291,\n",
            "         6.2293,  6.6074])\n",
            "The max score: 13.44800853729248\n",
            "The index of the max score: 4\n"
          ]
        },
        {
          "output_type": "display_data",
          "data": {
            "text/plain": [
              "<Figure size 432x288 with 1 Axes>"
            ],
            "image/png": "[encoded data removed]"
          },
          "metadata": {
            "needs_background": "light"
          }
        },
        {
          "output_type": "stream",
          "name": "stdout",
          "text": [
            "All the scores: tensor([-4.8378, -8.4994, -3.9603,  1.1898,  6.0709, -2.2735, -6.9432, -1.2048,\n",
            "         0.8652,  8.6549])\n",
            "The max score: 8.654898643493652\n",
            "The index of the max score: 9\n"
          ]
        },
        {
          "output_type": "display_data",
          "data": {
            "text/plain": [
              "<Figure size 432x288 with 1 Axes>"
            ],
            "image/png": "[encoded data removed]"
          },
          "metadata": {
            "needs_background": "light"
          }
        },
        {
          "output_type": "stream",
          "name": "stdout",
          "text": [
            "All the scores: tensor([ -5.6127, -10.0351, -10.3089,  -4.7374,  -9.7060,   7.2920,   0.6609,\n",
            "         -9.8276,   1.8335,  -3.8378])\n",
            "The max score: 7.291989326477051\n",
            "The index of the max score: 5\n"
          ]
        },
        {
          "output_type": "display_data",
          "data": {
            "text/plain": [
              "<Figure size 432x288 with 1 Axes>"
            ],
            "image/png": "[encoded data removed]"
          },
          "metadata": {
            "needs_background": "light"
          }
        },
        {
          "output_type": "stream",
          "name": "stdout",
          "text": [
            "All the scores: tensor([-10.2728, -20.1717,  -7.8606,  -2.1128,  -3.7467,  -6.6812, -21.7508,\n",
            "         -4.6230,  -0.6181,   8.9379])\n",
            "The max score: 8.937857627868652\n",
            "The index of the max score: 9\n"
          ]
        }
      ]
    },
    {
      "cell_type": "markdown",
      "metadata": {
        "id": "cZt1GghRYPzV"
      },
      "source": [
        "## Methods to find the best **Learning Rate**\n",
        "- gridsearch: use different learning rate values, and verify which is the best parameters configuration w.r.t. a certain error measure\n",
        "- Over the course of an epoch start out with a small learning rate and increase it to higher values over each batch. At the end of the epoch the learning rate will be high. We compute the ```loss``` for each rate. \n",
        "\n",
        "Then find in a plot (learning_rate, loss) the learning rate that gives the greatest decline."
      ]
    },
    {
      "cell_type": "code",
      "metadata": {
        "id": "KjQn5AaUuBne"
      },
      "source": [
        "def find_lr(model, loss_fn, optimizer, train_loader,init_value = 1e-8, final_value=1, device=\"cpu\"):\n",
        "    number_in_epoch = len(train_loader) - 1\n",
        "    update_step = (final_value / init_value) ** (1 / number_in_epoch)\n",
        "    lr = init_value\n",
        "    optimizer.param_groups[0][\"lr\"] = lr\n",
        "    training_loss = 0.0\n",
        "    best_loss = 0.0\n",
        "    batch_num = 0\n",
        "    losses = []\n",
        "    log_lrs = []\n",
        "    model.train()\n",
        "    for data in train_loader:\n",
        "      # print('Batch number: {}'.format(batch_num))\n",
        "      batch_num += 1\n",
        "      inputs, targets = data\n",
        "      inputs = inputs.to(device)\n",
        "      targets = targets.to(device)\n",
        "      optimizer.zero_grad()\n",
        "      outputs = model(inputs)\n",
        "      loss = loss_fn(outputs, targets)\n",
        "      # print(loss)\n",
        "      # Crash out if loss explodes\n",
        "\n",
        "      if batch_num > 1 and loss > 10 * best_loss:\n",
        "        print('Exploded current loss: {} best_loss: {}'.format(loss,best_loss))\n",
        "        return log_lrs, losses\n",
        "\n",
        "      # Record the best loss\n",
        "\n",
        "      if loss < best_loss or batch_num == 1:\n",
        "          best_loss = loss\n",
        "\n",
        "      # Store the values\n",
        "      losses.append(loss.item())\n",
        "      log_lrs.append((lr))\n",
        "\n",
        "      # Do the backward pass and optimize\n",
        "\n",
        "      loss.backward()\n",
        "      optimizer.step()\n",
        "\n",
        "        # Update the lr for the next step and store\n",
        "\n",
        "      lr *= update_step\n",
        "      optimizer.param_groups[0][\"lr\"] = lr\n",
        "    \n",
        "    print(len(log_lrs),len(losses))\n",
        "    if len(log_lrs) > 20:\n",
        "      print(len(log_lrs),len(losses))\n",
        "      return log_lrs[10:-5], losses[10:-5]\n",
        "    else:\n",
        "      return log_lrs, losses\n"
      ],
      "execution_count": 47,
      "outputs": []
    },
    {
      "cell_type": "code",
      "metadata": {
        "colab": {
          "base_uri": "https://localhost:8080/"
        },
        "id": "8lI9Q7ggwBXi",
        "outputId": "feb2a563-b6fd-428f-cfe9-4722f2e6b356"
      },
      "source": [
        "#load the data again just to be sure what we are using\n",
        "batch_size = 128\n",
        "train_ds = TensorDataset(x_train_tensor, y_train_tensor)\n",
        "train_dl = DataLoader(\n",
        "    train_ds, batch_size=batch_size, shuffle=True)\n",
        "\n",
        "simplenet = SimpleNet()\n",
        "optimizer = optim.Adam(simplenet.parameters(), lr=0.001)\n",
        "(lrs, losses) = find_lr(simplenet, torch.nn.CrossEntropyLoss(), optimizer, train_dl,device='cpu')\n"
      ],
      "execution_count": 48,
      "outputs": [
        {
          "output_type": "stream",
          "name": "stdout",
          "text": [
            "Exploded current loss: 3.6693403720855713 best_loss: 0.3044801354408264\n"
          ]
        }
      ]
    },
    {
      "cell_type": "code",
      "metadata": {
        "colab": {
          "base_uri": "https://localhost:8080/",
          "height": 290
        },
        "id": "ivg8q6idzKOM",
        "outputId": "2a279838-d8e9-4cd2-c9eb-bc85e6ace592"
      },
      "source": [
        "plt.plot(lrs, losses,)\n",
        "\n",
        "plt.xscale(\"log\")\n",
        "plt.xlabel(\"Learning rate\")\n",
        "plt.ylabel(\"Loss\")\n",
        "plt.show()"
      ],
      "execution_count": 49,
      "outputs": [
        {
          "output_type": "display_data",
          "data": {
            "text/plain": [
              "<Figure size 432x288 with 1 Axes>"
            ],
            "image/png": "[encoded data removed]"
          },
          "metadata": {
            "needs_background": "light"
          }
        }
      ]
    },
    {
      "cell_type": "markdown",
      "metadata": {
        "id": "EQBjzv1BHX2u"
      },
      "source": [
        "## Regression\n",
        "Let's try now with a regression problem\n",
        "\n",
        "we will use the wine quality data and try to regress on the quality"
      ]
    },
    {
      "cell_type": "code",
      "metadata": {
        "colab": {
          "base_uri": "https://localhost:8080/",
          "height": 206
        },
        "id": "4kdO4OnvMGmb",
        "outputId": "d72f026f-cb8f-4e3c-cae5-2d446ece8a40"
      },
      "source": [
        "path_github = 'https://raw.githubusercontent.com/fpinell/hands_on_python_for_ds/main/data/winequality-white.csv'\n",
        "df = pd.read_csv(path_github,sep=';')\n",
        "df.head()\n"
      ],
      "execution_count": 50,
      "outputs": [
        {
          "output_type": "execute_result",
          "data": {
            "text/plain": [
              "   fixed acidity  volatile acidity  citric acid  residual sugar  chlorides  \\\n",
              "0            7.0              0.27         0.36            20.7      0.045   \n",
              "1            6.3              0.30         0.34             1.6      0.049   \n",
              "2            8.1              0.28         0.40             6.9      0.050   \n",
              "3            7.2              0.23         0.32             8.5      0.058   \n",
              "4            7.2              0.23         0.32             8.5      0.058   \n",
              "\n",
              "   free sulfur dioxide  total sulfur dioxide  density    pH  sulphates  \\\n",
              "0                 45.0                 170.0   1.0010  3.00       0.45   \n",
              "1                 14.0                 132.0   0.9940  3.30       0.49   \n",
              "2                 30.0                  97.0   0.9951  3.26       0.44   \n",
              "3                 47.0                 186.0   0.9956  3.19       0.40   \n",
              "4                 47.0                 186.0   0.9956  3.19       0.40   \n",
              "\n",
              "   alcohol  quality  \n",
              "0      8.8        6  \n",
              "1      9.5        6  \n",
              "2     10.1        6  \n",
              "3      9.9        6  \n",
              "4      9.9        6  "
            ],
            "text/html": [
              "\n",
              "  <div id=\"df-98e6bcb2-c1c3-48aa-8f2c-c2149cd703a7\">\n",
              "    <div class=\"colab-df-container\">\n",
              "      <div>\n",
              "<style scoped>\n",
              "    .dataframe tbody tr th:only-of-type {\n",
              "        vertical-align: middle;\n",
              "    }\n",
              "\n",
              "    .dataframe tbody tr th {\n",
              "        vertical-align: top;\n",
              "    }\n",
              "\n",
              "    .dataframe thead th {\n",
              "        text-align: right;\n",
              "    }\n",
              "</style>\n",
              "<table border=\"1\" class=\"dataframe\">\n",
              "  <thead>\n",
              "    <tr style=\"text-align: right;\">\n",
              "      <th></th>\n",
              "      <th>fixed acidity</th>\n",
              "      <th>volatile acidity</th>\n",
              "      <th>citric acid</th>\n",
              "      <th>residual sugar</th>\n",
              "      <th>chlorides</th>\n",
              "      <th>free sulfur dioxide</th>\n",
              "      <th>total sulfur dioxide</th>\n",
              "      <th>density</th>\n",
              "      <th>pH</th>\n",
              "      <th>sulphates</th>\n",
              "      <th>alcohol</th>\n",
              "      <th>quality</th>\n",
              "    </tr>\n",
              "  </thead>\n",
              "  <tbody>\n",
              "    <tr>\n",
              "      <th>0</th>\n",
              "      <td>7.0</td>\n",
              "      <td>0.27</td>\n",
              "      <td>0.36</td>\n",
              "      <td>20.7</td>\n",
              "      <td>0.045</td>\n",
              "      <td>45.0</td>\n",
              "      <td>170.0</td>\n",
              "      <td>1.0010</td>\n",
              "      <td>3.00</td>\n",
              "      <td>0.45</td>\n",
              "      <td>8.8</td>\n",
              "      <td>6</td>\n",
              "    </tr>\n",
              "    <tr>\n",
              "      <th>1</th>\n",
              "      <td>6.3</td>\n",
              "      <td>0.30</td>\n",
              "      <td>0.34</td>\n",
              "      <td>1.6</td>\n",
              "      <td>0.049</td>\n",
              "      <td>14.0</td>\n",
              "      <td>132.0</td>\n",
              "      <td>0.9940</td>\n",
              "      <td>3.30</td>\n",
              "      <td>0.49</td>\n",
              "      <td>9.5</td>\n",
              "      <td>6</td>\n",
              "    </tr>\n",
              "    <tr>\n",
              "      <th>2</th>\n",
              "      <td>8.1</td>\n",
              "      <td>0.28</td>\n",
              "      <td>0.40</td>\n",
              "      <td>6.9</td>\n",
              "      <td>0.050</td>\n",
              "      <td>30.0</td>\n",
              "      <td>97.0</td>\n",
              "      <td>0.9951</td>\n",
              "      <td>3.26</td>\n",
              "      <td>0.44</td>\n",
              "      <td>10.1</td>\n",
              "      <td>6</td>\n",
              "    </tr>\n",
              "    <tr>\n",
              "      <th>3</th>\n",
              "      <td>7.2</td>\n",
              "      <td>0.23</td>\n",
              "      <td>0.32</td>\n",
              "      <td>8.5</td>\n",
              "      <td>0.058</td>\n",
              "      <td>47.0</td>\n",
              "      <td>186.0</td>\n",
              "      <td>0.9956</td>\n",
              "      <td>3.19</td>\n",
              "      <td>0.40</td>\n",
              "      <td>9.9</td>\n",
              "      <td>6</td>\n",
              "    </tr>\n",
              "    <tr>\n",
              "      <th>4</th>\n",
              "      <td>7.2</td>\n",
              "      <td>0.23</td>\n",
              "      <td>0.32</td>\n",
              "      <td>8.5</td>\n",
              "      <td>0.058</td>\n",
              "      <td>47.0</td>\n",
              "      <td>186.0</td>\n",
              "      <td>0.9956</td>\n",
              "      <td>3.19</td>\n",
              "      <td>0.40</td>\n",
              "      <td>9.9</td>\n",
              "      <td>6</td>\n",
              "    </tr>\n",
              "  </tbody>\n",
              "</table>\n",
              "</div>\n",
              "      <button class=\"colab-df-convert\" onclick=\"convertToInteractive('df-98e6bcb2-c1c3-48aa-8f2c-c2149cd703a7')\"\n",
              "              title=\"Convert this dataframe to an interactive table.\"\n",
              "              style=\"display:none;\">\n",
              "        \n",
              "  <svg xmlns=\"http://www.w3.org/2000/svg\" height=\"24px\"viewBox=\"0 0 24 24\"\n",
              "       width=\"24px\">\n",
              "    <path d=\"M0 0h24v24H0V0z\" fill=\"none\"/>\n",
              "    <path d=\"M18.56 5.44l.94 2.06.94-2.06 2.06-.94-2.06-.94-.94-2.06-.94 2.06-2.06.94zm-11 1L8.5 8.5l.94-2.06 2.06-.94-2.06-.94L8.5 2.5l-.94 2.06-2.06.94zm10 10l.94 2.06.94-2.06 2.06-.94-2.06-.94-.94-2.06-.94 2.06-2.06.94z\"/><path d=\"M17.41 7.96l-1.37-1.37c-.4-.4-.92-.59-1.43-.59-.52 0-1.04.2-1.43.59L10.3 9.45l-7.72 7.72c-.78.78-.78 2.05 0 2.83L4 21.41c.39.39.9.59 1.41.59.51 0 1.02-.2 1.41-.59l7.78-7.78 2.81-2.81c.8-.78.8-2.07 0-2.86zM5.41 20L4 18.59l7.72-7.72 1.47 1.35L5.41 20z\"/>\n",
              "  </svg>\n",
              "      </button>\n",
              "      \n",
              "  <style>\n",
              "    .colab-df-container {\n",
              "      display:flex;\n",
              "      flex-wrap:wrap;\n",
              "      gap: 12px;\n",
              "    }\n",
              "\n",
              "    .colab-df-convert {\n",
              "      background-color: #E8F0FE;\n",
              "      border: none;\n",
              "      border-radius: 50%;\n",
              "      cursor: pointer;\n",
              "      display: none;\n",
              "      fill: #1967D2;\n",
              "      height: 32px;\n",
              "      padding: 0 0 0 0;\n",
              "      width: 32px;\n",
              "    }\n",
              "\n",
              "    .colab-df-convert:hover {\n",
              "      background-color: #E2EBFA;\n",
              "      box-shadow: 0px 1px 2px rgba(60, 64, 67, 0.3), 0px 1px 3px 1px rgba(60, 64, 67, 0.15);\n",
              "      fill: #174EA6;\n",
              "    }\n",
              "\n",
              "    [theme=dark] .colab-df-convert {\n",
              "      background-color: #3B4455;\n",
              "      fill: #D2E3FC;\n",
              "    }\n",
              "\n",
              "    [theme=dark] .colab-df-convert:hover {\n",
              "      background-color: #434B5C;\n",
              "      box-shadow: 0px 1px 3px 1px rgba(0, 0, 0, 0.15);\n",
              "      filter: drop-shadow(0px 1px 2px rgba(0, 0, 0, 0.3));\n",
              "      fill: #FFFFFF;\n",
              "    }\n",
              "  </style>\n",
              "\n",
              "      <script>\n",
              "        const buttonEl =\n",
              "          document.querySelector('#df-98e6bcb2-c1c3-48aa-8f2c-c2149cd703a7 button.colab-df-convert');\n",
              "        buttonEl.style.display =\n",
              "          google.colab.kernel.accessAllowed ? 'block' : 'none';\n",
              "\n",
              "        async function convertToInteractive(key) {\n",
              "          const element = document.querySelector('#df-98e6bcb2-c1c3-48aa-8f2c-c2149cd703a7');\n",
              "          const dataTable =\n",
              "            await google.colab.kernel.invokeFunction('convertToInteractive',\n",
              "                                                     [key], {});\n",
              "          if (!dataTable) return;\n",
              "\n",
              "          const docLinkHtml = 'Like what you see? Visit the ' +\n",
              "            '<a target=\"_blank\" href=https://colab.research.google.com/notebooks/data_table.ipynb>data table notebook</a>'\n",
              "            + ' to learn more about interactive tables.';\n",
              "          element.innerHTML = '';\n",
              "          dataTable['output_type'] = 'display_data';\n",
              "          await google.colab.output.renderOutput(dataTable, element);\n",
              "          const docLink = document.createElement('div');\n",
              "          docLink.innerHTML = docLinkHtml;\n",
              "          element.appendChild(docLink);\n",
              "        }\n",
              "      </script>\n",
              "    </div>\n",
              "  </div>\n",
              "  "
            ]
          },
          "metadata": {},
          "execution_count": 50
        }
      ]
    },
    {
      "cell_type": "code",
      "metadata": {
        "colab": {
          "base_uri": "https://localhost:8080/"
        },
        "id": "Rkzfh9VcVTbu",
        "outputId": "fe0006b5-0b84-45a7-b164-87302b9195fd"
      },
      "source": [
        "df.info()"
      ],
      "execution_count": 51,
      "outputs": [
        {
          "output_type": "stream",
          "name": "stdout",
          "text": [
            "<class 'pandas.core.frame.DataFrame'>\n",
            "RangeIndex: 4898 entries, 0 to 4897\n",
            "Data columns (total 12 columns):\n",
            " #   Column                Non-Null Count  Dtype  \n",
            "---  ------                --------------  -----  \n",
            " 0   fixed acidity         4898 non-null   float64\n",
            " 1   volatile acidity      4898 non-null   float64\n",
            " 2   citric acid           4898 non-null   float64\n",
            " 3   residual sugar        4898 non-null   float64\n",
            " 4   chlorides             4898 non-null   float64\n",
            " 5   free sulfur dioxide   4898 non-null   float64\n",
            " 6   total sulfur dioxide  4898 non-null   float64\n",
            " 7   density               4898 non-null   float64\n",
            " 8   pH                    4898 non-null   float64\n",
            " 9   sulphates             4898 non-null   float64\n",
            " 10  alcohol               4898 non-null   float64\n",
            " 11  quality               4898 non-null   int64  \n",
            "dtypes: float64(11), int64(1)\n",
            "memory usage: 459.3 KB\n"
          ]
        }
      ]
    },
    {
      "cell_type": "code",
      "metadata": {
        "colab": {
          "base_uri": "https://localhost:8080/",
          "height": 286
        },
        "id": "u5JJp1Tdc2ku",
        "outputId": "2a8fd341-9bab-4b79-8297-d7ff87d9ccf2"
      },
      "source": [
        "import seaborn as sns\n",
        "\n",
        "sns.countplot(x = 'quality', data=df)\n",
        "\n",
        "X = df.iloc[:, 0:-1]\n",
        "y = df.iloc[:, -1]"
      ],
      "execution_count": 52,
      "outputs": [
        {
          "output_type": "display_data",
          "data": {
            "text/plain": [
              "<Figure size 432x288 with 1 Axes>"
            ],
            "image/png": "[encoded data removed]"
          },
          "metadata": {
            "needs_background": "light"
          }
        }
      ]
    },
    {
      "cell_type": "code",
      "metadata": {
        "id": "DznAmk5mfu3W"
      },
      "source": [
        "from sklearn.model_selection import train_test_split\n",
        "\n",
        "# Train - Test\n",
        "X_trainval, X_test, y_trainval, y_test = train_test_split(X, y, test_size=0.2, random_state=69)\n",
        "# Split train into train-val\n",
        "X_train, X_val, y_train, y_val = train_test_split(X_trainval, y_trainval, test_size=0.1, random_state=21)\n"
      ],
      "execution_count": 53,
      "outputs": []
    },
    {
      "cell_type": "code",
      "metadata": {
        "id": "ZeH9B5jhf6xu"
      },
      "source": [
        "from sklearn.preprocessing import MinMaxScaler\n",
        "scaler = MinMaxScaler() # scaling the data\n",
        "X_train = scaler.fit_transform(X_train)\n",
        "X_val = scaler.transform(X_val)\n",
        "X_test = scaler.transform(X_test)\n",
        "X_train, y_train = np.array(X_train), np.array(y_train)\n",
        "X_val, y_val = np.array(X_val), np.array(y_val)\n",
        "X_test, y_test = np.array(X_test), np.array(y_test)"
      ],
      "execution_count": 54,
      "outputs": []
    },
    {
      "cell_type": "code",
      "metadata": {
        "id": "5sdbg5Nyf_hG"
      },
      "source": [
        "y_train, y_test, y_val = y_train.astype(float), y_test.astype(float), y_val.astype(float)\n"
      ],
      "execution_count": 55,
      "outputs": []
    },
    {
      "cell_type": "code",
      "metadata": {
        "id": "Ij_kB38zgKrl"
      },
      "source": [
        "import torch\n",
        "import torch.nn as nn\n",
        "import torch.optim as optim\n",
        "from torch.utils.data import Dataset, DataLoader\n",
        "class RegressionDataset(Dataset):\n",
        "    \n",
        "    def __init__(self, X_data, y_data):\n",
        "        self.X_data = X_data\n",
        "        self.y_data = y_data\n",
        "        \n",
        "    def __getitem__(self, index):\n",
        "        return self.X_data[index], self.y_data[index]\n",
        "        \n",
        "    def __len__ (self):\n",
        "        return len(self.X_data)\n"
      ],
      "execution_count": 56,
      "outputs": []
    },
    {
      "cell_type": "code",
      "metadata": {
        "id": "SJNJ1tqGVtdJ"
      },
      "source": [
        "train_dataset = RegressionDataset(torch.from_numpy(X_train).float(), torch.from_numpy(y_train).float())\n",
        "val_dataset = RegressionDataset(torch.from_numpy(X_val).float(), torch.from_numpy(y_val).float())\n",
        "test_dataset = RegressionDataset(torch.from_numpy(X_test).float(), torch.from_numpy(y_test).float())"
      ],
      "execution_count": 57,
      "outputs": []
    },
    {
      "cell_type": "code",
      "metadata": {
        "colab": {
          "base_uri": "https://localhost:8080/"
        },
        "id": "u3eL2nEwg05k",
        "outputId": "745529a7-be1f-4e8e-f97a-a1ced089d1c0"
      },
      "source": [
        "print(\"The type of train_dataset is? {}\".format(type(train_dataset)))"
      ],
      "execution_count": 58,
      "outputs": [
        {
          "output_type": "stream",
          "name": "stdout",
          "text": [
            "The type of train_dataset is? <class '__main__.RegressionDataset'>\n"
          ]
        }
      ]
    },
    {
      "cell_type": "code",
      "metadata": {
        "id": "yUaCDvdKgmak"
      },
      "source": [
        "EPOCHS = 150\n",
        "BATCH_SIZE = 64\n",
        "LEARNING_RATE = 0.001\n",
        "NUM_FEATURES = X.shape[1]"
      ],
      "execution_count": 59,
      "outputs": []
    },
    {
      "cell_type": "code",
      "metadata": {
        "id": "5o1AwYLZgm2l"
      },
      "source": [
        "train_loader = DataLoader(dataset=train_dataset, batch_size=BATCH_SIZE, shuffle=True)\n",
        "val_loader = DataLoader(dataset=val_dataset, batch_size=32)\n",
        "test_loader = DataLoader(dataset=test_dataset, batch_size=1)"
      ],
      "execution_count": 60,
      "outputs": []
    },
    {
      "cell_type": "code",
      "metadata": {
        "colab": {
          "base_uri": "https://localhost:8080/"
        },
        "id": "n19c27JEV_rA",
        "outputId": "3c8e89c1-6c41-4ed6-f07a-bf8728474c2a"
      },
      "source": [
        "print(\"The type of train_dataset is? {}\".format(type(train_loader)))"
      ],
      "execution_count": 61,
      "outputs": [
        {
          "output_type": "stream",
          "name": "stdout",
          "text": [
            "The type of train_dataset is? <class 'torch.utils.data.dataloader.DataLoader'>\n"
          ]
        }
      ]
    },
    {
      "cell_type": "code",
      "metadata": {
        "id": "LZeeZQfahAwW"
      },
      "source": [
        "class MultipleRegression(nn.Module):\n",
        "    def __init__(self, num_features):\n",
        "        super(MultipleRegression, self).__init__()\n",
        "        \n",
        "        self.layer_1 = nn.Linear(num_features, 16)\n",
        "        self.layer_2 = nn.Linear(16, 32)\n",
        "        self.layer_3 = nn.Linear(32, 16)\n",
        "        self.layer_out = nn.Linear(16, 1)\n",
        "        \n",
        "        self.relu = nn.ReLU()\n",
        "    \n",
        "    def forward(self, inputs):\n",
        "        x = self.relu(self.layer_1(inputs))\n",
        "        x = self.relu(self.layer_2(x))\n",
        "        x = self.relu(self.layer_3(x))\n",
        "        x = self.layer_out(x)\n",
        "        return (x)\n",
        "    \n",
        "    def predict(self, test_inputs):\n",
        "        x = self.relu(self.layer_1(test_inputs))\n",
        "        x = self.relu(self.layer_2(x))\n",
        "        x = self.relu(self.layer_3(x))\n",
        "        x = self.layer_out(x)\n",
        "        return (x)"
      ],
      "execution_count": 62,
      "outputs": []
    },
    {
      "cell_type": "code",
      "metadata": {
        "colab": {
          "base_uri": "https://localhost:8080/"
        },
        "id": "D6cL3PE2hM-m",
        "outputId": "81719f97-6a50-4cf9-af98-73cdea422350"
      },
      "source": [
        "model = MultipleRegression(NUM_FEATURES)\n",
        "# model.to(device)\n",
        "print(model)\n",
        "criterion = nn.MSELoss()\n",
        "optimizer = optim.Adam(model.parameters(), lr=LEARNING_RATE)\n"
      ],
      "execution_count": 63,
      "outputs": [
        {
          "output_type": "stream",
          "name": "stdout",
          "text": [
            "MultipleRegression(\n",
            "  (layer_1): Linear(in_features=11, out_features=16, bias=True)\n",
            "  (layer_2): Linear(in_features=16, out_features=32, bias=True)\n",
            "  (layer_3): Linear(in_features=32, out_features=16, bias=True)\n",
            "  (layer_out): Linear(in_features=16, out_features=1, bias=True)\n",
            "  (relu): ReLU()\n",
            ")\n"
          ]
        }
      ]
    },
    {
      "cell_type": "code",
      "metadata": {
        "id": "Bq5WhgCOhaXN"
      },
      "source": [
        "loss_stats = {\n",
        "    'train': [],\n",
        "    \"val\": []\n",
        "}"
      ],
      "execution_count": 64,
      "outputs": []
    },
    {
      "cell_type": "code",
      "metadata": {
        "colab": {
          "base_uri": "https://localhost:8080/"
        },
        "id": "-x4UIUqHq0nT",
        "outputId": "3db411bf-275a-4976-d1fd-7eb49f5fcf4c"
      },
      "source": [
        "device = torch.device(\"cuda:0\" if torch.cuda.is_available() else \"cpu\")\n",
        "print(device)"
      ],
      "execution_count": 65,
      "outputs": [
        {
          "output_type": "stream",
          "name": "stdout",
          "text": [
            "cpu\n"
          ]
        }
      ]
    },
    {
      "cell_type": "code",
      "metadata": {
        "colab": {
          "base_uri": "https://localhost:8080/"
        },
        "id": "iLOs6LwUhd91",
        "outputId": "643589a9-b525-4327-ccbd-ff385a3671aa"
      },
      "source": [
        "model.to(device)\n",
        "print(\"Begin training.\")\n",
        "for e in range(1, EPOCHS+1):\n",
        "    \n",
        "    # TRAINING\n",
        "    train_epoch_loss = 0\n",
        "    model.train()\n",
        "    for X_train_batch, y_train_batch in train_loader:\n",
        "        X_train_batch, y_train_batch = X_train_batch.to(device), y_train_batch.to(device)\n",
        "        optimizer.zero_grad()\n",
        "        \n",
        "        y_train_pred = model(X_train_batch)\n",
        "        \n",
        "        train_loss = criterion(y_train_pred, y_train_batch.reshape(-1,1))\n",
        "        \n",
        "        train_loss.backward()\n",
        "        optimizer.step()\n",
        "        \n",
        "        train_epoch_loss += train_loss.item()\n",
        "    # VALIDATION    \n",
        "    with torch.no_grad():\n",
        "        \n",
        "        val_epoch_loss = 0\n",
        "        \n",
        "        model.eval()\n",
        "        for X_val_batch, y_val_batch in val_loader:\n",
        "            X_val_batch, y_val_batch = X_val_batch.to(device), y_val_batch.to(device)\n",
        "            \n",
        "            y_val_pred = model(X_val_batch)\n",
        "                        \n",
        "            val_loss = criterion(y_val_pred, y_val_batch.unsqueeze(1))\n",
        "            \n",
        "            val_epoch_loss += val_loss.item()\n",
        "        loss_stats['train'].append(train_epoch_loss/len(train_loader))\n",
        "        loss_stats['val'].append(val_epoch_loss/len(val_loader))                              \n",
        "    \n",
        "    print(f'Epoch {e+0:03}: | Train Loss: {train_epoch_loss/len(train_loader):.5f} | Val Loss: {val_epoch_loss/len(val_loader):.5f}')\n"
      ],
      "execution_count": 66,
      "outputs": [
        {
          "output_type": "stream",
          "name": "stdout",
          "text": [
            "Begin training.\n",
            "Epoch 001: | Train Loss: 28.64866 | Val Loss: 19.96069\n",
            "Epoch 002: | Train Loss: 7.36862 | Val Loss: 1.07203\n",
            "Epoch 003: | Train Loss: 0.84944 | Val Loss: 0.77201\n",
            "Epoch 004: | Train Loss: 0.77626 | Val Loss: 0.73866\n",
            "Epoch 005: | Train Loss: 0.72493 | Val Loss: 0.69839\n",
            "Epoch 006: | Train Loss: 0.70155 | Val Loss: 0.67110\n",
            "Epoch 007: | Train Loss: 0.66010 | Val Loss: 0.65494\n",
            "Epoch 008: | Train Loss: 0.64303 | Val Loss: 0.64008\n",
            "Epoch 009: | Train Loss: 0.62886 | Val Loss: 0.63058\n",
            "Epoch 010: | Train Loss: 0.60643 | Val Loss: 0.61930\n",
            "Epoch 011: | Train Loss: 0.59592 | Val Loss: 0.60676\n",
            "Epoch 012: | Train Loss: 0.59193 | Val Loss: 0.60665\n",
            "Epoch 013: | Train Loss: 0.58820 | Val Loss: 0.59495\n",
            "Epoch 014: | Train Loss: 0.58658 | Val Loss: 0.59540\n",
            "Epoch 015: | Train Loss: 0.56951 | Val Loss: 0.59004\n",
            "Epoch 016: | Train Loss: 0.57394 | Val Loss: 0.59447\n",
            "Epoch 017: | Train Loss: 0.58425 | Val Loss: 0.58854\n",
            "Epoch 018: | Train Loss: 0.56431 | Val Loss: 0.59845\n",
            "Epoch 019: | Train Loss: 0.56159 | Val Loss: 0.58485\n",
            "Epoch 020: | Train Loss: 0.55838 | Val Loss: 0.58695\n",
            "Epoch 021: | Train Loss: 0.57193 | Val Loss: 0.58412\n",
            "Epoch 022: | Train Loss: 0.57211 | Val Loss: 0.59707\n",
            "Epoch 023: | Train Loss: 0.56243 | Val Loss: 0.58761\n",
            "Epoch 024: | Train Loss: 0.55326 | Val Loss: 0.58472\n",
            "Epoch 025: | Train Loss: 0.55316 | Val Loss: 0.59337\n",
            "Epoch 026: | Train Loss: 0.55667 | Val Loss: 0.58463\n",
            "Epoch 027: | Train Loss: 0.56004 | Val Loss: 0.59977\n",
            "Epoch 028: | Train Loss: 0.55478 | Val Loss: 0.58139\n",
            "Epoch 029: | Train Loss: 0.57298 | Val Loss: 0.58823\n",
            "Epoch 030: | Train Loss: 0.57160 | Val Loss: 0.58042\n",
            "Epoch 031: | Train Loss: 0.55660 | Val Loss: 0.57991\n",
            "Epoch 032: | Train Loss: 0.55764 | Val Loss: 0.58301\n",
            "Epoch 033: | Train Loss: 0.55276 | Val Loss: 0.58038\n",
            "Epoch 034: | Train Loss: 0.55725 | Val Loss: 0.58361\n",
            "Epoch 035: | Train Loss: 0.56045 | Val Loss: 0.58126\n",
            "Epoch 036: | Train Loss: 0.56257 | Val Loss: 0.59901\n",
            "Epoch 037: | Train Loss: 0.56281 | Val Loss: 0.57966\n",
            "Epoch 038: | Train Loss: 0.55224 | Val Loss: 0.57848\n",
            "Epoch 039: | Train Loss: 0.56544 | Val Loss: 0.58847\n",
            "Epoch 040: | Train Loss: 0.57153 | Val Loss: 0.57618\n",
            "Epoch 041: | Train Loss: 0.54646 | Val Loss: 0.60483\n",
            "Epoch 042: | Train Loss: 0.55302 | Val Loss: 0.57393\n",
            "Epoch 043: | Train Loss: 0.54648 | Val Loss: 0.59122\n",
            "Epoch 044: | Train Loss: 0.55765 | Val Loss: 0.57901\n",
            "Epoch 045: | Train Loss: 0.54239 | Val Loss: 0.58612\n",
            "Epoch 046: | Train Loss: 0.54344 | Val Loss: 0.57267\n",
            "Epoch 047: | Train Loss: 0.54617 | Val Loss: 0.57585\n",
            "Epoch 048: | Train Loss: 0.54315 | Val Loss: 0.57691\n",
            "Epoch 049: | Train Loss: 0.54712 | Val Loss: 0.57820\n",
            "Epoch 050: | Train Loss: 0.54332 | Val Loss: 0.57118\n",
            "Epoch 051: | Train Loss: 0.54561 | Val Loss: 0.58046\n",
            "Epoch 052: | Train Loss: 0.55245 | Val Loss: 0.57418\n",
            "Epoch 053: | Train Loss: 0.56483 | Val Loss: 0.56624\n",
            "Epoch 054: | Train Loss: 0.55404 | Val Loss: 0.56777\n",
            "Epoch 055: | Train Loss: 0.54763 | Val Loss: 0.57042\n",
            "Epoch 056: | Train Loss: 0.54213 | Val Loss: 0.56789\n",
            "Epoch 057: | Train Loss: 0.54739 | Val Loss: 0.57749\n",
            "Epoch 058: | Train Loss: 0.54638 | Val Loss: 0.56604\n",
            "Epoch 059: | Train Loss: 0.54294 | Val Loss: 0.56016\n",
            "Epoch 060: | Train Loss: 0.53458 | Val Loss: 0.56350\n",
            "Epoch 061: | Train Loss: 0.53684 | Val Loss: 0.56546\n",
            "Epoch 062: | Train Loss: 0.53599 | Val Loss: 0.57440\n",
            "Epoch 063: | Train Loss: 0.54908 | Val Loss: 0.59413\n",
            "Epoch 064: | Train Loss: 0.53957 | Val Loss: 0.56291\n",
            "Epoch 065: | Train Loss: 0.53258 | Val Loss: 0.56649\n",
            "Epoch 066: | Train Loss: 0.53659 | Val Loss: 0.55950\n",
            "Epoch 067: | Train Loss: 0.53885 | Val Loss: 0.55895\n",
            "Epoch 068: | Train Loss: 0.53407 | Val Loss: 0.56372\n",
            "Epoch 069: | Train Loss: 0.54122 | Val Loss: 0.56053\n",
            "Epoch 070: | Train Loss: 0.54971 | Val Loss: 0.57573\n",
            "Epoch 071: | Train Loss: 0.55093 | Val Loss: 0.58400\n",
            "Epoch 072: | Train Loss: 0.53684 | Val Loss: 0.55605\n",
            "Epoch 073: | Train Loss: 0.53543 | Val Loss: 0.56263\n",
            "Epoch 074: | Train Loss: 0.53122 | Val Loss: 0.55696\n",
            "Epoch 075: | Train Loss: 0.53603 | Val Loss: 0.56254\n",
            "Epoch 076: | Train Loss: 0.53314 | Val Loss: 0.55694\n",
            "Epoch 077: | Train Loss: 0.54572 | Val Loss: 0.55111\n",
            "Epoch 078: | Train Loss: 0.52219 | Val Loss: 0.56009\n",
            "Epoch 079: | Train Loss: 0.52227 | Val Loss: 0.55212\n",
            "Epoch 080: | Train Loss: 0.52125 | Val Loss: 0.55007\n",
            "Epoch 081: | Train Loss: 0.52364 | Val Loss: 0.55235\n",
            "Epoch 082: | Train Loss: 0.52168 | Val Loss: 0.54562\n",
            "Epoch 083: | Train Loss: 0.54062 | Val Loss: 0.54407\n",
            "Epoch 084: | Train Loss: 0.52092 | Val Loss: 0.55003\n",
            "Epoch 085: | Train Loss: 0.52457 | Val Loss: 0.55438\n",
            "Epoch 086: | Train Loss: 0.52590 | Val Loss: 0.54629\n",
            "Epoch 087: | Train Loss: 0.52753 | Val Loss: 0.54644\n",
            "Epoch 088: | Train Loss: 0.52310 | Val Loss: 0.53903\n",
            "Epoch 089: | Train Loss: 0.52304 | Val Loss: 0.54905\n",
            "Epoch 090: | Train Loss: 0.52948 | Val Loss: 0.54265\n",
            "Epoch 091: | Train Loss: 0.51695 | Val Loss: 0.53743\n",
            "Epoch 092: | Train Loss: 0.52932 | Val Loss: 0.53883\n",
            "Epoch 093: | Train Loss: 0.51757 | Val Loss: 0.55536\n",
            "Epoch 094: | Train Loss: 0.52230 | Val Loss: 0.54026\n",
            "Epoch 095: | Train Loss: 0.51809 | Val Loss: 0.53958\n",
            "Epoch 096: | Train Loss: 0.52194 | Val Loss: 0.53130\n",
            "Epoch 097: | Train Loss: 0.51163 | Val Loss: 0.52979\n",
            "Epoch 098: | Train Loss: 0.52087 | Val Loss: 0.54048\n",
            "Epoch 099: | Train Loss: 0.51370 | Val Loss: 0.52513\n",
            "Epoch 100: | Train Loss: 0.51621 | Val Loss: 0.52627\n",
            "Epoch 101: | Train Loss: 0.51494 | Val Loss: 0.53200\n",
            "Epoch 102: | Train Loss: 0.50825 | Val Loss: 0.53037\n",
            "Epoch 103: | Train Loss: 0.51948 | Val Loss: 0.52601\n",
            "Epoch 104: | Train Loss: 0.51990 | Val Loss: 0.53736\n",
            "Epoch 105: | Train Loss: 0.51203 | Val Loss: 0.54021\n",
            "Epoch 106: | Train Loss: 0.51437 | Val Loss: 0.54025\n",
            "Epoch 107: | Train Loss: 0.51309 | Val Loss: 0.52950\n",
            "Epoch 108: | Train Loss: 0.52149 | Val Loss: 0.53313\n",
            "Epoch 109: | Train Loss: 0.51568 | Val Loss: 0.52779\n",
            "Epoch 110: | Train Loss: 0.50852 | Val Loss: 0.52183\n",
            "Epoch 111: | Train Loss: 0.51178 | Val Loss: 0.53035\n",
            "Epoch 112: | Train Loss: 0.50620 | Val Loss: 0.53129\n",
            "Epoch 113: | Train Loss: 0.51046 | Val Loss: 0.52453\n",
            "Epoch 114: | Train Loss: 0.51332 | Val Loss: 0.53631\n",
            "Epoch 115: | Train Loss: 0.51514 | Val Loss: 0.52197\n",
            "Epoch 116: | Train Loss: 0.51151 | Val Loss: 0.54473\n",
            "Epoch 117: | Train Loss: 0.50985 | Val Loss: 0.52824\n",
            "Epoch 118: | Train Loss: 0.50950 | Val Loss: 0.53460\n",
            "Epoch 119: | Train Loss: 0.50452 | Val Loss: 0.52549\n",
            "Epoch 120: | Train Loss: 0.51132 | Val Loss: 0.51965\n",
            "Epoch 121: | Train Loss: 0.51145 | Val Loss: 0.55829\n",
            "Epoch 122: | Train Loss: 0.50524 | Val Loss: 0.51821\n",
            "Epoch 123: | Train Loss: 0.51154 | Val Loss: 0.52045\n",
            "Epoch 124: | Train Loss: 0.50198 | Val Loss: 0.55603\n",
            "Epoch 125: | Train Loss: 0.52253 | Val Loss: 0.54213\n",
            "Epoch 126: | Train Loss: 0.50673 | Val Loss: 0.52304\n",
            "Epoch 127: | Train Loss: 0.50396 | Val Loss: 0.51958\n",
            "Epoch 128: | Train Loss: 0.50124 | Val Loss: 0.53383\n",
            "Epoch 129: | Train Loss: 0.51381 | Val Loss: 0.52532\n",
            "Epoch 130: | Train Loss: 0.50667 | Val Loss: 0.51384\n",
            "Epoch 131: | Train Loss: 0.51606 | Val Loss: 0.52033\n",
            "Epoch 132: | Train Loss: 0.49919 | Val Loss: 0.52033\n",
            "Epoch 133: | Train Loss: 0.50976 | Val Loss: 0.51850\n",
            "Epoch 134: | Train Loss: 0.50252 | Val Loss: 0.52662\n",
            "Epoch 135: | Train Loss: 0.50132 | Val Loss: 0.51495\n",
            "Epoch 136: | Train Loss: 0.50781 | Val Loss: 0.52240\n",
            "Epoch 137: | Train Loss: 0.52477 | Val Loss: 0.52955\n",
            "Epoch 138: | Train Loss: 0.50495 | Val Loss: 0.52768\n",
            "Epoch 139: | Train Loss: 0.51833 | Val Loss: 0.53632\n",
            "Epoch 140: | Train Loss: 0.51167 | Val Loss: 0.51672\n",
            "Epoch 141: | Train Loss: 0.50096 | Val Loss: 0.52443\n",
            "Epoch 142: | Train Loss: 0.50943 | Val Loss: 0.52942\n",
            "Epoch 143: | Train Loss: 0.50778 | Val Loss: 0.52146\n",
            "Epoch 144: | Train Loss: 0.50443 | Val Loss: 0.53259\n",
            "Epoch 145: | Train Loss: 0.50354 | Val Loss: 0.51676\n",
            "Epoch 146: | Train Loss: 0.50041 | Val Loss: 0.52802\n",
            "Epoch 147: | Train Loss: 0.51801 | Val Loss: 0.52673\n",
            "Epoch 148: | Train Loss: 0.50808 | Val Loss: 0.52152\n",
            "Epoch 149: | Train Loss: 0.50715 | Val Loss: 0.52044\n",
            "Epoch 150: | Train Loss: 0.50485 | Val Loss: 0.51526\n"
          ]
        }
      ]
    },
    {
      "cell_type": "code",
      "metadata": {
        "colab": {
          "base_uri": "https://localhost:8080/",
          "height": 428
        },
        "id": "Sj95w8rvh0Gf",
        "outputId": "676ee58d-5366-4486-f791-852495d7df53"
      },
      "source": [
        "train_val_loss_df = pd.DataFrame.from_dict(loss_stats).reset_index().melt(id_vars=['index']).rename(columns={\"index\":\"epochs\"})\n",
        "plt.figure(figsize=(10,6))\n",
        "sns.lineplot(data=train_val_loss_df, x = \"epochs\", y=\"value\", hue=\"variable\").set_title('Train-Val Loss/Epoch')"
      ],
      "execution_count": 67,
      "outputs": [
        {
          "output_type": "execute_result",
          "data": {
            "text/plain": [
              "Text(0.5, 1.0, 'Train-Val Loss/Epoch')"
            ]
          },
          "metadata": {},
          "execution_count": 67
        },
        {
          "output_type": "display_data",
          "data": {
            "text/plain": [
              "<Figure size 720x432 with 1 Axes>"
            ],
            "image/png": "[encoded data removed]"
          },
          "metadata": {
            "needs_background": "light"
          }
        }
      ]
    },
    {
      "cell_type": "code",
      "metadata": {
        "id": "WHviRzqnkCRp"
      },
      "source": [
        "y_pred_list = []\n",
        "with torch.no_grad():\n",
        "    model.eval()\n",
        "    for X_batch, _ in test_loader:\n",
        "        X_batch = X_batch.to(device)\n",
        "        y_test_pred = model(X_batch)\n",
        "        y_pred_list.append(y_test_pred.cpu().numpy())\n",
        "y_pred_list = [a.squeeze().tolist() for a in y_pred_list]"
      ],
      "execution_count": 68,
      "outputs": []
    },
    {
      "cell_type": "code",
      "metadata": {
        "colab": {
          "base_uri": "https://localhost:8080/"
        },
        "id": "kPde4baRkHoG",
        "outputId": "aede3581-6d8d-4e1c-9584-7effd622cdc8"
      },
      "source": [
        "from sklearn.metrics import mean_squared_error, r2_score\n",
        "mse = mean_squared_error(y_test, y_pred_list)\n",
        "r_square = r2_score(y_test, y_pred_list)\n",
        "print(\"Mean Squared Error :\",mse)\n",
        "print(\"R^2 :\",r_square)"
      ],
      "execution_count": 69,
      "outputs": [
        {
          "output_type": "stream",
          "name": "stdout",
          "text": [
            "Mean Squared Error : 0.5462017287088309\n",
            "R^2 : 0.3239736118531773\n"
          ]
        }
      ]
    },
    {
      "cell_type": "markdown",
      "source": [
        "### Classification with embeddings\n",
        "\n",
        "Tabular data might contain continous values as well as discrite values (categories). \n",
        "- Categorical variable can be handled with: \n",
        "  - onehot encoding\n",
        "  - embeddings --> use Neural Networks to project the data in a new space where similar objects are closer. \n",
        "\n",
        "  Let's try to see this latest part "
      ],
      "metadata": {
        "id": "Hux4uvjNaDow"
      }
    },
    {
      "cell_type": "code",
      "source": [
        "from google.colab import drive\n",
        "drive.mount('/content/drive')"
      ],
      "metadata": {
        "id": "liSlfh6BdCUt",
        "outputId": "fc8d33e9-d75b-4048-feb1-58f508a5f6b7",
        "colab": {
          "base_uri": "https://localhost:8080/"
        }
      },
      "execution_count": 71,
      "outputs": [
        {
          "output_type": "stream",
          "name": "stdout",
          "text": [
            "Mounted at /content/drive\n"
          ]
        }
      ]
    },
    {
      "cell_type": "code",
      "source": [
        "df = pd.read_csv('/content/drive/Shareddrives/phd_hands_on/data/titanic/train.csv')\n",
        "\n",
        "\n",
        "df_train = df[['PassengerId','Survived','Pclass', \n",
        "                     'Sex', 'Age', 'SibSp','Parch',\n",
        "                     'Fare', 'Embarked']].copy()\n",
        "\n",
        "X = df_train[['Pclass', 'Sex', 'Age', 'SibSp','Parch',\n",
        "                     'Fare', 'Embarked']].copy()\n",
        "Y = df_train[['Survived']].copy()\n",
        "\n",
        "\n",
        "\n",
        "cat_columns = [\"Pclass\", \"Sex\", \"Embarked\"]\n",
        "num_columns = [\"Age\", \"SibSp\", \"Parch\", \"Fare\"]\n",
        "\n",
        "\n",
        "for c in cat_columns:\n",
        "  X[c] =  X[c].astype(\"category\")\n",
        "\n",
        "\n",
        "embedded_cols = {n: len(col.cat.categories) for n,col in X[cat_columns].items() }\n",
        "emb_cols = embedded_cols.keys() # names of columns chosen for embedding\n",
        "print(emb_cols)\n",
        "emb_szs = [(c+1, 2) for _,c in embedded_cols.items()] #embedding sizes for the chosen columns\n"
      ],
      "metadata": {
        "id": "XUNUPmCmaylh",
        "outputId": "d6c84965-123e-4ad6-92ba-34fd65494071",
        "colab": {
          "base_uri": "https://localhost:8080/"
        }
      },
      "execution_count": 97,
      "outputs": [
        {
          "output_type": "stream",
          "name": "stdout",
          "text": [
            "dict_keys(['Pclass', 'Sex', 'Embarked'])\n"
          ]
        }
      ]
    },
    {
      "cell_type": "code",
      "source": [
        "from torch.utils.data import Dataset, DataLoader\n",
        "import numpy as np\n",
        "class myCategoricalDataset(Dataset):\n",
        "    def __init__(self, X, Y, emb_cols):\n",
        "        X = X.copy()\n",
        "        self.X1 = X.loc[:,emb_cols].copy().values.astype(np.int64) #categorical columns\n",
        "        self.X2 = X.drop(columns=emb_cols).copy().values.astype(np.float32) #numerical columns\n",
        "        self.y = Y.copy().values.astype(np.int64)\n",
        "        \n",
        "    def __len__(self):\n",
        "        return len(self.y)\n",
        "    \n",
        "    def __getitem__(self, idx):\n",
        "        return self.X1[idx], self.X2[idx], self.y[idx]\n",
        " "
      ],
      "metadata": {
        "id": "t1UFarCebZ2C"
      },
      "execution_count": 98,
      "outputs": []
    },
    {
      "cell_type": "code",
      "source": [
        "from sklearn.preprocessing import LabelEncoder\n",
        "\n",
        "for col in X.columns:\n",
        "    if X.dtypes[col] == \"object\":\n",
        "        X[col] = X[col].fillna(\"NA\")\n",
        "    X[col] = LabelEncoder().fit_transform(X[col])"
      ],
      "metadata": {
        "id": "NrO0lCFjbhGl"
      },
      "execution_count": 99,
      "outputs": []
    },
    {
      "cell_type": "code",
      "source": [
        "train_ds = myCategoricalDataset(X, Y, emb_cols)\n",
        "valid_ds = myCategoricalDataset(X, Y, emb_cols)\n",
        "\n",
        "batch_size = 64\n",
        "train_dl = DataLoader(train_ds, batch_size=batch_size,shuffle=True)\n",
        "valid_dl = DataLoader(valid_ds, batch_size=batch_size,shuffle=True)"
      ],
      "metadata": {
        "id": "y4FI0_FJbk7R"
      },
      "execution_count": 100,
      "outputs": []
    },
    {
      "cell_type": "code",
      "source": [
        "class MoreComplexNN(nn.Module):\n",
        "    def __init__(self, embedding_sizes, n_cont):\n",
        "        super().__init__()\n",
        "        self.embeddings = nn.ModuleList([nn.Embedding(categories, size) for categories,size in embedding_sizes])\n",
        "        n_emb = sum(e.embedding_dim for e in self.embeddings) #length of all embeddings combined\n",
        "        self.n_emb, self.n_cont = n_emb, n_cont\n",
        "        self.lin1 = nn.Linear(self.n_emb + self.n_cont, 200)\n",
        "        self.lin2 = nn.Linear(200, 70)\n",
        "        self.lin3 = nn.Linear(70, 5)\n",
        "        self.bn1 = nn.BatchNorm1d(self.n_cont)\n",
        "        self.bn2 = nn.BatchNorm1d(200)\n",
        "        self.bn3 = nn.BatchNorm1d(70)\n",
        "        self.emb_drop = nn.Dropout(0.6)\n",
        "        self.drops = nn.Dropout(0.3)\n",
        "        \n",
        "\n",
        "    def forward(self, x_cat, x_cont):\n",
        "        x = [e(x_cat[:,i]) for i,e in enumerate(self.embeddings)]\n",
        "        x = torch.cat(x, 1)\n",
        "        x = self.emb_drop(x)\n",
        "        x2 = self.bn1(x_cont)\n",
        "        x = torch.cat([x, x2], 1)\n",
        "        x = F.relu(self.lin1(x))\n",
        "        x = self.drops(x)\n",
        "        x = self.bn2(x)\n",
        "        x = F.relu(self.lin2(x))\n",
        "        x = self.drops(x)\n",
        "        x = self.bn3(x)\n",
        "        x = self.lin3(x)\n",
        "        return x"
      ],
      "metadata": {
        "id": "BvrpOkIKboU4"
      },
      "execution_count": 101,
      "outputs": []
    },
    {
      "cell_type": "code",
      "source": [
        "\n",
        "def train_model(model, optim, train_dl):\n",
        "    model.train()\n",
        "    total = 0\n",
        "    sum_loss = 0\n",
        "    for x1, x2, labels in train_dl:\n",
        "        labels = labels.squeeze(-1)\n",
        "        batch = labels.shape[0]\n",
        "        output = model(x1, x2)\n",
        "        loss = F.cross_entropy(output, labels)   \n",
        "        optim.zero_grad()\n",
        "        loss.backward()\n",
        "        optim.step()\n",
        "        total += batch\n",
        "        sum_loss += batch*(loss.item())\n",
        "    return sum_loss/total"
      ],
      "metadata": {
        "id": "rEXurgkvbufs"
      },
      "execution_count": 102,
      "outputs": []
    },
    {
      "cell_type": "code",
      "source": [
        "\n",
        "def val_loss(model, valid_dl):\n",
        "    model.eval()\n",
        "    total = 0\n",
        "    sum_loss = 0\n",
        "    correct = 0\n",
        "    for x1, x2, labels in valid_dl:\n",
        "        current_batch_size = labels.shape[0]\n",
        "        labels = labels.squeeze(-1)\n",
        "        out = model(x1, x2)\n",
        "        loss = F.cross_entropy(out, labels)\n",
        "        sum_loss += current_batch_size*(loss.item())\n",
        "        total += current_batch_size\n",
        "        pred = torch.max(out, 1)[1]\n",
        "        correct += (pred == labels).float().sum().item()\n",
        "    print(\"valid loss %.3f and accuracy %.3f\" % (sum_loss/total, correct/total))\n",
        "    return sum_loss/total, correct/total"
      ],
      "metadata": {
        "id": "IZw-vyo2bxtA"
      },
      "execution_count": 103,
      "outputs": []
    },
    {
      "cell_type": "code",
      "source": [
        "def get_optimizer(model, lr = 0.001, wd = 0.0):\n",
        "    parameters = filter(lambda p: p.requires_grad, model.parameters())\n",
        "    optim = torch.optim.Adam(parameters, lr=lr, weight_decay=wd)\n",
        "    return optim\n"
      ],
      "metadata": {
        "id": "d9UW2_4nb7EG"
      },
      "execution_count": 104,
      "outputs": []
    },
    {
      "cell_type": "code",
      "source": [
        "def train_loop(model, epochs, lr=0.01, wd=0.0):\n",
        "  optim = get_optimizer(model, lr = lr, wd = wd)\n",
        "  for i in range(epochs):\n",
        "    loss = train_model(model, optim, train_dl)\n",
        "    print(\"training loss: \", loss)\n",
        "    val_loss(model, valid_dl)"
      ],
      "metadata": {
        "id": "pnyhfuOUb0zp"
      },
      "execution_count": 105,
      "outputs": []
    },
    {
      "cell_type": "code",
      "source": [
        "emb_szs"
      ],
      "metadata": {
        "id": "2dguHjc4dRBW",
        "outputId": "9a356e6a-8219-424e-9eaf-005d2cdec33a",
        "colab": {
          "base_uri": "https://localhost:8080/"
        }
      },
      "execution_count": 106,
      "outputs": [
        {
          "output_type": "execute_result",
          "data": {
            "text/plain": [
              "[(4, 2), (3, 2), (4, 2)]"
            ]
          },
          "metadata": {},
          "execution_count": 106
        }
      ]
    },
    {
      "cell_type": "code",
      "source": [
        "model = MoreComplexNN(emb_szs,len(num_columns))"
      ],
      "metadata": {
        "id": "epOCfzFecATI"
      },
      "execution_count": 107,
      "outputs": []
    },
    {
      "cell_type": "code",
      "source": [
        "\n",
        "train_loop(model, epochs=100, lr=0.01, wd=0.00001)\n"
      ],
      "metadata": {
        "id": "WU25znbab_C-",
        "outputId": "82e233aa-556b-4b32-9254-7071230e8ae5",
        "colab": {
          "base_uri": "https://localhost:8080/"
        }
      },
      "execution_count": 108,
      "outputs": [
        {
          "output_type": "stream",
          "name": "stdout",
          "text": [
            "training loss:  1.2373775190242078\n",
            "valid loss 0.877 and accuracy 0.769\n",
            "training loss:  0.7315991088731254\n",
            "valid loss 0.510 and accuracy 0.797\n",
            "training loss:  0.6159681166730211\n",
            "valid loss 0.476 and accuracy 0.779\n",
            "training loss:  0.5434801773190097\n",
            "valid loss 0.457 and accuracy 0.783\n",
            "training loss:  0.5009251669065987\n",
            "valid loss 0.434 and accuracy 0.809\n",
            "training loss:  0.5264859437674919\n",
            "valid loss 0.452 and accuracy 0.793\n",
            "training loss:  0.5249835931090795\n",
            "valid loss 0.449 and accuracy 0.804\n",
            "training loss:  0.49097037837160157\n",
            "valid loss 0.432 and accuracy 0.815\n",
            "training loss:  0.4998962767798491\n",
            "valid loss 0.428 and accuracy 0.825\n",
            "training loss:  0.4973072515326049\n",
            "valid loss 0.431 and accuracy 0.819\n",
            "training loss:  0.4975765111336671\n",
            "valid loss 0.415 and accuracy 0.840\n",
            "training loss:  0.4790880027175886\n",
            "valid loss 0.418 and accuracy 0.824\n",
            "training loss:  0.5026460023038717\n",
            "valid loss 0.436 and accuracy 0.814\n",
            "training loss:  0.50074155091838\n",
            "valid loss 0.419 and accuracy 0.816\n",
            "training loss:  0.5005615558956074\n",
            "valid loss 0.421 and accuracy 0.824\n",
            "training loss:  0.48669812772276694\n",
            "valid loss 0.418 and accuracy 0.815\n",
            "training loss:  0.47747861643297773\n",
            "valid loss 0.420 and accuracy 0.828\n",
            "training loss:  0.48595353987749446\n",
            "valid loss 0.418 and accuracy 0.818\n",
            "training loss:  0.5034983426365922\n",
            "valid loss 0.429 and accuracy 0.808\n",
            "training loss:  0.5185549428433548\n",
            "valid loss 0.422 and accuracy 0.831\n",
            "training loss:  0.47444012523634\n",
            "valid loss 0.410 and accuracy 0.837\n",
            "training loss:  0.4991857242236368\n",
            "valid loss 0.432 and accuracy 0.813\n",
            "training loss:  0.5042774553183889\n",
            "valid loss 0.407 and accuracy 0.836\n",
            "training loss:  0.4766722573040578\n",
            "valid loss 0.412 and accuracy 0.837\n",
            "training loss:  0.48218156021050734\n",
            "valid loss 0.408 and accuracy 0.827\n",
            "training loss:  0.48549694488479367\n",
            "valid loss 0.415 and accuracy 0.833\n",
            "training loss:  0.48484872376878657\n",
            "valid loss 0.405 and accuracy 0.824\n",
            "training loss:  0.48755560760144834\n",
            "valid loss 0.409 and accuracy 0.837\n",
            "training loss:  0.4905933883588857\n",
            "valid loss 0.403 and accuracy 0.827\n",
            "training loss:  0.47178756829464075\n",
            "valid loss 0.405 and accuracy 0.835\n",
            "training loss:  0.4858860791599175\n",
            "valid loss 0.413 and accuracy 0.831\n",
            "training loss:  0.4790283815494156\n",
            "valid loss 0.414 and accuracy 0.833\n",
            "training loss:  0.4814767187960889\n",
            "valid loss 0.400 and accuracy 0.836\n",
            "training loss:  0.4709509724184586\n",
            "valid loss 0.410 and accuracy 0.840\n",
            "training loss:  0.46281637380152574\n",
            "valid loss 0.397 and accuracy 0.837\n",
            "training loss:  0.47334493785327264\n",
            "valid loss 0.413 and accuracy 0.832\n",
            "training loss:  0.4754208348415516\n",
            "valid loss 0.405 and accuracy 0.835\n",
            "training loss:  0.5072207249508696\n",
            "valid loss 0.448 and accuracy 0.829\n",
            "training loss:  0.4677466946151254\n",
            "valid loss 0.398 and accuracy 0.817\n",
            "training loss:  0.472326382074827\n",
            "valid loss 0.411 and accuracy 0.835\n",
            "training loss:  0.47424868876417614\n",
            "valid loss 0.400 and accuracy 0.829\n",
            "training loss:  0.49928339804061733\n",
            "valid loss 0.421 and accuracy 0.824\n",
            "training loss:  0.4693851078265711\n",
            "valid loss 0.395 and accuracy 0.841\n",
            "training loss:  0.4847788286597105\n",
            "valid loss 0.399 and accuracy 0.837\n",
            "training loss:  0.4844361722937604\n",
            "valid loss 0.409 and accuracy 0.831\n",
            "training loss:  0.47835920190837916\n",
            "valid loss 0.406 and accuracy 0.829\n",
            "training loss:  0.49731894702087215\n",
            "valid loss 0.410 and accuracy 0.834\n",
            "training loss:  0.48073266699124134\n",
            "valid loss 0.410 and accuracy 0.836\n",
            "training loss:  0.494888382394172\n",
            "valid loss 0.405 and accuracy 0.829\n",
            "training loss:  0.47824313490746667\n",
            "valid loss 0.406 and accuracy 0.836\n",
            "training loss:  0.4674618550221928\n",
            "valid loss 0.411 and accuracy 0.832\n",
            "training loss:  0.48177182226202436\n",
            "valid loss 0.407 and accuracy 0.831\n",
            "training loss:  0.5034855214835016\n",
            "valid loss 0.409 and accuracy 0.833\n",
            "training loss:  0.46321353781236674\n",
            "valid loss 0.405 and accuracy 0.832\n",
            "training loss:  0.46921749170514204\n",
            "valid loss 0.400 and accuracy 0.833\n",
            "training loss:  0.4651326442139451\n",
            "valid loss 0.407 and accuracy 0.835\n",
            "training loss:  0.4998898717557006\n",
            "valid loss 0.404 and accuracy 0.835\n",
            "training loss:  0.47167551604451824\n",
            "valid loss 0.397 and accuracy 0.832\n",
            "training loss:  0.4679209515034283\n",
            "valid loss 0.393 and accuracy 0.837\n",
            "training loss:  0.493686293110703\n",
            "valid loss 0.408 and accuracy 0.823\n",
            "training loss:  0.47639101486147184\n",
            "valid loss 0.409 and accuracy 0.836\n",
            "training loss:  0.4924001464940081\n",
            "valid loss 0.410 and accuracy 0.827\n",
            "training loss:  0.46854501982730645\n",
            "valid loss 0.396 and accuracy 0.836\n",
            "training loss:  0.4599096115122473\n",
            "valid loss 0.409 and accuracy 0.825\n",
            "training loss:  0.47631796783068364\n",
            "valid loss 0.393 and accuracy 0.840\n",
            "training loss:  0.4789843737209419\n",
            "valid loss 0.394 and accuracy 0.838\n",
            "training loss:  0.4663038903347705\n",
            "valid loss 0.408 and accuracy 0.840\n",
            "training loss:  0.5070149402158162\n",
            "valid loss 0.415 and accuracy 0.816\n",
            "training loss:  0.4843434818532197\n",
            "valid loss 0.411 and accuracy 0.837\n",
            "training loss:  0.4715375003523029\n",
            "valid loss 0.394 and accuracy 0.837\n",
            "training loss:  0.47983289453985983\n",
            "valid loss 0.396 and accuracy 0.837\n",
            "training loss:  0.47307531627607935\n",
            "valid loss 0.405 and accuracy 0.833\n",
            "training loss:  0.48993875639874795\n",
            "valid loss 0.398 and accuracy 0.835\n",
            "training loss:  0.5013148014994984\n",
            "valid loss 0.408 and accuracy 0.824\n",
            "training loss:  0.477603038352748\n",
            "valid loss 0.408 and accuracy 0.838\n",
            "training loss:  0.47913758552034297\n",
            "valid loss 0.403 and accuracy 0.818\n",
            "training loss:  0.4629305130169715\n",
            "valid loss 0.399 and accuracy 0.840\n",
            "training loss:  0.48292296683346786\n",
            "valid loss 0.394 and accuracy 0.833\n",
            "training loss:  0.4890401837333418\n",
            "valid loss 0.400 and accuracy 0.831\n",
            "training loss:  0.4599842607439835\n",
            "valid loss 0.390 and accuracy 0.842\n",
            "training loss:  0.478287171802403\n",
            "valid loss 0.393 and accuracy 0.844\n",
            "training loss:  0.4687788329943262\n",
            "valid loss 0.395 and accuracy 0.836\n",
            "training loss:  0.48421319840866844\n",
            "valid loss 0.401 and accuracy 0.836\n",
            "training loss:  0.4675750623715312\n",
            "valid loss 0.394 and accuracy 0.842\n",
            "training loss:  0.4699125318682421\n",
            "valid loss 0.389 and accuracy 0.836\n",
            "training loss:  0.47392976116786234\n",
            "valid loss 0.389 and accuracy 0.835\n",
            "training loss:  0.4812291214361737\n",
            "valid loss 0.396 and accuracy 0.838\n",
            "training loss:  0.48391476069502826\n",
            "valid loss 0.397 and accuracy 0.844\n",
            "training loss:  0.4678467870695155\n",
            "valid loss 0.391 and accuracy 0.850\n",
            "training loss:  0.45960018677609804\n",
            "valid loss 0.384 and accuracy 0.838\n",
            "training loss:  0.4648737917109638\n",
            "valid loss 0.404 and accuracy 0.835\n",
            "training loss:  0.46280366453257477\n",
            "valid loss 0.382 and accuracy 0.840\n",
            "training loss:  0.4706530286339932\n",
            "valid loss 0.399 and accuracy 0.843\n",
            "training loss:  0.4654505029404337\n",
            "valid loss 0.384 and accuracy 0.837\n",
            "training loss:  0.47968147141497275\n",
            "valid loss 0.392 and accuracy 0.838\n",
            "training loss:  0.48613767150275233\n",
            "valid loss 0.402 and accuracy 0.836\n",
            "training loss:  0.4619825963353201\n",
            "valid loss 0.391 and accuracy 0.843\n",
            "training loss:  0.4647793897273966\n",
            "valid loss 0.393 and accuracy 0.831\n",
            "training loss:  0.47244153343199613\n",
            "valid loss 0.393 and accuracy 0.843\n",
            "training loss:  0.4779981991859398\n",
            "valid loss 0.388 and accuracy 0.834\n"
          ]
        }
      ]
    },
    {
      "cell_type": "markdown",
      "metadata": {
        "id": "n-V2810AYazY"
      },
      "source": [
        "# Convolutional Neural Network (CNN)\n",
        "\n",
        "- The fully connected network can function as a universal approximator, but we don't know how long it will take to train it to become a good approximation \n",
        "- In particular, for images it could be interesting to capture locality and translation invariance\n",
        "  - Check the nearby pixels to recognize objects \n",
        "  - It leverages the position of the pixels that is completely destroyed in a 1 dimensional array\n",
        "  - tadaaa convolution: scalar product of a weight matrix (kernel) with every neighborhood in the input.\n"
      ]
    },
    {
      "cell_type": "code",
      "metadata": {
        "id": "u-4pi5VLaTgi"
      },
      "source": [
        "\n",
        "from sklearn.datasets import fetch_openml\n",
        "mnist = fetch_openml('mnist_784', version=1, cache=True, as_frame=False)\n",
        "\n",
        "X = mnist[\"data\"]\n",
        "y = mnist[\"target\"].astype(np.uint8)\n",
        "\n",
        "X_train = X[:50000]\n",
        "y_train = y[:50000]\n",
        "\n",
        "X_val = X[50000:60000]\n",
        "y_val = y[50000:60000]\n",
        "\n",
        "X_test = X[60000:]\n",
        "y_test = y[60000:]"
      ],
      "execution_count": null,
      "outputs": []
    },
    {
      "cell_type": "code",
      "source": [
        "x_train_tensor.shape"
      ],
      "metadata": {
        "id": "WsuX6CT3JRII",
        "outputId": "5c8791c7-6d5a-494a-de79-b2db808238ed",
        "colab": {
          "base_uri": "https://localhost:8080/"
        }
      },
      "execution_count": null,
      "outputs": [
        {
          "output_type": "execute_result",
          "data": {
            "text/plain": [
              "torch.Size([50000, 784])"
            ]
          },
          "metadata": {},
          "execution_count": 77
        }
      ]
    },
    {
      "cell_type": "code",
      "metadata": {
        "id": "XYX6FC76ad3R"
      },
      "source": [
        "from torch.utils.data import TensorDataset\n",
        "from torch.utils.data import DataLoader\n",
        "\n",
        "batch_size = 32 \n",
        "train_ds = TensorDataset(x_train_tensor, y_train_tensor)\n",
        "train_dl = DataLoader(\n",
        "    train_ds, batch_size=batch_size, shuffle=True)\n",
        "\n",
        "val_ds = TensorDataset(x_val_tensor, y_val_tensor)\n",
        "val_dl = DataLoader(\n",
        "    val_ds, batch_size=batch_size, shuffle=True)\n",
        "\n",
        "\n",
        "test_ds = TensorDataset(x_test_tensor, y_test_tensor)\n",
        "test_dl = DataLoader(test_ds, batch_size=batch_size)\n"
      ],
      "execution_count": null,
      "outputs": []
    },
    {
      "cell_type": "markdown",
      "metadata": {
        "id": "-rzuadYSWj0z"
      },
      "source": [
        "Convolution parameters: \n",
        "- ```in_channel``` is the number of input channels (1 for grey images, 3 for rgb)\n",
        "- ```out_channel``` the number of output channels\n",
        "- ```kernel_size``` eight and width of the kernel filter, if only one value is passed then eight = width \n",
        "- ```stride``` how many steps across the input we move when we adjust the filter to a new position\n",
        "- ```padding``` it can happen that we don't have enough elements in our input to do a full convolution. In these cases, the empty values are filled with the ```padding``` values"
      ]
    },
    {
      "cell_type": "markdown",
      "metadata": {
        "id": "y73tNrQ2Xud_"
      },
      "source": [
        "Pooling layers, they reduce the resolution of the network from the previous input layer, therefore fewer parameters in the lower layers. \n",
        "- Faster computation\n",
        "- it helps to prevent overfitting\n",
        "\n",
        "There is also a ```padding``` option here. "
      ]
    },
    {
      "cell_type": "code",
      "metadata": {
        "id": "rql6I9v8XgGh"
      },
      "source": [
        "class CNN(nn.Module):\n",
        "    def __init__(self):\n",
        "        super(CNN, self).__init__()\n",
        "\n",
        "        # Convolution 1\n",
        "        self.cnn1 = nn.Conv2d(in_channels=1, out_channels=16,\n",
        "                              kernel_size=3, stride=1, padding=0)\n",
        "        self.relu1 = nn.ReLU()\n",
        "\n",
        "        # Max pool 1\n",
        "        self.maxpool1 = nn.MaxPool2d(kernel_size=2)\n",
        "\n",
        "        # Convolution 2\n",
        "        self.cnn2 = nn.Conv2d(in_channels=16, out_channels=32,\n",
        "                              kernel_size=3, stride=1, padding=0)\n",
        "        self.relu2 = nn.ReLU()\n",
        "\n",
        "        # Max pool 2\n",
        "        self.maxpool2 = nn.MaxPool2d(kernel_size=2)\n",
        "\n",
        "        # Fully connected 1\n",
        "        self.fc1 = nn.Linear(32 * 5 * 5, 10)\n",
        "\n",
        "    def forward(self, x, to_print=False):\n",
        "        # Set 1\n",
        "        if to_print:\n",
        "          print('INPUT',x.shape)\n",
        "        out = self.cnn1(x)\n",
        "        if to_print:\n",
        "          print('CNN1',out.shape)\n",
        "        out = self.relu1(out)\n",
        "        out = self.maxpool1(out)\n",
        "        if to_print:\n",
        "          print('MAXPOOL1',out.shape)\n",
        "\n",
        "        # Set 2\n",
        "        out = self.cnn2(out)\n",
        "        if to_print:\n",
        "          print('CNN2',out.shape)\n",
        "\n",
        "        out = self.relu2(out)\n",
        "\n",
        "        out = self.maxpool2(out)\n",
        "        if to_print:\n",
        "          print(\"after the 2nd maxpool:{} \".format(out.shape))\n",
        "        # Flatten\n",
        "        out = out.view(out.size(0), -1)\n",
        "        if to_print:\n",
        "          print(\"after the flatten:{} \".format(out.shape))\n",
        "        out = self.fc1(out)\n",
        "        if to_print:\n",
        "          print('FINAL',out.shape)\n",
        "\n",
        "        return out"
      ],
      "execution_count": null,
      "outputs": []
    },
    {
      "cell_type": "code",
      "metadata": {
        "id": "IdZjenirdWec"
      },
      "source": [
        "## few changes to the train function used above. \n",
        "\n",
        "def train(model, optimizer, loss_fn, train_loader, val_loader, epochs=20, device=\"cpu\",to_print=False):\n",
        "    for epoch in range(1, epochs+1):\n",
        "        training_loss = 0.0\n",
        "        valid_loss = 0.0\n",
        "        model.train()\n",
        "        for batch in train_loader:\n",
        "            optimizer.zero_grad() # clear gradients for next train\n",
        "            inputs, targets = batch\n",
        "            inputs = inputs.to(device)\n",
        "            targets = targets.to(device)\n",
        "            output = model(inputs,to_print)\n",
        "            loss = loss_fn(output, targets)\n",
        "            loss.backward() # backpropagation, compute gradients\n",
        "            optimizer.step() # apply gradients\n",
        "            training_loss += loss.data.item() * inputs.size(0)\n",
        "            # print(training_loss,loss.data.item(),inputs.size(0))\n",
        "            if to_print:\n",
        "              break\n",
        "        training_loss /= len(train_loader.dataset)\n",
        "        if to_print:\n",
        "          break\n",
        "        with torch.no_grad():\n",
        "          model.eval()\n",
        "          num_correct = 0 \n",
        "          num_examples = 0\n",
        "          for batch in val_loader:\n",
        "              inputs, targets = batch\n",
        "              inputs = inputs.to(device)\n",
        "              output = model(inputs)\n",
        "              targets = targets.to(device)\n",
        "              loss = loss_fn(output,targets) \n",
        "              valid_loss += loss.data.item() * inputs.size(0)\n",
        "              correct = torch.eq(torch.max(F.softmax(output, dim=1), dim=1)[1], targets)\n",
        "              num_correct += torch.sum(correct).item()\n",
        "              num_examples += correct.shape[0]\n",
        "          valid_loss /= len(val_loader.dataset)\n",
        "\n",
        "        print('Epoch: {}, Training Loss: {:.4f}, Validation Loss: {:.4f}, accuracy = {:.4f}'.format(epoch, training_loss,\n",
        "        valid_loss, num_correct / num_examples))"
      ],
      "execution_count": null,
      "outputs": []
    },
    {
      "cell_type": "code",
      "metadata": {
        "colab": {
          "base_uri": "https://localhost:8080/",
          "height": 346
        },
        "id": "8znMf8E8aBm3",
        "outputId": "19da8d03-b0a0-4ac7-9a9c-c1473c5d2bab"
      },
      "source": [
        "cnn = CNN()\n",
        "optimizer = optim.SGD(cnn.parameters(),lr=0.001)\n",
        "train(cnn, optimizer,torch.nn.CrossEntropyLoss(), train_dl,val_dl, epochs=5)"
      ],
      "execution_count": null,
      "outputs": [
        {
          "output_type": "error",
          "ename": "RuntimeError",
          "evalue": "ignored",
          "traceback": [
            "\u001b[0;31m---------------------------------------------------------------------------\u001b[0m",
            "\u001b[0;31mRuntimeError\u001b[0m                              Traceback (most recent call last)",
            "\u001b[0;32m<ipython-input-76-fa4ddee6f810>\u001b[0m in \u001b[0;36m<module>\u001b[0;34m()\u001b[0m\n\u001b[1;32m      1\u001b[0m \u001b[0mcnn\u001b[0m \u001b[0;34m=\u001b[0m \u001b[0mCNN\u001b[0m\u001b[0;34m(\u001b[0m\u001b[0;34m)\u001b[0m\u001b[0;34m\u001b[0m\u001b[0;34m\u001b[0m\u001b[0m\n\u001b[1;32m      2\u001b[0m \u001b[0moptimizer\u001b[0m \u001b[0;34m=\u001b[0m \u001b[0moptim\u001b[0m\u001b[0;34m.\u001b[0m\u001b[0mSGD\u001b[0m\u001b[0;34m(\u001b[0m\u001b[0mcnn\u001b[0m\u001b[0;34m.\u001b[0m\u001b[0mparameters\u001b[0m\u001b[0;34m(\u001b[0m\u001b[0;34m)\u001b[0m\u001b[0;34m,\u001b[0m\u001b[0mlr\u001b[0m\u001b[0;34m=\u001b[0m\u001b[0;36m0.001\u001b[0m\u001b[0;34m)\u001b[0m\u001b[0;34m\u001b[0m\u001b[0;34m\u001b[0m\u001b[0m\n\u001b[0;32m----> 3\u001b[0;31m \u001b[0mtrain\u001b[0m\u001b[0;34m(\u001b[0m\u001b[0mcnn\u001b[0m\u001b[0;34m,\u001b[0m \u001b[0moptimizer\u001b[0m\u001b[0;34m,\u001b[0m\u001b[0mtorch\u001b[0m\u001b[0;34m.\u001b[0m\u001b[0mnn\u001b[0m\u001b[0;34m.\u001b[0m\u001b[0mCrossEntropyLoss\u001b[0m\u001b[0;34m(\u001b[0m\u001b[0;34m)\u001b[0m\u001b[0;34m,\u001b[0m \u001b[0mtrain_dl\u001b[0m\u001b[0;34m,\u001b[0m\u001b[0mval_dl\u001b[0m\u001b[0;34m,\u001b[0m \u001b[0mepochs\u001b[0m\u001b[0;34m=\u001b[0m\u001b[0;36m5\u001b[0m\u001b[0;34m)\u001b[0m\u001b[0;34m\u001b[0m\u001b[0;34m\u001b[0m\u001b[0m\n\u001b[0m",
            "\u001b[0;32m<ipython-input-75-3a2b6e0d75a4>\u001b[0m in \u001b[0;36mtrain\u001b[0;34m(model, optimizer, loss_fn, train_loader, val_loader, epochs, device, to_print)\u001b[0m\n\u001b[1;32m     11\u001b[0m             \u001b[0minputs\u001b[0m \u001b[0;34m=\u001b[0m \u001b[0minputs\u001b[0m\u001b[0;34m.\u001b[0m\u001b[0mto\u001b[0m\u001b[0;34m(\u001b[0m\u001b[0mdevice\u001b[0m\u001b[0;34m)\u001b[0m\u001b[0;34m\u001b[0m\u001b[0;34m\u001b[0m\u001b[0m\n\u001b[1;32m     12\u001b[0m             \u001b[0mtargets\u001b[0m \u001b[0;34m=\u001b[0m \u001b[0mtargets\u001b[0m\u001b[0;34m.\u001b[0m\u001b[0mto\u001b[0m\u001b[0;34m(\u001b[0m\u001b[0mdevice\u001b[0m\u001b[0;34m)\u001b[0m\u001b[0;34m\u001b[0m\u001b[0;34m\u001b[0m\u001b[0m\n\u001b[0;32m---> 13\u001b[0;31m             \u001b[0moutput\u001b[0m \u001b[0;34m=\u001b[0m \u001b[0mmodel\u001b[0m\u001b[0;34m(\u001b[0m\u001b[0minputs\u001b[0m\u001b[0;34m,\u001b[0m\u001b[0mto_print\u001b[0m\u001b[0;34m)\u001b[0m\u001b[0;34m\u001b[0m\u001b[0;34m\u001b[0m\u001b[0m\n\u001b[0m\u001b[1;32m     14\u001b[0m             \u001b[0mloss\u001b[0m \u001b[0;34m=\u001b[0m \u001b[0mloss_fn\u001b[0m\u001b[0;34m(\u001b[0m\u001b[0moutput\u001b[0m\u001b[0;34m,\u001b[0m \u001b[0mtargets\u001b[0m\u001b[0;34m)\u001b[0m\u001b[0;34m\u001b[0m\u001b[0;34m\u001b[0m\u001b[0m\n\u001b[1;32m     15\u001b[0m             \u001b[0mloss\u001b[0m\u001b[0;34m.\u001b[0m\u001b[0mbackward\u001b[0m\u001b[0;34m(\u001b[0m\u001b[0;34m)\u001b[0m \u001b[0;31m# backpropagation, compute gradients\u001b[0m\u001b[0;34m\u001b[0m\u001b[0;34m\u001b[0m\u001b[0m\n",
            "\u001b[0;32m/usr/local/lib/python3.7/dist-packages/torch/nn/modules/module.py\u001b[0m in \u001b[0;36m_call_impl\u001b[0;34m(self, *input, **kwargs)\u001b[0m\n\u001b[1;32m    887\u001b[0m             \u001b[0mresult\u001b[0m \u001b[0;34m=\u001b[0m \u001b[0mself\u001b[0m\u001b[0;34m.\u001b[0m\u001b[0m_slow_forward\u001b[0m\u001b[0;34m(\u001b[0m\u001b[0;34m*\u001b[0m\u001b[0minput\u001b[0m\u001b[0;34m,\u001b[0m \u001b[0;34m**\u001b[0m\u001b[0mkwargs\u001b[0m\u001b[0;34m)\u001b[0m\u001b[0;34m\u001b[0m\u001b[0;34m\u001b[0m\u001b[0m\n\u001b[1;32m    888\u001b[0m         \u001b[0;32melse\u001b[0m\u001b[0;34m:\u001b[0m\u001b[0;34m\u001b[0m\u001b[0;34m\u001b[0m\u001b[0m\n\u001b[0;32m--> 889\u001b[0;31m             \u001b[0mresult\u001b[0m \u001b[0;34m=\u001b[0m \u001b[0mself\u001b[0m\u001b[0;34m.\u001b[0m\u001b[0mforward\u001b[0m\u001b[0;34m(\u001b[0m\u001b[0;34m*\u001b[0m\u001b[0minput\u001b[0m\u001b[0;34m,\u001b[0m \u001b[0;34m**\u001b[0m\u001b[0mkwargs\u001b[0m\u001b[0;34m)\u001b[0m\u001b[0;34m\u001b[0m\u001b[0;34m\u001b[0m\u001b[0m\n\u001b[0m\u001b[1;32m    890\u001b[0m         for hook in itertools.chain(\n\u001b[1;32m    891\u001b[0m                 \u001b[0m_global_forward_hooks\u001b[0m\u001b[0;34m.\u001b[0m\u001b[0mvalues\u001b[0m\u001b[0;34m(\u001b[0m\u001b[0;34m)\u001b[0m\u001b[0;34m,\u001b[0m\u001b[0;34m\u001b[0m\u001b[0;34m\u001b[0m\u001b[0m\n",
            "\u001b[0;32m<ipython-input-74-a9d55d6a2fe2>\u001b[0m in \u001b[0;36mforward\u001b[0;34m(self, x, to_print)\u001b[0m\n\u001b[1;32m     26\u001b[0m         \u001b[0;32mif\u001b[0m \u001b[0mto_print\u001b[0m\u001b[0;34m:\u001b[0m\u001b[0;34m\u001b[0m\u001b[0;34m\u001b[0m\u001b[0m\n\u001b[1;32m     27\u001b[0m           \u001b[0mprint\u001b[0m\u001b[0;34m(\u001b[0m\u001b[0;34m'INPUT'\u001b[0m\u001b[0;34m,\u001b[0m\u001b[0mx\u001b[0m\u001b[0;34m.\u001b[0m\u001b[0mshape\u001b[0m\u001b[0;34m)\u001b[0m\u001b[0;34m\u001b[0m\u001b[0;34m\u001b[0m\u001b[0m\n\u001b[0;32m---> 28\u001b[0;31m         \u001b[0mout\u001b[0m \u001b[0;34m=\u001b[0m \u001b[0mself\u001b[0m\u001b[0;34m.\u001b[0m\u001b[0mcnn1\u001b[0m\u001b[0;34m(\u001b[0m\u001b[0mx\u001b[0m\u001b[0;34m)\u001b[0m\u001b[0;34m\u001b[0m\u001b[0;34m\u001b[0m\u001b[0m\n\u001b[0m\u001b[1;32m     29\u001b[0m         \u001b[0;32mif\u001b[0m \u001b[0mto_print\u001b[0m\u001b[0;34m:\u001b[0m\u001b[0;34m\u001b[0m\u001b[0;34m\u001b[0m\u001b[0m\n\u001b[1;32m     30\u001b[0m           \u001b[0mprint\u001b[0m\u001b[0;34m(\u001b[0m\u001b[0;34m'CNN1'\u001b[0m\u001b[0;34m,\u001b[0m\u001b[0mout\u001b[0m\u001b[0;34m.\u001b[0m\u001b[0mshape\u001b[0m\u001b[0;34m)\u001b[0m\u001b[0;34m\u001b[0m\u001b[0;34m\u001b[0m\u001b[0m\n",
            "\u001b[0;32m/usr/local/lib/python3.7/dist-packages/torch/nn/modules/module.py\u001b[0m in \u001b[0;36m_call_impl\u001b[0;34m(self, *input, **kwargs)\u001b[0m\n\u001b[1;32m    887\u001b[0m             \u001b[0mresult\u001b[0m \u001b[0;34m=\u001b[0m \u001b[0mself\u001b[0m\u001b[0;34m.\u001b[0m\u001b[0m_slow_forward\u001b[0m\u001b[0;34m(\u001b[0m\u001b[0;34m*\u001b[0m\u001b[0minput\u001b[0m\u001b[0;34m,\u001b[0m \u001b[0;34m**\u001b[0m\u001b[0mkwargs\u001b[0m\u001b[0;34m)\u001b[0m\u001b[0;34m\u001b[0m\u001b[0;34m\u001b[0m\u001b[0m\n\u001b[1;32m    888\u001b[0m         \u001b[0;32melse\u001b[0m\u001b[0;34m:\u001b[0m\u001b[0;34m\u001b[0m\u001b[0;34m\u001b[0m\u001b[0m\n\u001b[0;32m--> 889\u001b[0;31m             \u001b[0mresult\u001b[0m \u001b[0;34m=\u001b[0m \u001b[0mself\u001b[0m\u001b[0;34m.\u001b[0m\u001b[0mforward\u001b[0m\u001b[0;34m(\u001b[0m\u001b[0;34m*\u001b[0m\u001b[0minput\u001b[0m\u001b[0;34m,\u001b[0m \u001b[0;34m**\u001b[0m\u001b[0mkwargs\u001b[0m\u001b[0;34m)\u001b[0m\u001b[0;34m\u001b[0m\u001b[0;34m\u001b[0m\u001b[0m\n\u001b[0m\u001b[1;32m    890\u001b[0m         for hook in itertools.chain(\n\u001b[1;32m    891\u001b[0m                 \u001b[0m_global_forward_hooks\u001b[0m\u001b[0;34m.\u001b[0m\u001b[0mvalues\u001b[0m\u001b[0;34m(\u001b[0m\u001b[0;34m)\u001b[0m\u001b[0;34m,\u001b[0m\u001b[0;34m\u001b[0m\u001b[0;34m\u001b[0m\u001b[0m\n",
            "\u001b[0;32m/usr/local/lib/python3.7/dist-packages/torch/nn/modules/conv.py\u001b[0m in \u001b[0;36mforward\u001b[0;34m(self, input)\u001b[0m\n\u001b[1;32m    397\u001b[0m \u001b[0;34m\u001b[0m\u001b[0m\n\u001b[1;32m    398\u001b[0m     \u001b[0;32mdef\u001b[0m \u001b[0mforward\u001b[0m\u001b[0;34m(\u001b[0m\u001b[0mself\u001b[0m\u001b[0;34m,\u001b[0m \u001b[0minput\u001b[0m\u001b[0;34m:\u001b[0m \u001b[0mTensor\u001b[0m\u001b[0;34m)\u001b[0m \u001b[0;34m->\u001b[0m \u001b[0mTensor\u001b[0m\u001b[0;34m:\u001b[0m\u001b[0;34m\u001b[0m\u001b[0;34m\u001b[0m\u001b[0m\n\u001b[0;32m--> 399\u001b[0;31m         \u001b[0;32mreturn\u001b[0m \u001b[0mself\u001b[0m\u001b[0;34m.\u001b[0m\u001b[0m_conv_forward\u001b[0m\u001b[0;34m(\u001b[0m\u001b[0minput\u001b[0m\u001b[0;34m,\u001b[0m \u001b[0mself\u001b[0m\u001b[0;34m.\u001b[0m\u001b[0mweight\u001b[0m\u001b[0;34m,\u001b[0m \u001b[0mself\u001b[0m\u001b[0;34m.\u001b[0m\u001b[0mbias\u001b[0m\u001b[0;34m)\u001b[0m\u001b[0;34m\u001b[0m\u001b[0;34m\u001b[0m\u001b[0m\n\u001b[0m\u001b[1;32m    400\u001b[0m \u001b[0;34m\u001b[0m\u001b[0m\n\u001b[1;32m    401\u001b[0m \u001b[0;32mclass\u001b[0m \u001b[0mConv3d\u001b[0m\u001b[0;34m(\u001b[0m\u001b[0m_ConvNd\u001b[0m\u001b[0;34m)\u001b[0m\u001b[0;34m:\u001b[0m\u001b[0;34m\u001b[0m\u001b[0;34m\u001b[0m\u001b[0m\n",
            "\u001b[0;32m/usr/local/lib/python3.7/dist-packages/torch/nn/modules/conv.py\u001b[0m in \u001b[0;36m_conv_forward\u001b[0;34m(self, input, weight, bias)\u001b[0m\n\u001b[1;32m    394\u001b[0m                             _pair(0), self.dilation, self.groups)\n\u001b[1;32m    395\u001b[0m         return F.conv2d(input, weight, bias, self.stride,\n\u001b[0;32m--> 396\u001b[0;31m                         self.padding, self.dilation, self.groups)\n\u001b[0m\u001b[1;32m    397\u001b[0m \u001b[0;34m\u001b[0m\u001b[0m\n\u001b[1;32m    398\u001b[0m     \u001b[0;32mdef\u001b[0m \u001b[0mforward\u001b[0m\u001b[0;34m(\u001b[0m\u001b[0mself\u001b[0m\u001b[0;34m,\u001b[0m \u001b[0minput\u001b[0m\u001b[0;34m:\u001b[0m \u001b[0mTensor\u001b[0m\u001b[0;34m)\u001b[0m \u001b[0;34m->\u001b[0m \u001b[0mTensor\u001b[0m\u001b[0;34m:\u001b[0m\u001b[0;34m\u001b[0m\u001b[0;34m\u001b[0m\u001b[0m\n",
            "\u001b[0;31mRuntimeError\u001b[0m: Expected 4-dimensional input for 4-dimensional weight [16, 1, 3, 3], but got 2-dimensional input of size [32, 784] instead"
          ]
        }
      ]
    },
    {
      "cell_type": "code",
      "metadata": {
        "id": "IEUZhahna2a3"
      },
      "source": [
        "batch_size = 32 \n",
        "train_ds = TensorDataset(x_train_tensor.reshape(-1,1,28,28), y_train_tensor)\n",
        "train_dl = DataLoader(\n",
        "    train_ds, batch_size=batch_size, shuffle=True)\n",
        "\n",
        "val_ds = TensorDataset(x_val_tensor.reshape(-1,1,28,28), y_val_tensor)\n",
        "val_dl = DataLoader(\n",
        "    val_ds, batch_size=batch_size, shuffle=True)\n",
        "\n",
        "\n",
        "test_ds = TensorDataset(x_test_tensor.reshape(-1,1,28,28), y_test_tensor)\n",
        "test_dl = DataLoader(test_ds, batch_size=batch_size)"
      ],
      "execution_count": null,
      "outputs": []
    },
    {
      "cell_type": "code",
      "source": [
        "x_train_tensor.reshape(-1,1,28,28).shape"
      ],
      "metadata": {
        "id": "qznEEqPgJki0"
      },
      "execution_count": null,
      "outputs": []
    },
    {
      "cell_type": "code",
      "metadata": {
        "colab": {
          "base_uri": "https://localhost:8080/"
        },
        "id": "OaxKPTurbSzl",
        "outputId": "7602c635-5241-4a9d-8d41-1fda9da66cd8"
      },
      "source": [
        "cnn = CNN()\n",
        "optimizer = optim.Adam(cnn.parameters(),lr=0.001)\n",
        "train(cnn, optimizer,torch.nn.CrossEntropyLoss(), train_dl,val_dl, epochs=5,to_print=True)"
      ],
      "execution_count": null,
      "outputs": [
        {
          "output_type": "stream",
          "name": "stdout",
          "text": [
            "INPUT torch.Size([32, 1, 28, 28])\n",
            "CNN1 torch.Size([32, 16, 26, 26])\n",
            "MAXPOOL1 torch.Size([32, 16, 13, 13])\n",
            "CNN2 torch.Size([32, 32, 11, 11])\n",
            "after the 2nd maxpool:torch.Size([32, 32, 5, 5]) \n",
            "after the flatten:torch.Size([32, 800]) \n",
            "FINAL torch.Size([32, 10])\n"
          ]
        }
      ]
    },
    {
      "cell_type": "markdown",
      "metadata": {
        "id": "VQzTp4cxprqU"
      },
      "source": [
        "# Recurrent Neural Networks\n",
        "\n",
        "- CNNs don't have the concept of _memory_\n",
        "- This is a crucial when we deal with data that have a temporal domain: a sequence of events: text, speech, vide, time-series data, etc. \n",
        "- The RNNs try to solve this problem with a *hidden state*\n",
        "- We can imagine a RNN as a pipeline of fully connected layers network, where the succesive input being fed into the next layer in the sequence\n",
        "- Then the error is back propagated through the RNN --> _vanishing gradient_\n",
        "- A possible solution: Long Short-term Memory, a variant of RNN\n",
        " "
      ]
    },
    {
      "cell_type": "code",
      "source": [
        "\n",
        "!pip install -U torch==1.8.0 torchtext==0.9.0"
      ],
      "metadata": {
        "id": "DcBYVa-rUZOo",
        "outputId": "32a534d5-f28d-4cd4-8e79-a9199aa83e70",
        "colab": {
          "base_uri": "https://localhost:8080/"
        }
      },
      "execution_count": null,
      "outputs": [
        {
          "output_type": "stream",
          "name": "stdout",
          "text": [
            "Looking in indexes: https://pypi.org/simple, https://us-python.pkg.dev/colab-wheels/public/simple/\n",
            "Requirement already satisfied: torch==1.8.0 in /usr/local/lib/python3.7/dist-packages (1.8.0)\n",
            "Requirement already satisfied: torchtext==0.9.0 in /usr/local/lib/python3.7/dist-packages (0.9.0)\n",
            "Requirement already satisfied: numpy in /usr/local/lib/python3.7/dist-packages (from torch==1.8.0) (1.21.6)\n",
            "Requirement already satisfied: typing-extensions in /usr/local/lib/python3.7/dist-packages (from torch==1.8.0) (4.1.1)\n",
            "Requirement already satisfied: requests in /usr/local/lib/python3.7/dist-packages (from torchtext==0.9.0) (2.23.0)\n",
            "Requirement already satisfied: tqdm in /usr/local/lib/python3.7/dist-packages (from torchtext==0.9.0) (4.64.0)\n",
            "Requirement already satisfied: chardet<4,>=3.0.2 in /usr/local/lib/python3.7/dist-packages (from requests->torchtext==0.9.0) (3.0.4)\n",
            "Requirement already satisfied: certifi>=2017.4.17 in /usr/local/lib/python3.7/dist-packages (from requests->torchtext==0.9.0) (2022.6.15)\n",
            "Requirement already satisfied: urllib3!=1.25.0,!=1.25.1,<1.26,>=1.21.1 in /usr/local/lib/python3.7/dist-packages (from requests->torchtext==0.9.0) (1.24.3)\n",
            "Requirement already satisfied: idna<3,>=2.5 in /usr/local/lib/python3.7/dist-packages (from requests->torchtext==0.9.0) (2.10)\n"
          ]
        }
      ]
    },
    {
      "cell_type": "code",
      "metadata": {
        "id": "Wir7s_yOr0Tq"
      },
      "source": [
        "\n",
        "import torchtext\n",
        "from torchtext.legacy import data\n",
        "import pandas as pd"
      ],
      "execution_count": null,
      "outputs": []
    },
    {
      "cell_type": "code",
      "source": [
        "torchtext.__version__"
      ],
      "metadata": {
        "id": "yPNwsMU0TCVv",
        "outputId": "0678d257-b416-4da4-dca0-7eadf019f2c1",
        "colab": {
          "base_uri": "https://localhost:8080/",
          "height": 35
        }
      },
      "execution_count": null,
      "outputs": [
        {
          "output_type": "execute_result",
          "data": {
            "text/plain": [
              "'0.9.0'"
            ],
            "application/vnd.google.colaboratory.intrinsic+json": {
              "type": "string"
            }
          },
          "metadata": {},
          "execution_count": 69
        }
      ]
    },
    {
      "cell_type": "code",
      "metadata": {
        "colab": {
          "base_uri": "https://localhost:8080/"
        },
        "id": "jxVUddADrEaX",
        "outputId": "c56bc066-7072-4a44-f596-9f25f998148f"
      },
      "source": [
        "from google.colab import drive\n",
        "drive.mount('/content/drive')"
      ],
      "execution_count": null,
      "outputs": [
        {
          "output_type": "stream",
          "name": "stdout",
          "text": [
            "Mounted at /content/drive\n"
          ]
        }
      ]
    },
    {
      "cell_type": "code",
      "metadata": {
        "id": "KGZK_grObtdF"
      },
      "source": [
        "tweetsDF = pd.read_csv('/content/drive/Shareddrives/MD2SL-material/data/training.1600000.processed.noemoticon.csv',encoding='latin1',engine='python',header=None)"
      ],
      "execution_count": null,
      "outputs": []
    },
    {
      "cell_type": "code",
      "metadata": {
        "colab": {
          "base_uri": "https://localhost:8080/"
        },
        "id": "0n-taOnwrtD8",
        "outputId": "a4089ac9-7639-4db7-9e1c-4d6e1d57c390"
      },
      "source": [
        "tweetsDF[0].value_counts()\n"
      ],
      "execution_count": null,
      "outputs": [
        {
          "output_type": "execute_result",
          "data": {
            "text/plain": [
              "0    800000\n",
              "4    800000\n",
              "Name: 0, dtype: int64"
            ]
          },
          "metadata": {},
          "execution_count": 72
        }
      ]
    },
    {
      "cell_type": "code",
      "metadata": {
        "colab": {
          "base_uri": "https://localhost:8080/"
        },
        "id": "cbUPY9tna9xp",
        "outputId": "1b79c464-99c7-4e9b-b3fb-512e947498cb"
      },
      "source": [
        "\n",
        "tweetsDF.columns"
      ],
      "execution_count": null,
      "outputs": [
        {
          "output_type": "execute_result",
          "data": {
            "text/plain": [
              "Int64Index([0, 1, 2, 3, 4, 5], dtype='int64')"
            ]
          },
          "metadata": {},
          "execution_count": 73
        }
      ]
    },
    {
      "cell_type": "code",
      "metadata": {
        "colab": {
          "base_uri": "https://localhost:8080/"
        },
        "id": "oScBFd91aq8V",
        "outputId": "bbb6ab0e-62c0-4594-f7f7-e05d7899aa07"
      },
      "source": [
        "tweetsDF[\"sentiment_cat\"] = tweetsDF[0].astype('category')\n",
        "tweetsDF[\"sentiment_cat\"].cat.codes"
      ],
      "execution_count": null,
      "outputs": [
        {
          "output_type": "execute_result",
          "data": {
            "text/plain": [
              "0          0\n",
              "1          0\n",
              "2          0\n",
              "3          0\n",
              "4          0\n",
              "          ..\n",
              "1599995    1\n",
              "1599996    1\n",
              "1599997    1\n",
              "1599998    1\n",
              "1599999    1\n",
              "Length: 1600000, dtype: int8"
            ]
          },
          "metadata": {},
          "execution_count": 74
        }
      ]
    },
    {
      "cell_type": "code",
      "metadata": {
        "id": "9QwecpXzsIh5"
      },
      "source": [
        "tweetsDF[\"sentiment\"] = tweetsDF[\"sentiment_cat\"].cat.codes\n",
        "tweetsDF.to_csv(\"train-processed.csv\", header=None, index=None)      \n",
        "tweetsDF.sample(10000).to_csv(\"train-processed-sample.csv\", header=None, index=None) \n"
      ],
      "execution_count": null,
      "outputs": []
    },
    {
      "cell_type": "markdown",
      "metadata": {
        "id": "bIq8HlVIbcHv"
      },
      "source": [
        "```torchtext``` takes a straigthforward approach to generating datasets, but you need to define the _fields_. \n",
        "The class ```Fields``` is what we need to use, it could take several parameters, give a look to the documentation:\n",
        "[Class Field documentation](https://pytorch.org/text/_modules/torchtext/data/field.html)"
      ]
    },
    {
      "cell_type": "code",
      "metadata": {
        "id": "OqiDXBaqsNz5"
      },
      "source": [
        "LABEL = data.LabelField() #a subclass of Field that sets sequential to False\n",
        "TWEET = data.Field('spacy', tokenizer_language='en_core_web_sm', lower=True)\n",
        "\n",
        "fields = [('score',None), ('id',None), ('date',None), ('query',None),\n",
        "          ('name',None), ('tweet', TWEET), ('category',None), ('label',LABEL)]"
      ],
      "execution_count": null,
      "outputs": []
    },
    {
      "cell_type": "markdown",
      "metadata": {
        "id": "ThuCr2UEcwp6"
      },
      "source": [
        "This is then passed to the TabularDataset with all the fields we need "
      ]
    },
    {
      "cell_type": "code",
      "metadata": {
        "id": "aeINR6yssR94"
      },
      "source": [
        "twitterDataset = data.dataset.TabularDataset(\n",
        "        path=\"train-processed-sample.csv\", \n",
        "        format=\"CSV\", \n",
        "        fields=fields,\n",
        "        skip_header=False)"
      ],
      "execution_count": null,
      "outputs": []
    },
    {
      "cell_type": "code",
      "metadata": {
        "colab": {
          "base_uri": "https://localhost:8080/"
        },
        "id": "NnM-PDhrsUpF",
        "outputId": "5b684184-4d9a-4911-c2cb-42a3606f0652"
      },
      "source": [
        "\n",
        "(train, test, valid) = twitterDataset.split(split_ratio=[0.8,0.1,0.1],\n",
        "                                            stratified=True, strata_field='label')\n",
        "\n",
        "(len(train),len(test),len(valid))"
      ],
      "execution_count": null,
      "outputs": [
        {
          "output_type": "execute_result",
          "data": {
            "text/plain": [
              "(8000, 1000, 1000)"
            ]
          },
          "metadata": {},
          "execution_count": 78
        }
      ]
    },
    {
      "cell_type": "code",
      "metadata": {
        "colab": {
          "base_uri": "https://localhost:8080/"
        },
        "id": "dnkf_VUUsWtm",
        "outputId": "e94dec1b-3352-4871-fff1-c8210c728240"
      },
      "source": [
        "\n",
        "vocab_size = 20000\n",
        "# torchtext is building for us the one_hot_encoding for the words\n",
        "TWEET.build_vocab(train, max_size = vocab_size)\n",
        "LABEL.build_vocab(train)\n",
        "TWEET.vocab.freqs.most_common(10)"
      ],
      "execution_count": null,
      "outputs": [
        {
          "output_type": "execute_result",
          "data": {
            "text/plain": [
              "[('i', 3705),\n",
              " ('to', 2867),\n",
              " ('the', 2584),\n",
              " ('a', 1861),\n",
              " ('my', 1525),\n",
              " ('and', 1505),\n",
              " ('you', 1228),\n",
              " ('for', 1140),\n",
              " ('is', 1128),\n",
              " ('in', 1017)]"
            ]
          },
          "metadata": {},
          "execution_count": 79
        }
      ]
    },
    {
      "cell_type": "code",
      "metadata": {
        "colab": {
          "base_uri": "https://localhost:8080/"
        },
        "id": "zv5SS7gtduTn",
        "outputId": "b24a51c9-6e37-4f21-eb61-a03617a0d02b"
      },
      "source": [
        "print('How big is our vocabolary? {}'.format(len(TWEET.vocab)))\n",
        "\n",
        "#1 for unk\n",
        "#2 for padding, a padding token that will be used to pad all our to roughly the same sie"
      ],
      "execution_count": null,
      "outputs": [
        {
          "output_type": "stream",
          "name": "stdout",
          "text": [
            "How big is our vocabolary? 20002\n"
          ]
        }
      ]
    },
    {
      "cell_type": "code",
      "metadata": {
        "id": "gIfXfFt5sZQo"
      },
      "source": [
        "'''\n",
        "torchtext provides the BucketIterator method that will produce what it calls a \n",
        "batch. Similar to the data loader we used before\n",
        "'''\n",
        "\n",
        "\n",
        "train_iterator, valid_iterator, test_iterator = data.BucketIterator.splits(\n",
        "    (train, valid, test),\n",
        "    batch_size = 32,\n",
        "    device = device,\n",
        "    sort_key = lambda x: len(x.tweet),\n",
        "    sort_within_batch = False)"
      ],
      "execution_count": null,
      "outputs": []
    },
    {
      "cell_type": "code",
      "metadata": {
        "id": "8l0YiXo5saWo"
      },
      "source": [
        "class OurFirstLSTM(nn.Module):\n",
        "    def __init__(self, hidden_size, embedding_dim, vocab_size):\n",
        "        super(OurFirstLSTM, self).__init__()\n",
        "    \n",
        "        self.embedding = nn.Embedding(vocab_size, embedding_dim)\n",
        "        self.encoder = nn.LSTM(input_size=embedding_dim,  \n",
        "                hidden_size=hidden_size, num_layers=1)\n",
        "        self.predictor = nn.Linear(hidden_size, 2)\n",
        "\n",
        "    def forward(self, seq):\n",
        "        output, (hidden,_) = self.encoder(self.embedding(seq))\n",
        "        preds = self.predictor(hidden.squeeze(0))\n",
        "        return preds\n",
        "\n"
      ],
      "execution_count": null,
      "outputs": []
    },
    {
      "cell_type": "markdown",
      "metadata": {
        "id": "pOk5-uMZeuDh"
      },
      "source": [
        "3 layers: \n",
        "- the words of our tweet are pushed in ```Embeddings``` layer, with 300-dimensional vector\n",
        "- then fed into a LSTM with 100 hidden features\n",
        "- standard fully connected layer with 3 outputs corresponding to our three possible classes "
      ]
    },
    {
      "cell_type": "code",
      "metadata": {
        "id": "JpERp77res7f"
      },
      "source": [
        ""
      ],
      "execution_count": null,
      "outputs": []
    },
    {
      "cell_type": "code",
      "metadata": {
        "id": "nBM6gdk-shyo"
      },
      "source": [
        "def train(epochs, model, optimizer, criterion, train_iterator, valid_iterator):\n",
        "    for epoch in range(1, epochs+1):\n",
        "     \n",
        "        training_loss = 0.0\n",
        "        valid_loss = 0.0\n",
        "        model.train()\n",
        "        for batch_idx, batch in enumerate(train_iterator):\n",
        "            optimizer.zero_grad()\n",
        "            predict = model(batch.tweet) ##we need to specify which field\n",
        "            loss = criterion(predict,batch.label)\n",
        "            loss.backward()\n",
        "            optimizer.step()\n",
        "            training_loss += loss.data.item() * batch.tweet.size(0)\n",
        "        training_loss /= len(train_iterator)\n",
        " \n",
        "        with torch.no_grad():\n",
        "          model.eval()\n",
        "          for batch_idx,batch in enumerate(valid_iterator):\n",
        "              predict = model(batch.tweet)\n",
        "              loss = criterion(predict,batch.label)\n",
        "              valid_loss += loss.data.item() * batch.tweet.size(0)\n",
        "          valid_loss /= len(valid_iterator)\n",
        "          print('Epoch: {}, Training Loss: {:.2f}, Validation Loss: {:.2f}'.format(epoch, training_loss, valid_loss))"
      ],
      "execution_count": null,
      "outputs": []
    },
    {
      "cell_type": "code",
      "metadata": {
        "id": "DlAM4mnNsoKn",
        "colab": {
          "base_uri": "https://localhost:8080/"
        },
        "outputId": "d9d9f7f6-701d-4921-aceb-6de6d3d0f1f0"
      },
      "source": [
        "model = OurFirstLSTM(100,300, 20002)\n",
        "model.to(device)\n",
        "optimizer = optim.Adam(model.parameters(), lr=0.01)\n",
        "criterion = nn.CrossEntropyLoss()\n",
        "\n",
        "train(5, model, optimizer, criterion, train_iterator, valid_iterator)        "
      ],
      "execution_count": null,
      "outputs": [
        {
          "output_type": "stream",
          "name": "stdout",
          "text": [
            "Epoch: 1, Training Loss: 18.92, Validation Loss: 10.28\n",
            "Epoch: 2, Training Loss: 17.06, Validation Loss: 9.22\n",
            "Epoch: 3, Training Loss: 13.98, Validation Loss: 10.68\n",
            "Epoch: 4, Training Loss: 12.45, Validation Loss: 12.36\n",
            "Epoch: 5, Training Loss: 10.54, Validation Loss: 13.78\n"
          ]
        }
      ]
    },
    {
      "cell_type": "code",
      "metadata": {
        "id": "kZwwnueMslDn"
      },
      "source": [
        "'''\n",
        "torchtext doesn't help when we want to predict\n",
        "We need to emulate the preprocessing pipeline, and make the prediction on the\n",
        "output of that pipeline\n",
        "'''\n",
        "\n",
        "def classify_tweet(tweet,device='cpu'):\n",
        "    '''\n",
        "    preprocess performs the tokenization,\n",
        "    then we call process on the resulting \n",
        "    tokens to obtain a tensor based on our already built vocabulary\n",
        "    '''\n",
        "    model.to(device)\n",
        "    categories = {0: \"Negative\", 1:\"Positive\"}\n",
        "    processed = TWEET.process([TWEET.preprocess(tweet)])\n",
        "    processed = processed.float().to(device)\n",
        "    print(processed)\n",
        "    model.eval()\n",
        "    return categories[model(processed).argmax().item()]"
      ],
      "execution_count": null,
      "outputs": []
    },
    {
      "cell_type": "code",
      "metadata": {
        "id": "U-DpNt0JoBJd"
      },
      "source": [
        "device = 'cpu'"
      ],
      "execution_count": null,
      "outputs": []
    },
    {
      "cell_type": "code",
      "metadata": {
        "id": "8KIh5sSinh2X"
      },
      "source": [
        "model.to(device)\n",
        "with torch.no_grad():\n",
        "  model.eval()\n",
        "  for batch in test_iterator:\n",
        "    outputs = model(batch.tweet.to(device))"
      ],
      "execution_count": null,
      "outputs": []
    },
    {
      "cell_type": "code",
      "metadata": {
        "id": "y8Wwd4pms63p"
      },
      "source": [
        "def classify_tweet(tweet):\n",
        "    categories = {0: \"Negative\", 1:\"Positive\"}\n",
        "    processed = TWEET.process([TWEET.preprocess(tweet)])\n",
        "    processed = processed.to(device)\n",
        "    model.eval()\n",
        "    return categories[model(processed).argmax().item()]"
      ],
      "execution_count": null,
      "outputs": []
    },
    {
      "cell_type": "code",
      "metadata": {
        "id": "BoCXNpdfpZ4W",
        "colab": {
          "base_uri": "https://localhost:8080/"
        },
        "outputId": "1af46554-24e3-44ac-b4aa-51a1a50f31d9"
      },
      "source": [
        "test[0].tweet"
      ],
      "execution_count": null,
      "outputs": [
        {
          "output_type": "execute_result",
          "data": {
            "text/plain": [
              "['pain', 'meds', 'are', 'not', 'kicking', 'in', 'quick', 'enough']"
            ]
          },
          "metadata": {},
          "execution_count": 90
        }
      ]
    },
    {
      "cell_type": "code",
      "metadata": {
        "id": "YLj5peK6pMJc",
        "colab": {
          "base_uri": "https://localhost:8080/"
        },
        "outputId": "dfff0deb-71af-4416-a72e-35720d8d78ef"
      },
      "source": [
        "for i in range(0,10):\n",
        "  sentiment = classify_tweet(test[i].tweet)\n",
        "  print(test[i].tweet,test[i].label,sentiment,)"
      ],
      "execution_count": null,
      "outputs": [
        {
          "output_type": "stream",
          "name": "stdout",
          "text": [
            "['pain', 'meds', 'are', 'not', 'kicking', 'in', 'quick', 'enough'] 0 Positive\n",
            "['back', 'to', 'school', 'on', 'monday...well', 'i', 'did', 'get', 'an', 'ipod', 'touch.', '@shmuxel', '+', '@randomized180', 'see', 'yah', 'tomorrow', 'then', 'i', 'guess'] 0 Negative\n",
            "['@poojarazdan', 'i', 'thought', 'i', 'read', '-', 'you', 'were', 'awake', 'all', 'night', 'working', '-', 'sniff', 'sniff'] 0 Negative\n",
            "['#yycphotobook', 'i', 'missed', 'your', 'spot', 'today.', 'will', 'someone', 'be', 'putting', 'online?'] 0 Negative\n",
            "['has', 'sats', 'tomorrow,', 'bright', 'and', 'early.'] 0 Negative\n",
            "['@sweetisa', 'damn.', 'that', 'sucks'] 0 Negative\n",
            "['you', 'all', \"shouldn't\", 'be', 'allowed', 'to', 'use', 'twitter.', 'and', 'why', 'is', 'it', 'lightening', 'by', 'my', 'house'] 0 Positive\n",
            "['@kwod', '-', 'so', 'sad', 'you', 'guys', 'are', 'going', 'away.'] 0 Negative\n",
            "['@ckc406', \"i'm\", 'sorry', 'you', 'had', 'such', 'a', 'bad', 'weekend', '*hugs*'] 0 Negative\n",
            "['@preachdotcom', 'lol', 'its', 'sucks', 'a', 'lot', 'boo'] 0 Negative\n"
          ]
        }
      ]
    },
    {
      "cell_type": "markdown",
      "metadata": {
        "id": "KGjCkJDFqUmk"
      },
      "source": [
        "### Time-series \n",
        "Let's try with LSTM applied to timeseries"
      ]
    },
    {
      "cell_type": "code",
      "metadata": {
        "colab": {
          "base_uri": "https://localhost:8080/",
          "height": 206
        },
        "id": "dACYu0tApnSA",
        "outputId": "bcba02c7-0d0f-4952-849c-61ad1d52f83a"
      },
      "source": [
        "flight_data = sns.load_dataset(\"flights\")\n",
        "flight_data.head()"
      ],
      "execution_count": null,
      "outputs": [
        {
          "output_type": "execute_result",
          "data": {
            "text/plain": [
              "   year month  passengers\n",
              "0  1949   Jan         112\n",
              "1  1949   Feb         118\n",
              "2  1949   Mar         132\n",
              "3  1949   Apr         129\n",
              "4  1949   May         121"
            ],
            "text/html": [
              "\n",
              "  <div id=\"df-9e8ea4f7-4ed7-40df-8e40-8ffc1d157500\">\n",
              "    <div class=\"colab-df-container\">\n",
              "      <div>\n",
              "<style scoped>\n",
              "    .dataframe tbody tr th:only-of-type {\n",
              "        vertical-align: middle;\n",
              "    }\n",
              "\n",
              "    .dataframe tbody tr th {\n",
              "        vertical-align: top;\n",
              "    }\n",
              "\n",
              "    .dataframe thead th {\n",
              "        text-align: right;\n",
              "    }\n",
              "</style>\n",
              "<table border=\"1\" class=\"dataframe\">\n",
              "  <thead>\n",
              "    <tr style=\"text-align: right;\">\n",
              "      <th></th>\n",
              "      <th>year</th>\n",
              "      <th>month</th>\n",
              "      <th>passengers</th>\n",
              "    </tr>\n",
              "  </thead>\n",
              "  <tbody>\n",
              "    <tr>\n",
              "      <th>0</th>\n",
              "      <td>1949</td>\n",
              "      <td>Jan</td>\n",
              "      <td>112</td>\n",
              "    </tr>\n",
              "    <tr>\n",
              "      <th>1</th>\n",
              "      <td>1949</td>\n",
              "      <td>Feb</td>\n",
              "      <td>118</td>\n",
              "    </tr>\n",
              "    <tr>\n",
              "      <th>2</th>\n",
              "      <td>1949</td>\n",
              "      <td>Mar</td>\n",
              "      <td>132</td>\n",
              "    </tr>\n",
              "    <tr>\n",
              "      <th>3</th>\n",
              "      <td>1949</td>\n",
              "      <td>Apr</td>\n",
              "      <td>129</td>\n",
              "    </tr>\n",
              "    <tr>\n",
              "      <th>4</th>\n",
              "      <td>1949</td>\n",
              "      <td>May</td>\n",
              "      <td>121</td>\n",
              "    </tr>\n",
              "  </tbody>\n",
              "</table>\n",
              "</div>\n",
              "      <button class=\"colab-df-convert\" onclick=\"convertToInteractive('df-9e8ea4f7-4ed7-40df-8e40-8ffc1d157500')\"\n",
              "              title=\"Convert this dataframe to an interactive table.\"\n",
              "              style=\"display:none;\">\n",
              "        \n",
              "  <svg xmlns=\"http://www.w3.org/2000/svg\" height=\"24px\"viewBox=\"0 0 24 24\"\n",
              "       width=\"24px\">\n",
              "    <path d=\"M0 0h24v24H0V0z\" fill=\"none\"/>\n",
              "    <path d=\"M18.56 5.44l.94 2.06.94-2.06 2.06-.94-2.06-.94-.94-2.06-.94 2.06-2.06.94zm-11 1L8.5 8.5l.94-2.06 2.06-.94-2.06-.94L8.5 2.5l-.94 2.06-2.06.94zm10 10l.94 2.06.94-2.06 2.06-.94-2.06-.94-.94-2.06-.94 2.06-2.06.94z\"/><path d=\"M17.41 7.96l-1.37-1.37c-.4-.4-.92-.59-1.43-.59-.52 0-1.04.2-1.43.59L10.3 9.45l-7.72 7.72c-.78.78-.78 2.05 0 2.83L4 21.41c.39.39.9.59 1.41.59.51 0 1.02-.2 1.41-.59l7.78-7.78 2.81-2.81c.8-.78.8-2.07 0-2.86zM5.41 20L4 18.59l7.72-7.72 1.47 1.35L5.41 20z\"/>\n",
              "  </svg>\n",
              "      </button>\n",
              "      \n",
              "  <style>\n",
              "    .colab-df-container {\n",
              "      display:flex;\n",
              "      flex-wrap:wrap;\n",
              "      gap: 12px;\n",
              "    }\n",
              "\n",
              "    .colab-df-convert {\n",
              "      background-color: #E8F0FE;\n",
              "      border: none;\n",
              "      border-radius: 50%;\n",
              "      cursor: pointer;\n",
              "      display: none;\n",
              "      fill: #1967D2;\n",
              "      height: 32px;\n",
              "      padding: 0 0 0 0;\n",
              "      width: 32px;\n",
              "    }\n",
              "\n",
              "    .colab-df-convert:hover {\n",
              "      background-color: #E2EBFA;\n",
              "      box-shadow: 0px 1px 2px rgba(60, 64, 67, 0.3), 0px 1px 3px 1px rgba(60, 64, 67, 0.15);\n",
              "      fill: #174EA6;\n",
              "    }\n",
              "\n",
              "    [theme=dark] .colab-df-convert {\n",
              "      background-color: #3B4455;\n",
              "      fill: #D2E3FC;\n",
              "    }\n",
              "\n",
              "    [theme=dark] .colab-df-convert:hover {\n",
              "      background-color: #434B5C;\n",
              "      box-shadow: 0px 1px 3px 1px rgba(0, 0, 0, 0.15);\n",
              "      filter: drop-shadow(0px 1px 2px rgba(0, 0, 0, 0.3));\n",
              "      fill: #FFFFFF;\n",
              "    }\n",
              "  </style>\n",
              "\n",
              "      <script>\n",
              "        const buttonEl =\n",
              "          document.querySelector('#df-9e8ea4f7-4ed7-40df-8e40-8ffc1d157500 button.colab-df-convert');\n",
              "        buttonEl.style.display =\n",
              "          google.colab.kernel.accessAllowed ? 'block' : 'none';\n",
              "\n",
              "        async function convertToInteractive(key) {\n",
              "          const element = document.querySelector('#df-9e8ea4f7-4ed7-40df-8e40-8ffc1d157500');\n",
              "          const dataTable =\n",
              "            await google.colab.kernel.invokeFunction('convertToInteractive',\n",
              "                                                     [key], {});\n",
              "          if (!dataTable) return;\n",
              "\n",
              "          const docLinkHtml = 'Like what you see? Visit the ' +\n",
              "            '<a target=\"_blank\" href=https://colab.research.google.com/notebooks/data_table.ipynb>data table notebook</a>'\n",
              "            + ' to learn more about interactive tables.';\n",
              "          element.innerHTML = '';\n",
              "          dataTable['output_type'] = 'display_data';\n",
              "          await google.colab.output.renderOutput(dataTable, element);\n",
              "          const docLink = document.createElement('div');\n",
              "          docLink.innerHTML = docLinkHtml;\n",
              "          element.appendChild(docLink);\n",
              "        }\n",
              "      </script>\n",
              "    </div>\n",
              "  </div>\n",
              "  "
            ]
          },
          "metadata": {},
          "execution_count": 82
        }
      ]
    },
    {
      "cell_type": "code",
      "metadata": {
        "colab": {
          "base_uri": "https://localhost:8080/",
          "height": 319
        },
        "id": "TLLoXqqXqd6I",
        "outputId": "8b9f0c7c-e7f9-4dd6-a2fb-9a528fa49d29"
      },
      "source": [
        "plt.title('Month vs Passenger')\n",
        "plt.ylabel('Total Passengers')\n",
        "plt.xlabel('Months')\n",
        "plt.grid(True)\n",
        "plt.autoscale(axis='x',tight=True)\n",
        "plt.plot(flight_data['passengers'])"
      ],
      "execution_count": null,
      "outputs": [
        {
          "output_type": "execute_result",
          "data": {
            "text/plain": [
              "[<matplotlib.lines.Line2D at 0x7fa220418b10>]"
            ]
          },
          "metadata": {},
          "execution_count": 83
        },
        {
          "output_type": "display_data",
          "data": {
            "text/plain": [
              "<Figure size 432x288 with 1 Axes>"
            ],
            "image/png": "[encoded data removed]"
          },
          "metadata": {
            "needs_background": "light"
          }
        }
      ]
    },
    {
      "cell_type": "code",
      "metadata": {
        "id": "yKN_l40oqkXj"
      },
      "source": [
        "all_data = flight_data['passengers'].values.astype(float)\n",
        "\n",
        "test_data_size = 12\n",
        "\n",
        "train_data = all_data[:-test_data_size]\n",
        "test_data = all_data[-test_data_size:]"
      ],
      "execution_count": null,
      "outputs": []
    },
    {
      "cell_type": "code",
      "metadata": {
        "colab": {
          "base_uri": "https://localhost:8080/"
        },
        "id": "OtK8_23aq5Kj",
        "outputId": "07ced3f6-d29a-4246-c055-04ee5e831398"
      },
      "source": [
        "print(len(train_data))\n",
        "print(len(test_data))"
      ],
      "execution_count": null,
      "outputs": [
        {
          "output_type": "stream",
          "name": "stdout",
          "text": [
            "132\n",
            "12\n"
          ]
        }
      ]
    },
    {
      "cell_type": "code",
      "metadata": {
        "id": "_UAxF8X7q5sJ"
      },
      "source": [
        "from sklearn.preprocessing import MinMaxScaler\n",
        "\n",
        "scaler = MinMaxScaler(feature_range=(-1, 1))\n",
        "train_data_normalized = scaler.fit_transform(train_data .reshape(-1, 1))"
      ],
      "execution_count": null,
      "outputs": []
    },
    {
      "cell_type": "code",
      "metadata": {
        "id": "dMzF1Pgvq-VE"
      },
      "source": [
        "train_data_normalized = torch.FloatTensor(train_data_normalized).view(-1)\n"
      ],
      "execution_count": null,
      "outputs": []
    },
    {
      "cell_type": "code",
      "metadata": {
        "id": "LFf9tpBHrhXh"
      },
      "source": [
        "train_window = 12"
      ],
      "execution_count": null,
      "outputs": []
    },
    {
      "cell_type": "code",
      "metadata": {
        "id": "VeZ1Iy3FrvJV"
      },
      "source": [
        "'''\n",
        "The function will accept the raw input data and will return a list of tuples. \n",
        "In each tuple, the first element will contain list of 12 items corresponding \n",
        "to the number of passengers traveling in 12 months, the second tuple element \n",
        "will contain one item i.e. the number of passengers in the 12+1st month\n",
        "'''\n",
        "\n",
        "def create_inout_sequences(input_data, tw):\n",
        "    inout_seq = []\n",
        "    L = len(input_data)\n",
        "    for i in range(L-tw):\n",
        "        train_seq = input_data[i:i+tw]\n",
        "        train_label = input_data[i+tw:i+tw+1]\n",
        "        inout_seq.append((train_seq ,train_label))\n",
        "    return inout_seq"
      ],
      "execution_count": null,
      "outputs": []
    },
    {
      "cell_type": "code",
      "metadata": {
        "id": "dKIe2mhPr4MV"
      },
      "source": [
        "train_inout_seq = create_inout_sequences(train_data_normalized, train_window)\n"
      ],
      "execution_count": null,
      "outputs": []
    },
    {
      "cell_type": "code",
      "metadata": {
        "colab": {
          "base_uri": "https://localhost:8080/"
        },
        "id": "W4JRJ5N_r4tS",
        "outputId": "8c26f0b9-1631-4ec8-ce3c-7bf81b5bd237"
      },
      "source": [
        "print(train_inout_seq[0][0])\n",
        "print(train_inout_seq[0][1])"
      ],
      "execution_count": null,
      "outputs": [
        {
          "output_type": "stream",
          "name": "stdout",
          "text": [
            "tensor([-0.9648, -0.9385, -0.8769, -0.8901, -0.9253, -0.8637, -0.8066, -0.8066,\n",
            "        -0.8593, -0.9341, -1.0000, -0.9385])\n",
            "tensor([-0.9516])\n"
          ]
        }
      ]
    },
    {
      "cell_type": "code",
      "metadata": {
        "id": "xes8xVLTsE_Y"
      },
      "source": [
        "'''\n",
        "input_size: Corresponds to the number of features in the input.\n",
        "Though our sequence length is 12, for each month we have only \n",
        "1 value i.e. total number of passengers, therefore the input size will be 1.\n",
        "'''\n",
        "\n",
        "'''\n",
        "hidden_layer_size: Specifies the number of hidden layers along \n",
        "with the number of neurons in each layer. \n",
        "We will have one layer of 100 neurons.\n",
        "'''\n",
        "\n",
        "'''\n",
        "output_size: The number of items in the output, \n",
        "since we want to predict the number of passengers\n",
        "for 1 month in the future, the output size will be 1.\n",
        "'''\n",
        "\n",
        "'''\n",
        "Inside the forward method, the input_seq is passed as a parameter, \n",
        "which is first passed through the lstm layer. The output of the lstm layer is \n",
        "the hidden and cell states at current time step, along with the output. \n",
        "The output from the lstm layer is passed to the linear layer. \n",
        "The predicted number of passengers is stored in the last item of the \n",
        "predictions list, which is returned to the calling function.\n",
        "'''\n",
        "\n",
        "\n",
        "class LSTM(nn.Module):\n",
        "    def __init__(self, input_size=1, hidden_layer_size=250, output_size=1):\n",
        "        super().__init__()\n",
        "        self.hidden_layer_size = hidden_layer_size\n",
        "\n",
        "        self.lstm = nn.LSTM(input_size, hidden_layer_size)\n",
        "\n",
        "        self.linear = nn.Linear(hidden_layer_size, output_size)\n",
        "\n",
        "        self.hidden_cell = (torch.zeros(1,1,self.hidden_layer_size),\n",
        "                            torch.zeros(1,1,self.hidden_layer_size))\n",
        "\n",
        "    def forward(self, input_seq):\n",
        "        lstm_out, self.hidden_cell = self.lstm(input_seq.view(len(input_seq) ,1, -1), self.hidden_cell)\n",
        "        predictions = self.linear(lstm_out.view(len(input_seq), -1))\n",
        "        return predictions[-1]\n",
        "\n",
        "\n"
      ],
      "execution_count": null,
      "outputs": []
    },
    {
      "cell_type": "code",
      "metadata": {
        "id": "r4ylDdzYsSJE"
      },
      "source": [
        "model = LSTM()\n",
        "loss_function = nn.MSELoss()\n",
        "optimizer = torch.optim.Adam(model.parameters(), lr=0.01)"
      ],
      "execution_count": null,
      "outputs": []
    },
    {
      "cell_type": "code",
      "metadata": {
        "colab": {
          "base_uri": "https://localhost:8080/"
        },
        "id": "wor3uZGFuYqR",
        "outputId": "08dd49db-e931-4e4d-b9ab-cae667c4992c"
      },
      "source": [
        "epochs = 300\n",
        "\n",
        "for i in range(epochs):\n",
        "    for seq, labels in train_inout_seq:\n",
        "        optimizer.zero_grad()\n",
        "        model.hidden_cell = (torch.zeros(1, 1, model.hidden_layer_size),\n",
        "                        torch.zeros(1, 1, model.hidden_layer_size))\n",
        "\n",
        "        y_pred = model(seq)\n",
        "\n",
        "        single_loss = loss_function(y_pred, labels)\n",
        "        single_loss.backward()\n",
        "        optimizer.step()\n",
        "\n",
        "    if i%25 == 1:\n",
        "        print(f'epoch: {i:3} loss: {single_loss.item():10.8f}')\n",
        "\n",
        "print(f'epoch: {i:3} loss: {single_loss.item():10.10f}')\n"
      ],
      "execution_count": null,
      "outputs": [
        {
          "output_type": "stream",
          "name": "stdout",
          "text": [
            "epoch:   1 loss: 0.03217940\n",
            "epoch:  26 loss: 0.10798632\n",
            "epoch:  51 loss: 0.08700537\n",
            "epoch:  76 loss: 0.08068001\n",
            "epoch: 101 loss: 0.08069772\n",
            "epoch: 126 loss: 0.08067371\n",
            "epoch: 151 loss: 0.08066552\n",
            "epoch: 176 loss: 0.10877632\n",
            "epoch: 201 loss: 0.10724123\n",
            "epoch: 226 loss: 0.10543448\n",
            "epoch: 251 loss: 0.01964139\n",
            "epoch: 276 loss: 0.02972045\n",
            "epoch: 299 loss: 0.0523491390\n"
          ]
        }
      ]
    },
    {
      "cell_type": "code",
      "metadata": {
        "colab": {
          "base_uri": "https://localhost:8080/"
        },
        "id": "z3nHH6xeuel8",
        "outputId": "5de4c4da-b72b-4f61-d8e2-089b710a58af"
      },
      "source": [
        "fut_pred = 12\n",
        "\n",
        "test_inputs = train_data_normalized[-train_window:].tolist()\n",
        "\n",
        "model.eval()\n",
        "\n",
        "for i in range(fut_pred):\n",
        "    seq = torch.FloatTensor(test_inputs[-train_window:])\n",
        "    with torch.no_grad():\n",
        "        model.hidden = (torch.zeros(1, 1, model.hidden_layer_size),\n",
        "                        torch.zeros(1, 1, model.hidden_layer_size))\n",
        "        test_inputs.append(model(seq).item())\n",
        "test_inputs[fut_pred:]\n"
      ],
      "execution_count": null,
      "outputs": [
        {
          "output_type": "execute_result",
          "data": {
            "text/plain": [
              "[0.2174944430589676,\n",
              " 0.21748070418834686,\n",
              " 0.21747292578220367,\n",
              " 0.21745999157428741,\n",
              " 0.21744884550571442,\n",
              " 0.21743853390216827,\n",
              " 0.21742768585681915,\n",
              " 0.21741695702075958,\n",
              " 0.21740780770778656,\n",
              " 0.21739967167377472,\n",
              " 0.2173919826745987,\n",
              " 0.21738387644290924]"
            ]
          },
          "metadata": {},
          "execution_count": 106
        }
      ]
    },
    {
      "cell_type": "code",
      "metadata": {
        "colab": {
          "base_uri": "https://localhost:8080/"
        },
        "id": "gvzSSDjZu8tZ",
        "outputId": "df4c30e1-bef7-4099-a1ef-f29baa3befc0"
      },
      "source": [
        "actual_predictions = scaler.inverse_transform(np.array(test_inputs[train_window:] ).reshape(-1, 1))\n",
        "print(actual_predictions)"
      ],
      "execution_count": null,
      "outputs": [
        {
          "output_type": "stream",
          "name": "stdout",
          "text": [
            "[[380.9799858 ]\n",
            " [380.9768602 ]\n",
            " [380.97509062]\n",
            " [380.97214808]\n",
            " [380.96961235]\n",
            " [380.96726646]\n",
            " [380.96479853]\n",
            " [380.96235772]\n",
            " [380.96027625]\n",
            " [380.95842531]\n",
            " [380.95667606]\n",
            " [380.95483189]]\n"
          ]
        }
      ]
    },
    {
      "cell_type": "code",
      "metadata": {
        "colab": {
          "base_uri": "https://localhost:8080/"
        },
        "id": "N--N-eYAvDpH",
        "outputId": "eec64149-f637-4f26-be68-43b96233c7b0"
      },
      "source": [
        "x = np.arange(132, 144, 1)\n",
        "print(x)"
      ],
      "execution_count": null,
      "outputs": [
        {
          "output_type": "stream",
          "name": "stdout",
          "text": [
            "[132 133 134 135 136 137 138 139 140 141 142 143]\n"
          ]
        }
      ]
    },
    {
      "cell_type": "code",
      "metadata": {
        "colab": {
          "base_uri": "https://localhost:8080/",
          "height": 284
        },
        "id": "yBYcGBXuvL0N",
        "outputId": "7db11fe3-300b-46ae-cd56-015b796d9202"
      },
      "source": [
        "plt.title('Month vs Passenger')\n",
        "plt.ylabel('Total Passengers')\n",
        "plt.grid(True)\n",
        "plt.autoscale(axis='x', tight=True)\n",
        "plt.plot(flight_data['passengers'])\n",
        "plt.plot(x,actual_predictions)\n",
        "plt.show()"
      ],
      "execution_count": null,
      "outputs": [
        {
          "output_type": "display_data",
          "data": {
            "text/plain": [
              "<Figure size 432x288 with 1 Axes>"
            ],
            "image/png": "[encoded data removed]"
          },
          "metadata": {
            "needs_background": "light"
          }
        }
      ]
    },
    {
      "cell_type": "code",
      "metadata": {
        "id": "t5HVJAOOvO4H"
      },
      "source": [
        ""
      ],
      "execution_count": null,
      "outputs": []
    }
  ]
}