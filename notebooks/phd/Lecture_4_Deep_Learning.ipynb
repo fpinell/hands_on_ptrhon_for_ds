{
  "nbformat": 4,
  "nbformat_minor": 0,
  "metadata": {
    "colab": {
      "name": "Lecture_4_Deep_Learning",
      "provenance": [],
      "collapsed_sections": [
        "ELbqlV_DC9Jw"
      ],
      "include_colab_link": true
    },
    "kernelspec": {
      "name": "python3",
      "display_name": "Python 3"
    },
    "language_info": {
      "name": "python"
    },
    "gpuClass": "standard"
  },
  "cells": [
    {
      "cell_type": "markdown",
      "metadata": {
        "id": "view-in-github",
        "colab_type": "text"
      },
      "source": [
        "<a href=\"https://colab.research.google.com/github/fpinell/hands_on_python_for_ds/blob/main/notebooks/phd/Lecture_4_Deep_Learning.ipynb\" target=\"_parent\"><img src=\"https://colab.research.google.com/assets/colab-badge.svg\" alt=\"Open In Colab\"/></a>"
      ]
    },
    {
      "cell_type": "code",
      "source": [
        "!pip install -U torch==1.8.0 torchtext==0.9.0"
      ],
      "metadata": {
        "colab": {
          "base_uri": "https://localhost:8080/"
        },
        "id": "O9Tr0dOiijOI",
        "outputId": "9e424eb5-31a9-47d1-ce51-89b018ab26d4"
      },
      "execution_count": 2,
      "outputs": [
        {
          "output_type": "stream",
          "name": "stdout",
          "text": [
            "Looking in indexes: https://pypi.org/simple, https://us-python.pkg.dev/colab-wheels/public/simple/\n",
            "Collecting torch==1.8.0\n",
            "  Downloading torch-1.8.0-cp37-cp37m-manylinux1_x86_64.whl (735.5 MB)\n",
            "\u001b[K     |████████████████████████████████| 735.5 MB 13 kB/s \n",
            "\u001b[?25hCollecting torchtext==0.9.0\n",
            "  Downloading torchtext-0.9.0-cp37-cp37m-manylinux1_x86_64.whl (7.1 MB)\n",
            "\u001b[K     |████████████████████████████████| 7.1 MB 24.1 MB/s \n",
            "\u001b[?25hRequirement already satisfied: typing-extensions in /usr/local/lib/python3.7/dist-packages (from torch==1.8.0) (4.1.1)\n",
            "Requirement already satisfied: numpy in /usr/local/lib/python3.7/dist-packages (from torch==1.8.0) (1.21.6)\n",
            "Requirement already satisfied: requests in /usr/local/lib/python3.7/dist-packages (from torchtext==0.9.0) (2.23.0)\n",
            "Requirement already satisfied: tqdm in /usr/local/lib/python3.7/dist-packages (from torchtext==0.9.0) (4.64.0)\n",
            "Requirement already satisfied: chardet<4,>=3.0.2 in /usr/local/lib/python3.7/dist-packages (from requests->torchtext==0.9.0) (3.0.4)\n",
            "Requirement already satisfied: idna<3,>=2.5 in /usr/local/lib/python3.7/dist-packages (from requests->torchtext==0.9.0) (2.10)\n",
            "Requirement already satisfied: urllib3!=1.25.0,!=1.25.1,<1.26,>=1.21.1 in /usr/local/lib/python3.7/dist-packages (from requests->torchtext==0.9.0) (1.24.3)\n",
            "Requirement already satisfied: certifi>=2017.4.17 in /usr/local/lib/python3.7/dist-packages (from requests->torchtext==0.9.0) (2022.6.15)\n",
            "Installing collected packages: torch, torchtext\n",
            "  Attempting uninstall: torch\n",
            "    Found existing installation: torch 1.12.0+cu113\n",
            "    Uninstalling torch-1.12.0+cu113:\n",
            "      Successfully uninstalled torch-1.12.0+cu113\n",
            "  Attempting uninstall: torchtext\n",
            "    Found existing installation: torchtext 0.13.0\n",
            "    Uninstalling torchtext-0.13.0:\n",
            "      Successfully uninstalled torchtext-0.13.0\n",
            "\u001b[31mERROR: pip's dependency resolver does not currently take into account all the packages that are installed. This behaviour is the source of the following dependency conflicts.\n",
            "torchvision 0.13.0+cu113 requires torch==1.12.0, but you have torch 1.8.0 which is incompatible.\n",
            "torchaudio 0.12.0+cu113 requires torch==1.12.0, but you have torch 1.8.0 which is incompatible.\u001b[0m\n",
            "Successfully installed torch-1.8.0 torchtext-0.9.0\n"
          ]
        }
      ]
    },
    {
      "cell_type": "markdown",
      "metadata": {
        "id": "ELbqlV_DC9Jw"
      },
      "source": [
        "# Hands on Python for Data Science\n",
        "\n",
        "\n",
        "### PhD IMT School for Advanced Studies Lucca 2021-2022\n",
        "\n",
        "#### Fabio Pinelli\n",
        "<a href=\"mailto:fabio.pinelli@imtlucca.it\">fabio.pinelli@imtlucca.it</a><br/>\n",
        "IMT School for Advanced Studies Lucca<br/>\n",
        "2021/2022<br/>\n",
        "July, 5 2022"
      ]
    },
    {
      "cell_type": "markdown",
      "metadata": {
        "id": "HUepE3bODBa2"
      },
      "source": [
        "# Outline\n",
        "\n",
        "- Pytorch\n",
        "- Neural Network (fully connected)\n",
        "  - Classification\n",
        "  - Learning rate\n",
        "  - Regression on tabular data\n",
        "  - Classification on tabular data with embeddings\n",
        "- CNN\n",
        "- RNN\n",
        "\n"
      ]
    },
    {
      "cell_type": "markdown",
      "metadata": {
        "id": "tPNVyHGcD3mW"
      },
      "source": [
        "# Pytorch \n",
        "\n",
        "## Why ```pytorch```?\n",
        "\n",
        "1. Because I've already done something in PyTorch\n",
        "2. It is widely used now in the research environment \n",
        "3. It is more _pythonic_ the way it is implemented, thus the learning curve can be smoother than with other platform\n",
        "  - use\n",
        "  - extend\n",
        "  - debug\n",
        "4. Tensors are really similar to numpy arrays \n",
        "5. (not in our goals) It can be used for scientific computation as well, not only for _Deep Learning_ tasks\n",
        "\n"
      ]
    },
    {
      "cell_type": "code",
      "metadata": {
        "id": "S6cfGklpSyst"
      },
      "source": [
        "# Python ≥3.5 is required\n",
        "import sys\n",
        "assert sys.version_info >= (3, 5)\n",
        "\n",
        "# Scikit-Learn ≥0.20 is required\n",
        "import sklearn\n",
        "assert sklearn.__version__ >= \"0.20\"\n",
        "\n",
        "# Common imports\n",
        "import numpy as np\n",
        "import pandas as pd\n",
        "import seaborn as sns\n",
        "import os\n",
        "\n",
        "# to make this notebook's output stable across runs\n",
        "np.random.seed(42)\n",
        "\n",
        "#import for pytorch\n",
        "import torch\n",
        "import torch.nn as nn\n",
        "import torch.optim as optim\n",
        "import torch.utils.data\n",
        "import torch.nn.functional as F\n",
        "# import torchvision\n",
        "# from torchvision import transforms\n",
        "from PIL import Image, ImageFile\n",
        "\n",
        "\n",
        "\n",
        "# To plot pretty figures\n",
        "%matplotlib inline\n",
        "import matplotlib as mpl\n",
        "import matplotlib.pyplot as plt\n",
        "mpl.rc('axes', labelsize=14)\n",
        "mpl.rc('xtick', labelsize=12)\n",
        "mpl.rc('ytick', labelsize=12)\n",
        "\n",
        "# Where to save the figures\n",
        "PROJECT_ROOT_DIR = \".\"\n",
        "CHAPTER_ID = \"svm\"\n",
        "IMAGES_PATH = os.path.join(PROJECT_ROOT_DIR, \"images\", CHAPTER_ID)\n",
        "os.makedirs(IMAGES_PATH, exist_ok=True)\n",
        "\n",
        "def save_fig(fig_id, tight_layout=True, fig_extension=\"png\", resolution=300):\n",
        "    path = os.path.join(IMAGES_PATH, fig_id + \".\" + fig_extension)\n",
        "    print(\"Saving figure\", fig_id)\n",
        "    if tight_layout:\n",
        "        plt.tight_layout()\n",
        "    plt.savefig(path, format=fig_extension, dpi=resolution)"
      ],
      "execution_count": 3,
      "outputs": []
    },
    {
      "cell_type": "code",
      "metadata": {
        "colab": {
          "base_uri": "https://localhost:8080/"
        },
        "id": "lipDnPDxEQ_R",
        "outputId": "b0005267-24b9-4f9e-aa73-856e585c6024"
      },
      "source": [
        "# pytorch is available naturally on colab\n",
        "# we can also use a gpu\n",
        "# Go to Menu > Runtime > Change runtime.\n",
        "\n",
        "\n",
        "import torch\n",
        "# GPU available check \n",
        "print('GPU available check {}'.format(torch.cuda.is_available()))\n",
        "print(torch.rand(2,2))"
      ],
      "execution_count": 4,
      "outputs": [
        {
          "output_type": "stream",
          "name": "stdout",
          "text": [
            "GPU available check False\n",
            "tensor([[0.8864, 0.6566],\n",
            "        [0.4763, 0.4505]])\n"
          ]
        }
      ]
    },
    {
      "cell_type": "markdown",
      "metadata": {
        "id": "vk7_93nOEAQ8"
      },
      "source": [
        "## Tensors \n",
        "\n",
        "- A tensor is both a container for **numbers** and for a set of rules that define transformations between tensors producing a new tensor\n",
        "\n",
        "- **Essentially?** A multidimensional array\n",
        "- Every tensor has a rank\n",
        "  - scalar --> rank 0 \n",
        "  - array --> rank 1\n",
        "  - $n \\times n$ matrix --> rank 2\n",
        "\n",
        "```python torch.rand(2,2)``` creates a rank 2 tensor with random values by using ```python torch.rand()``` \n",
        "\n"
      ]
    },
    {
      "cell_type": "markdown",
      "metadata": {
        "id": "fO6e1lw4GfBT"
      },
      "source": [
        "### Operations with tensors"
      ]
    },
    {
      "cell_type": "code",
      "metadata": {
        "colab": {
          "base_uri": "https://localhost:8080/"
        },
        "id": "a_ATkkKhEX7D",
        "outputId": "d6eb4d53-5621-428d-8845-7628fac5a345"
      },
      "source": [
        "# we can create a tensor from lists\n",
        "x = torch.tensor([[0,0,1],[1,1,1],[0,0,0]])\n",
        "print(x)"
      ],
      "execution_count": 5,
      "outputs": [
        {
          "output_type": "stream",
          "name": "stdout",
          "text": [
            "tensor([[0, 0, 1],\n",
            "        [1, 1, 1],\n",
            "        [0, 0, 0]])\n"
          ]
        }
      ]
    },
    {
      "cell_type": "code",
      "metadata": {
        "colab": {
          "base_uri": "https://localhost:8080/"
        },
        "id": "Ac60DL6_HTLp",
        "outputId": "e14ec582-379c-472c-d9b4-ae11a435d5a7"
      },
      "source": [
        "# we can change an element in a tensor by using standard Python indexing\n",
        "\n",
        "x[0][0] = 5\n",
        "print(x) "
      ],
      "execution_count": 6,
      "outputs": [
        {
          "output_type": "stream",
          "name": "stdout",
          "text": [
            "tensor([[5, 0, 1],\n",
            "        [1, 1, 1],\n",
            "        [0, 0, 0]])\n"
          ]
        }
      ]
    },
    {
      "cell_type": "markdown",
      "metadata": {
        "id": "lv8CgLeuHEmK"
      },
      "source": [
        "We can use special creation functions to generate particular types of tensors\n",
        "\n",
        "- ```ones()``` generates tensors filled with 1s\n",
        "- ```zeros()```  generates tensors filled with 1s"
      ]
    },
    {
      "cell_type": "code",
      "metadata": {
        "colab": {
          "base_uri": "https://localhost:8080/"
        },
        "id": "0f5_LPTHHTlS",
        "outputId": "4b4e88c5-b760-4ced-c4be-e64231e22f20"
      },
      "source": [
        "a = torch.zeros(2,2)\n",
        "b = torch.ones(2,2)\n",
        "print('First tensor\\n {}'.format(a))\n",
        "print('Second tensor\\n {}'.format(b))"
      ],
      "execution_count": 7,
      "outputs": [
        {
          "output_type": "stream",
          "name": "stdout",
          "text": [
            "First tensor\n",
            " tensor([[0., 0.],\n",
            "        [0., 0.]])\n",
            "Second tensor\n",
            " tensor([[1., 1.],\n",
            "        [1., 1.]])\n"
          ]
        }
      ]
    },
    {
      "cell_type": "markdown",
      "metadata": {
        "id": "0hxpcKjhIo9W"
      },
      "source": [
        "We can perform standard mathematical operations with tensors, e.g. addind two tensors together. \n",
        "\n"
      ]
    },
    {
      "cell_type": "code",
      "metadata": {
        "colab": {
          "base_uri": "https://localhost:8080/"
        },
        "id": "E-p3-HtoHUFm",
        "outputId": "e2773164-577b-49f0-9016-a9945b6f2ef6"
      },
      "source": [
        "a = torch.tensor([[1,2],[2,3]])\n",
        "b = torch.tensor([[1,1],[1,1]])\n",
        "print('Check the sum\\n {}'.format(a+b))"
      ],
      "execution_count": 8,
      "outputs": [
        {
          "output_type": "stream",
          "name": "stdout",
          "text": [
            "Check the sum\n",
            " tensor([[2, 3],\n",
            "        [3, 4]])\n"
          ]
        }
      ]
    },
    {
      "cell_type": "markdown",
      "metadata": {
        "id": "-8BxnmGmJIJg"
      },
      "source": [
        "And if you have a tensor of rank 0, you can access out the value with the ```item()``` function"
      ]
    },
    {
      "cell_type": "code",
      "metadata": {
        "colab": {
          "base_uri": "https://localhost:8080/"
        },
        "id": "ixzmV8dxHUDH",
        "outputId": "98744c01-8b4e-47f0-e571-5155ee1bc5dc"
      },
      "source": [
        "print('Value of the 1D tensor: {}'.format(torch.rand(1).item()))"
      ],
      "execution_count": 9,
      "outputs": [
        {
          "output_type": "stream",
          "name": "stdout",
          "text": [
            "Value of the 1D tensor: 0.635059654712677\n"
          ]
        }
      ]
    },
    {
      "cell_type": "markdown",
      "metadata": {
        "id": "ahJdiHnZJfiv"
      },
      "source": [
        "Tensors can live in the **CPU** or on the **GPU** and they can be copied between devices by usint the ```to()``` function:"
      ]
    },
    {
      "cell_type": "code",
      "metadata": {
        "colab": {
          "base_uri": "https://localhost:8080/"
        },
        "id": "xfNPJA5JHT_6",
        "outputId": "c9eb349a-b9b7-4626-cd98-a88519bd8451"
      },
      "source": [
        "cpu_tensor = torch.rand(2)\n",
        "print('In which device is the tensor? {}'.format(cpu_tensor.device))"
      ],
      "execution_count": 10,
      "outputs": [
        {
          "output_type": "stream",
          "name": "stdout",
          "text": [
            "In which device is the tensor? cpu\n"
          ]
        }
      ]
    },
    {
      "cell_type": "code",
      "metadata": {
        "id": "TjX6p_2eHT9T",
        "colab": {
          "base_uri": "https://localhost:8080/",
          "height": 305
        },
        "outputId": "7a9fc249-68de-4bc9-e7bf-56bb449e696b"
      },
      "source": [
        "gpu_tensor = cpu_tensor.to('cuda')\n",
        "print('In which device is the tensor? {}'.format(gpu_tensor.device))"
      ],
      "execution_count": 11,
      "outputs": [
        {
          "output_type": "error",
          "ename": "RuntimeError",
          "evalue": "ignored",
          "traceback": [
            "\u001b[0;31m---------------------------------------------------------------------------\u001b[0m",
            "\u001b[0;31mRuntimeError\u001b[0m                              Traceback (most recent call last)",
            "\u001b[0;32m<ipython-input-11-e34d8f63d306>\u001b[0m in \u001b[0;36m<module>\u001b[0;34m()\u001b[0m\n\u001b[0;32m----> 1\u001b[0;31m \u001b[0mgpu_tensor\u001b[0m \u001b[0;34m=\u001b[0m \u001b[0mcpu_tensor\u001b[0m\u001b[0;34m.\u001b[0m\u001b[0mto\u001b[0m\u001b[0;34m(\u001b[0m\u001b[0;34m'cuda'\u001b[0m\u001b[0;34m)\u001b[0m\u001b[0;34m\u001b[0m\u001b[0;34m\u001b[0m\u001b[0m\n\u001b[0m\u001b[1;32m      2\u001b[0m \u001b[0mprint\u001b[0m\u001b[0;34m(\u001b[0m\u001b[0;34m'In which device is the tensor? {}'\u001b[0m\u001b[0;34m.\u001b[0m\u001b[0mformat\u001b[0m\u001b[0;34m(\u001b[0m\u001b[0mgpu_tensor\u001b[0m\u001b[0;34m.\u001b[0m\u001b[0mdevice\u001b[0m\u001b[0;34m)\u001b[0m\u001b[0;34m)\u001b[0m\u001b[0;34m\u001b[0m\u001b[0;34m\u001b[0m\u001b[0m\n",
            "\u001b[0;32m/usr/local/lib/python3.7/dist-packages/torch/cuda/__init__.py\u001b[0m in \u001b[0;36m_lazy_init\u001b[0;34m()\u001b[0m\n\u001b[1;32m    168\u001b[0m         \u001b[0;31m# This function throws if there's a driver initialization error, no GPUs\u001b[0m\u001b[0;34m\u001b[0m\u001b[0;34m\u001b[0m\u001b[0;34m\u001b[0m\u001b[0m\n\u001b[1;32m    169\u001b[0m         \u001b[0;31m# are found or any other error occurs\u001b[0m\u001b[0;34m\u001b[0m\u001b[0;34m\u001b[0m\u001b[0;34m\u001b[0m\u001b[0m\n\u001b[0;32m--> 170\u001b[0;31m         \u001b[0mtorch\u001b[0m\u001b[0;34m.\u001b[0m\u001b[0m_C\u001b[0m\u001b[0;34m.\u001b[0m\u001b[0m_cuda_init\u001b[0m\u001b[0;34m(\u001b[0m\u001b[0;34m)\u001b[0m\u001b[0;34m\u001b[0m\u001b[0;34m\u001b[0m\u001b[0m\n\u001b[0m\u001b[1;32m    171\u001b[0m         \u001b[0;31m# Some of the queued calls may reentrantly call _lazy_init();\u001b[0m\u001b[0;34m\u001b[0m\u001b[0;34m\u001b[0m\u001b[0;34m\u001b[0m\u001b[0m\n\u001b[1;32m    172\u001b[0m         \u001b[0;31m# we need to just return without initializing in that case.\u001b[0m\u001b[0;34m\u001b[0m\u001b[0;34m\u001b[0m\u001b[0;34m\u001b[0m\u001b[0m\n",
            "\u001b[0;31mRuntimeError\u001b[0m: No CUDA GPUs are available"
          ]
        }
      ]
    },
    {
      "cell_type": "markdown",
      "metadata": {
        "id": "MPqjyhEuOl_z"
      },
      "source": [
        "Quite often we need to find the maximum item in a tensor, as well as the index that contains the maximum value (it may correspond to the class that the neural network has decided upon its final prediction). \n",
        "\n",
        "```max()``` and ```argmax()``` are the needed functions, then we can use ```item()``` to get the _standard_ Python value from a 1D tensor. "
      ]
    },
    {
      "cell_type": "code",
      "metadata": {
        "colab": {
          "base_uri": "https://localhost:8080/"
        },
        "id": "L2UWg4dyHT6f",
        "outputId": "38f15acc-ac32-493a-9239-932f5048fd0f"
      },
      "source": [
        "a = torch.rand(2,2)\n",
        "print(a)\n",
        "\n",
        "print('Which is the max value? {}'.format(a.max()))\n",
        "print('Which is the index of the max value: {}'.format(a.argmax()))\n",
        "print('Get the values\\n -max: {}\\n -index: {}'.format(a.max().item(),a.argmax().item()))"
      ],
      "execution_count": 12,
      "outputs": [
        {
          "output_type": "stream",
          "name": "stdout",
          "text": [
            "tensor([[0.5615, 0.2936],\n",
            "        [0.1767, 0.2908]])\n",
            "Which is the max value? 0.5615142583847046\n",
            "Which is the index of the max value: 0\n",
            "Get the values\n",
            " -max: 0.5615142583847046\n",
            " -index: 0\n"
          ]
        }
      ]
    },
    {
      "cell_type": "markdown",
      "metadata": {
        "id": "37kPmJMVP9YA"
      },
      "source": [
        "Sometimes we need to change the type of a tensor"
      ]
    },
    {
      "cell_type": "code",
      "metadata": {
        "colab": {
          "base_uri": "https://localhost:8080/"
        },
        "id": "yCWfYW_zHT12",
        "outputId": "f642789e-beea-467e-d130-eea8e0379f56"
      },
      "source": [
        "long_tensor = torch.tensor([[0,0,1],[1,1,1],[0,0,0]])\n",
        "print('which is the type of long tensor? {}'.format(long_tensor.type()))"
      ],
      "execution_count": 13,
      "outputs": [
        {
          "output_type": "stream",
          "name": "stdout",
          "text": [
            "which is the type of long tensor? torch.LongTensor\n"
          ]
        }
      ]
    },
    {
      "cell_type": "code",
      "metadata": {
        "colab": {
          "base_uri": "https://localhost:8080/"
        },
        "id": "RZebCnecHTtG",
        "outputId": "7798c70e-7f68-406e-e447-8221e618659c"
      },
      "source": [
        "float_tensor = long_tensor.to(dtype=torch.float32)\n",
        "float_tensor_2 = long_tensor.type(torch.float64) #second method to change type\n",
        "print('which is the type of long tensor? {}'.format(float_tensor.type()))\n",
        "print('which is the type of long tensor? {}'.format(float_tensor_2.type()))"
      ],
      "execution_count": 14,
      "outputs": [
        {
          "output_type": "stream",
          "name": "stdout",
          "text": [
            "which is the type of long tensor? torch.FloatTensor\n",
            "which is the type of long tensor? torch.DoubleTensor\n"
          ]
        }
      ]
    },
    {
      "cell_type": "markdown",
      "metadata": {
        "id": "duAx1tzzRLCG"
      },
      "source": [
        "If you remember in ```pandas``` we could perform operations of dataframes using the parameter ```in_place = True```. \n",
        "\n",
        "We could perform something similar on tensors. \n",
        "\n",
        "Functions can be applied _inplace_ if exists the original fuction with appended underscore '_'. \n",
        "\n",
        "Let see an example:"
      ]
    },
    {
      "cell_type": "code",
      "metadata": {
        "colab": {
          "base_uri": "https://localhost:8080/"
        },
        "id": "gN1Oiy_oRyql",
        "outputId": "07d5229a-f27c-498f-dfdb-50cdfcabc0d0"
      },
      "source": [
        "random_tensor = torch.rand(2,2)\n",
        "new_random = random_tensor.log2()\n",
        "print(random_tensor)\n",
        "print(new_random)"
      ],
      "execution_count": 15,
      "outputs": [
        {
          "output_type": "stream",
          "name": "stdout",
          "text": [
            "tensor([[0.8850, 0.3512],\n",
            "        [0.1574, 0.5907]])\n",
            "tensor([[-0.1762, -1.5097],\n",
            "        [-2.6677, -0.7594]])\n"
          ]
        }
      ]
    },
    {
      "cell_type": "code",
      "metadata": {
        "colab": {
          "base_uri": "https://localhost:8080/"
        },
        "id": "k3VWT0Q5Rynu",
        "outputId": "19587917-bac0-4566-f4b2-2b892cee2069"
      },
      "source": [
        "print(random_tensor.log2_())"
      ],
      "execution_count": 16,
      "outputs": [
        {
          "output_type": "stream",
          "name": "stdout",
          "text": [
            "tensor([[-0.1762, -1.5097],\n",
            "        [-2.6677, -0.7594]])\n"
          ]
        }
      ]
    },
    {
      "cell_type": "markdown",
      "metadata": {
        "id": "UN9lCeqrTNCP"
      },
      "source": [
        "Some nice manipulation that can be done with tensors\n",
        "- reshape / view\n",
        "- column permutation\n",
        "- slice a tensor\n",
        "\n",
        "Let's try with a simple random tensor, and with the ```MINST``` dataset that is represented in numpy arrays of 784 elements"
      ]
    },
    {
      "cell_type": "code",
      "metadata": {
        "colab": {
          "base_uri": "https://localhost:8080/"
        },
        "id": "MGnJ3F8HXAg-",
        "outputId": "cf18cbd1-7fef-488d-b634-d8cd0d434810"
      },
      "source": [
        "'''\n",
        "reshape() function. It is really similar to numpy reshape function. There are a\n",
        "lot of similarities between tensors and numpy operations/functions\n",
        "'''\n",
        "\n",
        "flat_tensor = torch.rand(784)\n",
        "reshaped_tensor = flat_tensor.reshape(1,28,28) #1 is the number of channels\n",
        "print('Flat tensor shape {}'.format(flat_tensor.shape))\n",
        "print('Flat tensor shape {}'.format(reshaped_tensor.shape))\n",
        "\n",
        "'''\n",
        "view() function. Same behaviour of reshape, the main difference is that the view \n",
        "changes if the original one is changed\n",
        "'''\n",
        "flat_tensor = torch.rand(784)\n",
        "reshaped_tensor = flat_tensor.view(1,28,28) #1 is the number of channels\n",
        "print('Flat tensor shape {}'.format(flat_tensor.shape))\n",
        "print('Flat tensor shape {}'.format(reshaped_tensor.shape))\n",
        "\n",
        "\n",
        "\n"
      ],
      "execution_count": 17,
      "outputs": [
        {
          "output_type": "stream",
          "name": "stdout",
          "text": [
            "Flat tensor shape torch.Size([784])\n",
            "Flat tensor shape torch.Size([1, 28, 28])\n",
            "Flat tensor shape torch.Size([784])\n",
            "Flat tensor shape torch.Size([1, 28, 28])\n"
          ]
        }
      ]
    },
    {
      "cell_type": "code",
      "source": [
        "'''\n",
        "The reshaped tensor can't have a number of elements different than the original one\n",
        "'''\n",
        "flat_tensor = torch.rand(784)\n",
        "reshaped_tensor = flat_tensor.view(3,28,28)"
      ],
      "metadata": {
        "id": "bIHEcVJig4M4",
        "outputId": "c338c4e7-89fb-4114-86c1-91f3714b42b1",
        "colab": {
          "base_uri": "https://localhost:8080/",
          "height": 201
        }
      },
      "execution_count": 18,
      "outputs": [
        {
          "output_type": "error",
          "ename": "RuntimeError",
          "evalue": "ignored",
          "traceback": [
            "\u001b[0;31m---------------------------------------------------------------------------\u001b[0m",
            "\u001b[0;31mRuntimeError\u001b[0m                              Traceback (most recent call last)",
            "\u001b[0;32m<ipython-input-18-859318a6b81b>\u001b[0m in \u001b[0;36m<module>\u001b[0;34m()\u001b[0m\n\u001b[1;32m      3\u001b[0m '''\n\u001b[1;32m      4\u001b[0m \u001b[0mflat_tensor\u001b[0m \u001b[0;34m=\u001b[0m \u001b[0mtorch\u001b[0m\u001b[0;34m.\u001b[0m\u001b[0mrand\u001b[0m\u001b[0;34m(\u001b[0m\u001b[0;36m784\u001b[0m\u001b[0;34m)\u001b[0m\u001b[0;34m\u001b[0m\u001b[0;34m\u001b[0m\u001b[0m\n\u001b[0;32m----> 5\u001b[0;31m \u001b[0mreshaped_tensor\u001b[0m \u001b[0;34m=\u001b[0m \u001b[0mflat_tensor\u001b[0m\u001b[0;34m.\u001b[0m\u001b[0mview\u001b[0m\u001b[0;34m(\u001b[0m\u001b[0;36m3\u001b[0m\u001b[0;34m,\u001b[0m\u001b[0;36m28\u001b[0m\u001b[0;34m,\u001b[0m\u001b[0;36m28\u001b[0m\u001b[0;34m)\u001b[0m\u001b[0;34m\u001b[0m\u001b[0;34m\u001b[0m\u001b[0m\n\u001b[0m",
            "\u001b[0;31mRuntimeError\u001b[0m: shape '[3, 28, 28]' is invalid for input of size 784"
          ]
        }
      ]
    },
    {
      "cell_type": "code",
      "metadata": {
        "id": "Y9moKIIpRymG"
      },
      "source": [
        "\n",
        "from sklearn.datasets import fetch_openml\n",
        "mnist = fetch_openml('mnist_784', version=1, cache=True, as_frame=False)\n",
        "\n",
        "X = mnist[\"data\"]\n",
        "y = mnist[\"target\"].astype(np.uint8)\n",
        "\n",
        "X_train = X[:50000]\n",
        "y_train = y[:50000]\n",
        "\n",
        "X_val = X[50000:60000]\n",
        "y_val = y[50000:60000]\n",
        "\n",
        "X_test = X[60000:]\n",
        "y_test = y[60000:]"
      ],
      "execution_count": 19,
      "outputs": []
    },
    {
      "cell_type": "code",
      "source": [
        "type(X_train)"
      ],
      "metadata": {
        "id": "vCb4gdmEixEK",
        "outputId": "61bfe06e-7731-4e6c-bc87-ad5cfc539147",
        "colab": {
          "base_uri": "https://localhost:8080/"
        }
      },
      "execution_count": 20,
      "outputs": [
        {
          "output_type": "execute_result",
          "data": {
            "text/plain": [
              "numpy.ndarray"
            ]
          },
          "metadata": {},
          "execution_count": 20
        }
      ]
    },
    {
      "cell_type": "code",
      "source": [
        "print(X_train.shape)"
      ],
      "metadata": {
        "id": "gYVCMZ4Ri67c",
        "outputId": "03e54a7c-99aa-4d08-b2c0-c39730710563",
        "colab": {
          "base_uri": "https://localhost:8080/"
        }
      },
      "execution_count": 21,
      "outputs": [
        {
          "output_type": "stream",
          "name": "stdout",
          "text": [
            "(50000, 784)\n"
          ]
        }
      ]
    },
    {
      "cell_type": "code",
      "source": [
        "X_train[0]"
      ],
      "metadata": {
        "id": "8L01Bvos3MW_",
        "outputId": "ca36ff5d-12c3-49a5-8593-49e27a5ef23d",
        "colab": {
          "base_uri": "https://localhost:8080/"
        }
      },
      "execution_count": 22,
      "outputs": [
        {
          "output_type": "execute_result",
          "data": {
            "text/plain": [
              "array([  0.,   0.,   0.,   0.,   0.,   0.,   0.,   0.,   0.,   0.,   0.,\n",
              "         0.,   0.,   0.,   0.,   0.,   0.,   0.,   0.,   0.,   0.,   0.,\n",
              "         0.,   0.,   0.,   0.,   0.,   0.,   0.,   0.,   0.,   0.,   0.,\n",
              "         0.,   0.,   0.,   0.,   0.,   0.,   0.,   0.,   0.,   0.,   0.,\n",
              "         0.,   0.,   0.,   0.,   0.,   0.,   0.,   0.,   0.,   0.,   0.,\n",
              "         0.,   0.,   0.,   0.,   0.,   0.,   0.,   0.,   0.,   0.,   0.,\n",
              "         0.,   0.,   0.,   0.,   0.,   0.,   0.,   0.,   0.,   0.,   0.,\n",
              "         0.,   0.,   0.,   0.,   0.,   0.,   0.,   0.,   0.,   0.,   0.,\n",
              "         0.,   0.,   0.,   0.,   0.,   0.,   0.,   0.,   0.,   0.,   0.,\n",
              "         0.,   0.,   0.,   0.,   0.,   0.,   0.,   0.,   0.,   0.,   0.,\n",
              "         0.,   0.,   0.,   0.,   0.,   0.,   0.,   0.,   0.,   0.,   0.,\n",
              "         0.,   0.,   0.,   0.,   0.,   0.,   0.,   0.,   0.,   0.,   0.,\n",
              "         0.,   0.,   0.,   0.,   0.,   0.,   0.,   0.,   0.,   0.,   0.,\n",
              "         0.,   0.,   0.,   0.,   0.,   0.,   0.,   0.,   0.,   3.,  18.,\n",
              "        18.,  18., 126., 136., 175.,  26., 166., 255., 247., 127.,   0.,\n",
              "         0.,   0.,   0.,   0.,   0.,   0.,   0.,   0.,   0.,   0.,   0.,\n",
              "        30.,  36.,  94., 154., 170., 253., 253., 253., 253., 253., 225.,\n",
              "       172., 253., 242., 195.,  64.,   0.,   0.,   0.,   0.,   0.,   0.,\n",
              "         0.,   0.,   0.,   0.,   0.,  49., 238., 253., 253., 253., 253.,\n",
              "       253., 253., 253., 253., 251.,  93.,  82.,  82.,  56.,  39.,   0.,\n",
              "         0.,   0.,   0.,   0.,   0.,   0.,   0.,   0.,   0.,   0.,   0.,\n",
              "        18., 219., 253., 253., 253., 253., 253., 198., 182., 247., 241.,\n",
              "         0.,   0.,   0.,   0.,   0.,   0.,   0.,   0.,   0.,   0.,   0.,\n",
              "         0.,   0.,   0.,   0.,   0.,   0.,   0.,  80., 156., 107., 253.,\n",
              "       253., 205.,  11.,   0.,  43., 154.,   0.,   0.,   0.,   0.,   0.,\n",
              "         0.,   0.,   0.,   0.,   0.,   0.,   0.,   0.,   0.,   0.,   0.,\n",
              "         0.,   0.,   0.,  14.,   1., 154., 253.,  90.,   0.,   0.,   0.,\n",
              "         0.,   0.,   0.,   0.,   0.,   0.,   0.,   0.,   0.,   0.,   0.,\n",
              "         0.,   0.,   0.,   0.,   0.,   0.,   0.,   0.,   0.,   0.,   0.,\n",
              "       139., 253., 190.,   2.,   0.,   0.,   0.,   0.,   0.,   0.,   0.,\n",
              "         0.,   0.,   0.,   0.,   0.,   0.,   0.,   0.,   0.,   0.,   0.,\n",
              "         0.,   0.,   0.,   0.,   0.,   0.,  11., 190., 253.,  70.,   0.,\n",
              "         0.,   0.,   0.,   0.,   0.,   0.,   0.,   0.,   0.,   0.,   0.,\n",
              "         0.,   0.,   0.,   0.,   0.,   0.,   0.,   0.,   0.,   0.,   0.,\n",
              "         0.,   0.,  35., 241., 225., 160., 108.,   1.,   0.,   0.,   0.,\n",
              "         0.,   0.,   0.,   0.,   0.,   0.,   0.,   0.,   0.,   0.,   0.,\n",
              "         0.,   0.,   0.,   0.,   0.,   0.,   0.,   0.,   0.,  81., 240.,\n",
              "       253., 253., 119.,  25.,   0.,   0.,   0.,   0.,   0.,   0.,   0.,\n",
              "         0.,   0.,   0.,   0.,   0.,   0.,   0.,   0.,   0.,   0.,   0.,\n",
              "         0.,   0.,   0.,   0.,   0.,  45., 186., 253., 253., 150.,  27.,\n",
              "         0.,   0.,   0.,   0.,   0.,   0.,   0.,   0.,   0.,   0.,   0.,\n",
              "         0.,   0.,   0.,   0.,   0.,   0.,   0.,   0.,   0.,   0.,   0.,\n",
              "         0.,  16.,  93., 252., 253., 187.,   0.,   0.,   0.,   0.,   0.,\n",
              "         0.,   0.,   0.,   0.,   0.,   0.,   0.,   0.,   0.,   0.,   0.,\n",
              "         0.,   0.,   0.,   0.,   0.,   0.,   0.,   0.,   0., 249., 253.,\n",
              "       249.,  64.,   0.,   0.,   0.,   0.,   0.,   0.,   0.,   0.,   0.,\n",
              "         0.,   0.,   0.,   0.,   0.,   0.,   0.,   0.,   0.,   0.,   0.,\n",
              "         0.,  46., 130., 183., 253., 253., 207.,   2.,   0.,   0.,   0.,\n",
              "         0.,   0.,   0.,   0.,   0.,   0.,   0.,   0.,   0.,   0.,   0.,\n",
              "         0.,   0.,   0.,   0.,   0.,  39., 148., 229., 253., 253., 253.,\n",
              "       250., 182.,   0.,   0.,   0.,   0.,   0.,   0.,   0.,   0.,   0.,\n",
              "         0.,   0.,   0.,   0.,   0.,   0.,   0.,   0.,   0.,  24., 114.,\n",
              "       221., 253., 253., 253., 253., 201.,  78.,   0.,   0.,   0.,   0.,\n",
              "         0.,   0.,   0.,   0.,   0.,   0.,   0.,   0.,   0.,   0.,   0.,\n",
              "         0.,   0.,  23.,  66., 213., 253., 253., 253., 253., 198.,  81.,\n",
              "         2.,   0.,   0.,   0.,   0.,   0.,   0.,   0.,   0.,   0.,   0.,\n",
              "         0.,   0.,   0.,   0.,   0.,   0.,  18., 171., 219., 253., 253.,\n",
              "       253., 253., 195.,  80.,   9.,   0.,   0.,   0.,   0.,   0.,   0.,\n",
              "         0.,   0.,   0.,   0.,   0.,   0.,   0.,   0.,   0.,   0.,  55.,\n",
              "       172., 226., 253., 253., 253., 253., 244., 133.,  11.,   0.,   0.,\n",
              "         0.,   0.,   0.,   0.,   0.,   0.,   0.,   0.,   0.,   0.,   0.,\n",
              "         0.,   0.,   0.,   0.,   0., 136., 253., 253., 253., 212., 135.,\n",
              "       132.,  16.,   0.,   0.,   0.,   0.,   0.,   0.,   0.,   0.,   0.,\n",
              "         0.,   0.,   0.,   0.,   0.,   0.,   0.,   0.,   0.,   0.,   0.,\n",
              "         0.,   0.,   0.,   0.,   0.,   0.,   0.,   0.,   0.,   0.,   0.,\n",
              "         0.,   0.,   0.,   0.,   0.,   0.,   0.,   0.,   0.,   0.,   0.,\n",
              "         0.,   0.,   0.,   0.,   0.,   0.,   0.,   0.,   0.,   0.,   0.,\n",
              "         0.,   0.,   0.,   0.,   0.,   0.,   0.,   0.,   0.,   0.,   0.,\n",
              "         0.,   0.,   0.,   0.,   0.,   0.,   0.,   0.,   0.,   0.,   0.,\n",
              "         0.,   0.,   0.,   0.,   0.,   0.,   0.,   0.,   0.,   0.,   0.,\n",
              "         0.,   0.,   0.,   0.,   0.,   0.,   0.,   0.,   0.,   0.,   0.,\n",
              "         0.,   0.,   0.])"
            ]
          },
          "metadata": {},
          "execution_count": 22
        }
      ]
    },
    {
      "cell_type": "code",
      "metadata": {
        "colab": {
          "base_uri": "https://localhost:8080/"
        },
        "id": "e12FubxuRyi7",
        "outputId": "7f742fe9-9078-4fa4-831e-8120beea49c9"
      },
      "source": [
        "print('shape of x train: {}'.format(X_train.shape))"
      ],
      "execution_count": 23,
      "outputs": [
        {
          "output_type": "stream",
          "name": "stdout",
          "text": [
            "shape of x train: (50000, 784)\n"
          ]
        }
      ]
    },
    {
      "cell_type": "code",
      "source": [
        "print(type(X_train))"
      ],
      "metadata": {
        "id": "J8N_5Yt02NnG",
        "outputId": "e882c580-4bd5-4c93-9003-1d7fc153816c",
        "colab": {
          "base_uri": "https://localhost:8080/"
        }
      },
      "execution_count": 24,
      "outputs": [
        {
          "output_type": "stream",
          "name": "stdout",
          "text": [
            "<class 'numpy.ndarray'>\n"
          ]
        }
      ]
    },
    {
      "cell_type": "code",
      "metadata": {
        "id": "3kJ4IWlkRyfz"
      },
      "source": [
        "'''\n",
        "Let's create a tensor from the numpy arrays\n",
        "'''\n",
        "x_train_tensor,x_val_tensor, x_test_tensor = map(torch.FloatTensor, (X_train, X_val, X_test))\n",
        "y_train_tensor,y_val_tensor, y_test_tensor = map(torch.LongTensor, (y_train, y_val, y_test))\n",
        "\n",
        "# y_train_tensor = y_train_tensor.type(torch.LongTensor)\n",
        "# y_test_tensor = y_test_tensor.type(torch.LongTensor)"
      ],
      "execution_count": 25,
      "outputs": []
    },
    {
      "cell_type": "code",
      "metadata": {
        "colab": {
          "base_uri": "https://localhost:8080/"
        },
        "id": "cALwuCBlRydZ",
        "outputId": "a60f8b10-3a7d-4eb2-d83a-4dc70ca03ba2"
      },
      "source": [
        "print(x_train_tensor.shape,x_train_tensor.size())\n",
        "x_train_tensor_reshaped = x_train_tensor.reshape([-1,28,28])\n",
        "\n",
        "print(x_train_tensor_reshaped.size())\n"
      ],
      "execution_count": 26,
      "outputs": [
        {
          "output_type": "stream",
          "name": "stdout",
          "text": [
            "torch.Size([50000, 784]) torch.Size([50000, 784])\n",
            "torch.Size([50000, 28, 28])\n"
          ]
        }
      ]
    },
    {
      "cell_type": "code",
      "source": [
        "y_train[0]"
      ],
      "metadata": {
        "id": "hcoKT-394PYm",
        "outputId": "2314a084-d7ac-4dee-f1e3-7e75f63fc1f7",
        "colab": {
          "base_uri": "https://localhost:8080/"
        }
      },
      "execution_count": 27,
      "outputs": [
        {
          "output_type": "execute_result",
          "data": {
            "text/plain": [
              "5"
            ]
          },
          "metadata": {},
          "execution_count": 27
        }
      ]
    },
    {
      "cell_type": "code",
      "source": [
        "x_train_tensor_reshaped[0:1]"
      ],
      "metadata": {
        "id": "fkT62S-X4B5r",
        "outputId": "82ea9cf5-e773-4bb2-ade3-87b068a070b5",
        "colab": {
          "base_uri": "https://localhost:8080/"
        }
      },
      "execution_count": 28,
      "outputs": [
        {
          "output_type": "execute_result",
          "data": {
            "text/plain": [
              "tensor([[[  0.,   0.,   0.,   0.,   0.,   0.,   0.,   0.,   0.,   0.,   0.,\n",
              "            0.,   0.,   0.,   0.,   0.,   0.,   0.,   0.,   0.,   0.,   0.,\n",
              "            0.,   0.,   0.,   0.,   0.,   0.],\n",
              "         [  0.,   0.,   0.,   0.,   0.,   0.,   0.,   0.,   0.,   0.,   0.,\n",
              "            0.,   0.,   0.,   0.,   0.,   0.,   0.,   0.,   0.,   0.,   0.,\n",
              "            0.,   0.,   0.,   0.,   0.,   0.],\n",
              "         [  0.,   0.,   0.,   0.,   0.,   0.,   0.,   0.,   0.,   0.,   0.,\n",
              "            0.,   0.,   0.,   0.,   0.,   0.,   0.,   0.,   0.,   0.,   0.,\n",
              "            0.,   0.,   0.,   0.,   0.,   0.],\n",
              "         [  0.,   0.,   0.,   0.,   0.,   0.,   0.,   0.,   0.,   0.,   0.,\n",
              "            0.,   0.,   0.,   0.,   0.,   0.,   0.,   0.,   0.,   0.,   0.,\n",
              "            0.,   0.,   0.,   0.,   0.,   0.],\n",
              "         [  0.,   0.,   0.,   0.,   0.,   0.,   0.,   0.,   0.,   0.,   0.,\n",
              "            0.,   0.,   0.,   0.,   0.,   0.,   0.,   0.,   0.,   0.,   0.,\n",
              "            0.,   0.,   0.,   0.,   0.,   0.],\n",
              "         [  0.,   0.,   0.,   0.,   0.,   0.,   0.,   0.,   0.,   0.,   0.,\n",
              "            0.,   3.,  18.,  18.,  18., 126., 136., 175.,  26., 166., 255.,\n",
              "          247., 127.,   0.,   0.,   0.,   0.],\n",
              "         [  0.,   0.,   0.,   0.,   0.,   0.,   0.,   0.,  30.,  36.,  94.,\n",
              "          154., 170., 253., 253., 253., 253., 253., 225., 172., 253., 242.,\n",
              "          195.,  64.,   0.,   0.,   0.,   0.],\n",
              "         [  0.,   0.,   0.,   0.,   0.,   0.,   0.,  49., 238., 253., 253.,\n",
              "          253., 253., 253., 253., 253., 253., 251.,  93.,  82.,  82.,  56.,\n",
              "           39.,   0.,   0.,   0.,   0.,   0.],\n",
              "         [  0.,   0.,   0.,   0.,   0.,   0.,   0.,  18., 219., 253., 253.,\n",
              "          253., 253., 253., 198., 182., 247., 241.,   0.,   0.,   0.,   0.,\n",
              "            0.,   0.,   0.,   0.,   0.,   0.],\n",
              "         [  0.,   0.,   0.,   0.,   0.,   0.,   0.,   0.,  80., 156., 107.,\n",
              "          253., 253., 205.,  11.,   0.,  43., 154.,   0.,   0.,   0.,   0.,\n",
              "            0.,   0.,   0.,   0.,   0.,   0.],\n",
              "         [  0.,   0.,   0.,   0.,   0.,   0.,   0.,   0.,   0.,  14.,   1.,\n",
              "          154., 253.,  90.,   0.,   0.,   0.,   0.,   0.,   0.,   0.,   0.,\n",
              "            0.,   0.,   0.,   0.,   0.,   0.],\n",
              "         [  0.,   0.,   0.,   0.,   0.,   0.,   0.,   0.,   0.,   0.,   0.,\n",
              "          139., 253., 190.,   2.,   0.,   0.,   0.,   0.,   0.,   0.,   0.,\n",
              "            0.,   0.,   0.,   0.,   0.,   0.],\n",
              "         [  0.,   0.,   0.,   0.,   0.,   0.,   0.,   0.,   0.,   0.,   0.,\n",
              "           11., 190., 253.,  70.,   0.,   0.,   0.,   0.,   0.,   0.,   0.,\n",
              "            0.,   0.,   0.,   0.,   0.,   0.],\n",
              "         [  0.,   0.,   0.,   0.,   0.,   0.,   0.,   0.,   0.,   0.,   0.,\n",
              "            0.,  35., 241., 225., 160., 108.,   1.,   0.,   0.,   0.,   0.,\n",
              "            0.,   0.,   0.,   0.,   0.,   0.],\n",
              "         [  0.,   0.,   0.,   0.,   0.,   0.,   0.,   0.,   0.,   0.,   0.,\n",
              "            0.,   0.,  81., 240., 253., 253., 119.,  25.,   0.,   0.,   0.,\n",
              "            0.,   0.,   0.,   0.,   0.,   0.],\n",
              "         [  0.,   0.,   0.,   0.,   0.,   0.,   0.,   0.,   0.,   0.,   0.,\n",
              "            0.,   0.,   0.,  45., 186., 253., 253., 150.,  27.,   0.,   0.,\n",
              "            0.,   0.,   0.,   0.,   0.,   0.],\n",
              "         [  0.,   0.,   0.,   0.,   0.,   0.,   0.,   0.,   0.,   0.,   0.,\n",
              "            0.,   0.,   0.,   0.,  16.,  93., 252., 253., 187.,   0.,   0.,\n",
              "            0.,   0.,   0.,   0.,   0.,   0.],\n",
              "         [  0.,   0.,   0.,   0.,   0.,   0.,   0.,   0.,   0.,   0.,   0.,\n",
              "            0.,   0.,   0.,   0.,   0.,   0., 249., 253., 249.,  64.,   0.,\n",
              "            0.,   0.,   0.,   0.,   0.,   0.],\n",
              "         [  0.,   0.,   0.,   0.,   0.,   0.,   0.,   0.,   0.,   0.,   0.,\n",
              "            0.,   0.,   0.,  46., 130., 183., 253., 253., 207.,   2.,   0.,\n",
              "            0.,   0.,   0.,   0.,   0.,   0.],\n",
              "         [  0.,   0.,   0.,   0.,   0.,   0.,   0.,   0.,   0.,   0.,   0.,\n",
              "            0.,  39., 148., 229., 253., 253., 253., 250., 182.,   0.,   0.,\n",
              "            0.,   0.,   0.,   0.,   0.,   0.],\n",
              "         [  0.,   0.,   0.,   0.,   0.,   0.,   0.,   0.,   0.,   0.,  24.,\n",
              "          114., 221., 253., 253., 253., 253., 201.,  78.,   0.,   0.,   0.,\n",
              "            0.,   0.,   0.,   0.,   0.,   0.],\n",
              "         [  0.,   0.,   0.,   0.,   0.,   0.,   0.,   0.,  23.,  66., 213.,\n",
              "          253., 253., 253., 253., 198.,  81.,   2.,   0.,   0.,   0.,   0.,\n",
              "            0.,   0.,   0.,   0.,   0.,   0.],\n",
              "         [  0.,   0.,   0.,   0.,   0.,   0.,  18., 171., 219., 253., 253.,\n",
              "          253., 253., 195.,  80.,   9.,   0.,   0.,   0.,   0.,   0.,   0.,\n",
              "            0.,   0.,   0.,   0.,   0.,   0.],\n",
              "         [  0.,   0.,   0.,   0.,  55., 172., 226., 253., 253., 253., 253.,\n",
              "          244., 133.,  11.,   0.,   0.,   0.,   0.,   0.,   0.,   0.,   0.,\n",
              "            0.,   0.,   0.,   0.,   0.,   0.],\n",
              "         [  0.,   0.,   0.,   0., 136., 253., 253., 253., 212., 135., 132.,\n",
              "           16.,   0.,   0.,   0.,   0.,   0.,   0.,   0.,   0.,   0.,   0.,\n",
              "            0.,   0.,   0.,   0.,   0.,   0.],\n",
              "         [  0.,   0.,   0.,   0.,   0.,   0.,   0.,   0.,   0.,   0.,   0.,\n",
              "            0.,   0.,   0.,   0.,   0.,   0.,   0.,   0.,   0.,   0.,   0.,\n",
              "            0.,   0.,   0.,   0.,   0.,   0.],\n",
              "         [  0.,   0.,   0.,   0.,   0.,   0.,   0.,   0.,   0.,   0.,   0.,\n",
              "            0.,   0.,   0.,   0.,   0.,   0.,   0.,   0.,   0.,   0.,   0.,\n",
              "            0.,   0.,   0.,   0.,   0.,   0.],\n",
              "         [  0.,   0.,   0.,   0.,   0.,   0.,   0.,   0.,   0.,   0.,   0.,\n",
              "            0.,   0.,   0.,   0.,   0.,   0.,   0.,   0.,   0.,   0.,   0.,\n",
              "            0.,   0.,   0.,   0.,   0.,   0.]]])"
            ]
          },
          "metadata": {},
          "execution_count": 28
        }
      ]
    },
    {
      "cell_type": "markdown",
      "metadata": {
        "id": "vmIvwydEYfzL"
      },
      "source": [
        "Dimensions permutations. The order of the \"columns\" is not the one useful for our tasks so we need to change the order. \n",
        "For instance, images are stored as ```[height, width, channel]``` tensors, but PyTorch prefers to deal with these in a ```[channel, height, width ] order```\n",
        "\n",
        "```\n",
        "permute() \n",
        "```"
      ]
    },
    {
      "cell_type": "code",
      "metadata": {
        "colab": {
          "base_uri": "https://localhost:8080/"
        },
        "id": "f9awYd1YRyas",
        "outputId": "c917d483-cc69-438a-ca6d-9f1ab8d9d335"
      },
      "source": [
        "hwc_tensor = torch.rand(643,232,9)\n",
        "chw_tensor = hwc_tensor.permute(2,0,1)\n",
        "print('Shape of hwc tensor {}',hwc_tensor.shape)\n",
        "print('Shape of chw tensor {}',chw_tensor.shape)"
      ],
      "execution_count": 29,
      "outputs": [
        {
          "output_type": "stream",
          "name": "stdout",
          "text": [
            "Shape of hwc tensor {} torch.Size([643, 232, 9])\n",
            "Shape of chw tensor {} torch.Size([9, 643, 232])\n"
          ]
        }
      ]
    },
    {
      "cell_type": "markdown",
      "metadata": {
        "id": "UxnUPHmmZkBV"
      },
      "source": [
        "Slice on tensors to access certain elements of the data structrure"
      ]
    },
    {
      "cell_type": "code",
      "metadata": {
        "colab": {
          "base_uri": "https://localhost:8080/",
          "height": 501
        },
        "id": "mQLxbX7JRyX2",
        "outputId": "33d77722-4bcd-4131-b47a-c5608730cebe"
      },
      "source": [
        "'''\n",
        "Take the ten first lines for all the images\n",
        "'''\n",
        "\n",
        "print('the shape is {}'.format(x_train_tensor_reshaped.size()))\n",
        "\n",
        "selected_part = x_train_tensor_reshaped[:,:,10:20]\n",
        "\n",
        "print('the shape of the cropped tensor is {}'.format(selected_part.size()))\n",
        "\n",
        "fig, axes = plt.subplots(8,8,figsize=(8,8))\n",
        "for i in range(8):\n",
        "    for j in range(8):\n",
        "        num_index = np.random.randint(len(selected_part))\n",
        "        axes[i,j].imshow(selected_part[num_index].numpy(), cmap=\"gray\")\n",
        "        axes[i,j].axis(\"off\")\n",
        "plt.show() "
      ],
      "execution_count": 30,
      "outputs": [
        {
          "output_type": "stream",
          "name": "stdout",
          "text": [
            "the shape is torch.Size([50000, 28, 28])\n",
            "the shape of the cropped tensor is torch.Size([50000, 28, 10])\n"
          ]
        },
        {
          "output_type": "display_data",
          "data": {
            "text/plain": [
              "<Figure size 576x576 with 64 Axes>"
            ],
            "image/png": "[encoded data removed]"
          },
          "metadata": {
            "needs_background": "light"
          }
        }
      ]
    },
    {
      "cell_type": "code",
      "source": [
        "selected_part[num_index].numpy()"
      ],
      "metadata": {
        "id": "OYl7mphX5enO",
        "outputId": "0845c812-21a7-4229-9a18-eca37d621cbe",
        "colab": {
          "base_uri": "https://localhost:8080/"
        }
      },
      "execution_count": 31,
      "outputs": [
        {
          "output_type": "execute_result",
          "data": {
            "text/plain": [
              "array([[  0.,   0.,   0.,   0.,   0.,   0.,   0.,   0.,   0.,   0.],\n",
              "       [  0.,   0.,   0.,   0.,   0.,   0.,   0.,   0.,   0.,   0.],\n",
              "       [  0.,   0.,   0.,   0.,   0.,   0.,   0.,   0.,   0.,   0.],\n",
              "       [  0.,   0.,   0.,   0.,   0.,   0.,   0.,   0.,   0.,   0.],\n",
              "       [  0.,   0.,   0.,   0.,   0.,   0.,   0.,   0.,  11., 106.],\n",
              "       [  0.,   0.,   0.,   0.,   0.,   6.,  77., 161., 214., 253.],\n",
              "       [  0.,   0.,   0.,   3.,  58., 200., 253., 253., 239., 247.],\n",
              "       [  0.,   0.,  60., 200., 253., 253., 152., 126., 240.,  92.],\n",
              "       [ 55., 203., 252., 254., 183.,  30.,  92., 243., 114.,   0.],\n",
              "       [239., 254., 189.,  50.,   0.,  68., 244.,  90.,   0.,   0.],\n",
              "       [221., 131.,   4.,   0.,  69., 241., 233., 115.,  10.,   0.],\n",
              "       [  0.,   0.,   0., 132., 241., 253., 253., 253., 208.,   0.],\n",
              "       [  0.,  16., 188., 254., 253., 186., 111., 224., 247.,  36.],\n",
              "       [  0., 138., 253., 194.,  35.,   3.,   0., 133., 254., 137.],\n",
              "       [  0., 214., 163.,  25.,   0.,   0.,   0.,  80., 255.,  63.],\n",
              "       [  0.,  20.,   0.,   0.,   0.,   0.,   0.,  80., 247.,  36.],\n",
              "       [  0.,   0.,   0.,   0.,   0.,   0.,   0., 144., 238.,   0.],\n",
              "       [  0.,   0.,   0.,   0.,   0.,   0.,   0., 228., 148.,   0.],\n",
              "       [  0.,   0.,   0.,   0.,   0.,   0.,  20., 243.,   5.,   0.],\n",
              "       [  0.,   0.,   0.,   0.,   0.,   0., 148., 194.,   0.,   0.],\n",
              "       [  0.,   0.,   0.,   0.,   4.,  72., 228.,  33.,   0.,   0.],\n",
              "       [206., 161., 176., 207., 212., 253.,  86.,   0.,   0.,   0.],\n",
              "       [253., 253., 253., 254., 205., 111.,   4.,   0.,   0.,   0.],\n",
              "       [238., 173., 125.,  41.,   4.,   0.,   0.,   0.,   0.,   0.],\n",
              "       [  0.,   0.,   0.,   0.,   0.,   0.,   0.,   0.,   0.,   0.],\n",
              "       [  0.,   0.,   0.,   0.,   0.,   0.,   0.,   0.,   0.,   0.],\n",
              "       [  0.,   0.,   0.,   0.,   0.,   0.,   0.,   0.,   0.,   0.],\n",
              "       [  0.,   0.,   0.,   0.,   0.,   0.,   0.,   0.,   0.,   0.]],\n",
              "      dtype=float32)"
            ]
          },
          "metadata": {},
          "execution_count": 31
        }
      ]
    },
    {
      "cell_type": "markdown",
      "metadata": {
        "id": "GjCRQKQY_rWm"
      },
      "source": [
        "Numpy iteroperability: \n",
        "- From ```Tensor``` to ```numpy.array```\n",
        "- From ```numpy.array``` to ```Tensor```"
      ]
    },
    {
      "cell_type": "code",
      "metadata": {
        "colab": {
          "base_uri": "https://localhost:8080/"
        },
        "id": "LX3T67ja_p1M",
        "outputId": "58d81fad-36ab-4f27-a5da-faef052c95e4"
      },
      "source": [
        "points = torch.zeros(3,4)\n",
        "points_np = points.numpy()\n",
        "\n",
        "print('Type points: {}'.format(type(points)))\n",
        "print('Type points_np: {}'.format(type(points_np)))\n",
        "\n",
        "new_points = torch.from_numpy(points_np)\n",
        "print('Type new_points: {}'.format(type(new_points)))\n"
      ],
      "execution_count": 32,
      "outputs": [
        {
          "output_type": "stream",
          "name": "stdout",
          "text": [
            "Type points: <class 'torch.Tensor'>\n",
            "Type points_np: <class 'numpy.ndarray'>\n",
            "Type new_points: <class 'torch.Tensor'>\n"
          ]
        }
      ]
    },
    {
      "cell_type": "markdown",
      "metadata": {
        "id": "xeyEWf_JETYE"
      },
      "source": [
        "# Our first Neural Network in this class :-) \n",
        "\n",
        "- prepare the data for pytorch ```Dataset``` and ```DataLoader```\n",
        "- create the network, loss, optimizer\n",
        "- training \n"
      ]
    },
    {
      "cell_type": "markdown",
      "metadata": {
        "id": "-E76Q_tOCjHS"
      },
      "source": [
        "PyTorch has developed standard conventions of interacting with data that make it fairly consistent to work with, whether you are working with images, text, or audio\n",
        "\n",
        "\n",
        "```Dataset``` and ```DataLoader``` are two classes used to create the data in the format needed for PyTorch.\n",
        "\n",
        "- ```Dataset``` is a python class that allows us to get at the data we are supplying to the neural network \n",
        "- ```DataLoader``` is what feeds data from the dataset into the network "
      ]
    },
    {
      "cell_type": "markdown",
      "metadata": {
        "id": "ppZO80xIHmYJ"
      },
      "source": [
        "Every dataset, no matter whether it includes images, audio, text, etc, can interact with PyTorch if it satisfies this abstract Python class: \n",
        "\n",
        "```python\n",
        "class Dataset(object):\n",
        "  def __getitem__(self,index):\n",
        "    raise NotImplementedError\n",
        "  def __len__(self):\n",
        "    raise NotImplementedError\n",
        "```\n",
        "\n",
        "We have to implement a method that returns the size of our dataset (```len```), and implement a method that can retrieve an item from our dataset in a (*label,tensor*) pair.\n",
        "\n",
        "The dataset is called, then by the data loader and it pushes data into the the network.\n",
        "\n",
        "It is possible to use the class ```TensorDataset```\n",
        "\n",
        "There are also some package that help us on do it, for instance: \n",
        "```torchvision``` with ImageFolder, ```torchtext```. \n",
        "\n",
        "[torchvision](https://pytorch.org/vision/stable/index.html)\n",
        "\n",
        "[torchtext](https://pytorch.org/text/stable/index.html)\n",
        "\n",
        "\n"
      ]
    },
    {
      "cell_type": "markdown",
      "metadata": {
        "id": "FFJNPK0eYKqq"
      },
      "source": [
        "## Classification"
      ]
    },
    {
      "cell_type": "code",
      "metadata": {
        "id": "frK0wby5lhM9"
      },
      "source": [
        "from torch.utils.data import TensorDataset\n",
        "from torch.utils.data import DataLoader\n",
        "\n",
        "batch_size = 32 \n",
        "train_ds = TensorDataset(x_train_tensor, y_train_tensor)\n",
        "train_dl = DataLoader(\n",
        "    train_ds, batch_size=batch_size, shuffle=True)\n",
        "\n",
        "val_ds = TensorDataset(x_val_tensor, y_val_tensor)\n",
        "val_dl = DataLoader(\n",
        "    val_ds, batch_size=batch_size, shuffle=True)\n",
        "\n",
        "\n",
        "test_ds = TensorDataset(x_test_tensor, y_test_tensor)\n",
        "test_dl = DataLoader(test_ds, batch_size=batch_size)\n"
      ],
      "execution_count": 33,
      "outputs": []
    },
    {
      "cell_type": "code",
      "metadata": {
        "id": "3Sk_YxGeMQhM"
      },
      "source": [
        "from torch.utils.data import Dataset, DataLoader\n",
        "class imageDataset(Dataset):\n",
        "    \n",
        "    def __init__(self, X_data, y_data):\n",
        "        self.X_data = X_data\n",
        "        self.y_data = y_data\n",
        "        \n",
        "    def __getitem__(self, index):\n",
        "        return self.X_data[index], self.y_data[index]\n",
        "        \n",
        "    def __len__ (self):\n",
        "        return len(self.X_data)\n",
        " "
      ],
      "execution_count": 34,
      "outputs": []
    },
    {
      "cell_type": "code",
      "metadata": {
        "id": "l8Y6k6AHMgNJ"
      },
      "source": [
        "train_ds = imageDataset(x_train_tensor, y_train_tensor)\n",
        "train_dl = DataLoader(\n",
        "    train_ds, batch_size=batch_size, shuffle=True)\n"
      ],
      "execution_count": 35,
      "outputs": []
    },
    {
      "cell_type": "markdown",
      "metadata": {
        "id": "fy_MEOL7C20C"
      },
      "source": [
        "The definition of a network uses the ```nn.Module``` of pytorch. \n",
        "\n",
        "```Linear``` defines the structure of each layer\n",
        "```forward``` defines how the data should flow across the different layers of the network\n",
        "```relu``` is the activation function\n",
        "\n",
        "For each layer we define the size of the input and the output.\n",
        "For instance, the first layer takes in input the same shape of the MINST images. Then, it passes the dato to a 200 nodes.\n",
        "\n",
        "The latest layer returns an output equal to the number of classes. \n",
        "\n",
        "To understand which is the predicted class we need to take the ```argmax()``` of the output, such as the index of max score assigned to each instance by the network. "
      ]
    },
    {
      "cell_type": "code",
      "metadata": {
        "id": "xz26ffVjhxYE"
      },
      "source": [
        "class SimpleNet(nn.Module):\n",
        "\n",
        "    def __init__(self):\n",
        "        super(SimpleNet, self).__init__()\n",
        "        self.fc1 = nn.Linear(784, 200)\n",
        "        self.fc2 = nn.Linear(200, 50)\n",
        "        self.fc3 = nn.Linear(50,10)\n",
        "    \n",
        "    def forward(self, x):\n",
        "        x = F.relu(self.fc1(x))\n",
        "        x = F.relu(self.fc2(x))\n",
        "        x = self.fc3(x)\n",
        "        return x"
      ],
      "execution_count": 36,
      "outputs": []
    },
    {
      "cell_type": "code",
      "metadata": {
        "id": "FrZAZFYCjyVh"
      },
      "source": [
        "'''\n",
        "create an instance of the network\n",
        "'''\n",
        "simplenet = SimpleNet()"
      ],
      "execution_count": 37,
      "outputs": []
    },
    {
      "cell_type": "code",
      "source": [
        "simplenet.state_dict()"
      ],
      "metadata": {
        "id": "owLn1PHJ_L5K",
        "outputId": "9d8edc46-6309-4f9c-bed8-41a5daa99cbc",
        "colab": {
          "base_uri": "https://localhost:8080/"
        }
      },
      "execution_count": 38,
      "outputs": [
        {
          "output_type": "execute_result",
          "data": {
            "text/plain": [
              "OrderedDict([('fc1.weight',\n",
              "              tensor([[-0.0029,  0.0123,  0.0264,  ...,  0.0026,  0.0052, -0.0013],\n",
              "                      [-0.0086, -0.0026, -0.0291,  ..., -0.0276,  0.0021,  0.0293],\n",
              "                      [ 0.0009, -0.0220, -0.0220,  ..., -0.0067,  0.0256, -0.0189],\n",
              "                      ...,\n",
              "                      [-0.0151, -0.0147, -0.0023,  ..., -0.0112, -0.0087,  0.0026],\n",
              "                      [ 0.0005,  0.0304, -0.0001,  ...,  0.0073,  0.0310,  0.0270],\n",
              "                      [ 0.0045, -0.0312, -0.0107,  ..., -0.0202,  0.0184,  0.0230]])),\n",
              "             ('fc1.bias',\n",
              "              tensor([-0.0203, -0.0227,  0.0247,  0.0047,  0.0240,  0.0147,  0.0277,  0.0236,\n",
              "                      -0.0242, -0.0114, -0.0125,  0.0349,  0.0038,  0.0058, -0.0020, -0.0311,\n",
              "                      -0.0313, -0.0258,  0.0219,  0.0264,  0.0180,  0.0030, -0.0246, -0.0062,\n",
              "                       0.0233, -0.0259,  0.0125,  0.0015,  0.0185,  0.0058, -0.0345, -0.0149,\n",
              "                       0.0322, -0.0304, -0.0231, -0.0188,  0.0323, -0.0341,  0.0314, -0.0136,\n",
              "                      -0.0307, -0.0130,  0.0093, -0.0303,  0.0354, -0.0004, -0.0075, -0.0205,\n",
              "                      -0.0271,  0.0236,  0.0038, -0.0087, -0.0295, -0.0150,  0.0221, -0.0355,\n",
              "                       0.0068,  0.0039,  0.0238, -0.0230,  0.0078, -0.0290, -0.0236,  0.0080,\n",
              "                       0.0072, -0.0038, -0.0159, -0.0019,  0.0199,  0.0332, -0.0240,  0.0115,\n",
              "                       0.0104,  0.0257, -0.0324, -0.0333, -0.0017, -0.0302,  0.0205,  0.0170,\n",
              "                      -0.0225, -0.0159,  0.0144, -0.0230,  0.0047, -0.0211, -0.0049, -0.0078,\n",
              "                      -0.0324,  0.0117,  0.0126,  0.0069, -0.0129, -0.0278, -0.0281,  0.0237,\n",
              "                       0.0141, -0.0180, -0.0126, -0.0087,  0.0067, -0.0261, -0.0023, -0.0095,\n",
              "                      -0.0005,  0.0265,  0.0040, -0.0082, -0.0214, -0.0309, -0.0082, -0.0319,\n",
              "                       0.0341,  0.0069,  0.0240, -0.0070, -0.0003,  0.0151, -0.0231, -0.0343,\n",
              "                       0.0342,  0.0208, -0.0005, -0.0319, -0.0131, -0.0312,  0.0111, -0.0006,\n",
              "                       0.0236, -0.0255, -0.0356, -0.0259, -0.0198,  0.0052,  0.0207,  0.0273,\n",
              "                       0.0302, -0.0352, -0.0297, -0.0162, -0.0228,  0.0339, -0.0109,  0.0347,\n",
              "                      -0.0205,  0.0339, -0.0350, -0.0333, -0.0139, -0.0222, -0.0199,  0.0241,\n",
              "                      -0.0208,  0.0040,  0.0355,  0.0088,  0.0014,  0.0315,  0.0223,  0.0132,\n",
              "                       0.0219, -0.0067, -0.0077, -0.0154,  0.0035, -0.0148, -0.0136, -0.0216,\n",
              "                       0.0213,  0.0317, -0.0165, -0.0334, -0.0293, -0.0163, -0.0312, -0.0256,\n",
              "                      -0.0261,  0.0352, -0.0154, -0.0349, -0.0078, -0.0017, -0.0245, -0.0271,\n",
              "                       0.0262,  0.0274,  0.0181,  0.0240, -0.0252, -0.0100,  0.0172, -0.0057,\n",
              "                      -0.0293,  0.0140,  0.0104,  0.0112,  0.0300,  0.0159,  0.0319, -0.0253])),\n",
              "             ('fc2.weight',\n",
              "              tensor([[-0.0115,  0.0470, -0.0365,  ...,  0.0041,  0.0108, -0.0101],\n",
              "                      [-0.0257,  0.0374, -0.0398,  ..., -0.0282, -0.0018,  0.0293],\n",
              "                      [-0.0182,  0.0240, -0.0025,  ..., -0.0175,  0.0451,  0.0598],\n",
              "                      ...,\n",
              "                      [-0.0096,  0.0644,  0.0543,  ..., -0.0227,  0.0113,  0.0613],\n",
              "                      [-0.0149,  0.0120, -0.0439,  ..., -0.0675,  0.0086,  0.0402],\n",
              "                      [-0.0654,  0.0573, -0.0342,  ...,  0.0600, -0.0096, -0.0402]])),\n",
              "             ('fc2.bias',\n",
              "              tensor([-0.0041, -0.0283,  0.0417, -0.0523,  0.0327, -0.0183,  0.0420,  0.0414,\n",
              "                      -0.0133,  0.0590,  0.0409,  0.0609, -0.0475, -0.0392,  0.0218, -0.0657,\n",
              "                       0.0038, -0.0346, -0.0262, -0.0171, -0.0014,  0.0573,  0.0342,  0.0663,\n",
              "                       0.0066, -0.0263, -0.0276, -0.0518, -0.0321, -0.0005,  0.0619, -0.0683,\n",
              "                      -0.0522,  0.0485, -0.0632,  0.0131, -0.0395,  0.0236,  0.0586, -0.0065,\n",
              "                      -0.0192, -0.0316,  0.0084,  0.0528,  0.0119, -0.0015, -0.0339,  0.0697,\n",
              "                       0.0485, -0.0576])),\n",
              "             ('fc3.weight',\n",
              "              tensor([[-1.0007e-02, -2.7947e-02,  1.4615e-03, -5.0130e-02,  3.6775e-02,\n",
              "                       -9.1753e-02,  1.7954e-02,  6.4629e-02,  1.3547e-01,  6.3532e-02,\n",
              "                       -8.6312e-02, -3.1046e-03,  1.0274e-01, -1.8634e-02,  5.0579e-02,\n",
              "                        4.9635e-02, -6.6564e-02, -2.2800e-02, -8.8059e-02, -1.2293e-02,\n",
              "                       -2.7546e-02, -1.3795e-01,  1.1758e-01, -1.7505e-02, -9.1893e-02,\n",
              "                        5.2146e-02,  1.8352e-02,  1.7431e-02, -3.0227e-02,  3.2514e-02,\n",
              "                       -7.2979e-02, -6.0782e-02,  6.6047e-02,  5.8919e-02, -4.5634e-02,\n",
              "                        1.3146e-01, -7.3474e-02,  8.0641e-02,  4.4049e-02,  2.9365e-02,\n",
              "                       -1.0250e-01, -3.0866e-02,  1.9959e-02,  2.5926e-02, -3.2102e-02,\n",
              "                        1.0540e-01, -1.1339e-01, -3.1956e-02, -4.1545e-02, -8.4244e-02],\n",
              "                      [-4.2549e-02,  1.0225e-01,  5.9104e-02, -2.5576e-02,  4.0412e-02,\n",
              "                       -4.3545e-02, -1.3743e-01,  8.4637e-02,  7.4210e-02, -1.8652e-02,\n",
              "                        1.1365e-01,  8.1026e-02,  9.2083e-02, -6.5178e-02, -7.1990e-02,\n",
              "                        6.0669e-02,  1.0935e-01, -4.1663e-02,  1.2445e-01, -3.1919e-02,\n",
              "                        9.9227e-02, -9.8774e-02,  1.8981e-02, -4.9733e-02, -2.8902e-02,\n",
              "                        4.1166e-02,  5.5864e-02,  1.2165e-01, -1.3912e-01, -6.5174e-02,\n",
              "                        1.6430e-02, -4.0832e-02,  1.0976e-01, -5.4377e-02,  1.4180e-02,\n",
              "                       -4.1755e-02,  7.4185e-02, -2.7607e-03,  2.4480e-02, -8.5136e-02,\n",
              "                       -9.0966e-02, -1.2543e-01, -1.0032e-02, -4.1113e-02,  1.3333e-01,\n",
              "                        1.0581e-01, -7.0042e-02, -1.9401e-02,  1.1063e-01,  1.5710e-02],\n",
              "                      [ 2.7366e-02, -9.6128e-02, -2.3370e-02, -1.3323e-01, -9.6618e-02,\n",
              "                        2.5221e-02, -1.2144e-01,  1.0442e-01,  1.0715e-01, -7.6582e-02,\n",
              "                       -1.0431e-01, -8.5968e-02,  1.1247e-01,  7.0683e-02,  9.6299e-02,\n",
              "                       -6.1223e-02, -1.0588e-01,  7.1857e-02, -7.3177e-02,  6.0035e-02,\n",
              "                        1.3994e-01, -9.6234e-02, -8.9419e-02,  1.9709e-02,  4.6380e-02,\n",
              "                        2.1538e-02, -1.7253e-02,  7.6169e-02,  3.4934e-02,  1.0867e-01,\n",
              "                        7.1109e-02, -1.1429e-01,  5.6915e-02, -4.1755e-02,  1.7701e-02,\n",
              "                        9.8974e-02,  4.1055e-02, -8.1451e-02,  4.5652e-02, -3.0053e-02,\n",
              "                       -1.3874e-01,  1.0262e-01,  3.7964e-03, -8.8260e-02,  4.9730e-02,\n",
              "                       -9.0836e-02,  8.8252e-02, -3.2588e-02, -1.2718e-01,  5.4916e-02],\n",
              "                      [-4.0231e-02, -6.9388e-02, -6.7841e-02,  5.3545e-02, -1.2798e-01,\n",
              "                        5.7047e-03,  4.4362e-02,  4.3327e-02, -4.5030e-02, -1.1816e-01,\n",
              "                       -3.8483e-02, -1.8388e-02,  1.0837e-01, -2.3743e-02,  3.3509e-02,\n",
              "                       -1.3377e-01,  5.3216e-02, -6.9556e-02,  7.3286e-02,  1.2389e-01,\n",
              "                       -1.2483e-02, -6.6585e-02, -1.2859e-01, -1.0310e-01,  6.4156e-02,\n",
              "                        9.6323e-02,  4.6159e-02, -4.5329e-02,  1.8201e-02,  7.9315e-02,\n",
              "                       -3.5014e-02,  1.0182e-02, -1.2271e-01, -1.3502e-01, -6.8069e-02,\n",
              "                       -1.2540e-01, -2.2382e-02, -3.3343e-02,  4.2219e-02, -2.8391e-02,\n",
              "                        9.1409e-02,  6.1777e-02, -1.1964e-01,  1.0261e-01,  1.3880e-01,\n",
              "                        2.2013e-02,  4.3625e-02, -9.1463e-02, -1.3081e-01,  6.9206e-02],\n",
              "                      [ 1.3197e-01,  7.0278e-02,  1.0874e-03, -1.1894e-01, -9.2517e-02,\n",
              "                       -3.2872e-02,  4.1284e-02,  8.9709e-04,  3.4745e-02,  1.1327e-01,\n",
              "                        8.6383e-03, -5.3446e-02, -1.3675e-01,  9.6644e-03, -9.9001e-02,\n",
              "                        3.1368e-02,  3.4152e-02, -5.5939e-02,  1.1147e-01, -4.4267e-02,\n",
              "                       -8.1773e-02, -4.3015e-02, -3.0738e-02,  2.9799e-02, -6.1463e-02,\n",
              "                        1.2007e-01, -9.5057e-03, -3.3475e-02, -6.3335e-02, -5.7698e-02,\n",
              "                        1.1939e-01,  9.7701e-02,  1.2172e-01, -3.9454e-02, -1.1835e-01,\n",
              "                        7.2824e-02,  4.8286e-02,  3.0308e-02,  9.2359e-02,  5.9004e-02,\n",
              "                       -4.2574e-02,  4.0718e-02,  8.9888e-02,  6.4877e-02, -1.2569e-01,\n",
              "                       -3.5824e-02, -5.4100e-03, -2.8121e-02, -4.6589e-02,  3.1906e-02],\n",
              "                      [ 7.0701e-02,  1.1316e-01, -7.2562e-02,  5.8208e-02,  1.0567e-01,\n",
              "                        1.9598e-02,  1.2298e-01,  9.0144e-02,  1.3305e-01,  7.0400e-02,\n",
              "                        5.4036e-02, -1.1688e-01,  9.7111e-03,  1.5599e-02,  3.1558e-02,\n",
              "                        3.5980e-02, -1.7955e-02,  7.6236e-02, -8.0520e-02,  4.3738e-02,\n",
              "                       -3.7786e-02, -1.0033e-01, -1.9972e-02,  1.2677e-01, -2.7985e-02,\n",
              "                        4.9607e-02, -1.1494e-01,  1.0761e-01, -1.0608e-01,  1.2063e-01,\n",
              "                        7.6104e-02,  9.5063e-03,  9.4323e-02,  3.9605e-03, -1.1740e-01,\n",
              "                        9.6609e-03,  5.5555e-02,  3.1763e-02,  1.5980e-02, -8.0678e-02,\n",
              "                       -3.7708e-02,  9.9311e-02,  6.2795e-03,  9.4276e-02, -7.2705e-02,\n",
              "                        1.0298e-01, -1.2995e-01,  8.6296e-02,  8.6777e-02, -1.0436e-02],\n",
              "                      [-1.2955e-01, -6.7481e-02, -7.3766e-02, -8.4277e-03,  7.9171e-02,\n",
              "                        1.6390e-02, -5.1826e-02,  1.3558e-01,  4.8943e-02, -7.5983e-02,\n",
              "                       -6.0811e-04, -4.7234e-02,  1.3056e-01, -1.0384e-01, -9.5794e-02,\n",
              "                        1.1440e-01, -2.9821e-02, -1.3404e-01, -1.1891e-01,  1.9212e-02,\n",
              "                        1.1301e-01,  6.6459e-02,  1.1293e-01, -1.0923e-01, -1.2948e-05,\n",
              "                        2.1191e-02,  7.4327e-02,  1.3417e-01,  9.6451e-02, -7.6248e-02,\n",
              "                        3.7176e-02, -8.1105e-02,  1.1611e-01, -1.3528e-01,  5.6023e-02,\n",
              "                        8.1836e-02,  8.3568e-02,  3.8790e-02, -4.4446e-02, -1.1220e-01,\n",
              "                        1.0852e-01, -1.1407e-01,  4.6404e-02, -5.4029e-03,  7.2674e-02,\n",
              "                        2.0229e-02, -1.1563e-01,  1.1881e-01,  3.4192e-02,  1.0432e-01],\n",
              "                      [-8.4305e-02, -7.3794e-02,  1.8508e-02,  8.5628e-02,  1.0727e-01,\n",
              "                        1.0063e-01, -1.7369e-02, -1.4104e-01, -4.4760e-02,  1.2591e-01,\n",
              "                        3.0723e-02, -1.1513e-01,  6.3428e-02,  7.9792e-02,  1.0977e-01,\n",
              "                        1.1876e-01, -3.5391e-03,  4.0534e-02, -4.4740e-02, -1.2112e-01,\n",
              "                        6.4254e-02, -7.3268e-02, -8.4451e-02,  5.1966e-02,  1.2836e-01,\n",
              "                       -1.1382e-01,  7.8993e-02, -4.4236e-02, -1.1881e-01, -6.9068e-03,\n",
              "                       -1.0116e-01, -5.2804e-02,  1.2652e-01,  1.1343e-01, -5.0813e-02,\n",
              "                        5.1660e-02, -3.6466e-02,  1.1450e-01, -6.1910e-02, -1.8468e-02,\n",
              "                       -1.2835e-01,  1.0351e-02, -1.2584e-01, -1.3337e-01, -8.6176e-03,\n",
              "                        3.0375e-02, -6.7941e-02,  2.3219e-03,  1.3970e-01,  3.7838e-02],\n",
              "                      [ 1.3371e-01,  1.3104e-01,  9.8642e-02,  1.2742e-01,  1.4554e-02,\n",
              "                       -6.3688e-02, -2.9821e-03, -4.6837e-02, -1.2837e-01,  6.0583e-02,\n",
              "                       -2.9177e-02,  1.1214e-01,  7.2517e-02,  9.5833e-02, -1.3545e-01,\n",
              "                       -1.3349e-01, -6.1845e-02,  2.9976e-02,  1.1709e-01,  9.2519e-04,\n",
              "                        8.6850e-02,  8.9859e-02,  6.2017e-02,  2.8538e-02,  7.1396e-02,\n",
              "                        7.1478e-03, -5.5443e-02, -1.2707e-01,  6.7069e-02, -9.5020e-02,\n",
              "                       -7.4105e-02, -1.4105e-01, -5.2726e-02,  6.3881e-02, -1.1691e-01,\n",
              "                       -1.0823e-01,  5.8547e-02, -1.3535e-01, -9.4445e-03, -1.1513e-01,\n",
              "                       -2.3937e-03, -1.1558e-01, -1.7620e-02, -1.1098e-01,  1.1029e-01,\n",
              "                       -1.3301e-01, -5.6961e-02, -1.3630e-01,  4.0081e-02,  1.1369e-01],\n",
              "                      [ 2.7766e-04,  1.0424e-01,  9.2448e-02, -1.3401e-04, -5.5978e-02,\n",
              "                       -3.8658e-02,  9.9086e-02, -2.0135e-02, -2.0060e-02, -1.3967e-01,\n",
              "                       -4.3765e-02, -5.4835e-02,  4.0673e-02,  7.0193e-02,  7.0071e-02,\n",
              "                       -7.0474e-02,  8.1291e-02, -4.8506e-02,  1.1571e-01,  2.0995e-03,\n",
              "                        1.0741e-01,  4.0743e-02, -8.4806e-03, -9.2793e-02,  1.5951e-02,\n",
              "                        3.3183e-02,  1.1510e-01,  1.0703e-01, -8.2471e-02,  1.3299e-01,\n",
              "                        5.6245e-02,  2.1110e-02, -3.6868e-02,  4.3597e-02,  1.2215e-01,\n",
              "                        1.0254e-01, -2.1652e-02, -5.8566e-02,  5.3753e-02, -1.3880e-01,\n",
              "                       -6.8632e-05,  1.1157e-01,  9.5080e-02, -5.1512e-02,  4.4288e-02,\n",
              "                        2.7543e-02,  6.7881e-02,  9.8372e-02, -1.1428e-01, -4.8246e-02]])),\n",
              "             ('fc3.bias',\n",
              "              tensor([ 0.0243, -0.1213, -0.0578,  0.1207,  0.0726,  0.0562,  0.0482, -0.0737,\n",
              "                      -0.1310, -0.0689]))])"
            ]
          },
          "metadata": {},
          "execution_count": 38
        }
      ]
    },
    {
      "cell_type": "code",
      "source": [
        "simplenet.parameters()"
      ],
      "metadata": {
        "id": "YND7B6b5s9oB",
        "outputId": "cd07ba87-e10f-4e7f-f331-4b76d228b1ea",
        "colab": {
          "base_uri": "https://localhost:8080/"
        }
      },
      "execution_count": 39,
      "outputs": [
        {
          "output_type": "execute_result",
          "data": {
            "text/plain": [
              "<generator object Module.parameters at 0x7f62a5d60650>"
            ]
          },
          "metadata": {},
          "execution_count": 39
        }
      ]
    },
    {
      "cell_type": "code",
      "metadata": {
        "id": "IMCjaOMFkMGU"
      },
      "source": [
        "'''\n",
        "Definition of an optimizer, in this case we select the Adam optimizer\n",
        "Another possible optimizer is the SGD that is possibile to select from \n",
        "the same class optim\n",
        "'''\n",
        "optimizer = optim.Adam(simplenet.parameters(), lr=0.001)\n",
        "optimizer_regr = optim.SGD(simplenet.parameters(),lr=0.0001)"
      ],
      "execution_count": 40,
      "outputs": []
    },
    {
      "cell_type": "code",
      "metadata": {
        "id": "2cNo6C_fkSWI"
      },
      "source": [
        "'''\n",
        "And then, we need a definition of the loss. \n",
        "Also in this case, we can select one of those made available by pytorch\n",
        "For regression, for instance we could select the MSELoss\n",
        "'''\n",
        "loss = nn.CrossEntropyLoss()\n",
        "loss_regression = nn.MSELoss()"
      ],
      "execution_count": 41,
      "outputs": []
    },
    {
      "cell_type": "code",
      "metadata": {
        "id": "dOFlaTSwlPLd"
      },
      "source": [
        "'''\n",
        "Let's put everything together. \n",
        "The network, the optimizer and the loss inside a training loop, using the DataLoader\n",
        "objects that we have already created.\n",
        "'''\n",
        "\n",
        "'''\n",
        "Note: model.train() --> the model is set on training mode, where the weights and biases \n",
        "are adjusted using the training instance passed in batches.\n",
        "'''\n",
        "\n",
        "\n",
        "'''\n",
        "Note: model.eval() --> when we evaluate the model on the validation set.\n",
        "'''\n",
        "\n",
        "'''\n",
        "This function with some refinements can be used for any model, the training process\n",
        "is really similar, it might change few details\n",
        "'''\n",
        "\n",
        "def train(model, optimizer, loss_fn, train_loader, val_loader, epochs=20, device=\"cpu\"):\n",
        "    model.to(device)\n",
        "    for epoch in range(1, epochs+1):\n",
        "        training_loss = 0.0\n",
        "        valid_loss = 0.0\n",
        "        model.train() #train status for the mode\n",
        "        for batch in train_loader:\n",
        "            optimizer.zero_grad() # clear gradients for next train\n",
        "            inputs, targets = batch\n",
        "            inputs = inputs.to(device)\n",
        "            targets = targets.to(device)\n",
        "            output = model(inputs)\n",
        "            loss = loss_fn(output, targets)\n",
        "            loss.backward() # backpropagation, compute gradients\n",
        "            optimizer.step() # apply gradients\n",
        "            training_loss += loss.data.item() * inputs.size(0)\n",
        "            # print(training_loss,loss.data.item(),inputs.size(0))\n",
        "        training_loss /= len(train_loader.dataset)\n",
        "        \n",
        "        with torch.no_grad(): # we are not updating the model\n",
        "          model.eval() #the status of the model is in eval\n",
        "          num_correct = 0 \n",
        "          num_examples = 0\n",
        "          for batch in val_loader:\n",
        "              inputs, targets = batch\n",
        "              inputs = inputs.to(device)\n",
        "              output = model(inputs)\n",
        "              targets = targets.to(device)\n",
        "              loss = loss_fn(output,targets) \n",
        "              valid_loss += loss.data.item() * inputs.size(0)\n",
        "              correct = torch.eq(torch.max(F.softmax(output, dim=1), dim=1)[1], targets)\n",
        "              num_correct += torch.sum(correct).item()\n",
        "              num_examples += correct.shape[0]\n",
        "          valid_loss /= len(val_loader.dataset)\n",
        "\n",
        "        print('Epoch: {}, Training Loss: {:.4f}, Validation Loss: {:.4f}, accuracy = {:.4f}'.format(epoch, training_loss,\n",
        "        valid_loss, num_correct / num_examples))"
      ],
      "execution_count": 42,
      "outputs": []
    },
    {
      "cell_type": "markdown",
      "metadata": {
        "id": "6PpDyKHaNSXf"
      },
      "source": [
        "1. In each epoch:\n",
        "  \n",
        "  a. we take a batch $b$ from our training set\n",
        "  \n",
        "  b. we pass $b$ to our model and we compute the loss from the $output$\n",
        "  \n",
        "  c. to compute the gradients, we call ```backward()```\n",
        "  \n",
        "  d. the ```optimizer.step()``` method uses those gradients afterward to perform the adjustments of the weights\n",
        "\n",
        "```zero_grad()``` it is used to make sure that gradients are not influeced by previous batches. \n"
      ]
    },
    {
      "cell_type": "code",
      "metadata": {
        "colab": {
          "base_uri": "https://localhost:8080/"
        },
        "id": "1O3xvPgPOdxX",
        "outputId": "2de071e5-868d-4e39-8480-cd94e7429ddb"
      },
      "source": [
        "\n",
        "'''\n",
        "How to move the model to cuda (if available)\n",
        "'''\n",
        "\n",
        "if torch.cuda.is_available():\n",
        "  device = torch.device('cuda')\n",
        "else:\n",
        "  device = torch.device('cpu')\n",
        "\n",
        "simplenet.to(device)\n"
      ],
      "execution_count": 43,
      "outputs": [
        {
          "output_type": "execute_result",
          "data": {
            "text/plain": [
              "SimpleNet(\n",
              "  (fc1): Linear(in_features=784, out_features=200, bias=True)\n",
              "  (fc2): Linear(in_features=200, out_features=50, bias=True)\n",
              "  (fc3): Linear(in_features=50, out_features=10, bias=True)\n",
              ")"
            ]
          },
          "metadata": {},
          "execution_count": 43
        }
      ]
    },
    {
      "cell_type": "code",
      "metadata": {
        "colab": {
          "base_uri": "https://localhost:8080/"
        },
        "id": "V4QyMukOlTSK",
        "outputId": "94917507-01ef-4ae0-ceb4-09708d2bb479"
      },
      "source": [
        "train(simplenet, optimizer,torch.nn.CrossEntropyLoss(), train_dl,val_dl, epochs=5)"
      ],
      "execution_count": 44,
      "outputs": [
        {
          "output_type": "stream",
          "name": "stdout",
          "text": [
            "Epoch: 1, Training Loss: 0.3546, Validation Loss: 0.2343, accuracy = 0.9292\n",
            "Epoch: 2, Training Loss: 0.1584, Validation Loss: 0.1540, accuracy = 0.9535\n",
            "Epoch: 3, Training Loss: 0.1333, Validation Loss: 0.1488, accuracy = 0.9592\n",
            "Epoch: 4, Training Loss: 0.1117, Validation Loss: 0.1452, accuracy = 0.9625\n",
            "Epoch: 5, Training Loss: 0.1067, Validation Loss: 0.1329, accuracy = 0.9652\n"
          ]
        }
      ]
    },
    {
      "cell_type": "code",
      "metadata": {
        "id": "UVKCBda4lodb",
        "colab": {
          "base_uri": "https://localhost:8080/",
          "height": 1000
        },
        "outputId": "22866202-2ad8-4f34-f393-b4c4e6ba8853"
      },
      "source": [
        "with torch.no_grad():\n",
        "  simplenet.eval() # we move to eval state, since we don't need to update the weights and biases\n",
        "  for i in range(10):\n",
        "    plt.imshow(x_test_tensor[i].reshape((28,28)), cmap=\"gray\")\n",
        "    plt.title(y_test_tensor[i])\n",
        "    plt.show()\n",
        "    print(\"All the scores: {}\".format(simplenet(x_test_tensor[i].float())))\n",
        "    print(\"The max score: {}\".format(simplenet(x_test_tensor[i].float()).max()))\n",
        "    print(\"The index of the max score: {}\".format(simplenet(x_test_tensor[i].float()).argmax()))"
      ],
      "execution_count": 45,
      "outputs": [
        {
          "output_type": "display_data",
          "data": {
            "text/plain": [
              "<Figure size 432x288 with 1 Axes>"
            ],
            "image/png": "[encoded data removed]"
          },
          "metadata": {
            "needs_background": "light"
          }
        },
        {
          "output_type": "stream",
          "name": "stdout",
          "text": [
            "All the scores: tensor([-6.8385,  2.0569,  2.9718,  4.8886,  3.0481, -6.5026, -7.9695, 17.5239,\n",
            "        -2.7933,  2.6290])\n",
            "The max score: 17.523855209350586\n",
            "The index of the max score: 7\n"
          ]
        },
        {
          "output_type": "display_data",
          "data": {
            "text/plain": [
              "<Figure size 432x288 with 1 Axes>"
            ],
            "image/png": "[encoded data removed]"
          },
          "metadata": {
            "needs_background": "light"
          }
        },
        {
          "output_type": "stream",
          "name": "stdout",
          "text": [
            "All the scores: tensor([ 6.8085, 19.8885, 27.8778, 10.1219,  8.2122,  6.3501,  3.9385, 11.6418,\n",
            "        11.5999,  3.2338])\n",
            "The max score: 27.877809524536133\n",
            "The index of the max score: 2\n"
          ]
        },
        {
          "output_type": "display_data",
          "data": {
            "text/plain": [
              "<Figure size 432x288 with 1 Axes>"
            ],
            "image/png": "[encoded data removed]"
          },
          "metadata": {
            "needs_background": "light"
          }
        },
        {
          "output_type": "stream",
          "name": "stdout",
          "text": [
            "All the scores: tensor([ 1.4688, 13.2175, -0.8397, -0.1140,  2.3658,  0.2871, -0.8773,  4.2098,\n",
            "         2.3891, -1.4916])\n",
            "The max score: 13.21746826171875\n",
            "The index of the max score: 1\n"
          ]
        },
        {
          "output_type": "display_data",
          "data": {
            "text/plain": [
              "<Figure size 432x288 with 1 Axes>"
            ],
            "image/png": "[encoded data removed]"
          },
          "metadata": {
            "needs_background": "light"
          }
        },
        {
          "output_type": "stream",
          "name": "stdout",
          "text": [
            "All the scores: tensor([21.3107, -7.0626, 12.9409, 12.8650,  2.1790, 10.2084, 13.9069,  8.7906,\n",
            "        12.6082, 16.7760])\n",
            "The max score: 21.310749053955078\n",
            "The index of the max score: 0\n"
          ]
        },
        {
          "output_type": "display_data",
          "data": {
            "text/plain": [
              "<Figure size 432x288 with 1 Axes>"
            ],
            "image/png": "[encoded data removed]"
          },
          "metadata": {
            "needs_background": "light"
          }
        },
        {
          "output_type": "stream",
          "name": "stdout",
          "text": [
            "All the scores: tensor([  3.7225, -10.3431,   2.3357,  -3.4144,  17.7993,   1.1453,   8.9734,\n",
            "          0.5316,   1.4539,  11.9568])\n",
            "The max score: 17.799291610717773\n",
            "The index of the max score: 4\n"
          ]
        },
        {
          "output_type": "display_data",
          "data": {
            "text/plain": [
              "<Figure size 432x288 with 1 Axes>"
            ],
            "image/png": "[encoded data removed]"
          },
          "metadata": {
            "needs_background": "light"
          }
        },
        {
          "output_type": "stream",
          "name": "stdout",
          "text": [
            "All the scores: tensor([-0.6269, 11.0030, -9.4467, -2.6585,  0.8925, -3.8235, -5.1378,  2.4567,\n",
            "         0.9920, -3.4611])\n",
            "The max score: 11.003019332885742\n",
            "The index of the max score: 1\n"
          ]
        },
        {
          "output_type": "display_data",
          "data": {
            "text/plain": [
              "<Figure size 432x288 with 1 Axes>"
            ],
            "image/png": "[encoded data removed]"
          },
          "metadata": {
            "needs_background": "light"
          }
        },
        {
          "output_type": "stream",
          "name": "stdout",
          "text": [
            "All the scores: tensor([-11.2690,  -0.7487, -11.7392,  -8.2381,  14.6030,   1.7507,  -5.1224,\n",
            "          1.3467,   5.7535,   7.7658])\n",
            "The max score: 14.602988243103027\n",
            "The index of the max score: 4\n"
          ]
        },
        {
          "output_type": "display_data",
          "data": {
            "text/plain": [
              "<Figure size 432x288 with 1 Axes>"
            ],
            "image/png": "[encoded data removed]"
          },
          "metadata": {
            "needs_background": "light"
          }
        },
        {
          "output_type": "stream",
          "name": "stdout",
          "text": [
            "All the scores: tensor([ -4.3458,  -1.4192,  -3.6843,   3.2059,  15.3393,  -3.5805, -12.1345,\n",
            "          8.6174,   6.7954,  18.4083])\n",
            "The max score: 18.40827178955078\n",
            "The index of the max score: 9\n"
          ]
        },
        {
          "output_type": "display_data",
          "data": {
            "text/plain": [
              "<Figure size 432x288 with 1 Axes>"
            ],
            "image/png": "[encoded data removed]"
          },
          "metadata": {
            "needs_background": "light"
          }
        },
        {
          "output_type": "stream",
          "name": "stdout",
          "text": [
            "All the scores: tensor([ 4.7121,  5.6130,  8.2781,  3.4042,  5.1197,  8.5644, 11.7136,  3.9166,\n",
            "         7.8441,  0.9363])\n",
            "The max score: 11.713606834411621\n",
            "The index of the max score: 6\n"
          ]
        },
        {
          "output_type": "display_data",
          "data": {
            "text/plain": [
              "<Figure size 432x288 with 1 Axes>"
            ],
            "image/png": "[encoded data removed]"
          },
          "metadata": {
            "needs_background": "light"
          }
        },
        {
          "output_type": "stream",
          "name": "stdout",
          "text": [
            "All the scores: tensor([-13.0823, -16.3089, -20.0972,  -2.4791,  21.7045,   4.0096, -12.8651,\n",
            "         15.2476,   5.2687,  30.2630])\n",
            "The max score: 30.26300621032715\n",
            "The index of the max score: 9\n"
          ]
        }
      ]
    },
    {
      "cell_type": "markdown",
      "metadata": {
        "id": "cZt1GghRYPzV"
      },
      "source": [
        "## Methods to find the best **Learning Rate**\n",
        "- gridsearch: use different learning rate values, and verify which is the best parameters configuration w.r.t. a certain error measure\n",
        "- Over the course of an epoch start out with a small learning rate and increase it to higher values over each batch. At the end of the epoch the learning rate will be high. We compute the ```loss``` for each rate. \n",
        "\n",
        "Then find in a plot (learning_rate, loss) the learning rate that gives the greatest decline."
      ]
    },
    {
      "cell_type": "code",
      "metadata": {
        "id": "KjQn5AaUuBne"
      },
      "source": [
        "def find_lr(model, loss_fn, optimizer, train_loader,init_value = 1e-8, final_value=1, device=\"cpu\"):\n",
        "    number_in_epoch = len(train_loader) - 1\n",
        "    update_step = (final_value / init_value) ** (1 / number_in_epoch)\n",
        "    lr = init_value\n",
        "    optimizer.param_groups[0][\"lr\"] = lr\n",
        "    training_loss = 0.0\n",
        "    best_loss = 0.0\n",
        "    batch_num = 0\n",
        "    losses = []\n",
        "    log_lrs = []\n",
        "    model.train()\n",
        "    for data in train_loader:\n",
        "      # print('Batch number: {}'.format(batch_num))\n",
        "      batch_num += 1\n",
        "      inputs, targets = data\n",
        "      inputs = inputs.to(device)\n",
        "      targets = targets.to(device)\n",
        "      optimizer.zero_grad()\n",
        "      outputs = model(inputs)\n",
        "      loss = loss_fn(outputs, targets)\n",
        "      # print(loss)\n",
        "      # Crash out if loss explodes\n",
        "\n",
        "      if batch_num > 1 and loss > 10 * best_loss:\n",
        "        print('Exploded current loss: {} best_loss: {}'.format(loss,best_loss))\n",
        "        return log_lrs, losses\n",
        "\n",
        "      # Record the best loss\n",
        "\n",
        "      if loss < best_loss or batch_num == 1:\n",
        "          best_loss = loss\n",
        "\n",
        "      # Store the values\n",
        "      losses.append(loss.item())\n",
        "      log_lrs.append((lr))\n",
        "\n",
        "      # Do the backward pass and optimize\n",
        "\n",
        "      loss.backward()\n",
        "      optimizer.step()\n",
        "\n",
        "        # Update the lr for the next step and store\n",
        "\n",
        "      lr *= update_step\n",
        "      optimizer.param_groups[0][\"lr\"] = lr\n",
        "    \n",
        "    print(len(log_lrs),len(losses))\n",
        "    if len(log_lrs) > 20:\n",
        "      print(len(log_lrs),len(losses))\n",
        "      return log_lrs[10:-5], losses[10:-5]\n",
        "    else:\n",
        "      return log_lrs, losses\n"
      ],
      "execution_count": 46,
      "outputs": []
    },
    {
      "cell_type": "code",
      "metadata": {
        "colab": {
          "base_uri": "https://localhost:8080/"
        },
        "id": "8lI9Q7ggwBXi",
        "outputId": "f7ded685-e7f8-49d6-86ac-64bb4f937a31"
      },
      "source": [
        "#load the data again just to be sure what we are using\n",
        "batch_size = 128\n",
        "train_ds = TensorDataset(x_train_tensor, y_train_tensor)\n",
        "train_dl = DataLoader(\n",
        "    train_ds, batch_size=batch_size, shuffle=True)\n",
        "\n",
        "simplenet = SimpleNet()\n",
        "optimizer = optim.Adam(simplenet.parameters(), lr=0.001)\n",
        "(lrs, losses) = find_lr(simplenet, torch.nn.CrossEntropyLoss(), optimizer, train_dl,device='cpu')\n"
      ],
      "execution_count": 47,
      "outputs": [
        {
          "output_type": "stream",
          "name": "stdout",
          "text": [
            "Exploded current loss: 3.078329563140869 best_loss: 0.2369714081287384\n"
          ]
        }
      ]
    },
    {
      "cell_type": "code",
      "metadata": {
        "colab": {
          "base_uri": "https://localhost:8080/",
          "height": 290
        },
        "id": "ivg8q6idzKOM",
        "outputId": "bf233616-e577-49f1-853f-1f4f5b6cebc3"
      },
      "source": [
        "plt.plot(lrs, losses,)\n",
        "\n",
        "plt.xscale(\"log\")\n",
        "plt.xlabel(\"Learning rate\")\n",
        "plt.ylabel(\"Loss\")\n",
        "plt.show()"
      ],
      "execution_count": 48,
      "outputs": [
        {
          "output_type": "display_data",
          "data": {
            "text/plain": [
              "<Figure size 432x288 with 1 Axes>"
            ],
            "image/png": "[encoded data removed]"
          },
          "metadata": {
            "needs_background": "light"
          }
        }
      ]
    },
    {
      "cell_type": "markdown",
      "metadata": {
        "id": "EQBjzv1BHX2u"
      },
      "source": [
        "## Regression\n",
        "Let's try now with a regression problem\n",
        "\n",
        "we will use the wine quality data and try to regress on the quality"
      ]
    },
    {
      "cell_type": "code",
      "metadata": {
        "colab": {
          "base_uri": "https://localhost:8080/",
          "height": 206
        },
        "id": "4kdO4OnvMGmb",
        "outputId": "7f312338-179a-4898-9515-4e440b869aee"
      },
      "source": [
        "path_github = 'https://raw.githubusercontent.com/fpinell/hands_on_python_for_ds/main/data/winequality-white.csv'\n",
        "df = pd.read_csv(path_github,sep=';')\n",
        "df.head()\n"
      ],
      "execution_count": 49,
      "outputs": [
        {
          "output_type": "execute_result",
          "data": {
            "text/plain": [
              "   fixed acidity  volatile acidity  citric acid  residual sugar  chlorides  \\\n",
              "0            7.0              0.27         0.36            20.7      0.045   \n",
              "1            6.3              0.30         0.34             1.6      0.049   \n",
              "2            8.1              0.28         0.40             6.9      0.050   \n",
              "3            7.2              0.23         0.32             8.5      0.058   \n",
              "4            7.2              0.23         0.32             8.5      0.058   \n",
              "\n",
              "   free sulfur dioxide  total sulfur dioxide  density    pH  sulphates  \\\n",
              "0                 45.0                 170.0   1.0010  3.00       0.45   \n",
              "1                 14.0                 132.0   0.9940  3.30       0.49   \n",
              "2                 30.0                  97.0   0.9951  3.26       0.44   \n",
              "3                 47.0                 186.0   0.9956  3.19       0.40   \n",
              "4                 47.0                 186.0   0.9956  3.19       0.40   \n",
              "\n",
              "   alcohol  quality  \n",
              "0      8.8        6  \n",
              "1      9.5        6  \n",
              "2     10.1        6  \n",
              "3      9.9        6  \n",
              "4      9.9        6  "
            ],
            "text/html": [
              "\n",
              "  <div id=\"df-24a1e6dc-4e0e-4247-88bc-cfce875f9f44\">\n",
              "    <div class=\"colab-df-container\">\n",
              "      <div>\n",
              "<style scoped>\n",
              "    .dataframe tbody tr th:only-of-type {\n",
              "        vertical-align: middle;\n",
              "    }\n",
              "\n",
              "    .dataframe tbody tr th {\n",
              "        vertical-align: top;\n",
              "    }\n",
              "\n",
              "    .dataframe thead th {\n",
              "        text-align: right;\n",
              "    }\n",
              "</style>\n",
              "<table border=\"1\" class=\"dataframe\">\n",
              "  <thead>\n",
              "    <tr style=\"text-align: right;\">\n",
              "      <th></th>\n",
              "      <th>fixed acidity</th>\n",
              "      <th>volatile acidity</th>\n",
              "      <th>citric acid</th>\n",
              "      <th>residual sugar</th>\n",
              "      <th>chlorides</th>\n",
              "      <th>free sulfur dioxide</th>\n",
              "      <th>total sulfur dioxide</th>\n",
              "      <th>density</th>\n",
              "      <th>pH</th>\n",
              "      <th>sulphates</th>\n",
              "      <th>alcohol</th>\n",
              "      <th>quality</th>\n",
              "    </tr>\n",
              "  </thead>\n",
              "  <tbody>\n",
              "    <tr>\n",
              "      <th>0</th>\n",
              "      <td>7.0</td>\n",
              "      <td>0.27</td>\n",
              "      <td>0.36</td>\n",
              "      <td>20.7</td>\n",
              "      <td>0.045</td>\n",
              "      <td>45.0</td>\n",
              "      <td>170.0</td>\n",
              "      <td>1.0010</td>\n",
              "      <td>3.00</td>\n",
              "      <td>0.45</td>\n",
              "      <td>8.8</td>\n",
              "      <td>6</td>\n",
              "    </tr>\n",
              "    <tr>\n",
              "      <th>1</th>\n",
              "      <td>6.3</td>\n",
              "      <td>0.30</td>\n",
              "      <td>0.34</td>\n",
              "      <td>1.6</td>\n",
              "      <td>0.049</td>\n",
              "      <td>14.0</td>\n",
              "      <td>132.0</td>\n",
              "      <td>0.9940</td>\n",
              "      <td>3.30</td>\n",
              "      <td>0.49</td>\n",
              "      <td>9.5</td>\n",
              "      <td>6</td>\n",
              "    </tr>\n",
              "    <tr>\n",
              "      <th>2</th>\n",
              "      <td>8.1</td>\n",
              "      <td>0.28</td>\n",
              "      <td>0.40</td>\n",
              "      <td>6.9</td>\n",
              "      <td>0.050</td>\n",
              "      <td>30.0</td>\n",
              "      <td>97.0</td>\n",
              "      <td>0.9951</td>\n",
              "      <td>3.26</td>\n",
              "      <td>0.44</td>\n",
              "      <td>10.1</td>\n",
              "      <td>6</td>\n",
              "    </tr>\n",
              "    <tr>\n",
              "      <th>3</th>\n",
              "      <td>7.2</td>\n",
              "      <td>0.23</td>\n",
              "      <td>0.32</td>\n",
              "      <td>8.5</td>\n",
              "      <td>0.058</td>\n",
              "      <td>47.0</td>\n",
              "      <td>186.0</td>\n",
              "      <td>0.9956</td>\n",
              "      <td>3.19</td>\n",
              "      <td>0.40</td>\n",
              "      <td>9.9</td>\n",
              "      <td>6</td>\n",
              "    </tr>\n",
              "    <tr>\n",
              "      <th>4</th>\n",
              "      <td>7.2</td>\n",
              "      <td>0.23</td>\n",
              "      <td>0.32</td>\n",
              "      <td>8.5</td>\n",
              "      <td>0.058</td>\n",
              "      <td>47.0</td>\n",
              "      <td>186.0</td>\n",
              "      <td>0.9956</td>\n",
              "      <td>3.19</td>\n",
              "      <td>0.40</td>\n",
              "      <td>9.9</td>\n",
              "      <td>6</td>\n",
              "    </tr>\n",
              "  </tbody>\n",
              "</table>\n",
              "</div>\n",
              "      <button class=\"colab-df-convert\" onclick=\"convertToInteractive('df-24a1e6dc-4e0e-4247-88bc-cfce875f9f44')\"\n",
              "              title=\"Convert this dataframe to an interactive table.\"\n",
              "              style=\"display:none;\">\n",
              "        \n",
              "  <svg xmlns=\"http://www.w3.org/2000/svg\" height=\"24px\"viewBox=\"0 0 24 24\"\n",
              "       width=\"24px\">\n",
              "    <path d=\"M0 0h24v24H0V0z\" fill=\"none\"/>\n",
              "    <path d=\"M18.56 5.44l.94 2.06.94-2.06 2.06-.94-2.06-.94-.94-2.06-.94 2.06-2.06.94zm-11 1L8.5 8.5l.94-2.06 2.06-.94-2.06-.94L8.5 2.5l-.94 2.06-2.06.94zm10 10l.94 2.06.94-2.06 2.06-.94-2.06-.94-.94-2.06-.94 2.06-2.06.94z\"/><path d=\"M17.41 7.96l-1.37-1.37c-.4-.4-.92-.59-1.43-.59-.52 0-1.04.2-1.43.59L10.3 9.45l-7.72 7.72c-.78.78-.78 2.05 0 2.83L4 21.41c.39.39.9.59 1.41.59.51 0 1.02-.2 1.41-.59l7.78-7.78 2.81-2.81c.8-.78.8-2.07 0-2.86zM5.41 20L4 18.59l7.72-7.72 1.47 1.35L5.41 20z\"/>\n",
              "  </svg>\n",
              "      </button>\n",
              "      \n",
              "  <style>\n",
              "    .colab-df-container {\n",
              "      display:flex;\n",
              "      flex-wrap:wrap;\n",
              "      gap: 12px;\n",
              "    }\n",
              "\n",
              "    .colab-df-convert {\n",
              "      background-color: #E8F0FE;\n",
              "      border: none;\n",
              "      border-radius: 50%;\n",
              "      cursor: pointer;\n",
              "      display: none;\n",
              "      fill: #1967D2;\n",
              "      height: 32px;\n",
              "      padding: 0 0 0 0;\n",
              "      width: 32px;\n",
              "    }\n",
              "\n",
              "    .colab-df-convert:hover {\n",
              "      background-color: #E2EBFA;\n",
              "      box-shadow: 0px 1px 2px rgba(60, 64, 67, 0.3), 0px 1px 3px 1px rgba(60, 64, 67, 0.15);\n",
              "      fill: #174EA6;\n",
              "    }\n",
              "\n",
              "    [theme=dark] .colab-df-convert {\n",
              "      background-color: #3B4455;\n",
              "      fill: #D2E3FC;\n",
              "    }\n",
              "\n",
              "    [theme=dark] .colab-df-convert:hover {\n",
              "      background-color: #434B5C;\n",
              "      box-shadow: 0px 1px 3px 1px rgba(0, 0, 0, 0.15);\n",
              "      filter: drop-shadow(0px 1px 2px rgba(0, 0, 0, 0.3));\n",
              "      fill: #FFFFFF;\n",
              "    }\n",
              "  </style>\n",
              "\n",
              "      <script>\n",
              "        const buttonEl =\n",
              "          document.querySelector('#df-24a1e6dc-4e0e-4247-88bc-cfce875f9f44 button.colab-df-convert');\n",
              "        buttonEl.style.display =\n",
              "          google.colab.kernel.accessAllowed ? 'block' : 'none';\n",
              "\n",
              "        async function convertToInteractive(key) {\n",
              "          const element = document.querySelector('#df-24a1e6dc-4e0e-4247-88bc-cfce875f9f44');\n",
              "          const dataTable =\n",
              "            await google.colab.kernel.invokeFunction('convertToInteractive',\n",
              "                                                     [key], {});\n",
              "          if (!dataTable) return;\n",
              "\n",
              "          const docLinkHtml = 'Like what you see? Visit the ' +\n",
              "            '<a target=\"_blank\" href=https://colab.research.google.com/notebooks/data_table.ipynb>data table notebook</a>'\n",
              "            + ' to learn more about interactive tables.';\n",
              "          element.innerHTML = '';\n",
              "          dataTable['output_type'] = 'display_data';\n",
              "          await google.colab.output.renderOutput(dataTable, element);\n",
              "          const docLink = document.createElement('div');\n",
              "          docLink.innerHTML = docLinkHtml;\n",
              "          element.appendChild(docLink);\n",
              "        }\n",
              "      </script>\n",
              "    </div>\n",
              "  </div>\n",
              "  "
            ]
          },
          "metadata": {},
          "execution_count": 49
        }
      ]
    },
    {
      "cell_type": "code",
      "metadata": {
        "colab": {
          "base_uri": "https://localhost:8080/"
        },
        "id": "Rkzfh9VcVTbu",
        "outputId": "d2a5efee-53a3-4b65-d70d-6ac033104bae"
      },
      "source": [
        "df.info()"
      ],
      "execution_count": 50,
      "outputs": [
        {
          "output_type": "stream",
          "name": "stdout",
          "text": [
            "<class 'pandas.core.frame.DataFrame'>\n",
            "RangeIndex: 4898 entries, 0 to 4897\n",
            "Data columns (total 12 columns):\n",
            " #   Column                Non-Null Count  Dtype  \n",
            "---  ------                --------------  -----  \n",
            " 0   fixed acidity         4898 non-null   float64\n",
            " 1   volatile acidity      4898 non-null   float64\n",
            " 2   citric acid           4898 non-null   float64\n",
            " 3   residual sugar        4898 non-null   float64\n",
            " 4   chlorides             4898 non-null   float64\n",
            " 5   free sulfur dioxide   4898 non-null   float64\n",
            " 6   total sulfur dioxide  4898 non-null   float64\n",
            " 7   density               4898 non-null   float64\n",
            " 8   pH                    4898 non-null   float64\n",
            " 9   sulphates             4898 non-null   float64\n",
            " 10  alcohol               4898 non-null   float64\n",
            " 11  quality               4898 non-null   int64  \n",
            "dtypes: float64(11), int64(1)\n",
            "memory usage: 459.3 KB\n"
          ]
        }
      ]
    },
    {
      "cell_type": "code",
      "metadata": {
        "colab": {
          "base_uri": "https://localhost:8080/",
          "height": 286
        },
        "id": "u5JJp1Tdc2ku",
        "outputId": "98d09602-9f56-429a-a4ff-c468ca981b7b"
      },
      "source": [
        "import seaborn as sns\n",
        "\n",
        "sns.countplot(x = 'quality', data=df)\n",
        "\n",
        "X = df.iloc[:, 0:-1]\n",
        "y = df.iloc[:, -1]"
      ],
      "execution_count": 51,
      "outputs": [
        {
          "output_type": "display_data",
          "data": {
            "text/plain": [
              "<Figure size 432x288 with 1 Axes>"
            ],
            "image/png": "[encoded data removed]"
          },
          "metadata": {
            "needs_background": "light"
          }
        }
      ]
    },
    {
      "cell_type": "code",
      "metadata": {
        "id": "DznAmk5mfu3W"
      },
      "source": [
        "from sklearn.model_selection import train_test_split\n",
        "\n",
        "# Train - Test\n",
        "X_trainval, X_test, y_trainval, y_test = train_test_split(X, y, test_size=0.2, random_state=69)\n",
        "# Split train into train-val\n",
        "X_train, X_val, y_train, y_val = train_test_split(X_trainval, y_trainval, test_size=0.1, random_state=21)\n"
      ],
      "execution_count": 52,
      "outputs": []
    },
    {
      "cell_type": "code",
      "metadata": {
        "id": "ZeH9B5jhf6xu"
      },
      "source": [
        "from sklearn.preprocessing import MinMaxScaler\n",
        "scaler = MinMaxScaler() # scaling the data\n",
        "X_train = scaler.fit_transform(X_train)\n",
        "X_val = scaler.transform(X_val)\n",
        "X_test = scaler.transform(X_test)\n",
        "X_train, y_train = np.array(X_train), np.array(y_train)\n",
        "X_val, y_val = np.array(X_val), np.array(y_val)\n",
        "X_test, y_test = np.array(X_test), np.array(y_test)"
      ],
      "execution_count": 53,
      "outputs": []
    },
    {
      "cell_type": "code",
      "metadata": {
        "id": "5sdbg5Nyf_hG"
      },
      "source": [
        "y_train, y_test, y_val = y_train.astype(float), y_test.astype(float), y_val.astype(float)\n"
      ],
      "execution_count": 54,
      "outputs": []
    },
    {
      "cell_type": "code",
      "metadata": {
        "id": "Ij_kB38zgKrl"
      },
      "source": [
        "import torch\n",
        "import torch.nn as nn\n",
        "import torch.optim as optim\n",
        "from torch.utils.data import Dataset, DataLoader\n",
        "class RegressionDataset(Dataset):\n",
        "    \n",
        "    def __init__(self, X_data, y_data):\n",
        "        self.X_data = X_data\n",
        "        self.y_data = y_data\n",
        "        \n",
        "    def __getitem__(self, index):\n",
        "        return self.X_data[index], self.y_data[index]\n",
        "        \n",
        "    def __len__ (self):\n",
        "        return len(self.X_data)\n"
      ],
      "execution_count": 55,
      "outputs": []
    },
    {
      "cell_type": "code",
      "metadata": {
        "id": "SJNJ1tqGVtdJ"
      },
      "source": [
        "train_dataset = RegressionDataset(torch.from_numpy(X_train).float(), torch.from_numpy(y_train).float())\n",
        "val_dataset = RegressionDataset(torch.from_numpy(X_val).float(), torch.from_numpy(y_val).float())\n",
        "test_dataset = RegressionDataset(torch.from_numpy(X_test).float(), torch.from_numpy(y_test).float())"
      ],
      "execution_count": 56,
      "outputs": []
    },
    {
      "cell_type": "code",
      "metadata": {
        "colab": {
          "base_uri": "https://localhost:8080/"
        },
        "id": "u3eL2nEwg05k",
        "outputId": "9e9b4ef4-c4f0-4a3f-ac71-ad5a3a49ac3f"
      },
      "source": [
        "print(\"The type of train_dataset is? {}\".format(type(train_dataset)))"
      ],
      "execution_count": 57,
      "outputs": [
        {
          "output_type": "stream",
          "name": "stdout",
          "text": [
            "The type of train_dataset is? <class '__main__.RegressionDataset'>\n"
          ]
        }
      ]
    },
    {
      "cell_type": "code",
      "metadata": {
        "id": "yUaCDvdKgmak"
      },
      "source": [
        "EPOCHS = 150\n",
        "BATCH_SIZE = 64\n",
        "LEARNING_RATE = 0.001\n",
        "NUM_FEATURES = X.shape[1]"
      ],
      "execution_count": 58,
      "outputs": []
    },
    {
      "cell_type": "code",
      "metadata": {
        "id": "5o1AwYLZgm2l"
      },
      "source": [
        "train_loader = DataLoader(dataset=train_dataset, batch_size=BATCH_SIZE, shuffle=True)\n",
        "val_loader = DataLoader(dataset=val_dataset, batch_size=32)\n",
        "test_loader = DataLoader(dataset=test_dataset, batch_size=1)"
      ],
      "execution_count": 59,
      "outputs": []
    },
    {
      "cell_type": "code",
      "metadata": {
        "colab": {
          "base_uri": "https://localhost:8080/"
        },
        "id": "n19c27JEV_rA",
        "outputId": "b1d0f27c-010e-414c-ef02-e4af6e9b2c78"
      },
      "source": [
        "print(\"The type of train_dataset is? {}\".format(type(train_loader)))"
      ],
      "execution_count": 60,
      "outputs": [
        {
          "output_type": "stream",
          "name": "stdout",
          "text": [
            "The type of train_dataset is? <class 'torch.utils.data.dataloader.DataLoader'>\n"
          ]
        }
      ]
    },
    {
      "cell_type": "code",
      "metadata": {
        "id": "LZeeZQfahAwW"
      },
      "source": [
        "class MultipleRegression(nn.Module):\n",
        "    def __init__(self, num_features):\n",
        "        super(MultipleRegression, self).__init__()\n",
        "        \n",
        "        self.layer_1 = nn.Linear(num_features, 16)\n",
        "        self.layer_2 = nn.Linear(16, 32)\n",
        "        self.layer_3 = nn.Linear(32, 16)\n",
        "        self.layer_out = nn.Linear(16, 1)\n",
        "        \n",
        "        self.relu = nn.ReLU()\n",
        "    \n",
        "    def forward(self, inputs):\n",
        "        x = self.relu(self.layer_1(inputs))\n",
        "        x = self.relu(self.layer_2(x))\n",
        "        x = self.relu(self.layer_3(x))\n",
        "        x = self.layer_out(x)\n",
        "        return (x)\n",
        "    \n",
        "    def predict(self, test_inputs):\n",
        "        x = self.relu(self.layer_1(test_inputs))\n",
        "        x = self.relu(self.layer_2(x))\n",
        "        x = self.relu(self.layer_3(x))\n",
        "        x = self.layer_out(x)\n",
        "        return (x)"
      ],
      "execution_count": 61,
      "outputs": []
    },
    {
      "cell_type": "code",
      "source": [
        "model = MultipleRegression(NUM_FEATURES)\n"
      ],
      "metadata": {
        "id": "8vWtsymA4AUc"
      },
      "execution_count": 62,
      "outputs": []
    },
    {
      "cell_type": "code",
      "source": [
        "model"
      ],
      "metadata": {
        "id": "ldK7lgrH4Bke",
        "outputId": "672b7023-5268-4b65-895d-f0a50d480659",
        "colab": {
          "base_uri": "https://localhost:8080/"
        }
      },
      "execution_count": 63,
      "outputs": [
        {
          "output_type": "execute_result",
          "data": {
            "text/plain": [
              "MultipleRegression(\n",
              "  (layer_1): Linear(in_features=11, out_features=16, bias=True)\n",
              "  (layer_2): Linear(in_features=16, out_features=32, bias=True)\n",
              "  (layer_3): Linear(in_features=32, out_features=16, bias=True)\n",
              "  (layer_out): Linear(in_features=16, out_features=1, bias=True)\n",
              "  (relu): ReLU()\n",
              ")"
            ]
          },
          "metadata": {},
          "execution_count": 63
        }
      ]
    },
    {
      "cell_type": "code",
      "metadata": {
        "colab": {
          "base_uri": "https://localhost:8080/"
        },
        "id": "D6cL3PE2hM-m",
        "outputId": "01e2c71e-7084-4475-9428-7afb7e5417d0"
      },
      "source": [
        "model = MultipleRegression(NUM_FEATURES)\n",
        "# model.to(device)\n",
        "print(model)\n",
        "criterion = nn.MSELoss()\n",
        "optimizer = optim.Adam(model.parameters(), lr=LEARNING_RATE)\n"
      ],
      "execution_count": 64,
      "outputs": [
        {
          "output_type": "stream",
          "name": "stdout",
          "text": [
            "MultipleRegression(\n",
            "  (layer_1): Linear(in_features=11, out_features=16, bias=True)\n",
            "  (layer_2): Linear(in_features=16, out_features=32, bias=True)\n",
            "  (layer_3): Linear(in_features=32, out_features=16, bias=True)\n",
            "  (layer_out): Linear(in_features=16, out_features=1, bias=True)\n",
            "  (relu): ReLU()\n",
            ")\n"
          ]
        }
      ]
    },
    {
      "cell_type": "code",
      "metadata": {
        "id": "Bq5WhgCOhaXN"
      },
      "source": [
        "loss_stats = {\n",
        "    'train': [],\n",
        "    \"val\": []\n",
        "}"
      ],
      "execution_count": 65,
      "outputs": []
    },
    {
      "cell_type": "code",
      "metadata": {
        "colab": {
          "base_uri": "https://localhost:8080/"
        },
        "id": "-x4UIUqHq0nT",
        "outputId": "465f6e32-48b8-4b54-c625-1b08811a317b"
      },
      "source": [
        "device = torch.device(\"cuda:0\" if torch.cuda.is_available() else \"cpu\")\n",
        "print(device)"
      ],
      "execution_count": 66,
      "outputs": [
        {
          "output_type": "stream",
          "name": "stdout",
          "text": [
            "cpu\n"
          ]
        }
      ]
    },
    {
      "cell_type": "code",
      "metadata": {
        "colab": {
          "base_uri": "https://localhost:8080/"
        },
        "id": "iLOs6LwUhd91",
        "outputId": "ef584ffc-a577-4f17-e415-f28943c7f9de"
      },
      "source": [
        "model.to(device)\n",
        "print(\"Begin training.\")\n",
        "for e in range(1, EPOCHS+1):\n",
        "    \n",
        "    # TRAINING\n",
        "    train_epoch_loss = 0\n",
        "    model.train()\n",
        "    for X_train_batch, y_train_batch in train_loader:\n",
        "        X_train_batch, y_train_batch = X_train_batch.to(device), y_train_batch.to(device)\n",
        "        optimizer.zero_grad()\n",
        "        \n",
        "        y_train_pred = model(X_train_batch)\n",
        "        \n",
        "        train_loss = criterion(y_train_pred, y_train_batch.reshape(-1,1))\n",
        "        \n",
        "        train_loss.backward()\n",
        "        optimizer.step()\n",
        "        \n",
        "        train_epoch_loss += train_loss.item()\n",
        "    # VALIDATION    \n",
        "    with torch.no_grad():\n",
        "        \n",
        "        val_epoch_loss = 0\n",
        "        \n",
        "        model.eval()\n",
        "        for X_val_batch, y_val_batch in val_loader:\n",
        "            X_val_batch, y_val_batch = X_val_batch.to(device), y_val_batch.to(device)\n",
        "            \n",
        "            y_val_pred = model(X_val_batch)\n",
        "                        \n",
        "            val_loss = criterion(y_val_pred, y_val_batch.unsqueeze(1))\n",
        "            \n",
        "            val_epoch_loss += val_loss.item()\n",
        "        loss_stats['train'].append(train_epoch_loss/len(train_loader))\n",
        "        loss_stats['val'].append(val_epoch_loss/len(val_loader))                              \n",
        "    \n",
        "    print(f'Epoch {e+0:03}: | Train Loss: {train_epoch_loss/len(train_loader):.5f} | Val Loss: {val_epoch_loss/len(val_loader):.5f}')\n"
      ],
      "execution_count": 67,
      "outputs": [
        {
          "output_type": "stream",
          "name": "stdout",
          "text": [
            "Begin training.\n",
            "Epoch 001: | Train Loss: 36.10601 | Val Loss: 31.67804\n",
            "Epoch 002: | Train Loss: 20.23418 | Val Loss: 3.37632\n",
            "Epoch 003: | Train Loss: 1.17360 | Val Loss: 0.85630\n",
            "Epoch 004: | Train Loss: 0.88245 | Val Loss: 0.83073\n",
            "Epoch 005: | Train Loss: 0.82228 | Val Loss: 0.79113\n",
            "Epoch 006: | Train Loss: 0.77254 | Val Loss: 0.76627\n",
            "Epoch 007: | Train Loss: 0.73748 | Val Loss: 0.74823\n",
            "Epoch 008: | Train Loss: 0.71003 | Val Loss: 0.73533\n",
            "Epoch 009: | Train Loss: 0.68944 | Val Loss: 0.71661\n",
            "Epoch 010: | Train Loss: 0.67096 | Val Loss: 0.71088\n",
            "Epoch 011: | Train Loss: 0.64053 | Val Loss: 0.66734\n",
            "Epoch 012: | Train Loss: 0.61894 | Val Loss: 0.63627\n",
            "Epoch 013: | Train Loss: 0.59410 | Val Loss: 0.60839\n",
            "Epoch 014: | Train Loss: 0.56871 | Val Loss: 0.59634\n",
            "Epoch 015: | Train Loss: 0.56620 | Val Loss: 0.57632\n",
            "Epoch 016: | Train Loss: 0.56459 | Val Loss: 0.57212\n",
            "Epoch 017: | Train Loss: 0.54946 | Val Loss: 0.57346\n",
            "Epoch 018: | Train Loss: 0.54385 | Val Loss: 0.56356\n",
            "Epoch 019: | Train Loss: 0.54898 | Val Loss: 0.56829\n",
            "Epoch 020: | Train Loss: 0.54086 | Val Loss: 0.55796\n",
            "Epoch 021: | Train Loss: 0.55033 | Val Loss: 0.56024\n",
            "Epoch 022: | Train Loss: 0.54849 | Val Loss: 0.55594\n",
            "Epoch 023: | Train Loss: 0.54743 | Val Loss: 0.55873\n",
            "Epoch 024: | Train Loss: 0.54150 | Val Loss: 0.55940\n",
            "Epoch 025: | Train Loss: 0.53033 | Val Loss: 0.55230\n",
            "Epoch 026: | Train Loss: 0.53232 | Val Loss: 0.55554\n",
            "Epoch 027: | Train Loss: 0.53075 | Val Loss: 0.58001\n",
            "Epoch 028: | Train Loss: 0.53290 | Val Loss: 0.54825\n",
            "Epoch 029: | Train Loss: 0.53673 | Val Loss: 0.55713\n",
            "Epoch 030: | Train Loss: 0.54280 | Val Loss: 0.55131\n",
            "Epoch 031: | Train Loss: 0.54514 | Val Loss: 0.56271\n",
            "Epoch 032: | Train Loss: 0.53520 | Val Loss: 0.55012\n",
            "Epoch 033: | Train Loss: 0.53027 | Val Loss: 0.54556\n",
            "Epoch 034: | Train Loss: 0.52812 | Val Loss: 0.54754\n",
            "Epoch 035: | Train Loss: 0.52441 | Val Loss: 0.54273\n",
            "Epoch 036: | Train Loss: 0.53278 | Val Loss: 0.54626\n",
            "Epoch 037: | Train Loss: 0.53224 | Val Loss: 0.55349\n",
            "Epoch 038: | Train Loss: 0.52607 | Val Loss: 0.54108\n",
            "Epoch 039: | Train Loss: 0.52257 | Val Loss: 0.54851\n",
            "Epoch 040: | Train Loss: 0.52994 | Val Loss: 0.54049\n",
            "Epoch 041: | Train Loss: 0.52853 | Val Loss: 0.54142\n",
            "Epoch 042: | Train Loss: 0.52037 | Val Loss: 0.55007\n",
            "Epoch 043: | Train Loss: 0.53633 | Val Loss: 0.57364\n",
            "Epoch 044: | Train Loss: 0.52012 | Val Loss: 0.56150\n",
            "Epoch 045: | Train Loss: 0.52975 | Val Loss: 0.57667\n",
            "Epoch 046: | Train Loss: 0.52298 | Val Loss: 0.53766\n",
            "Epoch 047: | Train Loss: 0.51946 | Val Loss: 0.56475\n",
            "Epoch 048: | Train Loss: 0.52179 | Val Loss: 0.53296\n",
            "Epoch 049: | Train Loss: 0.51917 | Val Loss: 0.53109\n",
            "Epoch 050: | Train Loss: 0.51566 | Val Loss: 0.53858\n",
            "Epoch 051: | Train Loss: 0.51454 | Val Loss: 0.53740\n",
            "Epoch 052: | Train Loss: 0.53412 | Val Loss: 0.53472\n",
            "Epoch 053: | Train Loss: 0.51642 | Val Loss: 0.53533\n",
            "Epoch 054: | Train Loss: 0.52119 | Val Loss: 0.52823\n",
            "Epoch 055: | Train Loss: 0.51174 | Val Loss: 0.53758\n",
            "Epoch 056: | Train Loss: 0.52008 | Val Loss: 0.52804\n",
            "Epoch 057: | Train Loss: 0.50661 | Val Loss: 0.54570\n",
            "Epoch 058: | Train Loss: 0.50904 | Val Loss: 0.53096\n",
            "Epoch 059: | Train Loss: 0.51877 | Val Loss: 0.55613\n",
            "Epoch 060: | Train Loss: 0.52905 | Val Loss: 0.53313\n",
            "Epoch 061: | Train Loss: 0.50139 | Val Loss: 0.52187\n",
            "Epoch 062: | Train Loss: 0.50643 | Val Loss: 0.52578\n",
            "Epoch 063: | Train Loss: 0.50974 | Val Loss: 0.54622\n",
            "Epoch 064: | Train Loss: 0.52608 | Val Loss: 0.52286\n",
            "Epoch 065: | Train Loss: 0.53414 | Val Loss: 0.52542\n",
            "Epoch 066: | Train Loss: 0.50849 | Val Loss: 0.52952\n",
            "Epoch 067: | Train Loss: 0.51293 | Val Loss: 0.52007\n",
            "Epoch 068: | Train Loss: 0.50097 | Val Loss: 0.51787\n",
            "Epoch 069: | Train Loss: 0.49871 | Val Loss: 0.52155\n",
            "Epoch 070: | Train Loss: 0.51075 | Val Loss: 0.57329\n",
            "Epoch 071: | Train Loss: 0.51186 | Val Loss: 0.52445\n",
            "Epoch 072: | Train Loss: 0.49617 | Val Loss: 0.52160\n",
            "Epoch 073: | Train Loss: 0.50629 | Val Loss: 0.51401\n",
            "Epoch 074: | Train Loss: 0.49843 | Val Loss: 0.52113\n",
            "Epoch 075: | Train Loss: 0.50447 | Val Loss: 0.51643\n",
            "Epoch 076: | Train Loss: 0.50239 | Val Loss: 0.52044\n",
            "Epoch 077: | Train Loss: 0.49589 | Val Loss: 0.51675\n",
            "Epoch 078: | Train Loss: 0.49671 | Val Loss: 0.51400\n",
            "Epoch 079: | Train Loss: 0.51072 | Val Loss: 0.51437\n",
            "Epoch 080: | Train Loss: 0.49625 | Val Loss: 0.53966\n",
            "Epoch 081: | Train Loss: 0.50343 | Val Loss: 0.51768\n",
            "Epoch 082: | Train Loss: 0.49492 | Val Loss: 0.50972\n",
            "Epoch 083: | Train Loss: 0.49086 | Val Loss: 0.51795\n",
            "Epoch 084: | Train Loss: 0.49291 | Val Loss: 0.51682\n",
            "Epoch 085: | Train Loss: 0.49271 | Val Loss: 0.50822\n",
            "Epoch 086: | Train Loss: 0.50085 | Val Loss: 0.55095\n",
            "Epoch 087: | Train Loss: 0.50440 | Val Loss: 0.51477\n",
            "Epoch 088: | Train Loss: 0.49908 | Val Loss: 0.52139\n",
            "Epoch 089: | Train Loss: 0.50394 | Val Loss: 0.50722\n",
            "Epoch 090: | Train Loss: 0.50018 | Val Loss: 0.50829\n",
            "Epoch 091: | Train Loss: 0.49713 | Val Loss: 0.51268\n",
            "Epoch 092: | Train Loss: 0.49484 | Val Loss: 0.51639\n",
            "Epoch 093: | Train Loss: 0.50536 | Val Loss: 0.51770\n",
            "Epoch 094: | Train Loss: 0.49165 | Val Loss: 0.51426\n",
            "Epoch 095: | Train Loss: 0.50074 | Val Loss: 0.50773\n",
            "Epoch 096: | Train Loss: 0.49557 | Val Loss: 0.52375\n",
            "Epoch 097: | Train Loss: 0.49684 | Val Loss: 0.49918\n",
            "Epoch 098: | Train Loss: 0.49402 | Val Loss: 0.50675\n",
            "Epoch 099: | Train Loss: 0.50332 | Val Loss: 0.50834\n",
            "Epoch 100: | Train Loss: 0.49080 | Val Loss: 0.50699\n",
            "Epoch 101: | Train Loss: 0.49303 | Val Loss: 0.52153\n",
            "Epoch 102: | Train Loss: 0.49152 | Val Loss: 0.51168\n",
            "Epoch 103: | Train Loss: 0.48940 | Val Loss: 0.50032\n",
            "Epoch 104: | Train Loss: 0.50875 | Val Loss: 0.51157\n",
            "Epoch 105: | Train Loss: 0.49391 | Val Loss: 0.50758\n",
            "Epoch 106: | Train Loss: 0.49937 | Val Loss: 0.50451\n",
            "Epoch 107: | Train Loss: 0.49664 | Val Loss: 0.51549\n",
            "Epoch 108: | Train Loss: 0.49238 | Val Loss: 0.50779\n",
            "Epoch 109: | Train Loss: 0.49213 | Val Loss: 0.53442\n",
            "Epoch 110: | Train Loss: 0.50051 | Val Loss: 0.52264\n",
            "Epoch 111: | Train Loss: 0.49871 | Val Loss: 0.50833\n",
            "Epoch 112: | Train Loss: 0.49108 | Val Loss: 0.51274\n",
            "Epoch 113: | Train Loss: 0.49735 | Val Loss: 0.50934\n",
            "Epoch 114: | Train Loss: 0.49169 | Val Loss: 0.50854\n",
            "Epoch 115: | Train Loss: 0.49616 | Val Loss: 0.52545\n",
            "Epoch 116: | Train Loss: 0.50036 | Val Loss: 0.51681\n",
            "Epoch 117: | Train Loss: 0.49180 | Val Loss: 0.50566\n",
            "Epoch 118: | Train Loss: 0.48404 | Val Loss: 0.50106\n",
            "Epoch 119: | Train Loss: 0.50467 | Val Loss: 0.50881\n",
            "Epoch 120: | Train Loss: 0.51619 | Val Loss: 0.49916\n",
            "Epoch 121: | Train Loss: 0.50034 | Val Loss: 0.51363\n",
            "Epoch 122: | Train Loss: 0.48853 | Val Loss: 0.50364\n",
            "Epoch 123: | Train Loss: 0.48387 | Val Loss: 0.50895\n",
            "Epoch 124: | Train Loss: 0.51000 | Val Loss: 0.52815\n",
            "Epoch 125: | Train Loss: 0.50039 | Val Loss: 0.51011\n",
            "Epoch 126: | Train Loss: 0.48871 | Val Loss: 0.49925\n",
            "Epoch 127: | Train Loss: 0.48734 | Val Loss: 0.50175\n",
            "Epoch 128: | Train Loss: 0.49888 | Val Loss: 0.50636\n",
            "Epoch 129: | Train Loss: 0.49954 | Val Loss: 0.50132\n",
            "Epoch 130: | Train Loss: 0.48841 | Val Loss: 0.54057\n",
            "Epoch 131: | Train Loss: 0.49403 | Val Loss: 0.50039\n",
            "Epoch 132: | Train Loss: 0.50834 | Val Loss: 0.52088\n",
            "Epoch 133: | Train Loss: 0.50248 | Val Loss: 0.50797\n",
            "Epoch 134: | Train Loss: 0.49352 | Val Loss: 0.51735\n",
            "Epoch 135: | Train Loss: 0.50274 | Val Loss: 0.50204\n",
            "Epoch 136: | Train Loss: 0.49123 | Val Loss: 0.51417\n",
            "Epoch 137: | Train Loss: 0.49179 | Val Loss: 0.50645\n",
            "Epoch 138: | Train Loss: 0.48433 | Val Loss: 0.51440\n",
            "Epoch 139: | Train Loss: 0.49260 | Val Loss: 0.50827\n",
            "Epoch 140: | Train Loss: 0.50562 | Val Loss: 0.52138\n",
            "Epoch 141: | Train Loss: 0.50305 | Val Loss: 0.50915\n",
            "Epoch 142: | Train Loss: 0.49847 | Val Loss: 0.49582\n",
            "Epoch 143: | Train Loss: 0.48971 | Val Loss: 0.50090\n",
            "Epoch 144: | Train Loss: 0.49090 | Val Loss: 0.50008\n",
            "Epoch 145: | Train Loss: 0.48311 | Val Loss: 0.50399\n",
            "Epoch 146: | Train Loss: 0.48470 | Val Loss: 0.50883\n",
            "Epoch 147: | Train Loss: 0.48907 | Val Loss: 0.54186\n",
            "Epoch 148: | Train Loss: 0.49860 | Val Loss: 0.50190\n",
            "Epoch 149: | Train Loss: 0.48718 | Val Loss: 0.50356\n",
            "Epoch 150: | Train Loss: 0.48785 | Val Loss: 0.51303\n"
          ]
        }
      ]
    },
    {
      "cell_type": "code",
      "metadata": {
        "colab": {
          "base_uri": "https://localhost:8080/",
          "height": 428
        },
        "id": "Sj95w8rvh0Gf",
        "outputId": "4f58fc08-d420-44de-f896-8de443d390e4"
      },
      "source": [
        "train_val_loss_df = pd.DataFrame.from_dict(loss_stats).reset_index().melt(id_vars=['index']).rename(columns={\"index\":\"epochs\"})\n",
        "plt.figure(figsize=(10,6))\n",
        "sns.lineplot(data=train_val_loss_df.loc[3:,:], x = \"epochs\", y=\"value\", hue=\"variable\").set_title('Train-Val Loss/Epoch')"
      ],
      "execution_count": 68,
      "outputs": [
        {
          "output_type": "execute_result",
          "data": {
            "text/plain": [
              "Text(0.5, 1.0, 'Train-Val Loss/Epoch')"
            ]
          },
          "metadata": {},
          "execution_count": 68
        },
        {
          "output_type": "display_data",
          "data": {
            "text/plain": [
              "<Figure size 720x432 with 1 Axes>"
            ],
            "image/png": "[encoded data removed]"
          },
          "metadata": {
            "needs_background": "light"
          }
        }
      ]
    },
    {
      "cell_type": "code",
      "metadata": {
        "id": "WHviRzqnkCRp"
      },
      "source": [
        "y_pred_list = []\n",
        "with torch.no_grad():\n",
        "    model.eval()\n",
        "    for X_batch, _ in test_loader:\n",
        "        X_batch = X_batch.to(device)\n",
        "        y_test_pred = model(X_batch)\n",
        "        y_pred_list.append(y_test_pred.cpu().numpy())\n",
        "y_pred_list = [a.squeeze().tolist() for a in y_pred_list]"
      ],
      "execution_count": 69,
      "outputs": []
    },
    {
      "cell_type": "code",
      "metadata": {
        "colab": {
          "base_uri": "https://localhost:8080/"
        },
        "id": "kPde4baRkHoG",
        "outputId": "cd44f05a-e3f3-43e5-c9c3-1fc2e088bfcb"
      },
      "source": [
        "from sklearn.metrics import mean_squared_error, r2_score\n",
        "mse = mean_squared_error(y_test, y_pred_list)\n",
        "r_square = r2_score(y_test, y_pred_list)\n",
        "print(\"Mean Squared Error :\",mse)\n",
        "print(\"R^2 :\",r_square)"
      ],
      "execution_count": 70,
      "outputs": [
        {
          "output_type": "stream",
          "name": "stdout",
          "text": [
            "Mean Squared Error : 0.5468562162845007\n",
            "R^2 : 0.3231635615574505\n"
          ]
        }
      ]
    },
    {
      "cell_type": "markdown",
      "source": [
        "### Classification with embeddings\n",
        "\n",
        "Tabular data might contain continous values as well as discrite values (categories). \n",
        "- Categorical variable can be handled with: \n",
        "  - onehot encoding\n",
        "  - embeddings --> use Neural Networks to project the data in a new space where similar objects are closer. \n",
        "\n",
        "  Let's try to see this latest part "
      ],
      "metadata": {
        "id": "Hux4uvjNaDow"
      }
    },
    {
      "cell_type": "code",
      "source": [
        "from google.colab import drive\n",
        "drive.mount('/content/drive')"
      ],
      "metadata": {
        "colab": {
          "base_uri": "https://localhost:8080/"
        },
        "id": "liSlfh6BdCUt",
        "outputId": "64051c9c-4e80-415c-d760-253ded086e1e"
      },
      "execution_count": 71,
      "outputs": [
        {
          "output_type": "stream",
          "name": "stdout",
          "text": [
            "Mounted at /content/drive\n"
          ]
        }
      ]
    },
    {
      "cell_type": "code",
      "source": [
        "df = pd.read_csv('/content/drive/Shareddrives/phd_hands_on/data/titanic/train.csv')\n",
        "\n",
        "\n",
        "df_train = df[['PassengerId','Survived','Pclass', \n",
        "                     'Sex', 'Age', 'SibSp','Parch',\n",
        "                     'Fare', 'Embarked']].copy()\n",
        "\n",
        "X = df_train[['Pclass', 'Sex', 'Age', 'SibSp','Parch',\n",
        "                     'Fare', 'Embarked']].copy()\n",
        "Y = df_train[['Survived']].copy()\n",
        "\n",
        "\n",
        "\n",
        "cat_columns = [\"Pclass\", \"Sex\", \"Embarked\"]\n",
        "num_columns = [\"Age\", \"SibSp\", \"Parch\", \"Fare\"]\n",
        "\n",
        "\n",
        "for c in cat_columns:\n",
        "  X[c] =  X[c].astype(\"category\")\n",
        "\n",
        "\n",
        "embedded_cols = {n: len(col.cat.categories) for n,col in X[cat_columns].items() }\n",
        "emb_cols = embedded_cols.keys() # names of columns chosen for embedding\n",
        "print(emb_cols)\n",
        "emb_szs = [(c+1, 2) for _,c in embedded_cols.items()] #embedding sizes for the chosen columns\n"
      ],
      "metadata": {
        "colab": {
          "base_uri": "https://localhost:8080/"
        },
        "id": "XUNUPmCmaylh",
        "outputId": "76e20c61-6a88-49df-874b-2f44cd054ad4"
      },
      "execution_count": 72,
      "outputs": [
        {
          "output_type": "stream",
          "name": "stdout",
          "text": [
            "dict_keys(['Pclass', 'Sex', 'Embarked'])\n"
          ]
        }
      ]
    },
    {
      "cell_type": "code",
      "source": [
        "from torch.utils.data import Dataset, DataLoader\n",
        "import numpy as np\n",
        "class myCategoricalDataset(Dataset):\n",
        "    def __init__(self, X, Y, emb_cols):\n",
        "        X = X.copy()\n",
        "        self.X1 = X.loc[:,emb_cols].copy().values.astype(np.int64) #categorical columns\n",
        "        self.X2 = X.drop(columns=emb_cols).copy().values.astype(np.float32) #numerical columns\n",
        "        self.y = Y.copy().values.astype(np.int64)\n",
        "        \n",
        "    def __len__(self):\n",
        "        return len(self.y)\n",
        "    \n",
        "    def __getitem__(self, idx):\n",
        "        return self.X1[idx], self.X2[idx], self.y[idx]\n",
        " "
      ],
      "metadata": {
        "id": "t1UFarCebZ2C"
      },
      "execution_count": 73,
      "outputs": []
    },
    {
      "cell_type": "code",
      "source": [
        "from sklearn.preprocessing import LabelEncoder\n",
        "\n",
        "for col in X.columns:\n",
        "    if X.dtypes[col] == \"object\":\n",
        "        X[col] = X[col].fillna(\"NA\")\n",
        "    X[col] = LabelEncoder().fit_transform(X[col])"
      ],
      "metadata": {
        "id": "NrO0lCFjbhGl"
      },
      "execution_count": 74,
      "outputs": []
    },
    {
      "cell_type": "code",
      "source": [
        "train_ds = myCategoricalDataset(X, Y, emb_cols)\n",
        "valid_ds = myCategoricalDataset(X, Y, emb_cols)\n",
        "\n",
        "batch_size = 64\n",
        "train_dl = DataLoader(train_ds, batch_size=batch_size,shuffle=True)\n",
        "valid_dl = DataLoader(valid_ds, batch_size=batch_size,shuffle=True)"
      ],
      "metadata": {
        "id": "y4FI0_FJbk7R"
      },
      "execution_count": 75,
      "outputs": []
    },
    {
      "cell_type": "code",
      "source": [
        "class MoreComplexNN(nn.Module):\n",
        "    def __init__(self, embedding_sizes, n_cont):\n",
        "        super().__init__()\n",
        "        self.embeddings = nn.ModuleList([nn.Embedding(categories, size) for categories,size in embedding_sizes])\n",
        "        n_emb = sum(e.embedding_dim for e in self.embeddings) #length of all embeddings combined\n",
        "        self.n_emb, self.n_cont = n_emb, n_cont\n",
        "        self.lin1 = nn.Linear(self.n_emb + self.n_cont, 200)\n",
        "        self.lin2 = nn.Linear(200, 70)\n",
        "        self.lin3 = nn.Linear(70, 2)\n",
        "        self.bn1 = nn.BatchNorm1d(self.n_cont)\n",
        "        self.bn2 = nn.BatchNorm1d(200)\n",
        "        self.bn3 = nn.BatchNorm1d(70)\n",
        "        self.emb_drop = nn.Dropout(0.6)\n",
        "        self.drops = nn.Dropout(0.3)\n",
        "        \n",
        "\n",
        "    def forward(self, x_cat, x_cont):\n",
        "        x = [e(x_cat[:,i]) for i,e in enumerate(self.embeddings)]\n",
        "        x = torch.cat(x, 1)\n",
        "        x = self.emb_drop(x)\n",
        "        x2 = self.bn1(x_cont)\n",
        "        x = torch.cat([x, x2], 1)\n",
        "        x = F.relu(self.lin1(x))\n",
        "        x = self.drops(x)\n",
        "        x = self.bn2(x)\n",
        "        x = F.relu(self.lin2(x))\n",
        "        x = self.drops(x)\n",
        "        x = self.bn3(x)\n",
        "        x = self.lin3(x)\n",
        "        return x"
      ],
      "metadata": {
        "id": "BvrpOkIKboU4"
      },
      "execution_count": 76,
      "outputs": []
    },
    {
      "cell_type": "code",
      "source": [
        "\n",
        "def train_model(model, optim, train_dl):\n",
        "    model.train()\n",
        "    total = 0\n",
        "    sum_loss = 0\n",
        "    for x1, x2, labels in train_dl:\n",
        "        labels = labels.squeeze(-1)\n",
        "        batch = labels.shape[0]\n",
        "        output = model(x1, x2)\n",
        "        loss = F.cross_entropy(output, labels)   \n",
        "        optim.zero_grad()\n",
        "        loss.backward()\n",
        "        optim.step()\n",
        "        total += batch\n",
        "        sum_loss += batch*(loss.item())\n",
        "    return sum_loss/total"
      ],
      "metadata": {
        "id": "rEXurgkvbufs"
      },
      "execution_count": 77,
      "outputs": []
    },
    {
      "cell_type": "code",
      "source": [
        "\n",
        "def val_loss(model, valid_dl):\n",
        "    model.eval()\n",
        "    total = 0\n",
        "    sum_loss = 0\n",
        "    correct = 0\n",
        "    for x1, x2, labels in valid_dl:\n",
        "        current_batch_size = labels.shape[0]\n",
        "        labels = labels.squeeze(-1)\n",
        "        out = model(x1, x2)\n",
        "        loss = F.cross_entropy(out, labels)\n",
        "        sum_loss += current_batch_size*(loss.item())\n",
        "        total += current_batch_size\n",
        "        pred = torch.max(out, 1)[1]\n",
        "        correct += (pred == labels).float().sum().item()\n",
        "    print(\"valid loss %.3f and accuracy %.3f\" % (sum_loss/total, correct/total))\n",
        "    return sum_loss/total, correct/total"
      ],
      "metadata": {
        "id": "IZw-vyo2bxtA"
      },
      "execution_count": 78,
      "outputs": []
    },
    {
      "cell_type": "code",
      "source": [
        "def get_optimizer(model, lr = 0.001, wd = 0.0):\n",
        "    parameters = filter(lambda p: p.requires_grad, model.parameters())\n",
        "    optim = torch.optim.Adam(parameters, lr=lr, weight_decay=wd)\n",
        "    return optim\n"
      ],
      "metadata": {
        "id": "d9UW2_4nb7EG"
      },
      "execution_count": 79,
      "outputs": []
    },
    {
      "cell_type": "code",
      "source": [
        "def train_loop(model, epochs, lr=0.01, wd=0.0):\n",
        "  optim = get_optimizer(model, lr = lr, wd = wd)\n",
        "  for i in range(epochs):\n",
        "    loss = train_model(model, optim, train_dl)\n",
        "    print(\"training loss: \", loss)\n",
        "    val_loss(model, valid_dl)"
      ],
      "metadata": {
        "id": "pnyhfuOUb0zp"
      },
      "execution_count": 80,
      "outputs": []
    },
    {
      "cell_type": "code",
      "source": [
        "emb_szs"
      ],
      "metadata": {
        "colab": {
          "base_uri": "https://localhost:8080/"
        },
        "id": "2dguHjc4dRBW",
        "outputId": "ee5f24bf-107b-476e-af54-29c1c7fb12f5"
      },
      "execution_count": 81,
      "outputs": [
        {
          "output_type": "execute_result",
          "data": {
            "text/plain": [
              "[(4, 2), (3, 2), (4, 2)]"
            ]
          },
          "metadata": {},
          "execution_count": 81
        }
      ]
    },
    {
      "cell_type": "code",
      "source": [
        "model = MoreComplexNN(emb_szs,len(num_columns))"
      ],
      "metadata": {
        "id": "epOCfzFecATI"
      },
      "execution_count": 82,
      "outputs": []
    },
    {
      "cell_type": "code",
      "source": [
        "model "
      ],
      "metadata": {
        "id": "S5xQKz_C9JBn",
        "outputId": "734fcb43-7686-4ff5-92ff-78dcc78edb5d",
        "colab": {
          "base_uri": "https://localhost:8080/"
        }
      },
      "execution_count": 83,
      "outputs": [
        {
          "output_type": "execute_result",
          "data": {
            "text/plain": [
              "MoreComplexNN(\n",
              "  (embeddings): ModuleList(\n",
              "    (0): Embedding(4, 2)\n",
              "    (1): Embedding(3, 2)\n",
              "    (2): Embedding(4, 2)\n",
              "  )\n",
              "  (lin1): Linear(in_features=10, out_features=200, bias=True)\n",
              "  (lin2): Linear(in_features=200, out_features=70, bias=True)\n",
              "  (lin3): Linear(in_features=70, out_features=2, bias=True)\n",
              "  (bn1): BatchNorm1d(4, eps=1e-05, momentum=0.1, affine=True, track_running_stats=True)\n",
              "  (bn2): BatchNorm1d(200, eps=1e-05, momentum=0.1, affine=True, track_running_stats=True)\n",
              "  (bn3): BatchNorm1d(70, eps=1e-05, momentum=0.1, affine=True, track_running_stats=True)\n",
              "  (emb_drop): Dropout(p=0.6, inplace=False)\n",
              "  (drops): Dropout(p=0.3, inplace=False)\n",
              ")"
            ]
          },
          "metadata": {},
          "execution_count": 83
        }
      ]
    },
    {
      "cell_type": "code",
      "source": [
        "\n",
        "train_loop(model, epochs=100, lr=0.01, wd=0.00001)\n"
      ],
      "metadata": {
        "colab": {
          "base_uri": "https://localhost:8080/"
        },
        "id": "WU25znbab_C-",
        "outputId": "a202e2be-a6e4-4a39-d62c-c79e208ea8cb"
      },
      "execution_count": 84,
      "outputs": [
        {
          "output_type": "stream",
          "name": "stdout",
          "text": [
            "training loss:  0.6454102767570786\n",
            "valid loss 0.530 and accuracy 0.761\n",
            "training loss:  0.5713595393397056\n",
            "valid loss 0.506 and accuracy 0.754\n",
            "training loss:  0.5511145443894914\n",
            "valid loss 0.535 and accuracy 0.733\n",
            "training loss:  0.5459413791345025\n",
            "valid loss 0.502 and accuracy 0.755\n",
            "training loss:  0.5442224339603976\n",
            "valid loss 0.534 and accuracy 0.751\n",
            "training loss:  0.5385869210282828\n",
            "valid loss 0.525 and accuracy 0.753\n",
            "training loss:  0.523606126055573\n",
            "valid loss 0.505 and accuracy 0.762\n",
            "training loss:  0.5413847649940337\n",
            "valid loss 0.518 and accuracy 0.746\n",
            "training loss:  0.5168367128246427\n",
            "valid loss 0.507 and accuracy 0.755\n",
            "training loss:  0.5117981649943607\n",
            "valid loss 0.488 and accuracy 0.770\n",
            "training loss:  0.5153139418892052\n",
            "valid loss 0.502 and accuracy 0.760\n",
            "training loss:  0.5161996382120349\n",
            "valid loss 0.518 and accuracy 0.746\n",
            "training loss:  0.5076811997978775\n",
            "valid loss 0.512 and accuracy 0.754\n",
            "training loss:  0.5265055917596443\n",
            "valid loss 0.519 and accuracy 0.750\n",
            "training loss:  0.489305137116232\n",
            "valid loss 0.496 and accuracy 0.760\n",
            "training loss:  0.4945156283919124\n",
            "valid loss 0.520 and accuracy 0.753\n",
            "training loss:  0.5133108326080271\n",
            "valid loss 0.498 and accuracy 0.771\n",
            "training loss:  0.4993453412813236\n",
            "valid loss 0.523 and accuracy 0.742\n",
            "training loss:  0.4901207524250386\n",
            "valid loss 0.500 and accuracy 0.752\n",
            "training loss:  0.5094232445814794\n",
            "valid loss 0.519 and accuracy 0.749\n",
            "training loss:  0.5022541879269679\n",
            "valid loss 0.502 and accuracy 0.759\n",
            "training loss:  0.4897009947417695\n",
            "valid loss 0.504 and accuracy 0.762\n",
            "training loss:  0.4943759167769675\n",
            "valid loss 0.487 and accuracy 0.785\n",
            "training loss:  0.49565558421491374\n",
            "valid loss 0.492 and accuracy 0.772\n",
            "training loss:  0.500311882608266\n",
            "valid loss 0.459 and accuracy 0.781\n",
            "training loss:  0.48230823205510104\n",
            "valid loss 0.463 and accuracy 0.781\n",
            "training loss:  0.4891628179820432\n",
            "valid loss 0.512 and accuracy 0.753\n",
            "training loss:  0.4728613317213476\n",
            "valid loss 0.488 and accuracy 0.776\n",
            "training loss:  0.49696433865261397\n",
            "valid loss 0.490 and accuracy 0.769\n",
            "training loss:  0.5049568220354224\n",
            "valid loss 0.503 and accuracy 0.756\n",
            "training loss:  0.46627483370595774\n",
            "valid loss 0.486 and accuracy 0.773\n",
            "training loss:  0.4865070931973013\n",
            "valid loss 0.499 and accuracy 0.762\n",
            "training loss:  0.4791187563729206\n",
            "valid loss 0.502 and accuracy 0.761\n",
            "training loss:  0.5024432097755029\n",
            "valid loss 0.479 and accuracy 0.777\n",
            "training loss:  0.5014795153898288\n",
            "valid loss 0.497 and accuracy 0.776\n",
            "training loss:  0.5018113227404328\n",
            "valid loss 0.486 and accuracy 0.780\n",
            "training loss:  0.4813649617595437\n",
            "valid loss 0.509 and accuracy 0.763\n",
            "training loss:  0.4781377449313933\n",
            "valid loss 0.493 and accuracy 0.758\n",
            "training loss:  0.48802666210566303\n",
            "valid loss 0.490 and accuracy 0.762\n",
            "training loss:  0.49709013221507387\n",
            "valid loss 0.484 and accuracy 0.776\n",
            "training loss:  0.4734811746043923\n",
            "valid loss 0.479 and accuracy 0.777\n",
            "training loss:  0.48805348131926907\n",
            "valid loss 0.491 and accuracy 0.760\n",
            "training loss:  0.4800191117590659\n",
            "valid loss 0.459 and accuracy 0.780\n",
            "training loss:  0.4780378261399189\n",
            "valid loss 0.479 and accuracy 0.770\n",
            "training loss:  0.4850882845361091\n",
            "valid loss 0.480 and accuracy 0.774\n",
            "training loss:  0.48149579362034395\n",
            "valid loss 0.485 and accuracy 0.777\n",
            "training loss:  0.48733132950518404\n",
            "valid loss 0.494 and accuracy 0.765\n",
            "training loss:  0.47966757734482807\n",
            "valid loss 0.468 and accuracy 0.777\n",
            "training loss:  0.47454786484624134\n",
            "valid loss 0.448 and accuracy 0.790\n",
            "training loss:  0.4772590090730776\n",
            "valid loss 0.474 and accuracy 0.776\n",
            "training loss:  0.49058424463175765\n",
            "valid loss 0.483 and accuracy 0.781\n",
            "training loss:  0.4836100169972806\n",
            "valid loss 0.470 and accuracy 0.783\n",
            "training loss:  0.46790583995322454\n",
            "valid loss 0.485 and accuracy 0.767\n",
            "training loss:  0.4675535902832494\n",
            "valid loss 0.450 and accuracy 0.774\n",
            "training loss:  0.4760246150086892\n",
            "valid loss 0.502 and accuracy 0.755\n",
            "training loss:  0.487078806299687\n",
            "valid loss 0.486 and accuracy 0.768\n",
            "training loss:  0.4883397641674303\n",
            "valid loss 0.486 and accuracy 0.770\n",
            "training loss:  0.49331686686720244\n",
            "valid loss 0.501 and accuracy 0.761\n",
            "training loss:  0.4980567763951491\n",
            "valid loss 0.477 and accuracy 0.770\n",
            "training loss:  0.48929496960741636\n",
            "valid loss 0.507 and accuracy 0.763\n",
            "training loss:  0.4835321074048544\n",
            "valid loss 0.483 and accuracy 0.769\n",
            "training loss:  0.48116333376277576\n",
            "valid loss 0.495 and accuracy 0.767\n",
            "training loss:  0.48542836201445155\n",
            "valid loss 0.484 and accuracy 0.771\n",
            "training loss:  0.4733101083373381\n",
            "valid loss 0.518 and accuracy 0.753\n",
            "training loss:  0.498629833846515\n",
            "valid loss 0.501 and accuracy 0.763\n",
            "training loss:  0.48043097550620134\n",
            "valid loss 0.503 and accuracy 0.765\n",
            "training loss:  0.46282017699261974\n",
            "valid loss 0.475 and accuracy 0.777\n",
            "training loss:  0.45382049629583904\n",
            "valid loss 0.501 and accuracy 0.770\n",
            "training loss:  0.48606548974275854\n",
            "valid loss 0.463 and accuracy 0.774\n",
            "training loss:  0.47735395348567083\n",
            "valid loss 0.486 and accuracy 0.767\n",
            "training loss:  0.4654188766557092\n",
            "valid loss 0.489 and accuracy 0.763\n",
            "training loss:  0.4850698765680846\n",
            "valid loss 0.504 and accuracy 0.754\n",
            "training loss:  0.4581040606889393\n",
            "valid loss 0.514 and accuracy 0.753\n",
            "training loss:  0.4588856277307945\n",
            "valid loss 0.492 and accuracy 0.767\n",
            "training loss:  0.5033229073022485\n",
            "valid loss 0.512 and accuracy 0.752\n",
            "training loss:  0.4617451485894478\n",
            "valid loss 0.509 and accuracy 0.760\n",
            "training loss:  0.47500553700391424\n",
            "valid loss 0.505 and accuracy 0.767\n",
            "training loss:  0.46818428733265893\n",
            "valid loss 0.505 and accuracy 0.761\n",
            "training loss:  0.45085198540077465\n",
            "valid loss 0.481 and accuracy 0.774\n",
            "training loss:  0.4700045310019376\n",
            "valid loss 0.512 and accuracy 0.758\n",
            "training loss:  0.4759871167968018\n",
            "valid loss 0.479 and accuracy 0.764\n",
            "training loss:  0.4800594257050759\n",
            "valid loss 0.455 and accuracy 0.778\n",
            "training loss:  0.46121694045569894\n",
            "valid loss 0.485 and accuracy 0.762\n",
            "training loss:  0.47203264854572435\n",
            "valid loss 0.512 and accuracy 0.746\n",
            "training loss:  0.4888225217860957\n",
            "valid loss 0.493 and accuracy 0.758\n",
            "training loss:  0.46832897690543956\n",
            "valid loss 0.492 and accuracy 0.762\n",
            "training loss:  0.49046779461581297\n",
            "valid loss 0.465 and accuracy 0.788\n",
            "training loss:  0.47958739518316507\n",
            "valid loss 0.470 and accuracy 0.778\n",
            "training loss:  0.484403003479629\n",
            "valid loss 0.494 and accuracy 0.759\n",
            "training loss:  0.46349693970246747\n",
            "valid loss 0.493 and accuracy 0.774\n",
            "training loss:  0.4801064161071606\n",
            "valid loss 0.452 and accuracy 0.788\n",
            "training loss:  0.46269190655948067\n",
            "valid loss 0.482 and accuracy 0.776\n",
            "training loss:  0.48124774618180916\n",
            "valid loss 0.483 and accuracy 0.769\n",
            "training loss:  0.46259403559896684\n",
            "valid loss 0.474 and accuracy 0.770\n",
            "training loss:  0.4804022290088512\n",
            "valid loss 0.478 and accuracy 0.767\n",
            "training loss:  0.4784503996572912\n",
            "valid loss 0.529 and accuracy 0.738\n",
            "training loss:  0.4659256864543983\n",
            "valid loss 0.489 and accuracy 0.758\n",
            "training loss:  0.45593850794598445\n",
            "valid loss 0.471 and accuracy 0.773\n",
            "training loss:  0.48364375038312873\n",
            "valid loss 0.497 and accuracy 0.763\n",
            "training loss:  0.46919163275514253\n",
            "valid loss 0.479 and accuracy 0.779\n"
          ]
        }
      ]
    },
    {
      "cell_type": "markdown",
      "source": [
        "## Backpropation algorithm \n",
        "### How the neural networks learn\n",
        "\n",
        "As we see last time the training process is build of these main steps: \n",
        "- forward \n",
        "  ``` python model(X_train_batch)```\n",
        "- loss computation\n",
        "  + based on loss function adopted\n",
        "  + it compares the predictions with the expected results\n",
        "- backward\n",
        "  - computes ```dloss/dx``` for every parameter x which has requires_grad=True. These are accumulated into x.grad for every parameter x. Gradient computation\n",
        "- optimization \n",
        "  ```optimizer.step``` updates the value of x using the gradient ```x.grad```. For example, the SGD optimizer performs:\n",
        "\n",
        "  ```x += -lr * x.grad```\n",
        "\n",
        "**Notice**: ```optimizer.zero_grad()``` clears ```x.grad``` for every parameter x in the optimizer. It’s important to call this before ```loss.backward()```, otherwise you’ll accumulate the gradients from multiple passes.\n",
        "\n"
      ],
      "metadata": {
        "id": "6eBOSGI6_rP2"
      }
    },
    {
      "cell_type": "markdown",
      "source": [
        "### Some resources you can use to understand better the math behind it\n",
        "\n",
        "https://alexander-schiendorfer.github.io/2020/02/24/a-worked-example-of-backprop.html\n",
        "\n",
        "\n",
        "https://www.youtube.com/watch?v=x_Eamf8MHwU\n",
        "\n",
        "https://www.youtube.com/watch?v=Ilg3gGewQ5U"
      ],
      "metadata": {
        "id": "RaOsuXZS_q-U"
      }
    },
    {
      "cell_type": "markdown",
      "source": [
        "## Embeddings\n",
        "\n",
        "A method used to represent **discrete** variables (e.g. words, categories) as **continuous** vectors.\n",
        "\n",
        "Appplication on **word embeddings** for *machine translation* and **entity embeddings** for **categorical variables**.\n",
        "\n",
        "\n",
        "Neural network embeddings are useful because they can reduce the dimensionality of categorical variables and meaningfully represent categories in the transformed space.\n",
        "\n",
        "Neural network embeddings have 3 primary purposes:\n",
        "\n",
        "- Finding **nearest neighbors in the embedding space**. These can be used to make recommendations based on user interests or cluster categories.\n",
        "- As **input** to a machine learning model for a supervised task.\n",
        "- For **visualization** of concepts and relations between categories.\n"
      ],
      "metadata": {
        "id": "hNQ6fxCP_q1f"
      }
    },
    {
      "cell_type": "markdown",
      "source": [
        "### Limitations of One Hot Encoding\n",
        "\n",
        "The operation of one-hot encoding categorical variables is actually a simple embedding where each category is mapped to a different vector... **but**...\n",
        "\n",
        "The one-hot encoding technique has two main drawbacks:\n",
        "\n",
        "1. For high-cardinality variables — those with many unique categories — the dimensionality of the transformed vector becomes unmanageable.\n",
        "2. The mapping is completely uninformed: “similar” categories are not placed closer to each other in embedding space\n",
        "\n",
        "**First problem:** For each additional category — referred to as an entity — we have to add another number to the one-hot encoded vector. If we have 7,000 municipalities to handle, then representing these requires a 7,000-dimensional vector for each, which makes training any machine learning model on this representation infeasible.\n",
        "\n",
        "**Second problem:**: one-hot encoding does not place similar entities closer to one another in vector space. If we measure similarity between vectors using the cosine distance, then after one-hot encoding, the similarity is 0 for every comparison between entities.\n",
        "\n",
        "The main issue with one-hot encoding is that the transformation does not rely on any supervision. *We don't learn them!* "
      ],
      "metadata": {
        "id": "u4_wGvHg_qtv"
      }
    },
    {
      "cell_type": "markdown",
      "source": [
        "We can greatly improve embeddings by learning them using a neural network on a supervised task.\n",
        "\n",
        "The embeddings form the parameters — **weights** — of the network which are adjusted to **minimize** loss on the task. \n",
        "\n",
        "The resulting embedded vectors are **representations** of categories where **similar categories** — relative to the task — are **closer** to one another.\n",
        "\n",
        "For example, if we have a vocabulary of 50,000 words used in a collection of movie reviews, we could learn 100-dimensional embeddings for each word using an embedding neural network trained to predict the sentimentality of the reviews.\n",
        "\n",
        "Words in the vocabulary that are associated with positive reviews such as “brilliant” or “excellent” will come out closer in the embedding space because the network has learned these are both associated with positive reviews.\n",
        "\n",
        "It's not **magic**, it's surprisingly **math!!!**"
      ],
      "metadata": {
        "id": "ilvZoHlp_qjD"
      }
    },
    {
      "cell_type": "markdown",
      "source": [
        ""
      ],
      "metadata": {
        "id": "aQJudRQG_qee"
      }
    },
    {
      "cell_type": "markdown",
      "source": [
        ""
      ],
      "metadata": {
        "id": "ZGHRlNlR_qFR"
      }
    },
    {
      "cell_type": "markdown",
      "metadata": {
        "id": "n-V2810AYazY"
      },
      "source": [
        "# Convolutional Neural Network (CNN)\n",
        "\n",
        "- The fully connected network can function as a universal approximator, but we don't know how long it will take to train it to become a good approximation \n",
        "- In particular, for images it could be interesting to capture locality and translation invariance\n",
        "  - Check the nearby pixels to recognize objects (e.g. features) \n",
        "  - It leverages the position of the pixels that is completely destroyed in a 1 dimensional array\n",
        "  - tadaaa convolution: scalar product of a weight matrix (**kernel**) with every neighborhood in the input.\n"
      ]
    },
    {
      "cell_type": "code",
      "metadata": {
        "id": "u-4pi5VLaTgi"
      },
      "source": [
        "\n",
        "from sklearn.datasets import fetch_openml\n",
        "mnist = fetch_openml('mnist_784', version=1, cache=True, as_frame=False)\n",
        "\n",
        "X = mnist[\"data\"]\n",
        "y = mnist[\"target\"].astype(np.uint8)\n",
        "\n",
        "X_train = X[:50000]\n",
        "y_train = y[:50000]\n",
        "\n",
        "X_val = X[50000:60000]\n",
        "y_val = y[50000:60000]\n",
        "\n",
        "X_test = X[60000:]\n",
        "y_test = y[60000:]"
      ],
      "execution_count": 85,
      "outputs": []
    },
    {
      "cell_type": "code",
      "source": [
        "x_train_tensor.shape"
      ],
      "metadata": {
        "id": "WsuX6CT3JRII",
        "outputId": "b43d7f99-bcd0-4734-a9fe-b4469555fb56",
        "colab": {
          "base_uri": "https://localhost:8080/"
        }
      },
      "execution_count": 86,
      "outputs": [
        {
          "output_type": "execute_result",
          "data": {
            "text/plain": [
              "torch.Size([50000, 784])"
            ]
          },
          "metadata": {},
          "execution_count": 86
        }
      ]
    },
    {
      "cell_type": "code",
      "metadata": {
        "id": "XYX6FC76ad3R"
      },
      "source": [
        "from torch.utils.data import TensorDataset\n",
        "from torch.utils.data import DataLoader\n",
        "\n",
        "batch_size = 32 \n",
        "train_ds = TensorDataset(x_train_tensor, y_train_tensor)\n",
        "train_dl = DataLoader(\n",
        "    train_ds, batch_size=batch_size, shuffle=True)\n",
        "\n",
        "val_ds = TensorDataset(x_val_tensor, y_val_tensor)\n",
        "val_dl = DataLoader(\n",
        "    val_ds, batch_size=batch_size, shuffle=True)\n",
        "\n",
        "\n",
        "test_ds = TensorDataset(x_test_tensor, y_test_tensor)\n",
        "test_dl = DataLoader(test_ds, batch_size=batch_size)\n"
      ],
      "execution_count": 87,
      "outputs": []
    },
    {
      "cell_type": "markdown",
      "metadata": {
        "id": "-rzuadYSWj0z"
      },
      "source": [
        "Convolution parameters: \n",
        "- ```in_channel``` is the number of input channels (1 for grey images, 3 for rgb)\n",
        "- ```out_channel``` the number of output channels\n",
        "- ```kernel_size``` eight and width of the kernel filter, if only one value is passed then eight = width \n",
        "- ```stride``` how many steps across the input we move when we adjust the filter to a new position\n",
        "- ```padding``` it can happen that we don't have enough elements in our input to do a full convolution. In these cases, the empty values are filled with the ```padding``` values"
      ]
    },
    {
      "cell_type": "markdown",
      "metadata": {
        "id": "y73tNrQ2Xud_"
      },
      "source": [
        "Pooling layers, they reduce the resolution of the network from the previous input layer, therefore fewer parameters in the lower layers. \n",
        "- Faster computation\n",
        "- it helps to prevent overfitting\n",
        "\n",
        "There is also a ```padding``` option here. "
      ]
    },
    {
      "cell_type": "code",
      "metadata": {
        "id": "rql6I9v8XgGh"
      },
      "source": [
        "class CNN(nn.Module):\n",
        "    def __init__(self):\n",
        "        super(CNN, self).__init__()\n",
        "\n",
        "        # Convolution 1\n",
        "        self.cnn1 = nn.Conv2d(in_channels=1, out_channels=16,\n",
        "                              kernel_size=3, stride=1, padding=0)\n",
        "        self.relu1 = nn.ReLU()\n",
        "\n",
        "        # Max pool 1\n",
        "        self.maxpool1 = nn.MaxPool2d(kernel_size=2)\n",
        "\n",
        "        # Convolution 2\n",
        "        self.cnn2 = nn.Conv2d(in_channels=16, out_channels=32,\n",
        "                              kernel_size=3, stride=1, padding=0)\n",
        "        self.relu2 = nn.ReLU()\n",
        "\n",
        "        # Max pool 2\n",
        "        self.maxpool2 = nn.MaxPool2d(kernel_size=2)\n",
        "\n",
        "        # Fully connected 1\n",
        "        self.fc1 = nn.Linear(32 * 5 * 5, 10)\n",
        "\n",
        "    def forward(self, x, to_print=False):\n",
        "        # Set 1\n",
        "        if to_print:\n",
        "          print('INPUT',x.shape)\n",
        "        out = self.cnn1(x)\n",
        "        if to_print:\n",
        "          print('CNN1',out.shape)\n",
        "        out = self.relu1(out)\n",
        "        out = self.maxpool1(out)\n",
        "        if to_print:\n",
        "          print('MAXPOOL1',out.shape)\n",
        "\n",
        "        # Set 2\n",
        "        out = self.cnn2(out)\n",
        "        if to_print:\n",
        "          print('CNN2',out.shape)\n",
        "\n",
        "        out = self.relu2(out)\n",
        "\n",
        "        out = self.maxpool2(out)\n",
        "        if to_print:\n",
        "          print(\"after the 2nd maxpool:{} \".format(out.shape))\n",
        "        # Flatten\n",
        "        out = out.view(out.size(0), -1)\n",
        "        if to_print:\n",
        "          print(\"after the flatten:{} \".format(out.shape))\n",
        "        out = self.fc1(out)\n",
        "        if to_print:\n",
        "          print('FINAL',out.shape)\n",
        "\n",
        "        return out"
      ],
      "execution_count": 88,
      "outputs": []
    },
    {
      "cell_type": "code",
      "metadata": {
        "id": "IdZjenirdWec"
      },
      "source": [
        "## few changes to the train function used above. \n",
        "\n",
        "def train(model, optimizer, loss_fn, train_loader, val_loader, epochs=20, device=\"cpu\",to_print=False):\n",
        "    for epoch in range(1, epochs+1):\n",
        "        training_loss = 0.0\n",
        "        valid_loss = 0.0\n",
        "        model.train()\n",
        "        for batch in train_loader:\n",
        "            optimizer.zero_grad() # clear gradients for next train\n",
        "            inputs, targets = batch\n",
        "            inputs = inputs.to(device)\n",
        "            targets = targets.to(device)\n",
        "            output = model(inputs,to_print)\n",
        "            loss = loss_fn(output, targets)\n",
        "            loss.backward() # backpropagation, compute gradients\n",
        "            optimizer.step() # apply gradients\n",
        "            training_loss += loss.data.item() * inputs.size(0)\n",
        "            # print(training_loss,loss.data.item(),inputs.size(0))\n",
        "            if to_print:\n",
        "              break\n",
        "        training_loss /= len(train_loader.dataset)\n",
        "        if to_print:\n",
        "          break\n",
        "        with torch.no_grad():\n",
        "          model.eval()\n",
        "          num_correct = 0 \n",
        "          num_examples = 0\n",
        "          for batch in val_loader:\n",
        "              inputs, targets = batch\n",
        "              inputs = inputs.to(device)\n",
        "              output = model(inputs)\n",
        "              targets = targets.to(device)\n",
        "              loss = loss_fn(output,targets) \n",
        "              valid_loss += loss.data.item() * inputs.size(0)\n",
        "              correct = torch.eq(torch.max(F.softmax(output, dim=1), dim=1)[1], targets)\n",
        "              num_correct += torch.sum(correct).item()\n",
        "              num_examples += correct.shape[0]\n",
        "          valid_loss /= len(val_loader.dataset)\n",
        "\n",
        "        print('Epoch: {}, Training Loss: {:.4f}, Validation Loss: {:.4f}, accuracy = {:.4f}'.format(epoch, training_loss,\n",
        "        valid_loss, num_correct / num_examples))"
      ],
      "execution_count": 89,
      "outputs": []
    },
    {
      "cell_type": "code",
      "metadata": {
        "colab": {
          "base_uri": "https://localhost:8080/",
          "height": 346
        },
        "id": "8znMf8E8aBm3",
        "outputId": "aa8f5df0-6938-4def-9879-98fee1853173"
      },
      "source": [
        "cnn = CNN()\n",
        "optimizer = optim.SGD(cnn.parameters(),lr=0.001)\n",
        "train(cnn, optimizer,torch.nn.CrossEntropyLoss(), train_dl,val_dl, epochs=5)"
      ],
      "execution_count": 92,
      "outputs": [
        {
          "output_type": "error",
          "ename": "RuntimeError",
          "evalue": "ignored",
          "traceback": [
            "\u001b[0;31m---------------------------------------------------------------------------\u001b[0m",
            "\u001b[0;31mRuntimeError\u001b[0m                              Traceback (most recent call last)",
            "\u001b[0;32m<ipython-input-92-fa4ddee6f810>\u001b[0m in \u001b[0;36m<module>\u001b[0;34m()\u001b[0m\n\u001b[1;32m      1\u001b[0m \u001b[0mcnn\u001b[0m \u001b[0;34m=\u001b[0m \u001b[0mCNN\u001b[0m\u001b[0;34m(\u001b[0m\u001b[0;34m)\u001b[0m\u001b[0;34m\u001b[0m\u001b[0;34m\u001b[0m\u001b[0m\n\u001b[1;32m      2\u001b[0m \u001b[0moptimizer\u001b[0m \u001b[0;34m=\u001b[0m \u001b[0moptim\u001b[0m\u001b[0;34m.\u001b[0m\u001b[0mSGD\u001b[0m\u001b[0;34m(\u001b[0m\u001b[0mcnn\u001b[0m\u001b[0;34m.\u001b[0m\u001b[0mparameters\u001b[0m\u001b[0;34m(\u001b[0m\u001b[0;34m)\u001b[0m\u001b[0;34m,\u001b[0m\u001b[0mlr\u001b[0m\u001b[0;34m=\u001b[0m\u001b[0;36m0.001\u001b[0m\u001b[0;34m)\u001b[0m\u001b[0;34m\u001b[0m\u001b[0;34m\u001b[0m\u001b[0m\n\u001b[0;32m----> 3\u001b[0;31m \u001b[0mtrain\u001b[0m\u001b[0;34m(\u001b[0m\u001b[0mcnn\u001b[0m\u001b[0;34m,\u001b[0m \u001b[0moptimizer\u001b[0m\u001b[0;34m,\u001b[0m\u001b[0mtorch\u001b[0m\u001b[0;34m.\u001b[0m\u001b[0mnn\u001b[0m\u001b[0;34m.\u001b[0m\u001b[0mCrossEntropyLoss\u001b[0m\u001b[0;34m(\u001b[0m\u001b[0;34m)\u001b[0m\u001b[0;34m,\u001b[0m \u001b[0mtrain_dl\u001b[0m\u001b[0;34m,\u001b[0m\u001b[0mval_dl\u001b[0m\u001b[0;34m,\u001b[0m \u001b[0mepochs\u001b[0m\u001b[0;34m=\u001b[0m\u001b[0;36m5\u001b[0m\u001b[0;34m)\u001b[0m\u001b[0;34m\u001b[0m\u001b[0;34m\u001b[0m\u001b[0m\n\u001b[0m",
            "\u001b[0;32m<ipython-input-89-3a2b6e0d75a4>\u001b[0m in \u001b[0;36mtrain\u001b[0;34m(model, optimizer, loss_fn, train_loader, val_loader, epochs, device, to_print)\u001b[0m\n\u001b[1;32m     11\u001b[0m             \u001b[0minputs\u001b[0m \u001b[0;34m=\u001b[0m \u001b[0minputs\u001b[0m\u001b[0;34m.\u001b[0m\u001b[0mto\u001b[0m\u001b[0;34m(\u001b[0m\u001b[0mdevice\u001b[0m\u001b[0;34m)\u001b[0m\u001b[0;34m\u001b[0m\u001b[0;34m\u001b[0m\u001b[0m\n\u001b[1;32m     12\u001b[0m             \u001b[0mtargets\u001b[0m \u001b[0;34m=\u001b[0m \u001b[0mtargets\u001b[0m\u001b[0;34m.\u001b[0m\u001b[0mto\u001b[0m\u001b[0;34m(\u001b[0m\u001b[0mdevice\u001b[0m\u001b[0;34m)\u001b[0m\u001b[0;34m\u001b[0m\u001b[0;34m\u001b[0m\u001b[0m\n\u001b[0;32m---> 13\u001b[0;31m             \u001b[0moutput\u001b[0m \u001b[0;34m=\u001b[0m \u001b[0mmodel\u001b[0m\u001b[0;34m(\u001b[0m\u001b[0minputs\u001b[0m\u001b[0;34m,\u001b[0m\u001b[0mto_print\u001b[0m\u001b[0;34m)\u001b[0m\u001b[0;34m\u001b[0m\u001b[0;34m\u001b[0m\u001b[0m\n\u001b[0m\u001b[1;32m     14\u001b[0m             \u001b[0mloss\u001b[0m \u001b[0;34m=\u001b[0m \u001b[0mloss_fn\u001b[0m\u001b[0;34m(\u001b[0m\u001b[0moutput\u001b[0m\u001b[0;34m,\u001b[0m \u001b[0mtargets\u001b[0m\u001b[0;34m)\u001b[0m\u001b[0;34m\u001b[0m\u001b[0;34m\u001b[0m\u001b[0m\n\u001b[1;32m     15\u001b[0m             \u001b[0mloss\u001b[0m\u001b[0;34m.\u001b[0m\u001b[0mbackward\u001b[0m\u001b[0;34m(\u001b[0m\u001b[0;34m)\u001b[0m \u001b[0;31m# backpropagation, compute gradients\u001b[0m\u001b[0;34m\u001b[0m\u001b[0;34m\u001b[0m\u001b[0m\n",
            "\u001b[0;32m/usr/local/lib/python3.7/dist-packages/torch/nn/modules/module.py\u001b[0m in \u001b[0;36m_call_impl\u001b[0;34m(self, *input, **kwargs)\u001b[0m\n\u001b[1;32m    887\u001b[0m             \u001b[0mresult\u001b[0m \u001b[0;34m=\u001b[0m \u001b[0mself\u001b[0m\u001b[0;34m.\u001b[0m\u001b[0m_slow_forward\u001b[0m\u001b[0;34m(\u001b[0m\u001b[0;34m*\u001b[0m\u001b[0minput\u001b[0m\u001b[0;34m,\u001b[0m \u001b[0;34m**\u001b[0m\u001b[0mkwargs\u001b[0m\u001b[0;34m)\u001b[0m\u001b[0;34m\u001b[0m\u001b[0;34m\u001b[0m\u001b[0m\n\u001b[1;32m    888\u001b[0m         \u001b[0;32melse\u001b[0m\u001b[0;34m:\u001b[0m\u001b[0;34m\u001b[0m\u001b[0;34m\u001b[0m\u001b[0m\n\u001b[0;32m--> 889\u001b[0;31m             \u001b[0mresult\u001b[0m \u001b[0;34m=\u001b[0m \u001b[0mself\u001b[0m\u001b[0;34m.\u001b[0m\u001b[0mforward\u001b[0m\u001b[0;34m(\u001b[0m\u001b[0;34m*\u001b[0m\u001b[0minput\u001b[0m\u001b[0;34m,\u001b[0m \u001b[0;34m**\u001b[0m\u001b[0mkwargs\u001b[0m\u001b[0;34m)\u001b[0m\u001b[0;34m\u001b[0m\u001b[0;34m\u001b[0m\u001b[0m\n\u001b[0m\u001b[1;32m    890\u001b[0m         for hook in itertools.chain(\n\u001b[1;32m    891\u001b[0m                 \u001b[0m_global_forward_hooks\u001b[0m\u001b[0;34m.\u001b[0m\u001b[0mvalues\u001b[0m\u001b[0;34m(\u001b[0m\u001b[0;34m)\u001b[0m\u001b[0;34m,\u001b[0m\u001b[0;34m\u001b[0m\u001b[0;34m\u001b[0m\u001b[0m\n",
            "\u001b[0;32m<ipython-input-88-a9d55d6a2fe2>\u001b[0m in \u001b[0;36mforward\u001b[0;34m(self, x, to_print)\u001b[0m\n\u001b[1;32m     26\u001b[0m         \u001b[0;32mif\u001b[0m \u001b[0mto_print\u001b[0m\u001b[0;34m:\u001b[0m\u001b[0;34m\u001b[0m\u001b[0;34m\u001b[0m\u001b[0m\n\u001b[1;32m     27\u001b[0m           \u001b[0mprint\u001b[0m\u001b[0;34m(\u001b[0m\u001b[0;34m'INPUT'\u001b[0m\u001b[0;34m,\u001b[0m\u001b[0mx\u001b[0m\u001b[0;34m.\u001b[0m\u001b[0mshape\u001b[0m\u001b[0;34m)\u001b[0m\u001b[0;34m\u001b[0m\u001b[0;34m\u001b[0m\u001b[0m\n\u001b[0;32m---> 28\u001b[0;31m         \u001b[0mout\u001b[0m \u001b[0;34m=\u001b[0m \u001b[0mself\u001b[0m\u001b[0;34m.\u001b[0m\u001b[0mcnn1\u001b[0m\u001b[0;34m(\u001b[0m\u001b[0mx\u001b[0m\u001b[0;34m)\u001b[0m\u001b[0;34m\u001b[0m\u001b[0;34m\u001b[0m\u001b[0m\n\u001b[0m\u001b[1;32m     29\u001b[0m         \u001b[0;32mif\u001b[0m \u001b[0mto_print\u001b[0m\u001b[0;34m:\u001b[0m\u001b[0;34m\u001b[0m\u001b[0;34m\u001b[0m\u001b[0m\n\u001b[1;32m     30\u001b[0m           \u001b[0mprint\u001b[0m\u001b[0;34m(\u001b[0m\u001b[0;34m'CNN1'\u001b[0m\u001b[0;34m,\u001b[0m\u001b[0mout\u001b[0m\u001b[0;34m.\u001b[0m\u001b[0mshape\u001b[0m\u001b[0;34m)\u001b[0m\u001b[0;34m\u001b[0m\u001b[0;34m\u001b[0m\u001b[0m\n",
            "\u001b[0;32m/usr/local/lib/python3.7/dist-packages/torch/nn/modules/module.py\u001b[0m in \u001b[0;36m_call_impl\u001b[0;34m(self, *input, **kwargs)\u001b[0m\n\u001b[1;32m    887\u001b[0m             \u001b[0mresult\u001b[0m \u001b[0;34m=\u001b[0m \u001b[0mself\u001b[0m\u001b[0;34m.\u001b[0m\u001b[0m_slow_forward\u001b[0m\u001b[0;34m(\u001b[0m\u001b[0;34m*\u001b[0m\u001b[0minput\u001b[0m\u001b[0;34m,\u001b[0m \u001b[0;34m**\u001b[0m\u001b[0mkwargs\u001b[0m\u001b[0;34m)\u001b[0m\u001b[0;34m\u001b[0m\u001b[0;34m\u001b[0m\u001b[0m\n\u001b[1;32m    888\u001b[0m         \u001b[0;32melse\u001b[0m\u001b[0;34m:\u001b[0m\u001b[0;34m\u001b[0m\u001b[0;34m\u001b[0m\u001b[0m\n\u001b[0;32m--> 889\u001b[0;31m             \u001b[0mresult\u001b[0m \u001b[0;34m=\u001b[0m \u001b[0mself\u001b[0m\u001b[0;34m.\u001b[0m\u001b[0mforward\u001b[0m\u001b[0;34m(\u001b[0m\u001b[0;34m*\u001b[0m\u001b[0minput\u001b[0m\u001b[0;34m,\u001b[0m \u001b[0;34m**\u001b[0m\u001b[0mkwargs\u001b[0m\u001b[0;34m)\u001b[0m\u001b[0;34m\u001b[0m\u001b[0;34m\u001b[0m\u001b[0m\n\u001b[0m\u001b[1;32m    890\u001b[0m         for hook in itertools.chain(\n\u001b[1;32m    891\u001b[0m                 \u001b[0m_global_forward_hooks\u001b[0m\u001b[0;34m.\u001b[0m\u001b[0mvalues\u001b[0m\u001b[0;34m(\u001b[0m\u001b[0;34m)\u001b[0m\u001b[0;34m,\u001b[0m\u001b[0;34m\u001b[0m\u001b[0;34m\u001b[0m\u001b[0m\n",
            "\u001b[0;32m/usr/local/lib/python3.7/dist-packages/torch/nn/modules/conv.py\u001b[0m in \u001b[0;36mforward\u001b[0;34m(self, input)\u001b[0m\n\u001b[1;32m    397\u001b[0m \u001b[0;34m\u001b[0m\u001b[0m\n\u001b[1;32m    398\u001b[0m     \u001b[0;32mdef\u001b[0m \u001b[0mforward\u001b[0m\u001b[0;34m(\u001b[0m\u001b[0mself\u001b[0m\u001b[0;34m,\u001b[0m \u001b[0minput\u001b[0m\u001b[0;34m:\u001b[0m \u001b[0mTensor\u001b[0m\u001b[0;34m)\u001b[0m \u001b[0;34m->\u001b[0m \u001b[0mTensor\u001b[0m\u001b[0;34m:\u001b[0m\u001b[0;34m\u001b[0m\u001b[0;34m\u001b[0m\u001b[0m\n\u001b[0;32m--> 399\u001b[0;31m         \u001b[0;32mreturn\u001b[0m \u001b[0mself\u001b[0m\u001b[0;34m.\u001b[0m\u001b[0m_conv_forward\u001b[0m\u001b[0;34m(\u001b[0m\u001b[0minput\u001b[0m\u001b[0;34m,\u001b[0m \u001b[0mself\u001b[0m\u001b[0;34m.\u001b[0m\u001b[0mweight\u001b[0m\u001b[0;34m,\u001b[0m \u001b[0mself\u001b[0m\u001b[0;34m.\u001b[0m\u001b[0mbias\u001b[0m\u001b[0;34m)\u001b[0m\u001b[0;34m\u001b[0m\u001b[0;34m\u001b[0m\u001b[0m\n\u001b[0m\u001b[1;32m    400\u001b[0m \u001b[0;34m\u001b[0m\u001b[0m\n\u001b[1;32m    401\u001b[0m \u001b[0;32mclass\u001b[0m \u001b[0mConv3d\u001b[0m\u001b[0;34m(\u001b[0m\u001b[0m_ConvNd\u001b[0m\u001b[0;34m)\u001b[0m\u001b[0;34m:\u001b[0m\u001b[0;34m\u001b[0m\u001b[0;34m\u001b[0m\u001b[0m\n",
            "\u001b[0;32m/usr/local/lib/python3.7/dist-packages/torch/nn/modules/conv.py\u001b[0m in \u001b[0;36m_conv_forward\u001b[0;34m(self, input, weight, bias)\u001b[0m\n\u001b[1;32m    394\u001b[0m                             _pair(0), self.dilation, self.groups)\n\u001b[1;32m    395\u001b[0m         return F.conv2d(input, weight, bias, self.stride,\n\u001b[0;32m--> 396\u001b[0;31m                         self.padding, self.dilation, self.groups)\n\u001b[0m\u001b[1;32m    397\u001b[0m \u001b[0;34m\u001b[0m\u001b[0m\n\u001b[1;32m    398\u001b[0m     \u001b[0;32mdef\u001b[0m \u001b[0mforward\u001b[0m\u001b[0;34m(\u001b[0m\u001b[0mself\u001b[0m\u001b[0;34m,\u001b[0m \u001b[0minput\u001b[0m\u001b[0;34m:\u001b[0m \u001b[0mTensor\u001b[0m\u001b[0;34m)\u001b[0m \u001b[0;34m->\u001b[0m \u001b[0mTensor\u001b[0m\u001b[0;34m:\u001b[0m\u001b[0;34m\u001b[0m\u001b[0;34m\u001b[0m\u001b[0m\n",
            "\u001b[0;31mRuntimeError\u001b[0m: Expected 4-dimensional input for 4-dimensional weight [16, 1, 3, 3], but got 2-dimensional input of size [32, 784] instead"
          ]
        }
      ]
    },
    {
      "cell_type": "code",
      "metadata": {
        "id": "IEUZhahna2a3"
      },
      "source": [
        "batch_size = 32 \n",
        "train_ds = TensorDataset(x_train_tensor.reshape(-1,1,28,28), y_train_tensor)\n",
        "train_dl = DataLoader(\n",
        "    train_ds, batch_size=batch_size, shuffle=True)\n",
        "\n",
        "val_ds = TensorDataset(x_val_tensor.reshape(-1,1,28,28), y_val_tensor)\n",
        "val_dl = DataLoader(\n",
        "    val_ds, batch_size=batch_size, shuffle=True)\n",
        "\n",
        "\n",
        "test_ds = TensorDataset(x_test_tensor.reshape(-1,1,28,28), y_test_tensor)\n",
        "test_dl = DataLoader(test_ds, batch_size=batch_size)"
      ],
      "execution_count": 93,
      "outputs": []
    },
    {
      "cell_type": "code",
      "source": [
        "x_train_tensor.reshape(-1,1,28,28).shape"
      ],
      "metadata": {
        "id": "qznEEqPgJki0",
        "colab": {
          "base_uri": "https://localhost:8080/"
        },
        "outputId": "8ca0266d-0b3f-4095-d629-db3381eb2e3c"
      },
      "execution_count": 94,
      "outputs": [
        {
          "output_type": "execute_result",
          "data": {
            "text/plain": [
              "torch.Size([50000, 1, 28, 28])"
            ]
          },
          "metadata": {},
          "execution_count": 94
        }
      ]
    },
    {
      "cell_type": "code",
      "metadata": {
        "colab": {
          "base_uri": "https://localhost:8080/"
        },
        "id": "OaxKPTurbSzl",
        "outputId": "ea784915-6be0-45ba-8a8c-4d270c744c12"
      },
      "source": [
        "cnn = CNN()\n",
        "optimizer = optim.Adam(cnn.parameters(),lr=0.001)\n",
        "train(cnn, optimizer,torch.nn.CrossEntropyLoss(), train_dl,val_dl, epochs=5,to_print=True)"
      ],
      "execution_count": 95,
      "outputs": [
        {
          "output_type": "stream",
          "name": "stdout",
          "text": [
            "INPUT torch.Size([32, 1, 28, 28])\n",
            "CNN1 torch.Size([32, 16, 26, 26])\n",
            "MAXPOOL1 torch.Size([32, 16, 13, 13])\n",
            "CNN2 torch.Size([32, 32, 11, 11])\n",
            "after the 2nd maxpool:torch.Size([32, 32, 5, 5]) \n",
            "after the flatten:torch.Size([32, 800]) \n",
            "FINAL torch.Size([32, 10])\n"
          ]
        }
      ]
    },
    {
      "cell_type": "markdown",
      "source": [
        "How good/bad is performing this architecture? \n",
        "\n",
        "Try to write the code needed for measuring the performance over training. \n",
        "\n"
      ],
      "metadata": {
        "id": "x7SPu4-bghEz"
      }
    },
    {
      "cell_type": "code",
      "source": [
        ""
      ],
      "metadata": {
        "id": "Vt-IJsJYgfW-"
      },
      "execution_count": null,
      "outputs": []
    },
    {
      "cell_type": "markdown",
      "metadata": {
        "id": "VQzTp4cxprqU"
      },
      "source": [
        "# Recurrent Neural Networks\n",
        "\n",
        "- CNNs don't have the concept of _memory_\n",
        "- This is a crucial when we deal with data that have a temporal domain: a sequence of events: text, speech, vide, time-series data, etc. \n",
        "- The RNNs try to solve this problem with a *hidden state*\n",
        "- We can imagine a RNN as a **pipeline** of fully connected layers networks, where the succesive input being fed into the next layer in the sequence\n",
        "- Then the error is back propagated through the RNN --> _vanishing gradient_\n",
        "- A possible solution: Long Short-term Memory, a variant of RNN\n",
        " "
      ]
    },
    {
      "cell_type": "code",
      "metadata": {
        "id": "Wir7s_yOr0Tq"
      },
      "source": [
        "\n",
        "import torchtext\n",
        "from torchtext.legacy import data\n",
        "import pandas as pd"
      ],
      "execution_count": 96,
      "outputs": []
    },
    {
      "cell_type": "code",
      "source": [
        "torchtext.__version__"
      ],
      "metadata": {
        "id": "yPNwsMU0TCVv",
        "outputId": "69246a10-b849-4027-d925-820e9060e127",
        "colab": {
          "base_uri": "https://localhost:8080/",
          "height": 35
        }
      },
      "execution_count": 97,
      "outputs": [
        {
          "output_type": "execute_result",
          "data": {
            "text/plain": [
              "'0.9.0'"
            ],
            "application/vnd.google.colaboratory.intrinsic+json": {
              "type": "string"
            }
          },
          "metadata": {},
          "execution_count": 97
        }
      ]
    },
    {
      "cell_type": "code",
      "metadata": {
        "colab": {
          "base_uri": "https://localhost:8080/"
        },
        "id": "jxVUddADrEaX",
        "outputId": "0fd4391e-e82c-46ac-89cc-6e04d978bc85"
      },
      "source": [
        "from google.colab import drive\n",
        "drive.mount('/content/drive')"
      ],
      "execution_count": 98,
      "outputs": [
        {
          "output_type": "stream",
          "name": "stdout",
          "text": [
            "Drive already mounted at /content/drive; to attempt to forcibly remount, call drive.mount(\"/content/drive\", force_remount=True).\n"
          ]
        }
      ]
    },
    {
      "cell_type": "code",
      "metadata": {
        "id": "KGZK_grObtdF"
      },
      "source": [
        "tweetsDF = pd.read_csv('/content/drive/Shareddrives/MD2SL-material/data/training.1600000.processed.noemoticon.csv',encoding='latin1',engine='python',header=None)"
      ],
      "execution_count": 99,
      "outputs": []
    },
    {
      "cell_type": "code",
      "metadata": {
        "colab": {
          "base_uri": "https://localhost:8080/"
        },
        "id": "0n-taOnwrtD8",
        "outputId": "110c1da9-4dbe-43d4-d6e6-1148cba78162"
      },
      "source": [
        "tweetsDF[0].value_counts()\n"
      ],
      "execution_count": 100,
      "outputs": [
        {
          "output_type": "execute_result",
          "data": {
            "text/plain": [
              "0    800000\n",
              "4    800000\n",
              "Name: 0, dtype: int64"
            ]
          },
          "metadata": {},
          "execution_count": 100
        }
      ]
    },
    {
      "cell_type": "code",
      "metadata": {
        "colab": {
          "base_uri": "https://localhost:8080/"
        },
        "id": "cbUPY9tna9xp",
        "outputId": "487747cc-06ed-4415-a849-e5c034795372"
      },
      "source": [
        "\n",
        "tweetsDF.columns"
      ],
      "execution_count": 101,
      "outputs": [
        {
          "output_type": "execute_result",
          "data": {
            "text/plain": [
              "Int64Index([0, 1, 2, 3, 4, 5], dtype='int64')"
            ]
          },
          "metadata": {},
          "execution_count": 101
        }
      ]
    },
    {
      "cell_type": "code",
      "metadata": {
        "colab": {
          "base_uri": "https://localhost:8080/"
        },
        "id": "oScBFd91aq8V",
        "outputId": "c6ccf3ed-f93b-43d5-e86a-9a39ce77e6e3"
      },
      "source": [
        "tweetsDF[\"sentiment_cat\"] = tweetsDF[0].astype('category')\n",
        "tweetsDF[\"sentiment_cat\"].cat.codes"
      ],
      "execution_count": 102,
      "outputs": [
        {
          "output_type": "execute_result",
          "data": {
            "text/plain": [
              "0          0\n",
              "1          0\n",
              "2          0\n",
              "3          0\n",
              "4          0\n",
              "          ..\n",
              "1599995    1\n",
              "1599996    1\n",
              "1599997    1\n",
              "1599998    1\n",
              "1599999    1\n",
              "Length: 1600000, dtype: int8"
            ]
          },
          "metadata": {},
          "execution_count": 102
        }
      ]
    },
    {
      "cell_type": "code",
      "metadata": {
        "id": "9QwecpXzsIh5"
      },
      "source": [
        "tweetsDF[\"sentiment\"] = tweetsDF[\"sentiment_cat\"].cat.codes\n",
        "tweetsDF.to_csv(\"train-processed.csv\", header=None, index=None)      \n",
        "tweetsDF.sample(10000).to_csv(\"train-processed-sample.csv\", header=None, index=None) \n"
      ],
      "execution_count": 103,
      "outputs": []
    },
    {
      "cell_type": "code",
      "source": [
        "tweetsDF.head()"
      ],
      "metadata": {
        "id": "bSKCRUaVhIsT",
        "outputId": "5b986f2c-2f68-442e-fffb-75edb7201a60",
        "colab": {
          "base_uri": "https://localhost:8080/",
          "height": 206
        }
      },
      "execution_count": 105,
      "outputs": [
        {
          "output_type": "execute_result",
          "data": {
            "text/plain": [
              "   0           1                             2         3                4  \\\n",
              "0  0  1467810369  Mon Apr 06 22:19:45 PDT 2009  NO_QUERY  _TheSpecialOne_   \n",
              "1  0  1467810672  Mon Apr 06 22:19:49 PDT 2009  NO_QUERY    scotthamilton   \n",
              "2  0  1467810917  Mon Apr 06 22:19:53 PDT 2009  NO_QUERY         mattycus   \n",
              "3  0  1467811184  Mon Apr 06 22:19:57 PDT 2009  NO_QUERY          ElleCTF   \n",
              "4  0  1467811193  Mon Apr 06 22:19:57 PDT 2009  NO_QUERY           Karoli   \n",
              "\n",
              "                                                   5 sentiment_cat  sentiment  \n",
              "0  @switchfoot http://twitpic.com/2y1zl - Awww, t...             0          0  \n",
              "1  is upset that he can't update his Facebook by ...             0          0  \n",
              "2  @Kenichan I dived many times for the ball. Man...             0          0  \n",
              "3    my whole body feels itchy and like its on fire              0          0  \n",
              "4  @nationwideclass no, it's not behaving at all....             0          0  "
            ],
            "text/html": [
              "\n",
              "  <div id=\"df-76a0725f-7655-4556-aef1-160cb3dfa43c\">\n",
              "    <div class=\"colab-df-container\">\n",
              "      <div>\n",
              "<style scoped>\n",
              "    .dataframe tbody tr th:only-of-type {\n",
              "        vertical-align: middle;\n",
              "    }\n",
              "\n",
              "    .dataframe tbody tr th {\n",
              "        vertical-align: top;\n",
              "    }\n",
              "\n",
              "    .dataframe thead th {\n",
              "        text-align: right;\n",
              "    }\n",
              "</style>\n",
              "<table border=\"1\" class=\"dataframe\">\n",
              "  <thead>\n",
              "    <tr style=\"text-align: right;\">\n",
              "      <th></th>\n",
              "      <th>0</th>\n",
              "      <th>1</th>\n",
              "      <th>2</th>\n",
              "      <th>3</th>\n",
              "      <th>4</th>\n",
              "      <th>5</th>\n",
              "      <th>sentiment_cat</th>\n",
              "      <th>sentiment</th>\n",
              "    </tr>\n",
              "  </thead>\n",
              "  <tbody>\n",
              "    <tr>\n",
              "      <th>0</th>\n",
              "      <td>0</td>\n",
              "      <td>1467810369</td>\n",
              "      <td>Mon Apr 06 22:19:45 PDT 2009</td>\n",
              "      <td>NO_QUERY</td>\n",
              "      <td>_TheSpecialOne_</td>\n",
              "      <td>@switchfoot http://twitpic.com/2y1zl - Awww, t...</td>\n",
              "      <td>0</td>\n",
              "      <td>0</td>\n",
              "    </tr>\n",
              "    <tr>\n",
              "      <th>1</th>\n",
              "      <td>0</td>\n",
              "      <td>1467810672</td>\n",
              "      <td>Mon Apr 06 22:19:49 PDT 2009</td>\n",
              "      <td>NO_QUERY</td>\n",
              "      <td>scotthamilton</td>\n",
              "      <td>is upset that he can't update his Facebook by ...</td>\n",
              "      <td>0</td>\n",
              "      <td>0</td>\n",
              "    </tr>\n",
              "    <tr>\n",
              "      <th>2</th>\n",
              "      <td>0</td>\n",
              "      <td>1467810917</td>\n",
              "      <td>Mon Apr 06 22:19:53 PDT 2009</td>\n",
              "      <td>NO_QUERY</td>\n",
              "      <td>mattycus</td>\n",
              "      <td>@Kenichan I dived many times for the ball. Man...</td>\n",
              "      <td>0</td>\n",
              "      <td>0</td>\n",
              "    </tr>\n",
              "    <tr>\n",
              "      <th>3</th>\n",
              "      <td>0</td>\n",
              "      <td>1467811184</td>\n",
              "      <td>Mon Apr 06 22:19:57 PDT 2009</td>\n",
              "      <td>NO_QUERY</td>\n",
              "      <td>ElleCTF</td>\n",
              "      <td>my whole body feels itchy and like its on fire</td>\n",
              "      <td>0</td>\n",
              "      <td>0</td>\n",
              "    </tr>\n",
              "    <tr>\n",
              "      <th>4</th>\n",
              "      <td>0</td>\n",
              "      <td>1467811193</td>\n",
              "      <td>Mon Apr 06 22:19:57 PDT 2009</td>\n",
              "      <td>NO_QUERY</td>\n",
              "      <td>Karoli</td>\n",
              "      <td>@nationwideclass no, it's not behaving at all....</td>\n",
              "      <td>0</td>\n",
              "      <td>0</td>\n",
              "    </tr>\n",
              "  </tbody>\n",
              "</table>\n",
              "</div>\n",
              "      <button class=\"colab-df-convert\" onclick=\"convertToInteractive('df-76a0725f-7655-4556-aef1-160cb3dfa43c')\"\n",
              "              title=\"Convert this dataframe to an interactive table.\"\n",
              "              style=\"display:none;\">\n",
              "        \n",
              "  <svg xmlns=\"http://www.w3.org/2000/svg\" height=\"24px\"viewBox=\"0 0 24 24\"\n",
              "       width=\"24px\">\n",
              "    <path d=\"M0 0h24v24H0V0z\" fill=\"none\"/>\n",
              "    <path d=\"M18.56 5.44l.94 2.06.94-2.06 2.06-.94-2.06-.94-.94-2.06-.94 2.06-2.06.94zm-11 1L8.5 8.5l.94-2.06 2.06-.94-2.06-.94L8.5 2.5l-.94 2.06-2.06.94zm10 10l.94 2.06.94-2.06 2.06-.94-2.06-.94-.94-2.06-.94 2.06-2.06.94z\"/><path d=\"M17.41 7.96l-1.37-1.37c-.4-.4-.92-.59-1.43-.59-.52 0-1.04.2-1.43.59L10.3 9.45l-7.72 7.72c-.78.78-.78 2.05 0 2.83L4 21.41c.39.39.9.59 1.41.59.51 0 1.02-.2 1.41-.59l7.78-7.78 2.81-2.81c.8-.78.8-2.07 0-2.86zM5.41 20L4 18.59l7.72-7.72 1.47 1.35L5.41 20z\"/>\n",
              "  </svg>\n",
              "      </button>\n",
              "      \n",
              "  <style>\n",
              "    .colab-df-container {\n",
              "      display:flex;\n",
              "      flex-wrap:wrap;\n",
              "      gap: 12px;\n",
              "    }\n",
              "\n",
              "    .colab-df-convert {\n",
              "      background-color: #E8F0FE;\n",
              "      border: none;\n",
              "      border-radius: 50%;\n",
              "      cursor: pointer;\n",
              "      display: none;\n",
              "      fill: #1967D2;\n",
              "      height: 32px;\n",
              "      padding: 0 0 0 0;\n",
              "      width: 32px;\n",
              "    }\n",
              "\n",
              "    .colab-df-convert:hover {\n",
              "      background-color: #E2EBFA;\n",
              "      box-shadow: 0px 1px 2px rgba(60, 64, 67, 0.3), 0px 1px 3px 1px rgba(60, 64, 67, 0.15);\n",
              "      fill: #174EA6;\n",
              "    }\n",
              "\n",
              "    [theme=dark] .colab-df-convert {\n",
              "      background-color: #3B4455;\n",
              "      fill: #D2E3FC;\n",
              "    }\n",
              "\n",
              "    [theme=dark] .colab-df-convert:hover {\n",
              "      background-color: #434B5C;\n",
              "      box-shadow: 0px 1px 3px 1px rgba(0, 0, 0, 0.15);\n",
              "      filter: drop-shadow(0px 1px 2px rgba(0, 0, 0, 0.3));\n",
              "      fill: #FFFFFF;\n",
              "    }\n",
              "  </style>\n",
              "\n",
              "      <script>\n",
              "        const buttonEl =\n",
              "          document.querySelector('#df-76a0725f-7655-4556-aef1-160cb3dfa43c button.colab-df-convert');\n",
              "        buttonEl.style.display =\n",
              "          google.colab.kernel.accessAllowed ? 'block' : 'none';\n",
              "\n",
              "        async function convertToInteractive(key) {\n",
              "          const element = document.querySelector('#df-76a0725f-7655-4556-aef1-160cb3dfa43c');\n",
              "          const dataTable =\n",
              "            await google.colab.kernel.invokeFunction('convertToInteractive',\n",
              "                                                     [key], {});\n",
              "          if (!dataTable) return;\n",
              "\n",
              "          const docLinkHtml = 'Like what you see? Visit the ' +\n",
              "            '<a target=\"_blank\" href=https://colab.research.google.com/notebooks/data_table.ipynb>data table notebook</a>'\n",
              "            + ' to learn more about interactive tables.';\n",
              "          element.innerHTML = '';\n",
              "          dataTable['output_type'] = 'display_data';\n",
              "          await google.colab.output.renderOutput(dataTable, element);\n",
              "          const docLink = document.createElement('div');\n",
              "          docLink.innerHTML = docLinkHtml;\n",
              "          element.appendChild(docLink);\n",
              "        }\n",
              "      </script>\n",
              "    </div>\n",
              "  </div>\n",
              "  "
            ]
          },
          "metadata": {},
          "execution_count": 105
        }
      ]
    },
    {
      "cell_type": "markdown",
      "metadata": {
        "id": "bIq8HlVIbcHv"
      },
      "source": [
        "```torchtext``` takes a straigthforward approach to generating datasets, but you need to define the _fields_. \n",
        "The class ```Fields``` is what we need to use, it could take several parameters, give a look to the documentation:\n",
        "[Class Field documentation](https://pytorch.org/text/_modules/torchtext/data/field.html)"
      ]
    },
    {
      "cell_type": "code",
      "metadata": {
        "id": "OqiDXBaqsNz5"
      },
      "source": [
        "LABEL = data.LabelField() #a subclass of Field that sets sequential to False\n",
        "TWEET = data.Field('spacy', tokenizer_language='en_core_web_sm', lower=True)\n",
        "\n",
        "fields = [('score',None), ('id',None), ('date',None), ('query',None),\n",
        "          ('name',None), ('tweet', TWEET), ('category',None), ('label',LABEL)]"
      ],
      "execution_count": 104,
      "outputs": []
    },
    {
      "cell_type": "markdown",
      "metadata": {
        "id": "ThuCr2UEcwp6"
      },
      "source": [
        "This is then passed to the TabularDataset with all the fields we need "
      ]
    },
    {
      "cell_type": "code",
      "metadata": {
        "id": "aeINR6yssR94"
      },
      "source": [
        "twitterDataset = data.dataset.TabularDataset(\n",
        "        path=\"train-processed-sample.csv\", \n",
        "        format=\"CSV\", \n",
        "        fields=fields,\n",
        "        skip_header=False)"
      ],
      "execution_count": 107,
      "outputs": []
    },
    {
      "cell_type": "code",
      "metadata": {
        "colab": {
          "base_uri": "https://localhost:8080/"
        },
        "id": "NnM-PDhrsUpF",
        "outputId": "ef03959a-54ff-4fe8-c764-a70f925537f7"
      },
      "source": [
        "\n",
        "(train, test, valid) = twitterDataset.split(split_ratio=[0.8,0.1,0.1],\n",
        "                                            stratified=True, strata_field='label')\n",
        "\n",
        "(len(train),len(test),len(valid))"
      ],
      "execution_count": 108,
      "outputs": [
        {
          "output_type": "execute_result",
          "data": {
            "text/plain": [
              "(8000, 1000, 1000)"
            ]
          },
          "metadata": {},
          "execution_count": 108
        }
      ]
    },
    {
      "cell_type": "code",
      "metadata": {
        "colab": {
          "base_uri": "https://localhost:8080/"
        },
        "id": "dnkf_VUUsWtm",
        "outputId": "c8835f66-55d0-465d-ed42-39fe640d81aa"
      },
      "source": [
        "\n",
        "vocab_size = 20000\n",
        "# torchtext is building for us the one_hot_encoding for the words\n",
        "TWEET.build_vocab(train, max_size = vocab_size)\n",
        "LABEL.build_vocab(train)\n",
        "TWEET.vocab.freqs.most_common(10)"
      ],
      "execution_count": 109,
      "outputs": [
        {
          "output_type": "execute_result",
          "data": {
            "text/plain": [
              "[('i', 3698),\n",
              " ('to', 2832),\n",
              " ('the', 2589),\n",
              " ('a', 1894),\n",
              " ('my', 1550),\n",
              " ('and', 1518),\n",
              " ('you', 1180),\n",
              " ('is', 1149),\n",
              " ('for', 1114),\n",
              " ('in', 1021)]"
            ]
          },
          "metadata": {},
          "execution_count": 109
        }
      ]
    },
    {
      "cell_type": "code",
      "metadata": {
        "colab": {
          "base_uri": "https://localhost:8080/"
        },
        "id": "zv5SS7gtduTn",
        "outputId": "c21f6820-68d8-42de-b440-7b7b7a1f282c"
      },
      "source": [
        "print('How big is our vocabolary? {}'.format(len(TWEET.vocab)))\n",
        "\n",
        "#1 for unk\n",
        "#2 for padding, a padding token that will be used to pad all our to roughly the same sie"
      ],
      "execution_count": 110,
      "outputs": [
        {
          "output_type": "stream",
          "name": "stdout",
          "text": [
            "How big is our vocabolary? 20002\n"
          ]
        }
      ]
    },
    {
      "cell_type": "code",
      "metadata": {
        "id": "gIfXfFt5sZQo"
      },
      "source": [
        "'''\n",
        "torchtext provides the BucketIterator method that will produce what it calls a \n",
        "batch. Similar to the data loader we used before\n",
        "'''\n",
        "\n",
        "\n",
        "train_iterator, valid_iterator, test_iterator = data.BucketIterator.splits(\n",
        "    (train, valid, test),\n",
        "    batch_size = 32,\n",
        "    device = device,\n",
        "    sort_key = lambda x: len(x.tweet),\n",
        "    sort_within_batch = False)"
      ],
      "execution_count": 111,
      "outputs": []
    },
    {
      "cell_type": "code",
      "metadata": {
        "id": "8l0YiXo5saWo"
      },
      "source": [
        "class OurFirstLSTM(nn.Module):\n",
        "    def __init__(self, hidden_size, embedding_dim, vocab_size):\n",
        "        super(OurFirstLSTM, self).__init__()\n",
        "    \n",
        "        self.embedding = nn.Embedding(vocab_size, embedding_dim)\n",
        "        self.encoder = nn.LSTM(input_size=embedding_dim,  \n",
        "                hidden_size=hidden_size, num_layers=1)\n",
        "        self.predictor = nn.Linear(hidden_size, 2)\n",
        "\n",
        "    def forward(self, seq):\n",
        "        output, (hidden,_) = self.encoder(self.embedding(seq))\n",
        "        preds = self.predictor(hidden.squeeze(0))\n",
        "        return preds\n",
        "\n"
      ],
      "execution_count": 112,
      "outputs": []
    },
    {
      "cell_type": "markdown",
      "metadata": {
        "id": "pOk5-uMZeuDh"
      },
      "source": [
        "3 layers: \n",
        "- the words of our tweet are pushed in ```Embeddings``` layer, with 300-dimensional vector\n",
        "- then fed into a LSTM with 100 hidden features\n",
        "- standard fully connected layer with 3 outputs corresponding to our three possible classes "
      ]
    },
    {
      "cell_type": "code",
      "metadata": {
        "id": "JpERp77res7f"
      },
      "source": [
        ""
      ],
      "execution_count": 112,
      "outputs": []
    },
    {
      "cell_type": "code",
      "metadata": {
        "id": "nBM6gdk-shyo"
      },
      "source": [
        "def train(epochs, model, optimizer, criterion, train_iterator, valid_iterator):\n",
        "    for epoch in range(1, epochs+1):\n",
        "     \n",
        "        training_loss = 0.0\n",
        "        valid_loss = 0.0\n",
        "        model.train()\n",
        "        for batch_idx, batch in enumerate(train_iterator):\n",
        "            optimizer.zero_grad()\n",
        "            predict = model(batch.tweet) ##we need to specify which field\n",
        "            loss = criterion(predict,batch.label)\n",
        "            loss.backward()\n",
        "            optimizer.step()\n",
        "            training_loss += loss.data.item() * batch.tweet.size(0)\n",
        "        training_loss /= len(train_iterator)\n",
        " \n",
        "        with torch.no_grad():\n",
        "          model.eval()\n",
        "          for batch_idx,batch in enumerate(valid_iterator):\n",
        "              predict = model(batch.tweet)\n",
        "              loss = criterion(predict,batch.label)\n",
        "              valid_loss += loss.data.item() * batch.tweet.size(0)\n",
        "          valid_loss /= len(valid_iterator)\n",
        "          print('Epoch: {}, Training Loss: {:.2f}, Validation Loss: {:.2f}'.format(epoch, training_loss, valid_loss))"
      ],
      "execution_count": 113,
      "outputs": []
    },
    {
      "cell_type": "code",
      "metadata": {
        "id": "DlAM4mnNsoKn",
        "colab": {
          "base_uri": "https://localhost:8080/"
        },
        "outputId": "8191c679-ebd7-451c-9c11-fa7318dfb2e2"
      },
      "source": [
        "model = OurFirstLSTM(100,300, 20002)\n",
        "model.to(device)\n",
        "optimizer = optim.Adam(model.parameters(), lr=0.01)\n",
        "criterion = nn.CrossEntropyLoss()\n",
        "\n",
        "train(5, model, optimizer, criterion, train_iterator, valid_iterator)        "
      ],
      "execution_count": 114,
      "outputs": [
        {
          "output_type": "stream",
          "name": "stdout",
          "text": [
            "Epoch: 1, Training Loss: 19.12, Validation Loss: 10.21\n",
            "Epoch: 2, Training Loss: 18.87, Validation Loss: 11.25\n",
            "Epoch: 3, Training Loss: 18.40, Validation Loss: 10.73\n",
            "Epoch: 4, Training Loss: 16.30, Validation Loss: 12.35\n",
            "Epoch: 5, Training Loss: 14.80, Validation Loss: 11.41\n"
          ]
        }
      ]
    },
    {
      "cell_type": "code",
      "metadata": {
        "id": "kZwwnueMslDn"
      },
      "source": [
        "'''\n",
        "torchtext doesn't help when we want to predict\n",
        "We need to emulate the preprocessing pipeline, and make the prediction on the\n",
        "output of that pipeline\n",
        "'''\n",
        "\n",
        "def classify_tweet(tweet,device='cpu'):\n",
        "    '''\n",
        "    preprocess performs the tokenization,\n",
        "    then we call process on the resulting \n",
        "    tokens to obtain a tensor based on our already built vocabulary\n",
        "    '''\n",
        "    model.to(device)\n",
        "    categories = {0: \"Negative\", 1:\"Positive\"}\n",
        "    processed = TWEET.process([TWEET.preprocess(tweet)])\n",
        "    processed = processed.float().to(device)\n",
        "    print(processed)\n",
        "    model.eval()\n",
        "    return categories[model(processed).argmax().item()]"
      ],
      "execution_count": 115,
      "outputs": []
    },
    {
      "cell_type": "code",
      "metadata": {
        "id": "U-DpNt0JoBJd"
      },
      "source": [
        "device = 'cpu'"
      ],
      "execution_count": null,
      "outputs": []
    },
    {
      "cell_type": "code",
      "metadata": {
        "id": "8KIh5sSinh2X"
      },
      "source": [
        "model.to(device)\n",
        "with torch.no_grad():\n",
        "  model.eval()\n",
        "  for batch in test_iterator:\n",
        "    outputs = model(batch.tweet.to(device))"
      ],
      "execution_count": 116,
      "outputs": []
    },
    {
      "cell_type": "code",
      "metadata": {
        "id": "y8Wwd4pms63p"
      },
      "source": [
        "def classify_tweet(tweet):\n",
        "    categories = {0: \"Negative\", 1:\"Positive\"}\n",
        "    processed = TWEET.process([TWEET.preprocess(tweet)])\n",
        "    processed = processed.to(device)\n",
        "    model.eval()\n",
        "    return categories[model(processed).argmax().item()]"
      ],
      "execution_count": 117,
      "outputs": []
    },
    {
      "cell_type": "code",
      "metadata": {
        "id": "BoCXNpdfpZ4W",
        "colab": {
          "base_uri": "https://localhost:8080/"
        },
        "outputId": "661e2d4d-6d73-4f57-a6a4-e967dd44ffb4"
      },
      "source": [
        "test[0].tweet"
      ],
      "execution_count": 118,
      "outputs": [
        {
          "output_type": "execute_result",
          "data": {
            "text/plain": [
              "['.',\n",
              " '@spinelli666:',\n",
              " 'i',\n",
              " \"don't\",\n",
              " 'disagree',\n",
              " 'completely',\n",
              " 'though,',\n",
              " 'oxygen',\n",
              " 'of',\n",
              " 'publicity',\n",
              " 'etc.//yes,',\n",
              " \"that's\",\n",
              " 'what',\n",
              " \"i'm\",\n",
              " 'thinking.suffocate',\n",
              " 'him...figuratively']"
            ]
          },
          "metadata": {},
          "execution_count": 118
        }
      ]
    },
    {
      "cell_type": "code",
      "metadata": {
        "id": "YLj5peK6pMJc",
        "colab": {
          "base_uri": "https://localhost:8080/"
        },
        "outputId": "b2fa0fd2-eb63-4368-8c56-7b22aa75f0f0"
      },
      "source": [
        "for i in range(0,10):\n",
        "  sentiment = classify_tweet(test[i].tweet)\n",
        "  print(test[i].tweet,test[i].label,sentiment,)"
      ],
      "execution_count": 119,
      "outputs": [
        {
          "output_type": "stream",
          "name": "stdout",
          "text": [
            "['.', '@spinelli666:', 'i', \"don't\", 'disagree', 'completely', 'though,', 'oxygen', 'of', 'publicity', 'etc.//yes,', \"that's\", 'what', \"i'm\", 'thinking.suffocate', 'him...figuratively'] 1 Positive\n",
            "['happy', 'birthday', 'andy!'] 1 Positive\n",
            "['woo', 'today', 'was', 'fun'] 1 Negative\n",
            "['@charlieskies', 'wolverine', 'would', 'so', 'win', 'edward', 'cullen'] 1 Positive\n",
            "['@maxorelus', 'in', 'the', 'uk', 'babe', 'sunday', 'is', 'nearly', 'over', 'monday', 'coming', 'sooooooooon'] 1 Negative\n",
            "['working', 'on', 'canada', 'shoots', 'information.', 'coming', 'your', 'way', 'soon', 'if', 'you', 'have', 'expressed', 'interest', 'and', 'i', 'have', 'your', 'email', 'address', '.', 'eh!!!'] 1 Negative\n",
            "['@iswimforoceans', 'im', 'down', 'i', 'dont', 'work', 'that', 'much', 'this', 'week', 'so', 'u2', 'all', 'the', 'way', 'baby.'] 1 Negative\n",
            "['@ellljayy', \"that's\", 'nice!', \"i'm\", 'in', 'my', 'garden,', 'i', 'can', 'barely', 'see', 'the', 'screen', 'lol.', \"it's\", 'a', 'lovely', 'day', 'what', 'you', 'getting', 'done', 'to', 'your', 'hair?'] 1 Positive\n",
            "['@bvictor', 'i', 'always', 'leave', 'them', 'there', 'because', 'its', 'increasing', 'my', 'followers', 'and', 'they', 'dont', 'bother', 'me', 'lol'] 1 Positive\n",
            "['@gabboucla', 'thanks!'] 1 Positive\n"
          ]
        }
      ]
    },
    {
      "cell_type": "markdown",
      "metadata": {
        "id": "KGjCkJDFqUmk"
      },
      "source": [
        "### Time-series \n",
        "Let's try with LSTM applied to timeseries"
      ]
    },
    {
      "cell_type": "code",
      "metadata": {
        "colab": {
          "base_uri": "https://localhost:8080/",
          "height": 206
        },
        "id": "dACYu0tApnSA",
        "outputId": "831d9318-7591-49fc-fcd5-b81fea5ceea2"
      },
      "source": [
        "flight_data = sns.load_dataset(\"flights\")\n",
        "flight_data.head()"
      ],
      "execution_count": 120,
      "outputs": [
        {
          "output_type": "execute_result",
          "data": {
            "text/plain": [
              "   year month  passengers\n",
              "0  1949   Jan         112\n",
              "1  1949   Feb         118\n",
              "2  1949   Mar         132\n",
              "3  1949   Apr         129\n",
              "4  1949   May         121"
            ],
            "text/html": [
              "\n",
              "  <div id=\"df-e05a8b88-21e8-410a-b288-bdf2b4da6d01\">\n",
              "    <div class=\"colab-df-container\">\n",
              "      <div>\n",
              "<style scoped>\n",
              "    .dataframe tbody tr th:only-of-type {\n",
              "        vertical-align: middle;\n",
              "    }\n",
              "\n",
              "    .dataframe tbody tr th {\n",
              "        vertical-align: top;\n",
              "    }\n",
              "\n",
              "    .dataframe thead th {\n",
              "        text-align: right;\n",
              "    }\n",
              "</style>\n",
              "<table border=\"1\" class=\"dataframe\">\n",
              "  <thead>\n",
              "    <tr style=\"text-align: right;\">\n",
              "      <th></th>\n",
              "      <th>year</th>\n",
              "      <th>month</th>\n",
              "      <th>passengers</th>\n",
              "    </tr>\n",
              "  </thead>\n",
              "  <tbody>\n",
              "    <tr>\n",
              "      <th>0</th>\n",
              "      <td>1949</td>\n",
              "      <td>Jan</td>\n",
              "      <td>112</td>\n",
              "    </tr>\n",
              "    <tr>\n",
              "      <th>1</th>\n",
              "      <td>1949</td>\n",
              "      <td>Feb</td>\n",
              "      <td>118</td>\n",
              "    </tr>\n",
              "    <tr>\n",
              "      <th>2</th>\n",
              "      <td>1949</td>\n",
              "      <td>Mar</td>\n",
              "      <td>132</td>\n",
              "    </tr>\n",
              "    <tr>\n",
              "      <th>3</th>\n",
              "      <td>1949</td>\n",
              "      <td>Apr</td>\n",
              "      <td>129</td>\n",
              "    </tr>\n",
              "    <tr>\n",
              "      <th>4</th>\n",
              "      <td>1949</td>\n",
              "      <td>May</td>\n",
              "      <td>121</td>\n",
              "    </tr>\n",
              "  </tbody>\n",
              "</table>\n",
              "</div>\n",
              "      <button class=\"colab-df-convert\" onclick=\"convertToInteractive('df-e05a8b88-21e8-410a-b288-bdf2b4da6d01')\"\n",
              "              title=\"Convert this dataframe to an interactive table.\"\n",
              "              style=\"display:none;\">\n",
              "        \n",
              "  <svg xmlns=\"http://www.w3.org/2000/svg\" height=\"24px\"viewBox=\"0 0 24 24\"\n",
              "       width=\"24px\">\n",
              "    <path d=\"M0 0h24v24H0V0z\" fill=\"none\"/>\n",
              "    <path d=\"M18.56 5.44l.94 2.06.94-2.06 2.06-.94-2.06-.94-.94-2.06-.94 2.06-2.06.94zm-11 1L8.5 8.5l.94-2.06 2.06-.94-2.06-.94L8.5 2.5l-.94 2.06-2.06.94zm10 10l.94 2.06.94-2.06 2.06-.94-2.06-.94-.94-2.06-.94 2.06-2.06.94z\"/><path d=\"M17.41 7.96l-1.37-1.37c-.4-.4-.92-.59-1.43-.59-.52 0-1.04.2-1.43.59L10.3 9.45l-7.72 7.72c-.78.78-.78 2.05 0 2.83L4 21.41c.39.39.9.59 1.41.59.51 0 1.02-.2 1.41-.59l7.78-7.78 2.81-2.81c.8-.78.8-2.07 0-2.86zM5.41 20L4 18.59l7.72-7.72 1.47 1.35L5.41 20z\"/>\n",
              "  </svg>\n",
              "      </button>\n",
              "      \n",
              "  <style>\n",
              "    .colab-df-container {\n",
              "      display:flex;\n",
              "      flex-wrap:wrap;\n",
              "      gap: 12px;\n",
              "    }\n",
              "\n",
              "    .colab-df-convert {\n",
              "      background-color: #E8F0FE;\n",
              "      border: none;\n",
              "      border-radius: 50%;\n",
              "      cursor: pointer;\n",
              "      display: none;\n",
              "      fill: #1967D2;\n",
              "      height: 32px;\n",
              "      padding: 0 0 0 0;\n",
              "      width: 32px;\n",
              "    }\n",
              "\n",
              "    .colab-df-convert:hover {\n",
              "      background-color: #E2EBFA;\n",
              "      box-shadow: 0px 1px 2px rgba(60, 64, 67, 0.3), 0px 1px 3px 1px rgba(60, 64, 67, 0.15);\n",
              "      fill: #174EA6;\n",
              "    }\n",
              "\n",
              "    [theme=dark] .colab-df-convert {\n",
              "      background-color: #3B4455;\n",
              "      fill: #D2E3FC;\n",
              "    }\n",
              "\n",
              "    [theme=dark] .colab-df-convert:hover {\n",
              "      background-color: #434B5C;\n",
              "      box-shadow: 0px 1px 3px 1px rgba(0, 0, 0, 0.15);\n",
              "      filter: drop-shadow(0px 1px 2px rgba(0, 0, 0, 0.3));\n",
              "      fill: #FFFFFF;\n",
              "    }\n",
              "  </style>\n",
              "\n",
              "      <script>\n",
              "        const buttonEl =\n",
              "          document.querySelector('#df-e05a8b88-21e8-410a-b288-bdf2b4da6d01 button.colab-df-convert');\n",
              "        buttonEl.style.display =\n",
              "          google.colab.kernel.accessAllowed ? 'block' : 'none';\n",
              "\n",
              "        async function convertToInteractive(key) {\n",
              "          const element = document.querySelector('#df-e05a8b88-21e8-410a-b288-bdf2b4da6d01');\n",
              "          const dataTable =\n",
              "            await google.colab.kernel.invokeFunction('convertToInteractive',\n",
              "                                                     [key], {});\n",
              "          if (!dataTable) return;\n",
              "\n",
              "          const docLinkHtml = 'Like what you see? Visit the ' +\n",
              "            '<a target=\"_blank\" href=https://colab.research.google.com/notebooks/data_table.ipynb>data table notebook</a>'\n",
              "            + ' to learn more about interactive tables.';\n",
              "          element.innerHTML = '';\n",
              "          dataTable['output_type'] = 'display_data';\n",
              "          await google.colab.output.renderOutput(dataTable, element);\n",
              "          const docLink = document.createElement('div');\n",
              "          docLink.innerHTML = docLinkHtml;\n",
              "          element.appendChild(docLink);\n",
              "        }\n",
              "      </script>\n",
              "    </div>\n",
              "  </div>\n",
              "  "
            ]
          },
          "metadata": {},
          "execution_count": 120
        }
      ]
    },
    {
      "cell_type": "code",
      "metadata": {
        "colab": {
          "base_uri": "https://localhost:8080/",
          "height": 319
        },
        "id": "TLLoXqqXqd6I",
        "outputId": "ec7a917f-e2d1-4fa3-de54-cda23489290e"
      },
      "source": [
        "plt.title('Month vs Passenger')\n",
        "plt.ylabel('Total Passengers')\n",
        "plt.xlabel('Months')\n",
        "plt.grid(True)\n",
        "plt.autoscale(axis='x',tight=True)\n",
        "plt.plot(flight_data['passengers'])"
      ],
      "execution_count": 121,
      "outputs": [
        {
          "output_type": "execute_result",
          "data": {
            "text/plain": [
              "[<matplotlib.lines.Line2D at 0x7f62a166ef50>]"
            ]
          },
          "metadata": {},
          "execution_count": 121
        },
        {
          "output_type": "display_data",
          "data": {
            "text/plain": [
              "<Figure size 432x288 with 1 Axes>"
            ],
            "image/png": "[encoded data removed]"
          },
          "metadata": {
            "needs_background": "light"
          }
        }
      ]
    },
    {
      "cell_type": "code",
      "metadata": {
        "id": "yKN_l40oqkXj"
      },
      "source": [
        "all_data = flight_data['passengers'].values.astype(float)\n",
        "\n",
        "test_data_size = 12\n",
        "\n",
        "train_data = all_data[:-test_data_size]\n",
        "test_data = all_data[-test_data_size:]"
      ],
      "execution_count": 122,
      "outputs": []
    },
    {
      "cell_type": "code",
      "metadata": {
        "colab": {
          "base_uri": "https://localhost:8080/"
        },
        "id": "OtK8_23aq5Kj",
        "outputId": "e7c24cd1-3964-4804-b50a-0f53e2ff1185"
      },
      "source": [
        "print(len(train_data))\n",
        "print(len(test_data))"
      ],
      "execution_count": 123,
      "outputs": [
        {
          "output_type": "stream",
          "name": "stdout",
          "text": [
            "132\n",
            "12\n"
          ]
        }
      ]
    },
    {
      "cell_type": "code",
      "metadata": {
        "id": "_UAxF8X7q5sJ"
      },
      "source": [
        "from sklearn.preprocessing import MinMaxScaler\n",
        "\n",
        "scaler = MinMaxScaler(feature_range=(-1, 1))\n",
        "train_data_normalized = scaler.fit_transform(train_data .reshape(-1, 1))"
      ],
      "execution_count": 124,
      "outputs": []
    },
    {
      "cell_type": "code",
      "metadata": {
        "id": "dMzF1Pgvq-VE"
      },
      "source": [
        "train_data_normalized = torch.FloatTensor(train_data_normalized).view(-1)\n"
      ],
      "execution_count": 125,
      "outputs": []
    },
    {
      "cell_type": "code",
      "metadata": {
        "id": "LFf9tpBHrhXh"
      },
      "source": [
        "train_window = 12"
      ],
      "execution_count": 126,
      "outputs": []
    },
    {
      "cell_type": "code",
      "metadata": {
        "id": "VeZ1Iy3FrvJV"
      },
      "source": [
        "'''\n",
        "The function will accept the raw input data and will return a list of tuples. \n",
        "In each tuple, the first element will contain list of 12 items corresponding \n",
        "to the number of passengers traveling in 12 months, the second tuple element \n",
        "will contain one item i.e. the number of passengers in the 12+1st month\n",
        "'''\n",
        "\n",
        "def create_inout_sequences(input_data, tw):\n",
        "    inout_seq = []\n",
        "    L = len(input_data)\n",
        "    for i in range(L-tw):\n",
        "        train_seq = input_data[i:i+tw]\n",
        "        train_label = input_data[i+tw:i+tw+1]\n",
        "        inout_seq.append((train_seq ,train_label))\n",
        "    return inout_seq"
      ],
      "execution_count": 127,
      "outputs": []
    },
    {
      "cell_type": "code",
      "metadata": {
        "id": "dKIe2mhPr4MV"
      },
      "source": [
        "train_inout_seq = create_inout_sequences(train_data_normalized, train_window)\n"
      ],
      "execution_count": 128,
      "outputs": []
    },
    {
      "cell_type": "code",
      "metadata": {
        "colab": {
          "base_uri": "https://localhost:8080/"
        },
        "id": "W4JRJ5N_r4tS",
        "outputId": "08b13048-55bc-466a-fbd9-523ce7984847"
      },
      "source": [
        "print(train_inout_seq[0][0])\n",
        "print(train_inout_seq[0][1])"
      ],
      "execution_count": 129,
      "outputs": [
        {
          "output_type": "stream",
          "name": "stdout",
          "text": [
            "tensor([-0.9648, -0.9385, -0.8769, -0.8901, -0.9253, -0.8637, -0.8066, -0.8066,\n",
            "        -0.8593, -0.9341, -1.0000, -0.9385])\n",
            "tensor([-0.9516])\n"
          ]
        }
      ]
    },
    {
      "cell_type": "code",
      "metadata": {
        "id": "xes8xVLTsE_Y"
      },
      "source": [
        "'''\n",
        "input_size: Corresponds to the number of features in the input.\n",
        "Though our sequence length is 12, for each month we have only \n",
        "1 value i.e. total number of passengers, therefore the input size will be 1.\n",
        "'''\n",
        "\n",
        "'''\n",
        "hidden_layer_size: Specifies the number of hidden layers along \n",
        "with the number of neurons in each layer. \n",
        "We will have one layer of 100 neurons.\n",
        "'''\n",
        "\n",
        "'''\n",
        "output_size: The number of items in the output, \n",
        "since we want to predict the number of passengers\n",
        "for 1 month in the future, the output size will be 1.\n",
        "'''\n",
        "\n",
        "'''\n",
        "Inside the forward method, the input_seq is passed as a parameter, \n",
        "which is first passed through the lstm layer. The output of the lstm layer is \n",
        "the hidden and cell states at current time step, along with the output. \n",
        "The output from the lstm layer is passed to the linear layer. \n",
        "The predicted number of passengers is stored in the last item of the \n",
        "predictions list, which is returned to the calling function.\n",
        "'''\n",
        "\n",
        "\n",
        "class LSTM(nn.Module):\n",
        "    def __init__(self, input_size=1, hidden_layer_size=250, output_size=1):\n",
        "        super().__init__()\n",
        "        self.hidden_layer_size = hidden_layer_size\n",
        "\n",
        "        self.lstm = nn.LSTM(input_size, hidden_layer_size)\n",
        "\n",
        "        self.linear = nn.Linear(hidden_layer_size, output_size)\n",
        "\n",
        "        self.hidden_cell = (torch.zeros(1,1,self.hidden_layer_size),\n",
        "                            torch.zeros(1,1,self.hidden_layer_size))\n",
        "\n",
        "    def forward(self, input_seq):\n",
        "        lstm_out, self.hidden_cell = self.lstm(input_seq.view(len(input_seq) ,1, -1), self.hidden_cell)\n",
        "        predictions = self.linear(lstm_out.view(len(input_seq), -1))\n",
        "        return predictions[-1]\n",
        "\n",
        "\n"
      ],
      "execution_count": 150,
      "outputs": []
    },
    {
      "cell_type": "code",
      "metadata": {
        "id": "r4ylDdzYsSJE"
      },
      "source": [
        "model = LSTM()\n",
        "loss_function = nn.MSELoss()\n",
        "optimizer = torch.optim.Adam(model.parameters(), lr=0.001)"
      ],
      "execution_count": 157,
      "outputs": []
    },
    {
      "cell_type": "code",
      "metadata": {
        "colab": {
          "base_uri": "https://localhost:8080/"
        },
        "id": "wor3uZGFuYqR",
        "outputId": "627699b1-f956-48a8-8789-311d22d81659"
      },
      "source": [
        "epochs = 50\n",
        "\n",
        "for i in range(epochs):\n",
        "    for seq, labels in train_inout_seq:\n",
        "        optimizer.zero_grad()\n",
        "        model.hidden_cell = (torch.zeros(1, 1, model.hidden_layer_size),\n",
        "                        torch.zeros(1, 1, model.hidden_layer_size))\n",
        "\n",
        "        y_pred = model(seq)\n",
        "\n",
        "        single_loss = loss_function(y_pred, labels)\n",
        "        single_loss.backward()\n",
        "        optimizer.step()\n",
        "\n",
        "    if i%25 == 1:\n",
        "        print(f'epoch: {i:3} loss: {single_loss.item():10.8f}')\n",
        "\n",
        "print(f'epoch: {i:3} loss: {single_loss.item():10.10f}')\n"
      ],
      "execution_count": 163,
      "outputs": [
        {
          "output_type": "stream",
          "name": "stdout",
          "text": [
            "epoch:   1 loss: 0.00826802\n",
            "epoch:  26 loss: 0.00054605\n",
            "epoch:  49 loss: 0.0016378189\n"
          ]
        }
      ]
    },
    {
      "cell_type": "code",
      "metadata": {
        "colab": {
          "base_uri": "https://localhost:8080/"
        },
        "id": "z3nHH6xeuel8",
        "outputId": "2ae5f0c3-29a4-4359-a3bf-afc551d8b9c9"
      },
      "source": [
        "fut_pred = 12\n",
        "\n",
        "test_inputs = train_data_normalized[-train_window:].tolist()\n",
        "\n",
        "model.eval()\n",
        "\n",
        "for i in range(fut_pred):\n",
        "    seq = torch.FloatTensor(test_inputs[-train_window:])\n",
        "    with torch.no_grad():\n",
        "        model.hidden = (torch.zeros(1, 1, model.hidden_layer_size),\n",
        "                        torch.zeros(1, 1, model.hidden_layer_size))\n",
        "        test_inputs.append(model(seq).item())\n",
        "test_inputs[fut_pred:]\n"
      ],
      "execution_count": 164,
      "outputs": [
        {
          "output_type": "execute_result",
          "data": {
            "text/plain": [
              "[0.45459190011024475,\n",
              " 0.37863296270370483,\n",
              " 0.6564734578132629,\n",
              " 0.6969981789588928,\n",
              " 0.7983848452568054,\n",
              " 0.8833515048027039,\n",
              " 1.006085753440857,\n",
              " 1.0525401830673218,\n",
              " 0.9617499709129333,\n",
              " 0.8597972393035889,\n",
              " 0.8220235705375671,\n",
              " 0.9130619168281555]"
            ]
          },
          "metadata": {},
          "execution_count": 164
        }
      ]
    },
    {
      "cell_type": "code",
      "metadata": {
        "colab": {
          "base_uri": "https://localhost:8080/"
        },
        "id": "gvzSSDjZu8tZ",
        "outputId": "dcfb0571-569d-4075-9a52-48fd9b491369"
      },
      "source": [
        "actual_predictions = scaler.inverse_transform(np.array(test_inputs[train_window:] ).reshape(-1, 1))\n",
        "print(actual_predictions)"
      ],
      "execution_count": 165,
      "outputs": [
        {
          "output_type": "stream",
          "name": "stdout",
          "text": [
            "[[434.91965728]\n",
            " [417.63899902]\n",
            " [480.84771165]\n",
            " [490.06708571]\n",
            " [513.1325523 ]\n",
            " [532.46246734]\n",
            " [560.38450891]\n",
            " [570.95289165]\n",
            " [550.29811838]\n",
            " [527.10387194]\n",
            " [518.5103623 ]\n",
            " [539.22158608]]\n"
          ]
        }
      ]
    },
    {
      "cell_type": "code",
      "metadata": {
        "colab": {
          "base_uri": "https://localhost:8080/"
        },
        "id": "N--N-eYAvDpH",
        "outputId": "260fe110-2585-4161-be4b-27fd187c8af7"
      },
      "source": [
        "x = np.arange(132, 144, 1)\n",
        "print(x)"
      ],
      "execution_count": 166,
      "outputs": [
        {
          "output_type": "stream",
          "name": "stdout",
          "text": [
            "[132 133 134 135 136 137 138 139 140 141 142 143]\n"
          ]
        }
      ]
    },
    {
      "cell_type": "code",
      "metadata": {
        "colab": {
          "base_uri": "https://localhost:8080/",
          "height": 284
        },
        "id": "yBYcGBXuvL0N",
        "outputId": "ba199e61-8ad2-4074-8aa1-0330d0c7011d"
      },
      "source": [
        "plt.title('Month vs Passenger')\n",
        "plt.ylabel('Total Passengers')\n",
        "plt.grid(True)\n",
        "plt.autoscale(axis='x', tight=True)\n",
        "plt.plot(flight_data['passengers'])\n",
        "plt.plot(x,actual_predictions)\n",
        "plt.show()"
      ],
      "execution_count": 167,
      "outputs": [
        {
          "output_type": "display_data",
          "data": {
            "text/plain": [
              "<Figure size 432x288 with 1 Axes>"
            ],
            "image/png": "[encoded data removed]"
          },
          "metadata": {
            "needs_background": "light"
          }
        }
      ]
    },
    {
      "cell_type": "markdown",
      "source": [
        "What could we do to improve the performance? "
      ],
      "metadata": {
        "id": "0T8_BrXIqSI8"
      }
    },
    {
      "cell_type": "code",
      "metadata": {
        "id": "t5HVJAOOvO4H"
      },
      "source": [
        ""
      ],
      "execution_count": 136,
      "outputs": []
    }
  ]
}