{
  "nbformat": 4,
  "nbformat_minor": 0,
  "metadata": {
    "celltoolbar": "Slideshow",
    "kernelspec": {
      "display_name": "Python 3",
      "language": "python",
      "name": "python3"
    },
    "language_info": {
      "codemirror_mode": {
        "name": "ipython",
        "version": 3
      },
      "file_extension": ".py",
      "mimetype": "text/x-python",
      "name": "python",
      "nbconvert_exporter": "python",
      "pygments_lexer": "ipython3",
      "version": "3.8.5"
    },
    "colab": {
      "name": "Lecture_01_Pandas_Matplotlib_.ipynb",
      "provenance": []
    }
  },
  "cells": [
    {
      "cell_type": "markdown",
      "metadata": {
        "id": "klMk4uHlkapb"
      },
      "source": [
        "# Hands on Python for Data Science\n",
        "\n",
        "\n",
        "### Master II Livello - Data Science and Statistical Learning (MD2SL) 2020-2021\n",
        "\n",
        "#### Fabio Pinelli\n",
        "<a href=\"mailto:fabio.pinelli@imtlucca.it\">fabio.pinelli@imtlucca.it</a><br/>\n",
        "IMT School for Advanced Studies Lucca<br/>\n",
        "2020/2021<br/>\n",
        "June, 12 2021"
      ]
    },
    {
      "cell_type": "markdown",
      "metadata": {
        "id": "B6LBOMOFkapc"
      },
      "source": [
        "# Lecture 1: Introduction to <code>pandas</code> and other stuff"
      ]
    },
    {
      "cell_type": "markdown",
      "metadata": {
        "id": "wpu2oSNBkapd"
      },
      "source": [
        "## What is <code>pandas</code>?\n",
        "\n",
        "![10px-Pandas_logo.svg.png](data:image/png;base64,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)"
      ]
    },
    {
      "cell_type": "markdown",
      "metadata": {
        "id": "tF2ejlHekapd"
      },
      "source": [
        "## What *is* <code>pandas</code>?\n",
        "\n",
        "-  Very likely, one of the most important tool for a (Pythonista) Data Scientist!\n",
        "\n",
        "-  It contains data structures and data manipulation tools designed to make data **cleaning** and **analysis** fast and easy in Python.\n",
        "\n",
        "-  Acronym derived from \"**p**ython **an**d **d**ata **a**nalysi**s**\" or, maybe, \"**pan**el **da**ta\"."
      ]
    },
    {
      "cell_type": "markdown",
      "metadata": {
        "id": "HZNYZ3CPkape"
      },
      "source": [
        "## What Does It Provide Us With?\n",
        "\n",
        "-  Often used in tandem with numerical computing tools like <code>**numpy**</code> and <code>**scipy**</code>, as well as machine learning modules like <code>**scikit-learn**</code> and <code>**statsmodels**</code>, and data visualization libraries like <code>**matplotlib**</code> and <code>seaborn</code>. \n",
        "\n",
        "-  It uses significant parts of <code>**numpy**</code> style of array-based computing, especially vectorized functions for data processing without <code>**for**</code> loops.\n",
        "\n",
        "-  You can find more about <code>**pandas**</code> on the official [website](http://pandas.pydata.org/)."
      ]
    },
    {
      "cell_type": "code",
      "metadata": {
        "id": "DUaDGxPhkapf"
      },
      "source": [
        "\"\"\"\n",
        "We import numpy as we will need it very often in combination with pandas\n",
        "\"\"\"\n",
        "import numpy as np\n",
        "\"\"\"\n",
        "As any other third-party module, the pandas module has to be imported before it can be used.\n",
        "If you installed Python with Anaconda, pandas would be just available to you.\n",
        "This is usually how pandas is imported and aliased. Although you could also\n",
        "use another syntax like 'from pandas import *', I strongly encourage you to define an alias,\n",
        "as this will help you to identify pandas' functions in your code.\n",
        "\"\"\"\n",
        "import pandas as pd"
      ],
      "execution_count": 1,
      "outputs": []
    },
    {
      "cell_type": "markdown",
      "metadata": {
        "id": "CzF_t2oYkapf"
      },
      "source": [
        "## Introduction to <code>pandas</code> Data Structures\n",
        "\n",
        "-  Two workhorse data structures: <code>**Series**</code> and <code>**DataFrame**</code>. \n",
        "\n",
        "-  While they are not a universal solution for every problem, they provide a solid, easy-to-use basis for most applications."
      ]
    },
    {
      "cell_type": "markdown",
      "metadata": {
        "id": "OSJru41Ikaph"
      },
      "source": [
        "## <code>Series</code>\n",
        "\n",
        "-  A <code>**Series**</code> is a one-dimensional array-like object containing a **sequence of values** (similar to <code>**numpy**</code>'s arrays) and an associated array of data labels, called its <code>**index**</code>.\n",
        "\n",
        "-  The string representation of a <code>**Series**</code> displayed interactively shows the index on the left and the values on the right. \n",
        "\n",
        "-  If no index is specified for the data, a default one consisting of the integers $0$ through $n-1$ (where $n$ is the length of the data) is created."
      ]
    },
    {
      "cell_type": "code",
      "metadata": {
        "id": "7eKuTxDtkapi",
        "outputId": "2aeb9372-86bb-4c7d-9826-df7025aaa23f",
        "colab": {
          "base_uri": "https://localhost:8080/"
        }
      },
      "source": [
        "# Create a Series object (from a bulit-in Python list)\n",
        "s = pd.Series([4, 7, -5, 3])\n",
        "# Print the string representation of the Series object above\n",
        "print(s)\n",
        "print()\n",
        "# We can get the array representation and index object of the Series \n",
        "# via its values and index attributes, respectively\n",
        "# Print the array of values\n",
        "print(\"The values of the Series object are: {}\".format(s.values))\n",
        "# Print the array of indices\n",
        "print(\"The index of the Series object is: {}\".format(s.index)) # like range(4)"
      ],
      "execution_count": 2,
      "outputs": [
        {
          "output_type": "stream",
          "text": [
            "0    4\n",
            "1    7\n",
            "2   -5\n",
            "3    3\n",
            "dtype: int64\n",
            "\n",
            "The values of the Series object are: [ 4  7 -5  3]\n",
            "The index of the Series object is: RangeIndex(start=0, stop=4, step=1)\n"
          ],
          "name": "stdout"
        }
      ]
    },
    {
      "cell_type": "code",
      "metadata": {
        "id": "iVdBeQHOkapl",
        "outputId": "6351946b-673c-4724-f39f-4add8532f558",
        "colab": {
          "base_uri": "https://localhost:8080/"
        }
      },
      "source": [
        "\"\"\"\n",
        "Often it will be desirable to create a Series with an index \n",
        "identifying each data point with a label.\n",
        "\"\"\"\n",
        "s2 = pd.Series([4, 7, -5, 3], index=['d', 'b', 'a', 'c'])\n",
        "print(s2)\n",
        "print()\n",
        "print(\"The index of the Series object is: {}\".format(s2.index))"
      ],
      "execution_count": 3,
      "outputs": [
        {
          "output_type": "stream",
          "text": [
            "d    4\n",
            "b    7\n",
            "a   -5\n",
            "c    3\n",
            "dtype: int64\n",
            "\n",
            "The index of the Series object is: Index(['d', 'b', 'a', 'c'], dtype='object')\n"
          ],
          "name": "stdout"
        }
      ]
    },
    {
      "cell_type": "code",
      "metadata": {
        "id": "0Demd5xskapm",
        "outputId": "3b8ef1ed-c81d-4e3b-c709-c5f439ff081b",
        "colab": {
          "base_uri": "https://localhost:8080/"
        }
      },
      "source": [
        "\"\"\"\n",
        "Compared with numpy arrays, you can use values in the index \n",
        "when selecting single values or a set of values.\n",
        "\"\"\"\n",
        "# Accessing the element using the index value (i.e., not just an integer as with numpy!)\n",
        "print(\"The value indexed by 'a' is: {}\".format(s2['a']))\n",
        "# Assign a new value corresponding to an index\n",
        "s2['c'] = 42\n",
        "print(\"After the assignment, the new Series object is:\\n{}\".format(s2))\n",
        "print()\n",
        "# Indexing a subset of the elements using a subset of the index\n",
        "print(\"The sub-series is:\\n{}\".format(s2[['c', 'b', 'd']]))"
      ],
      "execution_count": 4,
      "outputs": [
        {
          "output_type": "stream",
          "text": [
            "The value indexed by 'a' is: -5\n",
            "After the assignment, the new Series object is:\n",
            "d     4\n",
            "b     7\n",
            "a    -5\n",
            "c    42\n",
            "dtype: int64\n",
            "\n",
            "The sub-series is:\n",
            "c    42\n",
            "b     7\n",
            "d     4\n",
            "dtype: int64\n"
          ],
          "name": "stdout"
        }
      ]
    },
    {
      "cell_type": "code",
      "metadata": {
        "id": "FNQsk-Xgkapn",
        "outputId": "87187963-9f03-410f-d5f1-94fc2f5e66e6",
        "colab": {
          "base_uri": "https://localhost:8080/"
        }
      },
      "source": [
        "\"\"\"\n",
        "Using numpy functions or numpy-like operations, such as filtering with a boolean array, \n",
        "scalar multiplication, or applying math functions, will preserve the index-value link.\n",
        "\"\"\"\n",
        "print(\"Select only the strictly positive elements of the series:\\n{}\".format(s2[s2 > 0]))\n",
        "print()\n",
        "double_s2 = s2 * 2\n",
        "print(\"Double each element of the series:\\n{}\".format(double_s2))\n",
        "print()\n",
        "exp_s2 = np.exp(s2)\n",
        "print(\"Apply the exponential function to each element of the series:\\n{}\".format(exp_s2))\n",
        "# Note the implicit type conversion after the operation above"
      ],
      "execution_count": 5,
      "outputs": [
        {
          "output_type": "stream",
          "text": [
            "Select only the strictly positive elements of the series:\n",
            "d     4\n",
            "b     7\n",
            "c    42\n",
            "dtype: int64\n",
            "\n",
            "Double each element of the series:\n",
            "d     8\n",
            "b    14\n",
            "a   -10\n",
            "c    84\n",
            "dtype: int64\n",
            "\n",
            "Apply the exponential function to each element of the series:\n",
            "d    5.459815e+01\n",
            "b    1.096633e+03\n",
            "a    6.737947e-03\n",
            "c    1.739275e+18\n",
            "dtype: float64\n"
          ],
          "name": "stdout"
        }
      ]
    },
    {
      "cell_type": "code",
      "metadata": {
        "id": "SbLindjQkapp",
        "outputId": "88ad7175-fef0-4d83-d84c-c19daaf9529b",
        "colab": {
          "base_uri": "https://localhost:8080/"
        }
      },
      "source": [
        "\"\"\"\n",
        "Another way to think about a pandas Series is as a fixed-length, ordered built-in dict, \n",
        "as it is a mapping of index values to data values. \n",
        "Therefore, Series can be used in many contexts where you might use a dict.\n",
        "\"\"\"\n",
        "# Suppose you have a dictionary containing the following key-value pairs\n",
        "sdata = {'Ohio': 35000, 'Texas': 71000, 'Oregon': 16000, 'Utah': 5000}\n",
        "# You can create a Series object from the dictionary above\n",
        "s3 = pd.Series(sdata)\n",
        "print(\"The series object created from the dictionary is:\\n{}\".format(s3))"
      ],
      "execution_count": 6,
      "outputs": [
        {
          "output_type": "stream",
          "text": [
            "The series object created from the dictionary is:\n",
            "Ohio      35000\n",
            "Texas     71000\n",
            "Oregon    16000\n",
            "Utah       5000\n",
            "dtype: int64\n"
          ],
          "name": "stdout"
        }
      ]
    },
    {
      "cell_type": "code",
      "metadata": {
        "id": "3ca-XloLkaps",
        "outputId": "28b7a7ec-bf23-4f60-d0ac-d7d100e6b7e8",
        "colab": {
          "base_uri": "https://localhost:8080/"
        }
      },
      "source": [
        "\"\"\"\n",
        "When only passing a dict, the index in the resulting Series will have the dict's keys\n",
        "in sorted order. You can override this by passing the dict keys \n",
        "in the order you want them to appear in the resulting Series.\n",
        "\"\"\"\n",
        "states = ['California', 'Texas', 'Oregon', 'Ohio']\n",
        "s4 = pd.Series(sdata, index=states)\n",
        "print(\"The series object created from the dictionary and index is:\\n{}\".format(s4))"
      ],
      "execution_count": 7,
      "outputs": [
        {
          "output_type": "stream",
          "text": [
            "The series object created from the dictionary and index is:\n",
            "California        NaN\n",
            "Texas         71000.0\n",
            "Oregon        16000.0\n",
            "Ohio          35000.0\n",
            "dtype: float64\n"
          ],
          "name": "stdout"
        }
      ]
    },
    {
      "cell_type": "code",
      "metadata": {
        "id": "F_cwAR7ikapu",
        "outputId": "1c2e3f2a-a281-4264-d508-64b0f98771f6",
        "colab": {
          "base_uri": "https://localhost:8080/"
        }
      },
      "source": [
        "\"\"\"\n",
        "Here, 3 values found in sdata were placed in the appropriate locations, \n",
        "but since no value for 'California' was found, it appears as NaN (Not a Number),\n",
        "which is considered in pandas to mark missing or NA values. \n",
        "We will use the terms \"missing\" or \"NA\" to refer to missing data. \n",
        "The 'isnull' and 'notnull' functions in pandas should be used to detect missing data.\n",
        "\"\"\"\n",
        "# Test for NA\n",
        "# We can either invoke the method on the Series object\n",
        "print(\"Check which elements of the series are null:\\n{}\".format(s4.isnull()))\n",
        "# Or use the standard pandas function and pass the Series as input argument\n",
        "#print(\"Check which elements of the series are null:\\n{}\".format(pd.isnull(s4)))"
      ],
      "execution_count": 8,
      "outputs": [
        {
          "output_type": "stream",
          "text": [
            "Check which elements of the series are null:\n",
            "California     True\n",
            "Texas         False\n",
            "Oregon        False\n",
            "Ohio          False\n",
            "dtype: bool\n"
          ],
          "name": "stdout"
        }
      ]
    },
    {
      "cell_type": "code",
      "metadata": {
        "id": "NqWt__n9kapu",
        "outputId": "dd41faf6-6bbe-425f-ac7f-6a9ebc35d0e2",
        "colab": {
          "base_uri": "https://localhost:8080/"
        }
      },
      "source": [
        "# Test for NOT NA\n",
        "# We can either invoke the method on the Series object\n",
        "print(\"Check which elements of the series are NOT null:\\n{}\".format(s4.notnull()))\n",
        "# Or use the standard pandas function and pass the Series as input argument\n",
        "#print(\"Check which elements of the series are NOT null:\\n{}\".format(pd.notnull(s4)))"
      ],
      "execution_count": 9,
      "outputs": [
        {
          "output_type": "stream",
          "text": [
            "Check which elements of the series are NOT null:\n",
            "California    False\n",
            "Texas          True\n",
            "Oregon         True\n",
            "Ohio           True\n",
            "dtype: bool\n"
          ],
          "name": "stdout"
        }
      ]
    },
    {
      "cell_type": "code",
      "metadata": {
        "id": "A0jCJeFpkapv",
        "outputId": "92a622a1-45a2-416d-94cb-e97e30e73eac",
        "colab": {
          "base_uri": "https://localhost:8080/"
        }
      },
      "source": [
        "\"\"\"\n",
        "Series automatically aligns differently-indexed data in arithmetic operations.\n",
        "\"\"\"\n",
        "print(\"Series s3:\\n{}\".format(s3))\n",
        "print()\n",
        "print(\"Series s4:\\n{}\".format(s4))\n",
        "print()\n",
        "print(\"Series s3 + s4:\\n{}\".format(s3 + s4))"
      ],
      "execution_count": 10,
      "outputs": [
        {
          "output_type": "stream",
          "text": [
            "Series s3:\n",
            "Ohio      35000\n",
            "Texas     71000\n",
            "Oregon    16000\n",
            "Utah       5000\n",
            "dtype: int64\n",
            "\n",
            "Series s4:\n",
            "California        NaN\n",
            "Texas         71000.0\n",
            "Oregon        16000.0\n",
            "Ohio          35000.0\n",
            "dtype: float64\n",
            "\n",
            "Series s3 + s4:\n",
            "California         NaN\n",
            "Ohio           70000.0\n",
            "Oregon         32000.0\n",
            "Texas         142000.0\n",
            "Utah               NaN\n",
            "dtype: float64\n"
          ],
          "name": "stdout"
        }
      ]
    },
    {
      "cell_type": "code",
      "metadata": {
        "id": "ATiWuigFkapv",
        "outputId": "1a69f325-4c8f-4f2e-f7fc-609780d7e29d",
        "colab": {
          "base_uri": "https://localhost:8080/"
        }
      },
      "source": [
        "\"\"\"\n",
        "Both the Series object itself and its index have a name attribute, \n",
        "which integrates with other key areas of pandas functionality.\n",
        "\"\"\"\n",
        "s4.name = 'population'\n",
        "s4.index.name = 'state'\n",
        "print(s4)"
      ],
      "execution_count": 11,
      "outputs": [
        {
          "output_type": "stream",
          "text": [
            "state\n",
            "California        NaN\n",
            "Texas         71000.0\n",
            "Oregon        16000.0\n",
            "Ohio          35000.0\n",
            "Name: population, dtype: float64\n"
          ],
          "name": "stdout"
        }
      ]
    },
    {
      "cell_type": "code",
      "metadata": {
        "id": "n2bVtda3kapw",
        "outputId": "08d7b356-0099-4772-8446-3bc98fb9de00",
        "colab": {
          "base_uri": "https://localhost:8080/"
        }
      },
      "source": [
        "\"\"\"\n",
        "A Series's index can be altered in place by assignment.\n",
        "\"\"\"\n",
        "s4.index = ['Alice', 'Bob', 'Carl', 'Denise']\n",
        "print(s4)\n",
        "# What happens if there is a length mismatch between the old and the new index?"
      ],
      "execution_count": 12,
      "outputs": [
        {
          "output_type": "stream",
          "text": [
            "Alice         NaN\n",
            "Bob       71000.0\n",
            "Carl      16000.0\n",
            "Denise    35000.0\n",
            "Name: population, dtype: float64\n"
          ],
          "name": "stdout"
        }
      ]
    },
    {
      "cell_type": "code",
      "metadata": {
        "id": "hg38qBackapy",
        "outputId": "ab697a91-b8c3-462a-80c1-6b96b62a6bf3",
        "colab": {
          "base_uri": "https://localhost:8080/",
          "height": 391
        }
      },
      "source": [
        "\"\"\"\n",
        "A Series's index can be altered in place by assignment.\n",
        "\"\"\"\n",
        "s4.index = ['Alice', 'Bob', 'Carl', 'Denise', 'Eddie', 'Fran']\n",
        "print(s4)"
      ],
      "execution_count": 13,
      "outputs": [
        {
          "output_type": "error",
          "ename": "ValueError",
          "evalue": "ignored",
          "traceback": [
            "\u001b[0;31m---------------------------------------------------------------------------\u001b[0m",
            "\u001b[0;31mValueError\u001b[0m                                Traceback (most recent call last)",
            "\u001b[0;32m<ipython-input-13-878932cea0c8>\u001b[0m in \u001b[0;36m<module>\u001b[0;34m()\u001b[0m\n\u001b[1;32m      2\u001b[0m \u001b[0mA\u001b[0m \u001b[0mSeries\u001b[0m\u001b[0;31m'\u001b[0m\u001b[0ms\u001b[0m \u001b[0mindex\u001b[0m \u001b[0mcan\u001b[0m \u001b[0mbe\u001b[0m \u001b[0maltered\u001b[0m \u001b[0;32min\u001b[0m \u001b[0mplace\u001b[0m \u001b[0mby\u001b[0m \u001b[0massignment\u001b[0m\u001b[0;34m.\u001b[0m\u001b[0;34m\u001b[0m\u001b[0;34m\u001b[0m\u001b[0m\n\u001b[1;32m      3\u001b[0m \"\"\"\n\u001b[0;32m----> 4\u001b[0;31m \u001b[0ms4\u001b[0m\u001b[0;34m.\u001b[0m\u001b[0mindex\u001b[0m \u001b[0;34m=\u001b[0m \u001b[0;34m[\u001b[0m\u001b[0;34m'Alice'\u001b[0m\u001b[0;34m,\u001b[0m \u001b[0;34m'Bob'\u001b[0m\u001b[0;34m,\u001b[0m \u001b[0;34m'Carl'\u001b[0m\u001b[0;34m,\u001b[0m \u001b[0;34m'Denise'\u001b[0m\u001b[0;34m,\u001b[0m \u001b[0;34m'Eddie'\u001b[0m\u001b[0;34m,\u001b[0m \u001b[0;34m'Fran'\u001b[0m\u001b[0;34m]\u001b[0m\u001b[0;34m\u001b[0m\u001b[0;34m\u001b[0m\u001b[0m\n\u001b[0m\u001b[1;32m      5\u001b[0m \u001b[0mprint\u001b[0m\u001b[0;34m(\u001b[0m\u001b[0ms4\u001b[0m\u001b[0;34m)\u001b[0m\u001b[0;34m\u001b[0m\u001b[0;34m\u001b[0m\u001b[0m\n",
            "\u001b[0;32m/usr/local/lib/python3.7/dist-packages/pandas/core/generic.py\u001b[0m in \u001b[0;36m__setattr__\u001b[0;34m(self, name, value)\u001b[0m\n\u001b[1;32m   5152\u001b[0m         \u001b[0;32mtry\u001b[0m\u001b[0;34m:\u001b[0m\u001b[0;34m\u001b[0m\u001b[0;34m\u001b[0m\u001b[0m\n\u001b[1;32m   5153\u001b[0m             \u001b[0mobject\u001b[0m\u001b[0;34m.\u001b[0m\u001b[0m__getattribute__\u001b[0m\u001b[0;34m(\u001b[0m\u001b[0mself\u001b[0m\u001b[0;34m,\u001b[0m \u001b[0mname\u001b[0m\u001b[0;34m)\u001b[0m\u001b[0;34m\u001b[0m\u001b[0;34m\u001b[0m\u001b[0m\n\u001b[0;32m-> 5154\u001b[0;31m             \u001b[0;32mreturn\u001b[0m \u001b[0mobject\u001b[0m\u001b[0;34m.\u001b[0m\u001b[0m__setattr__\u001b[0m\u001b[0;34m(\u001b[0m\u001b[0mself\u001b[0m\u001b[0;34m,\u001b[0m \u001b[0mname\u001b[0m\u001b[0;34m,\u001b[0m \u001b[0mvalue\u001b[0m\u001b[0;34m)\u001b[0m\u001b[0;34m\u001b[0m\u001b[0;34m\u001b[0m\u001b[0m\n\u001b[0m\u001b[1;32m   5155\u001b[0m         \u001b[0;32mexcept\u001b[0m \u001b[0mAttributeError\u001b[0m\u001b[0;34m:\u001b[0m\u001b[0;34m\u001b[0m\u001b[0;34m\u001b[0m\u001b[0m\n\u001b[1;32m   5156\u001b[0m             \u001b[0;32mpass\u001b[0m\u001b[0;34m\u001b[0m\u001b[0;34m\u001b[0m\u001b[0m\n",
            "\u001b[0;32mpandas/_libs/properties.pyx\u001b[0m in \u001b[0;36mpandas._libs.properties.AxisProperty.__set__\u001b[0;34m()\u001b[0m\n",
            "\u001b[0;32m/usr/local/lib/python3.7/dist-packages/pandas/core/series.py\u001b[0m in \u001b[0;36m_set_axis\u001b[0;34m(self, axis, labels, fastpath)\u001b[0m\n\u001b[1;32m    422\u001b[0m         \u001b[0;32mif\u001b[0m \u001b[0;32mnot\u001b[0m \u001b[0mfastpath\u001b[0m\u001b[0;34m:\u001b[0m\u001b[0;34m\u001b[0m\u001b[0;34m\u001b[0m\u001b[0m\n\u001b[1;32m    423\u001b[0m             \u001b[0;31m# The ensure_index call above ensures we have an Index object\u001b[0m\u001b[0;34m\u001b[0m\u001b[0;34m\u001b[0m\u001b[0;34m\u001b[0m\u001b[0m\n\u001b[0;32m--> 424\u001b[0;31m             \u001b[0mself\u001b[0m\u001b[0;34m.\u001b[0m\u001b[0m_mgr\u001b[0m\u001b[0;34m.\u001b[0m\u001b[0mset_axis\u001b[0m\u001b[0;34m(\u001b[0m\u001b[0maxis\u001b[0m\u001b[0;34m,\u001b[0m \u001b[0mlabels\u001b[0m\u001b[0;34m)\u001b[0m\u001b[0;34m\u001b[0m\u001b[0;34m\u001b[0m\u001b[0m\n\u001b[0m\u001b[1;32m    425\u001b[0m \u001b[0;34m\u001b[0m\u001b[0m\n\u001b[1;32m    426\u001b[0m     \u001b[0;31m# ndarray compatibility\u001b[0m\u001b[0;34m\u001b[0m\u001b[0;34m\u001b[0m\u001b[0;34m\u001b[0m\u001b[0m\n",
            "\u001b[0;32m/usr/local/lib/python3.7/dist-packages/pandas/core/internals/managers.py\u001b[0m in \u001b[0;36mset_axis\u001b[0;34m(self, axis, new_labels)\u001b[0m\n\u001b[1;32m    225\u001b[0m         \u001b[0;32mif\u001b[0m \u001b[0mnew_len\u001b[0m \u001b[0;34m!=\u001b[0m \u001b[0mold_len\u001b[0m\u001b[0;34m:\u001b[0m\u001b[0;34m\u001b[0m\u001b[0;34m\u001b[0m\u001b[0m\n\u001b[1;32m    226\u001b[0m             raise ValueError(\n\u001b[0;32m--> 227\u001b[0;31m                 \u001b[0;34mf\"Length mismatch: Expected axis has {old_len} elements, new \"\u001b[0m\u001b[0;34m\u001b[0m\u001b[0;34m\u001b[0m\u001b[0m\n\u001b[0m\u001b[1;32m    228\u001b[0m                 \u001b[0;34mf\"values have {new_len} elements\"\u001b[0m\u001b[0;34m\u001b[0m\u001b[0;34m\u001b[0m\u001b[0m\n\u001b[1;32m    229\u001b[0m             )\n",
            "\u001b[0;31mValueError\u001b[0m: Length mismatch: Expected axis has 4 elements, new values have 6 elements"
          ]
        }
      ]
    },
    {
      "cell_type": "markdown",
      "metadata": {
        "id": "K1gSv7oKkapz"
      },
      "source": [
        "## <code>DataFrame</code>\n",
        "\n",
        "-  A <code>**DataFrame**</code> represents a rectangular table of data and contains an **ordered collection of columns**.\n",
        "\n",
        "-  Each column can be a different value type (numeric, string, boolean, etc.).\n",
        "\n",
        "-  The <code>**DataFrame**</code> has both a row and column index; it can be thought of as a dict of <code>**Series**</code> all sharing the same index. \n",
        "\n",
        "-  Under the hood, the data is stored as one or more two-dimensional blocks rather than a list, dict, or some other collection of one-dimensional arrays (the exact details are outside the scope of this class)."
      ]
    },
    {
      "cell_type": "markdown",
      "metadata": {
        "id": "IzDfECnjkap0"
      },
      "source": [
        "\n",
        "<span style=\"color: red\">**NOTE:**</span>\n",
        "While a <code>**DataFrame**</code> is physically two-dimensional, you can use it to represent higher-dimensional data in a tabular format using **hierarchical indexing**, one of the more advanced data-handling features in <code>**pandas**</code>."
      ]
    },
    {
      "cell_type": "code",
      "metadata": {
        "id": "rLHjiy5nkap0",
        "outputId": "22a416a6-ae2f-4b18-e54b-ea92193a9eb5",
        "colab": {
          "base_uri": "https://localhost:8080/"
        }
      },
      "source": [
        "\"\"\"\n",
        "There are many ways to construct a DataFrame, \n",
        "though one of the most common is from a dict of equal-length lists or numpy arrays.\n",
        "\"\"\"\n",
        "data = {'state': ['Ohio', 'Ohio', 'Ohio', 'Nevada', 'Nevada'],\n",
        "        'year': [2000, 2001, 2002, 2001, 2002],\n",
        "        'population': [1.5, 1.7, 3.6, 2.4, 2.9]}\n",
        "\n",
        "df = pd.DataFrame(data)\n",
        "# The resulting DataFrame will have its index assigned automatically as with Series, \n",
        "# and the columns are placed in sorted order\n",
        "print(\"The DataFrame created is as follows:\\n{}\".format(df))"
      ],
      "execution_count": 26,
      "outputs": [
        {
          "output_type": "stream",
          "text": [
            "The DataFrame created is as follows:\n",
            "    state  year  population\n",
            "0    Ohio  2000         1.5\n",
            "1    Ohio  2001         1.7\n",
            "2    Ohio  2002         3.6\n",
            "3  Nevada  2001         2.4\n",
            "4  Nevada  2002         2.9\n"
          ],
          "name": "stdout"
        }
      ]
    },
    {
      "cell_type": "code",
      "metadata": {
        "id": "TJ8IQivMkap2",
        "outputId": "4efd4ba3-02ff-4821-f632-b2c083c6585d",
        "colab": {
          "base_uri": "https://localhost:8080/",
          "height": 306
        }
      },
      "source": [
        "\"\"\"\n",
        "When you work with large DataFrames it is useful to show the first n rows\n",
        "The 'head()' method without any input argument returns the first 5 rows.\n",
        "Otherwise, you can call the method specifying the number of records to be displayed.\n",
        "\"\"\"\n",
        "print(df.head())\n",
        "# You can also just type head()\n",
        "df.head()"
      ],
      "execution_count": 15,
      "outputs": [
        {
          "output_type": "stream",
          "text": [
            "    state  year  population\n",
            "0    Ohio  2000         1.5\n",
            "1    Ohio  2001         1.7\n",
            "2    Ohio  2002         3.6\n",
            "3  Nevada  2001         2.4\n",
            "4  Nevada  2002         2.9\n"
          ],
          "name": "stdout"
        },
        {
          "output_type": "execute_result",
          "data": {
            "text/html": [
              "<div>\n",
              "<style scoped>\n",
              "    .dataframe tbody tr th:only-of-type {\n",
              "        vertical-align: middle;\n",
              "    }\n",
              "\n",
              "    .dataframe tbody tr th {\n",
              "        vertical-align: top;\n",
              "    }\n",
              "\n",
              "    .dataframe thead th {\n",
              "        text-align: right;\n",
              "    }\n",
              "</style>\n",
              "<table border=\"1\" class=\"dataframe\">\n",
              "  <thead>\n",
              "    <tr style=\"text-align: right;\">\n",
              "      <th></th>\n",
              "      <th>state</th>\n",
              "      <th>year</th>\n",
              "      <th>population</th>\n",
              "    </tr>\n",
              "  </thead>\n",
              "  <tbody>\n",
              "    <tr>\n",
              "      <th>0</th>\n",
              "      <td>Ohio</td>\n",
              "      <td>2000</td>\n",
              "      <td>1.5</td>\n",
              "    </tr>\n",
              "    <tr>\n",
              "      <th>1</th>\n",
              "      <td>Ohio</td>\n",
              "      <td>2001</td>\n",
              "      <td>1.7</td>\n",
              "    </tr>\n",
              "    <tr>\n",
              "      <th>2</th>\n",
              "      <td>Ohio</td>\n",
              "      <td>2002</td>\n",
              "      <td>3.6</td>\n",
              "    </tr>\n",
              "    <tr>\n",
              "      <th>3</th>\n",
              "      <td>Nevada</td>\n",
              "      <td>2001</td>\n",
              "      <td>2.4</td>\n",
              "    </tr>\n",
              "    <tr>\n",
              "      <th>4</th>\n",
              "      <td>Nevada</td>\n",
              "      <td>2002</td>\n",
              "      <td>2.9</td>\n",
              "    </tr>\n",
              "  </tbody>\n",
              "</table>\n",
              "</div>"
            ],
            "text/plain": [
              "    state  year  population\n",
              "0    Ohio  2000         1.5\n",
              "1    Ohio  2001         1.7\n",
              "2    Ohio  2002         3.6\n",
              "3  Nevada  2001         2.4\n",
              "4  Nevada  2002         2.9"
            ]
          },
          "metadata": {
            "tags": []
          },
          "execution_count": 15
        }
      ]
    },
    {
      "cell_type": "code",
      "metadata": {
        "id": "WWTcN2wYkap3",
        "outputId": "8d3610e8-39bb-455b-c479-02197ba517d0",
        "colab": {
          "base_uri": "https://localhost:8080/"
        }
      },
      "source": [
        "\"\"\"\n",
        "If you specify a sequence of columns at creation time, \n",
        "the DataFrame's columns will be arranged in that order.\n",
        "\"\"\"\n",
        "# Note that column names must reflect key names of the input dictionary 'data'\n",
        "df2 = pd.DataFrame(data, columns=['year', 'state', 'population'])\n",
        "print(df2)"
      ],
      "execution_count": 16,
      "outputs": [
        {
          "output_type": "stream",
          "text": [
            "   year   state  population\n",
            "0  2000    Ohio         1.5\n",
            "1  2001    Ohio         1.7\n",
            "2  2002    Ohio         3.6\n",
            "3  2001  Nevada         2.4\n",
            "4  2002  Nevada         2.9\n"
          ],
          "name": "stdout"
        }
      ]
    },
    {
      "cell_type": "code",
      "metadata": {
        "id": "y6_Z70O6kap3",
        "outputId": "3b78d1cc-6b3b-443e-a69f-5ee791d6d8f2",
        "colab": {
          "base_uri": "https://localhost:8080/"
        }
      },
      "source": [
        "\"\"\"\n",
        "If you pass a column that isn't contained in the dict, \n",
        "it will appear with missing values (NaN) in the result.\n",
        "\"\"\"\n",
        "# Here we are adding an extra column 'debt' and we assign a string-based index,\n",
        "# instead of the default integer range.\n",
        "df3 = pd.DataFrame(data, columns=['year', 'state', 'population', 'debt'], \n",
        "                      index=['one', 'two', 'three', 'four', 'five'])\n",
        "print(df3)"
      ],
      "execution_count": 17,
      "outputs": [
        {
          "output_type": "stream",
          "text": [
            "       year   state  population debt\n",
            "one    2000    Ohio         1.5  NaN\n",
            "two    2001    Ohio         1.7  NaN\n",
            "three  2002    Ohio         3.6  NaN\n",
            "four   2001  Nevada         2.4  NaN\n",
            "five   2002  Nevada         2.9  NaN\n"
          ],
          "name": "stdout"
        }
      ]
    },
    {
      "cell_type": "code",
      "metadata": {
        "id": "MbVTrkEokap4",
        "outputId": "be8d2215-2fb0-4ec8-f9bd-3756bd998d8c",
        "colab": {
          "base_uri": "https://localhost:8080/"
        }
      },
      "source": [
        "\"\"\"\n",
        "A column in a DataFrame can be retrieved as a Series,\n",
        "either by dict-like notation or by attribute.\n",
        "\"\"\"\n",
        "# Accessing column using dict-like notation\n",
        "print(df3['state'])\n",
        "print()\n",
        "# Accessing column using attribute ('.column_name') notation\n",
        "print(df3.population)\n",
        "\n",
        "# Note that the returned Series have the same index as the DataFrame, \n",
        "# and their name attribute has been appropriately set."
      ],
      "execution_count": 18,
      "outputs": [
        {
          "output_type": "stream",
          "text": [
            "one        Ohio\n",
            "two        Ohio\n",
            "three      Ohio\n",
            "four     Nevada\n",
            "five     Nevada\n",
            "Name: state, dtype: object\n",
            "\n",
            "one      1.5\n",
            "two      1.7\n",
            "three    3.6\n",
            "four     2.4\n",
            "five     2.9\n",
            "Name: population, dtype: float64\n"
          ],
          "name": "stdout"
        }
      ]
    },
    {
      "cell_type": "code",
      "metadata": {
        "id": "h_HsIIPKkap4",
        "outputId": "e5e41e65-449c-4802-b0c4-45eaa5c87336",
        "colab": {
          "base_uri": "https://localhost:8080/"
        }
      },
      "source": [
        "\"\"\"\n",
        "Rows can also be retrieved by position or name by a couple of methods, \n",
        "such as the 'loc' indexing field (much more on this later).\n",
        "\"\"\"\n",
        "# Accessing the row indexed by 'three'\n",
        "df3.loc['three']"
      ],
      "execution_count": 19,
      "outputs": [
        {
          "output_type": "execute_result",
          "data": {
            "text/plain": [
              "year          2002\n",
              "state         Ohio\n",
              "population     3.6\n",
              "debt           NaN\n",
              "Name: three, dtype: object"
            ]
          },
          "metadata": {
            "tags": []
          },
          "execution_count": 19
        }
      ]
    },
    {
      "cell_type": "code",
      "metadata": {
        "id": "oOkFPpI3kap5",
        "outputId": "1403831d-45ef-49fa-ad40-03a0ff04b3b3",
        "colab": {
          "base_uri": "https://localhost:8080/"
        }
      },
      "source": [
        "\"\"\"\n",
        "Columns can be modified by assignment. \n",
        "For example, the empty 'debt' column could be assigned a scalar value or an array of values.\n",
        "\"\"\"\n",
        "# Assigning the same scalar value to the column 'debt'\n",
        "df3['debt'] = 73.42\n",
        "print(df3)"
      ],
      "execution_count": 20,
      "outputs": [
        {
          "output_type": "stream",
          "text": [
            "       year   state  population   debt\n",
            "one    2000    Ohio         1.5  73.42\n",
            "two    2001    Ohio         1.7  73.42\n",
            "three  2002    Ohio         3.6  73.42\n",
            "four   2001  Nevada         2.4  73.42\n",
            "five   2002  Nevada         2.9  73.42\n"
          ],
          "name": "stdout"
        }
      ]
    },
    {
      "cell_type": "code",
      "metadata": {
        "id": "sDZKaN5mkap5",
        "outputId": "aff29579-2b9c-4ff6-c4fc-79ce1347bf24",
        "colab": {
          "base_uri": "https://localhost:8080/"
        }
      },
      "source": [
        "\"\"\"\n",
        "Columns can be modified by assignment. \n",
        "For example, the empty 'debt' column could be assigned a scalar value or an array of values.\n",
        "\"\"\"\n",
        "# Assigning an array of values to the column 'debt'\n",
        "df3['debt'] = np.array([1.3, 6.4, 0.5, 0.0, -9.8])\n",
        "print(df3)\n",
        "# When assigning lists or arrays to a column, \n",
        "# the value's length must match the length of the DataFrame."
      ],
      "execution_count": 21,
      "outputs": [
        {
          "output_type": "stream",
          "text": [
            "       year   state  population  debt\n",
            "one    2000    Ohio         1.5   1.3\n",
            "two    2001    Ohio         1.7   6.4\n",
            "three  2002    Ohio         3.6   0.5\n",
            "four   2001  Nevada         2.4   0.0\n",
            "five   2002  Nevada         2.9  -9.8\n"
          ],
          "name": "stdout"
        }
      ]
    },
    {
      "cell_type": "code",
      "metadata": {
        "id": "mSnfhwWvkap5",
        "outputId": "c8aa3435-f987-4166-cd54-3bdff6acd18c",
        "colab": {
          "base_uri": "https://localhost:8080/"
        }
      },
      "source": [
        "\"\"\"\n",
        "We can also assign a Series to a DataFrame column.\n",
        "In this case, its labels will be realigned exactly to the DataFrame's index, \n",
        "inserting missing values (NaN) in any holes.\n",
        "\"\"\"\n",
        "val = pd.Series([-1.2, -1.5, -1.7], index=['two', 'four', 'five'])\n",
        "df3['debt'] = val\n",
        "print(df3)\n",
        "# If one or more elements in the specified index are not present\n",
        "# in the DataFrame's index, the assignment for those elements won't occur"
      ],
      "execution_count": 22,
      "outputs": [
        {
          "output_type": "stream",
          "text": [
            "       year   state  population  debt\n",
            "one    2000    Ohio         1.5   NaN\n",
            "two    2001    Ohio         1.7  -1.2\n",
            "three  2002    Ohio         3.6   NaN\n",
            "four   2001  Nevada         2.4  -1.5\n",
            "five   2002  Nevada         2.9  -1.7\n"
          ],
          "name": "stdout"
        }
      ]
    },
    {
      "cell_type": "code",
      "metadata": {
        "id": "eOwQw3tYkap6",
        "outputId": "484846a1-5a09-4f42-cfa1-8a90ccd545ea",
        "colab": {
          "base_uri": "https://localhost:8080/"
        }
      },
      "source": [
        "\"\"\"\n",
        "Assigning a column that doesn't exist will create a new column.\n",
        "\"\"\"\n",
        "# The effect of the following statement is to:\n",
        "# 1. create a new column 'eastern'\n",
        "# 2. assign to that column a value which results from the boolean expression\n",
        "# Remember that boolean expressions computed over Series (or numpy arrays for that matters)\n",
        "# return a Series (array)\n",
        "df3['eastern'] = df3['state'] == 'Ohio'\n",
        "print(df3)"
      ],
      "execution_count": 23,
      "outputs": [
        {
          "output_type": "stream",
          "text": [
            "       year   state  population  debt  eastern\n",
            "one    2000    Ohio         1.5   NaN     True\n",
            "two    2001    Ohio         1.7  -1.2     True\n",
            "three  2002    Ohio         3.6   NaN     True\n",
            "four   2001  Nevada         2.4  -1.5    False\n",
            "five   2002  Nevada         2.9  -1.7    False\n"
          ],
          "name": "stdout"
        }
      ]
    },
    {
      "cell_type": "code",
      "metadata": {
        "id": "NdrpImNUkap6",
        "outputId": "ae3f141a-3867-4cfa-90bf-1b8ad2189212",
        "colab": {
          "base_uri": "https://localhost:8080/"
        }
      },
      "source": [
        "\"\"\"\n",
        "To delete a column, we can use the 'del' keyword as with a dict.\n",
        "\"\"\"\n",
        "del df3['eastern']\n",
        "print(df3)\n",
        "print()\n",
        "print(\"The columns of the DataFrame are: {}\".format(df3.columns))"
      ],
      "execution_count": 24,
      "outputs": [
        {
          "output_type": "stream",
          "text": [
            "       year   state  population  debt\n",
            "one    2000    Ohio         1.5   NaN\n",
            "two    2001    Ohio         1.7  -1.2\n",
            "three  2002    Ohio         3.6   NaN\n",
            "four   2001  Nevada         2.4  -1.5\n",
            "five   2002  Nevada         2.9  -1.7\n",
            "\n",
            "The columns of the DataFrame are: Index(['year', 'state', 'population', 'debt'], dtype='object')\n"
          ],
          "name": "stdout"
        }
      ]
    },
    {
      "cell_type": "markdown",
      "metadata": {
        "id": "SHgYb0iTkap7"
      },
      "source": [
        "<span style=\"color: red\">**Note:**</span>\n",
        "The column returned when indexing a <code>**DataFrame**</code> is a **view** on the underlying data, <u>not</u> a copy. Thus, any in-place modifications to the <code>**Series**</code> will be reflected in the <code>**DataFrame**</code>. The column can be explicitly copied using the <code>**Series**</code>'s <code>**copy()**</code> method."
      ]
    },
    {
      "cell_type": "code",
      "metadata": {
        "id": "LrMPi18ikap7",
        "outputId": "519d165d-e55c-4a04-9b45-67f832517bb8",
        "colab": {
          "base_uri": "https://localhost:8080/"
        }
      },
      "source": [
        "\"\"\"\n",
        "Another possible way of creating a pandas DataFrame is by using\n",
        "a dictionary of dictionaries (i.e., a nested dictionary).\n",
        "With this approach, pandas will interpret the outer dictionary keys as the columns\n",
        "and the inner keys as the row indices.\n",
        "\"\"\"\n",
        "population = {\n",
        "    'Nevada': {2001: 2.4, 2002: 2.9},\n",
        "    'California': {2000: 3.6, 2001: 3.7, 2002: 4.1},\n",
        "    'Texas': {2000: 5.5, 2001: 5.8, 2002: 7.0},\n",
        "}\n",
        "\n",
        "df4 = pd.DataFrame(population)\n",
        "print(df4)"
      ],
      "execution_count": 25,
      "outputs": [
        {
          "output_type": "stream",
          "text": [
            "      Nevada  California  Texas\n",
            "2001     2.4         3.7    5.8\n",
            "2002     2.9         4.1    7.0\n",
            "2000     NaN         3.6    5.5\n"
          ],
          "name": "stdout"
        }
      ]
    },
    {
      "cell_type": "markdown",
      "metadata": {
        "id": "R0Q1rTu3kap7"
      },
      "source": [
        "## Possible Arguments to <code>DataFrame()</code> Constructor\n",
        "\n",
        "<img src=\"https://github.com/fpinell/hands_on_python_for_ds/blob/main/notebooks/img/pd_dataframe_1.png?raw=1\" width=\"50%\" align=\"center\"/>"
      ]
    },
    {
      "cell_type": "markdown",
      "metadata": {
        "id": "hF51YCq8kap8"
      },
      "source": [
        "## Possible Arguments to <code>DataFrame()</code> Constructor\n",
        "\n",
        "<img src=\"https://github.com/fpinell/hands_on_python_for_ds/blob/main/notebooks/img/pd_dataframe_2.png?raw=1\" width=\"50%\" align=\"center\"/>"
      ]
    },
    {
      "cell_type": "markdown",
      "metadata": {
        "id": "Z3dnhTOjkap8"
      },
      "source": [
        "## <code>Index</code> Objects\n",
        "\n",
        "-  <code>**Index**</code> objects are responsible for holding the axis **labels** and other metadata (like the axis name or names). \n",
        "\n",
        "-  Any array or other sequence of labels used when constructing a <code>**Series**</code> or <code>**DataFrame**</code> is internally converted to an <code>**Index**</code>.\n",
        "\n",
        "-  They are **_immutable_**, as this makes safer to share those objects among data structures."
      ]
    },
    {
      "cell_type": "code",
      "metadata": {
        "id": "LimUSR1xkap8"
      },
      "source": [
        "# Suppose we create a Series with an explicit index (i.e., a built-in list)\n",
        "s = pd.Series(range(5), index=['a', 'b', 'c', 'd', 'e'])\n",
        "# Store the index property of the Series object\n",
        "index = s.index\n",
        "print(\"The index associated with the series is: {}\".format(index))\n",
        "# As any sequence-like objects, Index can be sliced over\n",
        "print(\"The sliced index associated with the series is: {}\".format(index[1:4]))"
      ],
      "execution_count": null,
      "outputs": []
    },
    {
      "cell_type": "code",
      "metadata": {
        "id": "D46oXuQ2kap8"
      },
      "source": [
        "# Index objects are IMMUTABLE\n",
        "index[1] = 'beta'  # TypeError"
      ],
      "execution_count": null,
      "outputs": []
    },
    {
      "cell_type": "markdown",
      "metadata": {
        "id": "hIv1C4G6kap9"
      },
      "source": [
        "## <code>Index</code> Object's Hierarchy\n",
        "\n",
        "<img src=\"https://github.com/fpinell/hands_on_python_for_ds/blob/main/notebooks/img/pd_index.png?raw=1\" width=\"50%\" align=\"center\"/>"
      ]
    },
    {
      "cell_type": "markdown",
      "metadata": {
        "id": "2QZDy80Hkap9"
      },
      "source": [
        "## <code>Index</code> Object's Methods and Properties\n",
        "\n",
        "<img src=\"https://github.com/fpinell/hands_on_python_for_ds/blob/main/notebooks/img/pd_index_methods.png?raw=1\" width=\"50%\" align=\"center\"/>"
      ]
    },
    {
      "cell_type": "code",
      "metadata": {
        "id": "D2HCxC5Lkap9"
      },
      "source": [
        "\"\"\"\n",
        "We can eliminate one or more entries from an axis using the 'drop' method.\n",
        "This will return a new object with the entries that are left.\n",
        "\"\"\"\n",
        "s = pd.Series(np.arange(5.), index=['a', 'b', 'c', 'd', 'e'])\n",
        "print(\"Original Series:\\n{}\".format(s))"
      ],
      "execution_count": null,
      "outputs": []
    },
    {
      "cell_type": "code",
      "metadata": {
        "id": "y7MHHjHlkap9"
      },
      "source": [
        "# Eliminate a single entry\n",
        "new_s = s.drop('b')\n",
        "print(\"Series after dropping entry 'b':\\n{}\".format(new_s))\n",
        "print()\n",
        "# Eliminate multiple entries\n",
        "new_s = s.drop(['a', 'e'])\n",
        "print(\"Series after dropping entries 'a' and 'e':\\n{}\".format(new_s))"
      ],
      "execution_count": null,
      "outputs": []
    },
    {
      "cell_type": "code",
      "metadata": {
        "id": "O6VYrsVxkap-"
      },
      "source": [
        "\"\"\"\n",
        "With DataFrame, index values can be deleted from either axis: index (row) and column.\n",
        "\"\"\"\n",
        "df = pd.DataFrame(np.arange(16).reshape((4, 4)),\n",
        "                    index=['Ohio', 'Colorado', 'Utah', 'New York'],\n",
        "                    columns=['one', 'two', 'three', 'four'])\n",
        "print(\"Original DataFrame:\\n{}\".format(df))"
      ],
      "execution_count": null,
      "outputs": []
    },
    {
      "cell_type": "code",
      "metadata": {
        "id": "-meAavJXkap-"
      },
      "source": [
        "# Eliminate entries on the default index axis (i.e., rows)\n",
        "new_df = df.drop(['Utah', 'Ohio'])\n",
        "print(\"Index-Dropped DataFrame (axis 0):\\n{}\".format(new_df))\n",
        "print()\n",
        "# Eliminate entries on the column axis\n",
        "new_df2 = df.drop(['two', 'four'], axis=1)\n",
        "print(\"Column-Dropped DataFrame (axis 1):\\n{}\".format(new_df2))"
      ],
      "execution_count": null,
      "outputs": []
    },
    {
      "cell_type": "code",
      "metadata": {
        "id": "xCVxGUwCkap-"
      },
      "source": [
        "\"\"\"\n",
        "Many functions, like drop, which modify the size or shape of a Series or DataFrame, \n",
        "can manipulate an object in place without returning a new object.\n",
        "\"\"\"\n",
        "# Eliminating a single entry on the row axis in-place\n",
        "df.drop('New York', inplace=True)\n",
        "print(df)"
      ],
      "execution_count": null,
      "outputs": []
    },
    {
      "cell_type": "markdown",
      "metadata": {
        "id": "RwHL8j5zkap-"
      },
      "source": [
        "## Indexing, Selecting, Slicing, and Filtering\n",
        "\n",
        "-  <code>**Series**</code> indexing works analogously to <code>**numpy**</code> array indexing.\n",
        "\n",
        "-  In addition to just integers, you can also use the <code>**Series**</code>'s index values."
      ]
    },
    {
      "cell_type": "code",
      "metadata": {
        "id": "MD3p6sXmkap_"
      },
      "source": [
        "# Create a Series object\n",
        "s = pd.Series(np.arange(4.), index=['a', 'b', 'c', 'd'])\n",
        "print(s)\n",
        "print()\n",
        "# Accessing the 2nd element using integer indexing\n",
        "print(\"The 2nd element of the Series is: {}\".format(s[1]))\n",
        "# Accessing the 3rd element using index value 'c'\n",
        "print(\"The 3rd element of the Series is: {}\".format(s['c']))"
      ],
      "execution_count": null,
      "outputs": []
    },
    {
      "cell_type": "code",
      "metadata": {
        "id": "dvBt7l_Ckap_"
      },
      "source": [
        "# Selecting multiple entries using a list of integers\n",
        "print(\"The 1st and 3rd elements of the Series are:\\n{}\"\n",
        "      .format(s[[0, 2]]))\n",
        "print()\n",
        "# Selecting multiple entries using a list of index values\n",
        "print(\"The elements corresponding to entry 'a' and 'c' of the Series are:\\n{}\"\n",
        "      .format(s[['a', 'c']]))"
      ],
      "execution_count": null,
      "outputs": []
    },
    {
      "cell_type": "code",
      "metadata": {
        "id": "3RYpr_sSkap_"
      },
      "source": [
        "# Slicing the series using integer slicing\n",
        "print(\"The first two elements of the Series are:\\n{}\".format(s[:2]))\n",
        "print()\n",
        "# Slicing using labels behaves differently than normal Python integer slicing \n",
        "# in that the endpoint is inclusive\n",
        "print(\"The first two elements of the Series are:\\n{}\".format(s['a':'b']))\n",
        "print()\n",
        "# Filtering on a series according to a boolean condition\n",
        "print(\"Select only those elements greater than 0 and less than or equal to 2:\\n{}\"\n",
        "      .format(s[(s > 0) & (s <= 2)]))"
      ],
      "execution_count": null,
      "outputs": []
    },
    {
      "cell_type": "code",
      "metadata": {
        "id": "wrz8LfrIkap_"
      },
      "source": [
        "\"\"\"\n",
        "Indexing into a DataFrame is for retrieving one or more columns, \n",
        "either with a single value or sequence.\n",
        "\"\"\"\n",
        "df = pd.DataFrame(np.arange(16).reshape((4, 4)),\n",
        "                  index=['Ohio', 'Colorado', 'Utah', 'New York'],\n",
        "                  columns=['one', 'two', 'three', 'four'])\n",
        "print(df)"
      ],
      "execution_count": null,
      "outputs": []
    },
    {
      "cell_type": "code",
      "metadata": {
        "id": "9Ok55qhFkaqA"
      },
      "source": [
        "# Accessing a single column in a DataFrame using column values (axis 1)\n",
        "print(\"Column 'two':\\n{}\".format(df['two']))\n",
        "print()\n",
        "# Accessing multiple columns in a DataFrame using column values (axis 1)\n",
        "print(\"Column 'three' and 'one':\\n{}\".format(df[['three', 'one']]))"
      ],
      "execution_count": null,
      "outputs": []
    },
    {
      "cell_type": "code",
      "metadata": {
        "id": "PfjwAdqHkaqA"
      },
      "source": [
        "\"\"\"\n",
        "We can use integer slicing as well as boolean array to select rows.\n",
        "\"\"\"\n",
        "# Integer slicing inside of [] slices ONLY the rows\n",
        "print(\"First two rows:\\n{}\".format(df[:2]))\n",
        "print()\n",
        "# Select all the rows corresponding to the entries where values in column 'three'\n",
        "# are greater than 5 (this will filter out the first row)\n",
        "print(df[df['three'] > 5])\n",
        "print()\n",
        "# Select all the rows corresponding to the entries where values in column 'two'\n",
        "# are smaller than 7 (this will filter out the last two rows)\n",
        "print(df[df['two'] < 7])"
      ],
      "execution_count": null,
      "outputs": []
    },
    {
      "cell_type": "code",
      "metadata": {
        "id": "r9o0NQfFkaqA"
      },
      "source": [
        "\"\"\"\n",
        "Boolean indexing on DataFrame works similar to Series.\n",
        "\"\"\"\n",
        "print(df < 3)"
      ],
      "execution_count": null,
      "outputs": []
    },
    {
      "cell_type": "code",
      "metadata": {
        "id": "03Ptx-LgkaqA"
      },
      "source": [
        "\"\"\"\n",
        "Assignment over boolean indexing on a DataFrame\n",
        "\"\"\"\n",
        "df[df < 3] = 0\n",
        "print(df)\n",
        "# This makes DataFrame syntactically more like \n",
        "# a two-dimensional numpy array in this particular case."
      ],
      "execution_count": null,
      "outputs": []
    },
    {
      "cell_type": "code",
      "metadata": {
        "id": "83cui8bjkaqB"
      },
      "source": [
        "\"\"\"\n",
        "To indexing a DataFrame, there are two special operators: loc and iloc. \n",
        "They enable you to select a subset of the rows and columns from a DataFrame \n",
        "with numpy-like notation using either axis labels (loc) or integers (iloc).\n",
        "\"\"\"\n",
        "# Using 'loc' operator we can index both rows (axis 0) and columns (axis 1)\n",
        "# by means of labels rather than integers.\n",
        "# Extract the row corresponding to 'Utah'\n",
        "print(df.loc['Utah'])\n",
        "print()\n",
        "# Using 'iloc' operator we can index both rows (axis 0) and columns (axis 1)\n",
        "# by means of integers.\n",
        "# Extract the 3rd row (which corresponds to 'Utah')\n",
        "print(\"3rd row:\\n{}\".format(df.iloc[2]))"
      ],
      "execution_count": null,
      "outputs": []
    },
    {
      "cell_type": "code",
      "metadata": {
        "id": "JXI5zop3kaqB"
      },
      "source": [
        "# Using 'loc' operator we can index both rows (axis 0) and columns (axis 1)\n",
        "# by means of labels rather than integers.\n",
        "# Extract the row corresponding to 'Utah' and the column corresponding to 'two'\n",
        "print(df.loc['Utah', 'two'])\n",
        "print()\n",
        "# Using 'iloc' operator we can index both rows (axis 0) and columns (axis 1)\n",
        "# by means of integers.\n",
        "# Extract the 3rd row (which corresponds to 'Utah') and 2nd column ('two')\n",
        "print(\"3rd row and 2nd column:\\n{}\".format(df.iloc[2,1]))"
      ],
      "execution_count": null,
      "outputs": []
    },
    {
      "cell_type": "code",
      "metadata": {
        "id": "qFOR7V6nkaqB"
      },
      "source": [
        "# Using 'loc' operator we can index both rows (axis 0) and columns (axis 1)\n",
        "# by means of labels rather than integers.\n",
        "# Extract the row corresponding to 'Utah' and the columns 'two' and 'three'\n",
        "print(df.loc['Utah', ['two', 'three']])\n",
        "print()\n",
        "# Using 'iloc' operator we can index both rows (axis 0) and columns (axis 1)\n",
        "# by means of integers.\n",
        "# Extract the 3rd row (Utah), 2nd and 3rd columns ('two', 'three')\n",
        "print(\"3rd row; 2nd and 3rd columns:\\n{}\".format(df.iloc[2, [1,2]]))"
      ],
      "execution_count": null,
      "outputs": []
    },
    {
      "cell_type": "code",
      "metadata": {
        "id": "W__vrRVokaqB"
      },
      "source": [
        "print(\"1st and 4th row; 4th, 1st and 2nd column:\\n{}\"\n",
        "      .format(df.loc[['Ohio','New York'], ['four', 'one', 'two']]))\n",
        "print()\n",
        "print(\"1st and 4th row; 4th, 1st and 2nd column:\\n{}\".format(df.iloc[[0, 3], [3, 0, 1]]))"
      ],
      "execution_count": null,
      "outputs": []
    },
    {
      "cell_type": "code",
      "metadata": {
        "id": "WMSY9rEwkaqC"
      },
      "source": [
        "# Mixed label/integer selection (DEPRECATED!)\n",
        "print(\"1st and 4th row; 4th, 1st and 2nd column:\\n{}\"\n",
        "      .format(df.ix[['Ohio', 'New York'], [3, 0, 1]]))"
      ],
      "execution_count": null,
      "outputs": []
    },
    {
      "cell_type": "code",
      "metadata": {
        "id": "5Fg5ZX5kkaqC"
      },
      "source": [
        "\"\"\"\n",
        "Slicing over two axis of a DataFrame.\n",
        "\"\"\"\n",
        "# Using loc in combination with label slicing (rightmost extreme included!)\n",
        "print(df.loc[:'Utah', 'two':'three'])"
      ],
      "execution_count": null,
      "outputs": []
    },
    {
      "cell_type": "code",
      "metadata": {
        "id": "EpLBJMXckaqC"
      },
      "source": [
        "\"\"\"\n",
        "Slicing over two axis of a DataFrame.\n",
        "\"\"\"\n",
        "# Using iloc in combination with integer slicing (rightmost extreme NOT included!)\n",
        "print(df.iloc[1:, :3])"
      ],
      "execution_count": null,
      "outputs": []
    },
    {
      "cell_type": "code",
      "metadata": {
        "id": "zXhWAyMTkaqC"
      },
      "source": [
        "\"\"\"\n",
        "Indexing and Slicing can be mixed (e.g., indexing on one axis and slicing on the other).\n",
        "This can be done both using loc and iloc operator\n",
        "\"\"\"\n",
        "# Indexing over axis 0 and slicing over axis 1 using loc.\n",
        "# row indexed by 'New York', column indexed by 'one', 'two' and 'three'\n",
        "print(df.loc['New York', 'one':'three'])\n",
        "print()\n",
        "# Slicing over axis 0 and indexing over axis 1 using iloc.\n",
        "# first two rows, 3rd column\n",
        "print(df.iloc[:2, 2])"
      ],
      "execution_count": null,
      "outputs": []
    },
    {
      "cell_type": "markdown",
      "metadata": {
        "id": "E6Nn7-k4kaqD"
      },
      "source": [
        "## Indexing Options for <code>DataFrame</code>\n",
        "\n",
        "<img src=\"https://github.com/fpinell/hands_on_python_for_ds/blob/main/notebooks/img/pd_indexing.png?raw=1\" width=\"50%\" align=\"center\"/>"
      ]
    },
    {
      "cell_type": "markdown",
      "metadata": {
        "id": "jx0ljH5skaqD"
      },
      "source": [
        "## Arithmetic and Data Alignment\n",
        "\n",
        "-  An important <code>**pandas**</code> feature is the behavior of arithmetic between objects with different indexes.\n",
        "\n",
        "-  When adding together objects, if any index pairs are not the same, the respective index in the result will be the **union** of the index pairs. \n",
        "\n",
        "-  For users with database experience, this is similar to an automatic **outer join** on the index labels.\n",
        "\n",
        "-  The internal data alignment introduces <code>**NaN**</code> values in the label locations that don't overlap."
      ]
    },
    {
      "cell_type": "code",
      "metadata": {
        "id": "9bRonIBKkaqD"
      },
      "source": [
        "\"\"\"\n",
        "Consider the following two Series objects.\n",
        "\"\"\"\n",
        "s1 = pd.Series([7.3, -2.5, 3.4, 1.5], index=['a', 'c', 'd', 'e'])\n",
        "s2 = pd.Series([-2.1, 3.6, -1.5, 4, 3.1], index=['a', 'c', 'e', 'f', 'g'])\n",
        "# Let's try to add s1 to s2 as follows.\n",
        "print(s1 + s2)"
      ],
      "execution_count": null,
      "outputs": []
    },
    {
      "cell_type": "code",
      "metadata": {
        "id": "4I52wysBkaqD"
      },
      "source": [
        "\"\"\"\n",
        "In the case of DataFrame, alignment is performed on both the rows and the columns.\n",
        "\"\"\"\n",
        "df1 = pd.DataFrame(np.arange(9.).reshape((3, 3)), columns=list('bcd'), \n",
        "                   index=['Ohio', 'Texas', 'Colorado'])\n",
        "print(df1)"
      ],
      "execution_count": null,
      "outputs": []
    },
    {
      "cell_type": "code",
      "metadata": {
        "id": "YcskkaZtkaqD"
      },
      "source": [
        "df2 = pd.DataFrame(np.arange(12.).reshape((4, 3)), columns=list('bde'),\n",
        "                   index=['Utah', 'Ohio', 'Texas', 'Oregon'])\n",
        "print(df2)"
      ],
      "execution_count": null,
      "outputs": []
    },
    {
      "cell_type": "code",
      "metadata": {
        "id": "kkeMYK2gkaqE"
      },
      "source": [
        "\"\"\"\n",
        "Adding these together returns a DataFrame whose index and columns\n",
        "are the union of the ones in each DataFrame.\n",
        "\"\"\"\n",
        "print(df1 + df2)"
      ],
      "execution_count": null,
      "outputs": []
    },
    {
      "cell_type": "code",
      "metadata": {
        "id": "RHTOEBoukaqE"
      },
      "source": [
        "\"\"\"\n",
        "In arithmetic operations between differently-indexed objects, \n",
        "you might want to fill with a special value, like 0, when an axis label \n",
        "is found in one object but not the other.\n",
        "\"\"\"\n",
        "df1 = pd.DataFrame(np.arange(12.).reshape((3, 4)), columns=list('abcd'))\n",
        "print(df1)"
      ],
      "execution_count": null,
      "outputs": []
    },
    {
      "cell_type": "code",
      "metadata": {
        "id": "JBWuQ1n7kaqE"
      },
      "source": [
        "\"\"\"\n",
        "In arithmetic operations between differently-indexed objects, \n",
        "you might want to fill with a special value, like 0, when an axis label \n",
        "is found in one object but not the other.\n",
        "\"\"\"\n",
        "df2 = pd.DataFrame(np.arange(20.).reshape((4, 5)), columns=list('abcde'))\n",
        "print(df2)"
      ],
      "execution_count": null,
      "outputs": []
    },
    {
      "cell_type": "code",
      "metadata": {
        "id": "PZOFhaj7kaqE"
      },
      "source": [
        "\"\"\"\n",
        "In arithmetic operations between differently-indexed objects, \n",
        "you might want to fill with a special value, like 0, when an axis label \n",
        "is found in one object but not the other.\n",
        "\"\"\"\n",
        "# df1 + df2 will result in NaN on those unmatched indices\n",
        "print(df1 + df2)"
      ],
      "execution_count": null,
      "outputs": []
    },
    {
      "cell_type": "code",
      "metadata": {
        "id": "cqiMd6xZkaqF"
      },
      "source": [
        "\"\"\"\n",
        "In arithmetic operations between differently-indexed objects, \n",
        "you might want to fill with a special value, like 0, when an axis label \n",
        "is found in one object but not the other.\n",
        "\"\"\"\n",
        "# Using the add method on df1, we pass df2 and an argument to fill_value\n",
        "print(df1.add(df2, fill_value=0))"
      ],
      "execution_count": null,
      "outputs": []
    },
    {
      "cell_type": "markdown",
      "metadata": {
        "id": "gn5XIHDwkaqF"
      },
      "source": [
        "## Arithmetic Operations\n",
        "\n",
        "<center>![](./img/pd_arithmetics.png)</center>"
      ]
    },
    {
      "cell_type": "markdown",
      "metadata": {
        "id": "dnXOKhyTkaqF"
      },
      "source": [
        "## Operations between <code>DataFrame</code> and <code>Series</code>\n",
        "\n",
        "-  As with <code>**numpy**</code> arrays of different dimensions, arithmetic between <code>**DataFrame**</code> and <code>**Series**</code> is also defined.\n",
        "\n",
        "-  Let's first recall again how this works with <code>**numpy**</code>."
      ]
    },
    {
      "cell_type": "code",
      "metadata": {
        "id": "EsCAvx2ikaqF"
      },
      "source": [
        "# Let's define a two-dimensional numpy array (i.e., a 3-by-4 matrix)\n",
        "X = np.arange(12).reshape(3,4)\n",
        "print(\"X =\\n{}\".format(X))\n",
        "# Let's define a one-dimensional numpy array (i.e., a 3-by-1 vector)\n",
        "y = np.arange(3).reshape(3,1)\n",
        "print(\"y =\\n{}\".format(y))\n",
        "print()\n",
        "print(\"X - y =\\n{}\".format(X-y))"
      ],
      "execution_count": null,
      "outputs": []
    },
    {
      "cell_type": "code",
      "metadata": {
        "id": "wTjjNRP0kaqF"
      },
      "source": [
        "\"\"\"\n",
        "Let's see the same yet applied to a pandas DataFrame and a Series.\n",
        "\"\"\"\n",
        "df = pd.DataFrame(np.arange(12.).reshape((4, 3)), columns=list('bde'),\n",
        "                     index=['Utah', 'Ohio', 'Texas', 'Oregon'])\n",
        "\n",
        "print(\"DataFrame:\\n{}\".format(df))\n",
        "print()\n",
        "s = df.iloc[0]\n",
        "print(\"Series:\\n{}\".format(s))"
      ],
      "execution_count": null,
      "outputs": []
    },
    {
      "cell_type": "code",
      "metadata": {
        "scrolled": true,
        "id": "QX82D_JwkaqG"
      },
      "source": [
        "\"\"\"\n",
        "By default, arithmetic between DataFrame and Series matches the index of the Series \n",
        "on the DataFrame's columns, broadcasting down the rows.\n",
        "\"\"\"\n",
        "print(df - s)"
      ],
      "execution_count": null,
      "outputs": []
    },
    {
      "cell_type": "code",
      "metadata": {
        "id": "U0XfwRrQkaqG"
      },
      "source": [
        "\"\"\"\n",
        "If an index value is not found in either the DataFrame's columns or the Series's index, \n",
        "the objects will be reindexed to form the union.\n",
        "\"\"\"\n",
        "s2 = pd.Series(range(3), index=['b', 'e', 'f'])\n",
        "print(df + s2)"
      ],
      "execution_count": null,
      "outputs": []
    },
    {
      "cell_type": "code",
      "metadata": {
        "id": "M7vwwRLRkaqG"
      },
      "source": [
        "\"\"\"\n",
        "If we want to instead broadcast over the columns, matching on the rows, \n",
        "you have to use one of the arithmetic methods. For example:\n",
        "\"\"\"\n",
        "# Get a Series corresponding to the 'd' column\n",
        "s3 = df['d']\n",
        "print(s3)\n",
        "# Subtract from the DataFrame the Series just extracted using axis\n",
        "# The axis number is the axis to match on. \n",
        "# In this case we mean to match on the DataFrame's row index (axis=0) and broadcast across.\n",
        "diff_df = df.sub(s3, axis=0) # sub creates a new object\n",
        "print(diff_df)"
      ],
      "execution_count": null,
      "outputs": []
    },
    {
      "cell_type": "markdown",
      "metadata": {
        "id": "S75oP0EvkaqG"
      },
      "source": [
        "## Function Application"
      ]
    },
    {
      "cell_type": "code",
      "metadata": {
        "id": "YFgr_hpAkaqH"
      },
      "source": [
        "\"\"\"\n",
        "numpy ufuncs (element-wise array methods) also work with pandas objects.\n",
        "\"\"\"\n",
        "df = pd.DataFrame(np.random.randn(4, 3), columns=list('bde'),\n",
        "                     index=['Utah', 'Ohio', 'Texas', 'Oregon'])\n",
        "print(df)\n",
        "print()\n",
        "print(np.abs(df))"
      ],
      "execution_count": null,
      "outputs": []
    },
    {
      "cell_type": "code",
      "metadata": {
        "id": "Oa-tRsuPkaqH"
      },
      "source": [
        "\"\"\"\n",
        "Another frequent operation is applying a function on 1-D arrays to each column or row. \n",
        "DataFrame's 'apply' method does exactly this.\n",
        "\"\"\"\n",
        "# Define an anonymous (i.e., lambda) function\n",
        "# Note that the argument x here is meant to be an array (not a scalar!)\n",
        "f = lambda x: x.max() - x.min()\n",
        "# Apply the lambda function column-wise (default)\n",
        "print(\"Column-wise application of lambda:\\n{}\".format(df.apply(f))) \n",
        "# equals to df.apply(f, axis=0)\n",
        "print()\n",
        "# Apply the lambda function row-wise\n",
        "print(\"Row-wise application of lambda:\\n{}\".format(df.apply(f, axis=1)))"
      ],
      "execution_count": null,
      "outputs": []
    },
    {
      "cell_type": "markdown",
      "metadata": {
        "id": "0GjfVEYdkaqH"
      },
      "source": [
        "## <code>apply</code>\n",
        "\n",
        "-  The function passed to <code>**apply**</code> is expected to work on a one-dimensional array of data (i.e., a <code>**Series**</code>) as input.\n",
        "\n",
        "-  It **does not** need to necessarily return a scalar value as output, in fact it can also return a <code>**Series**</code> with multiple values.\n",
        "\n",
        "-  Many of the most common array statistics (like <code>**sum**</code> and <code>**mean**</code>) are <code>**DataFrame**</code> built-in methods, therefore using <code>**apply**</code> is **not** necessary."
      ]
    },
    {
      "cell_type": "code",
      "metadata": {
        "id": "RfsJepW3kaqH"
      },
      "source": [
        "\"\"\"\n",
        "Consider the following function which returns a Series instead of a scalar value.\n",
        "\"\"\"\n",
        "def foo(x):\n",
        "    return pd.Series([x.min(), x.max()], index=['min', 'max'])\n",
        "\n",
        "print(df.apply(foo))"
      ],
      "execution_count": null,
      "outputs": []
    },
    {
      "cell_type": "markdown",
      "metadata": {
        "id": "G1nU916lkaqH"
      },
      "source": [
        "## <code>applymap</code>\n",
        "\n",
        "-  Sometimes, we may want to apply a function to each element of the <code>**DataFrame**</code>.\n",
        "\n",
        "-  In other words, the input of the function to be applied is a scalar rather than a one-dimensional array.\n",
        "\n",
        "-  <code>**applymap**</code> is the function to be used!"
      ]
    },
    {
      "cell_type": "code",
      "metadata": {
        "id": "oUy_-QTckaqI"
      },
      "source": [
        "\"\"\"\n",
        "For example, suppose we want to apply a string format to each element of a DataFrame.\n",
        "\"\"\"\n",
        "# define the function to be applied\n",
        "str_format = lambda x: '%.2f' % x\n",
        "\n",
        "print(df.applymap(str_format))"
      ],
      "execution_count": null,
      "outputs": []
    },
    {
      "cell_type": "markdown",
      "metadata": {
        "id": "_NNFbyEAkaqI"
      },
      "source": [
        "## <code>map</code>\n",
        "\n",
        "-  The <code>**applymap**</code> function above is implemented through the <code>**map**</code> function available for <code>**Series**</code> objects.\n",
        "\n",
        "-  In other words, <code>**map**</code> is the <code>**Series**</code>' corresponding of <code>**DataFrame**</code>'s <code>**applymap**</code>."
      ]
    },
    {
      "cell_type": "code",
      "metadata": {
        "id": "iIae1vhBkaqI"
      },
      "source": [
        "# Now the function `str_format` is passed as input to Series' `map` function\n",
        "df['e'].map(str_format)"
      ],
      "execution_count": null,
      "outputs": []
    },
    {
      "cell_type": "markdown",
      "metadata": {
        "id": "FKjC_yQTkaqI"
      },
      "source": [
        "## <code>**apply**</code>, <code>**applymap**</code>, and <code>**map**</code>\n",
        "\n",
        "\n",
        "Summing up, <code>**apply**</code> works on a row/column basis of a <code>**DataFrame**</code>, <code>**applymap**</code> works element-wise on a <code>**DataFrame**</code>, and <code>**map**</code> works element-wise on a <code>**Series**</code>."
      ]
    },
    {
      "cell_type": "markdown",
      "metadata": {
        "id": "4W71Ga5WkaqI"
      },
      "source": [
        "## Sorting by Index Using <code>sort_index</code>\n",
        "\n",
        "-  To sort lexicographically by row or column index, use the <code>**sort_index**</code> method, which returns a **new**, sorted object (i.e., not *in-place* sorting).\n",
        "\n",
        "-  <code>**sort_index**</code> works both for <code>**Series**</code> and <code>**DataFrame**</code> objects, with the latter we can sort by index on either axis.\n",
        "\n",
        "-  By default, data is sorted in **ascending order**, but can be sorted in descending order as well by calling the <code>**sort_index**</code> method with <code>**ascending=False**</code> argument."
      ]
    },
    {
      "cell_type": "code",
      "metadata": {
        "id": "BgEb1EGIkaqJ"
      },
      "source": [
        "\"\"\"\n",
        "Usage of sort_index in Series objects.\n",
        "\"\"\"\n",
        "# Define a Series object\n",
        "s = pd.Series(range(4), index=['d', 'a', 'c', 'b'])\n",
        "print(\"Original Series:\\n{}\".format(s))\n",
        "print()\n",
        "print(\"Sort Series by index:\\n{}\".format(s.sort_index()))"
      ],
      "execution_count": null,
      "outputs": []
    },
    {
      "cell_type": "code",
      "metadata": {
        "id": "xEPGfRETkaqJ"
      },
      "source": [
        "\"\"\"\n",
        "Using sort_index with DataFrame objects, we can specify which axis the index refers to.\n",
        "\"\"\"\n",
        "# Create a DataFrame object\n",
        "df = pd.DataFrame(np.arange(8).reshape((2, 4)), index=['three', 'one'],\n",
        "                     columns=['d', 'a', 'b', 'c'])\n",
        "print(\"Original DataFrame:\\n{}\".format(df))\n",
        "print()\n",
        "# By default, sort_index operates on axis 0 (i.e., rows)\n",
        "print(\"Sort DataFrame by row index:\\n{}\".format(df.sort_index()))"
      ],
      "execution_count": null,
      "outputs": []
    },
    {
      "cell_type": "code",
      "metadata": {
        "id": "DVjs1ovQkaqJ"
      },
      "source": [
        "print(\"Original DataFrame:\\n{}\".format(df))\n",
        "print()\n",
        "# sort_index can also operate on axis 1 (i.e., columns)\n",
        "print(\"Sort DataFrame by column index:\\n{}\".format(df.sort_index(axis=1)))"
      ],
      "execution_count": null,
      "outputs": []
    },
    {
      "cell_type": "markdown",
      "metadata": {
        "id": "RnBEzLjNkaqJ"
      },
      "source": [
        "## Sorting by Values Using <code>sort_values</code> \n",
        "\n",
        "-  Both <code>**Series**</code> and <code>**DataFrame**</code> objects can be sorted by **values** using the <code>**sort_values**</code> method.\n",
        "\n",
        "-  Sorting the values of a <code>**Series**</code> behaves as expected; by convention, any missing values (<code>**NaN**</code>) are placed at the end of the sorted object.\n",
        "\n",
        "-  When sorting a <code>**DataFrame**</code>, we can use one or more columns as the sort keys. To do so, we need to pass one or more column names as input arguments of <code>**sort_values**</code>.\n",
        "\n",
        "-  Again, sorting happens to be in **ascending order** by default but this can be changed using the <code>**ascending=False**</code> argument."
      ]
    },
    {
      "cell_type": "code",
      "metadata": {
        "id": "E6KhJ_l7kaqJ"
      },
      "source": [
        "\"\"\"\n",
        "Apply sort_values to a Seres object.\n",
        "\"\"\"\n",
        "# Create a Series object\n",
        "s = pd.Series([4, 7, -3, 2])\n",
        "print(\"Original Series:\\n{}\".format(s))\n",
        "print()\n",
        "print(\"Sort Series by values:\\n{}\".format(s.sort_values()))"
      ],
      "execution_count": null,
      "outputs": []
    },
    {
      "cell_type": "code",
      "metadata": {
        "id": "kz-sPFz8kaqK"
      },
      "source": [
        "\"\"\"\n",
        "Apply sort_values to a Seres object which contains missing values.\n",
        "\"\"\"\n",
        "# Create a Series object with missing values\n",
        "s = pd.Series([4, np.nan, 5, -1, np.nan, 2])\n",
        "print(\"Original Series:\\n{}\".format(s))\n",
        "print()\n",
        "print(\"Sort Series by values:\\n{}\".format(s.sort_values()))"
      ],
      "execution_count": null,
      "outputs": []
    },
    {
      "cell_type": "code",
      "metadata": {
        "id": "IToxHguYkaqK"
      },
      "source": [
        "\"\"\"\n",
        "Apply sort_values to a DataFrame object.\n",
        "\"\"\"\n",
        "# Create a DataFrame object\n",
        "df = pd.DataFrame({'b': [4, 7, -3, 2], 'a': [0, 1, 0, 1]})\n",
        "print(\"Original DataFrame:\\n{}\".format(df))\n",
        "print()\n",
        "# Sort values by a single column\n",
        "print(\"Sort DataFrame by values contained in column 'b':\\n{}\"\n",
        "      .format(df.sort_values(by='b')))"
      ],
      "execution_count": null,
      "outputs": []
    },
    {
      "cell_type": "code",
      "metadata": {
        "id": "j500kzLXkaqK"
      },
      "source": [
        "# Sort values by multiple columns\n",
        "print(\"Sort DataFrame by values contained in 2 columns 'a' and 'b':\\n{}\"\n",
        "      .format(df.sort_values(by=['a','b'])))\n",
        "print()\n",
        "print(\"Sort DataFrame by values contained in 2 columns 'a' and 'b' (not ascending):\\n{}\"\n",
        "      .format(df.sort_values(by=['a','b'], ascending=False)))"
      ],
      "execution_count": null,
      "outputs": []
    },
    {
      "cell_type": "markdown",
      "metadata": {
        "id": "iukfkQ-AkaqK"
      },
      "source": [
        "## Summarizing and Computing Descriptive Statistics\n",
        "\n",
        "-  <code>**pandas**</code> objects are equipped with a set of common mathematical and statistical methods. \n",
        "\n",
        "-  Most of these fall into the category of **reductions** or **summary statistics**\n",
        "\n",
        "-  Methods that extract a single value (like the **sum** or **mean**) from a <code>**Series**</code> or a <code>**Series**</code> of values from the rows or columns of a <code>**DataFrame**</code>. \n",
        "\n",
        "-  Compared with the similar methods of <code>**numpy**</code> arrays, they have built-in handling for missing data. "
      ]
    },
    {
      "cell_type": "code",
      "metadata": {
        "id": "vJ1taD4ckaqL"
      },
      "source": [
        "# Consider a DataFrame object as follows\n",
        "df = pd.DataFrame([[1.4, np.nan], [7.1, -4.5], [np.nan, np.nan], [0.75, -1.3]], \n",
        "                  index=['a', 'b', 'c', 'd'], columns=['one', 'two'])\n",
        "print(df)"
      ],
      "execution_count": null,
      "outputs": []
    },
    {
      "cell_type": "code",
      "metadata": {
        "id": "BSyE8XRwkaqL"
      },
      "source": [
        "# By default, aggregation function operates on axis 0 (i.e., rows) as usual\n",
        "# For example, calling the sum method returns a Series containing column-wise sums.\n",
        "print(\"Column-wise sum:\\n{}\".format(df.sum()))\n",
        "print()\n",
        "# Instead, if we want row-wise sum, we can of course specify axis=1.\n",
        "print(\"Row-wise sum:\\n{}\".format(df.sum(axis=1)))"
      ],
      "execution_count": null,
      "outputs": []
    },
    {
      "cell_type": "code",
      "metadata": {
        "id": "SVsNzoAykaqL"
      },
      "source": [
        "# Note that NaN values are excluded unless the entire slice (row or column) is NaN. \n",
        "# This can be disabled using the skipna option.\n",
        "print(\"Row-wise Average including NaN:\\n{}\".format(df.mean(axis=1, skipna=False)))"
      ],
      "execution_count": null,
      "outputs": []
    },
    {
      "cell_type": "code",
      "metadata": {
        "id": "wpqk9kRQkaqL"
      },
      "source": [
        "\"\"\"\n",
        "A useful method is 'describe' which provides multiple summary statistics in one shot.\n",
        "\"\"\"\n",
        "print(df.describe())"
      ],
      "execution_count": null,
      "outputs": []
    },
    {
      "cell_type": "code",
      "metadata": {
        "id": "8clJjyMskaqL"
      },
      "source": [
        "\"\"\"\n",
        "If the Series or DataFrame object does not contain numeric data \n",
        "other statistics are produced.\n",
        "\"\"\"\n",
        "# Let's create a Series object containing non-numeric data\n",
        "s = pd.Series(['a', 'a', 'b', 'c'] * 4)\n",
        "print(\"Original Series:\\n{}\".format(s))"
      ],
      "execution_count": null,
      "outputs": []
    },
    {
      "cell_type": "code",
      "metadata": {
        "id": "kjdp-rO2kaqM"
      },
      "source": [
        "# Now, let's call the describe method\n",
        "print(s.describe())"
      ],
      "execution_count": null,
      "outputs": []
    },
    {
      "cell_type": "markdown",
      "metadata": {
        "id": "uq1DhtB_kaqM"
      },
      "source": [
        "## Table of Descriptive and Summary Statistics (1 of 2)\n",
        "\n",
        "<img src=\"https://github.com/fpinell/hands_on_python_for_ds/blob/main/notebooks/img/pd_aggregate_stats_1.png?raw=1\" width=\"50%\" align=\"center\"/>"
      ]
    },
    {
      "cell_type": "markdown",
      "metadata": {
        "id": "ZlQgOrF_kaqM"
      },
      "source": [
        "## Table of Descriptive and Summary Statistics (2 of 2)\n",
        "\n",
        "<img src=\"https://github.com/fpinell/hands_on_python_for_ds/blob/main/notebooks/img/pd_aggregate_stats_2.png?raw=1\" width=\"50%\" align=\"center\"/>"
      ]
    },
    {
      "cell_type": "markdown",
      "metadata": {
        "id": "AWj1DArykaqM"
      },
      "source": [
        "## Unique Values, Value Counts, and Membership\n",
        "\n",
        "-  <code>**unique**</code> is a function that gives you an array of the unique values in a <code>**Series**</code>.\n",
        "\n",
        "-  The unique values are not necessarily returned in sorted order, but could be sorted afterwards (e.g., by calling <code>**np.sort()**</code>).\n",
        "\n",
        "-  <code>**value_counts**</code> computes a <code>**Series**</code> containing value frequencies.\n",
        "\n",
        "-  <code>**isin**</code> performs a vectorized set membership check."
      ]
    },
    {
      "cell_type": "code",
      "metadata": {
        "id": "pdOdrddVkaqM"
      },
      "source": [
        "\"\"\"\n",
        "Usage of unique method.\n",
        "\"\"\"\n",
        "# Create a Series object\n",
        "s = pd.Series(['c', 'a', 'd', 'a', 'a', 'b', 'b', 'c', 'c'])\n",
        "# Get unique values and store them in a variable\n",
        "uniques = s.unique()\n",
        "print(\"Unique values are: {}\".format(uniques))\n",
        "print(\"Unique sorted values are: {}\".format(np.sort(uniques)))"
      ],
      "execution_count": null,
      "outputs": []
    },
    {
      "cell_type": "code",
      "metadata": {
        "id": "SccfeUqLkaqM"
      },
      "source": [
        "\"\"\"\n",
        "Usage of value_counts method.\n",
        "\"\"\"\n",
        "# Either as a method\n",
        "print(\"Value counts:\\n{}\".format(s.value_counts(sort=False)))\n",
        "print()\n",
        "# Or as a built-in pandas function\n",
        "print(\"Value counts:\\n{}\".format(pd.value_counts(s, sort=False)))"
      ],
      "execution_count": null,
      "outputs": []
    },
    {
      "cell_type": "code",
      "metadata": {
        "id": "hnNICbaukaqN"
      },
      "source": [
        "\"\"\"\n",
        "Usage of isin method.\n",
        "\"\"\"\n",
        "# Create a boolean mask\n",
        "mask = s.isin(['b', 'c'])\n",
        "print(\"Boolean mask:\\n{}\".format(mask))\n",
        "print()\n",
        "print(\"Accessing elements of the Series object using the mask:\\n{}\".format(s[mask]))"
      ],
      "execution_count": null,
      "outputs": []
    },
    {
      "cell_type": "code",
      "metadata": {
        "id": "LPp5jWO6kaqN"
      },
      "source": [
        "\"\"\"\n",
        "Many times, it will be useful to compute a histogram on multiple columns in a DataFrame.\n",
        "\"\"\"\n",
        "data = pd.DataFrame({'Q1': [1, 3, 4, 3, 4],\n",
        "                     'Q2': [2, 3, 1, 2, 3],\n",
        "                     'Q3': [1, 5, 2, 4, 4]})\n",
        "\n",
        "print(\"Original dataset:\\n{}\".format(data))\n",
        "print()\n",
        "# Passing pandas.value_counts to this DataFrame's apply function gives the following\n",
        "freq = data.apply(pd.value_counts).fillna(0)\n",
        "print(\"Column-wise frequency table:\\n{}\".format(freq))"
      ],
      "execution_count": null,
      "outputs": []
    },
    {
      "cell_type": "code",
      "metadata": {
        "id": "c0XSGUFNkaqN"
      },
      "source": [
        "# If we specify axis=1 the frequency is computed row-wise\n",
        "freq = data.apply(pd.value_counts, axis=1).fillna(0)\n",
        "print(\"Row-wise frequency table:\\n{}\".format(freq))"
      ],
      "execution_count": null,
      "outputs": []
    },
    {
      "cell_type": "markdown",
      "metadata": {
        "id": "_r3WO8XtkaqN"
      },
      "source": [
        "## Table of Unique, Value Counts, and Set Membership Methods\n",
        "\n",
        "<img src=\"https://github.com/fpinell/hands_on_python_for_ds/blob/main/notebooks/img/pd_freq.png?raw=1\" width=\"50%\" align=\"center\"/>"
      ]
    }
  ]
}