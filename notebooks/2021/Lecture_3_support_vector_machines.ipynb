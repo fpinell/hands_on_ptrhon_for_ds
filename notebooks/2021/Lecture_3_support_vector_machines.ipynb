{
  "nbformat": 4,
  "nbformat_minor": 0,
  "metadata": {
    "kernelspec": {
      "display_name": "Python 3",
      "language": "python",
      "name": "python3"
    },
    "language_info": {
      "codemirror_mode": {
        "name": "ipython",
        "version": 3
      },
      "file_extension": ".py",
      "mimetype": "text/x-python",
      "name": "python",
      "nbconvert_exporter": "python",
      "pygments_lexer": "ipython3",
      "version": "3.8.5"
    },
    "nav_menu": {},
    "toc": {
      "navigate_menu": true,
      "number_sections": true,
      "sideBar": true,
      "threshold": 6,
      "toc_cell": false,
      "toc_section_display": "block",
      "toc_window_display": false
    },
    "colab": {
      "name": "Lecture_3_support_vector_machines.ipynb",
      "provenance": [],
      "toc_visible": true,
      "include_colab_link": true
    }
  },
  "cells": [
    {
      "cell_type": "markdown",
      "metadata": {
        "id": "view-in-github",
        "colab_type": "text"
      },
      "source": [
        "<a href=\"https://colab.research.google.com/github/fpinell/hands_on_python_for_ds/blob/main/notebooks/Lecture_3_support_vector_machines.ipynb\" target=\"_parent\"><img src=\"https://colab.research.google.com/assets/colab-badge.svg\" alt=\"Open In Colab\"/></a>"
      ]
    },
    {
      "cell_type": "markdown",
      "metadata": {
        "id": "ZBXI8TXQQZNu"
      },
      "source": [
        "# Hands on Python for Data Science\n",
        "\n",
        "\n",
        "### Master II Livello - Data Science and Statistical Learning (MD2SL) 2020-2021\n",
        "\n",
        "#### Fabio Pinelli\n",
        "<a href=\"mailto:fabio.pinelli@imtlucca.it\">fabio.pinelli@imtlucca.it</a><br/>\n",
        "IMT School for Advanced Studies Lucca<br/>\n",
        "2020/2021<br/>\n",
        "June, 19 2021"
      ]
    },
    {
      "cell_type": "markdown",
      "metadata": {
        "id": "-uPPZsEJRImA"
      },
      "source": [
        "# Support Vector Machine\n",
        "- Various setting for Support Vector Machine for **classification**\n",
        "- ... and **regression**"
      ]
    },
    {
      "cell_type": "markdown",
      "metadata": {
        "id": "lA1OBLdPQZNx"
      },
      "source": [
        "## Taxonomy of ML\n",
        "\n",
        "-  Roughly speaking there are two main **categories** of ML tasks:\n",
        "\n",
        "    1.  **Supervised Learning**: Given a set of **labeled** examples, **predict** the labels of _new and unseen_ examples\n",
        "    2.  **Unsupervised Learning**: Given a set of examples, **find structure** in the data (e.g., _clusters_, _subspaces_, _manifolds_)"
      ]
    },
    {
      "cell_type": "markdown",
      "metadata": {
        "id": "EAu6gw5ERqby"
      },
      "source": [
        "## Supervised learning\n",
        "The main difference between **Regression** and **Classification** algorithms that: \n",
        "- **Regression** algorithms are used to predict the _continuous values_ such as price, salary, age, etc. and\n",
        "- **Classification** algorithms are used to predict/Classify the _discrete values_ such as Male or Female, True or False, Spam or Not Spam, etc."
      ]
    },
    {
      "cell_type": "markdown",
      "metadata": {
        "id": "20YwxiseVFbm"
      },
      "source": [
        "## Support Vector Machine (SVM)\n",
        "- One of the most used method for *supervised learning* \n",
        "- Linear and non-linear *classification*\n",
        "- Linear and non-linear *regression*\n",
        "- It can be used for outlier detection"
      ]
    },
    {
      "cell_type": "markdown",
      "metadata": {
        "id": "Q5mweHAIQZNz"
      },
      "source": [
        "## Setup"
      ]
    },
    {
      "cell_type": "code",
      "metadata": {
        "id": "L4Nu8-irQZN4"
      },
      "source": [
        "# Python ≥3.5 is required\n",
        "import sys\n",
        "assert sys.version_info >= (3, 5)\n",
        "\n",
        "# Scikit-Learn ≥0.20 is required\n",
        "import sklearn\n",
        "assert sklearn.__version__ >= \"0.20\"\n",
        "\n",
        "# Common imports\n",
        "import numpy as np\n",
        "import os\n",
        "\n",
        "# to make this notebook's output stable across runs\n",
        "np.random.seed(42)\n",
        "\n",
        "# To plot pretty figures\n",
        "%matplotlib inline\n",
        "import matplotlib as mpl\n",
        "import matplotlib.pyplot as plt\n",
        "mpl.rc('axes', labelsize=14)\n",
        "mpl.rc('xtick', labelsize=12)\n",
        "mpl.rc('ytick', labelsize=12)\n",
        "\n",
        "# Where to save the figures\n",
        "PROJECT_ROOT_DIR = \".\"\n",
        "CHAPTER_ID = \"svm\"\n",
        "IMAGES_PATH = os.path.join(PROJECT_ROOT_DIR, \"images\", CHAPTER_ID)\n",
        "os.makedirs(IMAGES_PATH, exist_ok=True)\n",
        "\n",
        "def save_fig(fig_id, tight_layout=True, fig_extension=\"png\", resolution=300):\n",
        "    path = os.path.join(IMAGES_PATH, fig_id + \".\" + fig_extension)\n",
        "    print(\"Saving figure\", fig_id)\n",
        "    if tight_layout:\n",
        "        plt.tight_layout()\n",
        "    plt.savefig(path, format=fig_extension, dpi=resolution)"
      ],
      "execution_count": 1,
      "outputs": []
    },
    {
      "cell_type": "markdown",
      "metadata": {
        "id": "8TecDysFpFZP"
      },
      "source": [
        "The ```python class SVC``` signature with its default values\n",
        "\n",
        "```python\n",
        "\n",
        "class sklearn.svm.SVC(*, C=1.0, kernel='rbf', degree=3, \n",
        "                      gamma='scale', coef0=0.0, shrinking=True, \n",
        "                      probability=False, tol=0.001, cache_size=200,\n",
        "                      class_weight=None, verbose=False, \\\n",
        "                      max_iter=- 1, decision_function_shape='ovr',\n",
        "                      break_ties=False, random_state=None)\n",
        "\n",
        "```\n",
        "You can find all the details of the paramenters [here](https://scikit-learn.org/stable/modules/generated/sklearn.svm.SVC.html)\n",
        "\n",
        "\n",
        "\n"
      ]
    },
    {
      "cell_type": "markdown",
      "metadata": {
        "id": "uwB9l1L6QZN7"
      },
      "source": [
        "## Large margin classification"
      ]
    },
    {
      "cell_type": "markdown",
      "metadata": {
        "id": "RxmDQ2PLQZN-"
      },
      "source": [
        "We start with a simple classification problem, in order to understand how the SVM classifier works, and how we can *play* with it.\n",
        "\n",
        "We use the same dataset of flowers used for the clustering -- so that we are already familiar with it. \n",
        "\n",
        "\n",
        "**Note**: we use numpy arrays, are you able to do it on ```pandas```?\n"
      ]
    },
    {
      "cell_type": "code",
      "metadata": {
        "colab": {
          "base_uri": "https://localhost:8080/"
        },
        "id": "87BvWN5BQZN_",
        "outputId": "9db6802f-66b2-4c13-ecb1-6a874a1a8bfd"
      },
      "source": [
        "from sklearn.svm import SVC #import SVM classifier\n",
        "from sklearn import datasets\n",
        "\n",
        "iris = datasets.load_iris()\n",
        "\n",
        "#How to select slice the numpy arrays\n",
        "#[rows_start:row_end,column_start:column_end]\n",
        "#[:,:] notation means all the rows, all the columns\n",
        "#X = iris[\"data\"][:, (2, 3)]\n",
        "\n",
        "X = iris[\"data\"][:, (2, 3)]  # petal length, petal width\n",
        "y = iris[\"target\"]\n",
        "\n",
        "'''\n",
        "let's build a classifier, we select just to type of iris, and we want to predict\n",
        "if it is a setos or a versicolor (0 or 1)\n",
        "'''\n",
        "setosa_or_versicolor = (y == 0) | (y == 1)\n",
        "X = X[setosa_or_versicolor]\n",
        "y = y[setosa_or_versicolor]\n",
        "\n",
        "# SVM Classifier model\n",
        "svm_clf = SVC(kernel=\"linear\", C=float(\"inf\"))\n",
        "svm_clf.fit(X, y)"
      ],
      "execution_count": null,
      "outputs": [
        {
          "output_type": "execute_result",
          "data": {
            "text/plain": [
              "SVC(C=inf, break_ties=False, cache_size=200, class_weight=None, coef0=0.0,\n",
              "    decision_function_shape='ovr', degree=3, gamma='scale', kernel='linear',\n",
              "    max_iter=-1, probability=False, random_state=None, shrinking=True,\n",
              "    tol=0.001, verbose=False)"
            ]
          },
          "metadata": {
            "tags": []
          },
          "execution_count": 40
        }
      ]
    },
    {
      "cell_type": "code",
      "metadata": {
        "colab": {
          "base_uri": "https://localhost:8080/",
          "height": 255
        },
        "id": "rb963C4CQZOB",
        "outputId": "11becb7b-2754-46cd-a116-8b88d467a578"
      },
      "source": [
        "'''\n",
        "We define 3 possible models that can be evaluated against our dataset. \n",
        "The performance is visually evaluated. \n",
        "The first one (dashed lines) doesn't divide the two classes. \n",
        "The second and third work perfectly on this set of instances but their decision \n",
        "boundary is so close to instances that they will not perform well on new data.\n",
        "\n",
        "The plot on the right shows the results of the SVC where the solid line represent \n",
        "its decision boundary. \n",
        "- It separates the two classes\n",
        "- It is far away from the training instances so that if new instances are coming\n",
        "they will be probably well classified.\n",
        "'''\n",
        "\n",
        "# Bad models\n",
        "x0 = np.linspace(0, 5.5, 200)\n",
        "pred_1 = 5*x0 - 20\n",
        "pred_2 = x0 - 1.8\n",
        "pred_3 = 0.1 * x0 + 0.5\n",
        "\n",
        "def plot_svc_decision_boundary(svm_clf, xmin, xmax):\n",
        "    '''\n",
        "    plot the decision boundaries of the classifier\n",
        "    \n",
        "    '''\n",
        "    w = svm_clf.coef_[0]\n",
        "    print('shape w coef ({},{})'.format(svm_clf.coef_.shape[0],svm_clf.coef_.shape[1]))\n",
        "    # coef_ndarray of shape (n_classes * (n_classes - 1) / 2, n_features)\n",
        "    # 2 * 1 / 2, 2\n",
        "    # Weights assigned to the features (coefficients in the primal problem). This is only available in the case of a linear kernel.\n",
        "    # coef_ is a readonly property derived from dual_coef_ and support_vectors_.\n",
        "\n",
        "    b = svm_clf.intercept_[0]\n",
        "    # intercept_ndarray of shape (n_classes * (n_classes - 1) / 2,)\n",
        "    # Constants in decision function.\n",
        "    print('shape b coef ({},{})'.format(svm_clf.intercept_.shape[0],svm_clf.coef_.shape[1]))\n",
        "    \n",
        "\n",
        "    # At the decision boundary, w0*x0 + w1*x1 + b = 0\n",
        "    # => x1 = -w0/w1 * x0 - b/w1\n",
        "    x0 = np.linspace(xmin, xmax, 200)\n",
        "    decision_boundary = -w[0]/w[1] * x0 - b/w[1]\n",
        "\n",
        "    margin = 1/w[1]\n",
        "    gutter_up = decision_boundary + margin\n",
        "    gutter_down = decision_boundary - margin\n",
        "\n",
        "    svs = svm_clf.support_vectors_\n",
        "\n",
        "    #The instances that \"support\" the decision boundary\n",
        "\n",
        "    plt.scatter(svs[:, 0], svs[:, 1], s=180, facecolors='#FFAAAA')\n",
        "    plt.plot(x0, decision_boundary, \"k-\", linewidth=2)\n",
        "    plt.plot(x0, gutter_up, \"k--\", linewidth=2)\n",
        "    plt.plot(x0, gutter_down, \"k--\", linewidth=2)\n",
        "\n",
        "fig, axes = plt.subplots(ncols=2, figsize=(10,2.7), sharey=True)\n",
        "\n",
        "plt.sca(axes[0])\n",
        "plt.plot(x0, pred_1, \"g--\", linewidth=2, label='first')\n",
        "plt.plot(x0, pred_2, \"m-\", linewidth=2, label='second')\n",
        "plt.plot(x0, pred_3, \"r-\", linewidth=2, label='third')\n",
        "plt.plot(X[:, 0][y==1], X[:, 1][y==1], \"bs\", label=\"Iris versicolor\")\n",
        "plt.plot(X[:, 0][y==0], X[:, 1][y==0], \"yo\", label=\"Iris setosa\")\n",
        "plt.xlabel(\"Petal length\", fontsize=14)\n",
        "plt.ylabel(\"Petal width\", fontsize=14)\n",
        "plt.legend(loc=\"upper left\", fontsize=10)\n",
        "plt.axis([0, 5.5, 0, 2])\n",
        "\n",
        "plt.sca(axes[1])\n",
        "plot_svc_decision_boundary(svm_clf, 0, 5.5)\n",
        "plt.plot(X[:, 0][y==1], X[:, 1][y==1], \"bs\")\n",
        "plt.plot(X[:, 0][y==0], X[:, 1][y==0], \"yo\")\n",
        "plt.xlabel(\"Petal length\", fontsize=14)\n",
        "plt.axis([0, 5.5, 0, 2])\n",
        "\n",
        "# save_fig(\"large_margin_classification_plot\")\n",
        "plt.show()"
      ],
      "execution_count": null,
      "outputs": [
        {
          "output_type": "stream",
          "text": [
            "shape w coef (1,2)\n",
            "shape b coef (1,2)\n"
          ],
          "name": "stdout"
        },
        {
          "output_type": "display_data",
          "data": {
            "image/png": "[encoded data removed]",
            "text/plain": [
              "<Figure size 720x194.4 with 2 Axes>"
            ]
          },
          "metadata": {
            "tags": [],
            "needs_background": "light"
          }
        }
      ]
    },
    {
      "cell_type": "markdown",
      "metadata": {
        "id": "nYpL1OgRq5qX"
      },
      "source": [
        "The goal of the SVM classifier is to find the widest *possible street* between classes. \n",
        "\n",
        "In this case we speak of *large margin classification*.\n",
        "\n"
      ]
    },
    {
      "cell_type": "markdown",
      "metadata": {
        "id": "CagXqTH9QZOG"
      },
      "source": [
        "## Sensitivity to feature scales\n",
        "\n",
        "SVMs are sensitive to the feature scales.\n",
        "\n"
      ]
    },
    {
      "cell_type": "code",
      "metadata": {
        "colab": {
          "base_uri": "https://localhost:8080/",
          "height": 329
        },
        "id": "qyr-tdrWQZOI",
        "outputId": "1f5b99b6-d26d-489e-ceb6-4cc152c57600"
      },
      "source": [
        "Xs = np.array([[1, 50], [5, 20], [3, 80], [5, 60]]).astype(np.float64)\n",
        "ys = np.array([0, 0, 1, 1])\n",
        "svm_clf = SVC(kernel=\"linear\", C=100)\n",
        "svm_clf.fit(Xs, ys)\n",
        "\n",
        "plt.figure(figsize=(9,2.7))\n",
        "plt.subplot(121)\n",
        "plt.plot(Xs[:, 0][ys==1], Xs[:, 1][ys==1], \"bo\")\n",
        "plt.plot(Xs[:, 0][ys==0], Xs[:, 1][ys==0], \"ms\")\n",
        "plot_svc_decision_boundary(svm_clf, 0, 6)\n",
        "plt.xlabel(\"$x_0$\", fontsize=20)\n",
        "plt.ylabel(\"$x_1$    \", fontsize=20, rotation=0)\n",
        "plt.title(\"Unscaled\", fontsize=16)\n",
        "plt.axis([0, 6, 0, 90])\n",
        "\n",
        "from sklearn.preprocessing import StandardScaler\n",
        "scaler = StandardScaler()\n",
        "X_scaled = scaler.fit_transform(Xs)\n",
        "svm_clf.fit(X_scaled, ys)\n",
        "\n",
        "plt.subplot(122)\n",
        "plt.plot(X_scaled[:, 0][ys==1], X_scaled[:, 1][ys==1], \"bo\")\n",
        "plt.plot(X_scaled[:, 0][ys==0], X_scaled[:, 1][ys==0], \"ms\")\n",
        "plot_svc_decision_boundary(svm_clf, -2, 2)\n",
        "plt.xlabel(\"$x'_0$\", fontsize=20)\n",
        "plt.ylabel(\"$x'_1$  \", fontsize=20, rotation=0)\n",
        "plt.title(\"Scaled\", fontsize=16)\n",
        "plt.axis([-2, 2, -2, 2])\n",
        "\n",
        "# save_fig(\"sensitivity_to_feature_scales_plot\")\n"
      ],
      "execution_count": null,
      "outputs": [
        {
          "output_type": "stream",
          "text": [
            "shape w coef (1,2)\n",
            "shape b coef (1,2)\n",
            "shape w coef (1,2)\n",
            "shape b coef (1,2)\n"
          ],
          "name": "stdout"
        },
        {
          "output_type": "execute_result",
          "data": {
            "text/plain": [
              "(-2.0, 2.0, -2.0, 2.0)"
            ]
          },
          "metadata": {
            "tags": []
          },
          "execution_count": 6
        },
        {
          "output_type": "display_data",
          "data": {
            "image/png": "[encoded data removed]",
            "text/plain": [
              "<Figure size 648x194.4 with 2 Axes>"
            ]
          },
          "metadata": {
            "tags": [],
            "needs_background": "light"
          }
        }
      ]
    },
    {
      "cell_type": "markdown",
      "metadata": {
        "id": "4XavesGqzkKp"
      },
      "source": [
        "### Comments\n",
        "1. In the <font color='red'>*left plot*</font>, the vertical scale is **much larger** than the horizontal one. So, as you can imagine, the *widest possibile street* is *close* to horizontal. \n",
        "\n",
        "2. After performing the *feature scaling*, the decision boundary in the <font color='red'>*right plot*</font> looks much better.\n"
      ]
    },
    {
      "cell_type": "markdown",
      "metadata": {
        "id": "Qrdp8E700z9H"
      },
      "source": [
        "## Soft margin classification"
      ]
    },
    {
      "cell_type": "markdown",
      "metadata": {
        "id": "ktIU-lxSQZOM"
      },
      "source": [
        "### Sensitivity to outliers\n",
        "\n",
        "- In our previous case, all the instances where perfectly classified. \n",
        "- We strictly impose that all the instances must be *off the street* \n",
        "- We call it *Hard margin classification*\n",
        "\n",
        "- What happen if there are *'outliers'*, such as elements that belong to a different class w.r.t. their features? There are mainly two cases:\n",
        "  1. We can't find a hard margin\n",
        "  2. The street is to small that is not able to generalize well."
      ]
    },
    {
      "cell_type": "code",
      "metadata": {
        "colab": {
          "base_uri": "https://localhost:8080/",
          "height": 256
        },
        "id": "3TXtmxjUQZON",
        "outputId": "b65763a9-c893-4c2f-b8cf-f0f01a1f1a38"
      },
      "source": [
        "# We add two outliers, one to test the case 1. \n",
        "# and one to test the case 2.\n",
        "\n",
        "X_outliers = np.array([[3.4, 1.3], [3.2, 0.8]])\n",
        "y_outliers = np.array([0, 0])\n",
        "Xo1 = np.concatenate([X, X_outliers[:1]], axis=0)\n",
        "yo1 = np.concatenate([y, y_outliers[:1]], axis=0)\n",
        "Xo2 = np.concatenate([X, X_outliers[1:]], axis=0)\n",
        "yo2 = np.concatenate([y, y_outliers[1:]], axis=0)\n",
        "\n",
        "svm_clf2 = SVC(kernel=\"linear\", C=10**9)\n",
        "svm_clf2.fit(Xo2, yo2)\n",
        "\n",
        "fig, axes = plt.subplots(ncols=2, figsize=(10,2.7), sharey=True)\n",
        "\n",
        "plt.sca(axes[0])\n",
        "#first case (left)\n",
        "\n",
        "plt.plot(Xo1[:, 0][yo1==1], Xo1[:, 1][yo1==1], \"bs\")\n",
        "plt.plot(Xo1[:, 0][yo1==0], Xo1[:, 1][yo1==0], \"yo\")\n",
        "plt.text(0.3, 1.0, \"Impossible!\", fontsize=24, color=\"red\")\n",
        "plt.xlabel(\"Petal length\", fontsize=14)\n",
        "plt.ylabel(\"Petal width\", fontsize=14)\n",
        "plt.annotate(\"Outlier\",\n",
        "             xy=(X_outliers[0][0], X_outliers[0][1]),\n",
        "             xytext=(2.5, 1.7),\n",
        "             ha=\"center\",\n",
        "             arrowprops=dict(facecolor='black', shrink=0.1),\n",
        "             fontsize=16,\n",
        "            )\n",
        "plt.axis([0, 5.5, 0, 2])\n",
        "\n",
        "#second case (right)\n",
        "\n",
        "plt.sca(axes[1])\n",
        "plt.plot(Xo2[:, 0][yo2==1], Xo2[:, 1][yo2==1], \"bs\")\n",
        "plt.plot(Xo2[:, 0][yo2==0], Xo2[:, 1][yo2==0], \"yo\")\n",
        "plot_svc_decision_boundary(svm_clf2, 0, 5.5)\n",
        "plt.xlabel(\"Petal length\", fontsize=14)\n",
        "plt.annotate(\"Outlier\",\n",
        "             xy=(X_outliers[1][0], X_outliers[1][1]),\n",
        "             xytext=(3.2, 0.08),\n",
        "             ha=\"center\",\n",
        "             arrowprops=dict(facecolor='black', shrink=0.1),\n",
        "             fontsize=16,\n",
        "            )\n",
        "plt.axis([0, 5.5, 0, 2])\n",
        "\n",
        "save_fig(\"sensitivity_to_outliers_plot\")\n",
        "plt.show()"
      ],
      "execution_count": null,
      "outputs": [
        {
          "output_type": "stream",
          "text": [
            "shape w coef (1,2)\n",
            "shape b coef (1,2)\n",
            "Saving figure sensitivity_to_outliers_plot\n"
          ],
          "name": "stdout"
        },
        {
          "output_type": "display_data",
          "data": {
            "image/png": "[encoded data removed]",
            "text/plain": [
              "<Figure size 720x194.4 with 2 Axes>"
            ]
          },
          "metadata": {
            "tags": [],
            "needs_background": "light"
          }
        }
      ]
    },
    {
      "cell_type": "markdown",
      "metadata": {
        "id": "oeawYgPTQZOQ"
      },
      "source": [
        "\n",
        "### Solution \n",
        "- Find a balance between *Large margin* and *margin violations*\n",
        "- This is called **soft margin classification**\n",
        "- This is represented by the parameter ```C```\n",
        "  - Regularization parameter. The strength of the regularization is inversely proportional to ```C```. \n",
        "  - Must be strictly positive. \n",
        "  - The penalty is a squared ```l2``` penalty.\n",
        "  - low value --> lot's of margin violations\n",
        "  - high value --> fewer margin violations\n",
        "\n",
        "- Rule of thumb\n",
        "  - Lots of margin violations good generalization\n",
        "  - Lots of margin violations are bad\n",
        "\n",
        "- A way to reduce overfitting in ```SVM``` is regularizing the model by reducing ```c```.\n",
        "\n",
        "--> let's check what we can do in ```python``` and with ```scikit```"
      ]
    },
    {
      "cell_type": "markdown",
      "metadata": {
        "id": "bBBDCDGE7AxG"
      },
      "source": [
        "## Pipeline and gridsearch\n",
        "\n",
        "- Pipeline\n",
        "``` python \n",
        "class sklearn.pipeline.Pipeline(steps, *, memory=None, verbose=False)\n",
        "```\n",
        "\n",
        "  - Sequentially apply a list of transforms and a final estimator.\n",
        "  -Intermediate steps of the pipeline must be ‘transforms’, that is, they must implement fit and transform methods. \n",
        "  - The final estimator only needs to implement fit. \n",
        "\n",
        "  - The purpose of the pipeline is to assemble several steps that can be cross-validated together while setting different parameters. \n",
        "\n",
        "  - For this, it enables setting *parameters* of the various *steps* using their names and the parameter name separated by a ‘__’. \n",
        "\n",
        "- GridSearchCV\n",
        "  - ```python \n",
        "  class sklearn.model_selection.GridSearchCV(estimator, param_grid, *,\n",
        "  scoring=None, n_jobs=None, refit=True, cv=None, verbose=0, \n",
        "  pre_dispatch='2*n_jobs', error_score=nan, return_train_score=False)\n",
        "  ```\n",
        "  - Exhaustive search over specified parameter values for an estimator.\n",
        "  - Important members are fit, predict.\n",
        "  - GridSearchCV implements a “fit” and a “score” method. \n",
        "  - It also implements “score_samples”, “predict”, “predict_proba”, “decision_function”, “transform” and “inverse_transform” if they are implemented in the estimator used.\n",
        "\n",
        "  - The parameters of the estimator used to apply these methods are optimized by cross-validated grid-search over a parameter grid.\n",
        "\n",
        "  - CV --> CrossValidation \n",
        "  ![cross_validation.jpg](data:image/jpeg;base64,/9j/4AAQSkZJRgABAgAAAQABAAD/2wBDAAYEBAUEBAYFBQUGBgYHCQ4JCQgICRINDQoOFRIWFhUSFBQXGiEcFxgfGRQUHScdHyIjJSUlFhwpLCgkKyEkJST/2wBDAQYGBgkICREJCREkGBQYJCQkJCQkJCQkJCQkJCQkJCQkJCQkJCQkJCQkJCQkJCQkJCQkJCQkJCQkJCQkJCQkJCT/wAARCAJYBEwDASIAAhEBAxEB/8QAHwAAAQUBAQEBAQEAAAAAAAAAAAECAwQFBgcICQoL/8QAtRAAAgEDAwIEAwUFBAQAAAF9AQIDAAQRBRIhMUEGE1FhByJxFDKBkaEII0KxwRVS0fAkM2JyggkKFhcYGRolJicoKSo0NTY3ODk6Q0RFRkdISUpTVFVWV1hZWmNkZWZnaGlqc3R1dnd4eXqDhIWGh4iJipKTlJWWl5iZmqKjpKWmp6ipqrKztLW2t7i5usLDxMXGx8jJytLT1NXW19jZ2uHi4+Tl5ufo6erx8vP09fb3+Pn6/8QAHwEAAwEBAQEBAQEBAQAAAAAAAAECAwQFBgcICQoL/8QAtREAAgECBAQDBAcFBAQAAQJ3AAECAxEEBSExBhJBUQdhcRMiMoEIFEKRobHBCSMzUvAVYnLRChYkNOEl8RcYGRomJygpKjU2Nzg5OkNERUZHSElKU1RVVldYWVpjZGVmZ2hpanN0dXZ3eHl6goOEhYaHiImKkpOUlZaXmJmaoqOkpaanqKmqsrO0tba3uLm6wsPExcbHyMnK0tPU1dbX2Nna4uPk5ebn6Onq8vP09fb3+Pn6/9oADAMBAAIRAxEAPwD6pooqtf39vplnNeXcqQ28CGSSRjgKoGSTQk27ITaSuyxxn3or5+0X4jaz4s+LOmypd3lrpUsxSG0EjLG8YVgCyg4Ykg9enTsK+ga6cThZ4dpT3aucuExcMQm4dHYMUUVx/wAVfFF34S8G3N/YEJds6QxORnYWPLY6HAz14zj6VjTpupNQjuzetVVKDnLZHYd+oorxz4eeE/GWpnSfE194xvJLWVlnezaaRg6dQp5xz3GMV7H25NaYiiqUuRSuZYau60OdxshaQ4HNGa5b4nXdzY+A9YubWeW3njhykkTlWU7hyCMEGs6cHOSguprVmqcHPsdTkHkUvSuC+C2oXuqeA7a5vru4u52mlBlnkZ2wGIAyxJ4Fd5mnWpulNwfQmhVVWmqi6gTx6UDFee/HDUr7S/BBuNPvbmzm+0xr5tvK0bYOeMqc8103gqea68H6HcXEsk00mnwO8kjFmdjGuSSeST603Rapqr0ehKrp1XS6pXN2iijNZHQFFFFABRRkCjNABR2rzL496rqOj+ErKbTb66spW1BEaS2laNivlyHBK8kcA49QK3J7LWPEHwztrfTNQe31S5sbdkunmdCGwpLF1y2Tz+ddH1d8kajejdjkeJXtJU0tUrnXgDqKUVh+DNM1TSPDVlY6zefbL+IMJp/MaTfliR8zAE8EDmtysJKzaR0QlzRUnoBOO9FeZfHvVtQ0jwlZTabfXVlK2oIjSW0rRsV8uQ4JXnGQDj2Fd54ekkm0LTpZXaR3to2ZmOSxKjknvWkqLjTVTozKNdSqypdjSooyKKyOgToKBXJ/Ezxdc+CvC8uqWkEU8/mJEgkJ2qWz8xxycY6cfWr/AII1S61vwjpeo3jrJc3NuskjBQoLH2Fa+xl7P2vS9jD6xF1PZdbXN2g/SuK+HPhrxP4dOpHxJq51IXEiNb/6TJN5ajdkfOBjOR09K7aoqQUZWTuVSm5x5mrBRRketFSahRRmjI9aACiiigBKO9c38QPF0Pgrw3cao4Vp/wDV28Zz+8kOcA+w5J9hVb4babqtj4YjuNcvrq81G9/0mXz5Wbyt3IRQThQB2GOc1r7F+z9o9tjB117T2a33OtBBpe1eSfs/azqes6bq76lqN5fPHNGEa5maQqCpJwWJwPpXrRPNPEUXRqOm90LDV1XpqouotFFFYnQFFFFABSV5j8Z/iG/hvTv7G0mZ11a7Qszxfet4h1f2JwcHtgntWl8FtRvNU8CW11f3lxdztNKDLPIzuQGIAyxJ6V1PCTjQVd7N2OOONhKv7CO6O8GAaB71518VbnWfDEuneLtKurpreykEd9Zea3kyxMcBivQHkjOM8r6V3Wk6nbazpttqNm4kt7mMSxt7EZ59/btWUqLjBVOjNYV1KpKn1RcooorI3CiiigAooooAKKKKACiiigAooooAKKKKACiiigAooooAKKKKACiiigAooooAKKKKACiiigAooooAKKKKACiiigAooooAKKKKACiiigAooooAKKKKACiiigAooooAKKKKACiiigAooooAKKKKACiiigAooooAKKKKACiiigAooooAKKKKACiiigAooooAKKKKACiiigAooooAKKKKACiiigAooooAKKKKACiiigBM15D4+1S7+InimHwHosrLZwN5mqXKchQpHy/gfzbA7Gu5+Iep6lo/g3Ur3SInlvkRUiVFLMCzhSwA6kBifwrxvwB411LwJp80MfgXUr28uZPMuLt3dWlOTgY8o8AH16knvXp4DDycZVoataL/ADPIzDERU40Z6J6v/I1NS0y10b45eHNOsohFbW1vFHGg7ALJ19/1z1r3WvmPVvHeoX3xL0/xHJ4buYbq3RQunl23yYDcg7M9z/Celes33j3xLdeA01/SfDUqak9x5RsJYpJ2CAkbsKFbsO2B71tmGGqtUm+yW/Uxy7FUoury977dD0OvEvjz4Z1KO1uNebxBdPYSSxRrpZ3eUjbcbvvYzkZ+73NQ/wDC0/iv/wBCWf8AwV3P/wAVW58Z7m5vPhZZ3N7F5N1K9tJLHtK7HK5K4PIweOeRWeFo1MPiINtavyZeLr08Th5pJ6fIT4U+Gb/Q9IsvE1/4su5tLNiZDp8m/wAqBcZzy5HygHoorFsNZ8b/ABg1S7bR9Uk0HQ7Z9gkjJVznoMqQzNjBIyAM/SukXzP+FBHyc7/7HOcf3dvzfpmpfgD5P/CAJ5eN/wBql8zH97jH/ju2tZz5VUrtJy5rLTYzp0+aVLDptRtd+ZzGvW3xB+FAj1hfEMuv6UrhZludxIBP8QYsVBPAIbrjPHFdh411628TfCC/1ezJ8m6tAwB6qdwBU+4OQfpWr8U/LHw+1zzdu37MevrkY/HOMV5t4c8z/hnrVt+7bmXZ6Y3r09s5pUrVoQrSVpKSXqOqnRqToxd4uLevQ6z4I3MVn8MormdxHDDJPI7noqhiST+Fcrpuo+NfjFql3Ppmrz+H9Dtn2K8JIbPUDKkFmxgkZwMgfW34PEv/AAz/AKp5W7PkXWdvpk5/DGa3P2fzEfAI2feF3Lv+vH9MVVa1P2tZK75ra9CaV6vsaDdo8t/U4D4naf4w8K6ENI1nVTrekXMqtDdyA+bHIuTtOSTyM9SenGMEH2zwF/yJHh//ALBtt/6KWuW+Pax/8K+mL7dwuIimeuc9vfGa6nwF/wAiP4f/AOwdbf8Aopa58RV9phYSa1u9vkdGFpKli5xT6I3SNwI9a8f+HGtaronxI1vwjrGp3t6h3NatdzNIwC/MuNxP3kbJ/wB2vYRXjPxntpPDHi3QPG1qjfu5VhuNo64yQP8AgSl1/CssCozcqT+0tPU2zBuCjWj9l6+h3XxQ8SN4W8FahewyGO5dPIgZThg78ZB9QMt+FYHhDVNS8JfCh/EOsT3+p3ksZulS4leRvmIWNcnJCkFSfTJ4rB+LN5/wmvizw14RsJd8ExW6lZOflbPzfggY/Rq9I8WeJLHwJ4ak1CaLMNuqxQwJxvboqj0/oBWns+SlTha8pO/y6L5mXtHUq1KnNaMVb59zzTw9oPxB+JNiNcvfF9xotrOzGCK1DDIBI+6rLgcYGSScVUudW8afCXxRpltq+uPrWl3zbSZ2LEqGAb7xJVlDA9cHP5aOl6/8W/G1suoaTFp2k2Ex/cySKOVzjPzBifrgZ9K4v4naF4l0a+0V/E2vLqtxcPIUjTO2AApnHQc5HYfd79vRox56vs6nLZ/ZW6+dv1PNrT5KSqU1K/8AM/8Ahz0T9oznwZYf9hGP/wBFSVoeJry60/4JJc2dxNbXCada7ZYXKMufLzgjkcZ6Gs79ov8A5Euw/wCwjH/6Klq54y/5IT/3DrT+cdcVJJ0qKf8AN/kdtVtVazW/Kafw914wfC6y1vV7uafyYJZpppXLuwV37nknAx+lcLoj+Ovi/dXOpQa7P4e0eOQxxC3ZgcjnHylSxwRkkgZPA7C7Hv8A+GcDszn7Oc464+0c/pmup+CJhPw30sQ4yGm39M7vNfr+GPwxVTSoxqVopX5regoN1p0qMm0uW/qeU/FW28XeHtJttB1/UBq+nvcC4tL5h+8BVWUo2STnDg8k/U9B7Jf+JP8AhFPh1Bq3kG4khsofLiGfncqoUcdsnJ9s1zP7RIjPgq1Lbd4v02ev3H6fhXRar4vtvBPw+sNWuYzMRbQxwxA4MjlBgZ5xwCc+gpVJ+2o0vd1u/K+wUoewrVfe0svOxw3h7w38QfiJp6a5f+MrrR4LjLQw2oYfL0BwjIAPxJ71VXW/GPws8ZaZpeta22saZfuq7pWLHaWCk5b5lZSQcZIIP5aGm6z8XvGdsmo6aunaRZXA3Qu6LyvY/MHOPfHP0ri/iBoniLRfEehDxJro1W6mkDKFzthAdeB06+wHSuylDnqOnUcbWei3XzscdafJTVSmpXuvefX8Ttf2gtDvZNNj1saxcLZoI7dtOAby3fcx8w/NjOCB93PHWtf4N+FtT0zSbTWbjxFd3tpd2SiLT3DeXb5IIxlyOAMcKOtP+P3/ACIB/wCvqL+tdF8NP+SfaH/15p/KuGVWX1FR6cx3RoxePk+vLc434DazqernxD/aOo3l75U0QT7TM0mwHfnbuJx0FU/EXjTxP468Xz+FPBtwLK1tSy3F6Op2nDNu7AHgbeT1zjofs7f8zN/12i/9qVD+zts+3+JvO2/a98W7PXGZM4z7/wBK6KsIQq1qtvhSsvU56NSdSlRo3+Ju79B+seC/iJ4Nsn1nTPGd3qxtl82a3nLn5RydquzBuB7HGe9d58OPHMfjvw6t8Y1hvIW8q5iU8BwM5HfBBzz7jtmupl2+W+/Gzac56Yrxf9nHO7xNs/1G+DZjp/y16fhiuXm+sYec5pXjbVK2518n1fEwhB+7JPT0MDwLrXjvxXc3+gaVrVwm6QzT311M8jQRjgKmScZPYYJx1HWtTxbpXj34Xwwa3D4uu9YtRIFlS4LlVJ7FWZhtPTIIIyPrWh+zqi+Z4mfHzGaEfgPMrpPjx/yTu7/67Q/+hiuyrVSxioqK5dFt5HFTot4N13J82vU6/wAMa0niLQLDVkXYLqFZCmc7WI5H4HI/CtQ1yPwm4+Heh/8AXA/+hGuvxXiV4qNSUV0Z72Hm50oyfVI8W+JMx8VfFfw74VO57W2ZZZkx1Jy7D3+RB+Zr2cjCke1eKx5/4aVk3/3Pkz6fZB0/HP617W33T9K7Mb7saUFtyp/ecWBfNKrN78zX3HhfwH1qw8P+GfEGo6lcLBbQzRszHv8AKeB6kngdyataDc+Kvi14kfVV1DUtF8M2zlI0tpmhMwB6ZU8se7cgdBXnHgzwNrnjbS9RTT5lW0sh5xiY/wCum2/KoHrjPJ6Z9zXsvwP8Yxaz4fGhXCpBqGlARmMKF3xDgNj1B4b3x616eOpxp+0qwtKWl/LQ8rAVJVPZ0amkdbf3tTW+INr45ZNNTwVdJCEEgufN8ti33NnMgYn+Ln881x/2H46f9BO1/wC+bb/4iuy+I2v+MNDOn/8ACKaNFqfm+Z9o8yJn8vG3b91hjOW/KuM/4T74vn/mTrX/AMBZf/jlcWFU/Zq0YP1tc7sU4e1d5TXpexNa2XxuF1D9o1K2MO9fMG235XIz0T0r0Xxh4qs/B2gXGrXpzsG2KMHmWQjhR/ngAntXnFr46+LMl1Ek3hG1SN3UO32aTKqTyf8AWdhWN8V9R1W9+IcUd1oN9qujaVsMdtErrHOzIrklgrA8kA8dFxxk1fsHWqxjNRSWvu21I+sqjRlKDk29PeuWLPwvez+BvEvjjxDl9W1SzdoVcY8mIjjAPTIxgdlAHc12PwH/AOSd2n/Xeb/0M1xnir4u6vrXhrUdNm8D31lFcQNG07SOViBH3iDEBj8ak+Cvjm/tLXTfDS+HbmW1lmkzqIdti5y3TZjg8ferevRrTw0nJW17raxhhq1CGKioPp2e9z2LxBpMeuaJfaZLjZdQPESe2QQDXm/7PWszXPh/UNFuCd+mXHygn7qvk7f++lc/jXrB6GvEPgb/AMjx4q8rHkbm6f8AXVsY9sZrz8OufDVU+lmejiXy4qlJdbo9wooorzz0wooooAKKKKACiiigAooooAKKKKACiiigAooooAKKKKACiiigAooooAKKKKACiiigAooooAKKKKACiiigAooooAKKKKACiiigAooooAKKKKACiiigAooooAKKKKACiiigAooooAKKKKACiiigAooooAKKKKACiiigAooooAKKKKACiiigAooooAKKKKACiiigAooooAKKKKACiiigAooooAKKKKACiiigAooooAKNo9BRRQFjyDxFoupzfHPSNRi028ksY4033KwMYlO18gsBgdR1PevXse1GOc4pa2rV3VUU+isc1DDqk5NfadxMY7V578cNNvtV8Em30+yubyb7TG3lwRNI+OecLzxXodIRmpo1XSmproXXoqrTdN9TlvA+mN/wr7S9N1K0kTdZCGeCZCrAEYKkHkV5tp+j+OPg/qd2uj6Y+vaHcvvEcYJYY6EhQSrYwM4IOPpj3Lr3o4PWt4YuUXK6upbowqYKMoxs7OOzPD9euPiD8WFj0hfD0vh/Si6tM1zuBIBH3iwUsAeQAvXGT3rtPFPhYaN8Jrzw/pUE9yYbXy40jQu8jbgzHaOSSSTXd4xjFLTljG+VRSSi728yY4FLmcpNykrXPP8A4PaPPbfDuLTtWsZ7dpHmWSC5jKNtZj1U84INcfZ6T40+Dur3SaPpcuv6DdPvEcQJYHjGdoJVscE4IIA4z09wxRTWNlzzckmpboHgI8kEnZx2Z89+PJPiB8QtNNzP4bu9P060YPHZCN3mlcnGduAzYBP8IABPevafBUE1r4P0O3uIpIZorCBHjkUqyMI1BBB5BBrb74paivi/awVNRSS7Dw+D9lUdRybbErmPiR4c/wCEq8Hajp6JvuNnmwADJ8xOQB9cY/GuooxXPTqOElOO6OqpTVSDg9meJfBHwnrA12717xBZXlvLbW8dpbC7haNiAoXI3AHhUA/4Ea7z4o+ELjxp4Um0+zZVuo5FnhDnAdlzwfTIJ/GuwAorpq4yc6yrbNHLRwMKdB0N0zxLwz458eeF9Ht9CuPAeoXslqghhmVZFG0cDJCMpwMDgj+tYHj3wz4/117PxJrGmyTTNII4tPsYmla3jHzZbbnGT3557jgV9FkUpA6YraGY8lT2kIJMwnlvPD2c5tpbHl/x006/17wXp40zT727kN7HKYYoHZ1XypOWUDIwSByOCeau+K9Mvrj4Mmwhs7mW8/s+1T7OkTNJuBjyNvXIwc+mK9DOMUYHNc8cU4xjFL4Xc6JYNSlKV/iVjiPh3oTy/DCx0bVrSaDzYJYZoZkKOFZ36g8jg1wuk23jn4PX1zY2WjT+ItEmkMkfkKxbJxz8oYocYyCCM8ivcelJ3qo4xpy5ldS3RM8DFqHK7OOzPnbx/D4/8fWkep3fh27tLG3k2W9jHE7yktnLlQNxwBjcQMZ6cmvR/HHgi+8X/DnT9Ntl8u/tUhnjilO3cyxlSh9Dhj17jt1r0OjvVyx8nyKEUuXYiGXRXO5yb5tzxXw94+8e+H9It9EuPAd/eTWsYhiuAkiLtUYGcIQSAAM7hn8a57xr4Y8eanqGneJtZ06a5nklCixsYmlNrGpDAHbnGee5+vYfRWB6ClxVwzHknzwgk2RPLXOChObaWxxfxU8PXnizwPdWmnRGW6BSeKNhtLbTkgZxg4z171g/CPxD4j8u38Nav4ZvbC2s7UiO8khkVXZSAFOVAyQSevOK9So4HaueOJaoui1dXudMsJesqylZ2seS/AbRtS0g+If7R068svOmiKfaYWj3gb87dwGeoqn4h8F+KPA3i+fxX4Mt1vbW6LNcWQHI3HLLt6lSeRt5B4xjr7MAKK0+vT9rKpbfdGay+Hso07/DqmeL6x4y+InjOybRtM8GXekG5Ty5rifcMKeG2s6qF7+p9Oa7r4beBo/Afh/7EZBNdzt5tzKvALYxgewAx+Z711wxRioq4rmh7OEVFeRdLB8s/azk5SPJfgNo2p6QfEP9o6deWXmzRGP7TC0e8DfnbuAz1Fb3xq0691TwJc2thaXF5O00REUEbO3DAk4UE9K7zGKD70SxcnX9vbUI4OMcO8PfQ5b4Y2lzYeA9HtrqCW3njhw8cqFWU7jwQQCDXU0AClrnqTc5Ob6nTSh7OCguh4t8TIj4T+Knh3xWcrazssU7g/dIyrH/AL4fp7GvZz8y8dxXOfEDwhD418M3OmMQs4/e28h/glAOCfbkg+xNVvhpqeqX3hiC31qxu7PULH/RpPPiZfNC8B1JGGyByRkZz7V1VZqrRg+sdPl0OOjB0q849Ja/Pqcl+z9o2p6NpurpqWnXli0k0ZRbmFoywCnoGAyPpWf4/wDCus+D/HNn4y8KafcXYncm5treJpPmx8+VUH5WGeezc9cV7XikxntT+vT9tKrbfRroH9nw9jGlfbZlbT7wahYwXYhnh85A/lTxlJEyM4ZTyD7VaxSYpc1xnelpqGBQQPQUUUh2Oa+IdrPeeCNat7WCSeeS1dUiiQszEjoAOSax/grp15pngO2tr+zuLSdZpSYp42RwCxIOGANd4cUAYGK2WIapey6Xuczw8XWVbraxneItWi0DQr/VJcbbWB5cHuQOB+J4rzn9nrRprXw7f6zcZ36nP8pI+8iZG7/vov8AlWj8VbTWPFEuneEdLtbpYL2QSX175TeTFEpztLdCcjOM9l9a7rStMttG02206zQR29tGsUa+wGOfU+9b86p4ZwW8n+CMOR1MSptaQ/Nl2iiiuI9AKKKKACiiigAooooAKKKKACiiigAooooAKKKKACiiigAooooAKKKKACiiigAooooAKKKKACiiigAooooAKKKKACiiigAooooAKKKKACiiigAooooAKKKKACiiigAooooAKKKKACiiigAooooAKKKKACiiigAooooAKKKKACiiigAooooAKKKKACiiigAooooAKKKKACiiigAooooAKKKKACiiigAooooAKKKKACiiigAooooAKKKKACiiigAooooAKKKKACiiigAooooAKKKKACiiigAooooAKKKKACiiigAooooAKKKKACiiigAooooAKKKKACiiigAoxRRQAUUUUAFFFFABRRRQAUUUUAFFFFABRRRQAUUUUAFFFFABRRRQAUUUUAFFFFABRRRQAUUUUAFFFFABRRRQAUUUUAFFFFABRRRQAUUUUAFFFFABRRRQAUUUUAFFFFABRRRQAUUUUAFFFFABRRRQAUUUUAFFFFABRRRQAUUUUAFFFFABRRRQAUUUUAFFFFABRRRQAUUUUAFFFFABRRRQAUUUUAFFFFABRRRQAUUUUAFFFFABRRRQAUUUUAFFFFABRRRQAUUUUAFFFFABRRRQAUUUUAFFFFABRRRQAUUUUAFFFFABRRRQAUUUUAFFFFABRRRQAUUUUAFFFFABRRRQAUUUUAFFFFABRRRQAUUUUAFFFFABRRRQAUUUUAFFFFABRRRQAUUUUAFFFFABRRRQAUUUUAFFFFABRRRQAUUUUAFFFFABRRRQAUUUUAFFFFABRRRQAUUUUAFFFFABRRRQAUUUUAFFFFABRRRQAUUUUAFFFFABRRRQAUUUUAFFFFABRRRQAUUUUAFFFFABRRRQAUUUUAFFFFABRRRQAUUUUAFFFFABRRRQAUUUUAFFFFABRRRQAUUUUAFFFFABRRRQAUUUUAFFFFABRRRQAUUUUAFFFFABRRRQAUUUUAFFFFABRRRQAUUUUAFFFFABRRRQAUUUUAFFFFABRRRQAUUUUAFFFFABRRRQAUUUUAFFFFABRRRQAUUUUAFFFFABRRRQAUUUUAFFFFABRRRQAUUUUAFFFFABRRRQAUUUUAFFFFABRRRQAUUUUAFFFFABRRRQAUUUUAFFFFABRRRQAUUUUAFFFFABRRRQAUUUUAFFFFABRRRQAUUUUAFFFFABRRRQAUUUUAFFFFABRRRQAUUUUAFFFFABRRRQAUUUUAFFFFABRRRQAUUUUAFFFFABRRRQAUUUUAFFFFABRRRQAUUUUAFFFFABRRRQAUUUUAFFFFABRRRQAUUUUAFFFFABRRRQAUUUUAFFFFABRRRQAUUUUAFFFFABRRRQAUUUUAFFFFABRRRQAUUUUAFFFFABRRRQAUUUUAFFFFABRRRQAUUUUAFFFFABRRRQAUUUUAFFFFABRRRQAUUUUAFFFFABRRRQAUUUUAFFFFABRRRQAUUUUAFFFFABRRRQAUUUUAFFFFABRRRQAUUUUAFFFFABRRRQAUUUUAFFFFABRRRQAUUUUAFFFFABRRRQAUUUUAFFFFABRRRQAUUUUAFFFFABRRRQAUUUUAFFFFABRRRQAUUUUAFFFFABRRRQAUUUUAFFFFABRRRQAUUUUAFFFFABRRRQAUUUUAFFFFABRRRQAUUUUAFFFFABRRRQAUUUUAFFFFABRRRQAUUUUAFFFFABRRRQAUUUUAFFFFABRRRQAUUUUAFFFFABRRRQAUUUUAFFFFABRRRQAUUUUAFFFFABRRRQAUUUUABNJ1oqlqepxaXCssyuwZtvyDnNY1q0KMHUqOyQ4xcnZF6isD/hMbP/AJ4XP5D/ABo/4TGz/wCeFz+Q/wAa8r/WPLf+fyOj6lX/AJWb9FYH/CY2f/PC5/If40f8JjZ/88Ln8h/jR/rHlv8Az+QfUq/8rN+isD/hMbP/AJ4XP5D/ABo/4TGz/wCeFz+Q/wAaP9Y8t/5/IPqVf+Vm/RWB/wAJjZ/88Ln8h/jR/wAJjZ/88Ln8h/jR/rHlv/P5B9Sr/wArN+isD/hMbP8A54XP5D/Gj/hMbP8A54XP5D/Gj/WPLf8An8g+pV/5Wb9FYH/CY2f/ADwufyH+NH/CY2f/ADwufyH+NH+seW/8/kH1Kv8Ays36KwP+Exs/+eFz+Q/xo/4TGz/54XP5D/Gj/WPLf+fyD6lX/lZv0Vgf8JjZ/wDPC5/If40f8JjZ/wDPC5/If40f6x5b/wA/kH1Kv/KzforA/wCExs/+eFz+Q/xo/wCExs/+eFz+Q/xo/wBY8t/5/IPqVf8AlZv0Vgf8JjZ/88Ln8h/jR/wmNn/zwufyH+NH+seW/wDP5B9Sr/ys36KwP+Exs/8Anhc/kP8AGj/hMbP/AJ4XP5D/ABo/1jy3/n8g+pV/5Wb9FYH/AAmNn/zwufyH+NH/AAmNn/zwufyH+NH+seW/8/kH1Kv/ACs3qO9YH/CYWX/PC4/If40q+MLN2CiC5yTgfKv+NOHEGXTkoxqq7B4SsldxZv0Vy3/Cw9L/AOfe9/74X/4qj/hYel/8+97/AN8L/wDFV7/sZ9ji9rDudTRXLf8ACw9L/wCfe9/74X/4qj/hYel/8+97/wB8L/8AFUewqdhe2h3Oporlv+Fh6X/z73v/AHwv/wAVR/wsPS/+fe9/74X/AOKo9hU7B7aHc6miuW/4WHpf/Pve/wDfC/8AxVH/AAsPS/8An3vf++F/+Ko9hU7B7aHc6miuW/4WHpf/AD73v/fC/wDxVH/Cw9L/AOfe9/74X/4qj2FTsHtodzqaK5b/AIWHpf8Az73v/fC//FUf8LD0v/n3vf8Avhf/AIqj2FTsHtodzqaK5b/hYel/8+97/wB8L/8AFUf8LD0v/n3vf++F/wDiqPYVOwe2h3Oporlv+Fh6X/z73v8A3wv/AMVR/wALD0v/AJ973/vhf/iqPYVOwe2h3Oporlv+Fh6X/wA+97/3wv8A8VR/wsPS/wDn3vf++F/+Ko9hU7B7aHc6miuW/wCFh6X/AM+97/3wv/xVH/Cw9L/5973/AL4X/wCKo9hU7B7aHc6miuW/4WHpf/Pve/8AfC//ABVH/Cw9L/5973/vhf8A4qj2FTsHtodzqaK5b/hYel/8+97/AN8L/wDFUf8ACw9L/wCfe9/74X/4qj2FTsHtodzqaK5b/hYel/8APve/98L/APFUf8LD0v8A5973/vhf/iqPYVOwe2h3OpormJfH+mwyNG1te7kYqfkXGQcf3qb/AMLE0v8A5973/vhf/iqXsanYPaw7nU0Vy3/Cw9L/AOfe9/74X/4qj/hYel/8+97/AN8L/wDFU/YVOwe2h3Oporlv+Fh6X/z73v8A3wv/AMVR/wALD0v/AJ973/vhf/iqPYVOwe2h3Oporlv+Fh6X/wA+97/3wv8A8VR/wsPS/wDn3vf++F/+Ko9hU7B7aHc6miuW/wCFh6X/AM+97/3wv/xVH/Cw9L/5973/AL4X/wCKo9hU7B7aHc6miuW/4WHpf/Pve/8AfC//ABVH/Cw9L/5973/vhf8A4qj2FTsHtodzqaK5b/hYel/8+97/AN8L/wDFUf8ACw9L/wCfe9/74X/4qj2FTsHtodzqaK5b/hYel/8APve/98L/APFUf8LD0v8A5973/vhf/iqPYVOwe2h3Oporlv8AhYel/wDPve/98L/8VR/wsPS/+fe9/wC+F/8AiqPYVOwe2h3Oporlv+Fh6X/z73v/AHwv/wAVR/wsPS/+fe9/74X/AOKo9hU7B7aHc6miuW/4WHpf/Pve/wDfC/8AxVH/AAsPS/8An3vf++F/+Ko9hU7B7aHc6miuW/4WHpf/AD73v/fC/wDxVH/Cw9L/AOfe9/74X/4qj2FTsHtodzqaK5b/AIWHpf8Az73v/fC//FUf8LD0v/n3vf8Avhf/AIqj2FTsHtodzqaK5g+P9NESyG2vNrMVHyL1ABP8XuKb/wALD0v/AJ973/vhf/iqPYT7D9rHudTRXLf8LD0v/n3vf++F/wDiqP8AhYel/wDPve/98L/8VR7Cp2F7aHc6miuW/wCFh6X/AM+97/3wv/xVH/Cw9L/5973/AL4X/wCKo9hU7B7aHc6miuW/4WHpf/Pve/8AfC//ABVH/Cw9L/5973/vhf8A4qj2FTsHtodzqaK5b/hYel/8+97/AN8L/wDFUf8ACw9L/wCfe9/74X/4qj2FTsHtodzqaK5b/hYel/8APve/98L/APFUf8LD0v8A5973/vhf/iqPYVOwe2h3Oporlv8AhYel/wDPve/98L/8VR/wsPS/+fe9/wC+F/8AiqPYVOwe2h3Oporlv+Fh6X/z73v/AHwv/wAVR/wsPS/+fe9/74X/AOKo9hU7B7aHc6miuW/4WHpf/Pve/wDfC/8AxVH/AAsPS/8An3vf++F/+Ko9hU7B7aHc6miuW/4WHpf/AD73v/fC/wDxVH/Cw9L/AOfe9/74X/4qj2FTsHtodzqaK5b/AIWHpf8Az73v/fC//FUf8LD0v/n3vf8Avhf/AIqj2FTsHtodzqaK5b/hYel/8+97/wB8L/8AFUf8LD0v/n3vf++F/wDiqPYVOwe2h3Oporlv+Fh6X/z73v8A3wv/AMVR/wALD0v/AJ973/vhf/iqPYVOwe2h3OporE0bxXZa3dNbW8VwjqhkJkUAYBA7E+tbdZyi4uzLUk1dBRRRSKCiiigAooooAKKKKACiiigAooooAKKKKACiiigAooooAKKKKACiiigAooooAKKKKACiiigAooooAKwPGP8AyD4f+uo/9BNb9YHjH/kHw/8AXUf+gmvD4j/5Ftb0OnBfx4+pyFFFFfg59eFFFFABRRRQAUUUUAFFFFABRRRQAUUUUAFFFFABRRRQAUUUUAFFFFABRRRQAU+D/Xx/7w/mKZT4P9fH/vD+YrswH+80/VfmZVvgl6HPUUUV/Usdkfmr3CiiiqEFFFFABRRRQAUUUUAFFFFABRRRQAUUUUAFFFFABRRRQAUUUUAFFFFABRRRQBYv/wDj+uf+urfzNV6sX/8Ax/XP/XVv5mq9TDZDluFFFFUIKKKKACiiigAooooAKKKKACiiigAooooAKKKKACiiigAooooAKKKKACiiigCw/wDx4w/9dX/klV6sP/x4w/8AXV/5JVepiOW4UUUVQgooooAKKKKACiiigAooooAKKKKACiiigAooooAKKKKACiiigAooooAKKKKAOo+Hv/Iam/69m/8AQkr0OvPPh7/yGpv+vZv/AEJK9DrycX/EZ6OG+AWiiiuY3CiiigAooooAKKKKACiiigAooooAKKKKACiiigAozRVHWdR/snSb3UPL837LBJNszjdtUnGecZx70JX0Qm0ldl2ivMtN+KHi3V7KG+sPh3PcW0y7o5F1FcMP++K6vwnr2t62ty2s+G5NDMRURh7gS+bnOcYAxjA/Ot6mGqU1eX5o56WLp1HaN/uf+R0dJ0o46Zrm/HHi/wD4Q7Tra8Fl9rM93HbbPM2bd2fmzg9MdKyhBzlyxNp1IwjzS2OkoHFGeK5zVfF39m+MdE8OfY/MGqJM/wBo83HlbFLfdxznGOoxRGEpaJCnUjFJyOjpaK53xp4z0/wTo76hfMrPgiC3DYed+wH9T2HNKEHJ8sdxzqRhHmk9DoqKztA1T+29DsNUMXk/bLaO48vdu2b1Dbc4GcZ64FaIpNWdmOL5ldBRRRQUFYHjH/kHw/8AXUf+gmt+sDxj/wAg+H/rqP8A0E14fEf/ACLa3odOC/jx9TkKKKK/Bz68KKKKADp3o6c1saV4d/tO2E/2oR8kbSmf61dPgw974f8Afr/69e/Q4azCvTVWnC8X5r/M4p4+hCXK5a+jOaBzRUt7b/ZLmSDdv8s43Yxmoq8WrSlTk4TWqOuMlJKS6h1oPFFSW0D3MyRR43u2Bk8UQpynJRitWDkkm30I6Pwq5d6abK/S0llUZ27nxgLnv9KZqFrFZzLHFcpcKVBLp0+nWuipgK1NSc1bldnqtzONeEmknuVqKKK47GwUUUUWYBRRRSsAUUUUWAOhoq5aaVLd2k90GVY4QSe5JAzVLPNdNXDVaUIznGylsZxqRk2k9ULRRRXMaBT4P9fH/vD+YplPg/18f+8P5iuzAf7zT9V+ZlW+CXoc9RRRX9Sx2R+avcKKKKoQUUUUAFFFFABRRRQAUUUUAFFFFABRRRQAUUUUAFFFFABRRRQAUUUUAFFFFAFi/wD+P65/66t/M1Xqxf8A/H9c/wDXVv5mq9TDZDluwoooqhBRXW2HgH7dZQXP9ohPOjV9vk5xkZx96rDfDjapP9qdB/zw/wDsq5/rNO9rmqoTtexxVFFFbmQUUVp3ulWtrplvdxalDPNLt3W6gbo8rnnDZ6jHSlKaTSfUai3qjMooopiCitXVtItdOghkt9UgvGkOCkeMpxnnDH+QrKpRmpK6G007MKKKKoQUUUUAFFFFABRRWjomiT65dGGFkQINzs3QDIHAHU+36ipclFNt6DSb0RnUU+aPypnjznYxXOMZwcZplMQUUUUwLD/8eMP/AF1f+SVXqw//AB4w/wDXV/5JVepiOW4UUUVQgooooAKKKKACiiigAooooAKKKKACiiigAooooAKKKKACiiigAooooAKKKKAOo+Hv/Iam/wCvZv8A0JK9Drzz4e/8hqb/AK9m/wDQkr0OvJxf8Rno4b4BaKKK5jcKKKKACiiigAooooAKKKKACiiigAooooAKKKKACsfxj/yKWs/9eM//AKLatisjxXDJP4X1eGGN5ZZLOZERAWZmKEAADkmqp/EjOrrBnmPgLxj4s07wjplrYeBJ9RtY4sR3S3yoJRk87SvH0rrta8b6npHw+vfEWoaP/ZeoRgpHZySiTDFwikkAZHO7AHQVd+GNnc2HgPR7a7glt544cPFKhV0O48EEAip/H/htvFvhLUNHiZUmmQNEzDgOrBl/AkYPsTXbVq0pV9YpLm1evc4KVKrHD3Um3y6LTt6HIWvgPxVeaGmsN431lNdliFwsSyAWoYjcE8vGMZwM9PbHFYfibxTL4w+GGg6ldKEuxq8MU4UYG9SwyPTPBx2zit218eeKrTQ10c+CtZbXYovs6zLEDalgNokMmcY74/XvWVrPgTUtB+Gmh6TFbTXt8mqRXNytsjSbSSxJ4zwowM+2a6YO0k6lr3022/y2OSavG1K9uXXffT8dzd8TXmr+KvHUfg7TtVudIsrW0F3eXFqds0hJwEVu3VT+fsKxz4e1Pw78W/Cdvd6td6rZul2bWa8O6ZP3LblZsfMBlSD7mtnxRYax4X8cxeMdL0y41a0ubX7JfW1uN0yYIIdB36Dj2Prxnx6lr3ir4neGdUl8N6ppuk2i3SRvdQlXBMR3M4GdgJ2AZ64OKmnK0fdty8r7XvZ/Pf8AAuok5e9fm5l32uvl/wAE9Xrzr4leDNJGjeI/EksUlxqElmwR5m3LAAgXEa9FzjJPXJPPNeinmuc+IltPe+B9at7WCWeeS1dUiiUszEjoAOSa8/DTcKiadtT0sVTU6Uk1cl8A/wDIj+H/APsHW3/opa3xWH4KgltfB2h288TwzR2FujxyKVZGEaggg8gg9q3Kip8TNKKtTiFFFFQahWB4x/5B8P8A11H/AKCa36wPGP8AyD4f+uo/9BNeHxH/AMi2t6HTgv48fU5Ciiivwc+vCiiigBOtdJ4w/wCXL/db/wBlrm63vFN1BdfZPJmjk2qwOxgcZx/hX0mW1EsuxUZSt8H5nBiI/v6dl3Lr2Nto9rAv9nNfSvy7BN2OnsfyqprGlWqTWc8amGGd1V0PG3Pt2q3Le22sWkLjUjYzIMMu/aM8dRkZ9qytU+yieKJdSuLmLPzksXC+4/8ArV9JmUsKsO/ZxjKHu8usVr+frc8+gqntNW09b7/8MbV3BbWDpGmiCeHHMiKGb8up/GsnTbm2GvKYbQqjnYEc/cb19j/nNaNqtvbNG0GvYhGCY5GBz7c9BVG+1K0k16C4iOY4yAzjoff6c/54qsdUhB0q/NGNpLT3Xp5NdF5oKKb5o2b0fcs67cQy6tb2pto9wkjLSEZLDpjp0/GkvbK3TxJaQLBEImQFkCjB+92/Ck1b7HJqVvfRXkTnzIwyBh8oz160t7e27+JLSdZ4jEqDLhgQPvd6rEShKpUdZrWpC23w3FBWUeW/wv7ye4fSrPVUszp8bGUgFtowpPAwPyzVSfRIH8QrbINsDKJWUdh6VDqlzDL4ihmSVGjDx5YNxwfWrV9q0Fv4ghuY5Fki8oI7Icgcn0/Csq1bC15TVdR5YVUlZLbr6ruXGNSFuS93EfLPpI1NdPNhGAHC+aAPvdqzvE8ENvqKpDGiL5YOFGO59K0mttLk1WO++3I5d1IiU5O49Pwqj4tx/ai/9ch/M1nnVN/UKsqij8a5eW3w9Nh4WS9tFRb219Sv4etILzUQlwNyhSwU9CfT9a1ruS2g81LjQSkY6SRqDkepI6Vg6ZHbSXQFzO8C9Q68YP17V01pc29gXaXWluYdvyxsQWH49TWHD/JPCcjSjq7y91/enrb0Kxt1Vvq/LX8LGVoGnW9z595NE0kUWdseNxOOenc9KvpY22r2sy/2a1jKnKMU2564/wD1VV0fV7VZru3kY28M7MyMDjbn37etLPHBbW8kh1+4lf8AhWOXP6Z5/Su3B/VIYOKgoyXvc3wr89fSxlV9o6rvdPS25b0a7i/sKeT7LHiFSHX/AJ6YXvx3rmLuZLi4eWOJYVbpGvQcCtrQbm1OmXdnPcJC0pOC5xwQBWLeQxwXDxxTCVFxhx/FwPSvEzvETrYDDtNOKWu2j1+ex14SEY1prqRUUUV8ieoFPg/18f8AvD+YplPg/wBfH/vD+YrswH+80/VfmZVvgl6HPUUUV/Usdkfmr3CiiiqEFFFFABRRRQAUUUUAFFFFABRRRQAUUUUAFFFFABRRRQAUUUUAFFFFABRRRQBYv/8Aj+uf+urfzNV6sX//AB/XP/XVv5mq9TDZDluwoooqhGn4Z/5D1j/11FXvHX/Iwyf7ifyrP8PSxwa1ZySOkaLICzMQAB6knpVvxlcw3WuPLbzRzIUUBkYMMgdMg4rna/e/I2T/AHdvM6bX5NG0GG3lOj2s8kuVVNiqMDknofbtWFpM1s9rM1rojXt/LIT88IaCIE8KOeBj6cnrjFWPHd7a3iaf9muYZ9gfd5bhtv3fTp0qzY39rdeFI7K01KDT7pMB/Mk8s5zkkHrz1yM+lcyTVNPuatpzaGeKtHt49BgvvscVndAqJEiUBckHI44/GoNfsbWHwjplxFbwxzOY90ioAzZQnrj1FW9fvLKTwqlrDqMFxLCUB/efO5BwTjOT1zVXX721m8I6ZbxXMEkyGPdGrgsuEI6Z9TRBytH1CXLd+hqa4uj6JaWt1JpNvNIw2KgRVU5AJJ45/EfzrL8YadYLp9lqdjAsAmwNqKFBDDcCQO4/r7U/xtf2l3p9itvcwzMpO4RyBiPl9Aaj8RX1rP4V0uCK5hklQRb41cEriMg5GfWimmuWWutxzad0WfFen2dtDpZgtIIi8oD7Iwu4YHB45q14gfRNAuIHfSIZmmG0qqKFVQeTjHXn05x14qt4r1CzuYdLEF3BKUlBfZIG2jA5PPFVPHt7bXs1kbW5hnCqwby3DAZI64ohFy5U/MJNLmaHeLtCtotS09bONYPtreWQowoOVAOO33u3pVvWJdB8PNDpz6Sk+5AzyEDeFJIyGPJOQehGPaofGGrW32nSLi0uIblrd2ciOQHkFCAcdOh/Kp9Yi0HxAYdRk1ZLfagDxkjeVBJwFPIPJ6A59DSu+WPPewO13y7lfxxp9nZWNkbW2hi3MQWRApYBeMkDn8a53QrSC91a1t7lsQu+G5xngkD8SAPXmup+ILJ9hsApxlmKj2AH+Irj7CO2lu40vJWhgJ+d1GSOOv549foa6KF3S37mVWyqHd362en3DRN4VE1qBxPDErk8egHH1JrA8PaTZa5rk7LA8dlGN4iZjn2XPp1PXtj3resGtLCdZE8VLLagZ8iaRGY/iTkfQAVn23iiwg8U3FygKWc6CNpADywxh8dcdR09654OVmom0lG6bNKG007Vbm5sJPDz2kSg+XceTs3YwMg4GD3HJyB+FVvBISzvNQ05oFMsMjfv8YZlyFA+nGfxouIrFXnuH8XXIiPzLHFc5K98cEk/QAGs3wfqtta6xdPdXRCzKQs055bnjJJ4OPX0pKLcGF0pIyPEF9Df6izwWcdoEBRlTHzEMfmOAOTkfl1rNrT8QWdtZ35FreR3aSAuWQghSWPy8E9OOazK76VuRW2OSfxO4UUUVoSWH/48Yf8Arq/8kqvVh/8Ajxh/66v/ACSq9TEctwoooqhBRRRQAUUUUAFFFFABRRRQAUUUUAFFFFABRRRQAUUUUAFFFFABRRRQAUUUUAdR8Pf+Q1N/17N/6Eleh1558Pf+Q1N/17N/6Eleh15OL/iM9HDfABrz34t6vf6cmi2sWo3Gk6beXRjvtQgyHhUY2jd/DnJ59vqD6Ea81+Lmjajf3ug366Zc6zpFlK7Xmn24JZ8gbW2/xYweO340YJR9suYyxzl7F8u5u+CNCfTllvLbxffeINMuF/cC5mWcKQSCRKOvIIwMDrnPbrQa4vwVrOpahePbWnhJtA8PwREQi4j8iUyFiTiIcBeSfrzmsfwvZazY/FOdNc1MX97LoolYxpsiizORsjX+6No5PJOSetOdJylJye39dCadZRjFRW/9dT02iiiuU7gooooAKKKKACiiigAooooAKKKKACiiigAooooAMD0ooooAKMCiigAooooAKKKKACiiigArA8Y/8g+H/rqP/QTW/WB4x/5B8P8A11H/AKCa8PiP/kW1vQ6cF/Hj6nIUUUV+Dn14UUUUAFFFFABRRRRcAooop3AKKKKLsAqWzuntLhJkALISQD3qKjNaU6kqclOL1WpMoqSaexup4lt0k81dKhWX++GGf5Vk3t5Lf3DTykbm6AdAB2qv2pR0rvxeb4rFQVOtL3e1kvyMaWFp03zRWoUUUV5lzoCiiilcAoooouAUUUUAFPg/18f+8P5imU+D/Xx/7w/mK7MB/vNP1X5mVb4Jehz1FFFf1LHZH5q9woooqhBRRRQAUUUUAFFFFABRRRQAUUUUAFFFFABRRRQAUUUUAFFFFABRRRQAUUUUAWL/AP4/rn/rq38zVerF/wD8f1z/ANdW/mar1MNkOW4UUUVQgooooAKKKKACiiigAooooAKKKKAHRyNDIskZwyMGU46EHIP5106+M7aQpJdaFaTTjrLkA59sqSOfeuWorOdKM7cyKjOUdjT17XrjXrhJJUWOOMEJGpztz1JPcn+grMooqoxUVZITk27vcKKKKoQUUUUAFFFFABRRRQBYf/jxh/66v/JKr1Yf/jxh/wCur/ySq9TEctwoooqhBRRRQAUUUUAFFFFABRRRQAUUUUAFFFFABRRRQAUUUUAFFFFABRRRQAUUUUAdR8Pf+Q1N/wBezf8AoSV6HXnnw9/5DU3/AF7N/wChJXodeTi/4jPRw3wC0UUVzG4mK51fD11/wn7+IfMh+yNpYstmT5m8Sl84xjbg+vXtXRcUtNSavYiUFK1wooopFhRRRQAUUUUAFFFFABRRRQAUUUUAFFFFABRRRQAUUUUAFFFFABRRRQAUUUUAFFFFABWB4x/5B8X/AF1H8jW/WbrOl/2tbrCJfLKvuztzngj+teVnWGqYjBVKNJXk1ob4aahVjKWyOC/Cj8K6f/hCm/5/h/36/wDr0f8ACFN/z/D/AL9f/Xr8m/1RzX/n1+K/zPov7Sw/834M5j8KPwrp/wDhCm/5/h/36/8Ar0f8IU3/AD/D/v1/9el/qjmv/Pr8V/mH9pYf+b8Gcx+FH4V0/wDwhTf8/wAP+/X/ANej/hCm/wCf4f8Afr/69H+qOa/8+vxX+Yf2lh/5vwZzH4UfhXT/APCFN/z/AA/79f8A16P+EKb/AJ/h/wB+v/r0f6o5r/z6/Ff5h/aWH/m/BnMfhR+FdP8A8IU3/P8AD/v1/wDXo/4Qpv8An+H/AH6/+vR/qjmv/Pr8V/mH9pYf+b8Gcx+FH4V0/wDwhTf8/wAP+/X/ANej/hCm/wCf4f8Afr/69H+qOa/8+vxX+Yf2lh/5vwZzNFdN/wAIU3/P8P8Av1/9ej/hCm/5/h/36/8Ar0f6o5r/AM+vxX+Yf2lh/wCb8GczRXTf8IU3/P8AD/v1/wDXo/4Qpv8An+H/AH6/+vR/qhmv/Pr8V/mH9pYf+b8Gcx+FH4V0/wDwhTf8/wAP+/X/ANej/hCm/wCf4f8Afr/69H+qOa/8+vxX+Yf2lh/5vwZzH4UfhXT/APCFN/z/AA/79f8A16P+EKb/AJ/h/wB+v/r0f6o5r/z6/Ff5h/aWH/m/BnMfhR+FdP8A8IU3/P8AD/v1/wDXo/4Qpv8An+H/AH6/+vR/qjmv/Pr8V/mH9pYf+b8Gcx+FH4V0/wDwhTf8/wAP+/X/ANej/hCm/wCf4f8Afr/69H+qOa/8+vxX+Yf2lh/5vwZzHSpIP9fH/vD+ddF/whZ/5/h/36/+vSP4SNspn+2BvLG/Hl9cfjXThOFMzhXhOdPRNdV/mRUzHDuLSl+B57RXbf8ACtv+op/5L/8A2VH/AArb/qKf+S//ANlX73HFU0lqfEOhPscTRXbf8K2/6in/AJL/AP2VH/Ctv+op/wCS/wD9lVfWqXcX1ep2OJortv8AhW3/AFFP/Jf/AOyo/wCFbf8AUU/8l/8A7Kj61S7h9XqdjiaK7b/hW3/UU/8AJf8A+yo/4Vt/1FP/ACX/APsqPrVLuH1ep2OJortv+Fbf9RT/AMl//sqP+Fbf9RT/AMl//sqPrVLuH1ep2OJortv+Fbf9RT/yX/8AsqP+Fbf9RT/yX/8AsqPrVLuH1ep2OJortv8AhW3/AFFP/Jf/AOyo/wCFbf8AUU/8l/8A7Kj61S7h9XqdjiaK7b/hW3/UU/8AJf8A+yo/4Vt/1FP/ACX/APsqPrVLuH1ep2OJortv+Fbf9RT/AMl//sqP+Fbf9RT/AMl//sqPrVLuH1ep2OJortv+Fbf9RT/yX/8AsqP+Fbf9RT/yX/8AsqPrVLuH1ep2OJortv8AhW3/AFFP/Jf/AOyo/wCFbf8AUU/8l/8A7Kj61S7h9XqdjiaK7b/hW3/UU/8AJf8A+yo/4Vt/1FP/ACX/APsqPrVLuH1ep2OJortv+Fbf9RT/AMl//sqP+Fbf9RT/AMl//sqX1ql3D6vU7HI3/wDx/XP/AF1b+ZqvXbHwAb1jc/2js84+Zt8nOM84zu560f8ACt/+op/5L/8A2VKOKppbjdCd72OJortv+Fbf9RT/AMl//sqP+Fbf9RT/AMl//sqr61S7i+r1OxxNFdt/wrb/AKin/kv/APZUf8K2/wCop/5L/wD2VH1ql3D6vU7HE0V23/Ctv+op/wCS/wD9lR/wrb/qKf8Akv8A/ZUfWqXcPq9TscTRXbf8K2/6in/kv/8AZUf8K2/6in/kv/8AZUfWqXcPq9TscTRXbf8ACtv+op/5L/8A2VH/AArb/qKf+S//ANlR9apdw+r1OxxNFdt/wrb/AKin/kv/APZUf8K2/wCop/5L/wD2VH1ql3D6vU7HE0V23/Ctv+op/wCS/wD9lR/wrb/qKf8Akv8A/ZUfW6XcPq9TscTRXbf8K2/6in/kv/8AZUf8K2/6in/kv/8AZUfW6XcPq9TscTRXbf8ACtv+op/5L/8A2VH/AArb/qKf+S//ANlR9apdw+r1OxxNFdt/wrb/AKin/kv/APZUf8K2/wCop/5L/wD2VH1ql3D6vU7HE0V23/Ctv+op/wCS/wD9lR/wrb/qKf8Akv8A/ZUfWqXcPq9TscTRXbf8K2/6in/kv/8AZUf8K2/6in/kv/8AZUfWqXcPq9Tsci//AB4w/wDXV/5JVeu2/wCEB3AW39o/6v8AebvJ67uMY3dtn6+1H/Ctz/0FP/Jf/wCyqViqfcboTfQ4miu2/wCFbf8AUU/8l/8A7Kj/AIVt/wBRT/yX/wDsqr61S7i+r1OxxNFdt/wrb/qKf+S//wBlR/wrb/qKf+S//wBlR9apdw+r1OxxNFdt/wAK2/6in/kv/wDZUf8ACtv+op/5L/8A2VH1ql3D6vU7HE0V23/Ctv8AqKf+S/8A9lR/wrb/AKin/kv/APZUfWqXcPq9TscTRXbf8K2/6in/AJL/AP2VH/Ctv+op/wCS/wD9lR9apdw+r1OxxNFdt/wrb/qKf+S//wBlR/wrb/qKf+S//wBlR9apdw+r1OxxNFdt/wAK2/6in/kv/wDZUf8ACtv+op/5L/8A2VH1ql3D6vU7HE0V23/Ctv8AqKf+S/8A9lR/wrb/AKin/kv/APZUfWqXcPq9TscTRXbf8K2/6in/AJL/AP2VH/Ctv+op/wCS/wD9lR9apdw+r1OxxNFdt/wrb/qKf+S//wBlR/wrb/qKf+S//wBlR9apdw+r1OxxNFdt/wAK2/6in/kv/wDZUf8ACtv+op/5L/8A2VH1ql3D6vU7HE0V23/Ctv8AqKf+S/8A9lR/wrb/AKin/kv/APZUfWqXcPq9TsUfh5/yGpv+vZv/AEJK9ErnPD3hH+wb17n7Z5+6Mx7fK24yQc9T6frXRmvOxElOd47HbRi4xswooorE1CiiigAooooAKKKKACiiigAooooAKKKKACiiigAooooAKKKKACiiigAooooAKKKKACiiigAooooAKKKKACiiigAooooAKKKKACiiigAooooAKKKKACiiigAooooAKKKKACiiigAooooAKKKKACob3/jyn/65t/Kpqhvf+POf/rm38qAJqKKKACiiigAooooAKKKKACiiigAooooAKKKKACiiigAooooAKKKKACiiigAooooAKKKKAIbL/jzg/wCua/yqaobL/jzg/wCua/yqagAooooAKKKKACiiigAooooAKKKKACiiigAooooAKKKKACiiigAooooAKKKKACiiigCBP+PyX/rmn82qeoE/4/Jf+uafzap6ACiiigAooooAKKKKACiiigAooooAKKKKACiiigAooooAKKKKACiiigAooooAKKKKACiiigAooooAKKKKACiiigAooooAKKKKACiiigAooooAKKKKACiiigAooooAKKKKACiiigAooooAKKKKACiiigAxVPUdUtNJhWa8l8qNm2A7ScnBPQDPY1crlviH/wAgaD/r4X/0FqunHmkosipLljdF7/hNNC/5/v8AyE/+FH/CaaF/z/f+QX/wry6iu/6lDuzj+tTPUf8AhNNC/wCf7/yC/wDhR/wmmhf8/wB/5Bf/AAry6ij6lDuw+tTPUf8AhNNC/wCf7/yC/wDhR/wmmhf8/wB/5Bf/AAry6ij6lDuw+tTPUf8AhNNC/wCf7/yC/wDhR/wmmhf8/wB/5Bf/AAry6ij6lDuw+tTPUf8AhNNC/wCf7/yC/wDhR/wmmhf8/wB/5Bf/AAry6ij6lDuw+tTPUf8AhNNC/wCf7/yC/wDhR/wmmhf8/wB/5Bf/AAry6ij6lDuw+tTPUf8AhNNC/wCf7/yC/wDhR/wmmhf8/wB/5Bf/AAry6ij6lDuw+tTPUf8AhNNC/wCf7/yC/wDhR/wmmhf8/wB/5Bf/AAry6ij6lDuw+tTPUf8AhNNC/wCf7/yC/wDhR/wmmhf8/wB/5Bf/AAry6ij6lDuw+tTPUf8AhNNC/wCf7/yC/wDhR/wmmhf8/wB/5Bf/AAry6ij6lDuw+tTPUf8AhNNC/wCf7/yC/wDhR/wmmhf8/wB/5Bf/AAry6ij6lDuw+tTPUf8AhNNC/wCf7/yC/wDhR/wmmhf8/wB/5Bf/AAry6ij6lDuw+tTPUf8AhNNB/wCf7/yE/wD8TUc3i3RbmJ4IrzdJKpRR5TjJIwOSOOteZVYsP+P62/66r/MVM8JCMXK5UcTJtI9P/wCEm0r/AJ+T/wB+2/wo/wCEm0r/AJ+T/wB+2/wrhqK/FZceY9Nrkj9z/wAz65ZRStuzuf8AhJtK/wCfk/8Aftv8KP8AhJtK/wCfk/8Aftv8K4aip/19x/8AJH7n/mP+yKXdnc/8JNpX/Pyf+/bf4Uf8JNpX/Pyf+/bf4Vw1FH+vuP8A5I/c/wDMP7Ipd2dz/wAJNpX/AD8n/v23+FH/AAk2lf8APyf+/bf4Vw1FH+vuP/kj9z/zD+yKXdnc/wDCTaV/z8n/AL9t/hR/wk2lf8/J/wC/bf4Vw1FH+vuP/kj9z/zD+yKXdnc/8JNpX/Pyf+/bf4Uf8JNpX/Pyf+/bf4Vw1FH+vuP/AJI/c/8AMP7Ipd2dz/wk2lf8/J/79t/hR/wk2lf8/J/79t/hXDUUf6+4/wDkj9z/AMw/sil3Z3P/AAk2lf8APyf+/bf4Uf8ACTaV/wA/J/79t/hXDUUf6+4/+SP3P/MP7Ipd2dz/AMJNpX/Pyf8Av23+FH/CTaV/z8n/AL9t/hXDUUf6+4/+SP3P/MP7Ipd2dz/wk2lf8/J/79t/hR/wk2lf8/J/79t/hXDUUf6+4/8Akj9z/wAw/sil3Z3P/CTaV/z8n/v23+FH/CTaV/z8n/v23+FcNRR/r7j/AOSP3P8AzD+yKXdnc/8ACTaV/wA/J/79t/hR/wAJNpX/AD8n/v23+FcNRR/r7j/5I/c/8w/sil3Z3P8Awk2lf8/J/wC/bf4Uf8JNpX/Pyf8Av23+FcNRVR48x7aXJH7n/mJ5RStuzr4fFui20SQS3m2SJQjDynOCBg8gc9Kk/wCE00H/AJ/v/IT/APxNebX/APx/XP8A11b+ZqvX7VTwkJRUmz5GWJkm0eo/8JpoX/P9/wCQX/wo/wCE00L/AJ/v/IL/AOFeXUVX1KHdk/WpnqP/AAmmhf8AP9/5Bf8Awo/4TTQv+f7/AMgv/hXl1FH1KHdh9ameo/8ACaaF/wA/3/kF/wDCj/hNNC/5/v8AyC/+FeXUUfUod2H1qZ6j/wAJpoX/AD/f+QX/AMKP+E00L/n+/wDIL/4V5dRR9Sh3YfWpnqP/AAmmhf8AP9/5Bf8Awo/4TTQv+f7/AMgv/hXl1FH1KHdh9ameo/8ACaaF/wA/3/kF/wDCj/hNNC/5/v8AyC/+FeXUUfUod2H1qZ6j/wAJpoX/AD/f+QX/AMKP+E00L/n+/wDIL/4V5dRR9Sh3YfWpnqP/AAmmhf8AP9/5Bf8Awo/4TTQv+f7/AMgv/hXl1FH1KHdh9ameo/8ACaaF/wA/3/kF/wDCj/hNNC/5/v8AyC/+FeXUUfUod2H1qZ6j/wAJpoX/AD/f+QX/AMKP+E00L/n+/wDIL/4V5dRR9Sh3YfWpnqP/AAmmhf8AP9/5Bf8Awo/4TTQv+f7/AMgv/hXl1FH1KHdh9ameo/8ACaaF/wA/3/kF/wDCj/hNNC/5/v8AyC/+FeXUUfUod2H1qZ6aPFuirM05vP3bqEU+U/JXJI+723D86k/4TTQf+f7/AMhP/wDE15s//HjD/wBdX/klV6Fg4PqxvEyR6j/wmmhf8/3/AJBf/Cj/AITTQv8An+/8gv8A4V5dRR9Sh3YvrUz1H/hNNC/5/v8AyC/+FH/CaaF/z/f+QX/wry6ij6lDuw+tTPUf+E00L/n+/wDIL/4Uf8JpoX/P9/5Bf/CvLqKPqUO7D61M9R/4TTQv+f7/AMgv/hR/wmmhf8/3/kF/8K8uoo+pQ7sPrUz1H/hNNC/5/v8AyC/+FH/CaaF/z/f+QX/wry6ij6lDuw+tTPUf+E00L/n+/wDIL/4Uf8JpoX/P9/5Bf/CvLqKPqUO7D61M9R/4TTQv+f7/AMgv/hR/wmmhf8/3/kF/8K8uoo+pQ7sPrUz1H/hNNC/5/v8AyC/+FH/CaaF/z/f+QX/wry6ij6lDuw+tTPUf+E00L/n+/wDIL/4Uf8JpoX/P9/5Bf/CvLqKPqUO7D61M9R/4TTQv+f7/AMgv/hR/wmmhf8/3/kF/8K8uoo+pQ7sPrUz1H/hNNC/5/v8AyC/+FH/CaaF/z/f+QX/wry6ij6lDuw+tTPUf+E00L/n+/wDIL/4Uf8JpoX/P9/5Bf/CvLqKPqUO7D61M9d03WrDV/M+xT+b5WN/yMuM5x1A9DV/2riPht11H/tl/7PXb1w1oKE3FdDrpy5o8zCiiiszQKKKKACiiigAooooAKKKKACiiigAooooAKKKKACiiigAooooAKKKKACiiigAooooAKKKKACiiigArlviH/wAgaD/r4X/0Fq6muW+If/IGg/6+F/8AQWrWh/ERlW+BnnlFFFe0eYFFFFABRRRQAUUUUAFFFFABRRRQAUUUUAFFFFABRRRQAUUUUAFFFFABRRRQAVYsP+P62/66r/MVXqxYf8f1t/11X+YrKt/Dl6FU/iRrUUUV/Kc/iZ+mx2CiiipGFFFFABRRRQAUUUUAFFFFABRRRQAUUUUAFFFFABRRRQAUUUUAFFFFABRRRVQ+JClsZN//AMf1z/11b+ZqvVi//wCP65/66t/M1Xr+rKP8OPofmU/iYUUUVqSFFFFABRRRQAUUUUAFFFFABRRRQAUUUUAFFFFABRRRQAUUUUAFFFFABRRRQBYf/jxh/wCur/ySq9WH/wCPGH/rq/8AJKr1MRy3CiiiqEFFFFABRRRQAUUUUAFFFFABRRRQAUUUUAFFFFABRRRQAUUUUAFFFFABRRRQB2vw266j/wBsv/Z67cVxPw266j/2y/8AZ67YV4+K/iM9LD/w0FFFFYGwUUUUAFFFFABRRRQAUUUUAFFFFABRRRQAUUUUAFVNTv49K065v5ldo7aJ5nVMFiqjJxnvgVbrH8Y/8inrP/XjP/6LanBXkkyKjai2jjofjfplzEk0HhrxTLE4yrpZqQw9iHrp/CXjKDxcly0Ol6rp/wBnKgi/gEZfdn7uCc4xz9RXnngP4pWmh+ENM06Tw74juWgh2mW3sw8bcnlTu5Fdvd/EC2t/A134qGnXtskKkLbXcflyF92xQRk4BYjn05rvxGH5ZckYPeydzzsNiXKPPKppa70OtNYnirxXZeEbKC8voriVJ7hLZRCoJ3NnBOSOOK4uCD4o3eirr6a/YJcSR/aE0f7EpQrjIQyfe3Y7evfvWV418VR+MvhvoOsJGInl1WBZYgc7HUsGGf1HsRUU8HeaTaavZ2LqY33HZWdrq57IDmsS/wDFVlp3iXS/D80Vw11qayNE6Bdi7FLHccgjgHGAa5vxR4j1/UfFsPhDwvcQWM62/wBqu76WMSeSmcBVUjBPTr69sGud+zeI7L4u+FLXxDeQajsjujb3scQiMqmFshkHAYEDpxhqVLCJpuT6N267Dq4xppQXVK/Tc9hrjNa+KWkaTqs2lW9lq2r3luP38em23neT/vcj9K7PFc3pGgaN4CstTvftMixXE73t1c3TgkE9ecDjrx6k+tYUuTXmV+x0VvaacjsupY8LeL9L8YWL3emSu3lP5c0Mi7ZIW9GHatwV5r8LIpdX8QeJvFsds9rp2qTIlohUr5qoCDJj3/mWr0ocU8RTjCo4xFhakqlNSkLRRRWJ0hXLfEP/AJA0H/Xwv/oLV1Nct8Q/+QNB/wBfC/8AoLVrQ/iIyrfAzzyiiivaPMCr2kaRPrV01tbvGrhC5MhIGAQOwPPIqjUtvdT2jl7eaWFyMFo3KnHpkHpwPyqZ3s7bjVr6nR/8K91XGfPsv++2/wDiayta8P3WhGEXLwv527b5bE4xjOcgeorp9PvbqTwRdXL3M7TqWxKZCWHIxz1FUfClnH4ka6GqvNd+SF8sySudmc5I574H5VyRqzV5S2R0SpxdlHqcnRXQah/wjclzDa2qTWyJIRNdHc2VAP3Rk8k98DHHatTTNN0DVryS1t9LnMCp8t55jgMeOMHgHnv6dK1ddJXaZmqTbsmc1pGkT61dNbW7xq4QuTISBgEDsDzyKq3Vu1pczW7kF4naNiucEgkZ5HTIrotD0G0k8S3em3SGeKFX25JBOGGM4I5wan8P6Bp9/rGrW09vujt5SsS72G0BmHUHnoOtJ10m30sNUro5GtLRdAuddeVbaSFDEAW8wkZyTjGAfSul0/RvDOpS3Gn28c7XECkGYuQWwcFl5wcE+mPwql4U0Gyvb6/tr6Lz/s52qdzL0JBPBHXFKWITi2tGhqi7q+xy8iGKRo2IyrFSR0yDim11vhvw/p+pxal9piIMUhSNwxBTrz1wce+atWOi+HNetrmPT4po5oOBIzNnvhgCSMHB4wPoOKp4lJ2sxKi2cRRXSeFtBtL+3udQ1FiLW3yCoJGcDJJxzwD25P8APW0fSPDGtyyvbW822MBTFI7Dvww+bPOD3/LuTxEYtqwRoyZwtFSXKLHcyoowquwHfABIFdRoWg6adEOqX0FxdlicRQ5yADjgAjJ75z0xV1KqgrvqRCm5OxydFb2tf8I49oH0xZ4LkEAxMG45wQ2ScY9ia0YdF0XRtIgvNZjmnluACERiMZ7AZHQHnJqXXSV2ilSbdjkKvXmj3lhZw3VzGI0nOEUn5sY6kdhj159q2tc0TTdP+w6pbB306aRd8WSSVIzxkg9AepyD+m14sm0xNFg+0W0r70ItsH7jbeC3zc9vXpWbxN3HlWhSpaO557RRRXWYBViw/wCP62/66r/MVXqxYf8AH9bf9dV/mKyrfw5ehVP4ka1FFFfynP4mfpsdgoooqRlvTtMm1N2SFo1KjJ3H/wCtWh/wiN+RnzLb/vo/4Vjw3EttkxSyRk9SjEV0n2m4/wCES87z5PN3Y37ju+/jr+lfV5Jh8vxFKarwblCLk9ex5uLnXhJcj0bsYeo6ZNpcipMyMWGRsOaqVvWFlFPp7alqs0s0a5VFLE98dc5znikvNMsLvTGv9NDJ5Z+dGP8APPSs8RkE6kXiMPZRa5lFv3rdyoYxRfJPfa/S5hUV0UOl6dZ6ZDc3NvPctIoY+Xn5ePrgCs/UP7IWeF7TzWj3DzE55H1PeuavkNWhTVSpOKvbS+uvyLhjYzk1GLZVuNOuLW3inmTakn3Qep/wp9zpc1rZw3btGY5cbQCc8jPSuj8QSWS6ZCJYXbch8nB+4dvBPNZWpadbW+iWl1HHiWXaGOTzlTXp43IKdCVWNNqXLFPfVXt5a+hz0sbKajfS7Mbik9q6m+0zRtPiinnhkwRjYrH5j69f61S1zSLaCO3uLEHZMQoXJIOenWuHFcNYmhCU+aLcbXSeuvyNoY+E2lZq5iUdK6S407R9IhijvFlllk/iUnj1PB6frUOu6VY2enW81suS7Abyx+YbSc0q3DlejTnUlOPuK7V9V+ARx8JSSSepg9qTnHAqS3iFxcxRE7Q7qufTJxXR3VlounOsNxa3BBHM3zbfzB61y5fk9XGU5VYyUYrq3/w5pXxUaUlFpts5nOBR29q0oNPt9Q1UQWcj/Zz8xZhyB+P4c1qLYaHNeHTo0kEwBUOGP3uenPUfTtW+F4fr4hOUZRSvyq73fkTUxsIWVn39DnrSzmvphFAm98ZPPamSxtDK8TfeRipx6iul8PwQ2Op3NrIjNcpnD9tnHv1/CsnXHs2vHFrE8bq7CUsc7jn6+ua0xWSxoYBYiUlz3aa9Om2/cmni3OtyJaGdRRRXzh3hRRRVQ+JClsZN/wD8f1z/ANdW/mar1Yv/APj+uf8Arq38zVev6so/w4+h+ZT+JhRRRWpIUUUUAFFFFABRRRQAUUUUAFFFFABRRRQAVu6X4Pv9Xs47uCW2WN84DswPBI5AU+lYVX9O1K+gmghivLmOMOBsWVgOTzwOOazq89vddi4ct/eNn/hXmqgf6+y/77b/AOJrm7mBrW4lt3ILROUYrkgkEg49uK7Hx5qF3aXlqttdzwKYySI5CoJz3APNPbSdCttDtdV1GCWR5Y1aTEjbpXYZ7t1zk9q5oVppJz1ubSpxbtHocPRW9anw6813cyxzBM4t7IF8twOSwzyT2zx78Vo3+gWFx4cbU7exlsJkBYxO7NkA4wd3qOhwK2ddJ2aZmqTaujDGgXR0U6v5kPkDjbuO/wC9t9MdffpWZXTro1ifBLakYP8AS8/6ze3/AD029M46cdKvJoeg2/h+01K9hkX5FZ9jsTKSMbcE45J7Y+oFR7e1766leybtY4qtW68O3VppMWpySQmGQKVUE7uenUY/WtfXdE0ptCj1bS1eJMjKsxOQTjHJOCD74pmp6JYW/hK1v4oNtzIELPvY9RzwTin7dOzWmovZWumc8/8Ax4w/9dX/AJJVeu1vtL0LTrW3nu4ZfJESMIYyTvkfqeT6L6gVR8VaHp9np9rqOmhkinIGwknIKlgeeQeP/wBVFPERbSsOVJpXOYors5tE0Hw/p9udWjknuZuSEY8HjOACBgZ6nn+VR6/oGlWXh2O8skLO7KVlZmJZTz06ZxjsKaxEW7WYnRl1OQoqa0g+1XUMG4L5jqm7GQMkDP4Zrs77SvDWivFBeWN44KjNzlyg7c4IGfoKqpVUHbqTCm5anDUVtppVjquvpZ6XLL9lf5mZxyoAOQM8kccZ7n8a3RpXhdtSOjLFOLoDb5u9vvAZxnOM49sdvalKuojVJs46ysbjUblbe2iMkrZwAQOAOpJ4A+tF7aSWF3LbSld8bYbb0zXW+F7K30nxNd2EytJcIP3Mg6BcZORnqQV/LtWX4zl099UdbWCSOdXYXDtnDnjBHJ9+w60o1m6nKthyppQ5mc/RRRXQYhRRRQAUUUUAFFFFABRRRQAUUUUAFFFFABRRRQB23w266j/2y/8AZ67YVxPw266j/wBsv/Z67YV4+K/iM9HD/wANCUUZrh/iX4n1TRZdF0zSrqCwl1W5MLX06Blt1AHY8EnIxnjg+uRnSpupLliVWqqlDnkdzR1rmfC2m+LNPuZ11/XbPV7UqDDIlsIZQ3fIX5cfmff16X8aU48rsncdOfNG7VhaKKKk0CiiigAooooAKKKKACiiigAooooAQ1j+MR/xSetf9eM//otq2aTGRzTi7O5M480WjkfhMP8Ai3eicD/Uf+zGpPid4en8UeCdS020UNdMqyQqf4mRg2PqQCOfWuqCgYApa09u/a+1W97mKoL2Xsn2seW2fxl0u00COzms79fEEMIh/sw2zl2lC4wOMbSffOO1c1q/hy88M/CnQbXUFKXcusRTyxn+AsWOOPbFe64HoKX610RxkYO8I21u9TmlgpTXvy6WWh5h4kupPAvxIHiu8tp5tG1CyFrcTQxlvsrqQQWA7YA/M+mDRbxpa+Mfiv4Sk0yK4bTrYXixXUkTIJnMJ3bcjJAAT06167196TAz0pRxUbax1tb9CnhJXspaXvt8wJxz6V8/6r8Q9A8Z+J5W8S388Ph6xk/0XT4I2YXbA/6yQjt6D3+pP0DSFR1wKzw9eNK7cb389vzNMVh51rKMrJeW/wCKOY8G+PPDvizzbTQZHxaImUMBjVFOQAMjGOMYFdTnikAA6AClNY1HFu8Ub01KMbSYUUUVJoFct8Q/+QNB/wBfC/8AoLV1Nct8Q/8AkDQf9fC/+gtWtD+IjKt8DPPKKKK9o8wKKKKAO00z/kQLz6t/MUfDg4k1D6R/+zVxdFc7oXjKN92bKrZp22NjwmLM63B9t2bMHbvxtLY4znj6e+K7i2GqLr8rXU8SWBG2BAQC5wDx34wc5/CvL6KVWhzu9wp1eVbHd6OrJ471ENxmNj+BKkfoRUnhM/8AFQ67/wBdm/8AQ2rgKKTw1+vQarW6HXeCf+Rmvf8ArlJ/6GtX/CH/ACHdb/66n/0Nq4KinKhzX13FGra2h3vg3/Uax/11P8jVb4cHD6h9I/8A2auLoolh7qSvuNVrNeR2Hg24gu9LvtGklEUs+4qTjkMu3j1xjOPetfwpoJ0Oa5SW5ilmcD5I88KM4Jz65/TvXH6JqOm2iSwanp63UTnIdQPMX1A5Bx9CMH61rxeKtG0m2mGjadNHNIOsvIz2OdxOOc4rGrTldqPU0hONk5HL3nN3MR/z0b+Zrp/CtlqL2TS6brEUUhbLWrruGQe/XGR6A/WuSorqqQco8tzCM0nc9A8SiJdAcawbRr/pEYRznPbPOPXtViG9u9b0W3fR9Qht7pABKjqDzjBByCRzyOK83orH6r7tr6mnt9dtDqfFrajbW8dteaxDeFyC0KxKrLjPPA6ZyOcZ/PGrr1gda8O2k9tNFst4vMbJ5ICdBjvXA0VXsLWs9UT7Xe6CiiiukxCrFh/x/W3/AF1X+YqvViw/4/rb/rqv8xWVb+HL0Kp/EjWooor+U5/Ez9NjsFFFFSMTtXSZH/CHYzzu/wDalc3S16WX4/6p7T3b88XH0v1OevR9ry67O51Gg3f2jSDZQTrBdITtLDPfOcHqO1R6p/aVrYN9q1OFi42mIIvzZ7A4rms9u9HfmvXfEcpYVUJRfMo8t1JpW9Fuc31Fe0c09G77HT6VbagtmjWWowSL3jccL7Z6/hxTPE/2cW0IkMRvcjcY/Tv+Gelc5RUz4hi8I8NGnukrttr5J7feCwTVX2jl+B1WrWv9paNbTQSIViTec9T8vSq+skHw5p/rlP8A0E1zopKqvxFGpztUrOcVF69uuwRwLVve0TvsdP4rINnZgHv/AEpuqy+VoemSDkoY2x9FNc1S496VXiJzqVaihbnSW+1vkEcDaMYt7Ns6zVdPTXY4Lu2uY1VRhtx6D/H61D4jSOPRbNIm3opUK3qNpqmuoaJKqtPpzrIBz5ZwufzH8qg1nWF1ERQwReVBF91Tj09BwK9rHZlg3hq1ROPPUSWjevyaVjko0KvtIRadkzPhQSTIpkEQLD5j/DXYWtvqkXl4vre5tyBuLrzj2x1/GuMAwOKTrXzWUZtHAXcoOV+0mv8AgM78VhnWtZ2+R0z3thZeIlaIosbIUkZfuhjzn+X+c1eng1Np2ki1SNLY/MpKKSPbp0981xnWivRpcUOKnGVPRy5lyycbeWm5jLL07NPW1tVc39Fuc6/K89wkrshXzBgBjx2/CqOu6fJZXbO7q3nMzrt7DOefzrOorzK+bKthHh5w15nJO+19/X7zeGG5KinF6WtYKKKK8Q7AoooqofEhS2Mm/wD+P65/66t/M1Xqxf8A/H9c/wDXVv5mq9f1ZR/hx9D8yn8TCiiitSQooooAKKKKACiiigAooooAKKKKACiiigAqaz/4+4P+ui/zFQ0UnqrDW513xF/4/rT/AK5H/wBCqXxIf+KK0r6xf+i2rjKKwVCyir7Gjq3b8ztvCQQ6BdHT/K/tP5uWxu6fLjPbHTPGa0LlLxvCN5HezJNdqjGXawO3nOOOOBXnNFTLD3lzXKVaytY7MH/i3D/X/wBrVJrJ/wCKEsvpF/KuIop+w1vfrcXttLWOzP8AyThfr/7WqTWT/wAUJZfSL+VcRRR7Dz63D23kdj4y/wCQVY/7sX/oL07xJ/yJelfWL/0W1co//HjD/wBdX/klV6UaGi12HKrqzv8AV9OTxjY2l3ZXUSNGDuV+i5AyDjOCMU3xNFHbeD7eGKUSohjVXHRuOtY8OseG7iCP7fozidRgm3+VW9+GHX36etReI/EkGq2tvY2VsYLWEggNjJIGABjgAD8/54xpy5lG2iZo5xs2YUKCSZEaQRhmALnOFBPU45wK9GsLTXbcQ+Vq1nfWpA3NKvIHfBGc/UmvNqK6a1LntqY06ij0O4vNS0vTPF0EsBjVWRo7lkA2gk8HjvkcmtS6ttbnu2ntNbghsWG5T5SMV/TBHvmvM6KzeGWmpareR1eiXzN4x33d7FcsQ0YnUBVc44xgf/r/ACqr4z0qWy1J7t3RkunZlCnlcAdf19a56itI0rTUkyHUvFxaCiiitzIKKKKACiiigAooooAKKKKACiiigAooooAKKKKAO2+G3XUf+2X/ALPXbCuJ+G3XUf8Atl/7PXbV4+K/iM9HD/w0JXlnxrV5J9BXU0uW8M+ezag1spLKRjaWx0HJ/XvivU+9B561OHreyqKdrixNH21NwvY888H+JLC/srnQPAmlzx6faW0htdQuN4t1nYsQp35cjccnr9MYqve2l94V1Tw1DF4g1S+1m+uo47u3luWlimiIPnOIzgIq9QQBjjiu91ie9tdLupdMtBd3qRkwQFwgkfsCSQAM+9cF4MtPEml6gL3V/CV5c6peuq3eqS31ufKQn7qIGJCL12jk478Y6YSUuaa27Nq7+85ZxcXGD1fdLRfcemUUUVwnpBRRRQAUUUUAFFFFABRRRQAUUUUAFFFFABRRRQAUUUUAFFFFABRRRQAUUUUAFFFFABXLfEP/AJA0H/Xwv/oLV1Nct8Q/+QNB/wBfC/8AoLVrQ/iIyrfAzzyiiivaPMCiiigAooooAKKKKACiiigAooooAKKKKACiiigAooooAKKKKACiiigAooooAKsWH/H9bf8AXVf5iq9WLD/j+tv+uq/zFZVv4cvQqn8SNaiiiv5UqfEz9NjsFFFFQMKKKKACiiigAooooAKKKKACiiigAooooAKKKKACiiigAooooAKKKKACiiirh8SFLYyb/wD4/rn/AK6t/M1Xqxf/APH9c/8AXVv5mq9f1XR/hx9D8yn8TCiiitSQooooAKKKKACiiigAooooAKKKKACiiigAooooAKKKKACiiigAooooAKKKKALD/wDHjD/11f8AklV6sP8A8eMP/XV/5JVepiOW4UUUVQgooooAKKKKACiiigAooooAKKKKACiiigAooooAKKKKACiiigAooooAKKKKAO2+G3XUf+2X/s9dsK4n4bddR/7Zf+z12wrx8V/EZ6OH/hoKKKKwNwooooAKKKKACiiigAooooAKKKKACiiigAooooAKKKKACiiigAooooAKKKKACiiigAooooAKKKKACsTxVo1xrmnx21s8SOsokJkJAxtYdgfWtuinGTi7omSTVmed/wDCvdV/572X/fbf/E0f8K91X/nvZf8Afbf/ABNeifjRXR9bqdzL6tA87/4V7qv/AD3sv++2/wDiaP8AhXuq/wDPey/77b/4mvRKKPrdTuH1aB53/wAK91X/AJ72X/fbf/E0f8K91X/nvZf99t/8TXolFH1up3D6tA87/wCFe6r/AM97L/vtv/iaP+Fe6r/z3sv++2/+Jr0Sij63U7h9Wged/wDCvdV/572X/fbf/E0f8K91X/nvZf8Afbf/ABNeiUUfW6ncPq0Dzv8A4V7qv/Pey/77b/4mj/hXuq/897L/AL7b/wCJr0Sij63U7h9Wged/8K91X/nvZf8Afbf/ABNH/CvdV/572X/fbf8AxNeiUUfW6ncPq0Dzv/hXuq/897L/AL7b/wCJo/4V7qv/AD3sv++2/wDia9Eoo+t1O4fVoHnf/CvdV/572X/fbf8AxNH/AAr3Vf8AnvZf99t/8TXolFH1up3D6tA87/4V7qv/AD3sv++2/wDiaP8AhXuq/wDPey/77b/4mvRKKPrdTuH1aB53/wAK91X/AJ72X/fbf/E0f8K91X/nvZf99t/8TXolFH1up3D6tA87/wCFe6r/AM97L/vtv/iaP+Fe6r/z3sv++2/+Jr0Sij63U7h9Wged/wDCvdV/572X/fbf/E06LwNqVnIlzJPaFIWEjBXbJAOTjK9eK9BqG9/485/+ubfyqZYmpJWbGqEU7nJ/8IjqH/PS2/76P+FH/CI6h/ftv++j/hXZ0V8W+C8tbvyv7z1v7Tr9zjP+ER1D+/bf99H/AAo/4RHUP79t/wB9H/Cuzopf6lZb/K/vD+1K/c4z/hEdQ/v23/fR/wAKP+ER1D+/bf8AfR/wrs6KP9Sst/lf3h/alfucZ/wiOof37b/vo/4Uf8IjqH9+2/76P+FdnRR/qVlv8r+8P7Ur9zjP+ER1D+/bf99H/Cj/AIRHUP79t/30f8K7Oij/AFKy3+V/eH9qV+5xn/CI6h/ftv8Avo/4Uf8ACI6h/ftv++j/AIV2dFH+pWW/yv7w/tSv3OM/4RHUP79t/wB9H/Cj/hEdQ/v23/fR/wAK7Oij/UrLf5X94f2pX7nGf8IjqH9+2/76P+FH/CI6h/ftv++j/hXZ0Uf6lZb/ACv7w/tSv3OM/wCER1D+/bf99H/Cj/hEdQ/v23/fR/wrs6KP9Sst/lf3h/alfucZ/wAIjqH9+2/76P8AhR/wiOof37b/AL6P+FdnRR/qVlv8r+8P7Ur9zjP+ER1D+/bf99H/AAo/4RHUP79t/wB9H/Cuzoo/1Ky3+V/eH9qV+5xn/CI6h/ftv++j/hR/wiOof37b/vo/4V2dFH+pWW/yv7w/tSv3OM/4RHUP79t/30f8KP8AhEdQ/wCelt/30f8ACuzoprgvLU72f3h/adfueey+BtSvJHuY57QJMxkUM7ZAJzzhevNN/wCFe6r/AM97L/vtv/ia72y/484P+ua/yqevtI4mpFWR5DoQbued/wDCvdV/572X/fbf/E0f8K91X/nvZf8Afbf/ABNeifjRVfW6ncPq0Dzv/hXuq/8APey/77b/AOJo/wCFe6r/AM97L/vtv/ia9Eoo+t1O4fVoHnf/AAr3Vf8AnvZf99t/8TR/wr3Vf+e9l/323/xNeiUUfW6ncPq0Dzv/AIV7qv8Az3sv++2/+Jo/4V7qv/Pey/77b/4mvRKKPrdTuH1aB53/AMK91X/nvZf99t/8TR/wr3Vf+e9l/wB9t/8AE16JRR9bqdw+rQPO/wDhXuq/897L/vtv/iaP+Fe6r/z3sv8Avtv/AImvRKKPrdTuH1aB53/wr3Vf+e9l/wB9t/8AE0f8K91X/nvZf99t/wDE16JRR9bqdw+rQPO/+Fe6r/z3sv8Avtv/AImj/hXuq/8APey/77b/AOJr0Sij63U7h9Wged/8K91X/nvZf99t/wDE0f8ACvdV/wCe9l/323/xNeiUUfW6ncPq0Dzv/hXuq/8APey/77b/AOJo/wCFe6r/AM97L/vtv/ia9Eoo+t1O4fVoHnf/AAr3Vf8AnvZf99t/8TR/wr3Vf+e9l/323/xNeiUUfW6ncPq0Dzv/AIV7qv8Az3sv++2/+Jo/4V7qv/Pey/77b/4mvRKKPrdTuH1aB56fA2pNGtsJ7TfGxkJ3NghgAMfL1+U5+opv/CvdV/572X/fbf8AxNd6n/H5L/1zT+bVNS+t1F1D6vA88/4V7qv/AD3sv++2/wDiaP8AhXuq/wDPey/77b/4mvRPxop/W6ncPq0Dzv8A4V7qv/Pey/77b/4mj/hXuq/897L/AL7b/wCJr0Sij63U7h9Wged/8K91X/nvZf8Afbf/ABNH/CvdV/572X/fbf8AxNeiUUfW6ncPq0Dzv/hXuq/897L/AL7b/wCJo/4V7qv/AD3sv++2/wDia9Eoo+t1O4fVoHnf/CvdV/572X/fbf8AxNH/AAr3Vf8AnvZf99t/8TXolFH1up3D6tA87/4V7qv/AD3sv++2/wDiaP8AhXuq/wDPey/77b/4mvRKKPrdTuH1aB53/wAK91X/AJ72X/fbf/E0f8K91X/nvZf99t/8TXolFH1up3D6tA87/wCFe6r/AM97L/vtv/iaP+Fe6r/z3sv++2/+Jr0Sij63U7h9Wged/wDCvdV/572X/fbf/E0f8K91X/nvZf8Afbf/ABNeiUUfW6ncPq0Dzv8A4V7qv/Pey/77b/4mj/hXuq/897L/AL7b/wCJr0Sij63U7h9Wged/8K91X/nvZf8Afbf/ABNH/CvdV/572X/fbf8AxNeiUUfW6ncPq0Dzv/hXuq/897L/AL7b/wCJo/4V7qv/AD3sv++2/wDia9Eoo+t1O4fVoHOeEfD13oP2r7VJC/nbNvlsTjG71A9a6MUZorCUnJ8z3NYxUVZBRRRUlBRRRQAUUUUAFFFFABRRRQAUUUUAFFFFABRRRQAUUUUAFFFFABRRRQAUUUUAFFFFABRRRQAUUUUAFFFQXN3b2aB7meKFCcBpGCjPpk/T9KLCJ6Kof25pX/QSsv8Av+v+NH9uaV/0ErL/AL/r/jT5X2FzIv0VQ/tzSv8AoJWX/f8AX/Gj+3NK/wCglZf9/wBf8aOV9g5kX6Kof25pX/QSsv8Av+v+NH9uaV/0ErL/AL/r/jRyvsHMi/RVD+3NK/6CVl/3/X/Gj+3NK/6CVl/3/X/GjlfYOZF+iqH9uaV/0ErL/v8Ar/jR/bmlf9BKy/7/AK/40cr7BzIv0VQ/tzSv+glZf9/1/wAaP7c0r/oJWX/f9f8AGjlfYOZF+iqH9uaV/wBBKy/7/r/jR/bmlf8AQSsv+/6/40cr7BzIv0VQ/tzSv+glZf8Af9f8aP7c0r/oJWX/AH/X/GjlfYOZF+iqH9uaV/0ErL/v+v8AjR/bmlf9BKy/7/r/AI0cr7BzIv0VQ/tzSv8AoJWX/f8AX/Gj+3NK/wCglZf9/wBf8aOV9g5kX6Kof25pX/QSsv8Av+v+NH9uaV/0ErL/AL/r/jRyvsHMi/RVD+3NK/6CVl/3/X/Gj+3NK/6CVl/3/X/GjlfYOZF+oL3/AI85/wDrm38qg/tzSv8AoJWX/f8AX/GobnWdNltpY49QtHdkKqqzKSSRwAM0crHzI1OKOKof25pX/QSsv+/6/wCNH9uaV/0ErL/v+v8AjRyvsLmRf4o4qh/bmlf9BKy/7/r/AI0f25pX/QSsv+/6/wCNHK+wcyL/ABRxVD+3NK/6CVl/3/X/ABo/tzSv+glZf9/1/wAaOV9g5kX+KOKof25pX/QSsv8Av+v+NH9uaV/0ErL/AL/r/jRyvsHMi/xRxVD+3NK/6CVl/wB/1/xo/tzSv+glZf8Af9f8aOV9g5kX+KOKof25pX/QSsv+/wCv+NH9uaV/0ErL/v8Ar/jRyvsHMi/xRxVD+3NK/wCglZf9/wBf8aP7c0r/AKCVl/3/AF/xo5X2DmRf4o4qh/bmlf8AQSsv+/6/40f25pX/AEErL/v+v+NHK+wcyL/FHFUP7c0r/oJWX/f9f8aP7c0r/oJWX/f9f8aOV9g5kX+KOKof25pX/QSsv+/6/wCNH9uaV/0ErL/v+v8AjRyvsHMi/wAUcVQ/tzSv+glZf9/1/wAaP7c0r/oJWX/f9f8AGjlfYOZF/ijiqH9uaV/0ErL/AL/r/jR/bmlf9BKy/wC/6/40cr7BzIv8UcVQ/tzSv+glZf8Af9f8aP7c0r/oJ2X/AH/X/GjlfYOZFiy/484P+ua/yqes611Oyjtoka7gVlRQQZBkHFS/2vp//P7b/wDfwVyPG4dOzmvvNfZy7FvNGaq/2vp//P5b/wDfwUf2vp//AD+W/wD38FH17D/zr7w9nLsWs0Zqr/a+n/8AP5b/APfwUf2vp/8Az+W//fwUfXsP/OvvD2cuxazRmqv9r6f/AM/lv/38FH9r6f8A8/lv/wB/BR9ew/8AOvvD2cuxazRmqv8Aa+n/APP5b/8AfwUf2vp//P5b/wDfwUfXsP8Azr7w9nLsWs0Zqr/a+n/8/lv/AN/BR/a+n/8AP5b/APfwUfXsP/OvvD2cuxazRmqv9r6f/wA/lv8A9/BR/a+n/wDP5b/9/BR9ew/86+8PZy7FrNGaq/2vp/8Az+W//fwUf2vp/wDz+W//AH8FH17D/wA6+8PZy7FrNGaq/wBr6f8A8/lv/wB/BR/a+n/8/lv/AN/BR9ew/wDOvvD2cuxazRmqv9r6f/z+W/8A38FH9r6f/wA/lv8A9/BR9ew/86+8PZy7FrNGaq/2vp//AD+W/wD38FH9r6f/AM/lv/38FH17D/zr7w9nLsWs0Zqr/a+n/wDP5b/9/BR/a+n/APP5b/8AfwUfXsP/ADr7w9nLsWs0VV/tfT/+fy3/AO/go/tfT/8An8t/+/go+vYf/n4vvD2cuxIn/H5L/wBc0/m1T1mf2tp8dw7vfWqKyKAWlUZILcdfcfnUg1zSv+glZf8Af9f8a6IPnjzR1Rm7J2Zfoqh/bmlf9BKy/wC/6/40f25pX/QSsv8Av+v+NXyvsLmRfoqh/bmlf9BKy/7/AK/40f25pX/QSsv+/wCv+NHK+wcyL9FUP7c0r/oJWX/f9f8AGj+3NK/6CVl/3/X/ABo5X2DmRfoqh/bmlf8AQSsv+/6/40f25pX/AEErL/v+v+NHK+wcyL9FUP7c0r/oJWX/AH/X/Gj+3NK/6CVl/wB/1/xo5X2DmRfoqh/bmlf9BKy/7/r/AI0f25pX/QSsv+/6/wCNHK+wcyL9FUP7c0r/AKCVl/3/AF/xo/tzSv8AoJWX/f8AX/GjlfYOZF+iqH9uaV/0ErL/AL/r/jR/bmlf9BKy/wC/6/40cr7BzIv0VQ/tzSv+glZf9/1/xo/tzSv+glZf9/1/xo5X2DmRfoqh/bmlf9BKy/7/AK/40f25pX/QSsv+/wCv+NHK+wcyL9FUP7c0r/oJWX/f9f8AGj+3NK/6CVl/3/X/ABo5X2DmRfoqh/bmlf8AQSsv+/6/40f25pX/AEErL/v+v+NHK+wcyL9FVbfUrK7cx213bzOBu2xyKxA9eO3SrVK1hp3CiiigYUUUUAFFFFABRRRQAUUUUAFFFFABRRRQAUUUUAFFFFABRRRQAUUUUAFFFFABRRRQAUUUUAFFFFABXLfEP/kDQf8AXwv/AKC1dTXLfEP/AJA0H/Xwv/oLVrQ/iIzq/AzzyiiivZPLCiiigAooooAKKKKACiiigAooooAKKKKACiiigAooooAKKKKACiiigAooooAKsWH/AB/W3/XVf5iq9WLD/j+tv+uq/wAxSnsOO5XooopiCiiigAooooAKKKKACiiigAooooAKKKKACiiigAooooAKKKKACiiigAooooAKKKKUtmNbnQz/AOvk/wB4/wA6ZT5/9fJ/vH+dMr+Wse39Yqer/M/SqS9yPoFFFFcnMzWwUUUUczCwUUUUczCwUUUUczCwUUUUczCwUUUUczCwUUUUczCwUUUUczCwUUUUczCwUUUUczCwUUUUczCwUUUUczCxU1X/AFEH+8/8lrMrT1X/AFEH+8/8lrMr+j+Ev+RTQ9D4DNf96mFFFFfRHnBRRRQAUUUUAFFFFABRRRQAUUUUAFFFFABRRRQAUUUUAFFFFABRRRQAUUUUAdR8Pf8AkNTf9ezf+hJXodeefD3/AJDU3/Xs3/oSV6HXlYv+Iz0cP8AtFFFcxuFFFFABRRRQAUUUUAFFFFABRRRQAUUUUAFFFFABRRVe9vIbC1mu7h9kECNLI2CdqqCScDnoKFqJu2rJ6K4b/hdngL/oOn/wEn/+Ird8M+NNB8YLcNod99rW3KiX906bc5x94DPQ9K1nQqwV5Ra+RjDE0pvljJN+puCjtR/KszXPEWm+G7aK51S5NvFLKsCNsZsu2cD5QT2PtWaTbsjWUlFXZp5o70VmXfiDTLLWbHRp7jZf3yu1vFsY7wgJbkDA4B6kUkm9EDkoq7NOjtRXM698R/Cvhm8+xarq8UFxwTEqPIy56bggO38cVUISm7RVxTqRgrzdjp6Ko6Vq9jrdlHfaddRXVvIMrJG2Qf8AA+1Xqlpp2Y001dBRRRQUFct8Q/8AkDQf9fC/+gtXU1y3xD/5A0H/AF8L/wCgtWtD+IjKt8DPPKKKK9o8wKKKKACiiigAooooAKKKKACiiigAooooAKKKKACirOnafLqd7FZwMiySZwXOF4BPUc9B6Vv/APCvNV/572X/AH23/wATWU6sIO0nqXGnKSujl6K2NZ8L3mh26T3Mtu6u4QCNmJzgnnIHHBrHq4zUleOwnFp2YUUVZ06wl1O9itIWRZJM4LnC8Anr16D0ptpJtkpNuyK1FWtS0+XSr2SzmZGkjxkocryM9cZ7+lVaIyTSa2Y2mnZhViw/4/rb/rqv8xUukaTPrV0bW3aJXCl8yEgYBHoDzz6U4Wj6frKWspQvFOqsUJIJyOmQP5VEpLWN9RxT3KFFFFWSFFFFMAooooAKKKKACirzaPdppv8AaTxhLckKpJ5bJxkD09zj2zVGpjJPZjaa3QUUUVQgooooAKKKKACiiigAooooAKKKKACiiigAoooqZbMa3Ohn/wBfJ/vH+dMp8/8Ar5P94/zplfyzj/8AeKnq/wAz9LpfBH0CiiiuQ0Dp1pOtSQwyXMqxRLudzgD1q/8A8I5qp6Wh/wC+1/xrtw+AxOITlRpuS8k2ZTr04O05JGZn2pauXej39lF5txBsTIGdwPP4GqfPQ1lXw1WhLkrRcX56DhUjNXi7hRRRXOaCd8UdTUsdtPLE8qRsUT7zY4H/ANenw6fc3FvJcRx7oo87myOMDP410ww1WbSjFu/kZurFbsgooormNAooooAKKKKACiiigAooCksAM+gFSXFvLblVljaNmG4BuuP6dK0VOTi5JaInmSaT3I6KKKzKCiiigCpqv+og/wB5/wCS1mVp6r/qIP8Aef8AktZlf0hwj/yKaHofAZr/AL1MKKKK+jPOCitDTtA1LVoWms7bzUVtpO9VwcA45IPQirf/AAhmvf8APif+/qf/ABVZupBOzepahJq6RiUVNeWc9hcPbXKbJUwGXIOMgEcgkdCKhq001dENNOzCiirtto97eWkt5BBvghz5j71G3AyepB/SiUkldsaTeiKVFFFMQUVej0a/l09tQSDNqoJMm9R0ODxnPX2qjUqSd7PYbTW6CiiiqEFFFFABRRRQAUUUqIzsFVSzMQAoGSSegA7mgBKKmurSexl8q5iaJyoba3UAjuO30PNQ0k01dA09mFFFFMDqPh7/AMhqb/r2b/0JK9Drzz4e/wDIam/69m/9CSvQ68nF/wARno4b4BaKKK5jcKKKKACiiigAooooAKKKKACiiigAooooAKKKKACsfxj/AMilrX/XjP8A+i2rYrH8Y/8AIpa1/wBeM/8A6Laqp/GjKr8DPMvAXxF8BaR4Q0yx1W7gW9hh2yq1lI5ByeMhCD+dd2njLw3beE7rxRpzo+mxKxLRwmMuwOAoDAHJY4HuapfCvTrKb4faLJLaQO7QHLNGpJ+Y+1O+Kugzan8PdUsdNgIdVSVYYhjeEdWIwBzwDx3OK76rpTr8mvxa6+foefRVWFDn0+HTTXb1MWLxb8SLjSf+Ehh8P6P/AGaU89bJpZPtTRdc5+7nHbGfbtVH4ieI7Xxb8PtB1izDLFPqkB2MfmRhvBU/QitzTviz4Vg8Hw376lbpNDbANZFwJvMC42BevXgHGO/SuAn0e70f4RaCt7EYZbjWY7jyyNpQMWwCPoM/jW9KmlNOUeVqWhz1qr5OWMuZOOv4HpPivxpqtrr1r4Y8MWNveavNF9ole5YiG3iBxlsckk9h6j1rkxfeILn4veFLbxHY2lveW8d1tltGZoZ1aJ8Fd3IIIIIPsa0dT1GDwb8Xf7W1hhb6dq2ni3iumHyJIrA7WPbgD25HviPUPFmleI/i/wCErfSrmK7WzS78yeIhkJeE4UN3wFzx/e+tRShyr3Y6OL1+T/4YqrPmfvS15lp81/w56qa4a6tfCnwvt9Q1rUpJnbVbo+ZPOnnSO7AnyxtXhflY4PHv0Fdz9K4bS/ihol1eajp/iAW+iXthM8fk3cwxIg43qxABzzwOcc9DXDQU3eyuutj0cQ4K3M7PpczvgpGJbDW9TtkSDTr+/ea0tlkDGJPcAkKenHt6Yr0uvK/haIb3xp4q1fRIjF4duGjSHC7UllUfMyj0zuP0Yfh6n2q8b/Ff9dCMvf7lfP8AMWiiiuU7QrlviH/yBoP+vhf/AEFq6muW+If/ACBoP+vhf/QWrWh/ERlW+BnnlFFFe0eYFFFFABRRRQAUUUUAFFFFABRRRQAUUUUAFFFFAD4ZpbeQSwyPHIvRkYqwyMdRyODXb+EL66udI1OSe5mldB8rPIWK/Keh7fhXC12ngn/kCar9D/6Ca5sVFct7G1BvmsUPC6t4g1JrXVJri7gWJpFSSZyAwIAPX0J/OjXIvD1o76fawSpcrIqPclmZUGRu4yc4HHT8c0vw/wD+Q5J/17t/6EtU3+y/8JbN9sI+z/bX356Y3nr7Zxn2zUWftGlslfQu/uLuathZeHry/hsbTTp7yJlw92XkUK2CeRwOw596rDQLS38YR6ZIpltXy20tg42E4yMHqK6mcakmtWzRzww6QqjoVAYkEBfXJOMY4x71l3alfiFaseAyZHuNjD+YNYwqO716FuC09Snb6Dp0njG605rfNqkQZY97cHavOc57n86tQaR4YbVJNIMM0lyNx3F2Cg8naMHqB6+nXNTWf/JQr3/riP8A0BKzrI/8XDb/AK6yf+gNTvJ9XtcNF06kGk+HrQ+KLnTLlTPDErFckg9iM4xzg1Ppuj2J13VojB8lopeEb2+Qjkd+fxzV+x/5KDff9cv/AGVKbpn/ACMPiD/rm1E5S1d+iCEY/iM07RvDN/cz6ZElw9zApDSszDdg4JHOOD7fmKyvD/hqPUNXu4LhybezYq+3gsQxA+gOCT3/AJ1d8Jf8jdf/AEl/9DFT+HdRt7XxJrFrO4T7TO2xicZIduPqd3H0ptzjzJPoJKLs2g07TfCusX7QWsMoMIJKszBZR0yDnPGR6da5fXLaKz1e6t4F2RRybVXJOB6ckmux8O+GDoerPLLdxOWRlijXO5hkZJB6YxjjPWuT8S/8h6+/66mroSvUsndWJqxtHVGl4V0KxvrO5v75JZkhJUQx5ycAE9DknnAxj/BNTHhd7GT7NDdWd4udsbhicjoCCSMH65/lSeEbO7n857HV47SYceSV3bwOQSDxjJxnBI59eelvwU0Wf/hInspG2nyzEOc44xnHzfSpnNqpvccIpw2MDSND0y20Q6xrAkkRydkSEjjPHQjJJB74xTdb0PTZNFTWdI3xw5AeNyT1OO/OQfcj099jQL+XU/DsdpYXsdtfwAJhlB4B44IPBGOR0qh4kOr2OmeXfa3BM0oAa3WJQTzzg47dc4FJSm579RuMVHRGteXGjL4XglmtJm087dkQPzDk4z839a84rvLewOu+Dba1tp4g6Ebi5+7hjkccg45H4fWuEIKkgjkHBrXCpLmV9SKzvYSiiius5wooooAKKKKACiiigAooooAKKKKACiiigAoooqZbMa3Ohn/18n+8f50ynz/6+T/eP86ZX8s4/wD3ip6v8z9LpfBH0CiiiuQ0HQzS28yywttdTlT6V1fhrU7u/F19pl8zYFK/KBjr6fhXJV0Xg/g3nP8ACv8AWvqeFMVVhjoUoyai76X02Z52Y04ui5Na6FeyfUPETm2muf3C/M52Dj24FTf2BYXiSrp960k0fUN0z+XSk8ITxpPcQswDyKpUHvjP+NW4YNWtXkeOz02EqMb1XG4e2D0+uK93BYajicLCviIupKTlzPVtW2trp31OOtUnTqOMHypWt0MvStGiuoJrm7maKKElW2jkfXNF5YaUtoZrS/LOOiP1P4YyKsaMdVfz57U27IzlmjZuCT1x6fnV28sYbjTZp72yis5lBIZGBJPrx/KsMPltGrgf3VJJ2esk9fNNOy9GXOvONb3pdVt/kO0+KyPhxlaV/KZf3rY5U8ZxxWbZ2Ecum380N1cLHEXCqr4VwBxkfSrelRNdeGp4IsNIxIAzjnjik0qNoND1OJxhkMinnPRRXcoqt7C8Eo+zeqvvZ6GLfJz2lrzbfqVtP0G2u9MF5LcPEcnceNoAP/1qLrQrM6a97YXLyKgyd3cDr2yDVq1x/wAIjL9G/wDQqj0b/kW9Q+r/APoIrljgsHKMKDpK8qTlfW9zSVWqnKak9JWsVtO0OCWwN9eztDD229cZxn86nfw/ZHT572C6klRULIRgdB349asxwnV/DccNuV82PAKk9x/jT7Wxk0/w9eRykeYyuzKDnb8vT8q2oZXh+SMVRTh7Pm59fit93yJniJ3b5rO9reRyRNbsOi2ENhFdahdyR+aAVCD1HTocmsOunsF1eOwjHk293AVG1CwzjHr0/nXzfD1ClVqzVSnzaaaNpeqVmd2OnKMY2djI1OwtIHjFldi4D8bcgkH8P5VoHQLCzSJb+9aOaToFIxn8ulSazaWlktpdiFIJvMUtGhyCByR/9er2qQXF28M1pa2V0jKBulUEr79enNfQ0cnoQq1pTppyXLaKu1Z+W/8AkcM8TNwglJ211MhNIi07WYI7mVvKYhonA+82RhT/AJ9KseK47PzN5lcXQQbYwPlIz16fXvUOpT3rarYx3ot1KOpHlHjGR1z9Kk8V2UxuBdhR5KxqpbI65Pb8RWVeNOngsVSw9LRSW6d1p+nQuDk61OVSW6Oeooor8+PbCiiigCpqv+og/wB5/wCS1mVp6r/qIP8Aef8AktZlf0hwj/yKaHofAZr/AL1MKKKK+jPONDTtf1LSoWis7nykZtxGxWycAZ5BPQCux8Ua1f6dplhNaz+XJKAXbapz8oPQg45rz6u08bf8gXSvoP8A0EVyVYRdSOm50U5y5HqNs9Atdc0sa3qd7Okr7jM42gbVJHTHBwBWZDpOiXepSLFqZjsYkDM8zBXdjnhcgccen9K1UOPhu+OOf/a1VvBOl2V7FeXE0MdzPFgJFIMjkZ78cnjkcYrNSajKV9nYppNpWGxeG9L1TSrm80ue7DwZ+W42/NgZ7AYyO+frTNC0z7V4b1G6+23sXlCT91FLtjfCA/MMc56HnkV02kS6hc6LeNe2iWzEOI4kTbhdvp9axvDH/In6v9Jf/RYqPaS5Wm+qK5Ipoq6R4UstQ0JdQmuZYGBJdiRsVQ2DxjOcD160t94W019Fk1LSr2WZYwWbzMYIHUdAQe/P9c1esf8Akns/0f8A9DqLw5/yJWrfWX/0WtU5zTcr9bCUY6K3Qq2ul+Z4Plvftt6u0N+4WXERw393H49etPtvCenSaLbalc3kturDfMSQRjn7oxnOcev48Vcsf+Sez/R//Q6S+/5J7B9E/wDQ6OaV2k7ahyx/Azta8M2Ntoy6rpt3JNDkZ8zHIJxkYAwc9Qf0xS6b4WsRpC6nrF3JbxyDKBMA47E8HJI5GB0q6v8AyTdv97/2tU91ZSeIvCFglgUeSDZlCQCSq7SOeAc+tHtJJcrfW1w5It3t0KN34S06HRLjUre8muAoLxMCApHQZ4zkdD/IdK5KvQX0+XTPA9xazlTKqMWCnIXLZx+tefDk4rbDSbUrszrRSa0Ovfwro2l29v8A2xqM0U8w4EeNvbP8JOBnGTisfVdItIdQhttLvUvBOQoAIO0nGMkcc5611NtH4ijsoYrmysdUgZQMFxuA7Ek8EfQEmoNattM0PWNLvI4o7eRpP3sSn5QpGN2OgwfQc/hWUaslLe7NJQTWiIG8JaJaSw2d5qkovZRwq4AJzgdjjJ4GTz2qvpWjRaR4sjtb2ZvlHmW7KP8AWEnABHOO+enI6+u/q9rqUuoxTWOnaVcRsFInnTLIR3znOPTArCubq9k8X2Caitok0bKmYCcEEnAOSTnJ74/WohOck02OUIxaaQvj2KwF35iTyG/JUPFj5Qm085x16d65Kuq8d6dcJqBvyg+zuEjDZ/iweMde36iuVrrw38NamFb42FFFFbmR1Hw9/wCQ1N/17N/6Eleh1558Pf8AkNTf9ezf+hJXodeTi/4jPRw3wBXIePPF1/4ffStO0e1gudU1acwwfaWIiQKAWZsc9xwPf8ewryf42OlxqHhrTb2VdP06e4d5dS2jfAygYCt/Dn1/HsaWEpqpVUWZ42pKnRco7nY+FrrxhJc3EHiaw0pI0UGK6sJWKuc8jY3I475H09OmrhvDnirS4oZ/Dnh/Ub3xHf2NrJOtzNL5wlYkkI03C5yQBngDAzxWfZ6/r+m+JNG0y716HVdRvH/4mGlpBGBYoU3bgycgLlR8xO7OR1FVKhKcn0+8iGIjCCvrc9KooorlO4KKKKACiiigAooooAKKKKACiiigAqKeGO5heGaNJIpFKujgFXU8EEHqDzUtFAFezs7bT7aO1tLeK3gjGEiiQIij0AHAH0qxRRRcSVtDJbwroL3v286Lppu927zzbJ5mfXdjOat3umWWqRLDfWdvdRo4kVJow4Vh0YA9x61apablLqyVCK2RWvdOs9Ut2tr60guoW6xzRh1P1B4qra+HNFsWt3tNJsIGtixhaO3RTEWGGK4Hy5AAOOtadFCk1pcOSLd7Bis3U/Dmjaw6vqOlWF668K1xbpIR9NwrSooTa1Q3FS0ZDbW0NpCsFvDHDEgwqRqFUD0AHQVNRRS3GklogooooGFct8Q/+QNB/wBfC/8AoLV1Nct8Q/8AkDQf9fC/+gtWtD+IjKt8DPPKKKK9o8wKKKKACiiigAooooAKKKKACiiigAooooAKKKKACiiigAooooAKKKKVgCiiigAqxYf8f1t/11X+YqvViw/4/rb/AK6r/MUpbFR3K9aOi6haWE7/AG6yjuoJBgggFlx3XP69PrxWdRQ4qSsxJtO511p4k8PaTvm07S7lbgqVBc5H0yWOB9BXLXNw93cy3EmN8rs7YGBkknj8TUVFRCkou63KlUctGFFFFaEBRRRQAUUUUAFFFFMAooooAKKKKACiiigAooooAKKKKACiiigAoooqZbMa3Ohn/wBfJ/vH+dMp8/8Ar5P94/zplfyzj/8AeKnq/wAz9LpfBH0CiiiuQ0AipIria3z5Uske7rsYjNR9KOtaQnKD5ouxMopqz1AMVYFSQRzkfzqWS9uZUKvczOp6qzkioutGaqFepBOMZNJ+YnCLabWw6GaWAlopHjJHJRsU6W5nnAEs8kgHOGYmo6CaaxFVR5FJ27XDki3zW1JIbmeHPlSyR567XIzR9ruArqJ5QrnLDefmyO9R/SimsTVSUVJ2XmJ04t3aJBczCLyhNIIz/BuOPypFuJkjMaSyKjdVDHByKZRS9vU0fM+2/Qfs49jX0ubTFtts09zaT85kiZvmHOOn5VZvNVsLfTpbWykluHmJ3vJnPTBJz7Vz9HFexS4gr0qHsIRitLXtrb77X87HLLAwlPnbYdKkiu7iBdsU8sY9EcgVHRXi06s6b5oNp+R1yimrNXHSTSTNuldpGxjLHNPivLiFdkdxNGvojkVFQaqOIqKXOpO/e4nTi1ytaCu7OxZyWY9STyake7uJU2STyun91nJFRdaKSr1Fe0nrv5g4RdtNgooorEsKKKKAKmq/6iD/AHn/AJLWZWnqv+og/wB5/wCS1mV/SHCP/Ipoeh8Bmv8AvUwooor6M84Knnvbq5RUnuZpUT7qu5YLxjueOPSoKKVluO7J/tt19m+yi5m8j/nlvOzrn7ucdeenWmQXM1rJ5lvNJE+MbkYqcemQajopcq2sF2Wxq2ohy4v7sOwALea2TjOAeeRyfzqOK9uoIXhiuZo4nzvRXIDZGDkA4ORxzUFFHLHsF33J1vrtLc2y3MywHOYhIQhyc9M460R3t1DA0EdxMkL53Rq5CtkYPAODkcc+lQUUcq7BzPuTrfXaW5tluZlgOcxCQhDk56Zx1oa+untxbNczNAMYiMhKDByOM461BRRyrsHM+5P9tuhbfZRczfZ/+eW87Oufu5x156da39Hu9CWyQS3l/plyBiRreRwJcd+AR39Bg5rmaKidJSVtiozcXc6zWte02PRDpWmSzXHmHLyyZz94MSSQCST6DHNcnRRTp0lTVkE5uTuy1Bqd9bRiOC9uYkHRUlZQPwBqCWaSeQySyPI56szEk/UmmUVSik7pE8zatctRanfQRiOG9uY4xwFSVgB+RxVcuzOXLEsTknJJJ65z602imopapBd9SxPqF5dRiOe7uJUBzteRmAP0JqvRRQklogbb3CiiimI6j4e/8hqb/r2b/wBCSvQ688+Hv/Iam/69m/8AQkr0OvJxf8Rno4b4BarX2nWepwNb31rBdQt1jmjDqfqDxViiuZabGzSaszIfS00XSbqPw5p+n2tx5bNDEsISJpMHbuC44J61xGoy3vjG50FYPDt/p2sWt5Dc3d5PamJLdU/1irIf9YG6AAkEdcV6dQa1hWcXe2phVoKeidkKOlFFFZHQFFFFABRRRQAUUUUAFFFFABRRRQAUUUUAFFFFABRRRQAUUUUAFFFFABRRRQAUUUUAHauW+If/ACBoP+vhf/QWrqKwPGWmXeq6ZFDZxebIswcruC8bWHf6itKLSmmzOqm4tI8zorb/AOEM17/nxP8A39T/AOKo/wCEM17/AJ8T/wB/U/8Aiq9f20O553s59jEorb/4QzXv+fE/9/U/+Ko/4QzXv+fE/wDf1P8A4qj20O6D2c+xiUVt/wDCGa9/z4n/AL+p/wDFUf8ACGa9/wA+J/7+p/8AFUe2h3Qezn2MSitv/hDNe/58T/39T/4qj/hDNe/58T/39T/4qj20O6D2c+xiUVt/8IZr3/Pif+/qf/FUf8IZr3/Pif8Av6n/AMVR7aHdB7OfYxKK2/8AhDNe/wCfE/8Af1P/AIqj/hDNe/58T/39T/4qj20O6D2c+xiUVt/8IZr3/Pif+/qf/FUf8IZr3/Pif+/qf/FUe2h3Qezn2MSitv8A4QzXv+fE/wDf1P8A4qj/AIQzXv8AnxP/AH9T/wCKo9tDug9nPsYlFbf/AAhmvf8APif+/qf/ABVH/CGa9/z4n/v6n/xVHtod0Hs59jEorb/4QzXv+fE/9/U/+Ko/4QzXv+fE/wDf1P8A4qj20O6D2c+xiUVt/wDCGa9/z4n/AL+p/wDFUf8ACGa9/wA+J/7+p/8AFUe2h3Qezn2MSitv/hDNe/58T/39T/4qj/hDNe/58T/39T/4qj20O6D2c+xiVYsP+P62/wCuq/zFaf8Awhmvf8+J/wC/qf8AxVSW/hPWra4imlstscbh2bzU4AIyeGz0FTKtBrcqNOV9jAorb/4QzXv+fE/9/U/+Ko/4QzXv+fE/9/U/+Kp+2h3J9nPsYlFbf/CGa9/z4n/v6n/xVH/CGa9/z4n/AL+p/wDFUe2h3Qezn2MSitv/AIQzXv8AnxP/AH9T/wCKo/4QzXv+fE/9/U/+Kp+2h3Qezn2MSitv/hDNe/58T/39T/4qj/hDNe/58T/39T/4qj20O6D2c+xiUVt/8IZr3/Pif+/qf/FUf8IZr3/Pif8Av6n/AMVR7aHdB7OfYxKK2/8AhDNe/wCfE/8Af1P/AIqj/hDNe/58T/39T/4qj20O6D2c+xiUVt/8IZr3/Pif+/qf/FUf8IZr3/Pif+/qf/FUe2h3Qezn2MSitv8A4QzXv+fE/wDf1P8A4qj/AIQzXv8AnxP/AH9T/wCKo9tDug9nPsYlFbf/AAhmvf8APif+/qf/ABVH/CGa9/z4n/v6n/xVHtod0Hs59jEorb/4QzXv+fE/9/U/+Ko/4QzXv+fE/wDf1P8A4qj20O6D2c+xiUVt/wDCGa9/z4n/AL+p/wDFUf8ACGa9/wA+J/7+p/8AFUe2h3Qezn2MSitv/hDNe/58T/39T/4qj/hDNe/58T/39T/4qj20O6D2c+xiUVt/8IZr3/Pif+/qf/FUf8IZr3/Pif8Av6n/AMVUyqws9RqnK+xNP/r5P94/zNMH0rTbQNSmcyx225HO5TvXkHp3pP8AhG9V/wCfQ/8Afa/41/N+NyjHSrzaoyabfRn6BSxNJQSclt3MyitT/hG9V/59D/32v+NH/CN6r/z6H/vtf8a5v7Gx/wDz4l/4C/8AI0+tUf5195l0Vqf8I3qv/Pof++1/xo/4RvVf+fQ/99r/AI0f2Nj/APnxL/wF/wCQfWqP86+8y6K1P+Eb1X/n0P8A32v+NH/CN6r/AM+h/wC+1/xo/sbH/wDPiX/gL/yD61R/nX3mXRWp/wAI3qv/AD6H/vtf8aP+Eb1X/n0P/fa/40f2Nj/+fEv/AAF/5B9ao/zr7zLorU/4RvVf+fQ/99r/AI0f8I3qv/Pof++1/wAaP7Gx/wDz4l/4C/8AIPrVH+dfeZdFan/CN6r/AM+h/wC+1/xo/wCEb1X/AJ9D/wB9r/jR/Y2P/wCfEv8AwF/5B9ao/wA6+8y6K1P+Eb1X/n0P/fa/40f8I3qv/Pof++1/xo/sbH/8+Jf+Av8AyD61R/nX3mXRWp/wjeq/8+h/77X/ABo/4RvVf+fQ/wDfa/40f2Nj/wDnxL/wF/5B9ao/zr7zLorU/wCEb1X/AJ9D/wB9r/jR/wAI3qv/AD6H/vtf8aP7Gx//AD4l/wCAv/IPrVH+dfeZdFan/CN6r/z6H/vtf8aP+Eb1X/n0P/fa/wCNH9jY/wD58S/8Bf8AkH1qj/OvvMuitT/hG9V/59D/AN9r/jR/wjeq/wDPof8Avtf8aP7Gx/8Az4l/4C/8g+tUf5195l0Vqf8ACN6r/wA+h/77X/Gj/hG9V/59D/32v+NH9jY//nxL/wABf+QfWqP86+8wNV/1EH+8/wDJaza6a/8ADOrXCxRR2m50LMw8xBgHGOp/2T+VVP8AhDNe/wCfE/8Af1P/AIqv3zhf9zllGnV0aWzPiMyTniZyjqmYlFbf/CGa9/z4n/v6n/xVH/CGa9/z4n/v6n/xVe/7aHdHD7OfYxKK2/8AhDNe/wCfE/8Af1P/AIqj/hDNe/58T/39T/4qj20O6D2c+xiUVt/8IZr3/Pif+/qf/FUf8IZr3/Pif+/qf/FUe2h3D2c+xiUVt/8ACGa9/wA+J/7+p/8AFUf8IZr3/Pif+/qf/FUe2h3Qezn2MSitv/hDNe/58T/39T/4qj/hDNe/58T/AN/U/wDiqPbQ7oPZz7GJRW3/AMIZr3/Pif8Av6n/AMVR/wAIZr3/AD4n/v6n/wAVR7aHdB7OfYxKK2/+EM17/nxP/f1P/iqP+EM17/nxP/f1P/iqXtod0Hs59jEorb/4QzXv+fE/9/U/+Ko/4QzXv+fE/wDf1P8A4qn7aHdB7OfYxKK2/wDhDNe/58T/AN/U/wDiqP8AhDNe/wCfE/8Af1P/AIqj20O6D2c+xiUVt/8ACGa9/wA+J/7+p/8AFUf8IZr3/Pif+/qf/FUe2h3Qezn2MSitv/hDNe/58T/39T/4qj/hDNe/58T/AN/U/wDiqPbQ7oPZz7GJRW3/AMIZr3/Pif8Av6n/AMVR/wAIZr3/AD4n/v6n/wAVR7aHcPZz7F34ef8AIam/69m/9CSvRMVxfg3w/qWlapLNeW3lRtCUB3qcncpxgEnoDXaV5eJalNtHdQTUdQooorA3CiiigAooooAKKKKACiiigAooooAKKKKACiiigAooooAKKKKACiiigAooooAKKKKACiiigAooooAKKKKACiiigAooooAKKKKACiiigAooooAKKKKACiiigAooooAKKKKACiiigAooooAKKKKACob3/jzn/wCubfyqaob3/jzn/wCubfyoAmooooAKKKKACiiigAooooAKKKKACiiigAooooAKKKKACiiigAooooAKKKKACiiigAooooAhsv8Ajzg/65r/ACqaobL/AI84P+ua/wAqmoAKKKKACiiigAooooAKKKKACiiigAooooAKKKKACiiigAooooAKKKKACiiigAooooAgT/j8l/65p/NqnqBP+PyX/rmn82qegAooooAKKKKACiiigAooooAKKKKACiiigAooooAKKKKACiiigAooooAKKKKACiiigAooooAKKKKACiiigAooooAKKKKACiiigAooooAKKKKACiiigAooooAKKKKACiiigAooooAKKKKACiiigAooooAKDRXLfEP/AJA0H/Xyv/oLVUI80kiZS5Vc6nNGa8Tort+o+Zy/WvI9szRmvE6KPqPmH1ryPbM0ZrxOij6j5h9a8j2zNGa8Too+o+YfWvI9szRmvE6KPqPmH1ryPbM0ZrxOij6j5h9a8j2zNGa8Too+o+YfWvI9szRmvE6KPqPmH1ryPbM0ZrxOij6j5h9a8j2zNGa8Too+o+YfWvI9szRmvE6KPqPmH1ryPbM0ZrxOij6j5h9a8j2yob0/6Hcf9c2/lXjNWLD/AI/rb/rqv8xSeCt1GsVfoeyZozXidFP6j5i+teR7ZmjNeJ0UfUfMPrXke2ZozXidFH1HzD615HtmaM14nRR9R8w+teR7ZmjNeJ0UfUfMPrXke2ZozXidFH1HzD615HtmaM14nRR9R8w+teR7ZmjNeJ0UfUfMPrXke2ZozXidFH1HzD615HtmaM14nRR9R8w+teR7ZmjNeJ0UfUfMPrXke2ZozXidFH1HzD615HtmaM14nRR9R8w+teR7NZf8edv/ANc1/lU1eN3/APx/XP8A11b+ZqvSWCur3G8Vboe2ZFGa8Top/UfMX1ryPbM0ZrxOij6j5h9a8j2zNGa8Too+o+YfWvI9szRmvE6KPqPmH1ryPbM0ZrxOij6j5h9a8j2zNGa8Too+o+YfWvI9szRmvE6KPqPmH1ryPbM0ZrxOij6j5h9a8j2zNGa8Too+o+YfWvI9szRmvE6KPqPmH1ryPbM0ZrxOij6j5h9a8j2zNGa8Too+o+YfWvI9kUgXkuT/AMs0/m1Tbh6ivK9O/wCPEf8AXVv5LU/T3r88zvi7+zcZPCey5uW2t7dL9j3sHl31ikqvNa56duHqKXcPUV5h+NH415P/ABEH/px/5N/wDp/sb+/+B6fuHqKNw9RXmH40fjR/xEH/AKcf+Tf8AP7G/v8A4Hp+4eoo3D1FeYfjR+NH/EQf+nH/AJN/wA/sb+/+B6fuHqKNw9RXmH40fjR/xEH/AKcf+Tf8AP7G/v8A4Hp+4eoo3D1FeYfjR+NH/EQf+nH/AJN/wA/sb+/+B6fuHqKNw9RXmH40fjR/xEH/AKcf+Tf8AP7G/v8A4Hp+4eoo3D1FeYfjR+NH/EQf+nH/AJN/wA/sb+/+B6fuHqKNw9RXmH40fjR/xEH/AKcf+Tf8AP7G/v8A4Hp+4eoo3D1FeYfjR+NH/EQf+nH/AJN/wA/sb+/+B6fuHqKNw9RXmH40fjR/xEH/AKcf+Tf8AP7G/v8A4Hp+4eoo3D1FeYfjR+NH/EQf+nH/AJN/wA/sb+/+B6fuHqKTcPUV5j+NH40f8RB/6cf+Tf8AAD+xv7/4HpwIPQ0VxnhD/kJv/wBcj/MV2fNfZ5Lmn9o4ZYjl5fLc8zFUPY1OS9xaKKK9c5wooooAKKKKACiiigAooooAKKKKACiiigAooooAKKKKACiiigAooooAKKKKACiiigAooooAKKKKACuW+If/ACBoP+vhf/QWrqa5b4h/8gaD/r4X/wBBataH8RGVb4GeeUUUV7R5gUUUUAFFFFABRRRQAUUUUAFFFFABRRRQAUUUUAFFFFABRRRQAUUUUAFFFFABViw/4/rb/rqv8xVerFh/x/W3/XVf5ipnsOO5XoooqhBRRRQAUUUUAFFFFABRRRQAUUUUAFFFFABRRRQAUUUUAFFFFABRRRQAUUUUAFFFFAFi/wD+P65/66t/M1Xqxf8A/H9c/wDXVv5mq9TDZDluwoooqhBRRRQAUUUUAFFFFABRRRQAUUUUAFFFFABRRRQAUUUUAFFFFABRRRQAUUUUAa2nf8eI/wCurfyWpxUGnf8AHiP+urfyWpxX878a/wDI5rfL8kfe5R/ukP66i0UUV8oemFFFFABRRRQAUUUUAFFFFABRRRQAUUUUAFFFFABRRRQAUUUUAFFFFABRRRQBt+EP+Qm//XE/zFdnXGeEP+Qo/wD1xP8AMV2dfs3BX/ItXqz5fM/47CiiivrjzwooooAKKKKACiiigAooooAKKKKACiiigAooooASop5o7aF55pFjijUs7ucKqjqST0AqWsjxif8Aik9a/wCvGf8A9FtTirtIicuWLZB/wn3hL/oZtF/8DYv/AIqr+ma7pWt+Y2l6nZ3wixvNtMsmzPTO0nGcH8q8p8B2Xw0k8I6Y2sv4cGoGL999onjWTOT94E5zXfaWfCHhnRLzWdG/s+DTgu+aeyKsjbM8ZXOSMkY9eK6q1CEG4xvfbY48PiJzSnJqx1GaqX2pWWlxrLf3lvaI7iNWnkCKzHooJ6k+lcAPitrMlgdai8C6i+hjL/a/tCeYYx/GIsZxjnOce+Oaq/FPWbLxD4H0PVNPl821udTt3RsY/vDBHqCMH3pRwk+ZRl1KnjYckpQ6HqeRVSbUrKC8hsZru3ju7gMYoGkAklAGSVUnJwOTiud8W+PB4ev7TR9O0ufWdYu1MiWkThNqD+JmIOBwfy7Vxf8AwkN5rnxd8KRalo1xo99ax3SyW8jiRSDE2GVxwwOD09DRSwkpJyeis39wVcbCLUVvdL7z2GmyOsSs7sFVRkk8AU6vOviFqt14ivJPBujytGFhM+rXKf8ALGDGRGD/AHn9PT1GcY0aXtJKJvXrKlBy6neWOoWmqWqXdjdQXVvJnZLBIHRsEg4I4OCCPwqzXDfBL/kmej/Wf/0fJXc0VqfJUlDs7DoVPaU4zfVC0UUVmahXLfEP/kDQf9fC/wDoLV1Nct8Q/wDkDQf9fC/+gtWtD+IjKt8DPPKKKK9o8wKKKKACiiigAooooAKKKKACiiigAooooAKKKKACiiigAooooAKKKKACiiigAqxYf8f1t/11X+YqvViw/wCP62/66r/MVM9hx3K9FFFUIKciNI4RFLMxAUAEkknAAHc02pLadrW4iuEALRuHUHOCQQefbik720Gt9S1/Ymqf9Ay9/wC/Df4VHPpd/bRmSeyuooxjLPEyqM+uRiu68KeJrzXbmeK5jt0EaBgY1IJ5x3JrIk1y+8TXjaHL9mgimcr5ixksNpLf3sHO39a5I1qnNZrbc3dKFrpnJUV0mqeEYNJt5ZJ9XhEqqWjhKANJ24G7PJ9AcUi+EooVtk1DU0tLi54SHyi/OehIOPT2zW31iFr3M/ZSvY55EaRwiKWZiAoAJJJOAAO5p9xaz2jhLiCWFyNwWRCpI55wR0rVutCudG1y0tTMAzyI0UwXOMsBnB7g9v8AGr2taRd3fiS0sLzUfPkliGJvIC7RljjaD6j9fal7ZXVnoHs3bbU5enxQy3EgjhjeR2+6qKWJ/Acmuq/4QILc+RLqsMbsf3S7PmkGMk7dw6HPTPrVC10a803xPDYLcCGbJMc4QNwVPO09eMj2OaPbwafK9Q9lJWuYs9vNayeVcQyQvgHa67SAehwRmo66i+0O51LxObC61DzJTEG8/wAkLwB02gj86lj8A7pWgk1WFJ+WWIICxQHAYjcCMjHrjOM0vrEUlzPUfspN6bHJUVpJoN4+sHSlVfPVsFudoGM7unTGD+IHWtpvAQ85YI9WgeUYMkezDKvrjcSfxx9aqVeEbXYlSkzk6K0Nd0r+xb9rPzvO2qG3bduc9up/nT9B0GfXbh443WKOMBnkYZxn0Hc8H06Hmr9pHl576E8j5uXqZlFdRN4Ki+zSzWms2twYs7hgAAjsSGOPxrP0Hw3PrvmOJUggjOGkYZ5xnHUdB15GM1Crwa5uhTpSTsY9OSKSQMURmCjcxAJwPU+gre1Pwk9lYfb7S9ivoF5Zox05xkckECuh0jS7U+D3h+2wqtwu+SbAxGTj5W55x06ipniYpJoqNGTdmefUVLcxLBcyxJIJUjdkEi4w4BPzcE8YGep61FW6d1cy20CiiimIsX//AB/XP/XVv5mq9WL/AP4/rn/rq38zVephshy3YUUUVQgooooAKKKKACiiigAooooAKKKKACiiigAooooAKKKKACiiigAooooAKKKKANbTv+PEf9dW/ktTioNO/wCPEf8AXVv5LU4r+d+Nf+RzW+X5I+9yj/dIf11Fooor5Q9MM1ONPvCAVtLgg9xGarnjiul0XX7q5vbezZIRGQV4U54GeufavYyjCYXE1fZYibi3ZKy7nLiqlSnHmgr9zCOn3igs1ncADqTGagrptV1q9XUZdPgjiZWIQZU5OR6596rjwpysbX8InK58vb/9fOK9HFZBz1HTwF58rtK9lr5dzCnjbJOtpfaxgZHWjGDV+30W5n1FrE7UdOWJ6Aevv/npV9vDEbCQRalDJJH1XHQ+/PFedQyPG1ouUIaLTWy1XqbyxlKLSb3MIKXICgkk8Ad6fHBLM5jihd2HVVXJrofCdrH5k8rSRtIvybByQOOc+n+FQ2tg6a1JFZagmWjZzIqBsfN93r1rvo8PVJUaNaWvO7NK1/xZhPHJSlBdDCZSjFWBVgSCD1FN9617PRn1O/vI2uNrxOctsHzHJzwDx0zVhPCrSo6rfRNOg+aMDODj1zxXLHh/G1Vz0oXjd21XT5mn12lHST1MDIxR2q/pukTajcPCpEfl/fYjO088Y+orRj8K+dIRHqETquQxVclSOxGazw2RY3EQU6ULp+i29S54yjB8smc/1FBqW4i8ieSLO7YxXOOuKu6Xor6jHJMZlhiTgu3rjJ/SuOhga9et7CnG8jSdaEI88noZ31o6Cta+0Fba0N1BfQ3CD04/I5pun6C97bG6lnS2h7M3PQ9evSur+xMZ7b2HJ71r7rbve9jP63S5Oe+hl5FLsbbv2naDjPOM4rTv9BksTE/nrJbyMB5oH3c98envmtrUdOt30a3hN5FGkeCJCABIcEcc967MNw5iaiqqouVwV+mv4/iZVMfTXLy63ORooor5xneFFFFAG34Q/wCQo/8A1xP8xXZ1xnhD/kKP/wBcT/MV2dfs3BX/ACLV6s+XzT+OwoormPGfjNfCiWUMNhLqWoahL5NraxsF3kcklj0A4556+mTX2EIOb5YnmVKkYR5pHTUtcx4X8TazrNzcWuseFrvRZIVDB2lWWJ8norjGT9M/yrpqJwcXZhTqKauhaKKKksKKKKACiiigAooooAKKKKACiiigArH8Y/8AIpa1/wBeM/8A6Latiq17aQ39pNZ3Kb4J42ikXJG5WBBGRyODTg7STImuaLiedfDfwF4Y1XwPpN7faHY3FzNDueR4wWY5PJq38UPD0Nh8LdU0/RLRLaGPZMYIUwCokVnPtwCx+ldtpGk2ehadBp2nxeTa267Y49xbaPqSSfxNWmRXUoyhgwwQec10yxUnV9pfS9zljg4qj7O1naxzOl+KNCHgeDVTd2/9nRWihwWXAwn3Mf3u2314ryJLW4tfg5oJnUxrPraSxKT0Qlsde3BI9QQe9eqv8JPBD332w+H7fzS24je4jz/uZ249sVuav4Z0nXrOCy1C0EtvbyJLFGrMgRl+6flI6Z6dK2hiadN+7fV3ZhPCVaq9+2it/X3HDG4h0b43yy6i6wR6jpax2kshwrMGGVBPAPynj6eop/iLUrC6+MnhC0gljkuraO7+0bGztDQttBx34Y49/euz8QeFtG8U2y22sWEV3Epyu7IKk+jDBH4Gs/SPhx4V0K8tL3TtIjt7izLmGQSOWBddrZJY7uOBuzjnGM1KxFO3M73s15bWKeGq35Y2tzJ/jc6G7E5tZhalBOUbyy/3Q2OM47ZxXlGl+FfiN4Y0vURG/hWc3Rknu7mZrhppiQSSSABwMgDgD8a9dqOaJZ4nhkGUdSrDOMg9a56NZ09LbnTXwyqtNvVHm3wJ/tz/AIRCz+0/2d/Y22X7L5W/7Ru85t2/Py4zuxj2r02s/Q9E0/w5pkOl6XB9ns4N3lx72bbuJY8sSTkknk960BSxFRVKkprqx4ak6VKMH0FooorI6ArlviH/AMgaD/r4X/0Fq6muW+If/IGg/wCvhf8A0Fq1ofxEZVvgZ55RRRXtHmBRRRQAUUUUAFFFFABRRRQAUUUUAFFFFABRRRQAUUUUAFFFFABRRRQAUUUUAFWLD/j+tv8Arqv8xVerFh/x/W3/AF1X+YqZ7DjuV6KKKoQUUUUAdd8Ov+P67/65D/0KqHhv/kb4f+usv/oLVmadqt5pUjvZTeUzjDHard89wajtr+4tLwXkMm2dSWDbQcEggnBGO57VzulK8n3Rsqisl2NfxcrXHiqeEvgExopbooKr/Uk1tz6dp/h6+sLW20s3c87D99IS23BGTjpkdeMYrjLy8n1C5e5uZPMmfG5sAZwAO2B0A7VfXxVrKwiAX8mwDaCVUnH1xn8c1LoycUkNVFdtnSeLv+Rk0b/fT/0MVLq3/I+aZ/1x/wDi64+713UL6aCa4uPMktzujbYo2njnoO4HrRNr2oz30V/JcbrmFdqSbF4HPGAOep6ipWHnZFOrG50GvMw8dWeCRiSADntu6fqfzq9qY/4r7Tz6xD/2euOuNVvLq+S+lm33KFWV9q9VOQcAY7elPl1zUJr6O/e4zcxjakmxRgc8YAwep6+tP2EtPQXtV+J2X/NQP+3f+lZ6H/i4pOT/AKwj/wAhGue/t7Uft/8AaH2n/Stu3zNi9PpjFRjVr0aj/aPn/wCl5z5m1fTHTGOnHSiNCX4WB1V+J2VnJHH8QL5XIBeEKgz1O1D/ACBqnp+i6lF4ye4kt5FhEsknmn7pU5xg9zyOKwrG8TUNZFzql5NC74/0iLClWGACcDAGBjge/rXYQXMcdzHPd+K7e5gjJYRDy0JPIGSDzjP51jOLhp5GkJKX3nNeOv8AkYJP+uafypPCNxqlvczNp9mLtGAEqEhRjnHJOAevr34ql4j1KPVdYnuYifKJCpkc4A64+oJ59aq2OoXWnTedaTtC/Qleh+oPBH1rpVNuly21MHNe05jtYNC07XVkD6NdaXKo+/jav4Z4P5UeHFik8NXdpHCLtondHjWQr5v0I5AI6Vy9z4p1m6haGW+fY3BCqqn8wAap2GpXemSmWzneFj1xgg/UHg/iKy9hNxs2ae2indHWLdz2GjXUcPhia2tZVYSFrg5GVwThhkDH8qXRoZLjwNdxQo0kjF8IoyScg1zV/wCIdU1KLybq8eSMnJUKqg/XAGfxpun65qOlI8dncmJGO4rtVgTj0IODgDp6U/YS5dLXuL2sblKWN4ZGikUq6MVZT2IOMH3BptSTzyXMzzStukkYsxwBkk5zgVHXWr21MHvoFFFFMRYv/wDj+uf+urfzNV6sX/8Ax/XP/XVv5mq9TDZDluwoooqhBRRRQAUUUUAFFFFABRRRQAUUUUAFFFFABRRRQAUUUUAFFFFABRRRQAUUUUAa2nf8eI/66t/JanFQad/x4j/rq38lqcV/O/Gv/I5rfL8kfe5R/ukP66i0UUV8oemBrR8Pf8hm2Puf/QTWdUlvcS2sqyxNtkXlWxnFdmArxoYmnWltFp/czKtFzpyit2jdd1TxhuYgLvA5/wByrl9GU1fzY9HeeTIZZhMwBwB17D+tctcXE11cNPM26RiCTgDPGP5AVcTXtSjQIt220DHKgn88V9RhuIMPH2sKiaUpuaaUW/ud18zz54Kb5Wuis9/0NA3uoya200NiVmWPY8ZbOVznr/npVqOwtdUkdLjS5rSUDJkHC59j0J/CuajvLmKc3CzOJs5LZOT9fUVafxBqciFGumweDhVB/lRhM/wyUvrXNK7btaLX6WfewqmCqaezsvvNXwzCLfVLyFW3bBtB9eaboEEtvrkyyoyFkcgMOo3D9Kwra7ns5vOgkKPjGcA//WNWP7Zv/tH2nz/3u3Zu2jp+XrWWFzvCQp0VKLTpybsrWs/mVUwlWTlZrVL8De8P/wDIV1T/AK6H/wBCaqnhpj/bdzknlHz7/MKybfVLy1lllhm2vKcudo56/wCNMtr65tJ2ngl2SOCCcA9aqHEFCLoOz9yUm/m/UTwU2prul+B0uiEO+qwRkLKZXI+mSBUHhfT7u1u5nnieKPbtw38Rz1Hr/wDXrN0eWN7yWaa+e1mblZBjB9Qc8da3ILyCzdrm61hLshSqogUD8h3r3MrxFHERo4ipp7Ny+0rWb6q9/uRyV4Sg5U1re3f8Dl9Q/wCP+5/66v8AzrT0Oa9jtZUSx+12zn5gSBz079ayJ5DNPJKRjexb6Z5qW01G6sM/Zpmjz1GAR9ee9fG4PHU6GNddtqLb2tfX10PUq0ZToqCWum5uz6RZ3enzXSWs1jIgJxJxnA9PT8qsAR3Hh222WhuwoUNGrlDkcduvPaudutXvr2Py7i4Z0zkqAB/Km2eo3dhkW07RhuowCD+fevcjxDgoV24U2oyjZuyvfvbY5HgqrguaWqfn+e5r6hczx6N9l/st7aBiCGMm7b82e/P51LqdvNceHrAQxvIQFJCjOPlNYd3qN3f4FxM0gXkDgD9KfDrN/bwCCK4IjHABANYPPMPOdSNRycJQUVpG6trsrKxf1OaUWrXTv1KdFFFfHs9QKKKKANvwh/yFH/64n+Yrs64zwh/yFH/64n+Yrs6/ZuCv+RavVny+afx2JXlnxjkkutZ8K6XautjfzXLyW+pOxUW+AMgepORwfYd69TrK8QeGNI8U2gtNYsIryFW3KGJBU46qQQQfoa+1w1VUqimzxsVRdWk4RKfh/VYbaWPw7qHiGDVddhjaWZhGsTOpY4OxeBgEDGc9+9ZMXxAlv/iBb+H7CCJ9NMcyyXbZzJNGBuVOcbVyASQcnI7c2l+H2naLod/ZeE4YdHvLtPLF380jrzzyTu6Zxzwea46LRtd0Xx94W09Z9GXyLSdYRDbSKgjG3cCDISWI75xnk5ropwpTcnfo/Lpvoc1Wdamoxt1X57anr9FFFcB6QUUUUAFFFFABRRRQAUUUUAFFFFABRRRQAUUUUAFFFFABRRRQAUUUUAFFFFABRRRQAVy3xD/5A0H/AF8L/wCgtXU1y3xD/wCQNB/18L/6C1a0P4iMq3wM88ooor2jzAooooAKKKKACiiigAooooAKKKKACiiigAooooAKKKKACiiigAooooAKKKKACrFh/wAf1t/11X+YqvViw/4/rb/rqv8AMVM9hx3K9FFFMQUUUUwCiiigAooooAKKKKACiiigAooooAKKKKACiiigAooooAKKKKACiiigAooooAsX/wDx/XP/AF1b+ZqvVi//AOP65/66t/M1XqYbIct2FFFFUIKKKKACiiigAooooAKKKKACiiigAooooAKKKKACiiigAooooAKKKKACiiigDW07/jxH/XVv5LU4qDTv+PEf9dW/ktT1/O/Gv/I5rfL8kfe5R/ukP66i0UUV8oemFFFFABRRRQAUUUUAFFFFABRRRQAUUUU7sAooopAFFFFABRRRQAUUUUAFFFFAG34Q/wCQo/8A1xP8xXZ1xnhD/kKP/wBcT/MV2dfs3BX/ACLV6s+XzT+Owooor6488KMUUUAFFFFABRRRQAUUUUAFFFFABRRRQAUUUUAFFFFABRRRQAUUUUAFFFFABRRRQAUUUUAFFFFAB0rmvHVrcXmkwpbQSzOJwxWNCxA2sM4H1FdLRVQlytNEyjzKx5D/AGJqn/QMvf8Avw3+FH9iap/0DL3/AL8N/hXrtH5V1/XZdkc31VdzyL+xNU/6Bl7/AN+G/wAKP7E1T/oGXv8A34b/AAr138qPyo+uy7IPqq7nkX9iap/0DL3/AL8N/hR/Ymqf9Ay9/wC/Df4V67+VH5UfXZdkH1VdzyL+xNU/6Bl7/wB+G/wo/sTVP+gZe/8Afhv8K9d/Kj8qPrsuyD6qu55F/Ymqf9Ay9/78N/hR/Ymqf9Ay9/78N/hXrv5UflR9dl2QfVV3PIv7E1T/AKBl7/34b/Cj+xNU/wCgZe/9+G/wr138qPyo+uy7IPqq7nkX9iap/wBAy9/78N/hR/Ymqf8AQMvf+/Df4V67+VH5UfXZdkH1VdzyL+xNU/6Bl7/34b/Cj+xNU/6Bl7/34b/CvXfyo/Kj67Lsg+qrueRf2Jqn/QMvf+/Df4Uf2Jqn/QMvf+/Df4V67+VH5UfXZdkH1VdzyL+xNU/6Bl7/AN+G/wAKP7E1T/oGXv8A34b/AAr138qPyo+uy7IPqq7nkX9iap/0DL3/AL8N/hR/Ymqf9Ay9/wC/Df4V67+VH5UfXZdkH1VdzyL+xNU/6Bl7/wB+G/wpP7E1T/oGXv8A34b/AAr178qPyo+uy7IPqq7nkP8AYmqf9A29/wC/Df4VNZ6RqUd3C76fdoiyKzM0LAAA5JJPQAV6xUN7/wAec/8A1zb+VJ42T6DWFS6nlH9iap/0DL3/AL8N/hR/Ymqf9Ay9/wC/Df4V67R+VP67LshfVV3PIv7E1T/oGXv/AH4b/Cj+xNU/6Bl7/wB+G/wr138qPyo+uy7IPqq7nkX9iap/0DL3/vw3+FH9iap/0DL3/vw3+Feu/lR+VH12XZB9VXc8i/sTVP8AoGXv/fhv8KP7E1T/AKBl7/34b/CvXfyo/Kj67Lsg+qrueRf2Jqn/AEDL3/vw3+FH9iap/wBAy9/78N/hXrv5UflR9dl2QfVV3PIv7E1T/oGXv/fhv8KP7E1T/oGXv/fhv8K9d/Kj8qPrsuyD6qu55F/Ymqf9Ay9/78N/hR/Ymqf9Ay9/78N/hXrv5UflR9dl2QfVV3PIv7E1T/oGXv8A34b/AAo/sTVP+gZe/wDfhv8ACvXfyo/Kj67Lsg+qrueRf2Jqn/QMvf8Avw3+FH9iap/0DL3/AL8N/hXrv5UflR9dl2QfVV3PIv7E1T/oGXv/AH4b/Cj+xNU/6Bl7/wB+G/wr138qPyo+uy7IPqq7nkX9iap/0DL3/vw3+FH9iap/0DL3/vw3+Feu/lR+VH12XZB9VXc8i/sTVP8AoGXv/fhv8KP7E1T/AKBl7/34b/CvXfyo/Kj67Lsg+qrueRf2Jqn/AEDL3/vw3+FH9iap/wBAy9/78N/hXrv5UUfXZdkH1Vdzye80jUpLuZ00+7dGkZlZYWIIJyCCOoIqH+xNU/6Bl7/34b/CvWLL/jzg/wCua/yqaksbJdBvCrueRf2Jqn/QMvf+/Df4Uf2Jqn/QMvf+/Df4V67+VH5U/rsuyF9VXc8i/sTVP+gZe/8Afhv8KP7E1T/oGXv/AH4b/CvXfyo/Kj67Lsg+qrueRf2Jqn/QMvf+/Df4Uf2Jqn/QMvf+/Df4V67+VH5UfXZdkH1VdzyL+xNU/wCgZe/9+G/wo/sTVP8AoGXv/fhv8K9d/Kj8qPrsuyD6qu55F/Ymqf8AQMvf+/Df4Uf2Jqn/AEDL3/vw3+Feu/lR+VH12XZB9VXc8i/sTVP+gZe/9+G/wo/sTVP+gZe/9+G/wr138qPyo+uy7IPqq7nkX9iap/0DL3/vw3+FH9iap/0DL3/vw3+Feu/lR+VH12XZB9VXc8i/sTVP+gZe/wDfhv8ACj+xNU/6Bl7/AN+G/wAK9d/Kj8qPrsuyD6qu55F/Ymqf9Ay9/wC/Df4Uf2Jqn/QMvf8Avw3+Feu/lR+VH12XZB9VXc8i/sTVP+gZe/8Afhv8KP7E1T/oGXv/AH4b/CvXfyo/Kj67Lsg+qrueRf2Jqn/QMvf+/Df4Uf2Jqn/QMvf+/Df4V67+VH5UfXZdkH1VdzyL+xNU/wCgZe/9+G/wpP7E1T/oGXv/AH4b/CvXvyoo+uy7IPqq7nmdjpl+lpsayuVcSM20xMDghRnHoSD+Rqf+zb7/AJ87j/v2a75B/pkv/XNP5tU+K+FzfhOlmOLnipzacv8AKx7WFx86FJUkloedf2bff8+dx/37P+FH9m33/Plcf9+z/hXo2B7UYHoK8z/UDD/8/WdH9sVP5Uec/wBm33/Plcf9+z/hR/Zt9/z5XH/fs/4V6NgegowPQUf6gYf/AJ+sP7Yqfyo85/s2+/58rj/v2f8ACj+zb7/nyuP+/Z/wr0bA9BRgego/1Aw//P1h/bFT+VHnP9m33/Plcf8Afs/4Uf2bff8APlcf9+z/AIV6NgegowPQUf6gYf8A5+sP7Yqfyo85/s2+/wCfK4/79n/Cj+zb7/nyuP8Av2f8K9GwPQUYHoKP9QMP/wA/WH9sVP5Uec/2bff8+Vx/37P+FH9m33/Plcf9+z/hXo2B6CjA9BR/qBh/+frD+2Kn8qPOf7Nvv+fK4/79n/Cj+zb7/nyuP+/Z/wAK9GwPQUYHoKP9QMP/AM/WH9sVP5Uec/2bff8APlcf9+z/AIUf2bff8+Vx/wB+z/hXo2B6CjA9BR/qBh/+frD+2Kn8qPOf7Nvv+fK4/wC/Z/wo/s2+/wCfK4/79n/CvRsD0FGB6Cj/AFAw/wDz9Yf2xU/lR5z/AGbff8+Vx/37P+FH9m33/Plcf9+z/hXo2B6CjA9BR/qBh/8An6w/tip/Kjzn+zb7/nyuP+/Z/wAKP7Nvv+fK4/79n/CvRsD0FGB6Cj/UDD/8/WH9sVP5Uec/2bff8+Vx/wB+z/hR/Zt9/wA+Vx/37P8AhXo2B6CjA9BR/qDh/wDn6w/tip/KjkfC1ncQagzS28sa+UQGdCBnIrraAMUvSvrMoyyGXYf6vB3R52IrutPnYUUUV6hiFFFFABRRRQAUUUUAFFFFABRRRQAUUUUAFFFFABRRRQAUUUUAFFFFABRRRQAUUUUAFFFFABRRRQAUUUUAFFFFABRRRQAUUUUAFFFFABRRRQAUUUUAFFFFABRRRQAUUUUAFFFFABRRRQAUUUUAFQ3v/HnP/wBc2/lU1Q3v/HnP/wBc2/lQBNRRRQAUUUUAFFFFABRRRQAUUUUAFFFFABRRRQAUUUUAFFFFABRRRQAUUUUAFFFFABRRRQBDZf8AHnB/1zX+VTVDZf8AHnB/1zX+VTUAFFFFABRRRQAUUUUAFFFFABRRRQAUUUUAFFFFABRRRQAUUUUAFFFFABRRRQAUUUUAQJ/x+S/9c0/m1T1An/H5L/1zT+bVPQAUUUUAFFFFABRRRQAUUUUAFFFFABRRRQAUUUUAFFFFABRRRQAUUUUAFFFFABRRRQAUUUUAFFFFABRRRQAUUUUAFFFFABRRRQAUUUUAFFFFABRRRQAUUUUAFFFFABRRRQAUUUUAFFFFABRRRQAUUUUAFFFMdS64V2Q+q4/qDQA+iofs8n/P3P8Akn/xNH2eT/n7n/JP/iaAJqKh+zyf8/c/5J/8TR9nk/5+5/yT/wCJoAmoqH7PJ/z9z/kn/wATR9nk/wCfuf8AJP8A4mgCaiofs8n/AD9z/kn/AMTR9nk/5+5/yT/4mgCaiofs8n/P3P8Akn/xNH2eT/n7n/JP/iaAJqKh+zyf8/c/5J/8TR9nk/5+5/yT/wCJoAmoqH7PJ/z9z/kn/wATR9nk/wCfuf8AJP8A4mgCaiofs8n/AD9z/kn/AMTR9nk/5+5/yT/4mgCaiofs8n/P3P8Akn/xNH2eT/n7n/JP/iaAJqKh+zyf8/c/5J/8TR9nk/5+5/yT/wCJoAmoqH7PJ/z9z/kn/wATR9nk/wCfuf8AJP8A4mgCaiofs8n/AD9z/kn/AMTR9nk/5+5/yT/4mgCaob3/AI85/wDrm38qPs8n/P3P+Sf/ABNQ3cLi0mJuZWxG3BC88H/ZoAuUVD9nk/5+5/yT/wCJo+zyf8/c/wCSf/E0ATUVD9nk/wCfuf8AJP8A4mj7PJ/z9z/kn/xNAE1FQ/Z5P+fuf8k/+Jo+zyf8/c/5J/8AE0ATUVD9nk/5+5/yT/4mj7PJ/wA/c/5J/wDE0ATUVD9nk/5+5/yT/wCJo+zyf8/c/wCSf/E0ATUVD9nk/wCfuf8AJP8A4mj7PJ/z9z/kn/xNAE1FQ/Z5P+fuf8k/+Jo+zyf8/c/5J/8AE0ATUVD9nk/5+5/yT/4mj7PJ/wA/c/5J/wDE0ATUVD9nk/5+5/yT/wCJo+zyf8/c/wCSf/E0ATUVD9nk/wCfuf8AJP8A4mj7PJ/z9z/kn/xNAE1FQ/Z5P+fuf8k/+Jo+zyf8/c/5J/8AE0ATUVD9nk/5+5/yT/4mj7PJ/wA/c/5J/wDE0ATUVD9nk/5+5/yT/wCJo+zyf8/c/wCSf/E0AFl/x5wf9c1/lU1U7SFzaQkXMq5jXgBeOB/s1N9nk/5+5/yT/wCJoAmoqH7PJ/z9z/kn/wATR9nk/wCfuf8AJP8A4mgCaiofs8n/AD9z/kn/AMTR9nk/5+5/yT/4mgCaiofs8n/P3P8Akn/xNH2eT/n7n/JP/iaAJqKh+zyf8/c/5J/8TR9nk/5+5/yT/wCJoAmoqH7PJ/z9z/kn/wATR9nk/wCfuf8AJP8A4mgCaiofs8n/AD9z/kn/AMTR9nk/5+5/yT/4mgCaiofs8n/P3P8Akn/xNH2eT/n7n/JP/iaAJqKh+zyf8/c/5J/8TR9nk/5+5/yT/wCJoAmoqH7PJ/z9z/kn/wATR9nk/wCfuf8AJP8A4mgCaiofs8n/AD9z/kn/AMTR9nk/5+5/yT/4mgCaiofs8n/P3P8Akn/xNH2eT/n7n/JP/iaAJqKh+zyf8/c/5J/8TR9nk/5+5/yT/wCJoARP+PyX/rmn82qeqawv9rkH2mXiNDnC88t/s1N9nk/5+5/yT/4mgCaiofs8n/P3P+Sf/E0fZ5P+fuf8k/8AiaAJqKh+zyf8/c/5J/8AE0fZ5P8An7n/ACT/AOJoAmoqH7PJ/wA/c/5J/wDE0fZ5P+fuf8k/+JoAmoqH7PJ/z9z/AJJ/8TR9nk/5+5/yT/4mgCaiofs8n/P3P+Sf/E0fZ5P+fuf8k/8AiaAJqKh+zyf8/c/5J/8AE0fZ5P8An7n/ACT/AOJoAmoqH7PJ/wA/c/5J/wDE0fZ5P+fuf8k/+JoAmoqH7PJ/z9z/AJJ/8TR9nk/5+5/yT/4mgCaiofs8n/P3P+Sf/E0fZ5P+fuf8k/8AiaAJqKh+zyf8/c/5J/8AE0fZ5P8An7n/ACT/AOJoAmoqH7PJ/wA/c/5J/wDE0fZ5P+fuf8k/+JoAmoqH7PJ/z9z/AJJ/8TR9nk/5+5/yT/4mgCaioo43VsmeRx6MFx+gqWgAooooAKKKKACiiigAooooAKKKKACiiigAooooAKKKKACiiigAooooAKKKKACiiigAooooAKKKKACiiigAorOkkubu9uIIbgwC3Vfuqrb2YZ5yOgGOBg89elZ9zrFw8EM6yC3LW5kVQoIlkBA2c84+nPPWgDoaKqW80lxPI2dsMf7vbjq468+g6fXNW6ACiiigAooooAKKKKACiiigAooooAKKKKACiiigAooooAKKKKACiiigAoopkm/Y2zG/B27ume2aAH1DeDNnOACSY2A9+KomS7srmzjmuWuGuGKvHsAC8Z3KQAQAcDkng+tQ2WoC6l3yX1wgaZljTygIyAThdxTqcdmzz60AbVFYn9pTJqJWSbCrM6vDgYWIJkP0z1xyTg5wBWnZmV4fMmyDIS4Uj7inoPrj9aALFFFFABRRRQAUUUUAFFFFABRRRQAUUUUAFFFFABRRRQAUUUUAFFFFABRRRQAUVj3N9jULiN7u4gigVAfKiDAEgkljtOBjHp0qVpZ7q8NrBdNGkcKu0ihWLMxOOoxjAzx60AXbMYs4AQQRGoPtxU1YE+rXDW1vIZhbbo5SzgAhpEOAozngkE+p6CtG0uJ7qVSfkSNAJFx1kIBxzyAB/P2oAvUUUUAFFFFABRRRQAUUUUAFFFFABRRRQAUUUUAFFFFABRRRQAUUUUAFFFFABRUNxG0igi5kg28kpt5/76BrHF9dRaVPeNduwlcLbl1XcqlsBsBRk4ycYPFAGwo/0uQ9jGn82qash7to7S7kt7q4uJokz5c0QUp77Qqk/wBcU23vpphLBFceeWkCQz4XptBY8DB28/jgGgDZooHSigAooooAKKKKACiiigAooooAKKKKACiiigAooooAKKKKACiiigAooooAKKzJ7y7XVrWARiO2dmBYkEyEITwOwB/E/wA2yT3VxJetBcGJbXCqoVSHYLuO7IzjkDgjvQBq0VkxXc+pTIkM7W6C3SUlVVjuboPmBGAB6VWm1a4a2hkaYW2YpG3BQQ8qnAUZB4PJwOT0BoA36Ko2txNdTZPyJGgV1x1kIBI+gyB9SfSr1ABRRRQAUUUUAFFFFABRRRQAUUUUAFFFFABRRRQAUUUUAFFFFABRRRQAUUUUAFFFFABRRRQAUUUUAZskdzaXtzPBbm4FwikbWC7XUYw2SODxyMng8VJBbTWOmR28OHmVQuc4AJ6t9BknFXqKAMK50mZZtsMO/wCSNYZtwBhKsSxOTnJz1AJPet2iigAooooAKKKKACiiigAooooAKKKKACiiigAooooAKKKKACiiigAooooAKjlZkjZkQyMASFBxuPpk9KkooAydOjuRP9ou7Sf7TJ8pfcmyNeu1QGzj14yaLiO9vYRaTW6oTKpaZWGzaGzkDO7PGMY/GtaigCrdwyXLRQ7f3JO6RsjkA5C/ievsMd6z7CwuIr5ZGi2FWlMs24fvtxBUcHPA9RxjjrW1RQAUUUUAFFFFABRRRQAUUUUAFFFFABRRRQAUUUUAFFFFABRRRQAUUUUAFFFFAGfcyXoM8K2omR1xGysABkYO/Jz78A8VXgs7jTJEeKBrlTbJEwVgDuXOD8xHBzj8K2KKAKNpBPY6YI1USTqGbaDwWYk4ye2T+VZ99pM52pEhnPlbVkJA8uUtuMnJyM9eMnjFb1FACDoATmloooAKKKKACiiigAooooAKKKKACiiigAooooAKKKKACiiigAooooAKKKKAKmqxzzadPFbrulkQoOcdeO/tSyrNb2qpZormPACMfvKOwPY46Z4q1RQBQt4ZpdQe8khMCiIRKjEFjzkk4yMe2T+FQ39lc3iXMmz5jhI4yR8yBgWHoC2O/bGe9atFAFHSoHt4JFeMxK0rNHFx+7U9uCQO/A9avUUUAFFFFABRRRQAUUUUAFFFFABRRRQAUUUUAFFFFABRRRQAUUUUAFFFFAFG7t5Zb+wmRcpCzlznplCB9etV5YLu3kvVgt/NW6wyMGUBGKhTuyc44zwDWtRQBkR2k+mTq8Fu1yht0iIVlUhlzg8kcEe5+lWLSCew0wRKqyXA3NgHgszE/lk1fooAwb3SJ9yLChlPlBUlJAMUm/LSc8gnrkZPHSt6iigAooooAKKKKACiiigAooooAKKKKACiiigAooooAKKKKACiiigAooooAKKKKACiiigAooooAKKKKACiiigAooooAKKKKACiiigAooooAKKKKACiiigAooooAKKKKACiiigAooooAKKKKACiiigAooooAKKKKACiiigAooooAKKKKACiiigAooooAKKKKACiiigAooooAKKKKACiiigAooooAKKKKACiiigAooooAKKKKACiiigAooooAKKKKACiiigAooooAKKKKACiiigAooooAKKKKACiiigAooooAKKKKACiiigAooooAKKKKACiiigAooooAKKKKACiiigAooooAKKKKACiiigAooooAKKKKACiiigAooooAKKKKAP/2Q==)\n"
      ]
    },
    {
      "cell_type": "code",
      "metadata": {
        "colab": {
          "base_uri": "https://localhost:8080/"
        },
        "id": "CpZnSwt5_Pgh",
        "outputId": "b1efe466-c143-4ee3-f90f-cd1a516742d7"
      },
      "source": [
        "from sklearn.svm import SVC\n",
        "from sklearn.preprocessing import StandardScaler\n",
        "from sklearn.datasets import make_classification\n",
        "from sklearn.model_selection import train_test_split\n",
        "from sklearn.pipeline import Pipeline\n",
        "X, y = make_classification(random_state=0)\n",
        "X_train, X_test, y_train, y_test = train_test_split(X, y,random_state=0)\n",
        "\n",
        "'''\n",
        "The Pipeline is built using a list of (key, value) pairs, where the key \n",
        "is a string containing the name you want to give \n",
        "this step and value is an estimator object:\n",
        "'''\n",
        "pipe = Pipeline([('scaler', StandardScaler()), ('svc', SVC())])\n",
        "# The pipeline can be used as any other estimator\n",
        "# and avoids leaking the test set into the train set\n",
        "pipe.fit(X_train, y_train)\n",
        "print(pipe)\n",
        "# Pipeline(steps=[('scaler', StandardScaler()), ('svc', SVC())])\n",
        "pipe.score(X_test, y_test)"
      ],
      "execution_count": null,
      "outputs": [
        {
          "output_type": "stream",
          "text": [
            "Pipeline(memory=None,\n",
            "         steps=[('scaler',\n",
            "                 StandardScaler(copy=True, with_mean=True, with_std=True)),\n",
            "                ('svc',\n",
            "                 SVC(C=1.0, break_ties=False, cache_size=200, class_weight=None,\n",
            "                     coef0=0.0, decision_function_shape='ovr', degree=3,\n",
            "                     gamma='scale', kernel='rbf', max_iter=-1,\n",
            "                     probability=False, random_state=None, shrinking=True,\n",
            "                     tol=0.001, verbose=False))],\n",
            "         verbose=False)\n"
          ],
          "name": "stdout"
        },
        {
          "output_type": "execute_result",
          "data": {
            "text/plain": [
              "0.88"
            ]
          },
          "metadata": {
            "tags": []
          },
          "execution_count": 10
        }
      ]
    },
    {
      "cell_type": "code",
      "metadata": {
        "colab": {
          "base_uri": "https://localhost:8080/"
        },
        "id": "wv-8WZHfAXpF",
        "outputId": "0d306599-5120-49ad-8a08-a7cb6e95ed7a"
      },
      "source": [
        "'''\n",
        "The estimators of a pipeline are stored as a list in the steps attribute, \n",
        "but can be accessed by index or name by indexing (with [idx]) the Pipeline:\n",
        "'''\n",
        "\n",
        "print('which is the first step of the pipeline? {}'.format(pipe.steps[0]))\n",
        "print('which is the first step of the pipeline? {}'.format(pipe[0]))\n",
        "print('which is the first step of the pipeline? {}'.format(pipe['scaler']))\n",
        "\n",
        "'''\n",
        "tab completion when using the named_step attribute of the pipeline\n",
        "'''\n",
        "pipe.named_steps.scaler\n"
      ],
      "execution_count": null,
      "outputs": [
        {
          "output_type": "stream",
          "text": [
            "which is the first step of the pipeline? ('scaler', StandardScaler(copy=True, with_mean=True, with_std=True))\n",
            "which is the first step of the pipeline? StandardScaler(copy=True, with_mean=True, with_std=True)\n",
            "which is the first step of the pipeline? StandardScaler(copy=True, with_mean=True, with_std=True)\n"
          ],
          "name": "stdout"
        },
        {
          "output_type": "execute_result",
          "data": {
            "text/plain": [
              "StandardScaler(copy=True, with_mean=True, with_std=True)"
            ]
          },
          "metadata": {
            "tags": []
          },
          "execution_count": 11
        }
      ]
    },
    {
      "cell_type": "code",
      "metadata": {
        "colab": {
          "base_uri": "https://localhost:8080/"
        },
        "id": "izMiinqzB05R",
        "outputId": "560d93a8-c084-428e-8a66-e83be14cb24c"
      },
      "source": [
        "'''\n",
        "A sub-pipeline can also be extracted using the slicing notation commonly used \n",
        "for Python Sequences such as lists or strings (although only a step of 1 is permitted).\n",
        "This is convenient for performing only some of the transformations (or their inverse):\n",
        "'''\n",
        "\n",
        "print(pipe[1:2])\n"
      ],
      "execution_count": null,
      "outputs": [
        {
          "output_type": "stream",
          "text": [
            "Pipeline(memory=None,\n",
            "         steps=[('svc',\n",
            "                 SVC(C=1.0, break_ties=False, cache_size=200, class_weight=None,\n",
            "                     coef0=0.0, decision_function_shape='ovr', degree=3,\n",
            "                     gamma='scale', kernel='rbf', max_iter=-1,\n",
            "                     probability=False, random_state=None, shrinking=True,\n",
            "                     tol=0.001, verbose=False))],\n",
            "         verbose=False)\n"
          ],
          "name": "stdout"
        }
      ]
    },
    {
      "cell_type": "code",
      "metadata": {
        "colab": {
          "base_uri": "https://localhost:8080/"
        },
        "id": "29sgtGheCIZL",
        "outputId": "3bfdabd7-56f4-4461-82c2-e51b5cd5e572"
      },
      "source": [
        "'''\n",
        "Parameters of the estimators in the pipeline can be accessed using the <estimator>__<parameter> syntax\n",
        "'''\n",
        "\n",
        "pipe.set_params(svc__C=10)\n",
        "\n",
        "'''\n",
        "This is particularly important for doing grid search\n",
        "'''\n",
        "\n",
        "from sklearn.model_selection import GridSearchCV\n",
        "param_grid = dict(scaler__with_mean=[True, False],svc__C=[0.1, 10, 100])\n",
        "grid_search = GridSearchCV(pipe, param_grid=param_grid, verbose=10)\n",
        "grid_search.fit(X_train,y_train) #fit will perform the entire pipeline accordingly to its definition\n"
      ],
      "execution_count": null,
      "outputs": [
        {
          "output_type": "stream",
          "text": [
            "Fitting 5 folds for each of 6 candidates, totalling 30 fits\n",
            "[CV] scaler__with_mean=True, svc__C=0.1 ..............................\n",
            "[CV] .. scaler__with_mean=True, svc__C=0.1, score=0.467, total=   0.0s\n",
            "[CV] scaler__with_mean=True, svc__C=0.1 ..............................\n",
            "[CV] .. scaler__with_mean=True, svc__C=0.1, score=0.467, total=   0.0s\n",
            "[CV] scaler__with_mean=True, svc__C=0.1 ..............................\n",
            "[CV] .. scaler__with_mean=True, svc__C=0.1, score=1.000, total=   0.0s\n",
            "[CV] scaler__with_mean=True, svc__C=0.1 ..............................\n",
            "[CV] .. scaler__with_mean=True, svc__C=0.1, score=0.600, total=   0.0s\n",
            "[CV] scaler__with_mean=True, svc__C=0.1 ..............................\n",
            "[CV] .. scaler__with_mean=True, svc__C=0.1, score=0.933, total=   0.0s\n",
            "[CV] scaler__with_mean=True, svc__C=10 ...............................\n",
            "[CV] ... scaler__with_mean=True, svc__C=10, score=0.800, total=   0.0s\n",
            "[CV] scaler__with_mean=True, svc__C=10 ...............................\n",
            "[CV] ... scaler__with_mean=True, svc__C=10, score=0.733, total=   0.0s\n",
            "[CV] scaler__with_mean=True, svc__C=10 ...............................\n",
            "[CV] ... scaler__with_mean=True, svc__C=10, score=0.867, total=   0.0s\n",
            "[CV] scaler__with_mean=True, svc__C=10 ...............................\n",
            "[CV] ... scaler__with_mean=True, svc__C=10, score=0.800, total=   0.0s\n",
            "[CV] scaler__with_mean=True, svc__C=10 ...............................\n",
            "[CV] ... scaler__with_mean=True, svc__C=10, score=0.867, total=   0.0s\n",
            "[CV] scaler__with_mean=True, svc__C=100 ..............................\n",
            "[CV] .. scaler__with_mean=True, svc__C=100, score=0.800, total=   0.0s\n",
            "[CV] scaler__with_mean=True, svc__C=100 ..............................\n",
            "[CV] .. scaler__with_mean=True, svc__C=100, score=0.733, total=   0.0s\n",
            "[CV] scaler__with_mean=True, svc__C=100 ..............................\n",
            "[CV] .. scaler__with_mean=True, svc__C=100, score=0.867, total=   0.0s\n",
            "[CV] scaler__with_mean=True, svc__C=100 ..............................\n",
            "[CV] .. scaler__with_mean=True, svc__C=100, score=0.800, total=   0.0s\n",
            "[CV] scaler__with_mean=True, svc__C=100 ..............................\n",
            "[CV] .. scaler__with_mean=True, svc__C=100, score=0.867, total=   0.0s\n",
            "[CV] scaler__with_mean=False, svc__C=0.1 .............................\n",
            "[CV] . scaler__with_mean=False, svc__C=0.1, score=0.467, total=   0.0s\n",
            "[CV] scaler__with_mean=False, svc__C=0.1 .............................\n",
            "[CV] . scaler__with_mean=False, svc__C=0.1, score=0.467, total=   0.0s\n",
            "[CV] scaler__with_mean=False, svc__C=0.1 .............................\n",
            "[CV] . scaler__with_mean=False, svc__C=0.1, score=1.000, total=   0.0s\n",
            "[CV] scaler__with_mean=False, svc__C=0.1 .............................\n",
            "[CV] . scaler__with_mean=False, svc__C=0.1, score=0.600, total=   0.0s\n",
            "[CV] scaler__with_mean=False, svc__C=0.1 .............................\n",
            "[CV] . scaler__with_mean=False, svc__C=0.1, score=0.933, total=   0.0s\n",
            "[CV] scaler__with_mean=False, svc__C=10 ..............................\n",
            "[CV] .. scaler__with_mean=False, svc__C=10, score=0.800, total=   0.0s\n",
            "[CV] scaler__with_mean=False, svc__C=10 ..............................\n",
            "[CV] .. scaler__with_mean=False, svc__C=10, score=0.733, total=   0.0s\n",
            "[CV] scaler__with_mean=False, svc__C=10 ..............................\n",
            "[CV] .. scaler__with_mean=False, svc__C=10, score=0.867, total=   0.0s\n",
            "[CV] scaler__with_mean=False, svc__C=10 ..............................\n",
            "[CV] .. scaler__with_mean=False, svc__C=10, score=0.800, total=   0.0s\n",
            "[CV] scaler__with_mean=False, svc__C=10 ..............................\n",
            "[CV] .. scaler__with_mean=False, svc__C=10, score=0.867, total=   0.0s\n",
            "[CV] scaler__with_mean=False, svc__C=100 .............................\n",
            "[CV] . scaler__with_mean=False, svc__C=100, score=0.800, total=   0.0s\n",
            "[CV] scaler__with_mean=False, svc__C=100 .............................\n",
            "[CV] . scaler__with_mean=False, svc__C=100, score=0.733, total=   0.0s\n",
            "[CV] scaler__with_mean=False, svc__C=100 .............................\n",
            "[CV] . scaler__with_mean=False, svc__C=100, score=0.867, total=   0.0s\n",
            "[CV] scaler__with_mean=False, svc__C=100 .............................\n",
            "[CV] . scaler__with_mean=False, svc__C=100, score=0.800, total=   0.0s\n",
            "[CV] scaler__with_mean=False, svc__C=100 .............................\n",
            "[CV] . scaler__with_mean=False, svc__C=100, score=0.867, total=   0.0s\n"
          ],
          "name": "stdout"
        },
        {
          "output_type": "stream",
          "text": [
            "[Parallel(n_jobs=1)]: Using backend SequentialBackend with 1 concurrent workers.\n",
            "[Parallel(n_jobs=1)]: Done   1 out of   1 | elapsed:    0.0s remaining:    0.0s\n",
            "[Parallel(n_jobs=1)]: Done   2 out of   2 | elapsed:    0.0s remaining:    0.0s\n",
            "[Parallel(n_jobs=1)]: Done   3 out of   3 | elapsed:    0.0s remaining:    0.0s\n",
            "[Parallel(n_jobs=1)]: Done   4 out of   4 | elapsed:    0.0s remaining:    0.0s\n",
            "[Parallel(n_jobs=1)]: Done   5 out of   5 | elapsed:    0.0s remaining:    0.0s\n",
            "[Parallel(n_jobs=1)]: Done   6 out of   6 | elapsed:    0.0s remaining:    0.0s\n",
            "[Parallel(n_jobs=1)]: Done   7 out of   7 | elapsed:    0.0s remaining:    0.0s\n",
            "[Parallel(n_jobs=1)]: Done   8 out of   8 | elapsed:    0.0s remaining:    0.0s\n",
            "[Parallel(n_jobs=1)]: Done   9 out of   9 | elapsed:    0.0s remaining:    0.0s\n",
            "[Parallel(n_jobs=1)]: Done  30 out of  30 | elapsed:    0.1s finished\n"
          ],
          "name": "stderr"
        },
        {
          "output_type": "execute_result",
          "data": {
            "text/plain": [
              "GridSearchCV(cv=None, error_score=nan,\n",
              "             estimator=Pipeline(memory=None,\n",
              "                                steps=[('scaler',\n",
              "                                        StandardScaler(copy=True,\n",
              "                                                       with_mean=True,\n",
              "                                                       with_std=True)),\n",
              "                                       ('svc',\n",
              "                                        SVC(C=10, break_ties=False,\n",
              "                                            cache_size=200, class_weight=None,\n",
              "                                            coef0=0.0,\n",
              "                                            decision_function_shape='ovr',\n",
              "                                            degree=3, gamma='scale',\n",
              "                                            kernel='rbf', max_iter=-1,\n",
              "                                            probability=False,\n",
              "                                            random_state=None, shrinking=True,\n",
              "                                            tol=0.001, verbose=False))],\n",
              "                                verbose=False),\n",
              "             iid='deprecated', n_jobs=None,\n",
              "             param_grid={'scaler__with_mean': [True, False],\n",
              "                         'svc__C': [0.1, 10, 100]},\n",
              "             pre_dispatch='2*n_jobs', refit=True, return_train_score=False,\n",
              "             scoring=None, verbose=10)"
            ]
          },
          "metadata": {
            "tags": []
          },
          "execution_count": 13
        }
      ]
    },
    {
      "cell_type": "code",
      "metadata": {
        "colab": {
          "base_uri": "https://localhost:8080/"
        },
        "id": "NjpmPS78DLtl",
        "outputId": "5dd6acaa-7cc4-49ec-a9e7-07b3bab851cb"
      },
      "source": [
        "'''\n",
        "Individual steps may also be replaced as parameters, \n",
        "and non-final steps may be ignored by setting them to 'passthrough'\n",
        "'''\n",
        "from sklearn.linear_model import LogisticRegression\n",
        "param_grid = dict(scaler=['passthrough', StandardScaler(with_mean=True), StandardScaler(with_mean=False)],\n",
        "                  svc=[SVC(), LogisticRegression()],\n",
        "                  svc__C=[0.1, 10, 100])\n",
        "grid_search = GridSearchCV(pipe, param_grid=param_grid,verbose=10)\n",
        "grid_search.fit(X_train, y_train)"
      ],
      "execution_count": null,
      "outputs": [
        {
          "output_type": "stream",
          "text": [
            "Fitting 5 folds for each of 18 candidates, totalling 90 fits\n",
            "[CV] scaler=passthrough, svc=SVC(C=1.0, break_ties=False, cache_size=200, class_weight=None, coef0=0.0,\n",
            "    decision_function_shape='ovr', degree=3, gamma='scale', kernel='rbf',\n",
            "    max_iter=-1, probability=False, random_state=None, shrinking=True,\n",
            "    tol=0.001, verbose=False), svc__C=0.1 \n",
            "[CV]  scaler=passthrough, svc=SVC(C=1.0, break_ties=False, cache_size=200, class_weight=None, coef0=0.0,\n",
            "    decision_function_shape='ovr', degree=3, gamma='scale', kernel='rbf',\n",
            "    max_iter=-1, probability=False, random_state=None, shrinking=True,\n",
            "    tol=0.001, verbose=False), svc__C=0.1, score=0.467, total=   0.0s\n",
            "[CV] scaler=passthrough, svc=SVC(C=1.0, break_ties=False, cache_size=200, class_weight=None, coef0=0.0,\n",
            "    decision_function_shape='ovr', degree=3, gamma='scale', kernel='rbf',\n",
            "    max_iter=-1, probability=False, random_state=None, shrinking=True,\n",
            "    tol=0.001, verbose=False), svc__C=0.1 \n",
            "[CV]  scaler=passthrough, svc=SVC(C=1.0, break_ties=False, cache_size=200, class_weight=None, coef0=0.0,\n",
            "    decision_function_shape='ovr', degree=3, gamma='scale', kernel='rbf',\n",
            "    max_iter=-1, probability=False, random_state=None, shrinking=True,\n",
            "    tol=0.001, verbose=False), svc__C=0.1, score=0.467, total=   0.0s\n",
            "[CV] scaler=passthrough, svc=SVC(C=1.0, break_ties=False, cache_size=200, class_weight=None, coef0=0.0,\n",
            "    decision_function_shape='ovr', degree=3, gamma='scale', kernel='rbf',\n",
            "    max_iter=-1, probability=False, random_state=None, shrinking=True,\n",
            "    tol=0.001, verbose=False), svc__C=0.1 \n",
            "[CV]  scaler=passthrough, svc=SVC(C=1.0, break_ties=False, cache_size=200, class_weight=None, coef0=0.0,\n",
            "    decision_function_shape='ovr', degree=3, gamma='scale', kernel='rbf',\n",
            "    max_iter=-1, probability=False, random_state=None, shrinking=True,\n",
            "    tol=0.001, verbose=False), svc__C=0.1, score=0.933, total=   0.0s\n",
            "[CV] scaler=passthrough, svc=SVC(C=1.0, break_ties=False, cache_size=200, class_weight=None, coef0=0.0,\n",
            "    decision_function_shape='ovr', degree=3, gamma='scale', kernel='rbf',\n",
            "    max_iter=-1, probability=False, random_state=None, shrinking=True,\n",
            "    tol=0.001, verbose=False), svc__C=0.1 \n",
            "[CV]  scaler=passthrough, svc=SVC(C=1.0, break_ties=False, cache_size=200, class_weight=None, coef0=0.0,\n",
            "    decision_function_shape='ovr', degree=3, gamma='scale', kernel='rbf',\n",
            "    max_iter=-1, probability=False, random_state=None, shrinking=True,\n",
            "    tol=0.001, verbose=False), svc__C=0.1, score=0.667, total=   0.0s\n",
            "[CV] scaler=passthrough, svc=SVC(C=1.0, break_ties=False, cache_size=200, class_weight=None, coef0=0.0,\n",
            "    decision_function_shape='ovr', degree=3, gamma='scale', kernel='rbf',\n",
            "    max_iter=-1, probability=False, random_state=None, shrinking=True,\n",
            "    tol=0.001, verbose=False), svc__C=0.1 \n",
            "[CV]  scaler=passthrough, svc=SVC(C=1.0, break_ties=False, cache_size=200, class_weight=None, coef0=0.0,\n",
            "    decision_function_shape='ovr', degree=3, gamma='scale', kernel='rbf',\n",
            "    max_iter=-1, probability=False, random_state=None, shrinking=True,\n",
            "    tol=0.001, verbose=False), svc__C=0.1, score=0.800, total=   0.0s\n",
            "[CV] scaler=passthrough, svc=SVC(C=1.0, break_ties=False, cache_size=200, class_weight=None, coef0=0.0,\n",
            "    decision_function_shape='ovr', degree=3, gamma='scale', kernel='rbf',\n",
            "    max_iter=-1, probability=False, random_state=None, shrinking=True,\n",
            "    tol=0.001, verbose=False), svc__C=10 \n",
            "[CV]  scaler=passthrough, svc=SVC(C=1.0, break_ties=False, cache_size=200, class_weight=None, coef0=0.0,\n",
            "    decision_function_shape='ovr', degree=3, gamma='scale', kernel='rbf',\n",
            "    max_iter=-1, probability=False, random_state=None, shrinking=True,\n",
            "    tol=0.001, verbose=False), svc__C=10, score=0.800, total=   0.0s\n",
            "[CV] scaler=passthrough, svc=SVC(C=1.0, break_ties=False, cache_size=200, class_weight=None, coef0=0.0,\n",
            "    decision_function_shape='ovr', degree=3, gamma='scale', kernel='rbf',\n",
            "    max_iter=-1, probability=False, random_state=None, shrinking=True,\n",
            "    tol=0.001, verbose=False), svc__C=10 \n",
            "[CV]  scaler=passthrough, svc=SVC(C=1.0, break_ties=False, cache_size=200, class_weight=None, coef0=0.0,\n",
            "    decision_function_shape='ovr', degree=3, gamma='scale', kernel='rbf',\n",
            "    max_iter=-1, probability=False, random_state=None, shrinking=True,\n",
            "    tol=0.001, verbose=False), svc__C=10, score=0.733, total=   0.0s\n",
            "[CV] scaler=passthrough, svc=SVC(C=1.0, break_ties=False, cache_size=200, class_weight=None, coef0=0.0,\n",
            "    decision_function_shape='ovr', degree=3, gamma='scale', kernel='rbf',\n",
            "    max_iter=-1, probability=False, random_state=None, shrinking=True,\n",
            "    tol=0.001, verbose=False), svc__C=10 \n",
            "[CV]  scaler=passthrough, svc=SVC(C=1.0, break_ties=False, cache_size=200, class_weight=None, coef0=0.0,\n",
            "    decision_function_shape='ovr', degree=3, gamma='scale', kernel='rbf',\n",
            "    max_iter=-1, probability=False, random_state=None, shrinking=True,\n",
            "    tol=0.001, verbose=False), svc__C=10, score=0.933, total=   0.0s\n",
            "[CV] scaler=passthrough, svc=SVC(C=1.0, break_ties=False, cache_size=200, class_weight=None, coef0=0.0,\n",
            "    decision_function_shape='ovr', degree=3, gamma='scale', kernel='rbf',\n",
            "    max_iter=-1, probability=False, random_state=None, shrinking=True,\n",
            "    tol=0.001, verbose=False), svc__C=10 \n",
            "[CV]  scaler=passthrough, svc=SVC(C=1.0, break_ties=False, cache_size=200, class_weight=None, coef0=0.0,\n",
            "    decision_function_shape='ovr', degree=3, gamma='scale', kernel='rbf',\n",
            "    max_iter=-1, probability=False, random_state=None, shrinking=True,\n",
            "    tol=0.001, verbose=False), svc__C=10, score=0.800, total=   0.0s\n",
            "[CV] scaler=passthrough, svc=SVC(C=1.0, break_ties=False, cache_size=200, class_weight=None, coef0=0.0,\n",
            "    decision_function_shape='ovr', degree=3, gamma='scale', kernel='rbf',\n",
            "    max_iter=-1, probability=False, random_state=None, shrinking=True,\n",
            "    tol=0.001, verbose=False), svc__C=10 \n",
            "[CV]  scaler=passthrough, svc=SVC(C=1.0, break_ties=False, cache_size=200, class_weight=None, coef0=0.0,\n",
            "    decision_function_shape='ovr', degree=3, gamma='scale', kernel='rbf',\n",
            "    max_iter=-1, probability=False, random_state=None, shrinking=True,\n",
            "    tol=0.001, verbose=False), svc__C=10, score=0.867, total=   0.0s\n",
            "[CV] scaler=passthrough, svc=SVC(C=1.0, break_ties=False, cache_size=200, class_weight=None, coef0=0.0,\n",
            "    decision_function_shape='ovr', degree=3, gamma='scale', kernel='rbf',\n",
            "    max_iter=-1, probability=False, random_state=None, shrinking=True,\n",
            "    tol=0.001, verbose=False), svc__C=100 \n",
            "[CV]  scaler=passthrough, svc=SVC(C=1.0, break_ties=False, cache_size=200, class_weight=None, coef0=0.0,\n",
            "    decision_function_shape='ovr', degree=3, gamma='scale', kernel='rbf',\n",
            "    max_iter=-1, probability=False, random_state=None, shrinking=True,\n",
            "    tol=0.001, verbose=False), svc__C=100, score=0.800, total=   0.0s\n",
            "[CV] scaler=passthrough, svc=SVC(C=1.0, break_ties=False, cache_size=200, class_weight=None, coef0=0.0,\n",
            "    decision_function_shape='ovr', degree=3, gamma='scale', kernel='rbf',\n",
            "    max_iter=-1, probability=False, random_state=None, shrinking=True,\n",
            "    tol=0.001, verbose=False), svc__C=100 \n",
            "[CV]  scaler=passthrough, svc=SVC(C=1.0, break_ties=False, cache_size=200, class_weight=None, coef0=0.0,\n",
            "    decision_function_shape='ovr', degree=3, gamma='scale', kernel='rbf',\n",
            "    max_iter=-1, probability=False, random_state=None, shrinking=True,\n",
            "    tol=0.001, verbose=False), svc__C=100, score=0.733, total=   0.0s\n",
            "[CV] scaler=passthrough, svc=SVC(C=1.0, break_ties=False, cache_size=200, class_weight=None, coef0=0.0,\n",
            "    decision_function_shape='ovr', degree=3, gamma='scale', kernel='rbf',\n",
            "    max_iter=-1, probability=False, random_state=None, shrinking=True,\n",
            "    tol=0.001, verbose=False), svc__C=100 \n",
            "[CV]  scaler=passthrough, svc=SVC(C=1.0, break_ties=False, cache_size=200, class_weight=None, coef0=0.0,\n",
            "    decision_function_shape='ovr', degree=3, gamma='scale', kernel='rbf',\n",
            "    max_iter=-1, probability=False, random_state=None, shrinking=True,\n",
            "    tol=0.001, verbose=False), svc__C=100, score=0.933, total=   0.0s\n",
            "[CV] scaler=passthrough, svc=SVC(C=1.0, break_ties=False, cache_size=200, class_weight=None, coef0=0.0,\n",
            "    decision_function_shape='ovr', degree=3, gamma='scale', kernel='rbf',\n",
            "    max_iter=-1, probability=False, random_state=None, shrinking=True,\n",
            "    tol=0.001, verbose=False), svc__C=100 \n",
            "[CV]  scaler=passthrough, svc=SVC(C=1.0, break_ties=False, cache_size=200, class_weight=None, coef0=0.0,\n",
            "    decision_function_shape='ovr', degree=3, gamma='scale', kernel='rbf',\n",
            "    max_iter=-1, probability=False, random_state=None, shrinking=True,\n",
            "    tol=0.001, verbose=False), svc__C=100, score=0.800, total=   0.0s\n",
            "[CV] scaler=passthrough, svc=SVC(C=1.0, break_ties=False, cache_size=200, class_weight=None, coef0=0.0,\n",
            "    decision_function_shape='ovr', degree=3, gamma='scale', kernel='rbf',\n",
            "    max_iter=-1, probability=False, random_state=None, shrinking=True,\n",
            "    tol=0.001, verbose=False), svc__C=100 \n",
            "[CV]  scaler=passthrough, svc=SVC(C=1.0, break_ties=False, cache_size=200, class_weight=None, coef0=0.0,\n",
            "    decision_function_shape='ovr', degree=3, gamma='scale', kernel='rbf',\n",
            "    max_iter=-1, probability=False, random_state=None, shrinking=True,\n",
            "    tol=0.001, verbose=False), svc__C=100, score=0.867, total=   0.0s\n",
            "[CV] scaler=passthrough, svc=LogisticRegression(C=1.0, class_weight=None, dual=False, fit_intercept=True,\n",
            "                   intercept_scaling=1, l1_ratio=None, max_iter=100,\n",
            "                   multi_class='auto', n_jobs=None, penalty='l2',\n",
            "                   random_state=None, solver='lbfgs', tol=0.0001, verbose=0,\n",
            "                   warm_start=False), svc__C=0.1 \n",
            "[CV]  scaler=passthrough, svc=LogisticRegression(C=1.0, class_weight=None, dual=False, fit_intercept=True,\n",
            "                   intercept_scaling=1, l1_ratio=None, max_iter=100,\n",
            "                   multi_class='auto', n_jobs=None, penalty='l2',\n",
            "                   random_state=None, solver='lbfgs', tol=0.0001, verbose=0,\n",
            "                   warm_start=False), svc__C=0.1, score=0.800, total=   0.0s\n",
            "[CV] scaler=passthrough, svc=LogisticRegression(C=1.0, class_weight=None, dual=False, fit_intercept=True,\n",
            "                   intercept_scaling=1, l1_ratio=None, max_iter=100,\n",
            "                   multi_class='auto', n_jobs=None, penalty='l2',\n",
            "                   random_state=None, solver='lbfgs', tol=0.0001, verbose=0,\n",
            "                   warm_start=False), svc__C=0.1 \n",
            "[CV]  scaler=passthrough, svc=LogisticRegression(C=1.0, class_weight=None, dual=False, fit_intercept=True,\n",
            "                   intercept_scaling=1, l1_ratio=None, max_iter=100,\n",
            "                   multi_class='auto', n_jobs=None, penalty='l2',\n",
            "                   random_state=None, solver='lbfgs', tol=0.0001, verbose=0,\n",
            "                   warm_start=False), svc__C=0.1, score=0.800, total=   0.0s\n",
            "[CV] scaler=passthrough, svc=LogisticRegression(C=1.0, class_weight=None, dual=False, fit_intercept=True,\n",
            "                   intercept_scaling=1, l1_ratio=None, max_iter=100,\n",
            "                   multi_class='auto', n_jobs=None, penalty='l2',\n",
            "                   random_state=None, solver='lbfgs', tol=0.0001, verbose=0,\n",
            "                   warm_start=False), svc__C=0.1 \n",
            "[CV]  scaler=passthrough, svc=LogisticRegression(C=1.0, class_weight=None, dual=False, fit_intercept=True,\n",
            "                   intercept_scaling=1, l1_ratio=None, max_iter=100,\n",
            "                   multi_class='auto', n_jobs=None, penalty='l2',\n",
            "                   random_state=None, solver='lbfgs', tol=0.0001, verbose=0,\n",
            "                   warm_start=False), svc__C=0.1, score=0.933, total=   0.0s\n",
            "[CV] scaler=passthrough, svc=LogisticRegression(C=1.0, class_weight=None, dual=False, fit_intercept=True,\n",
            "                   intercept_scaling=1, l1_ratio=None, max_iter=100,\n",
            "                   multi_class='auto', n_jobs=None, penalty='l2',\n",
            "                   random_state=None, solver='lbfgs', tol=0.0001, verbose=0,\n",
            "                   warm_start=False), svc__C=0.1 \n",
            "[CV]  scaler=passthrough, svc=LogisticRegression(C=1.0, class_weight=None, dual=False, fit_intercept=True,\n",
            "                   intercept_scaling=1, l1_ratio=None, max_iter=100,\n",
            "                   multi_class='auto', n_jobs=None, penalty='l2',\n",
            "                   random_state=None, solver='lbfgs', tol=0.0001, verbose=0,\n",
            "                   warm_start=False), svc__C=0.1, score=0.867, total=   0.0s\n",
            "[CV] scaler=passthrough, svc=LogisticRegression(C=1.0, class_weight=None, dual=False, fit_intercept=True,\n",
            "                   intercept_scaling=1, l1_ratio=None, max_iter=100,\n",
            "                   multi_class='auto', n_jobs=None, penalty='l2',\n",
            "                   random_state=None, solver='lbfgs', tol=0.0001, verbose=0,\n",
            "                   warm_start=False), svc__C=0.1 \n",
            "[CV]  scaler=passthrough, svc=LogisticRegression(C=1.0, class_weight=None, dual=False, fit_intercept=True,\n",
            "                   intercept_scaling=1, l1_ratio=None, max_iter=100,\n",
            "                   multi_class='auto', n_jobs=None, penalty='l2',\n",
            "                   random_state=None, solver='lbfgs', tol=0.0001, verbose=0,\n",
            "                   warm_start=False), svc__C=0.1, score=0.800, total=   0.0s\n",
            "[CV] scaler=passthrough, svc=LogisticRegression(C=1.0, class_weight=None, dual=False, fit_intercept=True,\n",
            "                   intercept_scaling=1, l1_ratio=None, max_iter=100,\n",
            "                   multi_class='auto', n_jobs=None, penalty='l2',\n",
            "                   random_state=None, solver='lbfgs', tol=0.0001, verbose=0,\n",
            "                   warm_start=False), svc__C=10 \n",
            "[CV]  scaler=passthrough, svc=LogisticRegression(C=1.0, class_weight=None, dual=False, fit_intercept=True,\n",
            "                   intercept_scaling=1, l1_ratio=None, max_iter=100,\n",
            "                   multi_class='auto', n_jobs=None, penalty='l2',\n",
            "                   random_state=None, solver='lbfgs', tol=0.0001, verbose=0,\n",
            "                   warm_start=False), svc__C=10, score=0.800, total=   0.0s\n",
            "[CV] scaler=passthrough, svc=LogisticRegression(C=1.0, class_weight=None, dual=False, fit_intercept=True,\n",
            "                   intercept_scaling=1, l1_ratio=None, max_iter=100,\n",
            "                   multi_class='auto', n_jobs=None, penalty='l2',\n",
            "                   random_state=None, solver='lbfgs', tol=0.0001, verbose=0,\n",
            "                   warm_start=False), svc__C=10 \n",
            "[CV]  scaler=passthrough, svc=LogisticRegression(C=1.0, class_weight=None, dual=False, fit_intercept=True,\n",
            "                   intercept_scaling=1, l1_ratio=None, max_iter=100,\n",
            "                   multi_class='auto', n_jobs=None, penalty='l2',\n",
            "                   random_state=None, solver='lbfgs', tol=0.0001, verbose=0,\n",
            "                   warm_start=False), svc__C=10, score=0.600, total=   0.0s\n",
            "[CV] scaler=passthrough, svc=LogisticRegression(C=1.0, class_weight=None, dual=False, fit_intercept=True,\n",
            "                   intercept_scaling=1, l1_ratio=None, max_iter=100,\n",
            "                   multi_class='auto', n_jobs=None, penalty='l2',\n",
            "                   random_state=None, solver='lbfgs', tol=0.0001, verbose=0,\n",
            "                   warm_start=False), svc__C=10 \n",
            "[CV]  scaler=passthrough, svc=LogisticRegression(C=1.0, class_weight=None, dual=False, fit_intercept=True,\n",
            "                   intercept_scaling=1, l1_ratio=None, max_iter=100,\n",
            "                   multi_class='auto', n_jobs=None, penalty='l2',\n",
            "                   random_state=None, solver='lbfgs', tol=0.0001, verbose=0,\n",
            "                   warm_start=False), svc__C=10, score=0.933, total=   0.0s\n",
            "[CV] scaler=passthrough, svc=LogisticRegression(C=1.0, class_weight=None, dual=False, fit_intercept=True,\n",
            "                   intercept_scaling=1, l1_ratio=None, max_iter=100,\n",
            "                   multi_class='auto', n_jobs=None, penalty='l2',\n",
            "                   random_state=None, solver='lbfgs', tol=0.0001, verbose=0,\n",
            "                   warm_start=False), svc__C=10 \n",
            "[CV]  scaler=passthrough, svc=LogisticRegression(C=1.0, class_weight=None, dual=False, fit_intercept=True,\n",
            "                   intercept_scaling=1, l1_ratio=None, max_iter=100,\n",
            "                   multi_class='auto', n_jobs=None, penalty='l2',\n",
            "                   random_state=None, solver='lbfgs', tol=0.0001, verbose=0,\n",
            "                   warm_start=False), svc__C=10, score=0.867, total=   0.0s\n",
            "[CV] scaler=passthrough, svc=LogisticRegression(C=1.0, class_weight=None, dual=False, fit_intercept=True,\n",
            "                   intercept_scaling=1, l1_ratio=None, max_iter=100,\n",
            "                   multi_class='auto', n_jobs=None, penalty='l2',\n",
            "                   random_state=None, solver='lbfgs', tol=0.0001, verbose=0,\n",
            "                   warm_start=False), svc__C=10 \n",
            "[CV]  scaler=passthrough, svc=LogisticRegression(C=1.0, class_weight=None, dual=False, fit_intercept=True,\n",
            "                   intercept_scaling=1, l1_ratio=None, max_iter=100,\n",
            "                   multi_class='auto', n_jobs=None, penalty='l2',\n",
            "                   random_state=None, solver='lbfgs', tol=0.0001, verbose=0,\n",
            "                   warm_start=False), svc__C=10, score=0.867, total=   0.0s\n",
            "[CV] scaler=passthrough, svc=LogisticRegression(C=1.0, class_weight=None, dual=False, fit_intercept=True,\n",
            "                   intercept_scaling=1, l1_ratio=None, max_iter=100,\n",
            "                   multi_class='auto', n_jobs=None, penalty='l2',\n",
            "                   random_state=None, solver='lbfgs', tol=0.0001, verbose=0,\n",
            "                   warm_start=False), svc__C=100 \n",
            "[CV]  scaler=passthrough, svc=LogisticRegression(C=1.0, class_weight=None, dual=False, fit_intercept=True,\n",
            "                   intercept_scaling=1, l1_ratio=None, max_iter=100,\n",
            "                   multi_class='auto', n_jobs=None, penalty='l2',\n",
            "                   random_state=None, solver='lbfgs', tol=0.0001, verbose=0,\n",
            "                   warm_start=False), svc__C=100, score=0.800, total=   0.0s\n",
            "[CV] scaler=passthrough, svc=LogisticRegression(C=1.0, class_weight=None, dual=False, fit_intercept=True,\n",
            "                   intercept_scaling=1, l1_ratio=None, max_iter=100,\n",
            "                   multi_class='auto', n_jobs=None, penalty='l2',\n",
            "                   random_state=None, solver='lbfgs', tol=0.0001, verbose=0,\n",
            "                   warm_start=False), svc__C=100 \n"
          ],
          "name": "stdout"
        },
        {
          "output_type": "stream",
          "text": [
            "[Parallel(n_jobs=1)]: Using backend SequentialBackend with 1 concurrent workers.\n",
            "[Parallel(n_jobs=1)]: Done   1 out of   1 | elapsed:    0.0s remaining:    0.0s\n",
            "[Parallel(n_jobs=1)]: Done   2 out of   2 | elapsed:    0.0s remaining:    0.0s\n",
            "[Parallel(n_jobs=1)]: Done   3 out of   3 | elapsed:    0.0s remaining:    0.0s\n",
            "[Parallel(n_jobs=1)]: Done   4 out of   4 | elapsed:    0.0s remaining:    0.0s\n",
            "[Parallel(n_jobs=1)]: Done   5 out of   5 | elapsed:    0.0s remaining:    0.0s\n",
            "[Parallel(n_jobs=1)]: Done   6 out of   6 | elapsed:    0.0s remaining:    0.0s\n",
            "[Parallel(n_jobs=1)]: Done   7 out of   7 | elapsed:    0.0s remaining:    0.0s\n",
            "[Parallel(n_jobs=1)]: Done   8 out of   8 | elapsed:    0.0s remaining:    0.0s\n",
            "[Parallel(n_jobs=1)]: Done   9 out of   9 | elapsed:    0.0s remaining:    0.0s\n"
          ],
          "name": "stderr"
        },
        {
          "output_type": "stream",
          "text": [
            "[CV]  scaler=passthrough, svc=LogisticRegression(C=1.0, class_weight=None, dual=False, fit_intercept=True,\n",
            "                   intercept_scaling=1, l1_ratio=None, max_iter=100,\n",
            "                   multi_class='auto', n_jobs=None, penalty='l2',\n",
            "                   random_state=None, solver='lbfgs', tol=0.0001, verbose=0,\n",
            "                   warm_start=False), svc__C=100, score=0.600, total=   0.0s\n",
            "[CV] scaler=passthrough, svc=LogisticRegression(C=1.0, class_weight=None, dual=False, fit_intercept=True,\n",
            "                   intercept_scaling=1, l1_ratio=None, max_iter=100,\n",
            "                   multi_class='auto', n_jobs=None, penalty='l2',\n",
            "                   random_state=None, solver='lbfgs', tol=0.0001, verbose=0,\n",
            "                   warm_start=False), svc__C=100 \n",
            "[CV]  scaler=passthrough, svc=LogisticRegression(C=1.0, class_weight=None, dual=False, fit_intercept=True,\n",
            "                   intercept_scaling=1, l1_ratio=None, max_iter=100,\n",
            "                   multi_class='auto', n_jobs=None, penalty='l2',\n",
            "                   random_state=None, solver='lbfgs', tol=0.0001, verbose=0,\n",
            "                   warm_start=False), svc__C=100, score=0.867, total=   0.0s\n",
            "[CV] scaler=passthrough, svc=LogisticRegression(C=1.0, class_weight=None, dual=False, fit_intercept=True,\n",
            "                   intercept_scaling=1, l1_ratio=None, max_iter=100,\n",
            "                   multi_class='auto', n_jobs=None, penalty='l2',\n",
            "                   random_state=None, solver='lbfgs', tol=0.0001, verbose=0,\n",
            "                   warm_start=False), svc__C=100 \n",
            "[CV]  scaler=passthrough, svc=LogisticRegression(C=1.0, class_weight=None, dual=False, fit_intercept=True,\n",
            "                   intercept_scaling=1, l1_ratio=None, max_iter=100,\n",
            "                   multi_class='auto', n_jobs=None, penalty='l2',\n",
            "                   random_state=None, solver='lbfgs', tol=0.0001, verbose=0,\n",
            "                   warm_start=False), svc__C=100, score=0.867, total=   0.0s\n",
            "[CV] scaler=passthrough, svc=LogisticRegression(C=1.0, class_weight=None, dual=False, fit_intercept=True,\n",
            "                   intercept_scaling=1, l1_ratio=None, max_iter=100,\n",
            "                   multi_class='auto', n_jobs=None, penalty='l2',\n",
            "                   random_state=None, solver='lbfgs', tol=0.0001, verbose=0,\n",
            "                   warm_start=False), svc__C=100 \n",
            "[CV]  scaler=passthrough, svc=LogisticRegression(C=1.0, class_weight=None, dual=False, fit_intercept=True,\n",
            "                   intercept_scaling=1, l1_ratio=None, max_iter=100,\n",
            "                   multi_class='auto', n_jobs=None, penalty='l2',\n",
            "                   random_state=None, solver='lbfgs', tol=0.0001, verbose=0,\n",
            "                   warm_start=False), svc__C=100, score=0.867, total=   0.0s\n",
            "[CV] scaler=StandardScaler(copy=True, with_mean=True, with_std=True), svc=SVC(C=1.0, break_ties=False, cache_size=200, class_weight=None, coef0=0.0,\n",
            "    decision_function_shape='ovr', degree=3, gamma='scale', kernel='rbf',\n",
            "    max_iter=-1, probability=False, random_state=None, shrinking=True,\n",
            "    tol=0.001, verbose=False), svc__C=0.1 \n",
            "[CV]  scaler=StandardScaler(copy=True, with_mean=True, with_std=True), svc=SVC(C=1.0, break_ties=False, cache_size=200, class_weight=None, coef0=0.0,\n",
            "    decision_function_shape='ovr', degree=3, gamma='scale', kernel='rbf',\n",
            "    max_iter=-1, probability=False, random_state=None, shrinking=True,\n",
            "    tol=0.001, verbose=False), svc__C=0.1, score=0.467, total=   0.0s\n",
            "[CV] scaler=StandardScaler(copy=True, with_mean=True, with_std=True), svc=SVC(C=1.0, break_ties=False, cache_size=200, class_weight=None, coef0=0.0,\n",
            "    decision_function_shape='ovr', degree=3, gamma='scale', kernel='rbf',\n",
            "    max_iter=-1, probability=False, random_state=None, shrinking=True,\n",
            "    tol=0.001, verbose=False), svc__C=0.1 \n",
            "[CV]  scaler=StandardScaler(copy=True, with_mean=True, with_std=True), svc=SVC(C=1.0, break_ties=False, cache_size=200, class_weight=None, coef0=0.0,\n",
            "    decision_function_shape='ovr', degree=3, gamma='scale', kernel='rbf',\n",
            "    max_iter=-1, probability=False, random_state=None, shrinking=True,\n",
            "    tol=0.001, verbose=False), svc__C=0.1, score=0.467, total=   0.0s\n",
            "[CV] scaler=StandardScaler(copy=True, with_mean=True, with_std=True), svc=SVC(C=1.0, break_ties=False, cache_size=200, class_weight=None, coef0=0.0,\n",
            "    decision_function_shape='ovr', degree=3, gamma='scale', kernel='rbf',\n",
            "    max_iter=-1, probability=False, random_state=None, shrinking=True,\n",
            "    tol=0.001, verbose=False), svc__C=0.1 \n",
            "[CV]  scaler=StandardScaler(copy=True, with_mean=True, with_std=True), svc=SVC(C=1.0, break_ties=False, cache_size=200, class_weight=None, coef0=0.0,\n",
            "    decision_function_shape='ovr', degree=3, gamma='scale', kernel='rbf',\n",
            "    max_iter=-1, probability=False, random_state=None, shrinking=True,\n",
            "    tol=0.001, verbose=False), svc__C=0.1, score=1.000, total=   0.0s\n",
            "[CV] scaler=StandardScaler(copy=True, with_mean=True, with_std=True), svc=SVC(C=1.0, break_ties=False, cache_size=200, class_weight=None, coef0=0.0,\n",
            "    decision_function_shape='ovr', degree=3, gamma='scale', kernel='rbf',\n",
            "    max_iter=-1, probability=False, random_state=None, shrinking=True,\n",
            "    tol=0.001, verbose=False), svc__C=0.1 \n",
            "[CV]  scaler=StandardScaler(copy=True, with_mean=True, with_std=True), svc=SVC(C=1.0, break_ties=False, cache_size=200, class_weight=None, coef0=0.0,\n",
            "    decision_function_shape='ovr', degree=3, gamma='scale', kernel='rbf',\n",
            "    max_iter=-1, probability=False, random_state=None, shrinking=True,\n",
            "    tol=0.001, verbose=False), svc__C=0.1, score=0.600, total=   0.0s\n",
            "[CV] scaler=StandardScaler(copy=True, with_mean=True, with_std=True), svc=SVC(C=1.0, break_ties=False, cache_size=200, class_weight=None, coef0=0.0,\n",
            "    decision_function_shape='ovr', degree=3, gamma='scale', kernel='rbf',\n",
            "    max_iter=-1, probability=False, random_state=None, shrinking=True,\n",
            "    tol=0.001, verbose=False), svc__C=0.1 \n",
            "[CV]  scaler=StandardScaler(copy=True, with_mean=True, with_std=True), svc=SVC(C=1.0, break_ties=False, cache_size=200, class_weight=None, coef0=0.0,\n",
            "    decision_function_shape='ovr', degree=3, gamma='scale', kernel='rbf',\n",
            "    max_iter=-1, probability=False, random_state=None, shrinking=True,\n",
            "    tol=0.001, verbose=False), svc__C=0.1, score=0.933, total=   0.0s\n",
            "[CV] scaler=StandardScaler(copy=True, with_mean=True, with_std=True), svc=SVC(C=1.0, break_ties=False, cache_size=200, class_weight=None, coef0=0.0,\n",
            "    decision_function_shape='ovr', degree=3, gamma='scale', kernel='rbf',\n",
            "    max_iter=-1, probability=False, random_state=None, shrinking=True,\n",
            "    tol=0.001, verbose=False), svc__C=10 \n",
            "[CV]  scaler=StandardScaler(copy=True, with_mean=True, with_std=True), svc=SVC(C=1.0, break_ties=False, cache_size=200, class_weight=None, coef0=0.0,\n",
            "    decision_function_shape='ovr', degree=3, gamma='scale', kernel='rbf',\n",
            "    max_iter=-1, probability=False, random_state=None, shrinking=True,\n",
            "    tol=0.001, verbose=False), svc__C=10, score=0.800, total=   0.0s\n",
            "[CV] scaler=StandardScaler(copy=True, with_mean=True, with_std=True), svc=SVC(C=1.0, break_ties=False, cache_size=200, class_weight=None, coef0=0.0,\n",
            "    decision_function_shape='ovr', degree=3, gamma='scale', kernel='rbf',\n",
            "    max_iter=-1, probability=False, random_state=None, shrinking=True,\n",
            "    tol=0.001, verbose=False), svc__C=10 \n",
            "[CV]  scaler=StandardScaler(copy=True, with_mean=True, with_std=True), svc=SVC(C=1.0, break_ties=False, cache_size=200, class_weight=None, coef0=0.0,\n",
            "    decision_function_shape='ovr', degree=3, gamma='scale', kernel='rbf',\n",
            "    max_iter=-1, probability=False, random_state=None, shrinking=True,\n",
            "    tol=0.001, verbose=False), svc__C=10, score=0.733, total=   0.0s\n",
            "[CV] scaler=StandardScaler(copy=True, with_mean=True, with_std=True), svc=SVC(C=1.0, break_ties=False, cache_size=200, class_weight=None, coef0=0.0,\n",
            "    decision_function_shape='ovr', degree=3, gamma='scale', kernel='rbf',\n",
            "    max_iter=-1, probability=False, random_state=None, shrinking=True,\n",
            "    tol=0.001, verbose=False), svc__C=10 \n",
            "[CV]  scaler=StandardScaler(copy=True, with_mean=True, with_std=True), svc=SVC(C=1.0, break_ties=False, cache_size=200, class_weight=None, coef0=0.0,\n",
            "    decision_function_shape='ovr', degree=3, gamma='scale', kernel='rbf',\n",
            "    max_iter=-1, probability=False, random_state=None, shrinking=True,\n",
            "    tol=0.001, verbose=False), svc__C=10, score=0.867, total=   0.0s\n",
            "[CV] scaler=StandardScaler(copy=True, with_mean=True, with_std=True), svc=SVC(C=1.0, break_ties=False, cache_size=200, class_weight=None, coef0=0.0,\n",
            "    decision_function_shape='ovr', degree=3, gamma='scale', kernel='rbf',\n",
            "    max_iter=-1, probability=False, random_state=None, shrinking=True,\n",
            "    tol=0.001, verbose=False), svc__C=10 \n",
            "[CV]  scaler=StandardScaler(copy=True, with_mean=True, with_std=True), svc=SVC(C=1.0, break_ties=False, cache_size=200, class_weight=None, coef0=0.0,\n",
            "    decision_function_shape='ovr', degree=3, gamma='scale', kernel='rbf',\n",
            "    max_iter=-1, probability=False, random_state=None, shrinking=True,\n",
            "    tol=0.001, verbose=False), svc__C=10, score=0.800, total=   0.0s\n",
            "[CV] scaler=StandardScaler(copy=True, with_mean=True, with_std=True), svc=SVC(C=1.0, break_ties=False, cache_size=200, class_weight=None, coef0=0.0,\n",
            "    decision_function_shape='ovr', degree=3, gamma='scale', kernel='rbf',\n",
            "    max_iter=-1, probability=False, random_state=None, shrinking=True,\n",
            "    tol=0.001, verbose=False), svc__C=10 \n",
            "[CV]  scaler=StandardScaler(copy=True, with_mean=True, with_std=True), svc=SVC(C=1.0, break_ties=False, cache_size=200, class_weight=None, coef0=0.0,\n",
            "    decision_function_shape='ovr', degree=3, gamma='scale', kernel='rbf',\n",
            "    max_iter=-1, probability=False, random_state=None, shrinking=True,\n",
            "    tol=0.001, verbose=False), svc__C=10, score=0.867, total=   0.0s\n",
            "[CV] scaler=StandardScaler(copy=True, with_mean=True, with_std=True), svc=SVC(C=1.0, break_ties=False, cache_size=200, class_weight=None, coef0=0.0,\n",
            "    decision_function_shape='ovr', degree=3, gamma='scale', kernel='rbf',\n",
            "    max_iter=-1, probability=False, random_state=None, shrinking=True,\n",
            "    tol=0.001, verbose=False), svc__C=100 \n",
            "[CV]  scaler=StandardScaler(copy=True, with_mean=True, with_std=True), svc=SVC(C=1.0, break_ties=False, cache_size=200, class_weight=None, coef0=0.0,\n",
            "    decision_function_shape='ovr', degree=3, gamma='scale', kernel='rbf',\n",
            "    max_iter=-1, probability=False, random_state=None, shrinking=True,\n",
            "    tol=0.001, verbose=False), svc__C=100, score=0.800, total=   0.0s\n",
            "[CV] scaler=StandardScaler(copy=True, with_mean=True, with_std=True), svc=SVC(C=1.0, break_ties=False, cache_size=200, class_weight=None, coef0=0.0,\n",
            "    decision_function_shape='ovr', degree=3, gamma='scale', kernel='rbf',\n",
            "    max_iter=-1, probability=False, random_state=None, shrinking=True,\n",
            "    tol=0.001, verbose=False), svc__C=100 \n",
            "[CV]  scaler=StandardScaler(copy=True, with_mean=True, with_std=True), svc=SVC(C=1.0, break_ties=False, cache_size=200, class_weight=None, coef0=0.0,\n",
            "    decision_function_shape='ovr', degree=3, gamma='scale', kernel='rbf',\n",
            "    max_iter=-1, probability=False, random_state=None, shrinking=True,\n",
            "    tol=0.001, verbose=False), svc__C=100, score=0.733, total=   0.0s\n",
            "[CV] scaler=StandardScaler(copy=True, with_mean=True, with_std=True), svc=SVC(C=1.0, break_ties=False, cache_size=200, class_weight=None, coef0=0.0,\n",
            "    decision_function_shape='ovr', degree=3, gamma='scale', kernel='rbf',\n",
            "    max_iter=-1, probability=False, random_state=None, shrinking=True,\n",
            "    tol=0.001, verbose=False), svc__C=100 \n",
            "[CV]  scaler=StandardScaler(copy=True, with_mean=True, with_std=True), svc=SVC(C=1.0, break_ties=False, cache_size=200, class_weight=None, coef0=0.0,\n",
            "    decision_function_shape='ovr', degree=3, gamma='scale', kernel='rbf',\n",
            "    max_iter=-1, probability=False, random_state=None, shrinking=True,\n",
            "    tol=0.001, verbose=False), svc__C=100, score=0.867, total=   0.0s\n",
            "[CV] scaler=StandardScaler(copy=True, with_mean=True, with_std=True), svc=SVC(C=1.0, break_ties=False, cache_size=200, class_weight=None, coef0=0.0,\n",
            "    decision_function_shape='ovr', degree=3, gamma='scale', kernel='rbf',\n",
            "    max_iter=-1, probability=False, random_state=None, shrinking=True,\n",
            "    tol=0.001, verbose=False), svc__C=100 \n",
            "[CV]  scaler=StandardScaler(copy=True, with_mean=True, with_std=True), svc=SVC(C=1.0, break_ties=False, cache_size=200, class_weight=None, coef0=0.0,\n",
            "    decision_function_shape='ovr', degree=3, gamma='scale', kernel='rbf',\n",
            "    max_iter=-1, probability=False, random_state=None, shrinking=True,\n",
            "    tol=0.001, verbose=False), svc__C=100, score=0.800, total=   0.0s\n",
            "[CV] scaler=StandardScaler(copy=True, with_mean=True, with_std=True), svc=SVC(C=1.0, break_ties=False, cache_size=200, class_weight=None, coef0=0.0,\n",
            "    decision_function_shape='ovr', degree=3, gamma='scale', kernel='rbf',\n",
            "    max_iter=-1, probability=False, random_state=None, shrinking=True,\n",
            "    tol=0.001, verbose=False), svc__C=100 \n",
            "[CV]  scaler=StandardScaler(copy=True, with_mean=True, with_std=True), svc=SVC(C=1.0, break_ties=False, cache_size=200, class_weight=None, coef0=0.0,\n",
            "    decision_function_shape='ovr', degree=3, gamma='scale', kernel='rbf',\n",
            "    max_iter=-1, probability=False, random_state=None, shrinking=True,\n",
            "    tol=0.001, verbose=False), svc__C=100, score=0.867, total=   0.0s\n",
            "[CV] scaler=StandardScaler(copy=True, with_mean=True, with_std=True), svc=LogisticRegression(C=1.0, class_weight=None, dual=False, fit_intercept=True,\n",
            "                   intercept_scaling=1, l1_ratio=None, max_iter=100,\n",
            "                   multi_class='auto', n_jobs=None, penalty='l2',\n",
            "                   random_state=None, solver='lbfgs', tol=0.0001, verbose=0,\n",
            "                   warm_start=False), svc__C=0.1 \n",
            "[CV]  scaler=StandardScaler(copy=True, with_mean=True, with_std=True), svc=LogisticRegression(C=1.0, class_weight=None, dual=False, fit_intercept=True,\n",
            "                   intercept_scaling=1, l1_ratio=None, max_iter=100,\n",
            "                   multi_class='auto', n_jobs=None, penalty='l2',\n",
            "                   random_state=None, solver='lbfgs', tol=0.0001, verbose=0,\n",
            "                   warm_start=False), svc__C=0.1, score=0.733, total=   0.0s\n",
            "[CV] scaler=StandardScaler(copy=True, with_mean=True, with_std=True), svc=LogisticRegression(C=1.0, class_weight=None, dual=False, fit_intercept=True,\n",
            "                   intercept_scaling=1, l1_ratio=None, max_iter=100,\n",
            "                   multi_class='auto', n_jobs=None, penalty='l2',\n",
            "                   random_state=None, solver='lbfgs', tol=0.0001, verbose=0,\n",
            "                   warm_start=False), svc__C=0.1 \n",
            "[CV]  scaler=StandardScaler(copy=True, with_mean=True, with_std=True), svc=LogisticRegression(C=1.0, class_weight=None, dual=False, fit_intercept=True,\n",
            "                   intercept_scaling=1, l1_ratio=None, max_iter=100,\n",
            "                   multi_class='auto', n_jobs=None, penalty='l2',\n",
            "                   random_state=None, solver='lbfgs', tol=0.0001, verbose=0,\n",
            "                   warm_start=False), svc__C=0.1, score=0.667, total=   0.0s\n",
            "[CV] scaler=StandardScaler(copy=True, with_mean=True, with_std=True), svc=LogisticRegression(C=1.0, class_weight=None, dual=False, fit_intercept=True,\n",
            "                   intercept_scaling=1, l1_ratio=None, max_iter=100,\n",
            "                   multi_class='auto', n_jobs=None, penalty='l2',\n",
            "                   random_state=None, solver='lbfgs', tol=0.0001, verbose=0,\n",
            "                   warm_start=False), svc__C=0.1 \n",
            "[CV]  scaler=StandardScaler(copy=True, with_mean=True, with_std=True), svc=LogisticRegression(C=1.0, class_weight=None, dual=False, fit_intercept=True,\n",
            "                   intercept_scaling=1, l1_ratio=None, max_iter=100,\n",
            "                   multi_class='auto', n_jobs=None, penalty='l2',\n",
            "                   random_state=None, solver='lbfgs', tol=0.0001, verbose=0,\n",
            "                   warm_start=False), svc__C=0.1, score=0.867, total=   0.0s\n",
            "[CV] scaler=StandardScaler(copy=True, with_mean=True, with_std=True), svc=LogisticRegression(C=1.0, class_weight=None, dual=False, fit_intercept=True,\n",
            "                   intercept_scaling=1, l1_ratio=None, max_iter=100,\n",
            "                   multi_class='auto', n_jobs=None, penalty='l2',\n",
            "                   random_state=None, solver='lbfgs', tol=0.0001, verbose=0,\n",
            "                   warm_start=False), svc__C=0.1 \n",
            "[CV]  scaler=StandardScaler(copy=True, with_mean=True, with_std=True), svc=LogisticRegression(C=1.0, class_weight=None, dual=False, fit_intercept=True,\n",
            "                   intercept_scaling=1, l1_ratio=None, max_iter=100,\n",
            "                   multi_class='auto', n_jobs=None, penalty='l2',\n",
            "                   random_state=None, solver='lbfgs', tol=0.0001, verbose=0,\n",
            "                   warm_start=False), svc__C=0.1, score=0.800, total=   0.0s\n",
            "[CV] scaler=StandardScaler(copy=True, with_mean=True, with_std=True), svc=LogisticRegression(C=1.0, class_weight=None, dual=False, fit_intercept=True,\n",
            "                   intercept_scaling=1, l1_ratio=None, max_iter=100,\n",
            "                   multi_class='auto', n_jobs=None, penalty='l2',\n",
            "                   random_state=None, solver='lbfgs', tol=0.0001, verbose=0,\n",
            "                   warm_start=False), svc__C=0.1 \n",
            "[CV]  scaler=StandardScaler(copy=True, with_mean=True, with_std=True), svc=LogisticRegression(C=1.0, class_weight=None, dual=False, fit_intercept=True,\n",
            "                   intercept_scaling=1, l1_ratio=None, max_iter=100,\n",
            "                   multi_class='auto', n_jobs=None, penalty='l2',\n",
            "                   random_state=None, solver='lbfgs', tol=0.0001, verbose=0,\n",
            "                   warm_start=False), svc__C=0.1, score=0.733, total=   0.0s\n",
            "[CV] scaler=StandardScaler(copy=True, with_mean=True, with_std=True), svc=LogisticRegression(C=1.0, class_weight=None, dual=False, fit_intercept=True,\n",
            "                   intercept_scaling=1, l1_ratio=None, max_iter=100,\n",
            "                   multi_class='auto', n_jobs=None, penalty='l2',\n",
            "                   random_state=None, solver='lbfgs', tol=0.0001, verbose=0,\n",
            "                   warm_start=False), svc__C=10 \n",
            "[CV]  scaler=StandardScaler(copy=True, with_mean=True, with_std=True), svc=LogisticRegression(C=1.0, class_weight=None, dual=False, fit_intercept=True,\n",
            "                   intercept_scaling=1, l1_ratio=None, max_iter=100,\n",
            "                   multi_class='auto', n_jobs=None, penalty='l2',\n",
            "                   random_state=None, solver='lbfgs', tol=0.0001, verbose=0,\n",
            "                   warm_start=False), svc__C=10, score=0.800, total=   0.0s\n",
            "[CV] scaler=StandardScaler(copy=True, with_mean=True, with_std=True), svc=LogisticRegression(C=1.0, class_weight=None, dual=False, fit_intercept=True,\n",
            "                   intercept_scaling=1, l1_ratio=None, max_iter=100,\n",
            "                   multi_class='auto', n_jobs=None, penalty='l2',\n",
            "                   random_state=None, solver='lbfgs', tol=0.0001, verbose=0,\n",
            "                   warm_start=False), svc__C=10 \n",
            "[CV]  scaler=StandardScaler(copy=True, with_mean=True, with_std=True), svc=LogisticRegression(C=1.0, class_weight=None, dual=False, fit_intercept=True,\n",
            "                   intercept_scaling=1, l1_ratio=None, max_iter=100,\n",
            "                   multi_class='auto', n_jobs=None, penalty='l2',\n",
            "                   random_state=None, solver='lbfgs', tol=0.0001, verbose=0,\n",
            "                   warm_start=False), svc__C=10, score=0.600, total=   0.0s\n",
            "[CV] scaler=StandardScaler(copy=True, with_mean=True, with_std=True), svc=LogisticRegression(C=1.0, class_weight=None, dual=False, fit_intercept=True,\n",
            "                   intercept_scaling=1, l1_ratio=None, max_iter=100,\n",
            "                   multi_class='auto', n_jobs=None, penalty='l2',\n",
            "                   random_state=None, solver='lbfgs', tol=0.0001, verbose=0,\n",
            "                   warm_start=False), svc__C=10 \n",
            "[CV]  scaler=StandardScaler(copy=True, with_mean=True, with_std=True), svc=LogisticRegression(C=1.0, class_weight=None, dual=False, fit_intercept=True,\n",
            "                   intercept_scaling=1, l1_ratio=None, max_iter=100,\n",
            "                   multi_class='auto', n_jobs=None, penalty='l2',\n",
            "                   random_state=None, solver='lbfgs', tol=0.0001, verbose=0,\n",
            "                   warm_start=False), svc__C=10, score=0.933, total=   0.0s\n",
            "[CV] scaler=StandardScaler(copy=True, with_mean=True, with_std=True), svc=LogisticRegression(C=1.0, class_weight=None, dual=False, fit_intercept=True,\n",
            "                   intercept_scaling=1, l1_ratio=None, max_iter=100,\n",
            "                   multi_class='auto', n_jobs=None, penalty='l2',\n",
            "                   random_state=None, solver='lbfgs', tol=0.0001, verbose=0,\n",
            "                   warm_start=False), svc__C=10 \n",
            "[CV]  scaler=StandardScaler(copy=True, with_mean=True, with_std=True), svc=LogisticRegression(C=1.0, class_weight=None, dual=False, fit_intercept=True,\n",
            "                   intercept_scaling=1, l1_ratio=None, max_iter=100,\n",
            "                   multi_class='auto', n_jobs=None, penalty='l2',\n",
            "                   random_state=None, solver='lbfgs', tol=0.0001, verbose=0,\n",
            "                   warm_start=False), svc__C=10, score=0.867, total=   0.0s\n",
            "[CV] scaler=StandardScaler(copy=True, with_mean=True, with_std=True), svc=LogisticRegression(C=1.0, class_weight=None, dual=False, fit_intercept=True,\n",
            "                   intercept_scaling=1, l1_ratio=None, max_iter=100,\n",
            "                   multi_class='auto', n_jobs=None, penalty='l2',\n",
            "                   random_state=None, solver='lbfgs', tol=0.0001, verbose=0,\n",
            "                   warm_start=False), svc__C=10 \n",
            "[CV]  scaler=StandardScaler(copy=True, with_mean=True, with_std=True), svc=LogisticRegression(C=1.0, class_weight=None, dual=False, fit_intercept=True,\n",
            "                   intercept_scaling=1, l1_ratio=None, max_iter=100,\n",
            "                   multi_class='auto', n_jobs=None, penalty='l2',\n",
            "                   random_state=None, solver='lbfgs', tol=0.0001, verbose=0,\n",
            "                   warm_start=False), svc__C=10, score=0.800, total=   0.0s\n",
            "[CV] scaler=StandardScaler(copy=True, with_mean=True, with_std=True), svc=LogisticRegression(C=1.0, class_weight=None, dual=False, fit_intercept=True,\n",
            "                   intercept_scaling=1, l1_ratio=None, max_iter=100,\n",
            "                   multi_class='auto', n_jobs=None, penalty='l2',\n",
            "                   random_state=None, solver='lbfgs', tol=0.0001, verbose=0,\n",
            "                   warm_start=False), svc__C=100 \n",
            "[CV]  scaler=StandardScaler(copy=True, with_mean=True, with_std=True), svc=LogisticRegression(C=1.0, class_weight=None, dual=False, fit_intercept=True,\n",
            "                   intercept_scaling=1, l1_ratio=None, max_iter=100,\n",
            "                   multi_class='auto', n_jobs=None, penalty='l2',\n",
            "                   random_state=None, solver='lbfgs', tol=0.0001, verbose=0,\n",
            "                   warm_start=False), svc__C=100, score=0.800, total=   0.0s\n",
            "[CV] scaler=StandardScaler(copy=True, with_mean=True, with_std=True), svc=LogisticRegression(C=1.0, class_weight=None, dual=False, fit_intercept=True,\n",
            "                   intercept_scaling=1, l1_ratio=None, max_iter=100,\n",
            "                   multi_class='auto', n_jobs=None, penalty='l2',\n",
            "                   random_state=None, solver='lbfgs', tol=0.0001, verbose=0,\n",
            "                   warm_start=False), svc__C=100 \n",
            "[CV]  scaler=StandardScaler(copy=True, with_mean=True, with_std=True), svc=LogisticRegression(C=1.0, class_weight=None, dual=False, fit_intercept=True,\n",
            "                   intercept_scaling=1, l1_ratio=None, max_iter=100,\n",
            "                   multi_class='auto', n_jobs=None, penalty='l2',\n",
            "                   random_state=None, solver='lbfgs', tol=0.0001, verbose=0,\n",
            "                   warm_start=False), svc__C=100, score=0.600, total=   0.0s\n",
            "[CV] scaler=StandardScaler(copy=True, with_mean=True, with_std=True), svc=LogisticRegression(C=1.0, class_weight=None, dual=False, fit_intercept=True,\n",
            "                   intercept_scaling=1, l1_ratio=None, max_iter=100,\n",
            "                   multi_class='auto', n_jobs=None, penalty='l2',\n",
            "                   random_state=None, solver='lbfgs', tol=0.0001, verbose=0,\n",
            "                   warm_start=False), svc__C=100 \n",
            "[CV]  scaler=StandardScaler(copy=True, with_mean=True, with_std=True), svc=LogisticRegression(C=1.0, class_weight=None, dual=False, fit_intercept=True,\n",
            "                   intercept_scaling=1, l1_ratio=None, max_iter=100,\n",
            "                   multi_class='auto', n_jobs=None, penalty='l2',\n",
            "                   random_state=None, solver='lbfgs', tol=0.0001, verbose=0,\n",
            "                   warm_start=False), svc__C=100, score=0.867, total=   0.0s\n",
            "[CV] scaler=StandardScaler(copy=True, with_mean=True, with_std=True), svc=LogisticRegression(C=1.0, class_weight=None, dual=False, fit_intercept=True,\n",
            "                   intercept_scaling=1, l1_ratio=None, max_iter=100,\n",
            "                   multi_class='auto', n_jobs=None, penalty='l2',\n",
            "                   random_state=None, solver='lbfgs', tol=0.0001, verbose=0,\n",
            "                   warm_start=False), svc__C=100 \n",
            "[CV]  scaler=StandardScaler(copy=True, with_mean=True, with_std=True), svc=LogisticRegression(C=1.0, class_weight=None, dual=False, fit_intercept=True,\n",
            "                   intercept_scaling=1, l1_ratio=None, max_iter=100,\n",
            "                   multi_class='auto', n_jobs=None, penalty='l2',\n",
            "                   random_state=None, solver='lbfgs', tol=0.0001, verbose=0,\n",
            "                   warm_start=False), svc__C=100, score=0.867, total=   0.0s\n",
            "[CV] scaler=StandardScaler(copy=True, with_mean=True, with_std=True), svc=LogisticRegression(C=1.0, class_weight=None, dual=False, fit_intercept=True,\n",
            "                   intercept_scaling=1, l1_ratio=None, max_iter=100,\n",
            "                   multi_class='auto', n_jobs=None, penalty='l2',\n",
            "                   random_state=None, solver='lbfgs', tol=0.0001, verbose=0,\n",
            "                   warm_start=False), svc__C=100 \n",
            "[CV]  scaler=StandardScaler(copy=True, with_mean=True, with_std=True), svc=LogisticRegression(C=1.0, class_weight=None, dual=False, fit_intercept=True,\n",
            "                   intercept_scaling=1, l1_ratio=None, max_iter=100,\n",
            "                   multi_class='auto', n_jobs=None, penalty='l2',\n",
            "                   random_state=None, solver='lbfgs', tol=0.0001, verbose=0,\n",
            "                   warm_start=False), svc__C=100, score=0.867, total=   0.0s\n",
            "[CV] scaler=StandardScaler(copy=True, with_mean=False, with_std=True), svc=SVC(C=1.0, break_ties=False, cache_size=200, class_weight=None, coef0=0.0,\n",
            "    decision_function_shape='ovr', degree=3, gamma='scale', kernel='rbf',\n",
            "    max_iter=-1, probability=False, random_state=None, shrinking=True,\n",
            "    tol=0.001, verbose=False), svc__C=0.1 \n",
            "[CV]  scaler=StandardScaler(copy=True, with_mean=False, with_std=True), svc=SVC(C=1.0, break_ties=False, cache_size=200, class_weight=None, coef0=0.0,\n",
            "    decision_function_shape='ovr', degree=3, gamma='scale', kernel='rbf',\n",
            "    max_iter=-1, probability=False, random_state=None, shrinking=True,\n",
            "    tol=0.001, verbose=False), svc__C=0.1, score=0.467, total=   0.0s\n",
            "[CV] scaler=StandardScaler(copy=True, with_mean=False, with_std=True), svc=SVC(C=1.0, break_ties=False, cache_size=200, class_weight=None, coef0=0.0,\n",
            "    decision_function_shape='ovr', degree=3, gamma='scale', kernel='rbf',\n",
            "    max_iter=-1, probability=False, random_state=None, shrinking=True,\n",
            "    tol=0.001, verbose=False), svc__C=0.1 \n",
            "[CV]  scaler=StandardScaler(copy=True, with_mean=False, with_std=True), svc=SVC(C=1.0, break_ties=False, cache_size=200, class_weight=None, coef0=0.0,\n",
            "    decision_function_shape='ovr', degree=3, gamma='scale', kernel='rbf',\n",
            "    max_iter=-1, probability=False, random_state=None, shrinking=True,\n",
            "    tol=0.001, verbose=False), svc__C=0.1, score=0.467, total=   0.0s\n",
            "[CV] scaler=StandardScaler(copy=True, with_mean=False, with_std=True), svc=SVC(C=1.0, break_ties=False, cache_size=200, class_weight=None, coef0=0.0,\n",
            "    decision_function_shape='ovr', degree=3, gamma='scale', kernel='rbf',\n",
            "    max_iter=-1, probability=False, random_state=None, shrinking=True,\n",
            "    tol=0.001, verbose=False), svc__C=0.1 \n",
            "[CV]  scaler=StandardScaler(copy=True, with_mean=False, with_std=True), svc=SVC(C=1.0, break_ties=False, cache_size=200, class_weight=None, coef0=0.0,\n",
            "    decision_function_shape='ovr', degree=3, gamma='scale', kernel='rbf',\n",
            "    max_iter=-1, probability=False, random_state=None, shrinking=True,\n",
            "    tol=0.001, verbose=False), svc__C=0.1, score=1.000, total=   0.0s\n",
            "[CV] scaler=StandardScaler(copy=True, with_mean=False, with_std=True), svc=SVC(C=1.0, break_ties=False, cache_size=200, class_weight=None, coef0=0.0,\n",
            "    decision_function_shape='ovr', degree=3, gamma='scale', kernel='rbf',\n",
            "    max_iter=-1, probability=False, random_state=None, shrinking=True,\n",
            "    tol=0.001, verbose=False), svc__C=0.1 \n",
            "[CV]  scaler=StandardScaler(copy=True, with_mean=False, with_std=True), svc=SVC(C=1.0, break_ties=False, cache_size=200, class_weight=None, coef0=0.0,\n",
            "    decision_function_shape='ovr', degree=3, gamma='scale', kernel='rbf',\n",
            "    max_iter=-1, probability=False, random_state=None, shrinking=True,\n",
            "    tol=0.001, verbose=False), svc__C=0.1, score=0.600, total=   0.0s\n",
            "[CV] scaler=StandardScaler(copy=True, with_mean=False, with_std=True), svc=SVC(C=1.0, break_ties=False, cache_size=200, class_weight=None, coef0=0.0,\n",
            "    decision_function_shape='ovr', degree=3, gamma='scale', kernel='rbf',\n",
            "    max_iter=-1, probability=False, random_state=None, shrinking=True,\n",
            "    tol=0.001, verbose=False), svc__C=0.1 \n",
            "[CV]  scaler=StandardScaler(copy=True, with_mean=False, with_std=True), svc=SVC(C=1.0, break_ties=False, cache_size=200, class_weight=None, coef0=0.0,\n",
            "    decision_function_shape='ovr', degree=3, gamma='scale', kernel='rbf',\n",
            "    max_iter=-1, probability=False, random_state=None, shrinking=True,\n",
            "    tol=0.001, verbose=False), svc__C=0.1, score=0.933, total=   0.0s\n",
            "[CV] scaler=StandardScaler(copy=True, with_mean=False, with_std=True), svc=SVC(C=1.0, break_ties=False, cache_size=200, class_weight=None, coef0=0.0,\n",
            "    decision_function_shape='ovr', degree=3, gamma='scale', kernel='rbf',\n",
            "    max_iter=-1, probability=False, random_state=None, shrinking=True,\n",
            "    tol=0.001, verbose=False), svc__C=10 \n",
            "[CV]  scaler=StandardScaler(copy=True, with_mean=False, with_std=True), svc=SVC(C=1.0, break_ties=False, cache_size=200, class_weight=None, coef0=0.0,\n",
            "    decision_function_shape='ovr', degree=3, gamma='scale', kernel='rbf',\n",
            "    max_iter=-1, probability=False, random_state=None, shrinking=True,\n",
            "    tol=0.001, verbose=False), svc__C=10, score=0.800, total=   0.0s\n",
            "[CV] scaler=StandardScaler(copy=True, with_mean=False, with_std=True), svc=SVC(C=1.0, break_ties=False, cache_size=200, class_weight=None, coef0=0.0,\n",
            "    decision_function_shape='ovr', degree=3, gamma='scale', kernel='rbf',\n",
            "    max_iter=-1, probability=False, random_state=None, shrinking=True,\n",
            "    tol=0.001, verbose=False), svc__C=10 \n",
            "[CV]  scaler=StandardScaler(copy=True, with_mean=False, with_std=True), svc=SVC(C=1.0, break_ties=False, cache_size=200, class_weight=None, coef0=0.0,\n",
            "    decision_function_shape='ovr', degree=3, gamma='scale', kernel='rbf',\n",
            "    max_iter=-1, probability=False, random_state=None, shrinking=True,\n",
            "    tol=0.001, verbose=False), svc__C=10, score=0.733, total=   0.0s\n",
            "[CV] scaler=StandardScaler(copy=True, with_mean=False, with_std=True), svc=SVC(C=1.0, break_ties=False, cache_size=200, class_weight=None, coef0=0.0,\n",
            "    decision_function_shape='ovr', degree=3, gamma='scale', kernel='rbf',\n",
            "    max_iter=-1, probability=False, random_state=None, shrinking=True,\n",
            "    tol=0.001, verbose=False), svc__C=10 \n",
            "[CV]  scaler=StandardScaler(copy=True, with_mean=False, with_std=True), svc=SVC(C=1.0, break_ties=False, cache_size=200, class_weight=None, coef0=0.0,\n",
            "    decision_function_shape='ovr', degree=3, gamma='scale', kernel='rbf',\n",
            "    max_iter=-1, probability=False, random_state=None, shrinking=True,\n",
            "    tol=0.001, verbose=False), svc__C=10, score=0.867, total=   0.0s\n",
            "[CV] scaler=StandardScaler(copy=True, with_mean=False, with_std=True), svc=SVC(C=1.0, break_ties=False, cache_size=200, class_weight=None, coef0=0.0,\n",
            "    decision_function_shape='ovr', degree=3, gamma='scale', kernel='rbf',\n",
            "    max_iter=-1, probability=False, random_state=None, shrinking=True,\n",
            "    tol=0.001, verbose=False), svc__C=10 \n",
            "[CV]  scaler=StandardScaler(copy=True, with_mean=False, with_std=True), svc=SVC(C=1.0, break_ties=False, cache_size=200, class_weight=None, coef0=0.0,\n",
            "    decision_function_shape='ovr', degree=3, gamma='scale', kernel='rbf',\n",
            "    max_iter=-1, probability=False, random_state=None, shrinking=True,\n",
            "    tol=0.001, verbose=False), svc__C=10, score=0.800, total=   0.0s\n",
            "[CV] scaler=StandardScaler(copy=True, with_mean=False, with_std=True), svc=SVC(C=1.0, break_ties=False, cache_size=200, class_weight=None, coef0=0.0,\n",
            "    decision_function_shape='ovr', degree=3, gamma='scale', kernel='rbf',\n",
            "    max_iter=-1, probability=False, random_state=None, shrinking=True,\n",
            "    tol=0.001, verbose=False), svc__C=10 \n",
            "[CV]  scaler=StandardScaler(copy=True, with_mean=False, with_std=True), svc=SVC(C=1.0, break_ties=False, cache_size=200, class_weight=None, coef0=0.0,\n",
            "    decision_function_shape='ovr', degree=3, gamma='scale', kernel='rbf',\n",
            "    max_iter=-1, probability=False, random_state=None, shrinking=True,\n",
            "    tol=0.001, verbose=False), svc__C=10, score=0.867, total=   0.0s\n",
            "[CV] scaler=StandardScaler(copy=True, with_mean=False, with_std=True), svc=SVC(C=1.0, break_ties=False, cache_size=200, class_weight=None, coef0=0.0,\n",
            "    decision_function_shape='ovr', degree=3, gamma='scale', kernel='rbf',\n",
            "    max_iter=-1, probability=False, random_state=None, shrinking=True,\n",
            "    tol=0.001, verbose=False), svc__C=100 \n",
            "[CV]  scaler=StandardScaler(copy=True, with_mean=False, with_std=True), svc=SVC(C=1.0, break_ties=False, cache_size=200, class_weight=None, coef0=0.0,\n",
            "    decision_function_shape='ovr', degree=3, gamma='scale', kernel='rbf',\n",
            "    max_iter=-1, probability=False, random_state=None, shrinking=True,\n",
            "    tol=0.001, verbose=False), svc__C=100, score=0.800, total=   0.0s\n",
            "[CV] scaler=StandardScaler(copy=True, with_mean=False, with_std=True), svc=SVC(C=1.0, break_ties=False, cache_size=200, class_weight=None, coef0=0.0,\n",
            "    decision_function_shape='ovr', degree=3, gamma='scale', kernel='rbf',\n",
            "    max_iter=-1, probability=False, random_state=None, shrinking=True,\n",
            "    tol=0.001, verbose=False), svc__C=100 \n",
            "[CV]  scaler=StandardScaler(copy=True, with_mean=False, with_std=True), svc=SVC(C=1.0, break_ties=False, cache_size=200, class_weight=None, coef0=0.0,\n",
            "    decision_function_shape='ovr', degree=3, gamma='scale', kernel='rbf',\n",
            "    max_iter=-1, probability=False, random_state=None, shrinking=True,\n",
            "    tol=0.001, verbose=False), svc__C=100, score=0.733, total=   0.0s\n",
            "[CV] scaler=StandardScaler(copy=True, with_mean=False, with_std=True), svc=SVC(C=1.0, break_ties=False, cache_size=200, class_weight=None, coef0=0.0,\n",
            "    decision_function_shape='ovr', degree=3, gamma='scale', kernel='rbf',\n",
            "    max_iter=-1, probability=False, random_state=None, shrinking=True,\n",
            "    tol=0.001, verbose=False), svc__C=100 \n",
            "[CV]  scaler=StandardScaler(copy=True, with_mean=False, with_std=True), svc=SVC(C=1.0, break_ties=False, cache_size=200, class_weight=None, coef0=0.0,\n",
            "    decision_function_shape='ovr', degree=3, gamma='scale', kernel='rbf',\n",
            "    max_iter=-1, probability=False, random_state=None, shrinking=True,\n",
            "    tol=0.001, verbose=False), svc__C=100, score=0.867, total=   0.0s\n",
            "[CV] scaler=StandardScaler(copy=True, with_mean=False, with_std=True), svc=SVC(C=1.0, break_ties=False, cache_size=200, class_weight=None, coef0=0.0,\n",
            "    decision_function_shape='ovr', degree=3, gamma='scale', kernel='rbf',\n",
            "    max_iter=-1, probability=False, random_state=None, shrinking=True,\n",
            "    tol=0.001, verbose=False), svc__C=100 \n",
            "[CV]  scaler=StandardScaler(copy=True, with_mean=False, with_std=True), svc=SVC(C=1.0, break_ties=False, cache_size=200, class_weight=None, coef0=0.0,\n",
            "    decision_function_shape='ovr', degree=3, gamma='scale', kernel='rbf',\n",
            "    max_iter=-1, probability=False, random_state=None, shrinking=True,\n",
            "    tol=0.001, verbose=False), svc__C=100, score=0.800, total=   0.0s\n",
            "[CV] scaler=StandardScaler(copy=True, with_mean=False, with_std=True), svc=SVC(C=1.0, break_ties=False, cache_size=200, class_weight=None, coef0=0.0,\n",
            "    decision_function_shape='ovr', degree=3, gamma='scale', kernel='rbf',\n",
            "    max_iter=-1, probability=False, random_state=None, shrinking=True,\n",
            "    tol=0.001, verbose=False), svc__C=100 \n",
            "[CV]  scaler=StandardScaler(copy=True, with_mean=False, with_std=True), svc=SVC(C=1.0, break_ties=False, cache_size=200, class_weight=None, coef0=0.0,\n",
            "    decision_function_shape='ovr', degree=3, gamma='scale', kernel='rbf',\n",
            "    max_iter=-1, probability=False, random_state=None, shrinking=True,\n",
            "    tol=0.001, verbose=False), svc__C=100, score=0.867, total=   0.0s\n",
            "[CV] scaler=StandardScaler(copy=True, with_mean=False, with_std=True), svc=LogisticRegression(C=1.0, class_weight=None, dual=False, fit_intercept=True,\n",
            "                   intercept_scaling=1, l1_ratio=None, max_iter=100,\n",
            "                   multi_class='auto', n_jobs=None, penalty='l2',\n",
            "                   random_state=None, solver='lbfgs', tol=0.0001, verbose=0,\n",
            "                   warm_start=False), svc__C=0.1 \n",
            "[CV]  scaler=StandardScaler(copy=True, with_mean=False, with_std=True), svc=LogisticRegression(C=1.0, class_weight=None, dual=False, fit_intercept=True,\n",
            "                   intercept_scaling=1, l1_ratio=None, max_iter=100,\n",
            "                   multi_class='auto', n_jobs=None, penalty='l2',\n",
            "                   random_state=None, solver='lbfgs', tol=0.0001, verbose=0,\n",
            "                   warm_start=False), svc__C=0.1, score=0.733, total=   0.0s\n",
            "[CV] scaler=StandardScaler(copy=True, with_mean=False, with_std=True), svc=LogisticRegression(C=1.0, class_weight=None, dual=False, fit_intercept=True,\n",
            "                   intercept_scaling=1, l1_ratio=None, max_iter=100,\n",
            "                   multi_class='auto', n_jobs=None, penalty='l2',\n",
            "                   random_state=None, solver='lbfgs', tol=0.0001, verbose=0,\n",
            "                   warm_start=False), svc__C=0.1 \n",
            "[CV]  scaler=StandardScaler(copy=True, with_mean=False, with_std=True), svc=LogisticRegression(C=1.0, class_weight=None, dual=False, fit_intercept=True,\n",
            "                   intercept_scaling=1, l1_ratio=None, max_iter=100,\n",
            "                   multi_class='auto', n_jobs=None, penalty='l2',\n",
            "                   random_state=None, solver='lbfgs', tol=0.0001, verbose=0,\n",
            "                   warm_start=False), svc__C=0.1, score=0.667, total=   0.0s\n",
            "[CV] scaler=StandardScaler(copy=True, with_mean=False, with_std=True), svc=LogisticRegression(C=1.0, class_weight=None, dual=False, fit_intercept=True,\n",
            "                   intercept_scaling=1, l1_ratio=None, max_iter=100,\n",
            "                   multi_class='auto', n_jobs=None, penalty='l2',\n",
            "                   random_state=None, solver='lbfgs', tol=0.0001, verbose=0,\n",
            "                   warm_start=False), svc__C=0.1 \n",
            "[CV]  scaler=StandardScaler(copy=True, with_mean=False, with_std=True), svc=LogisticRegression(C=1.0, class_weight=None, dual=False, fit_intercept=True,\n",
            "                   intercept_scaling=1, l1_ratio=None, max_iter=100,\n",
            "                   multi_class='auto', n_jobs=None, penalty='l2',\n",
            "                   random_state=None, solver='lbfgs', tol=0.0001, verbose=0,\n",
            "                   warm_start=False), svc__C=0.1, score=0.867, total=   0.0s\n",
            "[CV] scaler=StandardScaler(copy=True, with_mean=False, with_std=True), svc=LogisticRegression(C=1.0, class_weight=None, dual=False, fit_intercept=True,\n",
            "                   intercept_scaling=1, l1_ratio=None, max_iter=100,\n",
            "                   multi_class='auto', n_jobs=None, penalty='l2',\n",
            "                   random_state=None, solver='lbfgs', tol=0.0001, verbose=0,\n",
            "                   warm_start=False), svc__C=0.1 \n",
            "[CV]  scaler=StandardScaler(copy=True, with_mean=False, with_std=True), svc=LogisticRegression(C=1.0, class_weight=None, dual=False, fit_intercept=True,\n",
            "                   intercept_scaling=1, l1_ratio=None, max_iter=100,\n",
            "                   multi_class='auto', n_jobs=None, penalty='l2',\n",
            "                   random_state=None, solver='lbfgs', tol=0.0001, verbose=0,\n",
            "                   warm_start=False), svc__C=0.1, score=0.800, total=   0.0s\n",
            "[CV] scaler=StandardScaler(copy=True, with_mean=False, with_std=True), svc=LogisticRegression(C=1.0, class_weight=None, dual=False, fit_intercept=True,\n",
            "                   intercept_scaling=1, l1_ratio=None, max_iter=100,\n",
            "                   multi_class='auto', n_jobs=None, penalty='l2',\n",
            "                   random_state=None, solver='lbfgs', tol=0.0001, verbose=0,\n",
            "                   warm_start=False), svc__C=0.1 \n",
            "[CV]  scaler=StandardScaler(copy=True, with_mean=False, with_std=True), svc=LogisticRegression(C=1.0, class_weight=None, dual=False, fit_intercept=True,\n",
            "                   intercept_scaling=1, l1_ratio=None, max_iter=100,\n",
            "                   multi_class='auto', n_jobs=None, penalty='l2',\n",
            "                   random_state=None, solver='lbfgs', tol=0.0001, verbose=0,\n",
            "                   warm_start=False), svc__C=0.1, score=0.733, total=   0.0s\n",
            "[CV] scaler=StandardScaler(copy=True, with_mean=False, with_std=True), svc=LogisticRegression(C=1.0, class_weight=None, dual=False, fit_intercept=True,\n",
            "                   intercept_scaling=1, l1_ratio=None, max_iter=100,\n",
            "                   multi_class='auto', n_jobs=None, penalty='l2',\n",
            "                   random_state=None, solver='lbfgs', tol=0.0001, verbose=0,\n",
            "                   warm_start=False), svc__C=10 \n",
            "[CV]  scaler=StandardScaler(copy=True, with_mean=False, with_std=True), svc=LogisticRegression(C=1.0, class_weight=None, dual=False, fit_intercept=True,\n",
            "                   intercept_scaling=1, l1_ratio=None, max_iter=100,\n",
            "                   multi_class='auto', n_jobs=None, penalty='l2',\n",
            "                   random_state=None, solver='lbfgs', tol=0.0001, verbose=0,\n",
            "                   warm_start=False), svc__C=10, score=0.800, total=   0.0s\n",
            "[CV] scaler=StandardScaler(copy=True, with_mean=False, with_std=True), svc=LogisticRegression(C=1.0, class_weight=None, dual=False, fit_intercept=True,\n",
            "                   intercept_scaling=1, l1_ratio=None, max_iter=100,\n",
            "                   multi_class='auto', n_jobs=None, penalty='l2',\n",
            "                   random_state=None, solver='lbfgs', tol=0.0001, verbose=0,\n",
            "                   warm_start=False), svc__C=10 \n",
            "[CV]  scaler=StandardScaler(copy=True, with_mean=False, with_std=True), svc=LogisticRegression(C=1.0, class_weight=None, dual=False, fit_intercept=True,\n",
            "                   intercept_scaling=1, l1_ratio=None, max_iter=100,\n",
            "                   multi_class='auto', n_jobs=None, penalty='l2',\n",
            "                   random_state=None, solver='lbfgs', tol=0.0001, verbose=0,\n",
            "                   warm_start=False), svc__C=10, score=0.600, total=   0.0s\n",
            "[CV] scaler=StandardScaler(copy=True, with_mean=False, with_std=True), svc=LogisticRegression(C=1.0, class_weight=None, dual=False, fit_intercept=True,\n",
            "                   intercept_scaling=1, l1_ratio=None, max_iter=100,\n",
            "                   multi_class='auto', n_jobs=None, penalty='l2',\n",
            "                   random_state=None, solver='lbfgs', tol=0.0001, verbose=0,\n",
            "                   warm_start=False), svc__C=10 \n",
            "[CV]  scaler=StandardScaler(copy=True, with_mean=False, with_std=True), svc=LogisticRegression(C=1.0, class_weight=None, dual=False, fit_intercept=True,\n",
            "                   intercept_scaling=1, l1_ratio=None, max_iter=100,\n",
            "                   multi_class='auto', n_jobs=None, penalty='l2',\n",
            "                   random_state=None, solver='lbfgs', tol=0.0001, verbose=0,\n",
            "                   warm_start=False), svc__C=10, score=0.933, total=   0.0s\n",
            "[CV] scaler=StandardScaler(copy=True, with_mean=False, with_std=True), svc=LogisticRegression(C=1.0, class_weight=None, dual=False, fit_intercept=True,\n",
            "                   intercept_scaling=1, l1_ratio=None, max_iter=100,\n",
            "                   multi_class='auto', n_jobs=None, penalty='l2',\n",
            "                   random_state=None, solver='lbfgs', tol=0.0001, verbose=0,\n",
            "                   warm_start=False), svc__C=10 \n",
            "[CV]  scaler=StandardScaler(copy=True, with_mean=False, with_std=True), svc=LogisticRegression(C=1.0, class_weight=None, dual=False, fit_intercept=True,\n",
            "                   intercept_scaling=1, l1_ratio=None, max_iter=100,\n",
            "                   multi_class='auto', n_jobs=None, penalty='l2',\n",
            "                   random_state=None, solver='lbfgs', tol=0.0001, verbose=0,\n",
            "                   warm_start=False), svc__C=10, score=0.867, total=   0.0s\n",
            "[CV] scaler=StandardScaler(copy=True, with_mean=False, with_std=True), svc=LogisticRegression(C=1.0, class_weight=None, dual=False, fit_intercept=True,\n",
            "                   intercept_scaling=1, l1_ratio=None, max_iter=100,\n",
            "                   multi_class='auto', n_jobs=None, penalty='l2',\n",
            "                   random_state=None, solver='lbfgs', tol=0.0001, verbose=0,\n",
            "                   warm_start=False), svc__C=10 \n",
            "[CV]  scaler=StandardScaler(copy=True, with_mean=False, with_std=True), svc=LogisticRegression(C=1.0, class_weight=None, dual=False, fit_intercept=True,\n",
            "                   intercept_scaling=1, l1_ratio=None, max_iter=100,\n",
            "                   multi_class='auto', n_jobs=None, penalty='l2',\n",
            "                   random_state=None, solver='lbfgs', tol=0.0001, verbose=0,\n",
            "                   warm_start=False), svc__C=10, score=0.800, total=   0.0s\n",
            "[CV] scaler=StandardScaler(copy=True, with_mean=False, with_std=True), svc=LogisticRegression(C=1.0, class_weight=None, dual=False, fit_intercept=True,\n",
            "                   intercept_scaling=1, l1_ratio=None, max_iter=100,\n",
            "                   multi_class='auto', n_jobs=None, penalty='l2',\n",
            "                   random_state=None, solver='lbfgs', tol=0.0001, verbose=0,\n",
            "                   warm_start=False), svc__C=100 \n",
            "[CV]  scaler=StandardScaler(copy=True, with_mean=False, with_std=True), svc=LogisticRegression(C=1.0, class_weight=None, dual=False, fit_intercept=True,\n",
            "                   intercept_scaling=1, l1_ratio=None, max_iter=100,\n",
            "                   multi_class='auto', n_jobs=None, penalty='l2',\n",
            "                   random_state=None, solver='lbfgs', tol=0.0001, verbose=0,\n",
            "                   warm_start=False), svc__C=100, score=0.800, total=   0.0s\n",
            "[CV] scaler=StandardScaler(copy=True, with_mean=False, with_std=True), svc=LogisticRegression(C=1.0, class_weight=None, dual=False, fit_intercept=True,\n",
            "                   intercept_scaling=1, l1_ratio=None, max_iter=100,\n",
            "                   multi_class='auto', n_jobs=None, penalty='l2',\n",
            "                   random_state=None, solver='lbfgs', tol=0.0001, verbose=0,\n",
            "                   warm_start=False), svc__C=100 \n",
            "[CV]  scaler=StandardScaler(copy=True, with_mean=False, with_std=True), svc=LogisticRegression(C=1.0, class_weight=None, dual=False, fit_intercept=True,\n",
            "                   intercept_scaling=1, l1_ratio=None, max_iter=100,\n",
            "                   multi_class='auto', n_jobs=None, penalty='l2',\n",
            "                   random_state=None, solver='lbfgs', tol=0.0001, verbose=0,\n",
            "                   warm_start=False), svc__C=100, score=0.600, total=   0.0s\n",
            "[CV] scaler=StandardScaler(copy=True, with_mean=False, with_std=True), svc=LogisticRegression(C=1.0, class_weight=None, dual=False, fit_intercept=True,\n",
            "                   intercept_scaling=1, l1_ratio=None, max_iter=100,\n",
            "                   multi_class='auto', n_jobs=None, penalty='l2',\n",
            "                   random_state=None, solver='lbfgs', tol=0.0001, verbose=0,\n",
            "                   warm_start=False), svc__C=100 \n",
            "[CV]  scaler=StandardScaler(copy=True, with_mean=False, with_std=True), svc=LogisticRegression(C=1.0, class_weight=None, dual=False, fit_intercept=True,\n",
            "                   intercept_scaling=1, l1_ratio=None, max_iter=100,\n",
            "                   multi_class='auto', n_jobs=None, penalty='l2',\n",
            "                   random_state=None, solver='lbfgs', tol=0.0001, verbose=0,\n",
            "                   warm_start=False), svc__C=100, score=0.867, total=   0.0s\n",
            "[CV] scaler=StandardScaler(copy=True, with_mean=False, with_std=True), svc=LogisticRegression(C=1.0, class_weight=None, dual=False, fit_intercept=True,\n",
            "                   intercept_scaling=1, l1_ratio=None, max_iter=100,\n",
            "                   multi_class='auto', n_jobs=None, penalty='l2',\n",
            "                   random_state=None, solver='lbfgs', tol=0.0001, verbose=0,\n",
            "                   warm_start=False), svc__C=100 \n",
            "[CV]  scaler=StandardScaler(copy=True, with_mean=False, with_std=True), svc=LogisticRegression(C=1.0, class_weight=None, dual=False, fit_intercept=True,\n",
            "                   intercept_scaling=1, l1_ratio=None, max_iter=100,\n",
            "                   multi_class='auto', n_jobs=None, penalty='l2',\n",
            "                   random_state=None, solver='lbfgs', tol=0.0001, verbose=0,\n",
            "                   warm_start=False), svc__C=100, score=0.867, total=   0.0s\n",
            "[CV] scaler=StandardScaler(copy=True, with_mean=False, with_std=True), svc=LogisticRegression(C=1.0, class_weight=None, dual=False, fit_intercept=True,\n",
            "                   intercept_scaling=1, l1_ratio=None, max_iter=100,\n",
            "                   multi_class='auto', n_jobs=None, penalty='l2',\n",
            "                   random_state=None, solver='lbfgs', tol=0.0001, verbose=0,\n",
            "                   warm_start=False), svc__C=100 \n",
            "[CV]  scaler=StandardScaler(copy=True, with_mean=False, with_std=True), svc=LogisticRegression(C=1.0, class_weight=None, dual=False, fit_intercept=True,\n",
            "                   intercept_scaling=1, l1_ratio=None, max_iter=100,\n",
            "                   multi_class='auto', n_jobs=None, penalty='l2',\n",
            "                   random_state=None, solver='lbfgs', tol=0.0001, verbose=0,\n",
            "                   warm_start=False), svc__C=100, score=0.867, total=   0.0s\n"
          ],
          "name": "stdout"
        },
        {
          "output_type": "stream",
          "text": [
            "[Parallel(n_jobs=1)]: Done  90 out of  90 | elapsed:    0.8s finished\n"
          ],
          "name": "stderr"
        },
        {
          "output_type": "execute_result",
          "data": {
            "text/plain": [
              "GridSearchCV(cv=None, error_score=nan,\n",
              "             estimator=Pipeline(memory=None,\n",
              "                                steps=[('scaler',\n",
              "                                        StandardScaler(copy=True,\n",
              "                                                       with_mean=True,\n",
              "                                                       with_std=True)),\n",
              "                                       ('svc',\n",
              "                                        SVC(C=10, break_ties=False,\n",
              "                                            cache_size=200, class_weight=None,\n",
              "                                            coef0=0.0,\n",
              "                                            decision_function_shape='ovr',\n",
              "                                            degree=3, gamma='scale',\n",
              "                                            kernel='rbf', max_iter=-1,\n",
              "                                            probability=False,\n",
              "                                            random_state=None, shrinking=True,\n",
              "                                            tol=...\n",
              "                                     shrinking=True, tol=0.001, verbose=False),\n",
              "                                 LogisticRegression(C=0.1, class_weight=None,\n",
              "                                                    dual=False,\n",
              "                                                    fit_intercept=True,\n",
              "                                                    intercept_scaling=1,\n",
              "                                                    l1_ratio=None, max_iter=100,\n",
              "                                                    multi_class='auto',\n",
              "                                                    n_jobs=None, penalty='l2',\n",
              "                                                    random_state=None,\n",
              "                                                    solver='lbfgs', tol=0.0001,\n",
              "                                                    verbose=0,\n",
              "                                                    warm_start=False)],\n",
              "                         'svc__C': [0.1, 10, 100]},\n",
              "             pre_dispatch='2*n_jobs', refit=True, return_train_score=False,\n",
              "             scoring=None, verbose=10)"
            ]
          },
          "metadata": {
            "tags": []
          },
          "execution_count": 14
        }
      ]
    },
    {
      "cell_type": "markdown",
      "metadata": {
        "id": "7T-dbLGDE9a7"
      },
      "source": [
        "### Check it on our example"
      ]
    },
    {
      "cell_type": "markdown",
      "metadata": {
        "id": "ev6E4xPnAuqM"
      },
      "source": [
        "Another simple note: \n",
        "- Before we used the ```SVC``` class with a ```python kernel = 'linear'```\n",
        "- Here we use the from ```python sklearn.svm import LinearSVC ```\n",
        "\n",
        "``` python\n",
        "class sklearn.svm.LinearSVC(penalty='l2', loss='squared_hinge', *,\n",
        "dual=True, tol=0.0001, C=1.0, multi_class='ovr', fit_intercept=True,\n",
        "intercept_scaling=1, class_weight=None, verbose=0, random_state=None,\n",
        "max_iter=1000)\n",
        "\n",
        "```\n",
        "\n",
        "\n",
        "Which are the differences? \n",
        "\n",
        "- ```libsvm``` vs  ``` liblinear``` libraries used. \n",
        "- The fit time scales at least quadratically with the number of samples and may be impractical beyond tens of thousands of samples for ```SVC```. For large datasets consider using ```LinearSVC``` or ```SGDClassifier``` instead, possibly after a Nystroem transformer.  \n",
        "- To have similar results set on the ```LinearSVC``` loss to ```hinge```.\n",
        "- ```LinearSVC``` supports the one-vs-the-rest scheme, in the case of *multiclass* problem.\n",
        "\n",
        "\n",
        "References:\n",
        "- [SVC](https://scikit-learn.org/stable/modules/generated/sklearn.svm.SVC.html)\n",
        "- [LinearSVC](https://scikit-learn.org/stable/modules/generated/sklearn.svm.LinearSVC.html)\n"
      ]
    },
    {
      "cell_type": "code",
      "metadata": {
        "colab": {
          "base_uri": "https://localhost:8080/"
        },
        "id": "1oI5Lzt4QZOS",
        "outputId": "9950ee84-8c83-4eb1-a632-1a2fea4e1dad"
      },
      "source": [
        "import numpy as np\n",
        "from sklearn import datasets\n",
        "from sklearn.pipeline import Pipeline\n",
        "from sklearn.preprocessing import StandardScaler\n",
        "from sklearn.svm import LinearSVC\n",
        "\n",
        "iris = datasets.load_iris()\n",
        "X = iris[\"data\"][:, (2, 3)]  # petal length, petal width\n",
        "y = (iris[\"target\"] == 2).astype(np.float64)  # Iris virginica\n",
        "\n",
        "svm_clf = Pipeline([\n",
        "        (\"scaler\", StandardScaler()),\n",
        "        (\"linear_svc\", LinearSVC(C=1, loss=\"hinge\", random_state=42)),\n",
        "    ])\n",
        "\n",
        "svm_clf.fit(X, y)"
      ],
      "execution_count": 1,
      "outputs": [
        {
          "output_type": "execute_result",
          "data": {
            "text/plain": [
              "Pipeline(memory=None,\n",
              "         steps=[('scaler',\n",
              "                 StandardScaler(copy=True, with_mean=True, with_std=True)),\n",
              "                ('linear_svc',\n",
              "                 LinearSVC(C=1, class_weight=None, dual=True,\n",
              "                           fit_intercept=True, intercept_scaling=1,\n",
              "                           loss='hinge', max_iter=1000, multi_class='ovr',\n",
              "                           penalty='l2', random_state=42, tol=0.0001,\n",
              "                           verbose=0))],\n",
              "         verbose=False)"
            ]
          },
          "metadata": {
            "tags": []
          },
          "execution_count": 1
        }
      ]
    },
    {
      "cell_type": "code",
      "metadata": {
        "colab": {
          "base_uri": "https://localhost:8080/"
        },
        "id": "iioNCS2WQZOT",
        "outputId": "07df1ec4-7fae-4425-ae3d-ff9cf54deb40"
      },
      "source": [
        "svm_clf.predict([[5.5, 1.7]])"
      ],
      "execution_count": 2,
      "outputs": [
        {
          "output_type": "execute_result",
          "data": {
            "text/plain": [
              "array([1.])"
            ]
          },
          "metadata": {
            "tags": []
          },
          "execution_count": 2
        }
      ]
    },
    {
      "cell_type": "markdown",
      "metadata": {
        "id": "YLcxHe7BQZOU"
      },
      "source": [
        "Now let's generate the graph comparing different regularization settings:"
      ]
    },
    {
      "cell_type": "code",
      "metadata": {
        "colab": {
          "base_uri": "https://localhost:8080/"
        },
        "id": "8C_EDhX5QZOV",
        "outputId": "890df6f1-5528-4d0b-df1b-de6e56190bc0"
      },
      "source": [
        "scaler = StandardScaler()\n",
        "svm_clf1 = LinearSVC(C=1, loss=\"hinge\", random_state=42)\n",
        "svm_clf2 = LinearSVC(C=100, loss=\"hinge\", random_state=42)\n",
        "\n",
        "scaled_svm_clf1 = Pipeline([\n",
        "        (\"scaler\", scaler),\n",
        "        (\"linear_svc\", svm_clf1),\n",
        "    ])\n",
        "scaled_svm_clf2 = Pipeline([\n",
        "        (\"scaler\", scaler),\n",
        "        (\"linear_svc\", svm_clf2),\n",
        "    ])\n",
        "\n",
        "scaled_svm_clf1.fit(X, y)\n",
        "scaled_svm_clf2.fit(X, y)"
      ],
      "execution_count": 3,
      "outputs": [
        {
          "output_type": "execute_result",
          "data": {
            "text/plain": [
              "Pipeline(memory=None,\n",
              "         steps=[('scaler',\n",
              "                 StandardScaler(copy=True, with_mean=True, with_std=True)),\n",
              "                ('linear_svc',\n",
              "                 LinearSVC(C=100, class_weight=None, dual=True,\n",
              "                           fit_intercept=True, intercept_scaling=1,\n",
              "                           loss='hinge', max_iter=1000, multi_class='ovr',\n",
              "                           penalty='l2', random_state=42, tol=0.0001,\n",
              "                           verbose=0))],\n",
              "         verbose=False)"
            ]
          },
          "metadata": {
            "tags": []
          },
          "execution_count": 3
        }
      ]
    },
    {
      "cell_type": "code",
      "metadata": {
        "id": "FctJbYunQZOY"
      },
      "source": [
        "# Convert to unscaled parameters\n",
        "b1 = svm_clf1.decision_function([-scaler.mean_ / scaler.scale_])\n",
        "b2 = svm_clf2.decision_function([-scaler.mean_ / scaler.scale_])\n",
        "w1 = svm_clf1.coef_[0] / scaler.scale_\n",
        "w2 = svm_clf2.coef_[0] / scaler.scale_\n",
        "svm_clf1.intercept_ = np.array([b1])\n",
        "svm_clf2.intercept_ = np.array([b2])\n",
        "svm_clf1.coef_ = np.array([w1])\n",
        "svm_clf2.coef_ = np.array([w2])\n",
        "\n",
        "# Find support vectors (LinearSVC does not do this automatically)\n",
        "t = y * 2 - 1\n",
        "support_vectors_idx1 = (t * (X.dot(w1) + b1) < 1).ravel()\n",
        "support_vectors_idx2 = (t * (X.dot(w2) + b2) < 1).ravel()\n",
        "svm_clf1.support_vectors_ = X[support_vectors_idx1]\n",
        "svm_clf2.support_vectors_ = X[support_vectors_idx2]"
      ],
      "execution_count": 4,
      "outputs": []
    },
    {
      "cell_type": "code",
      "metadata": {
        "colab": {
          "base_uri": "https://localhost:8080/",
          "height": 234
        },
        "id": "dewcheuFQZOa",
        "outputId": "aeca627e-fadd-40db-cf0c-beb1e1194bfb"
      },
      "source": [
        "fig, axes = plt.subplots(ncols=2, figsize=(10,2.7), sharey=True)\n",
        "\n",
        "plt.sca(axes[0])\n",
        "plt.plot(X[:, 0][y==1], X[:, 1][y==1], \"g^\", label=\"Iris virginica\")\n",
        "plt.plot(X[:, 0][y==0], X[:, 1][y==0], \"bs\", label=\"Iris versicolor\")\n",
        "plot_svc_decision_boundary(svm_clf1, 4, 5.9)\n",
        "plt.xlabel(\"Petal length\", fontsize=14)\n",
        "plt.ylabel(\"Petal width\", fontsize=14)\n",
        "plt.legend(loc=\"upper left\", fontsize=14)\n",
        "plt.title(\"$C = {}$\".format(svm_clf1.C), fontsize=16)\n",
        "plt.axis([4, 5.9, 0.8, 2.8])\n",
        "\n",
        "plt.sca(axes[1])\n",
        "plt.plot(X[:, 0][y==1], X[:, 1][y==1], \"g^\")\n",
        "plt.plot(X[:, 0][y==0], X[:, 1][y==0], \"bs\")\n",
        "plot_svc_decision_boundary(svm_clf2, 4, 5.99)\n",
        "plt.xlabel(\"Petal length\", fontsize=14)\n",
        "plt.title(\"$C = {}$\".format(svm_clf2.C), fontsize=16)\n",
        "plt.axis([4, 5.9, 0.8, 2.8])\n",
        "\n",
        "save_fig(\"regularization_plot\")"
      ],
      "execution_count": 5,
      "outputs": [
        {
          "output_type": "error",
          "ename": "NameError",
          "evalue": "ignored",
          "traceback": [
            "\u001b[0;31m---------------------------------------------------------------------------\u001b[0m",
            "\u001b[0;31mNameError\u001b[0m                                 Traceback (most recent call last)",
            "\u001b[0;32m<ipython-input-5-c9e5c220b3a7>\u001b[0m in \u001b[0;36m<module>\u001b[0;34m()\u001b[0m\n\u001b[0;32m----> 1\u001b[0;31m \u001b[0mfig\u001b[0m\u001b[0;34m,\u001b[0m \u001b[0maxes\u001b[0m \u001b[0;34m=\u001b[0m \u001b[0mplt\u001b[0m\u001b[0;34m.\u001b[0m\u001b[0msubplots\u001b[0m\u001b[0;34m(\u001b[0m\u001b[0mncols\u001b[0m\u001b[0;34m=\u001b[0m\u001b[0;36m2\u001b[0m\u001b[0;34m,\u001b[0m \u001b[0mfigsize\u001b[0m\u001b[0;34m=\u001b[0m\u001b[0;34m(\u001b[0m\u001b[0;36m10\u001b[0m\u001b[0;34m,\u001b[0m\u001b[0;36m2.7\u001b[0m\u001b[0;34m)\u001b[0m\u001b[0;34m,\u001b[0m \u001b[0msharey\u001b[0m\u001b[0;34m=\u001b[0m\u001b[0;32mTrue\u001b[0m\u001b[0;34m)\u001b[0m\u001b[0;34m\u001b[0m\u001b[0;34m\u001b[0m\u001b[0m\n\u001b[0m\u001b[1;32m      2\u001b[0m \u001b[0;34m\u001b[0m\u001b[0m\n\u001b[1;32m      3\u001b[0m \u001b[0mplt\u001b[0m\u001b[0;34m.\u001b[0m\u001b[0msca\u001b[0m\u001b[0;34m(\u001b[0m\u001b[0maxes\u001b[0m\u001b[0;34m[\u001b[0m\u001b[0;36m0\u001b[0m\u001b[0;34m]\u001b[0m\u001b[0;34m)\u001b[0m\u001b[0;34m\u001b[0m\u001b[0;34m\u001b[0m\u001b[0m\n\u001b[1;32m      4\u001b[0m \u001b[0mplt\u001b[0m\u001b[0;34m.\u001b[0m\u001b[0mplot\u001b[0m\u001b[0;34m(\u001b[0m\u001b[0mX\u001b[0m\u001b[0;34m[\u001b[0m\u001b[0;34m:\u001b[0m\u001b[0;34m,\u001b[0m \u001b[0;36m0\u001b[0m\u001b[0;34m]\u001b[0m\u001b[0;34m[\u001b[0m\u001b[0my\u001b[0m\u001b[0;34m==\u001b[0m\u001b[0;36m1\u001b[0m\u001b[0;34m]\u001b[0m\u001b[0;34m,\u001b[0m \u001b[0mX\u001b[0m\u001b[0;34m[\u001b[0m\u001b[0;34m:\u001b[0m\u001b[0;34m,\u001b[0m \u001b[0;36m1\u001b[0m\u001b[0;34m]\u001b[0m\u001b[0;34m[\u001b[0m\u001b[0my\u001b[0m\u001b[0;34m==\u001b[0m\u001b[0;36m1\u001b[0m\u001b[0;34m]\u001b[0m\u001b[0;34m,\u001b[0m \u001b[0;34m\"g^\"\u001b[0m\u001b[0;34m,\u001b[0m \u001b[0mlabel\u001b[0m\u001b[0;34m=\u001b[0m\u001b[0;34m\"Iris virginica\"\u001b[0m\u001b[0;34m)\u001b[0m\u001b[0;34m\u001b[0m\u001b[0;34m\u001b[0m\u001b[0m\n\u001b[1;32m      5\u001b[0m \u001b[0mplt\u001b[0m\u001b[0;34m.\u001b[0m\u001b[0mplot\u001b[0m\u001b[0;34m(\u001b[0m\u001b[0mX\u001b[0m\u001b[0;34m[\u001b[0m\u001b[0;34m:\u001b[0m\u001b[0;34m,\u001b[0m \u001b[0;36m0\u001b[0m\u001b[0;34m]\u001b[0m\u001b[0;34m[\u001b[0m\u001b[0my\u001b[0m\u001b[0;34m==\u001b[0m\u001b[0;36m0\u001b[0m\u001b[0;34m]\u001b[0m\u001b[0;34m,\u001b[0m \u001b[0mX\u001b[0m\u001b[0;34m[\u001b[0m\u001b[0;34m:\u001b[0m\u001b[0;34m,\u001b[0m \u001b[0;36m1\u001b[0m\u001b[0;34m]\u001b[0m\u001b[0;34m[\u001b[0m\u001b[0my\u001b[0m\u001b[0;34m==\u001b[0m\u001b[0;36m0\u001b[0m\u001b[0;34m]\u001b[0m\u001b[0;34m,\u001b[0m \u001b[0;34m\"bs\"\u001b[0m\u001b[0;34m,\u001b[0m \u001b[0mlabel\u001b[0m\u001b[0;34m=\u001b[0m\u001b[0;34m\"Iris versicolor\"\u001b[0m\u001b[0;34m)\u001b[0m\u001b[0;34m\u001b[0m\u001b[0;34m\u001b[0m\u001b[0m\n",
            "\u001b[0;31mNameError\u001b[0m: name 'plt' is not defined"
          ]
        }
      ]
    },
    {
      "cell_type": "markdown",
      "metadata": {
        "id": "SEd8PanJQZOd"
      },
      "source": [
        "## Non-linear classification\n",
        "\n",
        "- Linear classifiers can work pretty well, but usually datasets are not even close to be linearly separable. \n",
        "- Possible solutions, applicable to *any* ML techniques:\n",
        "  - Add more features, such as polynomial features, and we can get a linear separable dataset; \n",
        "  - Polynomial Kernel ```SVC(kernel=\"poly\", degree=3, coef0=1, C=5)```\n",
        "  - Gaussian Radial Basis Function (```rbf```) ```SVC(kernel=\"rbf\", gamma=5, C=0.001))```\n",
        "\n",
        "**Notice that**\n",
        "- LinearSVC doesn't implement the *kernel trick*"
      ]
    },
    {
      "cell_type": "markdown",
      "metadata": {
        "id": "WZFn4MwIQSyn"
      },
      "source": [
        "### First solution \n",
        "  - Add more features, such as polynomial features, and we can get a linear separable dataset; \n"
      ]
    },
    {
      "cell_type": "code",
      "metadata": {
        "colab": {
          "base_uri": "https://localhost:8080/",
          "height": 254
        },
        "id": "MC6jixsLQZOf",
        "outputId": "878caa3b-509c-44a9-80cf-86378a116968"
      },
      "source": [
        "X1D = np.linspace(-4, 4, 9).reshape(-1, 1)\n",
        "X2D = np.c_[X1D, X1D**2] # The dataset with a new polynomial feature \n",
        "y = np.array([0, 0, 1, 1, 1, 1, 1, 0, 0])\n",
        "\n",
        "plt.figure(figsize=(10, 3))\n",
        "\n",
        "plt.subplot(121)\n",
        "plt.grid(True, which='both')\n",
        "plt.axhline(y=0, color='k')\n",
        "plt.plot(X1D[:, 0][y==0], np.zeros(4), \"bs\")\n",
        "plt.plot(X1D[:, 0][y==1], np.zeros(5), \"g^\")\n",
        "plt.gca().get_yaxis().set_ticks([])\n",
        "plt.xlabel(r\"$x_1$\", fontsize=20)\n",
        "plt.axis([-4.5, 4.5, -0.2, 0.2])\n",
        "\n",
        "plt.subplot(122)\n",
        "plt.grid(True, which='both')\n",
        "plt.axhline(y=0, color='k')\n",
        "plt.axvline(x=0, color='k')\n",
        "plt.plot(X2D[:, 0][y==0], X2D[:, 1][y==0], \"bs\")\n",
        "plt.plot(X2D[:, 0][y==1], X2D[:, 1][y==1], \"g^\")\n",
        "plt.xlabel(r\"$x_1$\", fontsize=20)\n",
        "plt.ylabel(r\"$x_2$  \", fontsize=20, rotation=0)\n",
        "plt.gca().get_yaxis().set_ticks([0, 4, 8, 12, 16])\n",
        "plt.plot([-4.5, 4.5], [6.5, 6.5], \"r--\", linewidth=3)\n",
        "plt.axis([-4.5, 4.5, -1, 17])\n",
        "\n",
        "plt.subplots_adjust(right=1)\n",
        "\n",
        "save_fig(\"higher_dimensions_plot\", tight_layout=False)\n",
        "plt.show()"
      ],
      "execution_count": null,
      "outputs": [
        {
          "output_type": "stream",
          "text": [
            "Saving figure higher_dimensions_plot\n"
          ],
          "name": "stdout"
        },
        {
          "output_type": "display_data",
          "data": {
            "image/png": "[encoded data removed]",
            "text/plain": [
              "<Figure size 720x216 with 2 Axes>"
            ]
          },
          "metadata": {
            "tags": [],
            "needs_background": "light"
          }
        }
      ]
    },
    {
      "cell_type": "code",
      "metadata": {
        "colab": {
          "base_uri": "https://localhost:8080/",
          "height": 296
        },
        "id": "F1AaGtgoQZOj",
        "outputId": "be909b70-7010-400f-9e5f-f341b9d0df47"
      },
      "source": [
        "from sklearn.datasets import make_moons\n",
        "X, y = make_moons(n_samples=100, noise=0.15, random_state=42)\n",
        "\n",
        "def plot_dataset(X, y, axes):\n",
        "    plt.plot(X[:, 0][y==0], X[:, 1][y==0], \"bs\")\n",
        "    plt.plot(X[:, 0][y==1], X[:, 1][y==1], \"g^\")\n",
        "    plt.axis(axes)\n",
        "    plt.grid(True, which='both')\n",
        "    plt.xlabel(r\"$x_1$\", fontsize=20)\n",
        "    plt.ylabel(r\"$x_2$\", fontsize=20, rotation=0)\n",
        "\n",
        "plot_dataset(X, y, [-1.5, 2.5, -1, 1.5])\n",
        "plt.show()"
      ],
      "execution_count": null,
      "outputs": [
        {
          "output_type": "display_data",
          "data": {
            "image/png": "[encoded data removed]",
            "text/plain": [
              "<Figure size 432x288 with 1 Axes>"
            ]
          },
          "metadata": {
            "tags": [],
            "needs_background": "light"
          }
        }
      ]
    },
    {
      "cell_type": "code",
      "metadata": {
        "colab": {
          "base_uri": "https://localhost:8080/"
        },
        "id": "G7K7hXNKQZOn",
        "outputId": "5fc8270d-3f0b-4d5b-f1fb-186aeec82f48"
      },
      "source": [
        "from sklearn.datasets import make_moons\n",
        "from sklearn.pipeline import Pipeline\n",
        "from sklearn.preprocessing import PolynomialFeatures\n",
        "\n",
        "polynomial_svm_clf = Pipeline([\n",
        "        (\"poly_features\", PolynomialFeatures(degree=3)),\n",
        "        (\"scaler\", StandardScaler()),\n",
        "        (\"svm_clf\", LinearSVC(C=10, loss=\"hinge\", random_state=42, max_iter=2000))\n",
        "    ])\n",
        "\n",
        "polynomial_svm_clf.fit(X, y)"
      ],
      "execution_count": null,
      "outputs": [
        {
          "output_type": "execute_result",
          "data": {
            "text/plain": [
              "Pipeline(memory=None,\n",
              "         steps=[('poly_features',\n",
              "                 PolynomialFeatures(degree=3, include_bias=True,\n",
              "                                    interaction_only=False, order='C')),\n",
              "                ('scaler',\n",
              "                 StandardScaler(copy=True, with_mean=True, with_std=True)),\n",
              "                ('svm_clf',\n",
              "                 LinearSVC(C=10, class_weight=None, dual=True,\n",
              "                           fit_intercept=True, intercept_scaling=1,\n",
              "                           loss='hinge', max_iter=2000, multi_class='ovr',\n",
              "                           penalty='l2', random_state=42, tol=0.0001,\n",
              "                           verbose=0))],\n",
              "         verbose=False)"
            ]
          },
          "metadata": {
            "tags": []
          },
          "execution_count": 56
        }
      ]
    },
    {
      "cell_type": "code",
      "metadata": {
        "colab": {
          "base_uri": "https://localhost:8080/",
          "height": 296
        },
        "id": "PPewNcfmQZOp",
        "outputId": "c86ed53c-5f6d-4802-885a-8f4170b39595"
      },
      "source": [
        "def plot_predictions(clf, axes):\n",
        "    x0s = np.linspace(axes[0], axes[1], 100)\n",
        "    x1s = np.linspace(axes[2], axes[3], 100)\n",
        "    x0, x1 = np.meshgrid(x0s, x1s)\n",
        "    X = np.c_[x0.ravel(), x1.ravel()]\n",
        "    y_pred = clf.predict(X).reshape(x0.shape)\n",
        "    y_decision = clf.decision_function(X).reshape(x0.shape)\n",
        "    plt.contourf(x0, x1, y_pred, cmap=plt.cm.brg, alpha=0.2)\n",
        "    plt.contourf(x0, x1, y_decision, cmap=plt.cm.brg, alpha=0.1)\n",
        "\n",
        "plot_predictions(polynomial_svm_clf, [-1.5, 2.5, -1, 1.5])\n",
        "plot_dataset(X, y, [-1.5, 2.5, -1, 1.5])\n",
        "\n",
        "# save_fig(\"moons_polynomial_svc_plot\")\n",
        "plt.show()"
      ],
      "execution_count": null,
      "outputs": [
        {
          "output_type": "display_data",
          "data": {
            "image/png": "[encoded data removed]",
            "text/plain": [
              "<Figure size 432x288 with 1 Axes>"
            ]
          },
          "metadata": {
            "tags": [],
            "needs_background": "light"
          }
        }
      ]
    },
    {
      "cell_type": "code",
      "metadata": {
        "colab": {
          "base_uri": "https://localhost:8080/"
        },
        "id": "V6Vrq6w0QZOs",
        "outputId": "d30f4dc4-a335-49f2-e459-fb4c27c7363b"
      },
      "source": [
        "from sklearn.svm import SVC\n",
        "\n",
        "poly_kernel_svm_clf = Pipeline([\n",
        "        (\"scaler\", StandardScaler()),\n",
        "        (\"svm_clf\", SVC(kernel=\"poly\", degree=3, coef0=1, C=5))\n",
        "    ])\n",
        "poly_kernel_svm_clf.fit(X, y)"
      ],
      "execution_count": null,
      "outputs": [
        {
          "output_type": "execute_result",
          "data": {
            "text/plain": [
              "Pipeline(memory=None,\n",
              "         steps=[('scaler',\n",
              "                 StandardScaler(copy=True, with_mean=True, with_std=True)),\n",
              "                ('svm_clf',\n",
              "                 SVC(C=5, break_ties=False, cache_size=200, class_weight=None,\n",
              "                     coef0=1, decision_function_shape='ovr', degree=3,\n",
              "                     gamma='scale', kernel='poly', max_iter=-1,\n",
              "                     probability=False, random_state=None, shrinking=True,\n",
              "                     tol=0.001, verbose=False))],\n",
              "         verbose=False)"
            ]
          },
          "metadata": {
            "tags": []
          },
          "execution_count": 58
        }
      ]
    },
    {
      "cell_type": "code",
      "metadata": {
        "colab": {
          "base_uri": "https://localhost:8080/"
        },
        "id": "gw1pBlbtQZOu",
        "outputId": "3282e408-e216-4bca-d890-7492ab98d305"
      },
      "source": [
        "poly100_kernel_svm_clf = Pipeline([\n",
        "        (\"scaler\", StandardScaler()),\n",
        "        (\"svm_clf\", SVC(kernel=\"poly\", degree=10, coef0=100, C=5))\n",
        "    ])\n",
        "poly100_kernel_svm_clf.fit(X, y)"
      ],
      "execution_count": null,
      "outputs": [
        {
          "output_type": "execute_result",
          "data": {
            "text/plain": [
              "Pipeline(memory=None,\n",
              "         steps=[('scaler',\n",
              "                 StandardScaler(copy=True, with_mean=True, with_std=True)),\n",
              "                ('svm_clf',\n",
              "                 SVC(C=5, break_ties=False, cache_size=200, class_weight=None,\n",
              "                     coef0=100, decision_function_shape='ovr', degree=10,\n",
              "                     gamma='scale', kernel='poly', max_iter=-1,\n",
              "                     probability=False, random_state=None, shrinking=True,\n",
              "                     tol=0.001, verbose=False))],\n",
              "         verbose=False)"
            ]
          },
          "metadata": {
            "tags": []
          },
          "execution_count": 59
        }
      ]
    },
    {
      "cell_type": "code",
      "metadata": {
        "colab": {
          "base_uri": "https://localhost:8080/",
          "height": 313
        },
        "id": "LTehThhzQZOw",
        "outputId": "1edd5e77-dc55-41b8-8215-21a8112b4ff6"
      },
      "source": [
        "fig, axes = plt.subplots(ncols=2, figsize=(10.5, 4), sharey=True)\n",
        "\n",
        "plt.sca(axes[0])\n",
        "plot_predictions(poly_kernel_svm_clf, [-1.5, 2.45, -1, 1.5])\n",
        "plot_dataset(X, y, [-1.5, 2.4, -1, 1.5])\n",
        "plt.title(r\"$d=3, r=1, C=5$\", fontsize=18)\n",
        "\n",
        "plt.sca(axes[1])\n",
        "plot_predictions(poly100_kernel_svm_clf, [-1.5, 2.45, -1, 1.5])\n",
        "plot_dataset(X, y, [-1.5, 2.4, -1, 1.5])\n",
        "plt.title(r\"$d=10, r=100, C=5$\", fontsize=18)\n",
        "plt.ylabel(\"\")\n",
        "\n",
        "# save_fig(\"moons_kernelized_polynomial_svc_plot\")\n",
        "plt.show()"
      ],
      "execution_count": null,
      "outputs": [
        {
          "output_type": "display_data",
          "data": {
            "image/png": "[encoded data removed]",
            "text/plain": [
              "<Figure size 756x288 with 2 Axes>"
            ]
          },
          "metadata": {
            "tags": [],
            "needs_background": "light"
          }
        }
      ]
    },
    {
      "cell_type": "markdown",
      "metadata": {
        "id": "V8JT3Za0ahfP"
      },
      "source": [
        "## Third solution\n",
        "Another Kernel method: Gaussian ```rbf``` adding features based on a similarity function between an instance and a *landmark*\n",
        "- The function is the Radial Basis Function (*rbf*) (bell-shaped function varying from 0 to 1)\n",
        "\n",
        "- ```gamma``` represents the shape of the bell-curve\n",
        "  - Increasing ```gamma``` makes the curve more narrowed, therefore the 'influence' of each instance is smaller, thus the decision boundaries are more irregular, around individual instances. \n",
        "  -  Decreasing ```gamma```: instances have a larger area of influence, and the decision boundary ends up smoother. \n",
        "\n",
        "  - Overfitting --> reduce it\n",
        "  - Underfitting --> increase it"
      ]
    },
    {
      "cell_type": "code",
      "metadata": {
        "colab": {
          "base_uri": "https://localhost:8080/"
        },
        "id": "uNgCr2xJQZO0",
        "outputId": "e07e5e8f-c39a-468c-ea08-c527b7847018"
      },
      "source": [
        "rbf_kernel_svm_clf = Pipeline([\n",
        "        (\"scaler\", StandardScaler()),\n",
        "        (\"svm_clf\", SVC(kernel=\"rbf\", gamma=5, C=0.001))\n",
        "    ])\n",
        "rbf_kernel_svm_clf.fit(X, y)"
      ],
      "execution_count": null,
      "outputs": [
        {
          "output_type": "execute_result",
          "data": {
            "text/plain": [
              "Pipeline(memory=None,\n",
              "         steps=[('scaler',\n",
              "                 StandardScaler(copy=True, with_mean=True, with_std=True)),\n",
              "                ('svm_clf',\n",
              "                 SVC(C=0.001, break_ties=False, cache_size=200,\n",
              "                     class_weight=None, coef0=0.0,\n",
              "                     decision_function_shape='ovr', degree=3, gamma=5,\n",
              "                     kernel='rbf', max_iter=-1, probability=False,\n",
              "                     random_state=None, shrinking=True, tol=0.001,\n",
              "                     verbose=False))],\n",
              "         verbose=False)"
            ]
          },
          "metadata": {
            "tags": []
          },
          "execution_count": 61
        }
      ]
    },
    {
      "cell_type": "code",
      "metadata": {
        "scrolled": true,
        "colab": {
          "base_uri": "https://localhost:8080/",
          "height": 474
        },
        "id": "wiZLJ1VnQZO1",
        "outputId": "bc46bd69-eccd-4f80-a0bf-0cb96112fa47"
      },
      "source": [
        "#Check the result with different set of parameters and their combination\n",
        "from sklearn.svm import SVC\n",
        "\n",
        "gamma1, gamma2 = 0.1, 5\n",
        "C1, C2 = 0.001, 1000\n",
        "hyperparams = (gamma1, C1), (gamma1, C2), (gamma2, C1), (gamma2, C2)\n",
        "\n",
        "svm_clfs = []\n",
        "for gamma, C in hyperparams:\n",
        "    rbf_kernel_svm_clf = Pipeline([\n",
        "            (\"scaler\", StandardScaler()),\n",
        "            (\"svm_clf\", SVC(kernel=\"rbf\", gamma=gamma, C=C))\n",
        "        ])\n",
        "    rbf_kernel_svm_clf.fit(X, y)\n",
        "    svm_clfs.append(rbf_kernel_svm_clf)\n",
        "\n",
        "fig, axes = plt.subplots(nrows=2, ncols=2, figsize=(10.5, 7), sharex=True, sharey=True)\n",
        "\n",
        "for i, svm_clf in enumerate(svm_clfs):\n",
        "    plt.sca(axes[i // 2, i % 2])\n",
        "    plot_predictions(svm_clf, [-1.5, 2.45, -1, 1.5])\n",
        "    plot_dataset(X, y, [-1.5, 2.45, -1, 1.5])\n",
        "    gamma, C = hyperparams[i]\n",
        "    plt.title(r\"$\\gamma = {}, C = {}$\".format(gamma, C), fontsize=16)\n",
        "    if i in (0, 1):\n",
        "        plt.xlabel(\"\")\n",
        "    if i in (1, 3):\n",
        "        plt.ylabel(\"\")\n",
        "\n",
        "# save_fig(\"moons_rbf_svc_plot\")\n",
        "plt.show()"
      ],
      "execution_count": null,
      "outputs": [
        {
          "output_type": "display_data",
          "data": {
            "image/png": "[encoded data removed]",
            "text/plain": [
              "<Figure size 756x504 with 4 Axes>"
            ]
          },
          "metadata": {
            "tags": [],
            "needs_background": "light"
          }
        }
      ]
    },
    {
      "cell_type": "markdown",
      "metadata": {
        "id": "eHL_vpbwQZO4"
      },
      "source": [
        "## Regression\n",
        "\n",
        "- Instead of trying to fit the largest possible street between two classes, the SVM regression tries to fit as many instances as possible **ON** the street, limiting the margin violations \n",
        "- The *width* of the street is controlled by the hyperparameters *$\\epsilon$*\n",
        "- The ```SVR``` class is the regression equivalent of the ```SVC``` class\n",
        "- The ```LinearSVR``` is the regression equivalent of the ```LinearSVC``` class\n",
        "- The ```LinearSVR``` class scales linearly with the size of the training set\n",
        "- The ```SVR``` class supports kernel trick as the ```SVC``` class \n"
      ]
    },
    {
      "cell_type": "code",
      "metadata": {
        "id": "YmmX1yZyQZO5"
      },
      "source": [
        "#Some simple example\n",
        "np.random.seed(42)\n",
        "m = 50\n",
        "X = 2 * np.random.rand(m, 1)\n",
        "y = (4 + 3 * X + np.random.randn(m, 1)).ravel()"
      ],
      "execution_count": null,
      "outputs": []
    },
    {
      "cell_type": "code",
      "metadata": {
        "colab": {
          "base_uri": "https://localhost:8080/"
        },
        "id": "-tYOy7E8QZO7",
        "outputId": "21ae0641-d7c7-4ae9-9cc4-958ab4b795d8"
      },
      "source": [
        "from sklearn.svm import LinearSVR\n",
        "\n",
        "svm_reg = LinearSVR(epsilon=1.5, random_state=42)\n",
        "svm_reg.fit(X, y)"
      ],
      "execution_count": null,
      "outputs": [
        {
          "output_type": "execute_result",
          "data": {
            "text/plain": [
              "LinearSVR(C=1.0, dual=True, epsilon=1.5, fit_intercept=True,\n",
              "          intercept_scaling=1.0, loss='epsilon_insensitive', max_iter=1000,\n",
              "          random_state=42, tol=0.0001, verbose=0)"
            ]
          },
          "metadata": {
            "tags": []
          },
          "execution_count": 69
        }
      ]
    },
    {
      "cell_type": "code",
      "metadata": {
        "id": "gjkIK9JIQZO9"
      },
      "source": [
        "svm_reg1 = LinearSVR(epsilon=1.5, random_state=42)\n",
        "svm_reg2 = LinearSVR(epsilon=0.5, random_state=42)\n",
        "svm_reg1.fit(X, y)\n",
        "svm_reg2.fit(X, y)\n",
        "\n",
        "def find_support_vectors(svm_reg, X, y):\n",
        "    y_pred = svm_reg.predict(X)\n",
        "    off_margin = (np.abs(y - y_pred) >= svm_reg.epsilon)\n",
        "    return np.argwhere(off_margin)\n",
        "\n",
        "svm_reg1.support_ = find_support_vectors(svm_reg1, X, y)\n",
        "svm_reg2.support_ = find_support_vectors(svm_reg2, X, y)\n",
        "\n",
        "eps_x1 = 1\n",
        "eps_y_pred = svm_reg1.predict([[eps_x1]])"
      ],
      "execution_count": null,
      "outputs": []
    },
    {
      "cell_type": "code",
      "metadata": {
        "colab": {
          "base_uri": "https://localhost:8080/",
          "height": 310
        },
        "id": "hhSvaD6bQZO_",
        "outputId": "78f67d04-e002-47a5-c2b2-5cf627eb3737"
      },
      "source": [
        "def plot_svm_regression(svm_reg, X, y, axes):\n",
        "    x1s = np.linspace(axes[0], axes[1], 100).reshape(100, 1)\n",
        "    y_pred = svm_reg.predict(x1s)\n",
        "    plt.plot(x1s, y_pred, \"k-\", linewidth=2, label=r\"$\\hat{y}$\")\n",
        "    plt.plot(x1s, y_pred + svm_reg.epsilon, \"k--\")\n",
        "    plt.plot(x1s, y_pred - svm_reg.epsilon, \"k--\")\n",
        "    plt.scatter(X[svm_reg.support_], y[svm_reg.support_], s=180, facecolors='#FFAAAA')\n",
        "    plt.plot(X, y, \"bo\")\n",
        "    plt.xlabel(r\"$x_1$\", fontsize=18)\n",
        "    plt.legend(loc=\"upper left\", fontsize=18)\n",
        "    plt.axis(axes)\n",
        "\n",
        "fig, axes = plt.subplots(ncols=2, figsize=(9, 4), sharey=True)\n",
        "plt.sca(axes[0])\n",
        "plot_svm_regression(svm_reg1, X, y, [0, 2, 3, 11])\n",
        "plt.title(r\"$\\epsilon = {}$\".format(svm_reg1.epsilon), fontsize=18)\n",
        "plt.ylabel(r\"$y$\", fontsize=18, rotation=0)\n",
        "#plt.plot([eps_x1, eps_x1], [eps_y_pred, eps_y_pred - svm_reg1.epsilon], \"k-\", linewidth=2)\n",
        "plt.annotate(\n",
        "        '', xy=(eps_x1, eps_y_pred), xycoords='data',\n",
        "        xytext=(eps_x1, eps_y_pred - svm_reg1.epsilon),\n",
        "        textcoords='data', arrowprops={'arrowstyle': '<->', 'linewidth': 1.5}\n",
        "    )\n",
        "plt.text(0.91, 5.6, r\"$\\epsilon$\", fontsize=20)\n",
        "plt.sca(axes[1])\n",
        "plot_svm_regression(svm_reg2, X, y, [0, 2, 3, 11])\n",
        "plt.title(r\"$\\epsilon = {}$\".format(svm_reg2.epsilon), fontsize=18)\n",
        "# save_fig(\"svm_regression_plot\")\n",
        "plt.show()"
      ],
      "execution_count": null,
      "outputs": [
        {
          "output_type": "display_data",
          "data": {
            "image/png": "[encoded data removed]",
            "text/plain": [
              "<Figure size 648x288 with 2 Axes>"
            ]
          },
          "metadata": {
            "tags": [],
            "needs_background": "light"
          }
        }
      ]
    },
    {
      "cell_type": "code",
      "metadata": {
        "id": "zlsPNmB5QZPC"
      },
      "source": [
        "np.random.seed(42)\n",
        "m = 100\n",
        "X = 2 * np.random.rand(m, 1) - 1\n",
        "y = (0.2 + 0.1 * X + 0.5 * X**2 + np.random.randn(m, 1)/10).ravel()"
      ],
      "execution_count": null,
      "outputs": []
    },
    {
      "cell_type": "code",
      "metadata": {
        "colab": {
          "base_uri": "https://localhost:8080/"
        },
        "id": "BjIFT2zjQZPF",
        "outputId": "a39a9a93-cca8-4697-9643-c2f2bd9dd908"
      },
      "source": [
        "from sklearn.svm import SVR\n",
        "\n",
        "svm_poly_reg = SVR(kernel=\"poly\", degree=2, C=100, epsilon=0.1, gamma=\"scale\")\n",
        "svm_poly_reg.fit(X, y)"
      ],
      "execution_count": null,
      "outputs": [
        {
          "output_type": "execute_result",
          "data": {
            "text/plain": [
              "SVR(C=100, cache_size=200, coef0=0.0, degree=2, epsilon=0.1, gamma='scale',\n",
              "    kernel='poly', max_iter=-1, shrinking=True, tol=0.001, verbose=False)"
            ]
          },
          "metadata": {
            "tags": []
          },
          "execution_count": 73
        }
      ]
    },
    {
      "cell_type": "code",
      "metadata": {
        "colab": {
          "base_uri": "https://localhost:8080/"
        },
        "id": "fIMT8AQIQZPI",
        "outputId": "8338079d-8627-4b8a-f43c-f1267506ede2"
      },
      "source": [
        "from sklearn.svm import SVR\n",
        "\n",
        "svm_poly_reg1 = SVR(kernel=\"poly\", degree=2, C=100, epsilon=0.1, gamma=\"scale\")\n",
        "svm_poly_reg2 = SVR(kernel=\"poly\", degree=2, C=0.01, epsilon=0.1, gamma=\"scale\")\n",
        "svm_poly_reg1.fit(X, y)\n",
        "svm_poly_reg2.fit(X, y)"
      ],
      "execution_count": null,
      "outputs": [
        {
          "output_type": "execute_result",
          "data": {
            "text/plain": [
              "SVR(C=0.01, cache_size=200, coef0=0.0, degree=2, epsilon=0.1, gamma='scale',\n",
              "    kernel='poly', max_iter=-1, shrinking=True, tol=0.001, verbose=False)"
            ]
          },
          "metadata": {
            "tags": []
          },
          "execution_count": 74
        }
      ]
    },
    {
      "cell_type": "code",
      "metadata": {
        "colab": {
          "base_uri": "https://localhost:8080/",
          "height": 312
        },
        "id": "kUG34o2nQZPK",
        "outputId": "59cd6b73-b1c1-4320-b974-bed008f2aea3"
      },
      "source": [
        "fig, axes = plt.subplots(ncols=2, figsize=(9, 4), sharey=True)\n",
        "plt.sca(axes[0])\n",
        "plot_svm_regression(svm_poly_reg1, X, y, [-1, 1, 0, 1])\n",
        "plt.title(r\"$degree={}, C={}, \\epsilon = {}$\".format(svm_poly_reg1.degree, svm_poly_reg1.C, svm_poly_reg1.epsilon), fontsize=18)\n",
        "plt.ylabel(r\"$y$\", fontsize=18, rotation=0)\n",
        "plt.sca(axes[1])\n",
        "plot_svm_regression(svm_poly_reg2, X, y, [-1, 1, 0, 1])\n",
        "plt.title(r\"$degree={}, C={}, \\epsilon = {}$\".format(svm_poly_reg2.degree, svm_poly_reg2.C, svm_poly_reg2.epsilon), fontsize=18)\n",
        "# save_fig(\"svm_with_polynomial_kernel_plot\")\n",
        "plt.show()"
      ],
      "execution_count": null,
      "outputs": [
        {
          "output_type": "display_data",
          "data": {
            "image/png": "[encoded data removed]",
            "text/plain": [
              "<Figure size 648x288 with 2 Axes>"
            ]
          },
          "metadata": {
            "tags": [],
            "needs_background": "light"
          }
        }
      ]
    },
    {
      "cell_type": "markdown",
      "metadata": {
        "id": "0W40EeLuQZPq"
      },
      "source": [
        "## Some real examples\n",
        "### Example on MNIST dataset"
      ]
    },
    {
      "cell_type": "markdown",
      "metadata": {
        "id": "GRw8uUUAQZPr"
      },
      "source": [
        "train an SVM classifier on the MNIST dataset. \n",
        "- Since SVM classifiers are binary classifiers, you will need to use one-versus-all to classify all 10 digits. \n",
        "- We may want to tune the hyperparameters using small validation sets to speed up the process."
      ]
    },
    {
      "cell_type": "markdown",
      "metadata": {
        "id": "uMitLz5yQZPs"
      },
      "source": [
        "First, let's load the dataset and split it into a training set and a test set. We could use `train_test_split()` but people usually just take the first 60,000 instances for the training set, and the last 10,000 instances for the test set (this makes it possible to compare your model's performance with others): "
      ]
    },
    {
      "cell_type": "code",
      "metadata": {
        "id": "Z-2ACwjNQZPu"
      },
      "source": [
        "from sklearn.datasets import fetch_openml\n",
        "mnist = fetch_openml('mnist_784', version=1, cache=True, as_frame=False)\n",
        "\n",
        "X = mnist[\"data\"]\n",
        "y = mnist[\"target\"].astype(np.uint8)\n",
        "\n",
        "X_train = X[:60000]\n",
        "y_train = y[:60000]\n",
        "X_test = X[60000:]\n",
        "y_test = y[60000:]"
      ],
      "execution_count": null,
      "outputs": []
    },
    {
      "cell_type": "markdown",
      "metadata": {
        "id": "XK5fp01jQZPw"
      },
      "source": [
        "Many training algorithms are sensitive to the order of the training instances, so it's generally good practice to shuffle them first. However, the dataset is already shuffled, so we do not need to do it."
      ]
    },
    {
      "cell_type": "markdown",
      "metadata": {
        "id": "E3b0pjCoQZPw"
      },
      "source": [
        "Let's start simple, with a linear SVM classifier. It will automatically use the One-vs-All (also called One-vs-the-Rest, OvR) strategy, so there's nothing special we need to do. Easy!\n",
        "\n",
        "**Warning**: this may take a few minutes depending on your hardware."
      ]
    },
    {
      "cell_type": "code",
      "metadata": {
        "colab": {
          "base_uri": "https://localhost:8080/"
        },
        "id": "GHXpGzT7QZPx",
        "outputId": "908443ac-92f7-47e5-eb4a-b2b0f20c032a"
      },
      "source": [
        "lin_clf = LinearSVC(random_state=42)\n",
        "lin_clf.fit(X_train, y_train)"
      ],
      "execution_count": null,
      "outputs": [
        {
          "output_type": "stream",
          "text": [
            "/usr/local/lib/python3.7/dist-packages/sklearn/svm/_base.py:947: ConvergenceWarning: Liblinear failed to converge, increase the number of iterations.\n",
            "  \"the number of iterations.\", ConvergenceWarning)\n"
          ],
          "name": "stderr"
        },
        {
          "output_type": "execute_result",
          "data": {
            "text/plain": [
              "LinearSVC(C=1.0, class_weight=None, dual=True, fit_intercept=True,\n",
              "          intercept_scaling=1, loss='squared_hinge', max_iter=1000,\n",
              "          multi_class='ovr', penalty='l2', random_state=42, tol=0.0001,\n",
              "          verbose=0)"
            ]
          },
          "metadata": {
            "tags": []
          },
          "execution_count": 78
        }
      ]
    },
    {
      "cell_type": "markdown",
      "metadata": {
        "id": "4Q0rY28OQZPx"
      },
      "source": [
        "Let's make predictions on the training set and measure the accuracy (we don't want to measure it on the test set yet, since we have not selected and trained the final model yet):"
      ]
    },
    {
      "cell_type": "code",
      "metadata": {
        "colab": {
          "base_uri": "https://localhost:8080/"
        },
        "id": "nd22pgadQZPy",
        "outputId": "257c69c4-4e74-48bf-de4f-47e6deaa46e5"
      },
      "source": [
        "from sklearn.metrics import accuracy_score\n",
        "\n",
        "y_pred = lin_clf.predict(X_train)\n",
        "accuracy_score(y_train, y_pred)*100"
      ],
      "execution_count": null,
      "outputs": [
        {
          "output_type": "execute_result",
          "data": {
            "text/plain": [
              "87.33"
            ]
          },
          "metadata": {
            "tags": []
          },
          "execution_count": 80
        }
      ]
    },
    {
      "cell_type": "markdown",
      "metadata": {
        "id": "XqSsoLiYQZPz"
      },
      "source": [
        "Okay, 87.33% accuracy on MNIST is pretty bad. This linear model is certainly too simple for MNIST, but perhaps we just needed to scale the data first:"
      ]
    },
    {
      "cell_type": "code",
      "metadata": {
        "id": "YmrCQPOeQZP0"
      },
      "source": [
        "scaler = StandardScaler()\n",
        "X_train_scaled = scaler.fit_transform(X_train.astype(np.float32))\n",
        "X_test_scaled = scaler.transform(X_test.astype(np.float32))"
      ],
      "execution_count": null,
      "outputs": []
    },
    {
      "cell_type": "markdown",
      "metadata": {
        "id": "t7ZO43YJQZP1"
      },
      "source": [
        "**Warning**: this may take a few minutes depending on your hardware."
      ]
    },
    {
      "cell_type": "code",
      "metadata": {
        "colab": {
          "base_uri": "https://localhost:8080/"
        },
        "id": "5XaU4KGaQZP2",
        "outputId": "a9bda83e-fa62-40bb-fbdf-d2c9763d3b09"
      },
      "source": [
        "lin_clf = LinearSVC(random_state=42)\n",
        "lin_clf.fit(X_train_scaled, y_train)"
      ],
      "execution_count": null,
      "outputs": [
        {
          "output_type": "stream",
          "text": [
            "/usr/local/lib/python3.7/dist-packages/sklearn/svm/_base.py:947: ConvergenceWarning: Liblinear failed to converge, increase the number of iterations.\n",
            "  \"the number of iterations.\", ConvergenceWarning)\n"
          ],
          "name": "stderr"
        },
        {
          "output_type": "execute_result",
          "data": {
            "text/plain": [
              "LinearSVC(C=1.0, class_weight=None, dual=True, fit_intercept=True,\n",
              "          intercept_scaling=1, loss='squared_hinge', max_iter=1000,\n",
              "          multi_class='ovr', penalty='l2', random_state=42, tol=0.0001,\n",
              "          verbose=0)"
            ]
          },
          "metadata": {
            "tags": []
          },
          "execution_count": 82
        }
      ]
    },
    {
      "cell_type": "code",
      "metadata": {
        "colab": {
          "base_uri": "https://localhost:8080/"
        },
        "id": "1qJ0h7vSQZP4",
        "outputId": "747e8dd1-cb73-421b-a2a3-9d1a0ec591ce"
      },
      "source": [
        "y_pred = lin_clf.predict(X_train_scaled)\n",
        "accuracy_score(y_train, y_pred)"
      ],
      "execution_count": null,
      "outputs": [
        {
          "output_type": "execute_result",
          "data": {
            "text/plain": [
              "0.9226833333333333"
            ]
          },
          "metadata": {
            "tags": []
          },
          "execution_count": 83
        }
      ]
    },
    {
      "cell_type": "markdown",
      "metadata": {
        "id": "B_pNV665QZP6"
      },
      "source": [
        "That's much better (we cut the error rate by about 25%), but still not great at all for MNIST. If we want to use an SVM, we will have to use a kernel. Let's try an `SVC` with an RBF kernel (the default)."
      ]
    },
    {
      "cell_type": "markdown",
      "metadata": {
        "id": "uTzfKYV8QZP7"
      },
      "source": [
        "**Note**: to be future-proof we set `gamma=\"scale\"` since it will be the default value in Scikit-Learn 0.22."
      ]
    },
    {
      "cell_type": "code",
      "metadata": {
        "colab": {
          "base_uri": "https://localhost:8080/"
        },
        "id": "9jS4Ee6EQZP7",
        "outputId": "72589294-02d2-4f42-c8db-952212ae6f93"
      },
      "source": [
        "svm_clf = SVC(gamma=\"scale\")\n",
        "svm_clf.fit(X_train_scaled[:10000], y_train[:10000])"
      ],
      "execution_count": null,
      "outputs": [
        {
          "output_type": "execute_result",
          "data": {
            "text/plain": [
              "SVC(C=1.0, break_ties=False, cache_size=200, class_weight=None, coef0=0.0,\n",
              "    decision_function_shape='ovr', degree=3, gamma='scale', kernel='rbf',\n",
              "    max_iter=-1, probability=False, random_state=None, shrinking=True,\n",
              "    tol=0.001, verbose=False)"
            ]
          },
          "metadata": {
            "tags": []
          },
          "execution_count": 84
        }
      ]
    },
    {
      "cell_type": "code",
      "metadata": {
        "colab": {
          "base_uri": "https://localhost:8080/"
        },
        "id": "pgkQxu_tQZP9",
        "outputId": "26eef300-8c02-4fa9-bf6b-fe19ef185b08"
      },
      "source": [
        "y_pred = svm_clf.predict(X_train_scaled)\n",
        "accuracy_score(y_train, y_pred)"
      ],
      "execution_count": null,
      "outputs": [
        {
          "output_type": "execute_result",
          "data": {
            "text/plain": [
              "0.9455333333333333"
            ]
          },
          "metadata": {
            "tags": []
          },
          "execution_count": 85
        }
      ]
    },
    {
      "cell_type": "markdown",
      "metadata": {
        "id": "rMeZgPkeQZP-"
      },
      "source": [
        "That's promising, we get better performance even though we trained the model on 6 times less data. Let's tune the hyperparameters by doing a randomized search with cross validation. We will do this on a small dataset just to speed up the process:"
      ]
    },
    {
      "cell_type": "code",
      "metadata": {
        "colab": {
          "base_uri": "https://localhost:8080/"
        },
        "id": "GVIt3YzAQZP_",
        "outputId": "a4937bfb-7698-4594-93d1-37e1d7c3fce7"
      },
      "source": [
        "from sklearn.model_selection import RandomizedSearchCV\n",
        "from scipy.stats import reciprocal, uniform\n",
        "\n",
        "param_distributions = {\"gamma\": reciprocal(0.001, 0.1), \"C\": uniform(1, 10)}\n",
        "rnd_search_cv = RandomizedSearchCV(svm_clf, param_distributions, n_iter=10, verbose=2, cv=3)\n",
        "rnd_search_cv.fit(X_train_scaled[:1000], y_train[:1000])"
      ],
      "execution_count": null,
      "outputs": [
        {
          "output_type": "stream",
          "text": [
            "Fitting 3 folds for each of 10 candidates, totalling 30 fits\n",
            "[CV] C=6.769038846263591, gamma=0.009661295989662234 .................\n"
          ],
          "name": "stdout"
        },
        {
          "output_type": "stream",
          "text": [
            "[Parallel(n_jobs=1)]: Using backend SequentialBackend with 1 concurrent workers.\n"
          ],
          "name": "stderr"
        },
        {
          "output_type": "stream",
          "text": [
            "[CV] .. C=6.769038846263591, gamma=0.009661295989662234, total=   1.3s\n",
            "[CV] C=6.769038846263591, gamma=0.009661295989662234 .................\n"
          ],
          "name": "stdout"
        },
        {
          "output_type": "stream",
          "text": [
            "[Parallel(n_jobs=1)]: Done   1 out of   1 | elapsed:    1.3s remaining:    0.0s\n"
          ],
          "name": "stderr"
        },
        {
          "output_type": "stream",
          "text": [
            "[CV] .. C=6.769038846263591, gamma=0.009661295989662234, total=   1.3s\n",
            "[CV] C=6.769038846263591, gamma=0.009661295989662234 .................\n",
            "[CV] .. C=6.769038846263591, gamma=0.009661295989662234, total=   1.3s\n",
            "[CV] C=2.952429877980445, gamma=0.02785506848253588 ..................\n",
            "[CV] ... C=2.952429877980445, gamma=0.02785506848253588, total=   1.3s\n",
            "[CV] C=2.952429877980445, gamma=0.02785506848253588 ..................\n",
            "[CV] ... C=2.952429877980445, gamma=0.02785506848253588, total=   1.3s\n",
            "[CV] C=2.952429877980445, gamma=0.02785506848253588 ..................\n",
            "[CV] ... C=2.952429877980445, gamma=0.02785506848253588, total=   1.3s\n",
            "[CV] C=3.807723624408558, gamma=0.00111848955516645 ..................\n",
            "[CV] ... C=3.807723624408558, gamma=0.00111848955516645, total=   0.9s\n",
            "[CV] C=3.807723624408558, gamma=0.00111848955516645 ..................\n",
            "[CV] ... C=3.807723624408558, gamma=0.00111848955516645, total=   0.9s\n",
            "[CV] C=3.807723624408558, gamma=0.00111848955516645 ..................\n",
            "[CV] ... C=3.807723624408558, gamma=0.00111848955516645, total=   0.9s\n",
            "[CV] C=7.454722959071678, gamma=0.0022605876925380253 ................\n",
            "[CV] . C=7.454722959071678, gamma=0.0022605876925380253, total=   1.1s\n",
            "[CV] C=7.454722959071678, gamma=0.0022605876925380253 ................\n",
            "[CV] . C=7.454722959071678, gamma=0.0022605876925380253, total=   1.1s\n",
            "[CV] C=7.454722959071678, gamma=0.0022605876925380253 ................\n",
            "[CV] . C=7.454722959071678, gamma=0.0022605876925380253, total=   1.1s\n",
            "[CV] C=10.404585843529143, gamma=0.08088298191148198 .................\n",
            "[CV] .. C=10.404585843529143, gamma=0.08088298191148198, total=   1.3s\n",
            "[CV] C=10.404585843529143, gamma=0.08088298191148198 .................\n",
            "[CV] .. C=10.404585843529143, gamma=0.08088298191148198, total=   1.3s\n",
            "[CV] C=10.404585843529143, gamma=0.08088298191148198 .................\n",
            "[CV] .. C=10.404585843529143, gamma=0.08088298191148198, total=   1.3s\n",
            "[CV] C=10.148643902204485, gamma=0.005499426480345607 ................\n",
            "[CV] . C=10.148643902204485, gamma=0.005499426480345607, total=   1.2s\n",
            "[CV] C=10.148643902204485, gamma=0.005499426480345607 ................\n",
            "[CV] . C=10.148643902204485, gamma=0.005499426480345607, total=   1.2s\n",
            "[CV] C=10.148643902204485, gamma=0.005499426480345607 ................\n",
            "[CV] . C=10.148643902204485, gamma=0.005499426480345607, total=   1.2s\n",
            "[CV] C=1.1545661652886743, gamma=0.07188480933634318 .................\n",
            "[CV] .. C=1.1545661652886743, gamma=0.07188480933634318, total=   1.3s\n",
            "[CV] C=1.1545661652886743, gamma=0.07188480933634318 .................\n",
            "[CV] .. C=1.1545661652886743, gamma=0.07188480933634318, total=   1.3s\n",
            "[CV] C=1.1545661652886743, gamma=0.07188480933634318 .................\n",
            "[CV] .. C=1.1545661652886743, gamma=0.07188480933634318, total=   1.3s\n",
            "[CV] C=5.281841483173143, gamma=0.08576491037046155 ..................\n",
            "[CV] ... C=5.281841483173143, gamma=0.08576491037046155, total=   1.3s\n",
            "[CV] C=5.281841483173143, gamma=0.08576491037046155 ..................\n",
            "[CV] ... C=5.281841483173143, gamma=0.08576491037046155, total=   1.3s\n",
            "[CV] C=5.281841483173143, gamma=0.08576491037046155 ..................\n",
            "[CV] ... C=5.281841483173143, gamma=0.08576491037046155, total=   1.3s\n",
            "[CV] C=10.636199770892528, gamma=0.05081815703555781 .................\n",
            "[CV] .. C=10.636199770892528, gamma=0.05081815703555781, total=   1.3s\n",
            "[CV] C=10.636199770892528, gamma=0.05081815703555781 .................\n",
            "[CV] .. C=10.636199770892528, gamma=0.05081815703555781, total=   1.3s\n",
            "[CV] C=10.636199770892528, gamma=0.05081815703555781 .................\n",
            "[CV] .. C=10.636199770892528, gamma=0.05081815703555781, total=   1.3s\n",
            "[CV] C=3.944488920695857, gamma=0.005891087281171025 .................\n",
            "[CV] .. C=3.944488920695857, gamma=0.005891087281171025, total=   1.3s\n",
            "[CV] C=3.944488920695857, gamma=0.005891087281171025 .................\n",
            "[CV] .. C=3.944488920695857, gamma=0.005891087281171025, total=   1.2s\n",
            "[CV] C=3.944488920695857, gamma=0.005891087281171025 .................\n",
            "[CV] .. C=3.944488920695857, gamma=0.005891087281171025, total=   1.3s\n"
          ],
          "name": "stdout"
        },
        {
          "output_type": "stream",
          "text": [
            "[Parallel(n_jobs=1)]: Done  30 out of  30 | elapsed:   36.9s finished\n"
          ],
          "name": "stderr"
        },
        {
          "output_type": "execute_result",
          "data": {
            "text/plain": [
              "RandomizedSearchCV(cv=3, error_score=nan,\n",
              "                   estimator=SVC(C=1.0, break_ties=False, cache_size=200,\n",
              "                                 class_weight=None, coef0=0.0,\n",
              "                                 decision_function_shape='ovr', degree=3,\n",
              "                                 gamma='scale', kernel='rbf', max_iter=-1,\n",
              "                                 probability=False, random_state=None,\n",
              "                                 shrinking=True, tol=0.001, verbose=False),\n",
              "                   iid='deprecated', n_iter=10, n_jobs=None,\n",
              "                   param_distributions={'C': <scipy.stats._distn_infrastructure.rv_frozen object at 0x7f07a64ee610>,\n",
              "                                        'gamma': <scipy.stats._distn_infrastructure.rv_frozen object at 0x7f07a6966490>},\n",
              "                   pre_dispatch='2*n_jobs', random_state=None, refit=True,\n",
              "                   return_train_score=False, scoring=None, verbose=2)"
            ]
          },
          "metadata": {
            "tags": []
          },
          "execution_count": 86
        }
      ]
    },
    {
      "cell_type": "code",
      "metadata": {
        "id": "RTLOK-PmQZQA"
      },
      "source": [
        "rnd_search_cv.best_estimator_"
      ],
      "execution_count": null,
      "outputs": []
    },
    {
      "cell_type": "code",
      "metadata": {
        "id": "0ClMnIMgQZQB"
      },
      "source": [
        "rnd_search_cv.best_score_"
      ],
      "execution_count": null,
      "outputs": []
    },
    {
      "cell_type": "markdown",
      "metadata": {
        "id": "JM-7mMiUQZQC"
      },
      "source": [
        "This looks pretty low but remember we only trained the model on 1,000 instances. Let's retrain the best estimator on the whole training set:"
      ]
    },
    {
      "cell_type": "markdown",
      "metadata": {
        "id": "PSmO00FMQZQE"
      },
      "source": [
        "**Warning**: the following cell may take hours to run, depending on your hardware."
      ]
    },
    {
      "cell_type": "code",
      "metadata": {
        "id": "Np6sO5w2QZQF"
      },
      "source": [
        "rnd_search_cv.best_estimator_.fit(X_train_scaled, y_train)"
      ],
      "execution_count": null,
      "outputs": []
    },
    {
      "cell_type": "code",
      "metadata": {
        "id": "tnNKaWBbQZQG"
      },
      "source": [
        "y_pred = rnd_search_cv.best_estimator_.predict(X_train_scaled)\n",
        "accuracy_score(y_train, y_pred)"
      ],
      "execution_count": null,
      "outputs": []
    },
    {
      "cell_type": "markdown",
      "metadata": {
        "id": "fd8Bco_RQZQG"
      },
      "source": [
        "Ah, this looks good! Let's select this model. Now we can test it on the test set:"
      ]
    },
    {
      "cell_type": "code",
      "metadata": {
        "id": "PvS59XttQZQH"
      },
      "source": [
        "y_pred = rnd_search_cv.best_estimator_.predict(X_test_scaled)\n",
        "accuracy_score(y_test, y_pred)"
      ],
      "execution_count": null,
      "outputs": []
    },
    {
      "cell_type": "markdown",
      "metadata": {
        "id": "SXg0_yGdQZQH"
      },
      "source": [
        "Not too bad, but apparently the model is overfitting slightly. It's tempting to tweak the hyperparameters a bit more (e.g. decreasing `C` and/or `gamma`), but we would run the risk of overfitting the test set. Other people have found that the hyperparameters `C=5` and `gamma=0.005` yield even better performance (over 98% accuracy). By running the randomized search for longer and on a larger part of the training set, you may be able to find this as well."
      ]
    },
    {
      "cell_type": "markdown",
      "metadata": {
        "id": "KHG7cjCjQZQI"
      },
      "source": [
        "## Regression example\n",
        "train an SVM regressor on the California housing dataset"
      ]
    },
    {
      "cell_type": "markdown",
      "metadata": {
        "id": "ZgPR401NQZQJ"
      },
      "source": [
        "Let's load the dataset using Scikit-Learn's `fetch_california_housing()` function:"
      ]
    },
    {
      "cell_type": "code",
      "metadata": {
        "id": "kQb4F8fMQZQK"
      },
      "source": [
        "from sklearn.datasets import fetch_california_housing\n",
        "\n",
        "housing = fetch_california_housing()\n",
        "X = housing[\"data\"]\n",
        "y = housing[\"target\"]"
      ],
      "execution_count": null,
      "outputs": []
    },
    {
      "cell_type": "markdown",
      "metadata": {
        "id": "gDnddoEdQZQL"
      },
      "source": [
        "Split it into a training set and a test set:"
      ]
    },
    {
      "cell_type": "code",
      "metadata": {
        "id": "of3mbzukQZQL"
      },
      "source": [
        "from sklearn.model_selection import train_test_split\n",
        "\n",
        "X_train, X_test, y_train, y_test = train_test_split(X, y, test_size=0.2, random_state=42)"
      ],
      "execution_count": null,
      "outputs": []
    },
    {
      "cell_type": "markdown",
      "metadata": {
        "id": "IfwNTBRrQZQM"
      },
      "source": [
        "Don't forget to scale the data:"
      ]
    },
    {
      "cell_type": "code",
      "metadata": {
        "id": "jWG_RiQbQZQN"
      },
      "source": [
        "from sklearn.preprocessing import StandardScaler\n",
        "\n",
        "scaler = StandardScaler()\n",
        "X_train_scaled = scaler.fit_transform(X_train)\n",
        "X_test_scaled = scaler.transform(X_test)"
      ],
      "execution_count": null,
      "outputs": []
    },
    {
      "cell_type": "markdown",
      "metadata": {
        "id": "ngnRLyuGQZQO"
      },
      "source": [
        "Let's train a simple `LinearSVR` first:"
      ]
    },
    {
      "cell_type": "code",
      "metadata": {
        "id": "97NvnCIPQZQO"
      },
      "source": [
        "from sklearn.svm import LinearSVR\n",
        "\n",
        "lin_svr = LinearSVR(random_state=42)\n",
        "lin_svr.fit(X_train_scaled, y_train)"
      ],
      "execution_count": null,
      "outputs": []
    },
    {
      "cell_type": "markdown",
      "metadata": {
        "id": "rNvTv2r5QZQP"
      },
      "source": [
        "Let's see how it performs on the training set:"
      ]
    },
    {
      "cell_type": "code",
      "metadata": {
        "id": "PuF-QrgeQZQP"
      },
      "source": [
        "from sklearn.metrics import mean_squared_error\n",
        "\n",
        "y_pred = lin_svr.predict(X_train_scaled)\n",
        "mse = mean_squared_error(y_train, y_pred)\n",
        "mse"
      ],
      "execution_count": null,
      "outputs": []
    },
    {
      "cell_type": "markdown",
      "metadata": {
        "id": "RXDtrXdeQZQQ"
      },
      "source": [
        "Let's look at the RMSE:"
      ]
    },
    {
      "cell_type": "code",
      "metadata": {
        "id": "p9gO3FAoQZQQ"
      },
      "source": [
        "np.sqrt(mse)"
      ],
      "execution_count": null,
      "outputs": []
    },
    {
      "cell_type": "markdown",
      "metadata": {
        "id": "4dmtvx1EQZQR"
      },
      "source": [
        "In this training set, the targets are tens of thousands of dollars. The RMSE gives a rough idea of the kind of error you should expect (with a higher weight for large errors): so with this model we can expect errors somewhere around $10,000. Not great. Let's see if we can do better with an RBF Kernel. We will use randomized search with cross validation to find the appropriate hyperparameter values for `C` and `gamma`:"
      ]
    },
    {
      "cell_type": "code",
      "metadata": {
        "id": "pO7ZLgdVQZQT"
      },
      "source": [
        "from sklearn.svm import SVR\n",
        "from sklearn.model_selection import RandomizedSearchCV\n",
        "from scipy.stats import reciprocal, uniform\n",
        "\n",
        "param_distributions = {\"gamma\": reciprocal(0.001, 0.1), \"C\": uniform(1, 10)}\n",
        "rnd_search_cv = RandomizedSearchCV(SVR(), param_distributions, n_iter=10, verbose=2, cv=3, random_state=42)\n",
        "rnd_search_cv.fit(X_train_scaled, y_train)"
      ],
      "execution_count": null,
      "outputs": []
    },
    {
      "cell_type": "code",
      "metadata": {
        "id": "WbjKtpMKQZQU"
      },
      "source": [
        "rnd_search_cv.best_estimator_"
      ],
      "execution_count": null,
      "outputs": []
    },
    {
      "cell_type": "markdown",
      "metadata": {
        "id": "-srwkQEAQZQU"
      },
      "source": [
        "Now let's measure the RMSE on the training set:"
      ]
    },
    {
      "cell_type": "code",
      "metadata": {
        "id": "RkZDUo7CQZQU"
      },
      "source": [
        "y_pred = rnd_search_cv.best_estimator_.predict(X_train_scaled)\n",
        "mse = mean_squared_error(y_train, y_pred)\n",
        "np.sqrt(mse)"
      ],
      "execution_count": null,
      "outputs": []
    },
    {
      "cell_type": "markdown",
      "metadata": {
        "id": "h6WhxDrJQZQV"
      },
      "source": [
        "Looks much better than the linear model. Let's select this model and evaluate it on the test set:"
      ]
    },
    {
      "cell_type": "code",
      "metadata": {
        "id": "dioxjpbRQZQW"
      },
      "source": [
        "y_pred = rnd_search_cv.best_estimator_.predict(X_test_scaled)\n",
        "mse = mean_squared_error(y_test, y_pred)\n",
        "np.sqrt(mse)"
      ],
      "execution_count": null,
      "outputs": []
    },
    {
      "cell_type": "code",
      "metadata": {
        "id": "r19wt_ERQZQY"
      },
      "source": [
        ""
      ],
      "execution_count": null,
      "outputs": []
    }
  ]
}