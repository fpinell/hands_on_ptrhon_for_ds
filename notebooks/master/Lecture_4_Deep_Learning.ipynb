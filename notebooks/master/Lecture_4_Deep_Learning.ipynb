{
  "nbformat": 4,
  "nbformat_minor": 0,
  "metadata": {
    "colab": {
      "name": "Lecture_4_Deep_Learning",
      "provenance": [],
      "collapsed_sections": [
        "ELbqlV_DC9Jw"
      ],
      "include_colab_link": true
    },
    "kernelspec": {
      "name": "python3",
      "display_name": "Python 3"
    },
    "language_info": {
      "name": "python"
    },
    "gpuClass": "standard"
  },
  "cells": [
    {
      "cell_type": "markdown",
      "metadata": {
        "id": "view-in-github",
        "colab_type": "text"
      },
      "source": [
        "<a href=\"https://colab.research.google.com/github/fpinell/hands_on_python_for_ds/blob/main/notebooks/master/Lecture_4_Deep_Learning.ipynb\" target=\"_parent\"><img src=\"https://colab.research.google.com/assets/colab-badge.svg\" alt=\"Open In Colab\"/></a>"
      ]
    },
    {
      "cell_type": "code",
      "source": [
        "!pip install -U torch==1.8.0 torchtext==0.9.0"
      ],
      "metadata": {
        "colab": {
          "base_uri": "https://localhost:8080/"
        },
        "id": "O9Tr0dOiijOI",
        "outputId": "08289f72-5803-4c24-c40a-3d850bd392f6"
      },
      "execution_count": 1,
      "outputs": [
        {
          "output_type": "stream",
          "name": "stdout",
          "text": [
            "Looking in indexes: https://pypi.org/simple, https://us-python.pkg.dev/colab-wheels/public/simple/\n",
            "Collecting torch==1.8.0\n",
            "  Downloading torch-1.8.0-cp37-cp37m-manylinux1_x86_64.whl (735.5 MB)\n",
            "\u001b[K     |████████████████████████████████| 735.5 MB 12 kB/s \n",
            "\u001b[?25hCollecting torchtext==0.9.0\n",
            "  Downloading torchtext-0.9.0-cp37-cp37m-manylinux1_x86_64.whl (7.1 MB)\n",
            "\u001b[K     |████████████████████████████████| 7.1 MB 20.8 MB/s \n",
            "\u001b[?25hRequirement already satisfied: numpy in /usr/local/lib/python3.7/dist-packages (from torch==1.8.0) (1.21.6)\n",
            "Requirement already satisfied: typing-extensions in /usr/local/lib/python3.7/dist-packages (from torch==1.8.0) (4.1.1)\n",
            "Requirement already satisfied: tqdm in /usr/local/lib/python3.7/dist-packages (from torchtext==0.9.0) (4.64.0)\n",
            "Requirement already satisfied: requests in /usr/local/lib/python3.7/dist-packages (from torchtext==0.9.0) (2.23.0)\n",
            "Requirement already satisfied: idna<3,>=2.5 in /usr/local/lib/python3.7/dist-packages (from requests->torchtext==0.9.0) (2.10)\n",
            "Requirement already satisfied: chardet<4,>=3.0.2 in /usr/local/lib/python3.7/dist-packages (from requests->torchtext==0.9.0) (3.0.4)\n",
            "Requirement already satisfied: certifi>=2017.4.17 in /usr/local/lib/python3.7/dist-packages (from requests->torchtext==0.9.0) (2022.6.15)\n",
            "Requirement already satisfied: urllib3!=1.25.0,!=1.25.1,<1.26,>=1.21.1 in /usr/local/lib/python3.7/dist-packages (from requests->torchtext==0.9.0) (1.24.3)\n",
            "Installing collected packages: torch, torchtext\n",
            "  Attempting uninstall: torch\n",
            "    Found existing installation: torch 1.11.0+cu113\n",
            "    Uninstalling torch-1.11.0+cu113:\n",
            "      Successfully uninstalled torch-1.11.0+cu113\n",
            "  Attempting uninstall: torchtext\n",
            "    Found existing installation: torchtext 0.12.0\n",
            "    Uninstalling torchtext-0.12.0:\n",
            "      Successfully uninstalled torchtext-0.12.0\n",
            "\u001b[31mERROR: pip's dependency resolver does not currently take into account all the packages that are installed. This behaviour is the source of the following dependency conflicts.\n",
            "torchvision 0.12.0+cu113 requires torch==1.11.0, but you have torch 1.8.0 which is incompatible.\n",
            "torchaudio 0.11.0+cu113 requires torch==1.11.0, but you have torch 1.8.0 which is incompatible.\u001b[0m\n",
            "Successfully installed torch-1.8.0 torchtext-0.9.0\n"
          ]
        }
      ]
    },
    {
      "cell_type": "markdown",
      "metadata": {
        "id": "ELbqlV_DC9Jw"
      },
      "source": [
        "# Hands on Python for Data Science\n",
        "\n",
        "\n",
        "### Master II Livello - Data Science and Statistical Learning (MD2SL) 2021-2022\n",
        "\n",
        "#### Fabio Pinelli\n",
        "<a href=\"mailto:fabio.pinelli@imtlucca.it\">fabio.pinelli@imtlucca.it</a><br/>\n",
        "IMT School for Advanced Studies Lucca<br/>\n",
        "2021/2022<br/>\n",
        "June, 25 2022"
      ]
    },
    {
      "cell_type": "markdown",
      "metadata": {
        "id": "HUepE3bODBa2"
      },
      "source": [
        "# Outline\n",
        "\n",
        "- Pytorch\n",
        "- Neural Network (fully connected)\n",
        "  - Classification\n",
        "  - Learning rate\n",
        "  - Regression on tabular data\n",
        "- CNN\n",
        "- RNN\n",
        "\n"
      ]
    },
    {
      "cell_type": "markdown",
      "metadata": {
        "id": "tPNVyHGcD3mW"
      },
      "source": [
        "# Pytorch \n",
        "\n",
        "## Why ```pytorch```?\n",
        "\n",
        "1. Because I've already done something in PyTorch\n",
        "2. It is widely used now in the research environment \n",
        "3. It is more _pythonic_ the way it is implemented, thus the learning curve can be smoother than with other platform\n",
        "  - use\n",
        "  - extend\n",
        "  - debug\n",
        "4. Tensors are really similar to numpy arrays \n",
        "5. (not in our goals) It can be used for scientific computation as well, not only for _Deep Learning_ tasks\n",
        "\n"
      ]
    },
    {
      "cell_type": "code",
      "metadata": {
        "id": "S6cfGklpSyst"
      },
      "source": [
        "# Python ≥3.5 is required\n",
        "import sys\n",
        "assert sys.version_info >= (3, 5)\n",
        "\n",
        "# Scikit-Learn ≥0.20 is required\n",
        "import sklearn\n",
        "assert sklearn.__version__ >= \"0.20\"\n",
        "\n",
        "# Common imports\n",
        "import numpy as np\n",
        "import pandas as pd\n",
        "import seaborn as sns\n",
        "import os\n",
        "\n",
        "# to make this notebook's output stable across runs\n",
        "np.random.seed(42)\n",
        "\n",
        "#import for pytorch\n",
        "import torch\n",
        "import torch.nn as nn\n",
        "import torch.optim as optim\n",
        "import torch.utils.data\n",
        "import torch.nn.functional as F\n",
        "# import torchvision\n",
        "# from torchvision import transforms\n",
        "from PIL import Image, ImageFile\n",
        "\n",
        "\n",
        "\n",
        "# To plot pretty figures\n",
        "%matplotlib inline\n",
        "import matplotlib as mpl\n",
        "import matplotlib.pyplot as plt\n",
        "mpl.rc('axes', labelsize=14)\n",
        "mpl.rc('xtick', labelsize=12)\n",
        "mpl.rc('ytick', labelsize=12)\n",
        "\n",
        "# Where to save the figures\n",
        "PROJECT_ROOT_DIR = \".\"\n",
        "CHAPTER_ID = \"svm\"\n",
        "IMAGES_PATH = os.path.join(PROJECT_ROOT_DIR, \"images\", CHAPTER_ID)\n",
        "os.makedirs(IMAGES_PATH, exist_ok=True)\n",
        "\n",
        "def save_fig(fig_id, tight_layout=True, fig_extension=\"png\", resolution=300):\n",
        "    path = os.path.join(IMAGES_PATH, fig_id + \".\" + fig_extension)\n",
        "    print(\"Saving figure\", fig_id)\n",
        "    if tight_layout:\n",
        "        plt.tight_layout()\n",
        "    plt.savefig(path, format=fig_extension, dpi=resolution)"
      ],
      "execution_count": 2,
      "outputs": []
    },
    {
      "cell_type": "code",
      "metadata": {
        "colab": {
          "base_uri": "https://localhost:8080/"
        },
        "id": "lipDnPDxEQ_R",
        "outputId": "11e5c00e-a75a-40f8-cbf3-13a4d194d205"
      },
      "source": [
        "# pytorch is available naturally on colab\n",
        "# we can also use a gpu\n",
        "# Go to Menu > Runtime > Change runtime.\n",
        "\n",
        "\n",
        "import torch\n",
        "# GPU available check \n",
        "print('GPU available check {}'.format(torch.cuda.is_available()))\n",
        "print(torch.rand(2,2))"
      ],
      "execution_count": 3,
      "outputs": [
        {
          "output_type": "stream",
          "name": "stdout",
          "text": [
            "GPU available check False\n",
            "tensor([[0.4280, 0.5820],\n",
            "        [0.3873, 0.8023]])\n"
          ]
        }
      ]
    },
    {
      "cell_type": "markdown",
      "metadata": {
        "id": "vk7_93nOEAQ8"
      },
      "source": [
        "## Tensors \n",
        "\n",
        "- A tensor is both a container for **numbers** and for a set of rules that define transformations between tensors producing a new tensor\n",
        "\n",
        "- **Essentially?** A multidimensional array\n",
        "- Every tensor has a rank\n",
        "  - scalar --> rank 0 \n",
        "  - array --> rank 1\n",
        "  - $n \\times n$ matrix --> rank 2\n",
        "\n",
        "```python torch.rand(2,2)``` creates a rank 2 tensor with random values by using ```python torch.rand()``` \n",
        "\n"
      ]
    },
    {
      "cell_type": "markdown",
      "metadata": {
        "id": "fO6e1lw4GfBT"
      },
      "source": [
        "### Operations with tensors"
      ]
    },
    {
      "cell_type": "code",
      "metadata": {
        "colab": {
          "base_uri": "https://localhost:8080/"
        },
        "id": "a_ATkkKhEX7D",
        "outputId": "0f38f4e6-68d2-4216-b899-0a09dbed2ba4"
      },
      "source": [
        "# we can create a tensor from lists\n",
        "x = torch.tensor([[0,0,1],[1,1,1],[0,0,0]])\n",
        "print(x)"
      ],
      "execution_count": 4,
      "outputs": [
        {
          "output_type": "stream",
          "name": "stdout",
          "text": [
            "tensor([[0, 0, 1],\n",
            "        [1, 1, 1],\n",
            "        [0, 0, 0]])\n"
          ]
        }
      ]
    },
    {
      "cell_type": "code",
      "metadata": {
        "colab": {
          "base_uri": "https://localhost:8080/"
        },
        "id": "Ac60DL6_HTLp",
        "outputId": "8f8a2091-c978-4e8f-fa7c-8beb088f10c0"
      },
      "source": [
        "# we can change an element in a tensor by using standard Python indexing\n",
        "\n",
        "x[0][0] = 5\n",
        "print(x) "
      ],
      "execution_count": 7,
      "outputs": [
        {
          "output_type": "stream",
          "name": "stdout",
          "text": [
            "tensor([[5, 0, 1],\n",
            "        [1, 1, 1],\n",
            "        [0, 0, 0]])\n"
          ]
        }
      ]
    },
    {
      "cell_type": "markdown",
      "metadata": {
        "id": "lv8CgLeuHEmK"
      },
      "source": [
        "We can use special creation functions to generate particular types of tensors\n",
        "\n",
        "- ```ones()``` generates tensors filled with 1s\n",
        "- ```zeros()```  generates tensors filled with 1s"
      ]
    },
    {
      "cell_type": "code",
      "metadata": {
        "colab": {
          "base_uri": "https://localhost:8080/"
        },
        "id": "0f5_LPTHHTlS",
        "outputId": "c94c315d-02ce-4e81-baf5-c75914408218"
      },
      "source": [
        "a = torch.zeros(2,2)\n",
        "b = torch.ones(2,2)\n",
        "print('First tensor\\n {}'.format(a))\n",
        "print('Second tensor\\n {}'.format(b))"
      ],
      "execution_count": 8,
      "outputs": [
        {
          "output_type": "stream",
          "name": "stdout",
          "text": [
            "First tensor\n",
            " tensor([[0., 0.],\n",
            "        [0., 0.]])\n",
            "Second tensor\n",
            " tensor([[1., 1.],\n",
            "        [1., 1.]])\n"
          ]
        }
      ]
    },
    {
      "cell_type": "markdown",
      "metadata": {
        "id": "0hxpcKjhIo9W"
      },
      "source": [
        "We can perform standard mathematical operations with tensors, e.g. addind two tensors together. \n",
        "\n"
      ]
    },
    {
      "cell_type": "code",
      "metadata": {
        "colab": {
          "base_uri": "https://localhost:8080/"
        },
        "id": "E-p3-HtoHUFm",
        "outputId": "4cadad70-38dc-49cf-eed6-3467063ef89f"
      },
      "source": [
        "a = torch.tensor([[1,2],[2,3]])\n",
        "b = torch.tensor([[1,1],[1,1]])\n",
        "print('Check the sum\\n {}'.format(a+b))"
      ],
      "execution_count": 5,
      "outputs": [
        {
          "output_type": "stream",
          "name": "stdout",
          "text": [
            "Check the sum\n",
            " tensor([[2, 3],\n",
            "        [3, 4]])\n"
          ]
        }
      ]
    },
    {
      "cell_type": "markdown",
      "metadata": {
        "id": "-8BxnmGmJIJg"
      },
      "source": [
        "And if you have a tensor of rank 0, you can access out the value with the ```item()``` function"
      ]
    },
    {
      "cell_type": "code",
      "metadata": {
        "colab": {
          "base_uri": "https://localhost:8080/"
        },
        "id": "ixzmV8dxHUDH",
        "outputId": "0c7ac38e-98f4-4160-9d82-e1adf4b14936"
      },
      "source": [
        "print('Value of the 1D tensor: {}'.format(torch.rand(1).item()))"
      ],
      "execution_count": 6,
      "outputs": [
        {
          "output_type": "stream",
          "name": "stdout",
          "text": [
            "Value of the 1D tensor: 0.48528754711151123\n"
          ]
        }
      ]
    },
    {
      "cell_type": "markdown",
      "metadata": {
        "id": "ahJdiHnZJfiv"
      },
      "source": [
        "Tensors can live in the **CPU** or on the **GPU** and they can be copied between devices by usint the ```to()``` function:"
      ]
    },
    {
      "cell_type": "code",
      "metadata": {
        "colab": {
          "base_uri": "https://localhost:8080/"
        },
        "id": "xfNPJA5JHT_6",
        "outputId": "61d3a2e6-bb1e-48f1-e710-04c68f13bb03"
      },
      "source": [
        "cpu_tensor = torch.rand(2)\n",
        "print('In which device is the tensor? {}'.format(cpu_tensor.device))"
      ],
      "execution_count": 7,
      "outputs": [
        {
          "output_type": "stream",
          "name": "stdout",
          "text": [
            "In which device is the tensor? cpu\n"
          ]
        }
      ]
    },
    {
      "cell_type": "code",
      "metadata": {
        "id": "TjX6p_2eHT9T",
        "colab": {
          "base_uri": "https://localhost:8080/",
          "height": 305
        },
        "outputId": "65e166ec-a4fe-4d85-8dc4-5b7718c7592b"
      },
      "source": [
        "gpu_tensor = cpu_tensor.to('cuda')\n",
        "print('In which device is the tensor? {}'.format(gpu_tensor.device))"
      ],
      "execution_count": 8,
      "outputs": [
        {
          "output_type": "error",
          "ename": "RuntimeError",
          "evalue": "ignored",
          "traceback": [
            "\u001b[0;31m---------------------------------------------------------------------------\u001b[0m",
            "\u001b[0;31mRuntimeError\u001b[0m                              Traceback (most recent call last)",
            "\u001b[0;32m<ipython-input-8-e34d8f63d306>\u001b[0m in \u001b[0;36m<module>\u001b[0;34m()\u001b[0m\n\u001b[0;32m----> 1\u001b[0;31m \u001b[0mgpu_tensor\u001b[0m \u001b[0;34m=\u001b[0m \u001b[0mcpu_tensor\u001b[0m\u001b[0;34m.\u001b[0m\u001b[0mto\u001b[0m\u001b[0;34m(\u001b[0m\u001b[0;34m'cuda'\u001b[0m\u001b[0;34m)\u001b[0m\u001b[0;34m\u001b[0m\u001b[0;34m\u001b[0m\u001b[0m\n\u001b[0m\u001b[1;32m      2\u001b[0m \u001b[0mprint\u001b[0m\u001b[0;34m(\u001b[0m\u001b[0;34m'In which device is the tensor? {}'\u001b[0m\u001b[0;34m.\u001b[0m\u001b[0mformat\u001b[0m\u001b[0;34m(\u001b[0m\u001b[0mgpu_tensor\u001b[0m\u001b[0;34m.\u001b[0m\u001b[0mdevice\u001b[0m\u001b[0;34m)\u001b[0m\u001b[0;34m)\u001b[0m\u001b[0;34m\u001b[0m\u001b[0;34m\u001b[0m\u001b[0m\n",
            "\u001b[0;32m/usr/local/lib/python3.7/dist-packages/torch/cuda/__init__.py\u001b[0m in \u001b[0;36m_lazy_init\u001b[0;34m()\u001b[0m\n\u001b[1;32m    168\u001b[0m         \u001b[0;31m# This function throws if there's a driver initialization error, no GPUs\u001b[0m\u001b[0;34m\u001b[0m\u001b[0;34m\u001b[0m\u001b[0;34m\u001b[0m\u001b[0m\n\u001b[1;32m    169\u001b[0m         \u001b[0;31m# are found or any other error occurs\u001b[0m\u001b[0;34m\u001b[0m\u001b[0;34m\u001b[0m\u001b[0;34m\u001b[0m\u001b[0m\n\u001b[0;32m--> 170\u001b[0;31m         \u001b[0mtorch\u001b[0m\u001b[0;34m.\u001b[0m\u001b[0m_C\u001b[0m\u001b[0;34m.\u001b[0m\u001b[0m_cuda_init\u001b[0m\u001b[0;34m(\u001b[0m\u001b[0;34m)\u001b[0m\u001b[0;34m\u001b[0m\u001b[0;34m\u001b[0m\u001b[0m\n\u001b[0m\u001b[1;32m    171\u001b[0m         \u001b[0;31m# Some of the queued calls may reentrantly call _lazy_init();\u001b[0m\u001b[0;34m\u001b[0m\u001b[0;34m\u001b[0m\u001b[0;34m\u001b[0m\u001b[0m\n\u001b[1;32m    172\u001b[0m         \u001b[0;31m# we need to just return without initializing in that case.\u001b[0m\u001b[0;34m\u001b[0m\u001b[0;34m\u001b[0m\u001b[0;34m\u001b[0m\u001b[0m\n",
            "\u001b[0;31mRuntimeError\u001b[0m: No CUDA GPUs are available"
          ]
        }
      ]
    },
    {
      "cell_type": "markdown",
      "metadata": {
        "id": "MPqjyhEuOl_z"
      },
      "source": [
        "Quite often we need to find the maximum item in a tensor, as well as the index that contains the maximum value (it may correspond to the class that the neural network has decided upon its final prediction). \n",
        "\n",
        "```max()``` and ```argmax()``` are the needed functions, then we can use ```item()``` to get the _standard_ Python value from a 1D tensor. "
      ]
    },
    {
      "cell_type": "code",
      "metadata": {
        "colab": {
          "base_uri": "https://localhost:8080/"
        },
        "id": "L2UWg4dyHT6f",
        "outputId": "f42d798f-d369-4a35-a79e-ac3af62026ed"
      },
      "source": [
        "a = torch.rand(2,2)\n",
        "print(a)\n",
        "\n",
        "print('Which is the max value? {}'.format(a.max()))\n",
        "print('Which is the index of the max value: {}'.format(a.argmax()))\n",
        "print('Get the values\\n -max: {}\\n -index: {}'.format(a.max().item(),a.argmax().item()))"
      ],
      "execution_count": 9,
      "outputs": [
        {
          "output_type": "stream",
          "name": "stdout",
          "text": [
            "tensor([[0.4357, 0.8859],\n",
            "        [0.0623, 0.5318]])\n",
            "Which is the max value? 0.8858698606491089\n",
            "Which is the index of the max value: 1\n",
            "Get the values\n",
            " -max: 0.8858698606491089\n",
            " -index: 1\n"
          ]
        }
      ]
    },
    {
      "cell_type": "markdown",
      "metadata": {
        "id": "37kPmJMVP9YA"
      },
      "source": [
        "Sometimes we need to change the type of a tensor"
      ]
    },
    {
      "cell_type": "code",
      "metadata": {
        "colab": {
          "base_uri": "https://localhost:8080/"
        },
        "id": "yCWfYW_zHT12",
        "outputId": "53ecbbb2-0afb-4e1c-ae0b-f661edb2ed29"
      },
      "source": [
        "long_tensor = torch.tensor([[0,0,1],[1,1,1],[0,0,0]])\n",
        "print('which is the type of long tensor? {}'.format(long_tensor.type()))"
      ],
      "execution_count": 10,
      "outputs": [
        {
          "output_type": "stream",
          "name": "stdout",
          "text": [
            "which is the type of long tensor? torch.LongTensor\n"
          ]
        }
      ]
    },
    {
      "cell_type": "code",
      "metadata": {
        "colab": {
          "base_uri": "https://localhost:8080/"
        },
        "id": "RZebCnecHTtG",
        "outputId": "a5286458-03f6-41b0-ebc3-b77f143df435"
      },
      "source": [
        "float_tensor = long_tensor.to(dtype=torch.float32)\n",
        "float_tensor_2 = long_tensor.type(torch.float64) #second method to change type\n",
        "print('which is the type of long tensor? {}'.format(float_tensor.type()))\n",
        "print('which is the type of long tensor? {}'.format(float_tensor_2.type()))"
      ],
      "execution_count": 11,
      "outputs": [
        {
          "output_type": "stream",
          "name": "stdout",
          "text": [
            "which is the type of long tensor? torch.FloatTensor\n",
            "which is the type of long tensor? torch.DoubleTensor\n"
          ]
        }
      ]
    },
    {
      "cell_type": "markdown",
      "metadata": {
        "id": "duAx1tzzRLCG"
      },
      "source": [
        "If you remember in ```pandas``` we could perform operations of dataframes using the parameter ```in_place = True```. \n",
        "\n",
        "We could perform something similar on tensors. \n",
        "\n",
        "Functions can be applied _inplace_ if exists the original fuction with appended underscore '_'. \n",
        "\n",
        "Let see an example:"
      ]
    },
    {
      "cell_type": "code",
      "metadata": {
        "colab": {
          "base_uri": "https://localhost:8080/"
        },
        "id": "gN1Oiy_oRyql",
        "outputId": "57c5febb-7193-47bc-924b-24d13bac2ae7"
      },
      "source": [
        "random_tensor = torch.rand(2,2)\n",
        "new_random = random_tensor.log2()\n",
        "print(random_tensor)\n",
        "print(new_random)"
      ],
      "execution_count": 12,
      "outputs": [
        {
          "output_type": "stream",
          "name": "stdout",
          "text": [
            "tensor([[0.5764, 0.8301],\n",
            "        [0.6731, 0.7816]])\n",
            "tensor([[-0.7948, -0.2687],\n",
            "        [-0.5711, -0.3556]])\n"
          ]
        }
      ]
    },
    {
      "cell_type": "code",
      "metadata": {
        "colab": {
          "base_uri": "https://localhost:8080/"
        },
        "id": "k3VWT0Q5Rynu",
        "outputId": "fa136651-33ce-41ed-e893-635e3f4edca2"
      },
      "source": [
        "print(random_tensor.log2_())"
      ],
      "execution_count": 13,
      "outputs": [
        {
          "output_type": "stream",
          "name": "stdout",
          "text": [
            "tensor([[-0.7948, -0.2687],\n",
            "        [-0.5711, -0.3556]])\n"
          ]
        }
      ]
    },
    {
      "cell_type": "markdown",
      "metadata": {
        "id": "UN9lCeqrTNCP"
      },
      "source": [
        "Some nice manipulation that can be done with tensors\n",
        "- reshape / view\n",
        "- column permutation\n",
        "- slice a tensor\n",
        "\n",
        "Let's try with a simple random tensor, and with the ```MINST``` dataset that is represented in numpy arrays of 784 elements"
      ]
    },
    {
      "cell_type": "code",
      "metadata": {
        "colab": {
          "base_uri": "https://localhost:8080/",
          "height": 287
        },
        "id": "MGnJ3F8HXAg-",
        "outputId": "59280801-01f5-425e-8ac6-10d7c1569b99"
      },
      "source": [
        "'''\n",
        "reshape() function. It is really similar to numpy reshape function. There are a\n",
        "lot of similarities between tensors and numpy operations/functions\n",
        "'''\n",
        "\n",
        "flat_tensor = torch.rand(784)\n",
        "reshaped_tensor = flat_tensor.reshape(1,28,28) #1 is the number of channels\n",
        "print('Flat tensor shape {}'.format(flat_tensor.shape))\n",
        "print('Flat tensor shape {}'.format(reshaped_tensor.shape))\n",
        "\n",
        "'''\n",
        "view() function. Same behaviour of reshape, the main difference is that the view \n",
        "changes if the original one is changed\n",
        "'''\n",
        "flat_tensor = torch.rand(784)\n",
        "reshaped_tensor = flat_tensor.view(1,28,28) #1 is the number of channels\n",
        "print('Flat tensor shape {}'.format(flat_tensor.shape))\n",
        "print('Flat tensor shape {}'.format(reshaped_tensor.shape))\n",
        "\n",
        "'''\n",
        "The reshaped tensor can't have a number of elements different than the original one\n",
        "'''\n",
        "flat_tensor = torch.rand(784)\n",
        "reshaped_tensor = flat_tensor.view(3,28,28)\n",
        "\n"
      ],
      "execution_count": 14,
      "outputs": [
        {
          "output_type": "stream",
          "name": "stdout",
          "text": [
            "Flat tensor shape torch.Size([784])\n",
            "Flat tensor shape torch.Size([1, 28, 28])\n",
            "Flat tensor shape torch.Size([784])\n",
            "Flat tensor shape torch.Size([1, 28, 28])\n"
          ]
        },
        {
          "output_type": "error",
          "ename": "RuntimeError",
          "evalue": "ignored",
          "traceback": [
            "\u001b[0;31m---------------------------------------------------------------------------\u001b[0m",
            "\u001b[0;31mRuntimeError\u001b[0m                              Traceback (most recent call last)",
            "\u001b[0;32m<ipython-input-14-22bffc86eb1f>\u001b[0m in \u001b[0;36m<module>\u001b[0;34m()\u001b[0m\n\u001b[1;32m     22\u001b[0m '''\n\u001b[1;32m     23\u001b[0m \u001b[0mflat_tensor\u001b[0m \u001b[0;34m=\u001b[0m \u001b[0mtorch\u001b[0m\u001b[0;34m.\u001b[0m\u001b[0mrand\u001b[0m\u001b[0;34m(\u001b[0m\u001b[0;36m784\u001b[0m\u001b[0;34m)\u001b[0m\u001b[0;34m\u001b[0m\u001b[0;34m\u001b[0m\u001b[0m\n\u001b[0;32m---> 24\u001b[0;31m \u001b[0mreshaped_tensor\u001b[0m \u001b[0;34m=\u001b[0m \u001b[0mflat_tensor\u001b[0m\u001b[0;34m.\u001b[0m\u001b[0mview\u001b[0m\u001b[0;34m(\u001b[0m\u001b[0;36m3\u001b[0m\u001b[0;34m,\u001b[0m\u001b[0;36m28\u001b[0m\u001b[0;34m,\u001b[0m\u001b[0;36m28\u001b[0m\u001b[0;34m)\u001b[0m\u001b[0;34m\u001b[0m\u001b[0;34m\u001b[0m\u001b[0m\n\u001b[0m\u001b[1;32m     25\u001b[0m \u001b[0;34m\u001b[0m\u001b[0m\n",
            "\u001b[0;31mRuntimeError\u001b[0m: shape '[3, 28, 28]' is invalid for input of size 784"
          ]
        }
      ]
    },
    {
      "cell_type": "code",
      "metadata": {
        "id": "Y9moKIIpRymG"
      },
      "source": [
        "\n",
        "from sklearn.datasets import fetch_openml\n",
        "mnist = fetch_openml('mnist_784', version=1, cache=True, as_frame=False)\n",
        "\n",
        "X = mnist[\"data\"]\n",
        "y = mnist[\"target\"].astype(np.uint8)\n",
        "\n",
        "X_train = X[:50000]\n",
        "y_train = y[:50000]\n",
        "\n",
        "X_val = X[50000:60000]\n",
        "y_val = y[50000:60000]\n",
        "\n",
        "X_test = X[60000:]\n",
        "y_test = y[60000:]"
      ],
      "execution_count": 15,
      "outputs": []
    },
    {
      "cell_type": "code",
      "source": [
        "X[0]"
      ],
      "metadata": {
        "id": "8L01Bvos3MW_",
        "outputId": "bb406ccf-6308-4627-be90-e936c93fa935",
        "colab": {
          "base_uri": "https://localhost:8080/"
        }
      },
      "execution_count": 22,
      "outputs": [
        {
          "output_type": "execute_result",
          "data": {
            "text/plain": [
              "array([  0.,   0.,   0.,   0.,   0.,   0.,   0.,   0.,   0.,   0.,   0.,\n",
              "         0.,   0.,   0.,   0.,   0.,   0.,   0.,   0.,   0.,   0.,   0.,\n",
              "         0.,   0.,   0.,   0.,   0.,   0.,   0.,   0.,   0.,   0.,   0.,\n",
              "         0.,   0.,   0.,   0.,   0.,   0.,   0.,   0.,   0.,   0.,   0.,\n",
              "         0.,   0.,   0.,   0.,   0.,   0.,   0.,   0.,   0.,   0.,   0.,\n",
              "         0.,   0.,   0.,   0.,   0.,   0.,   0.,   0.,   0.,   0.,   0.,\n",
              "         0.,   0.,   0.,   0.,   0.,   0.,   0.,   0.,   0.,   0.,   0.,\n",
              "         0.,   0.,   0.,   0.,   0.,   0.,   0.,   0.,   0.,   0.,   0.,\n",
              "         0.,   0.,   0.,   0.,   0.,   0.,   0.,   0.,   0.,   0.,   0.,\n",
              "         0.,   0.,   0.,   0.,   0.,   0.,   0.,   0.,   0.,   0.,   0.,\n",
              "         0.,   0.,   0.,   0.,   0.,   0.,   0.,   0.,   0.,   0.,   0.,\n",
              "         0.,   0.,   0.,   0.,   0.,   0.,   0.,   0.,   0.,   0.,   0.,\n",
              "         0.,   0.,   0.,   0.,   0.,   0.,   0.,   0.,   0.,   0.,   0.,\n",
              "         0.,   0.,   0.,   0.,   0.,   0.,   0.,   0.,   0.,   3.,  18.,\n",
              "        18.,  18., 126., 136., 175.,  26., 166., 255., 247., 127.,   0.,\n",
              "         0.,   0.,   0.,   0.,   0.,   0.,   0.,   0.,   0.,   0.,   0.,\n",
              "        30.,  36.,  94., 154., 170., 253., 253., 253., 253., 253., 225.,\n",
              "       172., 253., 242., 195.,  64.,   0.,   0.,   0.,   0.,   0.,   0.,\n",
              "         0.,   0.,   0.,   0.,   0.,  49., 238., 253., 253., 253., 253.,\n",
              "       253., 253., 253., 253., 251.,  93.,  82.,  82.,  56.,  39.,   0.,\n",
              "         0.,   0.,   0.,   0.,   0.,   0.,   0.,   0.,   0.,   0.,   0.,\n",
              "        18., 219., 253., 253., 253., 253., 253., 198., 182., 247., 241.,\n",
              "         0.,   0.,   0.,   0.,   0.,   0.,   0.,   0.,   0.,   0.,   0.,\n",
              "         0.,   0.,   0.,   0.,   0.,   0.,   0.,  80., 156., 107., 253.,\n",
              "       253., 205.,  11.,   0.,  43., 154.,   0.,   0.,   0.,   0.,   0.,\n",
              "         0.,   0.,   0.,   0.,   0.,   0.,   0.,   0.,   0.,   0.,   0.,\n",
              "         0.,   0.,   0.,  14.,   1., 154., 253.,  90.,   0.,   0.,   0.,\n",
              "         0.,   0.,   0.,   0.,   0.,   0.,   0.,   0.,   0.,   0.,   0.,\n",
              "         0.,   0.,   0.,   0.,   0.,   0.,   0.,   0.,   0.,   0.,   0.,\n",
              "       139., 253., 190.,   2.,   0.,   0.,   0.,   0.,   0.,   0.,   0.,\n",
              "         0.,   0.,   0.,   0.,   0.,   0.,   0.,   0.,   0.,   0.,   0.,\n",
              "         0.,   0.,   0.,   0.,   0.,   0.,  11., 190., 253.,  70.,   0.,\n",
              "         0.,   0.,   0.,   0.,   0.,   0.,   0.,   0.,   0.,   0.,   0.,\n",
              "         0.,   0.,   0.,   0.,   0.,   0.,   0.,   0.,   0.,   0.,   0.,\n",
              "         0.,   0.,  35., 241., 225., 160., 108.,   1.,   0.,   0.,   0.,\n",
              "         0.,   0.,   0.,   0.,   0.,   0.,   0.,   0.,   0.,   0.,   0.,\n",
              "         0.,   0.,   0.,   0.,   0.,   0.,   0.,   0.,   0.,  81., 240.,\n",
              "       253., 253., 119.,  25.,   0.,   0.,   0.,   0.,   0.,   0.,   0.,\n",
              "         0.,   0.,   0.,   0.,   0.,   0.,   0.,   0.,   0.,   0.,   0.,\n",
              "         0.,   0.,   0.,   0.,   0.,  45., 186., 253., 253., 150.,  27.,\n",
              "         0.,   0.,   0.,   0.,   0.,   0.,   0.,   0.,   0.,   0.,   0.,\n",
              "         0.,   0.,   0.,   0.,   0.,   0.,   0.,   0.,   0.,   0.,   0.,\n",
              "         0.,  16.,  93., 252., 253., 187.,   0.,   0.,   0.,   0.,   0.,\n",
              "         0.,   0.,   0.,   0.,   0.,   0.,   0.,   0.,   0.,   0.,   0.,\n",
              "         0.,   0.,   0.,   0.,   0.,   0.,   0.,   0.,   0., 249., 253.,\n",
              "       249.,  64.,   0.,   0.,   0.,   0.,   0.,   0.,   0.,   0.,   0.,\n",
              "         0.,   0.,   0.,   0.,   0.,   0.,   0.,   0.,   0.,   0.,   0.,\n",
              "         0.,  46., 130., 183., 253., 253., 207.,   2.,   0.,   0.,   0.,\n",
              "         0.,   0.,   0.,   0.,   0.,   0.,   0.,   0.,   0.,   0.,   0.,\n",
              "         0.,   0.,   0.,   0.,   0.,  39., 148., 229., 253., 253., 253.,\n",
              "       250., 182.,   0.,   0.,   0.,   0.,   0.,   0.,   0.,   0.,   0.,\n",
              "         0.,   0.,   0.,   0.,   0.,   0.,   0.,   0.,   0.,  24., 114.,\n",
              "       221., 253., 253., 253., 253., 201.,  78.,   0.,   0.,   0.,   0.,\n",
              "         0.,   0.,   0.,   0.,   0.,   0.,   0.,   0.,   0.,   0.,   0.,\n",
              "         0.,   0.,  23.,  66., 213., 253., 253., 253., 253., 198.,  81.,\n",
              "         2.,   0.,   0.,   0.,   0.,   0.,   0.,   0.,   0.,   0.,   0.,\n",
              "         0.,   0.,   0.,   0.,   0.,   0.,  18., 171., 219., 253., 253.,\n",
              "       253., 253., 195.,  80.,   9.,   0.,   0.,   0.,   0.,   0.,   0.,\n",
              "         0.,   0.,   0.,   0.,   0.,   0.,   0.,   0.,   0.,   0.,  55.,\n",
              "       172., 226., 253., 253., 253., 253., 244., 133.,  11.,   0.,   0.,\n",
              "         0.,   0.,   0.,   0.,   0.,   0.,   0.,   0.,   0.,   0.,   0.,\n",
              "         0.,   0.,   0.,   0.,   0., 136., 253., 253., 253., 212., 135.,\n",
              "       132.,  16.,   0.,   0.,   0.,   0.,   0.,   0.,   0.,   0.,   0.,\n",
              "         0.,   0.,   0.,   0.,   0.,   0.,   0.,   0.,   0.,   0.,   0.,\n",
              "         0.,   0.,   0.,   0.,   0.,   0.,   0.,   0.,   0.,   0.,   0.,\n",
              "         0.,   0.,   0.,   0.,   0.,   0.,   0.,   0.,   0.,   0.,   0.,\n",
              "         0.,   0.,   0.,   0.,   0.,   0.,   0.,   0.,   0.,   0.,   0.,\n",
              "         0.,   0.,   0.,   0.,   0.,   0.,   0.,   0.,   0.,   0.,   0.,\n",
              "         0.,   0.,   0.,   0.,   0.,   0.,   0.,   0.,   0.,   0.,   0.,\n",
              "         0.,   0.,   0.,   0.,   0.,   0.,   0.,   0.,   0.,   0.,   0.,\n",
              "         0.,   0.,   0.,   0.,   0.,   0.,   0.,   0.,   0.,   0.,   0.,\n",
              "         0.,   0.,   0.])"
            ]
          },
          "metadata": {},
          "execution_count": 22
        }
      ]
    },
    {
      "cell_type": "code",
      "metadata": {
        "colab": {
          "base_uri": "https://localhost:8080/"
        },
        "id": "e12FubxuRyi7",
        "outputId": "1deed572-0059-4494-a15a-4ee520e9e61c"
      },
      "source": [
        "print('shape of x train: {}'.format(X_train.shape))"
      ],
      "execution_count": 16,
      "outputs": [
        {
          "output_type": "stream",
          "name": "stdout",
          "text": [
            "shape of x train: (50000, 784)\n"
          ]
        }
      ]
    },
    {
      "cell_type": "code",
      "source": [
        "print(type(X_train))"
      ],
      "metadata": {
        "id": "J8N_5Yt02NnG",
        "outputId": "80fe00ed-33e5-4648-dcb3-575d072fb24a",
        "colab": {
          "base_uri": "https://localhost:8080/"
        }
      },
      "execution_count": 17,
      "outputs": [
        {
          "output_type": "stream",
          "name": "stdout",
          "text": [
            "<class 'numpy.ndarray'>\n"
          ]
        }
      ]
    },
    {
      "cell_type": "code",
      "metadata": {
        "id": "3kJ4IWlkRyfz"
      },
      "source": [
        "'''\n",
        "Let's create a tensor from the numpy arrays\n",
        "'''\n",
        "x_train_tensor,x_val_tensor, x_test_tensor = map(torch.FloatTensor, (X_train, X_val, X_test))\n",
        "y_train_tensor,y_val_tensor, y_test_tensor = map(torch.LongTensor, (y_train, y_val, y_test))\n",
        "\n",
        "# y_train_tensor = y_train_tensor.type(torch.LongTensor)\n",
        "# y_test_tensor = y_test_tensor.type(torch.LongTensor)"
      ],
      "execution_count": 19,
      "outputs": []
    },
    {
      "cell_type": "code",
      "metadata": {
        "colab": {
          "base_uri": "https://localhost:8080/"
        },
        "id": "cALwuCBlRydZ",
        "outputId": "51cf5aa8-198a-4115-90ac-1475b72dda24"
      },
      "source": [
        "print(x_train_tensor.shape,x_train_tensor.size())\n",
        "x_train_tensor_reshaped = x_train_tensor.reshape([-1,28,28])\n",
        "\n",
        "print(x_train_tensor_reshaped.size())\n"
      ],
      "execution_count": 21,
      "outputs": [
        {
          "output_type": "stream",
          "name": "stdout",
          "text": [
            "torch.Size([50000, 784]) torch.Size([50000, 784])\n",
            "torch.Size([50000, 28, 28])\n"
          ]
        }
      ]
    },
    {
      "cell_type": "code",
      "source": [
        "y_train[0]"
      ],
      "metadata": {
        "id": "hcoKT-394PYm",
        "outputId": "1a6933d6-8768-49b4-ea82-f4b33578d7f5",
        "colab": {
          "base_uri": "https://localhost:8080/"
        }
      },
      "execution_count": 24,
      "outputs": [
        {
          "output_type": "execute_result",
          "data": {
            "text/plain": [
              "5"
            ]
          },
          "metadata": {},
          "execution_count": 24
        }
      ]
    },
    {
      "cell_type": "code",
      "source": [
        "x_train_tensor_reshaped[0]"
      ],
      "metadata": {
        "id": "fkT62S-X4B5r",
        "outputId": "d681fea2-cf59-43e3-c8c1-557fe8e7c7a0",
        "colab": {
          "base_uri": "https://localhost:8080/"
        }
      },
      "execution_count": 23,
      "outputs": [
        {
          "output_type": "execute_result",
          "data": {
            "text/plain": [
              "tensor([[  0.,   0.,   0.,   0.,   0.,   0.,   0.,   0.,   0.,   0.,   0.,   0.,\n",
              "           0.,   0.,   0.,   0.,   0.,   0.,   0.,   0.,   0.,   0.,   0.,   0.,\n",
              "           0.,   0.,   0.,   0.],\n",
              "        [  0.,   0.,   0.,   0.,   0.,   0.,   0.,   0.,   0.,   0.,   0.,   0.,\n",
              "           0.,   0.,   0.,   0.,   0.,   0.,   0.,   0.,   0.,   0.,   0.,   0.,\n",
              "           0.,   0.,   0.,   0.],\n",
              "        [  0.,   0.,   0.,   0.,   0.,   0.,   0.,   0.,   0.,   0.,   0.,   0.,\n",
              "           0.,   0.,   0.,   0.,   0.,   0.,   0.,   0.,   0.,   0.,   0.,   0.,\n",
              "           0.,   0.,   0.,   0.],\n",
              "        [  0.,   0.,   0.,   0.,   0.,   0.,   0.,   0.,   0.,   0.,   0.,   0.,\n",
              "           0.,   0.,   0.,   0.,   0.,   0.,   0.,   0.,   0.,   0.,   0.,   0.,\n",
              "           0.,   0.,   0.,   0.],\n",
              "        [  0.,   0.,   0.,   0.,   0.,   0.,   0.,   0.,   0.,   0.,   0.,   0.,\n",
              "           0.,   0.,   0.,   0.,   0.,   0.,   0.,   0.,   0.,   0.,   0.,   0.,\n",
              "           0.,   0.,   0.,   0.],\n",
              "        [  0.,   0.,   0.,   0.,   0.,   0.,   0.,   0.,   0.,   0.,   0.,   0.,\n",
              "           3.,  18.,  18.,  18., 126., 136., 175.,  26., 166., 255., 247., 127.,\n",
              "           0.,   0.,   0.,   0.],\n",
              "        [  0.,   0.,   0.,   0.,   0.,   0.,   0.,   0.,  30.,  36.,  94., 154.,\n",
              "         170., 253., 253., 253., 253., 253., 225., 172., 253., 242., 195.,  64.,\n",
              "           0.,   0.,   0.,   0.],\n",
              "        [  0.,   0.,   0.,   0.,   0.,   0.,   0.,  49., 238., 253., 253., 253.,\n",
              "         253., 253., 253., 253., 253., 251.,  93.,  82.,  82.,  56.,  39.,   0.,\n",
              "           0.,   0.,   0.,   0.],\n",
              "        [  0.,   0.,   0.,   0.,   0.,   0.,   0.,  18., 219., 253., 253., 253.,\n",
              "         253., 253., 198., 182., 247., 241.,   0.,   0.,   0.,   0.,   0.,   0.,\n",
              "           0.,   0.,   0.,   0.],\n",
              "        [  0.,   0.,   0.,   0.,   0.,   0.,   0.,   0.,  80., 156., 107., 253.,\n",
              "         253., 205.,  11.,   0.,  43., 154.,   0.,   0.,   0.,   0.,   0.,   0.,\n",
              "           0.,   0.,   0.,   0.],\n",
              "        [  0.,   0.,   0.,   0.,   0.,   0.,   0.,   0.,   0.,  14.,   1., 154.,\n",
              "         253.,  90.,   0.,   0.,   0.,   0.,   0.,   0.,   0.,   0.,   0.,   0.,\n",
              "           0.,   0.,   0.,   0.],\n",
              "        [  0.,   0.,   0.,   0.,   0.,   0.,   0.,   0.,   0.,   0.,   0., 139.,\n",
              "         253., 190.,   2.,   0.,   0.,   0.,   0.,   0.,   0.,   0.,   0.,   0.,\n",
              "           0.,   0.,   0.,   0.],\n",
              "        [  0.,   0.,   0.,   0.,   0.,   0.,   0.,   0.,   0.,   0.,   0.,  11.,\n",
              "         190., 253.,  70.,   0.,   0.,   0.,   0.,   0.,   0.,   0.,   0.,   0.,\n",
              "           0.,   0.,   0.,   0.],\n",
              "        [  0.,   0.,   0.,   0.,   0.,   0.,   0.,   0.,   0.,   0.,   0.,   0.,\n",
              "          35., 241., 225., 160., 108.,   1.,   0.,   0.,   0.,   0.,   0.,   0.,\n",
              "           0.,   0.,   0.,   0.],\n",
              "        [  0.,   0.,   0.,   0.,   0.,   0.,   0.,   0.,   0.,   0.,   0.,   0.,\n",
              "           0.,  81., 240., 253., 253., 119.,  25.,   0.,   0.,   0.,   0.,   0.,\n",
              "           0.,   0.,   0.,   0.],\n",
              "        [  0.,   0.,   0.,   0.,   0.,   0.,   0.,   0.,   0.,   0.,   0.,   0.,\n",
              "           0.,   0.,  45., 186., 253., 253., 150.,  27.,   0.,   0.,   0.,   0.,\n",
              "           0.,   0.,   0.,   0.],\n",
              "        [  0.,   0.,   0.,   0.,   0.,   0.,   0.,   0.,   0.,   0.,   0.,   0.,\n",
              "           0.,   0.,   0.,  16.,  93., 252., 253., 187.,   0.,   0.,   0.,   0.,\n",
              "           0.,   0.,   0.,   0.],\n",
              "        [  0.,   0.,   0.,   0.,   0.,   0.,   0.,   0.,   0.,   0.,   0.,   0.,\n",
              "           0.,   0.,   0.,   0.,   0., 249., 253., 249.,  64.,   0.,   0.,   0.,\n",
              "           0.,   0.,   0.,   0.],\n",
              "        [  0.,   0.,   0.,   0.,   0.,   0.,   0.,   0.,   0.,   0.,   0.,   0.,\n",
              "           0.,   0.,  46., 130., 183., 253., 253., 207.,   2.,   0.,   0.,   0.,\n",
              "           0.,   0.,   0.,   0.],\n",
              "        [  0.,   0.,   0.,   0.,   0.,   0.,   0.,   0.,   0.,   0.,   0.,   0.,\n",
              "          39., 148., 229., 253., 253., 253., 250., 182.,   0.,   0.,   0.,   0.,\n",
              "           0.,   0.,   0.,   0.],\n",
              "        [  0.,   0.,   0.,   0.,   0.,   0.,   0.,   0.,   0.,   0.,  24., 114.,\n",
              "         221., 253., 253., 253., 253., 201.,  78.,   0.,   0.,   0.,   0.,   0.,\n",
              "           0.,   0.,   0.,   0.],\n",
              "        [  0.,   0.,   0.,   0.,   0.,   0.,   0.,   0.,  23.,  66., 213., 253.,\n",
              "         253., 253., 253., 198.,  81.,   2.,   0.,   0.,   0.,   0.,   0.,   0.,\n",
              "           0.,   0.,   0.,   0.],\n",
              "        [  0.,   0.,   0.,   0.,   0.,   0.,  18., 171., 219., 253., 253., 253.,\n",
              "         253., 195.,  80.,   9.,   0.,   0.,   0.,   0.,   0.,   0.,   0.,   0.,\n",
              "           0.,   0.,   0.,   0.],\n",
              "        [  0.,   0.,   0.,   0.,  55., 172., 226., 253., 253., 253., 253., 244.,\n",
              "         133.,  11.,   0.,   0.,   0.,   0.,   0.,   0.,   0.,   0.,   0.,   0.,\n",
              "           0.,   0.,   0.,   0.],\n",
              "        [  0.,   0.,   0.,   0., 136., 253., 253., 253., 212., 135., 132.,  16.,\n",
              "           0.,   0.,   0.,   0.,   0.,   0.,   0.,   0.,   0.,   0.,   0.,   0.,\n",
              "           0.,   0.,   0.,   0.],\n",
              "        [  0.,   0.,   0.,   0.,   0.,   0.,   0.,   0.,   0.,   0.,   0.,   0.,\n",
              "           0.,   0.,   0.,   0.,   0.,   0.,   0.,   0.,   0.,   0.,   0.,   0.,\n",
              "           0.,   0.,   0.,   0.],\n",
              "        [  0.,   0.,   0.,   0.,   0.,   0.,   0.,   0.,   0.,   0.,   0.,   0.,\n",
              "           0.,   0.,   0.,   0.,   0.,   0.,   0.,   0.,   0.,   0.,   0.,   0.,\n",
              "           0.,   0.,   0.,   0.],\n",
              "        [  0.,   0.,   0.,   0.,   0.,   0.,   0.,   0.,   0.,   0.,   0.,   0.,\n",
              "           0.,   0.,   0.,   0.,   0.,   0.,   0.,   0.,   0.,   0.,   0.,   0.,\n",
              "           0.,   0.,   0.,   0.]])"
            ]
          },
          "metadata": {},
          "execution_count": 23
        }
      ]
    },
    {
      "cell_type": "markdown",
      "metadata": {
        "id": "vmIvwydEYfzL"
      },
      "source": [
        "Dimensions permutations. The order of the \"columns\" is not the one useful for our tasks so we need to change the order. \n",
        "For instance, images are stored as ```[height, width, channel]``` tensors, but PyTorch prefers to deal with these in a ```[channel, height, width ] order```\n",
        "\n",
        "```\n",
        "permute() \n",
        "```"
      ]
    },
    {
      "cell_type": "code",
      "metadata": {
        "colab": {
          "base_uri": "https://localhost:8080/"
        },
        "id": "f9awYd1YRyas",
        "outputId": "7197ec25-cdf0-4fe9-af7e-8b6c975daa92"
      },
      "source": [
        "hwc_tensor = torch.rand(643,232,9)\n",
        "chw_tensor = hwc_tensor.permute(2,0,1)\n",
        "print('Shape of hwc tensor {}',hwc_tensor.shape)\n",
        "print('Shape of chw tensor {}',chw_tensor.shape)"
      ],
      "execution_count": 25,
      "outputs": [
        {
          "output_type": "stream",
          "name": "stdout",
          "text": [
            "Shape of hwc tensor {} torch.Size([643, 232, 9])\n",
            "Shape of chw tensor {} torch.Size([9, 643, 232])\n"
          ]
        }
      ]
    },
    {
      "cell_type": "markdown",
      "metadata": {
        "id": "UxnUPHmmZkBV"
      },
      "source": [
        "Slice on tensors to access certain elements of the data structrure"
      ]
    },
    {
      "cell_type": "code",
      "source": [
        "selected_part[num_index].numpy()"
      ],
      "metadata": {
        "id": "OYl7mphX5enO",
        "outputId": "866c7903-3e6d-403e-fd69-bb0d0d7f1a40",
        "colab": {
          "base_uri": "https://localhost:8080/"
        }
      },
      "execution_count": 28,
      "outputs": [
        {
          "output_type": "execute_result",
          "data": {
            "text/plain": [
              "array([[  0.,   0.,   0.,   0.,   0.,   0.,   0.,   0.,   0.,   0.,   0.,\n",
              "          0.,   0.,   0.,   0.,   0.,   0.,   0.,   0.,   0.,   0.,   0.,\n",
              "          0.,   0.,   0.,   0.,   0.,   0.],\n",
              "       [  0.,   0.,   0.,   0.,   0.,   0.,   0.,   0.,   0.,   0.,   0.,\n",
              "          0.,   0.,   0.,   0.,   0.,   0.,   0.,   0.,   0.,   0.,   0.,\n",
              "          0.,   0.,   0.,   0.,   0.,   0.],\n",
              "       [  0.,   0.,   0.,   0.,   0.,   0.,   0.,   0.,   0.,   0.,   0.,\n",
              "          0.,   0.,   0.,   0.,   0.,   0.,   0.,   0.,   0.,   0.,   0.,\n",
              "          0.,   0.,   0.,   0.,   0.,   0.],\n",
              "       [  0.,   0.,   0.,   0.,   0.,   0.,   0.,   0.,   0.,   0.,   0.,\n",
              "          0.,   0.,   0.,   0.,   0.,   0.,   0.,   0.,   0.,   0.,   0.,\n",
              "          0.,   0.,   0.,   0.,   0.,   0.],\n",
              "       [  0.,   0.,   0.,   0.,   0.,   0.,   0.,   0.,   0.,   0.,   0.,\n",
              "          0.,   0.,   0.,   0.,   0.,   0.,   0.,  11., 106., 239.,  32.,\n",
              "          0.,   0.,   0.,   0.,   0.,   0.],\n",
              "       [  0.,   0.,   0.,   0.,   0.,   0.,   0.,   0.,   0.,   0.,   0.,\n",
              "          0.,   0.,   0.,   0.,   6.,  77., 161., 214., 253., 247.,  28.,\n",
              "          0.,   0.,   0.,   0.,   0.,   0.],\n",
              "       [  0.,   0.,   0.,   0.,   0.,   0.,   0.,   0.,   0.,   0.,   0.,\n",
              "          0.,   0.,   3.,  58., 200., 253., 253., 239., 247., 118.,   0.,\n",
              "          0.,   0.,   0.,   0.,   0.,   0.],\n",
              "       [  0.,   0.,   0.,   0.,   0.,   0.,   0.,   0.,   0.,   0.,   0.,\n",
              "          0.,  60., 200., 253., 253., 152., 126., 240.,  92.,   0.,   0.,\n",
              "          0.,   0.,   0.,   0.,   0.,   0.],\n",
              "       [  0.,   0.,   0.,   0.,   0.,   0.,   0.,   0.,   0.,   0.,  55.,\n",
              "        203., 252., 254., 183.,  30.,  92., 243., 114.,   0.,   0.,   0.,\n",
              "          0.,   0.,   0.,   0.,   0.,   0.],\n",
              "       [  0.,   0.,   0.,   0.,   0.,   0.,   0.,   0.,   0.,  27., 239.,\n",
              "        254., 189.,  50.,   0.,  68., 244.,  90.,   0.,   0.,   0.,   0.,\n",
              "          0.,   0.,   0.,   0.,   0.,   0.]], dtype=float32)"
            ]
          },
          "metadata": {},
          "execution_count": 28
        }
      ]
    },
    {
      "cell_type": "code",
      "metadata": {
        "colab": {
          "base_uri": "https://localhost:8080/",
          "height": 471
        },
        "id": "mQLxbX7JRyX2",
        "outputId": "5d3091d8-7b00-43b1-be1f-2d2cf58aa2cf"
      },
      "source": [
        "'''\n",
        "Take the ten first lines for all the images\n",
        "'''\n",
        "\n",
        "print('the shape is {}'.format(x_train_tensor_reshaped.size()))\n",
        "\n",
        "selected_part = x_train_tensor_reshaped[:,:10,:]\n",
        "\n",
        "print('the shape of the cropped tensor is {}'.format(selected_part.size()))\n",
        "\n",
        "fig, axes = plt.subplots(8,8,figsize=(8,8))\n",
        "for i in range(8):\n",
        "    for j in range(8):\n",
        "        num_index = np.random.randint(len(selected_part))\n",
        "        axes[i,j].imshow(selected_part[num_index].numpy(), cmap=\"gray\")\n",
        "        axes[i,j].axis(\"off\")\n",
        "plt.show() "
      ],
      "execution_count": 27,
      "outputs": [
        {
          "output_type": "stream",
          "name": "stdout",
          "text": [
            "the shape is torch.Size([50000, 28, 28])\n",
            "the shape of the cropped tensor is torch.Size([50000, 10, 28])\n"
          ]
        },
        {
          "output_type": "display_data",
          "data": {
            "text/plain": [
              "<Figure size 576x576 with 64 Axes>"
            ],
            "image/png": "[encoded data removed]"
          },
          "metadata": {
            "needs_background": "light"
          }
        }
      ]
    },
    {
      "cell_type": "markdown",
      "metadata": {
        "id": "GjCRQKQY_rWm"
      },
      "source": [
        "Numpy iteroperability: \n",
        "- From ```Tensor``` to ```numpy.array```\n",
        "- From ```numpy.array``` to ```Tensor```"
      ]
    },
    {
      "cell_type": "code",
      "metadata": {
        "colab": {
          "base_uri": "https://localhost:8080/"
        },
        "id": "LX3T67ja_p1M",
        "outputId": "3c1933fa-aff7-40f2-d429-07f34f7e48b7"
      },
      "source": [
        "points = torch.zeros(3,4)\n",
        "points_np = points.numpy()\n",
        "\n",
        "print('Type points: {}'.format(type(points)))\n",
        "print('Type points_np: {}'.format(type(points_np)))\n",
        "\n",
        "new_points = torch.from_numpy(points_np)\n",
        "print('Type new_points: {}'.format(type(new_points)))\n"
      ],
      "execution_count": 29,
      "outputs": [
        {
          "output_type": "stream",
          "name": "stdout",
          "text": [
            "Type points: <class 'torch.Tensor'>\n",
            "Type points_np: <class 'numpy.ndarray'>\n",
            "Type new_points: <class 'torch.Tensor'>\n"
          ]
        }
      ]
    },
    {
      "cell_type": "markdown",
      "metadata": {
        "id": "xeyEWf_JETYE"
      },
      "source": [
        "# Our first Neural Network in this class :-) \n",
        "\n",
        "- prepare the data for pytorch ```Dataset``` and ```DataLoader```\n",
        "- create the network, loss, optimizer\n",
        "- training \n"
      ]
    },
    {
      "cell_type": "markdown",
      "metadata": {
        "id": "-E76Q_tOCjHS"
      },
      "source": [
        "PyTorch has developed standard conventions of interacting with data that make it fairly consistent to work with, whether you are working with images, text, or audio\n",
        "\n",
        "\n",
        "```Dataset``` and ```DataLoader``` are two classes used to create the data in the format needed for PyTorch.\n",
        "\n",
        "- ```Dataset``` is a python class that allows us to get at the data we are supplying to the neural network \n",
        "- ```DataLoader``` is what feeds data from the dataset into the network "
      ]
    },
    {
      "cell_type": "markdown",
      "metadata": {
        "id": "ppZO80xIHmYJ"
      },
      "source": [
        "Every dataset, no matter whether it includes images, audio, text, etc, can interact with PyTorch if it satisfies this abstract Python class: \n",
        "\n",
        "```python\n",
        "class Dataset(object):\n",
        "  def __getitem__(self,index):\n",
        "    raise NotImplementedError\n",
        "  def __len__(self):\n",
        "    raise NotImplementedError\n",
        "```\n",
        "\n",
        "We have to implement a method that returns the size of our dataset (```len```), and implement a method that can retrieve an item from our dataset in a (*label,tensor*) pair.\n",
        "\n",
        "The dataset is called, then by the data loader and it pushes data into the the network.\n",
        "\n",
        "It is possible to use the class ```TensorDataset```\n",
        "\n",
        "There are also some package that help us on do it, for instance: \n",
        "```torchvision``` with ImageFolder, ```torchtext```. \n",
        "\n",
        "[torchvision](https://pytorch.org/vision/stable/index.html)\n",
        "\n",
        "[torchtext](https://pytorch.org/text/stable/index.html)\n",
        "\n",
        "\n"
      ]
    },
    {
      "cell_type": "markdown",
      "metadata": {
        "id": "FFJNPK0eYKqq"
      },
      "source": [
        "## Classification"
      ]
    },
    {
      "cell_type": "code",
      "metadata": {
        "id": "frK0wby5lhM9"
      },
      "source": [
        "from torch.utils.data import TensorDataset\n",
        "from torch.utils.data import DataLoader\n",
        "\n",
        "batch_size = 32 \n",
        "train_ds = TensorDataset(x_train_tensor, y_train_tensor)\n",
        "train_dl = DataLoader(\n",
        "    train_ds, batch_size=batch_size, shuffle=True)\n",
        "\n",
        "val_ds = TensorDataset(x_val_tensor, y_val_tensor)\n",
        "val_dl = DataLoader(\n",
        "    val_ds, batch_size=batch_size, shuffle=True)\n",
        "\n",
        "\n",
        "test_ds = TensorDataset(x_test_tensor, y_test_tensor)\n",
        "test_dl = DataLoader(test_ds, batch_size=batch_size)\n"
      ],
      "execution_count": 30,
      "outputs": []
    },
    {
      "cell_type": "code",
      "metadata": {
        "id": "3Sk_YxGeMQhM"
      },
      "source": [
        "from torch.utils.data import Dataset, DataLoader\n",
        "class imageDataset(Dataset):\n",
        "    \n",
        "    def __init__(self, X_data, y_data):\n",
        "        self.X_data = X_data\n",
        "        self.y_data = y_data\n",
        "        \n",
        "    def __getitem__(self, index):\n",
        "        return self.X_data[index], self.y_data[index]\n",
        "        \n",
        "    def __len__ (self):\n",
        "        return len(self.X_data)\n",
        " "
      ],
      "execution_count": 31,
      "outputs": []
    },
    {
      "cell_type": "code",
      "metadata": {
        "id": "l8Y6k6AHMgNJ"
      },
      "source": [
        "train_ds = imageDataset(x_train_tensor, y_train_tensor)\n",
        "train_dl = DataLoader(\n",
        "    train_ds, batch_size=batch_size, shuffle=True)\n"
      ],
      "execution_count": 32,
      "outputs": []
    },
    {
      "cell_type": "markdown",
      "metadata": {
        "id": "fy_MEOL7C20C"
      },
      "source": [
        "The definition of a network uses the ```nn.Module``` of pytorch. \n",
        "\n",
        "```Linear``` defines the structure of each layer\n",
        "```forward``` defines how the data should flow across the different layers of the network\n",
        "```relu``` is the activation function\n",
        "\n",
        "For each layer we define the size of the input and the output.\n",
        "For instance, the first layer takes in input the same shape of the MINST images. Then, it passes the dato to a 200 nodes.\n",
        "\n",
        "The latest layer returns an output equal to the number of classes. \n",
        "\n",
        "To understand which is the predicted class we need to take the ```argmax()``` of the output, such as the index of max score assigned to each instance by the network. "
      ]
    },
    {
      "cell_type": "code",
      "metadata": {
        "id": "xz26ffVjhxYE"
      },
      "source": [
        "class SimpleNet(nn.Module):\n",
        "\n",
        "    def __init__(self):\n",
        "        super(SimpleNet, self).__init__()\n",
        "        self.fc1 = nn.Linear(784, 200)\n",
        "        self.fc2 = nn.Linear(200, 50)\n",
        "        self.fc3 = nn.Linear(50,10)\n",
        "    \n",
        "    def forward(self, x):\n",
        "        x = F.relu(self.fc1(x))\n",
        "        x = F.relu(self.fc2(x))\n",
        "        x = self.fc3(x)\n",
        "        return x"
      ],
      "execution_count": 33,
      "outputs": []
    },
    {
      "cell_type": "code",
      "metadata": {
        "id": "FrZAZFYCjyVh"
      },
      "source": [
        "'''\n",
        "create an instance of the network\n",
        "'''\n",
        "simplenet = SimpleNet()"
      ],
      "execution_count": 34,
      "outputs": []
    },
    {
      "cell_type": "code",
      "source": [
        "simplenet.state_dict()"
      ],
      "metadata": {
        "id": "owLn1PHJ_L5K",
        "outputId": "196b7f36-0d81-40ff-bd39-69e61d75678a",
        "colab": {
          "base_uri": "https://localhost:8080/"
        }
      },
      "execution_count": 36,
      "outputs": [
        {
          "output_type": "execute_result",
          "data": {
            "text/plain": [
              "OrderedDict([('fc1.weight',\n",
              "              tensor([[ 0.0047, -0.0175, -0.0103,  ..., -0.0176,  0.0329, -0.0088],\n",
              "                      [ 0.0215, -0.0178, -0.0282,  ...,  0.0300, -0.0178, -0.0248],\n",
              "                      [ 0.0340,  0.0051, -0.0134,  ...,  0.0331,  0.0357,  0.0140],\n",
              "                      ...,\n",
              "                      [-0.0146, -0.0079,  0.0330,  ..., -0.0119,  0.0295,  0.0085],\n",
              "                      [-0.0340, -0.0088,  0.0080,  ..., -0.0216, -0.0287,  0.0026],\n",
              "                      [ 0.0111, -0.0121,  0.0040,  ...,  0.0186, -0.0223,  0.0104]])),\n",
              "             ('fc1.bias',\n",
              "              tensor([-7.9632e-05, -3.3924e-02, -1.6556e-02,  9.8940e-03, -2.3546e-02,\n",
              "                      -3.7341e-03,  3.4136e-02, -1.9240e-02,  5.5281e-03, -1.8755e-02,\n",
              "                      -9.7128e-03,  3.0217e-04,  9.5748e-03,  4.8329e-03, -4.8238e-03,\n",
              "                      -1.3295e-02,  1.0451e-02,  7.1106e-03,  6.0579e-03,  1.9461e-02,\n",
              "                      -8.8607e-03,  3.4409e-02, -3.9675e-03, -1.0685e-03,  2.9557e-02,\n",
              "                       3.2887e-02,  1.2474e-02, -2.8570e-02,  1.3731e-02, -3.2154e-03,\n",
              "                       1.7891e-02, -3.5042e-02,  9.0710e-03, -8.7797e-03,  9.7344e-03,\n",
              "                      -2.9546e-02, -2.4447e-02, -8.0065e-03, -3.2624e-03,  2.8078e-02,\n",
              "                      -2.0581e-02, -8.9414e-03,  1.1049e-03, -3.2053e-02,  3.2092e-02,\n",
              "                      -2.8913e-02, -5.8701e-04, -1.2095e-02,  3.4989e-02,  1.4971e-02,\n",
              "                      -2.3424e-02, -3.4616e-02, -1.1652e-02, -3.4823e-02,  3.5602e-02,\n",
              "                      -1.0233e-03, -2.8166e-03, -3.5610e-02,  1.1957e-02,  4.1247e-03,\n",
              "                      -3.0590e-02, -1.2735e-02, -6.0814e-03,  2.9916e-02,  2.2538e-02,\n",
              "                      -8.1367e-03,  2.8422e-02,  2.2192e-02,  1.7480e-02,  2.8616e-02,\n",
              "                      -2.3948e-02, -8.8160e-03,  1.9001e-02,  2.7010e-02,  2.0058e-02,\n",
              "                      -2.9768e-02,  2.6282e-02, -1.3517e-02, -1.0206e-02,  1.2001e-02,\n",
              "                      -8.2274e-03,  1.5617e-02,  2.9820e-02, -3.0557e-02,  3.2754e-02,\n",
              "                      -2.4107e-02,  6.8839e-03, -2.1701e-03,  1.5826e-02, -6.7453e-03,\n",
              "                       3.2214e-02,  1.3204e-02,  2.3159e-02, -3.4854e-02, -3.2563e-02,\n",
              "                       1.5011e-02, -9.2285e-03, -2.8161e-02,  2.5226e-02, -2.4270e-02,\n",
              "                      -9.6480e-03, -1.8603e-02,  2.8087e-02, -1.2277e-02, -2.1946e-02,\n",
              "                       2.4112e-03,  1.4760e-02,  3.2929e-02,  1.6372e-02, -1.9884e-03,\n",
              "                      -3.2215e-02,  2.2916e-02, -2.5791e-02,  2.2926e-02, -2.6738e-02,\n",
              "                       2.7740e-02,  2.2462e-02,  1.1931e-02, -1.1972e-02, -2.1843e-02,\n",
              "                       1.2655e-02,  1.8315e-02, -9.5230e-04, -3.8972e-03, -3.1708e-02,\n",
              "                      -5.8744e-03,  2.1811e-02,  2.0537e-02, -1.5366e-02,  5.7889e-03,\n",
              "                      -2.0486e-02, -2.1489e-02,  1.6006e-02,  9.7290e-03, -6.5262e-03,\n",
              "                       1.8015e-02, -3.9442e-03, -1.8248e-02, -2.1698e-02,  4.6245e-03,\n",
              "                       1.9166e-02,  3.0090e-02,  7.1699e-03, -1.0966e-02,  1.6080e-02,\n",
              "                       1.4729e-02, -2.7024e-02,  1.5075e-02,  9.2760e-03, -2.0292e-02,\n",
              "                      -9.0357e-03,  2.9556e-02, -7.6280e-03,  2.5441e-02,  7.8212e-03,\n",
              "                       7.9632e-03,  1.4727e-02, -2.9784e-02, -3.1943e-02, -1.3852e-02,\n",
              "                      -3.4594e-02, -7.1986e-03, -2.6137e-02,  1.0039e-03, -1.9026e-04,\n",
              "                       2.0064e-02, -2.2856e-02, -2.6278e-02,  5.8688e-03,  2.7740e-02,\n",
              "                       3.3372e-02, -1.6591e-02,  1.7093e-02, -8.9458e-03,  2.6617e-02,\n",
              "                      -2.4830e-02,  6.7442e-03,  5.7003e-03,  1.1055e-02, -3.0397e-02,\n",
              "                      -2.6855e-02, -2.8706e-02, -1.9626e-02, -3.4690e-02,  2.7033e-04,\n",
              "                      -2.7563e-03, -1.6760e-02, -2.5946e-02,  1.3499e-02,  7.1518e-03,\n",
              "                       2.8941e-02,  1.6571e-02,  2.0221e-03, -1.1094e-02, -1.0123e-02,\n",
              "                       1.8887e-02, -2.9171e-02,  2.2612e-02, -2.3880e-02,  1.1251e-02])),\n",
              "             ('fc2.weight',\n",
              "              tensor([[ 0.0387,  0.0445,  0.0702,  ..., -0.0304,  0.0588,  0.0049],\n",
              "                      [-0.0500, -0.0519, -0.0326,  ...,  0.0600,  0.0377, -0.0513],\n",
              "                      [-0.0495, -0.0212, -0.0288,  ...,  0.0229, -0.0510, -0.0468],\n",
              "                      ...,\n",
              "                      [-0.0580,  0.0248, -0.0054,  ...,  0.0514,  0.0143,  0.0306],\n",
              "                      [-0.0359,  0.0148, -0.0328,  ..., -0.0171,  0.0198, -0.0676],\n",
              "                      [ 0.0435, -0.0342,  0.0118,  ...,  0.0478,  0.0344,  0.0454]])),\n",
              "             ('fc2.bias',\n",
              "              tensor([-0.0592, -0.0415,  0.0373, -0.0313,  0.0319,  0.0265,  0.0356,  0.0433,\n",
              "                      -0.0403,  0.0409, -0.0284, -0.0540,  0.0098, -0.0644, -0.0430,  0.0587,\n",
              "                      -0.0098, -0.0115,  0.0355,  0.0699,  0.0552,  0.0025,  0.0579, -0.0257,\n",
              "                       0.0402,  0.0332,  0.0602,  0.0702,  0.0463, -0.0425, -0.0299, -0.0103,\n",
              "                      -0.0082,  0.0388, -0.0095, -0.0080, -0.0331,  0.0545, -0.0406, -0.0561,\n",
              "                       0.0328, -0.0350, -0.0033, -0.0038,  0.0314, -0.0614,  0.0181,  0.0328,\n",
              "                       0.0613, -0.0569])),\n",
              "             ('fc3.weight',\n",
              "              tensor([[ 9.6681e-02, -9.2334e-02, -6.3832e-02,  9.5741e-02,  3.0043e-02,\n",
              "                        9.8802e-02, -6.1534e-02,  1.0723e-01,  6.2962e-02,  7.5981e-02,\n",
              "                        1.2556e-01, -9.2416e-02, -2.0535e-02,  5.7030e-02,  4.6459e-02,\n",
              "                       -1.4066e-01,  1.3283e-01,  6.4003e-02,  7.9690e-02,  6.6054e-02,\n",
              "                        4.7670e-02, -3.0975e-02,  1.8630e-02, -5.3728e-03, -6.1226e-02,\n",
              "                       -1.2670e-01, -1.5229e-02,  1.0286e-01, -5.6734e-03,  7.3105e-03,\n",
              "                        9.6400e-02,  1.6264e-02,  9.1647e-02, -6.9162e-03, -1.8875e-02,\n",
              "                        1.2389e-01, -3.6526e-02, -3.0136e-02, -1.4133e-01,  1.0878e-01,\n",
              "                        1.1292e-01,  3.7079e-02, -1.8824e-02,  6.6780e-03,  1.1416e-01,\n",
              "                        6.1988e-02,  1.2062e-01,  8.6815e-03,  1.0658e-01,  1.1305e-01],\n",
              "                      [ 1.0815e-01, -6.2345e-02, -1.3576e-01, -1.2571e-01, -2.4304e-02,\n",
              "                        1.9788e-02, -1.4133e-01, -1.2326e-01,  1.2731e-01,  9.1638e-02,\n",
              "                        9.1023e-02, -1.2114e-02, -4.1057e-02,  9.5666e-02,  1.2169e-01,\n",
              "                        4.0017e-02, -8.0641e-02, -3.1394e-03, -1.2590e-01,  7.9070e-03,\n",
              "                       -9.5025e-02,  1.9886e-02,  1.2470e-01, -6.8118e-02, -1.0398e-02,\n",
              "                        1.4108e-01, -1.0402e-01, -9.9637e-02, -8.4312e-02, -1.3497e-01,\n",
              "                        1.3160e-01, -5.7607e-03,  1.1257e-01, -7.3742e-02,  1.4054e-01,\n",
              "                        5.5207e-02,  1.3595e-01, -1.0082e-01, -9.8632e-02, -1.3143e-01,\n",
              "                       -1.4625e-02,  1.1052e-01,  1.0008e-01, -4.1368e-03,  4.8107e-02,\n",
              "                       -3.0240e-02,  6.8363e-02,  1.0992e-01,  3.0162e-02,  1.3643e-01],\n",
              "                      [ 6.1454e-03,  3.6055e-02, -1.3391e-02, -1.0782e-01,  9.7005e-02,\n",
              "                       -5.5189e-02,  4.8321e-02, -1.3017e-01,  1.0791e-01, -1.3344e-01,\n",
              "                       -7.6527e-03, -9.9690e-02, -9.4094e-02, -9.5331e-02,  5.5903e-02,\n",
              "                        1.0405e-03,  9.3869e-02, -1.5128e-02,  5.1946e-02, -9.8499e-02,\n",
              "                       -1.2952e-01,  7.4652e-02,  8.1317e-02,  4.9666e-02,  7.8071e-02,\n",
              "                       -1.6360e-02, -7.5209e-02,  1.3839e-01,  1.0756e-01,  3.8809e-02,\n",
              "                       -5.5365e-02,  1.5052e-02,  1.1726e-01,  3.2253e-02,  1.1627e-01,\n",
              "                        6.2309e-02, -8.9550e-02,  7.9702e-02,  1.9985e-02,  8.2631e-02,\n",
              "                       -3.0271e-02, -4.7650e-02,  8.1577e-02, -1.1265e-01, -1.2448e-01,\n",
              "                        1.1516e-01, -6.5813e-02, -3.8002e-02, -2.9174e-02,  3.0203e-02],\n",
              "                      [-9.5397e-02, -3.6737e-02, -1.1280e-01, -1.1783e-01,  6.0723e-02,\n",
              "                       -3.6600e-02, -1.7537e-02, -4.1932e-02, -7.8615e-02, -1.1139e-01,\n",
              "                       -8.7911e-02, -1.1095e-01,  2.3397e-02, -7.1878e-02, -8.6236e-02,\n",
              "                       -9.1283e-02, -1.0288e-01,  1.2258e-01,  1.6285e-02, -5.1857e-02,\n",
              "                       -3.7887e-02, -2.4622e-04,  1.2382e-01,  1.0461e-01, -2.0953e-02,\n",
              "                       -1.3646e-01, -3.8550e-02,  2.4681e-02,  2.7470e-02,  1.3333e-01,\n",
              "                        1.2044e-01, -1.3721e-01,  3.8670e-02, -6.0406e-02, -1.3711e-01,\n",
              "                       -1.2201e-01,  3.9231e-02, -1.1971e-01,  6.5334e-02, -1.4417e-02,\n",
              "                       -1.1814e-01,  2.9871e-02, -8.6077e-02,  1.2372e-01, -3.7362e-02,\n",
              "                       -6.6209e-02,  2.9229e-02, -7.5117e-02, -2.8988e-03, -1.2067e-01],\n",
              "                      [ 2.2632e-02, -2.7817e-02, -9.5235e-02, -1.0369e-01,  8.5290e-02,\n",
              "                        1.1418e-01,  1.1401e-01, -5.0361e-02, -1.0852e-01, -1.3250e-01,\n",
              "                       -1.1944e-01,  1.4288e-02,  4.9727e-02,  9.0419e-02,  8.2337e-02,\n",
              "                        1.9272e-02, -1.1228e-01, -1.0390e-01,  2.3857e-02, -1.2494e-01,\n",
              "                        2.8519e-02,  1.0295e-01, -1.3074e-02,  1.1343e-01,  6.6488e-02,\n",
              "                       -2.4422e-02, -4.1537e-02, -1.3009e-01,  6.3514e-04, -5.8921e-05,\n",
              "                        5.5958e-02,  6.8199e-02,  9.7412e-02,  3.8166e-02,  7.2655e-02,\n",
              "                       -1.8354e-02, -1.3210e-01,  1.1135e-01,  6.9424e-02, -9.2663e-02,\n",
              "                       -5.3352e-02, -8.8497e-02, -1.1277e-01, -1.3710e-01, -2.0940e-02,\n",
              "                        6.0165e-02,  3.9662e-04, -1.3749e-01, -9.2769e-02, -1.7611e-02],\n",
              "                      [-2.3473e-03,  9.5156e-02,  5.0773e-02,  1.1301e-01,  1.7804e-02,\n",
              "                        9.4346e-02,  2.8925e-02, -9.9090e-03, -7.4300e-02,  3.5910e-02,\n",
              "                        1.1726e-01, -6.3855e-02, -5.8932e-02, -4.7153e-02, -1.3946e-01,\n",
              "                       -4.2110e-02, -1.0698e-01, -1.3114e-01,  2.5870e-02,  6.1139e-02,\n",
              "                        9.2575e-02, -1.0962e-01, -1.3712e-01,  1.4116e-01, -1.3210e-01,\n",
              "                        4.0950e-02, -7.0299e-03, -1.3857e-01, -5.9277e-02, -1.0698e-01,\n",
              "                        1.3538e-01, -8.6814e-02,  5.0069e-02, -1.2506e-01, -1.0700e-01,\n",
              "                       -7.7904e-02,  2.1828e-02,  2.6825e-02, -1.0876e-02, -9.6014e-02,\n",
              "                       -1.3649e-01,  1.2734e-01,  7.0751e-02,  8.6768e-02,  4.0671e-02,\n",
              "                       -8.3447e-02,  8.9956e-03,  7.9134e-02, -5.7336e-02,  1.2962e-01],\n",
              "                      [ 2.2707e-02,  1.1417e-01,  3.4713e-02, -7.2240e-02, -9.2233e-02,\n",
              "                        9.1943e-02, -9.4270e-02, -1.0703e-01, -1.8428e-02, -1.1997e-01,\n",
              "                        7.9293e-02, -1.1460e-02,  1.0318e-01, -3.9402e-02,  1.1135e-01,\n",
              "                        4.1026e-02,  8.1792e-02,  1.1121e-01,  1.0928e-01, -7.1249e-02,\n",
              "                       -2.2519e-02, -1.3276e-01, -2.4301e-02,  2.3022e-02,  2.0167e-02,\n",
              "                       -5.2896e-02, -1.3295e-01,  8.4284e-03,  7.3398e-02, -7.7274e-02,\n",
              "                       -1.2482e-01,  6.0438e-02,  6.2506e-02,  8.8660e-02, -3.7408e-02,\n",
              "                       -1.2557e-01,  1.4140e-01, -7.8149e-02,  1.0426e-01,  7.7811e-03,\n",
              "                       -3.6207e-02,  7.9437e-02, -1.1209e-01, -1.2813e-01,  1.1924e-02,\n",
              "                       -8.6638e-02, -1.2862e-02,  1.1117e-01, -6.4863e-02, -4.5961e-02],\n",
              "                      [ 8.4424e-02,  8.8719e-03,  8.3684e-02, -4.5380e-02, -7.6468e-02,\n",
              "                       -1.0241e-01, -1.2916e-01, -3.9001e-02, -6.8029e-02,  1.6260e-02,\n",
              "                        6.7224e-02,  9.6111e-02,  8.9572e-02, -1.2089e-01,  1.0534e-01,\n",
              "                        4.4277e-02, -5.9157e-02,  1.2963e-01,  6.1290e-02, -4.6901e-02,\n",
              "                       -7.3708e-02, -3.9016e-02, -1.2511e-01, -9.4311e-04,  1.0211e-01,\n",
              "                       -2.2598e-02,  5.9953e-03, -1.1962e-01, -1.8942e-02, -6.5238e-02,\n",
              "                       -8.0831e-02, -5.9777e-02,  7.8277e-02, -7.5515e-02, -4.6629e-02,\n",
              "                        1.3588e-01, -3.6488e-02,  1.2595e-01,  1.1109e-01, -6.8844e-02,\n",
              "                        4.5745e-04, -6.5764e-02,  4.1670e-02, -5.1851e-02, -7.3437e-02,\n",
              "                        4.9260e-02, -3.1542e-02,  1.2457e-01,  5.9707e-02, -3.8148e-02],\n",
              "                      [-1.2593e-01,  1.4835e-02, -4.1693e-02,  2.0827e-02,  9.0282e-03,\n",
              "                       -7.6345e-02, -4.4684e-02,  5.7003e-02,  1.2773e-01, -8.6101e-02,\n",
              "                        1.3324e-01,  9.7742e-02,  1.0464e-01, -3.0153e-02, -3.8101e-02,\n",
              "                        2.4862e-02, -3.1833e-02,  7.6071e-02,  1.2375e-01,  6.9366e-02,\n",
              "                       -1.3508e-01,  1.7370e-02,  7.0647e-02, -9.9773e-02, -6.8246e-02,\n",
              "                       -1.2933e-01, -1.3312e-01,  6.5766e-03,  1.1113e-01,  3.9456e-02,\n",
              "                        1.1479e-01,  6.1404e-02, -1.3277e-01,  9.1233e-02,  3.6067e-02,\n",
              "                       -1.2784e-01,  1.2786e-01,  3.0493e-02,  4.9946e-02, -3.5693e-02,\n",
              "                       -9.5016e-03, -2.9693e-02, -1.3391e-02,  1.2769e-01, -3.8949e-02,\n",
              "                       -1.0219e-01, -9.7352e-02,  7.1282e-02,  1.0251e-01,  2.0567e-02],\n",
              "                      [ 1.6036e-02, -6.0858e-02, -9.7923e-02, -6.8353e-02, -3.0999e-03,\n",
              "                       -5.5629e-02,  8.6144e-02,  1.0453e-01, -9.5466e-02, -1.9228e-02,\n",
              "                        3.0393e-02, -1.1308e-01,  1.0117e-01, -1.2333e-01, -1.3378e-01,\n",
              "                       -6.1109e-02,  9.4526e-02,  1.0899e-01, -6.8739e-03, -7.2708e-03,\n",
              "                       -8.3746e-02,  2.2950e-02,  1.3596e-01, -3.7640e-02,  4.4302e-02,\n",
              "                       -1.2657e-01, -4.7180e-02,  4.6682e-02, -1.0536e-01, -3.2523e-02,\n",
              "                        1.1850e-01,  1.3964e-01,  3.7437e-02, -6.9022e-03, -7.0071e-02,\n",
              "                       -1.7889e-02, -1.3824e-01, -3.3498e-03,  8.3696e-02, -1.0421e-01,\n",
              "                        3.6582e-02,  6.7914e-02,  1.3424e-01,  1.9637e-02,  3.9277e-02,\n",
              "                       -1.0124e-01,  5.0108e-02,  1.2816e-01, -1.3983e-02,  8.7747e-02]])),\n",
              "             ('fc3.bias',\n",
              "              tensor([-0.0747, -0.1089, -0.0864, -0.1121,  0.0626, -0.0601, -0.0662,  0.1232,\n",
              "                      -0.0701, -0.0593]))])"
            ]
          },
          "metadata": {},
          "execution_count": 36
        }
      ]
    },
    {
      "cell_type": "code",
      "metadata": {
        "id": "IMCjaOMFkMGU"
      },
      "source": [
        "'''\n",
        "Definition of an optimizer, in this case we select the Adam optimizer\n",
        "Another possible optimizer is the SGD that is possibile to select from \n",
        "the same class optim\n",
        "'''\n",
        "optimizer = optim.Adam(simplenet.parameters(), lr=0.001)\n",
        "optimizer_regr = optim.SGD(simplenet.parameters(),lr=0.0001)"
      ],
      "execution_count": 38,
      "outputs": []
    },
    {
      "cell_type": "code",
      "metadata": {
        "id": "2cNo6C_fkSWI"
      },
      "source": [
        "'''\n",
        "And then, we need a definition of the loss. \n",
        "Also in this case, we can select one of those made available by pytorch\n",
        "For regression, for instance we could select the MSELoss\n",
        "'''\n",
        "loss = nn.CrossEntropyLoss()\n",
        "loss_regression = nn.MSELoss()"
      ],
      "execution_count": 37,
      "outputs": []
    },
    {
      "cell_type": "code",
      "metadata": {
        "id": "dOFlaTSwlPLd"
      },
      "source": [
        "'''\n",
        "Let's put everything together. \n",
        "The network, the optimizer and the loss inside a training loop, using the DataLoader\n",
        "objects that we have already created.\n",
        "'''\n",
        "\n",
        "'''\n",
        "Note: model.train() --> the model is set on training mode, where the weights and biases \n",
        "are adjusted using the training instance passed in batches.\n",
        "'''\n",
        "\n",
        "\n",
        "'''\n",
        "Note: model.eval() --> when we evaluate the model on the validation set.\n",
        "'''\n",
        "\n",
        "'''\n",
        "This function with some refinements can be used for any model, the training process\n",
        "is really similar, it might change few details\n",
        "'''\n",
        "\n",
        "def train(model, optimizer, loss_fn, train_loader, val_loader, epochs=20, device=\"cpu\"):\n",
        "    model.to(device)\n",
        "    for epoch in range(1, epochs+1):\n",
        "        training_loss = 0.0\n",
        "        valid_loss = 0.0\n",
        "        model.train() #train status for the mode\n",
        "        for batch in train_loader:\n",
        "            optimizer.zero_grad() # clear gradients for next train\n",
        "            inputs, targets = batch\n",
        "            inputs = inputs.to(device)\n",
        "            targets = targets.to(device)\n",
        "            output = model(inputs)\n",
        "            loss = loss_fn(output, targets)\n",
        "            loss.backward() # backpropagation, compute gradients\n",
        "            optimizer.step() # apply gradients\n",
        "            training_loss += loss.data.item() * inputs.size(0)\n",
        "            # print(training_loss,loss.data.item(),inputs.size(0))\n",
        "        training_loss /= len(train_loader.dataset)\n",
        "        \n",
        "        with torch.no_grad(): # we are not updating the model\n",
        "          model.eval() #the status of the model is in eval\n",
        "          num_correct = 0 \n",
        "          num_examples = 0\n",
        "          for batch in val_loader:\n",
        "              inputs, targets = batch\n",
        "              inputs = inputs.to(device)\n",
        "              output = model(inputs)\n",
        "              targets = targets.to(device)\n",
        "              loss = loss_fn(output,targets) \n",
        "              valid_loss += loss.data.item() * inputs.size(0)\n",
        "              correct = torch.eq(torch.max(F.softmax(output, dim=1), dim=1)[1], targets)\n",
        "              num_correct += torch.sum(correct).item()\n",
        "              num_examples += correct.shape[0]\n",
        "          valid_loss /= len(val_loader.dataset)\n",
        "\n",
        "        print('Epoch: {}, Training Loss: {:.4f}, Validation Loss: {:.4f}, accuracy = {:.4f}'.format(epoch, training_loss,\n",
        "        valid_loss, num_correct / num_examples))"
      ],
      "execution_count": 39,
      "outputs": []
    },
    {
      "cell_type": "markdown",
      "metadata": {
        "id": "6PpDyKHaNSXf"
      },
      "source": [
        "1. In each epoch:\n",
        "  \n",
        "  a. we take a batch $b$ from our training set\n",
        "  \n",
        "  b. we pass $b$ to our model and we compute the loss from the $output$\n",
        "  \n",
        "  c. to compute the gradients, we call ```backward()```\n",
        "  \n",
        "  d. the ```optimizer.step()``` method uses those gradients afterward to perform the adjustments of the weights\n",
        "\n",
        "```zero_grad()``` it is used to make sure that gradients are not influeced by previous batches. \n"
      ]
    },
    {
      "cell_type": "code",
      "metadata": {
        "colab": {
          "base_uri": "https://localhost:8080/"
        },
        "id": "1O3xvPgPOdxX",
        "outputId": "74a5b86c-e987-439d-952b-71d8d7e90133"
      },
      "source": [
        "'''\n",
        "How to move the model to cuda (if available)\n",
        "'''\n",
        "\n",
        "if torch.cuda.is_available():\n",
        "  device = torch.device('cuda')\n",
        "else:\n",
        "  device = torch.device('cpu')\n",
        "\n",
        "simplenet.to(device)\n"
      ],
      "execution_count": 40,
      "outputs": [
        {
          "output_type": "execute_result",
          "data": {
            "text/plain": [
              "SimpleNet(\n",
              "  (fc1): Linear(in_features=784, out_features=200, bias=True)\n",
              "  (fc2): Linear(in_features=200, out_features=50, bias=True)\n",
              "  (fc3): Linear(in_features=50, out_features=10, bias=True)\n",
              ")"
            ]
          },
          "metadata": {},
          "execution_count": 40
        }
      ]
    },
    {
      "cell_type": "code",
      "metadata": {
        "colab": {
          "base_uri": "https://localhost:8080/"
        },
        "id": "V4QyMukOlTSK",
        "outputId": "d29e9444-8990-4afd-c75e-b6e2cb255625"
      },
      "source": [
        "train(simplenet, optimizer,torch.nn.CrossEntropyLoss(), train_dl,val_dl, epochs=5)"
      ],
      "execution_count": 41,
      "outputs": [
        {
          "output_type": "stream",
          "name": "stdout",
          "text": [
            "Epoch: 1, Training Loss: 0.3474, Validation Loss: 0.1648, accuracy = 0.9500\n",
            "Epoch: 2, Training Loss: 0.1598, Validation Loss: 0.1576, accuracy = 0.9562\n",
            "Epoch: 3, Training Loss: 0.1317, Validation Loss: 0.1311, accuracy = 0.9633\n",
            "Epoch: 4, Training Loss: 0.1116, Validation Loss: 0.1802, accuracy = 0.9549\n",
            "Epoch: 5, Training Loss: 0.1020, Validation Loss: 0.1513, accuracy = 0.9643\n"
          ]
        }
      ]
    },
    {
      "cell_type": "code",
      "metadata": {
        "id": "UVKCBda4lodb",
        "colab": {
          "base_uri": "https://localhost:8080/",
          "height": 1000
        },
        "outputId": "0dddd741-0c4f-4705-9793-0e01fde0d7da"
      },
      "source": [
        "with torch.no_grad():\n",
        "  simplenet.eval() # we move to eval state, since we don't need to update the weights and biases\n",
        "  for i in range(10):\n",
        "    plt.imshow(x_test_tensor[i].reshape((28,28)), cmap=\"gray\")\n",
        "    plt.title(y_test_tensor[i])\n",
        "    plt.show()\n",
        "    print(\"All the scores: {}\".format(simplenet(x_test_tensor[i].float())))\n",
        "    print(\"The max score: {}\".format(simplenet(x_test_tensor[i].float()).max()))\n",
        "    print(\"The index of the max score: {}\".format(simplenet(x_test_tensor[i].float()).argmax()))"
      ],
      "execution_count": 42,
      "outputs": [
        {
          "output_type": "display_data",
          "data": {
            "text/plain": [
              "<Figure size 432x288 with 1 Axes>"
            ],
            "image/png": "[encoded data removed]"
          },
          "metadata": {
            "needs_background": "light"
          }
        },
        {
          "output_type": "stream",
          "name": "stdout",
          "text": [
            "All the scores: tensor([-7.1289,  4.6135,  8.6002,  6.8165, 10.0383, -1.4849, -1.6476, 31.3526,\n",
            "        -2.5486, 17.0994])\n",
            "The max score: 31.352602005004883\n",
            "The index of the max score: 7\n"
          ]
        },
        {
          "output_type": "display_data",
          "data": {
            "text/plain": [
              "<Figure size 432x288 with 1 Axes>"
            ],
            "image/png": "[encoded data removed]"
          },
          "metadata": {
            "needs_background": "light"
          }
        },
        {
          "output_type": "stream",
          "name": "stdout",
          "text": [
            "All the scores: tensor([-1.9780, 11.6635, 20.8372, 10.3212, -0.1026,  3.1126,  2.0975, 10.0183,\n",
            "         4.8203, -3.6197])\n",
            "The max score: 20.837173461914062\n",
            "The index of the max score: 2\n"
          ]
        },
        {
          "output_type": "display_data",
          "data": {
            "text/plain": [
              "<Figure size 432x288 with 1 Axes>"
            ],
            "image/png": "[encoded data removed]"
          },
          "metadata": {
            "needs_background": "light"
          }
        },
        {
          "output_type": "stream",
          "name": "stdout",
          "text": [
            "All the scores: tensor([-0.9139, 14.6236,  1.3951, -5.6918,  1.9603, -3.3316,  2.4529, -3.0090,\n",
            "         4.7921,  2.8415])\n",
            "The max score: 14.623605728149414\n",
            "The index of the max score: 1\n"
          ]
        },
        {
          "output_type": "display_data",
          "data": {
            "text/plain": [
              "<Figure size 432x288 with 1 Axes>"
            ],
            "image/png": "[encoded data removed]"
          },
          "metadata": {
            "needs_background": "light"
          }
        },
        {
          "output_type": "stream",
          "name": "stdout",
          "text": [
            "All the scores: tensor([12.8623, -6.1425,  3.9497,  1.8131, -4.5204, -1.8682,  1.7420,  1.4743,\n",
            "        -0.2646,  0.4888])\n",
            "The max score: 12.862256050109863\n",
            "The index of the max score: 0\n"
          ]
        },
        {
          "output_type": "display_data",
          "data": {
            "text/plain": [
              "<Figure size 432x288 with 1 Axes>"
            ],
            "image/png": "[encoded data removed]"
          },
          "metadata": {
            "needs_background": "light"
          }
        },
        {
          "output_type": "stream",
          "name": "stdout",
          "text": [
            "All the scores: tensor([-7.8577, -9.7810,  1.4619, -7.4063, 17.4047, -2.9222, -5.7003, -3.1333,\n",
            "        -5.5576,  5.3242])\n",
            "The max score: 17.404714584350586\n",
            "The index of the max score: 4\n"
          ]
        },
        {
          "output_type": "display_data",
          "data": {
            "text/plain": [
              "<Figure size 432x288 with 1 Axes>"
            ],
            "image/png": "[encoded data removed]"
          },
          "metadata": {
            "needs_background": "light"
          }
        },
        {
          "output_type": "stream",
          "name": "stdout",
          "text": [
            "All the scores: tensor([-1.9564, 14.4457,  0.4517, -6.4342,  2.3331, -4.2179,  0.5044, -4.8647,\n",
            "         4.6134,  2.8129])\n",
            "The max score: 14.4456787109375\n",
            "The index of the max score: 1\n"
          ]
        },
        {
          "output_type": "display_data",
          "data": {
            "text/plain": [
              "<Figure size 432x288 with 1 Axes>"
            ],
            "image/png": "[encoded data removed]"
          },
          "metadata": {
            "needs_background": "light"
          }
        },
        {
          "output_type": "stream",
          "name": "stdout",
          "text": [
            "All the scores: tensor([-11.3325,  -3.6076,  -3.7006, -10.4858,  12.0081,  -4.5586,  -5.3784,\n",
            "         -6.6397,   0.7054,   1.0840])\n",
            "The max score: 12.008061408996582\n",
            "The index of the max score: 4\n"
          ]
        },
        {
          "output_type": "display_data",
          "data": {
            "text/plain": [
              "<Figure size 432x288 with 1 Axes>"
            ],
            "image/png": "[encoded data removed]"
          },
          "metadata": {
            "needs_background": "light"
          }
        },
        {
          "output_type": "stream",
          "name": "stdout",
          "text": [
            "All the scores: tensor([ -8.5690, -11.4369,  -0.2024,   2.8435,  -4.1109,   2.0330, -12.4867,\n",
            "          1.2696,  -4.9399,   6.9212])\n",
            "The max score: 6.921244144439697\n",
            "The index of the max score: 9\n"
          ]
        },
        {
          "output_type": "display_data",
          "data": {
            "text/plain": [
              "<Figure size 432x288 with 1 Axes>"
            ],
            "image/png": "[encoded data removed]"
          },
          "metadata": {
            "needs_background": "light"
          }
        },
        {
          "output_type": "stream",
          "name": "stdout",
          "text": [
            "All the scores: tensor([-3.8779,  0.8934, -2.1354,  3.7613, -2.4320, 13.7295,  7.4530, -5.1378,\n",
            "         2.5070,  4.8730])\n",
            "The max score: 13.729510307312012\n",
            "The index of the max score: 5\n"
          ]
        },
        {
          "output_type": "display_data",
          "data": {
            "text/plain": [
              "<Figure size 432x288 with 1 Axes>"
            ],
            "image/png": "[encoded data removed]"
          },
          "metadata": {
            "needs_background": "light"
          }
        },
        {
          "output_type": "stream",
          "name": "stdout",
          "text": [
            "All the scores: tensor([-13.3174,   1.3286,   5.6547,   8.7964,  14.5529,   5.0519, -10.6587,\n",
            "         13.4461,  10.8850,  29.2734])\n",
            "The max score: 29.273357391357422\n",
            "The index of the max score: 9\n"
          ]
        }
      ]
    },
    {
      "cell_type": "markdown",
      "metadata": {
        "id": "cZt1GghRYPzV"
      },
      "source": [
        "## Methods to find the best **Learning Rate**\n",
        "- gridsearch: use different learning rate values, and verify which is the best parameters configuration w.r.t. a certain error measure\n",
        "- Over the course of an epoch start out with a small learning rate and increase it to higher values over each batch. At the end of the epoch the learning rate will be high. We compute the ```loss``` for each rate. \n",
        "\n",
        "Then find in a plot (learning_rate, loss) the learning rate that gives the greatest decline."
      ]
    },
    {
      "cell_type": "code",
      "metadata": {
        "id": "KjQn5AaUuBne"
      },
      "source": [
        "def find_lr(model, loss_fn, optimizer, train_loader,init_value = 1e-8, final_value=1, device=\"cpu\"):\n",
        "    number_in_epoch = len(train_loader) - 1\n",
        "    update_step = (final_value / init_value) ** (1 / number_in_epoch)\n",
        "    lr = init_value\n",
        "    optimizer.param_groups[0][\"lr\"] = lr\n",
        "    training_loss = 0.0\n",
        "    best_loss = 0.0\n",
        "    batch_num = 0\n",
        "    losses = []\n",
        "    log_lrs = []\n",
        "    model.train()\n",
        "    for data in train_loader:\n",
        "      # print('Batch number: {}'.format(batch_num))\n",
        "      batch_num += 1\n",
        "      inputs, targets = data\n",
        "      inputs = inputs.to(device)\n",
        "      targets = targets.to(device)\n",
        "      optimizer.zero_grad()\n",
        "      outputs = model(inputs)\n",
        "      loss = loss_fn(outputs, targets)\n",
        "      # print(loss)\n",
        "      # Crash out if loss explodes\n",
        "\n",
        "      if batch_num > 1 and loss > 10 * best_loss:\n",
        "        print('Exploded current loss: {} best_loss: {}'.format(loss,best_loss))\n",
        "        return log_lrs, losses\n",
        "\n",
        "      # Record the best loss\n",
        "\n",
        "      if loss < best_loss or batch_num == 1:\n",
        "          best_loss = loss\n",
        "\n",
        "      # Store the values\n",
        "      losses.append(loss.item())\n",
        "      log_lrs.append((lr))\n",
        "\n",
        "      # Do the backward pass and optimize\n",
        "\n",
        "      loss.backward()\n",
        "      optimizer.step()\n",
        "\n",
        "        # Update the lr for the next step and store\n",
        "\n",
        "      lr *= update_step\n",
        "      optimizer.param_groups[0][\"lr\"] = lr\n",
        "    \n",
        "    print(len(log_lrs),len(losses))\n",
        "    if len(log_lrs) > 20:\n",
        "      print(len(log_lrs),len(losses))\n",
        "      return log_lrs[10:-5], losses[10:-5]\n",
        "    else:\n",
        "      return log_lrs, losses\n"
      ],
      "execution_count": 43,
      "outputs": []
    },
    {
      "cell_type": "code",
      "metadata": {
        "colab": {
          "base_uri": "https://localhost:8080/"
        },
        "id": "8lI9Q7ggwBXi",
        "outputId": "5d2cf964-3405-4178-d0ec-cb4f20fd1a87"
      },
      "source": [
        "#load the data again just to be sure what we are using\n",
        "batch_size = 128\n",
        "train_ds = TensorDataset(x_train_tensor, y_train_tensor)\n",
        "train_dl = DataLoader(\n",
        "    train_ds, batch_size=batch_size, shuffle=True)\n",
        "\n",
        "simplenet = SimpleNet()\n",
        "optimizer = optim.Adam(simplenet.parameters(), lr=0.001)\n",
        "(lrs, losses) = find_lr(simplenet, torch.nn.CrossEntropyLoss(), optimizer, train_dl,device='cpu')\n"
      ],
      "execution_count": 44,
      "outputs": [
        {
          "output_type": "stream",
          "name": "stdout",
          "text": [
            "Exploded current loss: 2.323704957962036 best_loss: 0.21150825917720795\n"
          ]
        }
      ]
    },
    {
      "cell_type": "code",
      "metadata": {
        "colab": {
          "base_uri": "https://localhost:8080/",
          "height": 290
        },
        "id": "ivg8q6idzKOM",
        "outputId": "34c849d1-2678-4e9a-85d3-5916f68428eb"
      },
      "source": [
        "plt.plot(lrs, losses,)\n",
        "\n",
        "plt.xscale(\"log\")\n",
        "plt.xlabel(\"Learning rate\")\n",
        "plt.ylabel(\"Loss\")\n",
        "plt.show()"
      ],
      "execution_count": 45,
      "outputs": [
        {
          "output_type": "display_data",
          "data": {
            "text/plain": [
              "<Figure size 432x288 with 1 Axes>"
            ],
            "image/png": "[encoded data removed]"
          },
          "metadata": {
            "needs_background": "light"
          }
        }
      ]
    },
    {
      "cell_type": "markdown",
      "metadata": {
        "id": "EQBjzv1BHX2u"
      },
      "source": [
        "## Regression\n",
        "Let's try now with a regression problem\n",
        "\n",
        "we will use the wine quality data and try to regress on the quality"
      ]
    },
    {
      "cell_type": "code",
      "metadata": {
        "colab": {
          "base_uri": "https://localhost:8080/",
          "height": 206
        },
        "id": "4kdO4OnvMGmb",
        "outputId": "658d1681-00a8-4779-c624-441c11aa92cb"
      },
      "source": [
        "path_github = 'https://raw.githubusercontent.com/fpinell/hands_on_python_for_ds/main/data/winequality-white.csv'\n",
        "df = pd.read_csv(path_github,sep=';')\n",
        "df.head()\n"
      ],
      "execution_count": 46,
      "outputs": [
        {
          "output_type": "execute_result",
          "data": {
            "text/plain": [
              "   fixed acidity  volatile acidity  citric acid  residual sugar  chlorides  \\\n",
              "0            7.0              0.27         0.36            20.7      0.045   \n",
              "1            6.3              0.30         0.34             1.6      0.049   \n",
              "2            8.1              0.28         0.40             6.9      0.050   \n",
              "3            7.2              0.23         0.32             8.5      0.058   \n",
              "4            7.2              0.23         0.32             8.5      0.058   \n",
              "\n",
              "   free sulfur dioxide  total sulfur dioxide  density    pH  sulphates  \\\n",
              "0                 45.0                 170.0   1.0010  3.00       0.45   \n",
              "1                 14.0                 132.0   0.9940  3.30       0.49   \n",
              "2                 30.0                  97.0   0.9951  3.26       0.44   \n",
              "3                 47.0                 186.0   0.9956  3.19       0.40   \n",
              "4                 47.0                 186.0   0.9956  3.19       0.40   \n",
              "\n",
              "   alcohol  quality  \n",
              "0      8.8        6  \n",
              "1      9.5        6  \n",
              "2     10.1        6  \n",
              "3      9.9        6  \n",
              "4      9.9        6  "
            ],
            "text/html": [
              "\n",
              "  <div id=\"df-1fbc48f5-95aa-4ad9-9c2b-52207943a6d1\">\n",
              "    <div class=\"colab-df-container\">\n",
              "      <div>\n",
              "<style scoped>\n",
              "    .dataframe tbody tr th:only-of-type {\n",
              "        vertical-align: middle;\n",
              "    }\n",
              "\n",
              "    .dataframe tbody tr th {\n",
              "        vertical-align: top;\n",
              "    }\n",
              "\n",
              "    .dataframe thead th {\n",
              "        text-align: right;\n",
              "    }\n",
              "</style>\n",
              "<table border=\"1\" class=\"dataframe\">\n",
              "  <thead>\n",
              "    <tr style=\"text-align: right;\">\n",
              "      <th></th>\n",
              "      <th>fixed acidity</th>\n",
              "      <th>volatile acidity</th>\n",
              "      <th>citric acid</th>\n",
              "      <th>residual sugar</th>\n",
              "      <th>chlorides</th>\n",
              "      <th>free sulfur dioxide</th>\n",
              "      <th>total sulfur dioxide</th>\n",
              "      <th>density</th>\n",
              "      <th>pH</th>\n",
              "      <th>sulphates</th>\n",
              "      <th>alcohol</th>\n",
              "      <th>quality</th>\n",
              "    </tr>\n",
              "  </thead>\n",
              "  <tbody>\n",
              "    <tr>\n",
              "      <th>0</th>\n",
              "      <td>7.0</td>\n",
              "      <td>0.27</td>\n",
              "      <td>0.36</td>\n",
              "      <td>20.7</td>\n",
              "      <td>0.045</td>\n",
              "      <td>45.0</td>\n",
              "      <td>170.0</td>\n",
              "      <td>1.0010</td>\n",
              "      <td>3.00</td>\n",
              "      <td>0.45</td>\n",
              "      <td>8.8</td>\n",
              "      <td>6</td>\n",
              "    </tr>\n",
              "    <tr>\n",
              "      <th>1</th>\n",
              "      <td>6.3</td>\n",
              "      <td>0.30</td>\n",
              "      <td>0.34</td>\n",
              "      <td>1.6</td>\n",
              "      <td>0.049</td>\n",
              "      <td>14.0</td>\n",
              "      <td>132.0</td>\n",
              "      <td>0.9940</td>\n",
              "      <td>3.30</td>\n",
              "      <td>0.49</td>\n",
              "      <td>9.5</td>\n",
              "      <td>6</td>\n",
              "    </tr>\n",
              "    <tr>\n",
              "      <th>2</th>\n",
              "      <td>8.1</td>\n",
              "      <td>0.28</td>\n",
              "      <td>0.40</td>\n",
              "      <td>6.9</td>\n",
              "      <td>0.050</td>\n",
              "      <td>30.0</td>\n",
              "      <td>97.0</td>\n",
              "      <td>0.9951</td>\n",
              "      <td>3.26</td>\n",
              "      <td>0.44</td>\n",
              "      <td>10.1</td>\n",
              "      <td>6</td>\n",
              "    </tr>\n",
              "    <tr>\n",
              "      <th>3</th>\n",
              "      <td>7.2</td>\n",
              "      <td>0.23</td>\n",
              "      <td>0.32</td>\n",
              "      <td>8.5</td>\n",
              "      <td>0.058</td>\n",
              "      <td>47.0</td>\n",
              "      <td>186.0</td>\n",
              "      <td>0.9956</td>\n",
              "      <td>3.19</td>\n",
              "      <td>0.40</td>\n",
              "      <td>9.9</td>\n",
              "      <td>6</td>\n",
              "    </tr>\n",
              "    <tr>\n",
              "      <th>4</th>\n",
              "      <td>7.2</td>\n",
              "      <td>0.23</td>\n",
              "      <td>0.32</td>\n",
              "      <td>8.5</td>\n",
              "      <td>0.058</td>\n",
              "      <td>47.0</td>\n",
              "      <td>186.0</td>\n",
              "      <td>0.9956</td>\n",
              "      <td>3.19</td>\n",
              "      <td>0.40</td>\n",
              "      <td>9.9</td>\n",
              "      <td>6</td>\n",
              "    </tr>\n",
              "  </tbody>\n",
              "</table>\n",
              "</div>\n",
              "      <button class=\"colab-df-convert\" onclick=\"convertToInteractive('df-1fbc48f5-95aa-4ad9-9c2b-52207943a6d1')\"\n",
              "              title=\"Convert this dataframe to an interactive table.\"\n",
              "              style=\"display:none;\">\n",
              "        \n",
              "  <svg xmlns=\"http://www.w3.org/2000/svg\" height=\"24px\"viewBox=\"0 0 24 24\"\n",
              "       width=\"24px\">\n",
              "    <path d=\"M0 0h24v24H0V0z\" fill=\"none\"/>\n",
              "    <path d=\"M18.56 5.44l.94 2.06.94-2.06 2.06-.94-2.06-.94-.94-2.06-.94 2.06-2.06.94zm-11 1L8.5 8.5l.94-2.06 2.06-.94-2.06-.94L8.5 2.5l-.94 2.06-2.06.94zm10 10l.94 2.06.94-2.06 2.06-.94-2.06-.94-.94-2.06-.94 2.06-2.06.94z\"/><path d=\"M17.41 7.96l-1.37-1.37c-.4-.4-.92-.59-1.43-.59-.52 0-1.04.2-1.43.59L10.3 9.45l-7.72 7.72c-.78.78-.78 2.05 0 2.83L4 21.41c.39.39.9.59 1.41.59.51 0 1.02-.2 1.41-.59l7.78-7.78 2.81-2.81c.8-.78.8-2.07 0-2.86zM5.41 20L4 18.59l7.72-7.72 1.47 1.35L5.41 20z\"/>\n",
              "  </svg>\n",
              "      </button>\n",
              "      \n",
              "  <style>\n",
              "    .colab-df-container {\n",
              "      display:flex;\n",
              "      flex-wrap:wrap;\n",
              "      gap: 12px;\n",
              "    }\n",
              "\n",
              "    .colab-df-convert {\n",
              "      background-color: #E8F0FE;\n",
              "      border: none;\n",
              "      border-radius: 50%;\n",
              "      cursor: pointer;\n",
              "      display: none;\n",
              "      fill: #1967D2;\n",
              "      height: 32px;\n",
              "      padding: 0 0 0 0;\n",
              "      width: 32px;\n",
              "    }\n",
              "\n",
              "    .colab-df-convert:hover {\n",
              "      background-color: #E2EBFA;\n",
              "      box-shadow: 0px 1px 2px rgba(60, 64, 67, 0.3), 0px 1px 3px 1px rgba(60, 64, 67, 0.15);\n",
              "      fill: #174EA6;\n",
              "    }\n",
              "\n",
              "    [theme=dark] .colab-df-convert {\n",
              "      background-color: #3B4455;\n",
              "      fill: #D2E3FC;\n",
              "    }\n",
              "\n",
              "    [theme=dark] .colab-df-convert:hover {\n",
              "      background-color: #434B5C;\n",
              "      box-shadow: 0px 1px 3px 1px rgba(0, 0, 0, 0.15);\n",
              "      filter: drop-shadow(0px 1px 2px rgba(0, 0, 0, 0.3));\n",
              "      fill: #FFFFFF;\n",
              "    }\n",
              "  </style>\n",
              "\n",
              "      <script>\n",
              "        const buttonEl =\n",
              "          document.querySelector('#df-1fbc48f5-95aa-4ad9-9c2b-52207943a6d1 button.colab-df-convert');\n",
              "        buttonEl.style.display =\n",
              "          google.colab.kernel.accessAllowed ? 'block' : 'none';\n",
              "\n",
              "        async function convertToInteractive(key) {\n",
              "          const element = document.querySelector('#df-1fbc48f5-95aa-4ad9-9c2b-52207943a6d1');\n",
              "          const dataTable =\n",
              "            await google.colab.kernel.invokeFunction('convertToInteractive',\n",
              "                                                     [key], {});\n",
              "          if (!dataTable) return;\n",
              "\n",
              "          const docLinkHtml = 'Like what you see? Visit the ' +\n",
              "            '<a target=\"_blank\" href=https://colab.research.google.com/notebooks/data_table.ipynb>data table notebook</a>'\n",
              "            + ' to learn more about interactive tables.';\n",
              "          element.innerHTML = '';\n",
              "          dataTable['output_type'] = 'display_data';\n",
              "          await google.colab.output.renderOutput(dataTable, element);\n",
              "          const docLink = document.createElement('div');\n",
              "          docLink.innerHTML = docLinkHtml;\n",
              "          element.appendChild(docLink);\n",
              "        }\n",
              "      </script>\n",
              "    </div>\n",
              "  </div>\n",
              "  "
            ]
          },
          "metadata": {},
          "execution_count": 46
        }
      ]
    },
    {
      "cell_type": "code",
      "metadata": {
        "colab": {
          "base_uri": "https://localhost:8080/"
        },
        "id": "Rkzfh9VcVTbu",
        "outputId": "ae8fe8b3-ec50-4ec9-884a-6f2650f069d5"
      },
      "source": [
        "df.info()"
      ],
      "execution_count": 41,
      "outputs": [
        {
          "output_type": "stream",
          "name": "stdout",
          "text": [
            "<class 'pandas.core.frame.DataFrame'>\n",
            "RangeIndex: 4898 entries, 0 to 4897\n",
            "Data columns (total 12 columns):\n",
            " #   Column                Non-Null Count  Dtype  \n",
            "---  ------                --------------  -----  \n",
            " 0   fixed acidity         4898 non-null   float64\n",
            " 1   volatile acidity      4898 non-null   float64\n",
            " 2   citric acid           4898 non-null   float64\n",
            " 3   residual sugar        4898 non-null   float64\n",
            " 4   chlorides             4898 non-null   float64\n",
            " 5   free sulfur dioxide   4898 non-null   float64\n",
            " 6   total sulfur dioxide  4898 non-null   float64\n",
            " 7   density               4898 non-null   float64\n",
            " 8   pH                    4898 non-null   float64\n",
            " 9   sulphates             4898 non-null   float64\n",
            " 10  alcohol               4898 non-null   float64\n",
            " 11  quality               4898 non-null   int64  \n",
            "dtypes: float64(11), int64(1)\n",
            "memory usage: 459.3 KB\n"
          ]
        }
      ]
    },
    {
      "cell_type": "code",
      "metadata": {
        "colab": {
          "base_uri": "https://localhost:8080/",
          "height": 286
        },
        "id": "u5JJp1Tdc2ku",
        "outputId": "73f7d7b3-6073-4b0f-b519-c595123c4b5c"
      },
      "source": [
        "import seaborn as sns\n",
        "\n",
        "sns.countplot(x = 'quality', data=df)\n",
        "\n",
        "X = df.iloc[:, 0:-1]\n",
        "y = df.iloc[:, -1]"
      ],
      "execution_count": 48,
      "outputs": [
        {
          "output_type": "display_data",
          "data": {
            "text/plain": [
              "<Figure size 432x288 with 1 Axes>"
            ],
            "image/png": "[encoded data removed]"
          },
          "metadata": {
            "needs_background": "light"
          }
        }
      ]
    },
    {
      "cell_type": "code",
      "metadata": {
        "id": "DznAmk5mfu3W"
      },
      "source": [
        "from sklearn.model_selection import train_test_split\n",
        "\n",
        "# Train - Test\n",
        "X_trainval, X_test, y_trainval, y_test = train_test_split(X, y, test_size=0.2, random_state=69)\n",
        "# Split train into train-val\n",
        "X_train, X_val, y_train, y_val = train_test_split(X_trainval, y_trainval, test_size=0.1, random_state=21)\n"
      ],
      "execution_count": 49,
      "outputs": []
    },
    {
      "cell_type": "code",
      "metadata": {
        "id": "ZeH9B5jhf6xu"
      },
      "source": [
        "from sklearn.preprocessing import MinMaxScaler\n",
        "scaler = MinMaxScaler() # scaling the data\n",
        "X_train = scaler.fit_transform(X_train)\n",
        "X_val = scaler.transform(X_val)\n",
        "X_test = scaler.transform(X_test)\n",
        "X_train, y_train = np.array(X_train), np.array(y_train)\n",
        "X_val, y_val = np.array(X_val), np.array(y_val)\n",
        "X_test, y_test = np.array(X_test), np.array(y_test)"
      ],
      "execution_count": 50,
      "outputs": []
    },
    {
      "cell_type": "code",
      "metadata": {
        "id": "5sdbg5Nyf_hG"
      },
      "source": [
        "y_train, y_test, y_val = y_train.astype(float), y_test.astype(float), y_val.astype(float)\n"
      ],
      "execution_count": 51,
      "outputs": []
    },
    {
      "cell_type": "code",
      "metadata": {
        "id": "Ij_kB38zgKrl"
      },
      "source": [
        "import torch\n",
        "import torch.nn as nn\n",
        "import torch.optim as optim\n",
        "from torch.utils.data import Dataset, DataLoader\n",
        "class RegressionDataset(Dataset):\n",
        "    \n",
        "    def __init__(self, X_data, y_data):\n",
        "        self.X_data = X_data\n",
        "        self.y_data = y_data\n",
        "        \n",
        "    def __getitem__(self, index):\n",
        "        return self.X_data[index], self.y_data[index]\n",
        "        \n",
        "    def __len__ (self):\n",
        "        return len(self.X_data)\n"
      ],
      "execution_count": 53,
      "outputs": []
    },
    {
      "cell_type": "code",
      "metadata": {
        "id": "SJNJ1tqGVtdJ"
      },
      "source": [
        "train_dataset = RegressionDataset(torch.from_numpy(X_train).float(), torch.from_numpy(y_train).float())\n",
        "val_dataset = RegressionDataset(torch.from_numpy(X_val).float(), torch.from_numpy(y_val).float())\n",
        "test_dataset = RegressionDataset(torch.from_numpy(X_test).float(), torch.from_numpy(y_test).float())"
      ],
      "execution_count": 54,
      "outputs": []
    },
    {
      "cell_type": "code",
      "metadata": {
        "colab": {
          "base_uri": "https://localhost:8080/"
        },
        "id": "u3eL2nEwg05k",
        "outputId": "fbf26dc5-745f-4bc1-f9c2-c84dab973d3f"
      },
      "source": [
        "print(\"The type of train_dataset is? {}\".format(type(train_dataset)))"
      ],
      "execution_count": 48,
      "outputs": [
        {
          "output_type": "stream",
          "name": "stdout",
          "text": [
            "The type of train_dataset is? <class '__main__.RegressionDataset'>\n"
          ]
        }
      ]
    },
    {
      "cell_type": "code",
      "metadata": {
        "id": "yUaCDvdKgmak"
      },
      "source": [
        "EPOCHS = 150\n",
        "BATCH_SIZE = 64\n",
        "LEARNING_RATE = 0.001\n",
        "NUM_FEATURES = X.shape[1]"
      ],
      "execution_count": 55,
      "outputs": []
    },
    {
      "cell_type": "code",
      "metadata": {
        "id": "5o1AwYLZgm2l"
      },
      "source": [
        "train_loader = DataLoader(dataset=train_dataset, batch_size=BATCH_SIZE, shuffle=True)\n",
        "val_loader = DataLoader(dataset=val_dataset, batch_size=32)\n",
        "test_loader = DataLoader(dataset=test_dataset, batch_size=1)"
      ],
      "execution_count": 57,
      "outputs": []
    },
    {
      "cell_type": "code",
      "metadata": {
        "colab": {
          "base_uri": "https://localhost:8080/"
        },
        "id": "n19c27JEV_rA",
        "outputId": "7548a968-8c07-488c-e711-3997a3dde28b"
      },
      "source": [
        "print(\"The type of train_dataset is? {}\".format(type(train_loader)))"
      ],
      "execution_count": 58,
      "outputs": [
        {
          "output_type": "stream",
          "name": "stdout",
          "text": [
            "The type of train_dataset is? <class 'torch.utils.data.dataloader.DataLoader'>\n"
          ]
        }
      ]
    },
    {
      "cell_type": "code",
      "metadata": {
        "id": "LZeeZQfahAwW"
      },
      "source": [
        "class MultipleRegression(nn.Module):\n",
        "    def __init__(self, num_features):\n",
        "        super(MultipleRegression, self).__init__()\n",
        "        \n",
        "        self.layer_1 = nn.Linear(num_features, 16)\n",
        "        self.layer_2 = nn.Linear(16, 32)\n",
        "        self.layer_3 = nn.Linear(32, 16)\n",
        "        self.layer_out = nn.Linear(16, 1)\n",
        "        \n",
        "        self.relu = nn.ReLU()\n",
        "    \n",
        "    def forward(self, inputs):\n",
        "        x = self.relu(self.layer_1(inputs))\n",
        "        x = self.relu(self.layer_2(x))\n",
        "        x = self.relu(self.layer_3(x))\n",
        "        x = self.layer_out(x)\n",
        "        return (x)\n",
        "    \n",
        "    def predict(self, test_inputs):\n",
        "        x = self.relu(self.layer_1(test_inputs))\n",
        "        x = self.relu(self.layer_2(x))\n",
        "        x = self.relu(self.layer_3(x))\n",
        "        x = self.layer_out(x)\n",
        "        return (x)"
      ],
      "execution_count": 61,
      "outputs": []
    },
    {
      "cell_type": "code",
      "metadata": {
        "colab": {
          "base_uri": "https://localhost:8080/"
        },
        "id": "D6cL3PE2hM-m",
        "outputId": "e04a7946-9900-4c6b-c70b-50d438c20012"
      },
      "source": [
        "model = MultipleRegression(NUM_FEATURES)\n",
        "# model.to(device)\n",
        "print(model)\n",
        "criterion = nn.MSELoss()\n",
        "optimizer = optim.Adam(model.parameters(), lr=LEARNING_RATE)\n"
      ],
      "execution_count": 62,
      "outputs": [
        {
          "output_type": "stream",
          "name": "stdout",
          "text": [
            "MultipleRegression(\n",
            "  (layer_1): Linear(in_features=11, out_features=16, bias=True)\n",
            "  (layer_2): Linear(in_features=16, out_features=32, bias=True)\n",
            "  (layer_3): Linear(in_features=32, out_features=16, bias=True)\n",
            "  (layer_out): Linear(in_features=16, out_features=1, bias=True)\n",
            "  (relu): ReLU()\n",
            ")\n"
          ]
        }
      ]
    },
    {
      "cell_type": "code",
      "metadata": {
        "id": "Bq5WhgCOhaXN"
      },
      "source": [
        "loss_stats = {\n",
        "    'train': [],\n",
        "    \"val\": []\n",
        "}"
      ],
      "execution_count": 63,
      "outputs": []
    },
    {
      "cell_type": "code",
      "metadata": {
        "colab": {
          "base_uri": "https://localhost:8080/"
        },
        "id": "-x4UIUqHq0nT",
        "outputId": "04144b99-9b19-4b11-9dda-09a7fbe9b532"
      },
      "source": [
        "device = torch.device(\"cuda:0\" if torch.cuda.is_available() else \"cpu\")\n",
        "print(device)"
      ],
      "execution_count": 64,
      "outputs": [
        {
          "output_type": "stream",
          "name": "stdout",
          "text": [
            "cpu\n"
          ]
        }
      ]
    },
    {
      "cell_type": "code",
      "metadata": {
        "colab": {
          "base_uri": "https://localhost:8080/"
        },
        "id": "iLOs6LwUhd91",
        "outputId": "bf1adfb9-5869-49fc-ec30-77ee9899c684"
      },
      "source": [
        "model.to(device)\n",
        "print(\"Begin training.\")\n",
        "for e in range(1, EPOCHS+1):\n",
        "    \n",
        "    # TRAINING\n",
        "    train_epoch_loss = 0\n",
        "    model.train()\n",
        "    for X_train_batch, y_train_batch in train_loader:\n",
        "        X_train_batch, y_train_batch = X_train_batch.to(device), y_train_batch.to(device)\n",
        "        optimizer.zero_grad()\n",
        "        \n",
        "        y_train_pred = model(X_train_batch)\n",
        "        \n",
        "        train_loss = criterion(y_train_pred, y_train_batch.reshape(-1,1))\n",
        "        \n",
        "        train_loss.backward()\n",
        "        optimizer.step()\n",
        "        \n",
        "        train_epoch_loss += train_loss.item()\n",
        "    # VALIDATION    \n",
        "    with torch.no_grad():\n",
        "        \n",
        "        val_epoch_loss = 0\n",
        "        \n",
        "        model.eval()\n",
        "        for X_val_batch, y_val_batch in val_loader:\n",
        "            X_val_batch, y_val_batch = X_val_batch.to(device), y_val_batch.to(device)\n",
        "            \n",
        "            y_val_pred = model(X_val_batch)\n",
        "                        \n",
        "            val_loss = criterion(y_val_pred, y_val_batch.unsqueeze(1))\n",
        "            \n",
        "            val_epoch_loss += val_loss.item()\n",
        "        loss_stats['train'].append(train_epoch_loss/len(train_loader))\n",
        "        loss_stats['val'].append(val_epoch_loss/len(val_loader))                              \n",
        "    \n",
        "    print(f'Epoch {e+0:03}: | Train Loss: {train_epoch_loss/len(train_loader):.5f} | Val Loss: {val_epoch_loss/len(val_loader):.5f}')\n"
      ],
      "execution_count": 65,
      "outputs": [
        {
          "output_type": "stream",
          "name": "stdout",
          "text": [
            "Begin training.\n",
            "Epoch 001: | Train Loss: 31.84101 | Val Loss: 23.95271\n",
            "Epoch 002: | Train Loss: 9.16103 | Val Loss: 1.12823\n",
            "Epoch 003: | Train Loss: 0.89320 | Val Loss: 0.79364\n",
            "Epoch 004: | Train Loss: 0.77076 | Val Loss: 0.70612\n",
            "Epoch 005: | Train Loss: 0.69134 | Val Loss: 0.68022\n",
            "Epoch 006: | Train Loss: 0.63050 | Val Loss: 0.66252\n",
            "Epoch 007: | Train Loss: 0.62373 | Val Loss: 0.65005\n",
            "Epoch 008: | Train Loss: 0.60410 | Val Loss: 0.64112\n",
            "Epoch 009: | Train Loss: 0.60362 | Val Loss: 0.63937\n",
            "Epoch 010: | Train Loss: 0.58972 | Val Loss: 0.62635\n",
            "Epoch 011: | Train Loss: 0.61212 | Val Loss: 0.62196\n",
            "Epoch 012: | Train Loss: 0.58859 | Val Loss: 0.61412\n",
            "Epoch 013: | Train Loss: 0.58539 | Val Loss: 0.61815\n",
            "Epoch 014: | Train Loss: 0.57934 | Val Loss: 0.60878\n",
            "Epoch 015: | Train Loss: 0.59526 | Val Loss: 0.61684\n",
            "Epoch 016: | Train Loss: 0.58203 | Val Loss: 0.60602\n",
            "Epoch 017: | Train Loss: 0.58349 | Val Loss: 0.60256\n",
            "Epoch 018: | Train Loss: 0.57739 | Val Loss: 0.61204\n",
            "Epoch 019: | Train Loss: 0.57477 | Val Loss: 0.60180\n",
            "Epoch 020: | Train Loss: 0.56932 | Val Loss: 0.64007\n",
            "Epoch 021: | Train Loss: 0.57418 | Val Loss: 0.60448\n",
            "Epoch 022: | Train Loss: 0.57438 | Val Loss: 0.60276\n",
            "Epoch 023: | Train Loss: 0.56394 | Val Loss: 0.60384\n",
            "Epoch 024: | Train Loss: 0.56954 | Val Loss: 0.59934\n",
            "Epoch 025: | Train Loss: 0.57282 | Val Loss: 0.60081\n",
            "Epoch 026: | Train Loss: 0.56608 | Val Loss: 0.60110\n",
            "Epoch 027: | Train Loss: 0.56833 | Val Loss: 0.59987\n",
            "Epoch 028: | Train Loss: 0.56634 | Val Loss: 0.60184\n",
            "Epoch 029: | Train Loss: 0.56414 | Val Loss: 0.59832\n",
            "Epoch 030: | Train Loss: 0.56240 | Val Loss: 0.60008\n",
            "Epoch 031: | Train Loss: 0.55749 | Val Loss: 0.59537\n",
            "Epoch 032: | Train Loss: 0.56543 | Val Loss: 0.60980\n",
            "Epoch 033: | Train Loss: 0.56580 | Val Loss: 0.60332\n",
            "Epoch 034: | Train Loss: 0.56708 | Val Loss: 0.59809\n",
            "Epoch 035: | Train Loss: 0.56772 | Val Loss: 0.59671\n",
            "Epoch 036: | Train Loss: 0.57433 | Val Loss: 0.60144\n",
            "Epoch 037: | Train Loss: 0.56901 | Val Loss: 0.59669\n",
            "Epoch 038: | Train Loss: 0.56219 | Val Loss: 0.59278\n",
            "Epoch 039: | Train Loss: 0.56030 | Val Loss: 0.62683\n",
            "Epoch 040: | Train Loss: 0.56277 | Val Loss: 0.59518\n",
            "Epoch 041: | Train Loss: 0.56062 | Val Loss: 0.59807\n",
            "Epoch 042: | Train Loss: 0.57124 | Val Loss: 0.59877\n",
            "Epoch 043: | Train Loss: 0.56422 | Val Loss: 0.59667\n",
            "Epoch 044: | Train Loss: 0.56086 | Val Loss: 0.59593\n",
            "Epoch 045: | Train Loss: 0.55567 | Val Loss: 0.59738\n",
            "Epoch 046: | Train Loss: 0.55226 | Val Loss: 0.59589\n",
            "Epoch 047: | Train Loss: 0.55690 | Val Loss: 0.60626\n",
            "Epoch 048: | Train Loss: 0.57577 | Val Loss: 0.59591\n",
            "Epoch 049: | Train Loss: 0.56486 | Val Loss: 0.59509\n",
            "Epoch 050: | Train Loss: 0.56065 | Val Loss: 0.60418\n",
            "Epoch 051: | Train Loss: 0.56062 | Val Loss: 0.60230\n",
            "Epoch 052: | Train Loss: 0.58770 | Val Loss: 0.66853\n",
            "Epoch 053: | Train Loss: 0.58947 | Val Loss: 0.60466\n",
            "Epoch 054: | Train Loss: 0.56256 | Val Loss: 0.60871\n",
            "Epoch 055: | Train Loss: 0.56563 | Val Loss: 0.59420\n",
            "Epoch 056: | Train Loss: 0.55344 | Val Loss: 0.60006\n",
            "Epoch 057: | Train Loss: 0.55931 | Val Loss: 0.59887\n",
            "Epoch 058: | Train Loss: 0.55969 | Val Loss: 0.59936\n",
            "Epoch 059: | Train Loss: 0.55345 | Val Loss: 0.60225\n",
            "Epoch 060: | Train Loss: 0.55790 | Val Loss: 0.59509\n",
            "Epoch 061: | Train Loss: 0.55845 | Val Loss: 0.59617\n",
            "Epoch 062: | Train Loss: 0.55822 | Val Loss: 0.59509\n",
            "Epoch 063: | Train Loss: 0.55991 | Val Loss: 0.59612\n",
            "Epoch 064: | Train Loss: 0.57434 | Val Loss: 0.59814\n",
            "Epoch 065: | Train Loss: 0.56208 | Val Loss: 0.60584\n",
            "Epoch 066: | Train Loss: 0.56700 | Val Loss: 0.59240\n",
            "Epoch 067: | Train Loss: 0.55893 | Val Loss: 0.59536\n",
            "Epoch 068: | Train Loss: 0.55216 | Val Loss: 0.58890\n",
            "Epoch 069: | Train Loss: 0.56164 | Val Loss: 0.60670\n",
            "Epoch 070: | Train Loss: 0.55480 | Val Loss: 0.59672\n",
            "Epoch 071: | Train Loss: 0.55585 | Val Loss: 0.61608\n",
            "Epoch 072: | Train Loss: 0.56390 | Val Loss: 0.59401\n",
            "Epoch 073: | Train Loss: 0.55760 | Val Loss: 0.59816\n",
            "Epoch 074: | Train Loss: 0.55761 | Val Loss: 0.59282\n",
            "Epoch 075: | Train Loss: 0.55842 | Val Loss: 0.59550\n",
            "Epoch 076: | Train Loss: 0.55697 | Val Loss: 0.60931\n",
            "Epoch 077: | Train Loss: 0.56258 | Val Loss: 0.59275\n",
            "Epoch 078: | Train Loss: 0.55313 | Val Loss: 0.58835\n",
            "Epoch 079: | Train Loss: 0.56480 | Val Loss: 0.59397\n",
            "Epoch 080: | Train Loss: 0.56246 | Val Loss: 0.59817\n",
            "Epoch 081: | Train Loss: 0.55365 | Val Loss: 0.58737\n",
            "Epoch 082: | Train Loss: 0.55894 | Val Loss: 0.59357\n",
            "Epoch 083: | Train Loss: 0.55376 | Val Loss: 0.58863\n",
            "Epoch 084: | Train Loss: 0.55143 | Val Loss: 0.59157\n",
            "Epoch 085: | Train Loss: 0.56745 | Val Loss: 0.59585\n",
            "Epoch 086: | Train Loss: 0.56084 | Val Loss: 0.59025\n",
            "Epoch 087: | Train Loss: 0.55797 | Val Loss: 0.58509\n",
            "Epoch 088: | Train Loss: 0.54992 | Val Loss: 0.58900\n",
            "Epoch 089: | Train Loss: 0.55029 | Val Loss: 0.58445\n",
            "Epoch 090: | Train Loss: 0.55399 | Val Loss: 0.58634\n",
            "Epoch 091: | Train Loss: 0.57098 | Val Loss: 0.59112\n",
            "Epoch 092: | Train Loss: 0.55327 | Val Loss: 0.58850\n",
            "Epoch 093: | Train Loss: 0.56150 | Val Loss: 0.59130\n",
            "Epoch 094: | Train Loss: 0.55817 | Val Loss: 0.58350\n",
            "Epoch 095: | Train Loss: 0.56527 | Val Loss: 0.58261\n",
            "Epoch 096: | Train Loss: 0.54973 | Val Loss: 0.59297\n",
            "Epoch 097: | Train Loss: 0.55416 | Val Loss: 0.58235\n",
            "Epoch 098: | Train Loss: 0.55223 | Val Loss: 0.58616\n",
            "Epoch 099: | Train Loss: 0.55906 | Val Loss: 0.58593\n",
            "Epoch 100: | Train Loss: 0.54650 | Val Loss: 0.58919\n",
            "Epoch 101: | Train Loss: 0.54799 | Val Loss: 0.58446\n",
            "Epoch 102: | Train Loss: 0.54874 | Val Loss: 0.59338\n",
            "Epoch 103: | Train Loss: 0.54913 | Val Loss: 0.58427\n",
            "Epoch 104: | Train Loss: 0.54855 | Val Loss: 0.59377\n",
            "Epoch 105: | Train Loss: 0.57027 | Val Loss: 0.60785\n",
            "Epoch 106: | Train Loss: 0.55918 | Val Loss: 0.58204\n",
            "Epoch 107: | Train Loss: 0.54767 | Val Loss: 0.60587\n",
            "Epoch 108: | Train Loss: 0.55375 | Val Loss: 0.57978\n",
            "Epoch 109: | Train Loss: 0.56011 | Val Loss: 0.57925\n",
            "Epoch 110: | Train Loss: 0.55311 | Val Loss: 0.58699\n",
            "Epoch 111: | Train Loss: 0.54522 | Val Loss: 0.58354\n",
            "Epoch 112: | Train Loss: 0.54839 | Val Loss: 0.60337\n",
            "Epoch 113: | Train Loss: 0.58709 | Val Loss: 0.60014\n",
            "Epoch 114: | Train Loss: 0.54858 | Val Loss: 0.57694\n",
            "Epoch 115: | Train Loss: 0.54255 | Val Loss: 0.59150\n",
            "Epoch 116: | Train Loss: 0.54280 | Val Loss: 0.57815\n",
            "Epoch 117: | Train Loss: 0.54151 | Val Loss: 0.58234\n",
            "Epoch 118: | Train Loss: 0.54153 | Val Loss: 0.59861\n",
            "Epoch 119: | Train Loss: 0.54597 | Val Loss: 0.57585\n",
            "Epoch 120: | Train Loss: 0.54457 | Val Loss: 0.58123\n",
            "Epoch 121: | Train Loss: 0.54412 | Val Loss: 0.58847\n",
            "Epoch 122: | Train Loss: 0.54252 | Val Loss: 0.57325\n",
            "Epoch 123: | Train Loss: 0.53541 | Val Loss: 0.56859\n",
            "Epoch 124: | Train Loss: 0.54253 | Val Loss: 0.57365\n",
            "Epoch 125: | Train Loss: 0.54021 | Val Loss: 0.56927\n",
            "Epoch 126: | Train Loss: 0.57046 | Val Loss: 0.57932\n",
            "Epoch 127: | Train Loss: 0.53475 | Val Loss: 0.58825\n",
            "Epoch 128: | Train Loss: 0.54899 | Val Loss: 0.59969\n",
            "Epoch 129: | Train Loss: 0.53885 | Val Loss: 0.57629\n",
            "Epoch 130: | Train Loss: 0.53278 | Val Loss: 0.57842\n",
            "Epoch 131: | Train Loss: 0.53748 | Val Loss: 0.56824\n",
            "Epoch 132: | Train Loss: 0.54130 | Val Loss: 0.57430\n",
            "Epoch 133: | Train Loss: 0.53340 | Val Loss: 0.56405\n",
            "Epoch 134: | Train Loss: 0.54590 | Val Loss: 0.57136\n",
            "Epoch 135: | Train Loss: 0.53633 | Val Loss: 0.57512\n",
            "Epoch 136: | Train Loss: 0.52946 | Val Loss: 0.56937\n",
            "Epoch 137: | Train Loss: 0.53394 | Val Loss: 0.57739\n",
            "Epoch 138: | Train Loss: 0.53765 | Val Loss: 0.57364\n",
            "Epoch 139: | Train Loss: 0.53432 | Val Loss: 0.56029\n",
            "Epoch 140: | Train Loss: 0.53140 | Val Loss: 0.56253\n",
            "Epoch 141: | Train Loss: 0.53422 | Val Loss: 0.57541\n",
            "Epoch 142: | Train Loss: 0.53007 | Val Loss: 0.56792\n",
            "Epoch 143: | Train Loss: 0.53359 | Val Loss: 0.55994\n",
            "Epoch 144: | Train Loss: 0.52680 | Val Loss: 0.56673\n",
            "Epoch 145: | Train Loss: 0.53515 | Val Loss: 0.57050\n",
            "Epoch 146: | Train Loss: 0.53735 | Val Loss: 0.55895\n",
            "Epoch 147: | Train Loss: 0.52907 | Val Loss: 0.56523\n",
            "Epoch 148: | Train Loss: 0.53431 | Val Loss: 0.56467\n",
            "Epoch 149: | Train Loss: 0.52293 | Val Loss: 0.57303\n",
            "Epoch 150: | Train Loss: 0.54060 | Val Loss: 0.57113\n"
          ]
        }
      ]
    },
    {
      "cell_type": "code",
      "metadata": {
        "colab": {
          "base_uri": "https://localhost:8080/",
          "height": 428
        },
        "id": "Sj95w8rvh0Gf",
        "outputId": "37f1c723-0109-4eae-99ea-5259c0495483"
      },
      "source": [
        "train_val_loss_df = pd.DataFrame.from_dict(loss_stats).reset_index().melt(id_vars=['index']).rename(columns={\"index\":\"epochs\"})\n",
        "plt.figure(figsize=(10,6))\n",
        "sns.lineplot(data=train_val_loss_df, x = \"epochs\", y=\"value\", hue=\"variable\").set_title('Train-Val Loss/Epoch')"
      ],
      "execution_count": 66,
      "outputs": [
        {
          "output_type": "execute_result",
          "data": {
            "text/plain": [
              "Text(0.5, 1.0, 'Train-Val Loss/Epoch')"
            ]
          },
          "metadata": {},
          "execution_count": 66
        },
        {
          "output_type": "display_data",
          "data": {
            "text/plain": [
              "<Figure size 720x432 with 1 Axes>"
            ],
            "image/png": "[encoded data removed]"
          },
          "metadata": {
            "needs_background": "light"
          }
        }
      ]
    },
    {
      "cell_type": "code",
      "metadata": {
        "id": "WHviRzqnkCRp"
      },
      "source": [
        "y_pred_list = []\n",
        "with torch.no_grad():\n",
        "    model.eval()\n",
        "    for X_batch, _ in test_loader:\n",
        "        X_batch = X_batch.to(device)\n",
        "        y_test_pred = model(X_batch)\n",
        "        y_pred_list.append(y_test_pred.cpu().numpy())\n",
        "y_pred_list = [a.squeeze().tolist() for a in y_pred_list]"
      ],
      "execution_count": 67,
      "outputs": []
    },
    {
      "cell_type": "code",
      "metadata": {
        "colab": {
          "base_uri": "https://localhost:8080/"
        },
        "id": "kPde4baRkHoG",
        "outputId": "fc4f6872-1cc1-4b8a-ff68-4cd44bb8275c"
      },
      "source": [
        "from sklearn.metrics import mean_squared_error, r2_score\n",
        "mse = mean_squared_error(y_test, y_pred_list)\n",
        "r_square = r2_score(y_test, y_pred_list)\n",
        "print(\"Mean Squared Error :\",mse)\n",
        "print(\"R^2 :\",r_square)"
      ],
      "execution_count": 69,
      "outputs": [
        {
          "output_type": "stream",
          "name": "stdout",
          "text": [
            "Mean Squared Error : 0.5679172752054543\n",
            "R^2 : 0.2970965777957245\n"
          ]
        }
      ]
    },
    {
      "cell_type": "markdown",
      "metadata": {
        "id": "n-V2810AYazY"
      },
      "source": [
        "# Convolutional Neural Network (CNN)\n",
        "\n",
        "- The fully connected network can function as a universal approximator, but we don't know how long it will take to train it to become a good approximation \n",
        "- In particular, for images it could be interesting to capture locality and translation invariance\n",
        "  - Check the nearby pixels to recognize objects \n",
        "  - It leverages the position of the pixels that is completely destroyed in a 1 dimensional array\n",
        "  - tadaaa convolution: scalar product of a weight matrix (kernel) with every neighborhood in the input.\n"
      ]
    },
    {
      "cell_type": "code",
      "metadata": {
        "id": "u-4pi5VLaTgi"
      },
      "source": [
        "\n",
        "from sklearn.datasets import fetch_openml\n",
        "mnist = fetch_openml('mnist_784', version=1, cache=True, as_frame=False)\n",
        "\n",
        "X = mnist[\"data\"]\n",
        "y = mnist[\"target\"].astype(np.uint8)\n",
        "\n",
        "X_train = X[:50000]\n",
        "y_train = y[:50000]\n",
        "\n",
        "X_val = X[50000:60000]\n",
        "y_val = y[50000:60000]\n",
        "\n",
        "X_test = X[60000:]\n",
        "y_test = y[60000:]"
      ],
      "execution_count": 70,
      "outputs": []
    },
    {
      "cell_type": "code",
      "source": [
        "x_train_tensor.shape"
      ],
      "metadata": {
        "id": "WsuX6CT3JRII",
        "outputId": "5c8791c7-6d5a-494a-de79-b2db808238ed",
        "colab": {
          "base_uri": "https://localhost:8080/"
        }
      },
      "execution_count": 77,
      "outputs": [
        {
          "output_type": "execute_result",
          "data": {
            "text/plain": [
              "torch.Size([50000, 784])"
            ]
          },
          "metadata": {},
          "execution_count": 77
        }
      ]
    },
    {
      "cell_type": "code",
      "metadata": {
        "id": "XYX6FC76ad3R"
      },
      "source": [
        "from torch.utils.data import TensorDataset\n",
        "from torch.utils.data import DataLoader\n",
        "\n",
        "batch_size = 32 \n",
        "train_ds = TensorDataset(x_train_tensor, y_train_tensor)\n",
        "train_dl = DataLoader(\n",
        "    train_ds, batch_size=batch_size, shuffle=True)\n",
        "\n",
        "val_ds = TensorDataset(x_val_tensor, y_val_tensor)\n",
        "val_dl = DataLoader(\n",
        "    val_ds, batch_size=batch_size, shuffle=True)\n",
        "\n",
        "\n",
        "test_ds = TensorDataset(x_test_tensor, y_test_tensor)\n",
        "test_dl = DataLoader(test_ds, batch_size=batch_size)\n"
      ],
      "execution_count": 71,
      "outputs": []
    },
    {
      "cell_type": "markdown",
      "metadata": {
        "id": "-rzuadYSWj0z"
      },
      "source": [
        "Convolution parameters: \n",
        "- ```in_channel``` is the number of input channels (1 for grey images, 3 for rgb)\n",
        "- ```out_channel``` the number of output channels\n",
        "- ```kernel_size``` eight and width of the kernel filter, if only one value is passed then eight = width \n",
        "- ```stride``` how many steps across the input we move when we adjust the filter to a new position\n",
        "- ```padding``` it can happen that we don't have enough elements in our input to do a full convolution. In these cases, the empty values are filled with the ```padding``` values"
      ]
    },
    {
      "cell_type": "markdown",
      "metadata": {
        "id": "y73tNrQ2Xud_"
      },
      "source": [
        "Pooling layers, they reduce the resolution of the network from the previous input layer, therefore fewer parameters in the lower layers. \n",
        "- Faster computation\n",
        "- it helps to prevent overfitting\n",
        "\n",
        "There is also a ```padding``` option here. "
      ]
    },
    {
      "cell_type": "code",
      "metadata": {
        "id": "rql6I9v8XgGh"
      },
      "source": [
        "class CNN(nn.Module):\n",
        "    def __init__(self):\n",
        "        super(CNN, self).__init__()\n",
        "\n",
        "        # Convolution 1\n",
        "        self.cnn1 = nn.Conv2d(in_channels=1, out_channels=16,\n",
        "                              kernel_size=3, stride=1, padding=0)\n",
        "        self.relu1 = nn.ReLU()\n",
        "\n",
        "        # Max pool 1\n",
        "        self.maxpool1 = nn.MaxPool2d(kernel_size=2)\n",
        "\n",
        "        # Convolution 2\n",
        "        self.cnn2 = nn.Conv2d(in_channels=16, out_channels=32,\n",
        "                              kernel_size=3, stride=1, padding=0)\n",
        "        self.relu2 = nn.ReLU()\n",
        "\n",
        "        # Max pool 2\n",
        "        self.maxpool2 = nn.MaxPool2d(kernel_size=2)\n",
        "\n",
        "        # Fully connected 1\n",
        "        self.fc1 = nn.Linear(32 * 5 * 5, 10)\n",
        "\n",
        "    def forward(self, x, to_print=False):\n",
        "        # Set 1\n",
        "        if to_print:\n",
        "          print('INPUT',x.shape)\n",
        "        out = self.cnn1(x)\n",
        "        if to_print:\n",
        "          print('CNN1',out.shape)\n",
        "        out = self.relu1(out)\n",
        "        out = self.maxpool1(out)\n",
        "        if to_print:\n",
        "          print('MAXPOOL1',out.shape)\n",
        "\n",
        "        # Set 2\n",
        "        out = self.cnn2(out)\n",
        "        if to_print:\n",
        "          print('CNN2',out.shape)\n",
        "\n",
        "        out = self.relu2(out)\n",
        "\n",
        "        out = self.maxpool2(out)\n",
        "        if to_print:\n",
        "          print(\"after the 2nd maxpool:{} \".format(out.shape))\n",
        "        # Flatten\n",
        "        out = out.view(out.size(0), -1)\n",
        "        if to_print:\n",
        "          print(\"after the flatten:{} \".format(out.shape))\n",
        "        out = self.fc1(out)\n",
        "        if to_print:\n",
        "          print('FINAL',out.shape)\n",
        "\n",
        "        return out"
      ],
      "execution_count": 74,
      "outputs": []
    },
    {
      "cell_type": "code",
      "metadata": {
        "id": "IdZjenirdWec"
      },
      "source": [
        "## few changes to the train function used above. \n",
        "\n",
        "def train(model, optimizer, loss_fn, train_loader, val_loader, epochs=20, device=\"cpu\",to_print=False):\n",
        "    for epoch in range(1, epochs+1):\n",
        "        training_loss = 0.0\n",
        "        valid_loss = 0.0\n",
        "        model.train()\n",
        "        for batch in train_loader:\n",
        "            optimizer.zero_grad() # clear gradients for next train\n",
        "            inputs, targets = batch\n",
        "            inputs = inputs.to(device)\n",
        "            targets = targets.to(device)\n",
        "            output = model(inputs,to_print)\n",
        "            loss = loss_fn(output, targets)\n",
        "            loss.backward() # backpropagation, compute gradients\n",
        "            optimizer.step() # apply gradients\n",
        "            training_loss += loss.data.item() * inputs.size(0)\n",
        "            # print(training_loss,loss.data.item(),inputs.size(0))\n",
        "            if to_print:\n",
        "              break\n",
        "        training_loss /= len(train_loader.dataset)\n",
        "        if to_print:\n",
        "          break\n",
        "        with torch.no_grad():\n",
        "          model.eval()\n",
        "          num_correct = 0 \n",
        "          num_examples = 0\n",
        "          for batch in val_loader:\n",
        "              inputs, targets = batch\n",
        "              inputs = inputs.to(device)\n",
        "              output = model(inputs)\n",
        "              targets = targets.to(device)\n",
        "              loss = loss_fn(output,targets) \n",
        "              valid_loss += loss.data.item() * inputs.size(0)\n",
        "              correct = torch.eq(torch.max(F.softmax(output, dim=1), dim=1)[1], targets)\n",
        "              num_correct += torch.sum(correct).item()\n",
        "              num_examples += correct.shape[0]\n",
        "          valid_loss /= len(val_loader.dataset)\n",
        "\n",
        "        print('Epoch: {}, Training Loss: {:.4f}, Validation Loss: {:.4f}, accuracy = {:.4f}'.format(epoch, training_loss,\n",
        "        valid_loss, num_correct / num_examples))"
      ],
      "execution_count": 75,
      "outputs": []
    },
    {
      "cell_type": "code",
      "metadata": {
        "colab": {
          "base_uri": "https://localhost:8080/",
          "height": 346
        },
        "id": "8znMf8E8aBm3",
        "outputId": "19da8d03-b0a0-4ac7-9a9c-c1473c5d2bab"
      },
      "source": [
        "cnn = CNN()\n",
        "optimizer = optim.SGD(cnn.parameters(),lr=0.001)\n",
        "train(cnn, optimizer,torch.nn.CrossEntropyLoss(), train_dl,val_dl, epochs=5)"
      ],
      "execution_count": 76,
      "outputs": [
        {
          "output_type": "error",
          "ename": "RuntimeError",
          "evalue": "ignored",
          "traceback": [
            "\u001b[0;31m---------------------------------------------------------------------------\u001b[0m",
            "\u001b[0;31mRuntimeError\u001b[0m                              Traceback (most recent call last)",
            "\u001b[0;32m<ipython-input-76-fa4ddee6f810>\u001b[0m in \u001b[0;36m<module>\u001b[0;34m()\u001b[0m\n\u001b[1;32m      1\u001b[0m \u001b[0mcnn\u001b[0m \u001b[0;34m=\u001b[0m \u001b[0mCNN\u001b[0m\u001b[0;34m(\u001b[0m\u001b[0;34m)\u001b[0m\u001b[0;34m\u001b[0m\u001b[0;34m\u001b[0m\u001b[0m\n\u001b[1;32m      2\u001b[0m \u001b[0moptimizer\u001b[0m \u001b[0;34m=\u001b[0m \u001b[0moptim\u001b[0m\u001b[0;34m.\u001b[0m\u001b[0mSGD\u001b[0m\u001b[0;34m(\u001b[0m\u001b[0mcnn\u001b[0m\u001b[0;34m.\u001b[0m\u001b[0mparameters\u001b[0m\u001b[0;34m(\u001b[0m\u001b[0;34m)\u001b[0m\u001b[0;34m,\u001b[0m\u001b[0mlr\u001b[0m\u001b[0;34m=\u001b[0m\u001b[0;36m0.001\u001b[0m\u001b[0;34m)\u001b[0m\u001b[0;34m\u001b[0m\u001b[0;34m\u001b[0m\u001b[0m\n\u001b[0;32m----> 3\u001b[0;31m \u001b[0mtrain\u001b[0m\u001b[0;34m(\u001b[0m\u001b[0mcnn\u001b[0m\u001b[0;34m,\u001b[0m \u001b[0moptimizer\u001b[0m\u001b[0;34m,\u001b[0m\u001b[0mtorch\u001b[0m\u001b[0;34m.\u001b[0m\u001b[0mnn\u001b[0m\u001b[0;34m.\u001b[0m\u001b[0mCrossEntropyLoss\u001b[0m\u001b[0;34m(\u001b[0m\u001b[0;34m)\u001b[0m\u001b[0;34m,\u001b[0m \u001b[0mtrain_dl\u001b[0m\u001b[0;34m,\u001b[0m\u001b[0mval_dl\u001b[0m\u001b[0;34m,\u001b[0m \u001b[0mepochs\u001b[0m\u001b[0;34m=\u001b[0m\u001b[0;36m5\u001b[0m\u001b[0;34m)\u001b[0m\u001b[0;34m\u001b[0m\u001b[0;34m\u001b[0m\u001b[0m\n\u001b[0m",
            "\u001b[0;32m<ipython-input-75-3a2b6e0d75a4>\u001b[0m in \u001b[0;36mtrain\u001b[0;34m(model, optimizer, loss_fn, train_loader, val_loader, epochs, device, to_print)\u001b[0m\n\u001b[1;32m     11\u001b[0m             \u001b[0minputs\u001b[0m \u001b[0;34m=\u001b[0m \u001b[0minputs\u001b[0m\u001b[0;34m.\u001b[0m\u001b[0mto\u001b[0m\u001b[0;34m(\u001b[0m\u001b[0mdevice\u001b[0m\u001b[0;34m)\u001b[0m\u001b[0;34m\u001b[0m\u001b[0;34m\u001b[0m\u001b[0m\n\u001b[1;32m     12\u001b[0m             \u001b[0mtargets\u001b[0m \u001b[0;34m=\u001b[0m \u001b[0mtargets\u001b[0m\u001b[0;34m.\u001b[0m\u001b[0mto\u001b[0m\u001b[0;34m(\u001b[0m\u001b[0mdevice\u001b[0m\u001b[0;34m)\u001b[0m\u001b[0;34m\u001b[0m\u001b[0;34m\u001b[0m\u001b[0m\n\u001b[0;32m---> 13\u001b[0;31m             \u001b[0moutput\u001b[0m \u001b[0;34m=\u001b[0m \u001b[0mmodel\u001b[0m\u001b[0;34m(\u001b[0m\u001b[0minputs\u001b[0m\u001b[0;34m,\u001b[0m\u001b[0mto_print\u001b[0m\u001b[0;34m)\u001b[0m\u001b[0;34m\u001b[0m\u001b[0;34m\u001b[0m\u001b[0m\n\u001b[0m\u001b[1;32m     14\u001b[0m             \u001b[0mloss\u001b[0m \u001b[0;34m=\u001b[0m \u001b[0mloss_fn\u001b[0m\u001b[0;34m(\u001b[0m\u001b[0moutput\u001b[0m\u001b[0;34m,\u001b[0m \u001b[0mtargets\u001b[0m\u001b[0;34m)\u001b[0m\u001b[0;34m\u001b[0m\u001b[0;34m\u001b[0m\u001b[0m\n\u001b[1;32m     15\u001b[0m             \u001b[0mloss\u001b[0m\u001b[0;34m.\u001b[0m\u001b[0mbackward\u001b[0m\u001b[0;34m(\u001b[0m\u001b[0;34m)\u001b[0m \u001b[0;31m# backpropagation, compute gradients\u001b[0m\u001b[0;34m\u001b[0m\u001b[0;34m\u001b[0m\u001b[0m\n",
            "\u001b[0;32m/usr/local/lib/python3.7/dist-packages/torch/nn/modules/module.py\u001b[0m in \u001b[0;36m_call_impl\u001b[0;34m(self, *input, **kwargs)\u001b[0m\n\u001b[1;32m    887\u001b[0m             \u001b[0mresult\u001b[0m \u001b[0;34m=\u001b[0m \u001b[0mself\u001b[0m\u001b[0;34m.\u001b[0m\u001b[0m_slow_forward\u001b[0m\u001b[0;34m(\u001b[0m\u001b[0;34m*\u001b[0m\u001b[0minput\u001b[0m\u001b[0;34m,\u001b[0m \u001b[0;34m**\u001b[0m\u001b[0mkwargs\u001b[0m\u001b[0;34m)\u001b[0m\u001b[0;34m\u001b[0m\u001b[0;34m\u001b[0m\u001b[0m\n\u001b[1;32m    888\u001b[0m         \u001b[0;32melse\u001b[0m\u001b[0;34m:\u001b[0m\u001b[0;34m\u001b[0m\u001b[0;34m\u001b[0m\u001b[0m\n\u001b[0;32m--> 889\u001b[0;31m             \u001b[0mresult\u001b[0m \u001b[0;34m=\u001b[0m \u001b[0mself\u001b[0m\u001b[0;34m.\u001b[0m\u001b[0mforward\u001b[0m\u001b[0;34m(\u001b[0m\u001b[0;34m*\u001b[0m\u001b[0minput\u001b[0m\u001b[0;34m,\u001b[0m \u001b[0;34m**\u001b[0m\u001b[0mkwargs\u001b[0m\u001b[0;34m)\u001b[0m\u001b[0;34m\u001b[0m\u001b[0;34m\u001b[0m\u001b[0m\n\u001b[0m\u001b[1;32m    890\u001b[0m         for hook in itertools.chain(\n\u001b[1;32m    891\u001b[0m                 \u001b[0m_global_forward_hooks\u001b[0m\u001b[0;34m.\u001b[0m\u001b[0mvalues\u001b[0m\u001b[0;34m(\u001b[0m\u001b[0;34m)\u001b[0m\u001b[0;34m,\u001b[0m\u001b[0;34m\u001b[0m\u001b[0;34m\u001b[0m\u001b[0m\n",
            "\u001b[0;32m<ipython-input-74-a9d55d6a2fe2>\u001b[0m in \u001b[0;36mforward\u001b[0;34m(self, x, to_print)\u001b[0m\n\u001b[1;32m     26\u001b[0m         \u001b[0;32mif\u001b[0m \u001b[0mto_print\u001b[0m\u001b[0;34m:\u001b[0m\u001b[0;34m\u001b[0m\u001b[0;34m\u001b[0m\u001b[0m\n\u001b[1;32m     27\u001b[0m           \u001b[0mprint\u001b[0m\u001b[0;34m(\u001b[0m\u001b[0;34m'INPUT'\u001b[0m\u001b[0;34m,\u001b[0m\u001b[0mx\u001b[0m\u001b[0;34m.\u001b[0m\u001b[0mshape\u001b[0m\u001b[0;34m)\u001b[0m\u001b[0;34m\u001b[0m\u001b[0;34m\u001b[0m\u001b[0m\n\u001b[0;32m---> 28\u001b[0;31m         \u001b[0mout\u001b[0m \u001b[0;34m=\u001b[0m \u001b[0mself\u001b[0m\u001b[0;34m.\u001b[0m\u001b[0mcnn1\u001b[0m\u001b[0;34m(\u001b[0m\u001b[0mx\u001b[0m\u001b[0;34m)\u001b[0m\u001b[0;34m\u001b[0m\u001b[0;34m\u001b[0m\u001b[0m\n\u001b[0m\u001b[1;32m     29\u001b[0m         \u001b[0;32mif\u001b[0m \u001b[0mto_print\u001b[0m\u001b[0;34m:\u001b[0m\u001b[0;34m\u001b[0m\u001b[0;34m\u001b[0m\u001b[0m\n\u001b[1;32m     30\u001b[0m           \u001b[0mprint\u001b[0m\u001b[0;34m(\u001b[0m\u001b[0;34m'CNN1'\u001b[0m\u001b[0;34m,\u001b[0m\u001b[0mout\u001b[0m\u001b[0;34m.\u001b[0m\u001b[0mshape\u001b[0m\u001b[0;34m)\u001b[0m\u001b[0;34m\u001b[0m\u001b[0;34m\u001b[0m\u001b[0m\n",
            "\u001b[0;32m/usr/local/lib/python3.7/dist-packages/torch/nn/modules/module.py\u001b[0m in \u001b[0;36m_call_impl\u001b[0;34m(self, *input, **kwargs)\u001b[0m\n\u001b[1;32m    887\u001b[0m             \u001b[0mresult\u001b[0m \u001b[0;34m=\u001b[0m \u001b[0mself\u001b[0m\u001b[0;34m.\u001b[0m\u001b[0m_slow_forward\u001b[0m\u001b[0;34m(\u001b[0m\u001b[0;34m*\u001b[0m\u001b[0minput\u001b[0m\u001b[0;34m,\u001b[0m \u001b[0;34m**\u001b[0m\u001b[0mkwargs\u001b[0m\u001b[0;34m)\u001b[0m\u001b[0;34m\u001b[0m\u001b[0;34m\u001b[0m\u001b[0m\n\u001b[1;32m    888\u001b[0m         \u001b[0;32melse\u001b[0m\u001b[0;34m:\u001b[0m\u001b[0;34m\u001b[0m\u001b[0;34m\u001b[0m\u001b[0m\n\u001b[0;32m--> 889\u001b[0;31m             \u001b[0mresult\u001b[0m \u001b[0;34m=\u001b[0m \u001b[0mself\u001b[0m\u001b[0;34m.\u001b[0m\u001b[0mforward\u001b[0m\u001b[0;34m(\u001b[0m\u001b[0;34m*\u001b[0m\u001b[0minput\u001b[0m\u001b[0;34m,\u001b[0m \u001b[0;34m**\u001b[0m\u001b[0mkwargs\u001b[0m\u001b[0;34m)\u001b[0m\u001b[0;34m\u001b[0m\u001b[0;34m\u001b[0m\u001b[0m\n\u001b[0m\u001b[1;32m    890\u001b[0m         for hook in itertools.chain(\n\u001b[1;32m    891\u001b[0m                 \u001b[0m_global_forward_hooks\u001b[0m\u001b[0;34m.\u001b[0m\u001b[0mvalues\u001b[0m\u001b[0;34m(\u001b[0m\u001b[0;34m)\u001b[0m\u001b[0;34m,\u001b[0m\u001b[0;34m\u001b[0m\u001b[0;34m\u001b[0m\u001b[0m\n",
            "\u001b[0;32m/usr/local/lib/python3.7/dist-packages/torch/nn/modules/conv.py\u001b[0m in \u001b[0;36mforward\u001b[0;34m(self, input)\u001b[0m\n\u001b[1;32m    397\u001b[0m \u001b[0;34m\u001b[0m\u001b[0m\n\u001b[1;32m    398\u001b[0m     \u001b[0;32mdef\u001b[0m \u001b[0mforward\u001b[0m\u001b[0;34m(\u001b[0m\u001b[0mself\u001b[0m\u001b[0;34m,\u001b[0m \u001b[0minput\u001b[0m\u001b[0;34m:\u001b[0m \u001b[0mTensor\u001b[0m\u001b[0;34m)\u001b[0m \u001b[0;34m->\u001b[0m \u001b[0mTensor\u001b[0m\u001b[0;34m:\u001b[0m\u001b[0;34m\u001b[0m\u001b[0;34m\u001b[0m\u001b[0m\n\u001b[0;32m--> 399\u001b[0;31m         \u001b[0;32mreturn\u001b[0m \u001b[0mself\u001b[0m\u001b[0;34m.\u001b[0m\u001b[0m_conv_forward\u001b[0m\u001b[0;34m(\u001b[0m\u001b[0minput\u001b[0m\u001b[0;34m,\u001b[0m \u001b[0mself\u001b[0m\u001b[0;34m.\u001b[0m\u001b[0mweight\u001b[0m\u001b[0;34m,\u001b[0m \u001b[0mself\u001b[0m\u001b[0;34m.\u001b[0m\u001b[0mbias\u001b[0m\u001b[0;34m)\u001b[0m\u001b[0;34m\u001b[0m\u001b[0;34m\u001b[0m\u001b[0m\n\u001b[0m\u001b[1;32m    400\u001b[0m \u001b[0;34m\u001b[0m\u001b[0m\n\u001b[1;32m    401\u001b[0m \u001b[0;32mclass\u001b[0m \u001b[0mConv3d\u001b[0m\u001b[0;34m(\u001b[0m\u001b[0m_ConvNd\u001b[0m\u001b[0;34m)\u001b[0m\u001b[0;34m:\u001b[0m\u001b[0;34m\u001b[0m\u001b[0;34m\u001b[0m\u001b[0m\n",
            "\u001b[0;32m/usr/local/lib/python3.7/dist-packages/torch/nn/modules/conv.py\u001b[0m in \u001b[0;36m_conv_forward\u001b[0;34m(self, input, weight, bias)\u001b[0m\n\u001b[1;32m    394\u001b[0m                             _pair(0), self.dilation, self.groups)\n\u001b[1;32m    395\u001b[0m         return F.conv2d(input, weight, bias, self.stride,\n\u001b[0;32m--> 396\u001b[0;31m                         self.padding, self.dilation, self.groups)\n\u001b[0m\u001b[1;32m    397\u001b[0m \u001b[0;34m\u001b[0m\u001b[0m\n\u001b[1;32m    398\u001b[0m     \u001b[0;32mdef\u001b[0m \u001b[0mforward\u001b[0m\u001b[0;34m(\u001b[0m\u001b[0mself\u001b[0m\u001b[0;34m,\u001b[0m \u001b[0minput\u001b[0m\u001b[0;34m:\u001b[0m \u001b[0mTensor\u001b[0m\u001b[0;34m)\u001b[0m \u001b[0;34m->\u001b[0m \u001b[0mTensor\u001b[0m\u001b[0;34m:\u001b[0m\u001b[0;34m\u001b[0m\u001b[0;34m\u001b[0m\u001b[0m\n",
            "\u001b[0;31mRuntimeError\u001b[0m: Expected 4-dimensional input for 4-dimensional weight [16, 1, 3, 3], but got 2-dimensional input of size [32, 784] instead"
          ]
        }
      ]
    },
    {
      "cell_type": "code",
      "metadata": {
        "id": "IEUZhahna2a3"
      },
      "source": [
        "batch_size = 32 \n",
        "train_ds = TensorDataset(x_train_tensor.reshape(-1,1,28,28), y_train_tensor)\n",
        "train_dl = DataLoader(\n",
        "    train_ds, batch_size=batch_size, shuffle=True)\n",
        "\n",
        "val_ds = TensorDataset(x_val_tensor.reshape(-1,1,28,28), y_val_tensor)\n",
        "val_dl = DataLoader(\n",
        "    val_ds, batch_size=batch_size, shuffle=True)\n",
        "\n",
        "\n",
        "test_ds = TensorDataset(x_test_tensor.reshape(-1,1,28,28), y_test_tensor)\n",
        "test_dl = DataLoader(test_ds, batch_size=batch_size)"
      ],
      "execution_count": 79,
      "outputs": []
    },
    {
      "cell_type": "code",
      "source": [
        "x_train_tensor.reshape(-1,1,28,28).shape"
      ],
      "metadata": {
        "id": "qznEEqPgJki0"
      },
      "execution_count": null,
      "outputs": []
    },
    {
      "cell_type": "code",
      "metadata": {
        "colab": {
          "base_uri": "https://localhost:8080/"
        },
        "id": "OaxKPTurbSzl",
        "outputId": "7602c635-5241-4a9d-8d41-1fda9da66cd8"
      },
      "source": [
        "cnn = CNN()\n",
        "optimizer = optim.Adam(cnn.parameters(),lr=0.001)\n",
        "train(cnn, optimizer,torch.nn.CrossEntropyLoss(), train_dl,val_dl, epochs=5,to_print=True)"
      ],
      "execution_count": 81,
      "outputs": [
        {
          "output_type": "stream",
          "name": "stdout",
          "text": [
            "INPUT torch.Size([32, 1, 28, 28])\n",
            "CNN1 torch.Size([32, 16, 26, 26])\n",
            "MAXPOOL1 torch.Size([32, 16, 13, 13])\n",
            "CNN2 torch.Size([32, 32, 11, 11])\n",
            "after the 2nd maxpool:torch.Size([32, 32, 5, 5]) \n",
            "after the flatten:torch.Size([32, 800]) \n",
            "FINAL torch.Size([32, 10])\n"
          ]
        }
      ]
    },
    {
      "cell_type": "markdown",
      "metadata": {
        "id": "VQzTp4cxprqU"
      },
      "source": [
        "# Recurrent Neural Networks\n",
        "\n",
        "- CNNs don't have the concept of _memory_\n",
        "- This is a crucial when we deal with data that have a temporal domain: a sequence of events: text, speech, vide, time-series data, etc. \n",
        "- The RNNs try to solve this problem with a *hidden state*\n",
        "- We can imagine a RNN as a pipeline of fully connected layers network, where the succesive input being fed into the next layer in the sequence\n",
        "- Then the error is back propagated through the RNN --> _vanishing gradient_\n",
        "- A possible solution: Long Short-term Memory, a variant of RNN\n",
        " "
      ]
    },
    {
      "cell_type": "code",
      "source": [
        "\n",
        "!pip install -U torch==1.8.0 torchtext==0.9.0"
      ],
      "metadata": {
        "id": "DcBYVa-rUZOo",
        "outputId": "32a534d5-f28d-4cd4-8e79-a9199aa83e70",
        "colab": {
          "base_uri": "https://localhost:8080/"
        }
      },
      "execution_count": 67,
      "outputs": [
        {
          "output_type": "stream",
          "name": "stdout",
          "text": [
            "Looking in indexes: https://pypi.org/simple, https://us-python.pkg.dev/colab-wheels/public/simple/\n",
            "Requirement already satisfied: torch==1.8.0 in /usr/local/lib/python3.7/dist-packages (1.8.0)\n",
            "Requirement already satisfied: torchtext==0.9.0 in /usr/local/lib/python3.7/dist-packages (0.9.0)\n",
            "Requirement already satisfied: numpy in /usr/local/lib/python3.7/dist-packages (from torch==1.8.0) (1.21.6)\n",
            "Requirement already satisfied: typing-extensions in /usr/local/lib/python3.7/dist-packages (from torch==1.8.0) (4.1.1)\n",
            "Requirement already satisfied: requests in /usr/local/lib/python3.7/dist-packages (from torchtext==0.9.0) (2.23.0)\n",
            "Requirement already satisfied: tqdm in /usr/local/lib/python3.7/dist-packages (from torchtext==0.9.0) (4.64.0)\n",
            "Requirement already satisfied: chardet<4,>=3.0.2 in /usr/local/lib/python3.7/dist-packages (from requests->torchtext==0.9.0) (3.0.4)\n",
            "Requirement already satisfied: certifi>=2017.4.17 in /usr/local/lib/python3.7/dist-packages (from requests->torchtext==0.9.0) (2022.6.15)\n",
            "Requirement already satisfied: urllib3!=1.25.0,!=1.25.1,<1.26,>=1.21.1 in /usr/local/lib/python3.7/dist-packages (from requests->torchtext==0.9.0) (1.24.3)\n",
            "Requirement already satisfied: idna<3,>=2.5 in /usr/local/lib/python3.7/dist-packages (from requests->torchtext==0.9.0) (2.10)\n"
          ]
        }
      ]
    },
    {
      "cell_type": "code",
      "metadata": {
        "id": "Wir7s_yOr0Tq"
      },
      "source": [
        "\n",
        "import torchtext\n",
        "from torchtext.legacy import data\n",
        "import pandas as pd"
      ],
      "execution_count": 68,
      "outputs": []
    },
    {
      "cell_type": "code",
      "source": [
        "torchtext.__version__"
      ],
      "metadata": {
        "id": "yPNwsMU0TCVv",
        "outputId": "0678d257-b416-4da4-dca0-7eadf019f2c1",
        "colab": {
          "base_uri": "https://localhost:8080/",
          "height": 35
        }
      },
      "execution_count": 69,
      "outputs": [
        {
          "output_type": "execute_result",
          "data": {
            "text/plain": [
              "'0.9.0'"
            ],
            "application/vnd.google.colaboratory.intrinsic+json": {
              "type": "string"
            }
          },
          "metadata": {},
          "execution_count": 69
        }
      ]
    },
    {
      "cell_type": "code",
      "metadata": {
        "colab": {
          "base_uri": "https://localhost:8080/"
        },
        "id": "jxVUddADrEaX",
        "outputId": "c56bc066-7072-4a44-f596-9f25f998148f"
      },
      "source": [
        "from google.colab import drive\n",
        "drive.mount('/content/drive')"
      ],
      "execution_count": 70,
      "outputs": [
        {
          "output_type": "stream",
          "name": "stdout",
          "text": [
            "Mounted at /content/drive\n"
          ]
        }
      ]
    },
    {
      "cell_type": "code",
      "metadata": {
        "id": "KGZK_grObtdF"
      },
      "source": [
        "tweetsDF = pd.read_csv('/content/drive/Shareddrives/MD2SL-material/data/training.1600000.processed.noemoticon.csv',encoding='latin1',engine='python',header=None)"
      ],
      "execution_count": 71,
      "outputs": []
    },
    {
      "cell_type": "code",
      "metadata": {
        "colab": {
          "base_uri": "https://localhost:8080/"
        },
        "id": "0n-taOnwrtD8",
        "outputId": "a4089ac9-7639-4db7-9e1c-4d6e1d57c390"
      },
      "source": [
        "tweetsDF[0].value_counts()\n"
      ],
      "execution_count": 72,
      "outputs": [
        {
          "output_type": "execute_result",
          "data": {
            "text/plain": [
              "0    800000\n",
              "4    800000\n",
              "Name: 0, dtype: int64"
            ]
          },
          "metadata": {},
          "execution_count": 72
        }
      ]
    },
    {
      "cell_type": "code",
      "metadata": {
        "colab": {
          "base_uri": "https://localhost:8080/"
        },
        "id": "cbUPY9tna9xp",
        "outputId": "1b79c464-99c7-4e9b-b3fb-512e947498cb"
      },
      "source": [
        "\n",
        "tweetsDF.columns"
      ],
      "execution_count": 73,
      "outputs": [
        {
          "output_type": "execute_result",
          "data": {
            "text/plain": [
              "Int64Index([0, 1, 2, 3, 4, 5], dtype='int64')"
            ]
          },
          "metadata": {},
          "execution_count": 73
        }
      ]
    },
    {
      "cell_type": "code",
      "metadata": {
        "colab": {
          "base_uri": "https://localhost:8080/"
        },
        "id": "oScBFd91aq8V",
        "outputId": "bbb6ab0e-62c0-4594-f7f7-e05d7899aa07"
      },
      "source": [
        "tweetsDF[\"sentiment_cat\"] = tweetsDF[0].astype('category')\n",
        "tweetsDF[\"sentiment_cat\"].cat.codes"
      ],
      "execution_count": 74,
      "outputs": [
        {
          "output_type": "execute_result",
          "data": {
            "text/plain": [
              "0          0\n",
              "1          0\n",
              "2          0\n",
              "3          0\n",
              "4          0\n",
              "          ..\n",
              "1599995    1\n",
              "1599996    1\n",
              "1599997    1\n",
              "1599998    1\n",
              "1599999    1\n",
              "Length: 1600000, dtype: int8"
            ]
          },
          "metadata": {},
          "execution_count": 74
        }
      ]
    },
    {
      "cell_type": "code",
      "metadata": {
        "id": "9QwecpXzsIh5"
      },
      "source": [
        "tweetsDF[\"sentiment\"] = tweetsDF[\"sentiment_cat\"].cat.codes\n",
        "tweetsDF.to_csv(\"train-processed.csv\", header=None, index=None)      \n",
        "tweetsDF.sample(10000).to_csv(\"train-processed-sample.csv\", header=None, index=None) \n"
      ],
      "execution_count": 75,
      "outputs": []
    },
    {
      "cell_type": "markdown",
      "metadata": {
        "id": "bIq8HlVIbcHv"
      },
      "source": [
        "```torchtext``` takes a straigthforward approach to generating datasets, but you need to define the _fields_. \n",
        "The class ```Fields``` is what we need to use, it could take several parameters, give a look to the documentation:\n",
        "[Class Field documentation](https://pytorch.org/text/_modules/torchtext/data/field.html)"
      ]
    },
    {
      "cell_type": "code",
      "metadata": {
        "id": "OqiDXBaqsNz5"
      },
      "source": [
        "LABEL = data.LabelField() #a subclass of Field that sets sequential to False\n",
        "TWEET = data.Field('spacy', tokenizer_language='en_core_web_sm', lower=True)\n",
        "\n",
        "fields = [('score',None), ('id',None), ('date',None), ('query',None),\n",
        "          ('name',None), ('tweet', TWEET), ('category',None), ('label',LABEL)]"
      ],
      "execution_count": 76,
      "outputs": []
    },
    {
      "cell_type": "markdown",
      "metadata": {
        "id": "ThuCr2UEcwp6"
      },
      "source": [
        "This is then passed to the TabularDataset with all the fields we need "
      ]
    },
    {
      "cell_type": "code",
      "metadata": {
        "id": "aeINR6yssR94"
      },
      "source": [
        "twitterDataset = data.dataset.TabularDataset(\n",
        "        path=\"train-processed-sample.csv\", \n",
        "        format=\"CSV\", \n",
        "        fields=fields,\n",
        "        skip_header=False)"
      ],
      "execution_count": 77,
      "outputs": []
    },
    {
      "cell_type": "code",
      "metadata": {
        "colab": {
          "base_uri": "https://localhost:8080/"
        },
        "id": "NnM-PDhrsUpF",
        "outputId": "5b684184-4d9a-4911-c2cb-42a3606f0652"
      },
      "source": [
        "\n",
        "(train, test, valid) = twitterDataset.split(split_ratio=[0.8,0.1,0.1],\n",
        "                                            stratified=True, strata_field='label')\n",
        "\n",
        "(len(train),len(test),len(valid))"
      ],
      "execution_count": 78,
      "outputs": [
        {
          "output_type": "execute_result",
          "data": {
            "text/plain": [
              "(8000, 1000, 1000)"
            ]
          },
          "metadata": {},
          "execution_count": 78
        }
      ]
    },
    {
      "cell_type": "code",
      "metadata": {
        "colab": {
          "base_uri": "https://localhost:8080/"
        },
        "id": "dnkf_VUUsWtm",
        "outputId": "e94dec1b-3352-4871-fff1-c8210c728240"
      },
      "source": [
        "\n",
        "vocab_size = 20000\n",
        "# torchtext is building for us the one_hot_encoding for the words\n",
        "TWEET.build_vocab(train, max_size = vocab_size)\n",
        "LABEL.build_vocab(train)\n",
        "TWEET.vocab.freqs.most_common(10)"
      ],
      "execution_count": 79,
      "outputs": [
        {
          "output_type": "execute_result",
          "data": {
            "text/plain": [
              "[('i', 3705),\n",
              " ('to', 2867),\n",
              " ('the', 2584),\n",
              " ('a', 1861),\n",
              " ('my', 1525),\n",
              " ('and', 1505),\n",
              " ('you', 1228),\n",
              " ('for', 1140),\n",
              " ('is', 1128),\n",
              " ('in', 1017)]"
            ]
          },
          "metadata": {},
          "execution_count": 79
        }
      ]
    },
    {
      "cell_type": "code",
      "metadata": {
        "colab": {
          "base_uri": "https://localhost:8080/"
        },
        "id": "zv5SS7gtduTn",
        "outputId": "b24a51c9-6e37-4f21-eb61-a03617a0d02b"
      },
      "source": [
        "print('How big is our vocabolary? {}'.format(len(TWEET.vocab)))\n",
        "\n",
        "#1 for unk\n",
        "#2 for padding, a padding token that will be used to pad all our to roughly the same sie"
      ],
      "execution_count": 80,
      "outputs": [
        {
          "output_type": "stream",
          "name": "stdout",
          "text": [
            "How big is our vocabolary? 20002\n"
          ]
        }
      ]
    },
    {
      "cell_type": "code",
      "metadata": {
        "id": "gIfXfFt5sZQo"
      },
      "source": [
        "'''\n",
        "torchtext provides the BucketIterator method that will produce what it calls a \n",
        "batch. Similar to the data loader we used before\n",
        "'''\n",
        "\n",
        "\n",
        "train_iterator, valid_iterator, test_iterator = data.BucketIterator.splits(\n",
        "    (train, valid, test),\n",
        "    batch_size = 32,\n",
        "    device = device,\n",
        "    sort_key = lambda x: len(x.tweet),\n",
        "    sort_within_batch = False)"
      ],
      "execution_count": 81,
      "outputs": []
    },
    {
      "cell_type": "code",
      "metadata": {
        "id": "8l0YiXo5saWo"
      },
      "source": [
        "class OurFirstLSTM(nn.Module):\n",
        "    def __init__(self, hidden_size, embedding_dim, vocab_size):\n",
        "        super(OurFirstLSTM, self).__init__()\n",
        "    \n",
        "        self.embedding = nn.Embedding(vocab_size, embedding_dim)\n",
        "        self.encoder = nn.LSTM(input_size=embedding_dim,  \n",
        "                hidden_size=hidden_size, num_layers=1)\n",
        "        self.predictor = nn.Linear(hidden_size, 2)\n",
        "\n",
        "    def forward(self, seq):\n",
        "        output, (hidden,_) = self.encoder(self.embedding(seq))\n",
        "        preds = self.predictor(hidden.squeeze(0))\n",
        "        return preds\n",
        "\n"
      ],
      "execution_count": 82,
      "outputs": []
    },
    {
      "cell_type": "markdown",
      "metadata": {
        "id": "pOk5-uMZeuDh"
      },
      "source": [
        "3 layers: \n",
        "- the words of our tweet are pushed in ```Embeddings``` layer, with 300-dimensional vector\n",
        "- then fed into a LSTM with 100 hidden features\n",
        "- standard fully connected layer with 3 outputs corresponding to our three possible classes "
      ]
    },
    {
      "cell_type": "code",
      "metadata": {
        "id": "JpERp77res7f"
      },
      "source": [
        ""
      ],
      "execution_count": 82,
      "outputs": []
    },
    {
      "cell_type": "code",
      "metadata": {
        "id": "nBM6gdk-shyo"
      },
      "source": [
        "def train(epochs, model, optimizer, criterion, train_iterator, valid_iterator):\n",
        "    for epoch in range(1, epochs+1):\n",
        "     \n",
        "        training_loss = 0.0\n",
        "        valid_loss = 0.0\n",
        "        model.train()\n",
        "        for batch_idx, batch in enumerate(train_iterator):\n",
        "            optimizer.zero_grad()\n",
        "            predict = model(batch.tweet) ##we need to specify which field\n",
        "            loss = criterion(predict,batch.label)\n",
        "            loss.backward()\n",
        "            optimizer.step()\n",
        "            training_loss += loss.data.item() * batch.tweet.size(0)\n",
        "        training_loss /= len(train_iterator)\n",
        " \n",
        "        with torch.no_grad():\n",
        "          model.eval()\n",
        "          for batch_idx,batch in enumerate(valid_iterator):\n",
        "              predict = model(batch.tweet)\n",
        "              loss = criterion(predict,batch.label)\n",
        "              valid_loss += loss.data.item() * batch.tweet.size(0)\n",
        "          valid_loss /= len(valid_iterator)\n",
        "          print('Epoch: {}, Training Loss: {:.2f}, Validation Loss: {:.2f}'.format(epoch, training_loss, valid_loss))"
      ],
      "execution_count": 83,
      "outputs": []
    },
    {
      "cell_type": "code",
      "metadata": {
        "id": "DlAM4mnNsoKn",
        "colab": {
          "base_uri": "https://localhost:8080/"
        },
        "outputId": "d9d9f7f6-701d-4921-aceb-6de6d3d0f1f0"
      },
      "source": [
        "model = OurFirstLSTM(100,300, 20002)\n",
        "model.to(device)\n",
        "optimizer = optim.Adam(model.parameters(), lr=0.01)\n",
        "criterion = nn.CrossEntropyLoss()\n",
        "\n",
        "train(5, model, optimizer, criterion, train_iterator, valid_iterator)        "
      ],
      "execution_count": 84,
      "outputs": [
        {
          "output_type": "stream",
          "name": "stdout",
          "text": [
            "Epoch: 1, Training Loss: 18.92, Validation Loss: 10.28\n",
            "Epoch: 2, Training Loss: 17.06, Validation Loss: 9.22\n",
            "Epoch: 3, Training Loss: 13.98, Validation Loss: 10.68\n",
            "Epoch: 4, Training Loss: 12.45, Validation Loss: 12.36\n",
            "Epoch: 5, Training Loss: 10.54, Validation Loss: 13.78\n"
          ]
        }
      ]
    },
    {
      "cell_type": "code",
      "metadata": {
        "id": "kZwwnueMslDn"
      },
      "source": [
        "'''\n",
        "torchtext doesn't help when we want to predict\n",
        "We need to emulate the preprocessing pipeline, and make the prediction on the\n",
        "output of that pipeline\n",
        "'''\n",
        "\n",
        "def classify_tweet(tweet,device='cpu'):\n",
        "    '''\n",
        "    preprocess performs the tokenization,\n",
        "    then we call process on the resulting \n",
        "    tokens to obtain a tensor based on our already built vocabulary\n",
        "    '''\n",
        "    model.to(device)\n",
        "    categories = {0: \"Negative\", 1:\"Positive\"}\n",
        "    processed = TWEET.process([TWEET.preprocess(tweet)])\n",
        "    processed = processed.float().to(device)\n",
        "    print(processed)\n",
        "    model.eval()\n",
        "    return categories[model(processed).argmax().item()]"
      ],
      "execution_count": 85,
      "outputs": []
    },
    {
      "cell_type": "code",
      "metadata": {
        "id": "U-DpNt0JoBJd"
      },
      "source": [
        "device = 'cpu'"
      ],
      "execution_count": 86,
      "outputs": []
    },
    {
      "cell_type": "code",
      "metadata": {
        "id": "8KIh5sSinh2X"
      },
      "source": [
        "model.to(device)\n",
        "with torch.no_grad():\n",
        "  model.eval()\n",
        "  for batch in test_iterator:\n",
        "    outputs = model(batch.tweet.to(device))"
      ],
      "execution_count": 87,
      "outputs": []
    },
    {
      "cell_type": "code",
      "metadata": {
        "id": "y8Wwd4pms63p"
      },
      "source": [
        "def classify_tweet(tweet):\n",
        "    categories = {0: \"Negative\", 1:\"Positive\"}\n",
        "    processed = TWEET.process([TWEET.preprocess(tweet)])\n",
        "    processed = processed.to(device)\n",
        "    model.eval()\n",
        "    return categories[model(processed).argmax().item()]"
      ],
      "execution_count": 89,
      "outputs": []
    },
    {
      "cell_type": "code",
      "metadata": {
        "id": "BoCXNpdfpZ4W",
        "colab": {
          "base_uri": "https://localhost:8080/"
        },
        "outputId": "1af46554-24e3-44ac-b4aa-51a1a50f31d9"
      },
      "source": [
        "test[0].tweet"
      ],
      "execution_count": 90,
      "outputs": [
        {
          "output_type": "execute_result",
          "data": {
            "text/plain": [
              "['pain', 'meds', 'are', 'not', 'kicking', 'in', 'quick', 'enough']"
            ]
          },
          "metadata": {},
          "execution_count": 90
        }
      ]
    },
    {
      "cell_type": "code",
      "metadata": {
        "id": "YLj5peK6pMJc",
        "colab": {
          "base_uri": "https://localhost:8080/"
        },
        "outputId": "dfff0deb-71af-4416-a72e-35720d8d78ef"
      },
      "source": [
        "for i in range(0,10):\n",
        "  sentiment = classify_tweet(test[i].tweet)\n",
        "  print(test[i].tweet,test[i].label,sentiment,)"
      ],
      "execution_count": 91,
      "outputs": [
        {
          "output_type": "stream",
          "name": "stdout",
          "text": [
            "['pain', 'meds', 'are', 'not', 'kicking', 'in', 'quick', 'enough'] 0 Positive\n",
            "['back', 'to', 'school', 'on', 'monday...well', 'i', 'did', 'get', 'an', 'ipod', 'touch.', '@shmuxel', '+', '@randomized180', 'see', 'yah', 'tomorrow', 'then', 'i', 'guess'] 0 Negative\n",
            "['@poojarazdan', 'i', 'thought', 'i', 'read', '-', 'you', 'were', 'awake', 'all', 'night', 'working', '-', 'sniff', 'sniff'] 0 Negative\n",
            "['#yycphotobook', 'i', 'missed', 'your', 'spot', 'today.', 'will', 'someone', 'be', 'putting', 'online?'] 0 Negative\n",
            "['has', 'sats', 'tomorrow,', 'bright', 'and', 'early.'] 0 Negative\n",
            "['@sweetisa', 'damn.', 'that', 'sucks'] 0 Negative\n",
            "['you', 'all', \"shouldn't\", 'be', 'allowed', 'to', 'use', 'twitter.', 'and', 'why', 'is', 'it', 'lightening', 'by', 'my', 'house'] 0 Positive\n",
            "['@kwod', '-', 'so', 'sad', 'you', 'guys', 'are', 'going', 'away.'] 0 Negative\n",
            "['@ckc406', \"i'm\", 'sorry', 'you', 'had', 'such', 'a', 'bad', 'weekend', '*hugs*'] 0 Negative\n",
            "['@preachdotcom', 'lol', 'its', 'sucks', 'a', 'lot', 'boo'] 0 Negative\n"
          ]
        }
      ]
    },
    {
      "cell_type": "markdown",
      "metadata": {
        "id": "KGjCkJDFqUmk"
      },
      "source": [
        "### Time-series \n",
        "Let's try with LSTM applied to timeseries"
      ]
    },
    {
      "cell_type": "code",
      "metadata": {
        "colab": {
          "base_uri": "https://localhost:8080/",
          "height": 206
        },
        "id": "dACYu0tApnSA",
        "outputId": "bcba02c7-0d0f-4952-849c-61ad1d52f83a"
      },
      "source": [
        "flight_data = sns.load_dataset(\"flights\")\n",
        "flight_data.head()"
      ],
      "execution_count": 82,
      "outputs": [
        {
          "output_type": "execute_result",
          "data": {
            "text/plain": [
              "   year month  passengers\n",
              "0  1949   Jan         112\n",
              "1  1949   Feb         118\n",
              "2  1949   Mar         132\n",
              "3  1949   Apr         129\n",
              "4  1949   May         121"
            ],
            "text/html": [
              "\n",
              "  <div id=\"df-9e8ea4f7-4ed7-40df-8e40-8ffc1d157500\">\n",
              "    <div class=\"colab-df-container\">\n",
              "      <div>\n",
              "<style scoped>\n",
              "    .dataframe tbody tr th:only-of-type {\n",
              "        vertical-align: middle;\n",
              "    }\n",
              "\n",
              "    .dataframe tbody tr th {\n",
              "        vertical-align: top;\n",
              "    }\n",
              "\n",
              "    .dataframe thead th {\n",
              "        text-align: right;\n",
              "    }\n",
              "</style>\n",
              "<table border=\"1\" class=\"dataframe\">\n",
              "  <thead>\n",
              "    <tr style=\"text-align: right;\">\n",
              "      <th></th>\n",
              "      <th>year</th>\n",
              "      <th>month</th>\n",
              "      <th>passengers</th>\n",
              "    </tr>\n",
              "  </thead>\n",
              "  <tbody>\n",
              "    <tr>\n",
              "      <th>0</th>\n",
              "      <td>1949</td>\n",
              "      <td>Jan</td>\n",
              "      <td>112</td>\n",
              "    </tr>\n",
              "    <tr>\n",
              "      <th>1</th>\n",
              "      <td>1949</td>\n",
              "      <td>Feb</td>\n",
              "      <td>118</td>\n",
              "    </tr>\n",
              "    <tr>\n",
              "      <th>2</th>\n",
              "      <td>1949</td>\n",
              "      <td>Mar</td>\n",
              "      <td>132</td>\n",
              "    </tr>\n",
              "    <tr>\n",
              "      <th>3</th>\n",
              "      <td>1949</td>\n",
              "      <td>Apr</td>\n",
              "      <td>129</td>\n",
              "    </tr>\n",
              "    <tr>\n",
              "      <th>4</th>\n",
              "      <td>1949</td>\n",
              "      <td>May</td>\n",
              "      <td>121</td>\n",
              "    </tr>\n",
              "  </tbody>\n",
              "</table>\n",
              "</div>\n",
              "      <button class=\"colab-df-convert\" onclick=\"convertToInteractive('df-9e8ea4f7-4ed7-40df-8e40-8ffc1d157500')\"\n",
              "              title=\"Convert this dataframe to an interactive table.\"\n",
              "              style=\"display:none;\">\n",
              "        \n",
              "  <svg xmlns=\"http://www.w3.org/2000/svg\" height=\"24px\"viewBox=\"0 0 24 24\"\n",
              "       width=\"24px\">\n",
              "    <path d=\"M0 0h24v24H0V0z\" fill=\"none\"/>\n",
              "    <path d=\"M18.56 5.44l.94 2.06.94-2.06 2.06-.94-2.06-.94-.94-2.06-.94 2.06-2.06.94zm-11 1L8.5 8.5l.94-2.06 2.06-.94-2.06-.94L8.5 2.5l-.94 2.06-2.06.94zm10 10l.94 2.06.94-2.06 2.06-.94-2.06-.94-.94-2.06-.94 2.06-2.06.94z\"/><path d=\"M17.41 7.96l-1.37-1.37c-.4-.4-.92-.59-1.43-.59-.52 0-1.04.2-1.43.59L10.3 9.45l-7.72 7.72c-.78.78-.78 2.05 0 2.83L4 21.41c.39.39.9.59 1.41.59.51 0 1.02-.2 1.41-.59l7.78-7.78 2.81-2.81c.8-.78.8-2.07 0-2.86zM5.41 20L4 18.59l7.72-7.72 1.47 1.35L5.41 20z\"/>\n",
              "  </svg>\n",
              "      </button>\n",
              "      \n",
              "  <style>\n",
              "    .colab-df-container {\n",
              "      display:flex;\n",
              "      flex-wrap:wrap;\n",
              "      gap: 12px;\n",
              "    }\n",
              "\n",
              "    .colab-df-convert {\n",
              "      background-color: #E8F0FE;\n",
              "      border: none;\n",
              "      border-radius: 50%;\n",
              "      cursor: pointer;\n",
              "      display: none;\n",
              "      fill: #1967D2;\n",
              "      height: 32px;\n",
              "      padding: 0 0 0 0;\n",
              "      width: 32px;\n",
              "    }\n",
              "\n",
              "    .colab-df-convert:hover {\n",
              "      background-color: #E2EBFA;\n",
              "      box-shadow: 0px 1px 2px rgba(60, 64, 67, 0.3), 0px 1px 3px 1px rgba(60, 64, 67, 0.15);\n",
              "      fill: #174EA6;\n",
              "    }\n",
              "\n",
              "    [theme=dark] .colab-df-convert {\n",
              "      background-color: #3B4455;\n",
              "      fill: #D2E3FC;\n",
              "    }\n",
              "\n",
              "    [theme=dark] .colab-df-convert:hover {\n",
              "      background-color: #434B5C;\n",
              "      box-shadow: 0px 1px 3px 1px rgba(0, 0, 0, 0.15);\n",
              "      filter: drop-shadow(0px 1px 2px rgba(0, 0, 0, 0.3));\n",
              "      fill: #FFFFFF;\n",
              "    }\n",
              "  </style>\n",
              "\n",
              "      <script>\n",
              "        const buttonEl =\n",
              "          document.querySelector('#df-9e8ea4f7-4ed7-40df-8e40-8ffc1d157500 button.colab-df-convert');\n",
              "        buttonEl.style.display =\n",
              "          google.colab.kernel.accessAllowed ? 'block' : 'none';\n",
              "\n",
              "        async function convertToInteractive(key) {\n",
              "          const element = document.querySelector('#df-9e8ea4f7-4ed7-40df-8e40-8ffc1d157500');\n",
              "          const dataTable =\n",
              "            await google.colab.kernel.invokeFunction('convertToInteractive',\n",
              "                                                     [key], {});\n",
              "          if (!dataTable) return;\n",
              "\n",
              "          const docLinkHtml = 'Like what you see? Visit the ' +\n",
              "            '<a target=\"_blank\" href=https://colab.research.google.com/notebooks/data_table.ipynb>data table notebook</a>'\n",
              "            + ' to learn more about interactive tables.';\n",
              "          element.innerHTML = '';\n",
              "          dataTable['output_type'] = 'display_data';\n",
              "          await google.colab.output.renderOutput(dataTable, element);\n",
              "          const docLink = document.createElement('div');\n",
              "          docLink.innerHTML = docLinkHtml;\n",
              "          element.appendChild(docLink);\n",
              "        }\n",
              "      </script>\n",
              "    </div>\n",
              "  </div>\n",
              "  "
            ]
          },
          "metadata": {},
          "execution_count": 82
        }
      ]
    },
    {
      "cell_type": "code",
      "metadata": {
        "colab": {
          "base_uri": "https://localhost:8080/",
          "height": 319
        },
        "id": "TLLoXqqXqd6I",
        "outputId": "8b9f0c7c-e7f9-4dd6-a2fb-9a528fa49d29"
      },
      "source": [
        "plt.title('Month vs Passenger')\n",
        "plt.ylabel('Total Passengers')\n",
        "plt.xlabel('Months')\n",
        "plt.grid(True)\n",
        "plt.autoscale(axis='x',tight=True)\n",
        "plt.plot(flight_data['passengers'])"
      ],
      "execution_count": 83,
      "outputs": [
        {
          "output_type": "execute_result",
          "data": {
            "text/plain": [
              "[<matplotlib.lines.Line2D at 0x7fa220418b10>]"
            ]
          },
          "metadata": {},
          "execution_count": 83
        },
        {
          "output_type": "display_data",
          "data": {
            "text/plain": [
              "<Figure size 432x288 with 1 Axes>"
            ],
            "image/png": "[encoded data removed]"
          },
          "metadata": {
            "needs_background": "light"
          }
        }
      ]
    },
    {
      "cell_type": "code",
      "metadata": {
        "id": "yKN_l40oqkXj"
      },
      "source": [
        "all_data = flight_data['passengers'].values.astype(float)\n",
        "\n",
        "test_data_size = 12\n",
        "\n",
        "train_data = all_data[:-test_data_size]\n",
        "test_data = all_data[-test_data_size:]"
      ],
      "execution_count": 84,
      "outputs": []
    },
    {
      "cell_type": "code",
      "metadata": {
        "colab": {
          "base_uri": "https://localhost:8080/"
        },
        "id": "OtK8_23aq5Kj",
        "outputId": "07ced3f6-d29a-4246-c055-04ee5e831398"
      },
      "source": [
        "print(len(train_data))\n",
        "print(len(test_data))"
      ],
      "execution_count": 85,
      "outputs": [
        {
          "output_type": "stream",
          "name": "stdout",
          "text": [
            "132\n",
            "12\n"
          ]
        }
      ]
    },
    {
      "cell_type": "code",
      "metadata": {
        "id": "_UAxF8X7q5sJ"
      },
      "source": [
        "from sklearn.preprocessing import MinMaxScaler\n",
        "\n",
        "scaler = MinMaxScaler(feature_range=(-1, 1))\n",
        "train_data_normalized = scaler.fit_transform(train_data .reshape(-1, 1))"
      ],
      "execution_count": 86,
      "outputs": []
    },
    {
      "cell_type": "code",
      "metadata": {
        "id": "dMzF1Pgvq-VE"
      },
      "source": [
        "train_data_normalized = torch.FloatTensor(train_data_normalized).view(-1)\n"
      ],
      "execution_count": 87,
      "outputs": []
    },
    {
      "cell_type": "code",
      "metadata": {
        "id": "LFf9tpBHrhXh"
      },
      "source": [
        "train_window = 12"
      ],
      "execution_count": 88,
      "outputs": []
    },
    {
      "cell_type": "code",
      "metadata": {
        "id": "VeZ1Iy3FrvJV"
      },
      "source": [
        "'''\n",
        "The function will accept the raw input data and will return a list of tuples. \n",
        "In each tuple, the first element will contain list of 12 items corresponding \n",
        "to the number of passengers traveling in 12 months, the second tuple element \n",
        "will contain one item i.e. the number of passengers in the 12+1st month\n",
        "'''\n",
        "\n",
        "def create_inout_sequences(input_data, tw):\n",
        "    inout_seq = []\n",
        "    L = len(input_data)\n",
        "    for i in range(L-tw):\n",
        "        train_seq = input_data[i:i+tw]\n",
        "        train_label = input_data[i+tw:i+tw+1]\n",
        "        inout_seq.append((train_seq ,train_label))\n",
        "    return inout_seq"
      ],
      "execution_count": 89,
      "outputs": []
    },
    {
      "cell_type": "code",
      "metadata": {
        "id": "dKIe2mhPr4MV"
      },
      "source": [
        "train_inout_seq = create_inout_sequences(train_data_normalized, train_window)\n"
      ],
      "execution_count": 90,
      "outputs": []
    },
    {
      "cell_type": "code",
      "metadata": {
        "colab": {
          "base_uri": "https://localhost:8080/"
        },
        "id": "W4JRJ5N_r4tS",
        "outputId": "8c26f0b9-1631-4ec8-ce3c-7bf81b5bd237"
      },
      "source": [
        "print(train_inout_seq[0][0])\n",
        "print(train_inout_seq[0][1])"
      ],
      "execution_count": 94,
      "outputs": [
        {
          "output_type": "stream",
          "name": "stdout",
          "text": [
            "tensor([-0.9648, -0.9385, -0.8769, -0.8901, -0.9253, -0.8637, -0.8066, -0.8066,\n",
            "        -0.8593, -0.9341, -1.0000, -0.9385])\n",
            "tensor([-0.9516])\n"
          ]
        }
      ]
    },
    {
      "cell_type": "code",
      "metadata": {
        "id": "xes8xVLTsE_Y"
      },
      "source": [
        "'''\n",
        "input_size: Corresponds to the number of features in the input.\n",
        "Though our sequence length is 12, for each month we have only \n",
        "1 value i.e. total number of passengers, therefore the input size will be 1.\n",
        "'''\n",
        "\n",
        "'''\n",
        "hidden_layer_size: Specifies the number of hidden layers along \n",
        "with the number of neurons in each layer. \n",
        "We will have one layer of 100 neurons.\n",
        "'''\n",
        "\n",
        "'''\n",
        "output_size: The number of items in the output, \n",
        "since we want to predict the number of passengers\n",
        "for 1 month in the future, the output size will be 1.\n",
        "'''\n",
        "\n",
        "'''\n",
        "Inside the forward method, the input_seq is passed as a parameter, \n",
        "which is first passed through the lstm layer. The output of the lstm layer is \n",
        "the hidden and cell states at current time step, along with the output. \n",
        "The output from the lstm layer is passed to the linear layer. \n",
        "The predicted number of passengers is stored in the last item of the \n",
        "predictions list, which is returned to the calling function.\n",
        "'''\n",
        "\n",
        "\n",
        "class LSTM(nn.Module):\n",
        "    def __init__(self, input_size=1, hidden_layer_size=250, output_size=1):\n",
        "        super().__init__()\n",
        "        self.hidden_layer_size = hidden_layer_size\n",
        "\n",
        "        self.lstm = nn.LSTM(input_size, hidden_layer_size)\n",
        "\n",
        "        self.linear = nn.Linear(hidden_layer_size, output_size)\n",
        "\n",
        "        self.hidden_cell = (torch.zeros(1,1,self.hidden_layer_size),\n",
        "                            torch.zeros(1,1,self.hidden_layer_size))\n",
        "\n",
        "    def forward(self, input_seq):\n",
        "        lstm_out, self.hidden_cell = self.lstm(input_seq.view(len(input_seq) ,1, -1), self.hidden_cell)\n",
        "        predictions = self.linear(lstm_out.view(len(input_seq), -1))\n",
        "        return predictions[-1]\n",
        "\n",
        "\n"
      ],
      "execution_count": 103,
      "outputs": []
    },
    {
      "cell_type": "code",
      "metadata": {
        "id": "r4ylDdzYsSJE"
      },
      "source": [
        "model = LSTM()\n",
        "loss_function = nn.MSELoss()\n",
        "optimizer = torch.optim.Adam(model.parameters(), lr=0.01)"
      ],
      "execution_count": 104,
      "outputs": []
    },
    {
      "cell_type": "code",
      "metadata": {
        "colab": {
          "base_uri": "https://localhost:8080/"
        },
        "id": "wor3uZGFuYqR",
        "outputId": "08dd49db-e931-4e4d-b9ab-cae667c4992c"
      },
      "source": [
        "epochs = 300\n",
        "\n",
        "for i in range(epochs):\n",
        "    for seq, labels in train_inout_seq:\n",
        "        optimizer.zero_grad()\n",
        "        model.hidden_cell = (torch.zeros(1, 1, model.hidden_layer_size),\n",
        "                        torch.zeros(1, 1, model.hidden_layer_size))\n",
        "\n",
        "        y_pred = model(seq)\n",
        "\n",
        "        single_loss = loss_function(y_pred, labels)\n",
        "        single_loss.backward()\n",
        "        optimizer.step()\n",
        "\n",
        "    if i%25 == 1:\n",
        "        print(f'epoch: {i:3} loss: {single_loss.item():10.8f}')\n",
        "\n",
        "print(f'epoch: {i:3} loss: {single_loss.item():10.10f}')\n"
      ],
      "execution_count": 105,
      "outputs": [
        {
          "output_type": "stream",
          "name": "stdout",
          "text": [
            "epoch:   1 loss: 0.03217940\n",
            "epoch:  26 loss: 0.10798632\n",
            "epoch:  51 loss: 0.08700537\n",
            "epoch:  76 loss: 0.08068001\n",
            "epoch: 101 loss: 0.08069772\n",
            "epoch: 126 loss: 0.08067371\n",
            "epoch: 151 loss: 0.08066552\n",
            "epoch: 176 loss: 0.10877632\n",
            "epoch: 201 loss: 0.10724123\n",
            "epoch: 226 loss: 0.10543448\n",
            "epoch: 251 loss: 0.01964139\n",
            "epoch: 276 loss: 0.02972045\n",
            "epoch: 299 loss: 0.0523491390\n"
          ]
        }
      ]
    },
    {
      "cell_type": "code",
      "metadata": {
        "colab": {
          "base_uri": "https://localhost:8080/"
        },
        "id": "z3nHH6xeuel8",
        "outputId": "5de4c4da-b72b-4f61-d8e2-089b710a58af"
      },
      "source": [
        "fut_pred = 12\n",
        "\n",
        "test_inputs = train_data_normalized[-train_window:].tolist()\n",
        "\n",
        "model.eval()\n",
        "\n",
        "for i in range(fut_pred):\n",
        "    seq = torch.FloatTensor(test_inputs[-train_window:])\n",
        "    with torch.no_grad():\n",
        "        model.hidden = (torch.zeros(1, 1, model.hidden_layer_size),\n",
        "                        torch.zeros(1, 1, model.hidden_layer_size))\n",
        "        test_inputs.append(model(seq).item())\n",
        "test_inputs[fut_pred:]\n"
      ],
      "execution_count": 106,
      "outputs": [
        {
          "output_type": "execute_result",
          "data": {
            "text/plain": [
              "[0.2174944430589676,\n",
              " 0.21748070418834686,\n",
              " 0.21747292578220367,\n",
              " 0.21745999157428741,\n",
              " 0.21744884550571442,\n",
              " 0.21743853390216827,\n",
              " 0.21742768585681915,\n",
              " 0.21741695702075958,\n",
              " 0.21740780770778656,\n",
              " 0.21739967167377472,\n",
              " 0.2173919826745987,\n",
              " 0.21738387644290924]"
            ]
          },
          "metadata": {},
          "execution_count": 106
        }
      ]
    },
    {
      "cell_type": "code",
      "metadata": {
        "colab": {
          "base_uri": "https://localhost:8080/"
        },
        "id": "gvzSSDjZu8tZ",
        "outputId": "df4c30e1-bef7-4099-a1ef-f29baa3befc0"
      },
      "source": [
        "actual_predictions = scaler.inverse_transform(np.array(test_inputs[train_window:] ).reshape(-1, 1))\n",
        "print(actual_predictions)"
      ],
      "execution_count": 107,
      "outputs": [
        {
          "output_type": "stream",
          "name": "stdout",
          "text": [
            "[[380.9799858 ]\n",
            " [380.9768602 ]\n",
            " [380.97509062]\n",
            " [380.97214808]\n",
            " [380.96961235]\n",
            " [380.96726646]\n",
            " [380.96479853]\n",
            " [380.96235772]\n",
            " [380.96027625]\n",
            " [380.95842531]\n",
            " [380.95667606]\n",
            " [380.95483189]]\n"
          ]
        }
      ]
    },
    {
      "cell_type": "code",
      "metadata": {
        "colab": {
          "base_uri": "https://localhost:8080/"
        },
        "id": "N--N-eYAvDpH",
        "outputId": "eec64149-f637-4f26-be68-43b96233c7b0"
      },
      "source": [
        "x = np.arange(132, 144, 1)\n",
        "print(x)"
      ],
      "execution_count": 108,
      "outputs": [
        {
          "output_type": "stream",
          "name": "stdout",
          "text": [
            "[132 133 134 135 136 137 138 139 140 141 142 143]\n"
          ]
        }
      ]
    },
    {
      "cell_type": "code",
      "metadata": {
        "colab": {
          "base_uri": "https://localhost:8080/",
          "height": 284
        },
        "id": "yBYcGBXuvL0N",
        "outputId": "7db11fe3-300b-46ae-cd56-015b796d9202"
      },
      "source": [
        "plt.title('Month vs Passenger')\n",
        "plt.ylabel('Total Passengers')\n",
        "plt.grid(True)\n",
        "plt.autoscale(axis='x', tight=True)\n",
        "plt.plot(flight_data['passengers'])\n",
        "plt.plot(x,actual_predictions)\n",
        "plt.show()"
      ],
      "execution_count": 109,
      "outputs": [
        {
          "output_type": "display_data",
          "data": {
            "text/plain": [
              "<Figure size 432x288 with 1 Axes>"
            ],
            "image/png": "[encoded data removed]"
          },
          "metadata": {
            "needs_background": "light"
          }
        }
      ]
    },
    {
      "cell_type": "code",
      "metadata": {
        "id": "t5HVJAOOvO4H"
      },
      "source": [
        ""
      ],
      "execution_count": 135,
      "outputs": []
    }
  ]
}