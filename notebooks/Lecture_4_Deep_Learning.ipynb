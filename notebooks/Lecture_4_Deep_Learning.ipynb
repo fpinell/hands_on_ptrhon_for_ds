{
  "nbformat": 4,
  "nbformat_minor": 0,
  "metadata": {
    "colab": {
      "name": "Lecture_4_Deep_Learning",
      "provenance": [],
      "collapsed_sections": [
        "ELbqlV_DC9Jw"
      ],
      "toc_visible": true,
      "authorship_tag": "ABX9TyMhdafR8VLw2x3mocnvykKZ",
      "include_colab_link": true
    },
    "kernelspec": {
      "name": "python3",
      "display_name": "Python 3"
    },
    "language_info": {
      "name": "python"
    },
    "accelerator": "GPU"
  },
  "cells": [
    {
      "cell_type": "markdown",
      "metadata": {
        "id": "view-in-github",
        "colab_type": "text"
      },
      "source": [
        "<a href=\"https://colab.research.google.com/github/fpinell/hands_on_python_for_ds/blob/main/notebooks/Lecture_4_Deep_Learning.ipynb\" target=\"_parent\"><img src=\"https://colab.research.google.com/assets/colab-badge.svg\" alt=\"Open In Colab\"/></a>"
      ]
    },
    {
      "cell_type": "markdown",
      "metadata": {
        "id": "ELbqlV_DC9Jw"
      },
      "source": [
        "# Hands on Python for Data Science\n",
        "\n",
        "\n",
        "### Master II Livello - Data Science and Statistical Learning (MD2SL) 2020-2021\n",
        "\n",
        "#### Fabio Pinelli\n",
        "<a href=\"mailto:fabio.pinelli@imtlucca.it\">fabio.pinelli@imtlucca.it</a><br/>\n",
        "IMT School for Advanced Studies Lucca<br/>\n",
        "2020/2021<br/>\n",
        "June, 26 2021"
      ]
    },
    {
      "cell_type": "markdown",
      "metadata": {
        "id": "5MZW5LhxBoow"
      },
      "source": [
        "# Exam\n",
        "- Project that can be done at most in 2 students\n",
        "- The project should include:\n",
        "  - Selection of a dataset and the relative problem, e.g. Clustering, Classification, or Regression \n",
        "  - **Exploratory Data Analysis (EDA)**. Explore the data, with some plots (more than 1). \n",
        "  - **Application** of one of the models we saw during these Saturdays \n",
        "  - Analysis of the **Results**: how the model is performing\n",
        "\n",
        "- You can send me a proposal by email and, if needed, we can discuss it in call (15-30 minutes)\n",
        "- Share with me your colab notebook\n",
        "- Discussion of the notebook in 30 minutes\n",
        "\n",
        "I will evaluate your ability to use the tools we explore together, and the completeness of your projects. I will not evaluate the accuracy of the model (bad modeling choices we will be reflected probabily on the results :-)) \n",
        "\n",
        "We can discuss your proposal before the last week of July, and the deadline for final submission is **September 17**.\n",
        "We will discuss the project the week after.  "
      ]
    },
    {
      "cell_type": "markdown",
      "metadata": {
        "id": "HUepE3bODBa2"
      },
      "source": [
        "# Outline\n",
        "\n",
        "- Pytorch\n",
        "- Neural Network (fully connected)\n",
        "  - Classification\n",
        "  - Learning rate\n",
        "  - Regression on tabular data\n",
        "- CNN\n",
        "- RNN\n",
        "\n"
      ]
    },
    {
      "cell_type": "markdown",
      "metadata": {
        "id": "tPNVyHGcD3mW"
      },
      "source": [
        "# Pytorch \n",
        "\n",
        "## Why ```pytorch```?\n",
        "\n",
        "1. Because I've already done something in PyTorch\n",
        "2. It is widely used now in the research environment \n",
        "3. It is more _pythonic_ the way it is implemented, thus the learning curve can be smoother than with other platform\n",
        "  - use\n",
        "  - extend\n",
        "  - debug\n",
        "4. Tensors are really similar to numpy arrays \n",
        "5. (not in our goals) It can be used for scientific computation as well, not only for _Deep Learning_ tasks\n",
        "\n"
      ]
    },
    {
      "cell_type": "code",
      "metadata": {
        "id": "S6cfGklpSyst"
      },
      "source": [
        "# Python ≥3.5 is required\n",
        "import sys\n",
        "assert sys.version_info >= (3, 5)\n",
        "\n",
        "# Scikit-Learn ≥0.20 is required\n",
        "import sklearn\n",
        "assert sklearn.__version__ >= \"0.20\"\n",
        "\n",
        "# Common imports\n",
        "import numpy as np\n",
        "import pandas as pd\n",
        "import seaborn as sns\n",
        "import os\n",
        "\n",
        "# to make this notebook's output stable across runs\n",
        "np.random.seed(42)\n",
        "\n",
        "#import for pytorch\n",
        "import torch\n",
        "import torch.nn as nn\n",
        "import torch.optim as optim\n",
        "import torch.utils.data\n",
        "import torch.nn.functional as F\n",
        "import torchvision\n",
        "from torchvision import transforms\n",
        "from PIL import Image, ImageFile\n",
        "\n",
        "\n",
        "\n",
        "# To plot pretty figures\n",
        "%matplotlib inline\n",
        "import matplotlib as mpl\n",
        "import matplotlib.pyplot as plt\n",
        "mpl.rc('axes', labelsize=14)\n",
        "mpl.rc('xtick', labelsize=12)\n",
        "mpl.rc('ytick', labelsize=12)\n",
        "\n",
        "# Where to save the figures\n",
        "PROJECT_ROOT_DIR = \".\"\n",
        "CHAPTER_ID = \"svm\"\n",
        "IMAGES_PATH = os.path.join(PROJECT_ROOT_DIR, \"images\", CHAPTER_ID)\n",
        "os.makedirs(IMAGES_PATH, exist_ok=True)\n",
        "\n",
        "def save_fig(fig_id, tight_layout=True, fig_extension=\"png\", resolution=300):\n",
        "    path = os.path.join(IMAGES_PATH, fig_id + \".\" + fig_extension)\n",
        "    print(\"Saving figure\", fig_id)\n",
        "    if tight_layout:\n",
        "        plt.tight_layout()\n",
        "    plt.savefig(path, format=fig_extension, dpi=resolution)"
      ],
      "execution_count": null,
      "outputs": []
    },
    {
      "cell_type": "code",
      "metadata": {
        "colab": {
          "base_uri": "https://localhost:8080/"
        },
        "id": "lipDnPDxEQ_R",
        "outputId": "1e7666c4-f11c-44c3-a567-7ad773b877f0"
      },
      "source": [
        "# pytorch is available naturally on colab\n",
        "# we can also use a gpu\n",
        "# Go to Menu > Runtime > Change runtime.\n",
        "\n",
        "\n",
        "import torch\n",
        "# GPU available check \n",
        "print('GPU available check {}'.format(torch.cuda.is_available()))\n",
        "print(torch.rand(2,2))"
      ],
      "execution_count": null,
      "outputs": [
        {
          "output_type": "stream",
          "text": [
            "GPU available check True\n",
            "tensor([[0.1553, 0.6117],\n",
            "        [0.6164, 0.1358]])\n"
          ],
          "name": "stdout"
        }
      ]
    },
    {
      "cell_type": "markdown",
      "metadata": {
        "id": "vk7_93nOEAQ8"
      },
      "source": [
        "## Tensors \n",
        "\n",
        "- A tensor is both a container for **numbers** and for a set of rules that define transformations between tensors producing a new tensor\n",
        "\n",
        "- **Essentially?** A multidimensional array\n",
        "- Every tensor has a rank\n",
        "  - scalar --> rank 0 \n",
        "  - array --> rank 1\n",
        "  - $n \\times n$ matrix --> rank 2\n",
        "\n",
        "```python torch.rand(2,2)``` creates a rank 2 tensor with random values by using ```python torch.rand()``` \n",
        "\n"
      ]
    },
    {
      "cell_type": "markdown",
      "metadata": {
        "id": "fO6e1lw4GfBT"
      },
      "source": [
        "### Operations with tensors"
      ]
    },
    {
      "cell_type": "code",
      "metadata": {
        "colab": {
          "base_uri": "https://localhost:8080/"
        },
        "id": "a_ATkkKhEX7D",
        "outputId": "eca233a4-c793-4f15-d6ef-672eb35e33f0"
      },
      "source": [
        "# we can create a tensor from lists\n",
        "x = torch.tensor([[0,0,1],[1,1,1],[0,0,0]])\n",
        "print(x)"
      ],
      "execution_count": null,
      "outputs": [
        {
          "output_type": "stream",
          "text": [
            "tensor([[0, 0, 1],\n",
            "        [1, 1, 1],\n",
            "        [0, 0, 0]])\n"
          ],
          "name": "stdout"
        }
      ]
    },
    {
      "cell_type": "code",
      "metadata": {
        "colab": {
          "base_uri": "https://localhost:8080/"
        },
        "id": "Ac60DL6_HTLp",
        "outputId": "12bb305a-6eaa-4b8a-b563-9f8a03566f11"
      },
      "source": [
        "# we can change an element in a tensor by using standard Python indexing\n",
        "\n",
        "x[0][0] = 5\n",
        "print(x) "
      ],
      "execution_count": null,
      "outputs": [
        {
          "output_type": "stream",
          "text": [
            "tensor([[5, 0, 1],\n",
            "        [1, 1, 1],\n",
            "        [0, 0, 0]])\n"
          ],
          "name": "stdout"
        }
      ]
    },
    {
      "cell_type": "markdown",
      "metadata": {
        "id": "lv8CgLeuHEmK"
      },
      "source": [
        "We can use special creation functions to generate particular types of tensors\n",
        "\n",
        "- ```ones()``` generates tensors filled with 1s\n",
        "- ```zeros()```  generates tensors filled with 1s"
      ]
    },
    {
      "cell_type": "code",
      "metadata": {
        "colab": {
          "base_uri": "https://localhost:8080/"
        },
        "id": "0f5_LPTHHTlS",
        "outputId": "5fc91b25-9f14-4b67-db05-2348db8b7a76"
      },
      "source": [
        "a = torch.zeros(2,2)\n",
        "b = torch.ones(2,2)\n",
        "print('First tensor\\n {}'.format(a))\n",
        "print('Second tensor\\n {}'.format(b))"
      ],
      "execution_count": null,
      "outputs": [
        {
          "output_type": "stream",
          "text": [
            "First tensor\n",
            " tensor([[0., 0.],\n",
            "        [0., 0.]])\n",
            "Second tensor\n",
            " tensor([[1., 1.],\n",
            "        [1., 1.]])\n"
          ],
          "name": "stdout"
        }
      ]
    },
    {
      "cell_type": "markdown",
      "metadata": {
        "id": "0hxpcKjhIo9W"
      },
      "source": [
        "We can perform standard mathematical operations with tensors, e.g. addind two tensors together. \n",
        "\n"
      ]
    },
    {
      "cell_type": "code",
      "metadata": {
        "colab": {
          "base_uri": "https://localhost:8080/"
        },
        "id": "E-p3-HtoHUFm",
        "outputId": "83094ddc-6d7d-4f7c-9234-b57a83ccead3"
      },
      "source": [
        "a = torch.tensor([[1,2],[2,3]])\n",
        "b = torch.tensor([[1,1],[1,1]])\n",
        "print('Check the sum\\n {}'.format(a+b))"
      ],
      "execution_count": null,
      "outputs": [
        {
          "output_type": "stream",
          "text": [
            "Check the sum\n",
            " tensor([[2, 3],\n",
            "        [3, 4]])\n"
          ],
          "name": "stdout"
        }
      ]
    },
    {
      "cell_type": "markdown",
      "metadata": {
        "id": "-8BxnmGmJIJg"
      },
      "source": [
        "And if you have a tensor of rank 0, you can access out the value with the ```item()``` function"
      ]
    },
    {
      "cell_type": "code",
      "metadata": {
        "colab": {
          "base_uri": "https://localhost:8080/"
        },
        "id": "ixzmV8dxHUDH",
        "outputId": "bc5f8fe7-db8a-429e-9c5d-d3c1ddaf7928"
      },
      "source": [
        "print('Value of the 1D tensor: {}'.format(torch.rand(1).item()))"
      ],
      "execution_count": null,
      "outputs": [
        {
          "output_type": "stream",
          "text": [
            "Value of the 1D tensor: 0.49971330165863037\n"
          ],
          "name": "stdout"
        }
      ]
    },
    {
      "cell_type": "markdown",
      "metadata": {
        "id": "ahJdiHnZJfiv"
      },
      "source": [
        "Tensors can live in the **CPU** or on the **GPU** and they can be copied between devices by usint the ```to()``` function:"
      ]
    },
    {
      "cell_type": "code",
      "metadata": {
        "colab": {
          "base_uri": "https://localhost:8080/"
        },
        "id": "xfNPJA5JHT_6",
        "outputId": "865f95d0-78c3-4203-a6c3-04465bdf0988"
      },
      "source": [
        "cpu_tensor = torch.rand(2)\n",
        "print('In which device is the tensor? {}'.format(cpu_tensor.device))"
      ],
      "execution_count": null,
      "outputs": [
        {
          "output_type": "stream",
          "text": [
            "In which device is the tensor? cpu\n"
          ],
          "name": "stdout"
        }
      ]
    },
    {
      "cell_type": "code",
      "metadata": {
        "id": "TjX6p_2eHT9T",
        "colab": {
          "base_uri": "https://localhost:8080/"
        },
        "outputId": "c0ee25ca-4400-4a78-e34c-7cb893d683dd"
      },
      "source": [
        "gpu_tensor = cpu_tensor.to('cuda')\n",
        "print('In which device is the tensor? {}'.format(gpu_tensor.device))"
      ],
      "execution_count": null,
      "outputs": [
        {
          "output_type": "stream",
          "text": [
            "In which device is the tensor? cuda:0\n"
          ],
          "name": "stdout"
        }
      ]
    },
    {
      "cell_type": "markdown",
      "metadata": {
        "id": "MPqjyhEuOl_z"
      },
      "source": [
        "Quite often we need to find the maximum item in a tensor, as well as the index that contains the maximum value (it may correspond to the class that the neural network has decided upon its final prediction). \n",
        "\n",
        "```max()``` and ```argmax()``` are the needed functions, then we can use ```item()``` to get the _standard_ Python value from a 1D tensor. "
      ]
    },
    {
      "cell_type": "code",
      "metadata": {
        "colab": {
          "base_uri": "https://localhost:8080/"
        },
        "id": "L2UWg4dyHT6f",
        "outputId": "9fcec790-333f-4476-8000-85bbe2ce8a95"
      },
      "source": [
        "a = torch.rand(2,2)\n",
        "print(a)\n",
        "\n",
        "print('Which is the max value? {}'.format(a.max()))\n",
        "print('Which is the index of the max value: {}'.format(a.argmax()))\n",
        "print('Get the values\\n -max: {}\\n -index: {}'.format(a.max().item(),a.argmax().item()))"
      ],
      "execution_count": null,
      "outputs": [
        {
          "output_type": "stream",
          "text": [
            "tensor([[0.2191, 0.4884],\n",
            "        [0.4256, 0.2955]])\n",
            "Which is the max value? 0.48835867643356323\n",
            "Which is the index of the max value: 1\n",
            "Get the values\n",
            " -max: 0.48835867643356323\n",
            " -index: 1\n"
          ],
          "name": "stdout"
        }
      ]
    },
    {
      "cell_type": "markdown",
      "metadata": {
        "id": "37kPmJMVP9YA"
      },
      "source": [
        "Sometimes we need to change the type of a tensor"
      ]
    },
    {
      "cell_type": "code",
      "metadata": {
        "colab": {
          "base_uri": "https://localhost:8080/"
        },
        "id": "yCWfYW_zHT12",
        "outputId": "fdeb402d-f5cc-48ad-93ca-b89070ec2060"
      },
      "source": [
        "long_tensor = torch.tensor([[0,0,1],[1,1,1],[0,0,0]])\n",
        "print('which is the type of long tensor? {}'.format(long_tensor.type()))"
      ],
      "execution_count": null,
      "outputs": [
        {
          "output_type": "stream",
          "text": [
            "which is the type of long tensor? torch.LongTensor\n"
          ],
          "name": "stdout"
        }
      ]
    },
    {
      "cell_type": "code",
      "metadata": {
        "colab": {
          "base_uri": "https://localhost:8080/"
        },
        "id": "RZebCnecHTtG",
        "outputId": "77feaad0-710e-4fd0-c1f1-15de875a6b0e"
      },
      "source": [
        "float_tensor = long_tensor.to(dtype=torch.float32)\n",
        "float_tensor_2 = long_tensor.type(torch.float64) #second method to change type\n",
        "print('which is the type of long tensor? {}'.format(float_tensor.type()))\n",
        "print('which is the type of long tensor? {}'.format(float_tensor_2.type()))"
      ],
      "execution_count": null,
      "outputs": [
        {
          "output_type": "stream",
          "text": [
            "which is the type of long tensor? torch.FloatTensor\n",
            "which is the type of long tensor? torch.DoubleTensor\n"
          ],
          "name": "stdout"
        }
      ]
    },
    {
      "cell_type": "markdown",
      "metadata": {
        "id": "duAx1tzzRLCG"
      },
      "source": [
        "If you remember in ```pandas``` we could perform operations of dataframes using the parameter ```in_place = True```. \n",
        "\n",
        "We could perform something similar on tensors. \n",
        "\n",
        "Functions can be applied _inplace_ if exists the original fuction with appended underscore '_'. \n",
        "\n",
        "Let see an example:"
      ]
    },
    {
      "cell_type": "code",
      "metadata": {
        "colab": {
          "base_uri": "https://localhost:8080/"
        },
        "id": "gN1Oiy_oRyql",
        "outputId": "fefc66e8-500f-439d-8533-05ec823cd775"
      },
      "source": [
        "random_tensor = torch.rand(2,2)\n",
        "new_random = random_tensor.log2()\n",
        "print(random_tensor)\n",
        "print(new_random)"
      ],
      "execution_count": null,
      "outputs": [
        {
          "output_type": "stream",
          "text": [
            "tensor([[0.9400, 0.9832],\n",
            "        [0.1525, 0.7428]])\n",
            "tensor([[-0.0893, -0.0245],\n",
            "        [-2.7131, -0.4290]])\n"
          ],
          "name": "stdout"
        }
      ]
    },
    {
      "cell_type": "code",
      "metadata": {
        "colab": {
          "base_uri": "https://localhost:8080/"
        },
        "id": "k3VWT0Q5Rynu",
        "outputId": "1d71dff4-b1d7-4531-f670-a361032e920c"
      },
      "source": [
        "print(random_tensor.log2_())"
      ],
      "execution_count": null,
      "outputs": [
        {
          "output_type": "stream",
          "text": [
            "tensor([[-0.0893, -0.0245],\n",
            "        [-2.7131, -0.4290]])\n"
          ],
          "name": "stdout"
        }
      ]
    },
    {
      "cell_type": "markdown",
      "metadata": {
        "id": "UN9lCeqrTNCP"
      },
      "source": [
        "Some nice manipulation that can be done with tensors\n",
        "- reshape / view\n",
        "- column permutation\n",
        "- slice a tensor\n",
        "\n",
        "Let's try with a simple random tensor, and with the ```MINST``` dataset that is represented in numpy arrays of 784 elements"
      ]
    },
    {
      "cell_type": "code",
      "metadata": {
        "colab": {
          "base_uri": "https://localhost:8080/",
          "height": 286
        },
        "id": "MGnJ3F8HXAg-",
        "outputId": "c46bd2ae-5fad-49e0-ede3-3d5f1884f823"
      },
      "source": [
        "'''\n",
        "reshape() function. It is really similar to numpy reshape function. There are a\n",
        "lot of similarities between tensors and numpy operations/functions\n",
        "'''\n",
        "\n",
        "flat_tensor = torch.rand(784)\n",
        "reshaped_tensor = flat_tensor.reshape(1,28,28) #1 is the number of channels\n",
        "print('Flat tensor shape {}'.format(flat_tensor.shape))\n",
        "print('Flat tensor shape {}'.format(reshaped_tensor.shape))\n",
        "\n",
        "'''\n",
        "view() function. Same behaviour of reshape, the main difference is that the view \n",
        "changes if the original one is changed\n",
        "'''\n",
        "flat_tensor = torch.rand(784)\n",
        "reshaped_tensor = flat_tensor.view(1,28,28) #1 is the number of channels\n",
        "print('Flat tensor shape {}'.format(flat_tensor.shape))\n",
        "print('Flat tensor shape {}'.format(reshaped_tensor.shape))\n",
        "\n",
        "'''\n",
        "The reshaped tensor can't have a number of elements different than the original one\n",
        "'''\n",
        "flat_tensor = torch.rand(784)\n",
        "reshaped_tensor = flat_tensor.view(3,28,28)\n",
        "\n"
      ],
      "execution_count": null,
      "outputs": [
        {
          "output_type": "stream",
          "text": [
            "Flat tensor shape torch.Size([784])\n",
            "Flat tensor shape torch.Size([1, 28, 28])\n",
            "Flat tensor shape torch.Size([784])\n",
            "Flat tensor shape torch.Size([1, 28, 28])\n"
          ],
          "name": "stdout"
        },
        {
          "output_type": "error",
          "ename": "RuntimeError",
          "evalue": "ignored",
          "traceback": [
            "\u001b[0;31m---------------------------------------------------------------------------\u001b[0m",
            "\u001b[0;31mRuntimeError\u001b[0m                              Traceback (most recent call last)",
            "\u001b[0;32m<ipython-input-15-22bffc86eb1f>\u001b[0m in \u001b[0;36m<module>\u001b[0;34m()\u001b[0m\n\u001b[1;32m     22\u001b[0m '''\n\u001b[1;32m     23\u001b[0m \u001b[0mflat_tensor\u001b[0m \u001b[0;34m=\u001b[0m \u001b[0mtorch\u001b[0m\u001b[0;34m.\u001b[0m\u001b[0mrand\u001b[0m\u001b[0;34m(\u001b[0m\u001b[0;36m784\u001b[0m\u001b[0;34m)\u001b[0m\u001b[0;34m\u001b[0m\u001b[0;34m\u001b[0m\u001b[0m\n\u001b[0;32m---> 24\u001b[0;31m \u001b[0mreshaped_tensor\u001b[0m \u001b[0;34m=\u001b[0m \u001b[0mflat_tensor\u001b[0m\u001b[0;34m.\u001b[0m\u001b[0mview\u001b[0m\u001b[0;34m(\u001b[0m\u001b[0;36m3\u001b[0m\u001b[0;34m,\u001b[0m\u001b[0;36m28\u001b[0m\u001b[0;34m,\u001b[0m\u001b[0;36m28\u001b[0m\u001b[0;34m)\u001b[0m\u001b[0;34m\u001b[0m\u001b[0;34m\u001b[0m\u001b[0m\n\u001b[0m\u001b[1;32m     25\u001b[0m \u001b[0;34m\u001b[0m\u001b[0m\n",
            "\u001b[0;31mRuntimeError\u001b[0m: shape '[3, 28, 28]' is invalid for input of size 784"
          ]
        }
      ]
    },
    {
      "cell_type": "code",
      "metadata": {
        "id": "Y9moKIIpRymG"
      },
      "source": [
        "\n",
        "from sklearn.datasets import fetch_openml\n",
        "mnist = fetch_openml('mnist_784', version=1, cache=True, as_frame=False)\n",
        "\n",
        "X = mnist[\"data\"]\n",
        "y = mnist[\"target\"].astype(np.uint8)\n",
        "\n",
        "X_train = X[:50000]\n",
        "y_train = y[:50000]\n",
        "\n",
        "X_val = X[50000:60000]\n",
        "y_val = y[50000:60000]\n",
        "\n",
        "X_test = X[60000:]\n",
        "y_test = y[60000:]"
      ],
      "execution_count": null,
      "outputs": []
    },
    {
      "cell_type": "code",
      "metadata": {
        "colab": {
          "base_uri": "https://localhost:8080/"
        },
        "id": "e12FubxuRyi7",
        "outputId": "2022f4e6-30ce-43c1-ffcf-02e0f696461b"
      },
      "source": [
        "print('shape of x train: {}'.format(X_train.shape))"
      ],
      "execution_count": null,
      "outputs": [
        {
          "output_type": "stream",
          "text": [
            "shape of x train: (50000, 784)\n"
          ],
          "name": "stdout"
        }
      ]
    },
    {
      "cell_type": "code",
      "metadata": {
        "id": "3kJ4IWlkRyfz"
      },
      "source": [
        "'''\n",
        "Let's create a tensor from the numpy arrays\n",
        "'''\n",
        "x_train_tensor,x_val_tensor, x_test_tensor = map(torch.FloatTensor, (X_train, X_val, X_test))\n",
        "y_train_tensor,y_val_tensor, y_test_tensor = map(torch.LongTensor, (y_train,y_val, y_test))\n",
        "\n",
        "# y_train_tensor = y_train_tensor.type(torch.LongTensor)\n",
        "# y_test_tensor = y_test_tensor.type(torch.LongTensor)"
      ],
      "execution_count": null,
      "outputs": []
    },
    {
      "cell_type": "code",
      "metadata": {
        "colab": {
          "base_uri": "https://localhost:8080/"
        },
        "id": "cALwuCBlRydZ",
        "outputId": "097cb7dc-6abe-4c2b-d9e6-310e66ca4def"
      },
      "source": [
        "print(x_train_tensor.shape,x_train_tensor.size())\n",
        "x_train_tensor_reshaped = x_train_tensor.reshape([-1,28,28])\n",
        "\n",
        "print(x_train_tensor_reshaped.size())\n"
      ],
      "execution_count": null,
      "outputs": [
        {
          "output_type": "stream",
          "text": [
            "torch.Size([50000, 784]) torch.Size([50000, 784])\n",
            "torch.Size([50000, 28, 28])\n"
          ],
          "name": "stdout"
        }
      ]
    },
    {
      "cell_type": "markdown",
      "metadata": {
        "id": "vmIvwydEYfzL"
      },
      "source": [
        "Dimensions permutations. The order of the \"columns\" is not the one useful for our tasks so we need to change the order. \n",
        "For instance, images are stored as ```[height, width, channel]``` tensors, but PyTorch prefers to dela with these in a ```[channel, height, width ]```\n",
        "\n",
        "```\n",
        "permute() \n",
        "```"
      ]
    },
    {
      "cell_type": "code",
      "metadata": {
        "colab": {
          "base_uri": "https://localhost:8080/"
        },
        "id": "f9awYd1YRyas",
        "outputId": "d1cb7c03-58f9-4a27-d5ed-6f4035bdc761"
      },
      "source": [
        "hwc_tensor = torch.rand(643,232,9)\n",
        "chw_tensor = hwc_tensor.permute(2,0,1)\n",
        "print('Shape of hwc tensor {}',hwc_tensor.shape)\n",
        "print('Shape of chw tensor {}',chw_tensor.shape)"
      ],
      "execution_count": null,
      "outputs": [
        {
          "output_type": "stream",
          "text": [
            "Shape of hwc tensor {} torch.Size([643, 232, 9])\n",
            "Shape of chw tensor {} torch.Size([9, 643, 232])\n"
          ],
          "name": "stdout"
        }
      ]
    },
    {
      "cell_type": "markdown",
      "metadata": {
        "id": "UxnUPHmmZkBV"
      },
      "source": [
        "Slice on tensors to access certain elements of the data structrure"
      ]
    },
    {
      "cell_type": "code",
      "metadata": {
        "colab": {
          "base_uri": "https://localhost:8080/",
          "height": 470
        },
        "id": "mQLxbX7JRyX2",
        "outputId": "81b86547-3544-4bbf-afbf-21bddc7aa31e"
      },
      "source": [
        "'''\n",
        "Take the ten first lines for all the images\n",
        "'''\n",
        "\n",
        "print('the shape is {}'.format(x_train_tensor_reshaped.size()))\n",
        "\n",
        "selected_part = x_train_tensor_reshaped[:,:10,:]\n",
        "\n",
        "print('the shape of the cropped tensor is {}'.format(selected_part.size()))\n",
        "\n",
        "fig, axes = plt.subplots(8,8,figsize=(8,8))\n",
        "for i in range(8):\n",
        "    for j in range(8):\n",
        "        num_index = np.random.randint(len(selected_part))\n",
        "        axes[i,j].imshow(selected_part[num_index].numpy(), cmap=\"gray\")\n",
        "        axes[i,j].axis(\"off\")\n",
        "plt.show() "
      ],
      "execution_count": null,
      "outputs": [
        {
          "output_type": "stream",
          "text": [
            "the shape is torch.Size([50000, 28, 28])\n",
            "the shape of the cropped tensor is torch.Size([50000, 10, 28])\n"
          ],
          "name": "stdout"
        },
        {
          "output_type": "display_data",
          "data": {
            "image/png": "[encoded data removed]",
            "text/plain": [
              "<Figure size 576x576 with 64 Axes>"
            ]
          },
          "metadata": {
            "tags": [],
            "needs_background": "light"
          }
        }
      ]
    },
    {
      "cell_type": "markdown",
      "metadata": {
        "id": "GjCRQKQY_rWm"
      },
      "source": [
        "Numpy iteroperability: \n",
        "- From ```Tensor``` to ```numpy.array```\n",
        "- From ```numpy.array``` to ```Tensor```"
      ]
    },
    {
      "cell_type": "code",
      "metadata": {
        "colab": {
          "base_uri": "https://localhost:8080/"
        },
        "id": "LX3T67ja_p1M",
        "outputId": "df680adc-a838-44f8-9163-5f965a5af47c"
      },
      "source": [
        "points = torch.zeros(3,4)\n",
        "points_np = points.numpy()\n",
        "\n",
        "print('Type points: {}'.format(type(points)))\n",
        "print('Type points_np: {}'.format(type(points_np)))\n",
        "\n",
        "new_points = torch.from_numpy(points_np)\n",
        "print('Type new_points: {}'.format(type(new_points)))\n"
      ],
      "execution_count": null,
      "outputs": [
        {
          "output_type": "stream",
          "text": [
            "Type points: <class 'torch.Tensor'>\n",
            "Type points_np: <class 'numpy.ndarray'>\n",
            "Type new_points: <class 'torch.Tensor'>\n"
          ],
          "name": "stdout"
        }
      ]
    },
    {
      "cell_type": "markdown",
      "metadata": {
        "id": "xeyEWf_JETYE"
      },
      "source": [
        "# Our first Neural Network in this class :-) \n",
        "\n",
        "- prepare the data for pytorch ```Dataset``` and ```DataLoader```\n",
        "- create the network, loss, optimizer\n",
        "- training \n"
      ]
    },
    {
      "cell_type": "markdown",
      "metadata": {
        "id": "-E76Q_tOCjHS"
      },
      "source": [
        "PyTorch has developed standard conventions of interacting with data that make it fairly consistent to work with, whether you are working with images, text, or audio\n",
        "\n",
        "\n",
        "```Dataset``` and ```DataLoader``` are two classes used to create the data in the format needed for PyTorch.\n",
        "\n",
        "- ```Dataset``` is a python class that allows us to get at the data we are supplying to the neural network \n",
        "- ```DataLoader``` is what feeds data from the dataset into the network "
      ]
    },
    {
      "cell_type": "markdown",
      "metadata": {
        "id": "ppZO80xIHmYJ"
      },
      "source": [
        "Every dataset, no matter whether it includes images, audio, text, etc, can interact with PyTorch if it satisfies this abstract Python class: \n",
        "\n",
        "```python\n",
        "class Dataset(object):\n",
        "  def __getitem__(self,index):\n",
        "    raise NotImplementedError\n",
        "  def __len__(self):\n",
        "    raise NotImplementedError\n",
        "```\n",
        "\n",
        "We have to implement a method that returns the size of our dataset (```len```), and implement a method that can retrieve an item from our dataset in a (*label,tensor*) pair.\n",
        "\n",
        "The dataset is called, then by the data loader and it pushes data into the the network.\n",
        "\n",
        "It is possible to use the class ```TensorDataset```\n",
        "\n",
        "There are also some package that help us on do it, for instance: \n",
        "```torchvision``` with ImageFolder, ```torchtext```. \n",
        "\n",
        "[torchvision](https://pytorch.org/vision/stable/index.html)\n",
        "\n",
        "[torchtext](https://pytorch.org/text/stable/index.html)\n",
        "\n",
        "\n"
      ]
    },
    {
      "cell_type": "markdown",
      "metadata": {
        "id": "FFJNPK0eYKqq"
      },
      "source": [
        "## Classification"
      ]
    },
    {
      "cell_type": "code",
      "metadata": {
        "id": "frK0wby5lhM9"
      },
      "source": [
        "from torch.utils.data import TensorDataset\n",
        "from torch.utils.data import DataLoader\n",
        "\n",
        "batch_size = 32 \n",
        "train_ds = TensorDataset(x_train_tensor, y_train_tensor)\n",
        "train_dl = DataLoader(\n",
        "    train_ds, batch_size=batch_size, shuffle=True)\n",
        "\n",
        "val_ds = TensorDataset(x_val_tensor, y_val_tensor)\n",
        "val_dl = DataLoader(\n",
        "    val_ds, batch_size=batch_size, shuffle=True)\n",
        "\n",
        "\n",
        "test_ds = TensorDataset(x_test_tensor, y_test_tensor)\n",
        "test_dl = DataLoader(test_ds, batch_size=batch_size)\n"
      ],
      "execution_count": null,
      "outputs": []
    },
    {
      "cell_type": "code",
      "metadata": {
        "id": "3Sk_YxGeMQhM"
      },
      "source": [
        "from torch.utils.data import Dataset, DataLoader\n",
        "class imageDataset(Dataset):\n",
        "    \n",
        "    def __init__(self, X_data, y_data):\n",
        "        self.X_data = X_data\n",
        "        self.y_data = y_data\n",
        "        \n",
        "    def __getitem__(self, index):\n",
        "        return self.X_data[index], self.y_data[index]\n",
        "        \n",
        "    def __len__ (self):\n",
        "        return len(self.X_data)\n",
        " "
      ],
      "execution_count": null,
      "outputs": []
    },
    {
      "cell_type": "code",
      "metadata": {
        "id": "l8Y6k6AHMgNJ"
      },
      "source": [
        "train_ds = imageDataset(x_train_tensor, y_train_tensor)\n",
        "train_dl = DataLoader(\n",
        "    train_ds, batch_size=batch_size, shuffle=True)\n"
      ],
      "execution_count": null,
      "outputs": []
    },
    {
      "cell_type": "markdown",
      "metadata": {
        "id": "fy_MEOL7C20C"
      },
      "source": [
        "The definition of a network uses the ```nn.Module``` of pytorch. \n",
        "\n",
        "```Linear``` defines the structure of each layer\n",
        "```forward``` defines how the data should flow across the different layers of the network\n",
        "```relu``` is the activation function\n",
        "\n",
        "For each layer we define the size of the input and the output.\n",
        "For instance, the first layer takes in input the same shape of the MINST images. Then, it passes the dato to a 200 nodes.\n",
        "\n",
        "The latest layer returns an output equal to the number of classes. \n",
        "\n",
        "To understand which is the predicted class we need to take the ```argmax()``` of the output, such as the index of max score assigned to each instance by the network. "
      ]
    },
    {
      "cell_type": "code",
      "metadata": {
        "id": "xz26ffVjhxYE"
      },
      "source": [
        "class SimpleNet(nn.Module):\n",
        "\n",
        "    def __init__(self):\n",
        "        super(SimpleNet, self).__init__()\n",
        "        self.fc1 = nn.Linear(784, 200)\n",
        "        self.fc2 = nn.Linear(200, 50)\n",
        "        self.fc3 = nn.Linear(50,10)\n",
        "    \n",
        "    def forward(self, x):\n",
        "        x = F.relu(self.fc1(x))\n",
        "        x = F.relu(self.fc2(x))\n",
        "        x = self.fc3(x)\n",
        "        return x"
      ],
      "execution_count": null,
      "outputs": []
    },
    {
      "cell_type": "code",
      "metadata": {
        "id": "FrZAZFYCjyVh"
      },
      "source": [
        "'''\n",
        "create an instance of the network\n",
        "'''\n",
        "simplenet = SimpleNet()"
      ],
      "execution_count": null,
      "outputs": []
    },
    {
      "cell_type": "code",
      "metadata": {
        "id": "IMCjaOMFkMGU"
      },
      "source": [
        "'''\n",
        "Definition of an optimizer, in this case we select the Adam optimizer\n",
        "Another possible optimizer is the SGD that is possibile to select from \n",
        "the same class optim\n",
        "'''\n",
        "optimizer = optim.Adam(simplenet.parameters(), lr=0.001)\n",
        "optimizer_regr = optim.SGD(simplenet.parameters(),lr=0.0001)"
      ],
      "execution_count": null,
      "outputs": []
    },
    {
      "cell_type": "code",
      "metadata": {
        "id": "2cNo6C_fkSWI"
      },
      "source": [
        "'''\n",
        "And then, we need a definition of the loss. \n",
        "Also in this case, we can select one of those made available by pytorch\n",
        "For regression, for instance we could select the MSELoss\n",
        "'''\n",
        "loss = nn.CrossEntropyLoss()\n",
        "loss_regression = nn.MSELoss()"
      ],
      "execution_count": null,
      "outputs": []
    },
    {
      "cell_type": "code",
      "metadata": {
        "id": "dOFlaTSwlPLd"
      },
      "source": [
        "'''\n",
        "Let's put everything together. \n",
        "The network, the optimizer and the loss inside a training loop, using the DataLoader\n",
        "objects that we have already created.\n",
        "'''\n",
        "\n",
        "'''\n",
        "Note: model.train() --> the model is set on training mode, where the weights and biases \n",
        "are adjusted using the training instance passed in batches.\n",
        "'''\n",
        "\n",
        "\n",
        "'''\n",
        "Note: model.eval() --> when we evaluate the model on the validation set.\n",
        "'''\n",
        "\n",
        "'''\n",
        "This function with some refinements can be used for any model, the training process\n",
        "is really similar, it might change few details\n",
        "'''\n",
        "\n",
        "def train(model, optimizer, loss_fn, train_loader, val_loader, epochs=20, device=\"cpu\"):\n",
        "    model.to(device)\n",
        "    for epoch in range(1, epochs+1):\n",
        "        training_loss = 0.0\n",
        "        valid_loss = 0.0\n",
        "        model.train() #train status for the mode\n",
        "        for batch in train_loader:\n",
        "            optimizer.zero_grad() # clear gradients for next train\n",
        "            inputs, targets = batch\n",
        "            inputs = inputs.to(device)\n",
        "            targets = targets.to(device)\n",
        "            output = model(inputs)\n",
        "            loss = loss_fn(output, targets)\n",
        "            loss.backward() # backpropagation, compute gradients\n",
        "            optimizer.step() # apply gradients\n",
        "            training_loss += loss.data.item() * inputs.size(0)\n",
        "            # print(training_loss,loss.data.item(),inputs.size(0))\n",
        "        training_loss /= len(train_loader.dataset)\n",
        "        \n",
        "        with torch.no_grad(): # we are not updating the model\n",
        "          model.eval() #the status of the model is in eval\n",
        "          num_correct = 0 \n",
        "          num_examples = 0\n",
        "          for batch in val_loader:\n",
        "              inputs, targets = batch\n",
        "              inputs = inputs.to(device)\n",
        "              output = model(inputs)\n",
        "              targets = targets.to(device)\n",
        "              loss = loss_fn(output,targets) \n",
        "              valid_loss += loss.data.item() * inputs.size(0)\n",
        "              correct = torch.eq(torch.max(F.softmax(output, dim=1), dim=1)[1], targets)\n",
        "              num_correct += torch.sum(correct).item()\n",
        "              num_examples += correct.shape[0]\n",
        "          valid_loss /= len(val_loader.dataset)\n",
        "\n",
        "        print('Epoch: {}, Training Loss: {:.4f}, Validation Loss: {:.4f}, accuracy = {:.4f}'.format(epoch, training_loss,\n",
        "        valid_loss, num_correct / num_examples))"
      ],
      "execution_count": null,
      "outputs": []
    },
    {
      "cell_type": "markdown",
      "metadata": {
        "id": "6PpDyKHaNSXf"
      },
      "source": [
        "1. In each epoch:\n",
        "  \n",
        "  a. we take a batch $b$ from our training set\n",
        "  b. we pass $b$ to our model and we compute the loss from the $output$\n",
        "  c. to compute the gradients, we call ```backward()```\n",
        "  d. the ```optimizer.step()``` method uses those gradients afterward to perform the adjustments of the weights\n",
        "\n",
        "```zero_grad()``` it is used to make sure that gradients are not influeced by previous batches. \n"
      ]
    },
    {
      "cell_type": "code",
      "metadata": {
        "colab": {
          "base_uri": "https://localhost:8080/"
        },
        "id": "1O3xvPgPOdxX",
        "outputId": "99edbcf4-9bfb-4aff-967e-f57625a7feeb"
      },
      "source": [
        "'''\n",
        "How to move the model to cuda (if available)\n",
        "'''\n",
        "\n",
        "if torch.cuda.is_available():\n",
        "  device = torch.device('cuda')\n",
        "else:\n",
        "  device = torch.device('cpu')\n",
        "\n",
        "simplenet.to(device)\n"
      ],
      "execution_count": null,
      "outputs": [
        {
          "output_type": "execute_result",
          "data": {
            "text/plain": [
              "SimpleNet(\n",
              "  (fc1): Linear(in_features=784, out_features=200, bias=True)\n",
              "  (fc2): Linear(in_features=200, out_features=50, bias=True)\n",
              "  (fc3): Linear(in_features=50, out_features=10, bias=True)\n",
              ")"
            ]
          },
          "metadata": {
            "tags": []
          },
          "execution_count": 46
        }
      ]
    },
    {
      "cell_type": "code",
      "metadata": {
        "colab": {
          "base_uri": "https://localhost:8080/"
        },
        "id": "V4QyMukOlTSK",
        "outputId": "c2ff8b9e-6ef4-4c76-ac98-d7de88da846d"
      },
      "source": [
        "train(simplenet, optimizer,torch.nn.CrossEntropyLoss(), train_dl,val_dl, epochs=5)"
      ],
      "execution_count": null,
      "outputs": [
        {
          "output_type": "stream",
          "text": [
            "Epoch: 1, Training Loss: 0.0912, Validation Loss: 0.1426, accuracy = 0.9660\n",
            "Epoch: 2, Training Loss: 0.0860, Validation Loss: 0.1391, accuracy = 0.9673\n",
            "Epoch: 3, Training Loss: 0.0798, Validation Loss: 0.1576, accuracy = 0.9692\n",
            "Epoch: 4, Training Loss: 0.0764, Validation Loss: 0.1563, accuracy = 0.9664\n",
            "Epoch: 5, Training Loss: 0.0723, Validation Loss: 0.1529, accuracy = 0.9674\n"
          ],
          "name": "stdout"
        }
      ]
    },
    {
      "cell_type": "code",
      "metadata": {
        "id": "UVKCBda4lodb"
      },
      "source": [
        "with torch.no_grad():\n",
        "  simplenet.eval()\n",
        "  for i in range(10):\n",
        "    plt.imshow(x_test_tensor[i].reshape((28,28)), cmap=\"gray\")\n",
        "    plt.title(y_test_tensor[i])\n",
        "    plt.show()\n",
        "    print(simplenet(x_test_tensor[i].float()))\n",
        "    print(simplenet(x_test_tensor[i].float()).max())\n",
        "    print(simplenet(x_test_tensor[i].float()).argmax())"
      ],
      "execution_count": null,
      "outputs": []
    },
    {
      "cell_type": "markdown",
      "metadata": {
        "id": "cZt1GghRYPzV"
      },
      "source": [
        "## Methods to find the best **Learning Rate**\n",
        "- gridsearch: use different learning rate values, and verify which is the best parameters configuration w.r.t. a certain error measure\n",
        "- Over the course of an epoch start out with a small learning rate and increase it to higher values over each batch. At the end of the epoch the learning rate will be high. We compute the ```loss``` for each rate. \n",
        "\n",
        "Then find in a plot (learning_rate, loss) the learning rate that gives the greatest decline."
      ]
    },
    {
      "cell_type": "code",
      "metadata": {
        "id": "KjQn5AaUuBne"
      },
      "source": [
        "def find_lr(model, loss_fn, optimizer, train_loader,init_value = 1e-8, final_value=1, device=\"cpu\"):\n",
        "    number_in_epoch = len(train_loader) - 1\n",
        "    update_step = (final_value / init_value) ** (1 / number_in_epoch)\n",
        "    lr = init_value\n",
        "    optimizer.param_groups[0][\"lr\"] = lr\n",
        "    training_loss = 0.0\n",
        "    best_loss = 0.0\n",
        "    batch_num = 0\n",
        "    losses = []\n",
        "    log_lrs = []\n",
        "    model.train()\n",
        "    for data in train_loader:\n",
        "      # print('Batch number: {}'.format(batch_num))\n",
        "      batch_num += 1\n",
        "      inputs, targets = data\n",
        "      inputs = inputs.to(device)\n",
        "      targets = targets.to(device)\n",
        "      optimizer.zero_grad()\n",
        "      outputs = model(inputs)\n",
        "      loss = loss_fn(outputs, targets)\n",
        "      # print(loss)\n",
        "      # Crash out if loss explodes\n",
        "\n",
        "      if batch_num > 1 and loss > 10 * best_loss:\n",
        "        print('Exploded current loss: {} best_loss: {}'.format(loss,best_loss))\n",
        "        return log_lrs, losses\n",
        "\n",
        "      # Record the best loss\n",
        "\n",
        "      if loss < best_loss or batch_num == 1:\n",
        "          best_loss = loss\n",
        "\n",
        "      # Store the values\n",
        "      losses.append(loss.item())\n",
        "      log_lrs.append((lr))\n",
        "\n",
        "      # Do the backward pass and optimize\n",
        "\n",
        "      loss.backward()\n",
        "      optimizer.step()\n",
        "\n",
        "        # Update the lr for the next step and store\n",
        "\n",
        "      lr *= update_step\n",
        "      optimizer.param_groups[0][\"lr\"] = lr\n",
        "    \n",
        "    print(len(log_lrs),len(losses))\n",
        "    if len(log_lrs) > 20:\n",
        "      print(len(log_lrs),len(losses))\n",
        "      return log_lrs[10:-5], losses[10:-5]\n",
        "    else:\n",
        "      return log_lrs, losses\n"
      ],
      "execution_count": null,
      "outputs": []
    },
    {
      "cell_type": "code",
      "metadata": {
        "colab": {
          "base_uri": "https://localhost:8080/"
        },
        "id": "8lI9Q7ggwBXi",
        "outputId": "443d0b95-e3cd-4fd4-ba04-9609c54e45dc"
      },
      "source": [
        "#load the data again just to be sure what we are using\n",
        "batch_size = 128\n",
        "train_ds = TensorDataset(x_train_tensor, y_train_tensor)\n",
        "train_dl = DataLoader(\n",
        "    train_ds, batch_size=batch_size, shuffle=True)\n",
        "\n",
        "simplenet = SimpleNet()\n",
        "optimizer = optim.Adam(simplenet.parameters(), lr=0.001)\n",
        "(lrs, losses) = find_lr(simplenet, torch.nn.CrossEntropyLoss(), optimizer, train_dl,device='cpu')\n"
      ],
      "execution_count": null,
      "outputs": [
        {
          "output_type": "stream",
          "text": [
            "391 391\n",
            "391 391\n"
          ],
          "name": "stdout"
        }
      ]
    },
    {
      "cell_type": "code",
      "metadata": {
        "colab": {
          "base_uri": "https://localhost:8080/",
          "height": 290
        },
        "id": "ivg8q6idzKOM",
        "outputId": "8f2bf638-de78-4413-a128-6976775c9c71"
      },
      "source": [
        "plt.plot(lrs, losses,)\n",
        "\n",
        "plt.xscale(\"log\")\n",
        "plt.xlabel(\"Learning rate\")\n",
        "plt.ylabel(\"Loss\")\n",
        "plt.show()"
      ],
      "execution_count": null,
      "outputs": [
        {
          "output_type": "display_data",
          "data": {
            "image/png": "[encoded data removed]",
            "text/plain": [
              "<Figure size 432x288 with 1 Axes>"
            ]
          },
          "metadata": {
            "tags": [],
            "needs_background": "light"
          }
        }
      ]
    },
    {
      "cell_type": "markdown",
      "metadata": {
        "id": "EQBjzv1BHX2u"
      },
      "source": [
        "## Regression\n",
        "Let's try now with a regression problem\n",
        "\n",
        "we will use the wine quality data and try to regress on the house prices"
      ]
    },
    {
      "cell_type": "code",
      "metadata": {
        "colab": {
          "base_uri": "https://localhost:8080/",
          "height": 222
        },
        "id": "4kdO4OnvMGmb",
        "outputId": "9f0c346d-1772-42ba-deed-fbb48e7745a8"
      },
      "source": [
        "path_github = 'https://raw.githubusercontent.com/fpinell/hands_on_python_for_ds/main/data/winequality-white.csv'\n",
        "df = pd.read_csv(path_github,sep=';')\n",
        "df.head()\n"
      ],
      "execution_count": null,
      "outputs": [
        {
          "output_type": "execute_result",
          "data": {
            "text/html": [
              "<div>\n",
              "<style scoped>\n",
              "    .dataframe tbody tr th:only-of-type {\n",
              "        vertical-align: middle;\n",
              "    }\n",
              "\n",
              "    .dataframe tbody tr th {\n",
              "        vertical-align: top;\n",
              "    }\n",
              "\n",
              "    .dataframe thead th {\n",
              "        text-align: right;\n",
              "    }\n",
              "</style>\n",
              "<table border=\"1\" class=\"dataframe\">\n",
              "  <thead>\n",
              "    <tr style=\"text-align: right;\">\n",
              "      <th></th>\n",
              "      <th>fixed acidity</th>\n",
              "      <th>volatile acidity</th>\n",
              "      <th>citric acid</th>\n",
              "      <th>residual sugar</th>\n",
              "      <th>chlorides</th>\n",
              "      <th>free sulfur dioxide</th>\n",
              "      <th>total sulfur dioxide</th>\n",
              "      <th>density</th>\n",
              "      <th>pH</th>\n",
              "      <th>sulphates</th>\n",
              "      <th>alcohol</th>\n",
              "      <th>quality</th>\n",
              "    </tr>\n",
              "  </thead>\n",
              "  <tbody>\n",
              "    <tr>\n",
              "      <th>0</th>\n",
              "      <td>7.0</td>\n",
              "      <td>0.27</td>\n",
              "      <td>0.36</td>\n",
              "      <td>20.7</td>\n",
              "      <td>0.045</td>\n",
              "      <td>45.0</td>\n",
              "      <td>170.0</td>\n",
              "      <td>1.0010</td>\n",
              "      <td>3.00</td>\n",
              "      <td>0.45</td>\n",
              "      <td>8.8</td>\n",
              "      <td>6</td>\n",
              "    </tr>\n",
              "    <tr>\n",
              "      <th>1</th>\n",
              "      <td>6.3</td>\n",
              "      <td>0.30</td>\n",
              "      <td>0.34</td>\n",
              "      <td>1.6</td>\n",
              "      <td>0.049</td>\n",
              "      <td>14.0</td>\n",
              "      <td>132.0</td>\n",
              "      <td>0.9940</td>\n",
              "      <td>3.30</td>\n",
              "      <td>0.49</td>\n",
              "      <td>9.5</td>\n",
              "      <td>6</td>\n",
              "    </tr>\n",
              "    <tr>\n",
              "      <th>2</th>\n",
              "      <td>8.1</td>\n",
              "      <td>0.28</td>\n",
              "      <td>0.40</td>\n",
              "      <td>6.9</td>\n",
              "      <td>0.050</td>\n",
              "      <td>30.0</td>\n",
              "      <td>97.0</td>\n",
              "      <td>0.9951</td>\n",
              "      <td>3.26</td>\n",
              "      <td>0.44</td>\n",
              "      <td>10.1</td>\n",
              "      <td>6</td>\n",
              "    </tr>\n",
              "    <tr>\n",
              "      <th>3</th>\n",
              "      <td>7.2</td>\n",
              "      <td>0.23</td>\n",
              "      <td>0.32</td>\n",
              "      <td>8.5</td>\n",
              "      <td>0.058</td>\n",
              "      <td>47.0</td>\n",
              "      <td>186.0</td>\n",
              "      <td>0.9956</td>\n",
              "      <td>3.19</td>\n",
              "      <td>0.40</td>\n",
              "      <td>9.9</td>\n",
              "      <td>6</td>\n",
              "    </tr>\n",
              "    <tr>\n",
              "      <th>4</th>\n",
              "      <td>7.2</td>\n",
              "      <td>0.23</td>\n",
              "      <td>0.32</td>\n",
              "      <td>8.5</td>\n",
              "      <td>0.058</td>\n",
              "      <td>47.0</td>\n",
              "      <td>186.0</td>\n",
              "      <td>0.9956</td>\n",
              "      <td>3.19</td>\n",
              "      <td>0.40</td>\n",
              "      <td>9.9</td>\n",
              "      <td>6</td>\n",
              "    </tr>\n",
              "  </tbody>\n",
              "</table>\n",
              "</div>"
            ],
            "text/plain": [
              "   fixed acidity  volatile acidity  citric acid  ...  sulphates  alcohol  quality\n",
              "0            7.0              0.27         0.36  ...       0.45      8.8        6\n",
              "1            6.3              0.30         0.34  ...       0.49      9.5        6\n",
              "2            8.1              0.28         0.40  ...       0.44     10.1        6\n",
              "3            7.2              0.23         0.32  ...       0.40      9.9        6\n",
              "4            7.2              0.23         0.32  ...       0.40      9.9        6\n",
              "\n",
              "[5 rows x 12 columns]"
            ]
          },
          "metadata": {
            "tags": []
          },
          "execution_count": 53
        }
      ]
    },
    {
      "cell_type": "code",
      "metadata": {
        "colab": {
          "base_uri": "https://localhost:8080/"
        },
        "id": "Rkzfh9VcVTbu",
        "outputId": "bdb029fa-5800-4f7c-fca7-3f1c00f0c081"
      },
      "source": [
        "df.info()"
      ],
      "execution_count": null,
      "outputs": [
        {
          "output_type": "stream",
          "text": [
            "<class 'pandas.core.frame.DataFrame'>\n",
            "RangeIndex: 4898 entries, 0 to 4897\n",
            "Data columns (total 12 columns):\n",
            " #   Column                Non-Null Count  Dtype  \n",
            "---  ------                --------------  -----  \n",
            " 0   fixed acidity         4898 non-null   float64\n",
            " 1   volatile acidity      4898 non-null   float64\n",
            " 2   citric acid           4898 non-null   float64\n",
            " 3   residual sugar        4898 non-null   float64\n",
            " 4   chlorides             4898 non-null   float64\n",
            " 5   free sulfur dioxide   4898 non-null   float64\n",
            " 6   total sulfur dioxide  4898 non-null   float64\n",
            " 7   density               4898 non-null   float64\n",
            " 8   pH                    4898 non-null   float64\n",
            " 9   sulphates             4898 non-null   float64\n",
            " 10  alcohol               4898 non-null   float64\n",
            " 11  quality               4898 non-null   int64  \n",
            "dtypes: float64(11), int64(1)\n",
            "memory usage: 459.3 KB\n"
          ],
          "name": "stdout"
        }
      ]
    },
    {
      "cell_type": "code",
      "metadata": {
        "colab": {
          "base_uri": "https://localhost:8080/",
          "height": 286
        },
        "id": "u5JJp1Tdc2ku",
        "outputId": "9ff00520-fe24-4a0e-ed36-5578e6fc32aa"
      },
      "source": [
        "import seaborn as sns\n",
        "\n",
        "sns.countplot(x = 'quality', data=df)\n",
        "\n",
        "X = df.iloc[:, 0:-1]\n",
        "y = df.iloc[:, -1]"
      ],
      "execution_count": null,
      "outputs": [
        {
          "output_type": "display_data",
          "data": {
            "image/png": "[encoded data removed]",
            "text/plain": [
              "<Figure size 432x288 with 1 Axes>"
            ]
          },
          "metadata": {
            "tags": [],
            "needs_background": "light"
          }
        }
      ]
    },
    {
      "cell_type": "code",
      "metadata": {
        "id": "DznAmk5mfu3W"
      },
      "source": [
        "from sklearn.model_selection import train_test_split\n",
        "\n",
        "# Train - Test\n",
        "X_trainval, X_test, y_trainval, y_test = train_test_split(X, y, test_size=0.2, random_state=69)\n",
        "# Split train into train-val\n",
        "X_train, X_val, y_train, y_val = train_test_split(X_trainval, y_trainval, test_size=0.1, random_state=21)\n"
      ],
      "execution_count": null,
      "outputs": []
    },
    {
      "cell_type": "code",
      "metadata": {
        "id": "ZeH9B5jhf6xu"
      },
      "source": [
        "from sklearn.preprocessing import MinMaxScaler\n",
        "scaler = MinMaxScaler() # scaling the data\n",
        "X_train = scaler.fit_transform(X_train)\n",
        "X_val = scaler.transform(X_val)\n",
        "X_test = scaler.transform(X_test)\n",
        "X_train, y_train = np.array(X_train), np.array(y_train)\n",
        "X_val, y_val = np.array(X_val), np.array(y_val)\n",
        "X_test, y_test = np.array(X_test), np.array(y_test)"
      ],
      "execution_count": null,
      "outputs": []
    },
    {
      "cell_type": "code",
      "metadata": {
        "id": "5sdbg5Nyf_hG"
      },
      "source": [
        "y_train, y_test, y_val = y_train.astype(float), y_test.astype(float), y_val.astype(float)\n"
      ],
      "execution_count": null,
      "outputs": []
    },
    {
      "cell_type": "code",
      "metadata": {
        "id": "Ij_kB38zgKrl"
      },
      "source": [
        "import torch\n",
        "import torch.nn as nn\n",
        "import torch.optim as optim\n",
        "from torch.utils.data import Dataset, DataLoader\n",
        "class RegressionDataset(Dataset):\n",
        "    \n",
        "    def __init__(self, X_data, y_data):\n",
        "        self.X_data = X_data\n",
        "        self.y_data = y_data\n",
        "        \n",
        "    def __getitem__(self, index):\n",
        "        return self.X_data[index], self.y_data[index]\n",
        "        \n",
        "    def __len__ (self):\n",
        "        return len(self.X_data)\n"
      ],
      "execution_count": null,
      "outputs": []
    },
    {
      "cell_type": "code",
      "metadata": {
        "id": "SJNJ1tqGVtdJ"
      },
      "source": [
        "train_dataset = RegressionDataset(torch.from_numpy(X_train).float(), torch.from_numpy(y_train).float())\n",
        "val_dataset = RegressionDataset(torch.from_numpy(X_val).float(), torch.from_numpy(y_val).float())\n",
        "test_dataset = RegressionDataset(torch.from_numpy(X_test).float(), torch.from_numpy(y_test).float())"
      ],
      "execution_count": null,
      "outputs": []
    },
    {
      "cell_type": "code",
      "metadata": {
        "colab": {
          "base_uri": "https://localhost:8080/"
        },
        "id": "u3eL2nEwg05k",
        "outputId": "72acec24-6d1b-4f63-d40a-00146b35546b"
      },
      "source": [
        "print(\"The type of train_dataset is? {}\".format(type(train_dataset)))"
      ],
      "execution_count": null,
      "outputs": [
        {
          "output_type": "stream",
          "text": [
            "The type of train_dataset is? <class '__main__.RegressionDataset'>\n"
          ],
          "name": "stdout"
        }
      ]
    },
    {
      "cell_type": "code",
      "metadata": {
        "id": "yUaCDvdKgmak"
      },
      "source": [
        "EPOCHS = 150\n",
        "BATCH_SIZE = 64\n",
        "LEARNING_RATE = 0.001\n",
        "NUM_FEATURES = X.shape[1]"
      ],
      "execution_count": null,
      "outputs": []
    },
    {
      "cell_type": "code",
      "metadata": {
        "id": "5o1AwYLZgm2l"
      },
      "source": [
        "train_loader = DataLoader(dataset=train_dataset, batch_size=BATCH_SIZE, shuffle=True)\n",
        "val_loader = DataLoader(dataset=val_dataset, batch_size=32)\n",
        "test_loader = DataLoader(dataset=test_dataset, batch_size=1)"
      ],
      "execution_count": null,
      "outputs": []
    },
    {
      "cell_type": "code",
      "metadata": {
        "colab": {
          "base_uri": "https://localhost:8080/"
        },
        "id": "n19c27JEV_rA",
        "outputId": "0e9dd290-c55f-456e-ddcb-762b1c19753f"
      },
      "source": [
        "print(\"The type of train_dataset is? {}\".format(type(train_loader)))"
      ],
      "execution_count": null,
      "outputs": [
        {
          "output_type": "stream",
          "text": [
            "The type of train_dataset is? <class 'torch.utils.data.dataloader.DataLoader'>\n"
          ],
          "name": "stdout"
        }
      ]
    },
    {
      "cell_type": "code",
      "metadata": {
        "id": "LZeeZQfahAwW"
      },
      "source": [
        "class MultipleRegression(nn.Module):\n",
        "    def __init__(self, num_features):\n",
        "        super(MultipleRegression, self).__init__()\n",
        "        \n",
        "        self.layer_1 = nn.Linear(num_features, 16)\n",
        "        self.layer_2 = nn.Linear(16, 32)\n",
        "        self.layer_3 = nn.Linear(32, 16)\n",
        "        self.layer_out = nn.Linear(16, 1)\n",
        "        \n",
        "        self.relu = nn.ReLU()\n",
        "    \n",
        "    def forward(self, inputs):\n",
        "        x = self.relu(self.layer_1(inputs))\n",
        "        x = self.relu(self.layer_2(x))\n",
        "        x = self.relu(self.layer_3(x))\n",
        "        x = self.layer_out(x)\n",
        "        return (x)\n",
        "    \n",
        "    def predict(self, test_inputs):\n",
        "        x = self.relu(self.layer_1(test_inputs))\n",
        "        x = self.relu(self.layer_2(x))\n",
        "        x = self.relu(self.layer_3(x))\n",
        "        x = self.layer_out(x)\n",
        "        return (x)"
      ],
      "execution_count": null,
      "outputs": []
    },
    {
      "cell_type": "code",
      "metadata": {
        "colab": {
          "base_uri": "https://localhost:8080/"
        },
        "id": "D6cL3PE2hM-m",
        "outputId": "9fafec7e-1ad9-41a2-9669-0920fdb5c108"
      },
      "source": [
        "model = MultipleRegression(NUM_FEATURES)\n",
        "# model.to(device)\n",
        "print(model)\n",
        "criterion = nn.MSELoss()\n",
        "optimizer = optim.Adam(model.parameters(), lr=LEARNING_RATE)\n"
      ],
      "execution_count": null,
      "outputs": [
        {
          "output_type": "stream",
          "text": [
            "MultipleRegression(\n",
            "  (layer_1): Linear(in_features=11, out_features=16, bias=True)\n",
            "  (layer_2): Linear(in_features=16, out_features=32, bias=True)\n",
            "  (layer_3): Linear(in_features=32, out_features=16, bias=True)\n",
            "  (layer_out): Linear(in_features=16, out_features=1, bias=True)\n",
            "  (relu): ReLU()\n",
            ")\n"
          ],
          "name": "stdout"
        }
      ]
    },
    {
      "cell_type": "code",
      "metadata": {
        "id": "Bq5WhgCOhaXN"
      },
      "source": [
        "loss_stats = {\n",
        "    'train': [],\n",
        "    \"val\": []\n",
        "}"
      ],
      "execution_count": null,
      "outputs": []
    },
    {
      "cell_type": "code",
      "metadata": {
        "colab": {
          "base_uri": "https://localhost:8080/"
        },
        "id": "-x4UIUqHq0nT",
        "outputId": "ae6a4e2d-fb80-4c71-d5e5-83cbf7434680"
      },
      "source": [
        "device = torch.device(\"cuda:0\" if torch.cuda.is_available() else \"cpu\")\n",
        "print(device)"
      ],
      "execution_count": null,
      "outputs": [
        {
          "output_type": "stream",
          "text": [
            "cuda:0\n"
          ],
          "name": "stdout"
        }
      ]
    },
    {
      "cell_type": "code",
      "metadata": {
        "colab": {
          "base_uri": "https://localhost:8080/"
        },
        "id": "iLOs6LwUhd91",
        "outputId": "c14e621d-606b-4add-dae3-5c6e5c575850"
      },
      "source": [
        "model.to(device)\n",
        "print(\"Begin training.\")\n",
        "for e in range(1, EPOCHS+1):\n",
        "    \n",
        "    # TRAINING\n",
        "    train_epoch_loss = 0\n",
        "    model.train()\n",
        "    for X_train_batch, y_train_batch in train_loader:\n",
        "        X_train_batch, y_train_batch = X_train_batch.to(device), y_train_batch.to(device)\n",
        "        optimizer.zero_grad()\n",
        "        \n",
        "        y_train_pred = model(X_train_batch)\n",
        "        \n",
        "        train_loss = criterion(y_train_pred, y_train_batch.reshape(-1,1))\n",
        "        \n",
        "        train_loss.backward()\n",
        "        optimizer.step()\n",
        "        \n",
        "        train_epoch_loss += train_loss.item()\n",
        "    # VALIDATION    \n",
        "    with torch.no_grad():\n",
        "        \n",
        "        val_epoch_loss = 0\n",
        "        \n",
        "        model.eval()\n",
        "        for X_val_batch, y_val_batch in val_loader:\n",
        "            X_val_batch, y_val_batch = X_val_batch.to(device), y_val_batch.to(device)\n",
        "            \n",
        "            y_val_pred = model(X_val_batch)\n",
        "                        \n",
        "            val_loss = criterion(y_val_pred, y_val_batch.unsqueeze(1))\n",
        "            \n",
        "            val_epoch_loss += val_loss.item()\n",
        "        loss_stats['train'].append(train_epoch_loss/len(train_loader))\n",
        "        loss_stats['val'].append(val_epoch_loss/len(val_loader))                              \n",
        "    \n",
        "    print(f'Epoch {e+0:03}: | Train Loss: {train_epoch_loss/len(train_loader):.5f} | Val Loss: {val_epoch_loss/len(val_loader):.5f}')\n"
      ],
      "execution_count": null,
      "outputs": [
        {
          "output_type": "stream",
          "text": [
            "Begin training.\n",
            "Epoch 001: | Train Loss: 28.37467 | Val Loss: 18.41381\n",
            "Epoch 002: | Train Loss: 5.70855 | Val Loss: 1.00375\n",
            "Epoch 003: | Train Loss: 1.01920 | Val Loss: 0.93568\n",
            "Epoch 004: | Train Loss: 0.95018 | Val Loss: 0.90258\n",
            "Epoch 005: | Train Loss: 0.91869 | Val Loss: 0.86176\n",
            "Epoch 006: | Train Loss: 0.86183 | Val Loss: 0.82506\n",
            "Epoch 007: | Train Loss: 0.82365 | Val Loss: 0.79860\n",
            "Epoch 008: | Train Loss: 0.77840 | Val Loss: 0.77229\n",
            "Epoch 009: | Train Loss: 0.77303 | Val Loss: 0.77394\n",
            "Epoch 010: | Train Loss: 0.73462 | Val Loss: 0.73866\n",
            "Epoch 011: | Train Loss: 0.71436 | Val Loss: 0.72156\n",
            "Epoch 012: | Train Loss: 0.70129 | Val Loss: 0.70751\n",
            "Epoch 013: | Train Loss: 0.68480 | Val Loss: 0.69511\n",
            "Epoch 014: | Train Loss: 0.67457 | Val Loss: 0.68625\n",
            "Epoch 015: | Train Loss: 0.65231 | Val Loss: 0.67555\n",
            "Epoch 016: | Train Loss: 0.64379 | Val Loss: 0.66504\n",
            "Epoch 017: | Train Loss: 0.63274 | Val Loss: 0.65569\n",
            "Epoch 018: | Train Loss: 0.63534 | Val Loss: 0.64782\n",
            "Epoch 019: | Train Loss: 0.61664 | Val Loss: 0.64533\n",
            "Epoch 020: | Train Loss: 0.61406 | Val Loss: 0.64454\n",
            "Epoch 021: | Train Loss: 0.61203 | Val Loss: 0.63258\n",
            "Epoch 022: | Train Loss: 0.61014 | Val Loss: 0.62583\n",
            "Epoch 023: | Train Loss: 0.59638 | Val Loss: 0.61877\n",
            "Epoch 024: | Train Loss: 0.59460 | Val Loss: 0.61452\n",
            "Epoch 025: | Train Loss: 0.58997 | Val Loss: 0.61350\n",
            "Epoch 026: | Train Loss: 0.58310 | Val Loss: 0.61394\n",
            "Epoch 027: | Train Loss: 0.60809 | Val Loss: 0.60835\n",
            "Epoch 028: | Train Loss: 0.59179 | Val Loss: 0.60538\n",
            "Epoch 029: | Train Loss: 0.58113 | Val Loss: 0.60337\n",
            "Epoch 030: | Train Loss: 0.57515 | Val Loss: 0.60119\n",
            "Epoch 031: | Train Loss: 0.57378 | Val Loss: 0.59988\n",
            "Epoch 032: | Train Loss: 0.57396 | Val Loss: 0.60214\n",
            "Epoch 033: | Train Loss: 0.57511 | Val Loss: 0.59602\n",
            "Epoch 034: | Train Loss: 0.56500 | Val Loss: 0.59575\n",
            "Epoch 035: | Train Loss: 0.57876 | Val Loss: 0.59881\n",
            "Epoch 036: | Train Loss: 0.56604 | Val Loss: 0.59482\n",
            "Epoch 037: | Train Loss: 0.57584 | Val Loss: 0.59343\n",
            "Epoch 038: | Train Loss: 0.56172 | Val Loss: 0.59404\n",
            "Epoch 039: | Train Loss: 0.56226 | Val Loss: 0.61130\n",
            "Epoch 040: | Train Loss: 0.56990 | Val Loss: 0.60703\n",
            "Epoch 041: | Train Loss: 0.56873 | Val Loss: 0.59413\n",
            "Epoch 042: | Train Loss: 0.56930 | Val Loss: 0.59118\n",
            "Epoch 043: | Train Loss: 0.55755 | Val Loss: 0.59016\n",
            "Epoch 044: | Train Loss: 0.57264 | Val Loss: 0.59008\n",
            "Epoch 045: | Train Loss: 0.56955 | Val Loss: 0.58973\n",
            "Epoch 046: | Train Loss: 0.55807 | Val Loss: 0.59120\n",
            "Epoch 047: | Train Loss: 0.56330 | Val Loss: 0.58861\n",
            "Epoch 048: | Train Loss: 0.55611 | Val Loss: 0.59373\n",
            "Epoch 049: | Train Loss: 0.55585 | Val Loss: 0.61460\n",
            "Epoch 050: | Train Loss: 0.55859 | Val Loss: 0.59717\n",
            "Epoch 051: | Train Loss: 0.55157 | Val Loss: 0.58604\n",
            "Epoch 052: | Train Loss: 0.54977 | Val Loss: 0.58405\n",
            "Epoch 053: | Train Loss: 0.55202 | Val Loss: 0.59072\n",
            "Epoch 054: | Train Loss: 0.54762 | Val Loss: 0.60980\n",
            "Epoch 055: | Train Loss: 0.55263 | Val Loss: 0.57664\n",
            "Epoch 056: | Train Loss: 0.56118 | Val Loss: 0.59111\n",
            "Epoch 057: | Train Loss: 0.55127 | Val Loss: 0.58901\n",
            "Epoch 058: | Train Loss: 0.55151 | Val Loss: 0.59084\n",
            "Epoch 059: | Train Loss: 0.54122 | Val Loss: 0.56522\n",
            "Epoch 060: | Train Loss: 0.52919 | Val Loss: 0.56384\n",
            "Epoch 061: | Train Loss: 0.53447 | Val Loss: 0.56992\n",
            "Epoch 062: | Train Loss: 0.54050 | Val Loss: 0.55879\n",
            "Epoch 063: | Train Loss: 0.54085 | Val Loss: 0.56724\n",
            "Epoch 064: | Train Loss: 0.53531 | Val Loss: 0.56222\n",
            "Epoch 065: | Train Loss: 0.53066 | Val Loss: 0.56341\n",
            "Epoch 066: | Train Loss: 0.52695 | Val Loss: 0.55553\n",
            "Epoch 067: | Train Loss: 0.52816 | Val Loss: 0.55804\n",
            "Epoch 068: | Train Loss: 0.52689 | Val Loss: 0.57392\n",
            "Epoch 069: | Train Loss: 0.53451 | Val Loss: 0.58379\n",
            "Epoch 070: | Train Loss: 0.52748 | Val Loss: 0.57853\n",
            "Epoch 071: | Train Loss: 0.54179 | Val Loss: 0.56177\n",
            "Epoch 072: | Train Loss: 0.52648 | Val Loss: 0.55811\n",
            "Epoch 073: | Train Loss: 0.52258 | Val Loss: 0.55515\n",
            "Epoch 074: | Train Loss: 0.54019 | Val Loss: 0.55979\n",
            "Epoch 075: | Train Loss: 0.53112 | Val Loss: 0.55663\n",
            "Epoch 076: | Train Loss: 0.52331 | Val Loss: 0.55796\n",
            "Epoch 077: | Train Loss: 0.52695 | Val Loss: 0.57056\n",
            "Epoch 078: | Train Loss: 0.52822 | Val Loss: 0.55316\n",
            "Epoch 079: | Train Loss: 0.52795 | Val Loss: 0.55191\n",
            "Epoch 080: | Train Loss: 0.54127 | Val Loss: 0.55950\n",
            "Epoch 081: | Train Loss: 0.53812 | Val Loss: 0.55120\n",
            "Epoch 082: | Train Loss: 0.52620 | Val Loss: 0.56645\n",
            "Epoch 083: | Train Loss: 0.52211 | Val Loss: 0.55515\n",
            "Epoch 084: | Train Loss: 0.53099 | Val Loss: 0.56367\n",
            "Epoch 085: | Train Loss: 0.52635 | Val Loss: 0.56159\n",
            "Epoch 086: | Train Loss: 0.52392 | Val Loss: 0.55211\n",
            "Epoch 087: | Train Loss: 0.51690 | Val Loss: 0.55231\n",
            "Epoch 088: | Train Loss: 0.52151 | Val Loss: 0.55086\n",
            "Epoch 089: | Train Loss: 0.52197 | Val Loss: 0.55538\n",
            "Epoch 090: | Train Loss: 0.53761 | Val Loss: 0.56898\n",
            "Epoch 091: | Train Loss: 0.52391 | Val Loss: 0.55961\n",
            "Epoch 092: | Train Loss: 0.52375 | Val Loss: 0.55076\n",
            "Epoch 093: | Train Loss: 0.52644 | Val Loss: 0.55740\n",
            "Epoch 094: | Train Loss: 0.53875 | Val Loss: 0.55808\n",
            "Epoch 095: | Train Loss: 0.52222 | Val Loss: 0.57166\n",
            "Epoch 096: | Train Loss: 0.51754 | Val Loss: 0.55819\n",
            "Epoch 097: | Train Loss: 0.52369 | Val Loss: 0.55115\n",
            "Epoch 098: | Train Loss: 0.52115 | Val Loss: 0.55522\n",
            "Epoch 099: | Train Loss: 0.52656 | Val Loss: 0.55160\n",
            "Epoch 100: | Train Loss: 0.52689 | Val Loss: 0.58200\n",
            "Epoch 101: | Train Loss: 0.52041 | Val Loss: 0.55385\n",
            "Epoch 102: | Train Loss: 0.52402 | Val Loss: 0.55131\n",
            "Epoch 103: | Train Loss: 0.52603 | Val Loss: 0.55715\n",
            "Epoch 104: | Train Loss: 0.52200 | Val Loss: 0.56402\n",
            "Epoch 105: | Train Loss: 0.52273 | Val Loss: 0.55138\n",
            "Epoch 106: | Train Loss: 0.52206 | Val Loss: 0.55513\n",
            "Epoch 107: | Train Loss: 0.51971 | Val Loss: 0.56097\n",
            "Epoch 108: | Train Loss: 0.52233 | Val Loss: 0.55215\n",
            "Epoch 109: | Train Loss: 0.51668 | Val Loss: 0.55815\n",
            "Epoch 110: | Train Loss: 0.51796 | Val Loss: 0.55257\n",
            "Epoch 111: | Train Loss: 0.51510 | Val Loss: 0.56981\n",
            "Epoch 112: | Train Loss: 0.53026 | Val Loss: 0.55091\n",
            "Epoch 113: | Train Loss: 0.52531 | Val Loss: 0.55692\n",
            "Epoch 114: | Train Loss: 0.52143 | Val Loss: 0.55516\n",
            "Epoch 115: | Train Loss: 0.52734 | Val Loss: 0.55228\n",
            "Epoch 116: | Train Loss: 0.55647 | Val Loss: 0.55088\n",
            "Epoch 117: | Train Loss: 0.51861 | Val Loss: 0.54943\n",
            "Epoch 118: | Train Loss: 0.51708 | Val Loss: 0.55286\n",
            "Epoch 119: | Train Loss: 0.53263 | Val Loss: 0.55116\n",
            "Epoch 120: | Train Loss: 0.51668 | Val Loss: 0.55117\n",
            "Epoch 121: | Train Loss: 0.53400 | Val Loss: 0.55421\n",
            "Epoch 122: | Train Loss: 0.51862 | Val Loss: 0.55310\n",
            "Epoch 123: | Train Loss: 0.51893 | Val Loss: 0.55435\n",
            "Epoch 124: | Train Loss: 0.52496 | Val Loss: 0.55209\n",
            "Epoch 125: | Train Loss: 0.51957 | Val Loss: 0.56424\n",
            "Epoch 126: | Train Loss: 0.52460 | Val Loss: 0.55380\n",
            "Epoch 127: | Train Loss: 0.51558 | Val Loss: 0.54869\n",
            "Epoch 128: | Train Loss: 0.51774 | Val Loss: 0.55562\n",
            "Epoch 129: | Train Loss: 0.52601 | Val Loss: 0.54652\n",
            "Epoch 130: | Train Loss: 0.52091 | Val Loss: 0.54572\n",
            "Epoch 131: | Train Loss: 0.52710 | Val Loss: 0.54737\n",
            "Epoch 132: | Train Loss: 0.52676 | Val Loss: 0.56308\n",
            "Epoch 133: | Train Loss: 0.53687 | Val Loss: 0.55339\n",
            "Epoch 134: | Train Loss: 0.53079 | Val Loss: 0.54912\n",
            "Epoch 135: | Train Loss: 0.52437 | Val Loss: 0.55001\n",
            "Epoch 136: | Train Loss: 0.52008 | Val Loss: 0.55418\n",
            "Epoch 137: | Train Loss: 0.52291 | Val Loss: 0.55092\n",
            "Epoch 138: | Train Loss: 0.51875 | Val Loss: 0.54909\n",
            "Epoch 139: | Train Loss: 0.51747 | Val Loss: 0.54738\n",
            "Epoch 140: | Train Loss: 0.51712 | Val Loss: 0.56340\n",
            "Epoch 141: | Train Loss: 0.54251 | Val Loss: 0.54821\n",
            "Epoch 142: | Train Loss: 0.52843 | Val Loss: 0.58735\n",
            "Epoch 143: | Train Loss: 0.53612 | Val Loss: 0.54469\n",
            "Epoch 144: | Train Loss: 0.51548 | Val Loss: 0.54582\n",
            "Epoch 145: | Train Loss: 0.51342 | Val Loss: 0.54623\n",
            "Epoch 146: | Train Loss: 0.52342 | Val Loss: 0.55594\n",
            "Epoch 147: | Train Loss: 0.51363 | Val Loss: 0.56383\n",
            "Epoch 148: | Train Loss: 0.52080 | Val Loss: 0.57711\n",
            "Epoch 149: | Train Loss: 0.52557 | Val Loss: 0.54642\n",
            "Epoch 150: | Train Loss: 0.52304 | Val Loss: 0.55892\n"
          ],
          "name": "stdout"
        }
      ]
    },
    {
      "cell_type": "code",
      "metadata": {
        "colab": {
          "base_uri": "https://localhost:8080/",
          "height": 428
        },
        "id": "Sj95w8rvh0Gf",
        "outputId": "c6c637d2-aa0f-4a1b-cc15-876d19ddc604"
      },
      "source": [
        "train_val_loss_df = pd.DataFrame.from_dict(loss_stats).reset_index().melt(id_vars=['index']).rename(columns={\"index\":\"epochs\"})\n",
        "plt.figure(figsize=(10,6))\n",
        "sns.lineplot(data=train_val_loss_df, x = \"epochs\", y=\"value\", hue=\"variable\").set_title('Train-Val Loss/Epoch')"
      ],
      "execution_count": null,
      "outputs": [
        {
          "output_type": "execute_result",
          "data": {
            "text/plain": [
              "Text(0.5, 1.0, 'Train-Val Loss/Epoch')"
            ]
          },
          "metadata": {
            "tags": []
          },
          "execution_count": 84
        },
        {
          "output_type": "display_data",
          "data": {
            "image/png": "[encoded data removed]",
            "text/plain": [
              "<Figure size 720x432 with 1 Axes>"
            ]
          },
          "metadata": {
            "tags": [],
            "needs_background": "light"
          }
        }
      ]
    },
    {
      "cell_type": "code",
      "metadata": {
        "id": "WHviRzqnkCRp"
      },
      "source": [
        "y_pred_list = []\n",
        "with torch.no_grad():\n",
        "    model.eval()\n",
        "    for X_batch, _ in test_loader:\n",
        "        X_batch = X_batch.to(device)\n",
        "        y_test_pred = model(X_batch)\n",
        "        y_pred_list.append(y_test_pred.cpu().numpy())\n",
        "y_pred_list = [a.squeeze().tolist() for a in y_pred_list]"
      ],
      "execution_count": null,
      "outputs": []
    },
    {
      "cell_type": "code",
      "metadata": {
        "colab": {
          "base_uri": "https://localhost:8080/"
        },
        "id": "kPde4baRkHoG",
        "outputId": "f8f49318-c965-4465-ca11-0fc6bade5ffa"
      },
      "source": [
        "from sklearn.metrics import mean_squared_error, r2_score\n",
        "mse = mean_squared_error(y_test, y_pred_list)\n",
        "r_square = r2_score(y_test, y_pred_list)\n",
        "print(\"Mean Squared Error :\",mse)\n",
        "print(\"R^2 :\",r_square)"
      ],
      "execution_count": null,
      "outputs": [
        {
          "output_type": "stream",
          "text": [
            "Mean Squared Error : 0.5717353075650907\n",
            "R^2 : 0.29237105151074905\n"
          ],
          "name": "stdout"
        }
      ]
    },
    {
      "cell_type": "markdown",
      "metadata": {
        "id": "n-V2810AYazY"
      },
      "source": [
        "# Convolutional Neural Network (CNN)\n",
        "\n",
        "- The fully connected network can function as a universal approximator, but we don't know how long it will take to train it to become a good approximation \n",
        "- In particular, for images it could be interesting to capture locality and translation invariance\n",
        "  - Check the nearby pixels to recognize objects \n",
        "  - It leverages the position of the pixels that is completely destroyed in a 1 dimensional array\n",
        "  - tadaaa convolution: scalar product of a weight matrix (kernel) with every neighborhood in the input.\n"
      ]
    },
    {
      "cell_type": "code",
      "metadata": {
        "id": "u-4pi5VLaTgi"
      },
      "source": [
        "\n",
        "from sklearn.datasets import fetch_openml\n",
        "mnist = fetch_openml('mnist_784', version=1, cache=True, as_frame=False)\n",
        "\n",
        "X = mnist[\"data\"]\n",
        "y = mnist[\"target\"].astype(np.uint8)\n",
        "\n",
        "X_train = X[:50000]\n",
        "y_train = y[:50000]\n",
        "\n",
        "X_val = X[50000:60000]\n",
        "y_val = y[50000:60000]\n",
        "\n",
        "X_test = X[60000:]\n",
        "y_test = y[60000:]"
      ],
      "execution_count": null,
      "outputs": []
    },
    {
      "cell_type": "code",
      "metadata": {
        "id": "XYX6FC76ad3R"
      },
      "source": [
        "from torch.utils.data import TensorDataset\n",
        "from torch.utils.data import DataLoader\n",
        "\n",
        "batch_size = 32 \n",
        "train_ds = TensorDataset(x_train_tensor, y_train_tensor)\n",
        "train_dl = DataLoader(\n",
        "    train_ds, batch_size=batch_size, shuffle=True)\n",
        "\n",
        "val_ds = TensorDataset(x_val_tensor, y_val_tensor)\n",
        "val_dl = DataLoader(\n",
        "    val_ds, batch_size=batch_size, shuffle=True)\n",
        "\n",
        "\n",
        "test_ds = TensorDataset(x_test_tensor, y_test_tensor)\n",
        "test_dl = DataLoader(test_ds, batch_size=batch_size)\n"
      ],
      "execution_count": null,
      "outputs": []
    },
    {
      "cell_type": "code",
      "metadata": {
        "id": "GZs08j1GWdpm"
      },
      "source": [
        ""
      ],
      "execution_count": null,
      "outputs": []
    },
    {
      "cell_type": "markdown",
      "metadata": {
        "id": "-rzuadYSWj0z"
      },
      "source": [
        "Convolution parameters: \n",
        "- ```in_channel``` is the number of input channels (1 for grey images, 3 for rgb)\n",
        "- ```out_channel``` the number of output channels\n",
        "- ```kernel_size``` eight and width of the kernel filter, if only one valus is passed then eight = width \n",
        "- ```stride``` how many steps across the input we move when we adjust the filter to a new position\n",
        "- ```padding``` it can happen that we don't have enough elements in our input to do a full convolution. In these cases, the empty values are filled with the ```padding``` values"
      ]
    },
    {
      "cell_type": "markdown",
      "metadata": {
        "id": "y73tNrQ2Xud_"
      },
      "source": [
        "Pooling layers, they reduce the resolution of the network from the previous input layer, therefore fewer parameters in the lower layers. \n",
        "- Faster computation\n",
        "- it helps to prevent overfitting\n",
        "\n",
        "There is also a ```padding``` option here. "
      ]
    },
    {
      "cell_type": "code",
      "metadata": {
        "id": "rql6I9v8XgGh"
      },
      "source": [
        "class CNN(nn.Module):\n",
        "    def __init__(self):\n",
        "        super(CNN, self).__init__()\n",
        "\n",
        "        # Convolution 1\n",
        "        self.cnn1 = nn.Conv2d(in_channels=1, out_channels=16,\n",
        "                              kernel_size=3, stride=1, padding=0)\n",
        "        self.relu1 = nn.ReLU()\n",
        "\n",
        "        # Max pool 1\n",
        "        self.maxpool1 = nn.MaxPool2d(kernel_size=2)\n",
        "\n",
        "        # Convolution 2\n",
        "        self.cnn2 = nn.Conv2d(in_channels=16, out_channels=32,\n",
        "                              kernel_size=3, stride=1, padding=0)\n",
        "        self.relu2 = nn.ReLU()\n",
        "\n",
        "        # Max pool 2\n",
        "        self.maxpool2 = nn.MaxPool2d(kernel_size=2)\n",
        "\n",
        "        # Fully connected 1\n",
        "        self.fc1 = nn.Linear(32 * 5 * 5, 10)\n",
        "\n",
        "    def forward(self, x, to_print=False):\n",
        "        # Set 1\n",
        "        if to_print:\n",
        "          print('INPUT',x.shape)\n",
        "        out = self.cnn1(x)\n",
        "        if to_print:\n",
        "          print('CNN1',out.shape)\n",
        "        out = self.relu1(out)\n",
        "        out = self.maxpool1(out)\n",
        "        if to_print:\n",
        "          print('MAXPOOL1',out.shape)\n",
        "\n",
        "        # Set 2\n",
        "        out = self.cnn2(out)\n",
        "        if to_print:\n",
        "          print('CNN2',out.shape)\n",
        "\n",
        "        out = self.relu2(out)\n",
        "\n",
        "        out = self.maxpool2(out)\n",
        "        if to_print:\n",
        "          print(\"after the 2nd maxpool:{} \".format(out.shape))\n",
        "        # Flatten\n",
        "        out = out.view(out.size(0), -1)\n",
        "        if to_print:\n",
        "          print(\"after the flatten:{} \".format(out.shape))\n",
        "        out = self.fc1(out)\n",
        "        if to_print:\n",
        "          print('FINAL',out.shape)\n",
        "\n",
        "        return out"
      ],
      "execution_count": null,
      "outputs": []
    },
    {
      "cell_type": "code",
      "metadata": {
        "id": "IdZjenirdWec"
      },
      "source": [
        "## few changes to the train function used above. \n",
        "\n",
        "def train(model, optimizer, loss_fn, train_loader, val_loader, epochs=20, device=\"cpu\",to_print=False):\n",
        "    for epoch in range(1, epochs+1):\n",
        "        training_loss = 0.0\n",
        "        valid_loss = 0.0\n",
        "        model.train()\n",
        "        for batch in train_loader:\n",
        "            optimizer.zero_grad() # clear gradients for next train\n",
        "            inputs, targets = batch\n",
        "            inputs = inputs.to(device)\n",
        "            targets = targets.to(device)\n",
        "            output = model(inputs,to_print)\n",
        "            loss = loss_fn(output, targets)\n",
        "            loss.backward() # backpropagation, compute gradients\n",
        "            optimizer.step() # apply gradients\n",
        "            training_loss += loss.data.item() * inputs.size(0)\n",
        "            # print(training_loss,loss.data.item(),inputs.size(0))\n",
        "            if to_print:\n",
        "              break\n",
        "        training_loss /= len(train_loader.dataset)\n",
        "        if to_print:\n",
        "          break\n",
        "        with torch.no_grad():\n",
        "          model.eval()\n",
        "          num_correct = 0 \n",
        "          num_examples = 0\n",
        "          for batch in val_loader:\n",
        "              inputs, targets = batch\n",
        "              inputs = inputs.to(device)\n",
        "              output = model(inputs)\n",
        "              targets = targets.to(device)\n",
        "              loss = loss_fn(output,targets) \n",
        "              valid_loss += loss.data.item() * inputs.size(0)\n",
        "              correct = torch.eq(torch.max(F.softmax(output, dim=1), dim=1)[1], targets)\n",
        "              num_correct += torch.sum(correct).item()\n",
        "              num_examples += correct.shape[0]\n",
        "          valid_loss /= len(val_loader.dataset)\n",
        "\n",
        "        print('Epoch: {}, Training Loss: {:.4f}, Validation Loss: {:.4f}, accuracy = {:.4f}'.format(epoch, training_loss,\n",
        "        valid_loss, num_correct / num_examples))"
      ],
      "execution_count": null,
      "outputs": []
    },
    {
      "cell_type": "code",
      "metadata": {
        "colab": {
          "base_uri": "https://localhost:8080/",
          "height": 345
        },
        "id": "8znMf8E8aBm3",
        "outputId": "301b07c3-8ada-4081-f54a-7f327c41ffb7"
      },
      "source": [
        "cnn = CNN()\n",
        "optimizer = optim.SGD(cnn.parameters(),lr=0.001)\n",
        "train(cnn, optimizer,torch.nn.CrossEntropyLoss(), train_dl,val_dl, epochs=5)"
      ],
      "execution_count": null,
      "outputs": [
        {
          "output_type": "error",
          "ename": "RuntimeError",
          "evalue": "ignored",
          "traceback": [
            "\u001b[0;31m---------------------------------------------------------------------------\u001b[0m",
            "\u001b[0;31mRuntimeError\u001b[0m                              Traceback (most recent call last)",
            "\u001b[0;32m<ipython-input-108-fa4ddee6f810>\u001b[0m in \u001b[0;36m<module>\u001b[0;34m()\u001b[0m\n\u001b[1;32m      1\u001b[0m \u001b[0mcnn\u001b[0m \u001b[0;34m=\u001b[0m \u001b[0mCNN\u001b[0m\u001b[0;34m(\u001b[0m\u001b[0;34m)\u001b[0m\u001b[0;34m\u001b[0m\u001b[0;34m\u001b[0m\u001b[0m\n\u001b[1;32m      2\u001b[0m \u001b[0moptimizer\u001b[0m \u001b[0;34m=\u001b[0m \u001b[0moptim\u001b[0m\u001b[0;34m.\u001b[0m\u001b[0mSGD\u001b[0m\u001b[0;34m(\u001b[0m\u001b[0mcnn\u001b[0m\u001b[0;34m.\u001b[0m\u001b[0mparameters\u001b[0m\u001b[0;34m(\u001b[0m\u001b[0;34m)\u001b[0m\u001b[0;34m,\u001b[0m\u001b[0mlr\u001b[0m\u001b[0;34m=\u001b[0m\u001b[0;36m0.001\u001b[0m\u001b[0;34m)\u001b[0m\u001b[0;34m\u001b[0m\u001b[0;34m\u001b[0m\u001b[0m\n\u001b[0;32m----> 3\u001b[0;31m \u001b[0mtrain\u001b[0m\u001b[0;34m(\u001b[0m\u001b[0mcnn\u001b[0m\u001b[0;34m,\u001b[0m \u001b[0moptimizer\u001b[0m\u001b[0;34m,\u001b[0m\u001b[0mtorch\u001b[0m\u001b[0;34m.\u001b[0m\u001b[0mnn\u001b[0m\u001b[0;34m.\u001b[0m\u001b[0mCrossEntropyLoss\u001b[0m\u001b[0;34m(\u001b[0m\u001b[0;34m)\u001b[0m\u001b[0;34m,\u001b[0m \u001b[0mtrain_dl\u001b[0m\u001b[0;34m,\u001b[0m\u001b[0mval_dl\u001b[0m\u001b[0;34m,\u001b[0m \u001b[0mepochs\u001b[0m\u001b[0;34m=\u001b[0m\u001b[0;36m5\u001b[0m\u001b[0;34m)\u001b[0m\u001b[0;34m\u001b[0m\u001b[0;34m\u001b[0m\u001b[0m\n\u001b[0m",
            "\u001b[0;32m<ipython-input-107-3a2b6e0d75a4>\u001b[0m in \u001b[0;36mtrain\u001b[0;34m(model, optimizer, loss_fn, train_loader, val_loader, epochs, device, to_print)\u001b[0m\n\u001b[1;32m     11\u001b[0m             \u001b[0minputs\u001b[0m \u001b[0;34m=\u001b[0m \u001b[0minputs\u001b[0m\u001b[0;34m.\u001b[0m\u001b[0mto\u001b[0m\u001b[0;34m(\u001b[0m\u001b[0mdevice\u001b[0m\u001b[0;34m)\u001b[0m\u001b[0;34m\u001b[0m\u001b[0;34m\u001b[0m\u001b[0m\n\u001b[1;32m     12\u001b[0m             \u001b[0mtargets\u001b[0m \u001b[0;34m=\u001b[0m \u001b[0mtargets\u001b[0m\u001b[0;34m.\u001b[0m\u001b[0mto\u001b[0m\u001b[0;34m(\u001b[0m\u001b[0mdevice\u001b[0m\u001b[0;34m)\u001b[0m\u001b[0;34m\u001b[0m\u001b[0;34m\u001b[0m\u001b[0m\n\u001b[0;32m---> 13\u001b[0;31m             \u001b[0moutput\u001b[0m \u001b[0;34m=\u001b[0m \u001b[0mmodel\u001b[0m\u001b[0;34m(\u001b[0m\u001b[0minputs\u001b[0m\u001b[0;34m,\u001b[0m\u001b[0mto_print\u001b[0m\u001b[0;34m)\u001b[0m\u001b[0;34m\u001b[0m\u001b[0;34m\u001b[0m\u001b[0m\n\u001b[0m\u001b[1;32m     14\u001b[0m             \u001b[0mloss\u001b[0m \u001b[0;34m=\u001b[0m \u001b[0mloss_fn\u001b[0m\u001b[0;34m(\u001b[0m\u001b[0moutput\u001b[0m\u001b[0;34m,\u001b[0m \u001b[0mtargets\u001b[0m\u001b[0;34m)\u001b[0m\u001b[0;34m\u001b[0m\u001b[0;34m\u001b[0m\u001b[0m\n\u001b[1;32m     15\u001b[0m             \u001b[0mloss\u001b[0m\u001b[0;34m.\u001b[0m\u001b[0mbackward\u001b[0m\u001b[0;34m(\u001b[0m\u001b[0;34m)\u001b[0m \u001b[0;31m# backpropagation, compute gradients\u001b[0m\u001b[0;34m\u001b[0m\u001b[0;34m\u001b[0m\u001b[0m\n",
            "\u001b[0;32m/usr/local/lib/python3.7/dist-packages/torch/nn/modules/module.py\u001b[0m in \u001b[0;36m_call_impl\u001b[0;34m(self, *input, **kwargs)\u001b[0m\n\u001b[1;32m   1049\u001b[0m         if not (self._backward_hooks or self._forward_hooks or self._forward_pre_hooks or _global_backward_hooks\n\u001b[1;32m   1050\u001b[0m                 or _global_forward_hooks or _global_forward_pre_hooks):\n\u001b[0;32m-> 1051\u001b[0;31m             \u001b[0;32mreturn\u001b[0m \u001b[0mforward_call\u001b[0m\u001b[0;34m(\u001b[0m\u001b[0;34m*\u001b[0m\u001b[0minput\u001b[0m\u001b[0;34m,\u001b[0m \u001b[0;34m**\u001b[0m\u001b[0mkwargs\u001b[0m\u001b[0;34m)\u001b[0m\u001b[0;34m\u001b[0m\u001b[0;34m\u001b[0m\u001b[0m\n\u001b[0m\u001b[1;32m   1052\u001b[0m         \u001b[0;31m# Do not call functions when jit is used\u001b[0m\u001b[0;34m\u001b[0m\u001b[0;34m\u001b[0m\u001b[0;34m\u001b[0m\u001b[0m\n\u001b[1;32m   1053\u001b[0m         \u001b[0mfull_backward_hooks\u001b[0m\u001b[0;34m,\u001b[0m \u001b[0mnon_full_backward_hooks\u001b[0m \u001b[0;34m=\u001b[0m \u001b[0;34m[\u001b[0m\u001b[0;34m]\u001b[0m\u001b[0;34m,\u001b[0m \u001b[0;34m[\u001b[0m\u001b[0;34m]\u001b[0m\u001b[0;34m\u001b[0m\u001b[0;34m\u001b[0m\u001b[0m\n",
            "\u001b[0;32m<ipython-input-105-a9d55d6a2fe2>\u001b[0m in \u001b[0;36mforward\u001b[0;34m(self, x, to_print)\u001b[0m\n\u001b[1;32m     26\u001b[0m         \u001b[0;32mif\u001b[0m \u001b[0mto_print\u001b[0m\u001b[0;34m:\u001b[0m\u001b[0;34m\u001b[0m\u001b[0;34m\u001b[0m\u001b[0m\n\u001b[1;32m     27\u001b[0m           \u001b[0mprint\u001b[0m\u001b[0;34m(\u001b[0m\u001b[0;34m'INPUT'\u001b[0m\u001b[0;34m,\u001b[0m\u001b[0mx\u001b[0m\u001b[0;34m.\u001b[0m\u001b[0mshape\u001b[0m\u001b[0;34m)\u001b[0m\u001b[0;34m\u001b[0m\u001b[0;34m\u001b[0m\u001b[0m\n\u001b[0;32m---> 28\u001b[0;31m         \u001b[0mout\u001b[0m \u001b[0;34m=\u001b[0m \u001b[0mself\u001b[0m\u001b[0;34m.\u001b[0m\u001b[0mcnn1\u001b[0m\u001b[0;34m(\u001b[0m\u001b[0mx\u001b[0m\u001b[0;34m)\u001b[0m\u001b[0;34m\u001b[0m\u001b[0;34m\u001b[0m\u001b[0m\n\u001b[0m\u001b[1;32m     29\u001b[0m         \u001b[0;32mif\u001b[0m \u001b[0mto_print\u001b[0m\u001b[0;34m:\u001b[0m\u001b[0;34m\u001b[0m\u001b[0;34m\u001b[0m\u001b[0m\n\u001b[1;32m     30\u001b[0m           \u001b[0mprint\u001b[0m\u001b[0;34m(\u001b[0m\u001b[0;34m'CNN1'\u001b[0m\u001b[0;34m,\u001b[0m\u001b[0mout\u001b[0m\u001b[0;34m.\u001b[0m\u001b[0mshape\u001b[0m\u001b[0;34m)\u001b[0m\u001b[0;34m\u001b[0m\u001b[0;34m\u001b[0m\u001b[0m\n",
            "\u001b[0;32m/usr/local/lib/python3.7/dist-packages/torch/nn/modules/module.py\u001b[0m in \u001b[0;36m_call_impl\u001b[0;34m(self, *input, **kwargs)\u001b[0m\n\u001b[1;32m   1049\u001b[0m         if not (self._backward_hooks or self._forward_hooks or self._forward_pre_hooks or _global_backward_hooks\n\u001b[1;32m   1050\u001b[0m                 or _global_forward_hooks or _global_forward_pre_hooks):\n\u001b[0;32m-> 1051\u001b[0;31m             \u001b[0;32mreturn\u001b[0m \u001b[0mforward_call\u001b[0m\u001b[0;34m(\u001b[0m\u001b[0;34m*\u001b[0m\u001b[0minput\u001b[0m\u001b[0;34m,\u001b[0m \u001b[0;34m**\u001b[0m\u001b[0mkwargs\u001b[0m\u001b[0;34m)\u001b[0m\u001b[0;34m\u001b[0m\u001b[0;34m\u001b[0m\u001b[0m\n\u001b[0m\u001b[1;32m   1052\u001b[0m         \u001b[0;31m# Do not call functions when jit is used\u001b[0m\u001b[0;34m\u001b[0m\u001b[0;34m\u001b[0m\u001b[0;34m\u001b[0m\u001b[0m\n\u001b[1;32m   1053\u001b[0m         \u001b[0mfull_backward_hooks\u001b[0m\u001b[0;34m,\u001b[0m \u001b[0mnon_full_backward_hooks\u001b[0m \u001b[0;34m=\u001b[0m \u001b[0;34m[\u001b[0m\u001b[0;34m]\u001b[0m\u001b[0;34m,\u001b[0m \u001b[0;34m[\u001b[0m\u001b[0;34m]\u001b[0m\u001b[0;34m\u001b[0m\u001b[0;34m\u001b[0m\u001b[0m\n",
            "\u001b[0;32m/usr/local/lib/python3.7/dist-packages/torch/nn/modules/conv.py\u001b[0m in \u001b[0;36mforward\u001b[0;34m(self, input)\u001b[0m\n\u001b[1;32m    441\u001b[0m \u001b[0;34m\u001b[0m\u001b[0m\n\u001b[1;32m    442\u001b[0m     \u001b[0;32mdef\u001b[0m \u001b[0mforward\u001b[0m\u001b[0;34m(\u001b[0m\u001b[0mself\u001b[0m\u001b[0;34m,\u001b[0m \u001b[0minput\u001b[0m\u001b[0;34m:\u001b[0m \u001b[0mTensor\u001b[0m\u001b[0;34m)\u001b[0m \u001b[0;34m->\u001b[0m \u001b[0mTensor\u001b[0m\u001b[0;34m:\u001b[0m\u001b[0;34m\u001b[0m\u001b[0;34m\u001b[0m\u001b[0m\n\u001b[0;32m--> 443\u001b[0;31m         \u001b[0;32mreturn\u001b[0m \u001b[0mself\u001b[0m\u001b[0;34m.\u001b[0m\u001b[0m_conv_forward\u001b[0m\u001b[0;34m(\u001b[0m\u001b[0minput\u001b[0m\u001b[0;34m,\u001b[0m \u001b[0mself\u001b[0m\u001b[0;34m.\u001b[0m\u001b[0mweight\u001b[0m\u001b[0;34m,\u001b[0m \u001b[0mself\u001b[0m\u001b[0;34m.\u001b[0m\u001b[0mbias\u001b[0m\u001b[0;34m)\u001b[0m\u001b[0;34m\u001b[0m\u001b[0;34m\u001b[0m\u001b[0m\n\u001b[0m\u001b[1;32m    444\u001b[0m \u001b[0;34m\u001b[0m\u001b[0m\n\u001b[1;32m    445\u001b[0m \u001b[0;32mclass\u001b[0m \u001b[0mConv3d\u001b[0m\u001b[0;34m(\u001b[0m\u001b[0m_ConvNd\u001b[0m\u001b[0;34m)\u001b[0m\u001b[0;34m:\u001b[0m\u001b[0;34m\u001b[0m\u001b[0;34m\u001b[0m\u001b[0m\n",
            "\u001b[0;32m/usr/local/lib/python3.7/dist-packages/torch/nn/modules/conv.py\u001b[0m in \u001b[0;36m_conv_forward\u001b[0;34m(self, input, weight, bias)\u001b[0m\n\u001b[1;32m    438\u001b[0m                             _pair(0), self.dilation, self.groups)\n\u001b[1;32m    439\u001b[0m         return F.conv2d(input, weight, bias, self.stride,\n\u001b[0;32m--> 440\u001b[0;31m                         self.padding, self.dilation, self.groups)\n\u001b[0m\u001b[1;32m    441\u001b[0m \u001b[0;34m\u001b[0m\u001b[0m\n\u001b[1;32m    442\u001b[0m     \u001b[0;32mdef\u001b[0m \u001b[0mforward\u001b[0m\u001b[0;34m(\u001b[0m\u001b[0mself\u001b[0m\u001b[0;34m,\u001b[0m \u001b[0minput\u001b[0m\u001b[0;34m:\u001b[0m \u001b[0mTensor\u001b[0m\u001b[0;34m)\u001b[0m \u001b[0;34m->\u001b[0m \u001b[0mTensor\u001b[0m\u001b[0;34m:\u001b[0m\u001b[0;34m\u001b[0m\u001b[0;34m\u001b[0m\u001b[0m\n",
            "\u001b[0;31mRuntimeError\u001b[0m: Expected 4-dimensional input for 4-dimensional weight [16, 1, 3, 3], but got 2-dimensional input of size [32, 784] instead"
          ]
        }
      ]
    },
    {
      "cell_type": "code",
      "metadata": {
        "id": "IEUZhahna2a3"
      },
      "source": [
        "batch_size = 32 \n",
        "train_ds = TensorDataset(x_train_tensor.reshape(-1,1,28,28), y_train_tensor)\n",
        "train_dl = DataLoader(\n",
        "    train_ds, batch_size=batch_size, shuffle=True)\n",
        "\n",
        "val_ds = TensorDataset(x_val_tensor.reshape(-1,1,28,28), y_val_tensor)\n",
        "val_dl = DataLoader(\n",
        "    val_ds, batch_size=batch_size, shuffle=True)\n",
        "\n",
        "\n",
        "test_ds = TensorDataset(x_test_tensor.reshape(-1,1,28,28), y_test_tensor)\n",
        "test_dl = DataLoader(test_ds, batch_size=batch_size)"
      ],
      "execution_count": null,
      "outputs": []
    },
    {
      "cell_type": "code",
      "metadata": {
        "colab": {
          "base_uri": "https://localhost:8080/"
        },
        "id": "OaxKPTurbSzl",
        "outputId": "de14649c-6150-44d4-8338-bd37728323d3"
      },
      "source": [
        "cnn = CNN()\n",
        "optimizer = optim.Adam(cnn.parameters(),lr=0.001)\n",
        "train(cnn, optimizer,torch.nn.CrossEntropyLoss(), train_dl,val_dl, epochs=5)"
      ],
      "execution_count": null,
      "outputs": [
        {
          "output_type": "stream",
          "text": [
            "/usr/local/lib/python3.7/dist-packages/torch/nn/functional.py:718: UserWarning: Named tensors and all their associated APIs are an experimental feature and subject to change. Please do not use them for anything important until they are released as stable. (Triggered internally at  /pytorch/c10/core/TensorImpl.h:1156.)\n",
            "  return torch.max_pool2d(input, kernel_size, stride, padding, dilation, ceil_mode)\n"
          ],
          "name": "stderr"
        },
        {
          "output_type": "stream",
          "text": [
            "Epoch: 1, Training Loss: 0.3081, Validation Loss: 0.0974, accuracy = 0.9747\n",
            "Epoch: 2, Training Loss: 0.0854, Validation Loss: 0.0655, accuracy = 0.9803\n",
            "Epoch: 3, Training Loss: 0.0620, Validation Loss: 0.0786, accuracy = 0.9783\n",
            "Epoch: 4, Training Loss: 0.0575, Validation Loss: 0.0798, accuracy = 0.9792\n",
            "Epoch: 5, Training Loss: 0.0518, Validation Loss: 0.0653, accuracy = 0.9856\n"
          ],
          "name": "stdout"
        }
      ]
    },
    {
      "cell_type": "markdown",
      "metadata": {
        "id": "VQzTp4cxprqU"
      },
      "source": [
        "# Recurrent Neural Networks\n",
        "\n",
        "- CNNs don't have the concept of _memory_\n",
        "- This is a crucial when we deal with data that have a temporal domain: a sequence of events: text, speech, vide, time-series data, etc. \n",
        "- The RNNs try to solve this problem with a *hidden state*\n",
        "- We can imagine a RNN as a pipeline of fully connected layers network, where the succesive input being fed into the next layer in the sequence\n",
        "- Then the error is back propagated through the RNN --> _vanishing gradient_\n",
        "- A possible solution: Long Short-term Memory, a variant of RNN\n",
        " "
      ]
    },
    {
      "cell_type": "code",
      "metadata": {
        "id": "Wir7s_yOr0Tq"
      },
      "source": [
        "\n",
        "import torchtext\n",
        "from torchtext.legacy import data"
      ],
      "execution_count": null,
      "outputs": []
    },
    {
      "cell_type": "code",
      "metadata": {
        "colab": {
          "base_uri": "https://localhost:8080/"
        },
        "id": "jxVUddADrEaX",
        "outputId": "3e7d79d5-cf57-4215-b64b-4738f016f417"
      },
      "source": [
        "from google.colab import drive\n",
        "drive.mount('/content/drive')"
      ],
      "execution_count": null,
      "outputs": [
        {
          "output_type": "stream",
          "text": [
            "Mounted at /content/drive\n"
          ],
          "name": "stdout"
        }
      ]
    },
    {
      "cell_type": "code",
      "metadata": {
        "id": "KGZK_grObtdF"
      },
      "source": [
        "tweetsDF = pd.read_csv('/content/drive/Shareddrives/MD2SL-material/data/training.1600000.processed.noemoticon.csv',engine='python',header=None)"
      ],
      "execution_count": null,
      "outputs": []
    },
    {
      "cell_type": "code",
      "metadata": {
        "colab": {
          "base_uri": "https://localhost:8080/"
        },
        "id": "0n-taOnwrtD8",
        "outputId": "47d202bf-9d80-4ae2-d362-6fcbd1eb7e4c"
      },
      "source": [
        "tweetsDF[0].value_counts()\n"
      ],
      "execution_count": null,
      "outputs": [
        {
          "output_type": "execute_result",
          "data": {
            "text/plain": [
              "4    800000\n",
              "0    800000\n",
              "Name: 0, dtype: int64"
            ]
          },
          "metadata": {
            "tags": []
          },
          "execution_count": 152
        }
      ]
    },
    {
      "cell_type": "code",
      "metadata": {
        "colab": {
          "base_uri": "https://localhost:8080/"
        },
        "id": "cbUPY9tna9xp",
        "outputId": "44d4b67b-aa8b-403b-c6e0-b55167ee9316"
      },
      "source": [
        "\n",
        "tweetsDF.columns"
      ],
      "execution_count": null,
      "outputs": [
        {
          "output_type": "execute_result",
          "data": {
            "text/plain": [
              "Index([0, 1, 2, 3, 4, 5, 'sentiment_cat', 'sentiment'], dtype='object')"
            ]
          },
          "metadata": {
            "tags": []
          },
          "execution_count": 153
        }
      ]
    },
    {
      "cell_type": "code",
      "metadata": {
        "colab": {
          "base_uri": "https://localhost:8080/"
        },
        "id": "oScBFd91aq8V",
        "outputId": "eb00b234-6083-41d1-af16-15a000339e9a"
      },
      "source": [
        "tweetsDF[\"sentiment_cat\"] = tweetsDF[0].astype('category')\n",
        "tweetsDF[\"sentiment_cat\"].cat.codes"
      ],
      "execution_count": null,
      "outputs": [
        {
          "output_type": "execute_result",
          "data": {
            "text/plain": [
              "0          0\n",
              "1          0\n",
              "2          0\n",
              "3          0\n",
              "4          0\n",
              "          ..\n",
              "1599995    1\n",
              "1599996    1\n",
              "1599997    1\n",
              "1599998    1\n",
              "1599999    1\n",
              "Length: 1600000, dtype: int8"
            ]
          },
          "metadata": {
            "tags": []
          },
          "execution_count": 154
        }
      ]
    },
    {
      "cell_type": "code",
      "metadata": {
        "id": "9QwecpXzsIh5"
      },
      "source": [
        "tweetsDF[\"sentiment\"] = tweetsDF[\"sentiment_cat\"].cat.codes\n",
        "tweetsDF.to_csv(\"train-processed.csv\", header=None, index=None)      \n",
        "tweetsDF.sample(10000).to_csv(\"train-processed-sample.csv\", header=None, index=None) \n"
      ],
      "execution_count": null,
      "outputs": []
    },
    {
      "cell_type": "markdown",
      "metadata": {
        "id": "bIq8HlVIbcHv"
      },
      "source": [
        "```torchtext``` takes a straigthforward approach to generating datasets, but you need to define the _fields_. \n",
        "The class ```Fields``` is what we need to use, it could take several parameters, give a look to the documentation:\n",
        "[Class Field documentation](https://pytorch.org/text/_modules/torchtext/data/field.html)"
      ]
    },
    {
      "cell_type": "code",
      "metadata": {
        "id": "OqiDXBaqsNz5"
      },
      "source": [
        "LABEL = data.LabelField() #a subclass of Field that sets sequential to False\n",
        "TWEET = data.Field('spacy', tokenizer_language='en_core_web_sm', lower=True)\n",
        "\n",
        "fields = [('score',None), ('id',None), ('date',None), ('query',None),\n",
        "          ('name',None), ('tweet', TWEET), ('category',None), ('label',LABEL)]"
      ],
      "execution_count": null,
      "outputs": []
    },
    {
      "cell_type": "markdown",
      "metadata": {
        "id": "ThuCr2UEcwp6"
      },
      "source": [
        "This is then passed to the TabularDataset with all the fields we need "
      ]
    },
    {
      "cell_type": "code",
      "metadata": {
        "id": "aeINR6yssR94"
      },
      "source": [
        "twitterDataset = data.dataset.TabularDataset(\n",
        "        path=\"train-processed-sample.csv\", \n",
        "        format=\"CSV\", \n",
        "        fields=fields,\n",
        "        skip_header=False)"
      ],
      "execution_count": null,
      "outputs": []
    },
    {
      "cell_type": "code",
      "metadata": {
        "colab": {
          "base_uri": "https://localhost:8080/"
        },
        "id": "NnM-PDhrsUpF",
        "outputId": "12b32b01-bead-495c-ad4d-6e5e380488ac"
      },
      "source": [
        "\n",
        "(train, test, valid) = twitterDataset.split(split_ratio=[0.8,0.1,0.1],\n",
        "                                            stratified=True, strata_field='label')\n",
        "\n",
        "(len(train),len(test),len(valid))"
      ],
      "execution_count": null,
      "outputs": [
        {
          "output_type": "execute_result",
          "data": {
            "text/plain": [
              "(8000, 1000, 1000)"
            ]
          },
          "metadata": {
            "tags": []
          },
          "execution_count": 197
        }
      ]
    },
    {
      "cell_type": "code",
      "metadata": {
        "colab": {
          "base_uri": "https://localhost:8080/"
        },
        "id": "dnkf_VUUsWtm",
        "outputId": "e2f87dcd-4fb9-4355-dea9-13cc6354094f"
      },
      "source": [
        "\n",
        "vocab_size = 20000\n",
        "# torchtext is building for us the one_hot_encoding for the words\n",
        "TWEET.build_vocab(train, max_size = vocab_size)\n",
        "LABEL.build_vocab(train)\n",
        "TWEET.vocab.freqs.most_common(10)"
      ],
      "execution_count": null,
      "outputs": [
        {
          "output_type": "execute_result",
          "data": {
            "text/plain": [
              "[('i', 3865),\n",
              " ('to', 2843),\n",
              " ('the', 2674),\n",
              " ('a', 1841),\n",
              " ('my', 1500),\n",
              " ('and', 1441),\n",
              " ('is', 1184),\n",
              " ('you', 1170),\n",
              " ('for', 1075),\n",
              " ('in', 1048)]"
            ]
          },
          "metadata": {
            "tags": []
          },
          "execution_count": 198
        }
      ]
    },
    {
      "cell_type": "code",
      "metadata": {
        "colab": {
          "base_uri": "https://localhost:8080/"
        },
        "id": "zv5SS7gtduTn",
        "outputId": "825d62a5-a06d-409c-b1bd-db1e1ce7e7fe"
      },
      "source": [
        "print('How big is our vocabolary? {}'.format(len(TWEET.vocab)))\n",
        "\n",
        "#1 for unk\n",
        "#2 for padding, a padding token that will be used to pad all our to roughly the same sie"
      ],
      "execution_count": null,
      "outputs": [
        {
          "output_type": "stream",
          "text": [
            "How big is our vocabolary? 20002\n"
          ],
          "name": "stdout"
        }
      ]
    },
    {
      "cell_type": "code",
      "metadata": {
        "id": "gIfXfFt5sZQo"
      },
      "source": [
        "'''\n",
        "torchtext provides the BucketIterator method that will produce what it calls a \n",
        "batch. Similar to the data loader we used before\n",
        "'''\n",
        "\n",
        "\n",
        "train_iterator, valid_iterator, test_iterator = data.BucketIterator.splits(\n",
        "    (train, valid, test),\n",
        "    batch_size = 32,\n",
        "    device = device,\n",
        "    sort_key = lambda x: len(x.tweet),\n",
        "    sort_within_batch = False)"
      ],
      "execution_count": null,
      "outputs": []
    },
    {
      "cell_type": "code",
      "metadata": {
        "id": "8l0YiXo5saWo"
      },
      "source": [
        "class OurFirstLSTM(nn.Module):\n",
        "    def __init__(self, hidden_size, embedding_dim, vocab_size):\n",
        "        super(OurFirstLSTM, self).__init__()\n",
        "    \n",
        "        self.embedding = nn.Embedding(vocab_size, embedding_dim)\n",
        "        self.encoder = nn.LSTM(input_size=embedding_dim,  \n",
        "                hidden_size=hidden_size, num_layers=1)\n",
        "        self.predictor = nn.Linear(hidden_size, 2)\n",
        "\n",
        "    def forward(self, seq):\n",
        "        output, (hidden,_) = self.encoder(self.embedding(seq))\n",
        "        preds = self.predictor(hidden.squeeze(0))\n",
        "        return preds\n",
        "\n"
      ],
      "execution_count": null,
      "outputs": []
    },
    {
      "cell_type": "markdown",
      "metadata": {
        "id": "pOk5-uMZeuDh"
      },
      "source": [
        "3 layers: \n",
        "- the words of our tweet are pushed in ```Embeddings``` layer, with 300-dimensional vector\n",
        "- then fed into a LSTM with 100 hidden features\n",
        "- standard fully connected layer with 3 outputs corresponding to our three possible classes "
      ]
    },
    {
      "cell_type": "code",
      "metadata": {
        "id": "JpERp77res7f"
      },
      "source": [
        ""
      ],
      "execution_count": null,
      "outputs": []
    },
    {
      "cell_type": "code",
      "metadata": {
        "id": "nBM6gdk-shyo"
      },
      "source": [
        "def train(epochs, model, optimizer, criterion, train_iterator, valid_iterator):\n",
        "    for epoch in range(1, epochs+1):\n",
        "     \n",
        "        training_loss = 0.0\n",
        "        valid_loss = 0.0\n",
        "        model.train()\n",
        "        for batch_idx, batch in enumerate(train_iterator):\n",
        "            optimizer.zero_grad()\n",
        "            predict = model(batch.tweet) ##we need to specify which field\n",
        "            loss = criterion(predict,batch.label)\n",
        "            loss.backward()\n",
        "            optimizer.step()\n",
        "            training_loss += loss.data.item() * batch.tweet.size(0)\n",
        "        training_loss /= len(train_iterator)\n",
        " \n",
        "        with torch.no_grad():\n",
        "          model.eval()\n",
        "          for batch_idx,batch in enumerate(valid_iterator):\n",
        "              predict = model(batch.tweet)\n",
        "              loss = criterion(predict,batch.label)\n",
        "              valid_loss += loss.data.item() * batch.tweet.size(0)\n",
        "          valid_loss /= len(valid_iterator)\n",
        "          print('Epoch: {}, Training Loss: {:.2f}, Validation Loss: {:.2f}'.format(epoch, training_loss, valid_loss))"
      ],
      "execution_count": null,
      "outputs": []
    },
    {
      "cell_type": "code",
      "metadata": {
        "colab": {
          "base_uri": "https://localhost:8080/"
        },
        "id": "DlAM4mnNsoKn",
        "outputId": "693a8f6d-2443-4ae2-dcaf-c853808b9b98"
      },
      "source": [
        "model = OurFirstLSTM(100,300, 20002)\n",
        "model.to(device)\n",
        "optimizer = optim.Adam(model.parameters(), lr=0.01)\n",
        "criterion = nn.CrossEntropyLoss()\n",
        "\n",
        "train(5, model, optimizer, criterion, train_iterator, valid_iterator)        "
      ],
      "execution_count": null,
      "outputs": [
        {
          "output_type": "stream",
          "text": [
            "Epoch: 1, Training Loss: 18.97, Validation Loss: 10.07\n",
            "Epoch: 2, Training Loss: 16.34, Validation Loss: 10.46\n",
            "Epoch: 3, Training Loss: 12.06, Validation Loss: 10.37\n",
            "Epoch: 4, Training Loss: 8.88, Validation Loss: 12.40\n",
            "Epoch: 5, Training Loss: 7.34, Validation Loss: 13.48\n"
          ],
          "name": "stdout"
        }
      ]
    },
    {
      "cell_type": "code",
      "metadata": {
        "id": "kZwwnueMslDn"
      },
      "source": [
        "'''\n",
        "torchtext doesn't help when we want to predict\n",
        "We need to emulate the preprocessing pipeline, and make the prediction on the\n",
        "output of that pipeline\n",
        "'''\n",
        "\n",
        "def classify_tweet(tweet,device='cpu'):\n",
        "    '''\n",
        "    preprocess performs the tokenization,\n",
        "    then we call process on the resulting \n",
        "    tokens to obtain a tensor based on our already built vocabulary\n",
        "    '''\n",
        "    model.to(device)\n",
        "    categories = {0: \"Negative\", 1:\"Positive\"}\n",
        "    processed = TWEET.process([TWEET.preprocess(tweet)])\n",
        "    processed = processed.float().to(device)\n",
        "    print(processed)\n",
        "    model.eval()\n",
        "    return categories[model(processed).argmax().item()]"
      ],
      "execution_count": null,
      "outputs": []
    },
    {
      "cell_type": "code",
      "metadata": {
        "id": "U-DpNt0JoBJd"
      },
      "source": [
        "device = 'cpu'"
      ],
      "execution_count": null,
      "outputs": []
    },
    {
      "cell_type": "code",
      "metadata": {
        "id": "8KIh5sSinh2X"
      },
      "source": [
        "model.to(device)\n",
        "with torch.no_grad():\n",
        "  model.eval()\n",
        "  for batch in test_iterator:\n",
        "    outputs = model(batch.tweet.to(device))"
      ],
      "execution_count": null,
      "outputs": []
    },
    {
      "cell_type": "code",
      "metadata": {
        "colab": {
          "base_uri": "https://localhost:8080/"
        },
        "id": "AJYejwydoh3-",
        "outputId": "343bd28c-4a98-43eb-ed55-e22fc0950769"
      },
      "source": [
        "output.shape"
      ],
      "execution_count": null,
      "outputs": [
        {
          "output_type": "execute_result",
          "data": {
            "text/plain": [
              "torch.Size([1, 16, 26, 26])"
            ]
          },
          "metadata": {
            "tags": []
          },
          "execution_count": 228
        }
      ]
    },
    {
      "cell_type": "code",
      "metadata": {
        "id": "y8Wwd4pms63p"
      },
      "source": [
        "def classify_tweet(tweet):\n",
        "    categories = {0: \"Negative\", 1:\"Positive\"}\n",
        "    processed = TWEET.process([TWEET.preprocess(tweet)])\n",
        "    processed = processed.to(device)\n",
        "    model.eval()\n",
        "    return categories[model(processed).argmax().item()]"
      ],
      "execution_count": null,
      "outputs": []
    },
    {
      "cell_type": "code",
      "metadata": {
        "colab": {
          "base_uri": "https://localhost:8080/"
        },
        "id": "BoCXNpdfpZ4W",
        "outputId": "485b9322-6a15-48d3-8988-440e96f93c50"
      },
      "source": [
        "test[0].tweet"
      ],
      "execution_count": null,
      "outputs": [
        {
          "output_type": "execute_result",
          "data": {
            "text/plain": [
              "['broke', 'a', 'nail', 'already', 'good', 'night', 'all..']"
            ]
          },
          "metadata": {
            "tags": []
          },
          "execution_count": 233
        }
      ]
    },
    {
      "cell_type": "code",
      "metadata": {
        "colab": {
          "base_uri": "https://localhost:8080/"
        },
        "id": "YLj5peK6pMJc",
        "outputId": "8e37fb38-e802-469b-fc63-1f5fca29d97f"
      },
      "source": [
        "for i in range(0,10):\n",
        "  sentiment = classify_tweet(test[i].tweet)\n",
        "  print(test[i].tweet,test[i].label,sentiment,)"
      ],
      "execution_count": null,
      "outputs": [
        {
          "output_type": "stream",
          "text": [
            "['broke', 'a', 'nail', 'already', 'good', 'night', 'all..'] 0 Positive\n",
            "['my', 'twitter', 'is', 'pathetic'] 0 Negative\n",
            "['@zshoup', 'you', 'really', 'have', 'no', 'idea.', 'i', 'have', 'this', 'great', 'city', 'and', 'no', 'one', 'to', 'destroy', 'it', 'with'] 0 Positive\n",
            "['@anneftw', 'not', 'pisseed', 'still', 'appreicated', 'honey', '&lt;3333333333333'] 0 Negative\n",
            "['my', 'nephews', 'are', 'both', 'growing', 'up', 'so', 'quick', 'and', \"i'm\", 'not', 'there', 'to', 'see', 'it', 'happening.', 'feels', 'like', \"i'm\", 'missing', 'everything', 'and', 'makes', 'me', 'all', 'teary'] 0 Negative\n",
            "['closet', 'doors', 'are', 'too', 'small', 'for', 'the', 'opening.', 'package', 'says', '32.', 'really', 'measure', 'at', '31.5.', '36', 'will', 'be', 'too', 'wide.'] 0 Negative\n",
            "['@marcperel', 'now', 'im', 'gona', 'have', 'to', 'haul', 'out', 'the', 'reference', 'sites'] 0 Negative\n",
            "['@artemis_neith', 'sorry,', 'hon.', 'did', 'no', 'writing', 'this', 'weekend.', 'the', 'muse', 'has', 'dried', 'up', 'and', 'is', 'taunting', 'me.'] 0 Negative\n",
            "['no', 'gin...drinking', 'vodka', 'tonic.', 'just', 'not', 'the', 'same'] 0 Negative\n",
            "['@fayeandcasey', 'my', 'bad', 'sexy'] 0 Positive\n"
          ],
          "name": "stdout"
        }
      ]
    },
    {
      "cell_type": "markdown",
      "metadata": {
        "id": "KGjCkJDFqUmk"
      },
      "source": [
        "### Time-series \n",
        "Let's try with LSTM applied to timeseries"
      ]
    },
    {
      "cell_type": "code",
      "metadata": {
        "colab": {
          "base_uri": "https://localhost:8080/",
          "height": 205
        },
        "id": "dACYu0tApnSA",
        "outputId": "841d728a-c371-49f9-8e67-b9853238962f"
      },
      "source": [
        "flight_data = sns.load_dataset(\"flights\")\n",
        "flight_data.head()"
      ],
      "execution_count": null,
      "outputs": [
        {
          "output_type": "execute_result",
          "data": {
            "text/html": [
              "<div>\n",
              "<style scoped>\n",
              "    .dataframe tbody tr th:only-of-type {\n",
              "        vertical-align: middle;\n",
              "    }\n",
              "\n",
              "    .dataframe tbody tr th {\n",
              "        vertical-align: top;\n",
              "    }\n",
              "\n",
              "    .dataframe thead th {\n",
              "        text-align: right;\n",
              "    }\n",
              "</style>\n",
              "<table border=\"1\" class=\"dataframe\">\n",
              "  <thead>\n",
              "    <tr style=\"text-align: right;\">\n",
              "      <th></th>\n",
              "      <th>year</th>\n",
              "      <th>month</th>\n",
              "      <th>passengers</th>\n",
              "    </tr>\n",
              "  </thead>\n",
              "  <tbody>\n",
              "    <tr>\n",
              "      <th>0</th>\n",
              "      <td>1949</td>\n",
              "      <td>Jan</td>\n",
              "      <td>112</td>\n",
              "    </tr>\n",
              "    <tr>\n",
              "      <th>1</th>\n",
              "      <td>1949</td>\n",
              "      <td>Feb</td>\n",
              "      <td>118</td>\n",
              "    </tr>\n",
              "    <tr>\n",
              "      <th>2</th>\n",
              "      <td>1949</td>\n",
              "      <td>Mar</td>\n",
              "      <td>132</td>\n",
              "    </tr>\n",
              "    <tr>\n",
              "      <th>3</th>\n",
              "      <td>1949</td>\n",
              "      <td>Apr</td>\n",
              "      <td>129</td>\n",
              "    </tr>\n",
              "    <tr>\n",
              "      <th>4</th>\n",
              "      <td>1949</td>\n",
              "      <td>May</td>\n",
              "      <td>121</td>\n",
              "    </tr>\n",
              "  </tbody>\n",
              "</table>\n",
              "</div>"
            ],
            "text/plain": [
              "   year month  passengers\n",
              "0  1949   Jan         112\n",
              "1  1949   Feb         118\n",
              "2  1949   Mar         132\n",
              "3  1949   Apr         129\n",
              "4  1949   May         121"
            ]
          },
          "metadata": {
            "tags": []
          },
          "execution_count": 3
        }
      ]
    },
    {
      "cell_type": "code",
      "metadata": {
        "colab": {
          "base_uri": "https://localhost:8080/",
          "height": 319
        },
        "id": "TLLoXqqXqd6I",
        "outputId": "7b37a47c-9dd7-49c5-abbe-89139ff8260c"
      },
      "source": [
        "plt.title('Month vs Passenger')\n",
        "plt.ylabel('Total Passengers')\n",
        "plt.xlabel('Months')\n",
        "plt.grid(True)\n",
        "plt.autoscale(axis='x',tight=True)\n",
        "plt.plot(flight_data['passengers'])"
      ],
      "execution_count": null,
      "outputs": [
        {
          "output_type": "execute_result",
          "data": {
            "text/plain": [
              "[<matplotlib.lines.Line2D at 0x7f061dce9250>]"
            ]
          },
          "metadata": {
            "tags": []
          },
          "execution_count": 4
        },
        {
          "output_type": "display_data",
          "data": {
            "image/png": "[encoded data removed]",
            "text/plain": [
              "<Figure size 432x288 with 1 Axes>"
            ]
          },
          "metadata": {
            "tags": [],
            "needs_background": "light"
          }
        }
      ]
    },
    {
      "cell_type": "code",
      "metadata": {
        "id": "yKN_l40oqkXj"
      },
      "source": [
        "all_data = flight_data['passengers'].values.astype(float)\n",
        "\n",
        "test_data_size = 12\n",
        "\n",
        "train_data = all_data[:-test_data_size]\n",
        "test_data = all_data[-test_data_size:]"
      ],
      "execution_count": null,
      "outputs": []
    },
    {
      "cell_type": "code",
      "metadata": {
        "colab": {
          "base_uri": "https://localhost:8080/"
        },
        "id": "OtK8_23aq5Kj",
        "outputId": "c27333a9-df93-4781-e5d8-ae6f5b671753"
      },
      "source": [
        "print(len(train_data))\n",
        "print(len(test_data))"
      ],
      "execution_count": null,
      "outputs": [
        {
          "output_type": "stream",
          "text": [
            "132\n",
            "12\n"
          ],
          "name": "stdout"
        }
      ]
    },
    {
      "cell_type": "code",
      "metadata": {
        "id": "_UAxF8X7q5sJ"
      },
      "source": [
        "from sklearn.preprocessing import MinMaxScaler\n",
        "\n",
        "scaler = MinMaxScaler(feature_range=(-1, 1))\n",
        "train_data_normalized = scaler.fit_transform(train_data .reshape(-1, 1))"
      ],
      "execution_count": null,
      "outputs": []
    },
    {
      "cell_type": "code",
      "metadata": {
        "id": "dMzF1Pgvq-VE"
      },
      "source": [
        "train_data_normalized = torch.FloatTensor(train_data_normalized).view(-1)\n"
      ],
      "execution_count": null,
      "outputs": []
    },
    {
      "cell_type": "code",
      "metadata": {
        "id": "LFf9tpBHrhXh"
      },
      "source": [
        "train_window = 12"
      ],
      "execution_count": null,
      "outputs": []
    },
    {
      "cell_type": "code",
      "metadata": {
        "id": "VeZ1Iy3FrvJV"
      },
      "source": [
        "'''\n",
        "The function will accept the raw input data and will return a list of tuples. \n",
        "In each tuple, the first element will contain list of 12 items corresponding \n",
        "to the number of passengers traveling in 12 months, the second tuple element \n",
        "will contain one item i.e. the number of passengers in the 12+1st month\n",
        "'''\n",
        "\n",
        "def create_inout_sequences(input_data, tw):\n",
        "    inout_seq = []\n",
        "    L = len(input_data)\n",
        "    for i in range(L-tw):\n",
        "        train_seq = input_data[i:i+tw]\n",
        "        train_label = input_data[i+tw:i+tw+1]\n",
        "        inout_seq.append((train_seq ,train_label))\n",
        "    return inout_seq"
      ],
      "execution_count": null,
      "outputs": []
    },
    {
      "cell_type": "code",
      "metadata": {
        "id": "dKIe2mhPr4MV"
      },
      "source": [
        "train_inout_seq = create_inout_sequences(train_data_normalized, train_window)\n"
      ],
      "execution_count": null,
      "outputs": []
    },
    {
      "cell_type": "code",
      "metadata": {
        "colab": {
          "base_uri": "https://localhost:8080/"
        },
        "id": "W4JRJ5N_r4tS",
        "outputId": "e29db884-9a8a-4235-ee14-c6251beff225"
      },
      "source": [
        "train_inout_seq[0]"
      ],
      "execution_count": null,
      "outputs": [
        {
          "output_type": "execute_result",
          "data": {
            "text/plain": [
              "(tensor([-0.9648, -0.9385, -0.8769, -0.8901, -0.9253, -0.8637, -0.8066, -0.8066,\n",
              "         -0.8593, -0.9341, -1.0000, -0.9385]), tensor([-0.9516]))"
            ]
          },
          "metadata": {
            "tags": []
          },
          "execution_count": 12
        }
      ]
    },
    {
      "cell_type": "code",
      "metadata": {
        "id": "xes8xVLTsE_Y"
      },
      "source": [
        "'''\n",
        "input_size: Corresponds to the number of features in the input.\n",
        "Though our sequence length is 12, for each month we have only \n",
        "1 value i.e. total number of passengers, therefore the input size will be 1.\n",
        "'''\n",
        "\n",
        "'''\n",
        "hidden_layer_size: Specifies the number of hidden layers along \n",
        "with the number of neurons in each layer. \n",
        "We will have one layer of 100 neurons.\n",
        "'''\n",
        "\n",
        "'''\n",
        "output_size: The number of items in the output, \n",
        "since we want to predict the number of passengers\n",
        "for 1 month in the future, the output size will be 1.\n",
        "'''\n",
        "\n",
        "'''\n",
        "Inside the forward method, the input_seq is passed as a parameter, \n",
        "which is first passed through the lstm layer. The output of the lstm layer is \n",
        "the hidden and cell states at current time step, along with the output. \n",
        "The output from the lstm layer is passed to the linear layer. \n",
        "The predicted number of passengers is stored in the last item of the \n",
        "predictions list, which is returned to the calling function.\n",
        "'''\n",
        "\n",
        "\n",
        "class LSTM(nn.Module):\n",
        "    def __init__(self, input_size=1, hidden_layer_size=200, output_size=1):\n",
        "        super().__init__()\n",
        "        self.hidden_layer_size = hidden_layer_size\n",
        "\n",
        "        self.lstm = nn.LSTM(input_size, hidden_layer_size)\n",
        "\n",
        "        self.linear = nn.Linear(hidden_layer_size, output_size)\n",
        "\n",
        "        self.hidden_cell = (torch.zeros(1,1,self.hidden_layer_size),\n",
        "                            torch.zeros(1,1,self.hidden_layer_size))\n",
        "\n",
        "    def forward(self, input_seq):\n",
        "        lstm_out, self.hidden_cell = self.lstm(input_seq.view(len(input_seq) ,1, -1), self.hidden_cell)\n",
        "        predictions = self.linear(lstm_out.view(len(input_seq), -1))\n",
        "        return predictions[-1]\n",
        "\n",
        "\n"
      ],
      "execution_count": null,
      "outputs": []
    },
    {
      "cell_type": "code",
      "metadata": {
        "id": "r4ylDdzYsSJE"
      },
      "source": [
        "model = LSTM()\n",
        "loss_function = nn.MSELoss()\n",
        "optimizer = torch.optim.Adam(model.parameters(), lr=0.0001)"
      ],
      "execution_count": null,
      "outputs": []
    },
    {
      "cell_type": "code",
      "metadata": {
        "colab": {
          "base_uri": "https://localhost:8080/"
        },
        "id": "wor3uZGFuYqR",
        "outputId": "3181fb86-83b8-44d0-f963-410091315d3d"
      },
      "source": [
        "epochs = 150\n",
        "\n",
        "for i in range(epochs):\n",
        "    for seq, labels in train_inout_seq:\n",
        "        optimizer.zero_grad()\n",
        "        model.hidden_cell = (torch.zeros(1, 1, model.hidden_layer_size),\n",
        "                        torch.zeros(1, 1, model.hidden_layer_size))\n",
        "\n",
        "        y_pred = model(seq)\n",
        "\n",
        "        single_loss = loss_function(y_pred, labels)\n",
        "        single_loss.backward()\n",
        "        optimizer.step()\n",
        "\n",
        "    if i%25 == 1:\n",
        "        print(f'epoch: {i:3} loss: {single_loss.item():10.8f}')\n",
        "\n",
        "print(f'epoch: {i:3} loss: {single_loss.item():10.10f}')\n"
      ],
      "execution_count": null,
      "outputs": [
        {
          "output_type": "stream",
          "text": [
            "epoch:   1 loss: 0.06673936\n",
            "epoch:  26 loss: 0.00026743\n",
            "epoch:  51 loss: 0.00379621\n",
            "epoch:  76 loss: 0.01522376\n",
            "epoch: 101 loss: 0.02573622\n",
            "epoch: 126 loss: 0.02421035\n",
            "epoch: 149 loss: 0.0093127433\n"
          ],
          "name": "stdout"
        }
      ]
    },
    {
      "cell_type": "code",
      "metadata": {
        "colab": {
          "base_uri": "https://localhost:8080/"
        },
        "id": "z3nHH6xeuel8",
        "outputId": "67c37298-36f9-46b4-aefe-dc09e5e2e6aa"
      },
      "source": [
        "fut_pred = 12\n",
        "\n",
        "test_inputs = train_data_normalized[-train_window:].tolist()\n",
        "\n",
        "model.eval()\n",
        "\n",
        "for i in range(fut_pred):\n",
        "    seq = torch.FloatTensor(test_inputs[-train_window:])\n",
        "    with torch.no_grad():\n",
        "        model.hidden = (torch.zeros(1, 1, model.hidden_layer_size),\n",
        "                        torch.zeros(1, 1, model.hidden_layer_size))\n",
        "        test_inputs.append(model(seq).item())\n",
        "test_inputs[fut_pred:]\n"
      ],
      "execution_count": null,
      "outputs": [
        {
          "output_type": "execute_result",
          "data": {
            "text/plain": [
              "[2.7672009468078613,\n",
              " 3.8592092990875244,\n",
              " 3.665823459625244,\n",
              " 3.360013008117676,\n",
              " 3.2619478702545166,\n",
              " 3.267432689666748,\n",
              " 3.273130416870117,\n",
              " 3.179706573486328,\n",
              " 3.1345114707946777,\n",
              " 3.081124782562256,\n",
              " 3.0523438453674316,\n",
              " 3.0393757820129395]"
            ]
          },
          "metadata": {
            "tags": []
          },
          "execution_count": 67
        }
      ]
    },
    {
      "cell_type": "code",
      "metadata": {
        "colab": {
          "base_uri": "https://localhost:8080/"
        },
        "id": "gvzSSDjZu8tZ",
        "outputId": "664a54e3-34e9-452c-f1ac-0305e351f212"
      },
      "source": [
        "actual_predictions = scaler.inverse_transform(np.array(test_inputs[train_window:] ).reshape(-1, 1))\n",
        "print(actual_predictions)"
      ],
      "execution_count": null,
      "outputs": [
        {
          "output_type": "stream",
          "text": [
            "[[ 961.0382154 ]\n",
            " [1209.47011554]\n",
            " [1165.47483706]\n",
            " [1095.90295935]\n",
            " [1073.59314048]\n",
            " [1074.8409369 ]\n",
            " [1076.13716984]\n",
            " [1054.88324547]\n",
            " [1044.60135961]\n",
            " [1032.45588803]\n",
            " [1025.90822482]\n",
            " [1022.95799041]]\n"
          ],
          "name": "stdout"
        }
      ]
    },
    {
      "cell_type": "code",
      "metadata": {
        "colab": {
          "base_uri": "https://localhost:8080/"
        },
        "id": "N--N-eYAvDpH",
        "outputId": "a7463a99-6dd5-4f91-e9f4-cd841bd77172"
      },
      "source": [
        "x = np.arange(132, 144, 1)\n",
        "print(x)"
      ],
      "execution_count": null,
      "outputs": [
        {
          "output_type": "stream",
          "text": [
            "[132 133 134 135 136 137 138 139 140 141 142 143]\n"
          ],
          "name": "stdout"
        }
      ]
    },
    {
      "cell_type": "code",
      "metadata": {
        "colab": {
          "base_uri": "https://localhost:8080/",
          "height": 284
        },
        "id": "yBYcGBXuvL0N",
        "outputId": "f9eb3090-e0d2-45c4-ccc0-964720c9a3a5"
      },
      "source": [
        "plt.title('Month vs Passenger')\n",
        "plt.ylabel('Total Passengers')\n",
        "plt.grid(True)\n",
        "plt.autoscale(axis='x', tight=True)\n",
        "plt.plot(flight_data['passengers'])\n",
        "plt.plot(x,actual_predictions)\n",
        "plt.show()"
      ],
      "execution_count": null,
      "outputs": [
        {
          "output_type": "display_data",
          "data": {
            "image/png": "[encoded data removed]",
            "text/plain": [
              "<Figure size 432x288 with 1 Axes>"
            ]
          },
          "metadata": {
            "tags": [],
            "needs_background": "light"
          }
        }
      ]
    },
    {
      "cell_type": "code",
      "metadata": {
        "id": "t5HVJAOOvO4H"
      },
      "source": [
        ""
      ],
      "execution_count": null,
      "outputs": []
    }
  ]
}